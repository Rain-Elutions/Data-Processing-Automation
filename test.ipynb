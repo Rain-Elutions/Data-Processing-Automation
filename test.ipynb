{
 "cells": [
  {
   "cell_type": "code",
   "execution_count": 44,
   "metadata": {},
   "outputs": [],
   "source": [
    "import pandas as pd\n",
    "from Data_Exploration.data_exploration_main import DataExploration\n",
    "from Data_Cleansing.data_cleansing_main import DataCleansing\n",
    "from Data_Cleansing.data_cleansing_main import FillMissingByMean, FillMissingByMedian, \\\n",
    "    FillMissingByMode, FillMissingByLastKnownValue, FillMissingByNextKnownValue, NotFill\n",
    "from Data_Preprocessing.data_preprocessing_main import DataPreprocessing, FeatureEncoding, FeatureScaling"
   ]
  },
  {
   "cell_type": "code",
   "execution_count": 3,
   "metadata": {},
   "outputs": [],
   "source": [
    "# data_exp = DataExploration()\n",
    "\n",
    "# df = data_exp.load_data('./data/raw_data/Savola_RO_BLEACHING_raw_df.csv', index_col=0, parse_dates=True)\n",
    "# df.head()"
   ]
  },
  {
   "cell_type": "code",
   "execution_count": 8,
   "metadata": {},
   "outputs": [],
   "source": [
    "# df_sample = df.head(1000)\n",
    "# df_sample.to_csv('./data/Savola_RO_BLEACHING_sample.csv')"
   ]
  },
  {
   "cell_type": "code",
   "execution_count": null,
   "metadata": {},
   "outputs": [],
   "source": [
    "# data = pd.read_pickle('./data/raw_data/coyote_data_0731.pkl')\n",
    "# data.head()"
   ]
  },
  {
   "cell_type": "code",
   "execution_count": 5,
   "metadata": {},
   "outputs": [],
   "source": [
    "# # print all unique values in the column CommodityCode\n",
    "# print(data['CommodityCode'].unique())\n",
    "# # does this column contain any null values?\n",
    "# print(data['CommodityCode'].isnull().sum())"
   ]
  },
  {
   "cell_type": "code",
   "execution_count": 32,
   "metadata": {},
   "outputs": [],
   "source": [
    "# data_sample = data.head(1000)\n",
    "# # move TotalCostUSD to the first column\n",
    "# cols = list(data_sample.columns)\n",
    "# cols.insert(0, cols.pop(cols.index('TotalCostUSD')))\n",
    "# data_sample = data_sample.loc[:, cols]\n",
    "# data_sample.to_excel('./data/coyote_0731_1000.xlsx', index=False)"
   ]
  },
  {
   "cell_type": "markdown",
   "metadata": {},
   "source": [
    "### Test DataExploration Module"
   ]
  },
  {
   "cell_type": "code",
   "execution_count": 2,
   "metadata": {},
   "outputs": [],
   "source": [
    "data_exp = DataExploration()"
   ]
  },
  {
   "cell_type": "markdown",
   "metadata": {},
   "source": [
    "load_data() function"
   ]
  },
  {
   "cell_type": "code",
   "execution_count": 45,
   "metadata": {},
   "outputs": [],
   "source": [
    "data_exp = DataExploration()\n",
    "\n",
    "# df = data_exp.load_data('./data/lng_data_sample.csv', parse_dates=True, index_col=0)\n",
    "# df = data_exp.load_data('./data/sasol_data_sample.csv', parse_dates=True, index_col=0)\n",
    "# df = data_exp.load_data('./data/coyote_data_sample_100.xlsx', parse_dates=False, index_col=0)\n",
    "# df = data_exp.load_data('./data/coyote_data_sample_1000.pickle', parse_dates=False, index_col=0)\n",
    "# df = data_exp.load_data('./data/coyote_0731_1000.xlsx', parse_dates=False, index_col=False)\n",
    "df = data_exp.load_data('./data/Essar_RE_Boilers_B21_sample.csv', parse_dates=True, index_col=0)\n",
    "# df = data_exp.load_data('./data/Savola_RO_BLEACHING_sample.csv', parse_dates=True, index_col=0)"
   ]
  },
  {
   "cell_type": "code",
   "execution_count": 39,
   "metadata": {},
   "outputs": [
    {
     "data": {
      "text/html": [
       "<div>\n",
       "<style scoped>\n",
       "    .dataframe tbody tr th:only-of-type {\n",
       "        vertical-align: middle;\n",
       "    }\n",
       "\n",
       "    .dataframe tbody tr th {\n",
       "        vertical-align: top;\n",
       "    }\n",
       "\n",
       "    .dataframe thead th {\n",
       "        text-align: right;\n",
       "    }\n",
       "</style>\n",
       "<table border=\"1\" class=\"dataframe\">\n",
       "  <thead>\n",
       "    <tr style=\"text-align: right;\">\n",
       "      <th></th>\n",
       "      <th>TotalCostUSD</th>\n",
       "      <th>Mode</th>\n",
       "      <th>ProgressType</th>\n",
       "      <th>Type</th>\n",
       "      <th>StateType</th>\n",
       "      <th>LoadingPosition</th>\n",
       "      <th>Plan</th>\n",
       "      <th>ShipmentType</th>\n",
       "      <th>EquipmentType</th>\n",
       "      <th>EquipmentLength</th>\n",
       "      <th>...</th>\n",
       "      <th>TRUCKD11</th>\n",
       "      <th>DJTA</th>\n",
       "      <th>DTB3</th>\n",
       "      <th>GASREGW</th>\n",
       "      <th>IPG2122N</th>\n",
       "      <th>IPG3361T3S</th>\n",
       "      <th>GDP</th>\n",
       "      <th>PPIACO</th>\n",
       "      <th>BUSINV</th>\n",
       "      <th>PCU48414841</th>\n",
       "    </tr>\n",
       "  </thead>\n",
       "  <tbody>\n",
       "    <tr>\n",
       "      <th>0</th>\n",
       "      <td>423.82</td>\n",
       "      <td>2</td>\n",
       "      <td>8</td>\n",
       "      <td>1</td>\n",
       "      <td>1</td>\n",
       "      <td>0</td>\n",
       "      <td>0</td>\n",
       "      <td>1</td>\n",
       "      <td>V</td>\n",
       "      <td>53</td>\n",
       "      <td>...</td>\n",
       "      <td>115.9</td>\n",
       "      <td>13738.04</td>\n",
       "      <td>4.2</td>\n",
       "      <td>3.239</td>\n",
       "      <td>91.7098</td>\n",
       "      <td>102.9025</td>\n",
       "      <td>26137.992</td>\n",
       "      <td>257.897</td>\n",
       "      <td>2545624</td>\n",
       "      <td>207.137</td>\n",
       "    </tr>\n",
       "    <tr>\n",
       "      <th>1</th>\n",
       "      <td>1300.00</td>\n",
       "      <td>1</td>\n",
       "      <td>8</td>\n",
       "      <td>1</td>\n",
       "      <td>1</td>\n",
       "      <td>2</td>\n",
       "      <td>0</td>\n",
       "      <td>1</td>\n",
       "      <td>V</td>\n",
       "      <td>53</td>\n",
       "      <td>...</td>\n",
       "      <td>115.9</td>\n",
       "      <td>13738.04</td>\n",
       "      <td>4.2</td>\n",
       "      <td>3.239</td>\n",
       "      <td>91.7098</td>\n",
       "      <td>102.9025</td>\n",
       "      <td>26137.992</td>\n",
       "      <td>257.897</td>\n",
       "      <td>2545624</td>\n",
       "      <td>207.137</td>\n",
       "    </tr>\n",
       "    <tr>\n",
       "      <th>2</th>\n",
       "      <td>300.00</td>\n",
       "      <td>1</td>\n",
       "      <td>8</td>\n",
       "      <td>2</td>\n",
       "      <td>1</td>\n",
       "      <td>2</td>\n",
       "      <td>0</td>\n",
       "      <td>5</td>\n",
       "      <td>F</td>\n",
       "      <td>48</td>\n",
       "      <td>...</td>\n",
       "      <td>115.9</td>\n",
       "      <td>13738.04</td>\n",
       "      <td>4.2</td>\n",
       "      <td>3.239</td>\n",
       "      <td>91.7098</td>\n",
       "      <td>102.9025</td>\n",
       "      <td>26137.992</td>\n",
       "      <td>257.897</td>\n",
       "      <td>2545624</td>\n",
       "      <td>207.137</td>\n",
       "    </tr>\n",
       "    <tr>\n",
       "      <th>3</th>\n",
       "      <td>873.00</td>\n",
       "      <td>1</td>\n",
       "      <td>8</td>\n",
       "      <td>1</td>\n",
       "      <td>1</td>\n",
       "      <td>2</td>\n",
       "      <td>0</td>\n",
       "      <td>1</td>\n",
       "      <td>V</td>\n",
       "      <td>48</td>\n",
       "      <td>...</td>\n",
       "      <td>115.9</td>\n",
       "      <td>13738.04</td>\n",
       "      <td>4.2</td>\n",
       "      <td>3.239</td>\n",
       "      <td>91.7098</td>\n",
       "      <td>102.9025</td>\n",
       "      <td>26137.992</td>\n",
       "      <td>257.897</td>\n",
       "      <td>2545624</td>\n",
       "      <td>207.137</td>\n",
       "    </tr>\n",
       "    <tr>\n",
       "      <th>4</th>\n",
       "      <td>267.48</td>\n",
       "      <td>2</td>\n",
       "      <td>8</td>\n",
       "      <td>1</td>\n",
       "      <td>1</td>\n",
       "      <td>0</td>\n",
       "      <td>0</td>\n",
       "      <td>1</td>\n",
       "      <td>V</td>\n",
       "      <td>53</td>\n",
       "      <td>...</td>\n",
       "      <td>115.9</td>\n",
       "      <td>13738.04</td>\n",
       "      <td>4.2</td>\n",
       "      <td>3.239</td>\n",
       "      <td>91.7098</td>\n",
       "      <td>102.9025</td>\n",
       "      <td>26137.992</td>\n",
       "      <td>257.897</td>\n",
       "      <td>2545624</td>\n",
       "      <td>207.137</td>\n",
       "    </tr>\n",
       "  </tbody>\n",
       "</table>\n",
       "<p>5 rows × 99 columns</p>\n",
       "</div>"
      ],
      "text/plain": [
       "   TotalCostUSD  Mode  ProgressType  Type  StateType  LoadingPosition  Plan   \n",
       "0        423.82     2             8     1          1                0     0  \\\n",
       "1       1300.00     1             8     1          1                2     0   \n",
       "2        300.00     1             8     2          1                2     0   \n",
       "3        873.00     1             8     1          1                2     0   \n",
       "4        267.48     2             8     1          1                0     0   \n",
       "\n",
       "   ShipmentType EquipmentType  EquipmentLength  ...  TRUCKD11      DJTA  DTB3   \n",
       "0             1             V               53  ...     115.9  13738.04   4.2  \\\n",
       "1             1             V               53  ...     115.9  13738.04   4.2   \n",
       "2             5             F               48  ...     115.9  13738.04   4.2   \n",
       "3             1             V               48  ...     115.9  13738.04   4.2   \n",
       "4             1             V               53  ...     115.9  13738.04   4.2   \n",
       "\n",
       "   GASREGW  IPG2122N  IPG3361T3S        GDP   PPIACO   BUSINV  PCU48414841  \n",
       "0    3.239   91.7098    102.9025  26137.992  257.897  2545624      207.137  \n",
       "1    3.239   91.7098    102.9025  26137.992  257.897  2545624      207.137  \n",
       "2    3.239   91.7098    102.9025  26137.992  257.897  2545624      207.137  \n",
       "3    3.239   91.7098    102.9025  26137.992  257.897  2545624      207.137  \n",
       "4    3.239   91.7098    102.9025  26137.992  257.897  2545624      207.137  \n",
       "\n",
       "[5 rows x 99 columns]"
      ]
     },
     "execution_count": 39,
     "metadata": {},
     "output_type": "execute_result"
    }
   ],
   "source": [
    "df.head()"
   ]
  },
  {
   "cell_type": "code",
   "execution_count": 7,
   "metadata": {},
   "outputs": [],
   "source": [
    "# df.iloc[0:10, 0] = None"
   ]
  },
  {
   "cell_type": "markdown",
   "metadata": {},
   "source": [
    "get_data_size() function"
   ]
  },
  {
   "cell_type": "code",
   "execution_count": 13,
   "metadata": {},
   "outputs": [
    {
     "name": "stdout",
     "output_type": "stream",
     "text": [
      "Data size: (100, 59)\n"
     ]
    }
   ],
   "source": [
    "data_exp.get_data_size()"
   ]
  },
  {
   "cell_type": "markdown",
   "metadata": {},
   "source": [
    "get_data_type() &  summarize_data_type() function"
   ]
  },
  {
   "cell_type": "code",
   "execution_count": 9,
   "metadata": {},
   "outputs": [
    {
     "name": "stdout",
     "output_type": "stream",
     "text": [
      "Invalid column name\n",
      "Error: 'str' object has no attribute 'dtypes'\n"
     ]
    }
   ],
   "source": [
    "data_exp.get_data_type(df.columns[0])"
   ]
  },
  {
   "cell_type": "code",
   "execution_count": 10,
   "metadata": {},
   "outputs": [
    {
     "data": {
      "text/plain": [
       "float64    59\n",
       "Name: count, dtype: int64"
      ]
     },
     "execution_count": 10,
     "metadata": {},
     "output_type": "execute_result"
    }
   ],
   "source": [
    "data_exp.summarize_data_type()"
   ]
  },
  {
   "cell_type": "markdown",
   "metadata": {},
   "source": [
    "summarize_missing_data() function"
   ]
  },
  {
   "cell_type": "code",
   "execution_count": 15,
   "metadata": {},
   "outputs": [
    {
     "name": "stdout",
     "output_type": "stream",
     "text": [
      "Missing data summary:\n",
      "CommodityCode     892\n",
      "MXCrossBorder    1000\n",
      "dtype: int64\n"
     ]
    }
   ],
   "source": [
    "data_exp.summarize_missing_data()"
   ]
  },
  {
   "cell_type": "markdown",
   "metadata": {},
   "source": [
    "visualize_missing_data() function"
   ]
  },
  {
   "cell_type": "code",
   "execution_count": 12,
   "metadata": {},
   "outputs": [],
   "source": [
    "# data_exp.visualize_missing_data()"
   ]
  },
  {
   "cell_type": "code",
   "execution_count": 13,
   "metadata": {},
   "outputs": [
    {
     "data": {
      "application/vnd.plotly.v1+json": {
       "config": {
        "plotlyServerURL": "https://plot.ly"
       },
       "data": [
        {
         "type": "bar",
         "x": [
          "OXO-5FI635C Augusta",
          "OXO-5FI661A Augusta",
          "OXO-5FI696 Augusta",
          "OXO-5FIC132 Augusta",
          "OXO-5FIC600 Augusta",
          "OXO-5FIC601 Augusta",
          "OXO-5FIC602 Augusta",
          "OXO-5FIC603 Augusta",
          "OXO-5FIC606A Augusta",
          "OXO-5FIC606C Augusta",
          "OXO-5FIC607 Augusta",
          "OXO-5FIC609A Augusta",
          "OXO-5FIC609B Augusta",
          "OXO-5FIC611A Augusta",
          "OXO-5FIC611B Augusta",
          "OXO-5FIC612A Augusta",
          "OXO-5FIC612B Augusta",
          "OXO-5FIC618A Augusta",
          "OXO-5FIC618B Augusta",
          "OXO-5FIC618C Augusta",
          "OXO-5FIC618D Augusta",
          "OXO-5FIC622A Augusta",
          "OXO-5FIC622B Augusta",
          "OXO-5FIC622C Augusta",
          "OXO-5FIC636A Augusta",
          "OXO-5FIC636B Augusta",
          "OXO-5FIC636C Augusta",
          "OXO-5FQI691B Augusta",
          "OXO-5LI633B Augusta",
          "OXO-5LI650F Augusta",
          "OXO-5LI651E Augusta",
          "OXO-5LI651F Augusta",
          "OXO-5LI652E Augusta",
          "OXO-5LI652F Augusta",
          "OXO-5LI653E Augusta",
          "OXO-5LI653F Augusta",
          "OXO-5LI654E Augusta",
          "OXO-5LI654F Augusta",
          "OXO-5LI655F Augusta",
          "OXO-5LI656F Augusta"
         ],
         "y": [
          0,
          0,
          0,
          0,
          0,
          0,
          0,
          0,
          100,
          0,
          0,
          0,
          0,
          0,
          100,
          0,
          0,
          0,
          0,
          0,
          0,
          0,
          0,
          0,
          0,
          0,
          0,
          0,
          0,
          0,
          0,
          0,
          0,
          0,
          0,
          0,
          0,
          100,
          0,
          0
         ]
        }
       ],
       "layout": {
        "template": {
         "data": {
          "bar": [
           {
            "error_x": {
             "color": "#2a3f5f"
            },
            "error_y": {
             "color": "#2a3f5f"
            },
            "marker": {
             "line": {
              "color": "#E5ECF6",
              "width": 0.5
             },
             "pattern": {
              "fillmode": "overlay",
              "size": 10,
              "solidity": 0.2
             }
            },
            "type": "bar"
           }
          ],
          "barpolar": [
           {
            "marker": {
             "line": {
              "color": "#E5ECF6",
              "width": 0.5
             },
             "pattern": {
              "fillmode": "overlay",
              "size": 10,
              "solidity": 0.2
             }
            },
            "type": "barpolar"
           }
          ],
          "carpet": [
           {
            "aaxis": {
             "endlinecolor": "#2a3f5f",
             "gridcolor": "white",
             "linecolor": "white",
             "minorgridcolor": "white",
             "startlinecolor": "#2a3f5f"
            },
            "baxis": {
             "endlinecolor": "#2a3f5f",
             "gridcolor": "white",
             "linecolor": "white",
             "minorgridcolor": "white",
             "startlinecolor": "#2a3f5f"
            },
            "type": "carpet"
           }
          ],
          "choropleth": [
           {
            "colorbar": {
             "outlinewidth": 0,
             "ticks": ""
            },
            "type": "choropleth"
           }
          ],
          "contour": [
           {
            "colorbar": {
             "outlinewidth": 0,
             "ticks": ""
            },
            "colorscale": [
             [
              0,
              "#0d0887"
             ],
             [
              0.1111111111111111,
              "#46039f"
             ],
             [
              0.2222222222222222,
              "#7201a8"
             ],
             [
              0.3333333333333333,
              "#9c179e"
             ],
             [
              0.4444444444444444,
              "#bd3786"
             ],
             [
              0.5555555555555556,
              "#d8576b"
             ],
             [
              0.6666666666666666,
              "#ed7953"
             ],
             [
              0.7777777777777778,
              "#fb9f3a"
             ],
             [
              0.8888888888888888,
              "#fdca26"
             ],
             [
              1,
              "#f0f921"
             ]
            ],
            "type": "contour"
           }
          ],
          "contourcarpet": [
           {
            "colorbar": {
             "outlinewidth": 0,
             "ticks": ""
            },
            "type": "contourcarpet"
           }
          ],
          "heatmap": [
           {
            "colorbar": {
             "outlinewidth": 0,
             "ticks": ""
            },
            "colorscale": [
             [
              0,
              "#0d0887"
             ],
             [
              0.1111111111111111,
              "#46039f"
             ],
             [
              0.2222222222222222,
              "#7201a8"
             ],
             [
              0.3333333333333333,
              "#9c179e"
             ],
             [
              0.4444444444444444,
              "#bd3786"
             ],
             [
              0.5555555555555556,
              "#d8576b"
             ],
             [
              0.6666666666666666,
              "#ed7953"
             ],
             [
              0.7777777777777778,
              "#fb9f3a"
             ],
             [
              0.8888888888888888,
              "#fdca26"
             ],
             [
              1,
              "#f0f921"
             ]
            ],
            "type": "heatmap"
           }
          ],
          "heatmapgl": [
           {
            "colorbar": {
             "outlinewidth": 0,
             "ticks": ""
            },
            "colorscale": [
             [
              0,
              "#0d0887"
             ],
             [
              0.1111111111111111,
              "#46039f"
             ],
             [
              0.2222222222222222,
              "#7201a8"
             ],
             [
              0.3333333333333333,
              "#9c179e"
             ],
             [
              0.4444444444444444,
              "#bd3786"
             ],
             [
              0.5555555555555556,
              "#d8576b"
             ],
             [
              0.6666666666666666,
              "#ed7953"
             ],
             [
              0.7777777777777778,
              "#fb9f3a"
             ],
             [
              0.8888888888888888,
              "#fdca26"
             ],
             [
              1,
              "#f0f921"
             ]
            ],
            "type": "heatmapgl"
           }
          ],
          "histogram": [
           {
            "marker": {
             "pattern": {
              "fillmode": "overlay",
              "size": 10,
              "solidity": 0.2
             }
            },
            "type": "histogram"
           }
          ],
          "histogram2d": [
           {
            "colorbar": {
             "outlinewidth": 0,
             "ticks": ""
            },
            "colorscale": [
             [
              0,
              "#0d0887"
             ],
             [
              0.1111111111111111,
              "#46039f"
             ],
             [
              0.2222222222222222,
              "#7201a8"
             ],
             [
              0.3333333333333333,
              "#9c179e"
             ],
             [
              0.4444444444444444,
              "#bd3786"
             ],
             [
              0.5555555555555556,
              "#d8576b"
             ],
             [
              0.6666666666666666,
              "#ed7953"
             ],
             [
              0.7777777777777778,
              "#fb9f3a"
             ],
             [
              0.8888888888888888,
              "#fdca26"
             ],
             [
              1,
              "#f0f921"
             ]
            ],
            "type": "histogram2d"
           }
          ],
          "histogram2dcontour": [
           {
            "colorbar": {
             "outlinewidth": 0,
             "ticks": ""
            },
            "colorscale": [
             [
              0,
              "#0d0887"
             ],
             [
              0.1111111111111111,
              "#46039f"
             ],
             [
              0.2222222222222222,
              "#7201a8"
             ],
             [
              0.3333333333333333,
              "#9c179e"
             ],
             [
              0.4444444444444444,
              "#bd3786"
             ],
             [
              0.5555555555555556,
              "#d8576b"
             ],
             [
              0.6666666666666666,
              "#ed7953"
             ],
             [
              0.7777777777777778,
              "#fb9f3a"
             ],
             [
              0.8888888888888888,
              "#fdca26"
             ],
             [
              1,
              "#f0f921"
             ]
            ],
            "type": "histogram2dcontour"
           }
          ],
          "mesh3d": [
           {
            "colorbar": {
             "outlinewidth": 0,
             "ticks": ""
            },
            "type": "mesh3d"
           }
          ],
          "parcoords": [
           {
            "line": {
             "colorbar": {
              "outlinewidth": 0,
              "ticks": ""
             }
            },
            "type": "parcoords"
           }
          ],
          "pie": [
           {
            "automargin": true,
            "type": "pie"
           }
          ],
          "scatter": [
           {
            "fillpattern": {
             "fillmode": "overlay",
             "size": 10,
             "solidity": 0.2
            },
            "type": "scatter"
           }
          ],
          "scatter3d": [
           {
            "line": {
             "colorbar": {
              "outlinewidth": 0,
              "ticks": ""
             }
            },
            "marker": {
             "colorbar": {
              "outlinewidth": 0,
              "ticks": ""
             }
            },
            "type": "scatter3d"
           }
          ],
          "scattercarpet": [
           {
            "marker": {
             "colorbar": {
              "outlinewidth": 0,
              "ticks": ""
             }
            },
            "type": "scattercarpet"
           }
          ],
          "scattergeo": [
           {
            "marker": {
             "colorbar": {
              "outlinewidth": 0,
              "ticks": ""
             }
            },
            "type": "scattergeo"
           }
          ],
          "scattergl": [
           {
            "marker": {
             "colorbar": {
              "outlinewidth": 0,
              "ticks": ""
             }
            },
            "type": "scattergl"
           }
          ],
          "scattermapbox": [
           {
            "marker": {
             "colorbar": {
              "outlinewidth": 0,
              "ticks": ""
             }
            },
            "type": "scattermapbox"
           }
          ],
          "scatterpolar": [
           {
            "marker": {
             "colorbar": {
              "outlinewidth": 0,
              "ticks": ""
             }
            },
            "type": "scatterpolar"
           }
          ],
          "scatterpolargl": [
           {
            "marker": {
             "colorbar": {
              "outlinewidth": 0,
              "ticks": ""
             }
            },
            "type": "scatterpolargl"
           }
          ],
          "scatterternary": [
           {
            "marker": {
             "colorbar": {
              "outlinewidth": 0,
              "ticks": ""
             }
            },
            "type": "scatterternary"
           }
          ],
          "surface": [
           {
            "colorbar": {
             "outlinewidth": 0,
             "ticks": ""
            },
            "colorscale": [
             [
              0,
              "#0d0887"
             ],
             [
              0.1111111111111111,
              "#46039f"
             ],
             [
              0.2222222222222222,
              "#7201a8"
             ],
             [
              0.3333333333333333,
              "#9c179e"
             ],
             [
              0.4444444444444444,
              "#bd3786"
             ],
             [
              0.5555555555555556,
              "#d8576b"
             ],
             [
              0.6666666666666666,
              "#ed7953"
             ],
             [
              0.7777777777777778,
              "#fb9f3a"
             ],
             [
              0.8888888888888888,
              "#fdca26"
             ],
             [
              1,
              "#f0f921"
             ]
            ],
            "type": "surface"
           }
          ],
          "table": [
           {
            "cells": {
             "fill": {
              "color": "#EBF0F8"
             },
             "line": {
              "color": "white"
             }
            },
            "header": {
             "fill": {
              "color": "#C8D4E3"
             },
             "line": {
              "color": "white"
             }
            },
            "type": "table"
           }
          ]
         },
         "layout": {
          "annotationdefaults": {
           "arrowcolor": "#2a3f5f",
           "arrowhead": 0,
           "arrowwidth": 1
          },
          "autotypenumbers": "strict",
          "coloraxis": {
           "colorbar": {
            "outlinewidth": 0,
            "ticks": ""
           }
          },
          "colorscale": {
           "diverging": [
            [
             0,
             "#8e0152"
            ],
            [
             0.1,
             "#c51b7d"
            ],
            [
             0.2,
             "#de77ae"
            ],
            [
             0.3,
             "#f1b6da"
            ],
            [
             0.4,
             "#fde0ef"
            ],
            [
             0.5,
             "#f7f7f7"
            ],
            [
             0.6,
             "#e6f5d0"
            ],
            [
             0.7,
             "#b8e186"
            ],
            [
             0.8,
             "#7fbc41"
            ],
            [
             0.9,
             "#4d9221"
            ],
            [
             1,
             "#276419"
            ]
           ],
           "sequential": [
            [
             0,
             "#0d0887"
            ],
            [
             0.1111111111111111,
             "#46039f"
            ],
            [
             0.2222222222222222,
             "#7201a8"
            ],
            [
             0.3333333333333333,
             "#9c179e"
            ],
            [
             0.4444444444444444,
             "#bd3786"
            ],
            [
             0.5555555555555556,
             "#d8576b"
            ],
            [
             0.6666666666666666,
             "#ed7953"
            ],
            [
             0.7777777777777778,
             "#fb9f3a"
            ],
            [
             0.8888888888888888,
             "#fdca26"
            ],
            [
             1,
             "#f0f921"
            ]
           ],
           "sequentialminus": [
            [
             0,
             "#0d0887"
            ],
            [
             0.1111111111111111,
             "#46039f"
            ],
            [
             0.2222222222222222,
             "#7201a8"
            ],
            [
             0.3333333333333333,
             "#9c179e"
            ],
            [
             0.4444444444444444,
             "#bd3786"
            ],
            [
             0.5555555555555556,
             "#d8576b"
            ],
            [
             0.6666666666666666,
             "#ed7953"
            ],
            [
             0.7777777777777778,
             "#fb9f3a"
            ],
            [
             0.8888888888888888,
             "#fdca26"
            ],
            [
             1,
             "#f0f921"
            ]
           ]
          },
          "colorway": [
           "#636efa",
           "#EF553B",
           "#00cc96",
           "#ab63fa",
           "#FFA15A",
           "#19d3f3",
           "#FF6692",
           "#B6E880",
           "#FF97FF",
           "#FECB52"
          ],
          "font": {
           "color": "#2a3f5f"
          },
          "geo": {
           "bgcolor": "white",
           "lakecolor": "white",
           "landcolor": "#E5ECF6",
           "showlakes": true,
           "showland": true,
           "subunitcolor": "white"
          },
          "hoverlabel": {
           "align": "left"
          },
          "hovermode": "closest",
          "mapbox": {
           "style": "light"
          },
          "paper_bgcolor": "white",
          "plot_bgcolor": "#E5ECF6",
          "polar": {
           "angularaxis": {
            "gridcolor": "white",
            "linecolor": "white",
            "ticks": ""
           },
           "bgcolor": "#E5ECF6",
           "radialaxis": {
            "gridcolor": "white",
            "linecolor": "white",
            "ticks": ""
           }
          },
          "scene": {
           "xaxis": {
            "backgroundcolor": "#E5ECF6",
            "gridcolor": "white",
            "gridwidth": 2,
            "linecolor": "white",
            "showbackground": true,
            "ticks": "",
            "zerolinecolor": "white"
           },
           "yaxis": {
            "backgroundcolor": "#E5ECF6",
            "gridcolor": "white",
            "gridwidth": 2,
            "linecolor": "white",
            "showbackground": true,
            "ticks": "",
            "zerolinecolor": "white"
           },
           "zaxis": {
            "backgroundcolor": "#E5ECF6",
            "gridcolor": "white",
            "gridwidth": 2,
            "linecolor": "white",
            "showbackground": true,
            "ticks": "",
            "zerolinecolor": "white"
           }
          },
          "shapedefaults": {
           "line": {
            "color": "#2a3f5f"
           }
          },
          "ternary": {
           "aaxis": {
            "gridcolor": "white",
            "linecolor": "white",
            "ticks": ""
           },
           "baxis": {
            "gridcolor": "white",
            "linecolor": "white",
            "ticks": ""
           },
           "bgcolor": "#E5ECF6",
           "caxis": {
            "gridcolor": "white",
            "linecolor": "white",
            "ticks": ""
           }
          },
          "title": {
           "x": 0.05
          },
          "xaxis": {
           "automargin": true,
           "gridcolor": "white",
           "linecolor": "white",
           "ticks": "",
           "title": {
            "standoff": 15
           },
           "zerolinecolor": "white",
           "zerolinewidth": 2
          },
          "yaxis": {
           "automargin": true,
           "gridcolor": "white",
           "linecolor": "white",
           "ticks": "",
           "title": {
            "standoff": 15
           },
           "zerolinecolor": "white",
           "zerolinewidth": 2
          }
         }
        },
        "title": {
         "text": "Missing Data"
        },
        "xaxis": {
         "title": {
          "text": "Columns"
         }
        },
        "yaxis": {
         "title": {
          "text": "Missing Count"
         }
        }
       }
      }
     },
     "metadata": {},
     "output_type": "display_data"
    },
    {
     "data": {
      "application/vnd.plotly.v1+json": {
       "config": {
        "plotlyServerURL": "https://plot.ly"
       },
       "data": [
        {
         "type": "bar",
         "x": [
          "OXO-5LI657E Augusta",
          "OXO-5LI657F Augusta",
          "OXO-5LI658E Augusta",
          "OXO-5LI658F Augusta",
          "OXO-5PIC605A Augusta",
          "OXO-5RIC606_Y Augusta",
          "OXO-5TIC002 Augusta",
          "OXO-5TIC601 Augusta",
          "OXO-5TIC602 Augusta",
          "OXO-5TIC603 Augusta",
          "OXO-5TIC604 Augusta",
          "OXO-5TIC605 Augusta",
          "OXO-5TIC606 Augusta",
          "OXO-5TIC607 Augusta",
          "OXO-5TIC659 Augusta",
          "OXO-_5FI658A Augusta",
          "OXO-_5FI659A Augusta",
          "OXO-_5FI660A Augusta",
          "OXO-_5FI662A Augusta"
         ],
         "y": [
          0,
          0,
          0,
          0,
          0,
          0,
          0,
          0,
          0,
          0,
          0,
          0,
          0,
          0,
          0,
          0,
          0,
          0,
          0
         ]
        }
       ],
       "layout": {
        "template": {
         "data": {
          "bar": [
           {
            "error_x": {
             "color": "#2a3f5f"
            },
            "error_y": {
             "color": "#2a3f5f"
            },
            "marker": {
             "line": {
              "color": "#E5ECF6",
              "width": 0.5
             },
             "pattern": {
              "fillmode": "overlay",
              "size": 10,
              "solidity": 0.2
             }
            },
            "type": "bar"
           }
          ],
          "barpolar": [
           {
            "marker": {
             "line": {
              "color": "#E5ECF6",
              "width": 0.5
             },
             "pattern": {
              "fillmode": "overlay",
              "size": 10,
              "solidity": 0.2
             }
            },
            "type": "barpolar"
           }
          ],
          "carpet": [
           {
            "aaxis": {
             "endlinecolor": "#2a3f5f",
             "gridcolor": "white",
             "linecolor": "white",
             "minorgridcolor": "white",
             "startlinecolor": "#2a3f5f"
            },
            "baxis": {
             "endlinecolor": "#2a3f5f",
             "gridcolor": "white",
             "linecolor": "white",
             "minorgridcolor": "white",
             "startlinecolor": "#2a3f5f"
            },
            "type": "carpet"
           }
          ],
          "choropleth": [
           {
            "colorbar": {
             "outlinewidth": 0,
             "ticks": ""
            },
            "type": "choropleth"
           }
          ],
          "contour": [
           {
            "colorbar": {
             "outlinewidth": 0,
             "ticks": ""
            },
            "colorscale": [
             [
              0,
              "#0d0887"
             ],
             [
              0.1111111111111111,
              "#46039f"
             ],
             [
              0.2222222222222222,
              "#7201a8"
             ],
             [
              0.3333333333333333,
              "#9c179e"
             ],
             [
              0.4444444444444444,
              "#bd3786"
             ],
             [
              0.5555555555555556,
              "#d8576b"
             ],
             [
              0.6666666666666666,
              "#ed7953"
             ],
             [
              0.7777777777777778,
              "#fb9f3a"
             ],
             [
              0.8888888888888888,
              "#fdca26"
             ],
             [
              1,
              "#f0f921"
             ]
            ],
            "type": "contour"
           }
          ],
          "contourcarpet": [
           {
            "colorbar": {
             "outlinewidth": 0,
             "ticks": ""
            },
            "type": "contourcarpet"
           }
          ],
          "heatmap": [
           {
            "colorbar": {
             "outlinewidth": 0,
             "ticks": ""
            },
            "colorscale": [
             [
              0,
              "#0d0887"
             ],
             [
              0.1111111111111111,
              "#46039f"
             ],
             [
              0.2222222222222222,
              "#7201a8"
             ],
             [
              0.3333333333333333,
              "#9c179e"
             ],
             [
              0.4444444444444444,
              "#bd3786"
             ],
             [
              0.5555555555555556,
              "#d8576b"
             ],
             [
              0.6666666666666666,
              "#ed7953"
             ],
             [
              0.7777777777777778,
              "#fb9f3a"
             ],
             [
              0.8888888888888888,
              "#fdca26"
             ],
             [
              1,
              "#f0f921"
             ]
            ],
            "type": "heatmap"
           }
          ],
          "heatmapgl": [
           {
            "colorbar": {
             "outlinewidth": 0,
             "ticks": ""
            },
            "colorscale": [
             [
              0,
              "#0d0887"
             ],
             [
              0.1111111111111111,
              "#46039f"
             ],
             [
              0.2222222222222222,
              "#7201a8"
             ],
             [
              0.3333333333333333,
              "#9c179e"
             ],
             [
              0.4444444444444444,
              "#bd3786"
             ],
             [
              0.5555555555555556,
              "#d8576b"
             ],
             [
              0.6666666666666666,
              "#ed7953"
             ],
             [
              0.7777777777777778,
              "#fb9f3a"
             ],
             [
              0.8888888888888888,
              "#fdca26"
             ],
             [
              1,
              "#f0f921"
             ]
            ],
            "type": "heatmapgl"
           }
          ],
          "histogram": [
           {
            "marker": {
             "pattern": {
              "fillmode": "overlay",
              "size": 10,
              "solidity": 0.2
             }
            },
            "type": "histogram"
           }
          ],
          "histogram2d": [
           {
            "colorbar": {
             "outlinewidth": 0,
             "ticks": ""
            },
            "colorscale": [
             [
              0,
              "#0d0887"
             ],
             [
              0.1111111111111111,
              "#46039f"
             ],
             [
              0.2222222222222222,
              "#7201a8"
             ],
             [
              0.3333333333333333,
              "#9c179e"
             ],
             [
              0.4444444444444444,
              "#bd3786"
             ],
             [
              0.5555555555555556,
              "#d8576b"
             ],
             [
              0.6666666666666666,
              "#ed7953"
             ],
             [
              0.7777777777777778,
              "#fb9f3a"
             ],
             [
              0.8888888888888888,
              "#fdca26"
             ],
             [
              1,
              "#f0f921"
             ]
            ],
            "type": "histogram2d"
           }
          ],
          "histogram2dcontour": [
           {
            "colorbar": {
             "outlinewidth": 0,
             "ticks": ""
            },
            "colorscale": [
             [
              0,
              "#0d0887"
             ],
             [
              0.1111111111111111,
              "#46039f"
             ],
             [
              0.2222222222222222,
              "#7201a8"
             ],
             [
              0.3333333333333333,
              "#9c179e"
             ],
             [
              0.4444444444444444,
              "#bd3786"
             ],
             [
              0.5555555555555556,
              "#d8576b"
             ],
             [
              0.6666666666666666,
              "#ed7953"
             ],
             [
              0.7777777777777778,
              "#fb9f3a"
             ],
             [
              0.8888888888888888,
              "#fdca26"
             ],
             [
              1,
              "#f0f921"
             ]
            ],
            "type": "histogram2dcontour"
           }
          ],
          "mesh3d": [
           {
            "colorbar": {
             "outlinewidth": 0,
             "ticks": ""
            },
            "type": "mesh3d"
           }
          ],
          "parcoords": [
           {
            "line": {
             "colorbar": {
              "outlinewidth": 0,
              "ticks": ""
             }
            },
            "type": "parcoords"
           }
          ],
          "pie": [
           {
            "automargin": true,
            "type": "pie"
           }
          ],
          "scatter": [
           {
            "fillpattern": {
             "fillmode": "overlay",
             "size": 10,
             "solidity": 0.2
            },
            "type": "scatter"
           }
          ],
          "scatter3d": [
           {
            "line": {
             "colorbar": {
              "outlinewidth": 0,
              "ticks": ""
             }
            },
            "marker": {
             "colorbar": {
              "outlinewidth": 0,
              "ticks": ""
             }
            },
            "type": "scatter3d"
           }
          ],
          "scattercarpet": [
           {
            "marker": {
             "colorbar": {
              "outlinewidth": 0,
              "ticks": ""
             }
            },
            "type": "scattercarpet"
           }
          ],
          "scattergeo": [
           {
            "marker": {
             "colorbar": {
              "outlinewidth": 0,
              "ticks": ""
             }
            },
            "type": "scattergeo"
           }
          ],
          "scattergl": [
           {
            "marker": {
             "colorbar": {
              "outlinewidth": 0,
              "ticks": ""
             }
            },
            "type": "scattergl"
           }
          ],
          "scattermapbox": [
           {
            "marker": {
             "colorbar": {
              "outlinewidth": 0,
              "ticks": ""
             }
            },
            "type": "scattermapbox"
           }
          ],
          "scatterpolar": [
           {
            "marker": {
             "colorbar": {
              "outlinewidth": 0,
              "ticks": ""
             }
            },
            "type": "scatterpolar"
           }
          ],
          "scatterpolargl": [
           {
            "marker": {
             "colorbar": {
              "outlinewidth": 0,
              "ticks": ""
             }
            },
            "type": "scatterpolargl"
           }
          ],
          "scatterternary": [
           {
            "marker": {
             "colorbar": {
              "outlinewidth": 0,
              "ticks": ""
             }
            },
            "type": "scatterternary"
           }
          ],
          "surface": [
           {
            "colorbar": {
             "outlinewidth": 0,
             "ticks": ""
            },
            "colorscale": [
             [
              0,
              "#0d0887"
             ],
             [
              0.1111111111111111,
              "#46039f"
             ],
             [
              0.2222222222222222,
              "#7201a8"
             ],
             [
              0.3333333333333333,
              "#9c179e"
             ],
             [
              0.4444444444444444,
              "#bd3786"
             ],
             [
              0.5555555555555556,
              "#d8576b"
             ],
             [
              0.6666666666666666,
              "#ed7953"
             ],
             [
              0.7777777777777778,
              "#fb9f3a"
             ],
             [
              0.8888888888888888,
              "#fdca26"
             ],
             [
              1,
              "#f0f921"
             ]
            ],
            "type": "surface"
           }
          ],
          "table": [
           {
            "cells": {
             "fill": {
              "color": "#EBF0F8"
             },
             "line": {
              "color": "white"
             }
            },
            "header": {
             "fill": {
              "color": "#C8D4E3"
             },
             "line": {
              "color": "white"
             }
            },
            "type": "table"
           }
          ]
         },
         "layout": {
          "annotationdefaults": {
           "arrowcolor": "#2a3f5f",
           "arrowhead": 0,
           "arrowwidth": 1
          },
          "autotypenumbers": "strict",
          "coloraxis": {
           "colorbar": {
            "outlinewidth": 0,
            "ticks": ""
           }
          },
          "colorscale": {
           "diverging": [
            [
             0,
             "#8e0152"
            ],
            [
             0.1,
             "#c51b7d"
            ],
            [
             0.2,
             "#de77ae"
            ],
            [
             0.3,
             "#f1b6da"
            ],
            [
             0.4,
             "#fde0ef"
            ],
            [
             0.5,
             "#f7f7f7"
            ],
            [
             0.6,
             "#e6f5d0"
            ],
            [
             0.7,
             "#b8e186"
            ],
            [
             0.8,
             "#7fbc41"
            ],
            [
             0.9,
             "#4d9221"
            ],
            [
             1,
             "#276419"
            ]
           ],
           "sequential": [
            [
             0,
             "#0d0887"
            ],
            [
             0.1111111111111111,
             "#46039f"
            ],
            [
             0.2222222222222222,
             "#7201a8"
            ],
            [
             0.3333333333333333,
             "#9c179e"
            ],
            [
             0.4444444444444444,
             "#bd3786"
            ],
            [
             0.5555555555555556,
             "#d8576b"
            ],
            [
             0.6666666666666666,
             "#ed7953"
            ],
            [
             0.7777777777777778,
             "#fb9f3a"
            ],
            [
             0.8888888888888888,
             "#fdca26"
            ],
            [
             1,
             "#f0f921"
            ]
           ],
           "sequentialminus": [
            [
             0,
             "#0d0887"
            ],
            [
             0.1111111111111111,
             "#46039f"
            ],
            [
             0.2222222222222222,
             "#7201a8"
            ],
            [
             0.3333333333333333,
             "#9c179e"
            ],
            [
             0.4444444444444444,
             "#bd3786"
            ],
            [
             0.5555555555555556,
             "#d8576b"
            ],
            [
             0.6666666666666666,
             "#ed7953"
            ],
            [
             0.7777777777777778,
             "#fb9f3a"
            ],
            [
             0.8888888888888888,
             "#fdca26"
            ],
            [
             1,
             "#f0f921"
            ]
           ]
          },
          "colorway": [
           "#636efa",
           "#EF553B",
           "#00cc96",
           "#ab63fa",
           "#FFA15A",
           "#19d3f3",
           "#FF6692",
           "#B6E880",
           "#FF97FF",
           "#FECB52"
          ],
          "font": {
           "color": "#2a3f5f"
          },
          "geo": {
           "bgcolor": "white",
           "lakecolor": "white",
           "landcolor": "#E5ECF6",
           "showlakes": true,
           "showland": true,
           "subunitcolor": "white"
          },
          "hoverlabel": {
           "align": "left"
          },
          "hovermode": "closest",
          "mapbox": {
           "style": "light"
          },
          "paper_bgcolor": "white",
          "plot_bgcolor": "#E5ECF6",
          "polar": {
           "angularaxis": {
            "gridcolor": "white",
            "linecolor": "white",
            "ticks": ""
           },
           "bgcolor": "#E5ECF6",
           "radialaxis": {
            "gridcolor": "white",
            "linecolor": "white",
            "ticks": ""
           }
          },
          "scene": {
           "xaxis": {
            "backgroundcolor": "#E5ECF6",
            "gridcolor": "white",
            "gridwidth": 2,
            "linecolor": "white",
            "showbackground": true,
            "ticks": "",
            "zerolinecolor": "white"
           },
           "yaxis": {
            "backgroundcolor": "#E5ECF6",
            "gridcolor": "white",
            "gridwidth": 2,
            "linecolor": "white",
            "showbackground": true,
            "ticks": "",
            "zerolinecolor": "white"
           },
           "zaxis": {
            "backgroundcolor": "#E5ECF6",
            "gridcolor": "white",
            "gridwidth": 2,
            "linecolor": "white",
            "showbackground": true,
            "ticks": "",
            "zerolinecolor": "white"
           }
          },
          "shapedefaults": {
           "line": {
            "color": "#2a3f5f"
           }
          },
          "ternary": {
           "aaxis": {
            "gridcolor": "white",
            "linecolor": "white",
            "ticks": ""
           },
           "baxis": {
            "gridcolor": "white",
            "linecolor": "white",
            "ticks": ""
           },
           "bgcolor": "#E5ECF6",
           "caxis": {
            "gridcolor": "white",
            "linecolor": "white",
            "ticks": ""
           }
          },
          "title": {
           "x": 0.05
          },
          "xaxis": {
           "automargin": true,
           "gridcolor": "white",
           "linecolor": "white",
           "ticks": "",
           "title": {
            "standoff": 15
           },
           "zerolinecolor": "white",
           "zerolinewidth": 2
          },
          "yaxis": {
           "automargin": true,
           "gridcolor": "white",
           "linecolor": "white",
           "ticks": "",
           "title": {
            "standoff": 15
           },
           "zerolinecolor": "white",
           "zerolinewidth": 2
          }
         }
        },
        "title": {
         "text": "Missing Data"
        },
        "xaxis": {
         "title": {
          "text": "Columns"
         }
        },
        "yaxis": {
         "title": {
          "text": "Missing Count"
         }
        }
       }
      }
     },
     "metadata": {},
     "output_type": "display_data"
    }
   ],
   "source": [
    "from Data_Visualization.eda import EDA_Visualization\n",
    "\n",
    "eda_vis = EDA_Visualization(df)\n",
    "eda_vis.visualize_missing_data()"
   ]
  },
  {
   "cell_type": "markdown",
   "metadata": {},
   "source": [
    "### Test DataCleansing Module"
   ]
  },
  {
   "cell_type": "code",
   "execution_count": 46,
   "metadata": {},
   "outputs": [],
   "source": [
    "data_cleansing = DataCleansing(df)"
   ]
  },
  {
   "cell_type": "markdown",
   "metadata": {},
   "source": [
    "remove_duplicates() function"
   ]
  },
  {
   "cell_type": "code",
   "execution_count": 2,
   "metadata": {},
   "outputs": [
    {
     "data": {
      "text/html": [
       "<div>\n",
       "<style scoped>\n",
       "    .dataframe tbody tr th:only-of-type {\n",
       "        vertical-align: middle;\n",
       "    }\n",
       "\n",
       "    .dataframe tbody tr th {\n",
       "        vertical-align: top;\n",
       "    }\n",
       "\n",
       "    .dataframe thead th {\n",
       "        text-align: right;\n",
       "    }\n",
       "</style>\n",
       "<table border=\"1\" class=\"dataframe\">\n",
       "  <thead>\n",
       "    <tr style=\"text-align: right;\">\n",
       "      <th></th>\n",
       "      <th>a</th>\n",
       "      <th>b</th>\n",
       "      <th>c</th>\n",
       "    </tr>\n",
       "  </thead>\n",
       "  <tbody>\n",
       "    <tr>\n",
       "      <th>0</th>\n",
       "      <td>1</td>\n",
       "      <td>2</td>\n",
       "      <td>3</td>\n",
       "    </tr>\n",
       "    <tr>\n",
       "      <th>1</th>\n",
       "      <td>1</td>\n",
       "      <td>2</td>\n",
       "      <td>3</td>\n",
       "    </tr>\n",
       "    <tr>\n",
       "      <th>2</th>\n",
       "      <td>2</td>\n",
       "      <td>3</td>\n",
       "      <td>4</td>\n",
       "    </tr>\n",
       "    <tr>\n",
       "      <th>3</th>\n",
       "      <td>2</td>\n",
       "      <td>3</td>\n",
       "      <td>4</td>\n",
       "    </tr>\n",
       "    <tr>\n",
       "      <th>4</th>\n",
       "      <td>3</td>\n",
       "      <td>4</td>\n",
       "      <td>5</td>\n",
       "    </tr>\n",
       "    <tr>\n",
       "      <th>5</th>\n",
       "      <td>3</td>\n",
       "      <td>4</td>\n",
       "      <td>5</td>\n",
       "    </tr>\n",
       "    <tr>\n",
       "      <th>6</th>\n",
       "      <td>4</td>\n",
       "      <td>5</td>\n",
       "      <td>6</td>\n",
       "    </tr>\n",
       "    <tr>\n",
       "      <th>7</th>\n",
       "      <td>4</td>\n",
       "      <td>5</td>\n",
       "      <td>6</td>\n",
       "    </tr>\n",
       "    <tr>\n",
       "      <th>8</th>\n",
       "      <td>5</td>\n",
       "      <td>6</td>\n",
       "      <td>7</td>\n",
       "    </tr>\n",
       "    <tr>\n",
       "      <th>9</th>\n",
       "      <td>5</td>\n",
       "      <td>6</td>\n",
       "      <td>7</td>\n",
       "    </tr>\n",
       "  </tbody>\n",
       "</table>\n",
       "</div>"
      ],
      "text/plain": [
       "   a  b  c\n",
       "0  1  2  3\n",
       "1  1  2  3\n",
       "2  2  3  4\n",
       "3  2  3  4\n",
       "4  3  4  5\n",
       "5  3  4  5\n",
       "6  4  5  6\n",
       "7  4  5  6\n",
       "8  5  6  7\n",
       "9  5  6  7"
      ]
     },
     "execution_count": 2,
     "metadata": {},
     "output_type": "execute_result"
    }
   ],
   "source": [
    "# generate a df with duplicate rows\n",
    "dup_df = pd.DataFrame({'a':[1,1,2,2,3,3,4,4,5,5],\n",
    "                     'b':[2,2,3,3,4,4,5,5,6,6],\n",
    "                        'c':[3,3,4,4,5,5,6,6,7,7]})\n",
    "dup_df"
   ]
  },
  {
   "cell_type": "code",
   "execution_count": 3,
   "metadata": {},
   "outputs": [
    {
     "name": "stdout",
     "output_type": "stream",
     "text": [
      "Dropped columns: Index([], dtype='object')\n"
     ]
    },
    {
     "data": {
      "text/html": [
       "<div>\n",
       "<style scoped>\n",
       "    .dataframe tbody tr th:only-of-type {\n",
       "        vertical-align: middle;\n",
       "    }\n",
       "\n",
       "    .dataframe tbody tr th {\n",
       "        vertical-align: top;\n",
       "    }\n",
       "\n",
       "    .dataframe thead th {\n",
       "        text-align: right;\n",
       "    }\n",
       "</style>\n",
       "<table border=\"1\" class=\"dataframe\">\n",
       "  <thead>\n",
       "    <tr style=\"text-align: right;\">\n",
       "      <th></th>\n",
       "      <th>a</th>\n",
       "      <th>b</th>\n",
       "      <th>c</th>\n",
       "    </tr>\n",
       "  </thead>\n",
       "  <tbody>\n",
       "    <tr>\n",
       "      <th>0</th>\n",
       "      <td>1</td>\n",
       "      <td>2</td>\n",
       "      <td>3</td>\n",
       "    </tr>\n",
       "    <tr>\n",
       "      <th>1</th>\n",
       "      <td>2</td>\n",
       "      <td>3</td>\n",
       "      <td>4</td>\n",
       "    </tr>\n",
       "    <tr>\n",
       "      <th>2</th>\n",
       "      <td>3</td>\n",
       "      <td>4</td>\n",
       "      <td>5</td>\n",
       "    </tr>\n",
       "    <tr>\n",
       "      <th>3</th>\n",
       "      <td>4</td>\n",
       "      <td>5</td>\n",
       "      <td>6</td>\n",
       "    </tr>\n",
       "    <tr>\n",
       "      <th>4</th>\n",
       "      <td>5</td>\n",
       "      <td>6</td>\n",
       "      <td>7</td>\n",
       "    </tr>\n",
       "  </tbody>\n",
       "</table>\n",
       "</div>"
      ],
      "text/plain": [
       "   a  b  c\n",
       "0  1  2  3\n",
       "1  2  3  4\n",
       "2  3  4  5\n",
       "3  4  5  6\n",
       "4  5  6  7"
      ]
     },
     "execution_count": 3,
     "metadata": {},
     "output_type": "execute_result"
    }
   ],
   "source": [
    "data_cleansing = DataCleansing()\n",
    "dup_df = data_cleansing.remove_duplicates(dup_df)\n",
    "dup_df"
   ]
  },
  {
   "cell_type": "code",
   "execution_count": 4,
   "metadata": {},
   "outputs": [
    {
     "data": {
      "text/html": [
       "<div>\n",
       "<style scoped>\n",
       "    .dataframe tbody tr th:only-of-type {\n",
       "        vertical-align: middle;\n",
       "    }\n",
       "\n",
       "    .dataframe tbody tr th {\n",
       "        vertical-align: top;\n",
       "    }\n",
       "\n",
       "    .dataframe thead th {\n",
       "        text-align: right;\n",
       "    }\n",
       "</style>\n",
       "<table border=\"1\" class=\"dataframe\">\n",
       "  <thead>\n",
       "    <tr style=\"text-align: right;\">\n",
       "      <th></th>\n",
       "      <th>a</th>\n",
       "      <th>b</th>\n",
       "      <th>c</th>\n",
       "    </tr>\n",
       "  </thead>\n",
       "  <tbody>\n",
       "    <tr>\n",
       "      <th>0</th>\n",
       "      <td>1</td>\n",
       "      <td>1</td>\n",
       "      <td>1</td>\n",
       "    </tr>\n",
       "    <tr>\n",
       "      <th>1</th>\n",
       "      <td>2</td>\n",
       "      <td>2</td>\n",
       "      <td>2</td>\n",
       "    </tr>\n",
       "    <tr>\n",
       "      <th>2</th>\n",
       "      <td>3</td>\n",
       "      <td>3</td>\n",
       "      <td>3</td>\n",
       "    </tr>\n",
       "  </tbody>\n",
       "</table>\n",
       "</div>"
      ],
      "text/plain": [
       "   a  b  c\n",
       "0  1  1  1\n",
       "1  2  2  2\n",
       "2  3  3  3"
      ]
     },
     "execution_count": 4,
     "metadata": {},
     "output_type": "execute_result"
    }
   ],
   "source": [
    "# a df with duplicate dolumns\n",
    "dup_df = pd.DataFrame({'a': [1, 2, 3], 'b': [1, 2, 3], 'c': [1, 2, 3]})\n",
    "dup_df"
   ]
  },
  {
   "cell_type": "code",
   "execution_count": 5,
   "metadata": {},
   "outputs": [
    {
     "name": "stdout",
     "output_type": "stream",
     "text": [
      "Dropped columns: Index(['b', 'c'], dtype='object')\n"
     ]
    },
    {
     "data": {
      "text/html": [
       "<div>\n",
       "<style scoped>\n",
       "    .dataframe tbody tr th:only-of-type {\n",
       "        vertical-align: middle;\n",
       "    }\n",
       "\n",
       "    .dataframe tbody tr th {\n",
       "        vertical-align: top;\n",
       "    }\n",
       "\n",
       "    .dataframe thead th {\n",
       "        text-align: right;\n",
       "    }\n",
       "</style>\n",
       "<table border=\"1\" class=\"dataframe\">\n",
       "  <thead>\n",
       "    <tr style=\"text-align: right;\">\n",
       "      <th></th>\n",
       "      <th>a</th>\n",
       "    </tr>\n",
       "  </thead>\n",
       "  <tbody>\n",
       "    <tr>\n",
       "      <th>0</th>\n",
       "      <td>1</td>\n",
       "    </tr>\n",
       "    <tr>\n",
       "      <th>1</th>\n",
       "      <td>2</td>\n",
       "    </tr>\n",
       "    <tr>\n",
       "      <th>2</th>\n",
       "      <td>3</td>\n",
       "    </tr>\n",
       "  </tbody>\n",
       "</table>\n",
       "</div>"
      ],
      "text/plain": [
       "   a\n",
       "0  1\n",
       "1  2\n",
       "2  3"
      ]
     },
     "execution_count": 5,
     "metadata": {},
     "output_type": "execute_result"
    }
   ],
   "source": [
    "data_cleansing = DataCleansing()\n",
    "dup_df = data_cleansing.remove_duplicates(dup_df)\n",
    "dup_df"
   ]
  },
  {
   "cell_type": "markdown",
   "metadata": {},
   "source": [
    "handle_missing_values() funtion"
   ]
  },
  {
   "cell_type": "code",
   "execution_count": 47,
   "metadata": {},
   "outputs": [
    {
     "data": {
      "text/plain": [
       "(1000, 16)"
      ]
     },
     "execution_count": 47,
     "metadata": {},
     "output_type": "execute_result"
    }
   ],
   "source": [
    "df.shape"
   ]
  },
  {
   "cell_type": "code",
   "execution_count": 48,
   "metadata": {},
   "outputs": [
    {
     "name": "stdout",
     "output_type": "stream",
     "text": [
      "Missing data summary:\n",
      "HPBH:221F003 Stanlow       3\n",
      "HPBH:221F004 Stanlow      90\n",
      "HPBH:221F008 Stanlow      87\n",
      "HPBH:221F011 Stanlow     330\n",
      "HPBH:221FT009 Stanlow    165\n",
      "HPBH:221Q004 Stanlow     113\n",
      "HPBH:221QT004 Stanlow    268\n",
      "HPBH:221T017 Stanlow      36\n",
      "HPBH:221T028 Stanlow     435\n",
      "HPBH:221T034 Stanlow     746\n",
      "HPBH:221T035 Stanlow     451\n",
      "HPBH:221T036 Stanlow     440\n",
      "HPBH:221T044 Stanlow      95\n",
      "HPBH:221TT031 Stanlow    766\n",
      "HPBH:221TT032 Stanlow    841\n",
      "HPBH:221U829 Stanlow     183\n",
      "dtype: int64\n"
     ]
    }
   ],
   "source": [
    "data_exp.summarize_missing_data(df)"
   ]
  },
  {
   "cell_type": "code",
   "execution_count": 49,
   "metadata": {},
   "outputs": [
    {
     "name": "stdout",
     "output_type": "stream",
     "text": [
      "Dropped columns: ['HPBH:221T034 Stanlow', 'HPBH:221TT031 Stanlow', 'HPBH:221TT032 Stanlow']\n",
      "Missing data: HPBH:221F004 Stanlow       2\n",
      "HPBH:221F011 Stanlow     192\n",
      "HPBH:221Q004 Stanlow       3\n",
      "HPBH:221QT004 Stanlow    106\n",
      "HPBH:221T017 Stanlow       2\n",
      "HPBH:221T028 Stanlow     295\n",
      "HPBH:221T035 Stanlow     309\n",
      "HPBH:221T036 Stanlow     303\n",
      "HPBH:221T044 Stanlow       1\n",
      "HPBH:221U829 Stanlow      22\n",
      "dtype: int64\n"
     ]
    }
   ],
   "source": [
    "# df = data_cleansing.handle_missing_values(df, target_list=['OXO-5FI696 Augusta'], drop_threshold=0.5, fill_missing_strategy=FillMissingByLastKnownValue())\n",
    "df = data_cleansing.handle_missing_values(df, target_list=['HPBH:221F008 Stanlow', 'HPBH:221FT009 Stanlow'], drop_threshold=0.5, fill_missing_strategy=FillMissingByMean())"
   ]
  },
  {
   "cell_type": "code",
   "execution_count": 50,
   "metadata": {},
   "outputs": [
    {
     "data": {
      "text/plain": [
       "(823, 13)"
      ]
     },
     "execution_count": 50,
     "metadata": {},
     "output_type": "execute_result"
    }
   ],
   "source": [
    "df.shape"
   ]
  },
  {
   "cell_type": "code",
   "execution_count": 51,
   "metadata": {},
   "outputs": [
    {
     "name": "stdout",
     "output_type": "stream",
     "text": [
      "Missing data summary:\n",
      "Series([], dtype: int64)\n"
     ]
    }
   ],
   "source": [
    "data_exp.summarize_missing_data(df)"
   ]
  },
  {
   "cell_type": "markdown",
   "metadata": {},
   "source": [
    "detect_anomalies() function"
   ]
  },
  {
   "cell_type": "code",
   "execution_count": 5,
   "metadata": {},
   "outputs": [
    {
     "name": "stdout",
     "output_type": "stream",
     "text": [
      "Selected Features are OXO-5FI696 Augusta, OXO-5FI635C Augusta, OXO-5FIC602 Augusta, OXO-5FIC612B Augusta, OXO-5FIC622C Augusta, OXO-5FIC636C Augusta, OXO-5TIC602 Augusta, OXO-5TIC603 Augusta\n",
      "Finding bounds...\n",
      "Found Bounds!\n",
      "Finding bounds...\n",
      "Found Bounds!\n",
      "Done\n"
     ]
    }
   ],
   "source": [
    "data_cleansing.generate_anomaly_report(df, 'OXO-5FI696 Augusta', problem_type='max')"
   ]
  },
  {
   "cell_type": "markdown",
   "metadata": {},
   "source": [
    "detect_outliers() funcion"
   ]
  },
  {
   "cell_type": "code",
   "execution_count": 55,
   "metadata": {},
   "outputs": [
    {
     "name": "stdout",
     "output_type": "stream",
     "text": [
      "18 outliers detected\n"
     ]
    },
    {
     "data": {
      "application/vnd.plotly.v1+json": {
       "config": {
        "plotlyServerURL": "https://plot.ly"
       },
       "data": [
        {
         "hovertemplate": "Date=%{x}<br>HPBH:221F004 Stanlow=%{y}<extra></extra>",
         "legendgroup": "",
         "line": {
          "color": "#636efa",
          "dash": "solid"
         },
         "marker": {
          "symbol": "circle"
         },
         "mode": "lines",
         "name": "",
         "orientation": "v",
         "showlegend": false,
         "type": "scatter",
         "x": [
          "2018-03-26T01:00:00",
          "2018-03-26T09:00:00",
          "2018-03-27T10:00:00",
          "2018-03-28T20:00:00",
          "2018-03-29T18:00:00",
          "2018-03-30T02:00:00",
          "2018-03-30T06:00:00",
          "2018-03-30T14:00:00",
          "2018-03-30T17:00:00",
          "2018-03-30T18:00:00",
          "2018-03-30T19:00:00",
          "2018-03-30T20:00:00",
          "2018-03-30T21:00:00",
          "2018-03-30T22:00:00",
          "2018-03-30T23:00:00",
          "2018-03-31T00:00:00",
          "2018-03-31T01:00:00",
          "2018-03-31T02:00:00",
          "2018-03-31T03:00:00",
          "2018-03-31T04:00:00",
          "2018-03-31T05:00:00",
          "2018-03-31T06:00:00",
          "2018-03-31T07:00:00",
          "2018-03-31T08:00:00",
          "2018-03-31T09:00:00",
          "2018-03-31T10:00:00",
          "2018-03-31T11:00:00",
          "2018-03-31T12:00:00",
          "2018-03-31T13:00:00",
          "2018-03-31T14:00:00",
          "2018-03-31T16:00:00",
          "2018-04-01T00:00:00",
          "2018-04-01T07:00:00",
          "2018-04-01T15:00:00",
          "2018-04-01T23:00:00",
          "2018-04-02T01:00:00",
          "2018-04-02T09:00:00",
          "2018-04-02T16:00:00",
          "2018-04-02T23:00:00",
          "2018-04-03T00:00:00",
          "2018-04-03T01:00:00",
          "2018-04-03T02:00:00",
          "2018-04-03T03:00:00",
          "2018-04-03T04:00:00",
          "2018-04-03T05:00:00",
          "2018-04-03T06:00:00",
          "2018-04-03T07:00:00",
          "2018-04-03T08:00:00",
          "2018-04-03T09:00:00",
          "2018-04-03T10:00:00",
          "2018-04-03T12:00:00",
          "2018-04-03T13:00:00",
          "2018-04-03T14:00:00",
          "2018-04-03T15:00:00",
          "2018-04-03T16:00:00",
          "2018-04-03T17:00:00",
          "2018-04-03T18:00:00",
          "2018-04-03T19:00:00",
          "2018-04-03T20:00:00",
          "2018-04-03T21:00:00",
          "2018-04-03T22:00:00",
          "2018-04-03T23:00:00",
          "2018-04-04T00:00:00",
          "2018-04-04T01:00:00",
          "2018-04-04T02:00:00",
          "2018-04-04T03:00:00",
          "2018-04-04T04:00:00",
          "2018-04-04T05:00:00",
          "2018-04-04T06:00:00",
          "2018-04-04T07:00:00",
          "2018-04-04T08:00:00",
          "2018-04-04T09:00:00",
          "2018-04-04T10:00:00",
          "2018-04-04T11:00:00",
          "2018-04-04T12:00:00",
          "2018-04-04T13:00:00",
          "2018-04-04T14:00:00",
          "2018-04-04T15:00:00",
          "2018-04-04T16:00:00",
          "2018-04-04T17:00:00",
          "2018-04-04T18:00:00",
          "2018-04-04T19:00:00",
          "2018-04-04T20:00:00",
          "2018-04-04T21:00:00",
          "2018-04-04T22:00:00",
          "2018-04-04T23:00:00",
          "2018-04-05T00:00:00",
          "2018-04-05T01:00:00",
          "2018-04-05T02:00:00",
          "2018-04-05T03:00:00",
          "2018-04-05T04:00:00",
          "2018-04-05T05:00:00",
          "2018-04-05T06:00:00",
          "2018-04-05T07:00:00",
          "2018-04-05T08:00:00",
          "2018-04-05T09:00:00",
          "2018-04-05T10:00:00",
          "2018-04-05T11:00:00",
          "2018-04-05T12:00:00",
          "2018-04-05T13:00:00",
          "2018-04-05T14:00:00",
          "2018-04-05T15:00:00",
          "2018-04-05T16:00:00",
          "2018-04-05T17:00:00",
          "2018-04-05T18:00:00",
          "2018-04-05T19:00:00",
          "2018-04-05T20:00:00",
          "2018-04-05T21:00:00",
          "2018-04-05T22:00:00",
          "2018-04-05T23:00:00",
          "2018-04-06T00:00:00",
          "2018-04-06T01:00:00",
          "2018-04-06T02:00:00",
          "2018-04-06T03:00:00",
          "2018-04-06T04:00:00",
          "2018-04-06T05:00:00",
          "2018-04-06T06:00:00",
          "2018-04-06T07:00:00",
          "2018-04-06T08:00:00",
          "2018-04-06T09:00:00",
          "2018-04-06T10:00:00",
          "2018-04-06T11:00:00",
          "2018-04-06T12:00:00",
          "2018-04-06T13:00:00",
          "2018-04-06T14:00:00",
          "2018-04-06T15:00:00",
          "2018-04-06T16:00:00",
          "2018-04-06T17:00:00",
          "2018-04-06T18:00:00",
          "2018-04-06T19:00:00",
          "2018-04-06T20:00:00",
          "2018-04-06T21:00:00",
          "2018-04-06T22:00:00",
          "2018-04-06T23:00:00",
          "2018-04-07T00:00:00",
          "2018-04-07T01:00:00",
          "2018-04-07T02:00:00",
          "2018-04-07T03:00:00",
          "2018-04-07T04:00:00",
          "2018-04-07T05:00:00",
          "2018-04-07T06:00:00",
          "2018-04-07T07:00:00",
          "2018-04-07T08:00:00",
          "2018-04-07T09:00:00",
          "2018-04-07T10:00:00",
          "2018-04-07T11:00:00",
          "2018-04-07T12:00:00",
          "2018-04-07T13:00:00",
          "2018-04-07T14:00:00",
          "2018-04-07T15:00:00",
          "2018-04-07T16:00:00",
          "2018-04-07T17:00:00",
          "2018-04-07T18:00:00",
          "2018-04-07T19:00:00",
          "2018-04-07T20:00:00",
          "2018-04-07T21:00:00",
          "2018-04-07T22:00:00",
          "2018-04-07T23:00:00",
          "2018-04-08T00:00:00",
          "2018-04-08T01:00:00",
          "2018-04-08T02:00:00",
          "2018-04-08T03:00:00",
          "2018-04-08T04:00:00",
          "2018-04-08T05:00:00",
          "2018-04-08T06:00:00",
          "2018-04-08T07:00:00",
          "2018-04-08T08:00:00",
          "2018-04-08T09:00:00",
          "2018-04-08T10:00:00",
          "2018-04-08T11:00:00",
          "2018-04-08T12:00:00",
          "2018-04-08T13:00:00",
          "2018-04-08T14:00:00",
          "2018-04-08T15:00:00",
          "2018-04-08T16:00:00",
          "2018-04-08T17:00:00",
          "2018-04-08T18:00:00",
          "2018-04-08T19:00:00",
          "2018-04-08T20:00:00",
          "2018-04-08T21:00:00",
          "2018-04-08T22:00:00",
          "2018-04-08T23:00:00",
          "2018-04-09T00:00:00",
          "2018-04-09T01:00:00",
          "2018-04-09T02:00:00",
          "2018-04-09T03:00:00",
          "2018-04-09T04:00:00",
          "2018-04-09T05:00:00",
          "2018-04-09T06:00:00",
          "2018-04-09T07:00:00",
          "2018-04-09T08:00:00",
          "2018-04-09T09:00:00",
          "2018-04-09T10:00:00",
          "2018-04-09T11:00:00",
          "2018-04-09T12:00:00",
          "2018-04-09T13:00:00",
          "2018-04-09T14:00:00",
          "2018-04-09T15:00:00",
          "2018-04-09T16:00:00",
          "2018-04-09T17:00:00",
          "2018-04-09T18:00:00",
          "2018-04-09T19:00:00",
          "2018-04-09T20:00:00",
          "2018-04-09T21:00:00",
          "2018-04-09T22:00:00",
          "2018-04-09T23:00:00",
          "2018-04-10T00:00:00",
          "2018-04-10T01:00:00",
          "2018-04-10T02:00:00",
          "2018-04-10T03:00:00",
          "2018-04-10T04:00:00",
          "2018-04-10T05:00:00",
          "2018-04-10T06:00:00",
          "2018-04-10T07:00:00",
          "2018-04-10T08:00:00",
          "2018-04-10T09:00:00",
          "2018-04-10T10:00:00",
          "2018-04-10T11:00:00",
          "2018-04-10T12:00:00",
          "2018-04-10T13:00:00",
          "2018-04-10T14:00:00",
          "2018-04-10T15:00:00",
          "2018-04-10T16:00:00",
          "2018-04-10T17:00:00",
          "2018-04-10T18:00:00",
          "2018-04-10T19:00:00",
          "2018-04-10T20:00:00",
          "2018-04-10T21:00:00",
          "2018-04-10T22:00:00",
          "2018-04-10T23:00:00",
          "2018-04-11T00:00:00",
          "2018-04-11T01:00:00",
          "2018-04-11T02:00:00",
          "2018-04-11T03:00:00",
          "2018-04-11T04:00:00",
          "2018-04-11T05:00:00",
          "2018-04-11T06:00:00",
          "2018-04-11T07:00:00",
          "2018-04-11T08:00:00",
          "2018-04-11T09:00:00",
          "2018-04-11T10:00:00",
          "2018-04-11T11:00:00",
          "2018-04-11T12:00:00",
          "2018-04-11T13:00:00",
          "2018-04-11T14:00:00",
          "2018-04-11T15:00:00",
          "2018-04-11T16:00:00",
          "2018-04-11T17:00:00",
          "2018-04-11T18:00:00",
          "2018-04-11T19:00:00",
          "2018-04-11T20:00:00",
          "2018-04-11T21:00:00",
          "2018-04-11T22:00:00",
          "2018-04-11T23:00:00",
          "2018-04-12T00:00:00",
          "2018-04-12T01:00:00",
          "2018-04-12T02:00:00",
          "2018-04-12T03:00:00",
          "2018-04-12T04:00:00",
          "2018-04-12T05:00:00",
          "2018-04-12T06:00:00",
          "2018-04-12T07:00:00",
          "2018-04-12T08:00:00",
          "2018-04-12T09:00:00",
          "2018-04-12T10:00:00",
          "2018-04-12T11:00:00",
          "2018-04-12T12:00:00",
          "2018-04-12T13:00:00",
          "2018-04-12T14:00:00",
          "2018-04-12T15:00:00",
          "2018-04-12T16:00:00",
          "2018-04-12T17:00:00",
          "2018-04-12T18:00:00",
          "2018-04-12T19:00:00",
          "2018-04-12T20:00:00",
          "2018-04-12T21:00:00",
          "2018-04-12T22:00:00",
          "2018-04-12T23:00:00",
          "2018-04-13T00:00:00",
          "2018-04-13T01:00:00",
          "2018-04-13T02:00:00",
          "2018-04-13T03:00:00",
          "2018-04-13T04:00:00",
          "2018-04-13T05:00:00",
          "2018-04-13T06:00:00",
          "2018-04-13T07:00:00",
          "2018-04-13T08:00:00",
          "2018-04-13T09:00:00",
          "2018-04-13T10:00:00",
          "2018-04-13T11:00:00",
          "2018-04-13T12:00:00",
          "2018-04-13T13:00:00",
          "2018-04-13T14:00:00",
          "2018-04-13T15:00:00",
          "2018-04-13T16:00:00",
          "2018-04-13T17:00:00",
          "2018-04-13T18:00:00",
          "2018-04-13T19:00:00",
          "2018-04-13T20:00:00",
          "2018-04-13T21:00:00",
          "2018-04-13T22:00:00",
          "2018-04-13T23:00:00",
          "2018-04-14T00:00:00",
          "2018-04-14T01:00:00",
          "2018-04-14T02:00:00",
          "2018-04-14T03:00:00",
          "2018-04-14T04:00:00",
          "2018-04-14T05:00:00",
          "2018-04-14T06:00:00",
          "2018-04-14T07:00:00",
          "2018-04-14T08:00:00",
          "2018-04-14T09:00:00",
          "2018-04-14T10:00:00",
          "2018-04-14T11:00:00",
          "2018-04-14T12:00:00",
          "2018-04-14T13:00:00",
          "2018-04-14T14:00:00",
          "2018-04-14T15:00:00",
          "2018-04-14T16:00:00",
          "2018-04-14T17:00:00",
          "2018-04-14T18:00:00",
          "2018-04-14T19:00:00",
          "2018-04-14T20:00:00",
          "2018-04-14T21:00:00",
          "2018-04-14T22:00:00",
          "2018-04-14T23:00:00",
          "2018-04-15T00:00:00",
          "2018-04-15T01:00:00",
          "2018-04-15T02:00:00",
          "2018-04-15T03:00:00",
          "2018-04-15T04:00:00",
          "2018-04-15T05:00:00",
          "2018-04-15T06:00:00",
          "2018-04-15T07:00:00",
          "2018-04-15T08:00:00",
          "2018-04-15T09:00:00",
          "2018-04-15T10:00:00",
          "2018-04-15T11:00:00",
          "2018-04-15T12:00:00",
          "2018-04-15T13:00:00",
          "2018-04-15T14:00:00",
          "2018-04-15T15:00:00",
          "2018-04-16T11:00:00",
          "2018-04-16T12:00:00",
          "2018-04-16T13:00:00",
          "2018-04-16T14:00:00",
          "2018-04-16T15:00:00",
          "2018-04-16T16:00:00",
          "2018-04-16T17:00:00",
          "2018-04-16T18:00:00",
          "2018-04-16T19:00:00",
          "2018-04-16T20:00:00",
          "2018-04-16T21:00:00",
          "2018-04-16T22:00:00",
          "2018-04-16T23:00:00",
          "2018-04-17T00:00:00",
          "2018-04-17T01:00:00",
          "2018-04-17T02:00:00",
          "2018-04-17T03:00:00",
          "2018-04-17T04:00:00",
          "2018-04-17T05:00:00",
          "2018-04-17T06:00:00",
          "2018-04-17T07:00:00",
          "2018-04-17T08:00:00",
          "2018-04-17T09:00:00",
          "2018-04-17T10:00:00",
          "2018-04-17T11:00:00",
          "2018-04-17T12:00:00",
          "2018-04-17T13:00:00",
          "2018-04-17T14:00:00",
          "2018-04-17T15:00:00",
          "2018-04-17T16:00:00",
          "2018-04-17T17:00:00",
          "2018-04-17T18:00:00",
          "2018-04-17T19:00:00",
          "2018-04-17T20:00:00",
          "2018-04-17T21:00:00",
          "2018-04-17T22:00:00",
          "2018-04-17T23:00:00",
          "2018-04-18T00:00:00",
          "2018-04-18T01:00:00",
          "2018-04-18T02:00:00",
          "2018-04-18T03:00:00",
          "2018-04-18T04:00:00",
          "2018-04-18T05:00:00",
          "2018-04-18T06:00:00",
          "2018-04-18T07:00:00",
          "2018-04-18T08:00:00",
          "2018-04-18T09:00:00",
          "2018-04-18T10:00:00",
          "2018-04-18T11:00:00",
          "2018-04-18T12:00:00",
          "2018-04-18T13:00:00",
          "2018-04-18T14:00:00",
          "2018-04-18T15:00:00",
          "2018-04-18T16:00:00",
          "2018-04-18T17:00:00",
          "2018-04-18T18:00:00",
          "2018-04-18T19:00:00",
          "2018-04-18T20:00:00",
          "2018-04-18T21:00:00",
          "2018-04-18T22:00:00",
          "2018-04-18T23:00:00",
          "2018-04-19T00:00:00",
          "2018-04-19T01:00:00",
          "2018-04-19T02:00:00",
          "2018-04-19T03:00:00",
          "2018-04-19T04:00:00",
          "2018-04-19T05:00:00",
          "2018-04-19T06:00:00",
          "2018-04-19T07:00:00",
          "2018-04-19T08:00:00",
          "2018-04-19T09:00:00",
          "2018-04-19T10:00:00",
          "2018-04-19T11:00:00",
          "2018-04-19T12:00:00",
          "2018-04-19T13:00:00",
          "2018-04-19T14:00:00",
          "2018-04-19T15:00:00",
          "2018-04-19T16:00:00",
          "2018-04-19T17:00:00",
          "2018-04-19T18:00:00",
          "2018-04-19T19:00:00",
          "2018-04-19T20:00:00",
          "2018-04-19T21:00:00",
          "2018-04-19T22:00:00",
          "2018-04-19T23:00:00",
          "2018-04-20T00:00:00",
          "2018-04-20T01:00:00",
          "2018-04-20T02:00:00",
          "2018-04-20T03:00:00",
          "2018-04-20T04:00:00",
          "2018-04-20T05:00:00",
          "2018-04-20T06:00:00",
          "2018-04-20T07:00:00",
          "2018-04-20T08:00:00",
          "2018-04-20T09:00:00",
          "2018-04-20T10:00:00",
          "2018-04-20T11:00:00",
          "2018-04-20T12:00:00",
          "2018-04-20T13:00:00",
          "2018-04-20T14:00:00",
          "2018-04-20T15:00:00",
          "2018-04-20T16:00:00",
          "2018-04-20T17:00:00",
          "2018-04-20T18:00:00",
          "2018-04-20T19:00:00",
          "2018-04-20T20:00:00",
          "2018-04-20T21:00:00",
          "2018-04-20T22:00:00",
          "2018-04-20T23:00:00",
          "2018-04-21T00:00:00",
          "2018-04-21T01:00:00",
          "2018-04-21T02:00:00",
          "2018-04-21T03:00:00",
          "2018-04-21T04:00:00",
          "2018-04-21T05:00:00",
          "2018-04-21T06:00:00",
          "2018-04-21T07:00:00",
          "2018-04-21T08:00:00",
          "2018-04-21T09:00:00",
          "2018-04-21T10:00:00",
          "2018-04-21T11:00:00",
          "2018-04-21T12:00:00",
          "2018-04-21T13:00:00",
          "2018-04-21T14:00:00",
          "2018-04-21T15:00:00",
          "2018-04-21T16:00:00",
          "2018-04-21T17:00:00",
          "2018-04-21T18:00:00",
          "2018-04-21T19:00:00",
          "2018-04-21T20:00:00",
          "2018-04-21T21:00:00",
          "2018-04-21T22:00:00",
          "2018-04-21T23:00:00",
          "2018-04-22T00:00:00",
          "2018-04-22T01:00:00",
          "2018-04-22T02:00:00",
          "2018-04-22T03:00:00",
          "2018-04-22T04:00:00",
          "2018-04-22T05:00:00",
          "2018-04-22T06:00:00",
          "2018-04-22T07:00:00",
          "2018-04-22T08:00:00",
          "2018-04-22T09:00:00",
          "2018-04-22T10:00:00",
          "2018-04-22T11:00:00",
          "2018-04-22T12:00:00",
          "2018-04-22T13:00:00",
          "2018-04-22T14:00:00",
          "2018-04-22T15:00:00",
          "2018-04-22T16:00:00",
          "2018-04-22T17:00:00",
          "2018-04-22T18:00:00",
          "2018-04-22T19:00:00",
          "2018-04-22T20:00:00",
          "2018-04-22T21:00:00",
          "2018-04-22T22:00:00",
          "2018-04-22T23:00:00",
          "2018-04-23T00:00:00",
          "2018-04-23T01:00:00",
          "2018-04-23T02:00:00",
          "2018-04-23T03:00:00",
          "2018-04-23T04:00:00",
          "2018-04-23T05:00:00",
          "2018-04-23T06:00:00",
          "2018-04-23T07:00:00",
          "2018-04-23T08:00:00",
          "2018-04-23T09:00:00",
          "2018-04-23T10:00:00",
          "2018-04-23T11:00:00",
          "2018-04-23T12:00:00",
          "2018-04-23T13:00:00",
          "2018-04-23T14:00:00",
          "2018-04-23T15:00:00",
          "2018-04-23T16:00:00",
          "2018-04-23T17:00:00",
          "2018-04-23T18:00:00",
          "2018-04-23T19:00:00",
          "2018-04-23T20:00:00",
          "2018-04-23T21:00:00",
          "2018-04-23T22:00:00",
          "2018-04-23T23:00:00",
          "2018-04-24T00:00:00",
          "2018-04-24T01:00:00",
          "2018-04-24T02:00:00",
          "2018-04-24T03:00:00",
          "2018-04-24T04:00:00",
          "2018-04-24T05:00:00",
          "2018-04-24T06:00:00",
          "2018-04-24T07:00:00",
          "2018-04-24T08:00:00",
          "2018-04-24T09:00:00",
          "2018-04-24T10:00:00",
          "2018-04-24T11:00:00",
          "2018-04-24T12:00:00",
          "2018-04-24T13:00:00",
          "2018-04-24T14:00:00",
          "2018-04-24T15:00:00",
          "2018-04-24T16:00:00",
          "2018-04-24T17:00:00",
          "2018-04-24T18:00:00",
          "2018-04-24T19:00:00",
          "2018-04-24T20:00:00",
          "2018-04-24T21:00:00",
          "2018-04-24T22:00:00",
          "2018-04-24T23:00:00",
          "2018-04-25T00:00:00",
          "2018-04-25T01:00:00",
          "2018-04-25T02:00:00",
          "2018-04-25T03:00:00",
          "2018-04-25T04:00:00",
          "2018-04-25T05:00:00",
          "2018-04-25T06:00:00",
          "2018-04-25T07:00:00",
          "2018-04-25T08:00:00",
          "2018-04-25T09:00:00",
          "2018-04-25T10:00:00",
          "2018-04-25T11:00:00",
          "2018-04-25T12:00:00",
          "2018-04-25T13:00:00",
          "2018-04-25T14:00:00",
          "2018-04-25T15:00:00",
          "2018-04-25T16:00:00",
          "2018-04-25T17:00:00",
          "2018-04-25T18:00:00",
          "2018-04-25T19:00:00",
          "2018-04-25T20:00:00",
          "2018-04-25T21:00:00",
          "2018-04-25T22:00:00",
          "2018-04-25T23:00:00",
          "2018-04-26T00:00:00",
          "2018-04-26T01:00:00",
          "2018-04-26T02:00:00",
          "2018-04-26T03:00:00",
          "2018-04-26T04:00:00",
          "2018-04-26T05:00:00",
          "2018-04-26T06:00:00",
          "2018-04-26T07:00:00",
          "2018-04-26T08:00:00",
          "2018-04-26T09:00:00",
          "2018-04-26T10:00:00",
          "2018-04-26T11:00:00",
          "2018-04-26T12:00:00",
          "2018-04-26T13:00:00",
          "2018-04-26T14:00:00",
          "2018-04-26T15:00:00",
          "2018-04-26T16:00:00",
          "2018-04-26T17:00:00",
          "2018-04-26T18:00:00",
          "2018-04-26T19:00:00",
          "2018-04-26T20:00:00",
          "2018-04-26T21:00:00",
          "2018-04-26T22:00:00",
          "2018-04-26T23:00:00",
          "2018-04-27T00:00:00",
          "2018-04-27T01:00:00",
          "2018-04-27T02:00:00",
          "2018-04-27T03:00:00",
          "2018-04-27T04:00:00",
          "2018-04-27T05:00:00",
          "2018-04-27T06:00:00",
          "2018-04-27T07:00:00",
          "2018-04-27T08:00:00",
          "2018-04-27T09:00:00",
          "2018-04-27T10:00:00",
          "2018-04-27T11:00:00",
          "2018-04-27T12:00:00",
          "2018-04-27T13:00:00",
          "2018-04-27T14:00:00",
          "2018-04-27T15:00:00",
          "2018-04-27T16:00:00",
          "2018-04-27T17:00:00",
          "2018-04-30T10:00:00",
          "2018-04-30T11:00:00",
          "2018-04-30T12:00:00",
          "2018-04-30T13:00:00",
          "2018-04-30T14:00:00",
          "2018-04-30T15:00:00",
          "2018-04-30T16:00:00",
          "2018-04-30T17:00:00",
          "2018-04-30T18:00:00",
          "2018-04-30T19:00:00",
          "2018-04-30T20:00:00",
          "2018-04-30T21:00:00",
          "2018-04-30T22:00:00",
          "2018-04-30T23:00:00",
          "2018-05-01T00:00:00",
          "2018-05-01T01:00:00",
          "2018-05-01T02:00:00",
          "2018-05-01T03:00:00",
          "2018-05-01T04:00:00",
          "2018-05-01T05:00:00",
          "2018-05-01T06:00:00",
          "2018-05-01T07:00:00",
          "2018-05-01T08:00:00",
          "2018-05-01T09:00:00",
          "2018-05-01T10:00:00",
          "2018-05-01T11:00:00",
          "2018-05-01T12:00:00",
          "2018-05-01T13:00:00",
          "2018-05-01T14:00:00",
          "2018-05-01T15:00:00",
          "2018-05-01T16:00:00",
          "2018-05-01T17:00:00",
          "2018-05-01T18:00:00",
          "2018-05-01T19:00:00",
          "2018-05-01T20:00:00",
          "2018-05-01T21:00:00",
          "2018-05-01T22:00:00",
          "2018-05-01T23:00:00",
          "2018-05-02T00:00:00",
          "2018-05-02T01:00:00",
          "2018-05-02T02:00:00",
          "2018-05-02T03:00:00",
          "2018-05-02T04:00:00",
          "2018-05-02T05:00:00",
          "2018-05-02T06:00:00",
          "2018-05-02T07:00:00",
          "2018-05-02T08:00:00",
          "2018-05-02T09:00:00",
          "2018-05-02T10:00:00",
          "2018-05-02T11:00:00",
          "2018-05-02T12:00:00",
          "2018-05-02T13:00:00",
          "2018-05-02T14:00:00",
          "2018-05-02T15:00:00",
          "2018-05-02T16:00:00",
          "2018-05-02T17:00:00",
          "2018-05-02T18:00:00",
          "2018-05-02T19:00:00",
          "2018-05-02T20:00:00",
          "2018-05-02T21:00:00",
          "2018-05-02T22:00:00",
          "2018-05-02T23:00:00",
          "2018-05-03T00:00:00",
          "2018-05-03T01:00:00",
          "2018-05-03T02:00:00",
          "2018-05-03T03:00:00",
          "2018-05-03T04:00:00",
          "2018-05-03T05:00:00",
          "2018-05-03T06:00:00",
          "2018-05-03T07:00:00",
          "2018-05-03T08:00:00",
          "2018-05-03T09:00:00",
          "2018-05-03T10:00:00",
          "2018-05-03T11:00:00",
          "2018-05-03T12:00:00",
          "2018-05-03T13:00:00",
          "2018-05-03T14:00:00",
          "2018-05-03T15:00:00",
          "2018-05-03T16:00:00",
          "2018-05-03T17:00:00",
          "2018-05-03T18:00:00",
          "2018-05-03T19:00:00",
          "2018-05-03T20:00:00",
          "2018-05-03T21:00:00",
          "2018-05-03T22:00:00",
          "2018-05-03T23:00:00",
          "2018-05-04T00:00:00",
          "2018-05-04T01:00:00",
          "2018-05-04T02:00:00",
          "2018-05-04T03:00:00",
          "2018-05-04T04:00:00",
          "2018-05-04T05:00:00",
          "2018-05-04T06:00:00",
          "2018-05-04T07:00:00",
          "2018-05-04T08:00:00",
          "2018-05-04T09:00:00",
          "2018-05-04T10:00:00",
          "2018-05-04T11:00:00",
          "2018-05-04T12:00:00",
          "2018-05-04T13:00:00",
          "2018-05-04T14:00:00",
          "2018-05-04T15:00:00",
          "2018-05-04T16:00:00",
          "2018-05-04T17:00:00",
          "2018-05-04T18:00:00",
          "2018-05-04T19:00:00",
          "2018-05-04T20:00:00",
          "2018-05-04T21:00:00",
          "2018-05-04T22:00:00",
          "2018-05-04T23:00:00",
          "2018-05-05T00:00:00",
          "2018-05-05T01:00:00",
          "2018-05-05T02:00:00",
          "2018-05-05T03:00:00",
          "2018-05-05T04:00:00",
          "2018-05-05T05:00:00",
          "2018-05-05T06:00:00",
          "2018-05-05T07:00:00",
          "2018-05-05T08:00:00",
          "2018-05-05T09:00:00",
          "2018-05-05T10:00:00",
          "2018-05-05T11:00:00",
          "2018-05-05T12:00:00",
          "2018-05-05T13:00:00",
          "2018-05-05T14:00:00",
          "2018-05-05T15:00:00",
          "2018-05-05T16:00:00",
          "2018-05-05T17:00:00",
          "2018-05-05T18:00:00",
          "2018-05-05T19:00:00",
          "2018-05-05T20:00:00",
          "2018-05-05T21:00:00",
          "2018-05-05T22:00:00",
          "2018-05-05T23:00:00",
          "2018-05-06T00:00:00",
          "2018-05-06T01:00:00",
          "2018-05-06T02:00:00",
          "2018-05-06T03:00:00",
          "2018-05-06T04:00:00",
          "2018-05-06T05:00:00",
          "2018-05-06T06:00:00",
          "2018-05-06T07:00:00",
          "2018-05-06T08:00:00",
          "2018-05-06T09:00:00",
          "2018-05-06T10:00:00",
          "2018-05-06T11:00:00",
          "2018-05-06T12:00:00",
          "2018-05-06T13:00:00",
          "2018-05-06T14:00:00",
          "2018-05-06T15:00:00",
          "2018-05-06T16:00:00",
          "2018-05-06T17:00:00",
          "2018-05-06T18:00:00",
          "2018-05-06T19:00:00",
          "2018-05-06T20:00:00",
          "2018-05-06T21:00:00",
          "2018-05-06T22:00:00",
          "2018-05-06T23:00:00",
          "2018-05-07T00:00:00",
          "2018-05-07T01:00:00",
          "2018-05-07T02:00:00",
          "2018-05-07T03:00:00",
          "2018-05-07T04:00:00",
          "2018-05-07T05:00:00",
          "2018-05-07T06:00:00",
          "2018-05-07T07:00:00",
          "2018-05-07T08:00:00",
          "2018-05-07T09:00:00",
          "2018-05-07T10:00:00",
          "2018-05-07T11:00:00",
          "2018-05-07T12:00:00",
          "2018-05-07T13:00:00",
          "2018-05-07T14:00:00",
          "2018-05-07T15:00:00",
          "2018-05-07T16:00:00",
          "2018-05-07T17:00:00",
          "2018-05-07T18:00:00",
          "2018-05-07T19:00:00",
          "2018-05-07T20:00:00",
          "2018-05-07T21:00:00",
          "2018-05-07T22:00:00",
          "2018-05-07T23:00:00",
          "2018-05-08T00:00:00",
          "2018-05-08T01:00:00",
          "2018-05-08T02:00:00",
          "2018-05-08T03:00:00",
          "2018-05-08T04:00:00",
          "2018-05-08T05:00:00",
          "2018-05-08T06:00:00",
          "2018-05-08T07:00:00",
          "2018-05-08T08:00:00",
          "2018-05-08T09:00:00",
          "2018-05-08T10:00:00",
          "2018-05-08T11:00:00",
          "2018-05-08T12:00:00",
          "2018-05-08T13:00:00",
          "2018-05-08T14:00:00",
          "2018-05-08T15:00:00",
          "2018-05-08T16:00:00",
          "2018-05-08T17:00:00",
          "2018-05-08T18:00:00",
          "2018-05-08T19:00:00",
          "2018-05-08T20:00:00",
          "2018-05-08T21:00:00",
          "2018-05-08T22:00:00",
          "2018-05-08T23:00:00",
          "2018-05-09T00:00:00",
          "2018-05-09T01:00:00",
          "2018-05-09T02:00:00",
          "2018-05-09T03:00:00"
         ],
         "xaxis": "x",
         "y": [
          -200,
          -200,
          -200,
          -199.0084,
          -196.88110625,
          -193.2868428571428,
          -192.97296666666665,
          -198.4169535714286,
          354.20960232558133,
          1075.189389655172,
          1178.8042241379314,
          1175.3557586206896,
          1188.5205344827584,
          1173.830189655172,
          1116.6783103448277,
          1097.437844827586,
          1098.0878965517238,
          1080.5144137931034,
          1092.967,
          1094.926844827586,
          1092.765482758621,
          1100.6254310344827,
          1094.2807586206895,
          1101.04224137931,
          1101.2059827586206,
          1102.1333275862062,
          1095.4642068965518,
          1099.2197241379308,
          868.5494396551723,
          -23.04577735849057,
          -182.879325,
          1555.3813891919515,
          1555.3813891919515,
          -198.59814347826088,
          -195.7485,
          -197.60747,
          -194.4281615384616,
          -191.8059055555555,
          -39.10194761904762,
          227.8903,
          944.3395224137932,
          1074.8355206896551,
          1303.5653448275862,
          1548.038362068965,
          1664.4050862068964,
          1670.446637931035,
          1663.240224137931,
          1654.804327586207,
          1636.7640689655182,
          1654.0493571428565,
          1658.6633962264152,
          1637.887448275862,
          1632.169155172414,
          1638.220775862069,
          1644.494051724138,
          1643.7030344827583,
          1591.189258620689,
          1600.0598620689657,
          1633.655431034483,
          1646.309827586207,
          1663.3726379310338,
          1655.1974137931036,
          1662.4205862068964,
          1691.9656034482764,
          1706.8243793103445,
          1723.9498448275865,
          1722.9211896551722,
          1758.414189655172,
          1770.0999999999992,
          1758.8330344827589,
          1758.0682758620694,
          1724.080086206896,
          1704.4734655172415,
          1736.1974827586207,
          1800.2315344827582,
          1842.2330862068968,
          1886.246551724138,
          1894.532810344828,
          1890.4581551724143,
          1914.0437586206888,
          1905.4175517241383,
          1893.253344827586,
          1933.398913793104,
          1940.70852,
          1914.1754905660373,
          1895.332086206896,
          1886.599724137932,
          1911.6099482758625,
          1894.5067758620687,
          1951.9963965517245,
          1871.889827586206,
          1893.1039827586203,
          1882.6725689655173,
          1864.764258620689,
          1873.5896379310336,
          1856.199103448276,
          1869.062379310344,
          1832.952810344828,
          1807.368620689656,
          1807.9046551724136,
          1790.2635862068971,
          1809.433913793104,
          1788.7814482758622,
          1837.1295,
          1815.571344827587,
          1790.7617413793105,
          1781.6668793103447,
          1795.4475000000002,
          1800.3105344827588,
          1840.192465517241,
          1875.086879310344,
          1849.8661379310345,
          1891.7633793103453,
          1850.2194137931024,
          1867.5749482758613,
          1811.145,
          1821.8919655172413,
          1846.6253636363635,
          1835.63641509434,
          1838.016517241379,
          1812.6088793103445,
          1785.0972241379309,
          1732.1937758620682,
          1719.7221724137926,
          1712.2618103448276,
          1719.578810344828,
          1725.4654482758615,
          1731.3126724137933,
          1743.3256724137923,
          1759.0120172413797,
          1775.6928965517243,
          1727.7309137931031,
          1706.1431724137926,
          1721.024344827587,
          1716.9724655172413,
          1747.897465517241,
          1741.3737586206892,
          1775.01374137931,
          1742.3341034482758,
          1748.3301551724137,
          1749.096879310344,
          1759.9568448275866,
          1794.769862068965,
          1786.6864655172412,
          1770.3534137931035,
          1787.2814827586203,
          1845.226206896552,
          1793.470431034483,
          1793.234965517241,
          1703.0063103448274,
          1756.9351454545456,
          1755.523,
          1771.105962264151,
          1685.3355,
          1723.5306896551729,
          1783.3700344827591,
          1824.362586206896,
          1812.5315689655167,
          1807.1253275862068,
          1750.768827586207,
          1732.7575689655173,
          1712.7720689655164,
          1712.746155172414,
          1707.511310344827,
          1721.766793103449,
          1722.2295344827585,
          1769.1770517241378,
          1764.826465517241,
          1747.1349482758624,
          1775.009137931035,
          1716.5051206896555,
          1729.1945689655165,
          1744.7171206896553,
          1734.7582758620683,
          1735.4781724137924,
          1743.5960344827586,
          1770.2946034482757,
          1727.4701206896557,
          1661.8756896551722,
          1657.310275862069,
          1687.8868965517247,
          1694.4939999999997,
          1700.879385964912,
          1691.5889137931035,
          1687.9333103448278,
          1628.1103809523809,
          1634.028377358491,
          1660.5757241379308,
          1647.6287413793102,
          1663.2471034482753,
          1679.6197500000003,
          1676.5441960784317,
          1679.4326724137925,
          1671.8570862068964,
          1685.2176724137933,
          1679.5070344827584,
          1668.7429310344828,
          1700.7918620689668,
          1742.84324137931,
          1732.0846551724137,
          1811.0515689655176,
          1900.6487413793104,
          1961.654637931034,
          1901.899034482759,
          1882.991706896552,
          1912.0057758620687,
          1946.866068965517,
          1916.3024310344829,
          1901.3032413793103,
          1941.0072500000008,
          1938.7056037735845,
          1983.158827586206,
          2015.0357413793104,
          2012.809379310345,
          2003.8523448275864,
          1997.7600862068969,
          1996.4786896551727,
          1960.640482758621,
          1966.5882758620687,
          1777.6481724137936,
          1711.5076724137923,
          1703.9370517241375,
          1775.7865344827585,
          1743.474517241379,
          1737.8886896551724,
          1808.0111379310345,
          1866.509103448276,
          1943.8048793103449,
          1913.197879310345,
          1918.4997586206905,
          2006.1289122807016,
          2011.410775862069,
          1935.57301724138,
          1910.308689655172,
          1787.7723965517243,
          1592.67124137931,
          1572.6294137931034,
          1585.6450517241378,
          1618.156,
          1622.7942156862746,
          1593.1594827586205,
          1553.88,
          1538.1589811320762,
          1508.0695172413791,
          1474.9879827586203,
          1446.449293103448,
          1479.4248965517238,
          1433.050551724138,
          1430.3451551724136,
          1429.74475862069,
          1480.9545172413798,
          1511.070431034483,
          1510.489482758621,
          1518.1300689655177,
          1485.1455517241384,
          1487.8484482758624,
          1486.7707241379303,
          1481.8441551724134,
          1488.8053965517247,
          1491.8188793103443,
          1432.8938965517234,
          1430.0218793103454,
          1427.1988448275863,
          1424.2442586206896,
          1425.5893275862074,
          1420.5107068965517,
          1411.7146896551726,
          1420.5586724137931,
          1421.2699310344824,
          1475.524293103448,
          1419.3444655172416,
          1351.1131896551724,
          1341.2097586206896,
          1482.9797068965518,
          1374.496655172414,
          1524.1032181818175,
          1450.439448275862,
          1354.5995344827584,
          1459.1138448275858,
          1342.4651379310349,
          1531.5894827586208,
          1489.4934137931034,
          1485.9331551724138,
          1484.1353965517244,
          1484.6074827586203,
          1484.785155172414,
          1484.8387413793107,
          1479.402241379311,
          1488.1728448275867,
          1484.4275172413793,
          1483.7281379310346,
          1483.281103448276,
          1485.5376034482758,
          1483.1819827586207,
          1485.765775862069,
          1489.2542241379313,
          1488.684017241379,
          1492.3429655172415,
          1492.242068965517,
          1490.461844827587,
          1486.2642413793112,
          1483.027551724138,
          1485.848482758621,
          1487.5760517241383,
          1488.661551724138,
          1486.6645000000003,
          1483.518879310345,
          1487.8503620689662,
          1489.1130181818182,
          1487.5988103448276,
          1486.193068965517,
          1483.891327586207,
          1488.076431034483,
          1496.8576896551724,
          1491.043051724138,
          1485.299913793103,
          1482.5672068965514,
          1484.907396551724,
          1488.020672413793,
          1489.8152758620693,
          1489.4228793103446,
          1493.327189655172,
          1492.879155172414,
          1482.9108448275858,
          1486.2180172413796,
          1483.419206896552,
          1482.0001724137928,
          1483.3965862068962,
          1482.1861034482763,
          1480.681844827586,
          1480.2785862068963,
          1479.7286896551725,
          1479.7976206896556,
          1481.8332758620688,
          1474.8159655172412,
          1477.5177931034482,
          1475.3712068965517,
          1469.6698275862068,
          1483.1273793103446,
          1485.757741379311,
          1480.8256034482763,
          1494.867909090909,
          1481.129509433962,
          1485.340568965517,
          1498.5518103448271,
          1486.4146551724136,
          1501.013275862069,
          1511.9939482758616,
          1553.2951551724136,
          1576.4419827586205,
          1574.2011551724136,
          1572.3031206896555,
          1554.296327586207,
          1555.6777758620688,
          1551.3975517241386,
          1544.4028620689655,
          1523.3013275862063,
          1496.1213448275855,
          1486.0893103448284,
          1479.7256896551723,
          1478.344982758621,
          1469.1085689655174,
          1468.5832586206898,
          1472.4557586206893,
          1480.7037758620693,
          1480.9904310344823,
          1474.0599137931033,
          1466.6201896551725,
          1482.8406603448277,
          1252.745344827586,
          1275.7711206896552,
          1278.176758620689,
          1279.8031551724132,
          1283.4573275862067,
          1282.1538103448272,
          1284.3146315789472,
          1254.3874716981134,
          1273.0025000000005,
          1301.1391724137934,
          1317.93775862069,
          1317.5290689655176,
          1299.7603620689658,
          1295.3545862068966,
          1306.5217413793105,
          1309.8215000000002,
          1319.2616206896548,
          1319.093275862069,
          1302.9672413793105,
          1322.3525172413792,
          1334.3617241379316,
          1316.7047931034483,
          1313.845948275862,
          1309.724637931035,
          1325.0761379310345,
          1354.8595719298244,
          1350.098637931034,
          1346.346,
          1352.2798448275862,
          1348.8631896551726,
          1343.2030517241378,
          1359.042293103448,
          1272.1155172413792,
          1257.460068965517,
          1303.190931034483,
          1343.6675862068969,
          1325.6766034482755,
          1312.7434137931036,
          1318.1441206896548,
          1307.8499,
          1301.6834150943394,
          1310.317327586207,
          1337.960172413793,
          1330.0439482758616,
          1330.7239137931033,
          1319.786603448276,
          1321.3957931034483,
          1304.7860172413789,
          1298.0105517241377,
          1331.1492241379317,
          1359.9967413793102,
          1372.111534482759,
          1368.1677758620688,
          1325.61274137931,
          1346.4003620689657,
          1370.7612413793104,
          1366.0426724137926,
          1347.3645689655182,
          1342.1692413793096,
          1336.123051724138,
          1324.8159310344822,
          1317.763431034483,
          1328.449551724138,
          1339.2082068965522,
          1350.6361379310345,
          1288.727948275862,
          1259.9350172413792,
          1256.562224137931,
          1267.7704827586206,
          1241.4867241379316,
          1247.9843793103448,
          1260.4863620689655,
          1255.4975689655168,
          1226.8451000000002,
          1269.999905660378,
          1262.355724137931,
          1267.5997413793102,
          1259.2546724137928,
          1251.86525862069,
          1260.121568965517,
          1258.5110344827588,
          1254.0749827586203,
          1253.094017241379,
          1257.2164827586205,
          1247.7541034482758,
          1247.8166379310346,
          1246.5973275862073,
          1255.3922758620688,
          1255.36975862069,
          1255.7953793103447,
          1248.108620689655,
          1238.186948275862,
          1236.7612068965518,
          1246.5861206896548,
          1261.8454827586202,
          1287.5090517241376,
          1266.203620689655,
          1300.763396551724,
          1312.4680172413791,
          1318.0645517241378,
          1268.666172413793,
          1513.3207931034483,
          1457.9955344827588,
          1480.0084137931042,
          1502.3049827586203,
          1505.4987931034486,
          1541.5100689655176,
          1540.346222222222,
          1430.4705471698117,
          1366.691517241379,
          1373.204706896552,
          1379.8238620689658,
          1410.3022105263158,
          1382.505655172414,
          1366.145068965517,
          1387.1533965517242,
          1364.2834137931031,
          1418.807672413793,
          1398.854413793103,
          1419.9859137931037,
          1420.8776206896555,
          1410.846206896552,
          1390.505137931034,
          1399.412017241379,
          1428.4756724137933,
          1418.4215344827585,
          1543.8455689655175,
          1643.7167758620694,
          1595.5153275862071,
          1515.8251896551728,
          1449.3088070175438,
          1486.7401034482757,
          1507.985224137931,
          1494.4735862068962,
          1508.4855344827583,
          1489.0101551724142,
          1559.557362068966,
          1554.7933793103446,
          1527.9573620689655,
          1570.5835862068966,
          1588.5644482758623,
          1592.9496585365855,
          1590.6256603773586,
          1576.1470172413794,
          1621.17075862069,
          1578.6583793103448,
          1555.3023275862067,
          1528.4283448275864,
          1596.3469655172407,
          1631.6452068965525,
          1598.251431034483,
          1563.7142758620694,
          1606.6278103448274,
          1584.139275862069,
          1561.784931034482,
          1592.8075,
          1621.70424137931,
          1605.9118793103448,
          1588.6981034482758,
          1564.5665172413796,
          1606.800948275862,
          1619.5726034482757,
          1611.9450344827587,
          1660.067431034483,
          1648.908210526316,
          1553.4878448275863,
          1545.5974137931037,
          1564.0631206896553,
          1632.9686896551725,
          1649.841982758621,
          1619.0255862068962,
          1608.04248275862,
          1626.7436379310343,
          1621.5331034482758,
          1584.7728793103447,
          1574.0304090909092,
          1469.225358490566,
          1506.065120689655,
          1502.919879310345,
          1507.5267758620698,
          1505.967775862069,
          1520.5762931034485,
          1513.1265172413796,
          1474.4515517241382,
          1532.6648620689657,
          1520.9449310344828,
          1539.877017241379,
          1477.6639827586205,
          1458.1334655172416,
          1424.644310344827,
          1401.296396551724,
          1440.8327758620692,
          1506.390448275862,
          1475.417034482758,
          1467.1198620689656,
          1525.4117241379308,
          1570.5091551724138,
          1554.2160517241375,
          1555.3907758620692,
          1514.9624827586206,
          1506.6446379310348,
          1543.009948275862,
          1533.736293103449,
          1529.8824482758623,
          1533.7744310344822,
          1553.8848620689655,
          1565.747793103448,
          1581.1944482758624,
          1578.6714655172414,
          1607.8295454545455,
          1620.184283018868,
          1664.6026379310354,
          1649.6055344827585,
          1666.1981896551729,
          1673.758413793104,
          1732.0166896551725,
          1741.7236206896553,
          1742.598517241379,
          1639.311965517241,
          1592.7914137931032,
          1635.5964137931037,
          1653.6280517241378,
          1680.9758965517242,
          1739.539724137931,
          1729.8878103448278,
          1623.7391896551726,
          1673.6919482758626,
          1672.0532758620689,
          1670.3039137931032,
          1680.2455172413786,
          1695.1420172413796,
          1670.6953275862072,
          1614.5856896551722,
          1615.136620689655,
          1606.2598793103443,
          1630.3693793103448,
          1665.2873103448285,
          1694.4097758620694,
          1683.6610862068965,
          1707.7953103448278,
          1634.707,
          1557.800137931035,
          1572.9727068965522,
          1502.9028,
          1728.9672857142853,
          1721.2419482758623,
          1731.1971379310346,
          1700.1568620689652,
          1655.855086206896,
          1634.3734999999997,
          1662.9799137931034,
          1662.3344482758623,
          1634.0985862068962,
          1607.4031206896552,
          1566.597655172414,
          1597.3931206896557,
          1584.412568965517,
          1569.9437931034486,
          1544.566810344828,
          1553.4682413793105,
          1570.3722931034483,
          1545.2460689655177,
          1479.730982758621,
          1460.5254137931038,
          1477.4429655172416,
          1445.4884310344833,
          1511.7604827586208,
          1493.2577758620691,
          1508.7945517241374,
          1637.0136379310345,
          1615.7428103448278,
          1651.7511379310347,
          1657.3049827586212,
          1693.9661034482758,
          1699.7297068965513,
          1665.8896724137928,
          1644.8256428571428,
          1683.3945660377362,
          1648.921413793103,
          1709.8944137931032,
          1721.1167758620693,
          1698.9778965517246,
          1695.784068965517,
          1690.337189655173,
          1693.1186034482753,
          1708.9349482758623,
          1704.4379137931032,
          1702.0350517241382,
          1699.4636206896548,
          1729.33625862069,
          1728.121913793103,
          1715.5565000000008,
          1731.0031896551725,
          1762.0135344827586,
          1793.2786379310348,
          1775.220310344827,
          1770.281637931034,
          1739.0010000000004,
          1676.2629827586209,
          1626.6443448275863,
          1627.0173793103445,
          1654.312327586207,
          1655.3259482758615,
          1657.2743965517238,
          1722.2361724137936,
          1674.8547931034482,
          1638.4366206896552,
          1454.0873448275863,
          1475.1440172413795,
          1458.3489772727278,
          1635.114724137931,
          1640.2696034482756,
          1581.9374999999995,
          1587.1177413793102,
          1579.5956551724137,
          1638.7349310344823,
          1680.3860000000006,
          1691.5877413793112,
          1718.8908620689651,
          1690.2322758620694,
          1738.523810344827,
          1699.0828448275863,
          1676.4188275862066,
          1644.6396551724135,
          1598.7016896551725,
          1629.300275862069,
          1706.2129137931036,
          1845.6805344827587,
          1897.667724137932,
          1896.2457758620696,
          1867.3173965517249,
          1843.973034482759,
          1834.263706896552,
          1835.815293103448,
          1878.7191896551728,
          2045.0978448275853,
          2007.519068965517,
          1955.400482758621,
          1916.1508103448268,
          1930.8318275862075,
          1978.023413793103,
          1976.1010689655168,
          1969.8276875000004,
          2015.6933018867924,
          1986.4709310344824,
          2024.9871551724136,
          2021.131603448276,
          2002.2843620689653,
          1957.6689655172408,
          1956.043879310345,
          1980.3203965517243,
          1990.113948275862,
          1982.004344827586,
          1944.7481896551733,
          1837.0953448275864,
          1808.3262931034485,
          1806.4125689655173,
          1839.4043448275856,
          1864.8308620689647,
          1870.4126379310344,
          1877.203396551724,
          1887.8112241379315,
          1849.341120689656,
          1831.8283103448275,
          1884.612672413793,
          1861.132551724137,
          1794.438827586207,
          1785.094620689655,
          1826.003310344828,
          1784.8449655172417,
          1747.2922241379306,
          1786.6688793103458,
          1796.4768620689654,
          1873.0651551724127,
          1910.46698275862,
          1795.818913793103,
          1769.4964727272727,
          1708.7161034482765,
          1673.0271724137929,
          1635.555879310345,
          1639.0573965517235,
          1628.3902413793105,
          1655.920793103449,
          1551.8351551724136,
          1612.3484310344825,
          1579.8264655172416,
          1616.5090862068964,
          1552.2847586206892,
          1602.3947758620684,
          1651.2061379310346,
          1645.2404310344823,
          1698.349137931034,
          1681.17924137931,
          1660.133586206896,
          1667.1257931034486,
          1693.705120689655,
          1764.442482758621,
          1725.5042586206905,
          1740.9117758620685,
          1746.8999655172415,
          1762.7953275862062,
          1691.6323965517242,
          1637.1348103448283,
          1639.9056724137934,
          1599.3827931034484,
          1598.228706896551,
          1593.8825172413788,
          1558.7210344827588,
          1567.8889827586204,
          1585.417685185185,
          1608.3342241379312,
          1609.4167413793102,
          1600.5697241379305,
          1609.551206896551,
          1661.8607931034478,
          1676.7032931034482,
          1696.9369310344823,
          1739.0500000000002,
          1729.521793103448,
          1754.3405862068962,
          1712.7611896551728,
          1719.9471379310346,
          1714.8016379310334,
          1699.9373620689655,
          1617.2122413793095,
          1635.5293448275866,
          1637.481465517241,
          1667.4024310344828,
          1680.268137931034,
          1593.9570172413796,
          1609.519586206897,
          1605.3772068965525,
          1680.275068965517,
          1703.6903103448274,
          1687.7092241379307,
          1658.2367413793106,
          1624.2428448275862,
          1619.3206724137929,
          1726.878396551724,
          1684.836620689655,
          1725.6307931034482,
          1730.6942068965518,
          1735.0398363636364,
          1688.0798448275862,
          1580.7827241379307,
          1591.246103448275,
          1662.0891551724142,
          1686.993172413793,
          1690.736224137931,
          1662.7961724137926,
          1719.7738103448278,
          1728.1881379310346,
          1607.907103448275,
          1631.6817413793108
         ],
         "yaxis": "y"
        },
        {
         "mode": "markers",
         "name": "outliers",
         "type": "scatter",
         "x": [
          "2018-03-26T01:00:00",
          "2018-03-26T09:00:00",
          "2018-03-27T10:00:00",
          "2018-03-28T20:00:00",
          "2018-03-29T18:00:00",
          "2018-03-30T02:00:00",
          "2018-03-30T06:00:00",
          "2018-03-30T14:00:00",
          "2018-03-30T17:00:00",
          "2018-03-31T14:00:00",
          "2018-03-31T16:00:00",
          "2018-04-01T15:00:00",
          "2018-04-01T23:00:00",
          "2018-04-02T01:00:00",
          "2018-04-02T09:00:00",
          "2018-04-02T16:00:00",
          "2018-04-02T23:00:00",
          "2018-04-03T00:00:00"
         ],
         "y": [
          -200,
          -200,
          -200,
          -199.0084,
          -196.88110625,
          -193.2868428571428,
          -192.97296666666665,
          -198.4169535714286,
          354.20960232558133,
          -23.04577735849057,
          -182.879325,
          -198.59814347826088,
          -195.7485,
          -197.60747,
          -194.4281615384616,
          -191.8059055555555,
          -39.10194761904762,
          227.8903
         ]
        }
       ],
       "layout": {
        "legend": {
         "tracegroupgap": 0
        },
        "template": {
         "data": {
          "bar": [
           {
            "error_x": {
             "color": "#2a3f5f"
            },
            "error_y": {
             "color": "#2a3f5f"
            },
            "marker": {
             "line": {
              "color": "#E5ECF6",
              "width": 0.5
             },
             "pattern": {
              "fillmode": "overlay",
              "size": 10,
              "solidity": 0.2
             }
            },
            "type": "bar"
           }
          ],
          "barpolar": [
           {
            "marker": {
             "line": {
              "color": "#E5ECF6",
              "width": 0.5
             },
             "pattern": {
              "fillmode": "overlay",
              "size": 10,
              "solidity": 0.2
             }
            },
            "type": "barpolar"
           }
          ],
          "carpet": [
           {
            "aaxis": {
             "endlinecolor": "#2a3f5f",
             "gridcolor": "white",
             "linecolor": "white",
             "minorgridcolor": "white",
             "startlinecolor": "#2a3f5f"
            },
            "baxis": {
             "endlinecolor": "#2a3f5f",
             "gridcolor": "white",
             "linecolor": "white",
             "minorgridcolor": "white",
             "startlinecolor": "#2a3f5f"
            },
            "type": "carpet"
           }
          ],
          "choropleth": [
           {
            "colorbar": {
             "outlinewidth": 0,
             "ticks": ""
            },
            "type": "choropleth"
           }
          ],
          "contour": [
           {
            "colorbar": {
             "outlinewidth": 0,
             "ticks": ""
            },
            "colorscale": [
             [
              0,
              "#0d0887"
             ],
             [
              0.1111111111111111,
              "#46039f"
             ],
             [
              0.2222222222222222,
              "#7201a8"
             ],
             [
              0.3333333333333333,
              "#9c179e"
             ],
             [
              0.4444444444444444,
              "#bd3786"
             ],
             [
              0.5555555555555556,
              "#d8576b"
             ],
             [
              0.6666666666666666,
              "#ed7953"
             ],
             [
              0.7777777777777778,
              "#fb9f3a"
             ],
             [
              0.8888888888888888,
              "#fdca26"
             ],
             [
              1,
              "#f0f921"
             ]
            ],
            "type": "contour"
           }
          ],
          "contourcarpet": [
           {
            "colorbar": {
             "outlinewidth": 0,
             "ticks": ""
            },
            "type": "contourcarpet"
           }
          ],
          "heatmap": [
           {
            "colorbar": {
             "outlinewidth": 0,
             "ticks": ""
            },
            "colorscale": [
             [
              0,
              "#0d0887"
             ],
             [
              0.1111111111111111,
              "#46039f"
             ],
             [
              0.2222222222222222,
              "#7201a8"
             ],
             [
              0.3333333333333333,
              "#9c179e"
             ],
             [
              0.4444444444444444,
              "#bd3786"
             ],
             [
              0.5555555555555556,
              "#d8576b"
             ],
             [
              0.6666666666666666,
              "#ed7953"
             ],
             [
              0.7777777777777778,
              "#fb9f3a"
             ],
             [
              0.8888888888888888,
              "#fdca26"
             ],
             [
              1,
              "#f0f921"
             ]
            ],
            "type": "heatmap"
           }
          ],
          "heatmapgl": [
           {
            "colorbar": {
             "outlinewidth": 0,
             "ticks": ""
            },
            "colorscale": [
             [
              0,
              "#0d0887"
             ],
             [
              0.1111111111111111,
              "#46039f"
             ],
             [
              0.2222222222222222,
              "#7201a8"
             ],
             [
              0.3333333333333333,
              "#9c179e"
             ],
             [
              0.4444444444444444,
              "#bd3786"
             ],
             [
              0.5555555555555556,
              "#d8576b"
             ],
             [
              0.6666666666666666,
              "#ed7953"
             ],
             [
              0.7777777777777778,
              "#fb9f3a"
             ],
             [
              0.8888888888888888,
              "#fdca26"
             ],
             [
              1,
              "#f0f921"
             ]
            ],
            "type": "heatmapgl"
           }
          ],
          "histogram": [
           {
            "marker": {
             "pattern": {
              "fillmode": "overlay",
              "size": 10,
              "solidity": 0.2
             }
            },
            "type": "histogram"
           }
          ],
          "histogram2d": [
           {
            "colorbar": {
             "outlinewidth": 0,
             "ticks": ""
            },
            "colorscale": [
             [
              0,
              "#0d0887"
             ],
             [
              0.1111111111111111,
              "#46039f"
             ],
             [
              0.2222222222222222,
              "#7201a8"
             ],
             [
              0.3333333333333333,
              "#9c179e"
             ],
             [
              0.4444444444444444,
              "#bd3786"
             ],
             [
              0.5555555555555556,
              "#d8576b"
             ],
             [
              0.6666666666666666,
              "#ed7953"
             ],
             [
              0.7777777777777778,
              "#fb9f3a"
             ],
             [
              0.8888888888888888,
              "#fdca26"
             ],
             [
              1,
              "#f0f921"
             ]
            ],
            "type": "histogram2d"
           }
          ],
          "histogram2dcontour": [
           {
            "colorbar": {
             "outlinewidth": 0,
             "ticks": ""
            },
            "colorscale": [
             [
              0,
              "#0d0887"
             ],
             [
              0.1111111111111111,
              "#46039f"
             ],
             [
              0.2222222222222222,
              "#7201a8"
             ],
             [
              0.3333333333333333,
              "#9c179e"
             ],
             [
              0.4444444444444444,
              "#bd3786"
             ],
             [
              0.5555555555555556,
              "#d8576b"
             ],
             [
              0.6666666666666666,
              "#ed7953"
             ],
             [
              0.7777777777777778,
              "#fb9f3a"
             ],
             [
              0.8888888888888888,
              "#fdca26"
             ],
             [
              1,
              "#f0f921"
             ]
            ],
            "type": "histogram2dcontour"
           }
          ],
          "mesh3d": [
           {
            "colorbar": {
             "outlinewidth": 0,
             "ticks": ""
            },
            "type": "mesh3d"
           }
          ],
          "parcoords": [
           {
            "line": {
             "colorbar": {
              "outlinewidth": 0,
              "ticks": ""
             }
            },
            "type": "parcoords"
           }
          ],
          "pie": [
           {
            "automargin": true,
            "type": "pie"
           }
          ],
          "scatter": [
           {
            "fillpattern": {
             "fillmode": "overlay",
             "size": 10,
             "solidity": 0.2
            },
            "type": "scatter"
           }
          ],
          "scatter3d": [
           {
            "line": {
             "colorbar": {
              "outlinewidth": 0,
              "ticks": ""
             }
            },
            "marker": {
             "colorbar": {
              "outlinewidth": 0,
              "ticks": ""
             }
            },
            "type": "scatter3d"
           }
          ],
          "scattercarpet": [
           {
            "marker": {
             "colorbar": {
              "outlinewidth": 0,
              "ticks": ""
             }
            },
            "type": "scattercarpet"
           }
          ],
          "scattergeo": [
           {
            "marker": {
             "colorbar": {
              "outlinewidth": 0,
              "ticks": ""
             }
            },
            "type": "scattergeo"
           }
          ],
          "scattergl": [
           {
            "marker": {
             "colorbar": {
              "outlinewidth": 0,
              "ticks": ""
             }
            },
            "type": "scattergl"
           }
          ],
          "scattermapbox": [
           {
            "marker": {
             "colorbar": {
              "outlinewidth": 0,
              "ticks": ""
             }
            },
            "type": "scattermapbox"
           }
          ],
          "scatterpolar": [
           {
            "marker": {
             "colorbar": {
              "outlinewidth": 0,
              "ticks": ""
             }
            },
            "type": "scatterpolar"
           }
          ],
          "scatterpolargl": [
           {
            "marker": {
             "colorbar": {
              "outlinewidth": 0,
              "ticks": ""
             }
            },
            "type": "scatterpolargl"
           }
          ],
          "scatterternary": [
           {
            "marker": {
             "colorbar": {
              "outlinewidth": 0,
              "ticks": ""
             }
            },
            "type": "scatterternary"
           }
          ],
          "surface": [
           {
            "colorbar": {
             "outlinewidth": 0,
             "ticks": ""
            },
            "colorscale": [
             [
              0,
              "#0d0887"
             ],
             [
              0.1111111111111111,
              "#46039f"
             ],
             [
              0.2222222222222222,
              "#7201a8"
             ],
             [
              0.3333333333333333,
              "#9c179e"
             ],
             [
              0.4444444444444444,
              "#bd3786"
             ],
             [
              0.5555555555555556,
              "#d8576b"
             ],
             [
              0.6666666666666666,
              "#ed7953"
             ],
             [
              0.7777777777777778,
              "#fb9f3a"
             ],
             [
              0.8888888888888888,
              "#fdca26"
             ],
             [
              1,
              "#f0f921"
             ]
            ],
            "type": "surface"
           }
          ],
          "table": [
           {
            "cells": {
             "fill": {
              "color": "#EBF0F8"
             },
             "line": {
              "color": "white"
             }
            },
            "header": {
             "fill": {
              "color": "#C8D4E3"
             },
             "line": {
              "color": "white"
             }
            },
            "type": "table"
           }
          ]
         },
         "layout": {
          "annotationdefaults": {
           "arrowcolor": "#2a3f5f",
           "arrowhead": 0,
           "arrowwidth": 1
          },
          "autotypenumbers": "strict",
          "coloraxis": {
           "colorbar": {
            "outlinewidth": 0,
            "ticks": ""
           }
          },
          "colorscale": {
           "diverging": [
            [
             0,
             "#8e0152"
            ],
            [
             0.1,
             "#c51b7d"
            ],
            [
             0.2,
             "#de77ae"
            ],
            [
             0.3,
             "#f1b6da"
            ],
            [
             0.4,
             "#fde0ef"
            ],
            [
             0.5,
             "#f7f7f7"
            ],
            [
             0.6,
             "#e6f5d0"
            ],
            [
             0.7,
             "#b8e186"
            ],
            [
             0.8,
             "#7fbc41"
            ],
            [
             0.9,
             "#4d9221"
            ],
            [
             1,
             "#276419"
            ]
           ],
           "sequential": [
            [
             0,
             "#0d0887"
            ],
            [
             0.1111111111111111,
             "#46039f"
            ],
            [
             0.2222222222222222,
             "#7201a8"
            ],
            [
             0.3333333333333333,
             "#9c179e"
            ],
            [
             0.4444444444444444,
             "#bd3786"
            ],
            [
             0.5555555555555556,
             "#d8576b"
            ],
            [
             0.6666666666666666,
             "#ed7953"
            ],
            [
             0.7777777777777778,
             "#fb9f3a"
            ],
            [
             0.8888888888888888,
             "#fdca26"
            ],
            [
             1,
             "#f0f921"
            ]
           ],
           "sequentialminus": [
            [
             0,
             "#0d0887"
            ],
            [
             0.1111111111111111,
             "#46039f"
            ],
            [
             0.2222222222222222,
             "#7201a8"
            ],
            [
             0.3333333333333333,
             "#9c179e"
            ],
            [
             0.4444444444444444,
             "#bd3786"
            ],
            [
             0.5555555555555556,
             "#d8576b"
            ],
            [
             0.6666666666666666,
             "#ed7953"
            ],
            [
             0.7777777777777778,
             "#fb9f3a"
            ],
            [
             0.8888888888888888,
             "#fdca26"
            ],
            [
             1,
             "#f0f921"
            ]
           ]
          },
          "colorway": [
           "#636efa",
           "#EF553B",
           "#00cc96",
           "#ab63fa",
           "#FFA15A",
           "#19d3f3",
           "#FF6692",
           "#B6E880",
           "#FF97FF",
           "#FECB52"
          ],
          "font": {
           "color": "#2a3f5f"
          },
          "geo": {
           "bgcolor": "white",
           "lakecolor": "white",
           "landcolor": "#E5ECF6",
           "showlakes": true,
           "showland": true,
           "subunitcolor": "white"
          },
          "hoverlabel": {
           "align": "left"
          },
          "hovermode": "closest",
          "mapbox": {
           "style": "light"
          },
          "paper_bgcolor": "white",
          "plot_bgcolor": "#E5ECF6",
          "polar": {
           "angularaxis": {
            "gridcolor": "white",
            "linecolor": "white",
            "ticks": ""
           },
           "bgcolor": "#E5ECF6",
           "radialaxis": {
            "gridcolor": "white",
            "linecolor": "white",
            "ticks": ""
           }
          },
          "scene": {
           "xaxis": {
            "backgroundcolor": "#E5ECF6",
            "gridcolor": "white",
            "gridwidth": 2,
            "linecolor": "white",
            "showbackground": true,
            "ticks": "",
            "zerolinecolor": "white"
           },
           "yaxis": {
            "backgroundcolor": "#E5ECF6",
            "gridcolor": "white",
            "gridwidth": 2,
            "linecolor": "white",
            "showbackground": true,
            "ticks": "",
            "zerolinecolor": "white"
           },
           "zaxis": {
            "backgroundcolor": "#E5ECF6",
            "gridcolor": "white",
            "gridwidth": 2,
            "linecolor": "white",
            "showbackground": true,
            "ticks": "",
            "zerolinecolor": "white"
           }
          },
          "shapedefaults": {
           "line": {
            "color": "#2a3f5f"
           }
          },
          "ternary": {
           "aaxis": {
            "gridcolor": "white",
            "linecolor": "white",
            "ticks": ""
           },
           "baxis": {
            "gridcolor": "white",
            "linecolor": "white",
            "ticks": ""
           },
           "bgcolor": "#E5ECF6",
           "caxis": {
            "gridcolor": "white",
            "linecolor": "white",
            "ticks": ""
           }
          },
          "title": {
           "x": 0.05
          },
          "xaxis": {
           "automargin": true,
           "gridcolor": "white",
           "linecolor": "white",
           "ticks": "",
           "title": {
            "standoff": 15
           },
           "zerolinecolor": "white",
           "zerolinewidth": 2
          },
          "yaxis": {
           "automargin": true,
           "gridcolor": "white",
           "linecolor": "white",
           "ticks": "",
           "title": {
            "standoff": 15
           },
           "zerolinecolor": "white",
           "zerolinewidth": 2
          }
         }
        },
        "title": {
         "text": "Outliers for HPBH:221F004 Stanlow"
        },
        "xaxis": {
         "anchor": "y",
         "domain": [
          0,
          1
         ],
         "title": {
          "text": "Date"
         }
        },
        "yaxis": {
         "anchor": "x",
         "domain": [
          0,
          1
         ],
         "title": {
          "text": "Value"
         }
        }
       }
      }
     },
     "metadata": {},
     "output_type": "display_data"
    }
   ],
   "source": [
    "data_cleansing.detect_outliers(df, col_name=df.columns[1], threshold=3)"
   ]
  },
  {
   "cell_type": "markdown",
   "metadata": {},
   "source": [
    "### Test DataPreprocessing Module"
   ]
  },
  {
   "cell_type": "code",
   "execution_count": 3,
   "metadata": {},
   "outputs": [],
   "source": [
    "data_preprocessing = DataPreprocessing(df)"
   ]
  },
  {
   "cell_type": "markdown",
   "metadata": {},
   "source": [
    "feature_encoding()"
   ]
  },
  {
   "cell_type": "code",
   "execution_count": 6,
   "metadata": {},
   "outputs": [
    {
     "name": "stdout",
     "output_type": "stream",
     "text": [
      "Data types summary:\n",
      " int64      39\n",
      "float64    29\n",
      "bool       20\n",
      "object     11\n",
      "Name: count, dtype: int64\n"
     ]
    }
   ],
   "source": [
    "data_exploration = DataExploration()\n",
    "data_exploration.summarize_data_type(df)"
   ]
  },
  {
   "cell_type": "code",
   "execution_count": 14,
   "metadata": {},
   "outputs": [],
   "source": [
    "feature_encoding = FeatureEncoding(df, 'TotalCostUSD')\n",
    "bool_cols = feature_encoding.get_boolean_columns()\n",
    "categorical_cols = feature_encoding.get_categorical_columns()"
   ]
  },
  {
   "cell_type": "code",
   "execution_count": 15,
   "metadata": {},
   "outputs": [
    {
     "data": {
      "text/html": [
       "<div>\n",
       "<style scoped>\n",
       "    .dataframe tbody tr th:only-of-type {\n",
       "        vertical-align: middle;\n",
       "    }\n",
       "\n",
       "    .dataframe tbody tr th {\n",
       "        vertical-align: top;\n",
       "    }\n",
       "\n",
       "    .dataframe thead th {\n",
       "        text-align: right;\n",
       "    }\n",
       "</style>\n",
       "<table border=\"1\" class=\"dataframe\">\n",
       "  <thead>\n",
       "    <tr style=\"text-align: right;\">\n",
       "      <th></th>\n",
       "      <th>Concealed</th>\n",
       "      <th>Team</th>\n",
       "      <th>Private</th>\n",
       "      <th>Rolled</th>\n",
       "      <th>TankerContainer</th>\n",
       "      <th>TankerLiquid</th>\n",
       "      <th>TankerFood</th>\n",
       "      <th>TankerReefer</th>\n",
       "      <th>TankerHazMat</th>\n",
       "      <th>Hot</th>\n",
       "      <th>Liquor</th>\n",
       "      <th>TWIC</th>\n",
       "      <th>TMSPrivateCarrier</th>\n",
       "      <th>Govt</th>\n",
       "      <th>HRHV</th>\n",
       "      <th>Seal</th>\n",
       "      <th>IsCustomerHighPriority</th>\n",
       "      <th>IsCommodityStackable</th>\n",
       "      <th>MXCrossBorder</th>\n",
       "      <th>CACrossBorder</th>\n",
       "    </tr>\n",
       "  </thead>\n",
       "  <tbody>\n",
       "    <tr>\n",
       "      <th>0</th>\n",
       "      <td>False</td>\n",
       "      <td>False</td>\n",
       "      <td>False</td>\n",
       "      <td>False</td>\n",
       "      <td>False</td>\n",
       "      <td>False</td>\n",
       "      <td>False</td>\n",
       "      <td>False</td>\n",
       "      <td>False</td>\n",
       "      <td>False</td>\n",
       "      <td>False</td>\n",
       "      <td>False</td>\n",
       "      <td>False</td>\n",
       "      <td>False</td>\n",
       "      <td>False</td>\n",
       "      <td>False</td>\n",
       "      <td>False</td>\n",
       "      <td>False</td>\n",
       "      <td>False</td>\n",
       "      <td>False</td>\n",
       "    </tr>\n",
       "    <tr>\n",
       "      <th>1</th>\n",
       "      <td>False</td>\n",
       "      <td>False</td>\n",
       "      <td>False</td>\n",
       "      <td>False</td>\n",
       "      <td>False</td>\n",
       "      <td>False</td>\n",
       "      <td>False</td>\n",
       "      <td>False</td>\n",
       "      <td>False</td>\n",
       "      <td>False</td>\n",
       "      <td>False</td>\n",
       "      <td>False</td>\n",
       "      <td>False</td>\n",
       "      <td>False</td>\n",
       "      <td>False</td>\n",
       "      <td>False</td>\n",
       "      <td>False</td>\n",
       "      <td>False</td>\n",
       "      <td>False</td>\n",
       "      <td>False</td>\n",
       "    </tr>\n",
       "    <tr>\n",
       "      <th>2</th>\n",
       "      <td>False</td>\n",
       "      <td>False</td>\n",
       "      <td>False</td>\n",
       "      <td>False</td>\n",
       "      <td>False</td>\n",
       "      <td>False</td>\n",
       "      <td>False</td>\n",
       "      <td>False</td>\n",
       "      <td>False</td>\n",
       "      <td>False</td>\n",
       "      <td>False</td>\n",
       "      <td>False</td>\n",
       "      <td>True</td>\n",
       "      <td>False</td>\n",
       "      <td>False</td>\n",
       "      <td>True</td>\n",
       "      <td>False</td>\n",
       "      <td>False</td>\n",
       "      <td>True</td>\n",
       "      <td>False</td>\n",
       "    </tr>\n",
       "    <tr>\n",
       "      <th>3</th>\n",
       "      <td>False</td>\n",
       "      <td>False</td>\n",
       "      <td>False</td>\n",
       "      <td>False</td>\n",
       "      <td>False</td>\n",
       "      <td>False</td>\n",
       "      <td>False</td>\n",
       "      <td>False</td>\n",
       "      <td>False</td>\n",
       "      <td>False</td>\n",
       "      <td>False</td>\n",
       "      <td>False</td>\n",
       "      <td>False</td>\n",
       "      <td>False</td>\n",
       "      <td>False</td>\n",
       "      <td>True</td>\n",
       "      <td>False</td>\n",
       "      <td>False</td>\n",
       "      <td>False</td>\n",
       "      <td>False</td>\n",
       "    </tr>\n",
       "    <tr>\n",
       "      <th>4</th>\n",
       "      <td>False</td>\n",
       "      <td>False</td>\n",
       "      <td>False</td>\n",
       "      <td>False</td>\n",
       "      <td>False</td>\n",
       "      <td>False</td>\n",
       "      <td>False</td>\n",
       "      <td>False</td>\n",
       "      <td>False</td>\n",
       "      <td>False</td>\n",
       "      <td>False</td>\n",
       "      <td>False</td>\n",
       "      <td>False</td>\n",
       "      <td>False</td>\n",
       "      <td>False</td>\n",
       "      <td>False</td>\n",
       "      <td>False</td>\n",
       "      <td>False</td>\n",
       "      <td>False</td>\n",
       "      <td>False</td>\n",
       "    </tr>\n",
       "  </tbody>\n",
       "</table>\n",
       "</div>"
      ],
      "text/plain": [
       "   Concealed   Team  Private  Rolled  TankerContainer  TankerLiquid   \n",
       "0      False  False    False   False            False         False  \\\n",
       "1      False  False    False   False            False         False   \n",
       "2      False  False    False   False            False         False   \n",
       "3      False  False    False   False            False         False   \n",
       "4      False  False    False   False            False         False   \n",
       "\n",
       "   TankerFood  TankerReefer  TankerHazMat    Hot  Liquor   TWIC   \n",
       "0       False         False         False  False   False  False  \\\n",
       "1       False         False         False  False   False  False   \n",
       "2       False         False         False  False   False  False   \n",
       "3       False         False         False  False   False  False   \n",
       "4       False         False         False  False   False  False   \n",
       "\n",
       "   TMSPrivateCarrier   Govt   HRHV   Seal  IsCustomerHighPriority   \n",
       "0              False  False  False  False                   False  \\\n",
       "1              False  False  False  False                   False   \n",
       "2               True  False  False   True                   False   \n",
       "3              False  False  False   True                   False   \n",
       "4              False  False  False  False                   False   \n",
       "\n",
       "   IsCommodityStackable  MXCrossBorder  CACrossBorder  \n",
       "0                 False          False          False  \n",
       "1                 False          False          False  \n",
       "2                 False           True          False  \n",
       "3                 False          False          False  \n",
       "4                 False          False          False  "
      ]
     },
     "execution_count": 15,
     "metadata": {},
     "output_type": "execute_result"
    }
   ],
   "source": [
    "df[bool_cols].head()"
   ]
  },
  {
   "cell_type": "code",
   "execution_count": 16,
   "metadata": {},
   "outputs": [
    {
     "data": {
      "text/html": [
       "<div>\n",
       "<style scoped>\n",
       "    .dataframe tbody tr th:only-of-type {\n",
       "        vertical-align: middle;\n",
       "    }\n",
       "\n",
       "    .dataframe tbody tr th {\n",
       "        vertical-align: top;\n",
       "    }\n",
       "\n",
       "    .dataframe thead th {\n",
       "        text-align: right;\n",
       "    }\n",
       "</style>\n",
       "<table border=\"1\" class=\"dataframe\">\n",
       "  <thead>\n",
       "    <tr style=\"text-align: right;\">\n",
       "      <th></th>\n",
       "      <th>EquipmentType</th>\n",
       "      <th>NormalizedRank</th>\n",
       "      <th>Normalized_EQ</th>\n",
       "      <th>BizUnit</th>\n",
       "      <th>BookType</th>\n",
       "      <th>BuildType</th>\n",
       "      <th>SalesStatus</th>\n",
       "      <th>CommodityCode</th>\n",
       "      <th>LoadDate-Weekday</th>\n",
       "      <th>DelDate-Weekday</th>\n",
       "      <th>CreateDate-Weekday</th>\n",
       "    </tr>\n",
       "  </thead>\n",
       "  <tbody>\n",
       "    <tr>\n",
       "      <th>0</th>\n",
       "      <td>V</td>\n",
       "      <td>Spot</td>\n",
       "      <td>V</td>\n",
       "      <td>Core</td>\n",
       "      <td>SameDay</td>\n",
       "      <td>SameDayBuild</td>\n",
       "      <td>Non-Enterprise</td>\n",
       "      <td>NaN</td>\n",
       "      <td>Friday</td>\n",
       "      <td>Monday</td>\n",
       "      <td>Friday</td>\n",
       "    </tr>\n",
       "    <tr>\n",
       "      <th>1</th>\n",
       "      <td>V</td>\n",
       "      <td>Spot</td>\n",
       "      <td>V</td>\n",
       "      <td>Core</td>\n",
       "      <td>Prebook</td>\n",
       "      <td>PreBuild</td>\n",
       "      <td>Non-Enterprise</td>\n",
       "      <td>NaN</td>\n",
       "      <td>Tuesday</td>\n",
       "      <td>Wednesday</td>\n",
       "      <td>Friday</td>\n",
       "    </tr>\n",
       "    <tr>\n",
       "      <th>2</th>\n",
       "      <td>F</td>\n",
       "      <td>Primary</td>\n",
       "      <td>F</td>\n",
       "      <td>Core</td>\n",
       "      <td>Prebook</td>\n",
       "      <td>PreBuild</td>\n",
       "      <td>Managed</td>\n",
       "      <td>NaN</td>\n",
       "      <td>Monday</td>\n",
       "      <td>Tuesday</td>\n",
       "      <td>Friday</td>\n",
       "    </tr>\n",
       "    <tr>\n",
       "      <th>3</th>\n",
       "      <td>V</td>\n",
       "      <td>Primary</td>\n",
       "      <td>V</td>\n",
       "      <td>Core</td>\n",
       "      <td>SameDay</td>\n",
       "      <td>SameDayBuild</td>\n",
       "      <td>Non-Enterprise</td>\n",
       "      <td>NaN</td>\n",
       "      <td>Friday</td>\n",
       "      <td>Friday</td>\n",
       "      <td>Friday</td>\n",
       "    </tr>\n",
       "    <tr>\n",
       "      <th>4</th>\n",
       "      <td>V</td>\n",
       "      <td>Spot</td>\n",
       "      <td>V</td>\n",
       "      <td>Core</td>\n",
       "      <td>SameDay</td>\n",
       "      <td>SameDayBuild</td>\n",
       "      <td>Non-Enterprise</td>\n",
       "      <td>NaN</td>\n",
       "      <td>Friday</td>\n",
       "      <td>Wednesday</td>\n",
       "      <td>Friday</td>\n",
       "    </tr>\n",
       "  </tbody>\n",
       "</table>\n",
       "</div>"
      ],
      "text/plain": [
       "  EquipmentType NormalizedRank Normalized_EQ BizUnit BookType     BuildType   \n",
       "0             V           Spot             V    Core  SameDay  SameDayBuild  \\\n",
       "1             V           Spot             V    Core  Prebook      PreBuild   \n",
       "2             F        Primary             F    Core  Prebook      PreBuild   \n",
       "3             V        Primary             V    Core  SameDay  SameDayBuild   \n",
       "4             V           Spot             V    Core  SameDay  SameDayBuild   \n",
       "\n",
       "      SalesStatus CommodityCode LoadDate-Weekday DelDate-Weekday   \n",
       "0  Non-Enterprise           NaN           Friday          Monday  \\\n",
       "1  Non-Enterprise           NaN          Tuesday       Wednesday   \n",
       "2         Managed           NaN           Monday         Tuesday   \n",
       "3  Non-Enterprise           NaN           Friday          Friday   \n",
       "4  Non-Enterprise           NaN           Friday       Wednesday   \n",
       "\n",
       "  CreateDate-Weekday  \n",
       "0             Friday  \n",
       "1             Friday  \n",
       "2             Friday  \n",
       "3             Friday  \n",
       "4             Friday  "
      ]
     },
     "execution_count": 16,
     "metadata": {},
     "output_type": "execute_result"
    }
   ],
   "source": [
    "df[categorical_cols].head()"
   ]
  },
  {
   "cell_type": "code",
   "execution_count": 17,
   "metadata": {},
   "outputs": [],
   "source": [
    "df = feature_encoding.boolean_encoding(bool_cols)\n",
    "df = feature_encoding.target_encoding()"
   ]
  },
  {
   "cell_type": "code",
   "execution_count": 18,
   "metadata": {},
   "outputs": [
    {
     "data": {
      "text/html": [
       "<div>\n",
       "<style scoped>\n",
       "    .dataframe tbody tr th:only-of-type {\n",
       "        vertical-align: middle;\n",
       "    }\n",
       "\n",
       "    .dataframe tbody tr th {\n",
       "        vertical-align: top;\n",
       "    }\n",
       "\n",
       "    .dataframe thead th {\n",
       "        text-align: right;\n",
       "    }\n",
       "</style>\n",
       "<table border=\"1\" class=\"dataframe\">\n",
       "  <thead>\n",
       "    <tr style=\"text-align: right;\">\n",
       "      <th></th>\n",
       "      <th>Concealed</th>\n",
       "      <th>Team</th>\n",
       "      <th>Private</th>\n",
       "      <th>Rolled</th>\n",
       "      <th>TankerContainer</th>\n",
       "      <th>TankerLiquid</th>\n",
       "      <th>TankerFood</th>\n",
       "      <th>TankerReefer</th>\n",
       "      <th>TankerHazMat</th>\n",
       "      <th>Hot</th>\n",
       "      <th>Liquor</th>\n",
       "      <th>TWIC</th>\n",
       "      <th>TMSPrivateCarrier</th>\n",
       "      <th>Govt</th>\n",
       "      <th>HRHV</th>\n",
       "      <th>Seal</th>\n",
       "      <th>IsCustomerHighPriority</th>\n",
       "      <th>IsCommodityStackable</th>\n",
       "      <th>MXCrossBorder</th>\n",
       "      <th>CACrossBorder</th>\n",
       "    </tr>\n",
       "  </thead>\n",
       "  <tbody>\n",
       "    <tr>\n",
       "      <th>0</th>\n",
       "      <td>0</td>\n",
       "      <td>0</td>\n",
       "      <td>0</td>\n",
       "      <td>0</td>\n",
       "      <td>0</td>\n",
       "      <td>0</td>\n",
       "      <td>0</td>\n",
       "      <td>0</td>\n",
       "      <td>0</td>\n",
       "      <td>0</td>\n",
       "      <td>0</td>\n",
       "      <td>0</td>\n",
       "      <td>0</td>\n",
       "      <td>0</td>\n",
       "      <td>0</td>\n",
       "      <td>0</td>\n",
       "      <td>0</td>\n",
       "      <td>0</td>\n",
       "      <td>0</td>\n",
       "      <td>0</td>\n",
       "    </tr>\n",
       "    <tr>\n",
       "      <th>1</th>\n",
       "      <td>0</td>\n",
       "      <td>0</td>\n",
       "      <td>0</td>\n",
       "      <td>0</td>\n",
       "      <td>0</td>\n",
       "      <td>0</td>\n",
       "      <td>0</td>\n",
       "      <td>0</td>\n",
       "      <td>0</td>\n",
       "      <td>0</td>\n",
       "      <td>0</td>\n",
       "      <td>0</td>\n",
       "      <td>0</td>\n",
       "      <td>0</td>\n",
       "      <td>0</td>\n",
       "      <td>0</td>\n",
       "      <td>0</td>\n",
       "      <td>0</td>\n",
       "      <td>0</td>\n",
       "      <td>0</td>\n",
       "    </tr>\n",
       "    <tr>\n",
       "      <th>2</th>\n",
       "      <td>0</td>\n",
       "      <td>0</td>\n",
       "      <td>0</td>\n",
       "      <td>0</td>\n",
       "      <td>0</td>\n",
       "      <td>0</td>\n",
       "      <td>0</td>\n",
       "      <td>0</td>\n",
       "      <td>0</td>\n",
       "      <td>0</td>\n",
       "      <td>0</td>\n",
       "      <td>0</td>\n",
       "      <td>1</td>\n",
       "      <td>0</td>\n",
       "      <td>0</td>\n",
       "      <td>1</td>\n",
       "      <td>0</td>\n",
       "      <td>0</td>\n",
       "      <td>1</td>\n",
       "      <td>0</td>\n",
       "    </tr>\n",
       "    <tr>\n",
       "      <th>3</th>\n",
       "      <td>0</td>\n",
       "      <td>0</td>\n",
       "      <td>0</td>\n",
       "      <td>0</td>\n",
       "      <td>0</td>\n",
       "      <td>0</td>\n",
       "      <td>0</td>\n",
       "      <td>0</td>\n",
       "      <td>0</td>\n",
       "      <td>0</td>\n",
       "      <td>0</td>\n",
       "      <td>0</td>\n",
       "      <td>0</td>\n",
       "      <td>0</td>\n",
       "      <td>0</td>\n",
       "      <td>1</td>\n",
       "      <td>0</td>\n",
       "      <td>0</td>\n",
       "      <td>0</td>\n",
       "      <td>0</td>\n",
       "    </tr>\n",
       "    <tr>\n",
       "      <th>4</th>\n",
       "      <td>0</td>\n",
       "      <td>0</td>\n",
       "      <td>0</td>\n",
       "      <td>0</td>\n",
       "      <td>0</td>\n",
       "      <td>0</td>\n",
       "      <td>0</td>\n",
       "      <td>0</td>\n",
       "      <td>0</td>\n",
       "      <td>0</td>\n",
       "      <td>0</td>\n",
       "      <td>0</td>\n",
       "      <td>0</td>\n",
       "      <td>0</td>\n",
       "      <td>0</td>\n",
       "      <td>0</td>\n",
       "      <td>0</td>\n",
       "      <td>0</td>\n",
       "      <td>0</td>\n",
       "      <td>0</td>\n",
       "    </tr>\n",
       "  </tbody>\n",
       "</table>\n",
       "</div>"
      ],
      "text/plain": [
       "   Concealed  Team  Private  Rolled  TankerContainer  TankerLiquid   \n",
       "0          0     0        0       0                0             0  \\\n",
       "1          0     0        0       0                0             0   \n",
       "2          0     0        0       0                0             0   \n",
       "3          0     0        0       0                0             0   \n",
       "4          0     0        0       0                0             0   \n",
       "\n",
       "   TankerFood  TankerReefer  TankerHazMat  Hot  Liquor  TWIC   \n",
       "0           0             0             0    0       0     0  \\\n",
       "1           0             0             0    0       0     0   \n",
       "2           0             0             0    0       0     0   \n",
       "3           0             0             0    0       0     0   \n",
       "4           0             0             0    0       0     0   \n",
       "\n",
       "   TMSPrivateCarrier  Govt  HRHV  Seal  IsCustomerHighPriority   \n",
       "0                  0     0     0     0                       0  \\\n",
       "1                  0     0     0     0                       0   \n",
       "2                  1     0     0     1                       0   \n",
       "3                  0     0     0     1                       0   \n",
       "4                  0     0     0     0                       0   \n",
       "\n",
       "   IsCommodityStackable  MXCrossBorder  CACrossBorder  \n",
       "0                     0              0              0  \n",
       "1                     0              0              0  \n",
       "2                     0              1              0  \n",
       "3                     0              0              0  \n",
       "4                     0              0              0  "
      ]
     },
     "execution_count": 18,
     "metadata": {},
     "output_type": "execute_result"
    }
   ],
   "source": [
    "df[bool_cols].head()"
   ]
  },
  {
   "cell_type": "code",
   "execution_count": 19,
   "metadata": {},
   "outputs": [
    {
     "data": {
      "text/html": [
       "<div>\n",
       "<style scoped>\n",
       "    .dataframe tbody tr th:only-of-type {\n",
       "        vertical-align: middle;\n",
       "    }\n",
       "\n",
       "    .dataframe tbody tr th {\n",
       "        vertical-align: top;\n",
       "    }\n",
       "\n",
       "    .dataframe thead th {\n",
       "        text-align: right;\n",
       "    }\n",
       "</style>\n",
       "<table border=\"1\" class=\"dataframe\">\n",
       "  <thead>\n",
       "    <tr style=\"text-align: right;\">\n",
       "      <th></th>\n",
       "      <th>EquipmentType</th>\n",
       "      <th>NormalizedRank</th>\n",
       "      <th>Normalized_EQ</th>\n",
       "      <th>BizUnit</th>\n",
       "      <th>BookType</th>\n",
       "      <th>BuildType</th>\n",
       "      <th>SalesStatus</th>\n",
       "      <th>CommodityCode</th>\n",
       "      <th>LoadDate-Weekday</th>\n",
       "      <th>DelDate-Weekday</th>\n",
       "      <th>CreateDate-Weekday</th>\n",
       "    </tr>\n",
       "  </thead>\n",
       "  <tbody>\n",
       "    <tr>\n",
       "      <th>0</th>\n",
       "      <td>1167.846730</td>\n",
       "      <td>1276.082259</td>\n",
       "      <td>1285.489573</td>\n",
       "      <td>1397.622783</td>\n",
       "      <td>1362.821291</td>\n",
       "      <td>931.475097</td>\n",
       "      <td>1308.222838</td>\n",
       "      <td>1321.638651</td>\n",
       "      <td>1127.472760</td>\n",
       "      <td>1446.114308</td>\n",
       "      <td>1414.839236</td>\n",
       "    </tr>\n",
       "    <tr>\n",
       "      <th>1</th>\n",
       "      <td>1167.846730</td>\n",
       "      <td>1276.082259</td>\n",
       "      <td>1285.489573</td>\n",
       "      <td>1397.622783</td>\n",
       "      <td>1525.869119</td>\n",
       "      <td>1781.346110</td>\n",
       "      <td>1308.222838</td>\n",
       "      <td>1321.638651</td>\n",
       "      <td>1658.687189</td>\n",
       "      <td>1316.577477</td>\n",
       "      <td>1414.839236</td>\n",
       "    </tr>\n",
       "    <tr>\n",
       "      <th>2</th>\n",
       "      <td>1163.274645</td>\n",
       "      <td>1568.820526</td>\n",
       "      <td>1419.329335</td>\n",
       "      <td>1397.622783</td>\n",
       "      <td>1525.869119</td>\n",
       "      <td>1781.346110</td>\n",
       "      <td>745.107322</td>\n",
       "      <td>1321.638651</td>\n",
       "      <td>1406.654348</td>\n",
       "      <td>1268.843787</td>\n",
       "      <td>1414.839236</td>\n",
       "    </tr>\n",
       "    <tr>\n",
       "      <th>3</th>\n",
       "      <td>1167.846730</td>\n",
       "      <td>1568.820526</td>\n",
       "      <td>1285.489573</td>\n",
       "      <td>1397.622783</td>\n",
       "      <td>1362.821291</td>\n",
       "      <td>931.475097</td>\n",
       "      <td>1308.222838</td>\n",
       "      <td>1321.638651</td>\n",
       "      <td>1127.472760</td>\n",
       "      <td>1774.547673</td>\n",
       "      <td>1414.839236</td>\n",
       "    </tr>\n",
       "    <tr>\n",
       "      <th>4</th>\n",
       "      <td>1167.846730</td>\n",
       "      <td>1276.082259</td>\n",
       "      <td>1285.489573</td>\n",
       "      <td>1397.622783</td>\n",
       "      <td>1362.821291</td>\n",
       "      <td>931.475097</td>\n",
       "      <td>1308.222838</td>\n",
       "      <td>1321.638651</td>\n",
       "      <td>1127.472760</td>\n",
       "      <td>1316.577477</td>\n",
       "      <td>1414.839236</td>\n",
       "    </tr>\n",
       "  </tbody>\n",
       "</table>\n",
       "</div>"
      ],
      "text/plain": [
       "   EquipmentType  NormalizedRank  Normalized_EQ      BizUnit     BookType   \n",
       "0    1167.846730     1276.082259    1285.489573  1397.622783  1362.821291  \\\n",
       "1    1167.846730     1276.082259    1285.489573  1397.622783  1525.869119   \n",
       "2    1163.274645     1568.820526    1419.329335  1397.622783  1525.869119   \n",
       "3    1167.846730     1568.820526    1285.489573  1397.622783  1362.821291   \n",
       "4    1167.846730     1276.082259    1285.489573  1397.622783  1362.821291   \n",
       "\n",
       "     BuildType  SalesStatus  CommodityCode  LoadDate-Weekday  DelDate-Weekday   \n",
       "0   931.475097  1308.222838    1321.638651       1127.472760      1446.114308  \\\n",
       "1  1781.346110  1308.222838    1321.638651       1658.687189      1316.577477   \n",
       "2  1781.346110   745.107322    1321.638651       1406.654348      1268.843787   \n",
       "3   931.475097  1308.222838    1321.638651       1127.472760      1774.547673   \n",
       "4   931.475097  1308.222838    1321.638651       1127.472760      1316.577477   \n",
       "\n",
       "   CreateDate-Weekday  \n",
       "0         1414.839236  \n",
       "1         1414.839236  \n",
       "2         1414.839236  \n",
       "3         1414.839236  \n",
       "4         1414.839236  "
      ]
     },
     "execution_count": 19,
     "metadata": {},
     "output_type": "execute_result"
    }
   ],
   "source": [
    "df[categorical_cols].head()"
   ]
  },
  {
   "cell_type": "markdown",
   "metadata": {},
   "source": [
    "feature_scaling()"
   ]
  },
  {
   "cell_type": "code",
   "execution_count": 7,
   "metadata": {},
   "outputs": [
    {
     "data": {
      "text/html": [
       "<div>\n",
       "<style scoped>\n",
       "    .dataframe tbody tr th:only-of-type {\n",
       "        vertical-align: middle;\n",
       "    }\n",
       "\n",
       "    .dataframe tbody tr th {\n",
       "        vertical-align: top;\n",
       "    }\n",
       "\n",
       "    .dataframe thead th {\n",
       "        text-align: right;\n",
       "    }\n",
       "</style>\n",
       "<table border=\"1\" class=\"dataframe\">\n",
       "  <thead>\n",
       "    <tr style=\"text-align: right;\">\n",
       "      <th></th>\n",
       "      <th>Mode</th>\n",
       "      <th>ProgressType</th>\n",
       "      <th>Type</th>\n",
       "      <th>StateType</th>\n",
       "      <th>LoadingPosition</th>\n",
       "      <th>Plan</th>\n",
       "      <th>ShipmentType</th>\n",
       "      <th>EquipmentLength</th>\n",
       "      <th>EquipmentWidth</th>\n",
       "      <th>EquipmentHeight</th>\n",
       "      <th>...</th>\n",
       "      <th>TRUCKD11</th>\n",
       "      <th>DJTA</th>\n",
       "      <th>DTB3</th>\n",
       "      <th>GASREGW</th>\n",
       "      <th>IPG2122N</th>\n",
       "      <th>IPG3361T3S</th>\n",
       "      <th>GDP</th>\n",
       "      <th>PPIACO</th>\n",
       "      <th>BUSINV</th>\n",
       "      <th>PCU48414841</th>\n",
       "    </tr>\n",
       "  </thead>\n",
       "  <tbody>\n",
       "    <tr>\n",
       "      <th>0</th>\n",
       "      <td>2</td>\n",
       "      <td>8</td>\n",
       "      <td>1</td>\n",
       "      <td>1</td>\n",
       "      <td>0</td>\n",
       "      <td>0</td>\n",
       "      <td>1</td>\n",
       "      <td>53</td>\n",
       "      <td>0</td>\n",
       "      <td>0</td>\n",
       "      <td>...</td>\n",
       "      <td>115.9</td>\n",
       "      <td>13738.04</td>\n",
       "      <td>4.2</td>\n",
       "      <td>3.239</td>\n",
       "      <td>91.7098</td>\n",
       "      <td>102.9025</td>\n",
       "      <td>26137.992</td>\n",
       "      <td>257.897</td>\n",
       "      <td>2545624</td>\n",
       "      <td>207.137</td>\n",
       "    </tr>\n",
       "    <tr>\n",
       "      <th>1</th>\n",
       "      <td>1</td>\n",
       "      <td>8</td>\n",
       "      <td>1</td>\n",
       "      <td>1</td>\n",
       "      <td>2</td>\n",
       "      <td>0</td>\n",
       "      <td>1</td>\n",
       "      <td>53</td>\n",
       "      <td>0</td>\n",
       "      <td>0</td>\n",
       "      <td>...</td>\n",
       "      <td>115.9</td>\n",
       "      <td>13738.04</td>\n",
       "      <td>4.2</td>\n",
       "      <td>3.239</td>\n",
       "      <td>91.7098</td>\n",
       "      <td>102.9025</td>\n",
       "      <td>26137.992</td>\n",
       "      <td>257.897</td>\n",
       "      <td>2545624</td>\n",
       "      <td>207.137</td>\n",
       "    </tr>\n",
       "    <tr>\n",
       "      <th>2</th>\n",
       "      <td>1</td>\n",
       "      <td>8</td>\n",
       "      <td>2</td>\n",
       "      <td>1</td>\n",
       "      <td>2</td>\n",
       "      <td>0</td>\n",
       "      <td>5</td>\n",
       "      <td>48</td>\n",
       "      <td>0</td>\n",
       "      <td>0</td>\n",
       "      <td>...</td>\n",
       "      <td>115.9</td>\n",
       "      <td>13738.04</td>\n",
       "      <td>4.2</td>\n",
       "      <td>3.239</td>\n",
       "      <td>91.7098</td>\n",
       "      <td>102.9025</td>\n",
       "      <td>26137.992</td>\n",
       "      <td>257.897</td>\n",
       "      <td>2545624</td>\n",
       "      <td>207.137</td>\n",
       "    </tr>\n",
       "    <tr>\n",
       "      <th>3</th>\n",
       "      <td>1</td>\n",
       "      <td>8</td>\n",
       "      <td>1</td>\n",
       "      <td>1</td>\n",
       "      <td>2</td>\n",
       "      <td>0</td>\n",
       "      <td>1</td>\n",
       "      <td>48</td>\n",
       "      <td>0</td>\n",
       "      <td>0</td>\n",
       "      <td>...</td>\n",
       "      <td>115.9</td>\n",
       "      <td>13738.04</td>\n",
       "      <td>4.2</td>\n",
       "      <td>3.239</td>\n",
       "      <td>91.7098</td>\n",
       "      <td>102.9025</td>\n",
       "      <td>26137.992</td>\n",
       "      <td>257.897</td>\n",
       "      <td>2545624</td>\n",
       "      <td>207.137</td>\n",
       "    </tr>\n",
       "    <tr>\n",
       "      <th>4</th>\n",
       "      <td>2</td>\n",
       "      <td>8</td>\n",
       "      <td>1</td>\n",
       "      <td>1</td>\n",
       "      <td>0</td>\n",
       "      <td>0</td>\n",
       "      <td>1</td>\n",
       "      <td>53</td>\n",
       "      <td>0</td>\n",
       "      <td>0</td>\n",
       "      <td>...</td>\n",
       "      <td>115.9</td>\n",
       "      <td>13738.04</td>\n",
       "      <td>4.2</td>\n",
       "      <td>3.239</td>\n",
       "      <td>91.7098</td>\n",
       "      <td>102.9025</td>\n",
       "      <td>26137.992</td>\n",
       "      <td>257.897</td>\n",
       "      <td>2545624</td>\n",
       "      <td>207.137</td>\n",
       "    </tr>\n",
       "    <tr>\n",
       "      <th>...</th>\n",
       "      <td>...</td>\n",
       "      <td>...</td>\n",
       "      <td>...</td>\n",
       "      <td>...</td>\n",
       "      <td>...</td>\n",
       "      <td>...</td>\n",
       "      <td>...</td>\n",
       "      <td>...</td>\n",
       "      <td>...</td>\n",
       "      <td>...</td>\n",
       "      <td>...</td>\n",
       "      <td>...</td>\n",
       "      <td>...</td>\n",
       "      <td>...</td>\n",
       "      <td>...</td>\n",
       "      <td>...</td>\n",
       "      <td>...</td>\n",
       "      <td>...</td>\n",
       "      <td>...</td>\n",
       "      <td>...</td>\n",
       "      <td>...</td>\n",
       "    </tr>\n",
       "    <tr>\n",
       "      <th>995</th>\n",
       "      <td>1</td>\n",
       "      <td>8</td>\n",
       "      <td>1</td>\n",
       "      <td>1</td>\n",
       "      <td>2</td>\n",
       "      <td>0</td>\n",
       "      <td>0</td>\n",
       "      <td>53</td>\n",
       "      <td>0</td>\n",
       "      <td>0</td>\n",
       "      <td>...</td>\n",
       "      <td>115.9</td>\n",
       "      <td>13738.04</td>\n",
       "      <td>4.2</td>\n",
       "      <td>3.239</td>\n",
       "      <td>91.7098</td>\n",
       "      <td>102.9025</td>\n",
       "      <td>26137.992</td>\n",
       "      <td>257.897</td>\n",
       "      <td>2545624</td>\n",
       "      <td>207.137</td>\n",
       "    </tr>\n",
       "    <tr>\n",
       "      <th>996</th>\n",
       "      <td>1</td>\n",
       "      <td>8</td>\n",
       "      <td>1</td>\n",
       "      <td>1</td>\n",
       "      <td>2</td>\n",
       "      <td>0</td>\n",
       "      <td>1</td>\n",
       "      <td>53</td>\n",
       "      <td>0</td>\n",
       "      <td>0</td>\n",
       "      <td>...</td>\n",
       "      <td>115.9</td>\n",
       "      <td>13738.04</td>\n",
       "      <td>4.2</td>\n",
       "      <td>3.239</td>\n",
       "      <td>91.7098</td>\n",
       "      <td>102.9025</td>\n",
       "      <td>26137.992</td>\n",
       "      <td>257.897</td>\n",
       "      <td>2545624</td>\n",
       "      <td>207.137</td>\n",
       "    </tr>\n",
       "    <tr>\n",
       "      <th>997</th>\n",
       "      <td>1</td>\n",
       "      <td>8</td>\n",
       "      <td>1</td>\n",
       "      <td>1</td>\n",
       "      <td>2</td>\n",
       "      <td>0</td>\n",
       "      <td>1</td>\n",
       "      <td>18</td>\n",
       "      <td>0</td>\n",
       "      <td>0</td>\n",
       "      <td>...</td>\n",
       "      <td>115.9</td>\n",
       "      <td>13738.04</td>\n",
       "      <td>4.2</td>\n",
       "      <td>3.239</td>\n",
       "      <td>91.7098</td>\n",
       "      <td>102.9025</td>\n",
       "      <td>26137.992</td>\n",
       "      <td>257.897</td>\n",
       "      <td>2545624</td>\n",
       "      <td>207.137</td>\n",
       "    </tr>\n",
       "    <tr>\n",
       "      <th>998</th>\n",
       "      <td>1</td>\n",
       "      <td>8</td>\n",
       "      <td>1</td>\n",
       "      <td>1</td>\n",
       "      <td>2</td>\n",
       "      <td>0</td>\n",
       "      <td>0</td>\n",
       "      <td>53</td>\n",
       "      <td>102</td>\n",
       "      <td>0</td>\n",
       "      <td>...</td>\n",
       "      <td>115.9</td>\n",
       "      <td>13738.04</td>\n",
       "      <td>4.2</td>\n",
       "      <td>3.239</td>\n",
       "      <td>91.7098</td>\n",
       "      <td>102.9025</td>\n",
       "      <td>26137.992</td>\n",
       "      <td>257.897</td>\n",
       "      <td>2545624</td>\n",
       "      <td>207.137</td>\n",
       "    </tr>\n",
       "    <tr>\n",
       "      <th>999</th>\n",
       "      <td>1</td>\n",
       "      <td>8</td>\n",
       "      <td>1</td>\n",
       "      <td>1</td>\n",
       "      <td>2</td>\n",
       "      <td>0</td>\n",
       "      <td>0</td>\n",
       "      <td>53</td>\n",
       "      <td>0</td>\n",
       "      <td>0</td>\n",
       "      <td>...</td>\n",
       "      <td>115.9</td>\n",
       "      <td>13738.04</td>\n",
       "      <td>4.2</td>\n",
       "      <td>3.239</td>\n",
       "      <td>91.7098</td>\n",
       "      <td>102.9025</td>\n",
       "      <td>26137.992</td>\n",
       "      <td>257.897</td>\n",
       "      <td>2545624</td>\n",
       "      <td>207.137</td>\n",
       "    </tr>\n",
       "  </tbody>\n",
       "</table>\n",
       "<p>1000 rows × 67 columns</p>\n",
       "</div>"
      ],
      "text/plain": [
       "     Mode  ProgressType  Type  StateType  LoadingPosition  Plan  ShipmentType   \n",
       "0       2             8     1          1                0     0             1  \\\n",
       "1       1             8     1          1                2     0             1   \n",
       "2       1             8     2          1                2     0             5   \n",
       "3       1             8     1          1                2     0             1   \n",
       "4       2             8     1          1                0     0             1   \n",
       "..    ...           ...   ...        ...              ...   ...           ...   \n",
       "995     1             8     1          1                2     0             0   \n",
       "996     1             8     1          1                2     0             1   \n",
       "997     1             8     1          1                2     0             1   \n",
       "998     1             8     1          1                2     0             0   \n",
       "999     1             8     1          1                2     0             0   \n",
       "\n",
       "     EquipmentLength  EquipmentWidth  EquipmentHeight  ...  TRUCKD11   \n",
       "0                 53               0                0  ...     115.9  \\\n",
       "1                 53               0                0  ...     115.9   \n",
       "2                 48               0                0  ...     115.9   \n",
       "3                 48               0                0  ...     115.9   \n",
       "4                 53               0                0  ...     115.9   \n",
       "..               ...             ...              ...  ...       ...   \n",
       "995               53               0                0  ...     115.9   \n",
       "996               53               0                0  ...     115.9   \n",
       "997               18               0                0  ...     115.9   \n",
       "998               53             102                0  ...     115.9   \n",
       "999               53               0                0  ...     115.9   \n",
       "\n",
       "         DJTA  DTB3  GASREGW  IPG2122N  IPG3361T3S        GDP   PPIACO   \n",
       "0    13738.04   4.2    3.239   91.7098    102.9025  26137.992  257.897  \\\n",
       "1    13738.04   4.2    3.239   91.7098    102.9025  26137.992  257.897   \n",
       "2    13738.04   4.2    3.239   91.7098    102.9025  26137.992  257.897   \n",
       "3    13738.04   4.2    3.239   91.7098    102.9025  26137.992  257.897   \n",
       "4    13738.04   4.2    3.239   91.7098    102.9025  26137.992  257.897   \n",
       "..        ...   ...      ...       ...         ...        ...      ...   \n",
       "995  13738.04   4.2    3.239   91.7098    102.9025  26137.992  257.897   \n",
       "996  13738.04   4.2    3.239   91.7098    102.9025  26137.992  257.897   \n",
       "997  13738.04   4.2    3.239   91.7098    102.9025  26137.992  257.897   \n",
       "998  13738.04   4.2    3.239   91.7098    102.9025  26137.992  257.897   \n",
       "999  13738.04   4.2    3.239   91.7098    102.9025  26137.992  257.897   \n",
       "\n",
       "      BUSINV  PCU48414841  \n",
       "0    2545624      207.137  \n",
       "1    2545624      207.137  \n",
       "2    2545624      207.137  \n",
       "3    2545624      207.137  \n",
       "4    2545624      207.137  \n",
       "..       ...          ...  \n",
       "995  2545624      207.137  \n",
       "996  2545624      207.137  \n",
       "997  2545624      207.137  \n",
       "998  2545624      207.137  \n",
       "999  2545624      207.137  \n",
       "\n",
       "[1000 rows x 67 columns]"
      ]
     },
     "execution_count": 7,
     "metadata": {},
     "output_type": "execute_result"
    }
   ],
   "source": [
    "feature_scaling = FeatureScaling(df, 'TotalCostUSD')\n",
    "numerical_cols = feature_scaling.get_numerical_columns()\n",
    "df[numerical_cols]"
   ]
  },
  {
   "cell_type": "code",
   "execution_count": 8,
   "metadata": {},
   "outputs": [
    {
     "data": {
      "text/html": [
       "<div>\n",
       "<style scoped>\n",
       "    .dataframe tbody tr th:only-of-type {\n",
       "        vertical-align: middle;\n",
       "    }\n",
       "\n",
       "    .dataframe tbody tr th {\n",
       "        vertical-align: top;\n",
       "    }\n",
       "\n",
       "    .dataframe thead th {\n",
       "        text-align: right;\n",
       "    }\n",
       "</style>\n",
       "<table border=\"1\" class=\"dataframe\">\n",
       "  <thead>\n",
       "    <tr style=\"text-align: right;\">\n",
       "      <th></th>\n",
       "      <th>Mode</th>\n",
       "      <th>ProgressType</th>\n",
       "      <th>Type</th>\n",
       "      <th>StateType</th>\n",
       "      <th>LoadingPosition</th>\n",
       "      <th>Plan</th>\n",
       "      <th>ShipmentType</th>\n",
       "      <th>EquipmentLength</th>\n",
       "      <th>EquipmentWidth</th>\n",
       "      <th>EquipmentHeight</th>\n",
       "      <th>...</th>\n",
       "      <th>TRUCKD11</th>\n",
       "      <th>DJTA</th>\n",
       "      <th>DTB3</th>\n",
       "      <th>GASREGW</th>\n",
       "      <th>IPG2122N</th>\n",
       "      <th>IPG3361T3S</th>\n",
       "      <th>GDP</th>\n",
       "      <th>PPIACO</th>\n",
       "      <th>BUSINV</th>\n",
       "      <th>PCU48414841</th>\n",
       "    </tr>\n",
       "  </thead>\n",
       "  <tbody>\n",
       "    <tr>\n",
       "      <th>0</th>\n",
       "      <td>1.277526</td>\n",
       "      <td>-0.125877</td>\n",
       "      <td>-0.362687</td>\n",
       "      <td>0.0</td>\n",
       "      <td>-1.765901</td>\n",
       "      <td>-0.148847</td>\n",
       "      <td>0.174299</td>\n",
       "      <td>0.202642</td>\n",
       "      <td>-0.309662</td>\n",
       "      <td>-0.258199</td>\n",
       "      <td>...</td>\n",
       "      <td>-1.421085e-14</td>\n",
       "      <td>-3.637979e-12</td>\n",
       "      <td>-8.881784e-16</td>\n",
       "      <td>0.0</td>\n",
       "      <td>0.0</td>\n",
       "      <td>0.0</td>\n",
       "      <td>0.0</td>\n",
       "      <td>0.0</td>\n",
       "      <td>0.0</td>\n",
       "      <td>-5.684342e-14</td>\n",
       "    </tr>\n",
       "    <tr>\n",
       "      <th>1</th>\n",
       "      <td>-0.658119</td>\n",
       "      <td>-0.125877</td>\n",
       "      <td>-0.362687</td>\n",
       "      <td>0.0</td>\n",
       "      <td>0.567246</td>\n",
       "      <td>-0.148847</td>\n",
       "      <td>0.174299</td>\n",
       "      <td>0.202642</td>\n",
       "      <td>-0.309662</td>\n",
       "      <td>-0.258199</td>\n",
       "      <td>...</td>\n",
       "      <td>-1.421085e-14</td>\n",
       "      <td>-3.637979e-12</td>\n",
       "      <td>-8.881784e-16</td>\n",
       "      <td>0.0</td>\n",
       "      <td>0.0</td>\n",
       "      <td>0.0</td>\n",
       "      <td>0.0</td>\n",
       "      <td>0.0</td>\n",
       "      <td>0.0</td>\n",
       "      <td>-5.684342e-14</td>\n",
       "    </tr>\n",
       "    <tr>\n",
       "      <th>2</th>\n",
       "      <td>-0.658119</td>\n",
       "      <td>-0.125877</td>\n",
       "      <td>2.757200</td>\n",
       "      <td>0.0</td>\n",
       "      <td>0.567246</td>\n",
       "      <td>-0.148847</td>\n",
       "      <td>3.726893</td>\n",
       "      <td>-0.947098</td>\n",
       "      <td>-0.309662</td>\n",
       "      <td>-0.258199</td>\n",
       "      <td>...</td>\n",
       "      <td>-1.421085e-14</td>\n",
       "      <td>-3.637979e-12</td>\n",
       "      <td>-8.881784e-16</td>\n",
       "      <td>0.0</td>\n",
       "      <td>0.0</td>\n",
       "      <td>0.0</td>\n",
       "      <td>0.0</td>\n",
       "      <td>0.0</td>\n",
       "      <td>0.0</td>\n",
       "      <td>-5.684342e-14</td>\n",
       "    </tr>\n",
       "    <tr>\n",
       "      <th>3</th>\n",
       "      <td>-0.658119</td>\n",
       "      <td>-0.125877</td>\n",
       "      <td>-0.362687</td>\n",
       "      <td>0.0</td>\n",
       "      <td>0.567246</td>\n",
       "      <td>-0.148847</td>\n",
       "      <td>0.174299</td>\n",
       "      <td>-0.947098</td>\n",
       "      <td>-0.309662</td>\n",
       "      <td>-0.258199</td>\n",
       "      <td>...</td>\n",
       "      <td>-1.421085e-14</td>\n",
       "      <td>-3.637979e-12</td>\n",
       "      <td>-8.881784e-16</td>\n",
       "      <td>0.0</td>\n",
       "      <td>0.0</td>\n",
       "      <td>0.0</td>\n",
       "      <td>0.0</td>\n",
       "      <td>0.0</td>\n",
       "      <td>0.0</td>\n",
       "      <td>-5.684342e-14</td>\n",
       "    </tr>\n",
       "    <tr>\n",
       "      <th>4</th>\n",
       "      <td>1.277526</td>\n",
       "      <td>-0.125877</td>\n",
       "      <td>-0.362687</td>\n",
       "      <td>0.0</td>\n",
       "      <td>-1.765901</td>\n",
       "      <td>-0.148847</td>\n",
       "      <td>0.174299</td>\n",
       "      <td>0.202642</td>\n",
       "      <td>-0.309662</td>\n",
       "      <td>-0.258199</td>\n",
       "      <td>...</td>\n",
       "      <td>-1.421085e-14</td>\n",
       "      <td>-3.637979e-12</td>\n",
       "      <td>-8.881784e-16</td>\n",
       "      <td>0.0</td>\n",
       "      <td>0.0</td>\n",
       "      <td>0.0</td>\n",
       "      <td>0.0</td>\n",
       "      <td>0.0</td>\n",
       "      <td>0.0</td>\n",
       "      <td>-5.684342e-14</td>\n",
       "    </tr>\n",
       "    <tr>\n",
       "      <th>...</th>\n",
       "      <td>...</td>\n",
       "      <td>...</td>\n",
       "      <td>...</td>\n",
       "      <td>...</td>\n",
       "      <td>...</td>\n",
       "      <td>...</td>\n",
       "      <td>...</td>\n",
       "      <td>...</td>\n",
       "      <td>...</td>\n",
       "      <td>...</td>\n",
       "      <td>...</td>\n",
       "      <td>...</td>\n",
       "      <td>...</td>\n",
       "      <td>...</td>\n",
       "      <td>...</td>\n",
       "      <td>...</td>\n",
       "      <td>...</td>\n",
       "      <td>...</td>\n",
       "      <td>...</td>\n",
       "      <td>...</td>\n",
       "      <td>...</td>\n",
       "    </tr>\n",
       "    <tr>\n",
       "      <th>995</th>\n",
       "      <td>-0.658119</td>\n",
       "      <td>-0.125877</td>\n",
       "      <td>-0.362687</td>\n",
       "      <td>0.0</td>\n",
       "      <td>0.567246</td>\n",
       "      <td>-0.148847</td>\n",
       "      <td>-0.713849</td>\n",
       "      <td>0.202642</td>\n",
       "      <td>-0.309662</td>\n",
       "      <td>-0.258199</td>\n",
       "      <td>...</td>\n",
       "      <td>-1.421085e-14</td>\n",
       "      <td>-3.637979e-12</td>\n",
       "      <td>-8.881784e-16</td>\n",
       "      <td>0.0</td>\n",
       "      <td>0.0</td>\n",
       "      <td>0.0</td>\n",
       "      <td>0.0</td>\n",
       "      <td>0.0</td>\n",
       "      <td>0.0</td>\n",
       "      <td>-5.684342e-14</td>\n",
       "    </tr>\n",
       "    <tr>\n",
       "      <th>996</th>\n",
       "      <td>-0.658119</td>\n",
       "      <td>-0.125877</td>\n",
       "      <td>-0.362687</td>\n",
       "      <td>0.0</td>\n",
       "      <td>0.567246</td>\n",
       "      <td>-0.148847</td>\n",
       "      <td>0.174299</td>\n",
       "      <td>0.202642</td>\n",
       "      <td>-0.309662</td>\n",
       "      <td>-0.258199</td>\n",
       "      <td>...</td>\n",
       "      <td>-1.421085e-14</td>\n",
       "      <td>-3.637979e-12</td>\n",
       "      <td>-8.881784e-16</td>\n",
       "      <td>0.0</td>\n",
       "      <td>0.0</td>\n",
       "      <td>0.0</td>\n",
       "      <td>0.0</td>\n",
       "      <td>0.0</td>\n",
       "      <td>0.0</td>\n",
       "      <td>-5.684342e-14</td>\n",
       "    </tr>\n",
       "    <tr>\n",
       "      <th>997</th>\n",
       "      <td>-0.658119</td>\n",
       "      <td>-0.125877</td>\n",
       "      <td>-0.362687</td>\n",
       "      <td>0.0</td>\n",
       "      <td>0.567246</td>\n",
       "      <td>-0.148847</td>\n",
       "      <td>0.174299</td>\n",
       "      <td>-7.845537</td>\n",
       "      <td>-0.309662</td>\n",
       "      <td>-0.258199</td>\n",
       "      <td>...</td>\n",
       "      <td>-1.421085e-14</td>\n",
       "      <td>-3.637979e-12</td>\n",
       "      <td>-8.881784e-16</td>\n",
       "      <td>0.0</td>\n",
       "      <td>0.0</td>\n",
       "      <td>0.0</td>\n",
       "      <td>0.0</td>\n",
       "      <td>0.0</td>\n",
       "      <td>0.0</td>\n",
       "      <td>-5.684342e-14</td>\n",
       "    </tr>\n",
       "    <tr>\n",
       "      <th>998</th>\n",
       "      <td>-0.658119</td>\n",
       "      <td>-0.125877</td>\n",
       "      <td>-0.362687</td>\n",
       "      <td>0.0</td>\n",
       "      <td>0.567246</td>\n",
       "      <td>-0.148847</td>\n",
       "      <td>-0.713849</td>\n",
       "      <td>0.202642</td>\n",
       "      <td>3.229330</td>\n",
       "      <td>-0.258199</td>\n",
       "      <td>...</td>\n",
       "      <td>-1.421085e-14</td>\n",
       "      <td>-3.637979e-12</td>\n",
       "      <td>-8.881784e-16</td>\n",
       "      <td>0.0</td>\n",
       "      <td>0.0</td>\n",
       "      <td>0.0</td>\n",
       "      <td>0.0</td>\n",
       "      <td>0.0</td>\n",
       "      <td>0.0</td>\n",
       "      <td>-5.684342e-14</td>\n",
       "    </tr>\n",
       "    <tr>\n",
       "      <th>999</th>\n",
       "      <td>-0.658119</td>\n",
       "      <td>-0.125877</td>\n",
       "      <td>-0.362687</td>\n",
       "      <td>0.0</td>\n",
       "      <td>0.567246</td>\n",
       "      <td>-0.148847</td>\n",
       "      <td>-0.713849</td>\n",
       "      <td>0.202642</td>\n",
       "      <td>-0.309662</td>\n",
       "      <td>-0.258199</td>\n",
       "      <td>...</td>\n",
       "      <td>-1.421085e-14</td>\n",
       "      <td>-3.637979e-12</td>\n",
       "      <td>-8.881784e-16</td>\n",
       "      <td>0.0</td>\n",
       "      <td>0.0</td>\n",
       "      <td>0.0</td>\n",
       "      <td>0.0</td>\n",
       "      <td>0.0</td>\n",
       "      <td>0.0</td>\n",
       "      <td>-5.684342e-14</td>\n",
       "    </tr>\n",
       "  </tbody>\n",
       "</table>\n",
       "<p>1000 rows × 67 columns</p>\n",
       "</div>"
      ],
      "text/plain": [
       "         Mode  ProgressType      Type  StateType  LoadingPosition      Plan   \n",
       "0    1.277526     -0.125877 -0.362687        0.0        -1.765901 -0.148847  \\\n",
       "1   -0.658119     -0.125877 -0.362687        0.0         0.567246 -0.148847   \n",
       "2   -0.658119     -0.125877  2.757200        0.0         0.567246 -0.148847   \n",
       "3   -0.658119     -0.125877 -0.362687        0.0         0.567246 -0.148847   \n",
       "4    1.277526     -0.125877 -0.362687        0.0        -1.765901 -0.148847   \n",
       "..        ...           ...       ...        ...              ...       ...   \n",
       "995 -0.658119     -0.125877 -0.362687        0.0         0.567246 -0.148847   \n",
       "996 -0.658119     -0.125877 -0.362687        0.0         0.567246 -0.148847   \n",
       "997 -0.658119     -0.125877 -0.362687        0.0         0.567246 -0.148847   \n",
       "998 -0.658119     -0.125877 -0.362687        0.0         0.567246 -0.148847   \n",
       "999 -0.658119     -0.125877 -0.362687        0.0         0.567246 -0.148847   \n",
       "\n",
       "     ShipmentType  EquipmentLength  EquipmentWidth  EquipmentHeight  ...   \n",
       "0        0.174299         0.202642       -0.309662        -0.258199  ...  \\\n",
       "1        0.174299         0.202642       -0.309662        -0.258199  ...   \n",
       "2        3.726893        -0.947098       -0.309662        -0.258199  ...   \n",
       "3        0.174299        -0.947098       -0.309662        -0.258199  ...   \n",
       "4        0.174299         0.202642       -0.309662        -0.258199  ...   \n",
       "..            ...              ...             ...              ...  ...   \n",
       "995     -0.713849         0.202642       -0.309662        -0.258199  ...   \n",
       "996      0.174299         0.202642       -0.309662        -0.258199  ...   \n",
       "997      0.174299        -7.845537       -0.309662        -0.258199  ...   \n",
       "998     -0.713849         0.202642        3.229330        -0.258199  ...   \n",
       "999     -0.713849         0.202642       -0.309662        -0.258199  ...   \n",
       "\n",
       "         TRUCKD11          DJTA          DTB3  GASREGW  IPG2122N  IPG3361T3S   \n",
       "0   -1.421085e-14 -3.637979e-12 -8.881784e-16      0.0       0.0         0.0  \\\n",
       "1   -1.421085e-14 -3.637979e-12 -8.881784e-16      0.0       0.0         0.0   \n",
       "2   -1.421085e-14 -3.637979e-12 -8.881784e-16      0.0       0.0         0.0   \n",
       "3   -1.421085e-14 -3.637979e-12 -8.881784e-16      0.0       0.0         0.0   \n",
       "4   -1.421085e-14 -3.637979e-12 -8.881784e-16      0.0       0.0         0.0   \n",
       "..            ...           ...           ...      ...       ...         ...   \n",
       "995 -1.421085e-14 -3.637979e-12 -8.881784e-16      0.0       0.0         0.0   \n",
       "996 -1.421085e-14 -3.637979e-12 -8.881784e-16      0.0       0.0         0.0   \n",
       "997 -1.421085e-14 -3.637979e-12 -8.881784e-16      0.0       0.0         0.0   \n",
       "998 -1.421085e-14 -3.637979e-12 -8.881784e-16      0.0       0.0         0.0   \n",
       "999 -1.421085e-14 -3.637979e-12 -8.881784e-16      0.0       0.0         0.0   \n",
       "\n",
       "     GDP  PPIACO  BUSINV   PCU48414841  \n",
       "0    0.0     0.0     0.0 -5.684342e-14  \n",
       "1    0.0     0.0     0.0 -5.684342e-14  \n",
       "2    0.0     0.0     0.0 -5.684342e-14  \n",
       "3    0.0     0.0     0.0 -5.684342e-14  \n",
       "4    0.0     0.0     0.0 -5.684342e-14  \n",
       "..   ...     ...     ...           ...  \n",
       "995  0.0     0.0     0.0 -5.684342e-14  \n",
       "996  0.0     0.0     0.0 -5.684342e-14  \n",
       "997  0.0     0.0     0.0 -5.684342e-14  \n",
       "998  0.0     0.0     0.0 -5.684342e-14  \n",
       "999  0.0     0.0     0.0 -5.684342e-14  \n",
       "\n",
       "[1000 rows x 67 columns]"
      ]
     },
     "execution_count": 8,
     "metadata": {},
     "output_type": "execute_result"
    }
   ],
   "source": [
    "# df = feature_scaling.standard_scaling()\n",
    "df = feature_scaling.min_max_scaling()\n",
    "df[numerical_cols]"
   ]
  }
 ],
 "metadata": {
  "kernelspec": {
   "display_name": "SQLTool",
   "language": "python",
   "name": "python3"
  },
  "language_info": {
   "codemirror_mode": {
    "name": "ipython",
    "version": 3
   },
   "file_extension": ".py",
   "mimetype": "text/x-python",
   "name": "python",
   "nbconvert_exporter": "python",
   "pygments_lexer": "ipython3",
   "version": "3.11.2"
  },
  "orig_nbformat": 4
 },
 "nbformat": 4,
 "nbformat_minor": 2
}
