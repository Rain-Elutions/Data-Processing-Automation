{
 "cells": [
  {
   "cell_type": "code",
   "execution_count": 1,
   "metadata": {},
   "outputs": [],
   "source": [
    "import pandas as pd"
   ]
  },
  {
   "cell_type": "code",
   "execution_count": 2,
   "metadata": {},
   "outputs": [],
   "source": [
    "# df = pd.read_csv('./data/my_example_data.csv', index_col=0, parse_dates=True)\n",
    "# df.head()"
   ]
  },
  {
   "cell_type": "code",
   "execution_count": 3,
   "metadata": {},
   "outputs": [],
   "source": [
    "# df_sample = df.head(100)\n",
    "# df_sample.to_csv('./data/sasol_data_sample.csv')"
   ]
  },
  {
   "cell_type": "markdown",
   "metadata": {},
   "source": [
    "### Test DataExploration Module"
   ]
  },
  {
   "cell_type": "code",
   "execution_count": 4,
   "metadata": {},
   "outputs": [],
   "source": [
    "from Data_Exploration.main import DataExploration"
   ]
  },
  {
   "cell_type": "code",
   "execution_count": 5,
   "metadata": {},
   "outputs": [],
   "source": [
    "data_exp = DataExploration()"
   ]
  },
  {
   "cell_type": "markdown",
   "metadata": {},
   "source": [
    "load_data() function"
   ]
  },
  {
   "cell_type": "code",
   "execution_count": 6,
   "metadata": {},
   "outputs": [
    {
     "data": {
      "text/html": [
       "<div>\n",
       "<style scoped>\n",
       "    .dataframe tbody tr th:only-of-type {\n",
       "        vertical-align: middle;\n",
       "    }\n",
       "\n",
       "    .dataframe tbody tr th {\n",
       "        vertical-align: top;\n",
       "    }\n",
       "\n",
       "    .dataframe thead th {\n",
       "        text-align: right;\n",
       "    }\n",
       "</style>\n",
       "<table border=\"1\" class=\"dataframe\">\n",
       "  <thead>\n",
       "    <tr style=\"text-align: right;\">\n",
       "      <th></th>\n",
       "      <th>OXO-5FI635C Augusta</th>\n",
       "      <th>OXO-5FI661A Augusta</th>\n",
       "      <th>OXO-5FI696 Augusta</th>\n",
       "      <th>OXO-5FIC132 Augusta</th>\n",
       "      <th>OXO-5FIC600 Augusta</th>\n",
       "      <th>OXO-5FIC601 Augusta</th>\n",
       "      <th>OXO-5FIC602 Augusta</th>\n",
       "      <th>OXO-5FIC603 Augusta</th>\n",
       "      <th>OXO-5FIC606A Augusta</th>\n",
       "      <th>OXO-5FIC606C Augusta</th>\n",
       "      <th>...</th>\n",
       "      <th>OXO-5TIC603 Augusta</th>\n",
       "      <th>OXO-5TIC604 Augusta</th>\n",
       "      <th>OXO-5TIC605 Augusta</th>\n",
       "      <th>OXO-5TIC606 Augusta</th>\n",
       "      <th>OXO-5TIC607 Augusta</th>\n",
       "      <th>OXO-5TIC659 Augusta</th>\n",
       "      <th>OXO-_5FI658A Augusta</th>\n",
       "      <th>OXO-_5FI659A Augusta</th>\n",
       "      <th>OXO-_5FI660A Augusta</th>\n",
       "      <th>OXO-_5FI662A Augusta</th>\n",
       "    </tr>\n",
       "    <tr>\n",
       "      <th>Date</th>\n",
       "      <th></th>\n",
       "      <th></th>\n",
       "      <th></th>\n",
       "      <th></th>\n",
       "      <th></th>\n",
       "      <th></th>\n",
       "      <th></th>\n",
       "      <th></th>\n",
       "      <th></th>\n",
       "      <th></th>\n",
       "      <th></th>\n",
       "      <th></th>\n",
       "      <th></th>\n",
       "      <th></th>\n",
       "      <th></th>\n",
       "      <th></th>\n",
       "      <th></th>\n",
       "      <th></th>\n",
       "      <th></th>\n",
       "      <th></th>\n",
       "      <th></th>\n",
       "    </tr>\n",
       "  </thead>\n",
       "  <tbody>\n",
       "    <tr>\n",
       "      <th>2019-11-01 00:00:00</th>\n",
       "      <td>5859.125648</td>\n",
       "      <td>23345.857389</td>\n",
       "      <td>9830.200195</td>\n",
       "      <td>4.450549</td>\n",
       "      <td>2076.174093</td>\n",
       "      <td>67.208298</td>\n",
       "      <td>5069.174366</td>\n",
       "      <td>0.0</td>\n",
       "      <td>NaN</td>\n",
       "      <td>1.202029</td>\n",
       "      <td>...</td>\n",
       "      <td>133.996300</td>\n",
       "      <td>130.578919</td>\n",
       "      <td>133.007764</td>\n",
       "      <td>134.032267</td>\n",
       "      <td>130.899539</td>\n",
       "      <td>298.029910</td>\n",
       "      <td>21719.630615</td>\n",
       "      <td>22870.976318</td>\n",
       "      <td>22026.824772</td>\n",
       "      <td>22036.315560</td>\n",
       "    </tr>\n",
       "    <tr>\n",
       "      <th>2019-11-01 01:00:00</th>\n",
       "      <td>5950.173837</td>\n",
       "      <td>23346.553467</td>\n",
       "      <td>9384.632992</td>\n",
       "      <td>4.410112</td>\n",
       "      <td>2070.199284</td>\n",
       "      <td>67.204392</td>\n",
       "      <td>5068.014148</td>\n",
       "      <td>0.0</td>\n",
       "      <td>NaN</td>\n",
       "      <td>1.158160</td>\n",
       "      <td>...</td>\n",
       "      <td>133.994588</td>\n",
       "      <td>130.640505</td>\n",
       "      <td>132.966600</td>\n",
       "      <td>134.035076</td>\n",
       "      <td>130.849780</td>\n",
       "      <td>298.084330</td>\n",
       "      <td>21727.622575</td>\n",
       "      <td>22879.205452</td>\n",
       "      <td>22042.948193</td>\n",
       "      <td>22056.644971</td>\n",
       "    </tr>\n",
       "    <tr>\n",
       "      <th>2019-11-01 02:00:00</th>\n",
       "      <td>6379.102250</td>\n",
       "      <td>23430.336545</td>\n",
       "      <td>9233.277262</td>\n",
       "      <td>4.285714</td>\n",
       "      <td>2067.933828</td>\n",
       "      <td>67.031974</td>\n",
       "      <td>5069.603650</td>\n",
       "      <td>0.0</td>\n",
       "      <td>NaN</td>\n",
       "      <td>1.070420</td>\n",
       "      <td>...</td>\n",
       "      <td>134.008106</td>\n",
       "      <td>130.675602</td>\n",
       "      <td>133.035094</td>\n",
       "      <td>134.001994</td>\n",
       "      <td>130.743083</td>\n",
       "      <td>297.930878</td>\n",
       "      <td>21836.766659</td>\n",
       "      <td>22970.057215</td>\n",
       "      <td>22156.774258</td>\n",
       "      <td>22105.218684</td>\n",
       "    </tr>\n",
       "    <tr>\n",
       "      <th>2019-11-01 03:00:00</th>\n",
       "      <td>6337.343084</td>\n",
       "      <td>23384.694743</td>\n",
       "      <td>9223.139014</td>\n",
       "      <td>4.775281</td>\n",
       "      <td>2062.488529</td>\n",
       "      <td>66.808810</td>\n",
       "      <td>5061.608939</td>\n",
       "      <td>0.0</td>\n",
       "      <td>NaN</td>\n",
       "      <td>1.044098</td>\n",
       "      <td>...</td>\n",
       "      <td>134.008312</td>\n",
       "      <td>130.613462</td>\n",
       "      <td>133.000552</td>\n",
       "      <td>133.979115</td>\n",
       "      <td>130.760757</td>\n",
       "      <td>298.052583</td>\n",
       "      <td>21783.450505</td>\n",
       "      <td>22920.952018</td>\n",
       "      <td>22088.356950</td>\n",
       "      <td>22064.178402</td>\n",
       "    </tr>\n",
       "    <tr>\n",
       "      <th>2019-11-01 04:00:00</th>\n",
       "      <td>6183.590302</td>\n",
       "      <td>23357.085677</td>\n",
       "      <td>9104.168620</td>\n",
       "      <td>4.388889</td>\n",
       "      <td>2055.162223</td>\n",
       "      <td>66.354369</td>\n",
       "      <td>5004.132636</td>\n",
       "      <td>0.0</td>\n",
       "      <td>NaN</td>\n",
       "      <td>1.044098</td>\n",
       "      <td>...</td>\n",
       "      <td>134.002098</td>\n",
       "      <td>130.614549</td>\n",
       "      <td>133.004748</td>\n",
       "      <td>134.000492</td>\n",
       "      <td>130.814450</td>\n",
       "      <td>298.039928</td>\n",
       "      <td>21748.715137</td>\n",
       "      <td>22895.312126</td>\n",
       "      <td>22073.622298</td>\n",
       "      <td>22053.480892</td>\n",
       "    </tr>\n",
       "  </tbody>\n",
       "</table>\n",
       "<p>5 rows × 59 columns</p>\n",
       "</div>"
      ],
      "text/plain": [
       "                     OXO-5FI635C Augusta  OXO-5FI661A Augusta   \n",
       "Date                                                            \n",
       "2019-11-01 00:00:00          5859.125648         23345.857389  \\\n",
       "2019-11-01 01:00:00          5950.173837         23346.553467   \n",
       "2019-11-01 02:00:00          6379.102250         23430.336545   \n",
       "2019-11-01 03:00:00          6337.343084         23384.694743   \n",
       "2019-11-01 04:00:00          6183.590302         23357.085677   \n",
       "\n",
       "                     OXO-5FI696 Augusta  OXO-5FIC132 Augusta   \n",
       "Date                                                           \n",
       "2019-11-01 00:00:00         9830.200195             4.450549  \\\n",
       "2019-11-01 01:00:00         9384.632992             4.410112   \n",
       "2019-11-01 02:00:00         9233.277262             4.285714   \n",
       "2019-11-01 03:00:00         9223.139014             4.775281   \n",
       "2019-11-01 04:00:00         9104.168620             4.388889   \n",
       "\n",
       "                     OXO-5FIC600 Augusta  OXO-5FIC601 Augusta   \n",
       "Date                                                            \n",
       "2019-11-01 00:00:00          2076.174093            67.208298  \\\n",
       "2019-11-01 01:00:00          2070.199284            67.204392   \n",
       "2019-11-01 02:00:00          2067.933828            67.031974   \n",
       "2019-11-01 03:00:00          2062.488529            66.808810   \n",
       "2019-11-01 04:00:00          2055.162223            66.354369   \n",
       "\n",
       "                     OXO-5FIC602 Augusta  OXO-5FIC603 Augusta   \n",
       "Date                                                            \n",
       "2019-11-01 00:00:00          5069.174366                  0.0  \\\n",
       "2019-11-01 01:00:00          5068.014148                  0.0   \n",
       "2019-11-01 02:00:00          5069.603650                  0.0   \n",
       "2019-11-01 03:00:00          5061.608939                  0.0   \n",
       "2019-11-01 04:00:00          5004.132636                  0.0   \n",
       "\n",
       "                     OXO-5FIC606A Augusta  OXO-5FIC606C Augusta  ...   \n",
       "Date                                                             ...   \n",
       "2019-11-01 00:00:00                   NaN              1.202029  ...  \\\n",
       "2019-11-01 01:00:00                   NaN              1.158160  ...   \n",
       "2019-11-01 02:00:00                   NaN              1.070420  ...   \n",
       "2019-11-01 03:00:00                   NaN              1.044098  ...   \n",
       "2019-11-01 04:00:00                   NaN              1.044098  ...   \n",
       "\n",
       "                     OXO-5TIC603 Augusta  OXO-5TIC604 Augusta   \n",
       "Date                                                            \n",
       "2019-11-01 00:00:00           133.996300           130.578919  \\\n",
       "2019-11-01 01:00:00           133.994588           130.640505   \n",
       "2019-11-01 02:00:00           134.008106           130.675602   \n",
       "2019-11-01 03:00:00           134.008312           130.613462   \n",
       "2019-11-01 04:00:00           134.002098           130.614549   \n",
       "\n",
       "                     OXO-5TIC605 Augusta  OXO-5TIC606 Augusta   \n",
       "Date                                                            \n",
       "2019-11-01 00:00:00           133.007764           134.032267  \\\n",
       "2019-11-01 01:00:00           132.966600           134.035076   \n",
       "2019-11-01 02:00:00           133.035094           134.001994   \n",
       "2019-11-01 03:00:00           133.000552           133.979115   \n",
       "2019-11-01 04:00:00           133.004748           134.000492   \n",
       "\n",
       "                     OXO-5TIC607 Augusta  OXO-5TIC659 Augusta   \n",
       "Date                                                            \n",
       "2019-11-01 00:00:00           130.899539           298.029910  \\\n",
       "2019-11-01 01:00:00           130.849780           298.084330   \n",
       "2019-11-01 02:00:00           130.743083           297.930878   \n",
       "2019-11-01 03:00:00           130.760757           298.052583   \n",
       "2019-11-01 04:00:00           130.814450           298.039928   \n",
       "\n",
       "                     OXO-_5FI658A Augusta  OXO-_5FI659A Augusta   \n",
       "Date                                                              \n",
       "2019-11-01 00:00:00          21719.630615          22870.976318  \\\n",
       "2019-11-01 01:00:00          21727.622575          22879.205452   \n",
       "2019-11-01 02:00:00          21836.766659          22970.057215   \n",
       "2019-11-01 03:00:00          21783.450505          22920.952018   \n",
       "2019-11-01 04:00:00          21748.715137          22895.312126   \n",
       "\n",
       "                     OXO-_5FI660A Augusta  OXO-_5FI662A Augusta  \n",
       "Date                                                             \n",
       "2019-11-01 00:00:00          22026.824772          22036.315560  \n",
       "2019-11-01 01:00:00          22042.948193          22056.644971  \n",
       "2019-11-01 02:00:00          22156.774258          22105.218684  \n",
       "2019-11-01 03:00:00          22088.356950          22064.178402  \n",
       "2019-11-01 04:00:00          22073.622298          22053.480892  \n",
       "\n",
       "[5 rows x 59 columns]"
      ]
     },
     "execution_count": 6,
     "metadata": {},
     "output_type": "execute_result"
    }
   ],
   "source": [
    "# df = data_exp.load_data('./data/lng_data_sample.csv', parse_dates=True, index_col=0)\n",
    "df = data_exp.load_data('./data/sasol_data_sample.csv', parse_dates=True, index_col=0)\n",
    "# df = data_exp.load_data('./data/coyote_data_sample.xlsx', parse_dates=False, index_col=0)\n",
    "df.head()"
   ]
  },
  {
   "cell_type": "markdown",
   "metadata": {},
   "source": [
    "get_data_size() function"
   ]
  },
  {
   "cell_type": "code",
   "execution_count": 13,
   "metadata": {},
   "outputs": [
    {
     "data": {
      "text/plain": [
       "(100, 59)"
      ]
     },
     "execution_count": 13,
     "metadata": {},
     "output_type": "execute_result"
    }
   ],
   "source": [
    "data_exp.get_data_size()"
   ]
  },
  {
   "cell_type": "markdown",
   "metadata": {},
   "source": [
    "get_data_type() function"
   ]
  },
  {
   "cell_type": "code",
   "execution_count": 14,
   "metadata": {},
   "outputs": [
    {
     "data": {
      "text/plain": [
       "float64    59\n",
       "Name: count, dtype: int64"
      ]
     },
     "execution_count": 14,
     "metadata": {},
     "output_type": "execute_result"
    }
   ],
   "source": [
    "data_exp.get_data_type()"
   ]
  },
  {
   "cell_type": "markdown",
   "metadata": {},
   "source": [
    "summarize_missing_data() function"
   ]
  },
  {
   "cell_type": "code",
   "execution_count": 15,
   "metadata": {},
   "outputs": [
    {
     "data": {
      "text/plain": [
       "OXO-5FIC606A Augusta    100\n",
       "OXO-5FIC611B Augusta    100\n",
       "OXO-5LI654F Augusta     100\n",
       "dtype: int64"
      ]
     },
     "execution_count": 15,
     "metadata": {},
     "output_type": "execute_result"
    }
   ],
   "source": [
    "data_exp.summarize_missing_data()"
   ]
  },
  {
   "cell_type": "markdown",
   "metadata": {},
   "source": [
    "visualize_missing_data() function"
   ]
  },
  {
   "cell_type": "code",
   "execution_count": 16,
   "metadata": {},
   "outputs": [],
   "source": [
    "# data_exp.visualize_missing_data()"
   ]
  },
  {
   "cell_type": "code",
   "execution_count": 17,
   "metadata": {},
   "outputs": [
    {
     "data": {
      "text/plain": [
       "'No data loaded'"
      ]
     },
     "execution_count": 17,
     "metadata": {},
     "output_type": "execute_result"
    }
   ],
   "source": [
    "from Data_Visualization.eda import EDA_Visualization\n",
    "\n",
    "eda_vis = EDA_Visualization(df)\n",
    "eda_vis.visualize_missing_data()"
   ]
  }
 ],
 "metadata": {
  "kernelspec": {
   "display_name": "SQLTool",
   "language": "python",
   "name": "python3"
  },
  "language_info": {
   "codemirror_mode": {
    "name": "ipython",
    "version": 3
   },
   "file_extension": ".py",
   "mimetype": "text/x-python",
   "name": "python",
   "nbconvert_exporter": "python",
   "pygments_lexer": "ipython3",
   "version": "3.11.2"
  },
  "orig_nbformat": 4
 },
 "nbformat": 4,
 "nbformat_minor": 2
}
