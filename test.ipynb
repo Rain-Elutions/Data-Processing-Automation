{
 "cells": [
  {
   "cell_type": "code",
   "execution_count": 1,
   "metadata": {},
   "outputs": [
    {
     "name": "stderr",
     "output_type": "stream",
     "text": [
      "c:\\Users\\krodriguez0109\\AppData\\Local\\anaconda3\\envs\\pytorch\\lib\\site-packages\\numpy\\_distributor_init.py:30: UserWarning: loaded more than 1 DLL from .libs:\n",
      "c:\\Users\\krodriguez0109\\AppData\\Local\\anaconda3\\envs\\pytorch\\lib\\site-packages\\numpy\\.libs\\libopenblas64__v0.3.21-gcc_10_3_0.dll\n",
      "c:\\Users\\krodriguez0109\\AppData\\Local\\anaconda3\\envs\\pytorch\\lib\\site-packages\\numpy\\.libs\\libopenblas64__v0.3.23-246-g3d31191b-gcc_10_3_0.dll\n",
      "  warnings.warn(\"loaded more than 1 DLL from .libs:\"\n"
     ]
    }
   ],
   "source": [
    "import pandas as pd\n",
    "from box import Box\n",
    "with open('config.yaml') as f:\n",
    "    cfg = Box.from_yaml(f.read())\n",
    "import warnings\n",
    "warnings.filterwarnings('ignore')\n",
    "from Data_Exploration.data_exploration_main import DataExploration\n",
    "from Data_Cleansing.data_cleansing_main import DataCleansing\n",
    "from Data_Preprocessing.data_preprocessing_main import DataPreprocessing, TargetEncoding, BinaryEncoding, OrdinalEncoding, FeatureScaling\n",
    "from Data_Preprocessing.feature_engineering import FeatureEngineering\n",
    "from Data_Analyzing.data_analysis_main import DataAnalysis\n",
    "from Data_Analyzing.feature_selection import FeatureSelection"
   ]
  },
  {
   "cell_type": "code",
   "execution_count": 35,
   "metadata": {},
   "outputs": [],
   "source": [
    "# data_exp = DataExploration()\n",
    "# df = data_exp.load_data('./data/raw_data/SWCC.csv', index_col=0, parse_dates=True)\n",
    "# df.head()"
   ]
  },
  {
   "cell_type": "code",
   "execution_count": 36,
   "metadata": {},
   "outputs": [],
   "source": [
    "# df_sample = df.head(1000)\n",
    "# df_sample.to_csv('./data/SWCC_sample_1000.csv')"
   ]
  },
  {
   "cell_type": "code",
   "execution_count": 37,
   "metadata": {},
   "outputs": [],
   "source": [
    "# data = pd.read_pickle('./data/raw_data/coyote_data_0731.pkl')\n",
    "# data.head()"
   ]
  },
  {
   "cell_type": "code",
   "execution_count": 38,
   "metadata": {},
   "outputs": [],
   "source": [
    "# data_sample = data.head(1000)\n",
    "# # move TotalCostUSD to the first column\n",
    "# cols = list(data_sample.columns)\n",
    "# cols.insert(0, cols.pop(cols.index('TotalCostUSD')))\n",
    "# data_sample = data_sample.loc[:, cols]\n",
    "# data_sample.to_excel('./data/coyote_0731_1000.xlsx', index=False)"
   ]
  },
  {
   "cell_type": "markdown",
   "metadata": {},
   "source": [
    "### Test DataExploration Module"
   ]
  },
  {
   "cell_type": "code",
   "execution_count": 39,
   "metadata": {},
   "outputs": [],
   "source": [
    "data_exp = DataExploration()"
   ]
  },
  {
   "cell_type": "markdown",
   "metadata": {},
   "source": [
    "load_data() function"
   ]
  },
  {
   "cell_type": "code",
   "execution_count": 40,
   "metadata": {},
   "outputs": [],
   "source": [
    "data_exp = DataExploration()\n",
    "\n",
    "# df = data_exp.load_data('./data/lng_data_sample.csv', parse_dates=True, index_col=0)\n",
    "# df = data_exp.load_data('./data/sasol_data_sample.csv', parse_dates=True, index_col=0)\n",
    "# df = data_exp.load_data('./data/coyote_data_sample_100.xlsx', parse_dates=False, index_col=0)\n",
    "df = data_exp.load_data('./data/coyote_data_sample_1000.pickle', parse_dates=False, index_col=0)\n",
    "# df = data_exp.load_data('./data/coyote_0731_1000.xlsx', parse_dates=False, index_col=False)\n",
    "# df = data_exp.load_data('./data/Essar_RE_Boilers_B21_sample.csv', parse_dates=True, index_col=0)\n",
    "# df = data_exp.load_data('./data/Savola_RO_BLEACHING_sample.csv', parse_dates=True, index_col=0)\n",
    "# df = data_exp.load_data('./data/SWCC_sample_1000.csv', parse_dates=True, index_col=0)"
   ]
  },
  {
   "cell_type": "code",
   "execution_count": 41,
   "metadata": {},
   "outputs": [
    {
     "data": {
      "text/html": [
       "<div>\n",
       "<style scoped>\n",
       "    .dataframe tbody tr th:only-of-type {\n",
       "        vertical-align: middle;\n",
       "    }\n",
       "\n",
       "    .dataframe tbody tr th {\n",
       "        vertical-align: top;\n",
       "    }\n",
       "\n",
       "    .dataframe thead th {\n",
       "        text-align: right;\n",
       "    }\n",
       "</style>\n",
       "<table border=\"1\" class=\"dataframe\">\n",
       "  <thead>\n",
       "    <tr style=\"text-align: right;\">\n",
       "      <th></th>\n",
       "      <th>IsCustomerHighPriority</th>\n",
       "      <th>IsCommodityStackable</th>\n",
       "      <th>CommodityID</th>\n",
       "      <th>CommodityCode</th>\n",
       "      <th>BizUnit</th>\n",
       "      <th>NormalizedEQ</th>\n",
       "      <th>NormalizedLoadRank</th>\n",
       "      <th>BookType</th>\n",
       "      <th>BuildType</th>\n",
       "      <th>NormalizedCustomerSalesStatus</th>\n",
       "      <th>...</th>\n",
       "      <th>TRUCKD11</th>\n",
       "      <th>DJTA</th>\n",
       "      <th>DTB3</th>\n",
       "      <th>GASREGW</th>\n",
       "      <th>IPG2122N</th>\n",
       "      <th>IPG3361T3S</th>\n",
       "      <th>GDP</th>\n",
       "      <th>PPIACO</th>\n",
       "      <th>BUSINV</th>\n",
       "      <th>PCU48414841</th>\n",
       "    </tr>\n",
       "    <tr>\n",
       "      <th>LoadID</th>\n",
       "      <th></th>\n",
       "      <th></th>\n",
       "      <th></th>\n",
       "      <th></th>\n",
       "      <th></th>\n",
       "      <th></th>\n",
       "      <th></th>\n",
       "      <th></th>\n",
       "      <th></th>\n",
       "      <th></th>\n",
       "      <th></th>\n",
       "      <th></th>\n",
       "      <th></th>\n",
       "      <th></th>\n",
       "      <th></th>\n",
       "      <th></th>\n",
       "      <th></th>\n",
       "      <th></th>\n",
       "      <th></th>\n",
       "      <th></th>\n",
       "      <th></th>\n",
       "    </tr>\n",
       "  </thead>\n",
       "  <tbody>\n",
       "    <tr>\n",
       "      <th>18503541</th>\n",
       "      <td>False</td>\n",
       "      <td>False</td>\n",
       "      <td>0.0</td>\n",
       "      <td></td>\n",
       "      <td>Core</td>\n",
       "      <td>V</td>\n",
       "      <td>Spot</td>\n",
       "      <td>Prebook</td>\n",
       "      <td>PreBuild</td>\n",
       "      <td>Non-Enterprise</td>\n",
       "      <td>...</td>\n",
       "      <td>116.1</td>\n",
       "      <td>10994.31</td>\n",
       "      <td>1.51</td>\n",
       "      <td>2.571</td>\n",
       "      <td>93.274</td>\n",
       "      <td>103.129</td>\n",
       "      <td>21538.032</td>\n",
       "      <td>199.3</td>\n",
       "      <td>2037185.0</td>\n",
       "      <td>152.2</td>\n",
       "    </tr>\n",
       "    <tr>\n",
       "      <th>18503542</th>\n",
       "      <td>False</td>\n",
       "      <td>False</td>\n",
       "      <td>0.0</td>\n",
       "      <td></td>\n",
       "      <td>Core</td>\n",
       "      <td>V</td>\n",
       "      <td>Spot</td>\n",
       "      <td>Prebook</td>\n",
       "      <td>PreBuild</td>\n",
       "      <td>Non-Enterprise</td>\n",
       "      <td>...</td>\n",
       "      <td>116.1</td>\n",
       "      <td>10994.31</td>\n",
       "      <td>1.51</td>\n",
       "      <td>2.571</td>\n",
       "      <td>93.274</td>\n",
       "      <td>103.129</td>\n",
       "      <td>21538.032</td>\n",
       "      <td>199.3</td>\n",
       "      <td>2037185.0</td>\n",
       "      <td>152.2</td>\n",
       "    </tr>\n",
       "    <tr>\n",
       "      <th>18503953</th>\n",
       "      <td>False</td>\n",
       "      <td>False</td>\n",
       "      <td>0.0</td>\n",
       "      <td>MISC</td>\n",
       "      <td>Core</td>\n",
       "      <td>V</td>\n",
       "      <td>Spot</td>\n",
       "      <td>Prebook</td>\n",
       "      <td>PreBuild</td>\n",
       "      <td>Managed</td>\n",
       "      <td>...</td>\n",
       "      <td>116.1</td>\n",
       "      <td>10994.31</td>\n",
       "      <td>1.51</td>\n",
       "      <td>2.571</td>\n",
       "      <td>93.274</td>\n",
       "      <td>103.129</td>\n",
       "      <td>21538.032</td>\n",
       "      <td>199.3</td>\n",
       "      <td>2037185.0</td>\n",
       "      <td>152.2</td>\n",
       "    </tr>\n",
       "    <tr>\n",
       "      <th>18503956</th>\n",
       "      <td>False</td>\n",
       "      <td>False</td>\n",
       "      <td>0.0</td>\n",
       "      <td>MISC</td>\n",
       "      <td>Core</td>\n",
       "      <td>V</td>\n",
       "      <td>Spot</td>\n",
       "      <td>Prebook</td>\n",
       "      <td>PreBuild</td>\n",
       "      <td>Managed</td>\n",
       "      <td>...</td>\n",
       "      <td>116.1</td>\n",
       "      <td>10994.31</td>\n",
       "      <td>1.51</td>\n",
       "      <td>2.571</td>\n",
       "      <td>93.274</td>\n",
       "      <td>103.129</td>\n",
       "      <td>21538.032</td>\n",
       "      <td>199.3</td>\n",
       "      <td>2037185.0</td>\n",
       "      <td>152.2</td>\n",
       "    </tr>\n",
       "    <tr>\n",
       "      <th>18504283</th>\n",
       "      <td>False</td>\n",
       "      <td>False</td>\n",
       "      <td>0.0</td>\n",
       "      <td>ca</td>\n",
       "      <td>Core</td>\n",
       "      <td>F</td>\n",
       "      <td>Spot</td>\n",
       "      <td>SameDay</td>\n",
       "      <td>SameDayBuild</td>\n",
       "      <td>Non-Enterprise</td>\n",
       "      <td>...</td>\n",
       "      <td>116.1</td>\n",
       "      <td>10994.31</td>\n",
       "      <td>1.51</td>\n",
       "      <td>2.571</td>\n",
       "      <td>93.274</td>\n",
       "      <td>103.129</td>\n",
       "      <td>21538.032</td>\n",
       "      <td>199.3</td>\n",
       "      <td>2037185.0</td>\n",
       "      <td>152.2</td>\n",
       "    </tr>\n",
       "  </tbody>\n",
       "</table>\n",
       "<p>5 rows × 96 columns</p>\n",
       "</div>"
      ],
      "text/plain": [
       "          IsCustomerHighPriority  IsCommodityStackable CommodityID  \\\n",
       "LoadID                                                               \n",
       "18503541                   False                 False         0.0   \n",
       "18503542                   False                 False         0.0   \n",
       "18503953                   False                 False         0.0   \n",
       "18503956                   False                 False         0.0   \n",
       "18504283                   False                 False         0.0   \n",
       "\n",
       "         CommodityCode BizUnit NormalizedEQ NormalizedLoadRank BookType  \\\n",
       "LoadID                                                                    \n",
       "18503541                  Core            V               Spot  Prebook   \n",
       "18503542                  Core            V               Spot  Prebook   \n",
       "18503953          MISC    Core            V               Spot  Prebook   \n",
       "18503956          MISC    Core            V               Spot  Prebook   \n",
       "18504283            ca    Core            F               Spot  SameDay   \n",
       "\n",
       "             BuildType NormalizedCustomerSalesStatus  ... TRUCKD11      DJTA  \\\n",
       "LoadID                                                ...                      \n",
       "18503541      PreBuild                Non-Enterprise  ...    116.1  10994.31   \n",
       "18503542      PreBuild                Non-Enterprise  ...    116.1  10994.31   \n",
       "18503953      PreBuild                       Managed  ...    116.1  10994.31   \n",
       "18503956      PreBuild                       Managed  ...    116.1  10994.31   \n",
       "18504283  SameDayBuild                Non-Enterprise  ...    116.1  10994.31   \n",
       "\n",
       "          DTB3 GASREGW IPG2122N IPG3361T3S        GDP PPIACO     BUSINV  \\\n",
       "LoadID                                                                    \n",
       "18503541  1.51   2.571   93.274    103.129  21538.032  199.3  2037185.0   \n",
       "18503542  1.51   2.571   93.274    103.129  21538.032  199.3  2037185.0   \n",
       "18503953  1.51   2.571   93.274    103.129  21538.032  199.3  2037185.0   \n",
       "18503956  1.51   2.571   93.274    103.129  21538.032  199.3  2037185.0   \n",
       "18504283  1.51   2.571   93.274    103.129  21538.032  199.3  2037185.0   \n",
       "\n",
       "         PCU48414841  \n",
       "LoadID                \n",
       "18503541       152.2  \n",
       "18503542       152.2  \n",
       "18503953       152.2  \n",
       "18503956       152.2  \n",
       "18504283       152.2  \n",
       "\n",
       "[5 rows x 96 columns]"
      ]
     },
     "execution_count": 41,
     "metadata": {},
     "output_type": "execute_result"
    }
   ],
   "source": [
    "df.head()"
   ]
  },
  {
   "cell_type": "code",
   "execution_count": 42,
   "metadata": {},
   "outputs": [],
   "source": [
    "# df.iloc[0:10, 0] = None"
   ]
  },
  {
   "cell_type": "markdown",
   "metadata": {},
   "source": [
    "get_data_size() function"
   ]
  },
  {
   "cell_type": "code",
   "execution_count": 43,
   "metadata": {},
   "outputs": [
    {
     "name": "stdout",
     "output_type": "stream",
     "text": [
      "Data size: (1000, 96)\n"
     ]
    }
   ],
   "source": [
    "data_exp.get_data_size()"
   ]
  },
  {
   "cell_type": "markdown",
   "metadata": {},
   "source": [
    "get_data_type() &  summarize_data_type() function"
   ]
  },
  {
   "cell_type": "code",
   "execution_count": 44,
   "metadata": {},
   "outputs": [
    {
     "name": "stdout",
     "output_type": "stream",
     "text": [
      "Data type of column IsCustomerHighPriority is:  bool\n"
     ]
    }
   ],
   "source": [
    "data_exp.get_data_type(df,df.columns[0])"
   ]
  },
  {
   "cell_type": "code",
   "execution_count": 45,
   "metadata": {},
   "outputs": [
    {
     "name": "stdout",
     "output_type": "stream",
     "text": [
      "Data types summary:\n",
      " float64           39\n",
      "bool              17\n",
      "object            13\n",
      "int64              7\n",
      "datetime64[ns]     3\n",
      "category           2\n",
      "category           1\n",
      "category           1\n",
      "category           1\n",
      "category           1\n",
      "category           1\n",
      "category           1\n",
      "category           1\n",
      "category           1\n",
      "category           1\n",
      "category           1\n",
      "category           1\n",
      "category           1\n",
      "category           1\n",
      "category           1\n",
      "period[D]          1\n",
      "Name: count, dtype: int64\n"
     ]
    }
   ],
   "source": [
    "data_exp.summarize_data_type()"
   ]
  },
  {
   "cell_type": "markdown",
   "metadata": {},
   "source": [
    "summarize_missing_data() function"
   ]
  },
  {
   "cell_type": "code",
   "execution_count": 46,
   "metadata": {},
   "outputs": [
    {
     "name": "stdout",
     "output_type": "stream",
     "text": [
      "Missing data summary:\n",
      "CommodityCode     892\n",
      "MXCrossBorder    1000\n",
      "dtype: int64\n"
     ]
    }
   ],
   "source": [
    "data_exp.summarize_missing_data()"
   ]
  },
  {
   "cell_type": "markdown",
   "metadata": {},
   "source": [
    "visualize_missing_data() function"
   ]
  },
  {
   "cell_type": "code",
   "execution_count": 47,
   "metadata": {},
   "outputs": [],
   "source": [
    "# data_exp.visualize_missing_data()"
   ]
  },
  {
   "cell_type": "code",
   "execution_count": 48,
   "metadata": {},
   "outputs": [
    {
     "data": {
      "application/vnd.plotly.v1+json": {
       "config": {
        "plotlyServerURL": "https://plot.ly"
       },
       "data": [
        {
         "type": "bar",
         "x": [
          "IsCustomerHighPriority",
          "IsCommodityStackable",
          "CommodityID",
          "CommodityCode",
          "BizUnit",
          "NormalizedEQ",
          "NormalizedLoadRank",
          "BookType",
          "BuildType",
          "NormalizedCustomerSalesStatus",
          "MXCrossBorder",
          "DelDate",
          "Unnamed: 0",
          "Mode",
          "ProgressType",
          "Type",
          "StateType",
          "LoadingPosition",
          "StatusType",
          "Plan",
          "ShipmentType",
          "EquipmentType",
          "LoadDate",
          "CreateDate",
          "EquipmentLength",
          "EquipmentWidth",
          "EquipmentHeight",
          "MinTemp",
          "MaxTemp",
          "TotalValue",
          "Miles",
          "TotalWeight",
          "Tarps",
          "Repeat",
          "TankerUnload",
          "TankerRooms",
          "TankerVolume",
          "TankerVolumeUnit",
          "NumStops",
          "TotalPallets"
         ],
         "y": [
          0,
          0,
          0,
          0,
          0,
          0,
          0,
          0,
          0,
          0,
          0,
          0,
          0,
          0,
          0,
          0,
          0,
          0,
          0,
          0,
          0,
          0,
          0,
          0,
          0,
          0,
          0,
          0,
          0,
          0,
          0,
          0,
          0,
          0,
          0,
          0,
          0,
          0,
          0,
          0
         ]
        }
       ],
       "layout": {
        "template": {
         "data": {
          "bar": [
           {
            "error_x": {
             "color": "#2a3f5f"
            },
            "error_y": {
             "color": "#2a3f5f"
            },
            "marker": {
             "line": {
              "color": "#E5ECF6",
              "width": 0.5
             },
             "pattern": {
              "fillmode": "overlay",
              "size": 10,
              "solidity": 0.2
             }
            },
            "type": "bar"
           }
          ],
          "barpolar": [
           {
            "marker": {
             "line": {
              "color": "#E5ECF6",
              "width": 0.5
             },
             "pattern": {
              "fillmode": "overlay",
              "size": 10,
              "solidity": 0.2
             }
            },
            "type": "barpolar"
           }
          ],
          "carpet": [
           {
            "aaxis": {
             "endlinecolor": "#2a3f5f",
             "gridcolor": "white",
             "linecolor": "white",
             "minorgridcolor": "white",
             "startlinecolor": "#2a3f5f"
            },
            "baxis": {
             "endlinecolor": "#2a3f5f",
             "gridcolor": "white",
             "linecolor": "white",
             "minorgridcolor": "white",
             "startlinecolor": "#2a3f5f"
            },
            "type": "carpet"
           }
          ],
          "choropleth": [
           {
            "colorbar": {
             "outlinewidth": 0,
             "ticks": ""
            },
            "type": "choropleth"
           }
          ],
          "contour": [
           {
            "colorbar": {
             "outlinewidth": 0,
             "ticks": ""
            },
            "colorscale": [
             [
              0,
              "#0d0887"
             ],
             [
              0.1111111111111111,
              "#46039f"
             ],
             [
              0.2222222222222222,
              "#7201a8"
             ],
             [
              0.3333333333333333,
              "#9c179e"
             ],
             [
              0.4444444444444444,
              "#bd3786"
             ],
             [
              0.5555555555555556,
              "#d8576b"
             ],
             [
              0.6666666666666666,
              "#ed7953"
             ],
             [
              0.7777777777777778,
              "#fb9f3a"
             ],
             [
              0.8888888888888888,
              "#fdca26"
             ],
             [
              1,
              "#f0f921"
             ]
            ],
            "type": "contour"
           }
          ],
          "contourcarpet": [
           {
            "colorbar": {
             "outlinewidth": 0,
             "ticks": ""
            },
            "type": "contourcarpet"
           }
          ],
          "heatmap": [
           {
            "colorbar": {
             "outlinewidth": 0,
             "ticks": ""
            },
            "colorscale": [
             [
              0,
              "#0d0887"
             ],
             [
              0.1111111111111111,
              "#46039f"
             ],
             [
              0.2222222222222222,
              "#7201a8"
             ],
             [
              0.3333333333333333,
              "#9c179e"
             ],
             [
              0.4444444444444444,
              "#bd3786"
             ],
             [
              0.5555555555555556,
              "#d8576b"
             ],
             [
              0.6666666666666666,
              "#ed7953"
             ],
             [
              0.7777777777777778,
              "#fb9f3a"
             ],
             [
              0.8888888888888888,
              "#fdca26"
             ],
             [
              1,
              "#f0f921"
             ]
            ],
            "type": "heatmap"
           }
          ],
          "heatmapgl": [
           {
            "colorbar": {
             "outlinewidth": 0,
             "ticks": ""
            },
            "colorscale": [
             [
              0,
              "#0d0887"
             ],
             [
              0.1111111111111111,
              "#46039f"
             ],
             [
              0.2222222222222222,
              "#7201a8"
             ],
             [
              0.3333333333333333,
              "#9c179e"
             ],
             [
              0.4444444444444444,
              "#bd3786"
             ],
             [
              0.5555555555555556,
              "#d8576b"
             ],
             [
              0.6666666666666666,
              "#ed7953"
             ],
             [
              0.7777777777777778,
              "#fb9f3a"
             ],
             [
              0.8888888888888888,
              "#fdca26"
             ],
             [
              1,
              "#f0f921"
             ]
            ],
            "type": "heatmapgl"
           }
          ],
          "histogram": [
           {
            "marker": {
             "pattern": {
              "fillmode": "overlay",
              "size": 10,
              "solidity": 0.2
             }
            },
            "type": "histogram"
           }
          ],
          "histogram2d": [
           {
            "colorbar": {
             "outlinewidth": 0,
             "ticks": ""
            },
            "colorscale": [
             [
              0,
              "#0d0887"
             ],
             [
              0.1111111111111111,
              "#46039f"
             ],
             [
              0.2222222222222222,
              "#7201a8"
             ],
             [
              0.3333333333333333,
              "#9c179e"
             ],
             [
              0.4444444444444444,
              "#bd3786"
             ],
             [
              0.5555555555555556,
              "#d8576b"
             ],
             [
              0.6666666666666666,
              "#ed7953"
             ],
             [
              0.7777777777777778,
              "#fb9f3a"
             ],
             [
              0.8888888888888888,
              "#fdca26"
             ],
             [
              1,
              "#f0f921"
             ]
            ],
            "type": "histogram2d"
           }
          ],
          "histogram2dcontour": [
           {
            "colorbar": {
             "outlinewidth": 0,
             "ticks": ""
            },
            "colorscale": [
             [
              0,
              "#0d0887"
             ],
             [
              0.1111111111111111,
              "#46039f"
             ],
             [
              0.2222222222222222,
              "#7201a8"
             ],
             [
              0.3333333333333333,
              "#9c179e"
             ],
             [
              0.4444444444444444,
              "#bd3786"
             ],
             [
              0.5555555555555556,
              "#d8576b"
             ],
             [
              0.6666666666666666,
              "#ed7953"
             ],
             [
              0.7777777777777778,
              "#fb9f3a"
             ],
             [
              0.8888888888888888,
              "#fdca26"
             ],
             [
              1,
              "#f0f921"
             ]
            ],
            "type": "histogram2dcontour"
           }
          ],
          "mesh3d": [
           {
            "colorbar": {
             "outlinewidth": 0,
             "ticks": ""
            },
            "type": "mesh3d"
           }
          ],
          "parcoords": [
           {
            "line": {
             "colorbar": {
              "outlinewidth": 0,
              "ticks": ""
             }
            },
            "type": "parcoords"
           }
          ],
          "pie": [
           {
            "automargin": true,
            "type": "pie"
           }
          ],
          "scatter": [
           {
            "fillpattern": {
             "fillmode": "overlay",
             "size": 10,
             "solidity": 0.2
            },
            "type": "scatter"
           }
          ],
          "scatter3d": [
           {
            "line": {
             "colorbar": {
              "outlinewidth": 0,
              "ticks": ""
             }
            },
            "marker": {
             "colorbar": {
              "outlinewidth": 0,
              "ticks": ""
             }
            },
            "type": "scatter3d"
           }
          ],
          "scattercarpet": [
           {
            "marker": {
             "colorbar": {
              "outlinewidth": 0,
              "ticks": ""
             }
            },
            "type": "scattercarpet"
           }
          ],
          "scattergeo": [
           {
            "marker": {
             "colorbar": {
              "outlinewidth": 0,
              "ticks": ""
             }
            },
            "type": "scattergeo"
           }
          ],
          "scattergl": [
           {
            "marker": {
             "colorbar": {
              "outlinewidth": 0,
              "ticks": ""
             }
            },
            "type": "scattergl"
           }
          ],
          "scattermapbox": [
           {
            "marker": {
             "colorbar": {
              "outlinewidth": 0,
              "ticks": ""
             }
            },
            "type": "scattermapbox"
           }
          ],
          "scatterpolar": [
           {
            "marker": {
             "colorbar": {
              "outlinewidth": 0,
              "ticks": ""
             }
            },
            "type": "scatterpolar"
           }
          ],
          "scatterpolargl": [
           {
            "marker": {
             "colorbar": {
              "outlinewidth": 0,
              "ticks": ""
             }
            },
            "type": "scatterpolargl"
           }
          ],
          "scatterternary": [
           {
            "marker": {
             "colorbar": {
              "outlinewidth": 0,
              "ticks": ""
             }
            },
            "type": "scatterternary"
           }
          ],
          "surface": [
           {
            "colorbar": {
             "outlinewidth": 0,
             "ticks": ""
            },
            "colorscale": [
             [
              0,
              "#0d0887"
             ],
             [
              0.1111111111111111,
              "#46039f"
             ],
             [
              0.2222222222222222,
              "#7201a8"
             ],
             [
              0.3333333333333333,
              "#9c179e"
             ],
             [
              0.4444444444444444,
              "#bd3786"
             ],
             [
              0.5555555555555556,
              "#d8576b"
             ],
             [
              0.6666666666666666,
              "#ed7953"
             ],
             [
              0.7777777777777778,
              "#fb9f3a"
             ],
             [
              0.8888888888888888,
              "#fdca26"
             ],
             [
              1,
              "#f0f921"
             ]
            ],
            "type": "surface"
           }
          ],
          "table": [
           {
            "cells": {
             "fill": {
              "color": "#EBF0F8"
             },
             "line": {
              "color": "white"
             }
            },
            "header": {
             "fill": {
              "color": "#C8D4E3"
             },
             "line": {
              "color": "white"
             }
            },
            "type": "table"
           }
          ]
         },
         "layout": {
          "annotationdefaults": {
           "arrowcolor": "#2a3f5f",
           "arrowhead": 0,
           "arrowwidth": 1
          },
          "autotypenumbers": "strict",
          "coloraxis": {
           "colorbar": {
            "outlinewidth": 0,
            "ticks": ""
           }
          },
          "colorscale": {
           "diverging": [
            [
             0,
             "#8e0152"
            ],
            [
             0.1,
             "#c51b7d"
            ],
            [
             0.2,
             "#de77ae"
            ],
            [
             0.3,
             "#f1b6da"
            ],
            [
             0.4,
             "#fde0ef"
            ],
            [
             0.5,
             "#f7f7f7"
            ],
            [
             0.6,
             "#e6f5d0"
            ],
            [
             0.7,
             "#b8e186"
            ],
            [
             0.8,
             "#7fbc41"
            ],
            [
             0.9,
             "#4d9221"
            ],
            [
             1,
             "#276419"
            ]
           ],
           "sequential": [
            [
             0,
             "#0d0887"
            ],
            [
             0.1111111111111111,
             "#46039f"
            ],
            [
             0.2222222222222222,
             "#7201a8"
            ],
            [
             0.3333333333333333,
             "#9c179e"
            ],
            [
             0.4444444444444444,
             "#bd3786"
            ],
            [
             0.5555555555555556,
             "#d8576b"
            ],
            [
             0.6666666666666666,
             "#ed7953"
            ],
            [
             0.7777777777777778,
             "#fb9f3a"
            ],
            [
             0.8888888888888888,
             "#fdca26"
            ],
            [
             1,
             "#f0f921"
            ]
           ],
           "sequentialminus": [
            [
             0,
             "#0d0887"
            ],
            [
             0.1111111111111111,
             "#46039f"
            ],
            [
             0.2222222222222222,
             "#7201a8"
            ],
            [
             0.3333333333333333,
             "#9c179e"
            ],
            [
             0.4444444444444444,
             "#bd3786"
            ],
            [
             0.5555555555555556,
             "#d8576b"
            ],
            [
             0.6666666666666666,
             "#ed7953"
            ],
            [
             0.7777777777777778,
             "#fb9f3a"
            ],
            [
             0.8888888888888888,
             "#fdca26"
            ],
            [
             1,
             "#f0f921"
            ]
           ]
          },
          "colorway": [
           "#636efa",
           "#EF553B",
           "#00cc96",
           "#ab63fa",
           "#FFA15A",
           "#19d3f3",
           "#FF6692",
           "#B6E880",
           "#FF97FF",
           "#FECB52"
          ],
          "font": {
           "color": "#2a3f5f"
          },
          "geo": {
           "bgcolor": "white",
           "lakecolor": "white",
           "landcolor": "#E5ECF6",
           "showlakes": true,
           "showland": true,
           "subunitcolor": "white"
          },
          "hoverlabel": {
           "align": "left"
          },
          "hovermode": "closest",
          "mapbox": {
           "style": "light"
          },
          "paper_bgcolor": "white",
          "plot_bgcolor": "#E5ECF6",
          "polar": {
           "angularaxis": {
            "gridcolor": "white",
            "linecolor": "white",
            "ticks": ""
           },
           "bgcolor": "#E5ECF6",
           "radialaxis": {
            "gridcolor": "white",
            "linecolor": "white",
            "ticks": ""
           }
          },
          "scene": {
           "xaxis": {
            "backgroundcolor": "#E5ECF6",
            "gridcolor": "white",
            "gridwidth": 2,
            "linecolor": "white",
            "showbackground": true,
            "ticks": "",
            "zerolinecolor": "white"
           },
           "yaxis": {
            "backgroundcolor": "#E5ECF6",
            "gridcolor": "white",
            "gridwidth": 2,
            "linecolor": "white",
            "showbackground": true,
            "ticks": "",
            "zerolinecolor": "white"
           },
           "zaxis": {
            "backgroundcolor": "#E5ECF6",
            "gridcolor": "white",
            "gridwidth": 2,
            "linecolor": "white",
            "showbackground": true,
            "ticks": "",
            "zerolinecolor": "white"
           }
          },
          "shapedefaults": {
           "line": {
            "color": "#2a3f5f"
           }
          },
          "ternary": {
           "aaxis": {
            "gridcolor": "white",
            "linecolor": "white",
            "ticks": ""
           },
           "baxis": {
            "gridcolor": "white",
            "linecolor": "white",
            "ticks": ""
           },
           "bgcolor": "#E5ECF6",
           "caxis": {
            "gridcolor": "white",
            "linecolor": "white",
            "ticks": ""
           }
          },
          "title": {
           "x": 0.05
          },
          "xaxis": {
           "automargin": true,
           "gridcolor": "white",
           "linecolor": "white",
           "ticks": "",
           "title": {
            "standoff": 15
           },
           "zerolinecolor": "white",
           "zerolinewidth": 2
          },
          "yaxis": {
           "automargin": true,
           "gridcolor": "white",
           "linecolor": "white",
           "ticks": "",
           "title": {
            "standoff": 15
           },
           "zerolinecolor": "white",
           "zerolinewidth": 2
          }
         }
        },
        "title": {
         "text": "Missing Data"
        },
        "xaxis": {
         "title": {
          "text": "Columns"
         }
        },
        "yaxis": {
         "rangemode": "tozero",
         "title": {
          "text": "Missing Count"
         }
        }
       }
      }
     },
     "metadata": {},
     "output_type": "display_data"
    },
    {
     "data": {
      "application/vnd.plotly.v1+json": {
       "config": {
        "plotlyServerURL": "https://plot.ly"
       },
       "data": [
        {
         "type": "bar",
         "x": [
          "LoadCommodityMasterLinkID",
          "Concealed",
          "Team",
          "Private",
          "Rolled",
          "TankerContainer",
          "TankerLiquid",
          "TankerFood",
          "TankerReefer",
          "TankerHazMat",
          "TankerGMP",
          "Hot",
          "Liquor",
          "TWIC",
          "TMSPrivateCarrier",
          "FloodRelief",
          "Govt",
          "HRHV",
          "Seal",
          "OriginFacilityID",
          "DestinationFacilityID",
          "OriginCityID",
          "GeneralOriginCityID",
          "DestinationCityID",
          "GeneralDestinationCityID",
          "OriginLatitude",
          "OriginLongitude",
          "DestinationLatitude",
          "DestinationLongitude",
          "BookByDateTimeUTC",
          "Main",
          "current_date",
          "Volume_Last_30",
          "Avg_Cost_Last_30",
          "Avg_Rate_Last_30",
          "NTIBooked",
          "NTIAssumed",
          "TenderVolume",
          "S/D Ratio",
          "Avg_Weight_Last_14"
         ],
         "y": [
          0,
          0,
          0,
          0,
          0,
          0,
          0,
          0,
          0,
          0,
          0,
          0,
          0,
          0,
          0,
          0,
          0,
          0,
          0,
          0,
          0,
          0,
          0,
          0,
          0,
          0,
          0,
          0,
          0,
          0,
          0,
          0,
          0,
          0,
          0,
          0,
          0,
          0,
          0,
          0
         ]
        }
       ],
       "layout": {
        "template": {
         "data": {
          "bar": [
           {
            "error_x": {
             "color": "#2a3f5f"
            },
            "error_y": {
             "color": "#2a3f5f"
            },
            "marker": {
             "line": {
              "color": "#E5ECF6",
              "width": 0.5
             },
             "pattern": {
              "fillmode": "overlay",
              "size": 10,
              "solidity": 0.2
             }
            },
            "type": "bar"
           }
          ],
          "barpolar": [
           {
            "marker": {
             "line": {
              "color": "#E5ECF6",
              "width": 0.5
             },
             "pattern": {
              "fillmode": "overlay",
              "size": 10,
              "solidity": 0.2
             }
            },
            "type": "barpolar"
           }
          ],
          "carpet": [
           {
            "aaxis": {
             "endlinecolor": "#2a3f5f",
             "gridcolor": "white",
             "linecolor": "white",
             "minorgridcolor": "white",
             "startlinecolor": "#2a3f5f"
            },
            "baxis": {
             "endlinecolor": "#2a3f5f",
             "gridcolor": "white",
             "linecolor": "white",
             "minorgridcolor": "white",
             "startlinecolor": "#2a3f5f"
            },
            "type": "carpet"
           }
          ],
          "choropleth": [
           {
            "colorbar": {
             "outlinewidth": 0,
             "ticks": ""
            },
            "type": "choropleth"
           }
          ],
          "contour": [
           {
            "colorbar": {
             "outlinewidth": 0,
             "ticks": ""
            },
            "colorscale": [
             [
              0,
              "#0d0887"
             ],
             [
              0.1111111111111111,
              "#46039f"
             ],
             [
              0.2222222222222222,
              "#7201a8"
             ],
             [
              0.3333333333333333,
              "#9c179e"
             ],
             [
              0.4444444444444444,
              "#bd3786"
             ],
             [
              0.5555555555555556,
              "#d8576b"
             ],
             [
              0.6666666666666666,
              "#ed7953"
             ],
             [
              0.7777777777777778,
              "#fb9f3a"
             ],
             [
              0.8888888888888888,
              "#fdca26"
             ],
             [
              1,
              "#f0f921"
             ]
            ],
            "type": "contour"
           }
          ],
          "contourcarpet": [
           {
            "colorbar": {
             "outlinewidth": 0,
             "ticks": ""
            },
            "type": "contourcarpet"
           }
          ],
          "heatmap": [
           {
            "colorbar": {
             "outlinewidth": 0,
             "ticks": ""
            },
            "colorscale": [
             [
              0,
              "#0d0887"
             ],
             [
              0.1111111111111111,
              "#46039f"
             ],
             [
              0.2222222222222222,
              "#7201a8"
             ],
             [
              0.3333333333333333,
              "#9c179e"
             ],
             [
              0.4444444444444444,
              "#bd3786"
             ],
             [
              0.5555555555555556,
              "#d8576b"
             ],
             [
              0.6666666666666666,
              "#ed7953"
             ],
             [
              0.7777777777777778,
              "#fb9f3a"
             ],
             [
              0.8888888888888888,
              "#fdca26"
             ],
             [
              1,
              "#f0f921"
             ]
            ],
            "type": "heatmap"
           }
          ],
          "heatmapgl": [
           {
            "colorbar": {
             "outlinewidth": 0,
             "ticks": ""
            },
            "colorscale": [
             [
              0,
              "#0d0887"
             ],
             [
              0.1111111111111111,
              "#46039f"
             ],
             [
              0.2222222222222222,
              "#7201a8"
             ],
             [
              0.3333333333333333,
              "#9c179e"
             ],
             [
              0.4444444444444444,
              "#bd3786"
             ],
             [
              0.5555555555555556,
              "#d8576b"
             ],
             [
              0.6666666666666666,
              "#ed7953"
             ],
             [
              0.7777777777777778,
              "#fb9f3a"
             ],
             [
              0.8888888888888888,
              "#fdca26"
             ],
             [
              1,
              "#f0f921"
             ]
            ],
            "type": "heatmapgl"
           }
          ],
          "histogram": [
           {
            "marker": {
             "pattern": {
              "fillmode": "overlay",
              "size": 10,
              "solidity": 0.2
             }
            },
            "type": "histogram"
           }
          ],
          "histogram2d": [
           {
            "colorbar": {
             "outlinewidth": 0,
             "ticks": ""
            },
            "colorscale": [
             [
              0,
              "#0d0887"
             ],
             [
              0.1111111111111111,
              "#46039f"
             ],
             [
              0.2222222222222222,
              "#7201a8"
             ],
             [
              0.3333333333333333,
              "#9c179e"
             ],
             [
              0.4444444444444444,
              "#bd3786"
             ],
             [
              0.5555555555555556,
              "#d8576b"
             ],
             [
              0.6666666666666666,
              "#ed7953"
             ],
             [
              0.7777777777777778,
              "#fb9f3a"
             ],
             [
              0.8888888888888888,
              "#fdca26"
             ],
             [
              1,
              "#f0f921"
             ]
            ],
            "type": "histogram2d"
           }
          ],
          "histogram2dcontour": [
           {
            "colorbar": {
             "outlinewidth": 0,
             "ticks": ""
            },
            "colorscale": [
             [
              0,
              "#0d0887"
             ],
             [
              0.1111111111111111,
              "#46039f"
             ],
             [
              0.2222222222222222,
              "#7201a8"
             ],
             [
              0.3333333333333333,
              "#9c179e"
             ],
             [
              0.4444444444444444,
              "#bd3786"
             ],
             [
              0.5555555555555556,
              "#d8576b"
             ],
             [
              0.6666666666666666,
              "#ed7953"
             ],
             [
              0.7777777777777778,
              "#fb9f3a"
             ],
             [
              0.8888888888888888,
              "#fdca26"
             ],
             [
              1,
              "#f0f921"
             ]
            ],
            "type": "histogram2dcontour"
           }
          ],
          "mesh3d": [
           {
            "colorbar": {
             "outlinewidth": 0,
             "ticks": ""
            },
            "type": "mesh3d"
           }
          ],
          "parcoords": [
           {
            "line": {
             "colorbar": {
              "outlinewidth": 0,
              "ticks": ""
             }
            },
            "type": "parcoords"
           }
          ],
          "pie": [
           {
            "automargin": true,
            "type": "pie"
           }
          ],
          "scatter": [
           {
            "fillpattern": {
             "fillmode": "overlay",
             "size": 10,
             "solidity": 0.2
            },
            "type": "scatter"
           }
          ],
          "scatter3d": [
           {
            "line": {
             "colorbar": {
              "outlinewidth": 0,
              "ticks": ""
             }
            },
            "marker": {
             "colorbar": {
              "outlinewidth": 0,
              "ticks": ""
             }
            },
            "type": "scatter3d"
           }
          ],
          "scattercarpet": [
           {
            "marker": {
             "colorbar": {
              "outlinewidth": 0,
              "ticks": ""
             }
            },
            "type": "scattercarpet"
           }
          ],
          "scattergeo": [
           {
            "marker": {
             "colorbar": {
              "outlinewidth": 0,
              "ticks": ""
             }
            },
            "type": "scattergeo"
           }
          ],
          "scattergl": [
           {
            "marker": {
             "colorbar": {
              "outlinewidth": 0,
              "ticks": ""
             }
            },
            "type": "scattergl"
           }
          ],
          "scattermapbox": [
           {
            "marker": {
             "colorbar": {
              "outlinewidth": 0,
              "ticks": ""
             }
            },
            "type": "scattermapbox"
           }
          ],
          "scatterpolar": [
           {
            "marker": {
             "colorbar": {
              "outlinewidth": 0,
              "ticks": ""
             }
            },
            "type": "scatterpolar"
           }
          ],
          "scatterpolargl": [
           {
            "marker": {
             "colorbar": {
              "outlinewidth": 0,
              "ticks": ""
             }
            },
            "type": "scatterpolargl"
           }
          ],
          "scatterternary": [
           {
            "marker": {
             "colorbar": {
              "outlinewidth": 0,
              "ticks": ""
             }
            },
            "type": "scatterternary"
           }
          ],
          "surface": [
           {
            "colorbar": {
             "outlinewidth": 0,
             "ticks": ""
            },
            "colorscale": [
             [
              0,
              "#0d0887"
             ],
             [
              0.1111111111111111,
              "#46039f"
             ],
             [
              0.2222222222222222,
              "#7201a8"
             ],
             [
              0.3333333333333333,
              "#9c179e"
             ],
             [
              0.4444444444444444,
              "#bd3786"
             ],
             [
              0.5555555555555556,
              "#d8576b"
             ],
             [
              0.6666666666666666,
              "#ed7953"
             ],
             [
              0.7777777777777778,
              "#fb9f3a"
             ],
             [
              0.8888888888888888,
              "#fdca26"
             ],
             [
              1,
              "#f0f921"
             ]
            ],
            "type": "surface"
           }
          ],
          "table": [
           {
            "cells": {
             "fill": {
              "color": "#EBF0F8"
             },
             "line": {
              "color": "white"
             }
            },
            "header": {
             "fill": {
              "color": "#C8D4E3"
             },
             "line": {
              "color": "white"
             }
            },
            "type": "table"
           }
          ]
         },
         "layout": {
          "annotationdefaults": {
           "arrowcolor": "#2a3f5f",
           "arrowhead": 0,
           "arrowwidth": 1
          },
          "autotypenumbers": "strict",
          "coloraxis": {
           "colorbar": {
            "outlinewidth": 0,
            "ticks": ""
           }
          },
          "colorscale": {
           "diverging": [
            [
             0,
             "#8e0152"
            ],
            [
             0.1,
             "#c51b7d"
            ],
            [
             0.2,
             "#de77ae"
            ],
            [
             0.3,
             "#f1b6da"
            ],
            [
             0.4,
             "#fde0ef"
            ],
            [
             0.5,
             "#f7f7f7"
            ],
            [
             0.6,
             "#e6f5d0"
            ],
            [
             0.7,
             "#b8e186"
            ],
            [
             0.8,
             "#7fbc41"
            ],
            [
             0.9,
             "#4d9221"
            ],
            [
             1,
             "#276419"
            ]
           ],
           "sequential": [
            [
             0,
             "#0d0887"
            ],
            [
             0.1111111111111111,
             "#46039f"
            ],
            [
             0.2222222222222222,
             "#7201a8"
            ],
            [
             0.3333333333333333,
             "#9c179e"
            ],
            [
             0.4444444444444444,
             "#bd3786"
            ],
            [
             0.5555555555555556,
             "#d8576b"
            ],
            [
             0.6666666666666666,
             "#ed7953"
            ],
            [
             0.7777777777777778,
             "#fb9f3a"
            ],
            [
             0.8888888888888888,
             "#fdca26"
            ],
            [
             1,
             "#f0f921"
            ]
           ],
           "sequentialminus": [
            [
             0,
             "#0d0887"
            ],
            [
             0.1111111111111111,
             "#46039f"
            ],
            [
             0.2222222222222222,
             "#7201a8"
            ],
            [
             0.3333333333333333,
             "#9c179e"
            ],
            [
             0.4444444444444444,
             "#bd3786"
            ],
            [
             0.5555555555555556,
             "#d8576b"
            ],
            [
             0.6666666666666666,
             "#ed7953"
            ],
            [
             0.7777777777777778,
             "#fb9f3a"
            ],
            [
             0.8888888888888888,
             "#fdca26"
            ],
            [
             1,
             "#f0f921"
            ]
           ]
          },
          "colorway": [
           "#636efa",
           "#EF553B",
           "#00cc96",
           "#ab63fa",
           "#FFA15A",
           "#19d3f3",
           "#FF6692",
           "#B6E880",
           "#FF97FF",
           "#FECB52"
          ],
          "font": {
           "color": "#2a3f5f"
          },
          "geo": {
           "bgcolor": "white",
           "lakecolor": "white",
           "landcolor": "#E5ECF6",
           "showlakes": true,
           "showland": true,
           "subunitcolor": "white"
          },
          "hoverlabel": {
           "align": "left"
          },
          "hovermode": "closest",
          "mapbox": {
           "style": "light"
          },
          "paper_bgcolor": "white",
          "plot_bgcolor": "#E5ECF6",
          "polar": {
           "angularaxis": {
            "gridcolor": "white",
            "linecolor": "white",
            "ticks": ""
           },
           "bgcolor": "#E5ECF6",
           "radialaxis": {
            "gridcolor": "white",
            "linecolor": "white",
            "ticks": ""
           }
          },
          "scene": {
           "xaxis": {
            "backgroundcolor": "#E5ECF6",
            "gridcolor": "white",
            "gridwidth": 2,
            "linecolor": "white",
            "showbackground": true,
            "ticks": "",
            "zerolinecolor": "white"
           },
           "yaxis": {
            "backgroundcolor": "#E5ECF6",
            "gridcolor": "white",
            "gridwidth": 2,
            "linecolor": "white",
            "showbackground": true,
            "ticks": "",
            "zerolinecolor": "white"
           },
           "zaxis": {
            "backgroundcolor": "#E5ECF6",
            "gridcolor": "white",
            "gridwidth": 2,
            "linecolor": "white",
            "showbackground": true,
            "ticks": "",
            "zerolinecolor": "white"
           }
          },
          "shapedefaults": {
           "line": {
            "color": "#2a3f5f"
           }
          },
          "ternary": {
           "aaxis": {
            "gridcolor": "white",
            "linecolor": "white",
            "ticks": ""
           },
           "baxis": {
            "gridcolor": "white",
            "linecolor": "white",
            "ticks": ""
           },
           "bgcolor": "#E5ECF6",
           "caxis": {
            "gridcolor": "white",
            "linecolor": "white",
            "ticks": ""
           }
          },
          "title": {
           "x": 0.05
          },
          "xaxis": {
           "automargin": true,
           "gridcolor": "white",
           "linecolor": "white",
           "ticks": "",
           "title": {
            "standoff": 15
           },
           "zerolinecolor": "white",
           "zerolinewidth": 2
          },
          "yaxis": {
           "automargin": true,
           "gridcolor": "white",
           "linecolor": "white",
           "ticks": "",
           "title": {
            "standoff": 15
           },
           "zerolinecolor": "white",
           "zerolinewidth": 2
          }
         }
        },
        "title": {
         "text": "Missing Data"
        },
        "xaxis": {
         "title": {
          "text": "Columns"
         }
        },
        "yaxis": {
         "rangemode": "tozero",
         "title": {
          "text": "Missing Count"
         }
        }
       }
      }
     },
     "metadata": {},
     "output_type": "display_data"
    },
    {
     "data": {
      "application/vnd.plotly.v1+json": {
       "config": {
        "plotlyServerURL": "https://plot.ly"
       },
       "data": [
        {
         "type": "bar",
         "x": [
          "Avg_Dist_Last_14",
          "USD/Mile",
          "Avg_Cost_Last_14",
          "Avg_Rate_Last_14",
          "Cost_Volatility_Last_14",
          "Rate_Volatility_Last_14",
          "TRUCKD11",
          "DJTA",
          "DTB3",
          "GASREGW",
          "IPG2122N",
          "IPG3361T3S",
          "GDP",
          "PPIACO",
          "BUSINV",
          "PCU48414841"
         ],
         "y": [
          0,
          0,
          0,
          0,
          0,
          0,
          0,
          0,
          0,
          0,
          0,
          0,
          0,
          0,
          0,
          0
         ]
        }
       ],
       "layout": {
        "template": {
         "data": {
          "bar": [
           {
            "error_x": {
             "color": "#2a3f5f"
            },
            "error_y": {
             "color": "#2a3f5f"
            },
            "marker": {
             "line": {
              "color": "#E5ECF6",
              "width": 0.5
             },
             "pattern": {
              "fillmode": "overlay",
              "size": 10,
              "solidity": 0.2
             }
            },
            "type": "bar"
           }
          ],
          "barpolar": [
           {
            "marker": {
             "line": {
              "color": "#E5ECF6",
              "width": 0.5
             },
             "pattern": {
              "fillmode": "overlay",
              "size": 10,
              "solidity": 0.2
             }
            },
            "type": "barpolar"
           }
          ],
          "carpet": [
           {
            "aaxis": {
             "endlinecolor": "#2a3f5f",
             "gridcolor": "white",
             "linecolor": "white",
             "minorgridcolor": "white",
             "startlinecolor": "#2a3f5f"
            },
            "baxis": {
             "endlinecolor": "#2a3f5f",
             "gridcolor": "white",
             "linecolor": "white",
             "minorgridcolor": "white",
             "startlinecolor": "#2a3f5f"
            },
            "type": "carpet"
           }
          ],
          "choropleth": [
           {
            "colorbar": {
             "outlinewidth": 0,
             "ticks": ""
            },
            "type": "choropleth"
           }
          ],
          "contour": [
           {
            "colorbar": {
             "outlinewidth": 0,
             "ticks": ""
            },
            "colorscale": [
             [
              0,
              "#0d0887"
             ],
             [
              0.1111111111111111,
              "#46039f"
             ],
             [
              0.2222222222222222,
              "#7201a8"
             ],
             [
              0.3333333333333333,
              "#9c179e"
             ],
             [
              0.4444444444444444,
              "#bd3786"
             ],
             [
              0.5555555555555556,
              "#d8576b"
             ],
             [
              0.6666666666666666,
              "#ed7953"
             ],
             [
              0.7777777777777778,
              "#fb9f3a"
             ],
             [
              0.8888888888888888,
              "#fdca26"
             ],
             [
              1,
              "#f0f921"
             ]
            ],
            "type": "contour"
           }
          ],
          "contourcarpet": [
           {
            "colorbar": {
             "outlinewidth": 0,
             "ticks": ""
            },
            "type": "contourcarpet"
           }
          ],
          "heatmap": [
           {
            "colorbar": {
             "outlinewidth": 0,
             "ticks": ""
            },
            "colorscale": [
             [
              0,
              "#0d0887"
             ],
             [
              0.1111111111111111,
              "#46039f"
             ],
             [
              0.2222222222222222,
              "#7201a8"
             ],
             [
              0.3333333333333333,
              "#9c179e"
             ],
             [
              0.4444444444444444,
              "#bd3786"
             ],
             [
              0.5555555555555556,
              "#d8576b"
             ],
             [
              0.6666666666666666,
              "#ed7953"
             ],
             [
              0.7777777777777778,
              "#fb9f3a"
             ],
             [
              0.8888888888888888,
              "#fdca26"
             ],
             [
              1,
              "#f0f921"
             ]
            ],
            "type": "heatmap"
           }
          ],
          "heatmapgl": [
           {
            "colorbar": {
             "outlinewidth": 0,
             "ticks": ""
            },
            "colorscale": [
             [
              0,
              "#0d0887"
             ],
             [
              0.1111111111111111,
              "#46039f"
             ],
             [
              0.2222222222222222,
              "#7201a8"
             ],
             [
              0.3333333333333333,
              "#9c179e"
             ],
             [
              0.4444444444444444,
              "#bd3786"
             ],
             [
              0.5555555555555556,
              "#d8576b"
             ],
             [
              0.6666666666666666,
              "#ed7953"
             ],
             [
              0.7777777777777778,
              "#fb9f3a"
             ],
             [
              0.8888888888888888,
              "#fdca26"
             ],
             [
              1,
              "#f0f921"
             ]
            ],
            "type": "heatmapgl"
           }
          ],
          "histogram": [
           {
            "marker": {
             "pattern": {
              "fillmode": "overlay",
              "size": 10,
              "solidity": 0.2
             }
            },
            "type": "histogram"
           }
          ],
          "histogram2d": [
           {
            "colorbar": {
             "outlinewidth": 0,
             "ticks": ""
            },
            "colorscale": [
             [
              0,
              "#0d0887"
             ],
             [
              0.1111111111111111,
              "#46039f"
             ],
             [
              0.2222222222222222,
              "#7201a8"
             ],
             [
              0.3333333333333333,
              "#9c179e"
             ],
             [
              0.4444444444444444,
              "#bd3786"
             ],
             [
              0.5555555555555556,
              "#d8576b"
             ],
             [
              0.6666666666666666,
              "#ed7953"
             ],
             [
              0.7777777777777778,
              "#fb9f3a"
             ],
             [
              0.8888888888888888,
              "#fdca26"
             ],
             [
              1,
              "#f0f921"
             ]
            ],
            "type": "histogram2d"
           }
          ],
          "histogram2dcontour": [
           {
            "colorbar": {
             "outlinewidth": 0,
             "ticks": ""
            },
            "colorscale": [
             [
              0,
              "#0d0887"
             ],
             [
              0.1111111111111111,
              "#46039f"
             ],
             [
              0.2222222222222222,
              "#7201a8"
             ],
             [
              0.3333333333333333,
              "#9c179e"
             ],
             [
              0.4444444444444444,
              "#bd3786"
             ],
             [
              0.5555555555555556,
              "#d8576b"
             ],
             [
              0.6666666666666666,
              "#ed7953"
             ],
             [
              0.7777777777777778,
              "#fb9f3a"
             ],
             [
              0.8888888888888888,
              "#fdca26"
             ],
             [
              1,
              "#f0f921"
             ]
            ],
            "type": "histogram2dcontour"
           }
          ],
          "mesh3d": [
           {
            "colorbar": {
             "outlinewidth": 0,
             "ticks": ""
            },
            "type": "mesh3d"
           }
          ],
          "parcoords": [
           {
            "line": {
             "colorbar": {
              "outlinewidth": 0,
              "ticks": ""
             }
            },
            "type": "parcoords"
           }
          ],
          "pie": [
           {
            "automargin": true,
            "type": "pie"
           }
          ],
          "scatter": [
           {
            "fillpattern": {
             "fillmode": "overlay",
             "size": 10,
             "solidity": 0.2
            },
            "type": "scatter"
           }
          ],
          "scatter3d": [
           {
            "line": {
             "colorbar": {
              "outlinewidth": 0,
              "ticks": ""
             }
            },
            "marker": {
             "colorbar": {
              "outlinewidth": 0,
              "ticks": ""
             }
            },
            "type": "scatter3d"
           }
          ],
          "scattercarpet": [
           {
            "marker": {
             "colorbar": {
              "outlinewidth": 0,
              "ticks": ""
             }
            },
            "type": "scattercarpet"
           }
          ],
          "scattergeo": [
           {
            "marker": {
             "colorbar": {
              "outlinewidth": 0,
              "ticks": ""
             }
            },
            "type": "scattergeo"
           }
          ],
          "scattergl": [
           {
            "marker": {
             "colorbar": {
              "outlinewidth": 0,
              "ticks": ""
             }
            },
            "type": "scattergl"
           }
          ],
          "scattermapbox": [
           {
            "marker": {
             "colorbar": {
              "outlinewidth": 0,
              "ticks": ""
             }
            },
            "type": "scattermapbox"
           }
          ],
          "scatterpolar": [
           {
            "marker": {
             "colorbar": {
              "outlinewidth": 0,
              "ticks": ""
             }
            },
            "type": "scatterpolar"
           }
          ],
          "scatterpolargl": [
           {
            "marker": {
             "colorbar": {
              "outlinewidth": 0,
              "ticks": ""
             }
            },
            "type": "scatterpolargl"
           }
          ],
          "scatterternary": [
           {
            "marker": {
             "colorbar": {
              "outlinewidth": 0,
              "ticks": ""
             }
            },
            "type": "scatterternary"
           }
          ],
          "surface": [
           {
            "colorbar": {
             "outlinewidth": 0,
             "ticks": ""
            },
            "colorscale": [
             [
              0,
              "#0d0887"
             ],
             [
              0.1111111111111111,
              "#46039f"
             ],
             [
              0.2222222222222222,
              "#7201a8"
             ],
             [
              0.3333333333333333,
              "#9c179e"
             ],
             [
              0.4444444444444444,
              "#bd3786"
             ],
             [
              0.5555555555555556,
              "#d8576b"
             ],
             [
              0.6666666666666666,
              "#ed7953"
             ],
             [
              0.7777777777777778,
              "#fb9f3a"
             ],
             [
              0.8888888888888888,
              "#fdca26"
             ],
             [
              1,
              "#f0f921"
             ]
            ],
            "type": "surface"
           }
          ],
          "table": [
           {
            "cells": {
             "fill": {
              "color": "#EBF0F8"
             },
             "line": {
              "color": "white"
             }
            },
            "header": {
             "fill": {
              "color": "#C8D4E3"
             },
             "line": {
              "color": "white"
             }
            },
            "type": "table"
           }
          ]
         },
         "layout": {
          "annotationdefaults": {
           "arrowcolor": "#2a3f5f",
           "arrowhead": 0,
           "arrowwidth": 1
          },
          "autotypenumbers": "strict",
          "coloraxis": {
           "colorbar": {
            "outlinewidth": 0,
            "ticks": ""
           }
          },
          "colorscale": {
           "diverging": [
            [
             0,
             "#8e0152"
            ],
            [
             0.1,
             "#c51b7d"
            ],
            [
             0.2,
             "#de77ae"
            ],
            [
             0.3,
             "#f1b6da"
            ],
            [
             0.4,
             "#fde0ef"
            ],
            [
             0.5,
             "#f7f7f7"
            ],
            [
             0.6,
             "#e6f5d0"
            ],
            [
             0.7,
             "#b8e186"
            ],
            [
             0.8,
             "#7fbc41"
            ],
            [
             0.9,
             "#4d9221"
            ],
            [
             1,
             "#276419"
            ]
           ],
           "sequential": [
            [
             0,
             "#0d0887"
            ],
            [
             0.1111111111111111,
             "#46039f"
            ],
            [
             0.2222222222222222,
             "#7201a8"
            ],
            [
             0.3333333333333333,
             "#9c179e"
            ],
            [
             0.4444444444444444,
             "#bd3786"
            ],
            [
             0.5555555555555556,
             "#d8576b"
            ],
            [
             0.6666666666666666,
             "#ed7953"
            ],
            [
             0.7777777777777778,
             "#fb9f3a"
            ],
            [
             0.8888888888888888,
             "#fdca26"
            ],
            [
             1,
             "#f0f921"
            ]
           ],
           "sequentialminus": [
            [
             0,
             "#0d0887"
            ],
            [
             0.1111111111111111,
             "#46039f"
            ],
            [
             0.2222222222222222,
             "#7201a8"
            ],
            [
             0.3333333333333333,
             "#9c179e"
            ],
            [
             0.4444444444444444,
             "#bd3786"
            ],
            [
             0.5555555555555556,
             "#d8576b"
            ],
            [
             0.6666666666666666,
             "#ed7953"
            ],
            [
             0.7777777777777778,
             "#fb9f3a"
            ],
            [
             0.8888888888888888,
             "#fdca26"
            ],
            [
             1,
             "#f0f921"
            ]
           ]
          },
          "colorway": [
           "#636efa",
           "#EF553B",
           "#00cc96",
           "#ab63fa",
           "#FFA15A",
           "#19d3f3",
           "#FF6692",
           "#B6E880",
           "#FF97FF",
           "#FECB52"
          ],
          "font": {
           "color": "#2a3f5f"
          },
          "geo": {
           "bgcolor": "white",
           "lakecolor": "white",
           "landcolor": "#E5ECF6",
           "showlakes": true,
           "showland": true,
           "subunitcolor": "white"
          },
          "hoverlabel": {
           "align": "left"
          },
          "hovermode": "closest",
          "mapbox": {
           "style": "light"
          },
          "paper_bgcolor": "white",
          "plot_bgcolor": "#E5ECF6",
          "polar": {
           "angularaxis": {
            "gridcolor": "white",
            "linecolor": "white",
            "ticks": ""
           },
           "bgcolor": "#E5ECF6",
           "radialaxis": {
            "gridcolor": "white",
            "linecolor": "white",
            "ticks": ""
           }
          },
          "scene": {
           "xaxis": {
            "backgroundcolor": "#E5ECF6",
            "gridcolor": "white",
            "gridwidth": 2,
            "linecolor": "white",
            "showbackground": true,
            "ticks": "",
            "zerolinecolor": "white"
           },
           "yaxis": {
            "backgroundcolor": "#E5ECF6",
            "gridcolor": "white",
            "gridwidth": 2,
            "linecolor": "white",
            "showbackground": true,
            "ticks": "",
            "zerolinecolor": "white"
           },
           "zaxis": {
            "backgroundcolor": "#E5ECF6",
            "gridcolor": "white",
            "gridwidth": 2,
            "linecolor": "white",
            "showbackground": true,
            "ticks": "",
            "zerolinecolor": "white"
           }
          },
          "shapedefaults": {
           "line": {
            "color": "#2a3f5f"
           }
          },
          "ternary": {
           "aaxis": {
            "gridcolor": "white",
            "linecolor": "white",
            "ticks": ""
           },
           "baxis": {
            "gridcolor": "white",
            "linecolor": "white",
            "ticks": ""
           },
           "bgcolor": "#E5ECF6",
           "caxis": {
            "gridcolor": "white",
            "linecolor": "white",
            "ticks": ""
           }
          },
          "title": {
           "x": 0.05
          },
          "xaxis": {
           "automargin": true,
           "gridcolor": "white",
           "linecolor": "white",
           "ticks": "",
           "title": {
            "standoff": 15
           },
           "zerolinecolor": "white",
           "zerolinewidth": 2
          },
          "yaxis": {
           "automargin": true,
           "gridcolor": "white",
           "linecolor": "white",
           "ticks": "",
           "title": {
            "standoff": 15
           },
           "zerolinecolor": "white",
           "zerolinewidth": 2
          }
         }
        },
        "title": {
         "text": "Missing Data"
        },
        "xaxis": {
         "title": {
          "text": "Columns"
         }
        },
        "yaxis": {
         "rangemode": "tozero",
         "title": {
          "text": "Missing Count"
         }
        }
       }
      }
     },
     "metadata": {},
     "output_type": "display_data"
    }
   ],
   "source": [
    "from Data_Visualization.eda import EDA_Visualization\n",
    "\n",
    "eda_vis = EDA_Visualization(df)\n",
    "eda_vis.visualize_missing_data()"
   ]
  },
  {
   "cell_type": "markdown",
   "metadata": {},
   "source": [
    "### Test DataCleansing Module"
   ]
  },
  {
   "cell_type": "code",
   "execution_count": 49,
   "metadata": {},
   "outputs": [],
   "source": [
    "data_cleansing = DataCleansing(df)"
   ]
  },
  {
   "cell_type": "markdown",
   "metadata": {},
   "source": [
    "remove_duplicates() function"
   ]
  },
  {
   "cell_type": "code",
   "execution_count": 50,
   "metadata": {},
   "outputs": [
    {
     "data": {
      "text/html": [
       "<div>\n",
       "<style scoped>\n",
       "    .dataframe tbody tr th:only-of-type {\n",
       "        vertical-align: middle;\n",
       "    }\n",
       "\n",
       "    .dataframe tbody tr th {\n",
       "        vertical-align: top;\n",
       "    }\n",
       "\n",
       "    .dataframe thead th {\n",
       "        text-align: right;\n",
       "    }\n",
       "</style>\n",
       "<table border=\"1\" class=\"dataframe\">\n",
       "  <thead>\n",
       "    <tr style=\"text-align: right;\">\n",
       "      <th></th>\n",
       "      <th>a</th>\n",
       "      <th>b</th>\n",
       "      <th>c</th>\n",
       "    </tr>\n",
       "  </thead>\n",
       "  <tbody>\n",
       "    <tr>\n",
       "      <th>0</th>\n",
       "      <td>1</td>\n",
       "      <td>2</td>\n",
       "      <td>3</td>\n",
       "    </tr>\n",
       "    <tr>\n",
       "      <th>1</th>\n",
       "      <td>1</td>\n",
       "      <td>2</td>\n",
       "      <td>3</td>\n",
       "    </tr>\n",
       "    <tr>\n",
       "      <th>2</th>\n",
       "      <td>2</td>\n",
       "      <td>3</td>\n",
       "      <td>4</td>\n",
       "    </tr>\n",
       "    <tr>\n",
       "      <th>3</th>\n",
       "      <td>2</td>\n",
       "      <td>3</td>\n",
       "      <td>4</td>\n",
       "    </tr>\n",
       "    <tr>\n",
       "      <th>4</th>\n",
       "      <td>3</td>\n",
       "      <td>4</td>\n",
       "      <td>5</td>\n",
       "    </tr>\n",
       "    <tr>\n",
       "      <th>5</th>\n",
       "      <td>3</td>\n",
       "      <td>4</td>\n",
       "      <td>5</td>\n",
       "    </tr>\n",
       "    <tr>\n",
       "      <th>6</th>\n",
       "      <td>4</td>\n",
       "      <td>5</td>\n",
       "      <td>6</td>\n",
       "    </tr>\n",
       "    <tr>\n",
       "      <th>7</th>\n",
       "      <td>4</td>\n",
       "      <td>5</td>\n",
       "      <td>6</td>\n",
       "    </tr>\n",
       "    <tr>\n",
       "      <th>8</th>\n",
       "      <td>5</td>\n",
       "      <td>6</td>\n",
       "      <td>7</td>\n",
       "    </tr>\n",
       "    <tr>\n",
       "      <th>9</th>\n",
       "      <td>5</td>\n",
       "      <td>6</td>\n",
       "      <td>7</td>\n",
       "    </tr>\n",
       "  </tbody>\n",
       "</table>\n",
       "</div>"
      ],
      "text/plain": [
       "   a  b  c\n",
       "0  1  2  3\n",
       "1  1  2  3\n",
       "2  2  3  4\n",
       "3  2  3  4\n",
       "4  3  4  5\n",
       "5  3  4  5\n",
       "6  4  5  6\n",
       "7  4  5  6\n",
       "8  5  6  7\n",
       "9  5  6  7"
      ]
     },
     "execution_count": 50,
     "metadata": {},
     "output_type": "execute_result"
    }
   ],
   "source": [
    "# generate a df with duplicate rows\n",
    "dup_df = pd.DataFrame({'a':[1,1,2,2,3,3,4,4,5,5],\n",
    "                     'b':[2,2,3,3,4,4,5,5,6,6],\n",
    "                        'c':[3,3,4,4,5,5,6,6,7,7]})\n",
    "dup_df"
   ]
  },
  {
   "cell_type": "code",
   "execution_count": 51,
   "metadata": {},
   "outputs": [
    {
     "data": {
      "text/html": [
       "<div>\n",
       "<style scoped>\n",
       "    .dataframe tbody tr th:only-of-type {\n",
       "        vertical-align: middle;\n",
       "    }\n",
       "\n",
       "    .dataframe tbody tr th {\n",
       "        vertical-align: top;\n",
       "    }\n",
       "\n",
       "    .dataframe thead th {\n",
       "        text-align: right;\n",
       "    }\n",
       "</style>\n",
       "<table border=\"1\" class=\"dataframe\">\n",
       "  <thead>\n",
       "    <tr style=\"text-align: right;\">\n",
       "      <th></th>\n",
       "      <th>a</th>\n",
       "      <th>b</th>\n",
       "      <th>c</th>\n",
       "    </tr>\n",
       "  </thead>\n",
       "  <tbody>\n",
       "    <tr>\n",
       "      <th>0</th>\n",
       "      <td>1</td>\n",
       "      <td>2</td>\n",
       "      <td>3</td>\n",
       "    </tr>\n",
       "    <tr>\n",
       "      <th>1</th>\n",
       "      <td>2</td>\n",
       "      <td>3</td>\n",
       "      <td>4</td>\n",
       "    </tr>\n",
       "    <tr>\n",
       "      <th>2</th>\n",
       "      <td>3</td>\n",
       "      <td>4</td>\n",
       "      <td>5</td>\n",
       "    </tr>\n",
       "    <tr>\n",
       "      <th>3</th>\n",
       "      <td>4</td>\n",
       "      <td>5</td>\n",
       "      <td>6</td>\n",
       "    </tr>\n",
       "    <tr>\n",
       "      <th>4</th>\n",
       "      <td>5</td>\n",
       "      <td>6</td>\n",
       "      <td>7</td>\n",
       "    </tr>\n",
       "  </tbody>\n",
       "</table>\n",
       "</div>"
      ],
      "text/plain": [
       "   a  b  c\n",
       "0  1  2  3\n",
       "1  2  3  4\n",
       "2  3  4  5\n",
       "3  4  5  6\n",
       "4  5  6  7"
      ]
     },
     "execution_count": 51,
     "metadata": {},
     "output_type": "execute_result"
    }
   ],
   "source": [
    "data_cleansing = DataCleansing()\n",
    "dup_df = data_cleansing.remove_duplicates(dup_df)\n",
    "dup_df"
   ]
  },
  {
   "cell_type": "code",
   "execution_count": 52,
   "metadata": {},
   "outputs": [
    {
     "data": {
      "text/html": [
       "<div>\n",
       "<style scoped>\n",
       "    .dataframe tbody tr th:only-of-type {\n",
       "        vertical-align: middle;\n",
       "    }\n",
       "\n",
       "    .dataframe tbody tr th {\n",
       "        vertical-align: top;\n",
       "    }\n",
       "\n",
       "    .dataframe thead th {\n",
       "        text-align: right;\n",
       "    }\n",
       "</style>\n",
       "<table border=\"1\" class=\"dataframe\">\n",
       "  <thead>\n",
       "    <tr style=\"text-align: right;\">\n",
       "      <th></th>\n",
       "      <th>a</th>\n",
       "      <th>b</th>\n",
       "      <th>c</th>\n",
       "    </tr>\n",
       "  </thead>\n",
       "  <tbody>\n",
       "    <tr>\n",
       "      <th>0</th>\n",
       "      <td>1</td>\n",
       "      <td>1</td>\n",
       "      <td>1</td>\n",
       "    </tr>\n",
       "    <tr>\n",
       "      <th>1</th>\n",
       "      <td>2</td>\n",
       "      <td>2</td>\n",
       "      <td>2</td>\n",
       "    </tr>\n",
       "    <tr>\n",
       "      <th>2</th>\n",
       "      <td>3</td>\n",
       "      <td>3</td>\n",
       "      <td>3</td>\n",
       "    </tr>\n",
       "  </tbody>\n",
       "</table>\n",
       "</div>"
      ],
      "text/plain": [
       "   a  b  c\n",
       "0  1  1  1\n",
       "1  2  2  2\n",
       "2  3  3  3"
      ]
     },
     "execution_count": 52,
     "metadata": {},
     "output_type": "execute_result"
    }
   ],
   "source": [
    "# a df with duplicate dolumns\n",
    "dup_df = pd.DataFrame({'a': [1, 2, 3], 'b': [1, 2, 3], 'c': [1, 2, 3]})\n",
    "dup_df"
   ]
  },
  {
   "cell_type": "code",
   "execution_count": 53,
   "metadata": {},
   "outputs": [
    {
     "data": {
      "text/html": [
       "<div>\n",
       "<style scoped>\n",
       "    .dataframe tbody tr th:only-of-type {\n",
       "        vertical-align: middle;\n",
       "    }\n",
       "\n",
       "    .dataframe tbody tr th {\n",
       "        vertical-align: top;\n",
       "    }\n",
       "\n",
       "    .dataframe thead th {\n",
       "        text-align: right;\n",
       "    }\n",
       "</style>\n",
       "<table border=\"1\" class=\"dataframe\">\n",
       "  <thead>\n",
       "    <tr style=\"text-align: right;\">\n",
       "      <th></th>\n",
       "      <th>a</th>\n",
       "      <th>b</th>\n",
       "      <th>c</th>\n",
       "    </tr>\n",
       "  </thead>\n",
       "  <tbody>\n",
       "    <tr>\n",
       "      <th>0</th>\n",
       "      <td>1</td>\n",
       "      <td>1</td>\n",
       "      <td>1</td>\n",
       "    </tr>\n",
       "    <tr>\n",
       "      <th>1</th>\n",
       "      <td>2</td>\n",
       "      <td>2</td>\n",
       "      <td>2</td>\n",
       "    </tr>\n",
       "    <tr>\n",
       "      <th>2</th>\n",
       "      <td>3</td>\n",
       "      <td>3</td>\n",
       "      <td>3</td>\n",
       "    </tr>\n",
       "  </tbody>\n",
       "</table>\n",
       "</div>"
      ],
      "text/plain": [
       "   a  b  c\n",
       "0  1  1  1\n",
       "1  2  2  2\n",
       "2  3  3  3"
      ]
     },
     "execution_count": 53,
     "metadata": {},
     "output_type": "execute_result"
    }
   ],
   "source": [
    "data_cleansing = DataCleansing()\n",
    "dup_df = data_cleansing.remove_duplicates(dup_df)\n",
    "dup_df"
   ]
  },
  {
   "cell_type": "markdown",
   "metadata": {},
   "source": [
    "handle_missing_values() funtion"
   ]
  },
  {
   "cell_type": "code",
   "execution_count": 54,
   "metadata": {},
   "outputs": [
    {
     "data": {
      "text/plain": [
       "(1000, 96)"
      ]
     },
     "execution_count": 54,
     "metadata": {},
     "output_type": "execute_result"
    }
   ],
   "source": [
    "df.shape"
   ]
  },
  {
   "cell_type": "code",
   "execution_count": 55,
   "metadata": {},
   "outputs": [
    {
     "name": "stdout",
     "output_type": "stream",
     "text": [
      "Missing data summary:\n",
      "CommodityCode     892\n",
      "MXCrossBorder    1000\n",
      "dtype: int64\n"
     ]
    }
   ],
   "source": [
    "data_exp.summarize_missing_data(df)"
   ]
  },
  {
   "cell_type": "code",
   "execution_count": 56,
   "metadata": {},
   "outputs": [
    {
     "ename": "KeyError",
     "evalue": "['HPBH:221F008 Stanlow', 'HPBH:221FT009 Stanlow']",
     "output_type": "error",
     "traceback": [
      "\u001b[1;31m---------------------------------------------------------------------------\u001b[0m",
      "\u001b[1;31mKeyError\u001b[0m                                  Traceback (most recent call last)",
      "Cell \u001b[1;32mIn[56], line 2\u001b[0m\n\u001b[0;32m      1\u001b[0m \u001b[39m# df = data_cleansing.handle_missing_values(df, target_list=['OXO-5FI696 Augusta'], drop_thresh=0.5, fill_missing_method='forward')\u001b[39;00m\n\u001b[1;32m----> 2\u001b[0m df \u001b[39m=\u001b[39m data_cleansing\u001b[39m.\u001b[39;49mhandle_missing_values(df, target_list\u001b[39m=\u001b[39;49m[\u001b[39m'\u001b[39;49m\u001b[39mHPBH:221F008 Stanlow\u001b[39;49m\u001b[39m'\u001b[39;49m, \u001b[39m'\u001b[39;49m\u001b[39mHPBH:221FT009 Stanlow\u001b[39;49m\u001b[39m'\u001b[39;49m], drop_thresh\u001b[39m=\u001b[39;49m\u001b[39m0.5\u001b[39;49m, fill_missing_method\u001b[39m=\u001b[39;49m\u001b[39m'\u001b[39;49m\u001b[39mmean\u001b[39;49m\u001b[39m'\u001b[39;49m)\n",
      "File \u001b[1;32mc:\\Users\\krodriguez0109\\Documents\\GitHub\\Data-Processing-Automation\\Data_Cleansing\\data_cleansing_main.py:117\u001b[0m, in \u001b[0;36mDataCleansing.handle_missing_values\u001b[1;34m(self, data, target_list, drop_thresh, fill_missing_method)\u001b[0m\n\u001b[0;32m    114\u001b[0m data \u001b[39m=\u001b[39m data\u001b[39m.\u001b[39mreplace(\u001b[39mr\u001b[39m\u001b[39m'\u001b[39m\u001b[39m^\u001b[39m\u001b[39m\\\u001b[39m\u001b[39ms*$\u001b[39m\u001b[39m'\u001b[39m, np\u001b[39m.\u001b[39mnan, regex\u001b[39m=\u001b[39m\u001b[39mTrue\u001b[39;00m)\n\u001b[0;32m    116\u001b[0m \u001b[39m# drop rows with missing values in the target_list\u001b[39;00m\n\u001b[1;32m--> 117\u001b[0m \u001b[39mprint\u001b[39m(\u001b[39m\"\u001b[39m\u001b[39m# rows dropped with missing values in the target variable:\u001b[39m\u001b[39m\"\u001b[39m, data\u001b[39m.\u001b[39mshape[\u001b[39m0\u001b[39m] \u001b[39m-\u001b[39m data\u001b[39m.\u001b[39;49mdropna(subset\u001b[39m=\u001b[39;49mtarget_list)\u001b[39m.\u001b[39mshape[\u001b[39m0\u001b[39m])\n\u001b[0;32m    118\u001b[0m data \u001b[39m=\u001b[39m data\u001b[39m.\u001b[39mdropna(subset\u001b[39m=\u001b[39mtarget_list)\n\u001b[0;32m    121\u001b[0m \u001b[39m# drop columns that have missing values more than the threshold\u001b[39;00m\n",
      "File \u001b[1;32mc:\\Users\\krodriguez0109\\AppData\\Local\\anaconda3\\envs\\pytorch\\lib\\site-packages\\pandas\\core\\frame.py:6407\u001b[0m, in \u001b[0;36mDataFrame.dropna\u001b[1;34m(self, axis, how, thresh, subset, inplace, ignore_index)\u001b[0m\n\u001b[0;32m   6405\u001b[0m     check \u001b[39m=\u001b[39m indices \u001b[39m==\u001b[39m \u001b[39m-\u001b[39m\u001b[39m1\u001b[39m\n\u001b[0;32m   6406\u001b[0m     \u001b[39mif\u001b[39;00m check\u001b[39m.\u001b[39many():\n\u001b[1;32m-> 6407\u001b[0m         \u001b[39mraise\u001b[39;00m \u001b[39mKeyError\u001b[39;00m(np\u001b[39m.\u001b[39marray(subset)[check]\u001b[39m.\u001b[39mtolist())\n\u001b[0;32m   6408\u001b[0m     agg_obj \u001b[39m=\u001b[39m \u001b[39mself\u001b[39m\u001b[39m.\u001b[39mtake(indices, axis\u001b[39m=\u001b[39magg_axis)\n\u001b[0;32m   6410\u001b[0m \u001b[39mif\u001b[39;00m thresh \u001b[39mis\u001b[39;00m \u001b[39mnot\u001b[39;00m no_default:\n",
      "\u001b[1;31mKeyError\u001b[0m: ['HPBH:221F008 Stanlow', 'HPBH:221FT009 Stanlow']"
     ]
    }
   ],
   "source": [
    "# df = data_cleansing.handle_missing_values(df, target_list=['OXO-5FI696 Augusta'], drop_thresh=0.5, fill_missing_method='forward')\n",
    "df = data_cleansing.handle_missing_values(df, target_list=['HPBH:221F008 Stanlow', 'HPBH:221FT009 Stanlow'], drop_thresh=0.5, fill_missing_method='mean')"
   ]
  },
  {
   "cell_type": "code",
   "execution_count": null,
   "metadata": {},
   "outputs": [
    {
     "data": {
      "text/plain": [
       "(100, 96)"
      ]
     },
     "execution_count": 12,
     "metadata": {},
     "output_type": "execute_result"
    }
   ],
   "source": [
    "df.shape"
   ]
  },
  {
   "cell_type": "code",
   "execution_count": null,
   "metadata": {},
   "outputs": [
    {
     "name": "stdout",
     "output_type": "stream",
     "text": [
      "Missing data summary:\n",
      "CommodityCode     79\n",
      "MXCrossBorder    100\n",
      "dtype: int64\n"
     ]
    }
   ],
   "source": [
    "data_exp.summarize_missing_data(df)"
   ]
  },
  {
   "cell_type": "markdown",
   "metadata": {},
   "source": [
    "detect_anomalies() function"
   ]
  },
  {
   "cell_type": "code",
   "execution_count": null,
   "metadata": {},
   "outputs": [],
   "source": [
    "# data_cleansing.generate_anomaly_report(df, 'OXO-5FI696 Augusta', problem_type='max')\n",
    "data_cleansing.generate_anomaly_report(df, 'HPBH:221F008 Stanlow', problem_type='max')"
   ]
  },
  {
   "cell_type": "markdown",
   "metadata": {},
   "source": [
    "detect_outliers() funcion"
   ]
  },
  {
   "cell_type": "code",
   "execution_count": null,
   "metadata": {},
   "outputs": [
    {
     "name": "stdout",
     "output_type": "stream",
     "text": [
      "Missing values detected in MXCrossBorder , please handle missing values first\n"
     ]
    }
   ],
   "source": [
    "data_cleansing.detect_outliers(df, col_name=df.columns[10], threshold=3)"
   ]
  },
  {
   "cell_type": "markdown",
   "metadata": {},
   "source": [
    "### Test DataPreprocessing Module"
   ]
  },
  {
   "cell_type": "markdown",
   "metadata": {},
   "source": [
    "feature_encoding()"
   ]
  },
  {
   "cell_type": "code",
   "execution_count": null,
   "metadata": {},
   "outputs": [],
   "source": [
    "data_exp = DataExploration()\n",
    "df = data_exp.load_data('./data/coyote_0731_1000.xlsx', parse_dates=False, index_col=False)"
   ]
  },
  {
   "cell_type": "code",
   "execution_count": null,
   "metadata": {},
   "outputs": [
    {
     "name": "stdout",
     "output_type": "stream",
     "text": [
      "Data types summary:\n",
      " int64      39\n",
      "float64    29\n",
      "bool       20\n",
      "object     11\n",
      "Name: count, dtype: int64\n"
     ]
    }
   ],
   "source": [
    "data_exp.summarize_data_type(df)"
   ]
  },
  {
   "cell_type": "code",
   "execution_count": null,
   "metadata": {},
   "outputs": [
    {
     "data": {
      "text/html": [
       "<div>\n",
       "<style scoped>\n",
       "    .dataframe tbody tr th:only-of-type {\n",
       "        vertical-align: middle;\n",
       "    }\n",
       "\n",
       "    .dataframe tbody tr th {\n",
       "        vertical-align: top;\n",
       "    }\n",
       "\n",
       "    .dataframe thead th {\n",
       "        text-align: right;\n",
       "    }\n",
       "</style>\n",
       "<table border=\"1\" class=\"dataframe\">\n",
       "  <thead>\n",
       "    <tr style=\"text-align: right;\">\n",
       "      <th></th>\n",
       "      <th>Concealed</th>\n",
       "      <th>Team</th>\n",
       "      <th>Private</th>\n",
       "      <th>Rolled</th>\n",
       "      <th>TankerContainer</th>\n",
       "      <th>TankerLiquid</th>\n",
       "      <th>TankerFood</th>\n",
       "      <th>TankerReefer</th>\n",
       "      <th>TankerHazMat</th>\n",
       "      <th>Hot</th>\n",
       "      <th>Liquor</th>\n",
       "      <th>TWIC</th>\n",
       "      <th>TMSPrivateCarrier</th>\n",
       "      <th>Govt</th>\n",
       "      <th>HRHV</th>\n",
       "      <th>Seal</th>\n",
       "      <th>IsCustomerHighPriority</th>\n",
       "      <th>IsCommodityStackable</th>\n",
       "      <th>MXCrossBorder</th>\n",
       "      <th>CACrossBorder</th>\n",
       "    </tr>\n",
       "  </thead>\n",
       "  <tbody>\n",
       "    <tr>\n",
       "      <th>0</th>\n",
       "      <td>False</td>\n",
       "      <td>False</td>\n",
       "      <td>False</td>\n",
       "      <td>False</td>\n",
       "      <td>False</td>\n",
       "      <td>False</td>\n",
       "      <td>False</td>\n",
       "      <td>False</td>\n",
       "      <td>False</td>\n",
       "      <td>False</td>\n",
       "      <td>False</td>\n",
       "      <td>False</td>\n",
       "      <td>False</td>\n",
       "      <td>False</td>\n",
       "      <td>False</td>\n",
       "      <td>False</td>\n",
       "      <td>False</td>\n",
       "      <td>False</td>\n",
       "      <td>False</td>\n",
       "      <td>False</td>\n",
       "    </tr>\n",
       "    <tr>\n",
       "      <th>1</th>\n",
       "      <td>False</td>\n",
       "      <td>False</td>\n",
       "      <td>False</td>\n",
       "      <td>False</td>\n",
       "      <td>False</td>\n",
       "      <td>False</td>\n",
       "      <td>False</td>\n",
       "      <td>False</td>\n",
       "      <td>False</td>\n",
       "      <td>False</td>\n",
       "      <td>False</td>\n",
       "      <td>False</td>\n",
       "      <td>False</td>\n",
       "      <td>False</td>\n",
       "      <td>False</td>\n",
       "      <td>False</td>\n",
       "      <td>False</td>\n",
       "      <td>False</td>\n",
       "      <td>False</td>\n",
       "      <td>False</td>\n",
       "    </tr>\n",
       "    <tr>\n",
       "      <th>2</th>\n",
       "      <td>False</td>\n",
       "      <td>False</td>\n",
       "      <td>False</td>\n",
       "      <td>False</td>\n",
       "      <td>False</td>\n",
       "      <td>False</td>\n",
       "      <td>False</td>\n",
       "      <td>False</td>\n",
       "      <td>False</td>\n",
       "      <td>False</td>\n",
       "      <td>False</td>\n",
       "      <td>False</td>\n",
       "      <td>True</td>\n",
       "      <td>False</td>\n",
       "      <td>False</td>\n",
       "      <td>True</td>\n",
       "      <td>False</td>\n",
       "      <td>False</td>\n",
       "      <td>True</td>\n",
       "      <td>False</td>\n",
       "    </tr>\n",
       "    <tr>\n",
       "      <th>3</th>\n",
       "      <td>False</td>\n",
       "      <td>False</td>\n",
       "      <td>False</td>\n",
       "      <td>False</td>\n",
       "      <td>False</td>\n",
       "      <td>False</td>\n",
       "      <td>False</td>\n",
       "      <td>False</td>\n",
       "      <td>False</td>\n",
       "      <td>False</td>\n",
       "      <td>False</td>\n",
       "      <td>False</td>\n",
       "      <td>False</td>\n",
       "      <td>False</td>\n",
       "      <td>False</td>\n",
       "      <td>True</td>\n",
       "      <td>False</td>\n",
       "      <td>False</td>\n",
       "      <td>False</td>\n",
       "      <td>False</td>\n",
       "    </tr>\n",
       "    <tr>\n",
       "      <th>4</th>\n",
       "      <td>False</td>\n",
       "      <td>False</td>\n",
       "      <td>False</td>\n",
       "      <td>False</td>\n",
       "      <td>False</td>\n",
       "      <td>False</td>\n",
       "      <td>False</td>\n",
       "      <td>False</td>\n",
       "      <td>False</td>\n",
       "      <td>False</td>\n",
       "      <td>False</td>\n",
       "      <td>False</td>\n",
       "      <td>False</td>\n",
       "      <td>False</td>\n",
       "      <td>False</td>\n",
       "      <td>False</td>\n",
       "      <td>False</td>\n",
       "      <td>False</td>\n",
       "      <td>False</td>\n",
       "      <td>False</td>\n",
       "    </tr>\n",
       "  </tbody>\n",
       "</table>\n",
       "</div>"
      ],
      "text/plain": [
       "   Concealed   Team  Private  Rolled  TankerContainer  TankerLiquid  \\\n",
       "0      False  False    False   False            False         False   \n",
       "1      False  False    False   False            False         False   \n",
       "2      False  False    False   False            False         False   \n",
       "3      False  False    False   False            False         False   \n",
       "4      False  False    False   False            False         False   \n",
       "\n",
       "   TankerFood  TankerReefer  TankerHazMat    Hot  Liquor   TWIC  \\\n",
       "0       False         False         False  False   False  False   \n",
       "1       False         False         False  False   False  False   \n",
       "2       False         False         False  False   False  False   \n",
       "3       False         False         False  False   False  False   \n",
       "4       False         False         False  False   False  False   \n",
       "\n",
       "   TMSPrivateCarrier   Govt   HRHV   Seal  IsCustomerHighPriority  \\\n",
       "0              False  False  False  False                   False   \n",
       "1              False  False  False  False                   False   \n",
       "2               True  False  False   True                   False   \n",
       "3              False  False  False   True                   False   \n",
       "4              False  False  False  False                   False   \n",
       "\n",
       "   IsCommodityStackable  MXCrossBorder  CACrossBorder  \n",
       "0                 False          False          False  \n",
       "1                 False          False          False  \n",
       "2                 False           True          False  \n",
       "3                 False          False          False  \n",
       "4                 False          False          False  "
      ]
     },
     "execution_count": 19,
     "metadata": {},
     "output_type": "execute_result"
    }
   ],
   "source": [
    "be = BinaryEncoding(df, ['TotalCostUSD'])\n",
    "bool_cols = be.get_columns()\n",
    "df[bool_cols].head()"
   ]
  },
  {
   "cell_type": "code",
   "execution_count": null,
   "metadata": {},
   "outputs": [
    {
     "data": {
      "text/html": [
       "<div>\n",
       "<style scoped>\n",
       "    .dataframe tbody tr th:only-of-type {\n",
       "        vertical-align: middle;\n",
       "    }\n",
       "\n",
       "    .dataframe tbody tr th {\n",
       "        vertical-align: top;\n",
       "    }\n",
       "\n",
       "    .dataframe thead th {\n",
       "        text-align: right;\n",
       "    }\n",
       "</style>\n",
       "<table border=\"1\" class=\"dataframe\">\n",
       "  <thead>\n",
       "    <tr style=\"text-align: right;\">\n",
       "      <th></th>\n",
       "      <th>Concealed</th>\n",
       "      <th>Team</th>\n",
       "      <th>Private</th>\n",
       "      <th>Rolled</th>\n",
       "      <th>TankerContainer</th>\n",
       "      <th>TankerLiquid</th>\n",
       "      <th>TankerFood</th>\n",
       "      <th>TankerReefer</th>\n",
       "      <th>TankerHazMat</th>\n",
       "      <th>Hot</th>\n",
       "      <th>Liquor</th>\n",
       "      <th>TWIC</th>\n",
       "      <th>TMSPrivateCarrier</th>\n",
       "      <th>Govt</th>\n",
       "      <th>HRHV</th>\n",
       "      <th>Seal</th>\n",
       "      <th>IsCustomerHighPriority</th>\n",
       "      <th>IsCommodityStackable</th>\n",
       "      <th>MXCrossBorder</th>\n",
       "      <th>CACrossBorder</th>\n",
       "    </tr>\n",
       "  </thead>\n",
       "  <tbody>\n",
       "    <tr>\n",
       "      <th>0</th>\n",
       "      <td>0</td>\n",
       "      <td>0</td>\n",
       "      <td>0</td>\n",
       "      <td>0</td>\n",
       "      <td>0</td>\n",
       "      <td>0</td>\n",
       "      <td>0</td>\n",
       "      <td>0</td>\n",
       "      <td>0</td>\n",
       "      <td>0</td>\n",
       "      <td>0</td>\n",
       "      <td>0</td>\n",
       "      <td>0</td>\n",
       "      <td>0</td>\n",
       "      <td>0</td>\n",
       "      <td>0</td>\n",
       "      <td>0</td>\n",
       "      <td>0</td>\n",
       "      <td>0</td>\n",
       "      <td>0</td>\n",
       "    </tr>\n",
       "    <tr>\n",
       "      <th>1</th>\n",
       "      <td>0</td>\n",
       "      <td>0</td>\n",
       "      <td>0</td>\n",
       "      <td>0</td>\n",
       "      <td>0</td>\n",
       "      <td>0</td>\n",
       "      <td>0</td>\n",
       "      <td>0</td>\n",
       "      <td>0</td>\n",
       "      <td>0</td>\n",
       "      <td>0</td>\n",
       "      <td>0</td>\n",
       "      <td>0</td>\n",
       "      <td>0</td>\n",
       "      <td>0</td>\n",
       "      <td>0</td>\n",
       "      <td>0</td>\n",
       "      <td>0</td>\n",
       "      <td>0</td>\n",
       "      <td>0</td>\n",
       "    </tr>\n",
       "    <tr>\n",
       "      <th>2</th>\n",
       "      <td>0</td>\n",
       "      <td>0</td>\n",
       "      <td>0</td>\n",
       "      <td>0</td>\n",
       "      <td>0</td>\n",
       "      <td>0</td>\n",
       "      <td>0</td>\n",
       "      <td>0</td>\n",
       "      <td>0</td>\n",
       "      <td>0</td>\n",
       "      <td>0</td>\n",
       "      <td>0</td>\n",
       "      <td>1</td>\n",
       "      <td>0</td>\n",
       "      <td>0</td>\n",
       "      <td>1</td>\n",
       "      <td>0</td>\n",
       "      <td>0</td>\n",
       "      <td>1</td>\n",
       "      <td>0</td>\n",
       "    </tr>\n",
       "    <tr>\n",
       "      <th>3</th>\n",
       "      <td>0</td>\n",
       "      <td>0</td>\n",
       "      <td>0</td>\n",
       "      <td>0</td>\n",
       "      <td>0</td>\n",
       "      <td>0</td>\n",
       "      <td>0</td>\n",
       "      <td>0</td>\n",
       "      <td>0</td>\n",
       "      <td>0</td>\n",
       "      <td>0</td>\n",
       "      <td>0</td>\n",
       "      <td>0</td>\n",
       "      <td>0</td>\n",
       "      <td>0</td>\n",
       "      <td>1</td>\n",
       "      <td>0</td>\n",
       "      <td>0</td>\n",
       "      <td>0</td>\n",
       "      <td>0</td>\n",
       "    </tr>\n",
       "    <tr>\n",
       "      <th>4</th>\n",
       "      <td>0</td>\n",
       "      <td>0</td>\n",
       "      <td>0</td>\n",
       "      <td>0</td>\n",
       "      <td>0</td>\n",
       "      <td>0</td>\n",
       "      <td>0</td>\n",
       "      <td>0</td>\n",
       "      <td>0</td>\n",
       "      <td>0</td>\n",
       "      <td>0</td>\n",
       "      <td>0</td>\n",
       "      <td>0</td>\n",
       "      <td>0</td>\n",
       "      <td>0</td>\n",
       "      <td>0</td>\n",
       "      <td>0</td>\n",
       "      <td>0</td>\n",
       "      <td>0</td>\n",
       "      <td>0</td>\n",
       "    </tr>\n",
       "  </tbody>\n",
       "</table>\n",
       "</div>"
      ],
      "text/plain": [
       "   Concealed  Team  Private  Rolled  TankerContainer  TankerLiquid  \\\n",
       "0          0     0        0       0                0             0   \n",
       "1          0     0        0       0                0             0   \n",
       "2          0     0        0       0                0             0   \n",
       "3          0     0        0       0                0             0   \n",
       "4          0     0        0       0                0             0   \n",
       "\n",
       "   TankerFood  TankerReefer  TankerHazMat  Hot  Liquor  TWIC  \\\n",
       "0           0             0             0    0       0     0   \n",
       "1           0             0             0    0       0     0   \n",
       "2           0             0             0    0       0     0   \n",
       "3           0             0             0    0       0     0   \n",
       "4           0             0             0    0       0     0   \n",
       "\n",
       "   TMSPrivateCarrier  Govt  HRHV  Seal  IsCustomerHighPriority  \\\n",
       "0                  0     0     0     0                       0   \n",
       "1                  0     0     0     0                       0   \n",
       "2                  1     0     0     1                       0   \n",
       "3                  0     0     0     1                       0   \n",
       "4                  0     0     0     0                       0   \n",
       "\n",
       "   IsCommodityStackable  MXCrossBorder  CACrossBorder  \n",
       "0                     0              0              0  \n",
       "1                     0              0              0  \n",
       "2                     0              1              0  \n",
       "3                     0              0              0  \n",
       "4                     0              0              0  "
      ]
     },
     "execution_count": 20,
     "metadata": {},
     "output_type": "execute_result"
    }
   ],
   "source": [
    "df = be.encode()\n",
    "df[bool_cols].head()"
   ]
  },
  {
   "cell_type": "code",
   "execution_count": null,
   "metadata": {},
   "outputs": [
    {
     "name": "stdout",
     "output_type": "stream",
     "text": [
      "Data types summary:\n",
      " int64      59\n",
      "float64    29\n",
      "object     11\n",
      "Name: count, dtype: int64\n"
     ]
    }
   ],
   "source": [
    "data_exp.summarize_data_type(df)"
   ]
  },
  {
   "cell_type": "code",
   "execution_count": null,
   "metadata": {},
   "outputs": [
    {
     "data": {
      "text/html": [
       "<div>\n",
       "<style scoped>\n",
       "    .dataframe tbody tr th:only-of-type {\n",
       "        vertical-align: middle;\n",
       "    }\n",
       "\n",
       "    .dataframe tbody tr th {\n",
       "        vertical-align: top;\n",
       "    }\n",
       "\n",
       "    .dataframe thead th {\n",
       "        text-align: right;\n",
       "    }\n",
       "</style>\n",
       "<table border=\"1\" class=\"dataframe\">\n",
       "  <thead>\n",
       "    <tr style=\"text-align: right;\">\n",
       "      <th></th>\n",
       "      <th>EquipmentType</th>\n",
       "      <th>NormalizedRank</th>\n",
       "      <th>Normalized_EQ</th>\n",
       "      <th>BizUnit</th>\n",
       "      <th>BookType</th>\n",
       "      <th>BuildType</th>\n",
       "      <th>SalesStatus</th>\n",
       "      <th>CommodityCode</th>\n",
       "      <th>LoadDate-Weekday</th>\n",
       "      <th>DelDate-Weekday</th>\n",
       "      <th>CreateDate-Weekday</th>\n",
       "    </tr>\n",
       "  </thead>\n",
       "  <tbody>\n",
       "    <tr>\n",
       "      <th>0</th>\n",
       "      <td>V</td>\n",
       "      <td>Spot</td>\n",
       "      <td>V</td>\n",
       "      <td>Core</td>\n",
       "      <td>SameDay</td>\n",
       "      <td>SameDayBuild</td>\n",
       "      <td>Non-Enterprise</td>\n",
       "      <td>NaN</td>\n",
       "      <td>Friday</td>\n",
       "      <td>Monday</td>\n",
       "      <td>Friday</td>\n",
       "    </tr>\n",
       "    <tr>\n",
       "      <th>1</th>\n",
       "      <td>V</td>\n",
       "      <td>Spot</td>\n",
       "      <td>V</td>\n",
       "      <td>Core</td>\n",
       "      <td>Prebook</td>\n",
       "      <td>PreBuild</td>\n",
       "      <td>Non-Enterprise</td>\n",
       "      <td>NaN</td>\n",
       "      <td>Tuesday</td>\n",
       "      <td>Wednesday</td>\n",
       "      <td>Friday</td>\n",
       "    </tr>\n",
       "    <tr>\n",
       "      <th>2</th>\n",
       "      <td>F</td>\n",
       "      <td>Primary</td>\n",
       "      <td>F</td>\n",
       "      <td>Core</td>\n",
       "      <td>Prebook</td>\n",
       "      <td>PreBuild</td>\n",
       "      <td>Managed</td>\n",
       "      <td>NaN</td>\n",
       "      <td>Monday</td>\n",
       "      <td>Tuesday</td>\n",
       "      <td>Friday</td>\n",
       "    </tr>\n",
       "    <tr>\n",
       "      <th>3</th>\n",
       "      <td>V</td>\n",
       "      <td>Primary</td>\n",
       "      <td>V</td>\n",
       "      <td>Core</td>\n",
       "      <td>SameDay</td>\n",
       "      <td>SameDayBuild</td>\n",
       "      <td>Non-Enterprise</td>\n",
       "      <td>NaN</td>\n",
       "      <td>Friday</td>\n",
       "      <td>Friday</td>\n",
       "      <td>Friday</td>\n",
       "    </tr>\n",
       "    <tr>\n",
       "      <th>4</th>\n",
       "      <td>V</td>\n",
       "      <td>Spot</td>\n",
       "      <td>V</td>\n",
       "      <td>Core</td>\n",
       "      <td>SameDay</td>\n",
       "      <td>SameDayBuild</td>\n",
       "      <td>Non-Enterprise</td>\n",
       "      <td>NaN</td>\n",
       "      <td>Friday</td>\n",
       "      <td>Wednesday</td>\n",
       "      <td>Friday</td>\n",
       "    </tr>\n",
       "  </tbody>\n",
       "</table>\n",
       "</div>"
      ],
      "text/plain": [
       "  EquipmentType NormalizedRank Normalized_EQ BizUnit BookType     BuildType  \\\n",
       "0             V           Spot             V    Core  SameDay  SameDayBuild   \n",
       "1             V           Spot             V    Core  Prebook      PreBuild   \n",
       "2             F        Primary             F    Core  Prebook      PreBuild   \n",
       "3             V        Primary             V    Core  SameDay  SameDayBuild   \n",
       "4             V           Spot             V    Core  SameDay  SameDayBuild   \n",
       "\n",
       "      SalesStatus CommodityCode LoadDate-Weekday DelDate-Weekday  \\\n",
       "0  Non-Enterprise           NaN           Friday          Monday   \n",
       "1  Non-Enterprise           NaN          Tuesday       Wednesday   \n",
       "2         Managed           NaN           Monday         Tuesday   \n",
       "3  Non-Enterprise           NaN           Friday          Friday   \n",
       "4  Non-Enterprise           NaN           Friday       Wednesday   \n",
       "\n",
       "  CreateDate-Weekday  \n",
       "0             Friday  \n",
       "1             Friday  \n",
       "2             Friday  \n",
       "3             Friday  \n",
       "4             Friday  "
      ]
     },
     "execution_count": 22,
     "metadata": {},
     "output_type": "execute_result"
    }
   ],
   "source": [
    "te = TargetEncoding(df, ['TotalCostUSD'])\n",
    "categorical_cols = te.get_columns()\n",
    "df[categorical_cols].head()"
   ]
  },
  {
   "cell_type": "code",
   "execution_count": null,
   "metadata": {},
   "outputs": [
    {
     "data": {
      "text/html": [
       "<div>\n",
       "<style scoped>\n",
       "    .dataframe tbody tr th:only-of-type {\n",
       "        vertical-align: middle;\n",
       "    }\n",
       "\n",
       "    .dataframe tbody tr th {\n",
       "        vertical-align: top;\n",
       "    }\n",
       "\n",
       "    .dataframe thead th {\n",
       "        text-align: right;\n",
       "    }\n",
       "</style>\n",
       "<table border=\"1\" class=\"dataframe\">\n",
       "  <thead>\n",
       "    <tr style=\"text-align: right;\">\n",
       "      <th></th>\n",
       "      <th>EquipmentType</th>\n",
       "      <th>NormalizedRank</th>\n",
       "      <th>Normalized_EQ</th>\n",
       "      <th>BizUnit</th>\n",
       "      <th>BookType</th>\n",
       "      <th>BuildType</th>\n",
       "      <th>SalesStatus</th>\n",
       "      <th>CommodityCode</th>\n",
       "      <th>LoadDate-Weekday</th>\n",
       "      <th>DelDate-Weekday</th>\n",
       "      <th>CreateDate-Weekday</th>\n",
       "    </tr>\n",
       "  </thead>\n",
       "  <tbody>\n",
       "    <tr>\n",
       "      <th>0</th>\n",
       "      <td>1167.846730</td>\n",
       "      <td>1276.082259</td>\n",
       "      <td>1285.489573</td>\n",
       "      <td>1397.622783</td>\n",
       "      <td>1362.821291</td>\n",
       "      <td>931.475097</td>\n",
       "      <td>1308.222838</td>\n",
       "      <td>1321.638651</td>\n",
       "      <td>1127.472760</td>\n",
       "      <td>1446.114308</td>\n",
       "      <td>1414.839236</td>\n",
       "    </tr>\n",
       "    <tr>\n",
       "      <th>1</th>\n",
       "      <td>1167.846730</td>\n",
       "      <td>1276.082259</td>\n",
       "      <td>1285.489573</td>\n",
       "      <td>1397.622783</td>\n",
       "      <td>1525.869119</td>\n",
       "      <td>1781.346110</td>\n",
       "      <td>1308.222838</td>\n",
       "      <td>1321.638651</td>\n",
       "      <td>1658.687189</td>\n",
       "      <td>1316.577477</td>\n",
       "      <td>1414.839236</td>\n",
       "    </tr>\n",
       "    <tr>\n",
       "      <th>2</th>\n",
       "      <td>1163.274645</td>\n",
       "      <td>1568.820526</td>\n",
       "      <td>1419.329335</td>\n",
       "      <td>1397.622783</td>\n",
       "      <td>1525.869119</td>\n",
       "      <td>1781.346110</td>\n",
       "      <td>745.107322</td>\n",
       "      <td>1321.638651</td>\n",
       "      <td>1406.654348</td>\n",
       "      <td>1268.843787</td>\n",
       "      <td>1414.839236</td>\n",
       "    </tr>\n",
       "    <tr>\n",
       "      <th>3</th>\n",
       "      <td>1167.846730</td>\n",
       "      <td>1568.820526</td>\n",
       "      <td>1285.489573</td>\n",
       "      <td>1397.622783</td>\n",
       "      <td>1362.821291</td>\n",
       "      <td>931.475097</td>\n",
       "      <td>1308.222838</td>\n",
       "      <td>1321.638651</td>\n",
       "      <td>1127.472760</td>\n",
       "      <td>1774.547673</td>\n",
       "      <td>1414.839236</td>\n",
       "    </tr>\n",
       "    <tr>\n",
       "      <th>4</th>\n",
       "      <td>1167.846730</td>\n",
       "      <td>1276.082259</td>\n",
       "      <td>1285.489573</td>\n",
       "      <td>1397.622783</td>\n",
       "      <td>1362.821291</td>\n",
       "      <td>931.475097</td>\n",
       "      <td>1308.222838</td>\n",
       "      <td>1321.638651</td>\n",
       "      <td>1127.472760</td>\n",
       "      <td>1316.577477</td>\n",
       "      <td>1414.839236</td>\n",
       "    </tr>\n",
       "  </tbody>\n",
       "</table>\n",
       "</div>"
      ],
      "text/plain": [
       "   EquipmentType  NormalizedRank  Normalized_EQ      BizUnit     BookType  \\\n",
       "0    1167.846730     1276.082259    1285.489573  1397.622783  1362.821291   \n",
       "1    1167.846730     1276.082259    1285.489573  1397.622783  1525.869119   \n",
       "2    1163.274645     1568.820526    1419.329335  1397.622783  1525.869119   \n",
       "3    1167.846730     1568.820526    1285.489573  1397.622783  1362.821291   \n",
       "4    1167.846730     1276.082259    1285.489573  1397.622783  1362.821291   \n",
       "\n",
       "     BuildType  SalesStatus  CommodityCode  LoadDate-Weekday  DelDate-Weekday  \\\n",
       "0   931.475097  1308.222838    1321.638651       1127.472760      1446.114308   \n",
       "1  1781.346110  1308.222838    1321.638651       1658.687189      1316.577477   \n",
       "2  1781.346110   745.107322    1321.638651       1406.654348      1268.843787   \n",
       "3   931.475097  1308.222838    1321.638651       1127.472760      1774.547673   \n",
       "4   931.475097  1308.222838    1321.638651       1127.472760      1316.577477   \n",
       "\n",
       "   CreateDate-Weekday  \n",
       "0         1414.839236  \n",
       "1         1414.839236  \n",
       "2         1414.839236  \n",
       "3         1414.839236  \n",
       "4         1414.839236  "
      ]
     },
     "execution_count": 23,
     "metadata": {},
     "output_type": "execute_result"
    }
   ],
   "source": [
    "df = te.encode()\n",
    "df[categorical_cols].head()"
   ]
  },
  {
   "cell_type": "code",
   "execution_count": null,
   "metadata": {},
   "outputs": [
    {
     "name": "stdout",
     "output_type": "stream",
     "text": [
      "Data types summary:\n",
      " int64      59\n",
      "float64    40\n",
      "Name: count, dtype: int64\n"
     ]
    }
   ],
   "source": [
    "data_exp.summarize_data_type(df)"
   ]
  },
  {
   "cell_type": "markdown",
   "metadata": {},
   "source": [
    "feature_scaling()"
   ]
  },
  {
   "cell_type": "code",
   "execution_count": null,
   "metadata": {},
   "outputs": [
    {
     "data": {
      "text/html": [
       "<div>\n",
       "<style scoped>\n",
       "    .dataframe tbody tr th:only-of-type {\n",
       "        vertical-align: middle;\n",
       "    }\n",
       "\n",
       "    .dataframe tbody tr th {\n",
       "        vertical-align: top;\n",
       "    }\n",
       "\n",
       "    .dataframe thead th {\n",
       "        text-align: right;\n",
       "    }\n",
       "</style>\n",
       "<table border=\"1\" class=\"dataframe\">\n",
       "  <thead>\n",
       "    <tr style=\"text-align: right;\">\n",
       "      <th></th>\n",
       "      <th>Mode</th>\n",
       "      <th>ProgressType</th>\n",
       "      <th>Type</th>\n",
       "      <th>StateType</th>\n",
       "      <th>LoadingPosition</th>\n",
       "      <th>Plan</th>\n",
       "      <th>ShipmentType</th>\n",
       "      <th>EquipmentType</th>\n",
       "      <th>EquipmentLength</th>\n",
       "      <th>EquipmentWidth</th>\n",
       "      <th>...</th>\n",
       "      <th>TRUCKD11</th>\n",
       "      <th>DJTA</th>\n",
       "      <th>DTB3</th>\n",
       "      <th>GASREGW</th>\n",
       "      <th>IPG2122N</th>\n",
       "      <th>IPG3361T3S</th>\n",
       "      <th>GDP</th>\n",
       "      <th>PPIACO</th>\n",
       "      <th>BUSINV</th>\n",
       "      <th>PCU48414841</th>\n",
       "    </tr>\n",
       "  </thead>\n",
       "  <tbody>\n",
       "    <tr>\n",
       "      <th>0</th>\n",
       "      <td>2</td>\n",
       "      <td>8</td>\n",
       "      <td>1</td>\n",
       "      <td>1</td>\n",
       "      <td>0</td>\n",
       "      <td>0</td>\n",
       "      <td>1</td>\n",
       "      <td>1167.846730</td>\n",
       "      <td>53</td>\n",
       "      <td>0</td>\n",
       "      <td>...</td>\n",
       "      <td>115.9</td>\n",
       "      <td>13738.04</td>\n",
       "      <td>4.2</td>\n",
       "      <td>3.239</td>\n",
       "      <td>91.7098</td>\n",
       "      <td>102.9025</td>\n",
       "      <td>26137.992</td>\n",
       "      <td>257.897</td>\n",
       "      <td>2545624</td>\n",
       "      <td>207.137</td>\n",
       "    </tr>\n",
       "    <tr>\n",
       "      <th>1</th>\n",
       "      <td>1</td>\n",
       "      <td>8</td>\n",
       "      <td>1</td>\n",
       "      <td>1</td>\n",
       "      <td>2</td>\n",
       "      <td>0</td>\n",
       "      <td>1</td>\n",
       "      <td>1167.846730</td>\n",
       "      <td>53</td>\n",
       "      <td>0</td>\n",
       "      <td>...</td>\n",
       "      <td>115.9</td>\n",
       "      <td>13738.04</td>\n",
       "      <td>4.2</td>\n",
       "      <td>3.239</td>\n",
       "      <td>91.7098</td>\n",
       "      <td>102.9025</td>\n",
       "      <td>26137.992</td>\n",
       "      <td>257.897</td>\n",
       "      <td>2545624</td>\n",
       "      <td>207.137</td>\n",
       "    </tr>\n",
       "    <tr>\n",
       "      <th>2</th>\n",
       "      <td>1</td>\n",
       "      <td>8</td>\n",
       "      <td>2</td>\n",
       "      <td>1</td>\n",
       "      <td>2</td>\n",
       "      <td>0</td>\n",
       "      <td>5</td>\n",
       "      <td>1163.274645</td>\n",
       "      <td>48</td>\n",
       "      <td>0</td>\n",
       "      <td>...</td>\n",
       "      <td>115.9</td>\n",
       "      <td>13738.04</td>\n",
       "      <td>4.2</td>\n",
       "      <td>3.239</td>\n",
       "      <td>91.7098</td>\n",
       "      <td>102.9025</td>\n",
       "      <td>26137.992</td>\n",
       "      <td>257.897</td>\n",
       "      <td>2545624</td>\n",
       "      <td>207.137</td>\n",
       "    </tr>\n",
       "    <tr>\n",
       "      <th>3</th>\n",
       "      <td>1</td>\n",
       "      <td>8</td>\n",
       "      <td>1</td>\n",
       "      <td>1</td>\n",
       "      <td>2</td>\n",
       "      <td>0</td>\n",
       "      <td>1</td>\n",
       "      <td>1167.846730</td>\n",
       "      <td>48</td>\n",
       "      <td>0</td>\n",
       "      <td>...</td>\n",
       "      <td>115.9</td>\n",
       "      <td>13738.04</td>\n",
       "      <td>4.2</td>\n",
       "      <td>3.239</td>\n",
       "      <td>91.7098</td>\n",
       "      <td>102.9025</td>\n",
       "      <td>26137.992</td>\n",
       "      <td>257.897</td>\n",
       "      <td>2545624</td>\n",
       "      <td>207.137</td>\n",
       "    </tr>\n",
       "    <tr>\n",
       "      <th>4</th>\n",
       "      <td>2</td>\n",
       "      <td>8</td>\n",
       "      <td>1</td>\n",
       "      <td>1</td>\n",
       "      <td>0</td>\n",
       "      <td>0</td>\n",
       "      <td>1</td>\n",
       "      <td>1167.846730</td>\n",
       "      <td>53</td>\n",
       "      <td>0</td>\n",
       "      <td>...</td>\n",
       "      <td>115.9</td>\n",
       "      <td>13738.04</td>\n",
       "      <td>4.2</td>\n",
       "      <td>3.239</td>\n",
       "      <td>91.7098</td>\n",
       "      <td>102.9025</td>\n",
       "      <td>26137.992</td>\n",
       "      <td>257.897</td>\n",
       "      <td>2545624</td>\n",
       "      <td>207.137</td>\n",
       "    </tr>\n",
       "    <tr>\n",
       "      <th>...</th>\n",
       "      <td>...</td>\n",
       "      <td>...</td>\n",
       "      <td>...</td>\n",
       "      <td>...</td>\n",
       "      <td>...</td>\n",
       "      <td>...</td>\n",
       "      <td>...</td>\n",
       "      <td>...</td>\n",
       "      <td>...</td>\n",
       "      <td>...</td>\n",
       "      <td>...</td>\n",
       "      <td>...</td>\n",
       "      <td>...</td>\n",
       "      <td>...</td>\n",
       "      <td>...</td>\n",
       "      <td>...</td>\n",
       "      <td>...</td>\n",
       "      <td>...</td>\n",
       "      <td>...</td>\n",
       "      <td>...</td>\n",
       "      <td>...</td>\n",
       "    </tr>\n",
       "    <tr>\n",
       "      <th>995</th>\n",
       "      <td>1</td>\n",
       "      <td>8</td>\n",
       "      <td>1</td>\n",
       "      <td>1</td>\n",
       "      <td>2</td>\n",
       "      <td>0</td>\n",
       "      <td>0</td>\n",
       "      <td>1429.052565</td>\n",
       "      <td>53</td>\n",
       "      <td>0</td>\n",
       "      <td>...</td>\n",
       "      <td>115.9</td>\n",
       "      <td>13738.04</td>\n",
       "      <td>4.2</td>\n",
       "      <td>3.239</td>\n",
       "      <td>91.7098</td>\n",
       "      <td>102.9025</td>\n",
       "      <td>26137.992</td>\n",
       "      <td>257.897</td>\n",
       "      <td>2545624</td>\n",
       "      <td>207.137</td>\n",
       "    </tr>\n",
       "    <tr>\n",
       "      <th>996</th>\n",
       "      <td>1</td>\n",
       "      <td>8</td>\n",
       "      <td>1</td>\n",
       "      <td>1</td>\n",
       "      <td>2</td>\n",
       "      <td>0</td>\n",
       "      <td>1</td>\n",
       "      <td>1167.846730</td>\n",
       "      <td>53</td>\n",
       "      <td>0</td>\n",
       "      <td>...</td>\n",
       "      <td>115.9</td>\n",
       "      <td>13738.04</td>\n",
       "      <td>4.2</td>\n",
       "      <td>3.239</td>\n",
       "      <td>91.7098</td>\n",
       "      <td>102.9025</td>\n",
       "      <td>26137.992</td>\n",
       "      <td>257.897</td>\n",
       "      <td>2545624</td>\n",
       "      <td>207.137</td>\n",
       "    </tr>\n",
       "    <tr>\n",
       "      <th>997</th>\n",
       "      <td>1</td>\n",
       "      <td>8</td>\n",
       "      <td>1</td>\n",
       "      <td>1</td>\n",
       "      <td>2</td>\n",
       "      <td>0</td>\n",
       "      <td>1</td>\n",
       "      <td>1414.839236</td>\n",
       "      <td>18</td>\n",
       "      <td>0</td>\n",
       "      <td>...</td>\n",
       "      <td>115.9</td>\n",
       "      <td>13738.04</td>\n",
       "      <td>4.2</td>\n",
       "      <td>3.239</td>\n",
       "      <td>91.7098</td>\n",
       "      <td>102.9025</td>\n",
       "      <td>26137.992</td>\n",
       "      <td>257.897</td>\n",
       "      <td>2545624</td>\n",
       "      <td>207.137</td>\n",
       "    </tr>\n",
       "    <tr>\n",
       "      <th>998</th>\n",
       "      <td>1</td>\n",
       "      <td>8</td>\n",
       "      <td>1</td>\n",
       "      <td>1</td>\n",
       "      <td>2</td>\n",
       "      <td>0</td>\n",
       "      <td>0</td>\n",
       "      <td>1167.846730</td>\n",
       "      <td>53</td>\n",
       "      <td>102</td>\n",
       "      <td>...</td>\n",
       "      <td>115.9</td>\n",
       "      <td>13738.04</td>\n",
       "      <td>4.2</td>\n",
       "      <td>3.239</td>\n",
       "      <td>91.7098</td>\n",
       "      <td>102.9025</td>\n",
       "      <td>26137.992</td>\n",
       "      <td>257.897</td>\n",
       "      <td>2545624</td>\n",
       "      <td>207.137</td>\n",
       "    </tr>\n",
       "    <tr>\n",
       "      <th>999</th>\n",
       "      <td>1</td>\n",
       "      <td>8</td>\n",
       "      <td>1</td>\n",
       "      <td>1</td>\n",
       "      <td>2</td>\n",
       "      <td>0</td>\n",
       "      <td>0</td>\n",
       "      <td>1429.052565</td>\n",
       "      <td>53</td>\n",
       "      <td>0</td>\n",
       "      <td>...</td>\n",
       "      <td>115.9</td>\n",
       "      <td>13738.04</td>\n",
       "      <td>4.2</td>\n",
       "      <td>3.239</td>\n",
       "      <td>91.7098</td>\n",
       "      <td>102.9025</td>\n",
       "      <td>26137.992</td>\n",
       "      <td>257.897</td>\n",
       "      <td>2545624</td>\n",
       "      <td>207.137</td>\n",
       "    </tr>\n",
       "  </tbody>\n",
       "</table>\n",
       "<p>1000 rows × 98 columns</p>\n",
       "</div>"
      ],
      "text/plain": [
       "     Mode  ProgressType  Type  StateType  LoadingPosition  Plan  ShipmentType  \\\n",
       "0       2             8     1          1                0     0             1   \n",
       "1       1             8     1          1                2     0             1   \n",
       "2       1             8     2          1                2     0             5   \n",
       "3       1             8     1          1                2     0             1   \n",
       "4       2             8     1          1                0     0             1   \n",
       "..    ...           ...   ...        ...              ...   ...           ...   \n",
       "995     1             8     1          1                2     0             0   \n",
       "996     1             8     1          1                2     0             1   \n",
       "997     1             8     1          1                2     0             1   \n",
       "998     1             8     1          1                2     0             0   \n",
       "999     1             8     1          1                2     0             0   \n",
       "\n",
       "     EquipmentType  EquipmentLength  EquipmentWidth  ...  TRUCKD11      DJTA  \\\n",
       "0      1167.846730               53               0  ...     115.9  13738.04   \n",
       "1      1167.846730               53               0  ...     115.9  13738.04   \n",
       "2      1163.274645               48               0  ...     115.9  13738.04   \n",
       "3      1167.846730               48               0  ...     115.9  13738.04   \n",
       "4      1167.846730               53               0  ...     115.9  13738.04   \n",
       "..             ...              ...             ...  ...       ...       ...   \n",
       "995    1429.052565               53               0  ...     115.9  13738.04   \n",
       "996    1167.846730               53               0  ...     115.9  13738.04   \n",
       "997    1414.839236               18               0  ...     115.9  13738.04   \n",
       "998    1167.846730               53             102  ...     115.9  13738.04   \n",
       "999    1429.052565               53               0  ...     115.9  13738.04   \n",
       "\n",
       "     DTB3  GASREGW  IPG2122N  IPG3361T3S        GDP   PPIACO   BUSINV  \\\n",
       "0     4.2    3.239   91.7098    102.9025  26137.992  257.897  2545624   \n",
       "1     4.2    3.239   91.7098    102.9025  26137.992  257.897  2545624   \n",
       "2     4.2    3.239   91.7098    102.9025  26137.992  257.897  2545624   \n",
       "3     4.2    3.239   91.7098    102.9025  26137.992  257.897  2545624   \n",
       "4     4.2    3.239   91.7098    102.9025  26137.992  257.897  2545624   \n",
       "..    ...      ...       ...         ...        ...      ...      ...   \n",
       "995   4.2    3.239   91.7098    102.9025  26137.992  257.897  2545624   \n",
       "996   4.2    3.239   91.7098    102.9025  26137.992  257.897  2545624   \n",
       "997   4.2    3.239   91.7098    102.9025  26137.992  257.897  2545624   \n",
       "998   4.2    3.239   91.7098    102.9025  26137.992  257.897  2545624   \n",
       "999   4.2    3.239   91.7098    102.9025  26137.992  257.897  2545624   \n",
       "\n",
       "     PCU48414841  \n",
       "0        207.137  \n",
       "1        207.137  \n",
       "2        207.137  \n",
       "3        207.137  \n",
       "4        207.137  \n",
       "..           ...  \n",
       "995      207.137  \n",
       "996      207.137  \n",
       "997      207.137  \n",
       "998      207.137  \n",
       "999      207.137  \n",
       "\n",
       "[1000 rows x 98 columns]"
      ]
     },
     "execution_count": 25,
     "metadata": {},
     "output_type": "execute_result"
    }
   ],
   "source": [
    "minmax_scaling = FeatureScaling(df, ['TotalCostUSD'])\n",
    "numerical_cols = minmax_scaling.get_columns()\n",
    "df[numerical_cols]"
   ]
  },
  {
   "cell_type": "code",
   "execution_count": null,
   "metadata": {},
   "outputs": [
    {
     "data": {
      "text/html": [
       "<div>\n",
       "<style scoped>\n",
       "    .dataframe tbody tr th:only-of-type {\n",
       "        vertical-align: middle;\n",
       "    }\n",
       "\n",
       "    .dataframe tbody tr th {\n",
       "        vertical-align: top;\n",
       "    }\n",
       "\n",
       "    .dataframe thead th {\n",
       "        text-align: right;\n",
       "    }\n",
       "</style>\n",
       "<table border=\"1\" class=\"dataframe\">\n",
       "  <thead>\n",
       "    <tr style=\"text-align: right;\">\n",
       "      <th></th>\n",
       "      <th>Mode</th>\n",
       "      <th>ProgressType</th>\n",
       "      <th>Type</th>\n",
       "      <th>StateType</th>\n",
       "      <th>LoadingPosition</th>\n",
       "      <th>Plan</th>\n",
       "      <th>ShipmentType</th>\n",
       "      <th>EquipmentType</th>\n",
       "      <th>EquipmentLength</th>\n",
       "      <th>EquipmentWidth</th>\n",
       "      <th>...</th>\n",
       "      <th>TRUCKD11</th>\n",
       "      <th>DJTA</th>\n",
       "      <th>DTB3</th>\n",
       "      <th>GASREGW</th>\n",
       "      <th>IPG2122N</th>\n",
       "      <th>IPG3361T3S</th>\n",
       "      <th>GDP</th>\n",
       "      <th>PPIACO</th>\n",
       "      <th>BUSINV</th>\n",
       "      <th>PCU48414841</th>\n",
       "    </tr>\n",
       "  </thead>\n",
       "  <tbody>\n",
       "    <tr>\n",
       "      <th>0</th>\n",
       "      <td>0.5</td>\n",
       "      <td>0.428571</td>\n",
       "      <td>0.0</td>\n",
       "      <td>0.0</td>\n",
       "      <td>0.0</td>\n",
       "      <td>0.0</td>\n",
       "      <td>0.166667</td>\n",
       "      <td>0.003914</td>\n",
       "      <td>1.000000</td>\n",
       "      <td>0.0</td>\n",
       "      <td>...</td>\n",
       "      <td>0.0</td>\n",
       "      <td>0.0</td>\n",
       "      <td>0.0</td>\n",
       "      <td>0.0</td>\n",
       "      <td>0.0</td>\n",
       "      <td>0.0</td>\n",
       "      <td>0.0</td>\n",
       "      <td>0.0</td>\n",
       "      <td>0.0</td>\n",
       "      <td>0.0</td>\n",
       "    </tr>\n",
       "    <tr>\n",
       "      <th>1</th>\n",
       "      <td>0.0</td>\n",
       "      <td>0.428571</td>\n",
       "      <td>0.0</td>\n",
       "      <td>0.0</td>\n",
       "      <td>1.0</td>\n",
       "      <td>0.0</td>\n",
       "      <td>0.166667</td>\n",
       "      <td>0.003914</td>\n",
       "      <td>1.000000</td>\n",
       "      <td>0.0</td>\n",
       "      <td>...</td>\n",
       "      <td>0.0</td>\n",
       "      <td>0.0</td>\n",
       "      <td>0.0</td>\n",
       "      <td>0.0</td>\n",
       "      <td>0.0</td>\n",
       "      <td>0.0</td>\n",
       "      <td>0.0</td>\n",
       "      <td>0.0</td>\n",
       "      <td>0.0</td>\n",
       "      <td>0.0</td>\n",
       "    </tr>\n",
       "    <tr>\n",
       "      <th>2</th>\n",
       "      <td>0.0</td>\n",
       "      <td>0.428571</td>\n",
       "      <td>1.0</td>\n",
       "      <td>0.0</td>\n",
       "      <td>1.0</td>\n",
       "      <td>0.0</td>\n",
       "      <td>0.833333</td>\n",
       "      <td>0.000000</td>\n",
       "      <td>0.905660</td>\n",
       "      <td>0.0</td>\n",
       "      <td>...</td>\n",
       "      <td>0.0</td>\n",
       "      <td>0.0</td>\n",
       "      <td>0.0</td>\n",
       "      <td>0.0</td>\n",
       "      <td>0.0</td>\n",
       "      <td>0.0</td>\n",
       "      <td>0.0</td>\n",
       "      <td>0.0</td>\n",
       "      <td>0.0</td>\n",
       "      <td>0.0</td>\n",
       "    </tr>\n",
       "    <tr>\n",
       "      <th>3</th>\n",
       "      <td>0.0</td>\n",
       "      <td>0.428571</td>\n",
       "      <td>0.0</td>\n",
       "      <td>0.0</td>\n",
       "      <td>1.0</td>\n",
       "      <td>0.0</td>\n",
       "      <td>0.166667</td>\n",
       "      <td>0.003914</td>\n",
       "      <td>0.905660</td>\n",
       "      <td>0.0</td>\n",
       "      <td>...</td>\n",
       "      <td>0.0</td>\n",
       "      <td>0.0</td>\n",
       "      <td>0.0</td>\n",
       "      <td>0.0</td>\n",
       "      <td>0.0</td>\n",
       "      <td>0.0</td>\n",
       "      <td>0.0</td>\n",
       "      <td>0.0</td>\n",
       "      <td>0.0</td>\n",
       "      <td>0.0</td>\n",
       "    </tr>\n",
       "    <tr>\n",
       "      <th>4</th>\n",
       "      <td>0.5</td>\n",
       "      <td>0.428571</td>\n",
       "      <td>0.0</td>\n",
       "      <td>0.0</td>\n",
       "      <td>0.0</td>\n",
       "      <td>0.0</td>\n",
       "      <td>0.166667</td>\n",
       "      <td>0.003914</td>\n",
       "      <td>1.000000</td>\n",
       "      <td>0.0</td>\n",
       "      <td>...</td>\n",
       "      <td>0.0</td>\n",
       "      <td>0.0</td>\n",
       "      <td>0.0</td>\n",
       "      <td>0.0</td>\n",
       "      <td>0.0</td>\n",
       "      <td>0.0</td>\n",
       "      <td>0.0</td>\n",
       "      <td>0.0</td>\n",
       "      <td>0.0</td>\n",
       "      <td>0.0</td>\n",
       "    </tr>\n",
       "    <tr>\n",
       "      <th>...</th>\n",
       "      <td>...</td>\n",
       "      <td>...</td>\n",
       "      <td>...</td>\n",
       "      <td>...</td>\n",
       "      <td>...</td>\n",
       "      <td>...</td>\n",
       "      <td>...</td>\n",
       "      <td>...</td>\n",
       "      <td>...</td>\n",
       "      <td>...</td>\n",
       "      <td>...</td>\n",
       "      <td>...</td>\n",
       "      <td>...</td>\n",
       "      <td>...</td>\n",
       "      <td>...</td>\n",
       "      <td>...</td>\n",
       "      <td>...</td>\n",
       "      <td>...</td>\n",
       "      <td>...</td>\n",
       "      <td>...</td>\n",
       "      <td>...</td>\n",
       "    </tr>\n",
       "    <tr>\n",
       "      <th>995</th>\n",
       "      <td>0.0</td>\n",
       "      <td>0.428571</td>\n",
       "      <td>0.0</td>\n",
       "      <td>0.0</td>\n",
       "      <td>1.0</td>\n",
       "      <td>0.0</td>\n",
       "      <td>0.000000</td>\n",
       "      <td>0.227545</td>\n",
       "      <td>1.000000</td>\n",
       "      <td>0.0</td>\n",
       "      <td>...</td>\n",
       "      <td>0.0</td>\n",
       "      <td>0.0</td>\n",
       "      <td>0.0</td>\n",
       "      <td>0.0</td>\n",
       "      <td>0.0</td>\n",
       "      <td>0.0</td>\n",
       "      <td>0.0</td>\n",
       "      <td>0.0</td>\n",
       "      <td>0.0</td>\n",
       "      <td>0.0</td>\n",
       "    </tr>\n",
       "    <tr>\n",
       "      <th>996</th>\n",
       "      <td>0.0</td>\n",
       "      <td>0.428571</td>\n",
       "      <td>0.0</td>\n",
       "      <td>0.0</td>\n",
       "      <td>1.0</td>\n",
       "      <td>0.0</td>\n",
       "      <td>0.166667</td>\n",
       "      <td>0.003914</td>\n",
       "      <td>1.000000</td>\n",
       "      <td>0.0</td>\n",
       "      <td>...</td>\n",
       "      <td>0.0</td>\n",
       "      <td>0.0</td>\n",
       "      <td>0.0</td>\n",
       "      <td>0.0</td>\n",
       "      <td>0.0</td>\n",
       "      <td>0.0</td>\n",
       "      <td>0.0</td>\n",
       "      <td>0.0</td>\n",
       "      <td>0.0</td>\n",
       "      <td>0.0</td>\n",
       "    </tr>\n",
       "    <tr>\n",
       "      <th>997</th>\n",
       "      <td>0.0</td>\n",
       "      <td>0.428571</td>\n",
       "      <td>0.0</td>\n",
       "      <td>0.0</td>\n",
       "      <td>1.0</td>\n",
       "      <td>0.0</td>\n",
       "      <td>0.166667</td>\n",
       "      <td>0.215377</td>\n",
       "      <td>0.339623</td>\n",
       "      <td>0.0</td>\n",
       "      <td>...</td>\n",
       "      <td>0.0</td>\n",
       "      <td>0.0</td>\n",
       "      <td>0.0</td>\n",
       "      <td>0.0</td>\n",
       "      <td>0.0</td>\n",
       "      <td>0.0</td>\n",
       "      <td>0.0</td>\n",
       "      <td>0.0</td>\n",
       "      <td>0.0</td>\n",
       "      <td>0.0</td>\n",
       "    </tr>\n",
       "    <tr>\n",
       "      <th>998</th>\n",
       "      <td>0.0</td>\n",
       "      <td>0.428571</td>\n",
       "      <td>0.0</td>\n",
       "      <td>0.0</td>\n",
       "      <td>1.0</td>\n",
       "      <td>0.0</td>\n",
       "      <td>0.000000</td>\n",
       "      <td>0.003914</td>\n",
       "      <td>1.000000</td>\n",
       "      <td>1.0</td>\n",
       "      <td>...</td>\n",
       "      <td>0.0</td>\n",
       "      <td>0.0</td>\n",
       "      <td>0.0</td>\n",
       "      <td>0.0</td>\n",
       "      <td>0.0</td>\n",
       "      <td>0.0</td>\n",
       "      <td>0.0</td>\n",
       "      <td>0.0</td>\n",
       "      <td>0.0</td>\n",
       "      <td>0.0</td>\n",
       "    </tr>\n",
       "    <tr>\n",
       "      <th>999</th>\n",
       "      <td>0.0</td>\n",
       "      <td>0.428571</td>\n",
       "      <td>0.0</td>\n",
       "      <td>0.0</td>\n",
       "      <td>1.0</td>\n",
       "      <td>0.0</td>\n",
       "      <td>0.000000</td>\n",
       "      <td>0.227545</td>\n",
       "      <td>1.000000</td>\n",
       "      <td>0.0</td>\n",
       "      <td>...</td>\n",
       "      <td>0.0</td>\n",
       "      <td>0.0</td>\n",
       "      <td>0.0</td>\n",
       "      <td>0.0</td>\n",
       "      <td>0.0</td>\n",
       "      <td>0.0</td>\n",
       "      <td>0.0</td>\n",
       "      <td>0.0</td>\n",
       "      <td>0.0</td>\n",
       "      <td>0.0</td>\n",
       "    </tr>\n",
       "  </tbody>\n",
       "</table>\n",
       "<p>1000 rows × 98 columns</p>\n",
       "</div>"
      ],
      "text/plain": [
       "     Mode  ProgressType  Type  StateType  LoadingPosition  Plan  ShipmentType  \\\n",
       "0     0.5      0.428571   0.0        0.0              0.0   0.0      0.166667   \n",
       "1     0.0      0.428571   0.0        0.0              1.0   0.0      0.166667   \n",
       "2     0.0      0.428571   1.0        0.0              1.0   0.0      0.833333   \n",
       "3     0.0      0.428571   0.0        0.0              1.0   0.0      0.166667   \n",
       "4     0.5      0.428571   0.0        0.0              0.0   0.0      0.166667   \n",
       "..    ...           ...   ...        ...              ...   ...           ...   \n",
       "995   0.0      0.428571   0.0        0.0              1.0   0.0      0.000000   \n",
       "996   0.0      0.428571   0.0        0.0              1.0   0.0      0.166667   \n",
       "997   0.0      0.428571   0.0        0.0              1.0   0.0      0.166667   \n",
       "998   0.0      0.428571   0.0        0.0              1.0   0.0      0.000000   \n",
       "999   0.0      0.428571   0.0        0.0              1.0   0.0      0.000000   \n",
       "\n",
       "     EquipmentType  EquipmentLength  EquipmentWidth  ...  TRUCKD11  DJTA  \\\n",
       "0         0.003914         1.000000             0.0  ...       0.0   0.0   \n",
       "1         0.003914         1.000000             0.0  ...       0.0   0.0   \n",
       "2         0.000000         0.905660             0.0  ...       0.0   0.0   \n",
       "3         0.003914         0.905660             0.0  ...       0.0   0.0   \n",
       "4         0.003914         1.000000             0.0  ...       0.0   0.0   \n",
       "..             ...              ...             ...  ...       ...   ...   \n",
       "995       0.227545         1.000000             0.0  ...       0.0   0.0   \n",
       "996       0.003914         1.000000             0.0  ...       0.0   0.0   \n",
       "997       0.215377         0.339623             0.0  ...       0.0   0.0   \n",
       "998       0.003914         1.000000             1.0  ...       0.0   0.0   \n",
       "999       0.227545         1.000000             0.0  ...       0.0   0.0   \n",
       "\n",
       "     DTB3  GASREGW  IPG2122N  IPG3361T3S  GDP  PPIACO  BUSINV  PCU48414841  \n",
       "0     0.0      0.0       0.0         0.0  0.0     0.0     0.0          0.0  \n",
       "1     0.0      0.0       0.0         0.0  0.0     0.0     0.0          0.0  \n",
       "2     0.0      0.0       0.0         0.0  0.0     0.0     0.0          0.0  \n",
       "3     0.0      0.0       0.0         0.0  0.0     0.0     0.0          0.0  \n",
       "4     0.0      0.0       0.0         0.0  0.0     0.0     0.0          0.0  \n",
       "..    ...      ...       ...         ...  ...     ...     ...          ...  \n",
       "995   0.0      0.0       0.0         0.0  0.0     0.0     0.0          0.0  \n",
       "996   0.0      0.0       0.0         0.0  0.0     0.0     0.0          0.0  \n",
       "997   0.0      0.0       0.0         0.0  0.0     0.0     0.0          0.0  \n",
       "998   0.0      0.0       0.0         0.0  0.0     0.0     0.0          0.0  \n",
       "999   0.0      0.0       0.0         0.0  0.0     0.0     0.0          0.0  \n",
       "\n",
       "[1000 rows x 98 columns]"
      ]
     },
     "execution_count": 26,
     "metadata": {},
     "output_type": "execute_result"
    }
   ],
   "source": [
    "df = minmax_scaling.scale(method=\"minmax\")\n",
    "df[numerical_cols]"
   ]
  },
  {
   "cell_type": "code",
   "execution_count": null,
   "metadata": {},
   "outputs": [
    {
     "name": "stdout",
     "output_type": "stream",
     "text": [
      "Data types summary:\n",
      " float64    99\n",
      "Name: count, dtype: int64\n"
     ]
    }
   ],
   "source": [
    "data_exp.summarize_data_type(df)"
   ]
  },
  {
   "cell_type": "markdown",
   "metadata": {},
   "source": [
    "encoding & scaling"
   ]
  },
  {
   "cell_type": "code",
   "execution_count": null,
   "metadata": {},
   "outputs": [],
   "source": [
    "df = data_exp.load_data('./data/coyote_0731_1000.xlsx', parse_dates=False, index_col=False)"
   ]
  },
  {
   "cell_type": "code",
   "execution_count": null,
   "metadata": {},
   "outputs": [],
   "source": [
    "data_preprocessing = DataPreprocessing(df, ['TotalCostUSD'])"
   ]
  },
  {
   "cell_type": "code",
   "execution_count": null,
   "metadata": {},
   "outputs": [
    {
     "data": {
      "text/html": [
       "<div>\n",
       "<style scoped>\n",
       "    .dataframe tbody tr th:only-of-type {\n",
       "        vertical-align: middle;\n",
       "    }\n",
       "\n",
       "    .dataframe tbody tr th {\n",
       "        vertical-align: top;\n",
       "    }\n",
       "\n",
       "    .dataframe thead th {\n",
       "        text-align: right;\n",
       "    }\n",
       "</style>\n",
       "<table border=\"1\" class=\"dataframe\">\n",
       "  <thead>\n",
       "    <tr style=\"text-align: right;\">\n",
       "      <th></th>\n",
       "      <th>TotalCostUSD</th>\n",
       "      <th>Mode</th>\n",
       "      <th>ProgressType</th>\n",
       "      <th>Type</th>\n",
       "      <th>StateType</th>\n",
       "      <th>LoadingPosition</th>\n",
       "      <th>Plan</th>\n",
       "      <th>ShipmentType</th>\n",
       "      <th>EquipmentType</th>\n",
       "      <th>EquipmentLength</th>\n",
       "      <th>...</th>\n",
       "      <th>TRUCKD11</th>\n",
       "      <th>DJTA</th>\n",
       "      <th>DTB3</th>\n",
       "      <th>GASREGW</th>\n",
       "      <th>IPG2122N</th>\n",
       "      <th>IPG3361T3S</th>\n",
       "      <th>GDP</th>\n",
       "      <th>PPIACO</th>\n",
       "      <th>BUSINV</th>\n",
       "      <th>PCU48414841</th>\n",
       "    </tr>\n",
       "  </thead>\n",
       "  <tbody>\n",
       "    <tr>\n",
       "      <th>0</th>\n",
       "      <td>423.82</td>\n",
       "      <td>2</td>\n",
       "      <td>8</td>\n",
       "      <td>1</td>\n",
       "      <td>1</td>\n",
       "      <td>0</td>\n",
       "      <td>0</td>\n",
       "      <td>1</td>\n",
       "      <td>V</td>\n",
       "      <td>53</td>\n",
       "      <td>...</td>\n",
       "      <td>115.9</td>\n",
       "      <td>13738.04</td>\n",
       "      <td>4.2</td>\n",
       "      <td>3.239</td>\n",
       "      <td>91.7098</td>\n",
       "      <td>102.9025</td>\n",
       "      <td>26137.992</td>\n",
       "      <td>257.897</td>\n",
       "      <td>2545624</td>\n",
       "      <td>207.137</td>\n",
       "    </tr>\n",
       "    <tr>\n",
       "      <th>1</th>\n",
       "      <td>1300.00</td>\n",
       "      <td>1</td>\n",
       "      <td>8</td>\n",
       "      <td>1</td>\n",
       "      <td>1</td>\n",
       "      <td>2</td>\n",
       "      <td>0</td>\n",
       "      <td>1</td>\n",
       "      <td>V</td>\n",
       "      <td>53</td>\n",
       "      <td>...</td>\n",
       "      <td>115.9</td>\n",
       "      <td>13738.04</td>\n",
       "      <td>4.2</td>\n",
       "      <td>3.239</td>\n",
       "      <td>91.7098</td>\n",
       "      <td>102.9025</td>\n",
       "      <td>26137.992</td>\n",
       "      <td>257.897</td>\n",
       "      <td>2545624</td>\n",
       "      <td>207.137</td>\n",
       "    </tr>\n",
       "    <tr>\n",
       "      <th>2</th>\n",
       "      <td>300.00</td>\n",
       "      <td>1</td>\n",
       "      <td>8</td>\n",
       "      <td>2</td>\n",
       "      <td>1</td>\n",
       "      <td>2</td>\n",
       "      <td>0</td>\n",
       "      <td>5</td>\n",
       "      <td>F</td>\n",
       "      <td>48</td>\n",
       "      <td>...</td>\n",
       "      <td>115.9</td>\n",
       "      <td>13738.04</td>\n",
       "      <td>4.2</td>\n",
       "      <td>3.239</td>\n",
       "      <td>91.7098</td>\n",
       "      <td>102.9025</td>\n",
       "      <td>26137.992</td>\n",
       "      <td>257.897</td>\n",
       "      <td>2545624</td>\n",
       "      <td>207.137</td>\n",
       "    </tr>\n",
       "    <tr>\n",
       "      <th>3</th>\n",
       "      <td>873.00</td>\n",
       "      <td>1</td>\n",
       "      <td>8</td>\n",
       "      <td>1</td>\n",
       "      <td>1</td>\n",
       "      <td>2</td>\n",
       "      <td>0</td>\n",
       "      <td>1</td>\n",
       "      <td>V</td>\n",
       "      <td>48</td>\n",
       "      <td>...</td>\n",
       "      <td>115.9</td>\n",
       "      <td>13738.04</td>\n",
       "      <td>4.2</td>\n",
       "      <td>3.239</td>\n",
       "      <td>91.7098</td>\n",
       "      <td>102.9025</td>\n",
       "      <td>26137.992</td>\n",
       "      <td>257.897</td>\n",
       "      <td>2545624</td>\n",
       "      <td>207.137</td>\n",
       "    </tr>\n",
       "    <tr>\n",
       "      <th>4</th>\n",
       "      <td>267.48</td>\n",
       "      <td>2</td>\n",
       "      <td>8</td>\n",
       "      <td>1</td>\n",
       "      <td>1</td>\n",
       "      <td>0</td>\n",
       "      <td>0</td>\n",
       "      <td>1</td>\n",
       "      <td>V</td>\n",
       "      <td>53</td>\n",
       "      <td>...</td>\n",
       "      <td>115.9</td>\n",
       "      <td>13738.04</td>\n",
       "      <td>4.2</td>\n",
       "      <td>3.239</td>\n",
       "      <td>91.7098</td>\n",
       "      <td>102.9025</td>\n",
       "      <td>26137.992</td>\n",
       "      <td>257.897</td>\n",
       "      <td>2545624</td>\n",
       "      <td>207.137</td>\n",
       "    </tr>\n",
       "  </tbody>\n",
       "</table>\n",
       "<p>5 rows × 99 columns</p>\n",
       "</div>"
      ],
      "text/plain": [
       "   TotalCostUSD  Mode  ProgressType  Type  StateType  LoadingPosition  Plan  \\\n",
       "0        423.82     2             8     1          1                0     0   \n",
       "1       1300.00     1             8     1          1                2     0   \n",
       "2        300.00     1             8     2          1                2     0   \n",
       "3        873.00     1             8     1          1                2     0   \n",
       "4        267.48     2             8     1          1                0     0   \n",
       "\n",
       "   ShipmentType EquipmentType  EquipmentLength  ...  TRUCKD11      DJTA  DTB3  \\\n",
       "0             1             V               53  ...     115.9  13738.04   4.2   \n",
       "1             1             V               53  ...     115.9  13738.04   4.2   \n",
       "2             5             F               48  ...     115.9  13738.04   4.2   \n",
       "3             1             V               48  ...     115.9  13738.04   4.2   \n",
       "4             1             V               53  ...     115.9  13738.04   4.2   \n",
       "\n",
       "   GASREGW  IPG2122N  IPG3361T3S        GDP   PPIACO   BUSINV  PCU48414841  \n",
       "0    3.239   91.7098    102.9025  26137.992  257.897  2545624      207.137  \n",
       "1    3.239   91.7098    102.9025  26137.992  257.897  2545624      207.137  \n",
       "2    3.239   91.7098    102.9025  26137.992  257.897  2545624      207.137  \n",
       "3    3.239   91.7098    102.9025  26137.992  257.897  2545624      207.137  \n",
       "4    3.239   91.7098    102.9025  26137.992  257.897  2545624      207.137  \n",
       "\n",
       "[5 rows x 99 columns]"
      ]
     },
     "execution_count": 30,
     "metadata": {},
     "output_type": "execute_result"
    }
   ],
   "source": [
    "df.head()"
   ]
  },
  {
   "cell_type": "code",
   "execution_count": null,
   "metadata": {},
   "outputs": [
    {
     "data": {
      "text/html": [
       "<div>\n",
       "<style scoped>\n",
       "    .dataframe tbody tr th:only-of-type {\n",
       "        vertical-align: middle;\n",
       "    }\n",
       "\n",
       "    .dataframe tbody tr th {\n",
       "        vertical-align: top;\n",
       "    }\n",
       "\n",
       "    .dataframe thead th {\n",
       "        text-align: right;\n",
       "    }\n",
       "</style>\n",
       "<table border=\"1\" class=\"dataframe\">\n",
       "  <thead>\n",
       "    <tr style=\"text-align: right;\">\n",
       "      <th></th>\n",
       "      <th>Mode</th>\n",
       "      <th>ProgressType</th>\n",
       "      <th>Type</th>\n",
       "      <th>StateType</th>\n",
       "      <th>LoadingPosition</th>\n",
       "      <th>Plan</th>\n",
       "      <th>ShipmentType</th>\n",
       "      <th>EquipmentType</th>\n",
       "      <th>EquipmentLength</th>\n",
       "      <th>EquipmentWidth</th>\n",
       "      <th>...</th>\n",
       "      <th>DJTA</th>\n",
       "      <th>DTB3</th>\n",
       "      <th>GASREGW</th>\n",
       "      <th>IPG2122N</th>\n",
       "      <th>IPG3361T3S</th>\n",
       "      <th>GDP</th>\n",
       "      <th>PPIACO</th>\n",
       "      <th>BUSINV</th>\n",
       "      <th>PCU48414841</th>\n",
       "      <th>TotalCostUSD</th>\n",
       "    </tr>\n",
       "  </thead>\n",
       "  <tbody>\n",
       "    <tr>\n",
       "      <th>0</th>\n",
       "      <td>0.5</td>\n",
       "      <td>0.428571</td>\n",
       "      <td>0.0</td>\n",
       "      <td>0.0</td>\n",
       "      <td>0.0</td>\n",
       "      <td>0.0</td>\n",
       "      <td>0.166667</td>\n",
       "      <td>0.003914</td>\n",
       "      <td>1.00000</td>\n",
       "      <td>0.0</td>\n",
       "      <td>...</td>\n",
       "      <td>0.0</td>\n",
       "      <td>0.0</td>\n",
       "      <td>0.0</td>\n",
       "      <td>0.0</td>\n",
       "      <td>0.0</td>\n",
       "      <td>0.0</td>\n",
       "      <td>0.0</td>\n",
       "      <td>0.0</td>\n",
       "      <td>0.0</td>\n",
       "      <td>423.82</td>\n",
       "    </tr>\n",
       "    <tr>\n",
       "      <th>1</th>\n",
       "      <td>0.0</td>\n",
       "      <td>0.428571</td>\n",
       "      <td>0.0</td>\n",
       "      <td>0.0</td>\n",
       "      <td>1.0</td>\n",
       "      <td>0.0</td>\n",
       "      <td>0.166667</td>\n",
       "      <td>0.003914</td>\n",
       "      <td>1.00000</td>\n",
       "      <td>0.0</td>\n",
       "      <td>...</td>\n",
       "      <td>0.0</td>\n",
       "      <td>0.0</td>\n",
       "      <td>0.0</td>\n",
       "      <td>0.0</td>\n",
       "      <td>0.0</td>\n",
       "      <td>0.0</td>\n",
       "      <td>0.0</td>\n",
       "      <td>0.0</td>\n",
       "      <td>0.0</td>\n",
       "      <td>1300.00</td>\n",
       "    </tr>\n",
       "    <tr>\n",
       "      <th>2</th>\n",
       "      <td>0.0</td>\n",
       "      <td>0.428571</td>\n",
       "      <td>1.0</td>\n",
       "      <td>0.0</td>\n",
       "      <td>1.0</td>\n",
       "      <td>0.0</td>\n",
       "      <td>0.833333</td>\n",
       "      <td>0.000000</td>\n",
       "      <td>0.90566</td>\n",
       "      <td>0.0</td>\n",
       "      <td>...</td>\n",
       "      <td>0.0</td>\n",
       "      <td>0.0</td>\n",
       "      <td>0.0</td>\n",
       "      <td>0.0</td>\n",
       "      <td>0.0</td>\n",
       "      <td>0.0</td>\n",
       "      <td>0.0</td>\n",
       "      <td>0.0</td>\n",
       "      <td>0.0</td>\n",
       "      <td>300.00</td>\n",
       "    </tr>\n",
       "    <tr>\n",
       "      <th>3</th>\n",
       "      <td>0.0</td>\n",
       "      <td>0.428571</td>\n",
       "      <td>0.0</td>\n",
       "      <td>0.0</td>\n",
       "      <td>1.0</td>\n",
       "      <td>0.0</td>\n",
       "      <td>0.166667</td>\n",
       "      <td>0.003914</td>\n",
       "      <td>0.90566</td>\n",
       "      <td>0.0</td>\n",
       "      <td>...</td>\n",
       "      <td>0.0</td>\n",
       "      <td>0.0</td>\n",
       "      <td>0.0</td>\n",
       "      <td>0.0</td>\n",
       "      <td>0.0</td>\n",
       "      <td>0.0</td>\n",
       "      <td>0.0</td>\n",
       "      <td>0.0</td>\n",
       "      <td>0.0</td>\n",
       "      <td>873.00</td>\n",
       "    </tr>\n",
       "    <tr>\n",
       "      <th>4</th>\n",
       "      <td>0.5</td>\n",
       "      <td>0.428571</td>\n",
       "      <td>0.0</td>\n",
       "      <td>0.0</td>\n",
       "      <td>0.0</td>\n",
       "      <td>0.0</td>\n",
       "      <td>0.166667</td>\n",
       "      <td>0.003914</td>\n",
       "      <td>1.00000</td>\n",
       "      <td>0.0</td>\n",
       "      <td>...</td>\n",
       "      <td>0.0</td>\n",
       "      <td>0.0</td>\n",
       "      <td>0.0</td>\n",
       "      <td>0.0</td>\n",
       "      <td>0.0</td>\n",
       "      <td>0.0</td>\n",
       "      <td>0.0</td>\n",
       "      <td>0.0</td>\n",
       "      <td>0.0</td>\n",
       "      <td>267.48</td>\n",
       "    </tr>\n",
       "  </tbody>\n",
       "</table>\n",
       "<p>5 rows × 99 columns</p>\n",
       "</div>"
      ],
      "text/plain": [
       "   Mode  ProgressType  Type  StateType  LoadingPosition  Plan  ShipmentType  \\\n",
       "0   0.5      0.428571   0.0        0.0              0.0   0.0      0.166667   \n",
       "1   0.0      0.428571   0.0        0.0              1.0   0.0      0.166667   \n",
       "2   0.0      0.428571   1.0        0.0              1.0   0.0      0.833333   \n",
       "3   0.0      0.428571   0.0        0.0              1.0   0.0      0.166667   \n",
       "4   0.5      0.428571   0.0        0.0              0.0   0.0      0.166667   \n",
       "\n",
       "   EquipmentType  EquipmentLength  EquipmentWidth  ...  DJTA  DTB3  GASREGW  \\\n",
       "0       0.003914          1.00000             0.0  ...   0.0   0.0      0.0   \n",
       "1       0.003914          1.00000             0.0  ...   0.0   0.0      0.0   \n",
       "2       0.000000          0.90566             0.0  ...   0.0   0.0      0.0   \n",
       "3       0.003914          0.90566             0.0  ...   0.0   0.0      0.0   \n",
       "4       0.003914          1.00000             0.0  ...   0.0   0.0      0.0   \n",
       "\n",
       "   IPG2122N  IPG3361T3S  GDP  PPIACO  BUSINV  PCU48414841  TotalCostUSD  \n",
       "0       0.0         0.0  0.0     0.0     0.0          0.0        423.82  \n",
       "1       0.0         0.0  0.0     0.0     0.0          0.0       1300.00  \n",
       "2       0.0         0.0  0.0     0.0     0.0          0.0        300.00  \n",
       "3       0.0         0.0  0.0     0.0     0.0          0.0        873.00  \n",
       "4       0.0         0.0  0.0     0.0     0.0          0.0        267.48  \n",
       "\n",
       "[5 rows x 99 columns]"
      ]
     },
     "execution_count": 31,
     "metadata": {},
     "output_type": "execute_result"
    }
   ],
   "source": [
    "df = data_preprocessing.feature_encoding()\n",
    "df = data_preprocessing.feature_scaling(df)\n",
    "df.head()"
   ]
  },
  {
   "cell_type": "code",
   "execution_count": null,
   "metadata": {},
   "outputs": [
    {
     "name": "stdout",
     "output_type": "stream",
     "text": [
      "Data types summary:\n",
      " float64    99\n",
      "Name: count, dtype: int64\n"
     ]
    }
   ],
   "source": [
    "data_exp.summarize_data_type(df)"
   ]
  },
  {
   "cell_type": "markdown",
   "metadata": {},
   "source": [
    "data resampling"
   ]
  },
  {
   "cell_type": "code",
   "execution_count": null,
   "metadata": {},
   "outputs": [
    {
     "name": "stdout",
     "output_type": "stream",
     "text": [
      "File not found\n"
     ]
    },
    {
     "ename": "AttributeError",
     "evalue": "'NoneType' object has no attribute 'shape'",
     "output_type": "error",
     "traceback": [
      "\u001b[1;31m---------------------------------------------------------------------------\u001b[0m",
      "\u001b[1;31mAttributeError\u001b[0m                            Traceback (most recent call last)",
      "Cell \u001b[1;32mIn[33], line 3\u001b[0m\n\u001b[0;32m      1\u001b[0m data_exp \u001b[39m=\u001b[39m DataExploration()\n\u001b[0;32m      2\u001b[0m df \u001b[39m=\u001b[39m data_exp\u001b[39m.\u001b[39mload_data(\u001b[39m'\u001b[39m\u001b[39m./data/raw_data/lng_alldata_1000.csv\u001b[39m\u001b[39m'\u001b[39m, parse_dates\u001b[39m=\u001b[39m\u001b[39mTrue\u001b[39;00m, index_col\u001b[39m=\u001b[39m\u001b[39m0\u001b[39m)\n\u001b[1;32m----> 3\u001b[0m \u001b[39mprint\u001b[39m(df\u001b[39m.\u001b[39;49mshape)\n\u001b[0;32m      4\u001b[0m df\u001b[39m.\u001b[39mhead()\n",
      "\u001b[1;31mAttributeError\u001b[0m: 'NoneType' object has no attribute 'shape'"
     ]
    }
   ],
   "source": [
    "data_exp = DataExploration()\n",
    "df = data_exp.load_data('./data/raw_data/lng_alldata_1000.csv', parse_dates=True, index_col=0)\n",
    "print(df.shape)\n",
    "df.head()"
   ]
  },
  {
   "cell_type": "code",
   "execution_count": null,
   "metadata": {},
   "outputs": [
    {
     "name": "stdout",
     "output_type": "stream",
     "text": [
      "Data types summary:\n",
      " float64    2027\n",
      "object      139\n",
      "Name: count, dtype: int64\n"
     ]
    }
   ],
   "source": [
    "data_exploration = DataExploration()\n",
    "data_exploration.summarize_data_type(df)"
   ]
  },
  {
   "cell_type": "code",
   "execution_count": null,
   "metadata": {},
   "outputs": [
    {
     "data": {
      "text/html": [
       "<div>\n",
       "<style scoped>\n",
       "    .dataframe tbody tr th:only-of-type {\n",
       "        vertical-align: middle;\n",
       "    }\n",
       "\n",
       "    .dataframe tbody tr th {\n",
       "        vertical-align: top;\n",
       "    }\n",
       "\n",
       "    .dataframe thead th {\n",
       "        text-align: right;\n",
       "    }\n",
       "</style>\n",
       "<table border=\"1\" class=\"dataframe\">\n",
       "  <thead>\n",
       "    <tr style=\"text-align: right;\">\n",
       "      <th></th>\n",
       "      <th>3V1105_GW2:311LZ006M.COUT</th>\n",
       "      <th>3C1401_GW2:314TZ755M.COUT</th>\n",
       "      <th>3F4110_1:341GZ101C.CIN</th>\n",
       "      <th>3V1101_1:311G001C.CIN</th>\n",
       "      <th>3F4110_1:341G026O.CIN</th>\n",
       "      <th>3C1401_1:314G750C.CIN</th>\n",
       "      <th>3V4103_GW2:344TZ041U.CIN</th>\n",
       "      <th>3K1410_GW2:314UZ815U.CIN</th>\n",
       "      <th>3F4110_1:341G059C.CIN</th>\n",
       "      <th>3F4110_1:341GZ108C.CIN</th>\n",
       "      <th>...</th>\n",
       "      <th>3P1101_GW2:311FZ019U.CIN</th>\n",
       "      <th>3F4110_1:341GZ110C.CIN</th>\n",
       "      <th>3E1407_GW2:344TZ044M.COUT</th>\n",
       "      <th>3C1101_1:311G003C.CIN</th>\n",
       "      <th>3V4410_1:344G003O.CIN</th>\n",
       "      <th>3F4110_1:341GZ051O.CIN</th>\n",
       "      <th>3F4110_1:341GZ031C.CIN</th>\n",
       "      <th>3V4410_GW2:344UZ322T.CIN</th>\n",
       "      <th>3K1430_1:314G038O.CIN</th>\n",
       "      <th>3F4110_1:341GZ112C.CIN</th>\n",
       "    </tr>\n",
       "    <tr>\n",
       "      <th>Timestamp</th>\n",
       "      <th></th>\n",
       "      <th></th>\n",
       "      <th></th>\n",
       "      <th></th>\n",
       "      <th></th>\n",
       "      <th></th>\n",
       "      <th></th>\n",
       "      <th></th>\n",
       "      <th></th>\n",
       "      <th></th>\n",
       "      <th></th>\n",
       "      <th></th>\n",
       "      <th></th>\n",
       "      <th></th>\n",
       "      <th></th>\n",
       "      <th></th>\n",
       "      <th></th>\n",
       "      <th></th>\n",
       "      <th></th>\n",
       "      <th></th>\n",
       "      <th></th>\n",
       "    </tr>\n",
       "  </thead>\n",
       "  <tbody>\n",
       "    <tr>\n",
       "      <th>2020-01-01 00:00:00</th>\n",
       "      <td>N_OPEN</td>\n",
       "      <td>N_OPEN</td>\n",
       "      <td>CLOSED</td>\n",
       "      <td>N_CLOSED</td>\n",
       "      <td>OPEN</td>\n",
       "      <td>CLOSED</td>\n",
       "      <td>N_OPEN</td>\n",
       "      <td>N_OPEN</td>\n",
       "      <td>N_CLOSED</td>\n",
       "      <td>CLOSED</td>\n",
       "      <td>...</td>\n",
       "      <td>N_OPEN</td>\n",
       "      <td>CLOSED</td>\n",
       "      <td>N_OPEN</td>\n",
       "      <td>N_CLOSED</td>\n",
       "      <td>OPEN</td>\n",
       "      <td>N_OPEN</td>\n",
       "      <td>CLOSED</td>\n",
       "      <td>OPEN</td>\n",
       "      <td>N_OPEN</td>\n",
       "      <td>CLOSED</td>\n",
       "    </tr>\n",
       "    <tr>\n",
       "      <th>2020-01-01 00:10:00</th>\n",
       "      <td>N_OPEN</td>\n",
       "      <td>N_OPEN</td>\n",
       "      <td>CLOSED</td>\n",
       "      <td>N_CLOSED</td>\n",
       "      <td>OPEN</td>\n",
       "      <td>CLOSED</td>\n",
       "      <td>N_OPEN</td>\n",
       "      <td>N_OPEN</td>\n",
       "      <td>N_CLOSED</td>\n",
       "      <td>CLOSED</td>\n",
       "      <td>...</td>\n",
       "      <td>N_OPEN</td>\n",
       "      <td>CLOSED</td>\n",
       "      <td>N_OPEN</td>\n",
       "      <td>N_CLOSED</td>\n",
       "      <td>OPEN</td>\n",
       "      <td>N_OPEN</td>\n",
       "      <td>CLOSED</td>\n",
       "      <td>OPEN</td>\n",
       "      <td>N_OPEN</td>\n",
       "      <td>CLOSED</td>\n",
       "    </tr>\n",
       "    <tr>\n",
       "      <th>2020-01-01 00:20:00</th>\n",
       "      <td>N_OPEN</td>\n",
       "      <td>N_OPEN</td>\n",
       "      <td>CLOSED</td>\n",
       "      <td>N_CLOSED</td>\n",
       "      <td>OPEN</td>\n",
       "      <td>CLOSED</td>\n",
       "      <td>N_OPEN</td>\n",
       "      <td>N_OPEN</td>\n",
       "      <td>N_CLOSED</td>\n",
       "      <td>CLOSED</td>\n",
       "      <td>...</td>\n",
       "      <td>N_OPEN</td>\n",
       "      <td>CLOSED</td>\n",
       "      <td>N_OPEN</td>\n",
       "      <td>N_CLOSED</td>\n",
       "      <td>OPEN</td>\n",
       "      <td>N_OPEN</td>\n",
       "      <td>CLOSED</td>\n",
       "      <td>OPEN</td>\n",
       "      <td>N_OPEN</td>\n",
       "      <td>CLOSED</td>\n",
       "    </tr>\n",
       "    <tr>\n",
       "      <th>2020-01-01 00:30:00</th>\n",
       "      <td>N_OPEN</td>\n",
       "      <td>N_OPEN</td>\n",
       "      <td>CLOSED</td>\n",
       "      <td>N_CLOSED</td>\n",
       "      <td>OPEN</td>\n",
       "      <td>CLOSED</td>\n",
       "      <td>N_OPEN</td>\n",
       "      <td>N_OPEN</td>\n",
       "      <td>N_CLOSED</td>\n",
       "      <td>CLOSED</td>\n",
       "      <td>...</td>\n",
       "      <td>N_OPEN</td>\n",
       "      <td>CLOSED</td>\n",
       "      <td>N_OPEN</td>\n",
       "      <td>N_CLOSED</td>\n",
       "      <td>OPEN</td>\n",
       "      <td>N_OPEN</td>\n",
       "      <td>CLOSED</td>\n",
       "      <td>OPEN</td>\n",
       "      <td>N_OPEN</td>\n",
       "      <td>CLOSED</td>\n",
       "    </tr>\n",
       "    <tr>\n",
       "      <th>2020-01-01 00:40:00</th>\n",
       "      <td>N_OPEN</td>\n",
       "      <td>N_OPEN</td>\n",
       "      <td>CLOSED</td>\n",
       "      <td>N_CLOSED</td>\n",
       "      <td>OPEN</td>\n",
       "      <td>CLOSED</td>\n",
       "      <td>N_OPEN</td>\n",
       "      <td>N_OPEN</td>\n",
       "      <td>N_CLOSED</td>\n",
       "      <td>CLOSED</td>\n",
       "      <td>...</td>\n",
       "      <td>N_OPEN</td>\n",
       "      <td>CLOSED</td>\n",
       "      <td>N_OPEN</td>\n",
       "      <td>N_CLOSED</td>\n",
       "      <td>OPEN</td>\n",
       "      <td>N_OPEN</td>\n",
       "      <td>CLOSED</td>\n",
       "      <td>OPEN</td>\n",
       "      <td>N_OPEN</td>\n",
       "      <td>CLOSED</td>\n",
       "    </tr>\n",
       "  </tbody>\n",
       "</table>\n",
       "<p>5 rows × 139 columns</p>\n",
       "</div>"
      ],
      "text/plain": [
       "                    3V1105_GW2:311LZ006M.COUT 3C1401_GW2:314TZ755M.COUT   \n",
       "Timestamp                                                                 \n",
       "2020-01-01 00:00:00                    N_OPEN                    N_OPEN  \\\n",
       "2020-01-01 00:10:00                    N_OPEN                    N_OPEN   \n",
       "2020-01-01 00:20:00                    N_OPEN                    N_OPEN   \n",
       "2020-01-01 00:30:00                    N_OPEN                    N_OPEN   \n",
       "2020-01-01 00:40:00                    N_OPEN                    N_OPEN   \n",
       "\n",
       "                    3F4110_1:341GZ101C.CIN 3V1101_1:311G001C.CIN   \n",
       "Timestamp                                                          \n",
       "2020-01-01 00:00:00                 CLOSED              N_CLOSED  \\\n",
       "2020-01-01 00:10:00                 CLOSED              N_CLOSED   \n",
       "2020-01-01 00:20:00                 CLOSED              N_CLOSED   \n",
       "2020-01-01 00:30:00                 CLOSED              N_CLOSED   \n",
       "2020-01-01 00:40:00                 CLOSED              N_CLOSED   \n",
       "\n",
       "                    3F4110_1:341G026O.CIN 3C1401_1:314G750C.CIN   \n",
       "Timestamp                                                         \n",
       "2020-01-01 00:00:00                  OPEN                CLOSED  \\\n",
       "2020-01-01 00:10:00                  OPEN                CLOSED   \n",
       "2020-01-01 00:20:00                  OPEN                CLOSED   \n",
       "2020-01-01 00:30:00                  OPEN                CLOSED   \n",
       "2020-01-01 00:40:00                  OPEN                CLOSED   \n",
       "\n",
       "                    3V4103_GW2:344TZ041U.CIN 3K1410_GW2:314UZ815U.CIN   \n",
       "Timestamp                                                               \n",
       "2020-01-01 00:00:00                   N_OPEN                   N_OPEN  \\\n",
       "2020-01-01 00:10:00                   N_OPEN                   N_OPEN   \n",
       "2020-01-01 00:20:00                   N_OPEN                   N_OPEN   \n",
       "2020-01-01 00:30:00                   N_OPEN                   N_OPEN   \n",
       "2020-01-01 00:40:00                   N_OPEN                   N_OPEN   \n",
       "\n",
       "                    3F4110_1:341G059C.CIN 3F4110_1:341GZ108C.CIN  ...   \n",
       "Timestamp                                                         ...   \n",
       "2020-01-01 00:00:00              N_CLOSED                 CLOSED  ...  \\\n",
       "2020-01-01 00:10:00              N_CLOSED                 CLOSED  ...   \n",
       "2020-01-01 00:20:00              N_CLOSED                 CLOSED  ...   \n",
       "2020-01-01 00:30:00              N_CLOSED                 CLOSED  ...   \n",
       "2020-01-01 00:40:00              N_CLOSED                 CLOSED  ...   \n",
       "\n",
       "                    3P1101_GW2:311FZ019U.CIN 3F4110_1:341GZ110C.CIN   \n",
       "Timestamp                                                             \n",
       "2020-01-01 00:00:00                   N_OPEN                 CLOSED  \\\n",
       "2020-01-01 00:10:00                   N_OPEN                 CLOSED   \n",
       "2020-01-01 00:20:00                   N_OPEN                 CLOSED   \n",
       "2020-01-01 00:30:00                   N_OPEN                 CLOSED   \n",
       "2020-01-01 00:40:00                   N_OPEN                 CLOSED   \n",
       "\n",
       "                    3E1407_GW2:344TZ044M.COUT 3C1101_1:311G003C.CIN   \n",
       "Timestamp                                                             \n",
       "2020-01-01 00:00:00                    N_OPEN              N_CLOSED  \\\n",
       "2020-01-01 00:10:00                    N_OPEN              N_CLOSED   \n",
       "2020-01-01 00:20:00                    N_OPEN              N_CLOSED   \n",
       "2020-01-01 00:30:00                    N_OPEN              N_CLOSED   \n",
       "2020-01-01 00:40:00                    N_OPEN              N_CLOSED   \n",
       "\n",
       "                    3V4410_1:344G003O.CIN 3F4110_1:341GZ051O.CIN   \n",
       "Timestamp                                                          \n",
       "2020-01-01 00:00:00                  OPEN                 N_OPEN  \\\n",
       "2020-01-01 00:10:00                  OPEN                 N_OPEN   \n",
       "2020-01-01 00:20:00                  OPEN                 N_OPEN   \n",
       "2020-01-01 00:30:00                  OPEN                 N_OPEN   \n",
       "2020-01-01 00:40:00                  OPEN                 N_OPEN   \n",
       "\n",
       "                    3F4110_1:341GZ031C.CIN 3V4410_GW2:344UZ322T.CIN   \n",
       "Timestamp                                                             \n",
       "2020-01-01 00:00:00                 CLOSED                     OPEN  \\\n",
       "2020-01-01 00:10:00                 CLOSED                     OPEN   \n",
       "2020-01-01 00:20:00                 CLOSED                     OPEN   \n",
       "2020-01-01 00:30:00                 CLOSED                     OPEN   \n",
       "2020-01-01 00:40:00                 CLOSED                     OPEN   \n",
       "\n",
       "                    3K1430_1:314G038O.CIN 3F4110_1:341GZ112C.CIN  \n",
       "Timestamp                                                         \n",
       "2020-01-01 00:00:00                N_OPEN                 CLOSED  \n",
       "2020-01-01 00:10:00                N_OPEN                 CLOSED  \n",
       "2020-01-01 00:20:00                N_OPEN                 CLOSED  \n",
       "2020-01-01 00:30:00                N_OPEN                 CLOSED  \n",
       "2020-01-01 00:40:00                N_OPEN                 CLOSED  \n",
       "\n",
       "[5 rows x 139 columns]"
      ]
     },
     "execution_count": 20,
     "metadata": {},
     "output_type": "execute_result"
    }
   ],
   "source": [
    "# show first Object data column\n",
    "df.select_dtypes(include=['object']).head()"
   ]
  },
  {
   "cell_type": "code",
   "execution_count": null,
   "metadata": {},
   "outputs": [
    {
     "name": "stdout",
     "output_type": "stream",
     "text": [
      "Data types summary:\n",
      " float64    2166\n",
      "Name: count, dtype: int64\n"
     ]
    }
   ],
   "source": [
    "dp = DataPreprocessing(df, ['3GT1401_3:314FT010.PNT'])\n",
    "df = dp.feature_encoding(df)\n",
    "data_exploration.summarize_data_type(df)"
   ]
  },
  {
   "cell_type": "code",
   "execution_count": null,
   "metadata": {},
   "outputs": [
    {
     "data": {
      "text/html": [
       "<div>\n",
       "<style scoped>\n",
       "    .dataframe tbody tr th:only-of-type {\n",
       "        vertical-align: middle;\n",
       "    }\n",
       "\n",
       "    .dataframe tbody tr th {\n",
       "        vertical-align: top;\n",
       "    }\n",
       "\n",
       "    .dataframe thead th {\n",
       "        text-align: right;\n",
       "    }\n",
       "</style>\n",
       "<table border=\"1\" class=\"dataframe\">\n",
       "  <thead>\n",
       "    <tr style=\"text-align: right;\">\n",
       "      <th></th>\n",
       "      <th>3P1402_1:314T109.PNT</th>\n",
       "      <th>3T1413_GW2:314L804.PNT</th>\n",
       "      <th>3A1423_3:314LT810.PNT</th>\n",
       "      <th>3E1401_1:314T003.PNT</th>\n",
       "      <th>3KT1410_1:314T157.PNT</th>\n",
       "      <th>3E1560_1:315T028.PNT</th>\n",
       "      <th>3V1104_1:311T012.PNT</th>\n",
       "      <th>3P1101_GW2:311PZ202.PNT</th>\n",
       "      <th>3V1401_1:314P182.PNT</th>\n",
       "      <th>3V1410_1:314T056.PNT</th>\n",
       "      <th>...</th>\n",
       "      <th>3V1410_3:314FC015.MEAS</th>\n",
       "      <th>3V1411_1:314Q030.PNT</th>\n",
       "      <th>3F4110_1:341GZ112C.CIN</th>\n",
       "      <th>3K1410_GW6:314T818.PNT</th>\n",
       "      <th>3V1102_2:311FC030.SPT</th>\n",
       "      <th>3GT1410_2GW7:3141TTXD1_4.PNT</th>\n",
       "      <th>AIN1_1_SGSA:344TZ012.PNT</th>\n",
       "      <th>3GT1401_1:314Q044.PNT</th>\n",
       "      <th>3V4410_2:344FV026.OUT</th>\n",
       "      <th>3GT1401_3:314FT010.PNT</th>\n",
       "    </tr>\n",
       "    <tr>\n",
       "      <th>Timestamp</th>\n",
       "      <th></th>\n",
       "      <th></th>\n",
       "      <th></th>\n",
       "      <th></th>\n",
       "      <th></th>\n",
       "      <th></th>\n",
       "      <th></th>\n",
       "      <th></th>\n",
       "      <th></th>\n",
       "      <th></th>\n",
       "      <th></th>\n",
       "      <th></th>\n",
       "      <th></th>\n",
       "      <th></th>\n",
       "      <th></th>\n",
       "      <th></th>\n",
       "      <th></th>\n",
       "      <th></th>\n",
       "      <th></th>\n",
       "      <th></th>\n",
       "      <th></th>\n",
       "    </tr>\n",
       "  </thead>\n",
       "  <tbody>\n",
       "    <tr>\n",
       "      <th>2020-01-01 00:00:00</th>\n",
       "      <td>52.998047</td>\n",
       "      <td>52.218153</td>\n",
       "      <td>64.589844</td>\n",
       "      <td>20.806641</td>\n",
       "      <td>29.453007</td>\n",
       "      <td>29.582031</td>\n",
       "      <td>28.882812</td>\n",
       "      <td>0.895136</td>\n",
       "      <td>7.013008</td>\n",
       "      <td>-28.891602</td>\n",
       "      <td>...</td>\n",
       "      <td>0.0</td>\n",
       "      <td>1.462109</td>\n",
       "      <td>9976.232628</td>\n",
       "      <td>79.679461</td>\n",
       "      <td>21.301672</td>\n",
       "      <td>532.112081</td>\n",
       "      <td>32.310737</td>\n",
       "      <td>2.029439</td>\n",
       "      <td>-5.0</td>\n",
       "      <td>9872.846517</td>\n",
       "    </tr>\n",
       "    <tr>\n",
       "      <th>2020-01-01 01:00:00</th>\n",
       "      <td>52.998047</td>\n",
       "      <td>52.263941</td>\n",
       "      <td>64.867839</td>\n",
       "      <td>20.805664</td>\n",
       "      <td>28.876786</td>\n",
       "      <td>29.582031</td>\n",
       "      <td>28.667969</td>\n",
       "      <td>0.895136</td>\n",
       "      <td>7.004219</td>\n",
       "      <td>-28.416016</td>\n",
       "      <td>...</td>\n",
       "      <td>0.0</td>\n",
       "      <td>1.469775</td>\n",
       "      <td>9976.232628</td>\n",
       "      <td>79.780029</td>\n",
       "      <td>21.246181</td>\n",
       "      <td>528.475423</td>\n",
       "      <td>30.860799</td>\n",
       "      <td>2.029439</td>\n",
       "      <td>-5.0</td>\n",
       "      <td>9888.568034</td>\n",
       "    </tr>\n",
       "    <tr>\n",
       "      <th>2020-01-01 02:00:00</th>\n",
       "      <td>52.998047</td>\n",
       "      <td>51.928165</td>\n",
       "      <td>64.997070</td>\n",
       "      <td>20.873372</td>\n",
       "      <td>28.709212</td>\n",
       "      <td>29.246094</td>\n",
       "      <td>28.625000</td>\n",
       "      <td>0.886892</td>\n",
       "      <td>6.998633</td>\n",
       "      <td>-28.625488</td>\n",
       "      <td>...</td>\n",
       "      <td>0.0</td>\n",
       "      <td>1.468262</td>\n",
       "      <td>9976.232628</td>\n",
       "      <td>79.372106</td>\n",
       "      <td>21.306395</td>\n",
       "      <td>526.341064</td>\n",
       "      <td>29.578747</td>\n",
       "      <td>2.029439</td>\n",
       "      <td>-5.0</td>\n",
       "      <td>9899.958171</td>\n",
       "    </tr>\n",
       "    <tr>\n",
       "      <th>2020-01-01 03:00:00</th>\n",
       "      <td>52.998047</td>\n",
       "      <td>51.460115</td>\n",
       "      <td>64.961263</td>\n",
       "      <td>20.831055</td>\n",
       "      <td>28.491658</td>\n",
       "      <td>29.078125</td>\n",
       "      <td>28.625000</td>\n",
       "      <td>0.886892</td>\n",
       "      <td>7.002031</td>\n",
       "      <td>-29.092285</td>\n",
       "      <td>...</td>\n",
       "      <td>0.0</td>\n",
       "      <td>1.463623</td>\n",
       "      <td>9976.232628</td>\n",
       "      <td>79.646622</td>\n",
       "      <td>23.083295</td>\n",
       "      <td>525.785411</td>\n",
       "      <td>28.937723</td>\n",
       "      <td>2.029439</td>\n",
       "      <td>-5.0</td>\n",
       "      <td>9883.221354</td>\n",
       "    </tr>\n",
       "    <tr>\n",
       "      <th>2020-01-01 04:00:00</th>\n",
       "      <td>52.998047</td>\n",
       "      <td>50.854701</td>\n",
       "      <td>64.830078</td>\n",
       "      <td>20.871745</td>\n",
       "      <td>28.388762</td>\n",
       "      <td>29.078125</td>\n",
       "      <td>28.625000</td>\n",
       "      <td>0.886892</td>\n",
       "      <td>7.001719</td>\n",
       "      <td>-29.148438</td>\n",
       "      <td>...</td>\n",
       "      <td>0.0</td>\n",
       "      <td>1.469727</td>\n",
       "      <td>9976.232628</td>\n",
       "      <td>79.381485</td>\n",
       "      <td>26.649424</td>\n",
       "      <td>523.483480</td>\n",
       "      <td>28.365378</td>\n",
       "      <td>2.029439</td>\n",
       "      <td>-5.0</td>\n",
       "      <td>9892.548665</td>\n",
       "    </tr>\n",
       "  </tbody>\n",
       "</table>\n",
       "<p>5 rows × 2166 columns</p>\n",
       "</div>"
      ],
      "text/plain": [
       "                     3P1402_1:314T109.PNT  3T1413_GW2:314L804.PNT   \n",
       "Timestamp                                                           \n",
       "2020-01-01 00:00:00             52.998047               52.218153  \\\n",
       "2020-01-01 01:00:00             52.998047               52.263941   \n",
       "2020-01-01 02:00:00             52.998047               51.928165   \n",
       "2020-01-01 03:00:00             52.998047               51.460115   \n",
       "2020-01-01 04:00:00             52.998047               50.854701   \n",
       "\n",
       "                     3A1423_3:314LT810.PNT  3E1401_1:314T003.PNT   \n",
       "Timestamp                                                          \n",
       "2020-01-01 00:00:00              64.589844             20.806641  \\\n",
       "2020-01-01 01:00:00              64.867839             20.805664   \n",
       "2020-01-01 02:00:00              64.997070             20.873372   \n",
       "2020-01-01 03:00:00              64.961263             20.831055   \n",
       "2020-01-01 04:00:00              64.830078             20.871745   \n",
       "\n",
       "                     3KT1410_1:314T157.PNT  3E1560_1:315T028.PNT   \n",
       "Timestamp                                                          \n",
       "2020-01-01 00:00:00              29.453007             29.582031  \\\n",
       "2020-01-01 01:00:00              28.876786             29.582031   \n",
       "2020-01-01 02:00:00              28.709212             29.246094   \n",
       "2020-01-01 03:00:00              28.491658             29.078125   \n",
       "2020-01-01 04:00:00              28.388762             29.078125   \n",
       "\n",
       "                     3V1104_1:311T012.PNT  3P1101_GW2:311PZ202.PNT   \n",
       "Timestamp                                                            \n",
       "2020-01-01 00:00:00             28.882812                 0.895136  \\\n",
       "2020-01-01 01:00:00             28.667969                 0.895136   \n",
       "2020-01-01 02:00:00             28.625000                 0.886892   \n",
       "2020-01-01 03:00:00             28.625000                 0.886892   \n",
       "2020-01-01 04:00:00             28.625000                 0.886892   \n",
       "\n",
       "                     3V1401_1:314P182.PNT  3V1410_1:314T056.PNT  ...   \n",
       "Timestamp                                                        ...   \n",
       "2020-01-01 00:00:00              7.013008            -28.891602  ...  \\\n",
       "2020-01-01 01:00:00              7.004219            -28.416016  ...   \n",
       "2020-01-01 02:00:00              6.998633            -28.625488  ...   \n",
       "2020-01-01 03:00:00              7.002031            -29.092285  ...   \n",
       "2020-01-01 04:00:00              7.001719            -29.148438  ...   \n",
       "\n",
       "                     3V1410_3:314FC015.MEAS  3V1411_1:314Q030.PNT   \n",
       "Timestamp                                                           \n",
       "2020-01-01 00:00:00                     0.0              1.462109  \\\n",
       "2020-01-01 01:00:00                     0.0              1.469775   \n",
       "2020-01-01 02:00:00                     0.0              1.468262   \n",
       "2020-01-01 03:00:00                     0.0              1.463623   \n",
       "2020-01-01 04:00:00                     0.0              1.469727   \n",
       "\n",
       "                     3F4110_1:341GZ112C.CIN  3K1410_GW6:314T818.PNT   \n",
       "Timestamp                                                             \n",
       "2020-01-01 00:00:00             9976.232628               79.679461  \\\n",
       "2020-01-01 01:00:00             9976.232628               79.780029   \n",
       "2020-01-01 02:00:00             9976.232628               79.372106   \n",
       "2020-01-01 03:00:00             9976.232628               79.646622   \n",
       "2020-01-01 04:00:00             9976.232628               79.381485   \n",
       "\n",
       "                     3V1102_2:311FC030.SPT  3GT1410_2GW7:3141TTXD1_4.PNT   \n",
       "Timestamp                                                                  \n",
       "2020-01-01 00:00:00              21.301672                    532.112081  \\\n",
       "2020-01-01 01:00:00              21.246181                    528.475423   \n",
       "2020-01-01 02:00:00              21.306395                    526.341064   \n",
       "2020-01-01 03:00:00              23.083295                    525.785411   \n",
       "2020-01-01 04:00:00              26.649424                    523.483480   \n",
       "\n",
       "                     AIN1_1_SGSA:344TZ012.PNT  3GT1401_1:314Q044.PNT   \n",
       "Timestamp                                                              \n",
       "2020-01-01 00:00:00                 32.310737               2.029439  \\\n",
       "2020-01-01 01:00:00                 30.860799               2.029439   \n",
       "2020-01-01 02:00:00                 29.578747               2.029439   \n",
       "2020-01-01 03:00:00                 28.937723               2.029439   \n",
       "2020-01-01 04:00:00                 28.365378               2.029439   \n",
       "\n",
       "                     3V4410_2:344FV026.OUT  3GT1401_3:314FT010.PNT  \n",
       "Timestamp                                                           \n",
       "2020-01-01 00:00:00                   -5.0             9872.846517  \n",
       "2020-01-01 01:00:00                   -5.0             9888.568034  \n",
       "2020-01-01 02:00:00                   -5.0             9899.958171  \n",
       "2020-01-01 03:00:00                   -5.0             9883.221354  \n",
       "2020-01-01 04:00:00                   -5.0             9892.548665  \n",
       "\n",
       "[5 rows x 2166 columns]"
      ]
     },
     "execution_count": 22,
     "metadata": {},
     "output_type": "execute_result"
    }
   ],
   "source": [
    "df = dp.data_resampling(df, 'h')\n",
    "df.head()"
   ]
  },
  {
   "cell_type": "markdown",
   "metadata": {},
   "source": [
    "data splitting"
   ]
  },
  {
   "cell_type": "code",
   "execution_count": null,
   "metadata": {},
   "outputs": [
    {
     "data": {
      "text/plain": [
       "(1000, 99)"
      ]
     },
     "execution_count": 23,
     "metadata": {},
     "output_type": "execute_result"
    }
   ],
   "source": [
    "df = data_exp.load_data('./data/coyote_0731_1000.xlsx', parse_dates=False, index_col=False)\n",
    "df.shape"
   ]
  },
  {
   "cell_type": "code",
   "execution_count": null,
   "metadata": {},
   "outputs": [
    {
     "data": {
      "text/plain": [
       "((800, 98), (100, 98), (100, 98), (800, 1), (100, 1), (100, 1))"
      ]
     },
     "execution_count": 24,
     "metadata": {},
     "output_type": "execute_result"
    }
   ],
   "source": [
    "X_train, X_val, X_test, y_train, y_val, y_test = dp.data_splitting(df, [cfg.target_var.coyote])\n",
    "X_train.shape, X_val.shape, X_test.shape, y_train.shape, y_val.shape, y_test.shape"
   ]
  },
  {
   "cell_type": "markdown",
   "metadata": {},
   "source": [
    "feature engineering"
   ]
  },
  {
   "cell_type": "code",
   "execution_count": null,
   "metadata": {},
   "outputs": [
    {
     "data": {
      "text/html": [
       "<div>\n",
       "<style scoped>\n",
       "    .dataframe tbody tr th:only-of-type {\n",
       "        vertical-align: middle;\n",
       "    }\n",
       "\n",
       "    .dataframe tbody tr th {\n",
       "        vertical-align: top;\n",
       "    }\n",
       "\n",
       "    .dataframe thead th {\n",
       "        text-align: right;\n",
       "    }\n",
       "</style>\n",
       "<table border=\"1\" class=\"dataframe\">\n",
       "  <thead>\n",
       "    <tr style=\"text-align: right;\">\n",
       "      <th></th>\n",
       "      <th>OXO-5FI635C Augusta</th>\n",
       "      <th>OXO-5FI661A Augusta</th>\n",
       "      <th>OXO-5FI696 Augusta</th>\n",
       "      <th>OXO-5FIC132 Augusta</th>\n",
       "      <th>OXO-5FIC600 Augusta</th>\n",
       "      <th>OXO-5FIC601 Augusta</th>\n",
       "      <th>OXO-5FIC602 Augusta</th>\n",
       "      <th>OXO-5FIC603 Augusta</th>\n",
       "      <th>OXO-5FIC606A Augusta</th>\n",
       "      <th>OXO-5FIC606C Augusta</th>\n",
       "      <th>...</th>\n",
       "      <th>OXO-5TIC603 Augusta</th>\n",
       "      <th>OXO-5TIC604 Augusta</th>\n",
       "      <th>OXO-5TIC605 Augusta</th>\n",
       "      <th>OXO-5TIC606 Augusta</th>\n",
       "      <th>OXO-5TIC607 Augusta</th>\n",
       "      <th>OXO-5TIC659 Augusta</th>\n",
       "      <th>OXO-_5FI658A Augusta</th>\n",
       "      <th>OXO-_5FI659A Augusta</th>\n",
       "      <th>OXO-_5FI660A Augusta</th>\n",
       "      <th>OXO-_5FI662A Augusta</th>\n",
       "    </tr>\n",
       "    <tr>\n",
       "      <th>Date</th>\n",
       "      <th></th>\n",
       "      <th></th>\n",
       "      <th></th>\n",
       "      <th></th>\n",
       "      <th></th>\n",
       "      <th></th>\n",
       "      <th></th>\n",
       "      <th></th>\n",
       "      <th></th>\n",
       "      <th></th>\n",
       "      <th></th>\n",
       "      <th></th>\n",
       "      <th></th>\n",
       "      <th></th>\n",
       "      <th></th>\n",
       "      <th></th>\n",
       "      <th></th>\n",
       "      <th></th>\n",
       "      <th></th>\n",
       "      <th></th>\n",
       "      <th></th>\n",
       "    </tr>\n",
       "  </thead>\n",
       "  <tbody>\n",
       "    <tr>\n",
       "      <th>2019-11-01 00:00:00</th>\n",
       "      <td>5859.125648</td>\n",
       "      <td>23345.857389</td>\n",
       "      <td>9830.200195</td>\n",
       "      <td>4.450549</td>\n",
       "      <td>2076.174093</td>\n",
       "      <td>67.208298</td>\n",
       "      <td>5069.174366</td>\n",
       "      <td>0.0</td>\n",
       "      <td>NaN</td>\n",
       "      <td>1.202029</td>\n",
       "      <td>...</td>\n",
       "      <td>133.996300</td>\n",
       "      <td>130.578919</td>\n",
       "      <td>133.007764</td>\n",
       "      <td>134.032267</td>\n",
       "      <td>130.899539</td>\n",
       "      <td>298.029910</td>\n",
       "      <td>21719.630615</td>\n",
       "      <td>22870.976318</td>\n",
       "      <td>22026.824772</td>\n",
       "      <td>22036.315560</td>\n",
       "    </tr>\n",
       "    <tr>\n",
       "      <th>2019-11-01 01:00:00</th>\n",
       "      <td>5950.173837</td>\n",
       "      <td>23346.553467</td>\n",
       "      <td>9384.632992</td>\n",
       "      <td>4.410112</td>\n",
       "      <td>2070.199284</td>\n",
       "      <td>67.204392</td>\n",
       "      <td>5068.014148</td>\n",
       "      <td>0.0</td>\n",
       "      <td>NaN</td>\n",
       "      <td>1.158160</td>\n",
       "      <td>...</td>\n",
       "      <td>133.994588</td>\n",
       "      <td>130.640505</td>\n",
       "      <td>132.966600</td>\n",
       "      <td>134.035076</td>\n",
       "      <td>130.849780</td>\n",
       "      <td>298.084330</td>\n",
       "      <td>21727.622575</td>\n",
       "      <td>22879.205452</td>\n",
       "      <td>22042.948193</td>\n",
       "      <td>22056.644971</td>\n",
       "    </tr>\n",
       "    <tr>\n",
       "      <th>2019-11-01 02:00:00</th>\n",
       "      <td>6379.102250</td>\n",
       "      <td>23430.336545</td>\n",
       "      <td>9233.277262</td>\n",
       "      <td>4.285714</td>\n",
       "      <td>2067.933828</td>\n",
       "      <td>67.031974</td>\n",
       "      <td>5069.603650</td>\n",
       "      <td>0.0</td>\n",
       "      <td>NaN</td>\n",
       "      <td>1.070420</td>\n",
       "      <td>...</td>\n",
       "      <td>134.008106</td>\n",
       "      <td>130.675602</td>\n",
       "      <td>133.035094</td>\n",
       "      <td>134.001994</td>\n",
       "      <td>130.743083</td>\n",
       "      <td>297.930878</td>\n",
       "      <td>21836.766659</td>\n",
       "      <td>22970.057215</td>\n",
       "      <td>22156.774258</td>\n",
       "      <td>22105.218684</td>\n",
       "    </tr>\n",
       "    <tr>\n",
       "      <th>2019-11-01 03:00:00</th>\n",
       "      <td>6337.343084</td>\n",
       "      <td>23384.694743</td>\n",
       "      <td>9223.139014</td>\n",
       "      <td>4.775281</td>\n",
       "      <td>2062.488529</td>\n",
       "      <td>66.808810</td>\n",
       "      <td>5061.608939</td>\n",
       "      <td>0.0</td>\n",
       "      <td>NaN</td>\n",
       "      <td>1.044098</td>\n",
       "      <td>...</td>\n",
       "      <td>134.008312</td>\n",
       "      <td>130.613462</td>\n",
       "      <td>133.000552</td>\n",
       "      <td>133.979115</td>\n",
       "      <td>130.760757</td>\n",
       "      <td>298.052583</td>\n",
       "      <td>21783.450505</td>\n",
       "      <td>22920.952018</td>\n",
       "      <td>22088.356950</td>\n",
       "      <td>22064.178402</td>\n",
       "    </tr>\n",
       "    <tr>\n",
       "      <th>2019-11-01 04:00:00</th>\n",
       "      <td>6183.590302</td>\n",
       "      <td>23357.085677</td>\n",
       "      <td>9104.168620</td>\n",
       "      <td>4.388889</td>\n",
       "      <td>2055.162223</td>\n",
       "      <td>66.354369</td>\n",
       "      <td>5004.132636</td>\n",
       "      <td>0.0</td>\n",
       "      <td>NaN</td>\n",
       "      <td>1.044098</td>\n",
       "      <td>...</td>\n",
       "      <td>134.002098</td>\n",
       "      <td>130.614549</td>\n",
       "      <td>133.004748</td>\n",
       "      <td>134.000492</td>\n",
       "      <td>130.814450</td>\n",
       "      <td>298.039928</td>\n",
       "      <td>21748.715137</td>\n",
       "      <td>22895.312126</td>\n",
       "      <td>22073.622298</td>\n",
       "      <td>22053.480892</td>\n",
       "    </tr>\n",
       "  </tbody>\n",
       "</table>\n",
       "<p>5 rows × 59 columns</p>\n",
       "</div>"
      ],
      "text/plain": [
       "                     OXO-5FI635C Augusta  OXO-5FI661A Augusta   \n",
       "Date                                                            \n",
       "2019-11-01 00:00:00          5859.125648         23345.857389  \\\n",
       "2019-11-01 01:00:00          5950.173837         23346.553467   \n",
       "2019-11-01 02:00:00          6379.102250         23430.336545   \n",
       "2019-11-01 03:00:00          6337.343084         23384.694743   \n",
       "2019-11-01 04:00:00          6183.590302         23357.085677   \n",
       "\n",
       "                     OXO-5FI696 Augusta  OXO-5FIC132 Augusta   \n",
       "Date                                                           \n",
       "2019-11-01 00:00:00         9830.200195             4.450549  \\\n",
       "2019-11-01 01:00:00         9384.632992             4.410112   \n",
       "2019-11-01 02:00:00         9233.277262             4.285714   \n",
       "2019-11-01 03:00:00         9223.139014             4.775281   \n",
       "2019-11-01 04:00:00         9104.168620             4.388889   \n",
       "\n",
       "                     OXO-5FIC600 Augusta  OXO-5FIC601 Augusta   \n",
       "Date                                                            \n",
       "2019-11-01 00:00:00          2076.174093            67.208298  \\\n",
       "2019-11-01 01:00:00          2070.199284            67.204392   \n",
       "2019-11-01 02:00:00          2067.933828            67.031974   \n",
       "2019-11-01 03:00:00          2062.488529            66.808810   \n",
       "2019-11-01 04:00:00          2055.162223            66.354369   \n",
       "\n",
       "                     OXO-5FIC602 Augusta  OXO-5FIC603 Augusta   \n",
       "Date                                                            \n",
       "2019-11-01 00:00:00          5069.174366                  0.0  \\\n",
       "2019-11-01 01:00:00          5068.014148                  0.0   \n",
       "2019-11-01 02:00:00          5069.603650                  0.0   \n",
       "2019-11-01 03:00:00          5061.608939                  0.0   \n",
       "2019-11-01 04:00:00          5004.132636                  0.0   \n",
       "\n",
       "                     OXO-5FIC606A Augusta  OXO-5FIC606C Augusta  ...   \n",
       "Date                                                             ...   \n",
       "2019-11-01 00:00:00                   NaN              1.202029  ...  \\\n",
       "2019-11-01 01:00:00                   NaN              1.158160  ...   \n",
       "2019-11-01 02:00:00                   NaN              1.070420  ...   \n",
       "2019-11-01 03:00:00                   NaN              1.044098  ...   \n",
       "2019-11-01 04:00:00                   NaN              1.044098  ...   \n",
       "\n",
       "                     OXO-5TIC603 Augusta  OXO-5TIC604 Augusta   \n",
       "Date                                                            \n",
       "2019-11-01 00:00:00           133.996300           130.578919  \\\n",
       "2019-11-01 01:00:00           133.994588           130.640505   \n",
       "2019-11-01 02:00:00           134.008106           130.675602   \n",
       "2019-11-01 03:00:00           134.008312           130.613462   \n",
       "2019-11-01 04:00:00           134.002098           130.614549   \n",
       "\n",
       "                     OXO-5TIC605 Augusta  OXO-5TIC606 Augusta   \n",
       "Date                                                            \n",
       "2019-11-01 00:00:00           133.007764           134.032267  \\\n",
       "2019-11-01 01:00:00           132.966600           134.035076   \n",
       "2019-11-01 02:00:00           133.035094           134.001994   \n",
       "2019-11-01 03:00:00           133.000552           133.979115   \n",
       "2019-11-01 04:00:00           133.004748           134.000492   \n",
       "\n",
       "                     OXO-5TIC607 Augusta  OXO-5TIC659 Augusta   \n",
       "Date                                                            \n",
       "2019-11-01 00:00:00           130.899539           298.029910  \\\n",
       "2019-11-01 01:00:00           130.849780           298.084330   \n",
       "2019-11-01 02:00:00           130.743083           297.930878   \n",
       "2019-11-01 03:00:00           130.760757           298.052583   \n",
       "2019-11-01 04:00:00           130.814450           298.039928   \n",
       "\n",
       "                     OXO-_5FI658A Augusta  OXO-_5FI659A Augusta   \n",
       "Date                                                              \n",
       "2019-11-01 00:00:00          21719.630615          22870.976318  \\\n",
       "2019-11-01 01:00:00          21727.622575          22879.205452   \n",
       "2019-11-01 02:00:00          21836.766659          22970.057215   \n",
       "2019-11-01 03:00:00          21783.450505          22920.952018   \n",
       "2019-11-01 04:00:00          21748.715137          22895.312126   \n",
       "\n",
       "                     OXO-_5FI660A Augusta  OXO-_5FI662A Augusta  \n",
       "Date                                                             \n",
       "2019-11-01 00:00:00          22026.824772          22036.315560  \n",
       "2019-11-01 01:00:00          22042.948193          22056.644971  \n",
       "2019-11-01 02:00:00          22156.774258          22105.218684  \n",
       "2019-11-01 03:00:00          22088.356950          22064.178402  \n",
       "2019-11-01 04:00:00          22073.622298          22053.480892  \n",
       "\n",
       "[5 rows x 59 columns]"
      ]
     },
     "execution_count": 25,
     "metadata": {},
     "output_type": "execute_result"
    }
   ],
   "source": [
    "de = DataExploration()\n",
    "df = de.load_data('./data/sasol_data_sample.csv', parse_dates=True, index_col=0)\n",
    "df.head()"
   ]
  },
  {
   "cell_type": "code",
   "execution_count": null,
   "metadata": {},
   "outputs": [
    {
     "data": {
      "text/html": [
       "<div>\n",
       "<style scoped>\n",
       "    .dataframe tbody tr th:only-of-type {\n",
       "        vertical-align: middle;\n",
       "    }\n",
       "\n",
       "    .dataframe tbody tr th {\n",
       "        vertical-align: top;\n",
       "    }\n",
       "\n",
       "    .dataframe thead th {\n",
       "        text-align: right;\n",
       "    }\n",
       "</style>\n",
       "<table border=\"1\" class=\"dataframe\">\n",
       "  <thead>\n",
       "    <tr style=\"text-align: right;\">\n",
       "      <th></th>\n",
       "      <th>OXO-5FI635C Augusta</th>\n",
       "      <th>OXO-5FI661A Augusta</th>\n",
       "      <th>OXO-5FI696 Augusta</th>\n",
       "      <th>OXO-5FIC132 Augusta</th>\n",
       "      <th>OXO-5FIC600 Augusta</th>\n",
       "      <th>OXO-5FIC601 Augusta</th>\n",
       "      <th>OXO-5FIC602 Augusta</th>\n",
       "      <th>OXO-5FIC603 Augusta</th>\n",
       "      <th>OXO-5FIC606A Augusta</th>\n",
       "      <th>OXO-5FIC606C Augusta</th>\n",
       "      <th>...</th>\n",
       "      <th>OXO-5TIC604 Augusta</th>\n",
       "      <th>OXO-5TIC605 Augusta</th>\n",
       "      <th>OXO-5TIC606 Augusta</th>\n",
       "      <th>OXO-5TIC607 Augusta</th>\n",
       "      <th>OXO-5TIC659 Augusta</th>\n",
       "      <th>OXO-_5FI658A Augusta</th>\n",
       "      <th>OXO-_5FI659A Augusta</th>\n",
       "      <th>OXO-_5FI660A Augusta</th>\n",
       "      <th>OXO-_5FI662A Augusta</th>\n",
       "      <th>OXO-5FI696 Augusta_time_lag_1</th>\n",
       "    </tr>\n",
       "    <tr>\n",
       "      <th>Date</th>\n",
       "      <th></th>\n",
       "      <th></th>\n",
       "      <th></th>\n",
       "      <th></th>\n",
       "      <th></th>\n",
       "      <th></th>\n",
       "      <th></th>\n",
       "      <th></th>\n",
       "      <th></th>\n",
       "      <th></th>\n",
       "      <th></th>\n",
       "      <th></th>\n",
       "      <th></th>\n",
       "      <th></th>\n",
       "      <th></th>\n",
       "      <th></th>\n",
       "      <th></th>\n",
       "      <th></th>\n",
       "      <th></th>\n",
       "      <th></th>\n",
       "      <th></th>\n",
       "    </tr>\n",
       "  </thead>\n",
       "  <tbody>\n",
       "    <tr>\n",
       "      <th>2019-11-01 00:00:00</th>\n",
       "      <td>5859.125648</td>\n",
       "      <td>23345.857389</td>\n",
       "      <td>9830.200195</td>\n",
       "      <td>4.450549</td>\n",
       "      <td>2076.174093</td>\n",
       "      <td>67.208298</td>\n",
       "      <td>5069.174366</td>\n",
       "      <td>0.0</td>\n",
       "      <td>NaN</td>\n",
       "      <td>1.202029</td>\n",
       "      <td>...</td>\n",
       "      <td>130.578919</td>\n",
       "      <td>133.007764</td>\n",
       "      <td>134.032267</td>\n",
       "      <td>130.899539</td>\n",
       "      <td>298.029910</td>\n",
       "      <td>21719.630615</td>\n",
       "      <td>22870.976318</td>\n",
       "      <td>22026.824772</td>\n",
       "      <td>22036.315560</td>\n",
       "      <td>NaN</td>\n",
       "    </tr>\n",
       "    <tr>\n",
       "      <th>2019-11-01 01:00:00</th>\n",
       "      <td>5950.173837</td>\n",
       "      <td>23346.553467</td>\n",
       "      <td>9384.632992</td>\n",
       "      <td>4.410112</td>\n",
       "      <td>2070.199284</td>\n",
       "      <td>67.204392</td>\n",
       "      <td>5068.014148</td>\n",
       "      <td>0.0</td>\n",
       "      <td>NaN</td>\n",
       "      <td>1.158160</td>\n",
       "      <td>...</td>\n",
       "      <td>130.640505</td>\n",
       "      <td>132.966600</td>\n",
       "      <td>134.035076</td>\n",
       "      <td>130.849780</td>\n",
       "      <td>298.084330</td>\n",
       "      <td>21727.622575</td>\n",
       "      <td>22879.205452</td>\n",
       "      <td>22042.948193</td>\n",
       "      <td>22056.644971</td>\n",
       "      <td>9830.200195</td>\n",
       "    </tr>\n",
       "    <tr>\n",
       "      <th>2019-11-01 02:00:00</th>\n",
       "      <td>6379.102250</td>\n",
       "      <td>23430.336545</td>\n",
       "      <td>9233.277262</td>\n",
       "      <td>4.285714</td>\n",
       "      <td>2067.933828</td>\n",
       "      <td>67.031974</td>\n",
       "      <td>5069.603650</td>\n",
       "      <td>0.0</td>\n",
       "      <td>NaN</td>\n",
       "      <td>1.070420</td>\n",
       "      <td>...</td>\n",
       "      <td>130.675602</td>\n",
       "      <td>133.035094</td>\n",
       "      <td>134.001994</td>\n",
       "      <td>130.743083</td>\n",
       "      <td>297.930878</td>\n",
       "      <td>21836.766659</td>\n",
       "      <td>22970.057215</td>\n",
       "      <td>22156.774258</td>\n",
       "      <td>22105.218684</td>\n",
       "      <td>9384.632992</td>\n",
       "    </tr>\n",
       "    <tr>\n",
       "      <th>2019-11-01 03:00:00</th>\n",
       "      <td>6337.343084</td>\n",
       "      <td>23384.694743</td>\n",
       "      <td>9223.139014</td>\n",
       "      <td>4.775281</td>\n",
       "      <td>2062.488529</td>\n",
       "      <td>66.808810</td>\n",
       "      <td>5061.608939</td>\n",
       "      <td>0.0</td>\n",
       "      <td>NaN</td>\n",
       "      <td>1.044098</td>\n",
       "      <td>...</td>\n",
       "      <td>130.613462</td>\n",
       "      <td>133.000552</td>\n",
       "      <td>133.979115</td>\n",
       "      <td>130.760757</td>\n",
       "      <td>298.052583</td>\n",
       "      <td>21783.450505</td>\n",
       "      <td>22920.952018</td>\n",
       "      <td>22088.356950</td>\n",
       "      <td>22064.178402</td>\n",
       "      <td>9233.277262</td>\n",
       "    </tr>\n",
       "    <tr>\n",
       "      <th>2019-11-01 04:00:00</th>\n",
       "      <td>6183.590302</td>\n",
       "      <td>23357.085677</td>\n",
       "      <td>9104.168620</td>\n",
       "      <td>4.388889</td>\n",
       "      <td>2055.162223</td>\n",
       "      <td>66.354369</td>\n",
       "      <td>5004.132636</td>\n",
       "      <td>0.0</td>\n",
       "      <td>NaN</td>\n",
       "      <td>1.044098</td>\n",
       "      <td>...</td>\n",
       "      <td>130.614549</td>\n",
       "      <td>133.004748</td>\n",
       "      <td>134.000492</td>\n",
       "      <td>130.814450</td>\n",
       "      <td>298.039928</td>\n",
       "      <td>21748.715137</td>\n",
       "      <td>22895.312126</td>\n",
       "      <td>22073.622298</td>\n",
       "      <td>22053.480892</td>\n",
       "      <td>9223.139014</td>\n",
       "    </tr>\n",
       "  </tbody>\n",
       "</table>\n",
       "<p>5 rows × 60 columns</p>\n",
       "</div>"
      ],
      "text/plain": [
       "                     OXO-5FI635C Augusta  OXO-5FI661A Augusta   \n",
       "Date                                                            \n",
       "2019-11-01 00:00:00          5859.125648         23345.857389  \\\n",
       "2019-11-01 01:00:00          5950.173837         23346.553467   \n",
       "2019-11-01 02:00:00          6379.102250         23430.336545   \n",
       "2019-11-01 03:00:00          6337.343084         23384.694743   \n",
       "2019-11-01 04:00:00          6183.590302         23357.085677   \n",
       "\n",
       "                     OXO-5FI696 Augusta  OXO-5FIC132 Augusta   \n",
       "Date                                                           \n",
       "2019-11-01 00:00:00         9830.200195             4.450549  \\\n",
       "2019-11-01 01:00:00         9384.632992             4.410112   \n",
       "2019-11-01 02:00:00         9233.277262             4.285714   \n",
       "2019-11-01 03:00:00         9223.139014             4.775281   \n",
       "2019-11-01 04:00:00         9104.168620             4.388889   \n",
       "\n",
       "                     OXO-5FIC600 Augusta  OXO-5FIC601 Augusta   \n",
       "Date                                                            \n",
       "2019-11-01 00:00:00          2076.174093            67.208298  \\\n",
       "2019-11-01 01:00:00          2070.199284            67.204392   \n",
       "2019-11-01 02:00:00          2067.933828            67.031974   \n",
       "2019-11-01 03:00:00          2062.488529            66.808810   \n",
       "2019-11-01 04:00:00          2055.162223            66.354369   \n",
       "\n",
       "                     OXO-5FIC602 Augusta  OXO-5FIC603 Augusta   \n",
       "Date                                                            \n",
       "2019-11-01 00:00:00          5069.174366                  0.0  \\\n",
       "2019-11-01 01:00:00          5068.014148                  0.0   \n",
       "2019-11-01 02:00:00          5069.603650                  0.0   \n",
       "2019-11-01 03:00:00          5061.608939                  0.0   \n",
       "2019-11-01 04:00:00          5004.132636                  0.0   \n",
       "\n",
       "                     OXO-5FIC606A Augusta  OXO-5FIC606C Augusta  ...   \n",
       "Date                                                             ...   \n",
       "2019-11-01 00:00:00                   NaN              1.202029  ...  \\\n",
       "2019-11-01 01:00:00                   NaN              1.158160  ...   \n",
       "2019-11-01 02:00:00                   NaN              1.070420  ...   \n",
       "2019-11-01 03:00:00                   NaN              1.044098  ...   \n",
       "2019-11-01 04:00:00                   NaN              1.044098  ...   \n",
       "\n",
       "                     OXO-5TIC604 Augusta  OXO-5TIC605 Augusta   \n",
       "Date                                                            \n",
       "2019-11-01 00:00:00           130.578919           133.007764  \\\n",
       "2019-11-01 01:00:00           130.640505           132.966600   \n",
       "2019-11-01 02:00:00           130.675602           133.035094   \n",
       "2019-11-01 03:00:00           130.613462           133.000552   \n",
       "2019-11-01 04:00:00           130.614549           133.004748   \n",
       "\n",
       "                     OXO-5TIC606 Augusta  OXO-5TIC607 Augusta   \n",
       "Date                                                            \n",
       "2019-11-01 00:00:00           134.032267           130.899539  \\\n",
       "2019-11-01 01:00:00           134.035076           130.849780   \n",
       "2019-11-01 02:00:00           134.001994           130.743083   \n",
       "2019-11-01 03:00:00           133.979115           130.760757   \n",
       "2019-11-01 04:00:00           134.000492           130.814450   \n",
       "\n",
       "                     OXO-5TIC659 Augusta  OXO-_5FI658A Augusta   \n",
       "Date                                                             \n",
       "2019-11-01 00:00:00           298.029910          21719.630615  \\\n",
       "2019-11-01 01:00:00           298.084330          21727.622575   \n",
       "2019-11-01 02:00:00           297.930878          21836.766659   \n",
       "2019-11-01 03:00:00           298.052583          21783.450505   \n",
       "2019-11-01 04:00:00           298.039928          21748.715137   \n",
       "\n",
       "                     OXO-_5FI659A Augusta  OXO-_5FI660A Augusta   \n",
       "Date                                                              \n",
       "2019-11-01 00:00:00          22870.976318          22026.824772  \\\n",
       "2019-11-01 01:00:00          22879.205452          22042.948193   \n",
       "2019-11-01 02:00:00          22970.057215          22156.774258   \n",
       "2019-11-01 03:00:00          22920.952018          22088.356950   \n",
       "2019-11-01 04:00:00          22895.312126          22073.622298   \n",
       "\n",
       "                     OXO-_5FI662A Augusta  OXO-5FI696 Augusta_time_lag_1  \n",
       "Date                                                                      \n",
       "2019-11-01 00:00:00          22036.315560                            NaN  \n",
       "2019-11-01 01:00:00          22056.644971                    9830.200195  \n",
       "2019-11-01 02:00:00          22105.218684                    9384.632992  \n",
       "2019-11-01 03:00:00          22064.178402                    9233.277262  \n",
       "2019-11-01 04:00:00          22053.480892                    9223.139014  \n",
       "\n",
       "[5 rows x 60 columns]"
      ]
     },
     "execution_count": 26,
     "metadata": {},
     "output_type": "execute_result"
    }
   ],
   "source": [
    "fe = FeatureEngineering(df)\n",
    "df = fe.add_time_lag_features(df, col_list=[cfg.target_var.sasol], max_lag=1)\n",
    "df.head()"
   ]
  },
  {
   "cell_type": "code",
   "execution_count": null,
   "metadata": {},
   "outputs": [
    {
     "data": {
      "text/html": [
       "<div>\n",
       "<style scoped>\n",
       "    .dataframe tbody tr th:only-of-type {\n",
       "        vertical-align: middle;\n",
       "    }\n",
       "\n",
       "    .dataframe tbody tr th {\n",
       "        vertical-align: top;\n",
       "    }\n",
       "\n",
       "    .dataframe thead th {\n",
       "        text-align: right;\n",
       "    }\n",
       "</style>\n",
       "<table border=\"1\" class=\"dataframe\">\n",
       "  <thead>\n",
       "    <tr style=\"text-align: right;\">\n",
       "      <th></th>\n",
       "      <th>OXO-5FI635C Augusta</th>\n",
       "      <th>OXO-5FI661A Augusta</th>\n",
       "      <th>OXO-5FI696 Augusta</th>\n",
       "      <th>OXO-5FIC132 Augusta</th>\n",
       "      <th>OXO-5FIC600 Augusta</th>\n",
       "      <th>OXO-5FIC601 Augusta</th>\n",
       "      <th>OXO-5FIC602 Augusta</th>\n",
       "      <th>OXO-5FIC603 Augusta</th>\n",
       "      <th>OXO-5FIC606A Augusta</th>\n",
       "      <th>OXO-5FIC606C Augusta</th>\n",
       "      <th>...</th>\n",
       "      <th>OXO-_5FI659A Augusta</th>\n",
       "      <th>OXO-_5FI660A Augusta</th>\n",
       "      <th>OXO-_5FI662A Augusta</th>\n",
       "      <th>OXO-5FI696 Augusta_time_lag_1</th>\n",
       "      <th>year</th>\n",
       "      <th>month</th>\n",
       "      <th>day</th>\n",
       "      <th>day_of_week</th>\n",
       "      <th>day_of_year</th>\n",
       "      <th>week_of_year</th>\n",
       "    </tr>\n",
       "    <tr>\n",
       "      <th>Date</th>\n",
       "      <th></th>\n",
       "      <th></th>\n",
       "      <th></th>\n",
       "      <th></th>\n",
       "      <th></th>\n",
       "      <th></th>\n",
       "      <th></th>\n",
       "      <th></th>\n",
       "      <th></th>\n",
       "      <th></th>\n",
       "      <th></th>\n",
       "      <th></th>\n",
       "      <th></th>\n",
       "      <th></th>\n",
       "      <th></th>\n",
       "      <th></th>\n",
       "      <th></th>\n",
       "      <th></th>\n",
       "      <th></th>\n",
       "      <th></th>\n",
       "      <th></th>\n",
       "    </tr>\n",
       "  </thead>\n",
       "  <tbody>\n",
       "    <tr>\n",
       "      <th>2019-11-01 00:00:00</th>\n",
       "      <td>5859.125648</td>\n",
       "      <td>23345.857389</td>\n",
       "      <td>9830.200195</td>\n",
       "      <td>4.450549</td>\n",
       "      <td>2076.174093</td>\n",
       "      <td>67.208298</td>\n",
       "      <td>5069.174366</td>\n",
       "      <td>0.0</td>\n",
       "      <td>NaN</td>\n",
       "      <td>1.202029</td>\n",
       "      <td>...</td>\n",
       "      <td>22870.976318</td>\n",
       "      <td>22026.824772</td>\n",
       "      <td>22036.315560</td>\n",
       "      <td>NaN</td>\n",
       "      <td>2019</td>\n",
       "      <td>11</td>\n",
       "      <td>1</td>\n",
       "      <td>4</td>\n",
       "      <td>305</td>\n",
       "      <td>44</td>\n",
       "    </tr>\n",
       "    <tr>\n",
       "      <th>2019-11-01 01:00:00</th>\n",
       "      <td>5950.173837</td>\n",
       "      <td>23346.553467</td>\n",
       "      <td>9384.632992</td>\n",
       "      <td>4.410112</td>\n",
       "      <td>2070.199284</td>\n",
       "      <td>67.204392</td>\n",
       "      <td>5068.014148</td>\n",
       "      <td>0.0</td>\n",
       "      <td>NaN</td>\n",
       "      <td>1.158160</td>\n",
       "      <td>...</td>\n",
       "      <td>22879.205452</td>\n",
       "      <td>22042.948193</td>\n",
       "      <td>22056.644971</td>\n",
       "      <td>9830.200195</td>\n",
       "      <td>2019</td>\n",
       "      <td>11</td>\n",
       "      <td>1</td>\n",
       "      <td>4</td>\n",
       "      <td>305</td>\n",
       "      <td>44</td>\n",
       "    </tr>\n",
       "    <tr>\n",
       "      <th>2019-11-01 02:00:00</th>\n",
       "      <td>6379.102250</td>\n",
       "      <td>23430.336545</td>\n",
       "      <td>9233.277262</td>\n",
       "      <td>4.285714</td>\n",
       "      <td>2067.933828</td>\n",
       "      <td>67.031974</td>\n",
       "      <td>5069.603650</td>\n",
       "      <td>0.0</td>\n",
       "      <td>NaN</td>\n",
       "      <td>1.070420</td>\n",
       "      <td>...</td>\n",
       "      <td>22970.057215</td>\n",
       "      <td>22156.774258</td>\n",
       "      <td>22105.218684</td>\n",
       "      <td>9384.632992</td>\n",
       "      <td>2019</td>\n",
       "      <td>11</td>\n",
       "      <td>1</td>\n",
       "      <td>4</td>\n",
       "      <td>305</td>\n",
       "      <td>44</td>\n",
       "    </tr>\n",
       "    <tr>\n",
       "      <th>2019-11-01 03:00:00</th>\n",
       "      <td>6337.343084</td>\n",
       "      <td>23384.694743</td>\n",
       "      <td>9223.139014</td>\n",
       "      <td>4.775281</td>\n",
       "      <td>2062.488529</td>\n",
       "      <td>66.808810</td>\n",
       "      <td>5061.608939</td>\n",
       "      <td>0.0</td>\n",
       "      <td>NaN</td>\n",
       "      <td>1.044098</td>\n",
       "      <td>...</td>\n",
       "      <td>22920.952018</td>\n",
       "      <td>22088.356950</td>\n",
       "      <td>22064.178402</td>\n",
       "      <td>9233.277262</td>\n",
       "      <td>2019</td>\n",
       "      <td>11</td>\n",
       "      <td>1</td>\n",
       "      <td>4</td>\n",
       "      <td>305</td>\n",
       "      <td>44</td>\n",
       "    </tr>\n",
       "    <tr>\n",
       "      <th>2019-11-01 04:00:00</th>\n",
       "      <td>6183.590302</td>\n",
       "      <td>23357.085677</td>\n",
       "      <td>9104.168620</td>\n",
       "      <td>4.388889</td>\n",
       "      <td>2055.162223</td>\n",
       "      <td>66.354369</td>\n",
       "      <td>5004.132636</td>\n",
       "      <td>0.0</td>\n",
       "      <td>NaN</td>\n",
       "      <td>1.044098</td>\n",
       "      <td>...</td>\n",
       "      <td>22895.312126</td>\n",
       "      <td>22073.622298</td>\n",
       "      <td>22053.480892</td>\n",
       "      <td>9223.139014</td>\n",
       "      <td>2019</td>\n",
       "      <td>11</td>\n",
       "      <td>1</td>\n",
       "      <td>4</td>\n",
       "      <td>305</td>\n",
       "      <td>44</td>\n",
       "    </tr>\n",
       "  </tbody>\n",
       "</table>\n",
       "<p>5 rows × 66 columns</p>\n",
       "</div>"
      ],
      "text/plain": [
       "                     OXO-5FI635C Augusta  OXO-5FI661A Augusta   \n",
       "Date                                                            \n",
       "2019-11-01 00:00:00          5859.125648         23345.857389  \\\n",
       "2019-11-01 01:00:00          5950.173837         23346.553467   \n",
       "2019-11-01 02:00:00          6379.102250         23430.336545   \n",
       "2019-11-01 03:00:00          6337.343084         23384.694743   \n",
       "2019-11-01 04:00:00          6183.590302         23357.085677   \n",
       "\n",
       "                     OXO-5FI696 Augusta  OXO-5FIC132 Augusta   \n",
       "Date                                                           \n",
       "2019-11-01 00:00:00         9830.200195             4.450549  \\\n",
       "2019-11-01 01:00:00         9384.632992             4.410112   \n",
       "2019-11-01 02:00:00         9233.277262             4.285714   \n",
       "2019-11-01 03:00:00         9223.139014             4.775281   \n",
       "2019-11-01 04:00:00         9104.168620             4.388889   \n",
       "\n",
       "                     OXO-5FIC600 Augusta  OXO-5FIC601 Augusta   \n",
       "Date                                                            \n",
       "2019-11-01 00:00:00          2076.174093            67.208298  \\\n",
       "2019-11-01 01:00:00          2070.199284            67.204392   \n",
       "2019-11-01 02:00:00          2067.933828            67.031974   \n",
       "2019-11-01 03:00:00          2062.488529            66.808810   \n",
       "2019-11-01 04:00:00          2055.162223            66.354369   \n",
       "\n",
       "                     OXO-5FIC602 Augusta  OXO-5FIC603 Augusta   \n",
       "Date                                                            \n",
       "2019-11-01 00:00:00          5069.174366                  0.0  \\\n",
       "2019-11-01 01:00:00          5068.014148                  0.0   \n",
       "2019-11-01 02:00:00          5069.603650                  0.0   \n",
       "2019-11-01 03:00:00          5061.608939                  0.0   \n",
       "2019-11-01 04:00:00          5004.132636                  0.0   \n",
       "\n",
       "                     OXO-5FIC606A Augusta  OXO-5FIC606C Augusta  ...   \n",
       "Date                                                             ...   \n",
       "2019-11-01 00:00:00                   NaN              1.202029  ...  \\\n",
       "2019-11-01 01:00:00                   NaN              1.158160  ...   \n",
       "2019-11-01 02:00:00                   NaN              1.070420  ...   \n",
       "2019-11-01 03:00:00                   NaN              1.044098  ...   \n",
       "2019-11-01 04:00:00                   NaN              1.044098  ...   \n",
       "\n",
       "                     OXO-_5FI659A Augusta  OXO-_5FI660A Augusta   \n",
       "Date                                                              \n",
       "2019-11-01 00:00:00          22870.976318          22026.824772  \\\n",
       "2019-11-01 01:00:00          22879.205452          22042.948193   \n",
       "2019-11-01 02:00:00          22970.057215          22156.774258   \n",
       "2019-11-01 03:00:00          22920.952018          22088.356950   \n",
       "2019-11-01 04:00:00          22895.312126          22073.622298   \n",
       "\n",
       "                     OXO-_5FI662A Augusta  OXO-5FI696 Augusta_time_lag_1   \n",
       "Date                                                                       \n",
       "2019-11-01 00:00:00          22036.315560                            NaN  \\\n",
       "2019-11-01 01:00:00          22056.644971                    9830.200195   \n",
       "2019-11-01 02:00:00          22105.218684                    9384.632992   \n",
       "2019-11-01 03:00:00          22064.178402                    9233.277262   \n",
       "2019-11-01 04:00:00          22053.480892                    9223.139014   \n",
       "\n",
       "                     year  month  day  day_of_week  day_of_year  week_of_year  \n",
       "Date                                                                           \n",
       "2019-11-01 00:00:00  2019     11    1            4          305            44  \n",
       "2019-11-01 01:00:00  2019     11    1            4          305            44  \n",
       "2019-11-01 02:00:00  2019     11    1            4          305            44  \n",
       "2019-11-01 03:00:00  2019     11    1            4          305            44  \n",
       "2019-11-01 04:00:00  2019     11    1            4          305            44  \n",
       "\n",
       "[5 rows x 66 columns]"
      ]
     },
     "execution_count": 27,
     "metadata": {},
     "output_type": "execute_result"
    }
   ],
   "source": [
    "df = fe.add_time_features(df)\n",
    "df.head()"
   ]
  },
  {
   "cell_type": "code",
   "execution_count": null,
   "metadata": {},
   "outputs": [
    {
     "data": {
      "text/html": [
       "<div>\n",
       "<style scoped>\n",
       "    .dataframe tbody tr th:only-of-type {\n",
       "        vertical-align: middle;\n",
       "    }\n",
       "\n",
       "    .dataframe tbody tr th {\n",
       "        vertical-align: top;\n",
       "    }\n",
       "\n",
       "    .dataframe thead th {\n",
       "        text-align: right;\n",
       "    }\n",
       "</style>\n",
       "<table border=\"1\" class=\"dataframe\">\n",
       "  <thead>\n",
       "    <tr style=\"text-align: right;\">\n",
       "      <th></th>\n",
       "      <th>80GAF30CP001.XQ01 Ras Al-Khair</th>\n",
       "      <th>80GAF30CP002.XQ01 Ras Al-Khair</th>\n",
       "      <th>80GAF30CQ001.XQ01 Ras Al-Khair</th>\n",
       "      <th>80GAF30CQ002.XQ01 Ras Al-Khair</th>\n",
       "      <th>80GAF30CQ003.XQ01 Ras Al-Khair</th>\n",
       "      <th>80GAF30CQ004.XQ01 Ras Al-Khair</th>\n",
       "      <th>80GAF30CQ005.XQ01 Ras Al-Khair</th>\n",
       "      <th>80GAF30CQ006.XQ01 Ras Al-Khair</th>\n",
       "      <th>80GAF30CT001.XQ01 Ras Al-Khair</th>\n",
       "      <th>80GAF30CT002.XQ01 Ras Al-Khair</th>\n",
       "      <th>...</th>\n",
       "      <th>82GEV00CP001.XV03 Ras Al-Khair</th>\n",
       "      <th>82GEV00CQ001.XQ01 Ras Al-Khair</th>\n",
       "      <th>82GEV00CT001.XQ01 Ras Al-Khair</th>\n",
       "      <th>82GEV05CQ001.XQ01 Ras Al-Khair</th>\n",
       "      <th>82GEV05CQ002.XQ01 Ras Al-Khair</th>\n",
       "      <th>82GEV05CQ003.XQ01 Ras Al-Khair</th>\n",
       "      <th>82GEV05CQ005.XQ01 Ras Al-Khair</th>\n",
       "      <th>82GEV05CQ006.XQ01 Ras Al-Khair</th>\n",
       "      <th>82GEV05CQ007.XQ01 Ras Al-Khair</th>\n",
       "      <th>82GEV05CQ008.XQ01 Ras Al-Khair</th>\n",
       "    </tr>\n",
       "    <tr>\n",
       "      <th>Date</th>\n",
       "      <th></th>\n",
       "      <th></th>\n",
       "      <th></th>\n",
       "      <th></th>\n",
       "      <th></th>\n",
       "      <th></th>\n",
       "      <th></th>\n",
       "      <th></th>\n",
       "      <th></th>\n",
       "      <th></th>\n",
       "      <th></th>\n",
       "      <th></th>\n",
       "      <th></th>\n",
       "      <th></th>\n",
       "      <th></th>\n",
       "      <th></th>\n",
       "      <th></th>\n",
       "      <th></th>\n",
       "      <th></th>\n",
       "      <th></th>\n",
       "      <th></th>\n",
       "    </tr>\n",
       "  </thead>\n",
       "  <tbody>\n",
       "    <tr>\n",
       "      <th>2020-01-01 00:00:00</th>\n",
       "      <td>2.022105</td>\n",
       "      <td>1.955963</td>\n",
       "      <td>0.004200</td>\n",
       "      <td>-18.89949</td>\n",
       "      <td>62.556573</td>\n",
       "      <td>1.269097</td>\n",
       "      <td>7.982784</td>\n",
       "      <td>0.018975</td>\n",
       "      <td>19.333120</td>\n",
       "      <td>19.226244</td>\n",
       "      <td>...</td>\n",
       "      <td>0.593945</td>\n",
       "      <td>1.007940</td>\n",
       "      <td>26.463205</td>\n",
       "      <td>0.001075</td>\n",
       "      <td>0.072269</td>\n",
       "      <td>521.976229</td>\n",
       "      <td>-0.001308</td>\n",
       "      <td>60522.442833</td>\n",
       "      <td>6.340481</td>\n",
       "      <td>3.564636</td>\n",
       "    </tr>\n",
       "    <tr>\n",
       "      <th>2020-01-01 01:00:00</th>\n",
       "      <td>2.032036</td>\n",
       "      <td>1.967390</td>\n",
       "      <td>0.004115</td>\n",
       "      <td>NaN</td>\n",
       "      <td>62.628020</td>\n",
       "      <td>1.200446</td>\n",
       "      <td>7.982205</td>\n",
       "      <td>0.019771</td>\n",
       "      <td>19.275465</td>\n",
       "      <td>19.164369</td>\n",
       "      <td>...</td>\n",
       "      <td>0.591924</td>\n",
       "      <td>1.007929</td>\n",
       "      <td>26.403744</td>\n",
       "      <td>NaN</td>\n",
       "      <td>0.074882</td>\n",
       "      <td>272.794585</td>\n",
       "      <td>-0.001683</td>\n",
       "      <td>60412.080857</td>\n",
       "      <td>6.333336</td>\n",
       "      <td>NaN</td>\n",
       "    </tr>\n",
       "    <tr>\n",
       "      <th>2020-01-01 02:00:00</th>\n",
       "      <td>2.030507</td>\n",
       "      <td>1.966513</td>\n",
       "      <td>0.004243</td>\n",
       "      <td>NaN</td>\n",
       "      <td>62.461891</td>\n",
       "      <td>1.193488</td>\n",
       "      <td>7.977813</td>\n",
       "      <td>NaN</td>\n",
       "      <td>19.239994</td>\n",
       "      <td>19.134638</td>\n",
       "      <td>...</td>\n",
       "      <td>0.589208</td>\n",
       "      <td>1.007966</td>\n",
       "      <td>26.313748</td>\n",
       "      <td>NaN</td>\n",
       "      <td>0.095588</td>\n",
       "      <td>213.760548</td>\n",
       "      <td>-0.001188</td>\n",
       "      <td>60237.838714</td>\n",
       "      <td>6.336653</td>\n",
       "      <td>NaN</td>\n",
       "    </tr>\n",
       "    <tr>\n",
       "      <th>2020-01-01 03:00:00</th>\n",
       "      <td>2.029290</td>\n",
       "      <td>1.964664</td>\n",
       "      <td>0.004167</td>\n",
       "      <td>NaN</td>\n",
       "      <td>62.615500</td>\n",
       "      <td>1.431394</td>\n",
       "      <td>7.973681</td>\n",
       "      <td>NaN</td>\n",
       "      <td>19.237494</td>\n",
       "      <td>19.132496</td>\n",
       "      <td>...</td>\n",
       "      <td>0.587167</td>\n",
       "      <td>1.007972</td>\n",
       "      <td>26.279994</td>\n",
       "      <td>NaN</td>\n",
       "      <td>0.072197</td>\n",
       "      <td>189.206165</td>\n",
       "      <td>-0.001698</td>\n",
       "      <td>60625.976313</td>\n",
       "      <td>6.335094</td>\n",
       "      <td>NaN</td>\n",
       "    </tr>\n",
       "    <tr>\n",
       "      <th>2020-01-01 04:00:00</th>\n",
       "      <td>2.015641</td>\n",
       "      <td>1.952224</td>\n",
       "      <td>0.004275</td>\n",
       "      <td>NaN</td>\n",
       "      <td>62.592892</td>\n",
       "      <td>1.431766</td>\n",
       "      <td>7.968629</td>\n",
       "      <td>NaN</td>\n",
       "      <td>19.227851</td>\n",
       "      <td>19.128210</td>\n",
       "      <td>...</td>\n",
       "      <td>0.593460</td>\n",
       "      <td>1.007963</td>\n",
       "      <td>26.330622</td>\n",
       "      <td>NaN</td>\n",
       "      <td>0.072127</td>\n",
       "      <td>172.814084</td>\n",
       "      <td>-0.001200</td>\n",
       "      <td>60593.791267</td>\n",
       "      <td>6.331321</td>\n",
       "      <td>NaN</td>\n",
       "    </tr>\n",
       "  </tbody>\n",
       "</table>\n",
       "<p>5 rows × 129 columns</p>\n",
       "</div>"
      ],
      "text/plain": [
       "                     80GAF30CP001.XQ01 Ras Al-Khair   \n",
       "Date                                                  \n",
       "2020-01-01 00:00:00                        2.022105  \\\n",
       "2020-01-01 01:00:00                        2.032036   \n",
       "2020-01-01 02:00:00                        2.030507   \n",
       "2020-01-01 03:00:00                        2.029290   \n",
       "2020-01-01 04:00:00                        2.015641   \n",
       "\n",
       "                     80GAF30CP002.XQ01 Ras Al-Khair   \n",
       "Date                                                  \n",
       "2020-01-01 00:00:00                        1.955963  \\\n",
       "2020-01-01 01:00:00                        1.967390   \n",
       "2020-01-01 02:00:00                        1.966513   \n",
       "2020-01-01 03:00:00                        1.964664   \n",
       "2020-01-01 04:00:00                        1.952224   \n",
       "\n",
       "                     80GAF30CQ001.XQ01 Ras Al-Khair   \n",
       "Date                                                  \n",
       "2020-01-01 00:00:00                        0.004200  \\\n",
       "2020-01-01 01:00:00                        0.004115   \n",
       "2020-01-01 02:00:00                        0.004243   \n",
       "2020-01-01 03:00:00                        0.004167   \n",
       "2020-01-01 04:00:00                        0.004275   \n",
       "\n",
       "                     80GAF30CQ002.XQ01 Ras Al-Khair   \n",
       "Date                                                  \n",
       "2020-01-01 00:00:00                       -18.89949  \\\n",
       "2020-01-01 01:00:00                             NaN   \n",
       "2020-01-01 02:00:00                             NaN   \n",
       "2020-01-01 03:00:00                             NaN   \n",
       "2020-01-01 04:00:00                             NaN   \n",
       "\n",
       "                     80GAF30CQ003.XQ01 Ras Al-Khair   \n",
       "Date                                                  \n",
       "2020-01-01 00:00:00                       62.556573  \\\n",
       "2020-01-01 01:00:00                       62.628020   \n",
       "2020-01-01 02:00:00                       62.461891   \n",
       "2020-01-01 03:00:00                       62.615500   \n",
       "2020-01-01 04:00:00                       62.592892   \n",
       "\n",
       "                     80GAF30CQ004.XQ01 Ras Al-Khair   \n",
       "Date                                                  \n",
       "2020-01-01 00:00:00                        1.269097  \\\n",
       "2020-01-01 01:00:00                        1.200446   \n",
       "2020-01-01 02:00:00                        1.193488   \n",
       "2020-01-01 03:00:00                        1.431394   \n",
       "2020-01-01 04:00:00                        1.431766   \n",
       "\n",
       "                     80GAF30CQ005.XQ01 Ras Al-Khair   \n",
       "Date                                                  \n",
       "2020-01-01 00:00:00                        7.982784  \\\n",
       "2020-01-01 01:00:00                        7.982205   \n",
       "2020-01-01 02:00:00                        7.977813   \n",
       "2020-01-01 03:00:00                        7.973681   \n",
       "2020-01-01 04:00:00                        7.968629   \n",
       "\n",
       "                     80GAF30CQ006.XQ01 Ras Al-Khair   \n",
       "Date                                                  \n",
       "2020-01-01 00:00:00                        0.018975  \\\n",
       "2020-01-01 01:00:00                        0.019771   \n",
       "2020-01-01 02:00:00                             NaN   \n",
       "2020-01-01 03:00:00                             NaN   \n",
       "2020-01-01 04:00:00                             NaN   \n",
       "\n",
       "                     80GAF30CT001.XQ01 Ras Al-Khair   \n",
       "Date                                                  \n",
       "2020-01-01 00:00:00                       19.333120  \\\n",
       "2020-01-01 01:00:00                       19.275465   \n",
       "2020-01-01 02:00:00                       19.239994   \n",
       "2020-01-01 03:00:00                       19.237494   \n",
       "2020-01-01 04:00:00                       19.227851   \n",
       "\n",
       "                     80GAF30CT002.XQ01 Ras Al-Khair  ...   \n",
       "Date                                                 ...   \n",
       "2020-01-01 00:00:00                       19.226244  ...  \\\n",
       "2020-01-01 01:00:00                       19.164369  ...   \n",
       "2020-01-01 02:00:00                       19.134638  ...   \n",
       "2020-01-01 03:00:00                       19.132496  ...   \n",
       "2020-01-01 04:00:00                       19.128210  ...   \n",
       "\n",
       "                     82GEV00CP001.XV03 Ras Al-Khair   \n",
       "Date                                                  \n",
       "2020-01-01 00:00:00                        0.593945  \\\n",
       "2020-01-01 01:00:00                        0.591924   \n",
       "2020-01-01 02:00:00                        0.589208   \n",
       "2020-01-01 03:00:00                        0.587167   \n",
       "2020-01-01 04:00:00                        0.593460   \n",
       "\n",
       "                     82GEV00CQ001.XQ01 Ras Al-Khair   \n",
       "Date                                                  \n",
       "2020-01-01 00:00:00                        1.007940  \\\n",
       "2020-01-01 01:00:00                        1.007929   \n",
       "2020-01-01 02:00:00                        1.007966   \n",
       "2020-01-01 03:00:00                        1.007972   \n",
       "2020-01-01 04:00:00                        1.007963   \n",
       "\n",
       "                     82GEV00CT001.XQ01 Ras Al-Khair   \n",
       "Date                                                  \n",
       "2020-01-01 00:00:00                       26.463205  \\\n",
       "2020-01-01 01:00:00                       26.403744   \n",
       "2020-01-01 02:00:00                       26.313748   \n",
       "2020-01-01 03:00:00                       26.279994   \n",
       "2020-01-01 04:00:00                       26.330622   \n",
       "\n",
       "                     82GEV05CQ001.XQ01 Ras Al-Khair   \n",
       "Date                                                  \n",
       "2020-01-01 00:00:00                        0.001075  \\\n",
       "2020-01-01 01:00:00                             NaN   \n",
       "2020-01-01 02:00:00                             NaN   \n",
       "2020-01-01 03:00:00                             NaN   \n",
       "2020-01-01 04:00:00                             NaN   \n",
       "\n",
       "                     82GEV05CQ002.XQ01 Ras Al-Khair   \n",
       "Date                                                  \n",
       "2020-01-01 00:00:00                        0.072269  \\\n",
       "2020-01-01 01:00:00                        0.074882   \n",
       "2020-01-01 02:00:00                        0.095588   \n",
       "2020-01-01 03:00:00                        0.072197   \n",
       "2020-01-01 04:00:00                        0.072127   \n",
       "\n",
       "                     82GEV05CQ003.XQ01 Ras Al-Khair   \n",
       "Date                                                  \n",
       "2020-01-01 00:00:00                      521.976229  \\\n",
       "2020-01-01 01:00:00                      272.794585   \n",
       "2020-01-01 02:00:00                      213.760548   \n",
       "2020-01-01 03:00:00                      189.206165   \n",
       "2020-01-01 04:00:00                      172.814084   \n",
       "\n",
       "                     82GEV05CQ005.XQ01 Ras Al-Khair   \n",
       "Date                                                  \n",
       "2020-01-01 00:00:00                       -0.001308  \\\n",
       "2020-01-01 01:00:00                       -0.001683   \n",
       "2020-01-01 02:00:00                       -0.001188   \n",
       "2020-01-01 03:00:00                       -0.001698   \n",
       "2020-01-01 04:00:00                       -0.001200   \n",
       "\n",
       "                     82GEV05CQ006.XQ01 Ras Al-Khair   \n",
       "Date                                                  \n",
       "2020-01-01 00:00:00                    60522.442833  \\\n",
       "2020-01-01 01:00:00                    60412.080857   \n",
       "2020-01-01 02:00:00                    60237.838714   \n",
       "2020-01-01 03:00:00                    60625.976313   \n",
       "2020-01-01 04:00:00                    60593.791267   \n",
       "\n",
       "                     82GEV05CQ007.XQ01 Ras Al-Khair   \n",
       "Date                                                  \n",
       "2020-01-01 00:00:00                        6.340481  \\\n",
       "2020-01-01 01:00:00                        6.333336   \n",
       "2020-01-01 02:00:00                        6.336653   \n",
       "2020-01-01 03:00:00                        6.335094   \n",
       "2020-01-01 04:00:00                        6.331321   \n",
       "\n",
       "                     82GEV05CQ008.XQ01 Ras Al-Khair  \n",
       "Date                                                 \n",
       "2020-01-01 00:00:00                        3.564636  \n",
       "2020-01-01 01:00:00                             NaN  \n",
       "2020-01-01 02:00:00                             NaN  \n",
       "2020-01-01 03:00:00                             NaN  \n",
       "2020-01-01 04:00:00                             NaN  \n",
       "\n",
       "[5 rows x 129 columns]"
      ]
     },
     "execution_count": 28,
     "metadata": {},
     "output_type": "execute_result"
    }
   ],
   "source": [
    "df = de.load_data('./data/SWCC_sample_1000.csv', parse_dates=True, index_col=0)\n",
    "df.head()"
   ]
  },
  {
   "cell_type": "code",
   "execution_count": null,
   "metadata": {},
   "outputs": [
    {
     "data": {
      "text/html": [
       "<div>\n",
       "<style scoped>\n",
       "    .dataframe tbody tr th:only-of-type {\n",
       "        vertical-align: middle;\n",
       "    }\n",
       "\n",
       "    .dataframe tbody tr th {\n",
       "        vertical-align: top;\n",
       "    }\n",
       "\n",
       "    .dataframe thead th {\n",
       "        text-align: right;\n",
       "    }\n",
       "</style>\n",
       "<table border=\"1\" class=\"dataframe\">\n",
       "  <thead>\n",
       "    <tr style=\"text-align: right;\">\n",
       "      <th></th>\n",
       "      <th>80GAF30CP001.XQ01 Ras Al-Khair</th>\n",
       "      <th>80GAF30CP002.XQ01 Ras Al-Khair</th>\n",
       "      <th>80GAF30CQ001.XQ01 Ras Al-Khair</th>\n",
       "      <th>80GAF30CQ002.XQ01 Ras Al-Khair</th>\n",
       "      <th>80GAF30CQ003.XQ01 Ras Al-Khair</th>\n",
       "      <th>80GAF30CQ004.XQ01 Ras Al-Khair</th>\n",
       "      <th>80GAF30CQ005.XQ01 Ras Al-Khair</th>\n",
       "      <th>80GAF30CQ006.XQ01 Ras Al-Khair</th>\n",
       "      <th>80GAF30CT001.XQ01 Ras Al-Khair</th>\n",
       "      <th>80GAF30CT002.XQ01 Ras Al-Khair</th>\n",
       "      <th>...</th>\n",
       "      <th>82GEV00CP001.XV03 Ras Al-Khair</th>\n",
       "      <th>82GEV00CQ001.XQ01 Ras Al-Khair</th>\n",
       "      <th>82GEV00CT001.XQ01 Ras Al-Khair</th>\n",
       "      <th>82GEV05CQ001.XQ01 Ras Al-Khair</th>\n",
       "      <th>82GEV05CQ002.XQ01 Ras Al-Khair</th>\n",
       "      <th>82GEV05CQ003.XQ01 Ras Al-Khair</th>\n",
       "      <th>82GEV05CQ005.XQ01 Ras Al-Khair</th>\n",
       "      <th>82GEV05CQ006.XQ01 Ras Al-Khair</th>\n",
       "      <th>82GEV05CQ007.XQ01 Ras Al-Khair</th>\n",
       "      <th>82GEV05CQ008.XQ01 Ras Al-Khair</th>\n",
       "    </tr>\n",
       "    <tr>\n",
       "      <th>Date</th>\n",
       "      <th></th>\n",
       "      <th></th>\n",
       "      <th></th>\n",
       "      <th></th>\n",
       "      <th></th>\n",
       "      <th></th>\n",
       "      <th></th>\n",
       "      <th></th>\n",
       "      <th></th>\n",
       "      <th></th>\n",
       "      <th></th>\n",
       "      <th></th>\n",
       "      <th></th>\n",
       "      <th></th>\n",
       "      <th></th>\n",
       "      <th></th>\n",
       "      <th></th>\n",
       "      <th></th>\n",
       "      <th></th>\n",
       "      <th></th>\n",
       "      <th></th>\n",
       "    </tr>\n",
       "  </thead>\n",
       "  <tbody>\n",
       "    <tr>\n",
       "      <th>2020-01-01 01:00:00</th>\n",
       "      <td>0.009931</td>\n",
       "      <td>0.011427</td>\n",
       "      <td>-0.000085</td>\n",
       "      <td>NaN</td>\n",
       "      <td>0.071447</td>\n",
       "      <td>-0.068651</td>\n",
       "      <td>-0.000579</td>\n",
       "      <td>0.000796</td>\n",
       "      <td>-0.057656</td>\n",
       "      <td>-0.061875</td>\n",
       "      <td>...</td>\n",
       "      <td>-0.002021</td>\n",
       "      <td>-0.000011</td>\n",
       "      <td>-0.059462</td>\n",
       "      <td>NaN</td>\n",
       "      <td>0.002613</td>\n",
       "      <td>-249.181644</td>\n",
       "      <td>-0.000375</td>\n",
       "      <td>-110.361976</td>\n",
       "      <td>-0.007145</td>\n",
       "      <td>NaN</td>\n",
       "    </tr>\n",
       "    <tr>\n",
       "      <th>2020-01-01 02:00:00</th>\n",
       "      <td>-0.001529</td>\n",
       "      <td>-0.000877</td>\n",
       "      <td>0.000128</td>\n",
       "      <td>NaN</td>\n",
       "      <td>-0.166129</td>\n",
       "      <td>-0.006957</td>\n",
       "      <td>-0.004392</td>\n",
       "      <td>NaN</td>\n",
       "      <td>-0.035471</td>\n",
       "      <td>-0.029731</td>\n",
       "      <td>...</td>\n",
       "      <td>-0.002716</td>\n",
       "      <td>0.000037</td>\n",
       "      <td>-0.089996</td>\n",
       "      <td>NaN</td>\n",
       "      <td>0.020705</td>\n",
       "      <td>-59.034037</td>\n",
       "      <td>0.000495</td>\n",
       "      <td>-174.242143</td>\n",
       "      <td>0.003317</td>\n",
       "      <td>NaN</td>\n",
       "    </tr>\n",
       "    <tr>\n",
       "      <th>2020-01-01 03:00:00</th>\n",
       "      <td>-0.001217</td>\n",
       "      <td>-0.001850</td>\n",
       "      <td>-0.000075</td>\n",
       "      <td>NaN</td>\n",
       "      <td>0.153609</td>\n",
       "      <td>0.237906</td>\n",
       "      <td>-0.004132</td>\n",
       "      <td>NaN</td>\n",
       "      <td>-0.002500</td>\n",
       "      <td>-0.002143</td>\n",
       "      <td>...</td>\n",
       "      <td>-0.002041</td>\n",
       "      <td>0.000006</td>\n",
       "      <td>-0.033754</td>\n",
       "      <td>NaN</td>\n",
       "      <td>-0.023391</td>\n",
       "      <td>-24.554383</td>\n",
       "      <td>-0.000510</td>\n",
       "      <td>388.137598</td>\n",
       "      <td>-0.001559</td>\n",
       "      <td>NaN</td>\n",
       "    </tr>\n",
       "    <tr>\n",
       "      <th>2020-01-01 04:00:00</th>\n",
       "      <td>-0.013649</td>\n",
       "      <td>-0.012440</td>\n",
       "      <td>0.000107</td>\n",
       "      <td>NaN</td>\n",
       "      <td>-0.022608</td>\n",
       "      <td>0.000372</td>\n",
       "      <td>-0.005052</td>\n",
       "      <td>NaN</td>\n",
       "      <td>-0.009644</td>\n",
       "      <td>-0.004286</td>\n",
       "      <td>...</td>\n",
       "      <td>0.006293</td>\n",
       "      <td>-0.000009</td>\n",
       "      <td>0.050628</td>\n",
       "      <td>NaN</td>\n",
       "      <td>-0.000070</td>\n",
       "      <td>-16.392081</td>\n",
       "      <td>0.000498</td>\n",
       "      <td>-32.185046</td>\n",
       "      <td>-0.003773</td>\n",
       "      <td>NaN</td>\n",
       "    </tr>\n",
       "    <tr>\n",
       "      <th>2020-01-01 05:00:00</th>\n",
       "      <td>0.007781</td>\n",
       "      <td>0.008071</td>\n",
       "      <td>-0.000169</td>\n",
       "      <td>NaN</td>\n",
       "      <td>0.114566</td>\n",
       "      <td>-0.097017</td>\n",
       "      <td>-0.002414</td>\n",
       "      <td>NaN</td>\n",
       "      <td>-0.012858</td>\n",
       "      <td>-0.018213</td>\n",
       "      <td>...</td>\n",
       "      <td>-0.002304</td>\n",
       "      <td>NaN</td>\n",
       "      <td>-0.059632</td>\n",
       "      <td>NaN</td>\n",
       "      <td>-0.000511</td>\n",
       "      <td>-8.774637</td>\n",
       "      <td>-0.000244</td>\n",
       "      <td>-108.133917</td>\n",
       "      <td>-0.005497</td>\n",
       "      <td>NaN</td>\n",
       "    </tr>\n",
       "  </tbody>\n",
       "</table>\n",
       "<p>5 rows × 129 columns</p>\n",
       "</div>"
      ],
      "text/plain": [
       "                     80GAF30CP001.XQ01 Ras Al-Khair   \n",
       "Date                                                  \n",
       "2020-01-01 01:00:00                        0.009931  \\\n",
       "2020-01-01 02:00:00                       -0.001529   \n",
       "2020-01-01 03:00:00                       -0.001217   \n",
       "2020-01-01 04:00:00                       -0.013649   \n",
       "2020-01-01 05:00:00                        0.007781   \n",
       "\n",
       "                     80GAF30CP002.XQ01 Ras Al-Khair   \n",
       "Date                                                  \n",
       "2020-01-01 01:00:00                        0.011427  \\\n",
       "2020-01-01 02:00:00                       -0.000877   \n",
       "2020-01-01 03:00:00                       -0.001850   \n",
       "2020-01-01 04:00:00                       -0.012440   \n",
       "2020-01-01 05:00:00                        0.008071   \n",
       "\n",
       "                     80GAF30CQ001.XQ01 Ras Al-Khair   \n",
       "Date                                                  \n",
       "2020-01-01 01:00:00                       -0.000085  \\\n",
       "2020-01-01 02:00:00                        0.000128   \n",
       "2020-01-01 03:00:00                       -0.000075   \n",
       "2020-01-01 04:00:00                        0.000107   \n",
       "2020-01-01 05:00:00                       -0.000169   \n",
       "\n",
       "                     80GAF30CQ002.XQ01 Ras Al-Khair   \n",
       "Date                                                  \n",
       "2020-01-01 01:00:00                             NaN  \\\n",
       "2020-01-01 02:00:00                             NaN   \n",
       "2020-01-01 03:00:00                             NaN   \n",
       "2020-01-01 04:00:00                             NaN   \n",
       "2020-01-01 05:00:00                             NaN   \n",
       "\n",
       "                     80GAF30CQ003.XQ01 Ras Al-Khair   \n",
       "Date                                                  \n",
       "2020-01-01 01:00:00                        0.071447  \\\n",
       "2020-01-01 02:00:00                       -0.166129   \n",
       "2020-01-01 03:00:00                        0.153609   \n",
       "2020-01-01 04:00:00                       -0.022608   \n",
       "2020-01-01 05:00:00                        0.114566   \n",
       "\n",
       "                     80GAF30CQ004.XQ01 Ras Al-Khair   \n",
       "Date                                                  \n",
       "2020-01-01 01:00:00                       -0.068651  \\\n",
       "2020-01-01 02:00:00                       -0.006957   \n",
       "2020-01-01 03:00:00                        0.237906   \n",
       "2020-01-01 04:00:00                        0.000372   \n",
       "2020-01-01 05:00:00                       -0.097017   \n",
       "\n",
       "                     80GAF30CQ005.XQ01 Ras Al-Khair   \n",
       "Date                                                  \n",
       "2020-01-01 01:00:00                       -0.000579  \\\n",
       "2020-01-01 02:00:00                       -0.004392   \n",
       "2020-01-01 03:00:00                       -0.004132   \n",
       "2020-01-01 04:00:00                       -0.005052   \n",
       "2020-01-01 05:00:00                       -0.002414   \n",
       "\n",
       "                     80GAF30CQ006.XQ01 Ras Al-Khair   \n",
       "Date                                                  \n",
       "2020-01-01 01:00:00                        0.000796  \\\n",
       "2020-01-01 02:00:00                             NaN   \n",
       "2020-01-01 03:00:00                             NaN   \n",
       "2020-01-01 04:00:00                             NaN   \n",
       "2020-01-01 05:00:00                             NaN   \n",
       "\n",
       "                     80GAF30CT001.XQ01 Ras Al-Khair   \n",
       "Date                                                  \n",
       "2020-01-01 01:00:00                       -0.057656  \\\n",
       "2020-01-01 02:00:00                       -0.035471   \n",
       "2020-01-01 03:00:00                       -0.002500   \n",
       "2020-01-01 04:00:00                       -0.009644   \n",
       "2020-01-01 05:00:00                       -0.012858   \n",
       "\n",
       "                     80GAF30CT002.XQ01 Ras Al-Khair  ...   \n",
       "Date                                                 ...   \n",
       "2020-01-01 01:00:00                       -0.061875  ...  \\\n",
       "2020-01-01 02:00:00                       -0.029731  ...   \n",
       "2020-01-01 03:00:00                       -0.002143  ...   \n",
       "2020-01-01 04:00:00                       -0.004286  ...   \n",
       "2020-01-01 05:00:00                       -0.018213  ...   \n",
       "\n",
       "                     82GEV00CP001.XV03 Ras Al-Khair   \n",
       "Date                                                  \n",
       "2020-01-01 01:00:00                       -0.002021  \\\n",
       "2020-01-01 02:00:00                       -0.002716   \n",
       "2020-01-01 03:00:00                       -0.002041   \n",
       "2020-01-01 04:00:00                        0.006293   \n",
       "2020-01-01 05:00:00                       -0.002304   \n",
       "\n",
       "                     82GEV00CQ001.XQ01 Ras Al-Khair   \n",
       "Date                                                  \n",
       "2020-01-01 01:00:00                       -0.000011  \\\n",
       "2020-01-01 02:00:00                        0.000037   \n",
       "2020-01-01 03:00:00                        0.000006   \n",
       "2020-01-01 04:00:00                       -0.000009   \n",
       "2020-01-01 05:00:00                             NaN   \n",
       "\n",
       "                     82GEV00CT001.XQ01 Ras Al-Khair   \n",
       "Date                                                  \n",
       "2020-01-01 01:00:00                       -0.059462  \\\n",
       "2020-01-01 02:00:00                       -0.089996   \n",
       "2020-01-01 03:00:00                       -0.033754   \n",
       "2020-01-01 04:00:00                        0.050628   \n",
       "2020-01-01 05:00:00                       -0.059632   \n",
       "\n",
       "                     82GEV05CQ001.XQ01 Ras Al-Khair   \n",
       "Date                                                  \n",
       "2020-01-01 01:00:00                             NaN  \\\n",
       "2020-01-01 02:00:00                             NaN   \n",
       "2020-01-01 03:00:00                             NaN   \n",
       "2020-01-01 04:00:00                             NaN   \n",
       "2020-01-01 05:00:00                             NaN   \n",
       "\n",
       "                     82GEV05CQ002.XQ01 Ras Al-Khair   \n",
       "Date                                                  \n",
       "2020-01-01 01:00:00                        0.002613  \\\n",
       "2020-01-01 02:00:00                        0.020705   \n",
       "2020-01-01 03:00:00                       -0.023391   \n",
       "2020-01-01 04:00:00                       -0.000070   \n",
       "2020-01-01 05:00:00                       -0.000511   \n",
       "\n",
       "                     82GEV05CQ003.XQ01 Ras Al-Khair   \n",
       "Date                                                  \n",
       "2020-01-01 01:00:00                     -249.181644  \\\n",
       "2020-01-01 02:00:00                      -59.034037   \n",
       "2020-01-01 03:00:00                      -24.554383   \n",
       "2020-01-01 04:00:00                      -16.392081   \n",
       "2020-01-01 05:00:00                       -8.774637   \n",
       "\n",
       "                     82GEV05CQ005.XQ01 Ras Al-Khair   \n",
       "Date                                                  \n",
       "2020-01-01 01:00:00                       -0.000375  \\\n",
       "2020-01-01 02:00:00                        0.000495   \n",
       "2020-01-01 03:00:00                       -0.000510   \n",
       "2020-01-01 04:00:00                        0.000498   \n",
       "2020-01-01 05:00:00                       -0.000244   \n",
       "\n",
       "                     82GEV05CQ006.XQ01 Ras Al-Khair   \n",
       "Date                                                  \n",
       "2020-01-01 01:00:00                     -110.361976  \\\n",
       "2020-01-01 02:00:00                     -174.242143   \n",
       "2020-01-01 03:00:00                      388.137598   \n",
       "2020-01-01 04:00:00                      -32.185046   \n",
       "2020-01-01 05:00:00                     -108.133917   \n",
       "\n",
       "                     82GEV05CQ007.XQ01 Ras Al-Khair   \n",
       "Date                                                  \n",
       "2020-01-01 01:00:00                       -0.007145  \\\n",
       "2020-01-01 02:00:00                        0.003317   \n",
       "2020-01-01 03:00:00                       -0.001559   \n",
       "2020-01-01 04:00:00                       -0.003773   \n",
       "2020-01-01 05:00:00                       -0.005497   \n",
       "\n",
       "                     82GEV05CQ008.XQ01 Ras Al-Khair  \n",
       "Date                                                 \n",
       "2020-01-01 01:00:00                             NaN  \n",
       "2020-01-01 02:00:00                             NaN  \n",
       "2020-01-01 03:00:00                             NaN  \n",
       "2020-01-01 04:00:00                             NaN  \n",
       "2020-01-01 05:00:00                             NaN  \n",
       "\n",
       "[5 rows x 129 columns]"
      ]
     },
     "execution_count": 29,
     "metadata": {},
     "output_type": "execute_result"
    }
   ],
   "source": [
    "fe = FeatureEngineering(df)\n",
    "df = fe.transform_gain(df)\n",
    "df.head()"
   ]
  },
  {
   "cell_type": "markdown",
   "metadata": {},
   "source": [
    "### Test DataAnalysis Module"
   ]
  },
  {
   "cell_type": "markdown",
   "metadata": {},
   "source": [
    "correlation_analysis"
   ]
  },
  {
   "cell_type": "code",
   "execution_count": 2,
   "metadata": {},
   "outputs": [
    {
     "data": {
      "application/vnd.plotly.v1+json": {
       "config": {
        "plotlyServerURL": "https://plot.ly"
       },
       "data": [
        {
         "colorscale": [
          [
           0,
           "rgb(165,0,38)"
          ],
          [
           0.1,
           "rgb(215,48,39)"
          ],
          [
           0.2,
           "rgb(244,109,67)"
          ],
          [
           0.3,
           "rgb(253,174,97)"
          ],
          [
           0.4,
           "rgb(254,224,144)"
          ],
          [
           0.5,
           "rgb(255,255,191)"
          ],
          [
           0.6,
           "rgb(224,243,248)"
          ],
          [
           0.7,
           "rgb(171,217,233)"
          ],
          [
           0.8,
           "rgb(116,173,209)"
          ],
          [
           0.9,
           "rgb(69,117,180)"
          ],
          [
           1,
           "rgb(49,54,149)"
          ]
         ],
         "type": "heatmap",
         "x": [
          "OXO-5FI635C Augusta",
          "OXO-5FI661A Augusta",
          "OXO-5FI696 Augusta",
          "OXO-5FIC132 Augusta",
          "OXO-5FIC600 Augusta",
          "OXO-5FIC601 Augusta",
          "OXO-5FIC602 Augusta",
          "OXO-5FIC606C Augusta",
          "OXO-5FIC609B Augusta",
          "OXO-5FIC611A Augusta",
          "OXO-5FIC612A Augusta",
          "OXO-5FIC612B Augusta",
          "OXO-5FIC618A Augusta",
          "OXO-5FIC618B Augusta",
          "OXO-5FIC618C Augusta",
          "OXO-5FIC618D Augusta",
          "OXO-5FIC622A Augusta",
          "OXO-5FIC622B Augusta",
          "OXO-5FIC622C Augusta",
          "OXO-5FIC636A Augusta",
          "OXO-5FIC636B Augusta",
          "OXO-5FIC636C Augusta",
          "OXO-5FQI691B Augusta",
          "OXO-5LI633B Augusta",
          "OXO-5LI650F Augusta",
          "OXO-5LI651E Augusta",
          "OXO-5LI651F Augusta",
          "OXO-5LI652E Augusta",
          "OXO-5LI653E Augusta",
          "OXO-5LI653F Augusta",
          "OXO-5LI654E Augusta",
          "OXO-5LI655F Augusta",
          "OXO-5LI656F Augusta",
          "OXO-5LI657E Augusta",
          "OXO-5LI657F Augusta",
          "OXO-5LI658E Augusta",
          "OXO-5LI658F Augusta",
          "OXO-5PIC605A Augusta",
          "OXO-5RIC606_Y Augusta",
          "OXO-5TIC002 Augusta",
          "OXO-5TIC601 Augusta",
          "OXO-5TIC602 Augusta",
          "OXO-5TIC603 Augusta",
          "OXO-5TIC604 Augusta",
          "OXO-5TIC605 Augusta",
          "OXO-5TIC606 Augusta",
          "OXO-5TIC607 Augusta",
          "OXO-5TIC659 Augusta",
          "OXO-_5FI658A Augusta",
          "OXO-_5FI659A Augusta",
          "OXO-_5FI660A Augusta",
          "OXO-_5FI662A Augusta"
         ],
         "y": [
          "OXO-5FI635C Augusta",
          "OXO-5FI661A Augusta",
          "OXO-5FI696 Augusta",
          "OXO-5FIC132 Augusta",
          "OXO-5FIC600 Augusta",
          "OXO-5FIC601 Augusta",
          "OXO-5FIC602 Augusta",
          "OXO-5FIC606C Augusta",
          "OXO-5FIC609B Augusta",
          "OXO-5FIC611A Augusta",
          "OXO-5FIC612A Augusta",
          "OXO-5FIC612B Augusta",
          "OXO-5FIC618A Augusta",
          "OXO-5FIC618B Augusta",
          "OXO-5FIC618C Augusta",
          "OXO-5FIC618D Augusta",
          "OXO-5FIC622A Augusta",
          "OXO-5FIC622B Augusta",
          "OXO-5FIC622C Augusta",
          "OXO-5FIC636A Augusta",
          "OXO-5FIC636B Augusta",
          "OXO-5FIC636C Augusta",
          "OXO-5FQI691B Augusta",
          "OXO-5LI633B Augusta",
          "OXO-5LI650F Augusta",
          "OXO-5LI651E Augusta",
          "OXO-5LI651F Augusta",
          "OXO-5LI652E Augusta",
          "OXO-5LI653E Augusta",
          "OXO-5LI653F Augusta",
          "OXO-5LI654E Augusta",
          "OXO-5LI655F Augusta",
          "OXO-5LI656F Augusta",
          "OXO-5LI657E Augusta",
          "OXO-5LI657F Augusta",
          "OXO-5LI658E Augusta",
          "OXO-5LI658F Augusta",
          "OXO-5PIC605A Augusta",
          "OXO-5RIC606_Y Augusta",
          "OXO-5TIC002 Augusta",
          "OXO-5TIC601 Augusta",
          "OXO-5TIC602 Augusta",
          "OXO-5TIC603 Augusta",
          "OXO-5TIC604 Augusta",
          "OXO-5TIC605 Augusta",
          "OXO-5TIC606 Augusta",
          "OXO-5TIC607 Augusta",
          "OXO-5TIC659 Augusta",
          "OXO-_5FI658A Augusta",
          "OXO-_5FI659A Augusta",
          "OXO-_5FI660A Augusta",
          "OXO-_5FI662A Augusta"
         ],
         "z": [
          [
           1,
           0.4414826812687446,
           0.7003829225865948,
           -0.09770901267319432,
           0.2141529712484165,
           0.3621922438496711,
           0.37844473853707516,
           0.22233972849182598,
           -0.16629694457819702,
           0.20776166925186243,
           0.2610269931787004,
           0.7141788101241752,
           0.22696053257931034,
           0.5085307667345373,
           0.5331160469571733,
           -0.062492725316757876,
           0.004756151808536018,
           0.5362196490735319,
           0.7247733302792873,
           -0.3029505006721658,
           -0.1842697759877861,
           0.7904877093372964,
           -0.2199018758740184,
           0.3784862499667794,
           0.05993373576419612,
           0.22595624495736286,
           0.21923501484207647,
           -0.08617910405466034,
           -0.15355205586391596,
           -0.1444293575859865,
           -0.3285401347619252,
           0.2027841296808699,
           -0.20593648774849743,
           0.40805183861347655,
           0.06253562780446367,
           -0.107003541570143,
           0.04154968991265029,
           0.2615749736004077,
           0.19455819854978582,
           -0.1205812023568366,
           0.4428277467712431,
           -0.7047156520568504,
           -0.6068939498853365,
           -0.4928484472016879,
           -0.5410639737455973,
           -0.4189734825123146,
           -0.27050568648020684,
           -0.15329952467983954,
           0.464675366768897,
           0.43842416406585777,
           0.45396069730720584,
           0.4346073215157947
          ],
          [
           0.4414826812687446,
           1,
           0.23117734751668273,
           0.337796827491654,
           0.7728143782837121,
           0.8695608095260817,
           0.3733993486273109,
           -0.3342560256286869,
           -0.048815444357762194,
           -0.3538493301110084,
           0.07122051802048802,
           0.6721871573452728,
           0.49670298095361903,
           0.4938776198449454,
           0.48092484224940774,
           0.047040198150997414,
           -0.2243627601238142,
           0.854210684043184,
           0.2504205839349996,
           -0.3479892736763203,
           -0.2150708824876118,
           0.3445981255411294,
           -0.8561809182109006,
           0.8163440508252385,
           0.28569456378214014,
           0.8652257157940298,
           -0.06257646798172413,
           -0.17575646025028838,
           -0.7981405790548765,
           -0.8109642427267673,
           -0.6711572836882251,
           0.605561449527937,
           -0.8804319058113981,
           0.7090509284673311,
           -0.46896410642187186,
           0.1772566372382756,
           -0.7115050839404046,
           0.14449768750550676,
           -0.13869442063367785,
           0.08855116253389739,
           0.8422464915922679,
           -0.6597997594336275,
           -0.5390808245921211,
           -0.45953329858621395,
           -0.4808571096914125,
           0.0030201337732737943,
           0.050112646481159706,
           -0.12977816103539644,
           0.98799092783108,
           0.9919547085947872,
           0.9700313014062064,
           0.9852022737321363
          ],
          [
           0.7003829225865948,
           0.23117734751668273,
           1,
           0.09872945086168361,
           0.07822666480631114,
           0.14064725259257455,
           0.6185941355239304,
           0.3146178640444765,
           -0.29058252209027097,
           0.3125913968858476,
           0.30692128335784646,
           0.6807111028032568,
           0.2864882107902811,
           0.460725100011357,
           0.464599216235657,
           -0.058433377032091706,
           0.05532032075911816,
           0.31678148940156003,
           0.5487982724972762,
           -0.125468410405424,
           -0.1936417892955508,
           0.8284375531033299,
           -0.014250388005857841,
           0.16125812365834025,
           -0.19176341918265216,
           0.02393373496879415,
           0.22485986740517425,
           -0.04480552616248726,
           -0.026488691840300508,
           -0.01413000478006902,
           0.013590670336973303,
           0.06827505021988656,
           -0.020292004109682276,
           0.3335619143363932,
           0.2482828875489686,
           -0.3786592852171905,
           0.22385624574964477,
           0.08179336205943945,
           0.11756151457759842,
           0.01944330521881814,
           0.23269935787212515,
           -0.5461134714485364,
           -0.5448651001293553,
           -0.400299411862128,
           -0.4646166445575215,
           -0.38788161189988424,
           -0.39456196925956527,
           0.03265529989544072,
           0.26275449135292983,
           0.23271352940373405,
           0.256418952158167,
           0.23645520664917397
          ],
          [
           -0.09770901267319432,
           0.337796827491654,
           0.09872945086168361,
           1,
           0.4751788447905892,
           0.30315784209926155,
           0.3880491529105042,
           -0.23431489597353977,
           -0.1737777268123152,
           -0.19933347529869608,
           0.03507532106262877,
           0.2917159692863517,
           0.6594879025447222,
           0.166539196708448,
           0.14975693126021475,
           -0.10867368001072772,
           -0.14968240027872454,
           0.07084771232219099,
           -0.3140575941250439,
           0.0984828382100451,
           0.018139466816837972,
           -0.17125717040099217,
           -0.42748837677675916,
           0.1858415219662789,
           -0.1599090637174867,
           0.38382453719839754,
           -0.11716065823993115,
           0.014030138469574363,
           -0.5422781624528515,
           -0.5483175962128479,
           0.22430806736084863,
           0.24618201780429214,
           -0.4505541580379567,
           0.27483779212791354,
           -0.30327709299238886,
           -0.2292967219552438,
           -0.32566664200356094,
           -0.12601457040753453,
           -0.5579318763189819,
           0.06872703279955929,
           0.2573974864273748,
           -0.11147973300938452,
           -0.281781260149683,
           0.059208481869963636,
           -0.018515882576147127,
           0.275702979620619,
           0.015061900820708997,
           0.09346255972115027,
           0.3256698986020395,
           0.33118578475413274,
           0.33373788184882597,
           0.3746903773136311
          ],
          [
           0.2141529712484165,
           0.7728143782837121,
           0.07822666480631114,
           0.4751788447905892,
           1,
           0.8320152356845535,
           0.3316667979092914,
           -0.36957644659300315,
           0.059157253355311336,
           -0.42944339883309113,
           0.10939777547838637,
           0.4742061998578471,
           0.4145912403364144,
           0.12525617023904773,
           0.3608683281937439,
           -0.011984070190610102,
           -0.25162435667971733,
           0.6189572829972647,
           0.07892403460889796,
           -0.2840637629998556,
           -0.12496567794392886,
           0.07891017623787921,
           -0.8166429131051002,
           0.7644015290955376,
           0.2440410324350327,
           0.8384489479694496,
           -0.19014254264109354,
           -0.08653914086829968,
           -0.8336246353959819,
           -0.8510542390686207,
           -0.4983292698171103,
           0.444603045758992,
           -0.861874526405821,
           0.6098345951054783,
           -0.4952755144507941,
           0.23395636163865,
           -0.7608642817583354,
           0.12176284625610861,
           -0.37493953583218537,
           0.06777089960680346,
           0.7662142582151779,
           -0.47316996957494833,
           -0.22137890620152964,
           -0.3455326601631434,
           -0.2845708829079101,
           0.21809451558142715,
           0.2443399718719874,
           -0.10275092955517934,
           0.7619805595049307,
           0.7612635687630851,
           0.7589704150341507,
           0.7569010311184672
          ],
          [
           0.3621922438496711,
           0.8695608095260817,
           0.14064725259257455,
           0.30315784209926155,
           0.8320152356845535,
           1,
           0.220016746013484,
           -0.36749980390826037,
           0.17789694955112234,
           -0.3850436096475312,
           0.0863540318291885,
           0.5057743245362613,
           0.2984622769213806,
           0.31619435879709556,
           0.2978411152288302,
           0.060107718111146714,
           -0.2289610302445877,
           0.7993349077770653,
           0.17351597437975397,
           -0.34715718210328217,
           -0.17177745139456765,
           0.28799894829199846,
           -0.8619727726873936,
           0.9445000435031786,
           0.2875226051299218,
           0.8746024222999329,
           -0.10155364618724731,
           -0.1701677790378368,
           -0.797046147669325,
           -0.8136172519259826,
           -0.6849471203879446,
           0.5887570915306988,
           -0.8802925096085169,
           0.6839512997358385,
           -0.5091349142760346,
           0.22951416183303608,
           -0.7596330356509999,
           0.0721183396997751,
           -0.08529378741870655,
           0.0409128189338685,
           0.9662064049232022,
           -0.7239056980208877,
           -0.40249899158437913,
           -0.5783683772244786,
           -0.5151869666057846,
           0.013856378209483851,
           0.16759691199647675,
           -0.025667532491974655,
           0.8616881876276632,
           0.8724513738356279,
           0.8465445563159433,
           0.8740395555401183
          ],
          [
           0.37844473853707516,
           0.3733993486273109,
           0.6185941355239304,
           0.3880491529105042,
           0.3316667979092914,
           0.220016746013484,
           1,
           0.01192766108777464,
           -0.4411791896523419,
           0.018998282415615995,
           0.2226141011848797,
           0.7505336946629788,
           0.5019548155365297,
           0.4460042178792554,
           0.4517993765632016,
           -0.06809047773413604,
           -0.11387422211327508,
           0.2899285472730787,
           0.28726581421172886,
           -0.16340621103955302,
           -0.2912009083442445,
           0.5145328624077459,
           -0.24193294068790422,
           0.21037487101200722,
           0.11610299348306928,
           0.2828302998906941,
           -0.013563142716625766,
           -0.0781002044254733,
           -0.27772528475995195,
           -0.2773983956856007,
           -0.08061623074378327,
           0.21591340558491123,
           -0.2868438443791955,
           0.4604405260400085,
           0.03622254869780644,
           -0.08199011273553926,
           -0.08043305979520962,
           -0.0452541490536444,
           -0.16524841853711425,
           0.10895696356020015,
           0.22425438699260788,
           -0.3703806729403833,
           -0.3921355968711941,
           -0.2383347349883288,
           -0.2864968035096546,
           -0.12152242076963997,
           -0.3052866473832048,
           0.05892340896629948,
           0.40741138574721814,
           0.35966456867563795,
           0.4133712056903425,
           0.3856095415696895
          ],
          [
           0.22233972849182598,
           -0.3342560256286869,
           0.3146178640444765,
           -0.23431489597353977,
           -0.36957644659300315,
           -0.36749980390826037,
           0.01192766108777464,
           1,
           -0.3795490681642183,
           0.9095208049645279,
           0.5893261772234228,
           -0.04928221467087347,
           -0.21090824524384488,
           -0.28732597225762485,
           -0.0008630233868542777,
           -0.15162105754356,
           0.425136437251528,
           -0.19365527686840245,
           0.2905203617229626,
           0.4426852025363019,
           0.4928326069187983,
           0.12723313649413975,
           0.27921573141951683,
           -0.3870879583643352,
           -0.25370989603342153,
           -0.34965774972991365,
           0.7179261175731574,
           -0.293262418182548,
           0.16758988988762877,
           0.2311926612930153,
           0.285321390613791,
           -0.40986503106540617,
           0.40980648840078737,
           -0.21691200961996304,
           0.6294314418616316,
           -0.6438118042197783,
           0.7643988477783444,
           0.07880659083104036,
           -0.10675299516822023,
           -0.10812769736588333,
           -0.3426455604783884,
           0.06083391274602953,
           -0.033630810305745704,
           0.3027593180490482,
           0.26970251761819075,
           0.09498232716342714,
           0.07819229697991054,
           -0.03676965316995665,
           -0.37777775704307087,
           -0.345886721714082,
           -0.32862735664040127,
           -0.3239954601359754
          ],
          [
           -0.16629694457819702,
           -0.048815444357762194,
           -0.29058252209027097,
           -0.1737777268123152,
           0.059157253355311336,
           0.17789694955112234,
           -0.4411791896523419,
           -0.3795490681642183,
           1,
           -0.425592713762407,
           -0.3224175015678227,
           -0.31907749089486825,
           -0.24664296690158893,
           -0.15890167915211664,
           -0.4293856471280326,
           0.22838331076000526,
           -0.05463494752803951,
           0.06302395219248054,
           -0.1469144937457641,
           0.0784137486150239,
           0.03667975399578838,
           -0.10547549322274691,
           -0.022774110148220058,
           0.28291313768231924,
           0.010316394612226816,
           0.07302538044110608,
           -0.5119355338563698,
           0.017416663596463353,
           0.042063833137171096,
           0.005389163098228052,
           -0.1349641364711133,
           0.31815506620475853,
           -0.09930740862316517,
           0.029682726389527122,
           -0.3622074557068243,
           0.2962313848292547,
           -0.33861548961368493,
           0.07105565610243669,
           0.047987370855791245,
           -0.07885374370839573,
           0.19881257723381013,
           0.0697162143991923,
           0.30372275286710804,
           -0.05297183859160186,
           0.04183329488650877,
           0.08736210429938206,
           0.268207513886224,
           -0.08857434284312769,
           -0.042922592968312245,
           -0.06529650316827619,
           0.020474885616140883,
           -0.013629760762809784
          ],
          [
           0.20776166925186243,
           -0.3538493301110084,
           0.3125913968858476,
           -0.19933347529869608,
           -0.42944339883309113,
           -0.3850436096475312,
           0.018998282415615995,
           0.9095208049645279,
           -0.425592713762407,
           1,
           0.613800801888602,
           -0.03883199902097391,
           -0.19099868002793968,
           -0.19417897635916798,
           -0.05796264138601975,
           -0.10153554507221128,
           0.4022329235299358,
           -0.20294370792651625,
           0.3136518998348543,
           0.43272001532759297,
           0.46808693673584967,
           0.14009149389876802,
           0.3096445626021819,
           -0.42509538407143627,
           -0.21793919852923072,
           -0.40748047665733805,
           0.7840962486262877,
           -0.3589985199713124,
           0.23131223264923478,
           0.29677256742170777,
           0.318455237460504,
           -0.38603659361887854,
           0.45976935594759555,
           -0.2552900371295408,
           0.7660735293876222,
           -0.678628503969341,
           0.8316320980439044,
           0.1144453697288212,
           0.026584341231456785,
           -0.11939729096043901,
           -0.3243196478051331,
           0.026929751892081782,
           -0.1402174299968339,
           0.20722130823991924,
           0.14385117784743387,
           -0.016151381751182133,
           -0.04776099511560616,
           -0.03109984900299559,
           -0.39093294807491885,
           -0.3534241139890083,
           -0.36084173312423434,
           -0.3169607530666225
          ],
          [
           0.2610269931787004,
           0.07122051802048802,
           0.30692128335784646,
           0.03507532106262877,
           0.10939777547838637,
           0.0863540318291885,
           0.2226141011848797,
           0.5893261772234228,
           -0.3224175015678227,
           0.613800801888602,
           1,
           0.25923313978239076,
           -0.03645579083243997,
           -0.11076086625750592,
           0.09348321798030768,
           -0.04413569630811757,
           0.15699822091169788,
           0.18379684451421574,
           0.3687709709281529,
           0.2784126067340328,
           0.3148290361184177,
           0.23271523357691618,
           -0.1938902844183204,
           0.08178398821070249,
           0.07391333559715342,
           0.16132517299429208,
           0.5027000143596825,
           -0.3672500016908491,
           -0.2446226091716607,
           -0.20068783471779814,
           -0.12447646552382496,
           -0.03474830267172076,
           -0.08681916738097381,
           0.2691004194306373,
           0.367833678471725,
           -0.3274175722845943,
           0.2945709634963785,
           0.003128279078732747,
           -0.09539317454131478,
           -0.06364491369940393,
           0.08238396227379702,
           -0.3021216476963227,
           -0.29166602947612114,
           -0.05328980582697125,
           -0.06966154282152842,
           0.05605623224658736,
           0.015466157514794887,
           -0.024117642311391883,
           0.04161781417685988,
           0.060483025694186635,
           0.08695195468494671,
           0.08388040159796928
          ],
          [
           0.7141788101241752,
           0.6721871573452728,
           0.6807111028032568,
           0.2917159692863517,
           0.4742061998578471,
           0.5057743245362613,
           0.7505336946629788,
           -0.04928221467087347,
           -0.31907749089486825,
           -0.03883199902097391,
           0.25923313978239076,
           1,
           0.5556663194232384,
           0.7168216446020904,
           0.6012912050942052,
           -0.11556184591178603,
           -0.21752941292010858,
           0.6337377009428017,
           0.5076123730372414,
           -0.29991774046624875,
           -0.3283007513773715,
           0.7411125709543314,
           -0.4793516667763365,
           0.49657245035633196,
           0.1852136052252009,
           0.5069951691356914,
           0.02029927565663255,
           -0.09742138367741379,
           -0.4232027612577748,
           -0.4267106553203424,
           -0.4139676938292994,
           0.48502886570771353,
           -0.5075553840121899,
           0.696535711039831,
           -0.11950630545259976,
           -0.038288850300555705,
           -0.24677030573892642,
           0.13993633033233108,
           0.02575927034155566,
           0.1262425496628537,
           0.5493584841208181,
           -0.7309280216605277,
           -0.7637193717662246,
           -0.5114526247729946,
           -0.6072669747956112,
           -0.3280216392447192,
           -0.40906287523066037,
           -0.03874468766356489,
           0.6972623949759714,
           0.6643061885111726,
           0.696562142713749,
           0.6693831948147924
          ],
          [
           0.22696053257931034,
           0.49670298095361903,
           0.2864882107902811,
           0.6594879025447222,
           0.4145912403364144,
           0.2984622769213806,
           0.5019548155365297,
           -0.21090824524384488,
           -0.24664296690158893,
           -0.19099868002793968,
           -0.03645579083243997,
           0.5556663194232384,
           1,
           0.5373898725078106,
           0.656982739004896,
           -0.11953924913932029,
           -0.19168097328381623,
           0.22942044378679807,
           -0.13607933156172855,
           -0.20808425064590927,
           -0.1670010655455456,
           0.09125338495749992,
           -0.39856868441335175,
           0.2006701726708612,
           0.026367537442356877,
           0.3698896029409668,
           -0.08961958678224877,
           0.05624892386967336,
           -0.4634564177818595,
           -0.4688886642740263,
           0.07180147706161466,
           0.27085974559986814,
           -0.42902425731350974,
           0.22579919440578688,
           -0.30877229929368055,
           -0.132295840322955,
           -0.3039822884787075,
           0.029941812924220792,
           -0.4253208883752822,
           0.09158782896124389,
           0.2988479852444045,
           -0.2354172978951802,
           -0.5104684256799588,
           0.01627048302264725,
           -0.1385503512221843,
           0.1338910194157306,
           -0.042860577509348165,
           0.03095711948811848,
           0.46416595409863165,
           0.4797042704785202,
           0.4875930294199506,
           0.49344537867438587
          ],
          [
           0.5085307667345373,
           0.4938776198449454,
           0.460725100011357,
           0.166539196708448,
           0.12525617023904773,
           0.31619435879709556,
           0.4460042178792554,
           -0.28732597225762485,
           -0.15890167915211664,
           -0.19417897635916798,
           -0.11076086625750592,
           0.7168216446020904,
           0.5373898725078106,
           1,
           0.49194311628205706,
           0.014415894266053506,
           -0.2832494288268515,
           0.4522296834656979,
           0.34627081354663436,
           -0.30345360512935,
           -0.3924466808448131,
           0.6363500087944315,
           -0.19414829258607258,
           0.3131334339931956,
           0.1628831186038777,
           0.2322790791407923,
           -0.13307803113520633,
           -0.007507848356785927,
           -0.059655516012503775,
           -0.08114496056625439,
           -0.3034293773720504,
           0.5469111458127113,
           -0.2473204886052436,
           0.4833079411079604,
           -0.15458053783863948,
           0.036375859184356145,
           -0.19068771592203942,
           0.08058081958394865,
           0.3833754483392693,
           0.119058953611498,
           0.42472902059073947,
           -0.5674035738873647,
           -0.7532531475170241,
           -0.5249471161929427,
           -0.6791664957569902,
           -0.5398188675942834,
           -0.5476046671028453,
           -0.01968269990553925,
           0.5247326629711307,
           0.49763525078715526,
           0.4977380365957905,
           0.4994556054510806
          ],
          [
           0.5331160469571733,
           0.48092484224940774,
           0.464599216235657,
           0.14975693126021475,
           0.3608683281937439,
           0.2978411152288302,
           0.4517993765632016,
           -0.0008630233868542777,
           -0.4293856471280326,
           -0.05796264138601975,
           0.09348321798030768,
           0.6012912050942052,
           0.656982739004896,
           0.49194311628205706,
           1,
           -0.05691429208286658,
           -0.11539074593186295,
           0.3568255901511896,
           0.2905274930376705,
           -0.42697931084945934,
           -0.13631539691943315,
           0.3821119224341227,
           -0.3174025053261989,
           0.27745824670718083,
           0.16506770005122054,
           0.3066543338548578,
           -0.019381815233731812,
           0.08888494783273819,
           -0.3180733449767414,
           -0.3171753216719752,
           -0.21126187654660258,
           -0.020819902355821367,
           -0.3199602648184625,
           0.23969801228148807,
           -0.13041980046978718,
           0.06790533699068459,
           -0.15864993158490925,
           0.09998130403679474,
           -0.15714369722931076,
           0.049491388414579736,
           0.2993771696664394,
           -0.394403351661974,
           -0.42946401311306676,
           -0.1577228331017711,
           -0.23307710536073753,
           -0.06420824988781035,
           0.01895086499451645,
           -0.03727750991706393,
           0.47245220974656127,
           0.45126961163589513,
           0.47785498770347745,
           0.425547402889086
          ],
          [
           -0.062492725316757876,
           0.047040198150997414,
           -0.058433377032091706,
           -0.10867368001072772,
           -0.011984070190610102,
           0.060107718111146714,
           -0.06809047773413604,
           -0.15162105754356,
           0.22838331076000526,
           -0.10153554507221128,
           -0.04413569630811757,
           -0.11556184591178603,
           -0.11953924913932029,
           0.014415894266053506,
           -0.05691429208286658,
           1,
           0.19099738434470293,
           0.0797182253487357,
           0.036746317695578845,
           -0.028123706242424835,
           -0.004528026978859793,
           0.05273948547298754,
           -0.010027789122257724,
           0.10279532838792622,
           0.19914490868989987,
           0.023835173512963763,
           -0.19523723270348597,
           -0.2828029318004761,
           0.03860438079232171,
           0.021393615900998086,
           -0.12626032976997623,
           0.10345092131123589,
           -0.041773320021734596,
           0.07550230471108534,
           -0.031839338501985115,
           0.24160844826383185,
           -0.08585709514311196,
           0.16257779175673395,
           0.09683778589887922,
           -0.02584472678974163,
           0.09650350652230757,
           0.04897322201133545,
           0.13584344095030718,
           -0.04612034703192271,
           -0.013105901093836633,
           0.009334375310517387,
           0.22224776192461732,
           -0.08984907115110957,
           0.09575007735304741,
           0.03400516010461791,
           0.06644477730613253,
           0.08083910955880104
          ],
          [
           0.004756151808536018,
           -0.2243627601238142,
           0.05532032075911816,
           -0.14968240027872454,
           -0.25162435667971733,
           -0.2289610302445877,
           -0.11387422211327508,
           0.425136437251528,
           -0.05463494752803951,
           0.4022329235299358,
           0.15699822091169788,
           -0.21752941292010858,
           -0.19168097328381623,
           -0.2832494288268515,
           -0.11539074593186295,
           0.19099738434470293,
           1,
           -0.17596908002804448,
           0.0784823525875076,
           0.14207099178499488,
           0.22963561861398774,
           -0.02427884175046871,
           0.14923902464320007,
           -0.20542876479397823,
           -0.06335122951299078,
           -0.2008968032138835,
           0.26079865271629893,
           -0.1673070336509269,
           0.10977095110415926,
           0.1331569744496258,
           0.14597529480313523,
           -0.2731268409367747,
           0.21944451113689162,
           -0.19910422500176256,
           0.2586933481793425,
           -0.196668572521941,
           0.36253610306947515,
           -0.08675623566202093,
           -0.0975800565964253,
           -0.041130265434265505,
           -0.24799531476188466,
           0.15941346660527955,
           0.1769011727621084,
           0.29609983062583334,
           0.31992779537761695,
           0.17674542157719764,
           0.21259502965658042,
           0.0788293467763599,
           -0.22064120032399404,
           -0.2287216696408223,
           -0.2141546969061736,
           -0.23443659209507647
          ],
          [
           0.5362196490735319,
           0.854210684043184,
           0.31678148940156003,
           0.07084771232219099,
           0.6189572829972647,
           0.7993349077770653,
           0.2899285472730787,
           -0.19365527686840245,
           0.06302395219248054,
           -0.20294370792651625,
           0.18379684451421574,
           0.6337377009428017,
           0.22942044378679807,
           0.4522296834656979,
           0.3568255901511896,
           0.0797182253487357,
           -0.17596908002804448,
           1,
           0.5654239098809969,
           -0.16188762182151284,
           -0.049077810539239146,
           0.5196821182635686,
           -0.7927954209929933,
           0.7961702399837456,
           0.26310771925040266,
           0.8081828295574719,
           -0.027034276586300875,
           -0.25358687162264,
           -0.6653404137988933,
           -0.6742945824003306,
           -0.8134570559602667,
           0.6615901107088992,
           -0.7871034465654987,
           0.7947238731323396,
           -0.3957153949624487,
           0.1538277585517231,
           -0.579252894106648,
           0.05727962505755187,
           0.014296428919047184,
           0.0027194462709528317,
           0.7934222390040961,
           -0.6528669026254584,
           -0.461922762789844,
           -0.4723434964685403,
           -0.46070390897594865,
           -0.01305757003651376,
           0.03168257297852827,
           -0.00915660304743893,
           0.8445095419378205,
           0.8392302941285721,
           0.8596373110586294,
           0.8578685961966833
          ],
          [
           0.7247733302792873,
           0.2504205839349996,
           0.5487982724972762,
           -0.3140575941250439,
           0.07892403460889796,
           0.17351597437975397,
           0.28726581421172886,
           0.2905203617229626,
           -0.1469144937457641,
           0.3136518998348543,
           0.3687709709281529,
           0.5076123730372414,
           -0.13607933156172855,
           0.34627081354663436,
           0.2905274930376705,
           0.036746317695578845,
           0.0784823525875076,
           0.5654239098809969,
           1,
           0.04748250995901052,
           0.12048250313346788,
           0.7420613821680248,
           -0.13990858493587732,
           0.22531350288060098,
           0.14529580383531002,
           0.16007677753798488,
           0.198301074625626,
           -0.17823234026521684,
           -0.0055168130908393705,
           0.004247321489919309,
           -0.4636203750476987,
           0.255250326772414,
           -0.09533555403980552,
           0.4739849378902552,
           0.16967968161286026,
           -0.020841706391438605,
           0.14141032269332382,
           0.13030120093580985,
           0.3125845349818567,
           -0.11371961163875505,
           0.23901085501352953,
           -0.43820093977332486,
           -0.305835774807058,
           -0.3339614531813437,
           -0.3309157393936618,
           -0.2704130728161924,
           -0.18222156221949393,
           -0.09008748776455788,
           0.2678194440864307,
           0.22731298358822236,
           0.29483139263061303,
           0.25355661002621666
          ],
          [
           -0.3029505006721658,
           -0.3479892736763203,
           -0.125468410405424,
           0.0984828382100451,
           -0.2840637629998556,
           -0.34715718210328217,
           -0.16340621103955302,
           0.4426852025363019,
           0.0784137486150239,
           0.43272001532759297,
           0.2784126067340328,
           -0.29991774046624875,
           -0.20808425064590927,
           -0.30345360512935,
           -0.42697931084945934,
           -0.028123706242424835,
           0.14207099178499488,
           -0.16188762182151284,
           0.04748250995901052,
           1,
           0.7862167751249848,
           -0.23484454573386787,
           0.14435955890996113,
           -0.3721789696325367,
           -0.24741789028305122,
           -0.18416935969873,
           0.15915841537730932,
           -0.3086726368335583,
           0.08132508490708343,
           0.11049820174936792,
           0.25495285018163083,
           0.058367108176482135,
           0.20571971086680035,
           -0.05310221859445332,
           0.19830314595662127,
           -0.45339971428090947,
           0.3740674396743236,
           -0.09948415318012191,
           -0.2619516008405245,
           -0.11453937035763279,
           -0.3334069634623048,
           0.40408805524964136,
           0.20777687790292632,
           0.48515977285038436,
           0.45143924711302574,
           0.39310327363356556,
           0.16087916601896624,
           0.06886317141165146,
           -0.4067905833804946,
           -0.392390344287099,
           -0.2796896751679871,
           -0.27773408670075156
          ],
          [
           -0.1842697759877861,
           -0.2150708824876118,
           -0.1936417892955508,
           0.018139466816837972,
           -0.12496567794392886,
           -0.17177745139456765,
           -0.2912009083442445,
           0.4928326069187983,
           0.03667975399578838,
           0.46808693673584967,
           0.3148290361184177,
           -0.3283007513773715,
           -0.1670010655455456,
           -0.3924466808448131,
           -0.13631539691943315,
           -0.004528026978859793,
           0.22963561861398774,
           -0.049077810539239146,
           0.12048250313346788,
           0.7862167751249848,
           1,
           -0.2965400915609071,
           -0.05167987251747887,
           -0.19233131339749382,
           -0.15982871029635723,
           -0.033964673691173806,
           0.2391030126012255,
           -0.3186366692753537,
           -0.10379330838007067,
           -0.06640630245720205,
           0.09335990252449067,
           -0.10527391721153724,
           0.06407742888620903,
           -0.09266587954773013,
           0.1354424727016297,
           -0.37291740419473546,
           0.2945756804344967,
           0.005957247454951641,
           -0.37746483858074126,
           -0.1497552929960924,
           -0.19121060962093597,
           0.33790732592506345,
           0.25143705656117366,
           0.5124018883799607,
           0.5070634943230925,
           0.5338428341631978,
           0.48803306230361165,
           -0.024768973346099565,
           -0.29784914778761673,
           -0.27165920790235104,
           -0.16495631643028905,
           -0.17554222601231056
          ],
          [
           0.7904877093372964,
           0.3445981255411294,
           0.8284375531033299,
           -0.17125717040099217,
           0.07891017623787921,
           0.28799894829199846,
           0.5145328624077459,
           0.12723313649413975,
           -0.10547549322274691,
           0.14009149389876802,
           0.23271523357691618,
           0.7411125709543314,
           0.09125338495749992,
           0.6363500087944315,
           0.3821119224341227,
           0.05273948547298754,
           -0.02427884175046871,
           0.5196821182635686,
           0.7420613821680248,
           -0.23484454573386787,
           -0.2965400915609071,
           1,
           -0.10201399350770277,
           0.34227330716093224,
           0.12818948441034317,
           0.14932525199594596,
           0.06282398149399257,
           -0.10444589227383967,
           0.021587395451323474,
           0.017886262847747848,
           -0.37615718291991224,
           0.35925642966287014,
           -0.11857110430042499,
           0.5235684572449232,
           0.12229092415452328,
           -0.030169378311021098,
           0.07170070417289613,
           0.1499502972820955,
           0.4245199323451025,
           0.025968403375171117,
           0.40640613362314537,
           -0.6986482180544437,
           -0.6047675895749708,
           -0.6245443503564645,
           -0.6686818695797189,
           -0.5776564377081767,
           -0.4796036953455943,
           -0.0347393958709899,
           0.3970920153092269,
           0.34392437888457894,
           0.3926321750645142,
           0.3534861616219898
          ],
          [
           -0.2199018758740184,
           -0.8561809182109006,
           -0.014250388005857841,
           -0.42748837677675916,
           -0.8166429131051002,
           -0.8619727726873936,
           -0.24193294068790422,
           0.27921573141951683,
           -0.022774110148220058,
           0.3096445626021819,
           -0.1938902844183204,
           -0.4793516667763365,
           -0.39856868441335175,
           -0.19414829258607258,
           -0.3174025053261989,
           -0.010027789122257724,
           0.14923902464320007,
           -0.7927954209929933,
           -0.13990858493587732,
           0.14435955890996113,
           -0.05167987251747887,
           -0.10201399350770277,
           1,
           -0.80850517810854,
           -0.34983500510805066,
           -0.9762542304989625,
           0.09876138902430631,
           0.19878272620763127,
           0.9535705146259132,
           0.9594578275769913,
           0.7041633271595268,
           -0.5781553837477085,
           0.9747046777896999,
           -0.7265624756919393,
           0.5285652005534718,
           -0.21133757471462458,
           0.7357394283487911,
           -0.0012723711314796204,
           0.3962888059146226,
           -0.03451050582225229,
           -0.7820106331642709,
           0.49412559007180606,
           0.3567711879042564,
           0.22779229753730895,
           0.21593709994747473,
           -0.33013051507842445,
           -0.29528002105751694,
           -0.018890450727892687,
           -0.8229050471186367,
           -0.8331733214795335,
           -0.8602739903578795,
           -0.8600655664089643
          ],
          [
           0.3784862499667794,
           0.8163440508252385,
           0.16125812365834025,
           0.1858415219662789,
           0.7644015290955376,
           0.9445000435031786,
           0.21037487101200722,
           -0.3870879583643352,
           0.28291313768231924,
           -0.42509538407143627,
           0.08178398821070249,
           0.49657245035633196,
           0.2006701726708612,
           0.3131334339931956,
           0.27745824670718083,
           0.10279532838792622,
           -0.20542876479397823,
           0.7961702399837456,
           0.22531350288060098,
           -0.3721789696325367,
           -0.19233131339749382,
           0.34227330716093224,
           -0.80850517810854,
           1,
           0.29360222105295003,
           0.8390583834132831,
           -0.232956039820982,
           -0.13572357919576405,
           -0.7313159559815495,
           -0.7534490425546705,
           -0.732761527756065,
           0.5264388216759394,
           -0.8436368576689154,
           0.7226418793240498,
           -0.48904981121284435,
           0.2995662959376034,
           -0.7356858814330084,
           0.060173844968012244,
           -0.00878690521124787,
           0.039151203837040245,
           0.9128325062274063,
           -0.7349096131104189,
           -0.369224051127624,
           -0.5997191471938437,
           -0.5229882159281571,
           -0.05354011604690766,
           0.13708151086402975,
           -0.03920191260529208,
           0.8269652371004175,
           0.8112930458398498,
           0.8252842236290009,
           0.8144177030568427
          ],
          [
           0.05993373576419612,
           0.28569456378214014,
           -0.19176341918265216,
           -0.1599090637174867,
           0.2440410324350327,
           0.2875226051299218,
           0.11610299348306928,
           -0.25370989603342153,
           0.010316394612226816,
           -0.21793919852923072,
           0.07391333559715342,
           0.1852136052252009,
           0.026367537442356877,
           0.1628831186038777,
           0.16506770005122054,
           0.19914490868989987,
           -0.06335122951299078,
           0.26310771925040266,
           0.14529580383531002,
           -0.24741789028305122,
           -0.15982871029635723,
           0.12818948441034317,
           -0.34983500510805066,
           0.29360222105295003,
           1,
           0.40900984755670056,
           -0.1618489365282665,
           -0.075974813403016,
           -0.21229377008859823,
           -0.22678985626252812,
           -0.5985014440355434,
           0.3336405439279084,
           -0.3427717100573852,
           0.25194884459339845,
           -0.19054123984965818,
           0.7028116883067491,
           -0.3195870149790384,
           0.012431540202887665,
           0.1196073552597281,
           0.003948874520892615,
           0.2635946731503556,
           -0.19915343686185258,
           -0.10727519151541243,
           -0.16899067728425218,
           -0.15144141307042924,
           -0.011693385573585029,
           0.03981311623815568,
           0.002880720586919801,
           0.290125634647337,
           0.2748159445283015,
           0.2924222530107423,
           0.2762187097627133
          ],
          [
           0.22595624495736286,
           0.8652257157940298,
           0.02393373496879415,
           0.38382453719839754,
           0.8384489479694496,
           0.8746024222999329,
           0.2828302998906941,
           -0.34965774972991365,
           0.07302538044110608,
           -0.40748047665733805,
           0.16132517299429208,
           0.5069951691356914,
           0.3698896029409668,
           0.2322790791407923,
           0.3066543338548578,
           0.023835173512963763,
           -0.2008968032138835,
           0.8081828295574719,
           0.16007677753798488,
           -0.18416935969873,
           -0.033964673691173806,
           0.14932525199594596,
           -0.9762542304989625,
           0.8390583834132831,
           0.40900984755670056,
           1,
           -0.1963201428459237,
           -0.15477338650380146,
           -0.9254947405510364,
           -0.9399210342236883,
           -0.7536437658742412,
           0.6436323866123004,
           -0.9865695132937351,
           0.7844734119990419,
           -0.5988758425191185,
           0.3056197091269856,
           -0.7985250012841225,
           -0.03526477593719996,
           -0.34291973453271635,
           0.05039247030640586,
           0.7915188726972102,
           -0.5091871697669514,
           -0.32912453957379734,
           -0.2784208400831733,
           -0.24837057354095346,
           0.28370006365409706,
           0.25226654907077967,
           0.034087996549217375,
           0.8426857011903276,
           0.841379866035022,
           0.8782679026408363,
           0.8633018332820608
          ],
          [
           0.21923501484207647,
           -0.06257646798172413,
           0.22485986740517425,
           -0.11716065823993115,
           -0.19014254264109354,
           -0.10155364618724731,
           -0.013563142716625766,
           0.7179261175731574,
           -0.5119355338563698,
           0.7840962486262877,
           0.5027000143596825,
           0.02029927565663255,
           -0.08961958678224877,
           -0.13307803113520633,
           -0.019381815233731812,
           -0.19523723270348597,
           0.26079865271629893,
           -0.027034276586300875,
           0.198301074625626,
           0.15915841537730932,
           0.2391030126012255,
           0.06282398149399257,
           0.09876138902430631,
           -0.232956039820982,
           -0.1618489365282665,
           -0.1963201428459237,
           1,
           -0.29284819854698224,
           0.041408518687148774,
           0.10313827962118816,
           0.16044804961862524,
           -0.3007568472517376,
           0.2527223341328455,
           -0.25821779366286546,
           0.5847475144472563,
           -0.6113242063309274,
           0.5046786950759926,
           0.1458915905797832,
           0.09921055474974944,
           -0.053155236090586075,
           -0.07464233144182744,
           -0.11354294727566641,
           -0.21026498477977348,
           0.002997277271362518,
           -0.04359037256191231,
           -0.06882739528798779,
           -0.06446243416861887,
           -0.05214087877160206,
           -0.12020717962100747,
           -0.00952794450668391,
           -0.1939113947915092,
           -0.059268560757222345
          ],
          [
           -0.08617910405466034,
           -0.17575646025028838,
           -0.04480552616248726,
           0.014030138469574363,
           -0.08653914086829968,
           -0.1701677790378368,
           -0.0781002044254733,
           -0.293262418182548,
           0.017416663596463353,
           -0.3589985199713124,
           -0.3672500016908491,
           -0.09742138367741379,
           0.05624892386967336,
           -0.007507848356785927,
           0.08888494783273819,
           -0.2828029318004761,
           -0.1673070336509269,
           -0.25358687162264,
           -0.17823234026521684,
           -0.3086726368335583,
           -0.3186366692753537,
           -0.10444589227383967,
           0.19878272620763127,
           -0.13572357919576405,
           -0.075974813403016,
           -0.15477338650380146,
           -0.29284819854698224,
           1,
           0.20404508052597845,
           0.1773470922247612,
           0.2003687197148286,
           -0.21816866099339305,
           0.15459568428175063,
           -0.2076216136488237,
           -0.18129253060698713,
           0.27489852333650755,
           -0.10716640356328709,
           -0.1298495662639335,
           0.022378583232325163,
           0.018864602662638008,
           -0.21249364236573878,
           0.15261822940811393,
           0.17183027689677424,
           0.0758734635367093,
           0.09652414777867678,
           -0.04319058908929714,
           -0.06556639036228644,
           0.07680988591351645,
           -0.15902246435376333,
           -0.17269825565964858,
           -0.19403793371727526,
           -0.2453466834113674
          ],
          [
           -0.15355205586391596,
           -0.7981405790548765,
           -0.026488691840300508,
           -0.5422781624528515,
           -0.8336246353959819,
           -0.797046147669325,
           -0.27772528475995195,
           0.16758988988762877,
           0.042063833137171096,
           0.23131223264923478,
           -0.2446226091716607,
           -0.4232027612577748,
           -0.4634564177818595,
           -0.059655516012503775,
           -0.3180733449767414,
           0.03860438079232171,
           0.10977095110415926,
           -0.6653404137988933,
           -0.0055168130908393705,
           0.08132508490708343,
           -0.10379330838007067,
           0.021587395451323474,
           0.9535705146259132,
           -0.7313159559815495,
           -0.21229377008859823,
           -0.9254947405510364,
           0.041408518687148774,
           0.20404508052597845,
           1,
           0.997315129347089,
           0.5105508444192227,
           -0.4331751279015466,
           0.9373613505844659,
           -0.6315446425558919,
           0.4868346008795,
           -0.06386345456453828,
           0.6660991938832844,
           0.02833223300307835,
           0.5765703555272305,
           -0.028199568988755978,
           -0.6965910125074666,
           0.4141687098877478,
           0.29679892547137654,
           0.09544236509003871,
           0.07996330274902066,
           -0.4523905163546857,
           -0.37735127583287026,
           -0.03440998645845023,
           -0.7560491504302459,
           -0.7723363069373881,
           -0.7993978795785955,
           -0.8001111100293247
          ],
          [
           -0.1444293575859865,
           -0.8109642427267673,
           -0.01413000478006902,
           -0.5483175962128479,
           -0.8510542390686207,
           -0.8136172519259826,
           -0.2773983956856007,
           0.2311926612930153,
           0.005389163098228052,
           0.29677256742170777,
           -0.20068783471779814,
           -0.4267106553203424,
           -0.4688886642740263,
           -0.08114496056625439,
           -0.3171753216719752,
           0.021393615900998086,
           0.1331569744496258,
           -0.6742945824003306,
           0.004247321489919309,
           0.11049820174936792,
           -0.06640630245720205,
           0.017886262847747848,
           0.9594578275769913,
           -0.7534490425546705,
           -0.22678985626252812,
           -0.9399210342236883,
           0.10313827962118816,
           0.1773470922247612,
           0.997315129347089,
           1,
           0.5274464090812829,
           -0.4624163552036717,
           0.9554852321109907,
           -0.6496019558442587,
           0.5329878380663168,
           -0.11444436986743782,
           0.712957031226222,
           0.03692626280375076,
           0.5632730200438463,
           -0.03693965405298624,
           -0.7126400277560292,
           0.41679013869398424,
           0.28708731805126125,
           0.11618984616892655,
           0.0961557233692938,
           -0.43920181379214907,
           -0.36900212841153884,
           -0.036593761847490414,
           -0.7741476765381247,
           -0.7848589502212181,
           -0.8153892596923327,
           -0.8114513350190992
          ],
          [
           -0.3285401347619252,
           -0.6711572836882251,
           0.013590670336973303,
           0.22430806736084863,
           -0.4983292698171103,
           -0.6849471203879446,
           -0.08061623074378327,
           0.285321390613791,
           -0.1349641364711133,
           0.318455237460504,
           -0.12447646552382496,
           -0.4139676938292994,
           0.07180147706161466,
           -0.3034293773720504,
           -0.21126187654660258,
           -0.12626032976997623,
           0.14597529480313523,
           -0.8134570559602667,
           -0.4636203750476987,
           0.25495285018163083,
           0.09335990252449067,
           -0.37615718291991224,
           0.7041633271595268,
           -0.732761527756065,
           -0.5985014440355434,
           -0.7536437658742412,
           0.16044804961862524,
           0.2003687197148286,
           0.5105508444192227,
           0.5274464090812829,
           1,
           -0.5999463565207829,
           0.6968566594139046,
           -0.7138280693464193,
           0.3823137181046733,
           -0.5127184334520616,
           0.5949744297021007,
           -0.040578128928377116,
           -0.19057539899619144,
           -0.028954554357981513,
           -0.6571616190774786,
           0.5155915539774157,
           0.2634264026229275,
           0.4468852031291773,
           0.39176328869543764,
           0.06230506594569023,
           -0.058813506248334445,
           0.025211643131284496,
           -0.6756405849529635,
           -0.6581648477697888,
           -0.6878359264996505,
           -0.6556832349771313
          ],
          [
           0.2027841296808699,
           0.605561449527937,
           0.06827505021988656,
           0.24618201780429214,
           0.444603045758992,
           0.5887570915306988,
           0.21591340558491123,
           -0.40986503106540617,
           0.31815506620475853,
           -0.38603659361887854,
           -0.03474830267172076,
           0.48502886570771353,
           0.27085974559986814,
           0.5469111458127113,
           -0.020819902355821367,
           0.10345092131123589,
           -0.2731268409367747,
           0.6615901107088992,
           0.255250326772414,
           0.058367108176482135,
           -0.10527391721153724,
           0.35925642966287014,
           -0.5781553837477085,
           0.5264388216759394,
           0.3336405439279084,
           0.6436323866123004,
           -0.3007568472517376,
           -0.21816866099339305,
           -0.4331751279015466,
           -0.4624163552036717,
           -0.5999463565207829,
           1,
           -0.6338203424404901,
           0.7438527479868693,
           -0.5039857899486148,
           0.2243500546673043,
           -0.5754114918380094,
           0.0036785175395641087,
           0.04975065103611195,
           0.06867958662622754,
           0.6339387659104263,
           -0.40702620302985226,
           -0.4091347419184277,
           -0.36586356474699927,
           -0.4056797264249546,
           -0.04716492622564082,
           -0.15788096001616989,
           0.03436188748676304,
           0.6008833122553584,
           0.588578182633552,
           0.6538164020389111,
           0.655964644335833
          ],
          [
           -0.20593648774849743,
           -0.8804319058113981,
           -0.020292004109682276,
           -0.4505541580379567,
           -0.861874526405821,
           -0.8802925096085169,
           -0.2868438443791955,
           0.40980648840078737,
           -0.09930740862316517,
           0.45976935594759555,
           -0.08681916738097381,
           -0.5075553840121899,
           -0.42902425731350974,
           -0.2473204886052436,
           -0.3199602648184625,
           -0.041773320021734596,
           0.21944451113689162,
           -0.7871034465654987,
           -0.09533555403980552,
           0.20571971086680035,
           0.06407742888620903,
           -0.11857110430042499,
           0.9747046777896999,
           -0.8436368576689154,
           -0.3427717100573852,
           -0.9865695132937351,
           0.2527223341328455,
           0.15459568428175063,
           0.9373613505844659,
           0.9554852321109907,
           0.6968566594139046,
           -0.6338203424404901,
           1,
           -0.7642930536371625,
           0.6251420206366171,
           -0.29108731111572095,
           0.830152268532584,
           0.022054395474295392,
           0.3815391509424186,
           -0.0678756398547907,
           -0.8034295660613923,
           0.4982829556167009,
           0.3332179834537388,
           0.27579831332967847,
           0.2519060871432973,
           -0.2866398444238894,
           -0.24976204274119063,
           -0.027139341635898092,
           -0.8628709639095815,
           -0.8560824655592217,
           -0.8952221758202809,
           -0.8808984713026206
          ],
          [
           0.40805183861347655,
           0.7090509284673311,
           0.3335619143363932,
           0.27483779212791354,
           0.6098345951054783,
           0.6839512997358385,
           0.4604405260400085,
           -0.21691200961996304,
           0.029682726389527122,
           -0.2552900371295408,
           0.2691004194306373,
           0.696535711039831,
           0.22579919440578688,
           0.4833079411079604,
           0.23969801228148807,
           0.07550230471108534,
           -0.19910422500176256,
           0.7947238731323396,
           0.4739849378902552,
           -0.05310221859445332,
           -0.09266587954773013,
           0.5235684572449232,
           -0.7265624756919393,
           0.7226418793240498,
           0.25194884459339845,
           0.7844734119990419,
           -0.25821779366286546,
           -0.2076216136488237,
           -0.6315446425558919,
           -0.6496019558442587,
           -0.7138280693464193,
           0.7438527479868693,
           -0.7642930536371625,
           1,
           -0.38974671473786043,
           0.14566461898780567,
           -0.518288709792219,
           -0.0636252347534746,
           -0.04301447837154555,
           0.0741514201382053,
           0.6793998898803588,
           -0.6249065335057671,
           -0.49608842592947605,
           -0.443079706292994,
           -0.445630677216039,
           -0.05802009312939628,
           -0.12057457896442356,
           0.04817467177278756,
           0.7374539119911269,
           0.6760217770025931,
           0.7891760498087909,
           0.7335460642049877
          ],
          [
           0.06253562780446367,
           -0.46896410642187186,
           0.2482828875489686,
           -0.30327709299238886,
           -0.4952755144507941,
           -0.5091349142760346,
           0.03622254869780644,
           0.6294314418616316,
           -0.3622074557068243,
           0.7660735293876222,
           0.367833678471725,
           -0.11950630545259976,
           -0.30877229929368055,
           -0.15458053783863948,
           -0.13041980046978718,
           -0.031839338501985115,
           0.2586933481793425,
           -0.3957153949624487,
           0.16967968161286026,
           0.19830314595662127,
           0.1354424727016297,
           0.12229092415452328,
           0.5285652005534718,
           -0.48904981121284435,
           -0.19054123984965818,
           -0.5988758425191185,
           0.5847475144472563,
           -0.18129253060698713,
           0.4868346008795,
           0.5329878380663168,
           0.3823137181046733,
           -0.5039857899486148,
           0.6251420206366171,
           -0.38974671473786043,
           1,
           -0.4532357060443719,
           0.8008326220309462,
           0.23924599157330162,
           0.28284400690404277,
           0.041775244337141124,
           -0.41271729290813064,
           0.09907100405304894,
           -0.03867430636732762,
           0.026748185758901123,
           -0.024926192627210856,
           -0.3030044389818187,
           -0.25785661416195077,
           -0.11570832606596163,
           -0.46520161757844236,
           -0.4472046589351845,
           -0.49394672707864407,
           -0.4535342433145144
          ],
          [
           -0.107003541570143,
           0.1772566372382756,
           -0.3786592852171905,
           -0.2292967219552438,
           0.23395636163865,
           0.22951416183303608,
           -0.08199011273553926,
           -0.6438118042197783,
           0.2962313848292547,
           -0.678628503969341,
           -0.3274175722845943,
           -0.038288850300555705,
           -0.132295840322955,
           0.036375859184356145,
           0.06790533699068459,
           0.24160844826383185,
           -0.196668572521941,
           0.1538277585517231,
           -0.020841706391438605,
           -0.45339971428090947,
           -0.37291740419473546,
           -0.030169378311021098,
           -0.21133757471462458,
           0.2995662959376034,
           0.7028116883067491,
           0.3056197091269856,
           -0.6113242063309274,
           0.27489852333650755,
           -0.06386345456453828,
           -0.11444436986743782,
           -0.5127184334520616,
           0.2243500546673043,
           -0.29108731111572095,
           0.14566461898780567,
           -0.4532357060443719,
           1,
           -0.5641555591809235,
           -0.06958338570524558,
           0.13372258480943008,
           0.0562170934796265,
           0.1681642240856243,
           0.00004620752430026227,
           0.24569120328818464,
           -0.14585950158477057,
           -0.04693079519645769,
           -0.0003436445641331042,
           0.133427525624049,
           -0.010946494927439562,
           0.220132242278561,
           0.1636194695879683,
           0.2018238507895344,
           0.1267640189558234
          ],
          [
           0.04154968991265029,
           -0.7115050839404046,
           0.22385624574964477,
           -0.32566664200356094,
           -0.7608642817583354,
           -0.7596330356509999,
           -0.08043305979520962,
           0.7643988477783444,
           -0.33861548961368493,
           0.8316320980439044,
           0.2945709634963785,
           -0.24677030573892642,
           -0.3039822884787075,
           -0.19068771592203942,
           -0.15864993158490925,
           -0.08585709514311196,
           0.36253610306947515,
           -0.579252894106648,
           0.14141032269332382,
           0.3740674396743236,
           0.2945756804344967,
           0.07170070417289613,
           0.7357394283487911,
           -0.7356858814330084,
           -0.3195870149790384,
           -0.7985250012841225,
           0.5046786950759926,
           -0.10716640356328709,
           0.6660991938832844,
           0.712957031226222,
           0.5949744297021007,
           -0.5754114918380094,
           0.830152268532584,
           -0.518288709792219,
           0.8008326220309462,
           -0.5641555591809235,
           1,
           0.06745234137470967,
           0.1969518636562365,
           -0.11140782741681063,
           -0.6708161774048633,
           0.27908539899418255,
           0.04464228630843266,
           0.2935648406488122,
           0.22111879055618966,
           -0.19763454669262473,
           -0.221953930619281,
           -0.028069663777892332,
           -0.7103114530563512,
           -0.7104078256560216,
           -0.6873374270223265,
           -0.6834508246442129
          ],
          [
           0.2615749736004077,
           0.14449768750550676,
           0.08179336205943945,
           -0.12601457040753453,
           0.12176284625610861,
           0.0721183396997751,
           -0.0452541490536444,
           0.07880659083104036,
           0.07105565610243669,
           0.1144453697288212,
           0.003128279078732747,
           0.13993633033233108,
           0.029941812924220792,
           0.08058081958394865,
           0.09998130403679474,
           0.16257779175673395,
           -0.08675623566202093,
           0.05727962505755187,
           0.13030120093580985,
           -0.09948415318012191,
           0.005957247454951641,
           0.1499502972820955,
           -0.0012723711314796204,
           0.060173844968012244,
           0.012431540202887665,
           -0.03526477593719996,
           0.1458915905797832,
           -0.1298495662639335,
           0.02833223300307835,
           0.03692626280375076,
           -0.040578128928377116,
           0.0036785175395641087,
           0.022054395474295392,
           -0.0636252347534746,
           0.23924599157330162,
           -0.06958338570524558,
           0.06745234137470967,
           1,
           0.09106914855195594,
           0.060761867105993614,
           0.1570182426285041,
           -0.12522501143745757,
           -0.23360428215051102,
           -0.17708044460687145,
           -0.2702185065251135,
           -0.2323439894680803,
           0.021966810325352762,
           -0.7423550055256669,
           0.14049657583557987,
           0.14486027306384047,
           0.12430922470809343,
           0.14786310175101927
          ],
          [
           0.19455819854978582,
           -0.13869442063367785,
           0.11756151457759842,
           -0.5579318763189819,
           -0.37493953583218537,
           -0.08529378741870655,
           -0.16524841853711425,
           -0.10675299516822023,
           0.047987370855791245,
           0.026584341231456785,
           -0.09539317454131478,
           0.02575927034155566,
           -0.4253208883752822,
           0.3833754483392693,
           -0.15714369722931076,
           0.09683778589887922,
           -0.0975800565964253,
           0.014296428919047184,
           0.3125845349818567,
           -0.2619516008405245,
           -0.37746483858074126,
           0.4245199323451025,
           0.3962888059146226,
           -0.00878690521124787,
           0.1196073552597281,
           -0.34291973453271635,
           0.09921055474974944,
           0.022378583232325163,
           0.5765703555272305,
           0.5632730200438463,
           -0.19057539899619144,
           0.04975065103611195,
           0.3815391509424186,
           -0.04301447837154555,
           0.28284400690404277,
           0.13372258480943008,
           0.1969518636562365,
           0.09106914855195594,
           1,
           0.03510874804964022,
           0.0328613804758785,
           -0.3049205820465377,
           -0.19536780855434832,
           -0.6177334810142623,
           -0.6022047285235894,
           -0.8144626831032791,
           -0.595137934529581,
           -0.04653130517900213,
           -0.08429559544481773,
           -0.08347785702929301,
           -0.1904917144326055,
           -0.14038753350789762
          ],
          [
           -0.1205812023568366,
           0.08855116253389739,
           0.01944330521881814,
           0.06872703279955929,
           0.06777089960680346,
           0.0409128189338685,
           0.10895696356020015,
           -0.10812769736588333,
           -0.07885374370839573,
           -0.11939729096043901,
           -0.06364491369940393,
           0.1262425496628537,
           0.09158782896124389,
           0.119058953611498,
           0.049491388414579736,
           -0.02584472678974163,
           -0.041130265434265505,
           0.0027194462709528317,
           -0.11371961163875505,
           -0.11453937035763279,
           -0.1497552929960924,
           0.025968403375171117,
           -0.03451050582225229,
           0.039151203837040245,
           0.003948874520892615,
           0.05039247030640586,
           -0.053155236090586075,
           0.018864602662638008,
           -0.028199568988755978,
           -0.03693965405298624,
           -0.028954554357981513,
           0.06867958662622754,
           -0.0678756398547907,
           0.0741514201382053,
           0.041775244337141124,
           0.0562170934796265,
           -0.11140782741681063,
           0.060761867105993614,
           0.03510874804964022,
           1,
           0.05903523143187622,
           -0.04272168373171011,
           -0.08020985459157713,
           -0.0786711501907263,
           -0.0949317483607286,
           -0.06892391299999087,
           -0.0998550873384593,
           -0.08861019983775244,
           0.11192340792466247,
           0.10082921704820805,
           0.0773749439366109,
           0.0699586475753947
          ],
          [
           0.4428277467712431,
           0.8422464915922679,
           0.23269935787212515,
           0.2573974864273748,
           0.7662142582151779,
           0.9662064049232022,
           0.22425438699260788,
           -0.3426455604783884,
           0.19881257723381013,
           -0.3243196478051331,
           0.08238396227379702,
           0.5493584841208181,
           0.2988479852444045,
           0.42472902059073947,
           0.2993771696664394,
           0.09650350652230757,
           -0.24799531476188466,
           0.7934222390040961,
           0.23901085501352953,
           -0.3334069634623048,
           -0.19121060962093597,
           0.40640613362314537,
           -0.7820106331642709,
           0.9128325062274063,
           0.2635946731503556,
           0.7915188726972102,
           -0.07464233144182744,
           -0.21249364236573878,
           -0.6965910125074666,
           -0.7126400277560292,
           -0.6571616190774786,
           0.6339387659104263,
           -0.8034295660613923,
           0.6793998898803588,
           -0.41271729290813064,
           0.1681642240856243,
           -0.6708161774048633,
           0.1570182426285041,
           0.0328613804758785,
           0.05903523143187622,
           1,
           -0.7868807075582225,
           -0.5039018125934598,
           -0.6851506958085631,
           -0.6462646645840029,
           -0.13398308948190277,
           0.03730157545756368,
           -0.052653048423258124,
           0.840459640279766,
           0.8482454142752712,
           0.822549751758262,
           0.8605947187938101
          ],
          [
           -0.7047156520568504,
           -0.6597997594336275,
           -0.5461134714485364,
           -0.11147973300938452,
           -0.47316996957494833,
           -0.7239056980208877,
           -0.3703806729403833,
           0.06083391274602953,
           0.0697162143991923,
           0.026929751892081782,
           -0.3021216476963227,
           -0.7309280216605277,
           -0.2354172978951802,
           -0.5674035738873647,
           -0.394403351661974,
           0.04897322201133545,
           0.15941346660527955,
           -0.6528669026254584,
           -0.43820093977332486,
           0.40408805524964136,
           0.33790732592506345,
           -0.6986482180544437,
           0.49412559007180606,
           -0.7349096131104189,
           -0.19915343686185258,
           -0.5091871697669514,
           -0.11354294727566641,
           0.15261822940811393,
           0.4141687098877478,
           0.41679013869398424,
           0.5155915539774157,
           -0.40702620302985226,
           0.4982829556167009,
           -0.6249065335057671,
           0.09907100405304894,
           0.00004620752430026227,
           0.27908539899418255,
           -0.12522501143745757,
           -0.3049205820465377,
           -0.04272168373171011,
           -0.7868807075582225,
           1,
           0.7719033790387081,
           0.8130249350862316,
           0.8170403686525353,
           0.5283073326316859,
           0.36491306794037875,
           0.004279029593817778,
           -0.6906879621863399,
           -0.6797753037675913,
           -0.6481741470840862,
           -0.6657780444293554
          ],
          [
           -0.6068939498853365,
           -0.5390808245921211,
           -0.5448651001293553,
           -0.281781260149683,
           -0.22137890620152964,
           -0.40249899158437913,
           -0.3921355968711941,
           -0.033630810305745704,
           0.30372275286710804,
           -0.1402174299968339,
           -0.29166602947612114,
           -0.7637193717662246,
           -0.5104684256799588,
           -0.7532531475170241,
           -0.42946401311306676,
           0.13584344095030718,
           0.1769011727621084,
           -0.461922762789844,
           -0.305835774807058,
           0.20777687790292632,
           0.25143705656117366,
           -0.6047675895749708,
           0.3567711879042564,
           -0.369224051127624,
           -0.10727519151541243,
           -0.32912453957379734,
           -0.21026498477977348,
           0.17183027689677424,
           0.29679892547137654,
           0.28708731805126125,
           0.2634264026229275,
           -0.4091347419184277,
           0.3332179834537388,
           -0.49608842592947605,
           -0.03867430636732762,
           0.24569120328818464,
           0.04464228630843266,
           -0.23360428215051102,
           -0.19536780855434832,
           -0.08020985459157713,
           -0.5039018125934598,
           0.7719033790387081,
           1,
           0.5267519668537153,
           0.7093324136058751,
           0.4969339198688244,
           0.5339604988851155,
           0.0592462977468735,
           -0.54832487148749,
           -0.5539751715197081,
           -0.5258278429721684,
           -0.5567281262886419
          ],
          [
           -0.4928484472016879,
           -0.45953329858621395,
           -0.400299411862128,
           0.059208481869963636,
           -0.3455326601631434,
           -0.5783683772244786,
           -0.2383347349883288,
           0.3027593180490482,
           -0.05297183859160186,
           0.20722130823991924,
           -0.05328980582697125,
           -0.5114526247729946,
           0.01627048302264725,
           -0.5249471161929427,
           -0.1577228331017711,
           -0.04612034703192271,
           0.29609983062583334,
           -0.4723434964685403,
           -0.3339614531813437,
           0.48515977285038436,
           0.5124018883799607,
           -0.6245443503564645,
           0.22779229753730895,
           -0.5997191471938437,
           -0.16899067728425218,
           -0.2784208400831733,
           0.002997277271362518,
           0.0758734635367093,
           0.09544236509003871,
           0.11618984616892655,
           0.4468852031291773,
           -0.36586356474699927,
           0.27579831332967847,
           -0.443079706292994,
           0.026748185758901123,
           -0.14585950158477057,
           0.2935648406488122,
           -0.17708044460687145,
           -0.6177334810142623,
           -0.0786711501907263,
           -0.6851506958085631,
           0.8130249350862316,
           0.5267519668537153,
           1,
           0.957031194211197,
           0.7611362602514635,
           0.5475965269514291,
           0.07859851653844467,
           -0.5147364224962916,
           -0.5075439033733472,
           -0.41951256232933154,
           -0.47019778588188954
          ],
          [
           -0.5410639737455973,
           -0.4808571096914125,
           -0.4646166445575215,
           -0.018515882576147127,
           -0.2845708829079101,
           -0.5151869666057846,
           -0.2864968035096546,
           0.26970251761819075,
           0.04183329488650877,
           0.14385117784743387,
           -0.06966154282152842,
           -0.6072669747956112,
           -0.1385503512221843,
           -0.6791664957569902,
           -0.23307710536073753,
           -0.013105901093836633,
           0.31992779537761695,
           -0.46070390897594865,
           -0.3309157393936618,
           0.45143924711302574,
           0.5070634943230925,
           -0.6686818695797189,
           0.21593709994747473,
           -0.5229882159281571,
           -0.15144141307042924,
           -0.24837057354095346,
           -0.04359037256191231,
           0.09652414777867678,
           0.07996330274902066,
           0.0961557233692938,
           0.39176328869543764,
           -0.4056797264249546,
           0.2519060871432973,
           -0.445630677216039,
           -0.024926192627210856,
           -0.04693079519645769,
           0.22111879055618966,
           -0.2702185065251135,
           -0.6022047285235894,
           -0.0949317483607286,
           -0.6462646645840029,
           0.8170403686525353,
           0.7093324136058751,
           0.957031194211197,
           1,
           0.8056462450680724,
           0.6408635640440268,
           0.1328141215348966,
           -0.5298205747792945,
           -0.5273956562590947,
           -0.4405906479267555,
           -0.495411646567803
          ],
          [
           -0.4189734825123146,
           0.0030201337732737943,
           -0.38788161189988424,
           0.275702979620619,
           0.21809451558142715,
           0.013856378209483851,
           -0.12152242076963997,
           0.09498232716342714,
           0.08736210429938206,
           -0.016151381751182133,
           0.05605623224658736,
           -0.3280216392447192,
           0.1338910194157306,
           -0.5398188675942834,
           -0.06420824988781035,
           0.009334375310517387,
           0.17674542157719764,
           -0.01305757003651376,
           -0.2704130728161924,
           0.39310327363356556,
           0.5338428341631978,
           -0.5776564377081767,
           -0.33013051507842445,
           -0.05354011604690766,
           -0.011693385573585029,
           0.28370006365409706,
           -0.06882739528798779,
           -0.04319058908929714,
           -0.4523905163546857,
           -0.43920181379214907,
           0.06230506594569023,
           -0.04716492622564082,
           -0.2866398444238894,
           -0.05802009312939628,
           -0.3030044389818187,
           -0.0003436445641331042,
           -0.19763454669262473,
           -0.2323439894680803,
           -0.8144626831032791,
           -0.06892391299999087,
           -0.13398308948190277,
           0.5283073326316859,
           0.4969339198688244,
           0.7611362602514635,
           0.8056462450680724,
           1,
           0.8215683725871242,
           0.15152196964506223,
           -0.07206587698825943,
           -0.051159597119229384,
           0.03724950497135136,
           0.004602536795191941
          ],
          [
           -0.27050568648020684,
           0.050112646481159706,
           -0.39456196925956527,
           0.015061900820708997,
           0.2443399718719874,
           0.16759691199647675,
           -0.3052866473832048,
           0.07819229697991054,
           0.268207513886224,
           -0.04776099511560616,
           0.015466157514794887,
           -0.40906287523066037,
           -0.042860577509348165,
           -0.5476046671028453,
           0.01895086499451645,
           0.22224776192461732,
           0.21259502965658042,
           0.03168257297852827,
           -0.18222156221949393,
           0.16087916601896624,
           0.48803306230361165,
           -0.4796036953455943,
           -0.29528002105751694,
           0.13708151086402975,
           0.03981311623815568,
           0.25226654907077967,
           -0.06446243416861887,
           -0.06556639036228644,
           -0.37735127583287026,
           -0.36900212841153884,
           -0.058813506248334445,
           -0.15788096001616989,
           -0.24976204274119063,
           -0.12057457896442356,
           -0.25785661416195077,
           0.133427525624049,
           -0.221953930619281,
           0.021966810325352762,
           -0.595137934529581,
           -0.0998550873384593,
           0.03730157545756368,
           0.36491306794037875,
           0.5339604988851155,
           0.5475965269514291,
           0.6408635640440268,
           0.8215683725871242,
           1,
           -0.09628394821853953,
           -0.006622504868516944,
           0.0011642310582927514,
           0.07100247748016816,
           0.03327980581480523
          ],
          [
           -0.15329952467983954,
           -0.12977816103539644,
           0.03265529989544072,
           0.09346255972115027,
           -0.10275092955517934,
           -0.025667532491974655,
           0.05892340896629948,
           -0.03676965316995665,
           -0.08857434284312769,
           -0.03109984900299559,
           -0.024117642311391883,
           -0.03874468766356489,
           0.03095711948811848,
           -0.01968269990553925,
           -0.03727750991706393,
           -0.08984907115110957,
           0.0788293467763599,
           -0.00915660304743893,
           -0.09008748776455788,
           0.06886317141165146,
           -0.024768973346099565,
           -0.0347393958709899,
           -0.018890450727892687,
           -0.03920191260529208,
           0.002880720586919801,
           0.034087996549217375,
           -0.05214087877160206,
           0.07680988591351645,
           -0.03440998645845023,
           -0.036593761847490414,
           0.025211643131284496,
           0.03436188748676304,
           -0.027139341635898092,
           0.04817467177278756,
           -0.11570832606596163,
           -0.010946494927439562,
           -0.028069663777892332,
           -0.7423550055256669,
           -0.04653130517900213,
           -0.08861019983775244,
           -0.052653048423258124,
           0.004279029593817778,
           0.0592462977468735,
           0.07859851653844467,
           0.1328141215348966,
           0.15152196964506223,
           -0.09628394821853953,
           1,
           -0.14173150815458693,
           -0.1254838996896176,
           -0.12247148920224435,
           -0.12101666517312216
          ],
          [
           0.464675366768897,
           0.98799092783108,
           0.26275449135292983,
           0.3256698986020395,
           0.7619805595049307,
           0.8616881876276632,
           0.40741138574721814,
           -0.37777775704307087,
           -0.042922592968312245,
           -0.39093294807491885,
           0.04161781417685988,
           0.6972623949759714,
           0.46416595409863165,
           0.5247326629711307,
           0.47245220974656127,
           0.09575007735304741,
           -0.22064120032399404,
           0.8445095419378205,
           0.2678194440864307,
           -0.4067905833804946,
           -0.29784914778761673,
           0.3970920153092269,
           -0.8229050471186367,
           0.8269652371004175,
           0.290125634647337,
           0.8426857011903276,
           -0.12020717962100747,
           -0.15902246435376333,
           -0.7560491504302459,
           -0.7741476765381247,
           -0.6756405849529635,
           0.6008833122553584,
           -0.8628709639095815,
           0.7374539119911269,
           -0.46520161757844236,
           0.220132242278561,
           -0.7103114530563512,
           0.14049657583557987,
           -0.08429559544481773,
           0.11192340792466247,
           0.840459640279766,
           -0.6906879621863399,
           -0.54832487148749,
           -0.5147364224962916,
           -0.5298205747792945,
           -0.07206587698825943,
           -0.006622504868516944,
           -0.14173150815458693,
           1,
           0.9834474504762777,
           0.9671591999390527,
           0.9752624586402946
          ],
          [
           0.43842416406585777,
           0.9919547085947872,
           0.23271352940373405,
           0.33118578475413274,
           0.7612635687630851,
           0.8724513738356279,
           0.35966456867563795,
           -0.345886721714082,
           -0.06529650316827619,
           -0.3534241139890083,
           0.060483025694186635,
           0.6643061885111726,
           0.4797042704785202,
           0.49763525078715526,
           0.45126961163589513,
           0.03400516010461791,
           -0.2287216696408223,
           0.8392302941285721,
           0.22731298358822236,
           -0.392390344287099,
           -0.27165920790235104,
           0.34392437888457894,
           -0.8331733214795335,
           0.8112930458398498,
           0.2748159445283015,
           0.841379866035022,
           -0.00952794450668391,
           -0.17269825565964858,
           -0.7723363069373881,
           -0.7848589502212181,
           -0.6581648477697888,
           0.588578182633552,
           -0.8560824655592217,
           0.6760217770025931,
           -0.4472046589351845,
           0.1636194695879683,
           -0.7104078256560216,
           0.14486027306384047,
           -0.08347785702929301,
           0.10082921704820805,
           0.8482454142752712,
           -0.6797753037675913,
           -0.5539751715197081,
           -0.5075439033733472,
           -0.5273956562590947,
           -0.051159597119229384,
           0.0011642310582927514,
           -0.1254838996896176,
           0.9834474504762777,
           1,
           0.9392133519781043,
           0.9760867776046749
          ],
          [
           0.45396069730720584,
           0.9700313014062064,
           0.256418952158167,
           0.33373788184882597,
           0.7589704150341507,
           0.8465445563159433,
           0.4133712056903425,
           -0.32862735664040127,
           0.020474885616140883,
           -0.36084173312423434,
           0.08695195468494671,
           0.696562142713749,
           0.4875930294199506,
           0.4977380365957905,
           0.47785498770347745,
           0.06644477730613253,
           -0.2141546969061736,
           0.8596373110586294,
           0.29483139263061303,
           -0.2796896751679871,
           -0.16495631643028905,
           0.3926321750645142,
           -0.8602739903578795,
           0.8252842236290009,
           0.2924222530107423,
           0.8782679026408363,
           -0.1939113947915092,
           -0.19403793371727526,
           -0.7993978795785955,
           -0.8153892596923327,
           -0.6878359264996505,
           0.6538164020389111,
           -0.8952221758202809,
           0.7891760498087909,
           -0.49394672707864407,
           0.2018238507895344,
           -0.6873374270223265,
           0.12430922470809343,
           -0.1904917144326055,
           0.0773749439366109,
           0.822549751758262,
           -0.6481741470840862,
           -0.5258278429721684,
           -0.41951256232933154,
           -0.4405906479267555,
           0.03724950497135136,
           0.07100247748016816,
           -0.12247148920224435,
           0.9671591999390527,
           0.9392133519781043,
           1,
           0.9694826694100133
          ],
          [
           0.4346073215157947,
           0.9852022737321363,
           0.23645520664917397,
           0.3746903773136311,
           0.7569010311184672,
           0.8740395555401183,
           0.3856095415696895,
           -0.3239954601359754,
           -0.013629760762809784,
           -0.3169607530666225,
           0.08388040159796928,
           0.6693831948147924,
           0.49344537867438587,
           0.4994556054510806,
           0.425547402889086,
           0.08083910955880104,
           -0.23443659209507647,
           0.8578685961966833,
           0.25355661002621666,
           -0.27773408670075156,
           -0.17554222601231056,
           0.3534861616219898,
           -0.8600655664089643,
           0.8144177030568427,
           0.2762187097627133,
           0.8633018332820608,
           -0.059268560757222345,
           -0.2453466834113674,
           -0.8001111100293247,
           -0.8114513350190992,
           -0.6556832349771313,
           0.655964644335833,
           -0.8808984713026206,
           0.7335460642049877,
           -0.4535342433145144,
           0.1267640189558234,
           -0.6834508246442129,
           0.14786310175101927,
           -0.14038753350789762,
           0.0699586475753947,
           0.8605947187938101,
           -0.6657780444293554,
           -0.5567281262886419,
           -0.47019778588188954,
           -0.495411646567803,
           0.004602536795191941,
           0.03327980581480523,
           -0.12101666517312216,
           0.9752624586402946,
           0.9760867776046749,
           0.9694826694100133,
           1
          ]
         ]
        }
       ],
       "layout": {
        "template": {
         "data": {
          "bar": [
           {
            "error_x": {
             "color": "#2a3f5f"
            },
            "error_y": {
             "color": "#2a3f5f"
            },
            "marker": {
             "line": {
              "color": "#E5ECF6",
              "width": 0.5
             },
             "pattern": {
              "fillmode": "overlay",
              "size": 10,
              "solidity": 0.2
             }
            },
            "type": "bar"
           }
          ],
          "barpolar": [
           {
            "marker": {
             "line": {
              "color": "#E5ECF6",
              "width": 0.5
             },
             "pattern": {
              "fillmode": "overlay",
              "size": 10,
              "solidity": 0.2
             }
            },
            "type": "barpolar"
           }
          ],
          "carpet": [
           {
            "aaxis": {
             "endlinecolor": "#2a3f5f",
             "gridcolor": "white",
             "linecolor": "white",
             "minorgridcolor": "white",
             "startlinecolor": "#2a3f5f"
            },
            "baxis": {
             "endlinecolor": "#2a3f5f",
             "gridcolor": "white",
             "linecolor": "white",
             "minorgridcolor": "white",
             "startlinecolor": "#2a3f5f"
            },
            "type": "carpet"
           }
          ],
          "choropleth": [
           {
            "colorbar": {
             "outlinewidth": 0,
             "ticks": ""
            },
            "type": "choropleth"
           }
          ],
          "contour": [
           {
            "colorbar": {
             "outlinewidth": 0,
             "ticks": ""
            },
            "colorscale": [
             [
              0,
              "#0d0887"
             ],
             [
              0.1111111111111111,
              "#46039f"
             ],
             [
              0.2222222222222222,
              "#7201a8"
             ],
             [
              0.3333333333333333,
              "#9c179e"
             ],
             [
              0.4444444444444444,
              "#bd3786"
             ],
             [
              0.5555555555555556,
              "#d8576b"
             ],
             [
              0.6666666666666666,
              "#ed7953"
             ],
             [
              0.7777777777777778,
              "#fb9f3a"
             ],
             [
              0.8888888888888888,
              "#fdca26"
             ],
             [
              1,
              "#f0f921"
             ]
            ],
            "type": "contour"
           }
          ],
          "contourcarpet": [
           {
            "colorbar": {
             "outlinewidth": 0,
             "ticks": ""
            },
            "type": "contourcarpet"
           }
          ],
          "heatmap": [
           {
            "colorbar": {
             "outlinewidth": 0,
             "ticks": ""
            },
            "colorscale": [
             [
              0,
              "#0d0887"
             ],
             [
              0.1111111111111111,
              "#46039f"
             ],
             [
              0.2222222222222222,
              "#7201a8"
             ],
             [
              0.3333333333333333,
              "#9c179e"
             ],
             [
              0.4444444444444444,
              "#bd3786"
             ],
             [
              0.5555555555555556,
              "#d8576b"
             ],
             [
              0.6666666666666666,
              "#ed7953"
             ],
             [
              0.7777777777777778,
              "#fb9f3a"
             ],
             [
              0.8888888888888888,
              "#fdca26"
             ],
             [
              1,
              "#f0f921"
             ]
            ],
            "type": "heatmap"
           }
          ],
          "heatmapgl": [
           {
            "colorbar": {
             "outlinewidth": 0,
             "ticks": ""
            },
            "colorscale": [
             [
              0,
              "#0d0887"
             ],
             [
              0.1111111111111111,
              "#46039f"
             ],
             [
              0.2222222222222222,
              "#7201a8"
             ],
             [
              0.3333333333333333,
              "#9c179e"
             ],
             [
              0.4444444444444444,
              "#bd3786"
             ],
             [
              0.5555555555555556,
              "#d8576b"
             ],
             [
              0.6666666666666666,
              "#ed7953"
             ],
             [
              0.7777777777777778,
              "#fb9f3a"
             ],
             [
              0.8888888888888888,
              "#fdca26"
             ],
             [
              1,
              "#f0f921"
             ]
            ],
            "type": "heatmapgl"
           }
          ],
          "histogram": [
           {
            "marker": {
             "pattern": {
              "fillmode": "overlay",
              "size": 10,
              "solidity": 0.2
             }
            },
            "type": "histogram"
           }
          ],
          "histogram2d": [
           {
            "colorbar": {
             "outlinewidth": 0,
             "ticks": ""
            },
            "colorscale": [
             [
              0,
              "#0d0887"
             ],
             [
              0.1111111111111111,
              "#46039f"
             ],
             [
              0.2222222222222222,
              "#7201a8"
             ],
             [
              0.3333333333333333,
              "#9c179e"
             ],
             [
              0.4444444444444444,
              "#bd3786"
             ],
             [
              0.5555555555555556,
              "#d8576b"
             ],
             [
              0.6666666666666666,
              "#ed7953"
             ],
             [
              0.7777777777777778,
              "#fb9f3a"
             ],
             [
              0.8888888888888888,
              "#fdca26"
             ],
             [
              1,
              "#f0f921"
             ]
            ],
            "type": "histogram2d"
           }
          ],
          "histogram2dcontour": [
           {
            "colorbar": {
             "outlinewidth": 0,
             "ticks": ""
            },
            "colorscale": [
             [
              0,
              "#0d0887"
             ],
             [
              0.1111111111111111,
              "#46039f"
             ],
             [
              0.2222222222222222,
              "#7201a8"
             ],
             [
              0.3333333333333333,
              "#9c179e"
             ],
             [
              0.4444444444444444,
              "#bd3786"
             ],
             [
              0.5555555555555556,
              "#d8576b"
             ],
             [
              0.6666666666666666,
              "#ed7953"
             ],
             [
              0.7777777777777778,
              "#fb9f3a"
             ],
             [
              0.8888888888888888,
              "#fdca26"
             ],
             [
              1,
              "#f0f921"
             ]
            ],
            "type": "histogram2dcontour"
           }
          ],
          "mesh3d": [
           {
            "colorbar": {
             "outlinewidth": 0,
             "ticks": ""
            },
            "type": "mesh3d"
           }
          ],
          "parcoords": [
           {
            "line": {
             "colorbar": {
              "outlinewidth": 0,
              "ticks": ""
             }
            },
            "type": "parcoords"
           }
          ],
          "pie": [
           {
            "automargin": true,
            "type": "pie"
           }
          ],
          "scatter": [
           {
            "fillpattern": {
             "fillmode": "overlay",
             "size": 10,
             "solidity": 0.2
            },
            "type": "scatter"
           }
          ],
          "scatter3d": [
           {
            "line": {
             "colorbar": {
              "outlinewidth": 0,
              "ticks": ""
             }
            },
            "marker": {
             "colorbar": {
              "outlinewidth": 0,
              "ticks": ""
             }
            },
            "type": "scatter3d"
           }
          ],
          "scattercarpet": [
           {
            "marker": {
             "colorbar": {
              "outlinewidth": 0,
              "ticks": ""
             }
            },
            "type": "scattercarpet"
           }
          ],
          "scattergeo": [
           {
            "marker": {
             "colorbar": {
              "outlinewidth": 0,
              "ticks": ""
             }
            },
            "type": "scattergeo"
           }
          ],
          "scattergl": [
           {
            "marker": {
             "colorbar": {
              "outlinewidth": 0,
              "ticks": ""
             }
            },
            "type": "scattergl"
           }
          ],
          "scattermapbox": [
           {
            "marker": {
             "colorbar": {
              "outlinewidth": 0,
              "ticks": ""
             }
            },
            "type": "scattermapbox"
           }
          ],
          "scatterpolar": [
           {
            "marker": {
             "colorbar": {
              "outlinewidth": 0,
              "ticks": ""
             }
            },
            "type": "scatterpolar"
           }
          ],
          "scatterpolargl": [
           {
            "marker": {
             "colorbar": {
              "outlinewidth": 0,
              "ticks": ""
             }
            },
            "type": "scatterpolargl"
           }
          ],
          "scatterternary": [
           {
            "marker": {
             "colorbar": {
              "outlinewidth": 0,
              "ticks": ""
             }
            },
            "type": "scatterternary"
           }
          ],
          "surface": [
           {
            "colorbar": {
             "outlinewidth": 0,
             "ticks": ""
            },
            "colorscale": [
             [
              0,
              "#0d0887"
             ],
             [
              0.1111111111111111,
              "#46039f"
             ],
             [
              0.2222222222222222,
              "#7201a8"
             ],
             [
              0.3333333333333333,
              "#9c179e"
             ],
             [
              0.4444444444444444,
              "#bd3786"
             ],
             [
              0.5555555555555556,
              "#d8576b"
             ],
             [
              0.6666666666666666,
              "#ed7953"
             ],
             [
              0.7777777777777778,
              "#fb9f3a"
             ],
             [
              0.8888888888888888,
              "#fdca26"
             ],
             [
              1,
              "#f0f921"
             ]
            ],
            "type": "surface"
           }
          ],
          "table": [
           {
            "cells": {
             "fill": {
              "color": "#EBF0F8"
             },
             "line": {
              "color": "white"
             }
            },
            "header": {
             "fill": {
              "color": "#C8D4E3"
             },
             "line": {
              "color": "white"
             }
            },
            "type": "table"
           }
          ]
         },
         "layout": {
          "annotationdefaults": {
           "arrowcolor": "#2a3f5f",
           "arrowhead": 0,
           "arrowwidth": 1
          },
          "autotypenumbers": "strict",
          "coloraxis": {
           "colorbar": {
            "outlinewidth": 0,
            "ticks": ""
           }
          },
          "colorscale": {
           "diverging": [
            [
             0,
             "#8e0152"
            ],
            [
             0.1,
             "#c51b7d"
            ],
            [
             0.2,
             "#de77ae"
            ],
            [
             0.3,
             "#f1b6da"
            ],
            [
             0.4,
             "#fde0ef"
            ],
            [
             0.5,
             "#f7f7f7"
            ],
            [
             0.6,
             "#e6f5d0"
            ],
            [
             0.7,
             "#b8e186"
            ],
            [
             0.8,
             "#7fbc41"
            ],
            [
             0.9,
             "#4d9221"
            ],
            [
             1,
             "#276419"
            ]
           ],
           "sequential": [
            [
             0,
             "#0d0887"
            ],
            [
             0.1111111111111111,
             "#46039f"
            ],
            [
             0.2222222222222222,
             "#7201a8"
            ],
            [
             0.3333333333333333,
             "#9c179e"
            ],
            [
             0.4444444444444444,
             "#bd3786"
            ],
            [
             0.5555555555555556,
             "#d8576b"
            ],
            [
             0.6666666666666666,
             "#ed7953"
            ],
            [
             0.7777777777777778,
             "#fb9f3a"
            ],
            [
             0.8888888888888888,
             "#fdca26"
            ],
            [
             1,
             "#f0f921"
            ]
           ],
           "sequentialminus": [
            [
             0,
             "#0d0887"
            ],
            [
             0.1111111111111111,
             "#46039f"
            ],
            [
             0.2222222222222222,
             "#7201a8"
            ],
            [
             0.3333333333333333,
             "#9c179e"
            ],
            [
             0.4444444444444444,
             "#bd3786"
            ],
            [
             0.5555555555555556,
             "#d8576b"
            ],
            [
             0.6666666666666666,
             "#ed7953"
            ],
            [
             0.7777777777777778,
             "#fb9f3a"
            ],
            [
             0.8888888888888888,
             "#fdca26"
            ],
            [
             1,
             "#f0f921"
            ]
           ]
          },
          "colorway": [
           "#636efa",
           "#EF553B",
           "#00cc96",
           "#ab63fa",
           "#FFA15A",
           "#19d3f3",
           "#FF6692",
           "#B6E880",
           "#FF97FF",
           "#FECB52"
          ],
          "font": {
           "color": "#2a3f5f"
          },
          "geo": {
           "bgcolor": "white",
           "lakecolor": "white",
           "landcolor": "#E5ECF6",
           "showlakes": true,
           "showland": true,
           "subunitcolor": "white"
          },
          "hoverlabel": {
           "align": "left"
          },
          "hovermode": "closest",
          "mapbox": {
           "style": "light"
          },
          "paper_bgcolor": "white",
          "plot_bgcolor": "#E5ECF6",
          "polar": {
           "angularaxis": {
            "gridcolor": "white",
            "linecolor": "white",
            "ticks": ""
           },
           "bgcolor": "#E5ECF6",
           "radialaxis": {
            "gridcolor": "white",
            "linecolor": "white",
            "ticks": ""
           }
          },
          "scene": {
           "xaxis": {
            "backgroundcolor": "#E5ECF6",
            "gridcolor": "white",
            "gridwidth": 2,
            "linecolor": "white",
            "showbackground": true,
            "ticks": "",
            "zerolinecolor": "white"
           },
           "yaxis": {
            "backgroundcolor": "#E5ECF6",
            "gridcolor": "white",
            "gridwidth": 2,
            "linecolor": "white",
            "showbackground": true,
            "ticks": "",
            "zerolinecolor": "white"
           },
           "zaxis": {
            "backgroundcolor": "#E5ECF6",
            "gridcolor": "white",
            "gridwidth": 2,
            "linecolor": "white",
            "showbackground": true,
            "ticks": "",
            "zerolinecolor": "white"
           }
          },
          "shapedefaults": {
           "line": {
            "color": "#2a3f5f"
           }
          },
          "ternary": {
           "aaxis": {
            "gridcolor": "white",
            "linecolor": "white",
            "ticks": ""
           },
           "baxis": {
            "gridcolor": "white",
            "linecolor": "white",
            "ticks": ""
           },
           "bgcolor": "#E5ECF6",
           "caxis": {
            "gridcolor": "white",
            "linecolor": "white",
            "ticks": ""
           }
          },
          "title": {
           "x": 0.05
          },
          "xaxis": {
           "automargin": true,
           "gridcolor": "white",
           "linecolor": "white",
           "ticks": "",
           "title": {
            "standoff": 15
           },
           "zerolinecolor": "white",
           "zerolinewidth": 2
          },
          "yaxis": {
           "automargin": true,
           "gridcolor": "white",
           "linecolor": "white",
           "ticks": "",
           "title": {
            "standoff": 15
           },
           "zerolinecolor": "white",
           "zerolinewidth": 2
          }
         }
        },
        "title": {
         "text": "Correlation",
         "x": 0.5
        }
       }
      }
     },
     "metadata": {},
     "output_type": "display_data"
    },
    {
     "data": {
      "application/vnd.plotly.v1+json": {
       "config": {
        "plotlyServerURL": "https://plot.ly"
       },
       "data": [
        {
         "colorscale": [
          [
           0,
           "rgb(165,0,38)"
          ],
          [
           0.1,
           "rgb(215,48,39)"
          ],
          [
           0.2,
           "rgb(244,109,67)"
          ],
          [
           0.3,
           "rgb(253,174,97)"
          ],
          [
           0.4,
           "rgb(254,224,144)"
          ],
          [
           0.5,
           "rgb(255,255,191)"
          ],
          [
           0.6,
           "rgb(224,243,248)"
          ],
          [
           0.7,
           "rgb(171,217,233)"
          ],
          [
           0.8,
           "rgb(116,173,209)"
          ],
          [
           0.9,
           "rgb(69,117,180)"
          ],
          [
           1,
           "rgb(49,54,149)"
          ]
         ],
         "type": "heatmap",
         "x": [
          "OXO-5FI635C Augusta",
          "OXO-5FI661A Augusta",
          "OXO-5FI696 Augusta",
          "OXO-5FIC132 Augusta",
          "OXO-5FIC600 Augusta",
          "OXO-5FIC601 Augusta",
          "OXO-5FIC602 Augusta",
          "OXO-5FIC606C Augusta",
          "OXO-5FIC609B Augusta",
          "OXO-5FIC611A Augusta",
          "OXO-5FIC612A Augusta",
          "OXO-5FIC612B Augusta",
          "OXO-5FIC618A Augusta",
          "OXO-5FIC618B Augusta",
          "OXO-5FIC618C Augusta",
          "OXO-5FIC618D Augusta",
          "OXO-5FIC622A Augusta",
          "OXO-5FIC622B Augusta",
          "OXO-5FIC622C Augusta",
          "OXO-5FIC636A Augusta",
          "OXO-5FIC636B Augusta",
          "OXO-5FIC636C Augusta",
          "OXO-5FQI691B Augusta",
          "OXO-5LI633B Augusta",
          "OXO-5LI650F Augusta",
          "OXO-5LI651E Augusta",
          "OXO-5LI651F Augusta",
          "OXO-5LI652E Augusta",
          "OXO-5LI653E Augusta",
          "OXO-5LI653F Augusta",
          "OXO-5LI654E Augusta",
          "OXO-5LI655F Augusta",
          "OXO-5LI656F Augusta",
          "OXO-5LI657E Augusta",
          "OXO-5LI657F Augusta",
          "OXO-5LI658E Augusta",
          "OXO-5LI658F Augusta",
          "OXO-5PIC605A Augusta",
          "OXO-5RIC606_Y Augusta",
          "OXO-5TIC002 Augusta",
          "OXO-5TIC601 Augusta",
          "OXO-5TIC602 Augusta",
          "OXO-5TIC603 Augusta",
          "OXO-5TIC604 Augusta",
          "OXO-5TIC605 Augusta",
          "OXO-5TIC606 Augusta",
          "OXO-5TIC607 Augusta",
          "OXO-5TIC659 Augusta",
          "OXO-_5FI658A Augusta",
          "OXO-_5FI659A Augusta",
          "OXO-_5FI660A Augusta",
          "OXO-_5FI662A Augusta"
         ],
         "y": [
          "OXO-5FI635C Augusta",
          "OXO-5FI661A Augusta",
          "OXO-5FI696 Augusta",
          "OXO-5FIC132 Augusta",
          "OXO-5FIC600 Augusta",
          "OXO-5FIC601 Augusta",
          "OXO-5FIC602 Augusta",
          "OXO-5FIC606C Augusta",
          "OXO-5FIC609B Augusta",
          "OXO-5FIC611A Augusta",
          "OXO-5FIC612A Augusta",
          "OXO-5FIC612B Augusta",
          "OXO-5FIC618A Augusta",
          "OXO-5FIC618B Augusta",
          "OXO-5FIC618C Augusta",
          "OXO-5FIC618D Augusta",
          "OXO-5FIC622A Augusta",
          "OXO-5FIC622B Augusta",
          "OXO-5FIC622C Augusta",
          "OXO-5FIC636A Augusta",
          "OXO-5FIC636B Augusta",
          "OXO-5FIC636C Augusta",
          "OXO-5FQI691B Augusta",
          "OXO-5LI633B Augusta",
          "OXO-5LI650F Augusta",
          "OXO-5LI651E Augusta",
          "OXO-5LI651F Augusta",
          "OXO-5LI652E Augusta",
          "OXO-5LI653E Augusta",
          "OXO-5LI653F Augusta",
          "OXO-5LI654E Augusta",
          "OXO-5LI655F Augusta",
          "OXO-5LI656F Augusta",
          "OXO-5LI657E Augusta",
          "OXO-5LI657F Augusta",
          "OXO-5LI658E Augusta",
          "OXO-5LI658F Augusta",
          "OXO-5PIC605A Augusta",
          "OXO-5RIC606_Y Augusta",
          "OXO-5TIC002 Augusta",
          "OXO-5TIC601 Augusta",
          "OXO-5TIC602 Augusta",
          "OXO-5TIC603 Augusta",
          "OXO-5TIC604 Augusta",
          "OXO-5TIC605 Augusta",
          "OXO-5TIC606 Augusta",
          "OXO-5TIC607 Augusta",
          "OXO-5TIC659 Augusta",
          "OXO-_5FI658A Augusta",
          "OXO-_5FI659A Augusta",
          "OXO-_5FI660A Augusta",
          "OXO-_5FI662A Augusta"
         ],
         "z": [
          [
           1,
           0.5705370537053706,
           0.5512391239123913,
           0.04405693437982299,
           0.29176117611761176,
           0.2754035403540354,
           0.29827556847485737,
           0.16443074917249983,
           -0.3195079507950795,
           0.1498109810981098,
           0.24597387380316985,
           0.7007860786078608,
           0.276987698769877,
           0.46655865586558654,
           0.5131953195319532,
           -0.24092409240924093,
           0.15714059903806935,
           0.6184218421842185,
           0.5882148214821482,
           -0.20217379770350202,
           -0.11053535070227422,
           0.4872007200720072,
           -0.4192663886026799,
           0.45585059330294975,
           0.142210190665815,
           0.3984350388107906,
           0.2655745574557456,
           -0.14737473747374738,
           -0.3993999399939994,
           -0.3734053405340534,
           -0.26652345191674687,
           0.36403240324032404,
           -0.3948634863486349,
           0.5006570696583965,
           -0.04483648364836484,
           -0.22235623807211846,
           -0.10241824182418242,
           0.043504350435043505,
           0.18227422742274227,
           -0.08936120420443522,
           0.38094209420942093,
           -0.6493009300930093,
           -0.588994899489949,
           -0.46027002700270025,
           -0.48415241524152414,
           -0.33282928292829284,
           -0.2834083408340834,
           -0.13342934293429343,
           0.5748214821482148,
           0.5589438943894389,
           0.5503630363036304,
           0.5399099909990999
          ],
          [
           0.5705370537053706,
           1,
           0.3762136213621362,
           0.31203494793663794,
           0.7392739273927392,
           0.7617161716171618,
           0.2995238093907532,
           -0.3560045742029273,
           -0.15375937593759376,
           -0.3887548754875488,
           -0.2106993748731077,
           0.7361416141614161,
           0.5482388238823882,
           0.4852565256525653,
           0.5382898289828983,
           -0.08021602160216022,
           -0.3219037823916497,
           0.8005160516051605,
           0.1975037503750375,
           -0.34971903680839084,
           -0.25195308751776824,
           0.35273927392739274,
           -0.8226882320010307,
           0.786598091123048,
           0.3561450495095705,
           0.8126757056013343,
           -0.14181818181818182,
           -0.1127032703270327,
           -0.7938673867386739,
           -0.8053645364536454,
           -0.2760044284573732,
           0.5808460846084609,
           -0.8412841284128413,
           0.6675227574243037,
           -0.4922412241224122,
           0.09495520472954264,
           -0.7138673867386739,
           0.017413741374137415,
           0.00888088808880888,
           0.05238539569599244,
           0.6168736873687368,
           -0.6743114311431143,
           -0.6063246324632463,
           -0.5717251725172517,
           -0.45275727572757274,
           -0.06048604860486049,
           -0.03242724272427243,
           -0.03561956195619562,
           0.985958595859586,
           0.9867386738673868,
           0.9578877887788779,
           0.9745574557455745
          ],
          [
           0.5512391239123913,
           0.3762136213621362,
           1,
           0.3189657241840767,
           0.19653165316531654,
           0.07878787878787878,
           0.5132010500224207,
           0.2566739990093792,
           -0.36374437443744373,
           0.2743834383438344,
           0.2966471767262934,
           0.669030903090309,
           0.30724272427242727,
           0.35912391239123914,
           0.3942994299429943,
           -0.28074407440744076,
           0.1884806466753982,
           0.41675367536753677,
           0.37556555655565554,
           -0.051223298227818605,
           -0.1290321557127927,
           0.5663846384638463,
           -0.19073952699583405,
           0.1627474019474058,
           -0.2885751639394985,
           0.20297090600423187,
           0.32753675367536755,
           -0.09896189618961897,
           -0.25642964296429643,
           -0.17426942694269426,
           0.028898976594719312,
           0.24858085808580857,
           -0.20742874287428742,
           0.4597867374024417,
           0.20224422442244225,
           -0.43400121221335763,
           0.08943294329432944,
           0.16771677167716773,
           0.04858085808580858,
           0.003624373310467289,
           0.21236123612361235,
           -0.468994899489949,
           -0.5371257125712571,
           -0.3442064206420642,
           -0.37454545454545457,
           -0.2983978397839784,
           -0.4398199819981998,
           -0.07998799879987999,
           0.4031563156315632,
           0.3846024602460246,
           0.3640684068406841,
           0.34072607260726073
          ],
          [
           0.04405693437982299,
           0.31203494793663794,
           0.3189657241840767,
           1,
           0.31938577122937606,
           0.2477557486616905,
           0.19216839515154374,
           -0.08248941562575718,
           -0.2927307858690963,
           -0.07262013346017678,
           -0.0717920903901008,
           0.18165834574780462,
           0.4700326436899394,
           -0.15480533820902664,
           0.15233306131383637,
           -0.20360880420073196,
           -0.21017869385167098,
           0.09676083722073628,
           -0.4018290048774812,
           0.10338638955217952,
           0.13245013277549492,
           -0.2569247755933671,
           -0.37073595287262473,
           -0.016346694489603086,
           -0.3537001593504831,
           0.3260684978904647,
           -0.023018578082402753,
           -0.06892371946154276,
           -0.4655561423214638,
           -0.39653641210670976,
           0.4959570350791227,
           -0.025970908743649403,
           -0.3479789736701083,
           0.18121538341850563,
           -0.1760057126524909,
           -0.25582525728805294,
           -0.20269070137314915,
           0.15427127839428895,
           -0.5165858576532555,
           0.0621731499147585,
           -0.03762421391466769,
           -0.07769070136414714,
           -0.17276534973161045,
           0.05673635447578676,
           0.020018242044550466,
           0.26117325142296594,
           0.061986942542028266,
           -0.08094906630125473,
           0.2845818731902895,
           0.32377826318879177,
           0.2661838126061793,
           0.31190893382304813
          ],
          [
           0.29176117611761176,
           0.7392739273927392,
           0.19653165316531654,
           0.31938577122937606,
           1,
           0.847056705670567,
           0.23361908949475327,
           -0.36309790068182857,
           -0.006468646864686469,
           -0.42821482148214823,
           -0.18454266876102784,
           0.5308250825082508,
           0.5165076507650765,
           0.08704470447044704,
           0.4167656765676568,
           -0.0469006900690069,
           -0.4355292865903168,
           0.634047404740474,
           0.0650945094509451,
           -0.28157773122602375,
           -0.1435761156905342,
           0.038067806780678067,
           -0.8144362428224492,
           0.7309712013568976,
           0.2679324545614571,
           0.8354300492988376,
           -0.20646864686468647,
           -0.059201920192019204,
           -0.8413081308130813,
           -0.850909090909091,
           -0.1829348422895791,
           0.3628202820282028,
           -0.858985898589859,
           0.5640837928922011,
           -0.4611701170117012,
           0.12977131303596368,
           -0.7664806480648065,
           -0.06856285628562857,
           -0.1993879387938794,
           0.0521153678831265,
           0.5675727572757275,
           -0.5388538853885388,
           -0.28924092409240926,
           -0.492973297329733,
           -0.2549054905490549,
           0.17939393939393938,
           0.2584578457845785,
           -0.08525652565256525,
           0.7241884188418842,
           0.7244644464446445,
           0.7202400240024003,
           0.7118031803180318
          ],
          [
           0.2754035403540354,
           0.7617161716171618,
           0.07878787878787878,
           0.2477557486616905,
           0.847056705670567,
           1,
           0.0869747865099915,
           -0.44740766692724643,
           0.12638463846384637,
           -0.5035943594359436,
           -0.25786770347512816,
           0.48895289528952895,
           0.41507350735073506,
           0.27509150915091507,
           0.2715271527152715,
           -0.004008400840084008,
           -0.4225479448715499,
           0.712067206720672,
           0.029390939093909392,
           -0.21945278672279908,
           -0.11730538211555422,
           0.1409180918091809,
           -0.861800482763149,
           0.8018251628572806,
           0.36228246522154467,
           0.8625228398563869,
           -0.25252925292529255,
           -0.06965496549654966,
           -0.8384518451845184,
           -0.8618541854185419,
           -0.26240102730699355,
           0.5660966096609661,
           -0.8637263726372637,
           0.5952991017154984,
           -0.6675427542754275,
           0.18615996690625639,
           -0.8238103810381038,
           -0.12963696369636965,
           -0.11158715871587159,
           0.014173459866430028,
           0.671071107110711,
           -0.5328172817281728,
           -0.32081608160816083,
           -0.48902490249024905,
           -0.28026402640264025,
           0.22945094509450945,
           0.24081608160816081,
           0.01374137413741374,
           0.7415901590159016,
           0.7583678367836784,
           0.7415301530153016,
           0.762016201620162
          ],
          [
           0.29827556847485737,
           0.2995238093907532,
           0.5132010500224207,
           0.19216839515154374,
           0.23361908949475327,
           0.0869747865099915,
           1,
           0.06380986676384277,
           -0.434795917492714,
           0.05982554658925725,
           0.1361478100664724,
           0.5714002827260637,
           0.4824691186267354,
           0.33029174773593545,
           0.45531987870600116,
           -0.08510242513614776,
           0.15471439810596313,
           0.2726026134834999,
           0.14756848135518463,
           -0.2436010528675547,
           -0.29428217597813733,
           0.29241843802334616,
           -0.12705857239431903,
           0.13438674357560992,
           0.07020777816845855,
           0.14749690999183798,
           0.013712646600105608,
           -0.03358848272244686,
           -0.18469764744483602,
           -0.18061685983517659,
           0.028709627203228616,
           0.08993335752699459,
           -0.15826254535579215,
           0.354769600493391,
           0.06795711601732862,
           -0.23641988526086127,
           -0.02877555380634853,
           -0.002994577966500087,
           0.027455298991458713,
           0.02944777188257584,
           0.0840162154929884,
           -0.33361038824790845,
           -0.31537886948592997,
           -0.2693679891870198,
           -0.20241306659735758,
           -0.20966846692100208,
           -0.3080514552632915,
           0.029681728702022906,
           0.33009971067195143,
           0.29101416699296334,
           0.33295626199871303,
           0.2848869844202247
          ],
          [
           0.16443074917249983,
           -0.3560045742029273,
           0.2566739990093792,
           -0.08248941562575718,
           -0.36309790068182857,
           -0.44740766692724643,
           0.06380986676384277,
           1,
           -0.3558245405359501,
           0.9322083264856552,
           0.8007285127924625,
           -0.06029927619289337,
           -0.27594960362040366,
           -0.3434562276146172,
           0.058582955234377496,
           -0.2137839784131801,
           0.7046944998901896,
           -0.1652589040405949,
           0.2781580166019905,
           0.4381675889177852,
           0.5357606467010166,
           -0.1046355672471426,
           0.28009591658793465,
           -0.38416178549855023,
           -0.34920706265083207,
           -0.3112371361541226,
           0.8716269975478309,
           -0.2789981737145507,
           0.2331676032243908,
           0.32254831775633286,
           0.24670687517683088,
           -0.3653723260079737,
           0.38389779033992655,
           -0.22292802584044374,
           0.6911492475254308,
           -0.7143684472325854,
           0.7828944042170067,
           0.033036177890314294,
           -0.10644190503914706,
           -0.028571428672266887,
           -0.38365174432839105,
           0.11475345933126065,
           0.033000171156918855,
           0.2821307595199538,
           0.21167158338731437,
           0.08104515575089818,
           0.03952339102372569,
           -0.1392680436513213,
           -0.3859201685323036,
           -0.3722736165754327,
           -0.3495773722918416,
           -0.37072532703942884
          ],
          [
           -0.3195079507950795,
           -0.15375937593759376,
           -0.36374437443744373,
           -0.2927307858690963,
           -0.006468646864686469,
           0.12638463846384637,
           -0.434795917492714,
           -0.3558245405359501,
           1,
           -0.3473387338733873,
           -0.36318701851721835,
           -0.3167956795679568,
           -0.2588658865886589,
           0.014041404140414042,
           -0.44487248724872486,
           0.3272847284728473,
           -0.220025369074657,
           -0.02067806780678068,
           -0.17143714371437144,
           0.12566975022112697,
           0.016708613209976513,
           0.0258985898589859,
           0.0569108960431937,
           0.15384939584446122,
           -0.060062120506730675,
           -0.012847323274355076,
           -0.39715571557155716,
           0.031203120312031204,
           -0.00906090609060906,
           0.013681368136813681,
           -0.2773305650494482,
           0.21903390339033904,
           -0.009756975697569756,
           -0.04770505673687289,
           -0.22905490549054905,
           0.300911507606651,
           -0.24831683168316832,
           -0.06287428742874288,
           0.028406840684068405,
           -0.04535267132535062,
           0.24694869486948695,
           0.028022802280228024,
           0.3172637263726373,
           -0.0924092409240924,
           0.05098109810981098,
           0.017785778577857785,
           0.24825682568256827,
           0.10018601860186019,
           -0.1328052805280528,
           -0.15343534353435342,
           -0.062346234623462345,
           -0.08228022802280228
          ],
          [
           0.1498109810981098,
           -0.3887548754875488,
           0.2743834383438344,
           -0.07262013346017678,
           -0.42821482148214823,
           -0.5035943594359436,
           0.05982554658925725,
           0.9322083264856552,
           -0.3473387338733873,
           1,
           0.8250600211256697,
           -0.07486348634863486,
           -0.30706270627062704,
           -0.22682268226822683,
           0.004896489648964896,
           -0.1318811881188119,
           0.7340505279978522,
           -0.1693249324932493,
           0.29236123612361237,
           0.45150383354532236,
           0.4745484577206735,
           -0.06721872187218722,
           0.32810731753019745,
           -0.4223539058121874,
           -0.3329220014592739,
           -0.37488861352888064,
           0.8781518151815182,
           -0.37663366336633664,
           0.2915211521152115,
           0.37053705370537054,
           0.27092790557549357,
           -0.3180678067806781,
           0.43837983798379837,
           -0.24079952475395877,
           0.7872907290729073,
           -0.7406553974569002,
           0.8365076507650765,
           0.10825082508250825,
           -0.015973597359735973,
           -0.05765993897397381,
           -0.36036003600360034,
           0.1031983198319832,
           -0.050777077707770776,
           0.2308790879087909,
           0.10265826582658266,
           -0.011725172517251725,
           -0.06137413741374138,
           -0.1541194119411941,
           -0.41116111611161116,
           -0.38664266426642663,
           -0.38976297629762974,
           -0.3861746174617462
          ],
          [
           0.24597387380316985,
           -0.2106993748731077,
           0.2966471767262934,
           -0.0717920903901008,
           -0.18454266876102784,
           -0.25786770347512816,
           0.1361478100664724,
           0.8007285127924625,
           -0.36318701851721835,
           0.8250600211256697,
           1,
           0.11945462742546453,
           -0.2602974950322187,
           -0.20491039648833945,
           0.030542479872628307,
           -0.10188115998880708,
           0.6701398596822709,
           0.05384418090512676,
           0.43907548332404917,
           0.4962120164629145,
           0.5018404295744182,
           -0.0010022890172998549,
           0.03989388937278602,
           -0.14755686784086425,
           -0.07854031893528379,
           -0.07207087105731327,
           0.7674010674759107,
           -0.356912081821032,
           0.04122748824493403,
           0.09597676650507703,
           0.10179642270457717,
           -0.15519686123026663,
           0.1590541553271479,
           0.016027608734017075,
           0.5396384813931346,
           -0.6833182827549138,
           0.5869222250941168,
           -0.001512545244288872,
           -0.08190219891062997,
           -0.04455036186390793,
           -0.21620892722881052,
           -0.06202650397362921,
           -0.12811683432649237,
           0.08890607307394349,
           0.0926358031140775,
           0.05425724546983215,
           -0.03582120203040754,
           -0.09578238318050977,
           -0.2390125209921054,
           -0.2250412195388347,
           -0.2043029485990668,
           -0.21996902966340817
          ],
          [
           0.7007860786078608,
           0.7361416141614161,
           0.669030903090309,
           0.18165834574780462,
           0.5308250825082508,
           0.48895289528952895,
           0.5714002827260637,
           -0.06029927619289337,
           -0.3167956795679568,
           -0.07486348634863486,
           0.11945462742546453,
           1,
           0.5354095409540954,
           0.5907470747074708,
           0.5811341134113411,
           -0.2082088208820882,
           0.009669331934810156,
           0.7307170717071707,
           0.4239423942394239,
           -0.2647078547601084,
           -0.26636528599441717,
           0.597011701170117,
           -0.6049240454298861,
           0.5821592250965228,
           0.29019334242887884,
           0.6061224306130809,
           0.07276327632763277,
           -0.08846084608460845,
           -0.577977797779778,
           -0.5926792679267927,
           -0.23125781955645505,
           0.5786378637863786,
           -0.6174737473747375,
           0.7102532868611932,
           -0.21903390339033904,
           -0.171068186073673,
           -0.35777977797779775,
           0.09358535853585359,
           0.0204980498049805,
           0.005490565528274122,
           0.48926492649264924,
           -0.669030903090309,
           -0.6622982298229823,
           -0.5325052505250525,
           -0.48315631563156314,
           -0.21996999699969996,
           -0.33713771377137713,
           -0.04662466246624662,
           0.7375937593759376,
           0.7267326732673267,
           0.7362976297629763,
           0.7034623462346234
          ],
          [
           0.276987698769877,
           0.5482388238823882,
           0.30724272427242727,
           0.4700326436899394,
           0.5165076507650765,
           0.41507350735073506,
           0.4824691186267354,
           -0.27594960362040366,
           -0.2588658865886589,
           -0.30706270627062704,
           -0.2602974950322187,
           0.5354095409540954,
           1,
           0.32044404440444046,
           0.7222322232223223,
           -0.18793879387938794,
           -0.33036367255141946,
           0.3247764776477648,
           -0.23607560756075607,
           -0.3900045905943285,
           -0.29495753173150424,
           -0.0763036303630363,
           -0.40192148172951775,
           0.19506725637294,
           0.012843380622919837,
           0.4104842798826753,
           -0.22204620462046204,
           0.1460906090609061,
           -0.4759195919591959,
           -0.48216021602160214,
           0.2661694154509893,
           0.15158715871587158,
           -0.46293429342934295,
           0.2199833182356931,
           -0.3195319531953195,
           -0.009871164799045604,
           -0.4151095109510951,
           0.11551155115511551,
           -0.31377137713771375,
           0.04091821457628551,
           0.20986498649864987,
           -0.3041944194419442,
           -0.3468706870687069,
           -0.16607260726072606,
           -0.16166816681668167,
           0.09459345934593459,
           -0.01785778577857786,
           -0.05401740174017402,
           0.5115271527152715,
           0.5316651665166516,
           0.5117311731173118,
           0.5124272427242724
          ],
          [
           0.46655865586558654,
           0.4852565256525653,
           0.35912391239123914,
           -0.15480533820902664,
           0.08704470447044704,
           0.27509150915091507,
           0.33029174773593545,
           -0.3434562276146172,
           0.014041404140414042,
           -0.22682268226822683,
           -0.20491039648833945,
           0.5907470747074708,
           0.32044404440444046,
           1,
           0.32646864686468646,
           0.07914791479147915,
           -0.038931620625274756,
           0.5086108610861086,
           0.30150615061506153,
           -0.31766386497872,
           -0.4854470161681873,
           0.7320972097209721,
           -0.18409074685854587,
           0.4064666594316073,
           0.2930798229775033,
           0.17718024956650272,
           -0.2083168316831683,
           -0.08602460246024603,
           -0.13665766576657665,
           -0.16436843684368438,
           -0.404477661200924,
           0.6887728772877287,
           -0.20745274527452745,
           0.4834292435085145,
           -0.21624962496249625,
           0.038824581306884536,
           -0.2467806780678068,
           0.1278007800780078,
           0.5298649864986499,
           -0.010117042055377234,
           0.5525112511251125,
           -0.5466666666666666,
           -0.6604860486048605,
           -0.5792979297929793,
           -0.6644224422442244,
           -0.5348214821482148,
           -0.5681608160816082,
           0.04106810681068107,
           0.525928592859286,
           0.5112031203120312,
           0.4818721872187219,
           0.5104230423042304
          ],
          [
           0.5131953195319532,
           0.5382898289828983,
           0.3942994299429943,
           0.15233306131383637,
           0.4167656765676568,
           0.2715271527152715,
           0.45531987870600116,
           0.058582955234377496,
           -0.44487248724872486,
           0.004896489648964896,
           0.030542479872628307,
           0.5811341134113411,
           0.7222322232223223,
           0.32646864686468646,
           1,
           -0.24834083408340835,
           -0.10974288598751179,
           0.4246624662466247,
           0.1919231923192319,
           -0.393277491021382,
           -0.15453114335280194,
           0.08277227722772278,
           -0.3527120389299709,
           0.2991165212864049,
           0.10089561554055412,
           0.334510454578327,
           0.08232823282328233,
           0.027854785478547854,
           -0.3657005700570057,
           -0.35445544554455444,
           -0.04287441606504765,
           0.05431743174317432,
           -0.3761896189618962,
           0.24395585932548017,
           -0.02895889588958896,
           -0.034288045994982724,
           -0.16682868286828684,
           0.08639663966396639,
           -0.018133813381338133,
           0.0023942466074113383,
           0.19415541554155416,
           -0.4466366636663666,
           -0.4409120912091209,
           -0.2774917491749175,
           -0.24315631563156315,
           -0.03708370837083708,
           0.033435343534353436,
           -0.06967896789678968,
           0.49904590459045906,
           0.4930933093309331,
           0.504014401440144,
           0.4563336333633363
          ],
          [
           -0.24092409240924093,
           -0.08021602160216022,
           -0.28074407440744076,
           -0.20360880420073196,
           -0.0469006900690069,
           -0.004008400840084008,
           -0.08510242513614776,
           -0.2137839784131801,
           0.3272847284728473,
           -0.1318811881188119,
           -0.10188115998880708,
           -0.2082088208820882,
           -0.18793879387938794,
           0.07914791479147915,
           -0.24834083408340835,
           1,
           0.05802839613988699,
           0.033855385538553856,
           0.011797179717971798,
           0.06054865790048936,
           0.0025285659495383156,
           0.014065406540654066,
           0.016516078048040693,
           0.06334806280386678,
           0.2339652844690584,
           0.001308134737883889,
           -0.2605940594059406,
           -0.2548214821482148,
           0.05194119411941194,
           -0.01618961896189619,
           -0.1271650980056669,
           0.15380738073807382,
           -0.03387938793879388,
           0.06612700946419361,
           -0.06604260426042605,
           0.16991605012144398,
           -0.07645964596459646,
           -0.09441344134413442,
           0.07089108910891088,
           -0.003486359095002475,
           0.10177017701770177,
           0.09521752175217522,
           0.10168616861686168,
           -0.05134113411341134,
           0.04847284728472847,
           0.04831683168316832,
           0.13098109810981098,
           0.10936693669366937,
           -0.034995499549955,
           -0.07516351635163517,
           -0.028034803480348036,
           0.018841884188418843
          ],
          [
           0.15714059903806935,
           -0.3219037823916497,
           0.1884806466753982,
           -0.21017869385167098,
           -0.4355292865903168,
           -0.4225479448715499,
           0.15471439810596313,
           0.7046944998901896,
           -0.220025369074657,
           0.7340505279978522,
           0.6701398596822709,
           0.009669331934810156,
           -0.33036367255141946,
           -0.038931620625274756,
           -0.10974288598751179,
           0.05802839613988699,
           1,
           -0.058233070901816904,
           0.4488703597088394,
           0.4778276414936389,
           0.4062408510544407,
           0.14060535918033754,
           0.29251997460661605,
           -0.3180620444404039,
           -0.1158663212249679,
           -0.3262990665041975,
           0.5955167254988659,
           -0.3003633142649046,
           0.31527976282373615,
           0.3426751695947794,
           0.14834623162446697,
           -0.10522143442851462,
           0.37300424795348475,
           -0.10856820814914403,
           0.5250900005984366,
           -0.5330509009483159,
           0.6810583714545436,
           -0.037895842284599135,
           0.010612076292790363,
           -0.01087570520752165,
           -0.3144920751035816,
           0.17291296023769873,
           0.07421010686337622,
           0.23246711369379053,
           0.13744220376869343,
           -0.012491362743237752,
           -0.09304018496092825,
           -0.18472207377450345,
           -0.32139519661958144,
           -0.32858982461469355,
           -0.29420446461046806,
           -0.29359044032467835
          ],
          [
           0.6184218421842185,
           0.8005160516051605,
           0.41675367536753677,
           0.09676083722073628,
           0.634047404740474,
           0.712067206720672,
           0.2726026134834999,
           -0.1652589040405949,
           -0.02067806780678068,
           -0.1693249324932493,
           0.05384418090512676,
           0.7307170717071707,
           0.3247764776477648,
           0.5086108610861086,
           0.4246624662466247,
           0.033855385538553856,
           -0.058233070901816904,
           1,
           0.5058385838583859,
           -0.12847337448400734,
           -0.0859461448555232,
           0.4702190219021902,
           -0.7840478691831421,
           0.8093597647992902,
           0.34150855218220216,
           0.7649107858143813,
           0.005268526852685269,
           -0.18000600060006,
           -0.7382418241824182,
           -0.7395379537953796,
           -0.41175041029411336,
           0.6491689168916892,
           -0.7689528952895289,
           0.7406105047268334,
           -0.3646564656465647,
           -0.04395518671915444,
           -0.5365856585658566,
           -0.0859045904590459,
           0.06906690669066906,
           0.04664880482710713,
           0.6785958595859586,
           -0.700906090609061,
           -0.5349294929492949,
           -0.6142334233423342,
           -0.46060606060606063,
           0.000528052805280528,
           -0.03177917791779178,
           0.07236723672367237,
           0.7935553555355536,
           0.7891629162916292,
           0.7956795679567957,
           0.8097809780978098
          ],
          [
           0.5882148214821482,
           0.1975037503750375,
           0.37556555655565554,
           -0.4018290048774812,
           0.0650945094509451,
           0.029390939093909392,
           0.14756848135518463,
           0.2781580166019905,
           -0.17143714371437144,
           0.29236123612361237,
           0.43907548332404917,
           0.4239423942394239,
           -0.23607560756075607,
           0.30150615061506153,
           0.1919231923192319,
           0.011797179717971798,
           0.4488703597088394,
           0.5058385838583859,
           1,
           0.10667008193319519,
           0.08273994832893738,
           0.5702250225022503,
           -0.14240731178491936,
           0.2930888397327973,
           0.2732097573826795,
           0.14724916666482915,
           0.2735793579357936,
           -0.1344734473447345,
           -0.04018001800180018,
           -0.05075307530753075,
           -0.43842915820526823,
           0.35102310231023104,
           -0.1193999399939994,
           0.4374583705951582,
           0.19275127512751275,
           -0.10882884182096722,
           0.13810981098109812,
           -0.11485148514851486,
           0.3118151815181518,
           -0.041044227555622946,
           0.2031083108310831,
           -0.28723672367236724,
           -0.23554755475547554,
           -0.26936693669366935,
           -0.24822082208220822,
           -0.21866186618661868,
           -0.2034923492349235,
           -0.08886888688868887,
           0.21172517251725173,
           0.16276027602760276,
           0.22353435343534353,
           0.19307530753075308
          ],
          [
           -0.20217379770350202,
           -0.34971903680839084,
           -0.051223298227818605,
           0.10338638955217952,
           -0.28157773122602375,
           -0.21945278672279908,
           -0.2436010528675547,
           0.4381675889177852,
           0.12566975022112697,
           0.45150383354532236,
           0.4962120164629145,
           -0.2647078547601084,
           -0.3900045905943285,
           -0.31766386497872,
           -0.393277491021382,
           0.06054865790048936,
           0.4778276414936389,
           -0.12847337448400734,
           0.10667008193319519,
           1,
           0.8652165930267953,
           -0.12643984443925718,
           0.07869685632891824,
           -0.2882180464210997,
           -0.2654059579031822,
           -0.08778498788746401,
           0.3204313910751255,
           -0.33262053862146806,
           0.04067060089500279,
           0.14711206110719055,
           0.2247478587844634,
           0.06098183589818761,
           0.15330891301870725,
           -0.019571340030586824,
           0.24877653062253924,
           -0.4326021983620069,
           0.39878847776987647,
           -0.06009141445847453,
           -0.34654239815860366,
           -0.04734890375398134,
           -0.29355028977351716,
           0.3469033798233522,
           0.3277713515916793,
           0.3743620517885582,
           0.3410795422987423,
           0.38323016801921417,
           0.16306745068907627,
           -0.038456580017878376,
           -0.3966225877813852,
           -0.3849388145656906,
           -0.27141008100227304,
           -0.27560950103551446
          ],
          [
           -0.11053535070227422,
           -0.25195308751776824,
           -0.1290321557127927,
           0.13245013277549492,
           -0.1435761156905342,
           -0.11730538211555422,
           -0.29428217597813733,
           0.5357606467010166,
           0.016708613209976513,
           0.4745484577206735,
           0.5018404295744182,
           -0.26636528599441717,
           -0.29495753173150424,
           -0.4854470161681873,
           -0.15453114335280194,
           0.0025285659495383156,
           0.4062408510544407,
           -0.0859461448555232,
           0.08273994832893738,
           0.8652165930267953,
           1,
           -0.3172064023445635,
           -0.06073131551343698,
           -0.20136293719565218,
           -0.25608685337391024,
           0.04257164129517728,
           0.39936910981157153,
           -0.2871898775242377,
           -0.09676313665950348,
           0.0016564302994494177,
           0.2715738172703254,
           -0.11211648871538502,
           0.031158457829794727,
           -0.06734621707021578,
           0.20248605539330156,
           -0.37087138148780907,
           0.34263637205542896,
           -0.1319999266659729,
           -0.4509882464538835,
           -0.024225365812922544,
           -0.3132284598830069,
           0.2992742894815846,
           0.32961708087604435,
           0.40810928938404517,
           0.4353776457530117,
           0.5390739471128622,
           0.44507780197630264,
           -0.07273862296029204,
           -0.32465406433489097,
           -0.3137617802445721,
           -0.18897736435271595,
           -0.21904408403060083
          ],
          [
           0.4872007200720072,
           0.35273927392739274,
           0.5663846384638463,
           -0.2569247755933671,
           0.038067806780678067,
           0.1409180918091809,
           0.29241843802334616,
           -0.1046355672471426,
           0.0258985898589859,
           -0.06721872187218722,
           -0.0010022890172998549,
           0.597011701170117,
           -0.0763036303630363,
           0.7320972097209721,
           0.08277227722772278,
           0.014065406540654066,
           0.14060535918033754,
           0.4702190219021902,
           0.5702250225022503,
           -0.12643984443925718,
           -0.3172064023445635,
           1,
           -0.13269126001013792,
           0.41855072578431596,
           0.2283964179560557,
           0.15752222478986228,
           -0.05954995499549955,
           -0.11591959195919592,
           -0.0670987098709871,
           -0.07944794479447945,
           -0.5545951233001958,
           0.6834923492349235,
           -0.16597659765976597,
           0.6444563123807138,
           -0.05128112811281128,
           -0.0026823165137832127,
           -0.1002100210021002,
           0.07702370237023702,
           0.5465466546654666,
           0.00872489866460172,
           0.4844764476447645,
           -0.5186198619861986,
           -0.533033303330333,
           -0.5722172217221723,
           -0.5753015301530153,
           -0.5962676267626763,
           -0.6331113111311131,
           0.023054305430543053,
           0.4224062406240624,
           0.36136813681368135,
           0.4040804080408041,
           0.36562856285628564
          ],
          [
           -0.4192663886026799,
           -0.8226882320010307,
           -0.19073952699583405,
           -0.37073595287262473,
           -0.8144362428224492,
           -0.861800482763149,
           -0.12705857239431903,
           0.28009591658793465,
           0.0569108960431937,
           0.32810731753019745,
           0.03989388937278602,
           -0.6049240454298861,
           -0.40192148172951775,
           -0.18409074685854587,
           -0.3527120389299709,
           0.016516078048040693,
           0.29251997460661605,
           -0.7840478691831421,
           -0.14240731178491936,
           0.07869685632891824,
           -0.06073131551343698,
           -0.13269126001013792,
           1,
           -0.8287639851691794,
           -0.4144786366406203,
           -0.9771376679198194,
           0.10668297446855296,
           0.1839092514953806,
           0.9474723440226012,
           0.9732204862103159,
           0.23076599678748339,
           -0.55210284490335,
           0.9717806229958713,
           -0.6982350014747202,
           0.565878342967595,
           -0.039246053867751714,
           0.7331928684242299,
           0.08901742578713215,
           0.25602945897182494,
           -0.01608658728654358,
           -0.5711356586539493,
           0.5553879109766416,
           0.3940143337409503,
           0.4356009712875553,
           0.22934964058652846,
           -0.28893456831369063,
           -0.24287104514234198,
           -0.02706700849338244,
           -0.7945685504012896,
           -0.8020340596728215,
           -0.8240070983066984,
           -0.8211576211050035
          ],
          [
           0.45585059330294975,
           0.786598091123048,
           0.1627474019474058,
           -0.016346694489603086,
           0.7309712013568976,
           0.8018251628572806,
           0.13438674357560992,
           -0.38416178549855023,
           0.15384939584446122,
           -0.4223539058121874,
           -0.14755686784086425,
           0.5821592250965228,
           0.19506725637294,
           0.4064666594316073,
           0.2991165212864049,
           0.06334806280386678,
           -0.3180620444404039,
           0.8093597647992902,
           0.2930888397327973,
           -0.2882180464210997,
           -0.20136293719565218,
           0.41855072578431596,
           -0.8287639851691794,
           1,
           0.49222942195085634,
           0.8335160466839321,
           -0.2053717215050597,
           -0.15092166480413752,
           -0.7860957843269141,
           -0.8077667346744081,
           -0.6467147645523494,
           0.5977163841539291,
           -0.8310163635240375,
           0.7339750948151671,
           -0.5234467364398353,
           0.1982999412789943,
           -0.7531588101232723,
           -0.16055160366716303,
           0.21749884272600836,
           -0.009464923599091794,
           0.7650993602485141,
           -0.7645827018296335,
           -0.4793298481165261,
           -0.7511352313159898,
           -0.4425035841485329,
           -0.09805028660535066,
           0.060664309350236714,
           0.10346084838085083,
           0.8027867215813085,
           0.7794796862406923,
           0.796572468931994,
           0.7740117179742054
          ],
          [
           0.142210190665815,
           0.3561450495095705,
           -0.2885751639394985,
           -0.3537001593504831,
           0.2679324545614571,
           0.36228246522154467,
           0.07020777816845855,
           -0.34920706265083207,
           -0.060062120506730675,
           -0.3329220014592739,
           -0.07854031893528379,
           0.29019334242887884,
           0.012843380622919837,
           0.2930798229775033,
           0.10089561554055412,
           0.2339652844690584,
           -0.1158663212249679,
           0.34150855218220216,
           0.2732097573826795,
           -0.2654059579031822,
           -0.25608685337391024,
           0.2283964179560557,
           -0.4144786366406203,
           0.49222942195085634,
           1,
           0.40884641346259676,
           -0.2890270876617579,
           -0.08577803812174838,
           -0.2136870297057423,
           -0.39269255827422433,
           -0.41161627684494273,
           0.4116150418707623,
           -0.41144010365569417,
           0.31878307530341204,
           -0.3489142699534204,
           0.4116224518825881,
           -0.4032325857320802,
           -0.1091614462025241,
           0.16923814489384378,
           0.007216223022427719,
           0.2982113439528356,
           -0.2130893241375928,
           -0.20533372993623825,
           -0.22539331193071918,
           -0.17180390538150997,
           -0.0024054004571870294,
           -0.011370983979429594,
           0.06453762317555745,
           0.3646878656787317,
           0.34306841793322645,
           0.36798253539584846,
           0.3577049152605948
          ],
          [
           0.3984350388107906,
           0.8126757056013343,
           0.20297090600423187,
           0.3260684978904647,
           0.8354300492988376,
           0.8625228398563869,
           0.14749690999183798,
           -0.3112371361541226,
           -0.012847323274355076,
           -0.37488861352888064,
           -0.07207087105731327,
           0.6061224306130809,
           0.4104842798826753,
           0.17718024956650272,
           0.334510454578327,
           0.001308134737883889,
           -0.3262990665041975,
           0.7649107858143813,
           0.14724916666482915,
           -0.08778498788746401,
           0.04257164129517728,
           0.15752222478986228,
           -0.9771376679198194,
           0.8335160466839321,
           0.40884641346259676,
           1,
           -0.1530277618601603,
           -0.13819423400672462,
           -0.9455173882952496,
           -0.9666875688239394,
           -0.23848927986366555,
           0.5767614064274577,
           -0.9813410781354643,
           0.730729649535088,
           -0.5932691067206621,
           0.07474204379570877,
           -0.7711034236561068,
           -0.12664304423412606,
           -0.2640391960383802,
           0.031053291648914783,
           0.5676044632622704,
           -0.5424198692489738,
           -0.3477298161726307,
           -0.4386991860181342,
           -0.1862171803704162,
           0.2887677430788367,
           0.2546842324770913,
           0.050483199769803484,
           0.7856369206063581,
           0.7864290021907648,
           0.8245089244229261,
           0.8054149577442723
          ],
          [
           0.2655745574557456,
           -0.14181818181818182,
           0.32753675367536755,
           -0.023018578082402753,
           -0.20646864686468647,
           -0.25252925292529255,
           0.013712646600105608,
           0.8716269975478309,
           -0.39715571557155716,
           0.8781518151815182,
           0.7674010674759107,
           0.07276327632763277,
           -0.22204620462046204,
           -0.2083168316831683,
           0.08232823282328233,
           -0.2605940594059406,
           0.5955167254988659,
           0.005268526852685269,
           0.2735793579357936,
           0.3204313910751255,
           0.39936910981157153,
           -0.05954995499549955,
           0.10668297446855296,
           -0.2053717215050597,
           -0.2890270876617579,
           -0.1530277618601603,
           1,
           -0.34897089708970896,
           0.09042904290429044,
           0.1759015901590159,
           0.20636725582827906,
           -0.23383138313831384,
           0.22671467146714672,
           -0.18400350437477614,
           0.6545094509450945,
           -0.7523927824702334,
           0.6035883588358836,
           0.13195319531953195,
           -0.007536753675367536,
           -0.05493565837305966,
           -0.1874107410741074,
           -0.035427542754275426,
           -0.1651005100510051,
           0.10216621662166217,
           -0.010765076507650765,
           0.01881788178817882,
           -0.034323432343234324,
           -0.1556915691569157,
           -0.1853825382538254,
           -0.11623162316231624,
           -0.2220942094209421,
           -0.17066906690669068
          ],
          [
           -0.14737473747374738,
           -0.1127032703270327,
           -0.09896189618961897,
           -0.06892371946154276,
           -0.059201920192019204,
           -0.06965496549654966,
           -0.03358848272244686,
           -0.2789981737145507,
           0.031203120312031204,
           -0.37663366336633664,
           -0.356912081821032,
           -0.08846084608460845,
           0.1460906090609061,
           -0.08602460246024603,
           0.027854785478547854,
           -0.2548214821482148,
           -0.3003633142649046,
           -0.18000600060006,
           -0.1344734473447345,
           -0.33262053862146806,
           -0.2871898775242377,
           -0.11591959195919592,
           0.1839092514953806,
           -0.15092166480413752,
           -0.08577803812174838,
           -0.13819423400672462,
           -0.34897089708970896,
           1,
           0.21142514251425143,
           0.16286828682868287,
           0.11078941130986351,
           -0.19837983798379838,
           0.13404140414041404,
           -0.17871094336321364,
           -0.21164116411641165,
           0.38481940875258086,
           -0.14103810381038104,
           -0.015145514551455146,
           -0.07213921392139214,
           -0.0015121557520492664,
           -0.14527452745274527,
           0.17886588658865887,
           0.24336033603360335,
           0.1506030603060306,
           0.16675667566756674,
           0.03111911191119112,
           0.019741974197419743,
           0.08878487848784879,
           -0.11619561956195619,
           -0.13720972097209722,
           -0.126000600060006,
           -0.17764176417641764
          ],
          [
           -0.3993999399939994,
           -0.7938673867386739,
           -0.25642964296429643,
           -0.4655561423214638,
           -0.8413081308130813,
           -0.8384518451845184,
           -0.18469764744483602,
           0.2331676032243908,
           -0.00906090609060906,
           0.2915211521152115,
           0.04122748824493403,
           -0.577977797779778,
           -0.4759195919591959,
           -0.13665766576657665,
           -0.3657005700570057,
           0.05194119411941194,
           0.31527976282373615,
           -0.7382418241824182,
           -0.04018001800180018,
           0.04067060089500279,
           -0.09676313665950348,
           -0.0670987098709871,
           0.9474723440226012,
           -0.7860957843269141,
           -0.2136870297057423,
           -0.9455173882952496,
           0.09042904290429044,
           0.21142514251425143,
           1,
           0.965064506450645,
           0.18164470940588628,
           -0.469006900690069,
           0.9391899189918992,
           -0.6765777172502082,
           0.5263966396639664,
           0.07798520226650253,
           0.7075307530753076,
           0.10067806780678068,
           0.30384638463846386,
           -0.013393379518150644,
           -0.5543114311431143,
           0.5915511551155116,
           0.3807260726072607,
           0.4641104110411041,
           0.21314131413141313,
           -0.27404740474047407,
           -0.2712991299129913,
           -0.021554155415541554,
           -0.7677887788778878,
           -0.7730573057305731,
           -0.805952595259526,
           -0.7952955295529553
          ],
          [
           -0.3734053405340534,
           -0.8053645364536454,
           -0.17426942694269426,
           -0.39653641210670976,
           -0.850909090909091,
           -0.8618541854185419,
           -0.18061685983517659,
           0.32254831775633286,
           0.013681368136813681,
           0.37053705370537054,
           0.09597676650507703,
           -0.5926792679267927,
           -0.48216021602160214,
           -0.16436843684368438,
           -0.35445544554455444,
           -0.01618961896189619,
           0.3426751695947794,
           -0.7395379537953796,
           -0.05075307530753075,
           0.14711206110719055,
           0.0016564302994494177,
           -0.07944794479447945,
           0.9732204862103159,
           -0.8077667346744081,
           -0.39269255827422433,
           -0.9666875688239394,
           0.1759015901590159,
           0.16286828682868287,
           0.965064506450645,
           1,
           0.1830308521785981,
           -0.49923792379237925,
           0.9683168316831683,
           -0.6807721618614125,
           0.5894029402940294,
           -0.04296506988520762,
           0.7565436543654366,
           0.10534653465346534,
           0.2935253525352535,
           -0.028808967323764,
           -0.5670807080708071,
           0.5641644164416442,
           0.3903510351035103,
           0.44162016201620163,
           0.20634863486348634,
           -0.2817761776177618,
           -0.2721392139213921,
           -0.012961296129612962,
           -0.7846024602460246,
           -0.783990399039904,
           -0.8177977797779779,
           -0.805928592859286
          ],
          [
           -0.26652345191674687,
           -0.2760044284573732,
           0.028898976594719312,
           0.4959570350791227,
           -0.1829348422895791,
           -0.26240102730699355,
           0.028709627203228616,
           0.24670687517683088,
           -0.2773305650494482,
           0.27092790557549357,
           0.10179642270457717,
           -0.23125781955645505,
           0.2661694154509893,
           -0.404477661200924,
           -0.04287441606504765,
           -0.1271650980056669,
           0.14834623162446697,
           -0.41175041029411336,
           -0.43842915820526823,
           0.2247478587844634,
           0.2715738172703254,
           -0.5545951233001958,
           0.23076599678748339,
           -0.6467147645523494,
           -0.41161627684494273,
           -0.23848927986366555,
           0.20636725582827906,
           0.11078941130986351,
           0.18164470940588628,
           0.1830308521785981,
           1,
           -0.4332326229621148,
           0.24958370712295688,
           -0.46604679910319974,
           0.1865952193084285,
           -0.2629938222820865,
           0.3372167333250501,
           0.13923234093174258,
           -0.6415680815152833,
           0.02276641323980342,
           -0.5007095730882815,
           0.4786933054126118,
           0.28202904899331555,
           0.6024080480316584,
           0.42673995421720484,
           0.4292002076233168,
           0.21418006054720026,
           -0.15216967347705296,
           -0.3339283946261493,
           -0.2801688573935724,
           -0.3118701226240338,
           -0.27656848655535987
          ],
          [
           0.36403240324032404,
           0.5808460846084609,
           0.24858085808580857,
           -0.025970908743649403,
           0.3628202820282028,
           0.5660966096609661,
           0.08993335752699459,
           -0.3653723260079737,
           0.21903390339033904,
           -0.3180678067806781,
           -0.15519686123026663,
           0.5786378637863786,
           0.15158715871587158,
           0.6887728772877287,
           0.05431743174317432,
           0.15380738073807382,
           -0.10522143442851462,
           0.6491689168916892,
           0.35102310231023104,
           0.06098183589818761,
           -0.11211648871538502,
           0.6834923492349235,
           -0.55210284490335,
           0.5977163841539291,
           0.4116150418707623,
           0.5767614064274577,
           -0.23383138313831384,
           -0.19837983798379838,
           -0.469006900690069,
           -0.49923792379237925,
           -0.4332326229621148,
           1,
           -0.5807380738073807,
           0.7625908346422001,
           -0.407020702070207,
           0.07065833769529604,
           -0.5017581758175818,
           0.0721032103210321,
           0.19313531353135313,
           0.035547661409285135,
           0.6376597659765977,
           -0.4502130213021302,
           -0.43672367236723675,
           -0.4839003900390039,
           -0.45803780378037806,
           -0.1555835583558356,
           -0.2830723072307231,
           0.047956795679567954,
           0.5947674767476747,
           0.583030303030303,
           0.6248904890489049,
           0.6463846384638464
          ],
          [
           -0.3948634863486349,
           -0.8412841284128413,
           -0.20742874287428742,
           -0.3479789736701083,
           -0.858985898589859,
           -0.8637263726372637,
           -0.15826254535579215,
           0.38389779033992655,
           -0.009756975697569756,
           0.43837983798379837,
           0.1590541553271479,
           -0.6174737473747375,
           -0.46293429342934295,
           -0.20745274527452745,
           -0.3761896189618962,
           -0.03387938793879388,
           0.37300424795348475,
           -0.7689528952895289,
           -0.1193999399939994,
           0.15330891301870725,
           0.031158457829794727,
           -0.16597659765976597,
           0.9717806229958713,
           -0.8310163635240375,
           -0.41144010365569417,
           -0.9813410781354643,
           0.22671467146714672,
           0.13404140414041404,
           0.9391899189918992,
           0.9683168316831683,
           0.24958370712295688,
           -0.5807380738073807,
           1,
           -0.7231306518621151,
           0.6027722772277228,
           -0.14297887153000585,
           0.8054245424542454,
           0.09767776777677768,
           0.2654185418541854,
           -0.051959351813470625,
           -0.5870867086708671,
           0.5391659165916591,
           0.3511911191119112,
           0.4476087608760876,
           0.216009600960096,
           -0.26273027302730273,
           -0.24344434443444343,
           -0.04926492649264926,
           -0.8218421842184218,
           -0.8157215721572157,
           -0.8536093609360936,
           -0.8383558355835583
          ],
          [
           0.5006570696583965,
           0.6675227574243037,
           0.4597867374024417,
           0.18121538341850563,
           0.5640837928922011,
           0.5952991017154984,
           0.354769600493391,
           -0.22292802584044374,
           -0.04770505673687289,
           -0.24079952475395877,
           0.016027608734017075,
           0.7102532868611932,
           0.2199833182356931,
           0.4834292435085145,
           0.24395585932548017,
           0.06612700946419361,
           -0.10856820814914403,
           0.7406105047268334,
           0.4374583705951582,
           -0.019571340030586824,
           -0.06734621707021578,
           0.6444563123807138,
           -0.6982350014747202,
           0.7339750948151671,
           0.31878307530341204,
           0.730729649535088,
           -0.18400350437477614,
           -0.17871094336321364,
           -0.6765777172502082,
           -0.6807721618614125,
           -0.46604679910319974,
           0.7625908346422001,
           -0.7231306518621151,
           1,
           -0.38164045389498313,
           -0.034723305692406246,
           -0.507857832939434,
           -0.08033051503603993,
           0.0915457038462557,
           0.04072643918205414,
           0.5718366146914514,
           -0.6252242737842764,
           -0.49439840623996156,
           -0.5930668650983767,
           -0.38972931131401517,
           -0.12117084411165714,
           -0.19345450618113774,
           0.030549238219801243,
           0.6999561953693096,
           0.638743706844424,
           0.7464071191680686,
           0.6895030873396704
          ],
          [
           -0.04483648364836484,
           -0.4922412241224122,
           0.20224422442244225,
           -0.1760057126524909,
           -0.4611701170117012,
           -0.6675427542754275,
           0.06795711601732862,
           0.6911492475254308,
           -0.22905490549054905,
           0.7872907290729073,
           0.5396384813931346,
           -0.21903390339033904,
           -0.3195319531953195,
           -0.21624962496249625,
           -0.02895889588958896,
           -0.06604260426042605,
           0.5250900005984366,
           -0.3646564656465647,
           0.19275127512751275,
           0.24877653062253924,
           0.20248605539330156,
           -0.05128112811281128,
           0.565878342967595,
           -0.5234467364398353,
           -0.3489142699534204,
           -0.5932691067206621,
           0.6545094509450945,
           -0.21164116411641165,
           0.5263966396639664,
           0.5894029402940294,
           0.1865952193084285,
           -0.407020702070207,
           0.6027722772277228,
           -0.38164045389498313,
           1,
           -0.46894333538955374,
           0.7998319831983198,
           0.246984698469847,
           0.16409240924092408,
           -0.016897740467344182,
           -0.3587038703870387,
           0.20816081608160816,
           0.0663906390639064,
           0.21954995499549956,
           -0.007644764476447644,
           -0.21114911491149116,
           -0.17675367536753675,
           -0.17453345334533454,
           -0.4870567056705671,
           -0.47913591359135915,
           -0.5095109510951095,
           -0.5091149114911491
          ],
          [
           -0.22235623807211846,
           0.09495520472954264,
           -0.43400121221335763,
           -0.25582525728805294,
           0.12977131303596368,
           0.18615996690625639,
           -0.23641988526086127,
           -0.7143684472325854,
           0.300911507606651,
           -0.7406553974569002,
           -0.6833182827549138,
           -0.171068186073673,
           -0.009871164799045604,
           0.038824581306884536,
           -0.034288045994982724,
           0.16991605012144398,
           -0.5330509009483159,
           -0.04395518671915444,
           -0.10882884182096722,
           -0.4326021983620069,
           -0.37087138148780907,
           -0.0026823165137832127,
           -0.039246053867751714,
           0.1982999412789943,
           0.4116224518825881,
           0.07474204379570877,
           -0.7523927824702334,
           0.38481940875258086,
           0.07798520226650253,
           -0.04296506988520762,
           -0.2629938222820865,
           0.07065833769529604,
           -0.14297887153000585,
           -0.034723305692406246,
           -0.46894333538955374,
           1,
           -0.5116863790756339,
           -0.1375662328377632,
           0.10910487439285542,
           0.009829189333015213,
           0.11361740687241913,
           0.11833396342685673,
           0.2571963492108776,
           -0.013129549288943332,
           0.03209778754413066,
           0.010999297918936531,
           0.18506783803487262,
           0.12516276922704755,
           0.10809675543465502,
           0.056730694231110726,
           0.12467071116411639,
           0.06171128194126747
          ],
          [
           -0.10241824182418242,
           -0.7138673867386739,
           0.08943294329432944,
           -0.20269070137314915,
           -0.7664806480648065,
           -0.8238103810381038,
           -0.02877555380634853,
           0.7828944042170067,
           -0.24831683168316832,
           0.8365076507650765,
           0.5869222250941168,
           -0.35777977797779775,
           -0.4151095109510951,
           -0.2467806780678068,
           -0.16682868286828684,
           -0.07645964596459646,
           0.6810583714545436,
           -0.5365856585658566,
           0.13810981098109812,
           0.39878847776987647,
           0.34263637205542896,
           -0.1002100210021002,
           0.7331928684242299,
           -0.7531588101232723,
           -0.4032325857320802,
           -0.7711034236561068,
           0.6035883588358836,
           -0.14103810381038104,
           0.7075307530753076,
           0.7565436543654366,
           0.3372167333250501,
           -0.5017581758175818,
           0.8054245424542454,
           -0.507857832939434,
           0.7998319831983198,
           -0.5116863790756339,
           1,
           0.12457245724572458,
           0.0589018901890189,
           -0.05044119544335767,
           -0.5981758175817582,
           0.40664866486648665,
           0.1809060906090609,
           0.4631023102310231,
           0.23001500150015,
           -0.1142994299429943,
           -0.16956495649564957,
           -0.13393339333933393,
           -0.7123672367236724,
           -0.7144794479447945,
           -0.6928652865286529,
           -0.7062346234623462
          ],
          [
           0.043504350435043505,
           0.017413741374137415,
           0.16771677167716773,
           0.15427127839428895,
           -0.06856285628562857,
           -0.12963696369636965,
           -0.002994577966500087,
           0.033036177890314294,
           -0.06287428742874288,
           0.10825082508250825,
           -0.001512545244288872,
           0.09358535853585359,
           0.11551155115511551,
           0.1278007800780078,
           0.08639663966396639,
           -0.09441344134413442,
           -0.037895842284599135,
           -0.0859045904590459,
           -0.11485148514851486,
           -0.06009141445847453,
           -0.1319999266659729,
           0.07702370237023702,
           0.08901742578713215,
           -0.16055160366716303,
           -0.1091614462025241,
           -0.12664304423412606,
           0.13195319531953195,
           -0.015145514551455146,
           0.10067806780678068,
           0.10534653465346534,
           0.13923234093174258,
           0.0721032103210321,
           0.09767776777677768,
           -0.08033051503603993,
           0.246984698469847,
           -0.1375662328377632,
           0.12457245724572458,
           1,
           0.023342334233423342,
           -0.029829072394590886,
           -0.07705970597059705,
           -0.017581758175817582,
           -0.18485448544854485,
           0.03763576357635764,
           -0.24596459645964597,
           -0.21476147614761476,
           -0.1912871287128713,
           -0.2955655565556556,
           0.02159015901590159,
           0.051245124512451244,
           -0.0186018601860186,
           0.02535853585358536
          ],
          [
           0.18227422742274227,
           0.00888088808880888,
           0.04858085808580858,
           -0.5165858576532555,
           -0.1993879387938794,
           -0.11158715871587159,
           0.027455298991458713,
           -0.10644190503914706,
           0.028406840684068405,
           -0.015973597359735973,
           -0.08190219891062997,
           0.0204980498049805,
           -0.31377137713771375,
           0.5298649864986499,
           -0.018133813381338133,
           0.07089108910891088,
           0.010612076292790363,
           0.06906690669066906,
           0.3118151815181518,
           -0.34654239815860366,
           -0.4509882464538835,
           0.5465466546654666,
           0.25602945897182494,
           0.21749884272600836,
           0.16923814489384378,
           -0.2640391960383802,
           -0.007536753675367536,
           -0.07213921392139214,
           0.30384638463846386,
           0.2935253525352535,
           -0.6415680815152833,
           0.19313531353135313,
           0.2654185418541854,
           0.0915457038462557,
           0.16409240924092408,
           0.10910487439285542,
           0.0589018901890189,
           0.023342334233423342,
           1,
           -0.02636671577184316,
           0.35805580558055805,
           -0.3943354335433543,
           -0.41095709570957095,
           -0.5725532553255326,
           -0.575037503750375,
           -0.7688328832883289,
           -0.5442064206420643,
           0.07660366036603661,
           0.07915991599159916,
           0.06163816381638164,
           -0.04384038403840384,
           0.0044044404440444045
          ],
          [
           -0.08936120420443522,
           0.05238539569599244,
           0.003624373310467289,
           0.0621731499147585,
           0.0521153678831265,
           0.014173459866430028,
           0.02944777188257584,
           -0.028571428672266887,
           -0.04535267132535062,
           -0.05765993897397381,
           -0.04455036186390793,
           0.005490565528274122,
           0.04091821457628551,
           -0.010117042055377234,
           0.0023942466074113383,
           -0.003486359095002475,
           -0.01087570520752165,
           0.04664880482710713,
           -0.041044227555622946,
           -0.04734890375398134,
           -0.024225365812922544,
           0.00872489866460172,
           -0.01608658728654358,
           -0.009464923599091794,
           0.007216223022427719,
           0.031053291648914783,
           -0.05493565837305966,
           -0.0015121557520492664,
           -0.013393379518150644,
           -0.028808967323764,
           0.02276641323980342,
           0.035547661409285135,
           -0.051959351813470625,
           0.04072643918205414,
           -0.016897740467344182,
           0.009829189333015213,
           -0.05044119544335767,
           -0.029829072394590886,
           -0.02636671577184316,
           1,
           0.04016813731832456,
           0.056081776423223983,
           0.007476770107354706,
           0.007278749711253016,
           0.07772000516088134,
           0.07284750329316704,
           0.0053585519308729955,
           -0.056489818451554735,
           0.06340253046092281,
           0.06151233577086123,
           0.031263220111812214,
           0.06240042724428699
          ],
          [
           0.38094209420942093,
           0.6168736873687368,
           0.21236123612361235,
           -0.03762421391466769,
           0.5675727572757275,
           0.671071107110711,
           0.0840162154929884,
           -0.38365174432839105,
           0.24694869486948695,
           -0.36036003600360034,
           -0.21620892722881052,
           0.48926492649264924,
           0.20986498649864987,
           0.5525112511251125,
           0.19415541554155416,
           0.10177017701770177,
           -0.3144920751035816,
           0.6785958595859586,
           0.2031083108310831,
           -0.29355028977351716,
           -0.3132284598830069,
           0.4844764476447645,
           -0.5711356586539493,
           0.7650993602485141,
           0.2982113439528356,
           0.5676044632622704,
           -0.1874107410741074,
           -0.14527452745274527,
           -0.5543114311431143,
           -0.5670807080708071,
           -0.5007095730882815,
           0.6376597659765977,
           -0.5870867086708671,
           0.5718366146914514,
           -0.3587038703870387,
           0.11361740687241913,
           -0.5981758175817582,
           -0.07705970597059705,
           0.35805580558055805,
           0.04016813731832456,
           1,
           -0.7495949594959496,
           -0.5550675067506751,
           -0.7961596159615961,
           -0.6150735073507351,
           -0.24705670567056706,
           -0.16843684368436843,
           0.14292229222922292,
           0.6468286828682869,
           0.6454485448544854,
           0.6030363036303631,
           0.6395439543954395
          ],
          [
           -0.6493009300930093,
           -0.6743114311431143,
           -0.468994899489949,
           -0.07769070136414714,
           -0.5388538853885388,
           -0.5328172817281728,
           -0.33361038824790845,
           0.11475345933126065,
           0.028022802280228024,
           0.1031983198319832,
           -0.06202650397362921,
           -0.669030903090309,
           -0.3041944194419442,
           -0.5466666666666666,
           -0.4466366636663666,
           0.09521752175217522,
           0.17291296023769873,
           -0.700906090609061,
           -0.28723672367236724,
           0.3469033798233522,
           0.2992742894815846,
           -0.5186198619861986,
           0.5553879109766416,
           -0.7645827018296335,
           -0.2130893241375928,
           -0.5424198692489738,
           -0.035427542754275426,
           0.17886588658865887,
           0.5915511551155116,
           0.5641644164416442,
           0.4786933054126118,
           -0.4502130213021302,
           0.5391659165916591,
           -0.6252242737842764,
           0.20816081608160816,
           0.11833396342685673,
           0.40664866486648665,
           -0.017581758175817582,
           -0.3943354335433543,
           0.056081776423223983,
           -0.7495949594959496,
           1,
           0.7718931893189319,
           0.8746594659465946,
           0.6683708370837084,
           0.47037503750375037,
           0.28152415241524154,
           -0.043192319231923196,
           -0.703054305430543,
           -0.6873567356735674,
           -0.6535013501350135,
           -0.6469606960696069
          ],
          [
           -0.588994899489949,
           -0.6063246324632463,
           -0.5371257125712571,
           -0.17276534973161045,
           -0.28924092409240926,
           -0.32081608160816083,
           -0.31537886948592997,
           0.033000171156918855,
           0.3172637263726373,
           -0.050777077707770776,
           -0.12811683432649237,
           -0.6622982298229823,
           -0.3468706870687069,
           -0.6604860486048605,
           -0.4409120912091209,
           0.10168616861686168,
           0.07421010686337622,
           -0.5349294929492949,
           -0.23554755475547554,
           0.3277713515916793,
           0.32961708087604435,
           -0.533033303330333,
           0.3940143337409503,
           -0.4793298481165261,
           -0.20533372993623825,
           -0.3477298161726307,
           -0.1651005100510051,
           0.24336033603360335,
           0.3807260726072607,
           0.3903510351035103,
           0.28202904899331555,
           -0.43672367236723675,
           0.3511911191119112,
           -0.49439840623996156,
           0.0663906390639064,
           0.2571963492108776,
           0.1809060906090609,
           -0.18485448544854485,
           -0.41095709570957095,
           0.007476770107354706,
           -0.5550675067506751,
           0.7718931893189319,
           1,
           0.6616981698169817,
           0.7144554455445544,
           0.5094389438943895,
           0.481020102010201,
           0.03648364836483648,
           -0.6265586558655866,
           -0.6415961596159616,
           -0.5313411341134113,
           -0.5877347734773477
          ],
          [
           -0.46027002700270025,
           -0.5717251725172517,
           -0.3442064206420642,
           0.05673635447578676,
           -0.492973297329733,
           -0.48902490249024905,
           -0.2693679891870198,
           0.2821307595199538,
           -0.0924092409240924,
           0.2308790879087909,
           0.08890607307394349,
           -0.5325052505250525,
           -0.16607260726072606,
           -0.5792979297929793,
           -0.2774917491749175,
           -0.05134113411341134,
           0.23246711369379053,
           -0.6142334233423342,
           -0.26936693669366935,
           0.3743620517885582,
           0.40810928938404517,
           -0.5722172217221723,
           0.4356009712875553,
           -0.7511352313159898,
           -0.22539331193071918,
           -0.4386991860181342,
           0.10216621662166217,
           0.1506030603060306,
           0.4641104110411041,
           0.44162016201620163,
           0.6024080480316584,
           -0.4839003900390039,
           0.4476087608760876,
           -0.5930668650983767,
           0.21954995499549956,
           -0.013129549288943332,
           0.4631023102310231,
           0.03763576357635764,
           -0.5725532553255326,
           0.007278749711253016,
           -0.7961596159615961,
           0.8746594659465946,
           0.6616981698169817,
           1,
           0.7186198619861986,
           0.5589558955895589,
           0.354971497149715,
           -0.11451545154515451,
           -0.6161656165616561,
           -0.604044404440444,
           -0.551059105910591,
           -0.5655085508550856
          ],
          [
           -0.48415241524152414,
           -0.45275727572757274,
           -0.37454545454545457,
           0.020018242044550466,
           -0.2549054905490549,
           -0.28026402640264025,
           -0.20241306659735758,
           0.21167158338731437,
           0.05098109810981098,
           0.10265826582658266,
           0.0926358031140775,
           -0.48315631563156314,
           -0.16166816681668167,
           -0.6644224422442244,
           -0.24315631563156315,
           0.04847284728472847,
           0.13744220376869343,
           -0.46060606060606063,
           -0.24822082208220822,
           0.3410795422987423,
           0.4353776457530117,
           -0.5753015301530153,
           0.22934964058652846,
           -0.4425035841485329,
           -0.17180390538150997,
           -0.1862171803704162,
           -0.010765076507650765,
           0.16675667566756674,
           0.21314131413141313,
           0.20634863486348634,
           0.42673995421720484,
           -0.45803780378037806,
           0.216009600960096,
           -0.38972931131401517,
           -0.007644764476447644,
           0.03209778754413066,
           0.23001500150015,
           -0.24596459645964597,
           -0.575037503750375,
           0.07772000516088134,
           -0.6150735073507351,
           0.6683708370837084,
           0.7144554455445544,
           0.7186198619861986,
           1,
           0.6172937293729372,
           0.5155835583558356,
           0.08722472247224722,
           -0.4871167116711671,
           -0.5015061506150615,
           -0.39728772877287727,
           -0.46035403540354036
          ],
          [
           -0.33282928292829284,
           -0.06048604860486049,
           -0.2983978397839784,
           0.26117325142296594,
           0.17939393939393938,
           0.22945094509450945,
           -0.20966846692100208,
           0.08104515575089818,
           0.017785778577857785,
           -0.011725172517251725,
           0.05425724546983215,
           -0.21996999699969996,
           0.09459345934593459,
           -0.5348214821482148,
           -0.03708370837083708,
           0.04831683168316832,
           -0.012491362743237752,
           0.000528052805280528,
           -0.21866186618661868,
           0.38323016801921417,
           0.5390739471128622,
           -0.5962676267626763,
           -0.28893456831369063,
           -0.09805028660535066,
           -0.0024054004571870294,
           0.2887677430788367,
           0.01881788178817882,
           0.03111911191119112,
           -0.27404740474047407,
           -0.2817761776177618,
           0.4292002076233168,
           -0.1555835583558356,
           -0.26273027302730273,
           -0.12117084411165714,
           -0.21114911491149116,
           0.010999297918936531,
           -0.1142994299429943,
           -0.21476147614761476,
           -0.7688328832883289,
           0.07284750329316704,
           -0.24705670567056706,
           0.47037503750375037,
           0.5094389438943895,
           0.5589558955895589,
           0.6172937293729372,
           1,
           0.7557875787578758,
           0.0846084608460846,
           -0.13628562856285628,
           -0.11198319831983199,
           -0.028754875487548754,
           -0.04592859285928593
          ],
          [
           -0.2834083408340834,
           -0.03242724272427243,
           -0.4398199819981998,
           0.061986942542028266,
           0.2584578457845785,
           0.24081608160816081,
           -0.3080514552632915,
           0.03952339102372569,
           0.24825682568256827,
           -0.06137413741374138,
           -0.03582120203040754,
           -0.33713771377137713,
           -0.01785778577857786,
           -0.5681608160816082,
           0.033435343534353436,
           0.13098109810981098,
           -0.09304018496092825,
           -0.03177917791779178,
           -0.2034923492349235,
           0.16306745068907627,
           0.44507780197630264,
           -0.6331113111311131,
           -0.24287104514234198,
           0.060664309350236714,
           -0.011370983979429594,
           0.2546842324770913,
           -0.034323432343234324,
           0.019741974197419743,
           -0.2712991299129913,
           -0.2721392139213921,
           0.21418006054720026,
           -0.2830723072307231,
           -0.24344434443444343,
           -0.19345450618113774,
           -0.17675367536753675,
           0.18506783803487262,
           -0.16956495649564957,
           -0.1912871287128713,
           -0.5442064206420643,
           0.0053585519308729955,
           -0.16843684368436843,
           0.28152415241524154,
           0.481020102010201,
           0.354971497149715,
           0.5155835583558356,
           0.7557875787578758,
           1,
           -0.027302730273027303,
           -0.08981698169816982,
           -0.09322532253225323,
           0.017593759375937594,
           -0.04295229522952295
          ],
          [
           -0.13342934293429343,
           -0.03561956195619562,
           -0.07998799879987999,
           -0.08094906630125473,
           -0.08525652565256525,
           0.01374137413741374,
           0.029681728702022906,
           -0.1392680436513213,
           0.10018601860186019,
           -0.1541194119411941,
           -0.09578238318050977,
           -0.04662466246624662,
           -0.05401740174017402,
           0.04106810681068107,
           -0.06967896789678968,
           0.10936693669366937,
           -0.18472207377450345,
           0.07236723672367237,
           -0.08886888688868887,
           -0.038456580017878376,
           -0.07273862296029204,
           0.023054305430543053,
           -0.02706700849338244,
           0.10346084838085083,
           0.06453762317555745,
           0.050483199769803484,
           -0.1556915691569157,
           0.08878487848784879,
           -0.021554155415541554,
           -0.012961296129612962,
           -0.15216967347705296,
           0.047956795679567954,
           -0.04926492649264926,
           0.030549238219801243,
           -0.17453345334533454,
           0.12516276922704755,
           -0.13393339333933393,
           -0.2955655565556556,
           0.07660366036603661,
           -0.056489818451554735,
           0.14292229222922292,
           -0.043192319231923196,
           0.03648364836483648,
           -0.11451545154515451,
           0.08722472247224722,
           0.0846084608460846,
           -0.027302730273027303,
           1,
           -0.03615961596159616,
           -0.03425142514251425,
           -0.028622862286228623,
           -0.030483048304830482
          ],
          [
           0.5748214821482148,
           0.985958595859586,
           0.4031563156315632,
           0.2845818731902895,
           0.7241884188418842,
           0.7415901590159016,
           0.33009971067195143,
           -0.3859201685323036,
           -0.1328052805280528,
           -0.41116111611161116,
           -0.2390125209921054,
           0.7375937593759376,
           0.5115271527152715,
           0.525928592859286,
           0.49904590459045906,
           -0.034995499549955,
           -0.32139519661958144,
           0.7935553555355536,
           0.21172517251725173,
           -0.3966225877813852,
           -0.32465406433489097,
           0.4224062406240624,
           -0.7945685504012896,
           0.8027867215813085,
           0.3646878656787317,
           0.7856369206063581,
           -0.1853825382538254,
           -0.11619561956195619,
           -0.7677887788778878,
           -0.7846024602460246,
           -0.3339283946261493,
           0.5947674767476747,
           -0.8218421842184218,
           0.6999561953693096,
           -0.4870567056705671,
           0.10809675543465502,
           -0.7123672367236724,
           0.02159015901590159,
           0.07915991599159916,
           0.06340253046092281,
           0.6468286828682869,
           -0.703054305430543,
           -0.6265586558655866,
           -0.6161656165616561,
           -0.4871167116711671,
           -0.13628562856285628,
           -0.08981698169816982,
           -0.03615961596159616,
           1,
           0.9822262226222622,
           0.9552115211521152,
           0.9695649564956496
          ],
          [
           0.5589438943894389,
           0.9867386738673868,
           0.3846024602460246,
           0.32377826318879177,
           0.7244644464446445,
           0.7583678367836784,
           0.29101416699296334,
           -0.3722736165754327,
           -0.15343534353435342,
           -0.38664266426642663,
           -0.2250412195388347,
           0.7267326732673267,
           0.5316651665166516,
           0.5112031203120312,
           0.4930933093309331,
           -0.07516351635163517,
           -0.32858982461469355,
           0.7891629162916292,
           0.16276027602760276,
           -0.3849388145656906,
           -0.3137617802445721,
           0.36136813681368135,
           -0.8020340596728215,
           0.7794796862406923,
           0.34306841793322645,
           0.7864290021907648,
           -0.11623162316231624,
           -0.13720972097209722,
           -0.7730573057305731,
           -0.783990399039904,
           -0.2801688573935724,
           0.583030303030303,
           -0.8157215721572157,
           0.638743706844424,
           -0.47913591359135915,
           0.056730694231110726,
           -0.7144794479447945,
           0.051245124512451244,
           0.06163816381638164,
           0.06151233577086123,
           0.6454485448544854,
           -0.6873567356735674,
           -0.6415961596159616,
           -0.604044404440444,
           -0.5015061506150615,
           -0.11198319831983199,
           -0.09322532253225323,
           -0.03425142514251425,
           0.9822262226222622,
           1,
           0.9180318031803181,
           0.9659645964596459
          ],
          [
           0.5503630363036304,
           0.9578877887788779,
           0.3640684068406841,
           0.2661838126061793,
           0.7202400240024003,
           0.7415301530153016,
           0.33295626199871303,
           -0.3495773722918416,
           -0.062346234623462345,
           -0.38976297629762974,
           -0.2043029485990668,
           0.7362976297629763,
           0.5117311731173118,
           0.4818721872187219,
           0.504014401440144,
           -0.028034803480348036,
           -0.29420446461046806,
           0.7956795679567957,
           0.22353435343534353,
           -0.27141008100227304,
           -0.18897736435271595,
           0.4040804080408041,
           -0.8240070983066984,
           0.796572468931994,
           0.36798253539584846,
           0.8245089244229261,
           -0.2220942094209421,
           -0.126000600060006,
           -0.805952595259526,
           -0.8177977797779779,
           -0.3118701226240338,
           0.6248904890489049,
           -0.8536093609360936,
           0.7464071191680686,
           -0.5095109510951095,
           0.12467071116411639,
           -0.6928652865286529,
           -0.0186018601860186,
           -0.04384038403840384,
           0.031263220111812214,
           0.6030363036303631,
           -0.6535013501350135,
           -0.5313411341134113,
           -0.551059105910591,
           -0.39728772877287727,
           -0.028754875487548754,
           0.017593759375937594,
           -0.028622862286228623,
           0.9552115211521152,
           0.9180318031803181,
           1,
           0.9551515151515152
          ],
          [
           0.5399099909990999,
           0.9745574557455745,
           0.34072607260726073,
           0.31190893382304813,
           0.7118031803180318,
           0.762016201620162,
           0.2848869844202247,
           -0.37072532703942884,
           -0.08228022802280228,
           -0.3861746174617462,
           -0.21996902966340817,
           0.7034623462346234,
           0.5124272427242724,
           0.5104230423042304,
           0.4563336333633363,
           0.018841884188418843,
           -0.29359044032467835,
           0.8097809780978098,
           0.19307530753075308,
           -0.27560950103551446,
           -0.21904408403060083,
           0.36562856285628564,
           -0.8211576211050035,
           0.7740117179742054,
           0.3577049152605948,
           0.8054149577442723,
           -0.17066906690669068,
           -0.17764176417641764,
           -0.7952955295529553,
           -0.805928592859286,
           -0.27656848655535987,
           0.6463846384638464,
           -0.8383558355835583,
           0.6895030873396704,
           -0.5091149114911491,
           0.06171128194126747,
           -0.7062346234623462,
           0.02535853585358536,
           0.0044044404440444045,
           0.06240042724428699,
           0.6395439543954395,
           -0.6469606960696069,
           -0.5877347734773477,
           -0.5655085508550856,
           -0.46035403540354036,
           -0.04592859285928593,
           -0.04295229522952295,
           -0.030483048304830482,
           0.9695649564956496,
           0.9659645964596459,
           0.9551515151515152,
           1
          ]
         ]
        }
       ],
       "layout": {
        "template": {
         "data": {
          "bar": [
           {
            "error_x": {
             "color": "#2a3f5f"
            },
            "error_y": {
             "color": "#2a3f5f"
            },
            "marker": {
             "line": {
              "color": "#E5ECF6",
              "width": 0.5
             },
             "pattern": {
              "fillmode": "overlay",
              "size": 10,
              "solidity": 0.2
             }
            },
            "type": "bar"
           }
          ],
          "barpolar": [
           {
            "marker": {
             "line": {
              "color": "#E5ECF6",
              "width": 0.5
             },
             "pattern": {
              "fillmode": "overlay",
              "size": 10,
              "solidity": 0.2
             }
            },
            "type": "barpolar"
           }
          ],
          "carpet": [
           {
            "aaxis": {
             "endlinecolor": "#2a3f5f",
             "gridcolor": "white",
             "linecolor": "white",
             "minorgridcolor": "white",
             "startlinecolor": "#2a3f5f"
            },
            "baxis": {
             "endlinecolor": "#2a3f5f",
             "gridcolor": "white",
             "linecolor": "white",
             "minorgridcolor": "white",
             "startlinecolor": "#2a3f5f"
            },
            "type": "carpet"
           }
          ],
          "choropleth": [
           {
            "colorbar": {
             "outlinewidth": 0,
             "ticks": ""
            },
            "type": "choropleth"
           }
          ],
          "contour": [
           {
            "colorbar": {
             "outlinewidth": 0,
             "ticks": ""
            },
            "colorscale": [
             [
              0,
              "#0d0887"
             ],
             [
              0.1111111111111111,
              "#46039f"
             ],
             [
              0.2222222222222222,
              "#7201a8"
             ],
             [
              0.3333333333333333,
              "#9c179e"
             ],
             [
              0.4444444444444444,
              "#bd3786"
             ],
             [
              0.5555555555555556,
              "#d8576b"
             ],
             [
              0.6666666666666666,
              "#ed7953"
             ],
             [
              0.7777777777777778,
              "#fb9f3a"
             ],
             [
              0.8888888888888888,
              "#fdca26"
             ],
             [
              1,
              "#f0f921"
             ]
            ],
            "type": "contour"
           }
          ],
          "contourcarpet": [
           {
            "colorbar": {
             "outlinewidth": 0,
             "ticks": ""
            },
            "type": "contourcarpet"
           }
          ],
          "heatmap": [
           {
            "colorbar": {
             "outlinewidth": 0,
             "ticks": ""
            },
            "colorscale": [
             [
              0,
              "#0d0887"
             ],
             [
              0.1111111111111111,
              "#46039f"
             ],
             [
              0.2222222222222222,
              "#7201a8"
             ],
             [
              0.3333333333333333,
              "#9c179e"
             ],
             [
              0.4444444444444444,
              "#bd3786"
             ],
             [
              0.5555555555555556,
              "#d8576b"
             ],
             [
              0.6666666666666666,
              "#ed7953"
             ],
             [
              0.7777777777777778,
              "#fb9f3a"
             ],
             [
              0.8888888888888888,
              "#fdca26"
             ],
             [
              1,
              "#f0f921"
             ]
            ],
            "type": "heatmap"
           }
          ],
          "heatmapgl": [
           {
            "colorbar": {
             "outlinewidth": 0,
             "ticks": ""
            },
            "colorscale": [
             [
              0,
              "#0d0887"
             ],
             [
              0.1111111111111111,
              "#46039f"
             ],
             [
              0.2222222222222222,
              "#7201a8"
             ],
             [
              0.3333333333333333,
              "#9c179e"
             ],
             [
              0.4444444444444444,
              "#bd3786"
             ],
             [
              0.5555555555555556,
              "#d8576b"
             ],
             [
              0.6666666666666666,
              "#ed7953"
             ],
             [
              0.7777777777777778,
              "#fb9f3a"
             ],
             [
              0.8888888888888888,
              "#fdca26"
             ],
             [
              1,
              "#f0f921"
             ]
            ],
            "type": "heatmapgl"
           }
          ],
          "histogram": [
           {
            "marker": {
             "pattern": {
              "fillmode": "overlay",
              "size": 10,
              "solidity": 0.2
             }
            },
            "type": "histogram"
           }
          ],
          "histogram2d": [
           {
            "colorbar": {
             "outlinewidth": 0,
             "ticks": ""
            },
            "colorscale": [
             [
              0,
              "#0d0887"
             ],
             [
              0.1111111111111111,
              "#46039f"
             ],
             [
              0.2222222222222222,
              "#7201a8"
             ],
             [
              0.3333333333333333,
              "#9c179e"
             ],
             [
              0.4444444444444444,
              "#bd3786"
             ],
             [
              0.5555555555555556,
              "#d8576b"
             ],
             [
              0.6666666666666666,
              "#ed7953"
             ],
             [
              0.7777777777777778,
              "#fb9f3a"
             ],
             [
              0.8888888888888888,
              "#fdca26"
             ],
             [
              1,
              "#f0f921"
             ]
            ],
            "type": "histogram2d"
           }
          ],
          "histogram2dcontour": [
           {
            "colorbar": {
             "outlinewidth": 0,
             "ticks": ""
            },
            "colorscale": [
             [
              0,
              "#0d0887"
             ],
             [
              0.1111111111111111,
              "#46039f"
             ],
             [
              0.2222222222222222,
              "#7201a8"
             ],
             [
              0.3333333333333333,
              "#9c179e"
             ],
             [
              0.4444444444444444,
              "#bd3786"
             ],
             [
              0.5555555555555556,
              "#d8576b"
             ],
             [
              0.6666666666666666,
              "#ed7953"
             ],
             [
              0.7777777777777778,
              "#fb9f3a"
             ],
             [
              0.8888888888888888,
              "#fdca26"
             ],
             [
              1,
              "#f0f921"
             ]
            ],
            "type": "histogram2dcontour"
           }
          ],
          "mesh3d": [
           {
            "colorbar": {
             "outlinewidth": 0,
             "ticks": ""
            },
            "type": "mesh3d"
           }
          ],
          "parcoords": [
           {
            "line": {
             "colorbar": {
              "outlinewidth": 0,
              "ticks": ""
             }
            },
            "type": "parcoords"
           }
          ],
          "pie": [
           {
            "automargin": true,
            "type": "pie"
           }
          ],
          "scatter": [
           {
            "fillpattern": {
             "fillmode": "overlay",
             "size": 10,
             "solidity": 0.2
            },
            "type": "scatter"
           }
          ],
          "scatter3d": [
           {
            "line": {
             "colorbar": {
              "outlinewidth": 0,
              "ticks": ""
             }
            },
            "marker": {
             "colorbar": {
              "outlinewidth": 0,
              "ticks": ""
             }
            },
            "type": "scatter3d"
           }
          ],
          "scattercarpet": [
           {
            "marker": {
             "colorbar": {
              "outlinewidth": 0,
              "ticks": ""
             }
            },
            "type": "scattercarpet"
           }
          ],
          "scattergeo": [
           {
            "marker": {
             "colorbar": {
              "outlinewidth": 0,
              "ticks": ""
             }
            },
            "type": "scattergeo"
           }
          ],
          "scattergl": [
           {
            "marker": {
             "colorbar": {
              "outlinewidth": 0,
              "ticks": ""
             }
            },
            "type": "scattergl"
           }
          ],
          "scattermapbox": [
           {
            "marker": {
             "colorbar": {
              "outlinewidth": 0,
              "ticks": ""
             }
            },
            "type": "scattermapbox"
           }
          ],
          "scatterpolar": [
           {
            "marker": {
             "colorbar": {
              "outlinewidth": 0,
              "ticks": ""
             }
            },
            "type": "scatterpolar"
           }
          ],
          "scatterpolargl": [
           {
            "marker": {
             "colorbar": {
              "outlinewidth": 0,
              "ticks": ""
             }
            },
            "type": "scatterpolargl"
           }
          ],
          "scatterternary": [
           {
            "marker": {
             "colorbar": {
              "outlinewidth": 0,
              "ticks": ""
             }
            },
            "type": "scatterternary"
           }
          ],
          "surface": [
           {
            "colorbar": {
             "outlinewidth": 0,
             "ticks": ""
            },
            "colorscale": [
             [
              0,
              "#0d0887"
             ],
             [
              0.1111111111111111,
              "#46039f"
             ],
             [
              0.2222222222222222,
              "#7201a8"
             ],
             [
              0.3333333333333333,
              "#9c179e"
             ],
             [
              0.4444444444444444,
              "#bd3786"
             ],
             [
              0.5555555555555556,
              "#d8576b"
             ],
             [
              0.6666666666666666,
              "#ed7953"
             ],
             [
              0.7777777777777778,
              "#fb9f3a"
             ],
             [
              0.8888888888888888,
              "#fdca26"
             ],
             [
              1,
              "#f0f921"
             ]
            ],
            "type": "surface"
           }
          ],
          "table": [
           {
            "cells": {
             "fill": {
              "color": "#EBF0F8"
             },
             "line": {
              "color": "white"
             }
            },
            "header": {
             "fill": {
              "color": "#C8D4E3"
             },
             "line": {
              "color": "white"
             }
            },
            "type": "table"
           }
          ]
         },
         "layout": {
          "annotationdefaults": {
           "arrowcolor": "#2a3f5f",
           "arrowhead": 0,
           "arrowwidth": 1
          },
          "autotypenumbers": "strict",
          "coloraxis": {
           "colorbar": {
            "outlinewidth": 0,
            "ticks": ""
           }
          },
          "colorscale": {
           "diverging": [
            [
             0,
             "#8e0152"
            ],
            [
             0.1,
             "#c51b7d"
            ],
            [
             0.2,
             "#de77ae"
            ],
            [
             0.3,
             "#f1b6da"
            ],
            [
             0.4,
             "#fde0ef"
            ],
            [
             0.5,
             "#f7f7f7"
            ],
            [
             0.6,
             "#e6f5d0"
            ],
            [
             0.7,
             "#b8e186"
            ],
            [
             0.8,
             "#7fbc41"
            ],
            [
             0.9,
             "#4d9221"
            ],
            [
             1,
             "#276419"
            ]
           ],
           "sequential": [
            [
             0,
             "#0d0887"
            ],
            [
             0.1111111111111111,
             "#46039f"
            ],
            [
             0.2222222222222222,
             "#7201a8"
            ],
            [
             0.3333333333333333,
             "#9c179e"
            ],
            [
             0.4444444444444444,
             "#bd3786"
            ],
            [
             0.5555555555555556,
             "#d8576b"
            ],
            [
             0.6666666666666666,
             "#ed7953"
            ],
            [
             0.7777777777777778,
             "#fb9f3a"
            ],
            [
             0.8888888888888888,
             "#fdca26"
            ],
            [
             1,
             "#f0f921"
            ]
           ],
           "sequentialminus": [
            [
             0,
             "#0d0887"
            ],
            [
             0.1111111111111111,
             "#46039f"
            ],
            [
             0.2222222222222222,
             "#7201a8"
            ],
            [
             0.3333333333333333,
             "#9c179e"
            ],
            [
             0.4444444444444444,
             "#bd3786"
            ],
            [
             0.5555555555555556,
             "#d8576b"
            ],
            [
             0.6666666666666666,
             "#ed7953"
            ],
            [
             0.7777777777777778,
             "#fb9f3a"
            ],
            [
             0.8888888888888888,
             "#fdca26"
            ],
            [
             1,
             "#f0f921"
            ]
           ]
          },
          "colorway": [
           "#636efa",
           "#EF553B",
           "#00cc96",
           "#ab63fa",
           "#FFA15A",
           "#19d3f3",
           "#FF6692",
           "#B6E880",
           "#FF97FF",
           "#FECB52"
          ],
          "font": {
           "color": "#2a3f5f"
          },
          "geo": {
           "bgcolor": "white",
           "lakecolor": "white",
           "landcolor": "#E5ECF6",
           "showlakes": true,
           "showland": true,
           "subunitcolor": "white"
          },
          "hoverlabel": {
           "align": "left"
          },
          "hovermode": "closest",
          "mapbox": {
           "style": "light"
          },
          "paper_bgcolor": "white",
          "plot_bgcolor": "#E5ECF6",
          "polar": {
           "angularaxis": {
            "gridcolor": "white",
            "linecolor": "white",
            "ticks": ""
           },
           "bgcolor": "#E5ECF6",
           "radialaxis": {
            "gridcolor": "white",
            "linecolor": "white",
            "ticks": ""
           }
          },
          "scene": {
           "xaxis": {
            "backgroundcolor": "#E5ECF6",
            "gridcolor": "white",
            "gridwidth": 2,
            "linecolor": "white",
            "showbackground": true,
            "ticks": "",
            "zerolinecolor": "white"
           },
           "yaxis": {
            "backgroundcolor": "#E5ECF6",
            "gridcolor": "white",
            "gridwidth": 2,
            "linecolor": "white",
            "showbackground": true,
            "ticks": "",
            "zerolinecolor": "white"
           },
           "zaxis": {
            "backgroundcolor": "#E5ECF6",
            "gridcolor": "white",
            "gridwidth": 2,
            "linecolor": "white",
            "showbackground": true,
            "ticks": "",
            "zerolinecolor": "white"
           }
          },
          "shapedefaults": {
           "line": {
            "color": "#2a3f5f"
           }
          },
          "ternary": {
           "aaxis": {
            "gridcolor": "white",
            "linecolor": "white",
            "ticks": ""
           },
           "baxis": {
            "gridcolor": "white",
            "linecolor": "white",
            "ticks": ""
           },
           "bgcolor": "#E5ECF6",
           "caxis": {
            "gridcolor": "white",
            "linecolor": "white",
            "ticks": ""
           }
          },
          "title": {
           "x": 0.05
          },
          "xaxis": {
           "automargin": true,
           "gridcolor": "white",
           "linecolor": "white",
           "ticks": "",
           "title": {
            "standoff": 15
           },
           "zerolinecolor": "white",
           "zerolinewidth": 2
          },
          "yaxis": {
           "automargin": true,
           "gridcolor": "white",
           "linecolor": "white",
           "ticks": "",
           "title": {
            "standoff": 15
           },
           "zerolinecolor": "white",
           "zerolinewidth": 2
          }
         }
        },
        "title": {
         "text": "Spearman Correlation",
         "x": 0.5
        }
       }
      }
     },
     "metadata": {},
     "output_type": "display_data"
    },
    {
     "data": {
      "application/vnd.plotly.v1+json": {
       "config": {
        "plotlyServerURL": "https://plot.ly"
       },
       "data": [
        {
         "colorscale": [
          [
           0,
           "rgb(165,0,38)"
          ],
          [
           0.1,
           "rgb(215,48,39)"
          ],
          [
           0.2,
           "rgb(244,109,67)"
          ],
          [
           0.3,
           "rgb(253,174,97)"
          ],
          [
           0.4,
           "rgb(254,224,144)"
          ],
          [
           0.5,
           "rgb(255,255,191)"
          ],
          [
           0.6,
           "rgb(224,243,248)"
          ],
          [
           0.7,
           "rgb(171,217,233)"
          ],
          [
           0.8,
           "rgb(116,173,209)"
          ],
          [
           0.9,
           "rgb(69,117,180)"
          ],
          [
           1,
           "rgb(49,54,149)"
          ]
         ],
         "type": "heatmap",
         "x": [
          "OXO-5FI635C Augusta",
          "OXO-5FI661A Augusta",
          "OXO-5FI696 Augusta",
          "OXO-5FIC132 Augusta",
          "OXO-5FIC600 Augusta",
          "OXO-5FIC601 Augusta",
          "OXO-5FIC602 Augusta",
          "OXO-5FIC603 Augusta",
          "OXO-5FIC606C Augusta",
          "OXO-5FIC607 Augusta",
          "OXO-5FIC609A Augusta",
          "OXO-5FIC609B Augusta",
          "OXO-5FIC611A Augusta",
          "OXO-5FIC612A Augusta",
          "OXO-5FIC612B Augusta",
          "OXO-5FIC618A Augusta",
          "OXO-5FIC618B Augusta",
          "OXO-5FIC618C Augusta",
          "OXO-5FIC618D Augusta",
          "OXO-5FIC622A Augusta",
          "OXO-5FIC622B Augusta",
          "OXO-5FIC622C Augusta",
          "OXO-5FIC636A Augusta",
          "OXO-5FIC636B Augusta",
          "OXO-5FIC636C Augusta",
          "OXO-5FQI691B Augusta",
          "OXO-5LI633B Augusta",
          "OXO-5LI650F Augusta",
          "OXO-5LI651E Augusta",
          "OXO-5LI651F Augusta",
          "OXO-5LI652E Augusta",
          "OXO-5LI652F Augusta",
          "OXO-5LI653E Augusta",
          "OXO-5LI653F Augusta",
          "OXO-5LI654E Augusta",
          "OXO-5LI655F Augusta",
          "OXO-5LI656F Augusta",
          "OXO-5LI657E Augusta",
          "OXO-5LI657F Augusta",
          "OXO-5LI658E Augusta",
          "OXO-5LI658F Augusta",
          "OXO-5PIC605A Augusta",
          "OXO-5RIC606_Y Augusta",
          "OXO-5TIC002 Augusta",
          "OXO-5TIC601 Augusta",
          "OXO-5TIC602 Augusta",
          "OXO-5TIC603 Augusta",
          "OXO-5TIC604 Augusta",
          "OXO-5TIC605 Augusta",
          "OXO-5TIC606 Augusta",
          "OXO-5TIC607 Augusta",
          "OXO-5TIC659 Augusta",
          "OXO-_5FI658A Augusta",
          "OXO-_5FI659A Augusta",
          "OXO-_5FI660A Augusta",
          "OXO-_5FI662A Augusta"
         ],
         "y": [
          "OXO-5FI635C Augusta",
          "OXO-5FI661A Augusta",
          "OXO-5FI696 Augusta",
          "OXO-5FIC132 Augusta",
          "OXO-5FIC600 Augusta",
          "OXO-5FIC601 Augusta",
          "OXO-5FIC602 Augusta",
          "OXO-5FIC603 Augusta",
          "OXO-5FIC606C Augusta",
          "OXO-5FIC607 Augusta",
          "OXO-5FIC609A Augusta",
          "OXO-5FIC609B Augusta",
          "OXO-5FIC611A Augusta",
          "OXO-5FIC612A Augusta",
          "OXO-5FIC612B Augusta",
          "OXO-5FIC618A Augusta",
          "OXO-5FIC618B Augusta",
          "OXO-5FIC618C Augusta",
          "OXO-5FIC618D Augusta",
          "OXO-5FIC622A Augusta",
          "OXO-5FIC622B Augusta",
          "OXO-5FIC622C Augusta",
          "OXO-5FIC636A Augusta",
          "OXO-5FIC636B Augusta",
          "OXO-5FIC636C Augusta",
          "OXO-5FQI691B Augusta",
          "OXO-5LI633B Augusta",
          "OXO-5LI650F Augusta",
          "OXO-5LI651E Augusta",
          "OXO-5LI651F Augusta",
          "OXO-5LI652E Augusta",
          "OXO-5LI652F Augusta",
          "OXO-5LI653E Augusta",
          "OXO-5LI653F Augusta",
          "OXO-5LI654E Augusta",
          "OXO-5LI655F Augusta",
          "OXO-5LI656F Augusta",
          "OXO-5LI657E Augusta",
          "OXO-5LI657F Augusta",
          "OXO-5LI658E Augusta",
          "OXO-5LI658F Augusta",
          "OXO-5PIC605A Augusta",
          "OXO-5RIC606_Y Augusta",
          "OXO-5TIC002 Augusta",
          "OXO-5TIC601 Augusta",
          "OXO-5TIC602 Augusta",
          "OXO-5TIC603 Augusta",
          "OXO-5TIC604 Augusta",
          "OXO-5TIC605 Augusta",
          "OXO-5TIC606 Augusta",
          "OXO-5TIC607 Augusta",
          "OXO-5TIC659 Augusta",
          "OXO-_5FI658A Augusta",
          "OXO-_5FI659A Augusta",
          "OXO-_5FI660A Augusta",
          "OXO-_5FI662A Augusta"
         ],
         "z": [
          [
           3.3440441843062887,
           0.3224933626547699,
           0.4495790806354947,
           0.16881178385016993,
           0.22444570779346584,
           0.14151032524820595,
           0.23801663615818924,
           0,
           0,
           0,
           0,
           0.20645914154909129,
           0.03278880521147398,
           0,
           0.48898253519271107,
           0.16271718989399053,
           0.5126410409686764,
           0.48578162498192157,
           0.14531462900355718,
           0.011994017055295014,
           0.3560856565387347,
           0.6324864950539948,
           0.14045686767164556,
           0.10987322819777967,
           0.422046060762018,
           0.4360912292441079,
           0.08429673872785637,
           0.024912095928184108,
           0.38979828659680926,
           0.046880268394621005,
           0,
           0,
           0.5877624936371881,
           0.5141560219188146,
           0.3410350924405767,
           0.3624955661571727,
           0.3901595262367019,
           0.2719924725144862,
           0.10579953810127263,
           0.11753676305692773,
           0.04002904835424248,
           0,
           0.4531588674421294,
           0.05279398794773149,
           0.2764189036549536,
           0.45017235324741733,
           0.25420959371998464,
           0.37772685185298727,
           0.18514743507476128,
           0.2711062501706736,
           0.33359980938391853,
           0,
           0.2981116722116699,
           0.37766953158867844,
           0.27949408663569564,
           0.30680813499424753
          ],
          [
           0.3224933626547699,
           3.3440441843062887,
           0.7183676137680495,
           0.4610065007563722,
           0.5448846679168193,
           0.5757024262759174,
           0.3871455747452348,
           0,
           0.004616046554410946,
           0,
           0,
           0.5205322415309972,
           0.07960681837559047,
           0.13725550842940537,
           0.8321749501708191,
           0.5641734730713073,
           0.6035944894307028,
           0.6043902657477802,
           0.0860928879918137,
           0.08068279628175601,
           0.8231082784507837,
           0.3749366597835584,
           0.24264811998633196,
           0.16752177057034157,
           0.4063969788610762,
           0.8961185079209497,
           0.48287451394528613,
           0.01596171202402452,
           0.842337492259039,
           0.01567849016697398,
           0,
           0,
           0.9389163021068461,
           0.9003496961516002,
           0.5776298144900753,
           0.7002315459305364,
           0.8096429665109723,
           0.5497392830357053,
           0.2206144088308708,
           0.3628572768039455,
           0.5519077326991493,
           0.0811463159152539,
           0.7141893570042099,
           0.05112605842980722,
           0.6834409190097137,
           0.6684274820227096,
           0.3035491059154949,
           0.6715304500614021,
           0.32487285454144077,
           0.6311299919263669,
           0.646122670791319,
           0,
           1.7935410681414075,
           2.062406750132947,
           1.648086743269396,
           1.6037811723504007
          ],
          [
           0.4495790806354947,
           0.7183676137680495,
           3.344044184306288,
           0.5021343720028795,
           0.4352373632931834,
           0.4493563562166156,
           0.790126055783944,
           0,
           0.17676709776471888,
           0,
           0,
           0.7279297731220757,
           0.19454262071861894,
           0.15372664232614408,
           0.8275131305819077,
           0.786673725837657,
           1.0889993102150628,
           0.9493112489627573,
           0.19404196658625184,
           0.04401899969572565,
           0.6906800915946474,
           0.5375004414017139,
           0.3723285682969939,
           0.1316566747227581,
           1.29565418587296,
           0.9839958537304199,
           0.2446432278268973,
           0.02916375957775763,
           0.9901302745011704,
           0.384769241495178,
           0,
           0,
           1.1817919356121633,
           1.1693844167469996,
           0.8512837514617337,
           0.9770057685207625,
           0.9388251129675558,
           0.5769609927100108,
           0.275089242147311,
           0.2944628509548215,
           0.564625762383181,
           0.0719187224106248,
           0.799268571220006,
           0.059529628287979364,
           0.4438370975089625,
           0.7843897041024586,
           0.6233012639417486,
           0.6971894294795429,
           0.4288554154048967,
           0.5069705517789664,
           0.6159230099769655,
           0.015445833300938183,
           0.4976674354209636,
           0.5573434974254163,
           0.4479920612076107,
           0.5853289186433162
          ],
          [
           0.1688117838501697,
           0.46100650075637195,
           0.5021343720028795,
           3.327377517639622,
           0.16493898870791357,
           0.31695974431115936,
           0.4074636385966586,
           0,
           0.06639668039433211,
           0,
           0,
           0.4387805824616755,
           0.13068206652829684,
           0.19892670274856705,
           0.6546623582665527,
           0.6093220671861863,
           0.5389375533593384,
           0.43010855567954076,
           0.06724700994524846,
           0.09063872303226495,
           0.5277731783625483,
           0.19778198256280333,
           0.2662963080452987,
           0.2343827668342331,
           0.4750322606432762,
           1.1359238128472153,
           0.316011288472112,
           0.0054673502803206375,
           0.8042708837612764,
           0.05980157774110184,
           0.05372734306044036,
           0,
           0.6948034134672256,
           0.745549508238686,
           0.8176942790218704,
           0.39561927301892497,
           0.9295098738708665,
           0.19924390816616322,
           0.07568791664220798,
           0.19072776445405837,
           0.3541298479178896,
           0.11252773443008124,
           0.4354513434905134,
           0.015430007226419962,
           0.19466420955575847,
           0.34371431148929,
           0.318789784862588,
           0.3141100987616414,
           0.1910239885680589,
           0.29998923672657085,
           0.18873816896749407,
           0,
           0.46311591010166975,
           0.38296688370777887,
           0.5330885152681508,
           0.41411938405080373
          ],
          [
           0.22444570779346584,
           0.5448846679168193,
           0.4352373632931834,
           0.16493898870791357,
           3.344044184306288,
           0.6071069998576522,
           0.28405899737417517,
           0,
           0.2255147525953971,
           0,
           0,
           0.4218085270566383,
           0.3030130912727427,
           0.079405617893483,
           0.5233625703959857,
           0.45295194838991515,
           0.4777091351279421,
           0.446210841407916,
           0.01769566870501693,
           0.10807621635396059,
           0.4168961386524286,
           0.2617586483450087,
           0.3062513497013257,
           0.20943322803707431,
           0.44539718940588013,
           0.688371170585016,
           0.4181635216606452,
           0,
           0.767037517407676,
           0.18442825878635682,
           0.06300806372613543,
           0,
           0.9306740133619145,
           0.925454927456133,
           0.5102767047582604,
           0.46604432263567164,
           0.7837917050823688,
           0.5326496737440825,
           0.1544090951688757,
           0.40515744581267743,
           0.600479814163299,
           0,
           0.46807354212052,
           0,
           0.6421822507255674,
           0.6548881100545376,
           0.32475209473829736,
           0.5325504384065813,
           0.23704723379398507,
           0.5314562569196868,
           0.5866974742397213,
           0,
           0.5357421812827874,
           0.597373367477041,
           0.6068660959084968,
           0.47011324398937093
          ],
          [
           0.14151032524820595,
           0.5757024262759174,
           0.4493563562166156,
           0.31695974431115914,
           0.6071069998576522,
           3.344044184306288,
           0.19715625821490113,
           0,
           0.2158994805017529,
           0,
           0,
           0.48707873372801114,
           0.17198843696586952,
           0.12468390457511092,
           0.7626538359187749,
           0.25199769985443865,
           0.5437235143837023,
           0.5762062706939797,
           0.0343662920777521,
           0.07218816946478102,
           0.5173406991649991,
           0.2517263120540143,
           0.2985190285714583,
           0.16564157821126546,
           0.45015653253454513,
           0.790617205927949,
           0.5780658016377114,
           0,
           0.921518628661923,
           0.14058834509437768,
           0.0785156369442408,
           0,
           0.8910783481798363,
           0.878246313663708,
           0.6221532441768698,
           0.4823224005418678,
           0.8312754366891577,
           0.3616865626591119,
           0.46589270187895515,
           0.22131268889029032,
           0.6794800289255576,
           0.03605041480304605,
           0.5608945265921661,
           0,
           0.5366120349755348,
           0.842669962719989,
           0.4427559918491406,
           0.7320449863174869,
           0.3160562730007155,
           0.5695282703793634,
           0.6114835211187746,
           0.029688838099330983,
           0.6146990757292172,
           0.6615409141923014,
           0.561167712409057,
           0.5247428046064946
          ],
          [
           0.23641136295867904,
           0.38714557474523503,
           0.790126055783944,
           0.4038897037595657,
           0.2845853131636491,
           0.1975134010720443,
           3.317877517639621,
           0,
           0,
           0,
           0,
           0.33729977520047116,
           0.08283208093490524,
           0.05001027045355366,
           0.7210337330693863,
           0.7067063527861484,
           0.6354590903109281,
           0.9271130898594862,
           0.0278738156282472,
           0.03808528754745977,
           0.6404080146726252,
           0.4413093685078531,
           0.11378478168578088,
           0.21416356173904072,
           0.7633976844553907,
           0.8688579376625869,
           0.3002834900059699,
           0,
           0.5896128693329459,
           0.21803899480848177,
           0.007140529070350787,
           0,
           0.8959435453440503,
           0.8477002866758332,
           0.9902905496818759,
           0.49036439365230633,
           0.5973923522748161,
           0.4009067953735874,
           0.06643857416746624,
           0.32285163823709206,
           0.16077937071306714,
           0.08760525895774807,
           0.5995002152296109,
           0.11398383720965244,
           0.4925866729114885,
           0.41071598248725927,
           0.42958247476354483,
           0.5275892485022613,
           0.46734048782000226,
           0.29249138250175477,
           0.3232779133863595,
           0.051616355316747686,
           0.3998089786030632,
           0.29597504580518086,
           0.22619854905646308,
           0.2617048484419944
          ],
          [
           0,
           0,
           0,
           0,
           0,
           0,
           0,
           0,
           0,
           0,
           0,
           0,
           0,
           0.039536936230644804,
           0,
           0,
           0,
           0,
           0,
           0.03281842946875324,
           0,
           0,
           0.016233495179551305,
           0,
           0,
           0,
           0,
           0,
           0,
           0,
           0,
           0.002177789610029013,
           0,
           0,
           0,
           0,
           0,
           0,
           0,
           0,
           0,
           0,
           0,
           0,
           0,
           0,
           0,
           0,
           0,
           0,
           0,
           0,
           0,
           0,
           0,
           0
          ],
          [
           0,
           0.006943668493875066,
           0.17203242896712112,
           0.06509015358780479,
           0.2299226914307546,
           0.21624038959266167,
           0,
           0,
           3.2760441843062873,
           0.0006219565041254427,
           0,
           0.16575655175366721,
           0.9298676836838431,
           0.4227068906150433,
           0.1126415848405169,
           0.1814648081972421,
           0.33644284378469447,
           0.28289859497791037,
           0,
           0.25590848832123037,
           0.10934189762631474,
           0.09788123076979405,
           0.2813598697218507,
           0.22298349737413048,
           0.1781071391584832,
           0.21092889755882727,
           0.1033138649098917,
           0.013296559440846067,
           0.34441425901736533,
           0.999414329484404,
           0.1311257889979105,
           0,
           0.524834654130721,
           0.5008100611653794,
           0.21891933373857064,
           0.3594664136670782,
           0.3078930186483513,
           0.05487364287735108,
           0.3647094232066821,
           0.38889661233935424,
           0.5181941689386544,
           0.04105273981043256,
           0,
           0,
           0.1294059605386355,
           0.2951956559123907,
           0.10486110382122993,
           0.09495949157068617,
           0.10362058775566929,
           0.12281880455315841,
           0.2785687457650865,
           0.07635490758800767,
           0.18999514798882933,
           0.12398892212584522,
           0.07922485035556637,
           0.0799372729274972
          ],
          [
           0,
           0,
           0,
           0,
           0,
           0,
           0,
           0,
           0,
           0,
           0,
           0,
           0,
           0,
           0,
           0,
           0,
           0,
           0,
           0,
           0,
           0,
           0,
           0.026787967542660773,
           0,
           0,
           0,
           0.01574017640837866,
           0,
           0,
           0,
           0,
           0,
           0,
           0,
           0,
           0,
           0,
           0,
           0,
           0,
           0,
           0,
           0,
           0,
           0,
           0,
           0,
           0,
           0,
           0,
           0,
           0,
           0,
           0,
           0
          ],
          [
           0,
           0,
           0,
           0,
           0,
           0,
           0,
           0.005353522559272683,
           0,
           0,
           0,
           0,
           0,
           0,
           0,
           0,
           0,
           0,
           0,
           0,
           0,
           0,
           0.014607935879187295,
           0,
           0,
           0,
           0,
           0,
           0,
           0,
           0,
           0,
           0,
           0,
           0,
           0,
           0,
           0,
           0,
           0,
           0,
           0,
           0,
           0,
           0,
           0,
           0,
           0,
           0,
           0,
           0,
           0,
           0,
           0,
           0,
           0
          ],
          [
           0.20645914154909129,
           0.5205322415309972,
           0.7279297731220757,
           0.4387805824616753,
           0.4218085270566383,
           0.48707873372801114,
           0.3406986184624725,
           0,
           0.1629091992695506,
           0,
           0,
           3.344044184306288,
           0.2367936941820683,
           0.005663646402285671,
           0.765839692610808,
           0.5968768902041313,
           0.8942492008513443,
           0.7820118204981616,
           0.21752405960754917,
           0.031116660169989263,
           0.6152310475487099,
           0.44069292043583896,
           0.06994149136552119,
           0.10356609794599869,
           0.8629716111081649,
           0.8487120683722083,
           0.4766517783968496,
           0,
           1.0228642088678965,
           0.3529843725201811,
           0.04415243609076658,
           0,
           1.1596980478131056,
           1.1977802423552362,
           0.697815079930602,
           0.7103909781762554,
           1.0490208863994233,
           0.4018110287044516,
           0.3636048283116988,
           0.3221124699744622,
           0.6147592919347855,
           0.05588238157086467,
           0.8299792316805492,
           0,
           0.42742594977637616,
           0.8468744031513067,
           0.5673296534427794,
           0.6100394207874338,
           0.36073591192094856,
           0.509482830004715,
           0.6057609093303009,
           0,
           0.5370542672776821,
           0.536289133376715,
           0.5228690127823961,
           0.4011937115834998
          ],
          [
           0.03278880521147398,
           0.07960681837559047,
           0.19454262071861894,
           0.13068206652829684,
           0.3030130912727427,
           0.17198843696586952,
           0.08206285016567483,
           0,
           0.9259958888120479,
           0,
           0,
           0.2367936941820683,
           3.3440441843062887,
           0.5706848095453756,
           0.048954260501961055,
           0.2205719444001275,
           0.275892984982272,
           0.2813871260562295,
           0.1346880302447544,
           0.2380796898319657,
           0.21725159572060004,
           0.14884857921985484,
           0.09408331272404125,
           0.13300984137128546,
           0.31687506797750764,
           0.23763860112990853,
           0.13952096647653311,
           0,
           0.2163451593223118,
           0.882081292376347,
           0.14843490449073116,
           0,
           0.4502260155049891,
           0.42508355910842566,
           0.20984573470735457,
           0.5371361084353068,
           0.29868160040448233,
           0.22914905256315343,
           0.8275454788793861,
           0.7029510584830789,
           0.687529473043877,
           0.0028594939287751586,
           0.13403840669123301,
           0,
           0.033663584923738554,
           0.3555784463369842,
           0.13245469793457998,
           0.17922239690301023,
           0.09979306854853087,
           0.1035976879856344,
           0.30653779570363104,
           0.0348837039250407,
           0.08810339981416782,
           0.15548244831889368,
           0.09843249375389673,
           0.09211987038391811
          ],
          [
           0,
           0.11917206174350259,
           0.16273111947127905,
           0.19630292374978797,
           0.08021032165022213,
           0.10298220345409481,
           0.0503152208094817,
           0.007845067266588401,
           0.40998641652757994,
           0.012051625237949004,
           0.008833649401721821,
           0.008111867769403425,
           0.5779565501811361,
           2.4668718814469948,
           0.2141755905345688,
           0.23397524037038364,
           0.0044606402114406585,
           0.09773684051271836,
           0,
           0.2184849921095915,
           0.13703650907726983,
           0.050435524696792466,
           0.2729231793526461,
           0.19653634910631634,
           0.25537255228330125,
           0.16933176148260332,
           0.19962267205684547,
           0,
           0.245397309353927,
           0.4424999679407171,
           0.08018356225636891,
           0,
           0.30958955416922596,
           0.274694529982737,
           0.2592208968855938,
           0.16036259640155848,
           0.2115767475110233,
           0.14821535458562174,
           0.11062888756677092,
           0.3519073380063773,
           0.20397060906543185,
           0,
           0.07259024815578341,
           0.018337568835696594,
           0.025645273874064678,
           0.39051932784786514,
           0.12910538884028888,
           0.24930928108082107,
           0.12466390437782549,
           0.05603568555656535,
           0.12887802702993234,
           0.042784601307783277,
           0.028744870349237672,
           0.17185024653856873,
           0.10990854002578843,
           0.15344998857104875
          ],
          [
           0.48898253519271107,
           0.8321749501708193,
           0.8275131305819077,
           0.6546623582665525,
           0.5233625703959857,
           0.7626538359187749,
           0.7243948441804973,
           0,
           0.11339687584580815,
           0,
           0,
           0.765839692610808,
           0.048954260501961055,
           0.22351108198574288,
           3.3440441843062887,
           0.7589017649482264,
           0.8635049248402824,
           0.8568351987590872,
           0,
           0.1043713366632022,
           0.9208109517881149,
           0.6324366250211557,
           0.28698070261433895,
           0.19003425331380175,
           0.9155518142827574,
           1.1921394333885562,
           0.6202572407685705,
           0.013405374161155947,
           1.1500630006788057,
           0.15544439773057217,
           0.019445659028562545,
           0,
           1.2563990163097862,
           1.2424274254116634,
           1.1345654037468726,
           0.749717615954294,
           1.1550999413640746,
           0.5541979436789375,
           0.32676216663778535,
           0.28575180622961405,
           0.5830249504100289,
           0.0835275358889116,
           1.4764469434289609,
           0.07850148474764129,
           0.6803181031538275,
           0.847833764420336,
           0.6572866060279039,
           0.8856791834933597,
           0.5145627419367345,
           0.7505303423691321,
           0.7176565283876439,
           0.028129638265978585,
           0.8624122668263756,
           0.7763087556345842,
           0.8734369075333932,
           0.7796521974203126
          ],
          [
           0.16271718989399053,
           0.5641734730713073,
           0.786673725837657,
           0.6093220671861861,
           0.45295194838991515,
           0.25199769985443865,
           0.7067956385004339,
           0,
           0.17724907117779676,
           0,
           0,
           0.5968768902041313,
           0.2205719444001275,
           0.21982342500593077,
           0.7589017649482264,
           3.3440441843062882,
           1.169170944200344,
           1.26270715346809,
           0.015055103085482191,
           0.21038854644713956,
           0.7550399106701442,
           0.34194330839381726,
           0.19569338058606656,
           0.12860822637783098,
           0.9511283465198721,
           0.9043268289746322,
           0.2583856648437681,
           0.017102473574361454,
           0.8364769432391264,
           0.2129355459719724,
           0,
           0,
           1.0246624221933267,
           1.1289937557889869,
           0.8674243710492457,
           0.5424146430327217,
           0.8581574250233266,
           0.3858022148086766,
           0.23098199384601248,
           0.39700049757707045,
           0.6354811935407922,
           0.019545844180864247,
           0.6092059314547482,
           0.014442476154504558,
           0.1979611634720566,
           0.5715575749653343,
           0.42535518038726705,
           0.5485999912188206,
           0.2878221502773872,
           0.36524437483090777,
           0.5214838641293698,
           0,
           0.4106284780266627,
           0.4612280277845522,
           0.5058594984061049,
           0.4536282571647985
          ],
          [
           0.5126410409686764,
           0.6035944894307028,
           1.0889993102150628,
           0.5392316710063967,
           0.4777091351279421,
           0.5437235143837023,
           0.6429590903109279,
           0,
           0.33508867711802726,
           0,
           0,
           0.8942492008513443,
           0.275892984982272,
           0,
           0.8635049248402824,
           1.169170944200344,
           3.344044184306288,
           1.3615728953020798,
           0.2362536837745144,
           0.057265229733212575,
           0.7390140919540791,
           0.7025410653382131,
           0.20988913433468026,
           0.24696704928078228,
           1.1114021247974946,
           1.2060751950772826,
           0.3803917221594997,
           0,
           0.9844714188756587,
           0.39972749900540316,
           0.026953669558740234,
           0,
           1.267410281118103,
           1.3058294373892994,
           1.1724984843840716,
           1.0577991254979702,
           1.0550740706267292,
           0.5216525915905788,
           0.3824372384172503,
           0.24401133297151656,
           0.6431165889617851,
           0,
           0.8499062488535136,
           0,
           0.5817996950093298,
           1.0427061235295838,
           0.7542619844018872,
           0.7678806331903876,
           0.5331218938535507,
           0.5536327114785826,
           0.7527162016976678,
           0.02148593834003165,
           0.5342174926986609,
           0.5649856541868625,
           0.47762314075501555,
           0.5530511142237584
          ],
          [
           0.48578162498192157,
           0.6043902657477802,
           0.9493112489627573,
           0.4294389128223983,
           0.446210841407916,
           0.5762062706939797,
           0.9282526909990869,
           0,
           0.2827885979487954,
           0,
           0,
           0.7820118204981616,
           0.2813871260562295,
           0.11050623116426017,
           0.8568351987590872,
           1.26270715346809,
           1.3615728953020798,
           3.344044184306288,
           0.20910479969560614,
           0.09337551590102455,
           0.8612358692952569,
           0.794588678990563,
           0.15019226982985723,
           0.13084086551560103,
           1.1236008654415546,
           1.2441076970780207,
           0.5090853419893668,
           0.040882552445632214,
           1.0353774583839146,
           0.2686693195938852,
           0.006882481077395308,
           0,
           1.5035965082478768,
           1.4987703439952307,
           0.9430286645632524,
           0.794578199210918,
           1.1368123813979563,
           0.4916224625816419,
           0.38300747002507807,
           0.2576873177964334,
           0.6678092940895097,
           0.04277314446657732,
           0.7009321571190457,
           0,
           0.617569175395102,
           1.0307929073456878,
           0.6028216401554549,
           0.7525737486517743,
           0.4476764044468027,
           0.6047636294455683,
           0.6828814130614735,
           0.018790207690790872,
           0.47254101801187165,
           0.5448355929294064,
           0.41933913434582637,
           0.5594199686953849
          ],
          [
           0.14531462900355718,
           0.0860928879918137,
           0.19404196658625184,
           0.06724700994524824,
           0.01769566870501693,
           0.0343662920777521,
           0.0278738156282472,
           0,
           0,
           0,
           0,
           0.21752405960754917,
           0.1346880302447544,
           0,
           0,
           0.015055103085482191,
           0.2362536837745144,
           0.20910479969560614,
           3.3440441843062887,
           0.02778834406728059,
           0.17550932857431922,
           0.12309845348410464,
           0.00592657030003263,
           0,
           0.03925388408455888,
           0.16846314558761666,
           0,
           0,
           0,
           0.09107544434056702,
           0.09913092440549187,
           0,
           0.17051838276481623,
           0.223453284997571,
           0.08486351435759909,
           0.0666137372508846,
           0,
           0.08924767578646975,
           0,
           0,
           0.0546559253411667,
           0,
           0,
           0,
           0.043007999027042665,
           0.15471292647826873,
           0.05464110377769282,
           0.06852152150742752,
           0.019899451169394844,
           0.10636955317992358,
           0.04887775730655397,
           0.15278977545841554,
           0.018638596401740593,
           0.06838255141152327,
           0,
           0.06564183775590537
          ],
          [
           0.014862474541903037,
           0.08217114714921903,
           0.035789721054116264,
           0.09301816884135272,
           0.10937429511499053,
           0.07879249847830883,
           0.04486172562705182,
           0,
           0.2629981805166337,
           0.02417445951477859,
           0.03346299246499562,
           0.03254980956925979,
           0.23807968983196592,
           0.20681159125518267,
           0.10652580249732746,
           0.2072314849116743,
           0.07059365149942565,
           0.10311175071066336,
           0.02984663436240287,
           2.229473876943185,
           0.05185262290671666,
           0.0752995686732556,
           0.14480712788282668,
           0.09084865638685313,
           0.10865534878711425,
           0.05533975829700477,
           0.06779852087655591,
           0,
           0.020631809977672333,
           0.13572970749647162,
           0.011249470046437393,
           0,
           0.17941776100944917,
           0.22711206725897526,
           0.1746543588131031,
           0.08105730810539313,
           0.16234407592692102,
           0,
           0.09176216372433821,
           0.16334402779550983,
           0.16003529200030386,
           0,
           0.06657682934749376,
           0,
           0.08370843223908908,
           0.06501151960772344,
           0.05571584973770394,
           0.10903091029857692,
           0.030027477132255065,
           0.06010268421263265,
           0.08241238184686384,
           0,
           0.017349547314936764,
           0.05206155081234565,
           0.07200600149866987,
           0.06727710340389526
          ],
          [
           0.3560856565387347,
           0.8231082784507837,
           0.6906800915946474,
           0.5282079609712449,
           0.4168961386524286,
           0.5173406991649991,
           0.6404080146726252,
           0,
           0.10938820033498153,
           0,
           0,
           0.6152310475487099,
           0.21725159572060004,
           0.1321317686107646,
           0.9208109517881149,
           0.7550399106701442,
           0.7390140919540791,
           0.8612358692952569,
           0.17550932857431922,
           0.051062110609398914,
           3.3440441843062887,
           0.62929644212509,
           0.23990032636088543,
           0.15953078130488407,
           0.8536507673223968,
           1.065933183503978,
           0.6597242152110852,
           0.04987634044423217,
           1.0780583637097756,
           0.15362185732062716,
           0.0915059003581784,
           0,
           1.2815033038371952,
           1.240905192198704,
           1.2757131430046744,
           0.9063021184387323,
           1.0334184985594241,
           0.745523740340098,
           0.29810949378677565,
           0.3543255996739769,
           0.589527645746069,
           0.08339642620979637,
           0.7677877012488836,
           0,
           0.5871321704121608,
           0.6143236581026197,
           0.3300939690885025,
           0.7320327248954146,
           0.2869834892036258,
           0.56262264803255,
           0.6436122110248519,
           0,
           0.7950700365039154,
           0.725806638131012,
           0.8198923061676893,
           0.793769830470314
          ],
          [
           0.6324864950539948,
           0.3749366597835584,
           0.5375004414017139,
           0.19747895225977308,
           0.2617586483450087,
           0.2517263120540143,
           0.4405950827935676,
           0,
           0.09674162963019262,
           0,
           0,
           0.44069292043583896,
           0.14884857921985484,
           0.054768644984552584,
           0.6324366250211559,
           0.34194330839381726,
           0.7025410653382131,
           0.794588678990563,
           0.12309845348410464,
           0.06993998997810502,
           0.62929644212509,
           3.3440441843062887,
           0.18490075591795785,
           0.13736095746433374,
           0.7410520896376762,
           0.49295734110491063,
           0.22803743164185208,
           0.0017477582883795861,
           0.6958357658088312,
           0.26396837684603724,
           0.005248220900223366,
           0,
           0.6798299208074554,
           0.5966899832876833,
           0.37430522897860685,
           0.5904006948584755,
           0.6093716765072252,
           0.3016155538050098,
           0.22166653097814004,
           0.07980805921984313,
           0.3552822424603357,
           0.1218714695083345,
           0.5285574863759761,
           0.1292043934852547,
           0.30632434769772976,
           0.5946948899881219,
           0.36095646805661064,
           0.4450540889957315,
           0.2792542548077197,
           0.3572295017427196,
           0.40357992405236853,
           0,
           0.39501136146260807,
           0.3525724175259195,
           0.28795966903203496,
           0.23710847446072014
          ],
          [
           0.14222803865465838,
           0.24889578998283746,
           0.36539515191357763,
           0.26072487947386946,
           0.3011978181537538,
           0.2998999809524103,
           0.11676703554303458,
           0.007678417641916013,
           0.28026125912192423,
           0,
           0,
           0.0654536120535929,
           0.10092382624675267,
           0.2747470115850925,
           0.28529262211898265,
           0.20532097929454762,
           0.20186714499691227,
           0.15766625550273927,
           0.008097250344625273,
           0.15685503978534854,
           0.2545267214428306,
           0.17941257598195115,
           2.976024343036447,
           0.7449486319120329,
           0.45978438312230807,
           0.45797615295295735,
           0.15893003813942297,
           0,
           0.3865292098653885,
           0.2192964383633389,
           0.029104793710104992,
           0,
           0.5594775723078924,
           0.4652841454779475,
           0.5235021296397728,
           0.441881646623119,
           0.26142250025438285,
           0.19742461577849735,
           0.03211670920985643,
           0.18068127238823317,
           0.49014342554738777,
           0.12826535863076316,
           0.2772216868075237,
           0,
           0.07812668027633274,
           0.2903836517916836,
           0.2496655586707064,
           0.17018246355740851,
           0.1346413578515917,
           0.18550047342646936,
           0.17469763055011533,
           0,
           0.2941737312952615,
           0.2459715960121609,
           0.06803353187909833,
           0.08448565355642534
          ],
          [
           0.11118321319217506,
           0.1650343914691299,
           0.1406379341482773,
           0.23391142110142216,
           0.20211093907331312,
           0.1652310088407991,
           0.2174715737948758,
           0,
           0.2274236989117986,
           0.06610107943158461,
           0.07653158027099405,
           0.11181474332848884,
           0.13108743969378622,
           0.15390049626211955,
           0.1879460651959679,
           0.13902509531265306,
           0.24171049543760992,
           0.11577085073852356,
           0,
           0.12476595591600903,
           0.1499337093719455,
           0.13658564617815117,
           0.783777277352673,
           2.0566861436704147,
           0.36036774250189363,
           0.30490813166801534,
           0.0685677772830644,
           0,
           0.4562986928702788,
           0.280487692986378,
           0.08579182766993698,
           0.025245282695111726,
           0.38949833623501373,
           0.424852312255656,
           0.3558256286754222,
           0.3178232749994123,
           0.28034308918446627,
           0.06108937282062232,
           0.013436335213092843,
           0.2165344367956843,
           0.31937715380554765,
           0,
           0.26493576846926414,
           0,
           0.08648703028374438,
           0.31890063231508314,
           0.3389779934063939,
           0.2950813705338393,
           0.1909615755818761,
           0.30971683272512696,
           0.23255152841742666,
           0,
           0.18834647744168453,
           0.247694547541506,
           0,
           0.11896682988507434
          ],
          [
           0.422046060762018,
           0.4063969788610762,
           1.2956541858729598,
           0.47503226064327597,
           0.44539718940588013,
           0.45015653253454513,
           0.7635881606458677,
           0,
           0.17661497391631809,
           0,
           0,
           0.8629716111081649,
           0.31687506797750764,
           0.2573606770000012,
           0.9155518142827574,
           0.9511283465198721,
           1.1114021247974946,
           1.1236008654415546,
           0.03925388408455888,
           0.11759918250741119,
           0.8536507673223968,
           0.7410520896376762,
           0.46632894669078473,
           0.3551286093274766,
           3.3440441843062887,
           1.2208991684863761,
           0.5149620574562688,
           0.024331822132526604,
           1.091792563917758,
           0.28091769205683104,
           0,
           0,
           1.432949881190742,
           1.4685574776184307,
           0.9648567895068765,
           0.851262597478831,
           1.2236490902063308,
           0.4856526436100057,
           0.28840873001116796,
           0.18518201865007766,
           0.6144412050262784,
           0.0824985900794073,
           1.0635987002004965,
           0,
           0.5258750540121779,
           1.0274120477801838,
           0.7459923539951756,
           0.7391317267381239,
           0.5172679302012977,
           0.5375405417511785,
           0.7892321448628792,
           0,
           0.3230316115034788,
           0.2838974709064286,
           0.2566682495833281,
           0.257931324588081
          ],
          [
           0.44273350274736556,
           0.9007581904606319,
           0.9691025138186973,
           1.1319760106494128,
           0.6959060021128014,
           0.7886684324791755,
           0.8742494219242753,
           0,
           0.21113652190721943,
           0,
           0,
           0.8447181948544213,
           0.22420879557710727,
           0.14822384004517764,
           1.2197769172497241,
           0.905576828974632,
           1.1970404144983842,
           1.2189462310880155,
           0.1669384926438151,
           0.015436301746392544,
           1.0509887390595334,
           0.51109379550878,
           0.44024412811505,
           0.3800513291616636,
           1.221475499018589,
           2.0602266407387444,
           0.800224554304017,
           0.04302361994749404,
           1.528543136549435,
           0.24893699676149827,
           0.06720150710141626,
           0,
           1.821672344186681,
           1.608938096277787,
           1.7088489596514038,
           1.1269967447810632,
           1.5707939782430007,
           0.7747673012219041,
           0.3442139565305382,
           0.32026186744166285,
           0.8801299724509053,
           0.04467614623646243,
           1.0790541640561877,
           0.1562244870786964,
           0.9694323467559602,
           1.1206291756520024,
           0.7312377347582775,
           0.9473151237028081,
           0.6745213052754009,
           0.7895052861364942,
           0.7181663234977744,
           0.040160750605516604,
           0.9096282028358456,
           0.8061129610531883,
           0.776716810804591,
           0.9132155157977895
          ],
          [
           0.08429673872785615,
           0.4828745139452859,
           0.2446432278268975,
           0.3160112884721116,
           0.41816352166064497,
           0.5780658016377116,
           0.2957077324302124,
           0,
           0.10878150837753542,
           0,
           0,
           0.4761037303488016,
           0.13952096647653356,
           0.08648094993744437,
           0.6202572407685707,
           0.25838566484376857,
           0.3803917221594997,
           0.5090853419893671,
           0,
           0.12368602530033845,
           0.6597242152110852,
           0.22803743164185164,
           0.18987618268796114,
           0.10548004613445006,
           0.5149620574562686,
           0.7837346553141173,
           1.3207684344732438,
           0.1455776207531594,
           0.6315383037405544,
           0.07369477101767719,
           0,
           0.0502568215353687,
           0.8785747695300998,
           0.6629147285750849,
           0.5575079923874429,
           0.16389787816464918,
           0.6734985449966087,
           0.3472379722241723,
           0.24832193856275264,
           0.11657554681416937,
           0.47042475205439116,
           0.06414333831389452,
           0.45850261824709526,
           0,
           0.4846217734705103,
           0.5883953722115598,
           0.3601840158912908,
           0.546413096799375,
           0.27565026079616306,
           0.4132855217578413,
           0.46761160445454863,
           0,
           0.5665411536304825,
           0.4935201315150579,
           0.4900291631461924,
           0.46358091922395284
          ],
          [
           0.023760947800949284,
           0.023556950119262288,
           0.03345881496068692,
           0.004300683613654099,
           0,
           0.012291963064796851,
           0,
           0,
           0,
           0.11801538477991169,
           0.15026327699250874,
           0,
           0,
           0.022234750044071383,
           0.00686083398477999,
           0.03813458035646766,
           0.00425494449227215,
           0.04871588577896491,
           0,
           0,
           0.04417756699545916,
           0.004725050133624453,
           0,
           0,
           0.036919670088327194,
           0.03913101255488716,
           0.07602160925006585,
           0.16270813041262677,
           0.06058074665067159,
           0,
           0,
           0,
           0.008120875822511309,
           0.028254782054602412,
           0.08331188995106431,
           0.06278874027299075,
           0.05073336490338409,
           0.00692739834785816,
           0.02651111445050791,
           0.09490081913440207,
           0.033794163193012094,
           0,
           0.018874842677079506,
           0.004349252912284829,
           0,
           0.020084661607434606,
           0.003667063266535431,
           0,
           0,
           0.007643447726861652,
           0,
           0,
           0.004059144330738951,
           0.022678307485299642,
           0.021674561735806508,
           0
          ],
          [
           0.38979828659680926,
           0.8432465831681304,
           0.9901302745011704,
           0.804270883761276,
           0.7657875174076758,
           0.9254472000904945,
           0.5901684248885011,
           0,
           0.3432503488156029,
           0,
           0,
           1.0228642088678965,
           0.2163451593223118,
           0.2475434087192463,
           1.1500630006788057,
           0.8364769432391266,
           0.9844714188756587,
           1.0353774583839148,
           0,
           0.02133631491744259,
           1.0780583637097756,
           0.6950665350396004,
           0.3944607298404228,
           0.44728811535359014,
           1.0917925639177581,
           1.5419994857557837,
           0.6315383037405544,
           0.06863011895338378,
           3.341544184306288,
           0.2850748365503155,
           0,
           0,
           1.6631257207425083,
           1.7146949509706348,
           1.229836437218176,
           1.225479385411293,
           1.7472262630634434,
           0.9635722528420252,
           0.5246505296302959,
           0.3985431848431036,
           0.9494173525848177,
           0.11726708905850813,
           1.1945122866034028,
           0.050508829150847756,
           0.7287502262130041,
           1.2468317218049632,
           0.7954444671239558,
           0.9938397834419694,
           0.6021126284335092,
           0.8398077464696092,
           1.1063439565600053,
           0,
           0.8685492666646399,
           0.8767391696924762,
           0.8800117536177741,
           0.7918082885637197
          ],
          [
           0.046880268394621005,
           0.01567849016697398,
           0.384769241495178,
           0.05980157774110184,
           0.18442825878635682,
           0.14058834509437768,
           0.21803899480848177,
           0,
           1.0007132712833462,
           0,
           0,
           0.3529843725201811,
           0.882081292376347,
           0.45934285415119946,
           0.15544439773057217,
           0.2129355459719724,
           0.39972749900540316,
           0.2686693195938852,
           0.09107544434056702,
           0.13250204546775368,
           0.15362185732062716,
           0.26396837684603724,
           0.2198311029740907,
           0.2889253810024388,
           0.28091769205683104,
           0.2529886772013361,
           0.07224653221733979,
           0,
           0.2850748365503155,
           3.3440441843062882,
           0.24775466172438598,
           0,
           0.5185143207839791,
           0.4828623323201304,
           0.21378274262405217,
           0.6162397944226439,
           0.28536388845687943,
           0.30158108707486386,
           0.32674470925278376,
           0.5860440641892346,
           0.45909314051595906,
           0.004554970917844958,
           0.1701844134260151,
           0,
           0.04396834823850915,
           0.3780751234555,
           0.25145150561322716,
           0.1470793660768095,
           0.1798893678731477,
           0.08894828647944397,
           0.2883171020971611,
           0.07002427030597946,
           0.09860454631270166,
           0.17016118774403788,
           0.04572655273540294,
           0.147981221828422
          ],
          [
           0,
           0,
           0,
           0.05372734306044036,
           0.06300806372613543,
           0.0785156369442408,
           0.007140529070350787,
           0,
           0.1285202860277046,
           0,
           0,
           0.04415243609076658,
           0.14843490449073116,
           0.0697641048103268,
           0.019445659028562545,
           0,
           0.026953669558740234,
           0.006882481077395308,
           0.09913092440549187,
           0.011894527660568865,
           0.0915059003581784,
           0.005248220900223366,
           0.037889812183204086,
           0.10116272108222502,
           0,
           0.05665184116779187,
           0,
           0,
           0,
           0.24775466172438598,
           3.3440441843062887,
           0,
           0.12099622398309773,
           0.10681565509525415,
           0.07434606715579806,
           0.027313273699115292,
           0,
           0,
           0.0504272600836817,
           0.10266546464066639,
           0.06622443893981611,
           0,
           0,
           0.022891814179449188,
           0,
           0,
           0.016013306662483906,
           0,
           0.03919263330227585,
           0,
           0,
           0.031877526506888465,
           0,
           0,
           0.05343105898994249,
           0.022576090073080035
          ],
          [
           0,
           0,
           0,
           0,
           0,
           0,
           0,
           0,
           0,
           0,
           0.09818091208920254,
           0,
           0,
           0,
           0,
           0,
           0,
           0,
           0,
           0,
           0,
           0,
           0.010419651626529802,
           0,
           0,
           0,
           0,
           0,
           0,
           0,
           0,
           0,
           0,
           0,
           0,
           0,
           0,
           0,
           0,
           0,
           0,
           0,
           0,
           0,
           0,
           0,
           0,
           0,
           0,
           0,
           0,
           0,
           0,
           0,
           0,
           0
          ],
          [
           0.5877624936371881,
           0.9389163021068461,
           1.1817919356121633,
           0.6948034134672256,
           0.9306740133619145,
           0.8910783481798363,
           0.8965387834392882,
           0,
           0.5251353077254923,
           0,
           0,
           1.1596980478131056,
           0.4502260155049891,
           0.31960786886670345,
           1.2563990163097865,
           1.0246624221933267,
           1.267410281118103,
           1.503596508247877,
           0.17051838276481623,
           0.17260910395807505,
           1.2815033038371952,
           0.6798299208074554,
           0.542055617612025,
           0.3942596838507617,
           1.432949881190742,
           1.821850915615252,
           0.8785747695300996,
           0.008175586033181581,
           1.6631257207425083,
           0.5185143207839791,
           0.12099622398309773,
           0,
           3.3440441843062882,
           2.3906193716008586,
           0.5593397941310676,
           1.3790120018999064,
           1.7743450689404978,
           1.0111177120518215,
           0.41587522780165065,
           0.6541719935409387,
           1.0428573140690687,
           0.0617417017192845,
           1.1914643506221032,
           0,
           0.9212561060166697,
           1.5280555408061374,
           1.0376409364253965,
           1.221504076441478,
           0.8517521123261114,
           1.0111904272186698,
           1.072250616250117,
           0,
           0.9715664956995953,
           0.9411965430310296,
           0.8602957649363554,
           0.827320407455213
          ],
          [
           0.5141560219188146,
           0.9003496961516002,
           1.1693844167469996,
           0.7453454266060331,
           0.925454927456133,
           0.8782463136637078,
           0.847422508898056,
           0,
           0.4972235093729451,
           0,
           0,
           1.1977802423552362,
           0.42508355910842566,
           0.3053361694220218,
           1.2424274254116634,
           1.1289937557889869,
           1.3058294373892991,
           1.4987703439952305,
           0.223453284997571,
           0.22851312803335722,
           1.2409051921987042,
           0.5966899832876833,
           0.46096632441012675,
           0.41971348668270103,
           1.4685574776184307,
           1.6153032866429773,
           0.6629147285750845,
           0.004710584892452019,
           1.7146949509706348,
           0.4828623323201304,
           0.10681565509525415,
           0,
           2.390619371600858,
           3.344044184306288,
           0.6960146139020891,
           1.299781946324355,
           1.924194383173421,
           0.9357628655405046,
           0.4921613245897474,
           0.6737792185737708,
           1.0582268622966464,
           0.10956583808843279,
           1.2390750009145886,
           0.04854710256560102,
           0.8780770344199502,
           1.5066793295000571,
           0.9871298885308821,
           1.1857982077559246,
           0.8049138598572472,
           0.9320195648211933,
           1.1413981513539992,
           0,
           0.9537700081775702,
           0.9062039220085443,
           0.7951464064745299,
           0.7929200879946405
          ],
          [
           0.3410350924405767,
           0.5776298144900756,
           0.8512837514617337,
           0.8176942790218704,
           0.5102767047582601,
           0.6221532441768698,
           0.9902905496818759,
           0,
           0.22398715480639142,
           0,
           0,
           0.697815079930602,
           0.21019056229356137,
           0.2576458711769476,
           1.1345654037468726,
           0.8674243710492457,
           1.1724984843840716,
           0.9430286645632526,
           0.08486351435759909,
           0.1758063100552243,
           1.2757131430046744,
           0.3744776427717107,
           0.5239516245892677,
           0.35841524246943646,
           0.9648567895068765,
           1.6996822929847375,
           0.5575079923874431,
           0.08479601391886593,
           1.2298364372181765,
           0.21378274262405217,
           0.07434606715579806,
           0,
           0.5593397941310676,
           0.6960146139020891,
           3.3440441843062887,
           0.5373185045698987,
           1.2396389388103033,
           0.6817456840261467,
           0.39231726738082395,
           0.3856807700371936,
           0.618806260529569,
           0.09164721231240769,
           1.0089992385983055,
           0.019539391938916406,
           0.8036549244053948,
           0.8022352895445837,
           0.7945994672581502,
           0.8275074483597371,
           0.6287817577084986,
           0.7773211629135148,
           0.5754919393117828,
           0.055691638332808324,
           0.6307456050712894,
           0.5101976862647972,
           0.5537835680615415,
           0.5836623551934763
          ],
          [
           0.3624955661571727,
           0.7002315459305364,
           0.9770057685207623,
           0.39537537057990013,
           0.46604432263567164,
           0.48232240054186803,
           0.48988820317611603,
           0,
           0.3573960355158179,
           0,
           0,
           0.7103909781762554,
           0.5371361084353068,
           0.16540427779276445,
           0.7497176159542938,
           0.5424146430327217,
           1.0577991254979704,
           0.794578199210918,
           0.0666137372508846,
           0.08094682716165424,
           0.9063021184387323,
           0.5904006948584755,
           0.439860966578526,
           0.31051360154670604,
           0.851262597478831,
           1.1269967447810632,
           0.16389787816464896,
           0.06278874027299075,
           1.225479385411293,
           0.6162397944226439,
           0.027313273699115292,
           0,
           1.3790120018999064,
           1.2997819463243552,
           0.5374677583012422,
           3.3440441843062887,
           1.1348618073826926,
           1.1022733116408214,
           0.5965937726756043,
           0.5897442208166552,
           0.8759393750787359,
           0.07911459539318155,
           0.7184173906295368,
           0.001213470087265467,
           0.38302528616703846,
           0.9984444267640611,
           0.5040480496632975,
           0.6358099079724666,
           0.3749602116874393,
           0.37535325558141386,
           0.7970858683097823,
           0,
           0.5630923119463485,
           0.7424674325293417,
           0.5788702071590976,
           0.5634543339533233
          ],
          [
           0.3901595262367019,
           0.8096429665109723,
           0.9388251129675558,
           0.9295098738708663,
           0.7837917050823688,
           0.8312754366891575,
           0.5977627226451858,
           0,
           0.31269778974584694,
           0,
           0,
           1.0490208863994233,
           0.29868160040448233,
           0.20633248124937964,
           1.1550999413640746,
           0.8581574250233266,
           1.0550740706267292,
           1.1368123813979563,
           0,
           0.16346429086032943,
           1.0334184985594241,
           0.6093716765072252,
           0.2625210487646963,
           0.2844319864403042,
           1.2236490902063308,
           1.565555883004906,
           0.6734985449966087,
           0.0335893016652804,
           1.7472262630634434,
           0.28536388845687943,
           0,
           0,
           1.7743450689404978,
           1.9241943831734207,
           1.2396389388103035,
           1.1348618073826928,
           3.3440441843062882,
           0.8184989641023281,
           0.5467154279352076,
           0.35003888988946175,
           1.0051914558728043,
           0.1560493683555193,
           1.1631133735058987,
           0.13660796148867016,
           0.7988033140052471,
           1.1728390184836348,
           0.6965816763820163,
           1.005160930617854,
           0.5919856822500766,
           0.7857990712788743,
           1.0764339149813633,
           0.040701785056247,
           0.8332452402846542,
           0.7650419647385696,
           0.7720462334373539,
           0.7437968339506442
          ],
          [
           0.2719924725144862,
           0.5494551921266146,
           0.5769683187173369,
           0.19924390816616322,
           0.5323676224620306,
           0.3616224600950093,
           0.4016760261428174,
           0,
           0.0603666954343427,
           0,
           0,
           0.4028341722275952,
           0.22905976684886697,
           0.1439659831909501,
           0.5575312770122709,
           0.3869133259197879,
           0.5216525915905788,
           0.4916224625816419,
           0.08884912506183218,
           0,
           0.745523740340098,
           0.30232983951929615,
           0.18915811797013315,
           0.07974431836385998,
           0.48715569611305787,
           0.7749617456663485,
           0.3472379722241725,
           0.010870380803998714,
           0.9635722528420252,
           0.3001525156462921,
           0,
           0,
           1.0111177120518215,
           0.9360375908152303,
           0.6797456840261469,
           1.1022733116408214,
           0.8170703926737564,
           3.340710850972955,
           0.3399688630326403,
           0.461838000277905,
           0.2709661271997832,
           0.01290045045942767,
           0.5372560656491987,
           0.013469000246663754,
           0.2969365261544934,
           0.4789190245011401,
           0.37976040225709085,
           0.5606248897180213,
           0.29092657672609423,
           0.40391076212861243,
           0.4794193147483896,
           0.019994492745379677,
           0.543925740336288,
           0.5748846372988381,
           0.5269751998920431,
           0.5809023215296016
          ],
          [
           0.10579953810127263,
           0.2206144088308708,
           0.275089242147311,
           0.07568791664220775,
           0.1544090951688757,
           0.46589270187895515,
           0.06643857416746624,
           0,
           0.36465127302353206,
           0,
           0,
           0.3636048283116988,
           0.8275454788793861,
           0.10927699283366765,
           0.32676216663778535,
           0.23098199384601248,
           0.3824372384172503,
           0.38300747002507807,
           0,
           0.09176216372433776,
           0.29810949378677565,
           0.22166653097814004,
           0.03603676353367957,
           0.01814113766512282,
           0.28840873001116796,
           0.33676895760021175,
           0.2483219385627522,
           0.02651111445050791,
           0.5253648153445818,
           0.32674470925278376,
           0.0504272600836817,
           0,
           0.41587522780165065,
           0.4921613245897474,
           0.39231726738082395,
           0.5965937726756043,
           0.5467154279352076,
           0.3399688630326403,
           3.3440441843062887,
           0.23133889529569363,
           1.085490655547448,
           0,
           0.22521249428769963,
           0.0222617705225141,
           0.06815378421527774,
           0.5059636751526897,
           0.09936543585360758,
           0.27385354613941004,
           0.06544852979279758,
           0.15823186489885455,
           0.4945292985695384,
           0.05773977390407703,
           0.2671084327395463,
           0.2653415532988759,
           0.23821739747334147,
           0.2315730514755523
          ],
          [
           0.11753676305692773,
           0.36280715149066234,
           0.2958236568156267,
           0.1846893029155967,
           0.40599660665183857,
           0.22331864127124268,
           0.32718497157042536,
           0,
           0.39276654357770724,
           0,
           0,
           0.32134209960409166,
           0.6986121430125847,
           0.3582270534166656,
           0.28575180622961405,
           0.3944157022554333,
           0.24234466630484963,
           0.25748558852212344,
           0,
           0.1638781689469595,
           0.3543255996739769,
           0.07883186874365311,
           0.17840608923805013,
           0.23061341903431565,
           0.18552782970177129,
           0.31070443180756513,
           0.11757554681416904,
           0.09490081913440207,
           0.39864574894566784,
           0.5855678737130439,
           0.10277242434762579,
           0,
           0.6529170915801545,
           0.6719393917339436,
           0.3856807700371938,
           0.5909991227774394,
           0.34932460417517586,
           0.4624332383731429,
           0.23216267151947,
           3.3407108509729553,
           0.41630755545186426,
           0.04392062384801587,
           0.3118867533624363,
           0,
           0.1263704477258636,
           0.2671562173449171,
           0.248017560427916,
           0.1756416671013068,
           0.1636385700780032,
           0.12430250171353352,
           0.2901353894331873,
           0.08120035432358197,
           0.3219202693254908,
           0.42751553767310524,
           0.3322857057694657,
           0.35994499993837703
          ],
          [
           0.04002904835424248,
           0.5519077326991493,
           0.564625762383181,
           0.3541298479178896,
           0.600479814163299,
           0.6794800289255574,
           0.16077937071306714,
           0,
           0.5176386133830988,
           0,
           0,
           0.6147592919347855,
           0.687529473043877,
           0.19742105864631831,
           0.5830249504100289,
           0.6354811935407922,
           0.6431165889617851,
           0.6678092940895097,
           0.0546559253411667,
           0.1664361721156875,
           0.589527645746069,
           0.3552822424603357,
           0.4886264658215276,
           0.31285066040220055,
           0.6144412050262784,
           0.87473143584806,
           0.4704247520543907,
           0.03712749652634528,
           0.9494173525848177,
           0.45909314051595906,
           0.06622443893981611,
           0,
           1.0428573140690687,
           1.0582268622966464,
           0.6188062605295688,
           0.8759393750787359,
           1.0051914558728043,
           0.2709661271997832,
           1.085490655547448,
           0.4172599364042453,
           3.344044184306288,
           0.017482684409562133,
           0.5079499278710098,
           0,
           0.30050079245758177,
           0.8049427404884257,
           0.307018962427819,
           0.45533385412730754,
           0.18482211208785637,
           0.4278945208330893,
           0.7017220655149896,
           0.08534165965858964,
           0.42369404898747254,
           0.5677206656412643,
           0.46579446651001755,
           0.4917788180285396
          ],
          [
           0,
           0.0811463159152539,
           0.0719187224106248,
           0.11252773443008124,
           0,
           0.03605041480304605,
           0.08760525895774807,
           0,
           0.035699204456896894,
           0,
           0,
           0.05542783611631963,
           0.0028594939287751586,
           0,
           0.0835275358889116,
           0.019545844180864247,
           0,
           0.04277314446657732,
           0,
           0.009489181217843257,
           0.08339642620979637,
           0.12141692405378901,
           0.13288812475352962,
           0,
           0.0824985900794073,
           0.06094995576027218,
           0.0641433383138943,
           0,
           0.11726708905850813,
           0.004554970917844958,
           0,
           0,
           0.0617417017192845,
           0.10956583808843279,
           0.09210175776695317,
           0.07911459539318155,
           0.1560493683555193,
           0.01290045045942767,
           0,
           0.04517062384801562,
           0.017482684409562133,
           3.3440441843062887,
           0.13308984786459055,
           0.06886526476245569,
           0.058696104820504136,
           0.10204215072075362,
           0.03425045827122952,
           0.06134954503411727,
           0.07996340806418534,
           0.15789736427721124,
           0.11670822696769179,
           0.02184980888246857,
           0.19002692583337133,
           0.1397380913786268,
           0.12011421605872119,
           0.13531530249880586
          ],
          [
           0.4531588674421294,
           0.7141893570042102,
           0.799268571220006,
           0.43577107138167026,
           0.46807354212052,
           0.5608945265921661,
           0.5995002152296109,
           0,
           0,
           0,
           0,
           0.8299792316805492,
           0.13403840669123301,
           0.06488617136473795,
           1.4764469434289609,
           0.6092059314547482,
           0.8499062488535136,
           0.7009321571190457,
           0,
           0.06944357913284449,
           0.7677877012488836,
           0.5285574863759761,
           0.26809358433088093,
           0.2651911959393969,
           1.0635987002004965,
           1.06935288434175,
           0.45850261824709504,
           0.014374842677079336,
           1.1945122866034026,
           0.1701844134260151,
           0,
           0,
           1.1914643506221034,
           1.2390750009145883,
           1.0089992385983053,
           0.7184173906295368,
           1.1631133735058987,
           0.5347560656491988,
           0.22521249428769963,
           0.3125534200291029,
           0.5079499278710098,
           0.13308984786459055,
           3.3440441843062882,
           0.14618908959367793,
           0.5635360504492115,
           0.8446175109579754,
           0.6255466855323033,
           0.8889116468725051,
           0.5549913811402161,
           0.8006060034390456,
           0.6984578623592506,
           0.15911628613875495,
           0.6821928608874186,
           0.661077897602464,
           0.6265204899296974,
           0.718296700210042
          ],
          [
           0.05279398794773149,
           0.05112605842980722,
           0.059529628287979364,
           0.020430007226420077,
           0,
           0,
           0.11190050387631878,
           0,
           0,
           0,
           0,
           0,
           0,
           0.005935995110009973,
           0.07850148474764129,
           0.014442476154504558,
           0,
           0,
           0,
           0,
           0,
           0.1292043934852547,
           0,
           0.00043969377569474943,
           0,
           0.14937865905253034,
           0,
           0.004675276502328352,
           0.050508829150847756,
           0,
           0.022891814179449188,
           0,
           0,
           0.04854710256560102,
           0.019539391938916406,
           0.001739785876738953,
           0.13560796148867027,
           0.015135666913330237,
           0.0222617705225141,
           0,
           0,
           0.06886526476245569,
           0.1480224229270113,
           3.3415441843062883,
           0.05292216443133846,
           0,
           0.026477606302533818,
           0.03842504658318724,
           0.022441870618425952,
           0.04467896959998674,
           0.028959083843498323,
           0.1356076869432834,
           0.006845545480523185,
           0.055336606243342246,
           0.11847576116539527,
           0.05253874542334813
          ],
          [
           0.2764189036549536,
           0.6834409190097137,
           0.4438370975089625,
           0.19466420955575847,
           0.6421822507255674,
           0.5366120349755348,
           0.4931422284670437,
           0,
           0.1285329446656196,
           0,
           0,
           0.42742594977637616,
           0.033663584923738554,
           0.02241022574871243,
           0.6797625475982718,
           0.1979611634720566,
           0.5817996950093298,
           0.617569175395102,
           0.043007999027042665,
           0.07174242616866877,
           0.5871321704121608,
           0.30632434769772976,
           0.08518834388791907,
           0.09960239935578485,
           0.5258750540121779,
           0.9719323467559602,
           0.4846217734705105,
           0,
           0.7287502262130041,
           0.04396834823850915,
           0,
           0,
           0.9212561060166697,
           0.8780770344199502,
           0.8036549244053948,
           0.38302528616703846,
           0.7988033140052473,
           0.29493652615449295,
           0.06815378421527774,
           0.12762534968664774,
           0.300500792457582,
           0.058696104820504136,
           0.5635360504492115,
           0.05292216443133846,
           3.3440441843062887,
           0.74878616620377,
           0.49594273266351774,
           0.7128134263409169,
           0.4684309804584901,
           0.668869047040404,
           0.5606009022869585,
           0.07891739388151198,
           0.6734605502206936,
           0.6517246140378625,
           0.5721335357286039,
           0.6636215608672302
          ],
          [
           0.45017235324741733,
           0.6684274820227096,
           0.7843897041024586,
           0.34371431148928977,
           0.6548881100545376,
           0.842669962719989,
           0.41222987137614764,
           0,
           0.29344186803360284,
           0,
           0,
           0.8468744031513067,
           0.3555784463369842,
           0.3756102040200582,
           0.847833764420336,
           0.5715575749653343,
           1.0427061235295838,
           1.0307929073456878,
           0.15471292647826873,
           0.06679029881720666,
           0.6143236581026197,
           0.5946948899881219,
           0.3050957770846905,
           0.3091903490008656,
           1.0274120477801838,
           1.1237711797255021,
           0.58839537221156,
           0.013041166695518136,
           1.2468317218049632,
           0.3780751234555,
           0,
           0,
           1.5280555408061374,
           1.506679329500057,
           0.8022352895445839,
           0.9984444267640611,
           1.1728390184836348,
           0.4789190245011401,
           0.5059636751526897,
           0.26338966037247813,
           0.8049427404884257,
           0.10204215072075362,
           0.8446175109579754,
           0,
           0.7487861662037698,
           3.3440441843062882,
           0.969895756772067,
           1.246727099044187,
           0.5619392282898201,
           0.8027502780765512,
           1.0376431405237678,
           0,
           0.709810110409089,
           0.7030957241309457,
           0.5701229009036939,
           0.6499342432235857
          ],
          [
           0.25420959371998464,
           0.3035491059154949,
           0.6233012639417486,
           0.318789784862588,
           0.32475209473829736,
           0.4427559918491406,
           0.43510879055301865,
           0,
           0.09659231297155646,
           0,
           0,
           0.5673296534427796,
           0.13245469793457998,
           0.13686608189567728,
           0.6569162356575338,
           0.42535518038726705,
           0.7542619844018872,
           0.6028216401554551,
           0.05464110377769282,
           0.05612890731963471,
           0.33080825480278797,
           0.36095646805661086,
           0.24015679455900107,
           0.3423964648739206,
           0.7459923539951756,
           0.7392231844937283,
           0.3601840158912908,
           0.007694841044313172,
           0.7954444671239558,
           0.25145150561322693,
           0.016679973329151387,
           0,
           1.0376409364253967,
           0.9874747161170887,
           0.7945994672581502,
           0.5040480496632975,
           0.6965816763820163,
           0.37690325939994773,
           0.09936543585360758,
           0.2529391290553671,
           0.307018962427819,
           0.03348122750199911,
           0.6255466855323033,
           0.026477606302533818,
           0.49594273266351774,
           0.9698957567720672,
           3.3440441843062887,
           0.7170733817314789,
           0.6585582981152176,
           0.6467907907855834,
           0.6632507892110802,
           0.022875902670424608,
           0.3633233503282436,
           0.317471857313246,
           0.2689936972448015,
           0.3184143435961768
          ],
          [
           0.37772685185298727,
           0.6715304500614019,
           0.6971894294795429,
           0.31434265690117646,
           0.5325504384065811,
           0.7320449863174869,
           0.5275892485022613,
           0,
           0.09609039311584944,
           0,
           0,
           0.6100394207874338,
           0.17922239690301023,
           0.24141938581888844,
           0.8856791834933597,
           0.5485999912188206,
           0.7678806331903876,
           0.7525737486517743,
           0.06852152150742752,
           0.10321169438709621,
           0.7320327248954146,
           0.4450540889957315,
           0.17213951527761795,
           0.3125278131157847,
           0.7391317267381239,
           0.9606044299766348,
           0.546413096799375,
           0,
           0.9946731167753029,
           0.1470793660768095,
           0,
           0,
           1.221504076441478,
           1.1857982077559246,
           0.8275074483597371,
           0.6358099079724664,
           1.0051609306178542,
           0.5577830093761413,
           0.27385354613941004,
           0.17910320556284498,
           0.45533385412730754,
           0.06134954503411727,
           0.8889116468725051,
           0.03842504658318724,
           0.7128134263409169,
           1.246727099044187,
           0.7167792640844204,
           3.344044184306288,
           0.8776748237581322,
           1.1443075949832995,
           0.9954720888975115,
           0,
           0.7649561302572214,
           0.6703746167878291,
           0.6040521628558826,
           0.7133027075773364
          ],
          [
           0.18514743507476128,
           0.32487285454144077,
           0.4288554154048967,
           0.1910239885680589,
           0.23704723379398507,
           0.3160562730007155,
           0.46821350369301884,
           0,
           0.10323393386039448,
           0,
           0,
           0.36073591192094856,
           0.0997930685485311,
           0.11729352407987692,
           0.5145627419367345,
           0.2878221502773872,
           0.5331218938535507,
           0.4476764044468027,
           0.019899451169394844,
           0.0242952607590472,
           0.2869834892036258,
           0.2792542548077197,
           0.14760401447601357,
           0.1841470699879335,
           0.5172679302012977,
           0.6804679015090676,
           0.27565026079616306,
           0.0038582296924767334,
           0.6021126284335092,
           0.1798893678731479,
           0.03919263330227585,
           0,
           0.8517521123261114,
           0.8049138598572472,
           0.6287817577084986,
           0.3749602116874393,
           0.5919856822500769,
           0.29092657672609445,
           0.0654485297927978,
           0.16792428436371765,
           0.18482211208785637,
           0.07996340806418534,
           0.5549913811402161,
           0.021221632523189093,
           0.4684309804584901,
           0.5619392282898199,
           0.6585582981152176,
           0.8776748237581322,
           3.344044184306288,
           0.5912937231755726,
           0.5288712181035395,
           0.017862576173956146,
           0.361468823965984,
           0.28556405377555794,
           0.2150182447236375,
           0.36707659833810946
          ],
          [
           0.2711062501706736,
           0.6311299919263669,
           0.5069705517789664,
           0.29998923672657085,
           0.531456256919687,
           0.5695282703793634,
           0.29373680374717637,
           0,
           0.12634968331491958,
           0,
           0,
           0.509482830004715,
           0.1035976879856344,
           0.04063333238945477,
           0.7505303423691321,
           0.36524437483090777,
           0.5536327114785826,
           0.6047636294455683,
           0.10636955317992358,
           0.05523073498076192,
           0.56262264803255,
           0.35722950174271983,
           0.18469345588260921,
           0.30332163987390137,
           0.5375405417511785,
           0.7801347187606074,
           0.4132855217578415,
           0,
           0.8398077464696094,
           0.08894828647944397,
           0,
           0,
           1.0111904272186698,
           0.9320195648211935,
           0.7773211629135148,
           0.37535325558141364,
           0.7857990712788745,
           0.40391076212861265,
           0.15823186489885455,
           0.12547173248276478,
           0.4278945208330893,
           0.15789736427721124,
           0.8006060034390456,
           0.04201230293331992,
           0.668869047040404,
           0.8027502780765512,
           0.6467907907855834,
           1.1443075949832995,
           0.5912937231755726,
           3.3440441843062887,
           0.7124195796669563,
           0.017092626910779174,
           0.659334595300832,
           0.5382042923741166,
           0.5317563805204142,
           0.5398379878629966
          ],
          [
           0.33359980938391853,
           0.646122670791319,
           0.6159230099769655,
           0.18873816896749407,
           0.5866974742397213,
           0.6114835211187746,
           0.32494458005302596,
           0,
           0.27916293344015664,
           0,
           0,
           0.6057609093303009,
           0.30653779570363104,
           0.12785038525522552,
           0.7176565283876437,
           0.5214838641293698,
           0.7527162016976678,
           0.6828814130614735,
           0.04887775730655397,
           0.08241238184686361,
           0.6436122110248519,
           0.40357992405236853,
           0.1757697405993217,
           0.2479681230966695,
           0.7892321448628792,
           0.7078390548494031,
           0.4676116044545484,
           0,
           1.1063439565600053,
           0.2883171020971611,
           0,
           0,
           1.072250616250117,
           1.1413981513539992,
           0.575491939311783,
           0.7970858683097823,
           1.0764339149813633,
           0.4837123550414302,
           0.4945292985695384,
           0.29171114700894485,
           0.7017220655149896,
           0.11670822696769179,
           0.6984578623592506,
           0.028959083843498323,
           0.5606009022869585,
           1.0376431405237678,
           0.6632507892110802,
           0.9954720888975115,
           0.5288712181035398,
           0.7124195796669563,
           3.3440441843062887,
           0.06997639552150448,
           0.6089080753501999,
           0.6558746820541512,
           0.4727627275213071,
           0.6565552899412297
          ],
          [
           0,
           0,
           0.015445833300938183,
           0,
           0,
           0.029688838099330983,
           0.050505244205636846,
           0,
           0.0889342726673723,
           0,
           0,
           0,
           0.0348837039250407,
           0.030724967246689605,
           0.028129638265978585,
           0,
           0.02148593834003165,
           0.018790207690790872,
           0.15278977545841554,
           0,
           0,
           0,
           0,
           0.010695313968225761,
           0,
           0.04609761929238587,
           0,
           0,
           0,
           0.07002427030597946,
           0.031877526506888465,
           0,
           0,
           0,
           0.055691638332808324,
           0,
           0.040701785056247,
           0.019994492745379677,
           0.05773977390407703,
           0.0770336876569151,
           0.08534165965858964,
           0.02184980888246857,
           0.15911628613875495,
           0.1356076869432834,
           0.07891739388151198,
           0,
           0.022875902670424608,
           0,
           0.017862576173956146,
           0.017092626910779174,
           0.06997639552150448,
           3.344044184306288,
           0.032125434946702836,
           0.09800087629166132,
           0,
           0
          ],
          [
           0.2981116722116699,
           1.7935410681414075,
           0.4976674354209636,
           0.46311591010166975,
           0.5357421812827874,
           0.614699075729217,
           0.4000946928887772,
           0,
           0.19080837057000544,
           0,
           0,
           0.5370542672776821,
           0.08810339981416782,
           0.039558180195059744,
           0.8624122668263756,
           0.4106284780266627,
           0.5342174926986609,
           0.47254101801187165,
           0.018638596401740593,
           0.0214260181790511,
           0.7950700365039154,
           0.39501136146260807,
           0.2866787561122064,
           0.18708250369948942,
           0.3230316115034788,
           0.9131331047966302,
           0.5665411536304825,
           0.010225810997405382,
           0.8685492666646399,
           0.09860454631270166,
           0,
           0,
           0.9715664956995953,
           0.9537700081775702,
           0.6307456050712892,
           0.5630923119463485,
           0.8332452402846542,
           0.5445507403362879,
           0.2671084327395463,
           0.32101117841639937,
           0.42369404898747254,
           0.19002692583337133,
           0.6821928608874188,
           0.007678878813857093,
           0.6734605502206934,
           0.709810110409089,
           0.3633233503282436,
           0.7649561302572216,
           0.3614688239659838,
           0.659334595300832,
           0.6089080753501999,
           0.032125434946702836,
           3.3440441843062887,
           1.6485349723280363,
           1.521439794997136,
           1.4368547564288603
          ],
          [
           0.37766953158867844,
           2.0624067501329475,
           0.5573434974254163,
           0.38296688370777865,
           0.597373367477041,
           0.6615409141923014,
           0.29544873001570693,
           0,
           0.1269337182717276,
           0,
           0,
           0.536289133376715,
           0.15548244831889368,
           0.17359207865052806,
           0.776308755634584,
           0.4612280277845522,
           0.5649856541868625,
           0.5448355929294064,
           0.06838255141152327,
           0.057349636491629497,
           0.725806638131012,
           0.3525724175259195,
           0.24127671853617283,
           0.2538625110010777,
           0.2838974709064286,
           0.8182762908984871,
           0.4935201315150577,
           0.02067830748529964,
           0.8767391696924762,
           0.17016118774403788,
           0,
           0,
           0.9411965430310296,
           0.9062039220085443,
           0.5101976862647972,
           0.7424674325293417,
           0.7650419647385696,
           0.5748846372988381,
           0.2653415532988759,
           0.4288250281825947,
           0.5677206656412643,
           0.1397380913786268,
           0.661077897602464,
           0.055336606243342246,
           0.6517246140378625,
           0.7030957241309457,
           0.317471857313246,
           0.6703746167878291,
           0.28556405377555816,
           0.5382042923741168,
           0.6558746820541512,
           0.09800087629166132,
           1.6485349723280363,
           3.344044184306288,
           1.3691176327889094,
           1.4962622834210029
          ],
          [
           0.27949408663569564,
           1.648086743269396,
           0.4479920612076107,
           0.5330885152681506,
           0.6068660959084968,
           0.5611677124090573,
           0.22619854905646308,
           0,
           0.0796600355407513,
           0,
           0,
           0.5228690127823961,
           0.09843249375389673,
           0.11816071050467292,
           0.8734369075333932,
           0.5058594984061049,
           0.47762314075501555,
           0.41933913434582637,
           0,
           0.07303630510841508,
           0.8198923061676893,
           0.28795966903203496,
           0.05737378001781268,
           0,
           0.2566682495833281,
           0.7745194091565315,
           0.4900291631461924,
           0.027841228402472495,
           0.8800117536177741,
           0.04572655273540294,
           0.05343105898994249,
           0,
           0.8602957649363554,
           0.7951464064745299,
           0.5537835680615415,
           0.5788702071590976,
           0.7720462334373539,
           0.5269751998920431,
           0.23821739747334147,
           0.3322857057694657,
           0.46579446651001755,
           0.12011421605872119,
           0.6265204899296974,
           0.11826363995327416,
           0.5721335357286041,
           0.5701229009036939,
           0.2689936972448015,
           0.6040521628558824,
           0.2150182447236375,
           0.5317563805204144,
           0.4727627275213071,
           0,
           1.521439794997136,
           1.3691176327889094,
           3.3440441843062887,
           1.2636045742868558
          ],
          [
           0.30680813499424753,
           1.6037811723504005,
           0.5853289186433162,
           0.41411938405080395,
           0.47011324398937093,
           0.5247428046064946,
           0.2617048484419944,
           0,
           0.08029653300579742,
           0,
           0,
           0.4011937115834998,
           0.09211987038391811,
           0.14863765391421868,
           0.7796521974203126,
           0.4536282571647985,
           0.5530511142237584,
           0.5594199686953849,
           0.06564183775590537,
           0.07078107533490074,
           0.793769830470314,
           0.23710847446072014,
           0.08083652082640969,
           0.1256386929148099,
           0.257931324588081,
           0.9236289357112097,
           0.4635809192239533,
           0,
           0.7918082885637197,
           0.147981221828422,
           0.022576090073080035,
           0,
           0.827320407455213,
           0.7929200879946405,
           0.5836623551934763,
           0.5634543339533233,
           0.7437968339506442,
           0.580664226291506,
           0.2315730514755523,
           0.35994499993837703,
           0.4917788180285396,
           0.13531530249880586,
           0.718296700210042,
           0.05087207875668165,
           0.66362156086723,
           0.6499342432235857,
           0.3184143435961766,
           0.7133027075773364,
           0.36707659833810924,
           0.5398379878629966,
           0.6565552899412297,
           0,
           1.4368547564288603,
           1.4962622834210029,
           1.2636045742868558,
           3.3440441843062887
          ]
         ]
        }
       ],
       "layout": {
        "template": {
         "data": {
          "bar": [
           {
            "error_x": {
             "color": "#2a3f5f"
            },
            "error_y": {
             "color": "#2a3f5f"
            },
            "marker": {
             "line": {
              "color": "#E5ECF6",
              "width": 0.5
             },
             "pattern": {
              "fillmode": "overlay",
              "size": 10,
              "solidity": 0.2
             }
            },
            "type": "bar"
           }
          ],
          "barpolar": [
           {
            "marker": {
             "line": {
              "color": "#E5ECF6",
              "width": 0.5
             },
             "pattern": {
              "fillmode": "overlay",
              "size": 10,
              "solidity": 0.2
             }
            },
            "type": "barpolar"
           }
          ],
          "carpet": [
           {
            "aaxis": {
             "endlinecolor": "#2a3f5f",
             "gridcolor": "white",
             "linecolor": "white",
             "minorgridcolor": "white",
             "startlinecolor": "#2a3f5f"
            },
            "baxis": {
             "endlinecolor": "#2a3f5f",
             "gridcolor": "white",
             "linecolor": "white",
             "minorgridcolor": "white",
             "startlinecolor": "#2a3f5f"
            },
            "type": "carpet"
           }
          ],
          "choropleth": [
           {
            "colorbar": {
             "outlinewidth": 0,
             "ticks": ""
            },
            "type": "choropleth"
           }
          ],
          "contour": [
           {
            "colorbar": {
             "outlinewidth": 0,
             "ticks": ""
            },
            "colorscale": [
             [
              0,
              "#0d0887"
             ],
             [
              0.1111111111111111,
              "#46039f"
             ],
             [
              0.2222222222222222,
              "#7201a8"
             ],
             [
              0.3333333333333333,
              "#9c179e"
             ],
             [
              0.4444444444444444,
              "#bd3786"
             ],
             [
              0.5555555555555556,
              "#d8576b"
             ],
             [
              0.6666666666666666,
              "#ed7953"
             ],
             [
              0.7777777777777778,
              "#fb9f3a"
             ],
             [
              0.8888888888888888,
              "#fdca26"
             ],
             [
              1,
              "#f0f921"
             ]
            ],
            "type": "contour"
           }
          ],
          "contourcarpet": [
           {
            "colorbar": {
             "outlinewidth": 0,
             "ticks": ""
            },
            "type": "contourcarpet"
           }
          ],
          "heatmap": [
           {
            "colorbar": {
             "outlinewidth": 0,
             "ticks": ""
            },
            "colorscale": [
             [
              0,
              "#0d0887"
             ],
             [
              0.1111111111111111,
              "#46039f"
             ],
             [
              0.2222222222222222,
              "#7201a8"
             ],
             [
              0.3333333333333333,
              "#9c179e"
             ],
             [
              0.4444444444444444,
              "#bd3786"
             ],
             [
              0.5555555555555556,
              "#d8576b"
             ],
             [
              0.6666666666666666,
              "#ed7953"
             ],
             [
              0.7777777777777778,
              "#fb9f3a"
             ],
             [
              0.8888888888888888,
              "#fdca26"
             ],
             [
              1,
              "#f0f921"
             ]
            ],
            "type": "heatmap"
           }
          ],
          "heatmapgl": [
           {
            "colorbar": {
             "outlinewidth": 0,
             "ticks": ""
            },
            "colorscale": [
             [
              0,
              "#0d0887"
             ],
             [
              0.1111111111111111,
              "#46039f"
             ],
             [
              0.2222222222222222,
              "#7201a8"
             ],
             [
              0.3333333333333333,
              "#9c179e"
             ],
             [
              0.4444444444444444,
              "#bd3786"
             ],
             [
              0.5555555555555556,
              "#d8576b"
             ],
             [
              0.6666666666666666,
              "#ed7953"
             ],
             [
              0.7777777777777778,
              "#fb9f3a"
             ],
             [
              0.8888888888888888,
              "#fdca26"
             ],
             [
              1,
              "#f0f921"
             ]
            ],
            "type": "heatmapgl"
           }
          ],
          "histogram": [
           {
            "marker": {
             "pattern": {
              "fillmode": "overlay",
              "size": 10,
              "solidity": 0.2
             }
            },
            "type": "histogram"
           }
          ],
          "histogram2d": [
           {
            "colorbar": {
             "outlinewidth": 0,
             "ticks": ""
            },
            "colorscale": [
             [
              0,
              "#0d0887"
             ],
             [
              0.1111111111111111,
              "#46039f"
             ],
             [
              0.2222222222222222,
              "#7201a8"
             ],
             [
              0.3333333333333333,
              "#9c179e"
             ],
             [
              0.4444444444444444,
              "#bd3786"
             ],
             [
              0.5555555555555556,
              "#d8576b"
             ],
             [
              0.6666666666666666,
              "#ed7953"
             ],
             [
              0.7777777777777778,
              "#fb9f3a"
             ],
             [
              0.8888888888888888,
              "#fdca26"
             ],
             [
              1,
              "#f0f921"
             ]
            ],
            "type": "histogram2d"
           }
          ],
          "histogram2dcontour": [
           {
            "colorbar": {
             "outlinewidth": 0,
             "ticks": ""
            },
            "colorscale": [
             [
              0,
              "#0d0887"
             ],
             [
              0.1111111111111111,
              "#46039f"
             ],
             [
              0.2222222222222222,
              "#7201a8"
             ],
             [
              0.3333333333333333,
              "#9c179e"
             ],
             [
              0.4444444444444444,
              "#bd3786"
             ],
             [
              0.5555555555555556,
              "#d8576b"
             ],
             [
              0.6666666666666666,
              "#ed7953"
             ],
             [
              0.7777777777777778,
              "#fb9f3a"
             ],
             [
              0.8888888888888888,
              "#fdca26"
             ],
             [
              1,
              "#f0f921"
             ]
            ],
            "type": "histogram2dcontour"
           }
          ],
          "mesh3d": [
           {
            "colorbar": {
             "outlinewidth": 0,
             "ticks": ""
            },
            "type": "mesh3d"
           }
          ],
          "parcoords": [
           {
            "line": {
             "colorbar": {
              "outlinewidth": 0,
              "ticks": ""
             }
            },
            "type": "parcoords"
           }
          ],
          "pie": [
           {
            "automargin": true,
            "type": "pie"
           }
          ],
          "scatter": [
           {
            "fillpattern": {
             "fillmode": "overlay",
             "size": 10,
             "solidity": 0.2
            },
            "type": "scatter"
           }
          ],
          "scatter3d": [
           {
            "line": {
             "colorbar": {
              "outlinewidth": 0,
              "ticks": ""
             }
            },
            "marker": {
             "colorbar": {
              "outlinewidth": 0,
              "ticks": ""
             }
            },
            "type": "scatter3d"
           }
          ],
          "scattercarpet": [
           {
            "marker": {
             "colorbar": {
              "outlinewidth": 0,
              "ticks": ""
             }
            },
            "type": "scattercarpet"
           }
          ],
          "scattergeo": [
           {
            "marker": {
             "colorbar": {
              "outlinewidth": 0,
              "ticks": ""
             }
            },
            "type": "scattergeo"
           }
          ],
          "scattergl": [
           {
            "marker": {
             "colorbar": {
              "outlinewidth": 0,
              "ticks": ""
             }
            },
            "type": "scattergl"
           }
          ],
          "scattermapbox": [
           {
            "marker": {
             "colorbar": {
              "outlinewidth": 0,
              "ticks": ""
             }
            },
            "type": "scattermapbox"
           }
          ],
          "scatterpolar": [
           {
            "marker": {
             "colorbar": {
              "outlinewidth": 0,
              "ticks": ""
             }
            },
            "type": "scatterpolar"
           }
          ],
          "scatterpolargl": [
           {
            "marker": {
             "colorbar": {
              "outlinewidth": 0,
              "ticks": ""
             }
            },
            "type": "scatterpolargl"
           }
          ],
          "scatterternary": [
           {
            "marker": {
             "colorbar": {
              "outlinewidth": 0,
              "ticks": ""
             }
            },
            "type": "scatterternary"
           }
          ],
          "surface": [
           {
            "colorbar": {
             "outlinewidth": 0,
             "ticks": ""
            },
            "colorscale": [
             [
              0,
              "#0d0887"
             ],
             [
              0.1111111111111111,
              "#46039f"
             ],
             [
              0.2222222222222222,
              "#7201a8"
             ],
             [
              0.3333333333333333,
              "#9c179e"
             ],
             [
              0.4444444444444444,
              "#bd3786"
             ],
             [
              0.5555555555555556,
              "#d8576b"
             ],
             [
              0.6666666666666666,
              "#ed7953"
             ],
             [
              0.7777777777777778,
              "#fb9f3a"
             ],
             [
              0.8888888888888888,
              "#fdca26"
             ],
             [
              1,
              "#f0f921"
             ]
            ],
            "type": "surface"
           }
          ],
          "table": [
           {
            "cells": {
             "fill": {
              "color": "#EBF0F8"
             },
             "line": {
              "color": "white"
             }
            },
            "header": {
             "fill": {
              "color": "#C8D4E3"
             },
             "line": {
              "color": "white"
             }
            },
            "type": "table"
           }
          ]
         },
         "layout": {
          "annotationdefaults": {
           "arrowcolor": "#2a3f5f",
           "arrowhead": 0,
           "arrowwidth": 1
          },
          "autotypenumbers": "strict",
          "coloraxis": {
           "colorbar": {
            "outlinewidth": 0,
            "ticks": ""
           }
          },
          "colorscale": {
           "diverging": [
            [
             0,
             "#8e0152"
            ],
            [
             0.1,
             "#c51b7d"
            ],
            [
             0.2,
             "#de77ae"
            ],
            [
             0.3,
             "#f1b6da"
            ],
            [
             0.4,
             "#fde0ef"
            ],
            [
             0.5,
             "#f7f7f7"
            ],
            [
             0.6,
             "#e6f5d0"
            ],
            [
             0.7,
             "#b8e186"
            ],
            [
             0.8,
             "#7fbc41"
            ],
            [
             0.9,
             "#4d9221"
            ],
            [
             1,
             "#276419"
            ]
           ],
           "sequential": [
            [
             0,
             "#0d0887"
            ],
            [
             0.1111111111111111,
             "#46039f"
            ],
            [
             0.2222222222222222,
             "#7201a8"
            ],
            [
             0.3333333333333333,
             "#9c179e"
            ],
            [
             0.4444444444444444,
             "#bd3786"
            ],
            [
             0.5555555555555556,
             "#d8576b"
            ],
            [
             0.6666666666666666,
             "#ed7953"
            ],
            [
             0.7777777777777778,
             "#fb9f3a"
            ],
            [
             0.8888888888888888,
             "#fdca26"
            ],
            [
             1,
             "#f0f921"
            ]
           ],
           "sequentialminus": [
            [
             0,
             "#0d0887"
            ],
            [
             0.1111111111111111,
             "#46039f"
            ],
            [
             0.2222222222222222,
             "#7201a8"
            ],
            [
             0.3333333333333333,
             "#9c179e"
            ],
            [
             0.4444444444444444,
             "#bd3786"
            ],
            [
             0.5555555555555556,
             "#d8576b"
            ],
            [
             0.6666666666666666,
             "#ed7953"
            ],
            [
             0.7777777777777778,
             "#fb9f3a"
            ],
            [
             0.8888888888888888,
             "#fdca26"
            ],
            [
             1,
             "#f0f921"
            ]
           ]
          },
          "colorway": [
           "#636efa",
           "#EF553B",
           "#00cc96",
           "#ab63fa",
           "#FFA15A",
           "#19d3f3",
           "#FF6692",
           "#B6E880",
           "#FF97FF",
           "#FECB52"
          ],
          "font": {
           "color": "#2a3f5f"
          },
          "geo": {
           "bgcolor": "white",
           "lakecolor": "white",
           "landcolor": "#E5ECF6",
           "showlakes": true,
           "showland": true,
           "subunitcolor": "white"
          },
          "hoverlabel": {
           "align": "left"
          },
          "hovermode": "closest",
          "mapbox": {
           "style": "light"
          },
          "paper_bgcolor": "white",
          "plot_bgcolor": "#E5ECF6",
          "polar": {
           "angularaxis": {
            "gridcolor": "white",
            "linecolor": "white",
            "ticks": ""
           },
           "bgcolor": "#E5ECF6",
           "radialaxis": {
            "gridcolor": "white",
            "linecolor": "white",
            "ticks": ""
           }
          },
          "scene": {
           "xaxis": {
            "backgroundcolor": "#E5ECF6",
            "gridcolor": "white",
            "gridwidth": 2,
            "linecolor": "white",
            "showbackground": true,
            "ticks": "",
            "zerolinecolor": "white"
           },
           "yaxis": {
            "backgroundcolor": "#E5ECF6",
            "gridcolor": "white",
            "gridwidth": 2,
            "linecolor": "white",
            "showbackground": true,
            "ticks": "",
            "zerolinecolor": "white"
           },
           "zaxis": {
            "backgroundcolor": "#E5ECF6",
            "gridcolor": "white",
            "gridwidth": 2,
            "linecolor": "white",
            "showbackground": true,
            "ticks": "",
            "zerolinecolor": "white"
           }
          },
          "shapedefaults": {
           "line": {
            "color": "#2a3f5f"
           }
          },
          "ternary": {
           "aaxis": {
            "gridcolor": "white",
            "linecolor": "white",
            "ticks": ""
           },
           "baxis": {
            "gridcolor": "white",
            "linecolor": "white",
            "ticks": ""
           },
           "bgcolor": "#E5ECF6",
           "caxis": {
            "gridcolor": "white",
            "linecolor": "white",
            "ticks": ""
           }
          },
          "title": {
           "x": 0.05
          },
          "xaxis": {
           "automargin": true,
           "gridcolor": "white",
           "linecolor": "white",
           "ticks": "",
           "title": {
            "standoff": 15
           },
           "zerolinecolor": "white",
           "zerolinewidth": 2
          },
          "yaxis": {
           "automargin": true,
           "gridcolor": "white",
           "linecolor": "white",
           "ticks": "",
           "title": {
            "standoff": 15
           },
           "zerolinecolor": "white",
           "zerolinewidth": 2
          }
         }
        },
        "title": {
         "text": "Mutual Information",
         "x": 0.5
        }
       }
      }
     },
     "metadata": {},
     "output_type": "display_data"
    }
   ],
   "source": [
    "data_exp = DataExploration()\n",
    "df = data_exp.load_data('./data/sasol_data_sample.csv', parse_dates=True, index_col=0)\n",
    "da = DataAnalysis(df,'OXO-5FI635C Augusta')\n",
    "da.correlation_analysis()"
   ]
  },
  {
   "cell_type": "markdown",
   "metadata": {},
   "source": [
    "variance_analysis"
   ]
  },
  {
   "cell_type": "code",
   "execution_count": 3,
   "metadata": {},
   "outputs": [
    {
     "data": {
      "application/vnd.plotly.v1+json": {
       "config": {
        "plotlyServerURL": "https://plot.ly"
       },
       "data": [
        {
         "alignmentgroup": "True",
         "hovertemplate": "x=%{x}<br>y=%{y}<extra></extra>",
         "legendgroup": "",
         "marker": {
          "color": "#636efa",
          "pattern": {
           "shape": ""
          }
         },
         "name": "",
         "offsetgroup": "",
         "orientation": "v",
         "showlegend": false,
         "textposition": "auto",
         "type": "bar",
         "x": [
          "OXO-5LI650F Augusta",
          "OXO-5FIC622A Augusta",
          "OXO-5FIC636B Augusta",
          "OXO-5FIC132 Augusta",
          "OXO-5FIC636A Augusta",
          "OXO-5LI633B Augusta",
          "OXO-5LI655F Augusta",
          "OXO-5LI653F Augusta",
          "OXO-5LI652E Augusta",
          "OXO-5FIC606C Augusta",
          "OXO-5FIC601 Augusta",
          "OXO-5LI653E Augusta",
          "OXO-5FIC622B Augusta",
          "OXO-5FIC612A Augusta",
          "OXO-5FIC622C Augusta",
          "OXO-5FIC636C Augusta",
          "OXO-5FIC609B Augusta",
          "OXO-5LI658F Augusta",
          "OXO-5FI635C Augusta",
          "OXO-5FI696 Augusta",
          "OXO-5FIC618A Augusta",
          "OXO-5LI657F Augusta",
          "OXO-5LI656F Augusta",
          "OXO-5FIC618C Augusta",
          "OXO-5LI654E Augusta",
          "OXO-5FIC618B Augusta",
          "OXO-5LI651F Augusta",
          "OXO-5FIC600 Augusta",
          "OXO-5RIC606_Y Augusta",
          "OXO-5TIC601 Augusta",
          "OXO-5FIC612B Augusta",
          "OXO-5FIC618D Augusta",
          "OXO-5FIC602 Augusta",
          "OXO-_5FI662A Augusta",
          "OXO-_5FI660A Augusta",
          "OXO-_5FI659A Augusta",
          "OXO-_5FI658A Augusta",
          "OXO-5FI661A Augusta",
          "OXO-5TIC603 Augusta",
          "OXO-5FIC611A Augusta",
          "OXO-5TIC602 Augusta",
          "OXO-5TIC604 Augusta",
          "OXO-5TIC607 Augusta",
          "OXO-5TIC605 Augusta",
          "OXO-5FQI691B Augusta",
          "OXO-5TIC606 Augusta",
          "OXO-5LI651E Augusta",
          "OXO-5PIC605A Augusta",
          "OXO-5TIC659 Augusta",
          "OXO-5LI657E Augusta",
          "OXO-5LI658E Augusta",
          "OXO-5TIC002 Augusta",
          "OXO-5FIC603 Augusta",
          "OXO-5FIC607 Augusta",
          "OXO-5FIC609A Augusta",
          "OXO-5LI652F Augusta",
          "OXO-5FIC606A Augusta",
          "OXO-5FIC611B Augusta",
          "OXO-5LI654F Augusta"
         ],
         "xaxis": "x",
         "y": [
          4.978317653426667,
          3.1908118883634295,
          1.2694845007363293,
          1.2666215187093854,
          0.7680049740767814,
          0.4400179093267958,
          0.39202757760988377,
          0.2770385863719003,
          0.26565315010445945,
          0.2597878901487682,
          0.23743360526196639,
          0.23343335274987959,
          0.1343268165263878,
          0.11342031458818379,
          0.10396577419672445,
          0.09862397974702503,
          0.08586967511334603,
          0.07815407069188204,
          0.07525645733310565,
          0.05662493102436036,
          0.05269272733426571,
          0.04323242851123516,
          0.03598007963085168,
          0.032810208125141904,
          0.030610450206668197,
          0.02766201425653446,
          0.01902207959210285,
          0.018068632654380207,
          0.016776361896502667,
          0.01539351405984975,
          0.015324927653522715,
          0.014520610808478315,
          0.012857671591702454,
          0.010146124485992468,
          0.009624332146022046,
          0.009263896116023011,
          0.009093895664611888,
          0.008932425885222025,
          0.008653379427818917,
          0.008374386910480452,
          0.008277165286456289,
          0.007707865651382551,
          0.0069653365819128355,
          0.0066919323136784515,
          0.0062276533436097375,
          0.005529198561902813,
          0.002876287787955566,
          0.0018512914392526817,
          0.0013643485079269527,
          0.0010068965089549701,
          0.0003407452320794987,
          0.00013915088730696358,
          0,
          0,
          0,
          0,
          null,
          null,
          null
         ],
         "yaxis": "y"
        }
       ],
       "layout": {
        "barmode": "relative",
        "legend": {
         "tracegroupgap": 0
        },
        "template": {
         "data": {
          "bar": [
           {
            "error_x": {
             "color": "#2a3f5f"
            },
            "error_y": {
             "color": "#2a3f5f"
            },
            "marker": {
             "line": {
              "color": "#E5ECF6",
              "width": 0.5
             },
             "pattern": {
              "fillmode": "overlay",
              "size": 10,
              "solidity": 0.2
             }
            },
            "type": "bar"
           }
          ],
          "barpolar": [
           {
            "marker": {
             "line": {
              "color": "#E5ECF6",
              "width": 0.5
             },
             "pattern": {
              "fillmode": "overlay",
              "size": 10,
              "solidity": 0.2
             }
            },
            "type": "barpolar"
           }
          ],
          "carpet": [
           {
            "aaxis": {
             "endlinecolor": "#2a3f5f",
             "gridcolor": "white",
             "linecolor": "white",
             "minorgridcolor": "white",
             "startlinecolor": "#2a3f5f"
            },
            "baxis": {
             "endlinecolor": "#2a3f5f",
             "gridcolor": "white",
             "linecolor": "white",
             "minorgridcolor": "white",
             "startlinecolor": "#2a3f5f"
            },
            "type": "carpet"
           }
          ],
          "choropleth": [
           {
            "colorbar": {
             "outlinewidth": 0,
             "ticks": ""
            },
            "type": "choropleth"
           }
          ],
          "contour": [
           {
            "colorbar": {
             "outlinewidth": 0,
             "ticks": ""
            },
            "colorscale": [
             [
              0,
              "#0d0887"
             ],
             [
              0.1111111111111111,
              "#46039f"
             ],
             [
              0.2222222222222222,
              "#7201a8"
             ],
             [
              0.3333333333333333,
              "#9c179e"
             ],
             [
              0.4444444444444444,
              "#bd3786"
             ],
             [
              0.5555555555555556,
              "#d8576b"
             ],
             [
              0.6666666666666666,
              "#ed7953"
             ],
             [
              0.7777777777777778,
              "#fb9f3a"
             ],
             [
              0.8888888888888888,
              "#fdca26"
             ],
             [
              1,
              "#f0f921"
             ]
            ],
            "type": "contour"
           }
          ],
          "contourcarpet": [
           {
            "colorbar": {
             "outlinewidth": 0,
             "ticks": ""
            },
            "type": "contourcarpet"
           }
          ],
          "heatmap": [
           {
            "colorbar": {
             "outlinewidth": 0,
             "ticks": ""
            },
            "colorscale": [
             [
              0,
              "#0d0887"
             ],
             [
              0.1111111111111111,
              "#46039f"
             ],
             [
              0.2222222222222222,
              "#7201a8"
             ],
             [
              0.3333333333333333,
              "#9c179e"
             ],
             [
              0.4444444444444444,
              "#bd3786"
             ],
             [
              0.5555555555555556,
              "#d8576b"
             ],
             [
              0.6666666666666666,
              "#ed7953"
             ],
             [
              0.7777777777777778,
              "#fb9f3a"
             ],
             [
              0.8888888888888888,
              "#fdca26"
             ],
             [
              1,
              "#f0f921"
             ]
            ],
            "type": "heatmap"
           }
          ],
          "heatmapgl": [
           {
            "colorbar": {
             "outlinewidth": 0,
             "ticks": ""
            },
            "colorscale": [
             [
              0,
              "#0d0887"
             ],
             [
              0.1111111111111111,
              "#46039f"
             ],
             [
              0.2222222222222222,
              "#7201a8"
             ],
             [
              0.3333333333333333,
              "#9c179e"
             ],
             [
              0.4444444444444444,
              "#bd3786"
             ],
             [
              0.5555555555555556,
              "#d8576b"
             ],
             [
              0.6666666666666666,
              "#ed7953"
             ],
             [
              0.7777777777777778,
              "#fb9f3a"
             ],
             [
              0.8888888888888888,
              "#fdca26"
             ],
             [
              1,
              "#f0f921"
             ]
            ],
            "type": "heatmapgl"
           }
          ],
          "histogram": [
           {
            "marker": {
             "pattern": {
              "fillmode": "overlay",
              "size": 10,
              "solidity": 0.2
             }
            },
            "type": "histogram"
           }
          ],
          "histogram2d": [
           {
            "colorbar": {
             "outlinewidth": 0,
             "ticks": ""
            },
            "colorscale": [
             [
              0,
              "#0d0887"
             ],
             [
              0.1111111111111111,
              "#46039f"
             ],
             [
              0.2222222222222222,
              "#7201a8"
             ],
             [
              0.3333333333333333,
              "#9c179e"
             ],
             [
              0.4444444444444444,
              "#bd3786"
             ],
             [
              0.5555555555555556,
              "#d8576b"
             ],
             [
              0.6666666666666666,
              "#ed7953"
             ],
             [
              0.7777777777777778,
              "#fb9f3a"
             ],
             [
              0.8888888888888888,
              "#fdca26"
             ],
             [
              1,
              "#f0f921"
             ]
            ],
            "type": "histogram2d"
           }
          ],
          "histogram2dcontour": [
           {
            "colorbar": {
             "outlinewidth": 0,
             "ticks": ""
            },
            "colorscale": [
             [
              0,
              "#0d0887"
             ],
             [
              0.1111111111111111,
              "#46039f"
             ],
             [
              0.2222222222222222,
              "#7201a8"
             ],
             [
              0.3333333333333333,
              "#9c179e"
             ],
             [
              0.4444444444444444,
              "#bd3786"
             ],
             [
              0.5555555555555556,
              "#d8576b"
             ],
             [
              0.6666666666666666,
              "#ed7953"
             ],
             [
              0.7777777777777778,
              "#fb9f3a"
             ],
             [
              0.8888888888888888,
              "#fdca26"
             ],
             [
              1,
              "#f0f921"
             ]
            ],
            "type": "histogram2dcontour"
           }
          ],
          "mesh3d": [
           {
            "colorbar": {
             "outlinewidth": 0,
             "ticks": ""
            },
            "type": "mesh3d"
           }
          ],
          "parcoords": [
           {
            "line": {
             "colorbar": {
              "outlinewidth": 0,
              "ticks": ""
             }
            },
            "type": "parcoords"
           }
          ],
          "pie": [
           {
            "automargin": true,
            "type": "pie"
           }
          ],
          "scatter": [
           {
            "fillpattern": {
             "fillmode": "overlay",
             "size": 10,
             "solidity": 0.2
            },
            "type": "scatter"
           }
          ],
          "scatter3d": [
           {
            "line": {
             "colorbar": {
              "outlinewidth": 0,
              "ticks": ""
             }
            },
            "marker": {
             "colorbar": {
              "outlinewidth": 0,
              "ticks": ""
             }
            },
            "type": "scatter3d"
           }
          ],
          "scattercarpet": [
           {
            "marker": {
             "colorbar": {
              "outlinewidth": 0,
              "ticks": ""
             }
            },
            "type": "scattercarpet"
           }
          ],
          "scattergeo": [
           {
            "marker": {
             "colorbar": {
              "outlinewidth": 0,
              "ticks": ""
             }
            },
            "type": "scattergeo"
           }
          ],
          "scattergl": [
           {
            "marker": {
             "colorbar": {
              "outlinewidth": 0,
              "ticks": ""
             }
            },
            "type": "scattergl"
           }
          ],
          "scattermapbox": [
           {
            "marker": {
             "colorbar": {
              "outlinewidth": 0,
              "ticks": ""
             }
            },
            "type": "scattermapbox"
           }
          ],
          "scatterpolar": [
           {
            "marker": {
             "colorbar": {
              "outlinewidth": 0,
              "ticks": ""
             }
            },
            "type": "scatterpolar"
           }
          ],
          "scatterpolargl": [
           {
            "marker": {
             "colorbar": {
              "outlinewidth": 0,
              "ticks": ""
             }
            },
            "type": "scatterpolargl"
           }
          ],
          "scatterternary": [
           {
            "marker": {
             "colorbar": {
              "outlinewidth": 0,
              "ticks": ""
             }
            },
            "type": "scatterternary"
           }
          ],
          "surface": [
           {
            "colorbar": {
             "outlinewidth": 0,
             "ticks": ""
            },
            "colorscale": [
             [
              0,
              "#0d0887"
             ],
             [
              0.1111111111111111,
              "#46039f"
             ],
             [
              0.2222222222222222,
              "#7201a8"
             ],
             [
              0.3333333333333333,
              "#9c179e"
             ],
             [
              0.4444444444444444,
              "#bd3786"
             ],
             [
              0.5555555555555556,
              "#d8576b"
             ],
             [
              0.6666666666666666,
              "#ed7953"
             ],
             [
              0.7777777777777778,
              "#fb9f3a"
             ],
             [
              0.8888888888888888,
              "#fdca26"
             ],
             [
              1,
              "#f0f921"
             ]
            ],
            "type": "surface"
           }
          ],
          "table": [
           {
            "cells": {
             "fill": {
              "color": "#EBF0F8"
             },
             "line": {
              "color": "white"
             }
            },
            "header": {
             "fill": {
              "color": "#C8D4E3"
             },
             "line": {
              "color": "white"
             }
            },
            "type": "table"
           }
          ]
         },
         "layout": {
          "annotationdefaults": {
           "arrowcolor": "#2a3f5f",
           "arrowhead": 0,
           "arrowwidth": 1
          },
          "autotypenumbers": "strict",
          "coloraxis": {
           "colorbar": {
            "outlinewidth": 0,
            "ticks": ""
           }
          },
          "colorscale": {
           "diverging": [
            [
             0,
             "#8e0152"
            ],
            [
             0.1,
             "#c51b7d"
            ],
            [
             0.2,
             "#de77ae"
            ],
            [
             0.3,
             "#f1b6da"
            ],
            [
             0.4,
             "#fde0ef"
            ],
            [
             0.5,
             "#f7f7f7"
            ],
            [
             0.6,
             "#e6f5d0"
            ],
            [
             0.7,
             "#b8e186"
            ],
            [
             0.8,
             "#7fbc41"
            ],
            [
             0.9,
             "#4d9221"
            ],
            [
             1,
             "#276419"
            ]
           ],
           "sequential": [
            [
             0,
             "#0d0887"
            ],
            [
             0.1111111111111111,
             "#46039f"
            ],
            [
             0.2222222222222222,
             "#7201a8"
            ],
            [
             0.3333333333333333,
             "#9c179e"
            ],
            [
             0.4444444444444444,
             "#bd3786"
            ],
            [
             0.5555555555555556,
             "#d8576b"
            ],
            [
             0.6666666666666666,
             "#ed7953"
            ],
            [
             0.7777777777777778,
             "#fb9f3a"
            ],
            [
             0.8888888888888888,
             "#fdca26"
            ],
            [
             1,
             "#f0f921"
            ]
           ],
           "sequentialminus": [
            [
             0,
             "#0d0887"
            ],
            [
             0.1111111111111111,
             "#46039f"
            ],
            [
             0.2222222222222222,
             "#7201a8"
            ],
            [
             0.3333333333333333,
             "#9c179e"
            ],
            [
             0.4444444444444444,
             "#bd3786"
            ],
            [
             0.5555555555555556,
             "#d8576b"
            ],
            [
             0.6666666666666666,
             "#ed7953"
            ],
            [
             0.7777777777777778,
             "#fb9f3a"
            ],
            [
             0.8888888888888888,
             "#fdca26"
            ],
            [
             1,
             "#f0f921"
            ]
           ]
          },
          "colorway": [
           "#636efa",
           "#EF553B",
           "#00cc96",
           "#ab63fa",
           "#FFA15A",
           "#19d3f3",
           "#FF6692",
           "#B6E880",
           "#FF97FF",
           "#FECB52"
          ],
          "font": {
           "color": "#2a3f5f"
          },
          "geo": {
           "bgcolor": "white",
           "lakecolor": "white",
           "landcolor": "#E5ECF6",
           "showlakes": true,
           "showland": true,
           "subunitcolor": "white"
          },
          "hoverlabel": {
           "align": "left"
          },
          "hovermode": "closest",
          "mapbox": {
           "style": "light"
          },
          "paper_bgcolor": "white",
          "plot_bgcolor": "#E5ECF6",
          "polar": {
           "angularaxis": {
            "gridcolor": "white",
            "linecolor": "white",
            "ticks": ""
           },
           "bgcolor": "#E5ECF6",
           "radialaxis": {
            "gridcolor": "white",
            "linecolor": "white",
            "ticks": ""
           }
          },
          "scene": {
           "xaxis": {
            "backgroundcolor": "#E5ECF6",
            "gridcolor": "white",
            "gridwidth": 2,
            "linecolor": "white",
            "showbackground": true,
            "ticks": "",
            "zerolinecolor": "white"
           },
           "yaxis": {
            "backgroundcolor": "#E5ECF6",
            "gridcolor": "white",
            "gridwidth": 2,
            "linecolor": "white",
            "showbackground": true,
            "ticks": "",
            "zerolinecolor": "white"
           },
           "zaxis": {
            "backgroundcolor": "#E5ECF6",
            "gridcolor": "white",
            "gridwidth": 2,
            "linecolor": "white",
            "showbackground": true,
            "ticks": "",
            "zerolinecolor": "white"
           }
          },
          "shapedefaults": {
           "line": {
            "color": "#2a3f5f"
           }
          },
          "ternary": {
           "aaxis": {
            "gridcolor": "white",
            "linecolor": "white",
            "ticks": ""
           },
           "baxis": {
            "gridcolor": "white",
            "linecolor": "white",
            "ticks": ""
           },
           "bgcolor": "#E5ECF6",
           "caxis": {
            "gridcolor": "white",
            "linecolor": "white",
            "ticks": ""
           }
          },
          "title": {
           "x": 0.05
          },
          "xaxis": {
           "automargin": true,
           "gridcolor": "white",
           "linecolor": "white",
           "ticks": "",
           "title": {
            "standoff": 15
           },
           "zerolinecolor": "white",
           "zerolinewidth": 2
          },
          "yaxis": {
           "automargin": true,
           "gridcolor": "white",
           "linecolor": "white",
           "ticks": "",
           "title": {
            "standoff": 15
           },
           "zerolinecolor": "white",
           "zerolinewidth": 2
          }
         }
        },
        "title": {
         "text": "Norm STD of each column"
        },
        "xaxis": {
         "anchor": "y",
         "domain": [
          0,
          1
         ],
         "title": {
          "text": "Column Name"
         }
        },
        "yaxis": {
         "anchor": "x",
         "domain": [
          0,
          1
         ],
         "title": {
          "text": "Norm STD"
         }
        }
       }
      }
     },
     "metadata": {},
     "output_type": "display_data"
    }
   ],
   "source": [
    "da = DataAnalysis()\n",
    "df = data_exp.load_data('./data/sasol_data_sample.csv', parse_dates=True, index_col=0)\n",
    "da.variance_analysis(df)"
   ]
  },
  {
   "cell_type": "markdown",
   "metadata": {},
   "source": [
    "feature_selection"
   ]
  },
  {
   "cell_type": "code",
   "execution_count": null,
   "metadata": {},
   "outputs": [
    {
     "name": "stderr",
     "output_type": "stream",
     "text": [
      "  0%|          | 0/20 [00:00<?, ?it/s]"
     ]
    },
    {
     "name": "stderr",
     "output_type": "stream",
     "text": [
      "100%|██████████| 20/20 [00:02<00:00,  9.85it/s]\n"
     ]
    },
    {
     "data": {
      "image/png": "[encoded data removed]",
      "text/plain": [
       "<Figure size 1000x1500 with 1 Axes>"
      ]
     },
     "metadata": {},
     "output_type": "display_data"
    },
    {
     "data": {
      "text/plain": [
       "['OXO-5FI635C Augusta',\n",
       " 'OXO-5FIC132 Augusta',\n",
       " 'OXO-5FIC600 Augusta',\n",
       " 'OXO-5FIC602 Augusta',\n",
       " 'OXO-5FIC609B Augusta',\n",
       " 'OXO-5FIC611A Augusta',\n",
       " 'OXO-5FIC612B Augusta',\n",
       " 'OXO-5FIC618A Augusta',\n",
       " 'OXO-5FIC618B Augusta',\n",
       " 'OXO-5FIC618C Augusta',\n",
       " 'OXO-5FIC622B Augusta',\n",
       " 'OXO-5FIC622C Augusta',\n",
       " 'OXO-5FIC636A Augusta',\n",
       " 'OXO-5FIC636C Augusta',\n",
       " 'OXO-5FQI691B Augusta',\n",
       " 'OXO-5LI633B Augusta',\n",
       " 'OXO-5LI651F Augusta',\n",
       " 'OXO-5LI653E Augusta',\n",
       " 'OXO-5LI653F Augusta',\n",
       " 'OXO-5LI654E Augusta',\n",
       " 'OXO-5LI656F Augusta',\n",
       " 'OXO-5LI657E Augusta',\n",
       " 'OXO-5LI657F Augusta',\n",
       " 'OXO-5RIC606_Y Augusta',\n",
       " 'OXO-5TIC603 Augusta',\n",
       " 'OXO-_5FI660A Augusta',\n",
       " 'OXO-_5FI662A Augusta']"
      ]
     },
     "execution_count": 3,
     "metadata": {},
     "output_type": "execute_result"
    }
   ],
   "source": [
    "data_exp = DataExploration()\n",
    "df = data_exp.load_data('./data/sasol_data_sample.csv', parse_dates=True, index_col=0)\n",
    "fs = FeatureSelection(df, cfg.target_var.sasol)\n",
    "selected_tags, selected_df = fs.dummy_feature_importance()\n",
    "selected_tags"
   ]
  },
  {
   "cell_type": "code",
   "execution_count": null,
   "metadata": {},
   "outputs": [
    {
     "name": "stdout",
     "output_type": "stream",
     "text": [
      "Warning there are missing values in your data !\n"
     ]
    },
    {
     "data": {
      "application/vnd.jupyter.widget-view+json": {
       "model_id": "4a9f9ed3f9794c5296c966e869e11f4d",
       "version_major": 2,
       "version_minor": 0
      },
      "text/plain": [
       "  0%|          | 0/100 [00:00<?, ?it/s]"
      ]
     },
     "metadata": {},
     "output_type": "display_data"
    },
    {
     "name": "stdout",
     "output_type": "stream",
     "text": [
      "12 attributes confirmed important: ['OXO-5FIC636C Augusta', 'OXO-5FIC602 Augusta', 'OXO-5LI651F Augusta', 'OXO-5TIC603 Augusta', 'OXO-5LI657E Augusta', 'OXO-5FIC600 Augusta', 'OXO-5LI656F Augusta', 'OXO-5FIC618B Augusta', 'OXO-5LI633B Augusta', 'OXO-5FQI691B Augusta', 'OXO-5FIC612B Augusta', 'OXO-5LI654E Augusta']\n",
      "42 attributes confirmed unimportant: ['OXO-5LI658F Augusta', 'OXO-5LI658E Augusta', 'OXO-5FIC622C Augusta', 'OXO-5FIC636A Augusta', 'OXO-5FIC611B Augusta', 'OXO-5FIC609B Augusta', 'OXO-5FIC611A Augusta', 'OXO-5TIC659 Augusta', 'OXO-5FIC601 Augusta', 'OXO-5FIC606A Augusta', 'OXO-5LI650F Augusta', 'OXO-5LI655F Augusta', 'OXO-5LI651E Augusta', 'OXO-_5FI662A Augusta', 'OXO-_5FI660A Augusta', 'OXO-5RIC606_Y Augusta', 'OXO-5FI661A Augusta', 'OXO-5LI653E Augusta', 'OXO-5TIC604 Augusta', 'OXO-5FIC612A Augusta', 'OXO-5PIC605A Augusta', 'OXO-5TIC606 Augusta', 'OXO-_5FI659A Augusta', 'OXO-_5FI658A Augusta', 'OXO-5LI654F Augusta', 'OXO-5FIC622B Augusta', 'OXO-5LI652E Augusta', 'OXO-5FIC607 Augusta', 'OXO-5TIC607 Augusta', 'OXO-5FIC618C Augusta', 'OXO-5FIC603 Augusta', 'OXO-5FIC606C Augusta', 'OXO-5TIC601 Augusta', 'OXO-5FIC618D Augusta', 'OXO-5FIC636B Augusta', 'OXO-5LI652F Augusta', 'OXO-5TIC605 Augusta', 'OXO-5FIC622A Augusta', 'OXO-5TIC002 Augusta', 'OXO-5TIC602 Augusta', 'OXO-5LI657F Augusta', 'OXO-5FIC609A Augusta']\n",
      "4 tentative attributes remains: ['OXO-5FIC618A Augusta', 'OXO-5FIC132 Augusta', 'OXO-5FI635C Augusta', 'OXO-5LI653F Augusta']\n",
      "Selected features are: ['OXO-5FIC600 Augusta', 'OXO-5FIC602 Augusta', 'OXO-5FIC612B Augusta', 'OXO-5FIC618B Augusta', 'OXO-5FIC636C Augusta', 'OXO-5FQI691B Augusta', 'OXO-5LI633B Augusta', 'OXO-5LI651F Augusta', 'OXO-5LI654E Augusta', 'OXO-5LI656F Augusta', 'OXO-5LI657E Augusta', 'OXO-5TIC603 Augusta']\n"
     ]
    },
    {
     "data": {
      "text/plain": [
       "['OXO-5FIC600 Augusta',\n",
       " 'OXO-5FIC602 Augusta',\n",
       " 'OXO-5FIC612B Augusta',\n",
       " 'OXO-5FIC618B Augusta',\n",
       " 'OXO-5FIC636C Augusta',\n",
       " 'OXO-5FQI691B Augusta',\n",
       " 'OXO-5LI633B Augusta',\n",
       " 'OXO-5LI651F Augusta',\n",
       " 'OXO-5LI654E Augusta',\n",
       " 'OXO-5LI656F Augusta',\n",
       " 'OXO-5LI657E Augusta',\n",
       " 'OXO-5TIC603 Augusta']"
      ]
     },
     "execution_count": 2,
     "metadata": {},
     "output_type": "execute_result"
    }
   ],
   "source": [
    "data_exp = DataExploration()\n",
    "df = data_exp.load_data('./data/sasol_data_sample.csv', parse_dates=True, index_col=0)\n",
    "fs = FeatureSelection(df, cfg.target_var.sasol)\n",
    "selected_tags, selected_df = fs.borutashap_feature_selection()\n",
    "selected_tags"
   ]
  }
 ],
 "metadata": {
  "kernelspec": {
   "display_name": "SQLTool",
   "language": "python",
   "name": "python3"
  },
  "language_info": {
   "codemirror_mode": {
    "name": "ipython",
    "version": 3
   },
   "file_extension": ".py",
   "mimetype": "text/x-python",
   "name": "python",
   "nbconvert_exporter": "python",
   "pygments_lexer": "ipython3",
   "version": "3.9.17"
  },
  "orig_nbformat": 4
 },
 "nbformat": 4,
 "nbformat_minor": 2
}
