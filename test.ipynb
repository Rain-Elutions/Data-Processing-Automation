{
 "cells": [
  {
   "cell_type": "code",
   "execution_count": 1,
   "metadata": {},
   "outputs": [],
   "source": [
    "import pandas as pd\n",
    "from Data_Exploration.data_exploration_main import DataExploration\n",
    "from Data_Cleansing.data_cleansing_main import DataCleansing\n",
    "from Data_Preprocessing.data_preprocessing_main import DataPreprocessing, TargetEncoding, BinaryEncoding, OrdinalEncoding, MinMaxScaling, StandardScaling"
   ]
  },
  {
   "cell_type": "code",
   "execution_count": 3,
   "metadata": {},
   "outputs": [],
   "source": [
    "# data_exp = DataExploration()\n",
    "\n",
    "# df = data_exp.load_data('./data/raw_data/Savola_RO_BLEACHING_raw_df.csv', index_col=0, parse_dates=True)\n",
    "# df.head()"
   ]
  },
  {
   "cell_type": "code",
   "execution_count": 8,
   "metadata": {},
   "outputs": [],
   "source": [
    "# df_sample = df.head(1000)\n",
    "# df_sample.to_csv('./data/Savola_RO_BLEACHING_sample.csv')"
   ]
  },
  {
   "cell_type": "code",
   "execution_count": null,
   "metadata": {},
   "outputs": [],
   "source": [
    "# data = pd.read_pickle('./data/raw_data/coyote_data_0731.pkl')\n",
    "# data.head()"
   ]
  },
  {
   "cell_type": "code",
   "execution_count": 32,
   "metadata": {},
   "outputs": [],
   "source": [
    "# data_sample = data.head(1000)\n",
    "# # move TotalCostUSD to the first column\n",
    "# cols = list(data_sample.columns)\n",
    "# cols.insert(0, cols.pop(cols.index('TotalCostUSD')))\n",
    "# data_sample = data_sample.loc[:, cols]\n",
    "# data_sample.to_excel('./data/coyote_0731_1000.xlsx', index=False)"
   ]
  },
  {
   "cell_type": "markdown",
   "metadata": {},
   "source": [
    "### Test DataExploration Module"
   ]
  },
  {
   "cell_type": "code",
   "execution_count": 2,
   "metadata": {},
   "outputs": [],
   "source": [
    "data_exp = DataExploration()"
   ]
  },
  {
   "cell_type": "markdown",
   "metadata": {},
   "source": [
    "load_data() function"
   ]
  },
  {
   "cell_type": "code",
   "execution_count": 2,
   "metadata": {},
   "outputs": [],
   "source": [
    "data_exp = DataExploration()\n",
    "\n",
    "# df = data_exp.load_data('./data/lng_data_sample.csv', parse_dates=True, index_col=0)\n",
    "# df = data_exp.load_data('./data/sasol_data_sample.csv', parse_dates=True, index_col=0)\n",
    "# df = data_exp.load_data('./data/coyote_data_sample_100.xlsx', parse_dates=False, index_col=0)\n",
    "# df = data_exp.load_data('./data/coyote_data_sample_1000.pickle', parse_dates=False, index_col=0)\n",
    "# df = data_exp.load_data('./data/coyote_0731_1000.xlsx', parse_dates=False, index_col=False)\n",
    "df = data_exp.load_data('./data/Essar_RE_Boilers_B21_sample.csv', parse_dates=True, index_col=0)\n",
    "# df = data_exp.load_data('./data/Savola_RO_BLEACHING_sample.csv', parse_dates=True, index_col=0)"
   ]
  },
  {
   "cell_type": "code",
   "execution_count": 39,
   "metadata": {},
   "outputs": [
    {
     "data": {
      "text/html": [
       "<div>\n",
       "<style scoped>\n",
       "    .dataframe tbody tr th:only-of-type {\n",
       "        vertical-align: middle;\n",
       "    }\n",
       "\n",
       "    .dataframe tbody tr th {\n",
       "        vertical-align: top;\n",
       "    }\n",
       "\n",
       "    .dataframe thead th {\n",
       "        text-align: right;\n",
       "    }\n",
       "</style>\n",
       "<table border=\"1\" class=\"dataframe\">\n",
       "  <thead>\n",
       "    <tr style=\"text-align: right;\">\n",
       "      <th></th>\n",
       "      <th>TotalCostUSD</th>\n",
       "      <th>Mode</th>\n",
       "      <th>ProgressType</th>\n",
       "      <th>Type</th>\n",
       "      <th>StateType</th>\n",
       "      <th>LoadingPosition</th>\n",
       "      <th>Plan</th>\n",
       "      <th>ShipmentType</th>\n",
       "      <th>EquipmentType</th>\n",
       "      <th>EquipmentLength</th>\n",
       "      <th>...</th>\n",
       "      <th>TRUCKD11</th>\n",
       "      <th>DJTA</th>\n",
       "      <th>DTB3</th>\n",
       "      <th>GASREGW</th>\n",
       "      <th>IPG2122N</th>\n",
       "      <th>IPG3361T3S</th>\n",
       "      <th>GDP</th>\n",
       "      <th>PPIACO</th>\n",
       "      <th>BUSINV</th>\n",
       "      <th>PCU48414841</th>\n",
       "    </tr>\n",
       "  </thead>\n",
       "  <tbody>\n",
       "    <tr>\n",
       "      <th>0</th>\n",
       "      <td>423.82</td>\n",
       "      <td>2</td>\n",
       "      <td>8</td>\n",
       "      <td>1</td>\n",
       "      <td>1</td>\n",
       "      <td>0</td>\n",
       "      <td>0</td>\n",
       "      <td>1</td>\n",
       "      <td>V</td>\n",
       "      <td>53</td>\n",
       "      <td>...</td>\n",
       "      <td>115.9</td>\n",
       "      <td>13738.04</td>\n",
       "      <td>4.2</td>\n",
       "      <td>3.239</td>\n",
       "      <td>91.7098</td>\n",
       "      <td>102.9025</td>\n",
       "      <td>26137.992</td>\n",
       "      <td>257.897</td>\n",
       "      <td>2545624</td>\n",
       "      <td>207.137</td>\n",
       "    </tr>\n",
       "    <tr>\n",
       "      <th>1</th>\n",
       "      <td>1300.00</td>\n",
       "      <td>1</td>\n",
       "      <td>8</td>\n",
       "      <td>1</td>\n",
       "      <td>1</td>\n",
       "      <td>2</td>\n",
       "      <td>0</td>\n",
       "      <td>1</td>\n",
       "      <td>V</td>\n",
       "      <td>53</td>\n",
       "      <td>...</td>\n",
       "      <td>115.9</td>\n",
       "      <td>13738.04</td>\n",
       "      <td>4.2</td>\n",
       "      <td>3.239</td>\n",
       "      <td>91.7098</td>\n",
       "      <td>102.9025</td>\n",
       "      <td>26137.992</td>\n",
       "      <td>257.897</td>\n",
       "      <td>2545624</td>\n",
       "      <td>207.137</td>\n",
       "    </tr>\n",
       "    <tr>\n",
       "      <th>2</th>\n",
       "      <td>300.00</td>\n",
       "      <td>1</td>\n",
       "      <td>8</td>\n",
       "      <td>2</td>\n",
       "      <td>1</td>\n",
       "      <td>2</td>\n",
       "      <td>0</td>\n",
       "      <td>5</td>\n",
       "      <td>F</td>\n",
       "      <td>48</td>\n",
       "      <td>...</td>\n",
       "      <td>115.9</td>\n",
       "      <td>13738.04</td>\n",
       "      <td>4.2</td>\n",
       "      <td>3.239</td>\n",
       "      <td>91.7098</td>\n",
       "      <td>102.9025</td>\n",
       "      <td>26137.992</td>\n",
       "      <td>257.897</td>\n",
       "      <td>2545624</td>\n",
       "      <td>207.137</td>\n",
       "    </tr>\n",
       "    <tr>\n",
       "      <th>3</th>\n",
       "      <td>873.00</td>\n",
       "      <td>1</td>\n",
       "      <td>8</td>\n",
       "      <td>1</td>\n",
       "      <td>1</td>\n",
       "      <td>2</td>\n",
       "      <td>0</td>\n",
       "      <td>1</td>\n",
       "      <td>V</td>\n",
       "      <td>48</td>\n",
       "      <td>...</td>\n",
       "      <td>115.9</td>\n",
       "      <td>13738.04</td>\n",
       "      <td>4.2</td>\n",
       "      <td>3.239</td>\n",
       "      <td>91.7098</td>\n",
       "      <td>102.9025</td>\n",
       "      <td>26137.992</td>\n",
       "      <td>257.897</td>\n",
       "      <td>2545624</td>\n",
       "      <td>207.137</td>\n",
       "    </tr>\n",
       "    <tr>\n",
       "      <th>4</th>\n",
       "      <td>267.48</td>\n",
       "      <td>2</td>\n",
       "      <td>8</td>\n",
       "      <td>1</td>\n",
       "      <td>1</td>\n",
       "      <td>0</td>\n",
       "      <td>0</td>\n",
       "      <td>1</td>\n",
       "      <td>V</td>\n",
       "      <td>53</td>\n",
       "      <td>...</td>\n",
       "      <td>115.9</td>\n",
       "      <td>13738.04</td>\n",
       "      <td>4.2</td>\n",
       "      <td>3.239</td>\n",
       "      <td>91.7098</td>\n",
       "      <td>102.9025</td>\n",
       "      <td>26137.992</td>\n",
       "      <td>257.897</td>\n",
       "      <td>2545624</td>\n",
       "      <td>207.137</td>\n",
       "    </tr>\n",
       "  </tbody>\n",
       "</table>\n",
       "<p>5 rows × 99 columns</p>\n",
       "</div>"
      ],
      "text/plain": [
       "   TotalCostUSD  Mode  ProgressType  Type  StateType  LoadingPosition  Plan   \n",
       "0        423.82     2             8     1          1                0     0  \\\n",
       "1       1300.00     1             8     1          1                2     0   \n",
       "2        300.00     1             8     2          1                2     0   \n",
       "3        873.00     1             8     1          1                2     0   \n",
       "4        267.48     2             8     1          1                0     0   \n",
       "\n",
       "   ShipmentType EquipmentType  EquipmentLength  ...  TRUCKD11      DJTA  DTB3   \n",
       "0             1             V               53  ...     115.9  13738.04   4.2  \\\n",
       "1             1             V               53  ...     115.9  13738.04   4.2   \n",
       "2             5             F               48  ...     115.9  13738.04   4.2   \n",
       "3             1             V               48  ...     115.9  13738.04   4.2   \n",
       "4             1             V               53  ...     115.9  13738.04   4.2   \n",
       "\n",
       "   GASREGW  IPG2122N  IPG3361T3S        GDP   PPIACO   BUSINV  PCU48414841  \n",
       "0    3.239   91.7098    102.9025  26137.992  257.897  2545624      207.137  \n",
       "1    3.239   91.7098    102.9025  26137.992  257.897  2545624      207.137  \n",
       "2    3.239   91.7098    102.9025  26137.992  257.897  2545624      207.137  \n",
       "3    3.239   91.7098    102.9025  26137.992  257.897  2545624      207.137  \n",
       "4    3.239   91.7098    102.9025  26137.992  257.897  2545624      207.137  \n",
       "\n",
       "[5 rows x 99 columns]"
      ]
     },
     "execution_count": 39,
     "metadata": {},
     "output_type": "execute_result"
    }
   ],
   "source": [
    "df.head()"
   ]
  },
  {
   "cell_type": "code",
   "execution_count": 7,
   "metadata": {},
   "outputs": [],
   "source": [
    "# df.iloc[0:10, 0] = None"
   ]
  },
  {
   "cell_type": "markdown",
   "metadata": {},
   "source": [
    "get_data_size() function"
   ]
  },
  {
   "cell_type": "code",
   "execution_count": 13,
   "metadata": {},
   "outputs": [
    {
     "name": "stdout",
     "output_type": "stream",
     "text": [
      "Data size: (100, 59)\n"
     ]
    }
   ],
   "source": [
    "data_exp.get_data_size()"
   ]
  },
  {
   "cell_type": "markdown",
   "metadata": {},
   "source": [
    "get_data_type() &  summarize_data_type() function"
   ]
  },
  {
   "cell_type": "code",
   "execution_count": 9,
   "metadata": {},
   "outputs": [
    {
     "name": "stdout",
     "output_type": "stream",
     "text": [
      "Invalid column name\n",
      "Error: 'str' object has no attribute 'dtypes'\n"
     ]
    }
   ],
   "source": [
    "data_exp.get_data_type(df.columns[0])"
   ]
  },
  {
   "cell_type": "code",
   "execution_count": 10,
   "metadata": {},
   "outputs": [
    {
     "data": {
      "text/plain": [
       "float64    59\n",
       "Name: count, dtype: int64"
      ]
     },
     "execution_count": 10,
     "metadata": {},
     "output_type": "execute_result"
    }
   ],
   "source": [
    "data_exp.summarize_data_type()"
   ]
  },
  {
   "cell_type": "markdown",
   "metadata": {},
   "source": [
    "summarize_missing_data() function"
   ]
  },
  {
   "cell_type": "code",
   "execution_count": 15,
   "metadata": {},
   "outputs": [
    {
     "name": "stdout",
     "output_type": "stream",
     "text": [
      "Missing data summary:\n",
      "CommodityCode     892\n",
      "MXCrossBorder    1000\n",
      "dtype: int64\n"
     ]
    }
   ],
   "source": [
    "data_exp.summarize_missing_data()"
   ]
  },
  {
   "cell_type": "markdown",
   "metadata": {},
   "source": [
    "visualize_missing_data() function"
   ]
  },
  {
   "cell_type": "code",
   "execution_count": 12,
   "metadata": {},
   "outputs": [],
   "source": [
    "# data_exp.visualize_missing_data()"
   ]
  },
  {
   "cell_type": "code",
   "execution_count": 13,
   "metadata": {},
   "outputs": [
    {
     "data": {
      "application/vnd.plotly.v1+json": {
       "config": {
        "plotlyServerURL": "https://plot.ly"
       },
       "data": [
        {
         "type": "bar",
         "x": [
          "OXO-5FI635C Augusta",
          "OXO-5FI661A Augusta",
          "OXO-5FI696 Augusta",
          "OXO-5FIC132 Augusta",
          "OXO-5FIC600 Augusta",
          "OXO-5FIC601 Augusta",
          "OXO-5FIC602 Augusta",
          "OXO-5FIC603 Augusta",
          "OXO-5FIC606A Augusta",
          "OXO-5FIC606C Augusta",
          "OXO-5FIC607 Augusta",
          "OXO-5FIC609A Augusta",
          "OXO-5FIC609B Augusta",
          "OXO-5FIC611A Augusta",
          "OXO-5FIC611B Augusta",
          "OXO-5FIC612A Augusta",
          "OXO-5FIC612B Augusta",
          "OXO-5FIC618A Augusta",
          "OXO-5FIC618B Augusta",
          "OXO-5FIC618C Augusta",
          "OXO-5FIC618D Augusta",
          "OXO-5FIC622A Augusta",
          "OXO-5FIC622B Augusta",
          "OXO-5FIC622C Augusta",
          "OXO-5FIC636A Augusta",
          "OXO-5FIC636B Augusta",
          "OXO-5FIC636C Augusta",
          "OXO-5FQI691B Augusta",
          "OXO-5LI633B Augusta",
          "OXO-5LI650F Augusta",
          "OXO-5LI651E Augusta",
          "OXO-5LI651F Augusta",
          "OXO-5LI652E Augusta",
          "OXO-5LI652F Augusta",
          "OXO-5LI653E Augusta",
          "OXO-5LI653F Augusta",
          "OXO-5LI654E Augusta",
          "OXO-5LI654F Augusta",
          "OXO-5LI655F Augusta",
          "OXO-5LI656F Augusta"
         ],
         "y": [
          0,
          0,
          0,
          0,
          0,
          0,
          0,
          0,
          100,
          0,
          0,
          0,
          0,
          0,
          100,
          0,
          0,
          0,
          0,
          0,
          0,
          0,
          0,
          0,
          0,
          0,
          0,
          0,
          0,
          0,
          0,
          0,
          0,
          0,
          0,
          0,
          0,
          100,
          0,
          0
         ]
        }
       ],
       "layout": {
        "template": {
         "data": {
          "bar": [
           {
            "error_x": {
             "color": "#2a3f5f"
            },
            "error_y": {
             "color": "#2a3f5f"
            },
            "marker": {
             "line": {
              "color": "#E5ECF6",
              "width": 0.5
             },
             "pattern": {
              "fillmode": "overlay",
              "size": 10,
              "solidity": 0.2
             }
            },
            "type": "bar"
           }
          ],
          "barpolar": [
           {
            "marker": {
             "line": {
              "color": "#E5ECF6",
              "width": 0.5
             },
             "pattern": {
              "fillmode": "overlay",
              "size": 10,
              "solidity": 0.2
             }
            },
            "type": "barpolar"
           }
          ],
          "carpet": [
           {
            "aaxis": {
             "endlinecolor": "#2a3f5f",
             "gridcolor": "white",
             "linecolor": "white",
             "minorgridcolor": "white",
             "startlinecolor": "#2a3f5f"
            },
            "baxis": {
             "endlinecolor": "#2a3f5f",
             "gridcolor": "white",
             "linecolor": "white",
             "minorgridcolor": "white",
             "startlinecolor": "#2a3f5f"
            },
            "type": "carpet"
           }
          ],
          "choropleth": [
           {
            "colorbar": {
             "outlinewidth": 0,
             "ticks": ""
            },
            "type": "choropleth"
           }
          ],
          "contour": [
           {
            "colorbar": {
             "outlinewidth": 0,
             "ticks": ""
            },
            "colorscale": [
             [
              0,
              "#0d0887"
             ],
             [
              0.1111111111111111,
              "#46039f"
             ],
             [
              0.2222222222222222,
              "#7201a8"
             ],
             [
              0.3333333333333333,
              "#9c179e"
             ],
             [
              0.4444444444444444,
              "#bd3786"
             ],
             [
              0.5555555555555556,
              "#d8576b"
             ],
             [
              0.6666666666666666,
              "#ed7953"
             ],
             [
              0.7777777777777778,
              "#fb9f3a"
             ],
             [
              0.8888888888888888,
              "#fdca26"
             ],
             [
              1,
              "#f0f921"
             ]
            ],
            "type": "contour"
           }
          ],
          "contourcarpet": [
           {
            "colorbar": {
             "outlinewidth": 0,
             "ticks": ""
            },
            "type": "contourcarpet"
           }
          ],
          "heatmap": [
           {
            "colorbar": {
             "outlinewidth": 0,
             "ticks": ""
            },
            "colorscale": [
             [
              0,
              "#0d0887"
             ],
             [
              0.1111111111111111,
              "#46039f"
             ],
             [
              0.2222222222222222,
              "#7201a8"
             ],
             [
              0.3333333333333333,
              "#9c179e"
             ],
             [
              0.4444444444444444,
              "#bd3786"
             ],
             [
              0.5555555555555556,
              "#d8576b"
             ],
             [
              0.6666666666666666,
              "#ed7953"
             ],
             [
              0.7777777777777778,
              "#fb9f3a"
             ],
             [
              0.8888888888888888,
              "#fdca26"
             ],
             [
              1,
              "#f0f921"
             ]
            ],
            "type": "heatmap"
           }
          ],
          "heatmapgl": [
           {
            "colorbar": {
             "outlinewidth": 0,
             "ticks": ""
            },
            "colorscale": [
             [
              0,
              "#0d0887"
             ],
             [
              0.1111111111111111,
              "#46039f"
             ],
             [
              0.2222222222222222,
              "#7201a8"
             ],
             [
              0.3333333333333333,
              "#9c179e"
             ],
             [
              0.4444444444444444,
              "#bd3786"
             ],
             [
              0.5555555555555556,
              "#d8576b"
             ],
             [
              0.6666666666666666,
              "#ed7953"
             ],
             [
              0.7777777777777778,
              "#fb9f3a"
             ],
             [
              0.8888888888888888,
              "#fdca26"
             ],
             [
              1,
              "#f0f921"
             ]
            ],
            "type": "heatmapgl"
           }
          ],
          "histogram": [
           {
            "marker": {
             "pattern": {
              "fillmode": "overlay",
              "size": 10,
              "solidity": 0.2
             }
            },
            "type": "histogram"
           }
          ],
          "histogram2d": [
           {
            "colorbar": {
             "outlinewidth": 0,
             "ticks": ""
            },
            "colorscale": [
             [
              0,
              "#0d0887"
             ],
             [
              0.1111111111111111,
              "#46039f"
             ],
             [
              0.2222222222222222,
              "#7201a8"
             ],
             [
              0.3333333333333333,
              "#9c179e"
             ],
             [
              0.4444444444444444,
              "#bd3786"
             ],
             [
              0.5555555555555556,
              "#d8576b"
             ],
             [
              0.6666666666666666,
              "#ed7953"
             ],
             [
              0.7777777777777778,
              "#fb9f3a"
             ],
             [
              0.8888888888888888,
              "#fdca26"
             ],
             [
              1,
              "#f0f921"
             ]
            ],
            "type": "histogram2d"
           }
          ],
          "histogram2dcontour": [
           {
            "colorbar": {
             "outlinewidth": 0,
             "ticks": ""
            },
            "colorscale": [
             [
              0,
              "#0d0887"
             ],
             [
              0.1111111111111111,
              "#46039f"
             ],
             [
              0.2222222222222222,
              "#7201a8"
             ],
             [
              0.3333333333333333,
              "#9c179e"
             ],
             [
              0.4444444444444444,
              "#bd3786"
             ],
             [
              0.5555555555555556,
              "#d8576b"
             ],
             [
              0.6666666666666666,
              "#ed7953"
             ],
             [
              0.7777777777777778,
              "#fb9f3a"
             ],
             [
              0.8888888888888888,
              "#fdca26"
             ],
             [
              1,
              "#f0f921"
             ]
            ],
            "type": "histogram2dcontour"
           }
          ],
          "mesh3d": [
           {
            "colorbar": {
             "outlinewidth": 0,
             "ticks": ""
            },
            "type": "mesh3d"
           }
          ],
          "parcoords": [
           {
            "line": {
             "colorbar": {
              "outlinewidth": 0,
              "ticks": ""
             }
            },
            "type": "parcoords"
           }
          ],
          "pie": [
           {
            "automargin": true,
            "type": "pie"
           }
          ],
          "scatter": [
           {
            "fillpattern": {
             "fillmode": "overlay",
             "size": 10,
             "solidity": 0.2
            },
            "type": "scatter"
           }
          ],
          "scatter3d": [
           {
            "line": {
             "colorbar": {
              "outlinewidth": 0,
              "ticks": ""
             }
            },
            "marker": {
             "colorbar": {
              "outlinewidth": 0,
              "ticks": ""
             }
            },
            "type": "scatter3d"
           }
          ],
          "scattercarpet": [
           {
            "marker": {
             "colorbar": {
              "outlinewidth": 0,
              "ticks": ""
             }
            },
            "type": "scattercarpet"
           }
          ],
          "scattergeo": [
           {
            "marker": {
             "colorbar": {
              "outlinewidth": 0,
              "ticks": ""
             }
            },
            "type": "scattergeo"
           }
          ],
          "scattergl": [
           {
            "marker": {
             "colorbar": {
              "outlinewidth": 0,
              "ticks": ""
             }
            },
            "type": "scattergl"
           }
          ],
          "scattermapbox": [
           {
            "marker": {
             "colorbar": {
              "outlinewidth": 0,
              "ticks": ""
             }
            },
            "type": "scattermapbox"
           }
          ],
          "scatterpolar": [
           {
            "marker": {
             "colorbar": {
              "outlinewidth": 0,
              "ticks": ""
             }
            },
            "type": "scatterpolar"
           }
          ],
          "scatterpolargl": [
           {
            "marker": {
             "colorbar": {
              "outlinewidth": 0,
              "ticks": ""
             }
            },
            "type": "scatterpolargl"
           }
          ],
          "scatterternary": [
           {
            "marker": {
             "colorbar": {
              "outlinewidth": 0,
              "ticks": ""
             }
            },
            "type": "scatterternary"
           }
          ],
          "surface": [
           {
            "colorbar": {
             "outlinewidth": 0,
             "ticks": ""
            },
            "colorscale": [
             [
              0,
              "#0d0887"
             ],
             [
              0.1111111111111111,
              "#46039f"
             ],
             [
              0.2222222222222222,
              "#7201a8"
             ],
             [
              0.3333333333333333,
              "#9c179e"
             ],
             [
              0.4444444444444444,
              "#bd3786"
             ],
             [
              0.5555555555555556,
              "#d8576b"
             ],
             [
              0.6666666666666666,
              "#ed7953"
             ],
             [
              0.7777777777777778,
              "#fb9f3a"
             ],
             [
              0.8888888888888888,
              "#fdca26"
             ],
             [
              1,
              "#f0f921"
             ]
            ],
            "type": "surface"
           }
          ],
          "table": [
           {
            "cells": {
             "fill": {
              "color": "#EBF0F8"
             },
             "line": {
              "color": "white"
             }
            },
            "header": {
             "fill": {
              "color": "#C8D4E3"
             },
             "line": {
              "color": "white"
             }
            },
            "type": "table"
           }
          ]
         },
         "layout": {
          "annotationdefaults": {
           "arrowcolor": "#2a3f5f",
           "arrowhead": 0,
           "arrowwidth": 1
          },
          "autotypenumbers": "strict",
          "coloraxis": {
           "colorbar": {
            "outlinewidth": 0,
            "ticks": ""
           }
          },
          "colorscale": {
           "diverging": [
            [
             0,
             "#8e0152"
            ],
            [
             0.1,
             "#c51b7d"
            ],
            [
             0.2,
             "#de77ae"
            ],
            [
             0.3,
             "#f1b6da"
            ],
            [
             0.4,
             "#fde0ef"
            ],
            [
             0.5,
             "#f7f7f7"
            ],
            [
             0.6,
             "#e6f5d0"
            ],
            [
             0.7,
             "#b8e186"
            ],
            [
             0.8,
             "#7fbc41"
            ],
            [
             0.9,
             "#4d9221"
            ],
            [
             1,
             "#276419"
            ]
           ],
           "sequential": [
            [
             0,
             "#0d0887"
            ],
            [
             0.1111111111111111,
             "#46039f"
            ],
            [
             0.2222222222222222,
             "#7201a8"
            ],
            [
             0.3333333333333333,
             "#9c179e"
            ],
            [
             0.4444444444444444,
             "#bd3786"
            ],
            [
             0.5555555555555556,
             "#d8576b"
            ],
            [
             0.6666666666666666,
             "#ed7953"
            ],
            [
             0.7777777777777778,
             "#fb9f3a"
            ],
            [
             0.8888888888888888,
             "#fdca26"
            ],
            [
             1,
             "#f0f921"
            ]
           ],
           "sequentialminus": [
            [
             0,
             "#0d0887"
            ],
            [
             0.1111111111111111,
             "#46039f"
            ],
            [
             0.2222222222222222,
             "#7201a8"
            ],
            [
             0.3333333333333333,
             "#9c179e"
            ],
            [
             0.4444444444444444,
             "#bd3786"
            ],
            [
             0.5555555555555556,
             "#d8576b"
            ],
            [
             0.6666666666666666,
             "#ed7953"
            ],
            [
             0.7777777777777778,
             "#fb9f3a"
            ],
            [
             0.8888888888888888,
             "#fdca26"
            ],
            [
             1,
             "#f0f921"
            ]
           ]
          },
          "colorway": [
           "#636efa",
           "#EF553B",
           "#00cc96",
           "#ab63fa",
           "#FFA15A",
           "#19d3f3",
           "#FF6692",
           "#B6E880",
           "#FF97FF",
           "#FECB52"
          ],
          "font": {
           "color": "#2a3f5f"
          },
          "geo": {
           "bgcolor": "white",
           "lakecolor": "white",
           "landcolor": "#E5ECF6",
           "showlakes": true,
           "showland": true,
           "subunitcolor": "white"
          },
          "hoverlabel": {
           "align": "left"
          },
          "hovermode": "closest",
          "mapbox": {
           "style": "light"
          },
          "paper_bgcolor": "white",
          "plot_bgcolor": "#E5ECF6",
          "polar": {
           "angularaxis": {
            "gridcolor": "white",
            "linecolor": "white",
            "ticks": ""
           },
           "bgcolor": "#E5ECF6",
           "radialaxis": {
            "gridcolor": "white",
            "linecolor": "white",
            "ticks": ""
           }
          },
          "scene": {
           "xaxis": {
            "backgroundcolor": "#E5ECF6",
            "gridcolor": "white",
            "gridwidth": 2,
            "linecolor": "white",
            "showbackground": true,
            "ticks": "",
            "zerolinecolor": "white"
           },
           "yaxis": {
            "backgroundcolor": "#E5ECF6",
            "gridcolor": "white",
            "gridwidth": 2,
            "linecolor": "white",
            "showbackground": true,
            "ticks": "",
            "zerolinecolor": "white"
           },
           "zaxis": {
            "backgroundcolor": "#E5ECF6",
            "gridcolor": "white",
            "gridwidth": 2,
            "linecolor": "white",
            "showbackground": true,
            "ticks": "",
            "zerolinecolor": "white"
           }
          },
          "shapedefaults": {
           "line": {
            "color": "#2a3f5f"
           }
          },
          "ternary": {
           "aaxis": {
            "gridcolor": "white",
            "linecolor": "white",
            "ticks": ""
           },
           "baxis": {
            "gridcolor": "white",
            "linecolor": "white",
            "ticks": ""
           },
           "bgcolor": "#E5ECF6",
           "caxis": {
            "gridcolor": "white",
            "linecolor": "white",
            "ticks": ""
           }
          },
          "title": {
           "x": 0.05
          },
          "xaxis": {
           "automargin": true,
           "gridcolor": "white",
           "linecolor": "white",
           "ticks": "",
           "title": {
            "standoff": 15
           },
           "zerolinecolor": "white",
           "zerolinewidth": 2
          },
          "yaxis": {
           "automargin": true,
           "gridcolor": "white",
           "linecolor": "white",
           "ticks": "",
           "title": {
            "standoff": 15
           },
           "zerolinecolor": "white",
           "zerolinewidth": 2
          }
         }
        },
        "title": {
         "text": "Missing Data"
        },
        "xaxis": {
         "title": {
          "text": "Columns"
         }
        },
        "yaxis": {
         "title": {
          "text": "Missing Count"
         }
        }
       }
      }
     },
     "metadata": {},
     "output_type": "display_data"
    },
    {
     "data": {
      "application/vnd.plotly.v1+json": {
       "config": {
        "plotlyServerURL": "https://plot.ly"
       },
       "data": [
        {
         "type": "bar",
         "x": [
          "OXO-5LI657E Augusta",
          "OXO-5LI657F Augusta",
          "OXO-5LI658E Augusta",
          "OXO-5LI658F Augusta",
          "OXO-5PIC605A Augusta",
          "OXO-5RIC606_Y Augusta",
          "OXO-5TIC002 Augusta",
          "OXO-5TIC601 Augusta",
          "OXO-5TIC602 Augusta",
          "OXO-5TIC603 Augusta",
          "OXO-5TIC604 Augusta",
          "OXO-5TIC605 Augusta",
          "OXO-5TIC606 Augusta",
          "OXO-5TIC607 Augusta",
          "OXO-5TIC659 Augusta",
          "OXO-_5FI658A Augusta",
          "OXO-_5FI659A Augusta",
          "OXO-_5FI660A Augusta",
          "OXO-_5FI662A Augusta"
         ],
         "y": [
          0,
          0,
          0,
          0,
          0,
          0,
          0,
          0,
          0,
          0,
          0,
          0,
          0,
          0,
          0,
          0,
          0,
          0,
          0
         ]
        }
       ],
       "layout": {
        "template": {
         "data": {
          "bar": [
           {
            "error_x": {
             "color": "#2a3f5f"
            },
            "error_y": {
             "color": "#2a3f5f"
            },
            "marker": {
             "line": {
              "color": "#E5ECF6",
              "width": 0.5
             },
             "pattern": {
              "fillmode": "overlay",
              "size": 10,
              "solidity": 0.2
             }
            },
            "type": "bar"
           }
          ],
          "barpolar": [
           {
            "marker": {
             "line": {
              "color": "#E5ECF6",
              "width": 0.5
             },
             "pattern": {
              "fillmode": "overlay",
              "size": 10,
              "solidity": 0.2
             }
            },
            "type": "barpolar"
           }
          ],
          "carpet": [
           {
            "aaxis": {
             "endlinecolor": "#2a3f5f",
             "gridcolor": "white",
             "linecolor": "white",
             "minorgridcolor": "white",
             "startlinecolor": "#2a3f5f"
            },
            "baxis": {
             "endlinecolor": "#2a3f5f",
             "gridcolor": "white",
             "linecolor": "white",
             "minorgridcolor": "white",
             "startlinecolor": "#2a3f5f"
            },
            "type": "carpet"
           }
          ],
          "choropleth": [
           {
            "colorbar": {
             "outlinewidth": 0,
             "ticks": ""
            },
            "type": "choropleth"
           }
          ],
          "contour": [
           {
            "colorbar": {
             "outlinewidth": 0,
             "ticks": ""
            },
            "colorscale": [
             [
              0,
              "#0d0887"
             ],
             [
              0.1111111111111111,
              "#46039f"
             ],
             [
              0.2222222222222222,
              "#7201a8"
             ],
             [
              0.3333333333333333,
              "#9c179e"
             ],
             [
              0.4444444444444444,
              "#bd3786"
             ],
             [
              0.5555555555555556,
              "#d8576b"
             ],
             [
              0.6666666666666666,
              "#ed7953"
             ],
             [
              0.7777777777777778,
              "#fb9f3a"
             ],
             [
              0.8888888888888888,
              "#fdca26"
             ],
             [
              1,
              "#f0f921"
             ]
            ],
            "type": "contour"
           }
          ],
          "contourcarpet": [
           {
            "colorbar": {
             "outlinewidth": 0,
             "ticks": ""
            },
            "type": "contourcarpet"
           }
          ],
          "heatmap": [
           {
            "colorbar": {
             "outlinewidth": 0,
             "ticks": ""
            },
            "colorscale": [
             [
              0,
              "#0d0887"
             ],
             [
              0.1111111111111111,
              "#46039f"
             ],
             [
              0.2222222222222222,
              "#7201a8"
             ],
             [
              0.3333333333333333,
              "#9c179e"
             ],
             [
              0.4444444444444444,
              "#bd3786"
             ],
             [
              0.5555555555555556,
              "#d8576b"
             ],
             [
              0.6666666666666666,
              "#ed7953"
             ],
             [
              0.7777777777777778,
              "#fb9f3a"
             ],
             [
              0.8888888888888888,
              "#fdca26"
             ],
             [
              1,
              "#f0f921"
             ]
            ],
            "type": "heatmap"
           }
          ],
          "heatmapgl": [
           {
            "colorbar": {
             "outlinewidth": 0,
             "ticks": ""
            },
            "colorscale": [
             [
              0,
              "#0d0887"
             ],
             [
              0.1111111111111111,
              "#46039f"
             ],
             [
              0.2222222222222222,
              "#7201a8"
             ],
             [
              0.3333333333333333,
              "#9c179e"
             ],
             [
              0.4444444444444444,
              "#bd3786"
             ],
             [
              0.5555555555555556,
              "#d8576b"
             ],
             [
              0.6666666666666666,
              "#ed7953"
             ],
             [
              0.7777777777777778,
              "#fb9f3a"
             ],
             [
              0.8888888888888888,
              "#fdca26"
             ],
             [
              1,
              "#f0f921"
             ]
            ],
            "type": "heatmapgl"
           }
          ],
          "histogram": [
           {
            "marker": {
             "pattern": {
              "fillmode": "overlay",
              "size": 10,
              "solidity": 0.2
             }
            },
            "type": "histogram"
           }
          ],
          "histogram2d": [
           {
            "colorbar": {
             "outlinewidth": 0,
             "ticks": ""
            },
            "colorscale": [
             [
              0,
              "#0d0887"
             ],
             [
              0.1111111111111111,
              "#46039f"
             ],
             [
              0.2222222222222222,
              "#7201a8"
             ],
             [
              0.3333333333333333,
              "#9c179e"
             ],
             [
              0.4444444444444444,
              "#bd3786"
             ],
             [
              0.5555555555555556,
              "#d8576b"
             ],
             [
              0.6666666666666666,
              "#ed7953"
             ],
             [
              0.7777777777777778,
              "#fb9f3a"
             ],
             [
              0.8888888888888888,
              "#fdca26"
             ],
             [
              1,
              "#f0f921"
             ]
            ],
            "type": "histogram2d"
           }
          ],
          "histogram2dcontour": [
           {
            "colorbar": {
             "outlinewidth": 0,
             "ticks": ""
            },
            "colorscale": [
             [
              0,
              "#0d0887"
             ],
             [
              0.1111111111111111,
              "#46039f"
             ],
             [
              0.2222222222222222,
              "#7201a8"
             ],
             [
              0.3333333333333333,
              "#9c179e"
             ],
             [
              0.4444444444444444,
              "#bd3786"
             ],
             [
              0.5555555555555556,
              "#d8576b"
             ],
             [
              0.6666666666666666,
              "#ed7953"
             ],
             [
              0.7777777777777778,
              "#fb9f3a"
             ],
             [
              0.8888888888888888,
              "#fdca26"
             ],
             [
              1,
              "#f0f921"
             ]
            ],
            "type": "histogram2dcontour"
           }
          ],
          "mesh3d": [
           {
            "colorbar": {
             "outlinewidth": 0,
             "ticks": ""
            },
            "type": "mesh3d"
           }
          ],
          "parcoords": [
           {
            "line": {
             "colorbar": {
              "outlinewidth": 0,
              "ticks": ""
             }
            },
            "type": "parcoords"
           }
          ],
          "pie": [
           {
            "automargin": true,
            "type": "pie"
           }
          ],
          "scatter": [
           {
            "fillpattern": {
             "fillmode": "overlay",
             "size": 10,
             "solidity": 0.2
            },
            "type": "scatter"
           }
          ],
          "scatter3d": [
           {
            "line": {
             "colorbar": {
              "outlinewidth": 0,
              "ticks": ""
             }
            },
            "marker": {
             "colorbar": {
              "outlinewidth": 0,
              "ticks": ""
             }
            },
            "type": "scatter3d"
           }
          ],
          "scattercarpet": [
           {
            "marker": {
             "colorbar": {
              "outlinewidth": 0,
              "ticks": ""
             }
            },
            "type": "scattercarpet"
           }
          ],
          "scattergeo": [
           {
            "marker": {
             "colorbar": {
              "outlinewidth": 0,
              "ticks": ""
             }
            },
            "type": "scattergeo"
           }
          ],
          "scattergl": [
           {
            "marker": {
             "colorbar": {
              "outlinewidth": 0,
              "ticks": ""
             }
            },
            "type": "scattergl"
           }
          ],
          "scattermapbox": [
           {
            "marker": {
             "colorbar": {
              "outlinewidth": 0,
              "ticks": ""
             }
            },
            "type": "scattermapbox"
           }
          ],
          "scatterpolar": [
           {
            "marker": {
             "colorbar": {
              "outlinewidth": 0,
              "ticks": ""
             }
            },
            "type": "scatterpolar"
           }
          ],
          "scatterpolargl": [
           {
            "marker": {
             "colorbar": {
              "outlinewidth": 0,
              "ticks": ""
             }
            },
            "type": "scatterpolargl"
           }
          ],
          "scatterternary": [
           {
            "marker": {
             "colorbar": {
              "outlinewidth": 0,
              "ticks": ""
             }
            },
            "type": "scatterternary"
           }
          ],
          "surface": [
           {
            "colorbar": {
             "outlinewidth": 0,
             "ticks": ""
            },
            "colorscale": [
             [
              0,
              "#0d0887"
             ],
             [
              0.1111111111111111,
              "#46039f"
             ],
             [
              0.2222222222222222,
              "#7201a8"
             ],
             [
              0.3333333333333333,
              "#9c179e"
             ],
             [
              0.4444444444444444,
              "#bd3786"
             ],
             [
              0.5555555555555556,
              "#d8576b"
             ],
             [
              0.6666666666666666,
              "#ed7953"
             ],
             [
              0.7777777777777778,
              "#fb9f3a"
             ],
             [
              0.8888888888888888,
              "#fdca26"
             ],
             [
              1,
              "#f0f921"
             ]
            ],
            "type": "surface"
           }
          ],
          "table": [
           {
            "cells": {
             "fill": {
              "color": "#EBF0F8"
             },
             "line": {
              "color": "white"
             }
            },
            "header": {
             "fill": {
              "color": "#C8D4E3"
             },
             "line": {
              "color": "white"
             }
            },
            "type": "table"
           }
          ]
         },
         "layout": {
          "annotationdefaults": {
           "arrowcolor": "#2a3f5f",
           "arrowhead": 0,
           "arrowwidth": 1
          },
          "autotypenumbers": "strict",
          "coloraxis": {
           "colorbar": {
            "outlinewidth": 0,
            "ticks": ""
           }
          },
          "colorscale": {
           "diverging": [
            [
             0,
             "#8e0152"
            ],
            [
             0.1,
             "#c51b7d"
            ],
            [
             0.2,
             "#de77ae"
            ],
            [
             0.3,
             "#f1b6da"
            ],
            [
             0.4,
             "#fde0ef"
            ],
            [
             0.5,
             "#f7f7f7"
            ],
            [
             0.6,
             "#e6f5d0"
            ],
            [
             0.7,
             "#b8e186"
            ],
            [
             0.8,
             "#7fbc41"
            ],
            [
             0.9,
             "#4d9221"
            ],
            [
             1,
             "#276419"
            ]
           ],
           "sequential": [
            [
             0,
             "#0d0887"
            ],
            [
             0.1111111111111111,
             "#46039f"
            ],
            [
             0.2222222222222222,
             "#7201a8"
            ],
            [
             0.3333333333333333,
             "#9c179e"
            ],
            [
             0.4444444444444444,
             "#bd3786"
            ],
            [
             0.5555555555555556,
             "#d8576b"
            ],
            [
             0.6666666666666666,
             "#ed7953"
            ],
            [
             0.7777777777777778,
             "#fb9f3a"
            ],
            [
             0.8888888888888888,
             "#fdca26"
            ],
            [
             1,
             "#f0f921"
            ]
           ],
           "sequentialminus": [
            [
             0,
             "#0d0887"
            ],
            [
             0.1111111111111111,
             "#46039f"
            ],
            [
             0.2222222222222222,
             "#7201a8"
            ],
            [
             0.3333333333333333,
             "#9c179e"
            ],
            [
             0.4444444444444444,
             "#bd3786"
            ],
            [
             0.5555555555555556,
             "#d8576b"
            ],
            [
             0.6666666666666666,
             "#ed7953"
            ],
            [
             0.7777777777777778,
             "#fb9f3a"
            ],
            [
             0.8888888888888888,
             "#fdca26"
            ],
            [
             1,
             "#f0f921"
            ]
           ]
          },
          "colorway": [
           "#636efa",
           "#EF553B",
           "#00cc96",
           "#ab63fa",
           "#FFA15A",
           "#19d3f3",
           "#FF6692",
           "#B6E880",
           "#FF97FF",
           "#FECB52"
          ],
          "font": {
           "color": "#2a3f5f"
          },
          "geo": {
           "bgcolor": "white",
           "lakecolor": "white",
           "landcolor": "#E5ECF6",
           "showlakes": true,
           "showland": true,
           "subunitcolor": "white"
          },
          "hoverlabel": {
           "align": "left"
          },
          "hovermode": "closest",
          "mapbox": {
           "style": "light"
          },
          "paper_bgcolor": "white",
          "plot_bgcolor": "#E5ECF6",
          "polar": {
           "angularaxis": {
            "gridcolor": "white",
            "linecolor": "white",
            "ticks": ""
           },
           "bgcolor": "#E5ECF6",
           "radialaxis": {
            "gridcolor": "white",
            "linecolor": "white",
            "ticks": ""
           }
          },
          "scene": {
           "xaxis": {
            "backgroundcolor": "#E5ECF6",
            "gridcolor": "white",
            "gridwidth": 2,
            "linecolor": "white",
            "showbackground": true,
            "ticks": "",
            "zerolinecolor": "white"
           },
           "yaxis": {
            "backgroundcolor": "#E5ECF6",
            "gridcolor": "white",
            "gridwidth": 2,
            "linecolor": "white",
            "showbackground": true,
            "ticks": "",
            "zerolinecolor": "white"
           },
           "zaxis": {
            "backgroundcolor": "#E5ECF6",
            "gridcolor": "white",
            "gridwidth": 2,
            "linecolor": "white",
            "showbackground": true,
            "ticks": "",
            "zerolinecolor": "white"
           }
          },
          "shapedefaults": {
           "line": {
            "color": "#2a3f5f"
           }
          },
          "ternary": {
           "aaxis": {
            "gridcolor": "white",
            "linecolor": "white",
            "ticks": ""
           },
           "baxis": {
            "gridcolor": "white",
            "linecolor": "white",
            "ticks": ""
           },
           "bgcolor": "#E5ECF6",
           "caxis": {
            "gridcolor": "white",
            "linecolor": "white",
            "ticks": ""
           }
          },
          "title": {
           "x": 0.05
          },
          "xaxis": {
           "automargin": true,
           "gridcolor": "white",
           "linecolor": "white",
           "ticks": "",
           "title": {
            "standoff": 15
           },
           "zerolinecolor": "white",
           "zerolinewidth": 2
          },
          "yaxis": {
           "automargin": true,
           "gridcolor": "white",
           "linecolor": "white",
           "ticks": "",
           "title": {
            "standoff": 15
           },
           "zerolinecolor": "white",
           "zerolinewidth": 2
          }
         }
        },
        "title": {
         "text": "Missing Data"
        },
        "xaxis": {
         "title": {
          "text": "Columns"
         }
        },
        "yaxis": {
         "title": {
          "text": "Missing Count"
         }
        }
       }
      }
     },
     "metadata": {},
     "output_type": "display_data"
    }
   ],
   "source": [
    "from Data_Visualization.eda import EDA_Visualization\n",
    "\n",
    "eda_vis = EDA_Visualization(df)\n",
    "eda_vis.visualize_missing_data()"
   ]
  },
  {
   "cell_type": "markdown",
   "metadata": {},
   "source": [
    "### Test DataCleansing Module"
   ]
  },
  {
   "cell_type": "code",
   "execution_count": 3,
   "metadata": {},
   "outputs": [],
   "source": [
    "data_cleansing = DataCleansing(df)"
   ]
  },
  {
   "cell_type": "markdown",
   "metadata": {},
   "source": [
    "remove_duplicates() function"
   ]
  },
  {
   "cell_type": "code",
   "execution_count": null,
   "metadata": {},
   "outputs": [],
   "source": [
    "# generate a df with duplicate rows\n",
    "dup_df = pd.DataFrame({'a':[1,1,2,2,3,3,4,4,5,5],\n",
    "                     'b':[2,2,3,3,4,4,5,5,6,6],\n",
    "                        'c':[3,3,4,4,5,5,6,6,7,7]})\n",
    "dup_df"
   ]
  },
  {
   "cell_type": "code",
   "execution_count": null,
   "metadata": {},
   "outputs": [],
   "source": [
    "data_cleansing = DataCleansing()\n",
    "dup_df = data_cleansing.remove_duplicates(dup_df)\n",
    "dup_df"
   ]
  },
  {
   "cell_type": "code",
   "execution_count": null,
   "metadata": {},
   "outputs": [],
   "source": [
    "# a df with duplicate dolumns\n",
    "dup_df = pd.DataFrame({'a': [1, 2, 3], 'b': [1, 2, 3], 'c': [1, 2, 3]})\n",
    "dup_df"
   ]
  },
  {
   "cell_type": "code",
   "execution_count": null,
   "metadata": {},
   "outputs": [],
   "source": [
    "data_cleansing = DataCleansing()\n",
    "dup_df = data_cleansing.remove_duplicates(dup_df)\n",
    "dup_df"
   ]
  },
  {
   "cell_type": "markdown",
   "metadata": {},
   "source": [
    "handle_missing_values() funtion"
   ]
  },
  {
   "cell_type": "code",
   "execution_count": 4,
   "metadata": {},
   "outputs": [
    {
     "data": {
      "text/plain": [
       "(1000, 16)"
      ]
     },
     "execution_count": 4,
     "metadata": {},
     "output_type": "execute_result"
    }
   ],
   "source": [
    "df.shape"
   ]
  },
  {
   "cell_type": "code",
   "execution_count": 5,
   "metadata": {},
   "outputs": [
    {
     "name": "stdout",
     "output_type": "stream",
     "text": [
      "Missing data summary:\n",
      "HPBH:221F003 Stanlow       3\n",
      "HPBH:221F004 Stanlow      90\n",
      "HPBH:221F008 Stanlow      87\n",
      "HPBH:221F011 Stanlow     330\n",
      "HPBH:221FT009 Stanlow    165\n",
      "HPBH:221Q004 Stanlow     113\n",
      "HPBH:221QT004 Stanlow    268\n",
      "HPBH:221T017 Stanlow      36\n",
      "HPBH:221T028 Stanlow     435\n",
      "HPBH:221T034 Stanlow     746\n",
      "HPBH:221T035 Stanlow     451\n",
      "HPBH:221T036 Stanlow     440\n",
      "HPBH:221T044 Stanlow      95\n",
      "HPBH:221TT031 Stanlow    766\n",
      "HPBH:221TT032 Stanlow    841\n",
      "HPBH:221U829 Stanlow     183\n",
      "dtype: int64\n"
     ]
    }
   ],
   "source": [
    "data_exp.summarize_missing_data(df)"
   ]
  },
  {
   "cell_type": "code",
   "execution_count": 6,
   "metadata": {},
   "outputs": [
    {
     "name": "stdout",
     "output_type": "stream",
     "text": [
      "# rows dropped with missing values in the target variable: 0\n",
      "Dropped columns: []\n"
     ]
    }
   ],
   "source": [
    "# df = data_cleansing.handle_missing_values(df, target_list=['OXO-5FI696 Augusta'], drop_thresh=0.5, fill_missing_method='forward')\n",
    "df = data_cleansing.handle_missing_values(df, target_list=['HPBH:221F008 Stanlow', 'HPBH:221FT009 Stanlow'], drop_thresh=0.5, fill_missing_method='mean')"
   ]
  },
  {
   "cell_type": "code",
   "execution_count": 5,
   "metadata": {},
   "outputs": [
    {
     "data": {
      "text/plain": [
       "(823, 13)"
      ]
     },
     "execution_count": 5,
     "metadata": {},
     "output_type": "execute_result"
    }
   ],
   "source": [
    "df.shape"
   ]
  },
  {
   "cell_type": "code",
   "execution_count": 6,
   "metadata": {},
   "outputs": [
    {
     "name": "stdout",
     "output_type": "stream",
     "text": [
      "Missing data summary:\n",
      "Series([], dtype: int64)\n"
     ]
    }
   ],
   "source": [
    "data_exp.summarize_missing_data(df)"
   ]
  },
  {
   "cell_type": "markdown",
   "metadata": {},
   "source": [
    "detect_anomalies() function"
   ]
  },
  {
   "cell_type": "code",
   "execution_count": 6,
   "metadata": {},
   "outputs": [
    {
     "name": "stdout",
     "output_type": "stream",
     "text": [
      "./Data_Cleansing/OXO-5FI696 Augusta_anomaly_report already exists, trying again...\n",
      "[WinError 183] Cannot create a file when that file already exists: './Data_Cleansing/OXO-5FI696 Augusta_anomaly_report\\\\xlsx'\n",
      "Selected Features are OXO-5FI696 Augusta, OXO-5FI635C Augusta, OXO-5FIC602 Augusta, OXO-5FIC612B Augusta, OXO-5FIC622C Augusta, OXO-5FIC636C Augusta, OXO-5TIC602 Augusta, OXO-5TIC603 Augusta\n",
      "Finding bounds...\n",
      "Found Bounds!\n",
      "Finding bounds...\n",
      "Found Bounds!\n",
      "Index(['OXO-5FI696 Augusta', 'OXO-5FI635C Augusta', 'OXO-5FIC602 Augusta',\n",
      "       'OXO-5FIC612B Augusta', 'OXO-5FIC622C Augusta', 'OXO-5FIC636C Augusta',\n",
      "       'OXO-5TIC602 Augusta', 'OXO-5TIC603 Augusta'],\n",
      "      dtype='object')\n",
      "OXO-5FI696 Augusta\n",
      "OXO-5FI635C Augusta\n",
      "OXO-5FIC602 Augusta\n",
      "OXO-5FIC612B Augusta\n",
      "OXO-5FIC622C Augusta\n",
      "OXO-5FIC636C Augusta\n",
      "OXO-5TIC602 Augusta\n",
      "OXO-5TIC603 Augusta\n",
      "Done\n"
     ]
    }
   ],
   "source": [
    "data_cleansing.generate_anomaly_report(df, 'OXO-5FI696 Augusta', problem_type='max')\n",
    "# data_cleansing.generate_anomaly_report(df, 'HPBH:221F008 Stanlow', problem_type='max')"
   ]
  },
  {
   "cell_type": "markdown",
   "metadata": {},
   "source": [
    "detect_outliers() funcion"
   ]
  },
  {
   "cell_type": "code",
   "execution_count": null,
   "metadata": {},
   "outputs": [],
   "source": [
    "data_cleansing.detect_outliers(df, col_name=df.columns[1], threshold=3)"
   ]
  },
  {
   "cell_type": "markdown",
   "metadata": {},
   "source": [
    "### Test DataPreprocessing Module"
   ]
  },
  {
   "cell_type": "code",
   "execution_count": 7,
   "metadata": {},
   "outputs": [],
   "source": [
    "data_preprocessing = DataPreprocessing(df)"
   ]
  },
  {
   "cell_type": "markdown",
   "metadata": {},
   "source": [
    "feature_encoding()"
   ]
  },
  {
   "cell_type": "code",
   "execution_count": 8,
   "metadata": {},
   "outputs": [
    {
     "name": "stdout",
     "output_type": "stream",
     "text": [
      "Data types summary:\n",
      " int64      39\n",
      "float64    29\n",
      "bool       20\n",
      "object     11\n",
      "Name: count, dtype: int64\n"
     ]
    }
   ],
   "source": [
    "data_exploration = DataExploration()\n",
    "data_exploration.summarize_data_type(df)"
   ]
  },
  {
   "cell_type": "code",
   "execution_count": 5,
   "metadata": {},
   "outputs": [
    {
     "data": {
      "text/html": [
       "<div>\n",
       "<style scoped>\n",
       "    .dataframe tbody tr th:only-of-type {\n",
       "        vertical-align: middle;\n",
       "    }\n",
       "\n",
       "    .dataframe tbody tr th {\n",
       "        vertical-align: top;\n",
       "    }\n",
       "\n",
       "    .dataframe thead th {\n",
       "        text-align: right;\n",
       "    }\n",
       "</style>\n",
       "<table border=\"1\" class=\"dataframe\">\n",
       "  <thead>\n",
       "    <tr style=\"text-align: right;\">\n",
       "      <th></th>\n",
       "      <th>Concealed</th>\n",
       "      <th>Team</th>\n",
       "      <th>Private</th>\n",
       "      <th>Rolled</th>\n",
       "      <th>TankerContainer</th>\n",
       "      <th>TankerLiquid</th>\n",
       "      <th>TankerFood</th>\n",
       "      <th>TankerReefer</th>\n",
       "      <th>TankerHazMat</th>\n",
       "      <th>Hot</th>\n",
       "      <th>Liquor</th>\n",
       "      <th>TWIC</th>\n",
       "      <th>TMSPrivateCarrier</th>\n",
       "      <th>Govt</th>\n",
       "      <th>HRHV</th>\n",
       "      <th>Seal</th>\n",
       "      <th>IsCustomerHighPriority</th>\n",
       "      <th>IsCommodityStackable</th>\n",
       "      <th>MXCrossBorder</th>\n",
       "      <th>CACrossBorder</th>\n",
       "    </tr>\n",
       "  </thead>\n",
       "  <tbody>\n",
       "    <tr>\n",
       "      <th>0</th>\n",
       "      <td>False</td>\n",
       "      <td>False</td>\n",
       "      <td>False</td>\n",
       "      <td>False</td>\n",
       "      <td>False</td>\n",
       "      <td>False</td>\n",
       "      <td>False</td>\n",
       "      <td>False</td>\n",
       "      <td>False</td>\n",
       "      <td>False</td>\n",
       "      <td>False</td>\n",
       "      <td>False</td>\n",
       "      <td>False</td>\n",
       "      <td>False</td>\n",
       "      <td>False</td>\n",
       "      <td>False</td>\n",
       "      <td>False</td>\n",
       "      <td>False</td>\n",
       "      <td>False</td>\n",
       "      <td>False</td>\n",
       "    </tr>\n",
       "    <tr>\n",
       "      <th>1</th>\n",
       "      <td>False</td>\n",
       "      <td>False</td>\n",
       "      <td>False</td>\n",
       "      <td>False</td>\n",
       "      <td>False</td>\n",
       "      <td>False</td>\n",
       "      <td>False</td>\n",
       "      <td>False</td>\n",
       "      <td>False</td>\n",
       "      <td>False</td>\n",
       "      <td>False</td>\n",
       "      <td>False</td>\n",
       "      <td>False</td>\n",
       "      <td>False</td>\n",
       "      <td>False</td>\n",
       "      <td>False</td>\n",
       "      <td>False</td>\n",
       "      <td>False</td>\n",
       "      <td>False</td>\n",
       "      <td>False</td>\n",
       "    </tr>\n",
       "    <tr>\n",
       "      <th>2</th>\n",
       "      <td>False</td>\n",
       "      <td>False</td>\n",
       "      <td>False</td>\n",
       "      <td>False</td>\n",
       "      <td>False</td>\n",
       "      <td>False</td>\n",
       "      <td>False</td>\n",
       "      <td>False</td>\n",
       "      <td>False</td>\n",
       "      <td>False</td>\n",
       "      <td>False</td>\n",
       "      <td>False</td>\n",
       "      <td>True</td>\n",
       "      <td>False</td>\n",
       "      <td>False</td>\n",
       "      <td>True</td>\n",
       "      <td>False</td>\n",
       "      <td>False</td>\n",
       "      <td>True</td>\n",
       "      <td>False</td>\n",
       "    </tr>\n",
       "    <tr>\n",
       "      <th>3</th>\n",
       "      <td>False</td>\n",
       "      <td>False</td>\n",
       "      <td>False</td>\n",
       "      <td>False</td>\n",
       "      <td>False</td>\n",
       "      <td>False</td>\n",
       "      <td>False</td>\n",
       "      <td>False</td>\n",
       "      <td>False</td>\n",
       "      <td>False</td>\n",
       "      <td>False</td>\n",
       "      <td>False</td>\n",
       "      <td>False</td>\n",
       "      <td>False</td>\n",
       "      <td>False</td>\n",
       "      <td>True</td>\n",
       "      <td>False</td>\n",
       "      <td>False</td>\n",
       "      <td>False</td>\n",
       "      <td>False</td>\n",
       "    </tr>\n",
       "    <tr>\n",
       "      <th>4</th>\n",
       "      <td>False</td>\n",
       "      <td>False</td>\n",
       "      <td>False</td>\n",
       "      <td>False</td>\n",
       "      <td>False</td>\n",
       "      <td>False</td>\n",
       "      <td>False</td>\n",
       "      <td>False</td>\n",
       "      <td>False</td>\n",
       "      <td>False</td>\n",
       "      <td>False</td>\n",
       "      <td>False</td>\n",
       "      <td>False</td>\n",
       "      <td>False</td>\n",
       "      <td>False</td>\n",
       "      <td>False</td>\n",
       "      <td>False</td>\n",
       "      <td>False</td>\n",
       "      <td>False</td>\n",
       "      <td>False</td>\n",
       "    </tr>\n",
       "  </tbody>\n",
       "</table>\n",
       "</div>"
      ],
      "text/plain": [
       "   Concealed   Team  Private  Rolled  TankerContainer  TankerLiquid   \n",
       "0      False  False    False   False            False         False  \\\n",
       "1      False  False    False   False            False         False   \n",
       "2      False  False    False   False            False         False   \n",
       "3      False  False    False   False            False         False   \n",
       "4      False  False    False   False            False         False   \n",
       "\n",
       "   TankerFood  TankerReefer  TankerHazMat    Hot  Liquor   TWIC   \n",
       "0       False         False         False  False   False  False  \\\n",
       "1       False         False         False  False   False  False   \n",
       "2       False         False         False  False   False  False   \n",
       "3       False         False         False  False   False  False   \n",
       "4       False         False         False  False   False  False   \n",
       "\n",
       "   TMSPrivateCarrier   Govt   HRHV   Seal  IsCustomerHighPriority   \n",
       "0              False  False  False  False                   False  \\\n",
       "1              False  False  False  False                   False   \n",
       "2               True  False  False   True                   False   \n",
       "3              False  False  False   True                   False   \n",
       "4              False  False  False  False                   False   \n",
       "\n",
       "   IsCommodityStackable  MXCrossBorder  CACrossBorder  \n",
       "0                 False          False          False  \n",
       "1                 False          False          False  \n",
       "2                 False           True          False  \n",
       "3                 False          False          False  \n",
       "4                 False          False          False  "
      ]
     },
     "execution_count": 5,
     "metadata": {},
     "output_type": "execute_result"
    }
   ],
   "source": [
    "be = BinaryEncoding(df, 'TotalCostUSD')\n",
    "bool_cols = be.get_columns()\n",
    "df[bool_cols].head()"
   ]
  },
  {
   "cell_type": "code",
   "execution_count": 6,
   "metadata": {},
   "outputs": [
    {
     "data": {
      "text/html": [
       "<div>\n",
       "<style scoped>\n",
       "    .dataframe tbody tr th:only-of-type {\n",
       "        vertical-align: middle;\n",
       "    }\n",
       "\n",
       "    .dataframe tbody tr th {\n",
       "        vertical-align: top;\n",
       "    }\n",
       "\n",
       "    .dataframe thead th {\n",
       "        text-align: right;\n",
       "    }\n",
       "</style>\n",
       "<table border=\"1\" class=\"dataframe\">\n",
       "  <thead>\n",
       "    <tr style=\"text-align: right;\">\n",
       "      <th></th>\n",
       "      <th>Concealed</th>\n",
       "      <th>Team</th>\n",
       "      <th>Private</th>\n",
       "      <th>Rolled</th>\n",
       "      <th>TankerContainer</th>\n",
       "      <th>TankerLiquid</th>\n",
       "      <th>TankerFood</th>\n",
       "      <th>TankerReefer</th>\n",
       "      <th>TankerHazMat</th>\n",
       "      <th>Hot</th>\n",
       "      <th>Liquor</th>\n",
       "      <th>TWIC</th>\n",
       "      <th>TMSPrivateCarrier</th>\n",
       "      <th>Govt</th>\n",
       "      <th>HRHV</th>\n",
       "      <th>Seal</th>\n",
       "      <th>IsCustomerHighPriority</th>\n",
       "      <th>IsCommodityStackable</th>\n",
       "      <th>MXCrossBorder</th>\n",
       "      <th>CACrossBorder</th>\n",
       "    </tr>\n",
       "  </thead>\n",
       "  <tbody>\n",
       "    <tr>\n",
       "      <th>0</th>\n",
       "      <td>0</td>\n",
       "      <td>0</td>\n",
       "      <td>0</td>\n",
       "      <td>0</td>\n",
       "      <td>0</td>\n",
       "      <td>0</td>\n",
       "      <td>0</td>\n",
       "      <td>0</td>\n",
       "      <td>0</td>\n",
       "      <td>0</td>\n",
       "      <td>0</td>\n",
       "      <td>0</td>\n",
       "      <td>0</td>\n",
       "      <td>0</td>\n",
       "      <td>0</td>\n",
       "      <td>0</td>\n",
       "      <td>0</td>\n",
       "      <td>0</td>\n",
       "      <td>0</td>\n",
       "      <td>0</td>\n",
       "    </tr>\n",
       "    <tr>\n",
       "      <th>1</th>\n",
       "      <td>0</td>\n",
       "      <td>0</td>\n",
       "      <td>0</td>\n",
       "      <td>0</td>\n",
       "      <td>0</td>\n",
       "      <td>0</td>\n",
       "      <td>0</td>\n",
       "      <td>0</td>\n",
       "      <td>0</td>\n",
       "      <td>0</td>\n",
       "      <td>0</td>\n",
       "      <td>0</td>\n",
       "      <td>0</td>\n",
       "      <td>0</td>\n",
       "      <td>0</td>\n",
       "      <td>0</td>\n",
       "      <td>0</td>\n",
       "      <td>0</td>\n",
       "      <td>0</td>\n",
       "      <td>0</td>\n",
       "    </tr>\n",
       "    <tr>\n",
       "      <th>2</th>\n",
       "      <td>0</td>\n",
       "      <td>0</td>\n",
       "      <td>0</td>\n",
       "      <td>0</td>\n",
       "      <td>0</td>\n",
       "      <td>0</td>\n",
       "      <td>0</td>\n",
       "      <td>0</td>\n",
       "      <td>0</td>\n",
       "      <td>0</td>\n",
       "      <td>0</td>\n",
       "      <td>0</td>\n",
       "      <td>1</td>\n",
       "      <td>0</td>\n",
       "      <td>0</td>\n",
       "      <td>1</td>\n",
       "      <td>0</td>\n",
       "      <td>0</td>\n",
       "      <td>1</td>\n",
       "      <td>0</td>\n",
       "    </tr>\n",
       "    <tr>\n",
       "      <th>3</th>\n",
       "      <td>0</td>\n",
       "      <td>0</td>\n",
       "      <td>0</td>\n",
       "      <td>0</td>\n",
       "      <td>0</td>\n",
       "      <td>0</td>\n",
       "      <td>0</td>\n",
       "      <td>0</td>\n",
       "      <td>0</td>\n",
       "      <td>0</td>\n",
       "      <td>0</td>\n",
       "      <td>0</td>\n",
       "      <td>0</td>\n",
       "      <td>0</td>\n",
       "      <td>0</td>\n",
       "      <td>1</td>\n",
       "      <td>0</td>\n",
       "      <td>0</td>\n",
       "      <td>0</td>\n",
       "      <td>0</td>\n",
       "    </tr>\n",
       "    <tr>\n",
       "      <th>4</th>\n",
       "      <td>0</td>\n",
       "      <td>0</td>\n",
       "      <td>0</td>\n",
       "      <td>0</td>\n",
       "      <td>0</td>\n",
       "      <td>0</td>\n",
       "      <td>0</td>\n",
       "      <td>0</td>\n",
       "      <td>0</td>\n",
       "      <td>0</td>\n",
       "      <td>0</td>\n",
       "      <td>0</td>\n",
       "      <td>0</td>\n",
       "      <td>0</td>\n",
       "      <td>0</td>\n",
       "      <td>0</td>\n",
       "      <td>0</td>\n",
       "      <td>0</td>\n",
       "      <td>0</td>\n",
       "      <td>0</td>\n",
       "    </tr>\n",
       "  </tbody>\n",
       "</table>\n",
       "</div>"
      ],
      "text/plain": [
       "   Concealed  Team  Private  Rolled  TankerContainer  TankerLiquid   \n",
       "0          0     0        0       0                0             0  \\\n",
       "1          0     0        0       0                0             0   \n",
       "2          0     0        0       0                0             0   \n",
       "3          0     0        0       0                0             0   \n",
       "4          0     0        0       0                0             0   \n",
       "\n",
       "   TankerFood  TankerReefer  TankerHazMat  Hot  Liquor  TWIC   \n",
       "0           0             0             0    0       0     0  \\\n",
       "1           0             0             0    0       0     0   \n",
       "2           0             0             0    0       0     0   \n",
       "3           0             0             0    0       0     0   \n",
       "4           0             0             0    0       0     0   \n",
       "\n",
       "   TMSPrivateCarrier  Govt  HRHV  Seal  IsCustomerHighPriority   \n",
       "0                  0     0     0     0                       0  \\\n",
       "1                  0     0     0     0                       0   \n",
       "2                  1     0     0     1                       0   \n",
       "3                  0     0     0     1                       0   \n",
       "4                  0     0     0     0                       0   \n",
       "\n",
       "   IsCommodityStackable  MXCrossBorder  CACrossBorder  \n",
       "0                     0              0              0  \n",
       "1                     0              0              0  \n",
       "2                     0              1              0  \n",
       "3                     0              0              0  \n",
       "4                     0              0              0  "
      ]
     },
     "execution_count": 6,
     "metadata": {},
     "output_type": "execute_result"
    }
   ],
   "source": [
    "df = be.encode()\n",
    "df[bool_cols].head()"
   ]
  },
  {
   "cell_type": "code",
   "execution_count": 7,
   "metadata": {},
   "outputs": [
    {
     "data": {
      "text/html": [
       "<div>\n",
       "<style scoped>\n",
       "    .dataframe tbody tr th:only-of-type {\n",
       "        vertical-align: middle;\n",
       "    }\n",
       "\n",
       "    .dataframe tbody tr th {\n",
       "        vertical-align: top;\n",
       "    }\n",
       "\n",
       "    .dataframe thead th {\n",
       "        text-align: right;\n",
       "    }\n",
       "</style>\n",
       "<table border=\"1\" class=\"dataframe\">\n",
       "  <thead>\n",
       "    <tr style=\"text-align: right;\">\n",
       "      <th></th>\n",
       "      <th>EquipmentType</th>\n",
       "      <th>NormalizedRank</th>\n",
       "      <th>Normalized_EQ</th>\n",
       "      <th>BizUnit</th>\n",
       "      <th>BookType</th>\n",
       "      <th>BuildType</th>\n",
       "      <th>SalesStatus</th>\n",
       "      <th>CommodityCode</th>\n",
       "      <th>LoadDate-Weekday</th>\n",
       "      <th>DelDate-Weekday</th>\n",
       "      <th>CreateDate-Weekday</th>\n",
       "    </tr>\n",
       "  </thead>\n",
       "  <tbody>\n",
       "    <tr>\n",
       "      <th>0</th>\n",
       "      <td>V</td>\n",
       "      <td>Spot</td>\n",
       "      <td>V</td>\n",
       "      <td>Core</td>\n",
       "      <td>SameDay</td>\n",
       "      <td>SameDayBuild</td>\n",
       "      <td>Non-Enterprise</td>\n",
       "      <td>NaN</td>\n",
       "      <td>Friday</td>\n",
       "      <td>Monday</td>\n",
       "      <td>Friday</td>\n",
       "    </tr>\n",
       "    <tr>\n",
       "      <th>1</th>\n",
       "      <td>V</td>\n",
       "      <td>Spot</td>\n",
       "      <td>V</td>\n",
       "      <td>Core</td>\n",
       "      <td>Prebook</td>\n",
       "      <td>PreBuild</td>\n",
       "      <td>Non-Enterprise</td>\n",
       "      <td>NaN</td>\n",
       "      <td>Tuesday</td>\n",
       "      <td>Wednesday</td>\n",
       "      <td>Friday</td>\n",
       "    </tr>\n",
       "    <tr>\n",
       "      <th>2</th>\n",
       "      <td>F</td>\n",
       "      <td>Primary</td>\n",
       "      <td>F</td>\n",
       "      <td>Core</td>\n",
       "      <td>Prebook</td>\n",
       "      <td>PreBuild</td>\n",
       "      <td>Managed</td>\n",
       "      <td>NaN</td>\n",
       "      <td>Monday</td>\n",
       "      <td>Tuesday</td>\n",
       "      <td>Friday</td>\n",
       "    </tr>\n",
       "    <tr>\n",
       "      <th>3</th>\n",
       "      <td>V</td>\n",
       "      <td>Primary</td>\n",
       "      <td>V</td>\n",
       "      <td>Core</td>\n",
       "      <td>SameDay</td>\n",
       "      <td>SameDayBuild</td>\n",
       "      <td>Non-Enterprise</td>\n",
       "      <td>NaN</td>\n",
       "      <td>Friday</td>\n",
       "      <td>Friday</td>\n",
       "      <td>Friday</td>\n",
       "    </tr>\n",
       "    <tr>\n",
       "      <th>4</th>\n",
       "      <td>V</td>\n",
       "      <td>Spot</td>\n",
       "      <td>V</td>\n",
       "      <td>Core</td>\n",
       "      <td>SameDay</td>\n",
       "      <td>SameDayBuild</td>\n",
       "      <td>Non-Enterprise</td>\n",
       "      <td>NaN</td>\n",
       "      <td>Friday</td>\n",
       "      <td>Wednesday</td>\n",
       "      <td>Friday</td>\n",
       "    </tr>\n",
       "  </tbody>\n",
       "</table>\n",
       "</div>"
      ],
      "text/plain": [
       "  EquipmentType NormalizedRank Normalized_EQ BizUnit BookType     BuildType   \n",
       "0             V           Spot             V    Core  SameDay  SameDayBuild  \\\n",
       "1             V           Spot             V    Core  Prebook      PreBuild   \n",
       "2             F        Primary             F    Core  Prebook      PreBuild   \n",
       "3             V        Primary             V    Core  SameDay  SameDayBuild   \n",
       "4             V           Spot             V    Core  SameDay  SameDayBuild   \n",
       "\n",
       "      SalesStatus CommodityCode LoadDate-Weekday DelDate-Weekday   \n",
       "0  Non-Enterprise           NaN           Friday          Monday  \\\n",
       "1  Non-Enterprise           NaN          Tuesday       Wednesday   \n",
       "2         Managed           NaN           Monday         Tuesday   \n",
       "3  Non-Enterprise           NaN           Friday          Friday   \n",
       "4  Non-Enterprise           NaN           Friday       Wednesday   \n",
       "\n",
       "  CreateDate-Weekday  \n",
       "0             Friday  \n",
       "1             Friday  \n",
       "2             Friday  \n",
       "3             Friday  \n",
       "4             Friday  "
      ]
     },
     "execution_count": 7,
     "metadata": {},
     "output_type": "execute_result"
    }
   ],
   "source": [
    "te = TargetEncoding(df, 'TotalCostUSD')\n",
    "categorical_cols = te.get_columns()\n",
    "df[categorical_cols].head()"
   ]
  },
  {
   "cell_type": "code",
   "execution_count": 8,
   "metadata": {},
   "outputs": [
    {
     "data": {
      "text/html": [
       "<div>\n",
       "<style scoped>\n",
       "    .dataframe tbody tr th:only-of-type {\n",
       "        vertical-align: middle;\n",
       "    }\n",
       "\n",
       "    .dataframe tbody tr th {\n",
       "        vertical-align: top;\n",
       "    }\n",
       "\n",
       "    .dataframe thead th {\n",
       "        text-align: right;\n",
       "    }\n",
       "</style>\n",
       "<table border=\"1\" class=\"dataframe\">\n",
       "  <thead>\n",
       "    <tr style=\"text-align: right;\">\n",
       "      <th></th>\n",
       "      <th>EquipmentType</th>\n",
       "      <th>NormalizedRank</th>\n",
       "      <th>Normalized_EQ</th>\n",
       "      <th>BizUnit</th>\n",
       "      <th>BookType</th>\n",
       "      <th>BuildType</th>\n",
       "      <th>SalesStatus</th>\n",
       "      <th>CommodityCode</th>\n",
       "      <th>LoadDate-Weekday</th>\n",
       "      <th>DelDate-Weekday</th>\n",
       "      <th>CreateDate-Weekday</th>\n",
       "    </tr>\n",
       "  </thead>\n",
       "  <tbody>\n",
       "    <tr>\n",
       "      <th>0</th>\n",
       "      <td>1167.846730</td>\n",
       "      <td>1276.082259</td>\n",
       "      <td>1285.489573</td>\n",
       "      <td>1397.622783</td>\n",
       "      <td>1362.821291</td>\n",
       "      <td>931.475097</td>\n",
       "      <td>1308.222838</td>\n",
       "      <td>1321.638651</td>\n",
       "      <td>1127.472760</td>\n",
       "      <td>1446.114308</td>\n",
       "      <td>1414.839236</td>\n",
       "    </tr>\n",
       "    <tr>\n",
       "      <th>1</th>\n",
       "      <td>1167.846730</td>\n",
       "      <td>1276.082259</td>\n",
       "      <td>1285.489573</td>\n",
       "      <td>1397.622783</td>\n",
       "      <td>1525.869119</td>\n",
       "      <td>1781.346110</td>\n",
       "      <td>1308.222838</td>\n",
       "      <td>1321.638651</td>\n",
       "      <td>1658.687189</td>\n",
       "      <td>1316.577477</td>\n",
       "      <td>1414.839236</td>\n",
       "    </tr>\n",
       "    <tr>\n",
       "      <th>2</th>\n",
       "      <td>1163.274645</td>\n",
       "      <td>1568.820526</td>\n",
       "      <td>1419.329335</td>\n",
       "      <td>1397.622783</td>\n",
       "      <td>1525.869119</td>\n",
       "      <td>1781.346110</td>\n",
       "      <td>745.107322</td>\n",
       "      <td>1321.638651</td>\n",
       "      <td>1406.654348</td>\n",
       "      <td>1268.843787</td>\n",
       "      <td>1414.839236</td>\n",
       "    </tr>\n",
       "    <tr>\n",
       "      <th>3</th>\n",
       "      <td>1167.846730</td>\n",
       "      <td>1568.820526</td>\n",
       "      <td>1285.489573</td>\n",
       "      <td>1397.622783</td>\n",
       "      <td>1362.821291</td>\n",
       "      <td>931.475097</td>\n",
       "      <td>1308.222838</td>\n",
       "      <td>1321.638651</td>\n",
       "      <td>1127.472760</td>\n",
       "      <td>1774.547673</td>\n",
       "      <td>1414.839236</td>\n",
       "    </tr>\n",
       "    <tr>\n",
       "      <th>4</th>\n",
       "      <td>1167.846730</td>\n",
       "      <td>1276.082259</td>\n",
       "      <td>1285.489573</td>\n",
       "      <td>1397.622783</td>\n",
       "      <td>1362.821291</td>\n",
       "      <td>931.475097</td>\n",
       "      <td>1308.222838</td>\n",
       "      <td>1321.638651</td>\n",
       "      <td>1127.472760</td>\n",
       "      <td>1316.577477</td>\n",
       "      <td>1414.839236</td>\n",
       "    </tr>\n",
       "  </tbody>\n",
       "</table>\n",
       "</div>"
      ],
      "text/plain": [
       "   EquipmentType  NormalizedRank  Normalized_EQ      BizUnit     BookType   \n",
       "0    1167.846730     1276.082259    1285.489573  1397.622783  1362.821291  \\\n",
       "1    1167.846730     1276.082259    1285.489573  1397.622783  1525.869119   \n",
       "2    1163.274645     1568.820526    1419.329335  1397.622783  1525.869119   \n",
       "3    1167.846730     1568.820526    1285.489573  1397.622783  1362.821291   \n",
       "4    1167.846730     1276.082259    1285.489573  1397.622783  1362.821291   \n",
       "\n",
       "     BuildType  SalesStatus  CommodityCode  LoadDate-Weekday  DelDate-Weekday   \n",
       "0   931.475097  1308.222838    1321.638651       1127.472760      1446.114308  \\\n",
       "1  1781.346110  1308.222838    1321.638651       1658.687189      1316.577477   \n",
       "2  1781.346110   745.107322    1321.638651       1406.654348      1268.843787   \n",
       "3   931.475097  1308.222838    1321.638651       1127.472760      1774.547673   \n",
       "4   931.475097  1308.222838    1321.638651       1127.472760      1316.577477   \n",
       "\n",
       "   CreateDate-Weekday  \n",
       "0         1414.839236  \n",
       "1         1414.839236  \n",
       "2         1414.839236  \n",
       "3         1414.839236  \n",
       "4         1414.839236  "
      ]
     },
     "execution_count": 8,
     "metadata": {},
     "output_type": "execute_result"
    }
   ],
   "source": [
    "df = te.encode()\n",
    "df[categorical_cols].head()"
   ]
  },
  {
   "cell_type": "markdown",
   "metadata": {},
   "source": [
    "feature_scaling()"
   ]
  },
  {
   "cell_type": "code",
   "execution_count": 5,
   "metadata": {},
   "outputs": [
    {
     "data": {
      "text/html": [
       "<div>\n",
       "<style scoped>\n",
       "    .dataframe tbody tr th:only-of-type {\n",
       "        vertical-align: middle;\n",
       "    }\n",
       "\n",
       "    .dataframe tbody tr th {\n",
       "        vertical-align: top;\n",
       "    }\n",
       "\n",
       "    .dataframe thead th {\n",
       "        text-align: right;\n",
       "    }\n",
       "</style>\n",
       "<table border=\"1\" class=\"dataframe\">\n",
       "  <thead>\n",
       "    <tr style=\"text-align: right;\">\n",
       "      <th></th>\n",
       "      <th>Mode</th>\n",
       "      <th>ProgressType</th>\n",
       "      <th>Type</th>\n",
       "      <th>StateType</th>\n",
       "      <th>LoadingPosition</th>\n",
       "      <th>Plan</th>\n",
       "      <th>ShipmentType</th>\n",
       "      <th>EquipmentLength</th>\n",
       "      <th>EquipmentWidth</th>\n",
       "      <th>EquipmentHeight</th>\n",
       "      <th>...</th>\n",
       "      <th>TRUCKD11</th>\n",
       "      <th>DJTA</th>\n",
       "      <th>DTB3</th>\n",
       "      <th>GASREGW</th>\n",
       "      <th>IPG2122N</th>\n",
       "      <th>IPG3361T3S</th>\n",
       "      <th>GDP</th>\n",
       "      <th>PPIACO</th>\n",
       "      <th>BUSINV</th>\n",
       "      <th>PCU48414841</th>\n",
       "    </tr>\n",
       "  </thead>\n",
       "  <tbody>\n",
       "    <tr>\n",
       "      <th>0</th>\n",
       "      <td>2</td>\n",
       "      <td>8</td>\n",
       "      <td>1</td>\n",
       "      <td>1</td>\n",
       "      <td>0</td>\n",
       "      <td>0</td>\n",
       "      <td>1</td>\n",
       "      <td>53</td>\n",
       "      <td>0</td>\n",
       "      <td>0</td>\n",
       "      <td>...</td>\n",
       "      <td>115.9</td>\n",
       "      <td>13738.04</td>\n",
       "      <td>4.2</td>\n",
       "      <td>3.239</td>\n",
       "      <td>91.7098</td>\n",
       "      <td>102.9025</td>\n",
       "      <td>26137.992</td>\n",
       "      <td>257.897</td>\n",
       "      <td>2545624</td>\n",
       "      <td>207.137</td>\n",
       "    </tr>\n",
       "    <tr>\n",
       "      <th>1</th>\n",
       "      <td>1</td>\n",
       "      <td>8</td>\n",
       "      <td>1</td>\n",
       "      <td>1</td>\n",
       "      <td>2</td>\n",
       "      <td>0</td>\n",
       "      <td>1</td>\n",
       "      <td>53</td>\n",
       "      <td>0</td>\n",
       "      <td>0</td>\n",
       "      <td>...</td>\n",
       "      <td>115.9</td>\n",
       "      <td>13738.04</td>\n",
       "      <td>4.2</td>\n",
       "      <td>3.239</td>\n",
       "      <td>91.7098</td>\n",
       "      <td>102.9025</td>\n",
       "      <td>26137.992</td>\n",
       "      <td>257.897</td>\n",
       "      <td>2545624</td>\n",
       "      <td>207.137</td>\n",
       "    </tr>\n",
       "    <tr>\n",
       "      <th>2</th>\n",
       "      <td>1</td>\n",
       "      <td>8</td>\n",
       "      <td>2</td>\n",
       "      <td>1</td>\n",
       "      <td>2</td>\n",
       "      <td>0</td>\n",
       "      <td>5</td>\n",
       "      <td>48</td>\n",
       "      <td>0</td>\n",
       "      <td>0</td>\n",
       "      <td>...</td>\n",
       "      <td>115.9</td>\n",
       "      <td>13738.04</td>\n",
       "      <td>4.2</td>\n",
       "      <td>3.239</td>\n",
       "      <td>91.7098</td>\n",
       "      <td>102.9025</td>\n",
       "      <td>26137.992</td>\n",
       "      <td>257.897</td>\n",
       "      <td>2545624</td>\n",
       "      <td>207.137</td>\n",
       "    </tr>\n",
       "    <tr>\n",
       "      <th>3</th>\n",
       "      <td>1</td>\n",
       "      <td>8</td>\n",
       "      <td>1</td>\n",
       "      <td>1</td>\n",
       "      <td>2</td>\n",
       "      <td>0</td>\n",
       "      <td>1</td>\n",
       "      <td>48</td>\n",
       "      <td>0</td>\n",
       "      <td>0</td>\n",
       "      <td>...</td>\n",
       "      <td>115.9</td>\n",
       "      <td>13738.04</td>\n",
       "      <td>4.2</td>\n",
       "      <td>3.239</td>\n",
       "      <td>91.7098</td>\n",
       "      <td>102.9025</td>\n",
       "      <td>26137.992</td>\n",
       "      <td>257.897</td>\n",
       "      <td>2545624</td>\n",
       "      <td>207.137</td>\n",
       "    </tr>\n",
       "    <tr>\n",
       "      <th>4</th>\n",
       "      <td>2</td>\n",
       "      <td>8</td>\n",
       "      <td>1</td>\n",
       "      <td>1</td>\n",
       "      <td>0</td>\n",
       "      <td>0</td>\n",
       "      <td>1</td>\n",
       "      <td>53</td>\n",
       "      <td>0</td>\n",
       "      <td>0</td>\n",
       "      <td>...</td>\n",
       "      <td>115.9</td>\n",
       "      <td>13738.04</td>\n",
       "      <td>4.2</td>\n",
       "      <td>3.239</td>\n",
       "      <td>91.7098</td>\n",
       "      <td>102.9025</td>\n",
       "      <td>26137.992</td>\n",
       "      <td>257.897</td>\n",
       "      <td>2545624</td>\n",
       "      <td>207.137</td>\n",
       "    </tr>\n",
       "    <tr>\n",
       "      <th>...</th>\n",
       "      <td>...</td>\n",
       "      <td>...</td>\n",
       "      <td>...</td>\n",
       "      <td>...</td>\n",
       "      <td>...</td>\n",
       "      <td>...</td>\n",
       "      <td>...</td>\n",
       "      <td>...</td>\n",
       "      <td>...</td>\n",
       "      <td>...</td>\n",
       "      <td>...</td>\n",
       "      <td>...</td>\n",
       "      <td>...</td>\n",
       "      <td>...</td>\n",
       "      <td>...</td>\n",
       "      <td>...</td>\n",
       "      <td>...</td>\n",
       "      <td>...</td>\n",
       "      <td>...</td>\n",
       "      <td>...</td>\n",
       "      <td>...</td>\n",
       "    </tr>\n",
       "    <tr>\n",
       "      <th>995</th>\n",
       "      <td>1</td>\n",
       "      <td>8</td>\n",
       "      <td>1</td>\n",
       "      <td>1</td>\n",
       "      <td>2</td>\n",
       "      <td>0</td>\n",
       "      <td>0</td>\n",
       "      <td>53</td>\n",
       "      <td>0</td>\n",
       "      <td>0</td>\n",
       "      <td>...</td>\n",
       "      <td>115.9</td>\n",
       "      <td>13738.04</td>\n",
       "      <td>4.2</td>\n",
       "      <td>3.239</td>\n",
       "      <td>91.7098</td>\n",
       "      <td>102.9025</td>\n",
       "      <td>26137.992</td>\n",
       "      <td>257.897</td>\n",
       "      <td>2545624</td>\n",
       "      <td>207.137</td>\n",
       "    </tr>\n",
       "    <tr>\n",
       "      <th>996</th>\n",
       "      <td>1</td>\n",
       "      <td>8</td>\n",
       "      <td>1</td>\n",
       "      <td>1</td>\n",
       "      <td>2</td>\n",
       "      <td>0</td>\n",
       "      <td>1</td>\n",
       "      <td>53</td>\n",
       "      <td>0</td>\n",
       "      <td>0</td>\n",
       "      <td>...</td>\n",
       "      <td>115.9</td>\n",
       "      <td>13738.04</td>\n",
       "      <td>4.2</td>\n",
       "      <td>3.239</td>\n",
       "      <td>91.7098</td>\n",
       "      <td>102.9025</td>\n",
       "      <td>26137.992</td>\n",
       "      <td>257.897</td>\n",
       "      <td>2545624</td>\n",
       "      <td>207.137</td>\n",
       "    </tr>\n",
       "    <tr>\n",
       "      <th>997</th>\n",
       "      <td>1</td>\n",
       "      <td>8</td>\n",
       "      <td>1</td>\n",
       "      <td>1</td>\n",
       "      <td>2</td>\n",
       "      <td>0</td>\n",
       "      <td>1</td>\n",
       "      <td>18</td>\n",
       "      <td>0</td>\n",
       "      <td>0</td>\n",
       "      <td>...</td>\n",
       "      <td>115.9</td>\n",
       "      <td>13738.04</td>\n",
       "      <td>4.2</td>\n",
       "      <td>3.239</td>\n",
       "      <td>91.7098</td>\n",
       "      <td>102.9025</td>\n",
       "      <td>26137.992</td>\n",
       "      <td>257.897</td>\n",
       "      <td>2545624</td>\n",
       "      <td>207.137</td>\n",
       "    </tr>\n",
       "    <tr>\n",
       "      <th>998</th>\n",
       "      <td>1</td>\n",
       "      <td>8</td>\n",
       "      <td>1</td>\n",
       "      <td>1</td>\n",
       "      <td>2</td>\n",
       "      <td>0</td>\n",
       "      <td>0</td>\n",
       "      <td>53</td>\n",
       "      <td>102</td>\n",
       "      <td>0</td>\n",
       "      <td>...</td>\n",
       "      <td>115.9</td>\n",
       "      <td>13738.04</td>\n",
       "      <td>4.2</td>\n",
       "      <td>3.239</td>\n",
       "      <td>91.7098</td>\n",
       "      <td>102.9025</td>\n",
       "      <td>26137.992</td>\n",
       "      <td>257.897</td>\n",
       "      <td>2545624</td>\n",
       "      <td>207.137</td>\n",
       "    </tr>\n",
       "    <tr>\n",
       "      <th>999</th>\n",
       "      <td>1</td>\n",
       "      <td>8</td>\n",
       "      <td>1</td>\n",
       "      <td>1</td>\n",
       "      <td>2</td>\n",
       "      <td>0</td>\n",
       "      <td>0</td>\n",
       "      <td>53</td>\n",
       "      <td>0</td>\n",
       "      <td>0</td>\n",
       "      <td>...</td>\n",
       "      <td>115.9</td>\n",
       "      <td>13738.04</td>\n",
       "      <td>4.2</td>\n",
       "      <td>3.239</td>\n",
       "      <td>91.7098</td>\n",
       "      <td>102.9025</td>\n",
       "      <td>26137.992</td>\n",
       "      <td>257.897</td>\n",
       "      <td>2545624</td>\n",
       "      <td>207.137</td>\n",
       "    </tr>\n",
       "  </tbody>\n",
       "</table>\n",
       "<p>1000 rows × 67 columns</p>\n",
       "</div>"
      ],
      "text/plain": [
       "     Mode  ProgressType  Type  StateType  LoadingPosition  Plan  ShipmentType   \n",
       "0       2             8     1          1                0     0             1  \\\n",
       "1       1             8     1          1                2     0             1   \n",
       "2       1             8     2          1                2     0             5   \n",
       "3       1             8     1          1                2     0             1   \n",
       "4       2             8     1          1                0     0             1   \n",
       "..    ...           ...   ...        ...              ...   ...           ...   \n",
       "995     1             8     1          1                2     0             0   \n",
       "996     1             8     1          1                2     0             1   \n",
       "997     1             8     1          1                2     0             1   \n",
       "998     1             8     1          1                2     0             0   \n",
       "999     1             8     1          1                2     0             0   \n",
       "\n",
       "     EquipmentLength  EquipmentWidth  EquipmentHeight  ...  TRUCKD11   \n",
       "0                 53               0                0  ...     115.9  \\\n",
       "1                 53               0                0  ...     115.9   \n",
       "2                 48               0                0  ...     115.9   \n",
       "3                 48               0                0  ...     115.9   \n",
       "4                 53               0                0  ...     115.9   \n",
       "..               ...             ...              ...  ...       ...   \n",
       "995               53               0                0  ...     115.9   \n",
       "996               53               0                0  ...     115.9   \n",
       "997               18               0                0  ...     115.9   \n",
       "998               53             102                0  ...     115.9   \n",
       "999               53               0                0  ...     115.9   \n",
       "\n",
       "         DJTA  DTB3  GASREGW  IPG2122N  IPG3361T3S        GDP   PPIACO   \n",
       "0    13738.04   4.2    3.239   91.7098    102.9025  26137.992  257.897  \\\n",
       "1    13738.04   4.2    3.239   91.7098    102.9025  26137.992  257.897   \n",
       "2    13738.04   4.2    3.239   91.7098    102.9025  26137.992  257.897   \n",
       "3    13738.04   4.2    3.239   91.7098    102.9025  26137.992  257.897   \n",
       "4    13738.04   4.2    3.239   91.7098    102.9025  26137.992  257.897   \n",
       "..        ...   ...      ...       ...         ...        ...      ...   \n",
       "995  13738.04   4.2    3.239   91.7098    102.9025  26137.992  257.897   \n",
       "996  13738.04   4.2    3.239   91.7098    102.9025  26137.992  257.897   \n",
       "997  13738.04   4.2    3.239   91.7098    102.9025  26137.992  257.897   \n",
       "998  13738.04   4.2    3.239   91.7098    102.9025  26137.992  257.897   \n",
       "999  13738.04   4.2    3.239   91.7098    102.9025  26137.992  257.897   \n",
       "\n",
       "      BUSINV  PCU48414841  \n",
       "0    2545624      207.137  \n",
       "1    2545624      207.137  \n",
       "2    2545624      207.137  \n",
       "3    2545624      207.137  \n",
       "4    2545624      207.137  \n",
       "..       ...          ...  \n",
       "995  2545624      207.137  \n",
       "996  2545624      207.137  \n",
       "997  2545624      207.137  \n",
       "998  2545624      207.137  \n",
       "999  2545624      207.137  \n",
       "\n",
       "[1000 rows x 67 columns]"
      ]
     },
     "execution_count": 5,
     "metadata": {},
     "output_type": "execute_result"
    }
   ],
   "source": [
    "minmax_scaling = MinMaxScaling(df, 'TotalCostUSD')\n",
    "numerical_cols = minmax_scaling.get_columns()\n",
    "df[numerical_cols]"
   ]
  },
  {
   "cell_type": "code",
   "execution_count": 7,
   "metadata": {},
   "outputs": [
    {
     "data": {
      "text/html": [
       "<div>\n",
       "<style scoped>\n",
       "    .dataframe tbody tr th:only-of-type {\n",
       "        vertical-align: middle;\n",
       "    }\n",
       "\n",
       "    .dataframe tbody tr th {\n",
       "        vertical-align: top;\n",
       "    }\n",
       "\n",
       "    .dataframe thead th {\n",
       "        text-align: right;\n",
       "    }\n",
       "</style>\n",
       "<table border=\"1\" class=\"dataframe\">\n",
       "  <thead>\n",
       "    <tr style=\"text-align: right;\">\n",
       "      <th></th>\n",
       "      <th>Mode</th>\n",
       "      <th>ProgressType</th>\n",
       "      <th>Type</th>\n",
       "      <th>StateType</th>\n",
       "      <th>LoadingPosition</th>\n",
       "      <th>Plan</th>\n",
       "      <th>ShipmentType</th>\n",
       "      <th>EquipmentLength</th>\n",
       "      <th>EquipmentWidth</th>\n",
       "      <th>EquipmentHeight</th>\n",
       "      <th>...</th>\n",
       "      <th>TRUCKD11</th>\n",
       "      <th>DJTA</th>\n",
       "      <th>DTB3</th>\n",
       "      <th>GASREGW</th>\n",
       "      <th>IPG2122N</th>\n",
       "      <th>IPG3361T3S</th>\n",
       "      <th>GDP</th>\n",
       "      <th>PPIACO</th>\n",
       "      <th>BUSINV</th>\n",
       "      <th>PCU48414841</th>\n",
       "    </tr>\n",
       "  </thead>\n",
       "  <tbody>\n",
       "    <tr>\n",
       "      <th>0</th>\n",
       "      <td>0.5</td>\n",
       "      <td>0.428571</td>\n",
       "      <td>0.0</td>\n",
       "      <td>0.0</td>\n",
       "      <td>0.0</td>\n",
       "      <td>0.0</td>\n",
       "      <td>0.166667</td>\n",
       "      <td>1.000000</td>\n",
       "      <td>0.0</td>\n",
       "      <td>0.0</td>\n",
       "      <td>...</td>\n",
       "      <td>0.0</td>\n",
       "      <td>0.0</td>\n",
       "      <td>0.0</td>\n",
       "      <td>0.0</td>\n",
       "      <td>0.0</td>\n",
       "      <td>0.0</td>\n",
       "      <td>0.0</td>\n",
       "      <td>0.0</td>\n",
       "      <td>0.0</td>\n",
       "      <td>0.0</td>\n",
       "    </tr>\n",
       "    <tr>\n",
       "      <th>1</th>\n",
       "      <td>0.0</td>\n",
       "      <td>0.428571</td>\n",
       "      <td>0.0</td>\n",
       "      <td>0.0</td>\n",
       "      <td>1.0</td>\n",
       "      <td>0.0</td>\n",
       "      <td>0.166667</td>\n",
       "      <td>1.000000</td>\n",
       "      <td>0.0</td>\n",
       "      <td>0.0</td>\n",
       "      <td>...</td>\n",
       "      <td>0.0</td>\n",
       "      <td>0.0</td>\n",
       "      <td>0.0</td>\n",
       "      <td>0.0</td>\n",
       "      <td>0.0</td>\n",
       "      <td>0.0</td>\n",
       "      <td>0.0</td>\n",
       "      <td>0.0</td>\n",
       "      <td>0.0</td>\n",
       "      <td>0.0</td>\n",
       "    </tr>\n",
       "    <tr>\n",
       "      <th>2</th>\n",
       "      <td>0.0</td>\n",
       "      <td>0.428571</td>\n",
       "      <td>1.0</td>\n",
       "      <td>0.0</td>\n",
       "      <td>1.0</td>\n",
       "      <td>0.0</td>\n",
       "      <td>0.833333</td>\n",
       "      <td>0.905660</td>\n",
       "      <td>0.0</td>\n",
       "      <td>0.0</td>\n",
       "      <td>...</td>\n",
       "      <td>0.0</td>\n",
       "      <td>0.0</td>\n",
       "      <td>0.0</td>\n",
       "      <td>0.0</td>\n",
       "      <td>0.0</td>\n",
       "      <td>0.0</td>\n",
       "      <td>0.0</td>\n",
       "      <td>0.0</td>\n",
       "      <td>0.0</td>\n",
       "      <td>0.0</td>\n",
       "    </tr>\n",
       "    <tr>\n",
       "      <th>3</th>\n",
       "      <td>0.0</td>\n",
       "      <td>0.428571</td>\n",
       "      <td>0.0</td>\n",
       "      <td>0.0</td>\n",
       "      <td>1.0</td>\n",
       "      <td>0.0</td>\n",
       "      <td>0.166667</td>\n",
       "      <td>0.905660</td>\n",
       "      <td>0.0</td>\n",
       "      <td>0.0</td>\n",
       "      <td>...</td>\n",
       "      <td>0.0</td>\n",
       "      <td>0.0</td>\n",
       "      <td>0.0</td>\n",
       "      <td>0.0</td>\n",
       "      <td>0.0</td>\n",
       "      <td>0.0</td>\n",
       "      <td>0.0</td>\n",
       "      <td>0.0</td>\n",
       "      <td>0.0</td>\n",
       "      <td>0.0</td>\n",
       "    </tr>\n",
       "    <tr>\n",
       "      <th>4</th>\n",
       "      <td>0.5</td>\n",
       "      <td>0.428571</td>\n",
       "      <td>0.0</td>\n",
       "      <td>0.0</td>\n",
       "      <td>0.0</td>\n",
       "      <td>0.0</td>\n",
       "      <td>0.166667</td>\n",
       "      <td>1.000000</td>\n",
       "      <td>0.0</td>\n",
       "      <td>0.0</td>\n",
       "      <td>...</td>\n",
       "      <td>0.0</td>\n",
       "      <td>0.0</td>\n",
       "      <td>0.0</td>\n",
       "      <td>0.0</td>\n",
       "      <td>0.0</td>\n",
       "      <td>0.0</td>\n",
       "      <td>0.0</td>\n",
       "      <td>0.0</td>\n",
       "      <td>0.0</td>\n",
       "      <td>0.0</td>\n",
       "    </tr>\n",
       "    <tr>\n",
       "      <th>...</th>\n",
       "      <td>...</td>\n",
       "      <td>...</td>\n",
       "      <td>...</td>\n",
       "      <td>...</td>\n",
       "      <td>...</td>\n",
       "      <td>...</td>\n",
       "      <td>...</td>\n",
       "      <td>...</td>\n",
       "      <td>...</td>\n",
       "      <td>...</td>\n",
       "      <td>...</td>\n",
       "      <td>...</td>\n",
       "      <td>...</td>\n",
       "      <td>...</td>\n",
       "      <td>...</td>\n",
       "      <td>...</td>\n",
       "      <td>...</td>\n",
       "      <td>...</td>\n",
       "      <td>...</td>\n",
       "      <td>...</td>\n",
       "      <td>...</td>\n",
       "    </tr>\n",
       "    <tr>\n",
       "      <th>995</th>\n",
       "      <td>0.0</td>\n",
       "      <td>0.428571</td>\n",
       "      <td>0.0</td>\n",
       "      <td>0.0</td>\n",
       "      <td>1.0</td>\n",
       "      <td>0.0</td>\n",
       "      <td>0.000000</td>\n",
       "      <td>1.000000</td>\n",
       "      <td>0.0</td>\n",
       "      <td>0.0</td>\n",
       "      <td>...</td>\n",
       "      <td>0.0</td>\n",
       "      <td>0.0</td>\n",
       "      <td>0.0</td>\n",
       "      <td>0.0</td>\n",
       "      <td>0.0</td>\n",
       "      <td>0.0</td>\n",
       "      <td>0.0</td>\n",
       "      <td>0.0</td>\n",
       "      <td>0.0</td>\n",
       "      <td>0.0</td>\n",
       "    </tr>\n",
       "    <tr>\n",
       "      <th>996</th>\n",
       "      <td>0.0</td>\n",
       "      <td>0.428571</td>\n",
       "      <td>0.0</td>\n",
       "      <td>0.0</td>\n",
       "      <td>1.0</td>\n",
       "      <td>0.0</td>\n",
       "      <td>0.166667</td>\n",
       "      <td>1.000000</td>\n",
       "      <td>0.0</td>\n",
       "      <td>0.0</td>\n",
       "      <td>...</td>\n",
       "      <td>0.0</td>\n",
       "      <td>0.0</td>\n",
       "      <td>0.0</td>\n",
       "      <td>0.0</td>\n",
       "      <td>0.0</td>\n",
       "      <td>0.0</td>\n",
       "      <td>0.0</td>\n",
       "      <td>0.0</td>\n",
       "      <td>0.0</td>\n",
       "      <td>0.0</td>\n",
       "    </tr>\n",
       "    <tr>\n",
       "      <th>997</th>\n",
       "      <td>0.0</td>\n",
       "      <td>0.428571</td>\n",
       "      <td>0.0</td>\n",
       "      <td>0.0</td>\n",
       "      <td>1.0</td>\n",
       "      <td>0.0</td>\n",
       "      <td>0.166667</td>\n",
       "      <td>0.339623</td>\n",
       "      <td>0.0</td>\n",
       "      <td>0.0</td>\n",
       "      <td>...</td>\n",
       "      <td>0.0</td>\n",
       "      <td>0.0</td>\n",
       "      <td>0.0</td>\n",
       "      <td>0.0</td>\n",
       "      <td>0.0</td>\n",
       "      <td>0.0</td>\n",
       "      <td>0.0</td>\n",
       "      <td>0.0</td>\n",
       "      <td>0.0</td>\n",
       "      <td>0.0</td>\n",
       "    </tr>\n",
       "    <tr>\n",
       "      <th>998</th>\n",
       "      <td>0.0</td>\n",
       "      <td>0.428571</td>\n",
       "      <td>0.0</td>\n",
       "      <td>0.0</td>\n",
       "      <td>1.0</td>\n",
       "      <td>0.0</td>\n",
       "      <td>0.000000</td>\n",
       "      <td>1.000000</td>\n",
       "      <td>1.0</td>\n",
       "      <td>0.0</td>\n",
       "      <td>...</td>\n",
       "      <td>0.0</td>\n",
       "      <td>0.0</td>\n",
       "      <td>0.0</td>\n",
       "      <td>0.0</td>\n",
       "      <td>0.0</td>\n",
       "      <td>0.0</td>\n",
       "      <td>0.0</td>\n",
       "      <td>0.0</td>\n",
       "      <td>0.0</td>\n",
       "      <td>0.0</td>\n",
       "    </tr>\n",
       "    <tr>\n",
       "      <th>999</th>\n",
       "      <td>0.0</td>\n",
       "      <td>0.428571</td>\n",
       "      <td>0.0</td>\n",
       "      <td>0.0</td>\n",
       "      <td>1.0</td>\n",
       "      <td>0.0</td>\n",
       "      <td>0.000000</td>\n",
       "      <td>1.000000</td>\n",
       "      <td>0.0</td>\n",
       "      <td>0.0</td>\n",
       "      <td>...</td>\n",
       "      <td>0.0</td>\n",
       "      <td>0.0</td>\n",
       "      <td>0.0</td>\n",
       "      <td>0.0</td>\n",
       "      <td>0.0</td>\n",
       "      <td>0.0</td>\n",
       "      <td>0.0</td>\n",
       "      <td>0.0</td>\n",
       "      <td>0.0</td>\n",
       "      <td>0.0</td>\n",
       "    </tr>\n",
       "  </tbody>\n",
       "</table>\n",
       "<p>1000 rows × 67 columns</p>\n",
       "</div>"
      ],
      "text/plain": [
       "     Mode  ProgressType  Type  StateType  LoadingPosition  Plan  ShipmentType   \n",
       "0     0.5      0.428571   0.0        0.0              0.0   0.0      0.166667  \\\n",
       "1     0.0      0.428571   0.0        0.0              1.0   0.0      0.166667   \n",
       "2     0.0      0.428571   1.0        0.0              1.0   0.0      0.833333   \n",
       "3     0.0      0.428571   0.0        0.0              1.0   0.0      0.166667   \n",
       "4     0.5      0.428571   0.0        0.0              0.0   0.0      0.166667   \n",
       "..    ...           ...   ...        ...              ...   ...           ...   \n",
       "995   0.0      0.428571   0.0        0.0              1.0   0.0      0.000000   \n",
       "996   0.0      0.428571   0.0        0.0              1.0   0.0      0.166667   \n",
       "997   0.0      0.428571   0.0        0.0              1.0   0.0      0.166667   \n",
       "998   0.0      0.428571   0.0        0.0              1.0   0.0      0.000000   \n",
       "999   0.0      0.428571   0.0        0.0              1.0   0.0      0.000000   \n",
       "\n",
       "     EquipmentLength  EquipmentWidth  EquipmentHeight  ...  TRUCKD11  DJTA   \n",
       "0           1.000000             0.0              0.0  ...       0.0   0.0  \\\n",
       "1           1.000000             0.0              0.0  ...       0.0   0.0   \n",
       "2           0.905660             0.0              0.0  ...       0.0   0.0   \n",
       "3           0.905660             0.0              0.0  ...       0.0   0.0   \n",
       "4           1.000000             0.0              0.0  ...       0.0   0.0   \n",
       "..               ...             ...              ...  ...       ...   ...   \n",
       "995         1.000000             0.0              0.0  ...       0.0   0.0   \n",
       "996         1.000000             0.0              0.0  ...       0.0   0.0   \n",
       "997         0.339623             0.0              0.0  ...       0.0   0.0   \n",
       "998         1.000000             1.0              0.0  ...       0.0   0.0   \n",
       "999         1.000000             0.0              0.0  ...       0.0   0.0   \n",
       "\n",
       "     DTB3  GASREGW  IPG2122N  IPG3361T3S  GDP  PPIACO  BUSINV  PCU48414841  \n",
       "0     0.0      0.0       0.0         0.0  0.0     0.0     0.0          0.0  \n",
       "1     0.0      0.0       0.0         0.0  0.0     0.0     0.0          0.0  \n",
       "2     0.0      0.0       0.0         0.0  0.0     0.0     0.0          0.0  \n",
       "3     0.0      0.0       0.0         0.0  0.0     0.0     0.0          0.0  \n",
       "4     0.0      0.0       0.0         0.0  0.0     0.0     0.0          0.0  \n",
       "..    ...      ...       ...         ...  ...     ...     ...          ...  \n",
       "995   0.0      0.0       0.0         0.0  0.0     0.0     0.0          0.0  \n",
       "996   0.0      0.0       0.0         0.0  0.0     0.0     0.0          0.0  \n",
       "997   0.0      0.0       0.0         0.0  0.0     0.0     0.0          0.0  \n",
       "998   0.0      0.0       0.0         0.0  0.0     0.0     0.0          0.0  \n",
       "999   0.0      0.0       0.0         0.0  0.0     0.0     0.0          0.0  \n",
       "\n",
       "[1000 rows x 67 columns]"
      ]
     },
     "execution_count": 7,
     "metadata": {},
     "output_type": "execute_result"
    }
   ],
   "source": [
    "df = minmax_scaling.scale()\n",
    "df[numerical_cols]"
   ]
  },
  {
   "cell_type": "markdown",
   "metadata": {},
   "source": [
    "encoding & scaling"
   ]
  },
  {
   "cell_type": "code",
   "execution_count": 3,
   "metadata": {},
   "outputs": [],
   "source": [
    "data_preprocessing = DataPreprocessing(df, 'TotalCostUSD')"
   ]
  },
  {
   "cell_type": "code",
   "execution_count": 4,
   "metadata": {},
   "outputs": [
    {
     "data": {
      "text/html": [
       "<div>\n",
       "<style scoped>\n",
       "    .dataframe tbody tr th:only-of-type {\n",
       "        vertical-align: middle;\n",
       "    }\n",
       "\n",
       "    .dataframe tbody tr th {\n",
       "        vertical-align: top;\n",
       "    }\n",
       "\n",
       "    .dataframe thead th {\n",
       "        text-align: right;\n",
       "    }\n",
       "</style>\n",
       "<table border=\"1\" class=\"dataframe\">\n",
       "  <thead>\n",
       "    <tr style=\"text-align: right;\">\n",
       "      <th></th>\n",
       "      <th>TotalCostUSD</th>\n",
       "      <th>Mode</th>\n",
       "      <th>ProgressType</th>\n",
       "      <th>Type</th>\n",
       "      <th>StateType</th>\n",
       "      <th>LoadingPosition</th>\n",
       "      <th>Plan</th>\n",
       "      <th>ShipmentType</th>\n",
       "      <th>EquipmentType</th>\n",
       "      <th>EquipmentLength</th>\n",
       "      <th>...</th>\n",
       "      <th>TRUCKD11</th>\n",
       "      <th>DJTA</th>\n",
       "      <th>DTB3</th>\n",
       "      <th>GASREGW</th>\n",
       "      <th>IPG2122N</th>\n",
       "      <th>IPG3361T3S</th>\n",
       "      <th>GDP</th>\n",
       "      <th>PPIACO</th>\n",
       "      <th>BUSINV</th>\n",
       "      <th>PCU48414841</th>\n",
       "    </tr>\n",
       "  </thead>\n",
       "  <tbody>\n",
       "    <tr>\n",
       "      <th>0</th>\n",
       "      <td>423.82</td>\n",
       "      <td>2</td>\n",
       "      <td>8</td>\n",
       "      <td>1</td>\n",
       "      <td>1</td>\n",
       "      <td>0</td>\n",
       "      <td>0</td>\n",
       "      <td>1</td>\n",
       "      <td>V</td>\n",
       "      <td>53</td>\n",
       "      <td>...</td>\n",
       "      <td>115.9</td>\n",
       "      <td>13738.04</td>\n",
       "      <td>4.2</td>\n",
       "      <td>3.239</td>\n",
       "      <td>91.7098</td>\n",
       "      <td>102.9025</td>\n",
       "      <td>26137.992</td>\n",
       "      <td>257.897</td>\n",
       "      <td>2545624</td>\n",
       "      <td>207.137</td>\n",
       "    </tr>\n",
       "    <tr>\n",
       "      <th>1</th>\n",
       "      <td>1300.00</td>\n",
       "      <td>1</td>\n",
       "      <td>8</td>\n",
       "      <td>1</td>\n",
       "      <td>1</td>\n",
       "      <td>2</td>\n",
       "      <td>0</td>\n",
       "      <td>1</td>\n",
       "      <td>V</td>\n",
       "      <td>53</td>\n",
       "      <td>...</td>\n",
       "      <td>115.9</td>\n",
       "      <td>13738.04</td>\n",
       "      <td>4.2</td>\n",
       "      <td>3.239</td>\n",
       "      <td>91.7098</td>\n",
       "      <td>102.9025</td>\n",
       "      <td>26137.992</td>\n",
       "      <td>257.897</td>\n",
       "      <td>2545624</td>\n",
       "      <td>207.137</td>\n",
       "    </tr>\n",
       "    <tr>\n",
       "      <th>2</th>\n",
       "      <td>300.00</td>\n",
       "      <td>1</td>\n",
       "      <td>8</td>\n",
       "      <td>2</td>\n",
       "      <td>1</td>\n",
       "      <td>2</td>\n",
       "      <td>0</td>\n",
       "      <td>5</td>\n",
       "      <td>F</td>\n",
       "      <td>48</td>\n",
       "      <td>...</td>\n",
       "      <td>115.9</td>\n",
       "      <td>13738.04</td>\n",
       "      <td>4.2</td>\n",
       "      <td>3.239</td>\n",
       "      <td>91.7098</td>\n",
       "      <td>102.9025</td>\n",
       "      <td>26137.992</td>\n",
       "      <td>257.897</td>\n",
       "      <td>2545624</td>\n",
       "      <td>207.137</td>\n",
       "    </tr>\n",
       "    <tr>\n",
       "      <th>3</th>\n",
       "      <td>873.00</td>\n",
       "      <td>1</td>\n",
       "      <td>8</td>\n",
       "      <td>1</td>\n",
       "      <td>1</td>\n",
       "      <td>2</td>\n",
       "      <td>0</td>\n",
       "      <td>1</td>\n",
       "      <td>V</td>\n",
       "      <td>48</td>\n",
       "      <td>...</td>\n",
       "      <td>115.9</td>\n",
       "      <td>13738.04</td>\n",
       "      <td>4.2</td>\n",
       "      <td>3.239</td>\n",
       "      <td>91.7098</td>\n",
       "      <td>102.9025</td>\n",
       "      <td>26137.992</td>\n",
       "      <td>257.897</td>\n",
       "      <td>2545624</td>\n",
       "      <td>207.137</td>\n",
       "    </tr>\n",
       "    <tr>\n",
       "      <th>4</th>\n",
       "      <td>267.48</td>\n",
       "      <td>2</td>\n",
       "      <td>8</td>\n",
       "      <td>1</td>\n",
       "      <td>1</td>\n",
       "      <td>0</td>\n",
       "      <td>0</td>\n",
       "      <td>1</td>\n",
       "      <td>V</td>\n",
       "      <td>53</td>\n",
       "      <td>...</td>\n",
       "      <td>115.9</td>\n",
       "      <td>13738.04</td>\n",
       "      <td>4.2</td>\n",
       "      <td>3.239</td>\n",
       "      <td>91.7098</td>\n",
       "      <td>102.9025</td>\n",
       "      <td>26137.992</td>\n",
       "      <td>257.897</td>\n",
       "      <td>2545624</td>\n",
       "      <td>207.137</td>\n",
       "    </tr>\n",
       "  </tbody>\n",
       "</table>\n",
       "<p>5 rows × 99 columns</p>\n",
       "</div>"
      ],
      "text/plain": [
       "   TotalCostUSD  Mode  ProgressType  Type  StateType  LoadingPosition  Plan   \n",
       "0        423.82     2             8     1          1                0     0  \\\n",
       "1       1300.00     1             8     1          1                2     0   \n",
       "2        300.00     1             8     2          1                2     0   \n",
       "3        873.00     1             8     1          1                2     0   \n",
       "4        267.48     2             8     1          1                0     0   \n",
       "\n",
       "   ShipmentType EquipmentType  EquipmentLength  ...  TRUCKD11      DJTA  DTB3   \n",
       "0             1             V               53  ...     115.9  13738.04   4.2  \\\n",
       "1             1             V               53  ...     115.9  13738.04   4.2   \n",
       "2             5             F               48  ...     115.9  13738.04   4.2   \n",
       "3             1             V               48  ...     115.9  13738.04   4.2   \n",
       "4             1             V               53  ...     115.9  13738.04   4.2   \n",
       "\n",
       "   GASREGW  IPG2122N  IPG3361T3S        GDP   PPIACO   BUSINV  PCU48414841  \n",
       "0    3.239   91.7098    102.9025  26137.992  257.897  2545624      207.137  \n",
       "1    3.239   91.7098    102.9025  26137.992  257.897  2545624      207.137  \n",
       "2    3.239   91.7098    102.9025  26137.992  257.897  2545624      207.137  \n",
       "3    3.239   91.7098    102.9025  26137.992  257.897  2545624      207.137  \n",
       "4    3.239   91.7098    102.9025  26137.992  257.897  2545624      207.137  \n",
       "\n",
       "[5 rows x 99 columns]"
      ]
     },
     "execution_count": 4,
     "metadata": {},
     "output_type": "execute_result"
    }
   ],
   "source": [
    "df.head()"
   ]
  },
  {
   "cell_type": "code",
   "execution_count": 5,
   "metadata": {},
   "outputs": [
    {
     "data": {
      "text/html": [
       "<div>\n",
       "<style scoped>\n",
       "    .dataframe tbody tr th:only-of-type {\n",
       "        vertical-align: middle;\n",
       "    }\n",
       "\n",
       "    .dataframe tbody tr th {\n",
       "        vertical-align: top;\n",
       "    }\n",
       "\n",
       "    .dataframe thead th {\n",
       "        text-align: right;\n",
       "    }\n",
       "</style>\n",
       "<table border=\"1\" class=\"dataframe\">\n",
       "  <thead>\n",
       "    <tr style=\"text-align: right;\">\n",
       "      <th></th>\n",
       "      <th>Mode</th>\n",
       "      <th>ProgressType</th>\n",
       "      <th>Type</th>\n",
       "      <th>StateType</th>\n",
       "      <th>LoadingPosition</th>\n",
       "      <th>Plan</th>\n",
       "      <th>ShipmentType</th>\n",
       "      <th>EquipmentType</th>\n",
       "      <th>EquipmentLength</th>\n",
       "      <th>EquipmentWidth</th>\n",
       "      <th>...</th>\n",
       "      <th>DJTA</th>\n",
       "      <th>DTB3</th>\n",
       "      <th>GASREGW</th>\n",
       "      <th>IPG2122N</th>\n",
       "      <th>IPG3361T3S</th>\n",
       "      <th>GDP</th>\n",
       "      <th>PPIACO</th>\n",
       "      <th>BUSINV</th>\n",
       "      <th>PCU48414841</th>\n",
       "      <th>TotalCostUSD</th>\n",
       "    </tr>\n",
       "  </thead>\n",
       "  <tbody>\n",
       "    <tr>\n",
       "      <th>0</th>\n",
       "      <td>0.5</td>\n",
       "      <td>0.428571</td>\n",
       "      <td>0.0</td>\n",
       "      <td>0.0</td>\n",
       "      <td>0.0</td>\n",
       "      <td>0.0</td>\n",
       "      <td>0.166667</td>\n",
       "      <td>0.003914</td>\n",
       "      <td>1.00000</td>\n",
       "      <td>0.0</td>\n",
       "      <td>...</td>\n",
       "      <td>0.0</td>\n",
       "      <td>0.0</td>\n",
       "      <td>0.0</td>\n",
       "      <td>0.0</td>\n",
       "      <td>0.0</td>\n",
       "      <td>0.0</td>\n",
       "      <td>0.0</td>\n",
       "      <td>0.0</td>\n",
       "      <td>0.0</td>\n",
       "      <td>423.82</td>\n",
       "    </tr>\n",
       "    <tr>\n",
       "      <th>1</th>\n",
       "      <td>0.0</td>\n",
       "      <td>0.428571</td>\n",
       "      <td>0.0</td>\n",
       "      <td>0.0</td>\n",
       "      <td>1.0</td>\n",
       "      <td>0.0</td>\n",
       "      <td>0.166667</td>\n",
       "      <td>0.003914</td>\n",
       "      <td>1.00000</td>\n",
       "      <td>0.0</td>\n",
       "      <td>...</td>\n",
       "      <td>0.0</td>\n",
       "      <td>0.0</td>\n",
       "      <td>0.0</td>\n",
       "      <td>0.0</td>\n",
       "      <td>0.0</td>\n",
       "      <td>0.0</td>\n",
       "      <td>0.0</td>\n",
       "      <td>0.0</td>\n",
       "      <td>0.0</td>\n",
       "      <td>1300.00</td>\n",
       "    </tr>\n",
       "    <tr>\n",
       "      <th>2</th>\n",
       "      <td>0.0</td>\n",
       "      <td>0.428571</td>\n",
       "      <td>1.0</td>\n",
       "      <td>0.0</td>\n",
       "      <td>1.0</td>\n",
       "      <td>0.0</td>\n",
       "      <td>0.833333</td>\n",
       "      <td>0.000000</td>\n",
       "      <td>0.90566</td>\n",
       "      <td>0.0</td>\n",
       "      <td>...</td>\n",
       "      <td>0.0</td>\n",
       "      <td>0.0</td>\n",
       "      <td>0.0</td>\n",
       "      <td>0.0</td>\n",
       "      <td>0.0</td>\n",
       "      <td>0.0</td>\n",
       "      <td>0.0</td>\n",
       "      <td>0.0</td>\n",
       "      <td>0.0</td>\n",
       "      <td>300.00</td>\n",
       "    </tr>\n",
       "    <tr>\n",
       "      <th>3</th>\n",
       "      <td>0.0</td>\n",
       "      <td>0.428571</td>\n",
       "      <td>0.0</td>\n",
       "      <td>0.0</td>\n",
       "      <td>1.0</td>\n",
       "      <td>0.0</td>\n",
       "      <td>0.166667</td>\n",
       "      <td>0.003914</td>\n",
       "      <td>0.90566</td>\n",
       "      <td>0.0</td>\n",
       "      <td>...</td>\n",
       "      <td>0.0</td>\n",
       "      <td>0.0</td>\n",
       "      <td>0.0</td>\n",
       "      <td>0.0</td>\n",
       "      <td>0.0</td>\n",
       "      <td>0.0</td>\n",
       "      <td>0.0</td>\n",
       "      <td>0.0</td>\n",
       "      <td>0.0</td>\n",
       "      <td>873.00</td>\n",
       "    </tr>\n",
       "    <tr>\n",
       "      <th>4</th>\n",
       "      <td>0.5</td>\n",
       "      <td>0.428571</td>\n",
       "      <td>0.0</td>\n",
       "      <td>0.0</td>\n",
       "      <td>0.0</td>\n",
       "      <td>0.0</td>\n",
       "      <td>0.166667</td>\n",
       "      <td>0.003914</td>\n",
       "      <td>1.00000</td>\n",
       "      <td>0.0</td>\n",
       "      <td>...</td>\n",
       "      <td>0.0</td>\n",
       "      <td>0.0</td>\n",
       "      <td>0.0</td>\n",
       "      <td>0.0</td>\n",
       "      <td>0.0</td>\n",
       "      <td>0.0</td>\n",
       "      <td>0.0</td>\n",
       "      <td>0.0</td>\n",
       "      <td>0.0</td>\n",
       "      <td>267.48</td>\n",
       "    </tr>\n",
       "  </tbody>\n",
       "</table>\n",
       "<p>5 rows × 99 columns</p>\n",
       "</div>"
      ],
      "text/plain": [
       "   Mode  ProgressType  Type  StateType  LoadingPosition  Plan  ShipmentType   \n",
       "0   0.5      0.428571   0.0        0.0              0.0   0.0      0.166667  \\\n",
       "1   0.0      0.428571   0.0        0.0              1.0   0.0      0.166667   \n",
       "2   0.0      0.428571   1.0        0.0              1.0   0.0      0.833333   \n",
       "3   0.0      0.428571   0.0        0.0              1.0   0.0      0.166667   \n",
       "4   0.5      0.428571   0.0        0.0              0.0   0.0      0.166667   \n",
       "\n",
       "   EquipmentType  EquipmentLength  EquipmentWidth  ...  DJTA  DTB3  GASREGW   \n",
       "0       0.003914          1.00000             0.0  ...   0.0   0.0      0.0  \\\n",
       "1       0.003914          1.00000             0.0  ...   0.0   0.0      0.0   \n",
       "2       0.000000          0.90566             0.0  ...   0.0   0.0      0.0   \n",
       "3       0.003914          0.90566             0.0  ...   0.0   0.0      0.0   \n",
       "4       0.003914          1.00000             0.0  ...   0.0   0.0      0.0   \n",
       "\n",
       "   IPG2122N  IPG3361T3S  GDP  PPIACO  BUSINV  PCU48414841  TotalCostUSD  \n",
       "0       0.0         0.0  0.0     0.0     0.0          0.0        423.82  \n",
       "1       0.0         0.0  0.0     0.0     0.0          0.0       1300.00  \n",
       "2       0.0         0.0  0.0     0.0     0.0          0.0        300.00  \n",
       "3       0.0         0.0  0.0     0.0     0.0          0.0        873.00  \n",
       "4       0.0         0.0  0.0     0.0     0.0          0.0        267.48  \n",
       "\n",
       "[5 rows x 99 columns]"
      ]
     },
     "execution_count": 5,
     "metadata": {},
     "output_type": "execute_result"
    }
   ],
   "source": [
    "df = data_preprocessing.feature_encoding(df)\n",
    "df = data_preprocessing.feature_scaling(df)\n",
    "df.head()"
   ]
  },
  {
   "cell_type": "code",
   "execution_count": 6,
   "metadata": {},
   "outputs": [
    {
     "name": "stdout",
     "output_type": "stream",
     "text": [
      "Data types summary:\n",
      " float64    99\n",
      "Name: count, dtype: int64\n"
     ]
    }
   ],
   "source": [
    "data_exploration = DataExploration()\n",
    "data_exploration.summarize_data_type(df)"
   ]
  }
 ],
 "metadata": {
  "kernelspec": {
   "display_name": "SQLTool",
   "language": "python",
   "name": "python3"
  },
  "language_info": {
   "codemirror_mode": {
    "name": "ipython",
    "version": 3
   },
   "file_extension": ".py",
   "mimetype": "text/x-python",
   "name": "python",
   "nbconvert_exporter": "python",
   "pygments_lexer": "ipython3",
   "version": "3.11.2"
  },
  "orig_nbformat": 4
 },
 "nbformat": 4,
 "nbformat_minor": 2
}
