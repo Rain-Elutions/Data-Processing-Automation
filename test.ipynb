{
 "cells": [
  {
   "cell_type": "code",
   "execution_count": 1,
   "metadata": {},
   "outputs": [],
   "source": [
    "import pandas as pd\n",
    "from Data_Exploration.data_exploration_main import DataExploration\n",
    "from Data_Cleansing.data_cleansing_main import DataCleansing\n",
    "from Data_Cleansing.data_cleansing_main import FillMissingByMean, FillMissingByMedian, \\\n",
    "    FillMissingByMode, FillMissingByLastKnownValue, FillMissingByNextKnownValue, NotFill"
   ]
  },
  {
   "cell_type": "code",
   "execution_count": 3,
   "metadata": {},
   "outputs": [],
   "source": [
    "# data_exp = DataExploration()\n",
    "\n",
    "# df = data_exp.load_data('./data/raw_data/Savola_RO_BLEACHING_raw_df.csv', index_col=0, parse_dates=True)\n",
    "# df.head()"
   ]
  },
  {
   "cell_type": "code",
   "execution_count": 8,
   "metadata": {},
   "outputs": [],
   "source": [
    "# df_sample = df.head(1000)\n",
    "# df_sample.to_csv('./data/Savola_RO_BLEACHING_sample.csv')"
   ]
  },
  {
   "cell_type": "code",
   "execution_count": 4,
   "metadata": {},
   "outputs": [],
   "source": [
    "# data = pd.read_pickle('./data/coyote_data_sample_1000.pickle')\n",
    "# data.head()"
   ]
  },
  {
   "cell_type": "code",
   "execution_count": 5,
   "metadata": {},
   "outputs": [],
   "source": [
    "# # print all unique values in the column CommodityCode\n",
    "# print(data['CommodityCode'].unique())\n",
    "# # does this column contain any null values?\n",
    "# print(data['CommodityCode'].isnull().sum())"
   ]
  },
  {
   "cell_type": "code",
   "execution_count": 4,
   "metadata": {},
   "outputs": [],
   "source": [
    "# data_sample = data.head(100)\n",
    "# data_sample.to_excel('./data/coyote_data_sample_100.xlsx', index=False)"
   ]
  },
  {
   "cell_type": "markdown",
   "metadata": {},
   "source": [
    "### Test DataExploration Module"
   ]
  },
  {
   "cell_type": "code",
   "execution_count": 2,
   "metadata": {},
   "outputs": [],
   "source": [
    "data_exp = DataExploration()"
   ]
  },
  {
   "cell_type": "markdown",
   "metadata": {},
   "source": [
    "load_data() function"
   ]
  },
  {
   "cell_type": "code",
   "execution_count": 12,
   "metadata": {},
   "outputs": [],
   "source": [
    "# df = data_exp.load_data('./data/lng_data_sample.csv', parse_dates=True, index_col=0)\n",
    "# df = data_exp.load_data('./data/sasol_data_sample.csv', parse_dates=True, index_col=0)\n",
    "# df = data_exp.load_data('./data/coyote_data_sample_100.xlsx', parse_dates=False, index_col=0)\n",
    "# df = data_exp.load_data('./data/coyote_data_sample_1000.pickle', parse_dates=False, index_col=0)\n",
    "# df = data_exp.load_data('./data/Essar_RE_Boilers_B21_sample.csv', parse_dates=True, index_col=0)\n",
    "df = data_exp.load_data('./data/Savola_RO_BLEACHING_sample.csv', parse_dates=True, index_col=0)"
   ]
  },
  {
   "cell_type": "code",
   "execution_count": 22,
   "metadata": {},
   "outputs": [
    {
     "data": {
      "text/html": [
       "<div>\n",
       "<style scoped>\n",
       "    .dataframe tbody tr th:only-of-type {\n",
       "        vertical-align: middle;\n",
       "    }\n",
       "\n",
       "    .dataframe tbody tr th {\n",
       "        vertical-align: top;\n",
       "    }\n",
       "\n",
       "    .dataframe thead th {\n",
       "        text-align: right;\n",
       "    }\n",
       "</style>\n",
       "<table border=\"1\" class=\"dataframe\">\n",
       "  <thead>\n",
       "    <tr style=\"text-align: right;\">\n",
       "      <th></th>\n",
       "      <th>HPBH:221F003 Stanlow</th>\n",
       "      <th>HPBH:221F004 Stanlow</th>\n",
       "      <th>HPBH:221F008 Stanlow</th>\n",
       "      <th>HPBH:221F011 Stanlow</th>\n",
       "      <th>HPBH:221FT009 Stanlow</th>\n",
       "      <th>HPBH:221Q004 Stanlow</th>\n",
       "      <th>HPBH:221QT004 Stanlow</th>\n",
       "      <th>HPBH:221T017 Stanlow</th>\n",
       "      <th>HPBH:221T028 Stanlow</th>\n",
       "      <th>HPBH:221T034 Stanlow</th>\n",
       "      <th>HPBH:221T035 Stanlow</th>\n",
       "      <th>HPBH:221T036 Stanlow</th>\n",
       "      <th>HPBH:221T044 Stanlow</th>\n",
       "      <th>HPBH:221TT031 Stanlow</th>\n",
       "      <th>HPBH:221TT032 Stanlow</th>\n",
       "      <th>HPBH:221U829 Stanlow</th>\n",
       "    </tr>\n",
       "    <tr>\n",
       "      <th>Date</th>\n",
       "      <th></th>\n",
       "      <th></th>\n",
       "      <th></th>\n",
       "      <th></th>\n",
       "      <th></th>\n",
       "      <th></th>\n",
       "      <th></th>\n",
       "      <th></th>\n",
       "      <th></th>\n",
       "      <th></th>\n",
       "      <th></th>\n",
       "      <th></th>\n",
       "      <th></th>\n",
       "      <th></th>\n",
       "      <th></th>\n",
       "      <th></th>\n",
       "    </tr>\n",
       "  </thead>\n",
       "  <tbody>\n",
       "    <tr>\n",
       "      <th>2018-03-25 00:00:00</th>\n",
       "      <td>169.025074</td>\n",
       "      <td>-76.037167</td>\n",
       "      <td>38.82345</td>\n",
       "      <td>NaN</td>\n",
       "      <td>NaN</td>\n",
       "      <td>-0.25</td>\n",
       "      <td>NaN</td>\n",
       "      <td>398.8292</td>\n",
       "      <td>NaN</td>\n",
       "      <td>NaN</td>\n",
       "      <td>NaN</td>\n",
       "      <td>NaN</td>\n",
       "      <td>NaN</td>\n",
       "      <td>NaN</td>\n",
       "      <td>NaN</td>\n",
       "      <td>NaN</td>\n",
       "    </tr>\n",
       "    <tr>\n",
       "      <th>2018-03-25 02:00:00</th>\n",
       "      <td>161.426874</td>\n",
       "      <td>NaN</td>\n",
       "      <td>38.82345</td>\n",
       "      <td>NaN</td>\n",
       "      <td>NaN</td>\n",
       "      <td>NaN</td>\n",
       "      <td>NaN</td>\n",
       "      <td>398.8273</td>\n",
       "      <td>NaN</td>\n",
       "      <td>NaN</td>\n",
       "      <td>NaN</td>\n",
       "      <td>NaN</td>\n",
       "      <td>NaN</td>\n",
       "      <td>NaN</td>\n",
       "      <td>NaN</td>\n",
       "      <td>NaN</td>\n",
       "    </tr>\n",
       "    <tr>\n",
       "      <th>2018-03-25 03:00:00</th>\n",
       "      <td>158.334902</td>\n",
       "      <td>NaN</td>\n",
       "      <td>NaN</td>\n",
       "      <td>NaN</td>\n",
       "      <td>NaN</td>\n",
       "      <td>NaN</td>\n",
       "      <td>NaN</td>\n",
       "      <td>398.8269</td>\n",
       "      <td>NaN</td>\n",
       "      <td>NaN</td>\n",
       "      <td>NaN</td>\n",
       "      <td>NaN</td>\n",
       "      <td>NaN</td>\n",
       "      <td>NaN</td>\n",
       "      <td>NaN</td>\n",
       "      <td>NaN</td>\n",
       "    </tr>\n",
       "    <tr>\n",
       "      <th>2018-03-25 04:00:00</th>\n",
       "      <td>158.339869</td>\n",
       "      <td>NaN</td>\n",
       "      <td>NaN</td>\n",
       "      <td>NaN</td>\n",
       "      <td>NaN</td>\n",
       "      <td>NaN</td>\n",
       "      <td>NaN</td>\n",
       "      <td>398.8303</td>\n",
       "      <td>NaN</td>\n",
       "      <td>NaN</td>\n",
       "      <td>NaN</td>\n",
       "      <td>NaN</td>\n",
       "      <td>NaN</td>\n",
       "      <td>NaN</td>\n",
       "      <td>NaN</td>\n",
       "      <td>NaN</td>\n",
       "    </tr>\n",
       "    <tr>\n",
       "      <th>2018-03-25 05:00:00</th>\n",
       "      <td>158.341542</td>\n",
       "      <td>NaN</td>\n",
       "      <td>38.82345</td>\n",
       "      <td>NaN</td>\n",
       "      <td>NaN</td>\n",
       "      <td>NaN</td>\n",
       "      <td>NaN</td>\n",
       "      <td>398.8329</td>\n",
       "      <td>NaN</td>\n",
       "      <td>NaN</td>\n",
       "      <td>NaN</td>\n",
       "      <td>NaN</td>\n",
       "      <td>NaN</td>\n",
       "      <td>NaN</td>\n",
       "      <td>NaN</td>\n",
       "      <td>NaN</td>\n",
       "    </tr>\n",
       "  </tbody>\n",
       "</table>\n",
       "</div>"
      ],
      "text/plain": [
       "                     HPBH:221F003 Stanlow  HPBH:221F004 Stanlow   \n",
       "Date                                                              \n",
       "2018-03-25 00:00:00            169.025074            -76.037167  \\\n",
       "2018-03-25 02:00:00            161.426874                   NaN   \n",
       "2018-03-25 03:00:00            158.334902                   NaN   \n",
       "2018-03-25 04:00:00            158.339869                   NaN   \n",
       "2018-03-25 05:00:00            158.341542                   NaN   \n",
       "\n",
       "                     HPBH:221F008 Stanlow  HPBH:221F011 Stanlow   \n",
       "Date                                                              \n",
       "2018-03-25 00:00:00              38.82345                   NaN  \\\n",
       "2018-03-25 02:00:00              38.82345                   NaN   \n",
       "2018-03-25 03:00:00                   NaN                   NaN   \n",
       "2018-03-25 04:00:00                   NaN                   NaN   \n",
       "2018-03-25 05:00:00              38.82345                   NaN   \n",
       "\n",
       "                     HPBH:221FT009 Stanlow  HPBH:221Q004 Stanlow   \n",
       "Date                                                               \n",
       "2018-03-25 00:00:00                    NaN                 -0.25  \\\n",
       "2018-03-25 02:00:00                    NaN                   NaN   \n",
       "2018-03-25 03:00:00                    NaN                   NaN   \n",
       "2018-03-25 04:00:00                    NaN                   NaN   \n",
       "2018-03-25 05:00:00                    NaN                   NaN   \n",
       "\n",
       "                     HPBH:221QT004 Stanlow  HPBH:221T017 Stanlow   \n",
       "Date                                                               \n",
       "2018-03-25 00:00:00                    NaN              398.8292  \\\n",
       "2018-03-25 02:00:00                    NaN              398.8273   \n",
       "2018-03-25 03:00:00                    NaN              398.8269   \n",
       "2018-03-25 04:00:00                    NaN              398.8303   \n",
       "2018-03-25 05:00:00                    NaN              398.8329   \n",
       "\n",
       "                     HPBH:221T028 Stanlow  HPBH:221T034 Stanlow   \n",
       "Date                                                              \n",
       "2018-03-25 00:00:00                   NaN                   NaN  \\\n",
       "2018-03-25 02:00:00                   NaN                   NaN   \n",
       "2018-03-25 03:00:00                   NaN                   NaN   \n",
       "2018-03-25 04:00:00                   NaN                   NaN   \n",
       "2018-03-25 05:00:00                   NaN                   NaN   \n",
       "\n",
       "                     HPBH:221T035 Stanlow  HPBH:221T036 Stanlow   \n",
       "Date                                                              \n",
       "2018-03-25 00:00:00                   NaN                   NaN  \\\n",
       "2018-03-25 02:00:00                   NaN                   NaN   \n",
       "2018-03-25 03:00:00                   NaN                   NaN   \n",
       "2018-03-25 04:00:00                   NaN                   NaN   \n",
       "2018-03-25 05:00:00                   NaN                   NaN   \n",
       "\n",
       "                     HPBH:221T044 Stanlow  HPBH:221TT031 Stanlow   \n",
       "Date                                                               \n",
       "2018-03-25 00:00:00                   NaN                    NaN  \\\n",
       "2018-03-25 02:00:00                   NaN                    NaN   \n",
       "2018-03-25 03:00:00                   NaN                    NaN   \n",
       "2018-03-25 04:00:00                   NaN                    NaN   \n",
       "2018-03-25 05:00:00                   NaN                    NaN   \n",
       "\n",
       "                     HPBH:221TT032 Stanlow  HPBH:221U829 Stanlow  \n",
       "Date                                                              \n",
       "2018-03-25 00:00:00                    NaN                   NaN  \n",
       "2018-03-25 02:00:00                    NaN                   NaN  \n",
       "2018-03-25 03:00:00                    NaN                   NaN  \n",
       "2018-03-25 04:00:00                    NaN                   NaN  \n",
       "2018-03-25 05:00:00                    NaN                   NaN  "
      ]
     },
     "execution_count": 22,
     "metadata": {},
     "output_type": "execute_result"
    }
   ],
   "source": [
    "df.head()"
   ]
  },
  {
   "cell_type": "code",
   "execution_count": 7,
   "metadata": {},
   "outputs": [],
   "source": [
    "# df.iloc[0:10, 0] = None"
   ]
  },
  {
   "cell_type": "markdown",
   "metadata": {},
   "source": [
    "get_data_size() function"
   ]
  },
  {
   "cell_type": "code",
   "execution_count": 13,
   "metadata": {},
   "outputs": [
    {
     "name": "stdout",
     "output_type": "stream",
     "text": [
      "Data size: (100, 59)\n"
     ]
    }
   ],
   "source": [
    "data_exp.get_data_size()"
   ]
  },
  {
   "cell_type": "markdown",
   "metadata": {},
   "source": [
    "get_data_type() &  summarize_data_type() function"
   ]
  },
  {
   "cell_type": "code",
   "execution_count": 9,
   "metadata": {},
   "outputs": [
    {
     "name": "stdout",
     "output_type": "stream",
     "text": [
      "Invalid column name\n",
      "Error: 'str' object has no attribute 'dtypes'\n"
     ]
    }
   ],
   "source": [
    "data_exp.get_data_type(df.columns[0])"
   ]
  },
  {
   "cell_type": "code",
   "execution_count": 10,
   "metadata": {},
   "outputs": [
    {
     "data": {
      "text/plain": [
       "float64    59\n",
       "Name: count, dtype: int64"
      ]
     },
     "execution_count": 10,
     "metadata": {},
     "output_type": "execute_result"
    }
   ],
   "source": [
    "data_exp.summarize_data_type()"
   ]
  },
  {
   "cell_type": "markdown",
   "metadata": {},
   "source": [
    "summarize_missing_data() function"
   ]
  },
  {
   "cell_type": "code",
   "execution_count": 15,
   "metadata": {},
   "outputs": [
    {
     "name": "stdout",
     "output_type": "stream",
     "text": [
      "Missing data summary:\n",
      "CommodityCode     892\n",
      "MXCrossBorder    1000\n",
      "dtype: int64\n"
     ]
    }
   ],
   "source": [
    "data_exp.summarize_missing_data()"
   ]
  },
  {
   "cell_type": "markdown",
   "metadata": {},
   "source": [
    "visualize_missing_data() function"
   ]
  },
  {
   "cell_type": "code",
   "execution_count": 12,
   "metadata": {},
   "outputs": [],
   "source": [
    "# data_exp.visualize_missing_data()"
   ]
  },
  {
   "cell_type": "code",
   "execution_count": 13,
   "metadata": {},
   "outputs": [
    {
     "data": {
      "application/vnd.plotly.v1+json": {
       "config": {
        "plotlyServerURL": "https://plot.ly"
       },
       "data": [
        {
         "type": "bar",
         "x": [
          "OXO-5FI635C Augusta",
          "OXO-5FI661A Augusta",
          "OXO-5FI696 Augusta",
          "OXO-5FIC132 Augusta",
          "OXO-5FIC600 Augusta",
          "OXO-5FIC601 Augusta",
          "OXO-5FIC602 Augusta",
          "OXO-5FIC603 Augusta",
          "OXO-5FIC606A Augusta",
          "OXO-5FIC606C Augusta",
          "OXO-5FIC607 Augusta",
          "OXO-5FIC609A Augusta",
          "OXO-5FIC609B Augusta",
          "OXO-5FIC611A Augusta",
          "OXO-5FIC611B Augusta",
          "OXO-5FIC612A Augusta",
          "OXO-5FIC612B Augusta",
          "OXO-5FIC618A Augusta",
          "OXO-5FIC618B Augusta",
          "OXO-5FIC618C Augusta",
          "OXO-5FIC618D Augusta",
          "OXO-5FIC622A Augusta",
          "OXO-5FIC622B Augusta",
          "OXO-5FIC622C Augusta",
          "OXO-5FIC636A Augusta",
          "OXO-5FIC636B Augusta",
          "OXO-5FIC636C Augusta",
          "OXO-5FQI691B Augusta",
          "OXO-5LI633B Augusta",
          "OXO-5LI650F Augusta",
          "OXO-5LI651E Augusta",
          "OXO-5LI651F Augusta",
          "OXO-5LI652E Augusta",
          "OXO-5LI652F Augusta",
          "OXO-5LI653E Augusta",
          "OXO-5LI653F Augusta",
          "OXO-5LI654E Augusta",
          "OXO-5LI654F Augusta",
          "OXO-5LI655F Augusta",
          "OXO-5LI656F Augusta"
         ],
         "y": [
          0,
          0,
          0,
          0,
          0,
          0,
          0,
          0,
          100,
          0,
          0,
          0,
          0,
          0,
          100,
          0,
          0,
          0,
          0,
          0,
          0,
          0,
          0,
          0,
          0,
          0,
          0,
          0,
          0,
          0,
          0,
          0,
          0,
          0,
          0,
          0,
          0,
          100,
          0,
          0
         ]
        }
       ],
       "layout": {
        "template": {
         "data": {
          "bar": [
           {
            "error_x": {
             "color": "#2a3f5f"
            },
            "error_y": {
             "color": "#2a3f5f"
            },
            "marker": {
             "line": {
              "color": "#E5ECF6",
              "width": 0.5
             },
             "pattern": {
              "fillmode": "overlay",
              "size": 10,
              "solidity": 0.2
             }
            },
            "type": "bar"
           }
          ],
          "barpolar": [
           {
            "marker": {
             "line": {
              "color": "#E5ECF6",
              "width": 0.5
             },
             "pattern": {
              "fillmode": "overlay",
              "size": 10,
              "solidity": 0.2
             }
            },
            "type": "barpolar"
           }
          ],
          "carpet": [
           {
            "aaxis": {
             "endlinecolor": "#2a3f5f",
             "gridcolor": "white",
             "linecolor": "white",
             "minorgridcolor": "white",
             "startlinecolor": "#2a3f5f"
            },
            "baxis": {
             "endlinecolor": "#2a3f5f",
             "gridcolor": "white",
             "linecolor": "white",
             "minorgridcolor": "white",
             "startlinecolor": "#2a3f5f"
            },
            "type": "carpet"
           }
          ],
          "choropleth": [
           {
            "colorbar": {
             "outlinewidth": 0,
             "ticks": ""
            },
            "type": "choropleth"
           }
          ],
          "contour": [
           {
            "colorbar": {
             "outlinewidth": 0,
             "ticks": ""
            },
            "colorscale": [
             [
              0,
              "#0d0887"
             ],
             [
              0.1111111111111111,
              "#46039f"
             ],
             [
              0.2222222222222222,
              "#7201a8"
             ],
             [
              0.3333333333333333,
              "#9c179e"
             ],
             [
              0.4444444444444444,
              "#bd3786"
             ],
             [
              0.5555555555555556,
              "#d8576b"
             ],
             [
              0.6666666666666666,
              "#ed7953"
             ],
             [
              0.7777777777777778,
              "#fb9f3a"
             ],
             [
              0.8888888888888888,
              "#fdca26"
             ],
             [
              1,
              "#f0f921"
             ]
            ],
            "type": "contour"
           }
          ],
          "contourcarpet": [
           {
            "colorbar": {
             "outlinewidth": 0,
             "ticks": ""
            },
            "type": "contourcarpet"
           }
          ],
          "heatmap": [
           {
            "colorbar": {
             "outlinewidth": 0,
             "ticks": ""
            },
            "colorscale": [
             [
              0,
              "#0d0887"
             ],
             [
              0.1111111111111111,
              "#46039f"
             ],
             [
              0.2222222222222222,
              "#7201a8"
             ],
             [
              0.3333333333333333,
              "#9c179e"
             ],
             [
              0.4444444444444444,
              "#bd3786"
             ],
             [
              0.5555555555555556,
              "#d8576b"
             ],
             [
              0.6666666666666666,
              "#ed7953"
             ],
             [
              0.7777777777777778,
              "#fb9f3a"
             ],
             [
              0.8888888888888888,
              "#fdca26"
             ],
             [
              1,
              "#f0f921"
             ]
            ],
            "type": "heatmap"
           }
          ],
          "heatmapgl": [
           {
            "colorbar": {
             "outlinewidth": 0,
             "ticks": ""
            },
            "colorscale": [
             [
              0,
              "#0d0887"
             ],
             [
              0.1111111111111111,
              "#46039f"
             ],
             [
              0.2222222222222222,
              "#7201a8"
             ],
             [
              0.3333333333333333,
              "#9c179e"
             ],
             [
              0.4444444444444444,
              "#bd3786"
             ],
             [
              0.5555555555555556,
              "#d8576b"
             ],
             [
              0.6666666666666666,
              "#ed7953"
             ],
             [
              0.7777777777777778,
              "#fb9f3a"
             ],
             [
              0.8888888888888888,
              "#fdca26"
             ],
             [
              1,
              "#f0f921"
             ]
            ],
            "type": "heatmapgl"
           }
          ],
          "histogram": [
           {
            "marker": {
             "pattern": {
              "fillmode": "overlay",
              "size": 10,
              "solidity": 0.2
             }
            },
            "type": "histogram"
           }
          ],
          "histogram2d": [
           {
            "colorbar": {
             "outlinewidth": 0,
             "ticks": ""
            },
            "colorscale": [
             [
              0,
              "#0d0887"
             ],
             [
              0.1111111111111111,
              "#46039f"
             ],
             [
              0.2222222222222222,
              "#7201a8"
             ],
             [
              0.3333333333333333,
              "#9c179e"
             ],
             [
              0.4444444444444444,
              "#bd3786"
             ],
             [
              0.5555555555555556,
              "#d8576b"
             ],
             [
              0.6666666666666666,
              "#ed7953"
             ],
             [
              0.7777777777777778,
              "#fb9f3a"
             ],
             [
              0.8888888888888888,
              "#fdca26"
             ],
             [
              1,
              "#f0f921"
             ]
            ],
            "type": "histogram2d"
           }
          ],
          "histogram2dcontour": [
           {
            "colorbar": {
             "outlinewidth": 0,
             "ticks": ""
            },
            "colorscale": [
             [
              0,
              "#0d0887"
             ],
             [
              0.1111111111111111,
              "#46039f"
             ],
             [
              0.2222222222222222,
              "#7201a8"
             ],
             [
              0.3333333333333333,
              "#9c179e"
             ],
             [
              0.4444444444444444,
              "#bd3786"
             ],
             [
              0.5555555555555556,
              "#d8576b"
             ],
             [
              0.6666666666666666,
              "#ed7953"
             ],
             [
              0.7777777777777778,
              "#fb9f3a"
             ],
             [
              0.8888888888888888,
              "#fdca26"
             ],
             [
              1,
              "#f0f921"
             ]
            ],
            "type": "histogram2dcontour"
           }
          ],
          "mesh3d": [
           {
            "colorbar": {
             "outlinewidth": 0,
             "ticks": ""
            },
            "type": "mesh3d"
           }
          ],
          "parcoords": [
           {
            "line": {
             "colorbar": {
              "outlinewidth": 0,
              "ticks": ""
             }
            },
            "type": "parcoords"
           }
          ],
          "pie": [
           {
            "automargin": true,
            "type": "pie"
           }
          ],
          "scatter": [
           {
            "fillpattern": {
             "fillmode": "overlay",
             "size": 10,
             "solidity": 0.2
            },
            "type": "scatter"
           }
          ],
          "scatter3d": [
           {
            "line": {
             "colorbar": {
              "outlinewidth": 0,
              "ticks": ""
             }
            },
            "marker": {
             "colorbar": {
              "outlinewidth": 0,
              "ticks": ""
             }
            },
            "type": "scatter3d"
           }
          ],
          "scattercarpet": [
           {
            "marker": {
             "colorbar": {
              "outlinewidth": 0,
              "ticks": ""
             }
            },
            "type": "scattercarpet"
           }
          ],
          "scattergeo": [
           {
            "marker": {
             "colorbar": {
              "outlinewidth": 0,
              "ticks": ""
             }
            },
            "type": "scattergeo"
           }
          ],
          "scattergl": [
           {
            "marker": {
             "colorbar": {
              "outlinewidth": 0,
              "ticks": ""
             }
            },
            "type": "scattergl"
           }
          ],
          "scattermapbox": [
           {
            "marker": {
             "colorbar": {
              "outlinewidth": 0,
              "ticks": ""
             }
            },
            "type": "scattermapbox"
           }
          ],
          "scatterpolar": [
           {
            "marker": {
             "colorbar": {
              "outlinewidth": 0,
              "ticks": ""
             }
            },
            "type": "scatterpolar"
           }
          ],
          "scatterpolargl": [
           {
            "marker": {
             "colorbar": {
              "outlinewidth": 0,
              "ticks": ""
             }
            },
            "type": "scatterpolargl"
           }
          ],
          "scatterternary": [
           {
            "marker": {
             "colorbar": {
              "outlinewidth": 0,
              "ticks": ""
             }
            },
            "type": "scatterternary"
           }
          ],
          "surface": [
           {
            "colorbar": {
             "outlinewidth": 0,
             "ticks": ""
            },
            "colorscale": [
             [
              0,
              "#0d0887"
             ],
             [
              0.1111111111111111,
              "#46039f"
             ],
             [
              0.2222222222222222,
              "#7201a8"
             ],
             [
              0.3333333333333333,
              "#9c179e"
             ],
             [
              0.4444444444444444,
              "#bd3786"
             ],
             [
              0.5555555555555556,
              "#d8576b"
             ],
             [
              0.6666666666666666,
              "#ed7953"
             ],
             [
              0.7777777777777778,
              "#fb9f3a"
             ],
             [
              0.8888888888888888,
              "#fdca26"
             ],
             [
              1,
              "#f0f921"
             ]
            ],
            "type": "surface"
           }
          ],
          "table": [
           {
            "cells": {
             "fill": {
              "color": "#EBF0F8"
             },
             "line": {
              "color": "white"
             }
            },
            "header": {
             "fill": {
              "color": "#C8D4E3"
             },
             "line": {
              "color": "white"
             }
            },
            "type": "table"
           }
          ]
         },
         "layout": {
          "annotationdefaults": {
           "arrowcolor": "#2a3f5f",
           "arrowhead": 0,
           "arrowwidth": 1
          },
          "autotypenumbers": "strict",
          "coloraxis": {
           "colorbar": {
            "outlinewidth": 0,
            "ticks": ""
           }
          },
          "colorscale": {
           "diverging": [
            [
             0,
             "#8e0152"
            ],
            [
             0.1,
             "#c51b7d"
            ],
            [
             0.2,
             "#de77ae"
            ],
            [
             0.3,
             "#f1b6da"
            ],
            [
             0.4,
             "#fde0ef"
            ],
            [
             0.5,
             "#f7f7f7"
            ],
            [
             0.6,
             "#e6f5d0"
            ],
            [
             0.7,
             "#b8e186"
            ],
            [
             0.8,
             "#7fbc41"
            ],
            [
             0.9,
             "#4d9221"
            ],
            [
             1,
             "#276419"
            ]
           ],
           "sequential": [
            [
             0,
             "#0d0887"
            ],
            [
             0.1111111111111111,
             "#46039f"
            ],
            [
             0.2222222222222222,
             "#7201a8"
            ],
            [
             0.3333333333333333,
             "#9c179e"
            ],
            [
             0.4444444444444444,
             "#bd3786"
            ],
            [
             0.5555555555555556,
             "#d8576b"
            ],
            [
             0.6666666666666666,
             "#ed7953"
            ],
            [
             0.7777777777777778,
             "#fb9f3a"
            ],
            [
             0.8888888888888888,
             "#fdca26"
            ],
            [
             1,
             "#f0f921"
            ]
           ],
           "sequentialminus": [
            [
             0,
             "#0d0887"
            ],
            [
             0.1111111111111111,
             "#46039f"
            ],
            [
             0.2222222222222222,
             "#7201a8"
            ],
            [
             0.3333333333333333,
             "#9c179e"
            ],
            [
             0.4444444444444444,
             "#bd3786"
            ],
            [
             0.5555555555555556,
             "#d8576b"
            ],
            [
             0.6666666666666666,
             "#ed7953"
            ],
            [
             0.7777777777777778,
             "#fb9f3a"
            ],
            [
             0.8888888888888888,
             "#fdca26"
            ],
            [
             1,
             "#f0f921"
            ]
           ]
          },
          "colorway": [
           "#636efa",
           "#EF553B",
           "#00cc96",
           "#ab63fa",
           "#FFA15A",
           "#19d3f3",
           "#FF6692",
           "#B6E880",
           "#FF97FF",
           "#FECB52"
          ],
          "font": {
           "color": "#2a3f5f"
          },
          "geo": {
           "bgcolor": "white",
           "lakecolor": "white",
           "landcolor": "#E5ECF6",
           "showlakes": true,
           "showland": true,
           "subunitcolor": "white"
          },
          "hoverlabel": {
           "align": "left"
          },
          "hovermode": "closest",
          "mapbox": {
           "style": "light"
          },
          "paper_bgcolor": "white",
          "plot_bgcolor": "#E5ECF6",
          "polar": {
           "angularaxis": {
            "gridcolor": "white",
            "linecolor": "white",
            "ticks": ""
           },
           "bgcolor": "#E5ECF6",
           "radialaxis": {
            "gridcolor": "white",
            "linecolor": "white",
            "ticks": ""
           }
          },
          "scene": {
           "xaxis": {
            "backgroundcolor": "#E5ECF6",
            "gridcolor": "white",
            "gridwidth": 2,
            "linecolor": "white",
            "showbackground": true,
            "ticks": "",
            "zerolinecolor": "white"
           },
           "yaxis": {
            "backgroundcolor": "#E5ECF6",
            "gridcolor": "white",
            "gridwidth": 2,
            "linecolor": "white",
            "showbackground": true,
            "ticks": "",
            "zerolinecolor": "white"
           },
           "zaxis": {
            "backgroundcolor": "#E5ECF6",
            "gridcolor": "white",
            "gridwidth": 2,
            "linecolor": "white",
            "showbackground": true,
            "ticks": "",
            "zerolinecolor": "white"
           }
          },
          "shapedefaults": {
           "line": {
            "color": "#2a3f5f"
           }
          },
          "ternary": {
           "aaxis": {
            "gridcolor": "white",
            "linecolor": "white",
            "ticks": ""
           },
           "baxis": {
            "gridcolor": "white",
            "linecolor": "white",
            "ticks": ""
           },
           "bgcolor": "#E5ECF6",
           "caxis": {
            "gridcolor": "white",
            "linecolor": "white",
            "ticks": ""
           }
          },
          "title": {
           "x": 0.05
          },
          "xaxis": {
           "automargin": true,
           "gridcolor": "white",
           "linecolor": "white",
           "ticks": "",
           "title": {
            "standoff": 15
           },
           "zerolinecolor": "white",
           "zerolinewidth": 2
          },
          "yaxis": {
           "automargin": true,
           "gridcolor": "white",
           "linecolor": "white",
           "ticks": "",
           "title": {
            "standoff": 15
           },
           "zerolinecolor": "white",
           "zerolinewidth": 2
          }
         }
        },
        "title": {
         "text": "Missing Data"
        },
        "xaxis": {
         "title": {
          "text": "Columns"
         }
        },
        "yaxis": {
         "title": {
          "text": "Missing Count"
         }
        }
       }
      }
     },
     "metadata": {},
     "output_type": "display_data"
    },
    {
     "data": {
      "application/vnd.plotly.v1+json": {
       "config": {
        "plotlyServerURL": "https://plot.ly"
       },
       "data": [
        {
         "type": "bar",
         "x": [
          "OXO-5LI657E Augusta",
          "OXO-5LI657F Augusta",
          "OXO-5LI658E Augusta",
          "OXO-5LI658F Augusta",
          "OXO-5PIC605A Augusta",
          "OXO-5RIC606_Y Augusta",
          "OXO-5TIC002 Augusta",
          "OXO-5TIC601 Augusta",
          "OXO-5TIC602 Augusta",
          "OXO-5TIC603 Augusta",
          "OXO-5TIC604 Augusta",
          "OXO-5TIC605 Augusta",
          "OXO-5TIC606 Augusta",
          "OXO-5TIC607 Augusta",
          "OXO-5TIC659 Augusta",
          "OXO-_5FI658A Augusta",
          "OXO-_5FI659A Augusta",
          "OXO-_5FI660A Augusta",
          "OXO-_5FI662A Augusta"
         ],
         "y": [
          0,
          0,
          0,
          0,
          0,
          0,
          0,
          0,
          0,
          0,
          0,
          0,
          0,
          0,
          0,
          0,
          0,
          0,
          0
         ]
        }
       ],
       "layout": {
        "template": {
         "data": {
          "bar": [
           {
            "error_x": {
             "color": "#2a3f5f"
            },
            "error_y": {
             "color": "#2a3f5f"
            },
            "marker": {
             "line": {
              "color": "#E5ECF6",
              "width": 0.5
             },
             "pattern": {
              "fillmode": "overlay",
              "size": 10,
              "solidity": 0.2
             }
            },
            "type": "bar"
           }
          ],
          "barpolar": [
           {
            "marker": {
             "line": {
              "color": "#E5ECF6",
              "width": 0.5
             },
             "pattern": {
              "fillmode": "overlay",
              "size": 10,
              "solidity": 0.2
             }
            },
            "type": "barpolar"
           }
          ],
          "carpet": [
           {
            "aaxis": {
             "endlinecolor": "#2a3f5f",
             "gridcolor": "white",
             "linecolor": "white",
             "minorgridcolor": "white",
             "startlinecolor": "#2a3f5f"
            },
            "baxis": {
             "endlinecolor": "#2a3f5f",
             "gridcolor": "white",
             "linecolor": "white",
             "minorgridcolor": "white",
             "startlinecolor": "#2a3f5f"
            },
            "type": "carpet"
           }
          ],
          "choropleth": [
           {
            "colorbar": {
             "outlinewidth": 0,
             "ticks": ""
            },
            "type": "choropleth"
           }
          ],
          "contour": [
           {
            "colorbar": {
             "outlinewidth": 0,
             "ticks": ""
            },
            "colorscale": [
             [
              0,
              "#0d0887"
             ],
             [
              0.1111111111111111,
              "#46039f"
             ],
             [
              0.2222222222222222,
              "#7201a8"
             ],
             [
              0.3333333333333333,
              "#9c179e"
             ],
             [
              0.4444444444444444,
              "#bd3786"
             ],
             [
              0.5555555555555556,
              "#d8576b"
             ],
             [
              0.6666666666666666,
              "#ed7953"
             ],
             [
              0.7777777777777778,
              "#fb9f3a"
             ],
             [
              0.8888888888888888,
              "#fdca26"
             ],
             [
              1,
              "#f0f921"
             ]
            ],
            "type": "contour"
           }
          ],
          "contourcarpet": [
           {
            "colorbar": {
             "outlinewidth": 0,
             "ticks": ""
            },
            "type": "contourcarpet"
           }
          ],
          "heatmap": [
           {
            "colorbar": {
             "outlinewidth": 0,
             "ticks": ""
            },
            "colorscale": [
             [
              0,
              "#0d0887"
             ],
             [
              0.1111111111111111,
              "#46039f"
             ],
             [
              0.2222222222222222,
              "#7201a8"
             ],
             [
              0.3333333333333333,
              "#9c179e"
             ],
             [
              0.4444444444444444,
              "#bd3786"
             ],
             [
              0.5555555555555556,
              "#d8576b"
             ],
             [
              0.6666666666666666,
              "#ed7953"
             ],
             [
              0.7777777777777778,
              "#fb9f3a"
             ],
             [
              0.8888888888888888,
              "#fdca26"
             ],
             [
              1,
              "#f0f921"
             ]
            ],
            "type": "heatmap"
           }
          ],
          "heatmapgl": [
           {
            "colorbar": {
             "outlinewidth": 0,
             "ticks": ""
            },
            "colorscale": [
             [
              0,
              "#0d0887"
             ],
             [
              0.1111111111111111,
              "#46039f"
             ],
             [
              0.2222222222222222,
              "#7201a8"
             ],
             [
              0.3333333333333333,
              "#9c179e"
             ],
             [
              0.4444444444444444,
              "#bd3786"
             ],
             [
              0.5555555555555556,
              "#d8576b"
             ],
             [
              0.6666666666666666,
              "#ed7953"
             ],
             [
              0.7777777777777778,
              "#fb9f3a"
             ],
             [
              0.8888888888888888,
              "#fdca26"
             ],
             [
              1,
              "#f0f921"
             ]
            ],
            "type": "heatmapgl"
           }
          ],
          "histogram": [
           {
            "marker": {
             "pattern": {
              "fillmode": "overlay",
              "size": 10,
              "solidity": 0.2
             }
            },
            "type": "histogram"
           }
          ],
          "histogram2d": [
           {
            "colorbar": {
             "outlinewidth": 0,
             "ticks": ""
            },
            "colorscale": [
             [
              0,
              "#0d0887"
             ],
             [
              0.1111111111111111,
              "#46039f"
             ],
             [
              0.2222222222222222,
              "#7201a8"
             ],
             [
              0.3333333333333333,
              "#9c179e"
             ],
             [
              0.4444444444444444,
              "#bd3786"
             ],
             [
              0.5555555555555556,
              "#d8576b"
             ],
             [
              0.6666666666666666,
              "#ed7953"
             ],
             [
              0.7777777777777778,
              "#fb9f3a"
             ],
             [
              0.8888888888888888,
              "#fdca26"
             ],
             [
              1,
              "#f0f921"
             ]
            ],
            "type": "histogram2d"
           }
          ],
          "histogram2dcontour": [
           {
            "colorbar": {
             "outlinewidth": 0,
             "ticks": ""
            },
            "colorscale": [
             [
              0,
              "#0d0887"
             ],
             [
              0.1111111111111111,
              "#46039f"
             ],
             [
              0.2222222222222222,
              "#7201a8"
             ],
             [
              0.3333333333333333,
              "#9c179e"
             ],
             [
              0.4444444444444444,
              "#bd3786"
             ],
             [
              0.5555555555555556,
              "#d8576b"
             ],
             [
              0.6666666666666666,
              "#ed7953"
             ],
             [
              0.7777777777777778,
              "#fb9f3a"
             ],
             [
              0.8888888888888888,
              "#fdca26"
             ],
             [
              1,
              "#f0f921"
             ]
            ],
            "type": "histogram2dcontour"
           }
          ],
          "mesh3d": [
           {
            "colorbar": {
             "outlinewidth": 0,
             "ticks": ""
            },
            "type": "mesh3d"
           }
          ],
          "parcoords": [
           {
            "line": {
             "colorbar": {
              "outlinewidth": 0,
              "ticks": ""
             }
            },
            "type": "parcoords"
           }
          ],
          "pie": [
           {
            "automargin": true,
            "type": "pie"
           }
          ],
          "scatter": [
           {
            "fillpattern": {
             "fillmode": "overlay",
             "size": 10,
             "solidity": 0.2
            },
            "type": "scatter"
           }
          ],
          "scatter3d": [
           {
            "line": {
             "colorbar": {
              "outlinewidth": 0,
              "ticks": ""
             }
            },
            "marker": {
             "colorbar": {
              "outlinewidth": 0,
              "ticks": ""
             }
            },
            "type": "scatter3d"
           }
          ],
          "scattercarpet": [
           {
            "marker": {
             "colorbar": {
              "outlinewidth": 0,
              "ticks": ""
             }
            },
            "type": "scattercarpet"
           }
          ],
          "scattergeo": [
           {
            "marker": {
             "colorbar": {
              "outlinewidth": 0,
              "ticks": ""
             }
            },
            "type": "scattergeo"
           }
          ],
          "scattergl": [
           {
            "marker": {
             "colorbar": {
              "outlinewidth": 0,
              "ticks": ""
             }
            },
            "type": "scattergl"
           }
          ],
          "scattermapbox": [
           {
            "marker": {
             "colorbar": {
              "outlinewidth": 0,
              "ticks": ""
             }
            },
            "type": "scattermapbox"
           }
          ],
          "scatterpolar": [
           {
            "marker": {
             "colorbar": {
              "outlinewidth": 0,
              "ticks": ""
             }
            },
            "type": "scatterpolar"
           }
          ],
          "scatterpolargl": [
           {
            "marker": {
             "colorbar": {
              "outlinewidth": 0,
              "ticks": ""
             }
            },
            "type": "scatterpolargl"
           }
          ],
          "scatterternary": [
           {
            "marker": {
             "colorbar": {
              "outlinewidth": 0,
              "ticks": ""
             }
            },
            "type": "scatterternary"
           }
          ],
          "surface": [
           {
            "colorbar": {
             "outlinewidth": 0,
             "ticks": ""
            },
            "colorscale": [
             [
              0,
              "#0d0887"
             ],
             [
              0.1111111111111111,
              "#46039f"
             ],
             [
              0.2222222222222222,
              "#7201a8"
             ],
             [
              0.3333333333333333,
              "#9c179e"
             ],
             [
              0.4444444444444444,
              "#bd3786"
             ],
             [
              0.5555555555555556,
              "#d8576b"
             ],
             [
              0.6666666666666666,
              "#ed7953"
             ],
             [
              0.7777777777777778,
              "#fb9f3a"
             ],
             [
              0.8888888888888888,
              "#fdca26"
             ],
             [
              1,
              "#f0f921"
             ]
            ],
            "type": "surface"
           }
          ],
          "table": [
           {
            "cells": {
             "fill": {
              "color": "#EBF0F8"
             },
             "line": {
              "color": "white"
             }
            },
            "header": {
             "fill": {
              "color": "#C8D4E3"
             },
             "line": {
              "color": "white"
             }
            },
            "type": "table"
           }
          ]
         },
         "layout": {
          "annotationdefaults": {
           "arrowcolor": "#2a3f5f",
           "arrowhead": 0,
           "arrowwidth": 1
          },
          "autotypenumbers": "strict",
          "coloraxis": {
           "colorbar": {
            "outlinewidth": 0,
            "ticks": ""
           }
          },
          "colorscale": {
           "diverging": [
            [
             0,
             "#8e0152"
            ],
            [
             0.1,
             "#c51b7d"
            ],
            [
             0.2,
             "#de77ae"
            ],
            [
             0.3,
             "#f1b6da"
            ],
            [
             0.4,
             "#fde0ef"
            ],
            [
             0.5,
             "#f7f7f7"
            ],
            [
             0.6,
             "#e6f5d0"
            ],
            [
             0.7,
             "#b8e186"
            ],
            [
             0.8,
             "#7fbc41"
            ],
            [
             0.9,
             "#4d9221"
            ],
            [
             1,
             "#276419"
            ]
           ],
           "sequential": [
            [
             0,
             "#0d0887"
            ],
            [
             0.1111111111111111,
             "#46039f"
            ],
            [
             0.2222222222222222,
             "#7201a8"
            ],
            [
             0.3333333333333333,
             "#9c179e"
            ],
            [
             0.4444444444444444,
             "#bd3786"
            ],
            [
             0.5555555555555556,
             "#d8576b"
            ],
            [
             0.6666666666666666,
             "#ed7953"
            ],
            [
             0.7777777777777778,
             "#fb9f3a"
            ],
            [
             0.8888888888888888,
             "#fdca26"
            ],
            [
             1,
             "#f0f921"
            ]
           ],
           "sequentialminus": [
            [
             0,
             "#0d0887"
            ],
            [
             0.1111111111111111,
             "#46039f"
            ],
            [
             0.2222222222222222,
             "#7201a8"
            ],
            [
             0.3333333333333333,
             "#9c179e"
            ],
            [
             0.4444444444444444,
             "#bd3786"
            ],
            [
             0.5555555555555556,
             "#d8576b"
            ],
            [
             0.6666666666666666,
             "#ed7953"
            ],
            [
             0.7777777777777778,
             "#fb9f3a"
            ],
            [
             0.8888888888888888,
             "#fdca26"
            ],
            [
             1,
             "#f0f921"
            ]
           ]
          },
          "colorway": [
           "#636efa",
           "#EF553B",
           "#00cc96",
           "#ab63fa",
           "#FFA15A",
           "#19d3f3",
           "#FF6692",
           "#B6E880",
           "#FF97FF",
           "#FECB52"
          ],
          "font": {
           "color": "#2a3f5f"
          },
          "geo": {
           "bgcolor": "white",
           "lakecolor": "white",
           "landcolor": "#E5ECF6",
           "showlakes": true,
           "showland": true,
           "subunitcolor": "white"
          },
          "hoverlabel": {
           "align": "left"
          },
          "hovermode": "closest",
          "mapbox": {
           "style": "light"
          },
          "paper_bgcolor": "white",
          "plot_bgcolor": "#E5ECF6",
          "polar": {
           "angularaxis": {
            "gridcolor": "white",
            "linecolor": "white",
            "ticks": ""
           },
           "bgcolor": "#E5ECF6",
           "radialaxis": {
            "gridcolor": "white",
            "linecolor": "white",
            "ticks": ""
           }
          },
          "scene": {
           "xaxis": {
            "backgroundcolor": "#E5ECF6",
            "gridcolor": "white",
            "gridwidth": 2,
            "linecolor": "white",
            "showbackground": true,
            "ticks": "",
            "zerolinecolor": "white"
           },
           "yaxis": {
            "backgroundcolor": "#E5ECF6",
            "gridcolor": "white",
            "gridwidth": 2,
            "linecolor": "white",
            "showbackground": true,
            "ticks": "",
            "zerolinecolor": "white"
           },
           "zaxis": {
            "backgroundcolor": "#E5ECF6",
            "gridcolor": "white",
            "gridwidth": 2,
            "linecolor": "white",
            "showbackground": true,
            "ticks": "",
            "zerolinecolor": "white"
           }
          },
          "shapedefaults": {
           "line": {
            "color": "#2a3f5f"
           }
          },
          "ternary": {
           "aaxis": {
            "gridcolor": "white",
            "linecolor": "white",
            "ticks": ""
           },
           "baxis": {
            "gridcolor": "white",
            "linecolor": "white",
            "ticks": ""
           },
           "bgcolor": "#E5ECF6",
           "caxis": {
            "gridcolor": "white",
            "linecolor": "white",
            "ticks": ""
           }
          },
          "title": {
           "x": 0.05
          },
          "xaxis": {
           "automargin": true,
           "gridcolor": "white",
           "linecolor": "white",
           "ticks": "",
           "title": {
            "standoff": 15
           },
           "zerolinecolor": "white",
           "zerolinewidth": 2
          },
          "yaxis": {
           "automargin": true,
           "gridcolor": "white",
           "linecolor": "white",
           "ticks": "",
           "title": {
            "standoff": 15
           },
           "zerolinecolor": "white",
           "zerolinewidth": 2
          }
         }
        },
        "title": {
         "text": "Missing Data"
        },
        "xaxis": {
         "title": {
          "text": "Columns"
         }
        },
        "yaxis": {
         "title": {
          "text": "Missing Count"
         }
        }
       }
      }
     },
     "metadata": {},
     "output_type": "display_data"
    }
   ],
   "source": [
    "from Data_Visualization.eda import EDA_Visualization\n",
    "\n",
    "eda_vis = EDA_Visualization(df)\n",
    "eda_vis.visualize_missing_data()"
   ]
  },
  {
   "cell_type": "markdown",
   "metadata": {},
   "source": [
    "### Test DataCleansing Module"
   ]
  },
  {
   "cell_type": "code",
   "execution_count": 13,
   "metadata": {},
   "outputs": [],
   "source": [
    "data_cleansing = DataCleansing(df)"
   ]
  },
  {
   "cell_type": "markdown",
   "metadata": {},
   "source": [
    "remove_duplicates() function"
   ]
  },
  {
   "cell_type": "code",
   "execution_count": 4,
   "metadata": {},
   "outputs": [
    {
     "data": {
      "text/html": [
       "<div>\n",
       "<style scoped>\n",
       "    .dataframe tbody tr th:only-of-type {\n",
       "        vertical-align: middle;\n",
       "    }\n",
       "\n",
       "    .dataframe tbody tr th {\n",
       "        vertical-align: top;\n",
       "    }\n",
       "\n",
       "    .dataframe thead th {\n",
       "        text-align: right;\n",
       "    }\n",
       "</style>\n",
       "<table border=\"1\" class=\"dataframe\">\n",
       "  <thead>\n",
       "    <tr style=\"text-align: right;\">\n",
       "      <th></th>\n",
       "      <th>a</th>\n",
       "      <th>b</th>\n",
       "      <th>c</th>\n",
       "    </tr>\n",
       "  </thead>\n",
       "  <tbody>\n",
       "    <tr>\n",
       "      <th>0</th>\n",
       "      <td>1</td>\n",
       "      <td>1</td>\n",
       "      <td>1</td>\n",
       "    </tr>\n",
       "    <tr>\n",
       "      <th>1</th>\n",
       "      <td>1</td>\n",
       "      <td>1</td>\n",
       "      <td>1</td>\n",
       "    </tr>\n",
       "    <tr>\n",
       "      <th>2</th>\n",
       "      <td>2</td>\n",
       "      <td>2</td>\n",
       "      <td>2</td>\n",
       "    </tr>\n",
       "    <tr>\n",
       "      <th>3</th>\n",
       "      <td>2</td>\n",
       "      <td>2</td>\n",
       "      <td>2</td>\n",
       "    </tr>\n",
       "    <tr>\n",
       "      <th>4</th>\n",
       "      <td>3</td>\n",
       "      <td>3</td>\n",
       "      <td>3</td>\n",
       "    </tr>\n",
       "    <tr>\n",
       "      <th>5</th>\n",
       "      <td>3</td>\n",
       "      <td>3</td>\n",
       "      <td>3</td>\n",
       "    </tr>\n",
       "    <tr>\n",
       "      <th>6</th>\n",
       "      <td>4</td>\n",
       "      <td>4</td>\n",
       "      <td>4</td>\n",
       "    </tr>\n",
       "    <tr>\n",
       "      <th>7</th>\n",
       "      <td>4</td>\n",
       "      <td>4</td>\n",
       "      <td>4</td>\n",
       "    </tr>\n",
       "    <tr>\n",
       "      <th>8</th>\n",
       "      <td>5</td>\n",
       "      <td>5</td>\n",
       "      <td>5</td>\n",
       "    </tr>\n",
       "    <tr>\n",
       "      <th>9</th>\n",
       "      <td>5</td>\n",
       "      <td>5</td>\n",
       "      <td>5</td>\n",
       "    </tr>\n",
       "  </tbody>\n",
       "</table>\n",
       "</div>"
      ],
      "text/plain": [
       "   a  b  c\n",
       "0  1  1  1\n",
       "1  1  1  1\n",
       "2  2  2  2\n",
       "3  2  2  2\n",
       "4  3  3  3\n",
       "5  3  3  3\n",
       "6  4  4  4\n",
       "7  4  4  4\n",
       "8  5  5  5\n",
       "9  5  5  5"
      ]
     },
     "execution_count": 4,
     "metadata": {},
     "output_type": "execute_result"
    }
   ],
   "source": [
    "# generate a df with duplicate rows\n",
    "dup_df = pd.DataFrame({'a':[1,1,2,2,3,3,4,4,5,5],\n",
    "                     'b':[1,1,2,2,3,3,4,4,5,5],\n",
    "                        'c':[1,1,2,2,3,3,4,4,5,5]})\n",
    "dup_df"
   ]
  },
  {
   "cell_type": "code",
   "execution_count": 7,
   "metadata": {},
   "outputs": [
    {
     "data": {
      "text/html": [
       "<div>\n",
       "<style scoped>\n",
       "    .dataframe tbody tr th:only-of-type {\n",
       "        vertical-align: middle;\n",
       "    }\n",
       "\n",
       "    .dataframe tbody tr th {\n",
       "        vertical-align: top;\n",
       "    }\n",
       "\n",
       "    .dataframe thead th {\n",
       "        text-align: right;\n",
       "    }\n",
       "</style>\n",
       "<table border=\"1\" class=\"dataframe\">\n",
       "  <thead>\n",
       "    <tr style=\"text-align: right;\">\n",
       "      <th></th>\n",
       "      <th>a</th>\n",
       "      <th>b</th>\n",
       "      <th>c</th>\n",
       "    </tr>\n",
       "  </thead>\n",
       "  <tbody>\n",
       "    <tr>\n",
       "      <th>0</th>\n",
       "      <td>1</td>\n",
       "      <td>1</td>\n",
       "      <td>1</td>\n",
       "    </tr>\n",
       "    <tr>\n",
       "      <th>2</th>\n",
       "      <td>2</td>\n",
       "      <td>2</td>\n",
       "      <td>2</td>\n",
       "    </tr>\n",
       "    <tr>\n",
       "      <th>4</th>\n",
       "      <td>3</td>\n",
       "      <td>3</td>\n",
       "      <td>3</td>\n",
       "    </tr>\n",
       "    <tr>\n",
       "      <th>6</th>\n",
       "      <td>4</td>\n",
       "      <td>4</td>\n",
       "      <td>4</td>\n",
       "    </tr>\n",
       "    <tr>\n",
       "      <th>8</th>\n",
       "      <td>5</td>\n",
       "      <td>5</td>\n",
       "      <td>5</td>\n",
       "    </tr>\n",
       "  </tbody>\n",
       "</table>\n",
       "</div>"
      ],
      "text/plain": [
       "   a  b  c\n",
       "0  1  1  1\n",
       "2  2  2  2\n",
       "4  3  3  3\n",
       "6  4  4  4\n",
       "8  5  5  5"
      ]
     },
     "execution_count": 7,
     "metadata": {},
     "output_type": "execute_result"
    }
   ],
   "source": [
    "data_cleansing = DataCleansing()\n",
    "dup_df = data_cleansing.remove_duplicates(dup_df)\n",
    "dup_df"
   ]
  },
  {
   "cell_type": "code",
   "execution_count": 3,
   "metadata": {},
   "outputs": [
    {
     "data": {
      "text/html": [
       "<div>\n",
       "<style scoped>\n",
       "    .dataframe tbody tr th:only-of-type {\n",
       "        vertical-align: middle;\n",
       "    }\n",
       "\n",
       "    .dataframe tbody tr th {\n",
       "        vertical-align: top;\n",
       "    }\n",
       "\n",
       "    .dataframe thead th {\n",
       "        text-align: right;\n",
       "    }\n",
       "</style>\n",
       "<table border=\"1\" class=\"dataframe\">\n",
       "  <thead>\n",
       "    <tr style=\"text-align: right;\">\n",
       "      <th></th>\n",
       "      <th>a</th>\n",
       "      <th>b</th>\n",
       "      <th>c</th>\n",
       "    </tr>\n",
       "  </thead>\n",
       "  <tbody>\n",
       "    <tr>\n",
       "      <th>0</th>\n",
       "      <td>1</td>\n",
       "      <td>1</td>\n",
       "      <td>1</td>\n",
       "    </tr>\n",
       "    <tr>\n",
       "      <th>1</th>\n",
       "      <td>2</td>\n",
       "      <td>2</td>\n",
       "      <td>2</td>\n",
       "    </tr>\n",
       "    <tr>\n",
       "      <th>2</th>\n",
       "      <td>3</td>\n",
       "      <td>3</td>\n",
       "      <td>3</td>\n",
       "    </tr>\n",
       "  </tbody>\n",
       "</table>\n",
       "</div>"
      ],
      "text/plain": [
       "   a  b  c\n",
       "0  1  1  1\n",
       "1  2  2  2\n",
       "2  3  3  3"
      ]
     },
     "execution_count": 3,
     "metadata": {},
     "output_type": "execute_result"
    }
   ],
   "source": [
    "# a df with duplicate dolumns\n",
    "dup_df = pd.DataFrame({'a': [1, 2, 3], 'b': [1, 2, 3], 'c': [1, 2, 3]})\n",
    "dup_df"
   ]
  },
  {
   "cell_type": "code",
   "execution_count": 4,
   "metadata": {},
   "outputs": [
    {
     "data": {
      "text/html": [
       "<div>\n",
       "<style scoped>\n",
       "    .dataframe tbody tr th:only-of-type {\n",
       "        vertical-align: middle;\n",
       "    }\n",
       "\n",
       "    .dataframe tbody tr th {\n",
       "        vertical-align: top;\n",
       "    }\n",
       "\n",
       "    .dataframe thead th {\n",
       "        text-align: right;\n",
       "    }\n",
       "</style>\n",
       "<table border=\"1\" class=\"dataframe\">\n",
       "  <thead>\n",
       "    <tr style=\"text-align: right;\">\n",
       "      <th></th>\n",
       "      <th>a</th>\n",
       "    </tr>\n",
       "  </thead>\n",
       "  <tbody>\n",
       "    <tr>\n",
       "      <th>0</th>\n",
       "      <td>1</td>\n",
       "    </tr>\n",
       "    <tr>\n",
       "      <th>1</th>\n",
       "      <td>2</td>\n",
       "    </tr>\n",
       "    <tr>\n",
       "      <th>2</th>\n",
       "      <td>3</td>\n",
       "    </tr>\n",
       "  </tbody>\n",
       "</table>\n",
       "</div>"
      ],
      "text/plain": [
       "   a\n",
       "0  1\n",
       "1  2\n",
       "2  3"
      ]
     },
     "execution_count": 4,
     "metadata": {},
     "output_type": "execute_result"
    }
   ],
   "source": [
    "data_cleansing = DataCleansing()\n",
    "dup_df = data_cleansing.remove_duplicates(dup_df)\n",
    "dup_df"
   ]
  },
  {
   "cell_type": "markdown",
   "metadata": {},
   "source": [
    "handle_missing_values() funtion"
   ]
  },
  {
   "cell_type": "code",
   "execution_count": 14,
   "metadata": {},
   "outputs": [
    {
     "data": {
      "text/plain": [
       "(1000, 16)"
      ]
     },
     "execution_count": 14,
     "metadata": {},
     "output_type": "execute_result"
    }
   ],
   "source": [
    "df.shape"
   ]
  },
  {
   "cell_type": "code",
   "execution_count": 15,
   "metadata": {},
   "outputs": [
    {
     "name": "stdout",
     "output_type": "stream",
     "text": [
      "Missing data summary:\n",
      "Series([], dtype: int64)\n"
     ]
    }
   ],
   "source": [
    "data_exp.summarize_missing_data(df)"
   ]
  },
  {
   "cell_type": "code",
   "execution_count": 16,
   "metadata": {},
   "outputs": [
    {
     "name": "stdout",
     "output_type": "stream",
     "text": [
      "Dropped columns: []\n"
     ]
    }
   ],
   "source": [
    "# df = data_cleansing.handle_missing_values(df, target_list=['OXO-5FI696 Augusta'], drop_threshold=0.5, fill_missing_strategy=FillMissingByLastKnownValue())\n",
    "df = data_cleansing.handle_missing_values(df, target_list=[], drop_threshold=0.5, fill_missing_strategy=FillMissingByMean())"
   ]
  },
  {
   "cell_type": "code",
   "execution_count": 17,
   "metadata": {},
   "outputs": [
    {
     "data": {
      "text/plain": [
       "(1000, 16)"
      ]
     },
     "execution_count": 17,
     "metadata": {},
     "output_type": "execute_result"
    }
   ],
   "source": [
    "df.shape"
   ]
  },
  {
   "cell_type": "code",
   "execution_count": 18,
   "metadata": {},
   "outputs": [
    {
     "name": "stdout",
     "output_type": "stream",
     "text": [
      "Missing data summary:\n",
      "Series([], dtype: int64)\n"
     ]
    }
   ],
   "source": [
    "data_exp.summarize_missing_data(df)"
   ]
  },
  {
   "cell_type": "markdown",
   "metadata": {},
   "source": [
    "detect_anomalies() function"
   ]
  },
  {
   "cell_type": "code",
   "execution_count": 5,
   "metadata": {},
   "outputs": [
    {
     "name": "stdout",
     "output_type": "stream",
     "text": [
      "Selected Features are OXO-5FI696 Augusta, OXO-5FI635C Augusta, OXO-5FIC602 Augusta, OXO-5FIC612B Augusta, OXO-5FIC622C Augusta, OXO-5FIC636C Augusta, OXO-5TIC602 Augusta, OXO-5TIC603 Augusta\n",
      "Finding bounds...\n",
      "Found Bounds!\n",
      "Finding bounds...\n",
      "Found Bounds!\n",
      "Done\n"
     ]
    }
   ],
   "source": [
    "data_cleansing.generate_anomaly_report(df, 'OXO-5FI696 Augusta', problem_type='max')"
   ]
  },
  {
   "cell_type": "markdown",
   "metadata": {},
   "source": [
    "detect_outliers() funcion"
   ]
  },
  {
   "cell_type": "code",
   "execution_count": 23,
   "metadata": {},
   "outputs": [
    {
     "name": "stdout",
     "output_type": "stream",
     "text": [
      "Z-scores: Date\n",
      "2022-02-12 00:00:00    1.089371\n",
      "2022-02-12 01:00:00    1.088097\n",
      "2022-02-12 02:00:00    0.200932\n",
      "2022-02-12 03:00:00    0.319303\n",
      "2022-02-12 04:00:00    0.839557\n",
      "                         ...   \n",
      "2022-03-25 11:00:00    0.999120\n",
      "2022-03-25 12:00:00    1.001631\n",
      "2022-03-25 13:00:00    1.001259\n",
      "2022-03-25 14:00:00    1.001383\n",
      "2022-03-25 15:00:00    1.001099\n",
      "Name: PIC-F31001C Sais, Length: 1000, dtype: float64\n",
      "0 outliers detected\n"
     ]
    },
    {
     "data": {
      "application/vnd.plotly.v1+json": {
       "config": {
        "plotlyServerURL": "https://plot.ly"
       },
       "data": [
        {
         "hovertemplate": "Date=%{x}<br>PIC-F31001C Sais=%{y}<extra></extra>",
         "legendgroup": "",
         "line": {
          "color": "#636efa",
          "dash": "solid"
         },
         "marker": {
          "symbol": "circle"
         },
         "mode": "lines",
         "name": "",
         "orientation": "v",
         "showlegend": false,
         "type": "scatter",
         "x": [
          "2022-02-12T00:00:00",
          "2022-02-12T01:00:00",
          "2022-02-12T02:00:00",
          "2022-02-12T03:00:00",
          "2022-02-12T04:00:00",
          "2022-02-12T05:00:00",
          "2022-02-12T06:00:00",
          "2022-02-12T07:00:00",
          "2022-02-12T08:00:00",
          "2022-02-12T09:00:00",
          "2022-02-12T10:00:00",
          "2022-02-12T11:00:00",
          "2022-02-12T12:00:00",
          "2022-02-12T13:00:00",
          "2022-02-12T14:00:00",
          "2022-02-12T15:00:00",
          "2022-02-12T16:00:00",
          "2022-02-12T17:00:00",
          "2022-02-12T18:00:00",
          "2022-02-12T19:00:00",
          "2022-02-12T20:00:00",
          "2022-02-12T21:00:00",
          "2022-02-12T22:00:00",
          "2022-02-12T23:00:00",
          "2022-02-13T00:00:00",
          "2022-02-13T01:00:00",
          "2022-02-13T02:00:00",
          "2022-02-13T03:00:00",
          "2022-02-13T04:00:00",
          "2022-02-13T05:00:00",
          "2022-02-13T06:00:00",
          "2022-02-13T07:00:00",
          "2022-02-13T08:00:00",
          "2022-02-13T09:00:00",
          "2022-02-13T10:00:00",
          "2022-02-13T11:00:00",
          "2022-02-13T12:00:00",
          "2022-02-13T13:00:00",
          "2022-02-13T14:00:00",
          "2022-02-13T15:00:00",
          "2022-02-13T16:00:00",
          "2022-02-13T17:00:00",
          "2022-02-13T18:00:00",
          "2022-02-13T19:00:00",
          "2022-02-13T20:00:00",
          "2022-02-13T21:00:00",
          "2022-02-13T22:00:00",
          "2022-02-13T23:00:00",
          "2022-02-14T00:00:00",
          "2022-02-14T01:00:00",
          "2022-02-14T02:00:00",
          "2022-02-14T03:00:00",
          "2022-02-14T04:00:00",
          "2022-02-14T05:00:00",
          "2022-02-14T06:00:00",
          "2022-02-14T07:00:00",
          "2022-02-14T08:00:00",
          "2022-02-14T09:00:00",
          "2022-02-14T10:00:00",
          "2022-02-14T11:00:00",
          "2022-02-14T12:00:00",
          "2022-02-14T13:00:00",
          "2022-02-14T14:00:00",
          "2022-02-14T15:00:00",
          "2022-02-14T16:00:00",
          "2022-02-14T17:00:00",
          "2022-02-14T18:00:00",
          "2022-02-14T19:00:00",
          "2022-02-14T20:00:00",
          "2022-02-14T21:00:00",
          "2022-02-14T22:00:00",
          "2022-02-14T23:00:00",
          "2022-02-15T00:00:00",
          "2022-02-15T01:00:00",
          "2022-02-15T02:00:00",
          "2022-02-15T03:00:00",
          "2022-02-15T04:00:00",
          "2022-02-15T05:00:00",
          "2022-02-15T06:00:00",
          "2022-02-15T07:00:00",
          "2022-02-15T08:00:00",
          "2022-02-15T09:00:00",
          "2022-02-15T10:00:00",
          "2022-02-15T11:00:00",
          "2022-02-15T12:00:00",
          "2022-02-15T13:00:00",
          "2022-02-15T14:00:00",
          "2022-02-15T15:00:00",
          "2022-02-15T16:00:00",
          "2022-02-15T17:00:00",
          "2022-02-15T18:00:00",
          "2022-02-15T19:00:00",
          "2022-02-15T20:00:00",
          "2022-02-15T21:00:00",
          "2022-02-15T22:00:00",
          "2022-02-15T23:00:00",
          "2022-02-16T00:00:00",
          "2022-02-16T01:00:00",
          "2022-02-16T02:00:00",
          "2022-02-16T03:00:00",
          "2022-02-16T04:00:00",
          "2022-02-16T05:00:00",
          "2022-02-16T06:00:00",
          "2022-02-16T07:00:00",
          "2022-02-16T08:00:00",
          "2022-02-16T09:00:00",
          "2022-02-16T10:00:00",
          "2022-02-16T11:00:00",
          "2022-02-16T12:00:00",
          "2022-02-16T13:00:00",
          "2022-02-16T14:00:00",
          "2022-02-16T15:00:00",
          "2022-02-16T16:00:00",
          "2022-02-16T17:00:00",
          "2022-02-16T18:00:00",
          "2022-02-16T19:00:00",
          "2022-02-16T20:00:00",
          "2022-02-16T21:00:00",
          "2022-02-16T22:00:00",
          "2022-02-16T23:00:00",
          "2022-02-17T00:00:00",
          "2022-02-17T01:00:00",
          "2022-02-17T02:00:00",
          "2022-02-17T03:00:00",
          "2022-02-17T04:00:00",
          "2022-02-17T05:00:00",
          "2022-02-17T06:00:00",
          "2022-02-17T07:00:00",
          "2022-02-17T08:00:00",
          "2022-02-17T09:00:00",
          "2022-02-17T10:00:00",
          "2022-02-17T11:00:00",
          "2022-02-17T12:00:00",
          "2022-02-17T13:00:00",
          "2022-02-17T14:00:00",
          "2022-02-17T15:00:00",
          "2022-02-17T16:00:00",
          "2022-02-17T17:00:00",
          "2022-02-17T18:00:00",
          "2022-02-17T19:00:00",
          "2022-02-17T20:00:00",
          "2022-02-17T21:00:00",
          "2022-02-17T22:00:00",
          "2022-02-17T23:00:00",
          "2022-02-18T00:00:00",
          "2022-02-18T01:00:00",
          "2022-02-18T02:00:00",
          "2022-02-18T03:00:00",
          "2022-02-18T04:00:00",
          "2022-02-18T05:00:00",
          "2022-02-18T06:00:00",
          "2022-02-18T07:00:00",
          "2022-02-18T08:00:00",
          "2022-02-18T09:00:00",
          "2022-02-18T10:00:00",
          "2022-02-18T11:00:00",
          "2022-02-18T12:00:00",
          "2022-02-18T13:00:00",
          "2022-02-18T14:00:00",
          "2022-02-18T15:00:00",
          "2022-02-18T16:00:00",
          "2022-02-18T17:00:00",
          "2022-02-18T18:00:00",
          "2022-02-18T19:00:00",
          "2022-02-18T20:00:00",
          "2022-02-18T21:00:00",
          "2022-02-18T22:00:00",
          "2022-02-18T23:00:00",
          "2022-02-19T00:00:00",
          "2022-02-19T01:00:00",
          "2022-02-19T02:00:00",
          "2022-02-19T03:00:00",
          "2022-02-19T04:00:00",
          "2022-02-19T05:00:00",
          "2022-02-19T06:00:00",
          "2022-02-19T07:00:00",
          "2022-02-19T08:00:00",
          "2022-02-19T09:00:00",
          "2022-02-19T10:00:00",
          "2022-02-19T11:00:00",
          "2022-02-19T12:00:00",
          "2022-02-19T13:00:00",
          "2022-02-19T14:00:00",
          "2022-02-19T15:00:00",
          "2022-02-19T16:00:00",
          "2022-02-19T17:00:00",
          "2022-02-19T18:00:00",
          "2022-02-19T19:00:00",
          "2022-02-19T20:00:00",
          "2022-02-19T21:00:00",
          "2022-02-19T22:00:00",
          "2022-02-19T23:00:00",
          "2022-02-20T00:00:00",
          "2022-02-20T01:00:00",
          "2022-02-20T02:00:00",
          "2022-02-20T03:00:00",
          "2022-02-20T04:00:00",
          "2022-02-20T05:00:00",
          "2022-02-20T06:00:00",
          "2022-02-20T07:00:00",
          "2022-02-20T08:00:00",
          "2022-02-20T09:00:00",
          "2022-02-20T10:00:00",
          "2022-02-20T11:00:00",
          "2022-02-20T12:00:00",
          "2022-02-20T13:00:00",
          "2022-02-20T14:00:00",
          "2022-02-20T15:00:00",
          "2022-02-20T16:00:00",
          "2022-02-20T17:00:00",
          "2022-02-20T18:00:00",
          "2022-02-20T19:00:00",
          "2022-02-20T20:00:00",
          "2022-02-20T21:00:00",
          "2022-02-20T22:00:00",
          "2022-02-20T23:00:00",
          "2022-02-21T00:00:00",
          "2022-02-21T01:00:00",
          "2022-02-21T02:00:00",
          "2022-02-21T03:00:00",
          "2022-02-21T04:00:00",
          "2022-02-21T05:00:00",
          "2022-02-21T06:00:00",
          "2022-02-21T07:00:00",
          "2022-02-21T08:00:00",
          "2022-02-21T09:00:00",
          "2022-02-21T10:00:00",
          "2022-02-21T11:00:00",
          "2022-02-21T12:00:00",
          "2022-02-21T13:00:00",
          "2022-02-21T14:00:00",
          "2022-02-21T15:00:00",
          "2022-02-21T16:00:00",
          "2022-02-21T17:00:00",
          "2022-02-21T18:00:00",
          "2022-02-21T19:00:00",
          "2022-02-21T20:00:00",
          "2022-02-21T21:00:00",
          "2022-02-21T22:00:00",
          "2022-02-21T23:00:00",
          "2022-02-22T00:00:00",
          "2022-02-22T01:00:00",
          "2022-02-22T02:00:00",
          "2022-02-22T03:00:00",
          "2022-02-22T04:00:00",
          "2022-02-22T05:00:00",
          "2022-02-22T06:00:00",
          "2022-02-22T07:00:00",
          "2022-02-22T08:00:00",
          "2022-02-22T09:00:00",
          "2022-02-22T10:00:00",
          "2022-02-22T11:00:00",
          "2022-02-22T12:00:00",
          "2022-02-22T13:00:00",
          "2022-02-22T14:00:00",
          "2022-02-22T15:00:00",
          "2022-02-22T16:00:00",
          "2022-02-22T17:00:00",
          "2022-02-22T18:00:00",
          "2022-02-22T19:00:00",
          "2022-02-22T20:00:00",
          "2022-02-22T21:00:00",
          "2022-02-22T22:00:00",
          "2022-02-22T23:00:00",
          "2022-02-23T00:00:00",
          "2022-02-23T01:00:00",
          "2022-02-23T02:00:00",
          "2022-02-23T03:00:00",
          "2022-02-23T04:00:00",
          "2022-02-23T05:00:00",
          "2022-02-23T06:00:00",
          "2022-02-23T07:00:00",
          "2022-02-23T08:00:00",
          "2022-02-23T09:00:00",
          "2022-02-23T10:00:00",
          "2022-02-23T11:00:00",
          "2022-02-23T12:00:00",
          "2022-02-23T13:00:00",
          "2022-02-23T14:00:00",
          "2022-02-23T15:00:00",
          "2022-02-23T16:00:00",
          "2022-02-23T17:00:00",
          "2022-02-23T18:00:00",
          "2022-02-23T19:00:00",
          "2022-02-23T20:00:00",
          "2022-02-23T21:00:00",
          "2022-02-23T22:00:00",
          "2022-02-23T23:00:00",
          "2022-02-24T00:00:00",
          "2022-02-24T01:00:00",
          "2022-02-24T02:00:00",
          "2022-02-24T03:00:00",
          "2022-02-24T04:00:00",
          "2022-02-24T05:00:00",
          "2022-02-24T06:00:00",
          "2022-02-24T07:00:00",
          "2022-02-24T08:00:00",
          "2022-02-24T09:00:00",
          "2022-02-24T10:00:00",
          "2022-02-24T11:00:00",
          "2022-02-24T12:00:00",
          "2022-02-24T13:00:00",
          "2022-02-24T14:00:00",
          "2022-02-24T15:00:00",
          "2022-02-24T16:00:00",
          "2022-02-24T17:00:00",
          "2022-02-24T18:00:00",
          "2022-02-24T19:00:00",
          "2022-02-24T20:00:00",
          "2022-02-24T21:00:00",
          "2022-02-24T22:00:00",
          "2022-02-24T23:00:00",
          "2022-02-25T00:00:00",
          "2022-02-25T01:00:00",
          "2022-02-25T02:00:00",
          "2022-02-25T03:00:00",
          "2022-02-25T04:00:00",
          "2022-02-25T05:00:00",
          "2022-02-25T06:00:00",
          "2022-02-25T07:00:00",
          "2022-02-25T08:00:00",
          "2022-02-25T09:00:00",
          "2022-02-25T10:00:00",
          "2022-02-25T11:00:00",
          "2022-02-25T12:00:00",
          "2022-02-25T13:00:00",
          "2022-02-25T14:00:00",
          "2022-02-25T15:00:00",
          "2022-02-25T16:00:00",
          "2022-02-25T17:00:00",
          "2022-02-25T18:00:00",
          "2022-02-25T19:00:00",
          "2022-02-25T20:00:00",
          "2022-02-25T21:00:00",
          "2022-02-25T22:00:00",
          "2022-02-25T23:00:00",
          "2022-02-26T00:00:00",
          "2022-02-26T01:00:00",
          "2022-02-26T02:00:00",
          "2022-02-26T03:00:00",
          "2022-02-26T04:00:00",
          "2022-02-26T05:00:00",
          "2022-02-26T06:00:00",
          "2022-02-26T07:00:00",
          "2022-02-26T08:00:00",
          "2022-02-26T09:00:00",
          "2022-02-26T10:00:00",
          "2022-02-26T11:00:00",
          "2022-02-26T12:00:00",
          "2022-02-26T13:00:00",
          "2022-02-26T14:00:00",
          "2022-02-26T15:00:00",
          "2022-02-26T16:00:00",
          "2022-02-26T17:00:00",
          "2022-02-26T18:00:00",
          "2022-02-26T19:00:00",
          "2022-02-26T20:00:00",
          "2022-02-26T21:00:00",
          "2022-02-26T22:00:00",
          "2022-02-26T23:00:00",
          "2022-02-27T00:00:00",
          "2022-02-27T01:00:00",
          "2022-02-27T02:00:00",
          "2022-02-27T03:00:00",
          "2022-02-27T04:00:00",
          "2022-02-27T05:00:00",
          "2022-02-27T06:00:00",
          "2022-02-27T07:00:00",
          "2022-02-27T08:00:00",
          "2022-02-27T09:00:00",
          "2022-02-27T10:00:00",
          "2022-02-27T11:00:00",
          "2022-02-27T12:00:00",
          "2022-02-27T13:00:00",
          "2022-02-27T14:00:00",
          "2022-02-27T15:00:00",
          "2022-02-27T16:00:00",
          "2022-02-27T17:00:00",
          "2022-02-27T18:00:00",
          "2022-02-27T19:00:00",
          "2022-02-27T20:00:00",
          "2022-02-27T21:00:00",
          "2022-02-27T22:00:00",
          "2022-02-27T23:00:00",
          "2022-02-28T00:00:00",
          "2022-02-28T01:00:00",
          "2022-02-28T02:00:00",
          "2022-02-28T03:00:00",
          "2022-02-28T04:00:00",
          "2022-02-28T05:00:00",
          "2022-02-28T06:00:00",
          "2022-02-28T07:00:00",
          "2022-02-28T08:00:00",
          "2022-02-28T09:00:00",
          "2022-02-28T10:00:00",
          "2022-02-28T11:00:00",
          "2022-02-28T12:00:00",
          "2022-02-28T13:00:00",
          "2022-02-28T14:00:00",
          "2022-02-28T15:00:00",
          "2022-02-28T16:00:00",
          "2022-02-28T17:00:00",
          "2022-02-28T18:00:00",
          "2022-02-28T19:00:00",
          "2022-02-28T20:00:00",
          "2022-02-28T21:00:00",
          "2022-02-28T22:00:00",
          "2022-02-28T23:00:00",
          "2022-03-01T00:00:00",
          "2022-03-01T01:00:00",
          "2022-03-01T02:00:00",
          "2022-03-01T03:00:00",
          "2022-03-01T04:00:00",
          "2022-03-01T05:00:00",
          "2022-03-01T06:00:00",
          "2022-03-01T07:00:00",
          "2022-03-01T08:00:00",
          "2022-03-01T09:00:00",
          "2022-03-01T10:00:00",
          "2022-03-01T11:00:00",
          "2022-03-01T12:00:00",
          "2022-03-01T13:00:00",
          "2022-03-01T14:00:00",
          "2022-03-01T15:00:00",
          "2022-03-01T16:00:00",
          "2022-03-01T17:00:00",
          "2022-03-01T18:00:00",
          "2022-03-01T19:00:00",
          "2022-03-01T20:00:00",
          "2022-03-01T21:00:00",
          "2022-03-01T22:00:00",
          "2022-03-01T23:00:00",
          "2022-03-02T00:00:00",
          "2022-03-02T01:00:00",
          "2022-03-02T02:00:00",
          "2022-03-02T03:00:00",
          "2022-03-02T04:00:00",
          "2022-03-02T05:00:00",
          "2022-03-02T06:00:00",
          "2022-03-02T07:00:00",
          "2022-03-02T08:00:00",
          "2022-03-02T09:00:00",
          "2022-03-02T10:00:00",
          "2022-03-02T11:00:00",
          "2022-03-02T12:00:00",
          "2022-03-02T13:00:00",
          "2022-03-02T14:00:00",
          "2022-03-02T15:00:00",
          "2022-03-02T16:00:00",
          "2022-03-02T17:00:00",
          "2022-03-02T18:00:00",
          "2022-03-02T19:00:00",
          "2022-03-02T20:00:00",
          "2022-03-02T21:00:00",
          "2022-03-02T22:00:00",
          "2022-03-02T23:00:00",
          "2022-03-03T00:00:00",
          "2022-03-03T01:00:00",
          "2022-03-03T02:00:00",
          "2022-03-03T03:00:00",
          "2022-03-03T04:00:00",
          "2022-03-03T05:00:00",
          "2022-03-03T06:00:00",
          "2022-03-03T07:00:00",
          "2022-03-03T08:00:00",
          "2022-03-03T09:00:00",
          "2022-03-03T10:00:00",
          "2022-03-03T11:00:00",
          "2022-03-03T12:00:00",
          "2022-03-03T13:00:00",
          "2022-03-03T14:00:00",
          "2022-03-03T15:00:00",
          "2022-03-03T16:00:00",
          "2022-03-03T17:00:00",
          "2022-03-03T18:00:00",
          "2022-03-03T19:00:00",
          "2022-03-03T20:00:00",
          "2022-03-03T21:00:00",
          "2022-03-03T22:00:00",
          "2022-03-03T23:00:00",
          "2022-03-04T00:00:00",
          "2022-03-04T01:00:00",
          "2022-03-04T02:00:00",
          "2022-03-04T03:00:00",
          "2022-03-04T04:00:00",
          "2022-03-04T05:00:00",
          "2022-03-04T06:00:00",
          "2022-03-04T07:00:00",
          "2022-03-04T08:00:00",
          "2022-03-04T09:00:00",
          "2022-03-04T10:00:00",
          "2022-03-04T11:00:00",
          "2022-03-04T12:00:00",
          "2022-03-04T13:00:00",
          "2022-03-04T14:00:00",
          "2022-03-04T15:00:00",
          "2022-03-04T16:00:00",
          "2022-03-04T17:00:00",
          "2022-03-04T18:00:00",
          "2022-03-04T19:00:00",
          "2022-03-04T20:00:00",
          "2022-03-04T21:00:00",
          "2022-03-04T22:00:00",
          "2022-03-04T23:00:00",
          "2022-03-05T00:00:00",
          "2022-03-05T01:00:00",
          "2022-03-05T02:00:00",
          "2022-03-05T03:00:00",
          "2022-03-05T04:00:00",
          "2022-03-05T05:00:00",
          "2022-03-05T06:00:00",
          "2022-03-05T07:00:00",
          "2022-03-05T08:00:00",
          "2022-03-05T09:00:00",
          "2022-03-05T10:00:00",
          "2022-03-05T11:00:00",
          "2022-03-05T12:00:00",
          "2022-03-05T13:00:00",
          "2022-03-05T14:00:00",
          "2022-03-05T15:00:00",
          "2022-03-05T16:00:00",
          "2022-03-05T17:00:00",
          "2022-03-05T18:00:00",
          "2022-03-05T19:00:00",
          "2022-03-05T20:00:00",
          "2022-03-05T21:00:00",
          "2022-03-05T22:00:00",
          "2022-03-05T23:00:00",
          "2022-03-06T00:00:00",
          "2022-03-06T01:00:00",
          "2022-03-06T02:00:00",
          "2022-03-06T03:00:00",
          "2022-03-06T04:00:00",
          "2022-03-06T05:00:00",
          "2022-03-06T06:00:00",
          "2022-03-06T07:00:00",
          "2022-03-06T08:00:00",
          "2022-03-06T09:00:00",
          "2022-03-06T10:00:00",
          "2022-03-06T11:00:00",
          "2022-03-06T12:00:00",
          "2022-03-06T13:00:00",
          "2022-03-06T14:00:00",
          "2022-03-06T15:00:00",
          "2022-03-06T16:00:00",
          "2022-03-06T17:00:00",
          "2022-03-06T18:00:00",
          "2022-03-06T19:00:00",
          "2022-03-06T20:00:00",
          "2022-03-06T21:00:00",
          "2022-03-06T22:00:00",
          "2022-03-06T23:00:00",
          "2022-03-07T00:00:00",
          "2022-03-07T01:00:00",
          "2022-03-07T02:00:00",
          "2022-03-07T03:00:00",
          "2022-03-07T04:00:00",
          "2022-03-07T05:00:00",
          "2022-03-07T06:00:00",
          "2022-03-07T07:00:00",
          "2022-03-07T08:00:00",
          "2022-03-07T09:00:00",
          "2022-03-07T10:00:00",
          "2022-03-07T11:00:00",
          "2022-03-07T12:00:00",
          "2022-03-07T13:00:00",
          "2022-03-07T14:00:00",
          "2022-03-07T15:00:00",
          "2022-03-07T16:00:00",
          "2022-03-07T17:00:00",
          "2022-03-07T18:00:00",
          "2022-03-07T19:00:00",
          "2022-03-07T20:00:00",
          "2022-03-07T21:00:00",
          "2022-03-07T22:00:00",
          "2022-03-07T23:00:00",
          "2022-03-08T00:00:00",
          "2022-03-08T01:00:00",
          "2022-03-08T02:00:00",
          "2022-03-08T03:00:00",
          "2022-03-08T04:00:00",
          "2022-03-08T05:00:00",
          "2022-03-08T06:00:00",
          "2022-03-08T07:00:00",
          "2022-03-08T08:00:00",
          "2022-03-08T09:00:00",
          "2022-03-08T10:00:00",
          "2022-03-08T11:00:00",
          "2022-03-08T12:00:00",
          "2022-03-08T13:00:00",
          "2022-03-08T14:00:00",
          "2022-03-08T15:00:00",
          "2022-03-08T16:00:00",
          "2022-03-08T17:00:00",
          "2022-03-08T18:00:00",
          "2022-03-08T19:00:00",
          "2022-03-08T20:00:00",
          "2022-03-08T21:00:00",
          "2022-03-08T22:00:00",
          "2022-03-08T23:00:00",
          "2022-03-09T00:00:00",
          "2022-03-09T01:00:00",
          "2022-03-09T02:00:00",
          "2022-03-09T03:00:00",
          "2022-03-09T04:00:00",
          "2022-03-09T05:00:00",
          "2022-03-09T06:00:00",
          "2022-03-09T07:00:00",
          "2022-03-09T08:00:00",
          "2022-03-09T09:00:00",
          "2022-03-09T10:00:00",
          "2022-03-09T11:00:00",
          "2022-03-09T12:00:00",
          "2022-03-09T13:00:00",
          "2022-03-09T14:00:00",
          "2022-03-09T15:00:00",
          "2022-03-09T16:00:00",
          "2022-03-09T17:00:00",
          "2022-03-09T18:00:00",
          "2022-03-09T19:00:00",
          "2022-03-09T20:00:00",
          "2022-03-09T21:00:00",
          "2022-03-09T22:00:00",
          "2022-03-09T23:00:00",
          "2022-03-10T00:00:00",
          "2022-03-10T01:00:00",
          "2022-03-10T02:00:00",
          "2022-03-10T03:00:00",
          "2022-03-10T04:00:00",
          "2022-03-10T05:00:00",
          "2022-03-10T06:00:00",
          "2022-03-10T07:00:00",
          "2022-03-10T08:00:00",
          "2022-03-10T09:00:00",
          "2022-03-10T10:00:00",
          "2022-03-10T11:00:00",
          "2022-03-10T12:00:00",
          "2022-03-10T13:00:00",
          "2022-03-10T14:00:00",
          "2022-03-10T15:00:00",
          "2022-03-10T16:00:00",
          "2022-03-10T17:00:00",
          "2022-03-10T18:00:00",
          "2022-03-10T19:00:00",
          "2022-03-10T20:00:00",
          "2022-03-10T21:00:00",
          "2022-03-10T22:00:00",
          "2022-03-10T23:00:00",
          "2022-03-11T00:00:00",
          "2022-03-11T01:00:00",
          "2022-03-11T02:00:00",
          "2022-03-11T03:00:00",
          "2022-03-11T04:00:00",
          "2022-03-11T05:00:00",
          "2022-03-11T06:00:00",
          "2022-03-11T07:00:00",
          "2022-03-11T08:00:00",
          "2022-03-11T09:00:00",
          "2022-03-11T10:00:00",
          "2022-03-11T11:00:00",
          "2022-03-11T12:00:00",
          "2022-03-11T13:00:00",
          "2022-03-11T14:00:00",
          "2022-03-11T15:00:00",
          "2022-03-11T16:00:00",
          "2022-03-11T17:00:00",
          "2022-03-11T18:00:00",
          "2022-03-11T19:00:00",
          "2022-03-11T20:00:00",
          "2022-03-11T21:00:00",
          "2022-03-11T22:00:00",
          "2022-03-11T23:00:00",
          "2022-03-12T00:00:00",
          "2022-03-12T01:00:00",
          "2022-03-12T02:00:00",
          "2022-03-12T03:00:00",
          "2022-03-12T04:00:00",
          "2022-03-12T05:00:00",
          "2022-03-12T06:00:00",
          "2022-03-12T07:00:00",
          "2022-03-12T08:00:00",
          "2022-03-12T09:00:00",
          "2022-03-12T10:00:00",
          "2022-03-12T11:00:00",
          "2022-03-12T12:00:00",
          "2022-03-12T13:00:00",
          "2022-03-12T14:00:00",
          "2022-03-12T15:00:00",
          "2022-03-12T16:00:00",
          "2022-03-12T17:00:00",
          "2022-03-12T18:00:00",
          "2022-03-12T19:00:00",
          "2022-03-12T20:00:00",
          "2022-03-12T21:00:00",
          "2022-03-12T22:00:00",
          "2022-03-12T23:00:00",
          "2022-03-13T00:00:00",
          "2022-03-13T01:00:00",
          "2022-03-13T02:00:00",
          "2022-03-13T03:00:00",
          "2022-03-13T04:00:00",
          "2022-03-13T05:00:00",
          "2022-03-13T06:00:00",
          "2022-03-13T07:00:00",
          "2022-03-13T08:00:00",
          "2022-03-13T09:00:00",
          "2022-03-13T10:00:00",
          "2022-03-13T11:00:00",
          "2022-03-13T12:00:00",
          "2022-03-13T13:00:00",
          "2022-03-13T14:00:00",
          "2022-03-13T15:00:00",
          "2022-03-13T16:00:00",
          "2022-03-13T17:00:00",
          "2022-03-13T18:00:00",
          "2022-03-13T19:00:00",
          "2022-03-13T20:00:00",
          "2022-03-13T21:00:00",
          "2022-03-13T22:00:00",
          "2022-03-13T23:00:00",
          "2022-03-14T00:00:00",
          "2022-03-14T01:00:00",
          "2022-03-14T02:00:00",
          "2022-03-14T03:00:00",
          "2022-03-14T04:00:00",
          "2022-03-14T05:00:00",
          "2022-03-14T06:00:00",
          "2022-03-14T07:00:00",
          "2022-03-14T08:00:00",
          "2022-03-14T09:00:00",
          "2022-03-14T10:00:00",
          "2022-03-14T11:00:00",
          "2022-03-14T12:00:00",
          "2022-03-14T13:00:00",
          "2022-03-14T14:00:00",
          "2022-03-14T15:00:00",
          "2022-03-14T16:00:00",
          "2022-03-14T17:00:00",
          "2022-03-14T18:00:00",
          "2022-03-14T19:00:00",
          "2022-03-14T20:00:00",
          "2022-03-14T21:00:00",
          "2022-03-14T22:00:00",
          "2022-03-14T23:00:00",
          "2022-03-15T00:00:00",
          "2022-03-15T01:00:00",
          "2022-03-15T02:00:00",
          "2022-03-15T03:00:00",
          "2022-03-15T04:00:00",
          "2022-03-15T05:00:00",
          "2022-03-15T06:00:00",
          "2022-03-15T07:00:00",
          "2022-03-15T08:00:00",
          "2022-03-15T09:00:00",
          "2022-03-15T10:00:00",
          "2022-03-15T11:00:00",
          "2022-03-15T12:00:00",
          "2022-03-15T13:00:00",
          "2022-03-15T14:00:00",
          "2022-03-15T15:00:00",
          "2022-03-15T16:00:00",
          "2022-03-15T17:00:00",
          "2022-03-15T18:00:00",
          "2022-03-15T19:00:00",
          "2022-03-15T20:00:00",
          "2022-03-15T21:00:00",
          "2022-03-15T22:00:00",
          "2022-03-15T23:00:00",
          "2022-03-16T00:00:00",
          "2022-03-16T01:00:00",
          "2022-03-16T02:00:00",
          "2022-03-16T03:00:00",
          "2022-03-16T04:00:00",
          "2022-03-16T05:00:00",
          "2022-03-16T06:00:00",
          "2022-03-16T07:00:00",
          "2022-03-16T08:00:00",
          "2022-03-16T09:00:00",
          "2022-03-16T10:00:00",
          "2022-03-16T11:00:00",
          "2022-03-16T12:00:00",
          "2022-03-16T13:00:00",
          "2022-03-16T14:00:00",
          "2022-03-16T15:00:00",
          "2022-03-16T16:00:00",
          "2022-03-16T17:00:00",
          "2022-03-16T18:00:00",
          "2022-03-16T19:00:00",
          "2022-03-16T20:00:00",
          "2022-03-16T21:00:00",
          "2022-03-16T22:00:00",
          "2022-03-16T23:00:00",
          "2022-03-17T00:00:00",
          "2022-03-17T01:00:00",
          "2022-03-17T02:00:00",
          "2022-03-17T03:00:00",
          "2022-03-17T04:00:00",
          "2022-03-17T05:00:00",
          "2022-03-17T06:00:00",
          "2022-03-17T07:00:00",
          "2022-03-17T08:00:00",
          "2022-03-17T09:00:00",
          "2022-03-17T10:00:00",
          "2022-03-17T11:00:00",
          "2022-03-17T12:00:00",
          "2022-03-17T13:00:00",
          "2022-03-17T14:00:00",
          "2022-03-17T15:00:00",
          "2022-03-17T16:00:00",
          "2022-03-17T17:00:00",
          "2022-03-17T18:00:00",
          "2022-03-17T19:00:00",
          "2022-03-17T20:00:00",
          "2022-03-17T21:00:00",
          "2022-03-17T22:00:00",
          "2022-03-17T23:00:00",
          "2022-03-18T00:00:00",
          "2022-03-18T01:00:00",
          "2022-03-18T02:00:00",
          "2022-03-18T03:00:00",
          "2022-03-18T04:00:00",
          "2022-03-18T05:00:00",
          "2022-03-18T06:00:00",
          "2022-03-18T07:00:00",
          "2022-03-18T08:00:00",
          "2022-03-18T09:00:00",
          "2022-03-18T10:00:00",
          "2022-03-18T11:00:00",
          "2022-03-18T12:00:00",
          "2022-03-18T13:00:00",
          "2022-03-18T14:00:00",
          "2022-03-18T15:00:00",
          "2022-03-18T16:00:00",
          "2022-03-18T17:00:00",
          "2022-03-18T18:00:00",
          "2022-03-18T19:00:00",
          "2022-03-18T20:00:00",
          "2022-03-18T21:00:00",
          "2022-03-18T22:00:00",
          "2022-03-18T23:00:00",
          "2022-03-19T00:00:00",
          "2022-03-19T01:00:00",
          "2022-03-19T02:00:00",
          "2022-03-19T03:00:00",
          "2022-03-19T04:00:00",
          "2022-03-19T05:00:00",
          "2022-03-19T06:00:00",
          "2022-03-19T07:00:00",
          "2022-03-19T08:00:00",
          "2022-03-19T09:00:00",
          "2022-03-19T10:00:00",
          "2022-03-19T11:00:00",
          "2022-03-19T12:00:00",
          "2022-03-19T13:00:00",
          "2022-03-19T14:00:00",
          "2022-03-19T15:00:00",
          "2022-03-19T16:00:00",
          "2022-03-19T17:00:00",
          "2022-03-19T18:00:00",
          "2022-03-19T19:00:00",
          "2022-03-19T20:00:00",
          "2022-03-19T21:00:00",
          "2022-03-19T22:00:00",
          "2022-03-19T23:00:00",
          "2022-03-20T00:00:00",
          "2022-03-20T01:00:00",
          "2022-03-20T02:00:00",
          "2022-03-20T03:00:00",
          "2022-03-20T04:00:00",
          "2022-03-20T05:00:00",
          "2022-03-20T06:00:00",
          "2022-03-20T07:00:00",
          "2022-03-20T08:00:00",
          "2022-03-20T09:00:00",
          "2022-03-20T10:00:00",
          "2022-03-20T11:00:00",
          "2022-03-20T12:00:00",
          "2022-03-20T13:00:00",
          "2022-03-20T14:00:00",
          "2022-03-20T15:00:00",
          "2022-03-20T16:00:00",
          "2022-03-20T17:00:00",
          "2022-03-20T18:00:00",
          "2022-03-20T19:00:00",
          "2022-03-20T20:00:00",
          "2022-03-20T21:00:00",
          "2022-03-20T22:00:00",
          "2022-03-20T23:00:00",
          "2022-03-21T00:00:00",
          "2022-03-21T01:00:00",
          "2022-03-21T02:00:00",
          "2022-03-21T03:00:00",
          "2022-03-21T04:00:00",
          "2022-03-21T05:00:00",
          "2022-03-21T06:00:00",
          "2022-03-21T07:00:00",
          "2022-03-21T08:00:00",
          "2022-03-21T09:00:00",
          "2022-03-21T10:00:00",
          "2022-03-21T11:00:00",
          "2022-03-21T12:00:00",
          "2022-03-21T13:00:00",
          "2022-03-21T14:00:00",
          "2022-03-21T15:00:00",
          "2022-03-21T16:00:00",
          "2022-03-21T17:00:00",
          "2022-03-21T18:00:00",
          "2022-03-21T19:00:00",
          "2022-03-21T20:00:00",
          "2022-03-21T21:00:00",
          "2022-03-21T22:00:00",
          "2022-03-21T23:00:00",
          "2022-03-22T00:00:00",
          "2022-03-22T01:00:00",
          "2022-03-22T02:00:00",
          "2022-03-22T03:00:00",
          "2022-03-22T04:00:00",
          "2022-03-22T05:00:00",
          "2022-03-22T06:00:00",
          "2022-03-22T07:00:00",
          "2022-03-22T08:00:00",
          "2022-03-22T09:00:00",
          "2022-03-22T10:00:00",
          "2022-03-22T11:00:00",
          "2022-03-22T12:00:00",
          "2022-03-22T13:00:00",
          "2022-03-22T14:00:00",
          "2022-03-22T15:00:00",
          "2022-03-22T16:00:00",
          "2022-03-22T17:00:00",
          "2022-03-22T18:00:00",
          "2022-03-22T19:00:00",
          "2022-03-22T20:00:00",
          "2022-03-22T21:00:00",
          "2022-03-22T22:00:00",
          "2022-03-22T23:00:00",
          "2022-03-23T00:00:00",
          "2022-03-23T01:00:00",
          "2022-03-23T02:00:00",
          "2022-03-23T03:00:00",
          "2022-03-23T04:00:00",
          "2022-03-23T05:00:00",
          "2022-03-23T06:00:00",
          "2022-03-23T07:00:00",
          "2022-03-23T08:00:00",
          "2022-03-23T09:00:00",
          "2022-03-23T10:00:00",
          "2022-03-23T11:00:00",
          "2022-03-23T12:00:00",
          "2022-03-23T13:00:00",
          "2022-03-23T14:00:00",
          "2022-03-23T15:00:00",
          "2022-03-23T16:00:00",
          "2022-03-23T17:00:00",
          "2022-03-23T18:00:00",
          "2022-03-23T19:00:00",
          "2022-03-23T20:00:00",
          "2022-03-23T21:00:00",
          "2022-03-23T22:00:00",
          "2022-03-23T23:00:00",
          "2022-03-24T00:00:00",
          "2022-03-24T01:00:00",
          "2022-03-24T02:00:00",
          "2022-03-24T03:00:00",
          "2022-03-24T04:00:00",
          "2022-03-24T05:00:00",
          "2022-03-24T06:00:00",
          "2022-03-24T07:00:00",
          "2022-03-24T08:00:00",
          "2022-03-24T09:00:00",
          "2022-03-24T10:00:00",
          "2022-03-24T11:00:00",
          "2022-03-24T12:00:00",
          "2022-03-24T13:00:00",
          "2022-03-24T14:00:00",
          "2022-03-24T15:00:00",
          "2022-03-24T16:00:00",
          "2022-03-24T17:00:00",
          "2022-03-24T18:00:00",
          "2022-03-24T19:00:00",
          "2022-03-24T20:00:00",
          "2022-03-24T21:00:00",
          "2022-03-24T22:00:00",
          "2022-03-24T23:00:00",
          "2022-03-25T00:00:00",
          "2022-03-25T01:00:00",
          "2022-03-25T02:00:00",
          "2022-03-25T03:00:00",
          "2022-03-25T04:00:00",
          "2022-03-25T05:00:00",
          "2022-03-25T06:00:00",
          "2022-03-25T07:00:00",
          "2022-03-25T08:00:00",
          "2022-03-25T09:00:00",
          "2022-03-25T10:00:00",
          "2022-03-25T11:00:00",
          "2022-03-25T12:00:00",
          "2022-03-25T13:00:00",
          "2022-03-25T14:00:00",
          "2022-03-25T15:00:00"
         ],
         "xaxis": "x",
         "y": [
          3.721677259604136,
          3.719169553120931,
          1.9725598161419235,
          0.9483458684550392,
          -0.0759066235687997,
          -0.0960262027051713,
          -0.1190683007240295,
          -0.132508674595091,
          -0.1324025948842366,
          -0.1296103378136952,
          -0.1298032538758383,
          -0.1298128995630476,
          -0.1314187781678305,
          -0.1311776750617557,
          -0.1346981018781662,
          -0.1434220612049102,
          -0.1218364155954784,
          -0.1149884194135665,
          -0.1384259021944469,
          -0.1459201609094938,
          -0.1491801967223485,
          -0.1519338513414065,
          -0.1527633234858512,
          -0.1558304414153098,
          -0.1575858359535535,
          -0.1619068071246146,
          -0.1674045140544573,
          -0.178211807873514,
          -0.181428438756201,
          -0.1877603928248087,
          -0.178014075424936,
          -0.048799180984497,
          0.0987171934710609,
          -0.0704234207669893,
          -0.0925829453600777,
          -0.1135127299361758,
          -0.1337818251715766,
          -0.1526861609684096,
          -0.1684895813465118,
          -0.1841869062847561,
          -0.1978395212027762,
          -0.2232880017823643,
          -0.2452112257480621,
          -0.2668161721693144,
          -0.285754237903489,
          -0.3021219220426347,
          -0.3163435596558783,
          -0.3176552787423133,
          3.1497685107919904,
          3.6331790155834622,
          3.621894281440312,
          3.644579463534885,
          3.6101321538289386,
          3.6072675466537474,
          3.640282596482171,
          3.641189244058397,
          3.6405188971095614,
          3.6209153175354,
          3.626398509078556,
          3.6187307092878553,
          3.616232642862532,
          3.633212786250645,
          2.071609761648708,
          0.4117380511429575,
          -0.0728925398654407,
          -0.0951437128914727,
          -0.1099585240085919,
          -0.1228539819518725,
          -0.1676022340854009,
          -0.3027247278226746,
          -0.3723138526082039,
          -0.4016203771034876,
          -0.4218171286914083,
          -0.4628231131368213,
          -0.5052276240454779,
          -0.3811631942788759,
          2.921783365971512,
          3.8174382593896654,
          3.751388891537984,
          3.68968458308114,
          3.64099633163876,
          3.624344144927131,
          3.60752315123876,
          3.603337211079068,
          3.603674770726098,
          3.605271045366923,
          3.605676125155554,
          3.61725019481447,
          3.686805566151936,
          3.685624045795865,
          2.353641004032559,
          1.3129388474755816,
          -0.0566357874208026,
          -0.1065152458018726,
          -0.1247878402471542,
          -0.1443479999899864,
          -0.1166907827059428,
          -0.1290171715948317,
          -0.1330825467904409,
          -0.1380979696909586,
          -0.137085234787729,
          -0.1471402534180217,
          -0.1449797416726748,
          -0.150742690761884,
          -0.151504647731781,
          -0.1516493231058121,
          -0.1529899815718332,
          -0.1502170369029045,
          -0.1479022309184074,
          -0.1494116773207982,
          -0.1491319715976715,
          -0.1507137556870778,
          -0.149918041129907,
          -0.1555748482545216,
          -0.1584104855855306,
          -0.1610725124677022,
          -0.1623263657093047,
          -0.1640142450730005,
          -0.1649208774169286,
          -0.1648919423421224,
          -0.2950906579693158,
          -0.1440972170896,
          -0.0723910285366906,
          -0.0934606303771336,
          -0.10866126815478,
          -0.1202546222342385,
          -0.1270062098900477,
          -0.152575231426292,
          -0.2289834163255161,
          -0.2860532406303617,
          -0.3270688614911503,
          -0.352054404715697,
          -0.3673225255476104,
          -0.383878275917636,
          -0.3979311414890819,
          -0.4108121133512921,
          -0.4203607271114985,
          -0.4251977110902468,
          -0.428578292330106,
          -0.4307194946540726,
          -0.4265962397058805,
          -0.4215422466397285,
          -0.4201967656612395,
          -0.4201437180240948,
          -0.4184847737352052,
          -0.4176118718253241,
          -0.4168402433395387,
          -0.418388322326872,
          -0.4194589212536811,
          -0.4202112331986427,
          2.842370754977068,
          3.719844677713182,
          3.7988088210423774,
          3.760648149914212,
          3.7223138385348857,
          3.695317302809821,
          3.6931520077917313,
          3.702498074372609,
          3.715620173348321,
          3.685599933730231,
          0.6381028094225459,
          0.0172839414742257,
          -0.1005738783213827,
          -0.1833043980929586,
          2.647000384827455,
          3.966878867149353,
          3.831553830040826,
          3.8408275306224815,
          3.273061347670025,
          3.3245611713992225,
          3.488642928997676,
          3.1446903944015503,
          3.4085069725910824,
          3.5966049353281657,
          3.551851859357622,
          3.553819439146254,
          3.567182675997416,
          3.1680893076790704,
          3.395138861073388,
          3.645389646954007,
          2.105208334989018,
          0.995707944697804,
          -0.0748215778006447,
          -0.0771894570853975,
          -0.1096595250897937,
          -0.1569010405076875,
          1.4154899751146637,
          3.523693107234107,
          3.629923790031009,
          3.828018887837728,
          3.8186246156692505,
          3.74195118215349,
          3.866415908601549,
          3.745973184373644,
          4.009977806939019,
          4.025810186068217,
          3.974406823847029,
          3.91308833890491,
          3.8459249311023287,
          3.963517569171058,
          3.901316539446513,
          3.826398534244961,
          3.880261380142636,
          3.88482829729716,
          3.897063072522481,
          3.9044270753860473,
          3.902348562081655,
          3.906124597125584,
          3.945905668205685,
          3.903684409459432,
          0.9056712991661496,
          0.7144676095909542,
          0.630430167251163,
          -0.0665412654479344,
          -0.066806503633658,
          -0.0765239427487055,
          -0.0911795887682173,
          -0.1341338884499338,
          -0.1091724334491623,
          -0.1186921078297826,
          -0.1180892803602748,
          -0.1191791699992285,
          -0.124218780795733,
          -0.1286410043636957,
          -0.1289544668462541,
          -0.1549093359046512,
          -0.1920572910043928,
          -0.224233212073644,
          -0.2529224654038747,
          -0.2781249940395355,
          -0.299869797958268,
          -0.3134982622332043,
          -0.3196373485856585,
          -0.5043595678276486,
          2.610074256691668,
          3.6200376311937967,
          3.567139269245996,
          3.558357433478037,
          3.570601860682169,
          3.573278362221188,
          3.575868056880103,
          3.5780237250857883,
          3.462254050042894,
          3.598731671439277,
          3.520896022849613,
          3.582725695768992,
          3.614684608247545,
          3.5605661511421203,
          3.5547212534480623,
          3.5846595221095616,
          3.650294162167443,
          3.620756165186564,
          3.603607241312663,
          3.602377510070801,
          3.62506268951628,
          3.615055949158138,
          3.612581981552972,
          3.694487849871317,
          2.6560570870836577,
          1.1357831749651166,
          -0.0515866211718983,
          -0.0702787477109167,
          -0.0559558479322327,
          -0.0925395197338528,
          -0.1053047685159577,
          -0.1185522589418623,
          -0.1581983049710592,
          -0.1958477934201558,
          -0.229943099617958,
          -0.2615403229991594,
          -0.2837046550379859,
          -0.2953993073768086,
          -0.3087914849321047,
          -0.3176504597067833,
          -0.3215229686763552,
          -0.32301308049096,
          -0.3242717994583977,
          -0.3229600614971585,
          -0.321373458703359,
          -0.3269049007031652,
          -0.2798514420787493,
          3.8380063464244207,
          4.002334099345737,
          3.947212571567959,
          3.8965663618511615,
          3.8923225270377264,
          3.889183061652713,
          3.8912230014801024,
          3.866213346852197,
          3.865832361910078,
          3.872333143817054,
          3.880367475085788,
          3.8713445272710594,
          3.947439233462016,
          3.951866292953491,
          3.963406635655297,
          3.948369981182946,
          3.950882524914212,
          3.83926022582584,
          3.885199659400516,
          3.952932103474935,
          1.6912470996379851,
          0.999913192457623,
          -0.0676552832126617,
          -0.1099054763714472,
          -0.1111159270008405,
          -0.1087046707669893,
          -0.097530865503682,
          -0.114245740407043,
          2.873287997146448,
          3.738498242696126,
          3.730618260966407,
          3.704306542873383,
          3.71082659429974,
          3.6384982546170552,
          1.7946614474058151,
          0.5345148525304262,
          -0.1071614543596903,
          -0.1132860730091731,
          -0.1175829440355301,
          -0.1439573678705427,
          -0.1785349138908916,
          -0.2113715393675698,
          -0.2324652681748072,
          -0.2544849620925055,
          -0.2708092255724801,
          -0.2833092080222236,
          -0.2936487206154399,
          -0.2765432016717063,
          3.504108817047543,
          3.863387336995866,
          3.8872588872909546,
          3.903385399447547,
          3.886275079515245,
          3.889057687918345,
          3.869555367363824,
          3.834789734416538,
          3.8388695730103386,
          1.057089120480749,
          0.7812837796078788,
          -0.0942033148474163,
          -0.1370707733763588,
          -0.1467495913306871,
          -0.2039110763205422,
          -0.343484761317571,
          -0.452927279472351,
          -0.4567611957589785,
          -0.4320505450169245,
          -0.3926022412048446,
          -0.3990065771672461,
          -0.4009693488478661,
          -0.4037808736165365,
          -0.4398340980211894,
          -0.5446373456054263,
          -0.6302951422002581,
          -0.6210358747177653,
          -0.5983410528964467,
          -0.5801360002822347,
          -0.5611593294474814,
          -0.5402729582455423,
          -0.5197771921753883,
          -0.4992718059155676,
          -0.4865644272830751,
          -0.4797357271114985,
          -0.4539062432116932,
          3.1877652635176976,
          3.555603755844964,
          3.633632334073385,
          3.633376737435659,
          3.621759267648061,
          2.640263313386176,
          0.4558931291103363,
          1.2290027028984496,
          -0.059191739724742,
          -0.07198106729322,
          -0.08148149881098,
          -0.0938657416237725,
          -0.0471064801017443,
          -0.0143325666586558,
          -0.0317226037383079,
          -0.0935233395960595,
          2.048582164115376,
          3.497212584813436,
          3.583439436223772,
          3.689896783563826,
          3.6830005817943134,
          3.644974931081136,
          3.567235740025838,
          3.735677084657881,
          3.753559037049612,
          3.7512683192888896,
          3.820727229118347,
          3.864916091495089,
          3.866078307893541,
          3.848365153206719,
          3.829272762934367,
          3.828274496396383,
          3.817423799302843,
          3.7992139299710592,
          3.794362465540568,
          3.791927078035143,
          3.7896797815958654,
          3.784717407491472,
          3.781626152992248,
          3.785040512349872,
          3.786525868044959,
          3.786844127708011,
          3.79212481048372,
          3.77345681058036,
          3.6761381361219616,
          1.863493435912662,
          0.3517119952374034,
          -0.0552710221873389,
          -0.1151716876361105,
          -0.1624517712328169,
          -0.2127122013105286,
          -0.2431712932056851,
          -0.2584876721103986,
          1.983873454729716,
          3.7855854550997416,
          3.7938127001126607,
          3.792438267336952,
          3.789737649758657,
          3.793566744857365,
          3.7957127796279058,
          3.7931857612397937,
          3.788454866409302,
          3.788445221053229,
          3.794950829611884,
          3.7906105319658914,
          3.711140039232042,
          3.819063454204136,
          3.827835648589665,
          3.819835066795349,
          3.795751370324029,
          3.8160542011260974,
          3.789158973428938,
          3.815735918945737,
          3.79394772582584,
          3.8118875251875983,
          3.807315780056848,
          3.807556895414988,
          3.82251640425788,
          3.880425381660461,
          3.8645495626661512,
          3.924503262837728,
          3.8914448181788126,
          3.858945782979329,
          3.8418113483322993,
          1.9441406283113687,
          0.5383005287912158,
          0.0274980740414725,
          -0.1032600477337837,
          0.2198254207770029,
          0.23673321571615,
          0.2821759286854002,
          0.2987364692820443,
          0.3154996242788103,
          0.3590229550997416,
          0.4402199072970284,
          0.0902150774995485,
          3.187283000515567,
          4.000130213631524,
          4.0444396350118845,
          4.038353584872352,
          4.0416666746139525,
          4.0330391910341055,
          4.246238426367442,
          4.135604747136434,
          4.0486641539467705,
          4.037779717975193,
          4.051745743221707,
          4.009428034888374,
          4.004904488722484,
          4.014747307035658,
          4.070568107234108,
          4.0841290579901806,
          4.063088340229458,
          4.047907017336952,
          4.039052848021189,
          4.027454674243927,
          4.04684124522739,
          4.029605531692505,
          4.017886763148837,
          2.0170572896798453,
          0.1324652771155039,
          -0.0810715458459324,
          -0.0959345559279123,
          1.4527777956591712,
          3.9689525445302327,
          3.980107051796383,
          3.995216049088372,
          4.07435864077674,
          4.0198543323410885,
          4.00821760892868,
          3.9873022635777793,
          3.970751359727648,
          3.8970582511689926,
          4.034977818859948,
          4.045418597592247,
          3.975757132636176,
          4.050839115513695,
          3.993359390894572,
          4.036000186867184,
          4.067394869857364,
          4.021098571353488,
          3.974604550997416,
          4.006221071879069,
          4.01277488205168,
          4.016608798503876,
          4.016420724656847,
          3.962673621707492,
          4.029267936282688,
          4.038773145940569,
          4.057720871766408,
          4.070351089371576,
          4.078510816891988,
          3.410035700268216,
          0.5726080255375968,
          1.0870129275653098,
          -0.0468701773219638,
          -0.0950327922900517,
          -0.1109037364522616,
          -0.1133825078606605,
          -0.1207320579224162,
          -0.1222077876329422,
          -0.1229842397901746,
          -0.1255546334717009,
          -0.1272666159603331,
          -0.125906663470798,
          -0.1387056426869498,
          -0.1680362664990955,
          -0.1951485312647289,
          -0.2174913300408257,
          -0.2311535295512941,
          -0.2424768704507086,
          -0.2521701307760344,
          -0.2598235161768065,
          -0.2665509232216411,
          -0.2715036658777131,
          -0.2744550575812657,
          -0.2775173577997419,
          -0.2746335016356575,
          -0.2763840410444472,
          -0.2800443718830744,
          -0.2866415689388911,
          -0.291647378106912,
          -0.3098090314202838,
          -0.3169994233383073,
          -0.3241319411330753,
          -0.3262731552124023,
          -0.3319830099741618,
          -0.3359760502974192,
          -0.3401427514023251,
          -0.3435956796010335,
          -0.3450472558538119,
          -0.3485773416029082,
          -0.35305750866731,
          -0.3589602639277776,
          -0.3609423165520032,
          -0.3619502216577531,
          -0.3628472089767456,
          -0.3628472089767456,
          -0.3653549313545227,
          -0.3757667794823646,
          -0.3717158539427651,
          -0.3668933285607232,
          -0.3645881954166624,
          -0.3650800748003853,
          -0.3662905050648583,
          -0.3697916643487082,
          -0.3728636269768078,
          -0.3732638955116271,
          -0.3732638955116271,
          -0.3732880080739656,
          -0.3751639693975447,
          -0.3732928199900521,
          -0.3766492992639542,
          -0.3779369100928307,
          -0.3761091778675715,
          -0.3817900980512301,
          -0.3790750230352084,
          -0.3755208313465118,
          -0.3728780875603358,
          -0.3666859636704128,
          -0.360103199382623,
          -0.3521942680080732,
          -0.3450520783662796,
          -0.3369309312767453,
          -0.3299816673000653,
          -0.3200231451127264,
          -0.3080874007609155,
          -0.2986448620756467,
          -0.1899257312218348,
          -0.1558979565898577,
          -0.1369454105695088,
          3.642814423640569,
          3.647043795055814,
          3.6362220340304905,
          3.707026427321964,
          3.71729842291938,
          3.713155857721965,
          3.6980516804589167,
          3.683666095468733,
          3.654099150498708,
          3.7336178594165377,
          3.780160106552972,
          3.777975510226356,
          3.763932287693024,
          3.725501557191213,
          2.7154369137353367,
          1.273215662108527,
          -0.0988233066267437,
          -0.2367380418711238,
          -0.2893711424536175,
          -0.3304108755456076,
          -0.3546441011958652,
          -0.3740065511729982,
          -0.3876543227169249,
          -0.3901041651765505,
          -0.3737316605117586,
          -0.3664014356003867,
          -0.3670524521006478,
          -0.3705102147327529,
          -0.373394103348255,
          -0.3756655067205429,
          -0.3757860695322355,
          -0.373201202849547,
          -0.3711901989248063,
          -0.3661699566576216,
          -0.3634693344434102,
          -0.3612750699122747,
          -0.3580246965090434,
          -0.3552517518401145,
          -0.3516686245799065,
          -0.3466097502244843,
          -0.3403453061978022,
          0.1828366228275828,
          3.6718412187364367,
          3.7537471214930216,
          3.77554976410336,
          3.754118439886305,
          3.7344666361808776,
          3.740629830625322,
          3.7347897383901807,
          3.697106491194831,
          3.6470823605855305,
          3.658926508161757,
          3.678631373246511,
          3.679258304172092,
          3.655242084132301,
          2.1132716059684755,
          0.956698499951098,
          -0.0590856494175063,
          -0.0673080421156353,
          -0.0781202082832654,
          -0.0884982513056861,
          -0.115354930029975,
          -0.1870563255416022,
          -0.3596547075443798,
          -0.4972270432445738,
          -0.5249710584680239,
          -0.5365354960163434,
          -0.5477623505724801,
          -0.5752121849192513,
          -0.6329861275023885,
          -0.6387249300877252,
          -0.6360387906432152,
          -0.6096643598543273,
          -0.1472029260463185,
          -0.159958512087663,
          -0.1583043903112412,
          -0.1589602520068486,
          2.9545572713017463,
          3.911472792095608,
          3.899763703346253,
          3.8846161087354014,
          3.861805558204651,
          3.8438609295421178,
          3.843200217352973,
          3.8452015823788113,
          3.851567318704393,
          3.845978026919895,
          3.853043007850647,
          3.440325998928812,
          1.0195698221524556,
          0.2788339063525197,
          -0.05814042372836,
          -0.1276475697755813,
          -0.1828993045621448,
          -0.2321952167484495,
          -0.273644868698385,
          -0.3091194084948964,
          -0.336848953531848,
          -0.3587191431058777,
          -0.3766782301995489,
          -0.3917197162906329,
          -0.4026090030868848,
          -0.4111352279782295,
          -0.4191936704847547,
          -0.4260416507720947,
          -0.433314045270284,
          -0.4415798607799742,
          -0.4521122723817825,
          -0.4564766461650531,
          -0.4591772629155053,
          -0.4604697191052966,
          -0.4594714512427648,
          -0.4571518222490946,
          -0.4511236571603351,
          -0.4264081741372744,
          -0.3756558648414082,
          -0.3329330599970287,
          -0.3082175999879837,
          -0.2961757356921832,
          -0.2919946153958639,
          -0.2992814433243539,
          -0.3113763615489006,
          -0.3265432010094324,
          -0.342809600631396,
          -0.3573833008607228,
          -0.3703703723020023,
          -0.384235139687856,
          -0.3956983061300383,
          -0.3988474392228656,
          -0.3821325168013573,
          -0.3543354602323638,
          -0.3351755226651827,
          -0.3336853568752606,
          -0.3374131851726108,
          -0.3384597010082669,
          -0.3386526043216388,
          2.1721354007720945,
          4.039771425724029,
          4.096576008531782,
          4.043031439516279,
          3.963377688990699,
          3.932084327273899,
          3.9280526638031006,
          3.951533542739021,
          3.964086601469252,
          3.982716057035658,
          3.9664592729674446,
          3.942192316055298,
          3.9317852987183466,
          3.961911634604136,
          1.56400944971376,
          0.3423032376501296,
          -0.1131944467624028,
          -0.1410300835967064,
          3.159987475640244,
          3.73599056535297,
          3.755251755979326,
          3.749170544412401,
          3.6891059001286814,
          3.6328896628485774,
          3.6561246024237737,
          3.747207742267185,
          3.812080429659949,
          3.730145638518864,
          3.742645641167959,
          3.76893322997623,
          3.743388333585527,
          3.727015785376231,
          3.721788156032562,
          3.726986890368992,
          3.697120971149869,
          2.613146232234107,
          1.1289448347356583,
          1.6820987694793277,
          0.0821325240863694,
          -0.1213638120227389,
          -0.2089265136255158,
          -0.1354648916257752,
          -0.1416907456186082,
          -0.1395447141594356,
          -0.0807339967952834,
          3.745818878544702,
          3.816044594181909,
          3.7962866332795886,
          3.7550106048583984,
          3.763059429327648,
          3.774213914076488,
          3.765113793479072,
          3.791121731864081,
          3.768880203035143,
          3.6885513014263576,
          3.702907983462016,
          3.77582465145323,
          3.758555173873901,
          3.740292293495602,
          3.779272741741604,
          3.0510127201676367,
          2.364843761258656,
          0.7057580908139546,
          0.2800491919120152,
          0.2644531187083986,
          0.2812837647067176,
          0.2680169787671831,
          0.8946952142649227,
          0.2455584484669896,
          -0.1035542032784885,
          -0.1081645397676362,
          -0.1619839873578813,
          -0.210923033952713,
          -0.2476658913824293,
          -0.2701630077428288,
          -0.2843701655666033,
          -0.161521009935273,
          -0.1474730102552308,
          -0.1608024741212527,
          -0.1915557497077518,
          -0.2196228745910856,
          -0.2440586467583974,
          -0.2618441442648569,
          -0.2781346418791347,
          -0.2952449803551038,
          -0.3100598086913427,
          -0.3229021983014212,
          -0.3337335909406344,
          -0.3436294371883074,
          -0.3536072669757737,
          -0.360556515554587,
          -0.3624758761790064,
          -0.3638647940423754,
          -0.3627170011401177,
          -0.3612316673000654,
          -0.3618103687961897,
          -0.3612991824746132,
          -0.3581018567085266,
          -0.3473861969179577,
          -0.3277247168951564,
          1.4477092916766798,
          4.0841483460532295,
          4.063845500681135,
          3.997038973702325,
          3.985271985001034,
          3.9896797802713184,
          4.006896221637726,
          3.9905815998713177,
          3.972747891479069,
          4.004909349812402,
          3.970148527622223,
          3.97542437977261,
          3.988498271836175,
          4.001909727520413,
          3.9992428527937993,
          4.029629641109043,
          4.010971269342634,
          1.8006028089258406,
          0.4382812379135026,
          -0.068528159128295,
          -0.0891300009356604,
          -0.1109567885597546,
          -0.1433207937412792,
          -0.1300443781746758,
          -0.1252941605117585,
          3.800757146709495,
          3.97429592344496,
          4.0503761331240336,
          4.028332365883721,
          4.0384452051586575,
          4.0412278175354,
          3.860026037361887,
          4.059360527992249,
          4.047718951437209,
          4.045293222533332,
          4.027806735038757,
          4.022309015856849,
          3.329248639941216,
          1.4447964866956078,
          -0.0603443362646632,
          -0.0890962464941872,
          -0.0946035554011662,
          -0.1001543521881103,
          -0.1250675085518095,
          -0.1519965247975455,
          -0.1893663201067182,
          -0.2465808298852708,
          -0.295640429854393,
          1.2112075611948967,
          4.126398538218604,
          4.023514654901293,
          4.026813260714213,
          4.038831012116538,
          4.096498835086822,
          4.0614535146289406,
          4.051099528206719,
          4.061820019616021,
          4.079986504713694,
          4.075501555866666,
          4.049156051211887,
          4.050028936068217,
          3.65673225555155,
          1.2988183294573137,
          0.7832079470157624,
          0.279586222105556,
          -0.0952063808838526,
          -0.1677714651281183,
          -0.1458333338300387,
          -0.132764274544186,
          -0.2060426299770673,
          -0.2801263545950254,
          -0.3403404709365633,
          -0.3800298968950907,
          -0.4117814463045862,
          -0.4361448670427004,
          -0.4521363952093654,
          -0.4674334433343675,
          -0.4772472879952855,
          -0.4838300560911496,
          -0.4896267367733849,
          -0.4960696523388226,
          -0.5010320176680882,
          -0.0414592862129212,
          4.0182291746139525,
          4.264105905426873,
          4.186959885226356,
          4.097082397672865,
          4.275043389532301,
          4.204214896096124,
          4.120862262778812,
          4.1057532721095615,
          4.079321008258396,
          4.071657983462016,
          4.068865733676486,
          4.040480331579844,
          4.022670691543155,
          4.068537802166409,
          4.01459780799018,
          3.8320023122760976,
          1.1911024335357878,
          0.032262735068798,
          1.0283082708716391,
          3.930931715170544,
          3.924826383590698,
          3.6339216833313306,
          4.053043007850647,
          4.007243439886305,
          2.4247299298644065,
          -0.0213396951556205,
          2.747685192525387,
          4.132412237591214,
          4.056452529960208,
          4.050467803743151,
          4.0612798915969,
          4.027406436867184,
          4.080762921439277,
          4.017660129070282,
          4.043716247876485,
          4.048119212521447,
          4.037818291452196,
          4.0364824467235145,
          4.034341247876485,
          4.030758096112145,
          4.030854554971059,
          4.0177469359503855,
          4.015244024329715,
          2.667771028147804,
          0.702088154686822,
          -0.0626350427667299,
          -0.084490743610594,
          3.203848369750712,
          3.7839747402403088,
          3.822791287634108,
          3.825144676367442,
          3.7373167554537456,
          3.767447916666667,
          0.6716917450229327,
          0.2751494993766148,
          1.270326980948448,
          -0.0932243565718333,
          -0.105082963903745,
          -0.104451214770476,
          -0.1089843764901161,
          -0.1221981152892113,
          -0.1246721065706677,
          -0.1312114321523242,
          -0.1292582892709308,
          -0.1330391622251934,
          -0.1402102291584014,
          -0.1544801326261626,
          -0.1883728800548447,
          -0.2195312491721577,
          -0.248722035686175,
          -0.2744261190295219,
          -0.2946614530351427,
          -0.3134789793027772,
          -0.3312451639109187,
          -0.3438994965619511,
          -0.3553337345520655,
          -0.3665219881468349,
          -0.3761381129423777,
          -0.3834587055775854,
          -0.3885464971264202,
          -0.3900462985038757,
          -0.3949893741144074,
          -0.3942563518881798,
          -0.3945023000240326,
          -0.3939428885777791
         ],
         "yaxis": "y"
        },
        {
         "mode": "markers",
         "name": "outliers",
         "type": "scatter",
         "x": [],
         "y": []
        }
       ],
       "layout": {
        "legend": {
         "tracegroupgap": 0
        },
        "template": {
         "data": {
          "bar": [
           {
            "error_x": {
             "color": "#2a3f5f"
            },
            "error_y": {
             "color": "#2a3f5f"
            },
            "marker": {
             "line": {
              "color": "#E5ECF6",
              "width": 0.5
             },
             "pattern": {
              "fillmode": "overlay",
              "size": 10,
              "solidity": 0.2
             }
            },
            "type": "bar"
           }
          ],
          "barpolar": [
           {
            "marker": {
             "line": {
              "color": "#E5ECF6",
              "width": 0.5
             },
             "pattern": {
              "fillmode": "overlay",
              "size": 10,
              "solidity": 0.2
             }
            },
            "type": "barpolar"
           }
          ],
          "carpet": [
           {
            "aaxis": {
             "endlinecolor": "#2a3f5f",
             "gridcolor": "white",
             "linecolor": "white",
             "minorgridcolor": "white",
             "startlinecolor": "#2a3f5f"
            },
            "baxis": {
             "endlinecolor": "#2a3f5f",
             "gridcolor": "white",
             "linecolor": "white",
             "minorgridcolor": "white",
             "startlinecolor": "#2a3f5f"
            },
            "type": "carpet"
           }
          ],
          "choropleth": [
           {
            "colorbar": {
             "outlinewidth": 0,
             "ticks": ""
            },
            "type": "choropleth"
           }
          ],
          "contour": [
           {
            "colorbar": {
             "outlinewidth": 0,
             "ticks": ""
            },
            "colorscale": [
             [
              0,
              "#0d0887"
             ],
             [
              0.1111111111111111,
              "#46039f"
             ],
             [
              0.2222222222222222,
              "#7201a8"
             ],
             [
              0.3333333333333333,
              "#9c179e"
             ],
             [
              0.4444444444444444,
              "#bd3786"
             ],
             [
              0.5555555555555556,
              "#d8576b"
             ],
             [
              0.6666666666666666,
              "#ed7953"
             ],
             [
              0.7777777777777778,
              "#fb9f3a"
             ],
             [
              0.8888888888888888,
              "#fdca26"
             ],
             [
              1,
              "#f0f921"
             ]
            ],
            "type": "contour"
           }
          ],
          "contourcarpet": [
           {
            "colorbar": {
             "outlinewidth": 0,
             "ticks": ""
            },
            "type": "contourcarpet"
           }
          ],
          "heatmap": [
           {
            "colorbar": {
             "outlinewidth": 0,
             "ticks": ""
            },
            "colorscale": [
             [
              0,
              "#0d0887"
             ],
             [
              0.1111111111111111,
              "#46039f"
             ],
             [
              0.2222222222222222,
              "#7201a8"
             ],
             [
              0.3333333333333333,
              "#9c179e"
             ],
             [
              0.4444444444444444,
              "#bd3786"
             ],
             [
              0.5555555555555556,
              "#d8576b"
             ],
             [
              0.6666666666666666,
              "#ed7953"
             ],
             [
              0.7777777777777778,
              "#fb9f3a"
             ],
             [
              0.8888888888888888,
              "#fdca26"
             ],
             [
              1,
              "#f0f921"
             ]
            ],
            "type": "heatmap"
           }
          ],
          "heatmapgl": [
           {
            "colorbar": {
             "outlinewidth": 0,
             "ticks": ""
            },
            "colorscale": [
             [
              0,
              "#0d0887"
             ],
             [
              0.1111111111111111,
              "#46039f"
             ],
             [
              0.2222222222222222,
              "#7201a8"
             ],
             [
              0.3333333333333333,
              "#9c179e"
             ],
             [
              0.4444444444444444,
              "#bd3786"
             ],
             [
              0.5555555555555556,
              "#d8576b"
             ],
             [
              0.6666666666666666,
              "#ed7953"
             ],
             [
              0.7777777777777778,
              "#fb9f3a"
             ],
             [
              0.8888888888888888,
              "#fdca26"
             ],
             [
              1,
              "#f0f921"
             ]
            ],
            "type": "heatmapgl"
           }
          ],
          "histogram": [
           {
            "marker": {
             "pattern": {
              "fillmode": "overlay",
              "size": 10,
              "solidity": 0.2
             }
            },
            "type": "histogram"
           }
          ],
          "histogram2d": [
           {
            "colorbar": {
             "outlinewidth": 0,
             "ticks": ""
            },
            "colorscale": [
             [
              0,
              "#0d0887"
             ],
             [
              0.1111111111111111,
              "#46039f"
             ],
             [
              0.2222222222222222,
              "#7201a8"
             ],
             [
              0.3333333333333333,
              "#9c179e"
             ],
             [
              0.4444444444444444,
              "#bd3786"
             ],
             [
              0.5555555555555556,
              "#d8576b"
             ],
             [
              0.6666666666666666,
              "#ed7953"
             ],
             [
              0.7777777777777778,
              "#fb9f3a"
             ],
             [
              0.8888888888888888,
              "#fdca26"
             ],
             [
              1,
              "#f0f921"
             ]
            ],
            "type": "histogram2d"
           }
          ],
          "histogram2dcontour": [
           {
            "colorbar": {
             "outlinewidth": 0,
             "ticks": ""
            },
            "colorscale": [
             [
              0,
              "#0d0887"
             ],
             [
              0.1111111111111111,
              "#46039f"
             ],
             [
              0.2222222222222222,
              "#7201a8"
             ],
             [
              0.3333333333333333,
              "#9c179e"
             ],
             [
              0.4444444444444444,
              "#bd3786"
             ],
             [
              0.5555555555555556,
              "#d8576b"
             ],
             [
              0.6666666666666666,
              "#ed7953"
             ],
             [
              0.7777777777777778,
              "#fb9f3a"
             ],
             [
              0.8888888888888888,
              "#fdca26"
             ],
             [
              1,
              "#f0f921"
             ]
            ],
            "type": "histogram2dcontour"
           }
          ],
          "mesh3d": [
           {
            "colorbar": {
             "outlinewidth": 0,
             "ticks": ""
            },
            "type": "mesh3d"
           }
          ],
          "parcoords": [
           {
            "line": {
             "colorbar": {
              "outlinewidth": 0,
              "ticks": ""
             }
            },
            "type": "parcoords"
           }
          ],
          "pie": [
           {
            "automargin": true,
            "type": "pie"
           }
          ],
          "scatter": [
           {
            "fillpattern": {
             "fillmode": "overlay",
             "size": 10,
             "solidity": 0.2
            },
            "type": "scatter"
           }
          ],
          "scatter3d": [
           {
            "line": {
             "colorbar": {
              "outlinewidth": 0,
              "ticks": ""
             }
            },
            "marker": {
             "colorbar": {
              "outlinewidth": 0,
              "ticks": ""
             }
            },
            "type": "scatter3d"
           }
          ],
          "scattercarpet": [
           {
            "marker": {
             "colorbar": {
              "outlinewidth": 0,
              "ticks": ""
             }
            },
            "type": "scattercarpet"
           }
          ],
          "scattergeo": [
           {
            "marker": {
             "colorbar": {
              "outlinewidth": 0,
              "ticks": ""
             }
            },
            "type": "scattergeo"
           }
          ],
          "scattergl": [
           {
            "marker": {
             "colorbar": {
              "outlinewidth": 0,
              "ticks": ""
             }
            },
            "type": "scattergl"
           }
          ],
          "scattermapbox": [
           {
            "marker": {
             "colorbar": {
              "outlinewidth": 0,
              "ticks": ""
             }
            },
            "type": "scattermapbox"
           }
          ],
          "scatterpolar": [
           {
            "marker": {
             "colorbar": {
              "outlinewidth": 0,
              "ticks": ""
             }
            },
            "type": "scatterpolar"
           }
          ],
          "scatterpolargl": [
           {
            "marker": {
             "colorbar": {
              "outlinewidth": 0,
              "ticks": ""
             }
            },
            "type": "scatterpolargl"
           }
          ],
          "scatterternary": [
           {
            "marker": {
             "colorbar": {
              "outlinewidth": 0,
              "ticks": ""
             }
            },
            "type": "scatterternary"
           }
          ],
          "surface": [
           {
            "colorbar": {
             "outlinewidth": 0,
             "ticks": ""
            },
            "colorscale": [
             [
              0,
              "#0d0887"
             ],
             [
              0.1111111111111111,
              "#46039f"
             ],
             [
              0.2222222222222222,
              "#7201a8"
             ],
             [
              0.3333333333333333,
              "#9c179e"
             ],
             [
              0.4444444444444444,
              "#bd3786"
             ],
             [
              0.5555555555555556,
              "#d8576b"
             ],
             [
              0.6666666666666666,
              "#ed7953"
             ],
             [
              0.7777777777777778,
              "#fb9f3a"
             ],
             [
              0.8888888888888888,
              "#fdca26"
             ],
             [
              1,
              "#f0f921"
             ]
            ],
            "type": "surface"
           }
          ],
          "table": [
           {
            "cells": {
             "fill": {
              "color": "#EBF0F8"
             },
             "line": {
              "color": "white"
             }
            },
            "header": {
             "fill": {
              "color": "#C8D4E3"
             },
             "line": {
              "color": "white"
             }
            },
            "type": "table"
           }
          ]
         },
         "layout": {
          "annotationdefaults": {
           "arrowcolor": "#2a3f5f",
           "arrowhead": 0,
           "arrowwidth": 1
          },
          "autotypenumbers": "strict",
          "coloraxis": {
           "colorbar": {
            "outlinewidth": 0,
            "ticks": ""
           }
          },
          "colorscale": {
           "diverging": [
            [
             0,
             "#8e0152"
            ],
            [
             0.1,
             "#c51b7d"
            ],
            [
             0.2,
             "#de77ae"
            ],
            [
             0.3,
             "#f1b6da"
            ],
            [
             0.4,
             "#fde0ef"
            ],
            [
             0.5,
             "#f7f7f7"
            ],
            [
             0.6,
             "#e6f5d0"
            ],
            [
             0.7,
             "#b8e186"
            ],
            [
             0.8,
             "#7fbc41"
            ],
            [
             0.9,
             "#4d9221"
            ],
            [
             1,
             "#276419"
            ]
           ],
           "sequential": [
            [
             0,
             "#0d0887"
            ],
            [
             0.1111111111111111,
             "#46039f"
            ],
            [
             0.2222222222222222,
             "#7201a8"
            ],
            [
             0.3333333333333333,
             "#9c179e"
            ],
            [
             0.4444444444444444,
             "#bd3786"
            ],
            [
             0.5555555555555556,
             "#d8576b"
            ],
            [
             0.6666666666666666,
             "#ed7953"
            ],
            [
             0.7777777777777778,
             "#fb9f3a"
            ],
            [
             0.8888888888888888,
             "#fdca26"
            ],
            [
             1,
             "#f0f921"
            ]
           ],
           "sequentialminus": [
            [
             0,
             "#0d0887"
            ],
            [
             0.1111111111111111,
             "#46039f"
            ],
            [
             0.2222222222222222,
             "#7201a8"
            ],
            [
             0.3333333333333333,
             "#9c179e"
            ],
            [
             0.4444444444444444,
             "#bd3786"
            ],
            [
             0.5555555555555556,
             "#d8576b"
            ],
            [
             0.6666666666666666,
             "#ed7953"
            ],
            [
             0.7777777777777778,
             "#fb9f3a"
            ],
            [
             0.8888888888888888,
             "#fdca26"
            ],
            [
             1,
             "#f0f921"
            ]
           ]
          },
          "colorway": [
           "#636efa",
           "#EF553B",
           "#00cc96",
           "#ab63fa",
           "#FFA15A",
           "#19d3f3",
           "#FF6692",
           "#B6E880",
           "#FF97FF",
           "#FECB52"
          ],
          "font": {
           "color": "#2a3f5f"
          },
          "geo": {
           "bgcolor": "white",
           "lakecolor": "white",
           "landcolor": "#E5ECF6",
           "showlakes": true,
           "showland": true,
           "subunitcolor": "white"
          },
          "hoverlabel": {
           "align": "left"
          },
          "hovermode": "closest",
          "mapbox": {
           "style": "light"
          },
          "paper_bgcolor": "white",
          "plot_bgcolor": "#E5ECF6",
          "polar": {
           "angularaxis": {
            "gridcolor": "white",
            "linecolor": "white",
            "ticks": ""
           },
           "bgcolor": "#E5ECF6",
           "radialaxis": {
            "gridcolor": "white",
            "linecolor": "white",
            "ticks": ""
           }
          },
          "scene": {
           "xaxis": {
            "backgroundcolor": "#E5ECF6",
            "gridcolor": "white",
            "gridwidth": 2,
            "linecolor": "white",
            "showbackground": true,
            "ticks": "",
            "zerolinecolor": "white"
           },
           "yaxis": {
            "backgroundcolor": "#E5ECF6",
            "gridcolor": "white",
            "gridwidth": 2,
            "linecolor": "white",
            "showbackground": true,
            "ticks": "",
            "zerolinecolor": "white"
           },
           "zaxis": {
            "backgroundcolor": "#E5ECF6",
            "gridcolor": "white",
            "gridwidth": 2,
            "linecolor": "white",
            "showbackground": true,
            "ticks": "",
            "zerolinecolor": "white"
           }
          },
          "shapedefaults": {
           "line": {
            "color": "#2a3f5f"
           }
          },
          "ternary": {
           "aaxis": {
            "gridcolor": "white",
            "linecolor": "white",
            "ticks": ""
           },
           "baxis": {
            "gridcolor": "white",
            "linecolor": "white",
            "ticks": ""
           },
           "bgcolor": "#E5ECF6",
           "caxis": {
            "gridcolor": "white",
            "linecolor": "white",
            "ticks": ""
           }
          },
          "title": {
           "x": 0.05
          },
          "xaxis": {
           "automargin": true,
           "gridcolor": "white",
           "linecolor": "white",
           "ticks": "",
           "title": {
            "standoff": 15
           },
           "zerolinecolor": "white",
           "zerolinewidth": 2
          },
          "yaxis": {
           "automargin": true,
           "gridcolor": "white",
           "linecolor": "white",
           "ticks": "",
           "title": {
            "standoff": 15
           },
           "zerolinecolor": "white",
           "zerolinewidth": 2
          }
         }
        },
        "title": {
         "text": "Outliers for PIC-F31001C Sais"
        },
        "xaxis": {
         "anchor": "y",
         "domain": [
          0,
          1
         ],
         "title": {
          "text": "Date"
         }
        },
        "yaxis": {
         "anchor": "x",
         "domain": [
          0,
          1
         ],
         "title": {
          "text": "Value"
         }
        }
       }
      }
     },
     "metadata": {},
     "output_type": "display_data"
    }
   ],
   "source": [
    "data_cleansing.detect_outliers(df, col_name=df.columns[10], threshold=2.5)"
   ]
  }
 ],
 "metadata": {
  "kernelspec": {
   "display_name": "SQLTool",
   "language": "python",
   "name": "python3"
  },
  "language_info": {
   "codemirror_mode": {
    "name": "ipython",
    "version": 3
   },
   "file_extension": ".py",
   "mimetype": "text/x-python",
   "name": "python",
   "nbconvert_exporter": "python",
   "pygments_lexer": "ipython3",
   "version": "3.11.2"
  },
  "orig_nbformat": 4
 },
 "nbformat": 4,
 "nbformat_minor": 2
}
