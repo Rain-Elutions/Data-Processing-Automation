{
 "cells": [
  {
   "cell_type": "code",
   "execution_count": 1,
   "metadata": {},
   "outputs": [],
   "source": [
    "import pandas as pd\n",
    "from box import Box\n",
    "with open('config.yaml') as f:\n",
    "    cfg = Box.from_yaml(f.read())\n",
    "import warnings\n",
    "warnings.filterwarnings('ignore')\n",
    "from Data_Exploration.data_exploration_main import DataExploration\n",
    "from Data_Cleansing.data_cleansing_main import DataCleansing\n",
    "from Data_Preprocessing.data_preprocessing_main import DataPreprocessing, TargetEncoding, BinaryEncoding, OrdinalEncoding, FeatureScaling\n",
    "from Data_Preprocessing.feature_engineering import FeatureEngineering\n",
    "from Data_Analyzing.data_analysis_main import DataAnalysis\n",
    "from Data_Analyzing.feature_selection import FeatureSelection"
   ]
  },
  {
   "cell_type": "code",
   "execution_count": 2,
   "metadata": {},
   "outputs": [],
   "source": [
    "# data_exp = DataExploration()\n",
    "# df = data_exp.load_data('./data/raw_data/SWCC.csv', index_col=0, parse_dates=True)\n",
    "# df.head()"
   ]
  },
  {
   "cell_type": "code",
   "execution_count": 3,
   "metadata": {},
   "outputs": [],
   "source": [
    "# df_sample = df.head(1000)\n",
    "# df_sample.to_csv('./data/SWCC_sample_1000.csv')"
   ]
  },
  {
   "cell_type": "code",
   "execution_count": 4,
   "metadata": {},
   "outputs": [],
   "source": [
    "# data = pd.read_pickle('./data/raw_data/coyote_data_0731.pkl')\n",
    "# data.head()"
   ]
  },
  {
   "cell_type": "code",
   "execution_count": 5,
   "metadata": {},
   "outputs": [],
   "source": [
    "# data_sample = data.head(1000)\n",
    "# # move TotalCostUSD to the first column\n",
    "# cols = list(data_sample.columns)\n",
    "# cols.insert(0, cols.pop(cols.index('TotalCostUSD')))\n",
    "# data_sample = data_sample.loc[:, cols]\n",
    "# data_sample.to_excel('./data/coyote_0731_1000.xlsx', index=False)"
   ]
  },
  {
   "cell_type": "markdown",
   "metadata": {},
   "source": [
    "### Test DataExploration Module"
   ]
  },
  {
   "cell_type": "code",
   "execution_count": 6,
   "metadata": {},
   "outputs": [],
   "source": [
    "data_exp = DataExploration()"
   ]
  },
  {
   "cell_type": "markdown",
   "metadata": {},
   "source": [
    "load_data() function"
   ]
  },
  {
   "cell_type": "code",
   "execution_count": 2,
   "metadata": {},
   "outputs": [],
   "source": [
    "data_exp = DataExploration()\n",
    "\n",
    "# df = data_exp.load_data('./data/lng_data_sample.csv', parse_dates=True, index_col=0)\n",
    "df = data_exp.load_data('./data/sasol_data_sample.csv', parse_dates=True, index_col=0)\n",
    "# df = data_exp.load_data('./data/coyote_data_sample_100.xlsx', parse_dates=False, index_col=0)\n",
    "# df = data_exp.load_data('./data/coyote_data_sample_1000.pickle', parse_dates=False, index_col=0)\n",
    "# df = data_exp.load_data('./data/coyote_0731_1000.xlsx', parse_dates=False, index_col=False)\n",
    "# df = data_exp.load_data('./data/Essar_RE_Boilers_B21_sample.csv', parse_dates=True, index_col=0)\n",
    "# df = data_exp.load_data('./data/Savola_RO_BLEACHING_sample.csv', parse_dates=True, index_col=0)\n",
    "# df = data_exp.load_data('./data/SWCC_sample_1000.csv', parse_dates=True, index_col=0)"
   ]
  },
  {
   "cell_type": "code",
   "execution_count": 8,
   "metadata": {},
   "outputs": [
    {
     "data": {
      "text/html": [
       "<div>\n",
       "<style scoped>\n",
       "    .dataframe tbody tr th:only-of-type {\n",
       "        vertical-align: middle;\n",
       "    }\n",
       "\n",
       "    .dataframe tbody tr th {\n",
       "        vertical-align: top;\n",
       "    }\n",
       "\n",
       "    .dataframe thead th {\n",
       "        text-align: right;\n",
       "    }\n",
       "</style>\n",
       "<table border=\"1\" class=\"dataframe\">\n",
       "  <thead>\n",
       "    <tr style=\"text-align: right;\">\n",
       "      <th></th>\n",
       "      <th>HPBH:221F003 Stanlow</th>\n",
       "      <th>HPBH:221F004 Stanlow</th>\n",
       "      <th>HPBH:221F008 Stanlow</th>\n",
       "      <th>HPBH:221F011 Stanlow</th>\n",
       "      <th>HPBH:221FT009 Stanlow</th>\n",
       "      <th>HPBH:221Q004 Stanlow</th>\n",
       "      <th>HPBH:221QT004 Stanlow</th>\n",
       "      <th>HPBH:221T017 Stanlow</th>\n",
       "      <th>HPBH:221T028 Stanlow</th>\n",
       "      <th>HPBH:221T034 Stanlow</th>\n",
       "      <th>HPBH:221T035 Stanlow</th>\n",
       "      <th>HPBH:221T036 Stanlow</th>\n",
       "      <th>HPBH:221T044 Stanlow</th>\n",
       "      <th>HPBH:221TT031 Stanlow</th>\n",
       "      <th>HPBH:221TT032 Stanlow</th>\n",
       "      <th>HPBH:221U829 Stanlow</th>\n",
       "    </tr>\n",
       "    <tr>\n",
       "      <th>Date</th>\n",
       "      <th></th>\n",
       "      <th></th>\n",
       "      <th></th>\n",
       "      <th></th>\n",
       "      <th></th>\n",
       "      <th></th>\n",
       "      <th></th>\n",
       "      <th></th>\n",
       "      <th></th>\n",
       "      <th></th>\n",
       "      <th></th>\n",
       "      <th></th>\n",
       "      <th></th>\n",
       "      <th></th>\n",
       "      <th></th>\n",
       "      <th></th>\n",
       "    </tr>\n",
       "  </thead>\n",
       "  <tbody>\n",
       "    <tr>\n",
       "      <th>2018-03-25 00:00:00</th>\n",
       "      <td>169.025074</td>\n",
       "      <td>-76.037167</td>\n",
       "      <td>38.82345</td>\n",
       "      <td>NaN</td>\n",
       "      <td>NaN</td>\n",
       "      <td>-0.25</td>\n",
       "      <td>NaN</td>\n",
       "      <td>398.8292</td>\n",
       "      <td>NaN</td>\n",
       "      <td>NaN</td>\n",
       "      <td>NaN</td>\n",
       "      <td>NaN</td>\n",
       "      <td>NaN</td>\n",
       "      <td>NaN</td>\n",
       "      <td>NaN</td>\n",
       "      <td>NaN</td>\n",
       "    </tr>\n",
       "    <tr>\n",
       "      <th>2018-03-25 02:00:00</th>\n",
       "      <td>161.426874</td>\n",
       "      <td>NaN</td>\n",
       "      <td>38.82345</td>\n",
       "      <td>NaN</td>\n",
       "      <td>NaN</td>\n",
       "      <td>NaN</td>\n",
       "      <td>NaN</td>\n",
       "      <td>398.8273</td>\n",
       "      <td>NaN</td>\n",
       "      <td>NaN</td>\n",
       "      <td>NaN</td>\n",
       "      <td>NaN</td>\n",
       "      <td>NaN</td>\n",
       "      <td>NaN</td>\n",
       "      <td>NaN</td>\n",
       "      <td>NaN</td>\n",
       "    </tr>\n",
       "    <tr>\n",
       "      <th>2018-03-25 03:00:00</th>\n",
       "      <td>158.334902</td>\n",
       "      <td>NaN</td>\n",
       "      <td>NaN</td>\n",
       "      <td>NaN</td>\n",
       "      <td>NaN</td>\n",
       "      <td>NaN</td>\n",
       "      <td>NaN</td>\n",
       "      <td>398.8269</td>\n",
       "      <td>NaN</td>\n",
       "      <td>NaN</td>\n",
       "      <td>NaN</td>\n",
       "      <td>NaN</td>\n",
       "      <td>NaN</td>\n",
       "      <td>NaN</td>\n",
       "      <td>NaN</td>\n",
       "      <td>NaN</td>\n",
       "    </tr>\n",
       "    <tr>\n",
       "      <th>2018-03-25 04:00:00</th>\n",
       "      <td>158.339869</td>\n",
       "      <td>NaN</td>\n",
       "      <td>NaN</td>\n",
       "      <td>NaN</td>\n",
       "      <td>NaN</td>\n",
       "      <td>NaN</td>\n",
       "      <td>NaN</td>\n",
       "      <td>398.8303</td>\n",
       "      <td>NaN</td>\n",
       "      <td>NaN</td>\n",
       "      <td>NaN</td>\n",
       "      <td>NaN</td>\n",
       "      <td>NaN</td>\n",
       "      <td>NaN</td>\n",
       "      <td>NaN</td>\n",
       "      <td>NaN</td>\n",
       "    </tr>\n",
       "    <tr>\n",
       "      <th>2018-03-25 05:00:00</th>\n",
       "      <td>158.341542</td>\n",
       "      <td>NaN</td>\n",
       "      <td>38.82345</td>\n",
       "      <td>NaN</td>\n",
       "      <td>NaN</td>\n",
       "      <td>NaN</td>\n",
       "      <td>NaN</td>\n",
       "      <td>398.8329</td>\n",
       "      <td>NaN</td>\n",
       "      <td>NaN</td>\n",
       "      <td>NaN</td>\n",
       "      <td>NaN</td>\n",
       "      <td>NaN</td>\n",
       "      <td>NaN</td>\n",
       "      <td>NaN</td>\n",
       "      <td>NaN</td>\n",
       "    </tr>\n",
       "  </tbody>\n",
       "</table>\n",
       "</div>"
      ],
      "text/plain": [
       "                     HPBH:221F003 Stanlow  HPBH:221F004 Stanlow  \\\n",
       "Date                                                              \n",
       "2018-03-25 00:00:00            169.025074            -76.037167   \n",
       "2018-03-25 02:00:00            161.426874                   NaN   \n",
       "2018-03-25 03:00:00            158.334902                   NaN   \n",
       "2018-03-25 04:00:00            158.339869                   NaN   \n",
       "2018-03-25 05:00:00            158.341542                   NaN   \n",
       "\n",
       "                     HPBH:221F008 Stanlow  HPBH:221F011 Stanlow  \\\n",
       "Date                                                              \n",
       "2018-03-25 00:00:00              38.82345                   NaN   \n",
       "2018-03-25 02:00:00              38.82345                   NaN   \n",
       "2018-03-25 03:00:00                   NaN                   NaN   \n",
       "2018-03-25 04:00:00                   NaN                   NaN   \n",
       "2018-03-25 05:00:00              38.82345                   NaN   \n",
       "\n",
       "                     HPBH:221FT009 Stanlow  HPBH:221Q004 Stanlow  \\\n",
       "Date                                                               \n",
       "2018-03-25 00:00:00                    NaN                 -0.25   \n",
       "2018-03-25 02:00:00                    NaN                   NaN   \n",
       "2018-03-25 03:00:00                    NaN                   NaN   \n",
       "2018-03-25 04:00:00                    NaN                   NaN   \n",
       "2018-03-25 05:00:00                    NaN                   NaN   \n",
       "\n",
       "                     HPBH:221QT004 Stanlow  HPBH:221T017 Stanlow  \\\n",
       "Date                                                               \n",
       "2018-03-25 00:00:00                    NaN              398.8292   \n",
       "2018-03-25 02:00:00                    NaN              398.8273   \n",
       "2018-03-25 03:00:00                    NaN              398.8269   \n",
       "2018-03-25 04:00:00                    NaN              398.8303   \n",
       "2018-03-25 05:00:00                    NaN              398.8329   \n",
       "\n",
       "                     HPBH:221T028 Stanlow  HPBH:221T034 Stanlow  \\\n",
       "Date                                                              \n",
       "2018-03-25 00:00:00                   NaN                   NaN   \n",
       "2018-03-25 02:00:00                   NaN                   NaN   \n",
       "2018-03-25 03:00:00                   NaN                   NaN   \n",
       "2018-03-25 04:00:00                   NaN                   NaN   \n",
       "2018-03-25 05:00:00                   NaN                   NaN   \n",
       "\n",
       "                     HPBH:221T035 Stanlow  HPBH:221T036 Stanlow  \\\n",
       "Date                                                              \n",
       "2018-03-25 00:00:00                   NaN                   NaN   \n",
       "2018-03-25 02:00:00                   NaN                   NaN   \n",
       "2018-03-25 03:00:00                   NaN                   NaN   \n",
       "2018-03-25 04:00:00                   NaN                   NaN   \n",
       "2018-03-25 05:00:00                   NaN                   NaN   \n",
       "\n",
       "                     HPBH:221T044 Stanlow  HPBH:221TT031 Stanlow  \\\n",
       "Date                                                               \n",
       "2018-03-25 00:00:00                   NaN                    NaN   \n",
       "2018-03-25 02:00:00                   NaN                    NaN   \n",
       "2018-03-25 03:00:00                   NaN                    NaN   \n",
       "2018-03-25 04:00:00                   NaN                    NaN   \n",
       "2018-03-25 05:00:00                   NaN                    NaN   \n",
       "\n",
       "                     HPBH:221TT032 Stanlow  HPBH:221U829 Stanlow  \n",
       "Date                                                              \n",
       "2018-03-25 00:00:00                    NaN                   NaN  \n",
       "2018-03-25 02:00:00                    NaN                   NaN  \n",
       "2018-03-25 03:00:00                    NaN                   NaN  \n",
       "2018-03-25 04:00:00                    NaN                   NaN  \n",
       "2018-03-25 05:00:00                    NaN                   NaN  "
      ]
     },
     "execution_count": 8,
     "metadata": {},
     "output_type": "execute_result"
    }
   ],
   "source": [
    "df.head()"
   ]
  },
  {
   "cell_type": "code",
   "execution_count": 9,
   "metadata": {},
   "outputs": [],
   "source": [
    "# df.iloc[0:10, 0] = None"
   ]
  },
  {
   "cell_type": "markdown",
   "metadata": {},
   "source": [
    "get_data_size() function"
   ]
  },
  {
   "cell_type": "code",
   "execution_count": 10,
   "metadata": {},
   "outputs": [
    {
     "name": "stdout",
     "output_type": "stream",
     "text": [
      "Data size: (1000, 16)\n"
     ]
    }
   ],
   "source": [
    "data_exp.get_data_size()"
   ]
  },
  {
   "cell_type": "markdown",
   "metadata": {},
   "source": [
    "get_data_type() &  summarize_data_type() function"
   ]
  },
  {
   "cell_type": "code",
   "execution_count": 12,
   "metadata": {},
   "outputs": [
    {
     "name": "stdout",
     "output_type": "stream",
     "text": [
      "Data type of column HPBH:221F003 Stanlow is:  float64\n"
     ]
    }
   ],
   "source": [
    "data_exp.get_data_type(df,df.columns[0])"
   ]
  },
  {
   "cell_type": "code",
   "execution_count": 13,
   "metadata": {},
   "outputs": [
    {
     "name": "stdout",
     "output_type": "stream",
     "text": [
      "Data types summary:\n",
      " float64    16\n",
      "Name: count, dtype: int64\n"
     ]
    }
   ],
   "source": [
    "data_exp.summarize_data_type()"
   ]
  },
  {
   "cell_type": "markdown",
   "metadata": {},
   "source": [
    "summarize_missing_data() function"
   ]
  },
  {
   "cell_type": "code",
   "execution_count": 14,
   "metadata": {},
   "outputs": [
    {
     "name": "stdout",
     "output_type": "stream",
     "text": [
      "Missing data summary:\n",
      "HPBH:221F003 Stanlow       3\n",
      "HPBH:221F004 Stanlow      90\n",
      "HPBH:221F008 Stanlow      87\n",
      "HPBH:221F011 Stanlow     330\n",
      "HPBH:221FT009 Stanlow    165\n",
      "HPBH:221Q004 Stanlow     113\n",
      "HPBH:221QT004 Stanlow    268\n",
      "HPBH:221T017 Stanlow      36\n",
      "HPBH:221T028 Stanlow     435\n",
      "HPBH:221T034 Stanlow     746\n",
      "HPBH:221T035 Stanlow     451\n",
      "HPBH:221T036 Stanlow     440\n",
      "HPBH:221T044 Stanlow      95\n",
      "HPBH:221TT031 Stanlow    766\n",
      "HPBH:221TT032 Stanlow    841\n",
      "HPBH:221U829 Stanlow     183\n",
      "dtype: int64\n"
     ]
    }
   ],
   "source": [
    "data_exp.summarize_missing_data()"
   ]
  },
  {
   "cell_type": "markdown",
   "metadata": {},
   "source": [
    "visualize_missing_data() function"
   ]
  },
  {
   "cell_type": "code",
   "execution_count": 15,
   "metadata": {},
   "outputs": [],
   "source": [
    "# data_exp.visualize_missing_data()"
   ]
  },
  {
   "cell_type": "code",
   "execution_count": 16,
   "metadata": {},
   "outputs": [
    {
     "data": {
      "application/vnd.plotly.v1+json": {
       "config": {
        "plotlyServerURL": "https://plot.ly"
       },
       "data": [
        {
         "type": "bar",
         "x": [
          "HPBH:221F003 Stanlow",
          "HPBH:221F004 Stanlow",
          "HPBH:221F008 Stanlow",
          "HPBH:221F011 Stanlow",
          "HPBH:221FT009 Stanlow",
          "HPBH:221Q004 Stanlow",
          "HPBH:221QT004 Stanlow",
          "HPBH:221T017 Stanlow",
          "HPBH:221T028 Stanlow",
          "HPBH:221T034 Stanlow",
          "HPBH:221T035 Stanlow",
          "HPBH:221T036 Stanlow",
          "HPBH:221T044 Stanlow",
          "HPBH:221TT031 Stanlow",
          "HPBH:221TT032 Stanlow",
          "HPBH:221U829 Stanlow"
         ],
         "y": [
          3,
          90,
          87,
          330,
          165,
          113,
          268,
          36,
          435,
          746,
          451,
          440,
          95,
          766,
          841,
          183
         ]
        }
       ],
       "layout": {
        "template": {
         "data": {
          "bar": [
           {
            "error_x": {
             "color": "#2a3f5f"
            },
            "error_y": {
             "color": "#2a3f5f"
            },
            "marker": {
             "line": {
              "color": "#E5ECF6",
              "width": 0.5
             },
             "pattern": {
              "fillmode": "overlay",
              "size": 10,
              "solidity": 0.2
             }
            },
            "type": "bar"
           }
          ],
          "barpolar": [
           {
            "marker": {
             "line": {
              "color": "#E5ECF6",
              "width": 0.5
             },
             "pattern": {
              "fillmode": "overlay",
              "size": 10,
              "solidity": 0.2
             }
            },
            "type": "barpolar"
           }
          ],
          "carpet": [
           {
            "aaxis": {
             "endlinecolor": "#2a3f5f",
             "gridcolor": "white",
             "linecolor": "white",
             "minorgridcolor": "white",
             "startlinecolor": "#2a3f5f"
            },
            "baxis": {
             "endlinecolor": "#2a3f5f",
             "gridcolor": "white",
             "linecolor": "white",
             "minorgridcolor": "white",
             "startlinecolor": "#2a3f5f"
            },
            "type": "carpet"
           }
          ],
          "choropleth": [
           {
            "colorbar": {
             "outlinewidth": 0,
             "ticks": ""
            },
            "type": "choropleth"
           }
          ],
          "contour": [
           {
            "colorbar": {
             "outlinewidth": 0,
             "ticks": ""
            },
            "colorscale": [
             [
              0,
              "#0d0887"
             ],
             [
              0.1111111111111111,
              "#46039f"
             ],
             [
              0.2222222222222222,
              "#7201a8"
             ],
             [
              0.3333333333333333,
              "#9c179e"
             ],
             [
              0.4444444444444444,
              "#bd3786"
             ],
             [
              0.5555555555555556,
              "#d8576b"
             ],
             [
              0.6666666666666666,
              "#ed7953"
             ],
             [
              0.7777777777777778,
              "#fb9f3a"
             ],
             [
              0.8888888888888888,
              "#fdca26"
             ],
             [
              1,
              "#f0f921"
             ]
            ],
            "type": "contour"
           }
          ],
          "contourcarpet": [
           {
            "colorbar": {
             "outlinewidth": 0,
             "ticks": ""
            },
            "type": "contourcarpet"
           }
          ],
          "heatmap": [
           {
            "colorbar": {
             "outlinewidth": 0,
             "ticks": ""
            },
            "colorscale": [
             [
              0,
              "#0d0887"
             ],
             [
              0.1111111111111111,
              "#46039f"
             ],
             [
              0.2222222222222222,
              "#7201a8"
             ],
             [
              0.3333333333333333,
              "#9c179e"
             ],
             [
              0.4444444444444444,
              "#bd3786"
             ],
             [
              0.5555555555555556,
              "#d8576b"
             ],
             [
              0.6666666666666666,
              "#ed7953"
             ],
             [
              0.7777777777777778,
              "#fb9f3a"
             ],
             [
              0.8888888888888888,
              "#fdca26"
             ],
             [
              1,
              "#f0f921"
             ]
            ],
            "type": "heatmap"
           }
          ],
          "heatmapgl": [
           {
            "colorbar": {
             "outlinewidth": 0,
             "ticks": ""
            },
            "colorscale": [
             [
              0,
              "#0d0887"
             ],
             [
              0.1111111111111111,
              "#46039f"
             ],
             [
              0.2222222222222222,
              "#7201a8"
             ],
             [
              0.3333333333333333,
              "#9c179e"
             ],
             [
              0.4444444444444444,
              "#bd3786"
             ],
             [
              0.5555555555555556,
              "#d8576b"
             ],
             [
              0.6666666666666666,
              "#ed7953"
             ],
             [
              0.7777777777777778,
              "#fb9f3a"
             ],
             [
              0.8888888888888888,
              "#fdca26"
             ],
             [
              1,
              "#f0f921"
             ]
            ],
            "type": "heatmapgl"
           }
          ],
          "histogram": [
           {
            "marker": {
             "pattern": {
              "fillmode": "overlay",
              "size": 10,
              "solidity": 0.2
             }
            },
            "type": "histogram"
           }
          ],
          "histogram2d": [
           {
            "colorbar": {
             "outlinewidth": 0,
             "ticks": ""
            },
            "colorscale": [
             [
              0,
              "#0d0887"
             ],
             [
              0.1111111111111111,
              "#46039f"
             ],
             [
              0.2222222222222222,
              "#7201a8"
             ],
             [
              0.3333333333333333,
              "#9c179e"
             ],
             [
              0.4444444444444444,
              "#bd3786"
             ],
             [
              0.5555555555555556,
              "#d8576b"
             ],
             [
              0.6666666666666666,
              "#ed7953"
             ],
             [
              0.7777777777777778,
              "#fb9f3a"
             ],
             [
              0.8888888888888888,
              "#fdca26"
             ],
             [
              1,
              "#f0f921"
             ]
            ],
            "type": "histogram2d"
           }
          ],
          "histogram2dcontour": [
           {
            "colorbar": {
             "outlinewidth": 0,
             "ticks": ""
            },
            "colorscale": [
             [
              0,
              "#0d0887"
             ],
             [
              0.1111111111111111,
              "#46039f"
             ],
             [
              0.2222222222222222,
              "#7201a8"
             ],
             [
              0.3333333333333333,
              "#9c179e"
             ],
             [
              0.4444444444444444,
              "#bd3786"
             ],
             [
              0.5555555555555556,
              "#d8576b"
             ],
             [
              0.6666666666666666,
              "#ed7953"
             ],
             [
              0.7777777777777778,
              "#fb9f3a"
             ],
             [
              0.8888888888888888,
              "#fdca26"
             ],
             [
              1,
              "#f0f921"
             ]
            ],
            "type": "histogram2dcontour"
           }
          ],
          "mesh3d": [
           {
            "colorbar": {
             "outlinewidth": 0,
             "ticks": ""
            },
            "type": "mesh3d"
           }
          ],
          "parcoords": [
           {
            "line": {
             "colorbar": {
              "outlinewidth": 0,
              "ticks": ""
             }
            },
            "type": "parcoords"
           }
          ],
          "pie": [
           {
            "automargin": true,
            "type": "pie"
           }
          ],
          "scatter": [
           {
            "fillpattern": {
             "fillmode": "overlay",
             "size": 10,
             "solidity": 0.2
            },
            "type": "scatter"
           }
          ],
          "scatter3d": [
           {
            "line": {
             "colorbar": {
              "outlinewidth": 0,
              "ticks": ""
             }
            },
            "marker": {
             "colorbar": {
              "outlinewidth": 0,
              "ticks": ""
             }
            },
            "type": "scatter3d"
           }
          ],
          "scattercarpet": [
           {
            "marker": {
             "colorbar": {
              "outlinewidth": 0,
              "ticks": ""
             }
            },
            "type": "scattercarpet"
           }
          ],
          "scattergeo": [
           {
            "marker": {
             "colorbar": {
              "outlinewidth": 0,
              "ticks": ""
             }
            },
            "type": "scattergeo"
           }
          ],
          "scattergl": [
           {
            "marker": {
             "colorbar": {
              "outlinewidth": 0,
              "ticks": ""
             }
            },
            "type": "scattergl"
           }
          ],
          "scattermapbox": [
           {
            "marker": {
             "colorbar": {
              "outlinewidth": 0,
              "ticks": ""
             }
            },
            "type": "scattermapbox"
           }
          ],
          "scatterpolar": [
           {
            "marker": {
             "colorbar": {
              "outlinewidth": 0,
              "ticks": ""
             }
            },
            "type": "scatterpolar"
           }
          ],
          "scatterpolargl": [
           {
            "marker": {
             "colorbar": {
              "outlinewidth": 0,
              "ticks": ""
             }
            },
            "type": "scatterpolargl"
           }
          ],
          "scatterternary": [
           {
            "marker": {
             "colorbar": {
              "outlinewidth": 0,
              "ticks": ""
             }
            },
            "type": "scatterternary"
           }
          ],
          "surface": [
           {
            "colorbar": {
             "outlinewidth": 0,
             "ticks": ""
            },
            "colorscale": [
             [
              0,
              "#0d0887"
             ],
             [
              0.1111111111111111,
              "#46039f"
             ],
             [
              0.2222222222222222,
              "#7201a8"
             ],
             [
              0.3333333333333333,
              "#9c179e"
             ],
             [
              0.4444444444444444,
              "#bd3786"
             ],
             [
              0.5555555555555556,
              "#d8576b"
             ],
             [
              0.6666666666666666,
              "#ed7953"
             ],
             [
              0.7777777777777778,
              "#fb9f3a"
             ],
             [
              0.8888888888888888,
              "#fdca26"
             ],
             [
              1,
              "#f0f921"
             ]
            ],
            "type": "surface"
           }
          ],
          "table": [
           {
            "cells": {
             "fill": {
              "color": "#EBF0F8"
             },
             "line": {
              "color": "white"
             }
            },
            "header": {
             "fill": {
              "color": "#C8D4E3"
             },
             "line": {
              "color": "white"
             }
            },
            "type": "table"
           }
          ]
         },
         "layout": {
          "annotationdefaults": {
           "arrowcolor": "#2a3f5f",
           "arrowhead": 0,
           "arrowwidth": 1
          },
          "autotypenumbers": "strict",
          "coloraxis": {
           "colorbar": {
            "outlinewidth": 0,
            "ticks": ""
           }
          },
          "colorscale": {
           "diverging": [
            [
             0,
             "#8e0152"
            ],
            [
             0.1,
             "#c51b7d"
            ],
            [
             0.2,
             "#de77ae"
            ],
            [
             0.3,
             "#f1b6da"
            ],
            [
             0.4,
             "#fde0ef"
            ],
            [
             0.5,
             "#f7f7f7"
            ],
            [
             0.6,
             "#e6f5d0"
            ],
            [
             0.7,
             "#b8e186"
            ],
            [
             0.8,
             "#7fbc41"
            ],
            [
             0.9,
             "#4d9221"
            ],
            [
             1,
             "#276419"
            ]
           ],
           "sequential": [
            [
             0,
             "#0d0887"
            ],
            [
             0.1111111111111111,
             "#46039f"
            ],
            [
             0.2222222222222222,
             "#7201a8"
            ],
            [
             0.3333333333333333,
             "#9c179e"
            ],
            [
             0.4444444444444444,
             "#bd3786"
            ],
            [
             0.5555555555555556,
             "#d8576b"
            ],
            [
             0.6666666666666666,
             "#ed7953"
            ],
            [
             0.7777777777777778,
             "#fb9f3a"
            ],
            [
             0.8888888888888888,
             "#fdca26"
            ],
            [
             1,
             "#f0f921"
            ]
           ],
           "sequentialminus": [
            [
             0,
             "#0d0887"
            ],
            [
             0.1111111111111111,
             "#46039f"
            ],
            [
             0.2222222222222222,
             "#7201a8"
            ],
            [
             0.3333333333333333,
             "#9c179e"
            ],
            [
             0.4444444444444444,
             "#bd3786"
            ],
            [
             0.5555555555555556,
             "#d8576b"
            ],
            [
             0.6666666666666666,
             "#ed7953"
            ],
            [
             0.7777777777777778,
             "#fb9f3a"
            ],
            [
             0.8888888888888888,
             "#fdca26"
            ],
            [
             1,
             "#f0f921"
            ]
           ]
          },
          "colorway": [
           "#636efa",
           "#EF553B",
           "#00cc96",
           "#ab63fa",
           "#FFA15A",
           "#19d3f3",
           "#FF6692",
           "#B6E880",
           "#FF97FF",
           "#FECB52"
          ],
          "font": {
           "color": "#2a3f5f"
          },
          "geo": {
           "bgcolor": "white",
           "lakecolor": "white",
           "landcolor": "#E5ECF6",
           "showlakes": true,
           "showland": true,
           "subunitcolor": "white"
          },
          "hoverlabel": {
           "align": "left"
          },
          "hovermode": "closest",
          "mapbox": {
           "style": "light"
          },
          "paper_bgcolor": "white",
          "plot_bgcolor": "#E5ECF6",
          "polar": {
           "angularaxis": {
            "gridcolor": "white",
            "linecolor": "white",
            "ticks": ""
           },
           "bgcolor": "#E5ECF6",
           "radialaxis": {
            "gridcolor": "white",
            "linecolor": "white",
            "ticks": ""
           }
          },
          "scene": {
           "xaxis": {
            "backgroundcolor": "#E5ECF6",
            "gridcolor": "white",
            "gridwidth": 2,
            "linecolor": "white",
            "showbackground": true,
            "ticks": "",
            "zerolinecolor": "white"
           },
           "yaxis": {
            "backgroundcolor": "#E5ECF6",
            "gridcolor": "white",
            "gridwidth": 2,
            "linecolor": "white",
            "showbackground": true,
            "ticks": "",
            "zerolinecolor": "white"
           },
           "zaxis": {
            "backgroundcolor": "#E5ECF6",
            "gridcolor": "white",
            "gridwidth": 2,
            "linecolor": "white",
            "showbackground": true,
            "ticks": "",
            "zerolinecolor": "white"
           }
          },
          "shapedefaults": {
           "line": {
            "color": "#2a3f5f"
           }
          },
          "ternary": {
           "aaxis": {
            "gridcolor": "white",
            "linecolor": "white",
            "ticks": ""
           },
           "baxis": {
            "gridcolor": "white",
            "linecolor": "white",
            "ticks": ""
           },
           "bgcolor": "#E5ECF6",
           "caxis": {
            "gridcolor": "white",
            "linecolor": "white",
            "ticks": ""
           }
          },
          "title": {
           "x": 0.05
          },
          "xaxis": {
           "automargin": true,
           "gridcolor": "white",
           "linecolor": "white",
           "ticks": "",
           "title": {
            "standoff": 15
           },
           "zerolinecolor": "white",
           "zerolinewidth": 2
          },
          "yaxis": {
           "automargin": true,
           "gridcolor": "white",
           "linecolor": "white",
           "ticks": "",
           "title": {
            "standoff": 15
           },
           "zerolinecolor": "white",
           "zerolinewidth": 2
          }
         }
        },
        "title": {
         "text": "Missing Data"
        },
        "xaxis": {
         "title": {
          "text": "Columns"
         }
        },
        "yaxis": {
         "rangemode": "tozero",
         "title": {
          "text": "Missing Count"
         }
        }
       }
      }
     },
     "metadata": {},
     "output_type": "display_data"
    }
   ],
   "source": [
    "from Data_Visualization.eda import EDA_Visualization\n",
    "\n",
    "eda_vis = EDA_Visualization(df)\n",
    "eda_vis.visualize_missing_data()"
   ]
  },
  {
   "cell_type": "markdown",
   "metadata": {},
   "source": [
    "### Test DataCleansing Module"
   ]
  },
  {
   "cell_type": "code",
   "execution_count": 17,
   "metadata": {},
   "outputs": [],
   "source": [
    "data_cleansing = DataCleansing(df)"
   ]
  },
  {
   "cell_type": "markdown",
   "metadata": {},
   "source": [
    "remove_duplicates() function"
   ]
  },
  {
   "cell_type": "code",
   "execution_count": 19,
   "metadata": {},
   "outputs": [
    {
     "data": {
      "text/html": [
       "<div>\n",
       "<style scoped>\n",
       "    .dataframe tbody tr th:only-of-type {\n",
       "        vertical-align: middle;\n",
       "    }\n",
       "\n",
       "    .dataframe tbody tr th {\n",
       "        vertical-align: top;\n",
       "    }\n",
       "\n",
       "    .dataframe thead th {\n",
       "        text-align: right;\n",
       "    }\n",
       "</style>\n",
       "<table border=\"1\" class=\"dataframe\">\n",
       "  <thead>\n",
       "    <tr style=\"text-align: right;\">\n",
       "      <th></th>\n",
       "      <th>a</th>\n",
       "      <th>b</th>\n",
       "      <th>c</th>\n",
       "    </tr>\n",
       "  </thead>\n",
       "  <tbody>\n",
       "    <tr>\n",
       "      <th>0</th>\n",
       "      <td>1</td>\n",
       "      <td>2</td>\n",
       "      <td>3</td>\n",
       "    </tr>\n",
       "    <tr>\n",
       "      <th>1</th>\n",
       "      <td>1</td>\n",
       "      <td>2</td>\n",
       "      <td>3</td>\n",
       "    </tr>\n",
       "    <tr>\n",
       "      <th>2</th>\n",
       "      <td>2</td>\n",
       "      <td>3</td>\n",
       "      <td>4</td>\n",
       "    </tr>\n",
       "    <tr>\n",
       "      <th>3</th>\n",
       "      <td>2</td>\n",
       "      <td>3</td>\n",
       "      <td>4</td>\n",
       "    </tr>\n",
       "    <tr>\n",
       "      <th>4</th>\n",
       "      <td>3</td>\n",
       "      <td>4</td>\n",
       "      <td>5</td>\n",
       "    </tr>\n",
       "    <tr>\n",
       "      <th>5</th>\n",
       "      <td>3</td>\n",
       "      <td>4</td>\n",
       "      <td>5</td>\n",
       "    </tr>\n",
       "    <tr>\n",
       "      <th>6</th>\n",
       "      <td>4</td>\n",
       "      <td>5</td>\n",
       "      <td>6</td>\n",
       "    </tr>\n",
       "    <tr>\n",
       "      <th>7</th>\n",
       "      <td>4</td>\n",
       "      <td>5</td>\n",
       "      <td>6</td>\n",
       "    </tr>\n",
       "    <tr>\n",
       "      <th>8</th>\n",
       "      <td>5</td>\n",
       "      <td>6</td>\n",
       "      <td>7</td>\n",
       "    </tr>\n",
       "    <tr>\n",
       "      <th>9</th>\n",
       "      <td>5</td>\n",
       "      <td>6</td>\n",
       "      <td>7</td>\n",
       "    </tr>\n",
       "  </tbody>\n",
       "</table>\n",
       "</div>"
      ],
      "text/plain": [
       "   a  b  c\n",
       "0  1  2  3\n",
       "1  1  2  3\n",
       "2  2  3  4\n",
       "3  2  3  4\n",
       "4  3  4  5\n",
       "5  3  4  5\n",
       "6  4  5  6\n",
       "7  4  5  6\n",
       "8  5  6  7\n",
       "9  5  6  7"
      ]
     },
     "execution_count": 19,
     "metadata": {},
     "output_type": "execute_result"
    }
   ],
   "source": [
    "# generate a df with duplicate rows\n",
    "dup_df = pd.DataFrame({'a':[1,1,2,2,3,3,4,4,5,5],\n",
    "                     'b':[2,2,3,3,4,4,5,5,6,6],\n",
    "                        'c':[3,3,4,4,5,5,6,6,7,7]})\n",
    "dup_df"
   ]
  },
  {
   "cell_type": "code",
   "execution_count": 20,
   "metadata": {},
   "outputs": [
    {
     "data": {
      "text/html": [
       "<div>\n",
       "<style scoped>\n",
       "    .dataframe tbody tr th:only-of-type {\n",
       "        vertical-align: middle;\n",
       "    }\n",
       "\n",
       "    .dataframe tbody tr th {\n",
       "        vertical-align: top;\n",
       "    }\n",
       "\n",
       "    .dataframe thead th {\n",
       "        text-align: right;\n",
       "    }\n",
       "</style>\n",
       "<table border=\"1\" class=\"dataframe\">\n",
       "  <thead>\n",
       "    <tr style=\"text-align: right;\">\n",
       "      <th></th>\n",
       "      <th>a</th>\n",
       "      <th>b</th>\n",
       "      <th>c</th>\n",
       "    </tr>\n",
       "  </thead>\n",
       "  <tbody>\n",
       "    <tr>\n",
       "      <th>0</th>\n",
       "      <td>1</td>\n",
       "      <td>2</td>\n",
       "      <td>3</td>\n",
       "    </tr>\n",
       "    <tr>\n",
       "      <th>1</th>\n",
       "      <td>2</td>\n",
       "      <td>3</td>\n",
       "      <td>4</td>\n",
       "    </tr>\n",
       "    <tr>\n",
       "      <th>2</th>\n",
       "      <td>3</td>\n",
       "      <td>4</td>\n",
       "      <td>5</td>\n",
       "    </tr>\n",
       "    <tr>\n",
       "      <th>3</th>\n",
       "      <td>4</td>\n",
       "      <td>5</td>\n",
       "      <td>6</td>\n",
       "    </tr>\n",
       "    <tr>\n",
       "      <th>4</th>\n",
       "      <td>5</td>\n",
       "      <td>6</td>\n",
       "      <td>7</td>\n",
       "    </tr>\n",
       "  </tbody>\n",
       "</table>\n",
       "</div>"
      ],
      "text/plain": [
       "   a  b  c\n",
       "0  1  2  3\n",
       "1  2  3  4\n",
       "2  3  4  5\n",
       "3  4  5  6\n",
       "4  5  6  7"
      ]
     },
     "execution_count": 20,
     "metadata": {},
     "output_type": "execute_result"
    }
   ],
   "source": [
    "data_cleansing = DataCleansing()\n",
    "dup_df = data_cleansing.remove_duplicates(dup_df)\n",
    "dup_df"
   ]
  },
  {
   "cell_type": "code",
   "execution_count": 21,
   "metadata": {},
   "outputs": [
    {
     "data": {
      "text/html": [
       "<div>\n",
       "<style scoped>\n",
       "    .dataframe tbody tr th:only-of-type {\n",
       "        vertical-align: middle;\n",
       "    }\n",
       "\n",
       "    .dataframe tbody tr th {\n",
       "        vertical-align: top;\n",
       "    }\n",
       "\n",
       "    .dataframe thead th {\n",
       "        text-align: right;\n",
       "    }\n",
       "</style>\n",
       "<table border=\"1\" class=\"dataframe\">\n",
       "  <thead>\n",
       "    <tr style=\"text-align: right;\">\n",
       "      <th></th>\n",
       "      <th>a</th>\n",
       "      <th>b</th>\n",
       "      <th>c</th>\n",
       "    </tr>\n",
       "  </thead>\n",
       "  <tbody>\n",
       "    <tr>\n",
       "      <th>0</th>\n",
       "      <td>1</td>\n",
       "      <td>1</td>\n",
       "      <td>1</td>\n",
       "    </tr>\n",
       "    <tr>\n",
       "      <th>1</th>\n",
       "      <td>2</td>\n",
       "      <td>2</td>\n",
       "      <td>2</td>\n",
       "    </tr>\n",
       "    <tr>\n",
       "      <th>2</th>\n",
       "      <td>3</td>\n",
       "      <td>3</td>\n",
       "      <td>3</td>\n",
       "    </tr>\n",
       "  </tbody>\n",
       "</table>\n",
       "</div>"
      ],
      "text/plain": [
       "   a  b  c\n",
       "0  1  1  1\n",
       "1  2  2  2\n",
       "2  3  3  3"
      ]
     },
     "execution_count": 21,
     "metadata": {},
     "output_type": "execute_result"
    }
   ],
   "source": [
    "# a df with duplicate dolumns\n",
    "dup_df = pd.DataFrame({'a': [1, 2, 3], 'b': [1, 2, 3], 'c': [1, 2, 3]})\n",
    "dup_df"
   ]
  },
  {
   "cell_type": "code",
   "execution_count": 22,
   "metadata": {},
   "outputs": [
    {
     "data": {
      "text/html": [
       "<div>\n",
       "<style scoped>\n",
       "    .dataframe tbody tr th:only-of-type {\n",
       "        vertical-align: middle;\n",
       "    }\n",
       "\n",
       "    .dataframe tbody tr th {\n",
       "        vertical-align: top;\n",
       "    }\n",
       "\n",
       "    .dataframe thead th {\n",
       "        text-align: right;\n",
       "    }\n",
       "</style>\n",
       "<table border=\"1\" class=\"dataframe\">\n",
       "  <thead>\n",
       "    <tr style=\"text-align: right;\">\n",
       "      <th></th>\n",
       "      <th>a</th>\n",
       "      <th>b</th>\n",
       "      <th>c</th>\n",
       "    </tr>\n",
       "  </thead>\n",
       "  <tbody>\n",
       "    <tr>\n",
       "      <th>0</th>\n",
       "      <td>1</td>\n",
       "      <td>1</td>\n",
       "      <td>1</td>\n",
       "    </tr>\n",
       "    <tr>\n",
       "      <th>1</th>\n",
       "      <td>2</td>\n",
       "      <td>2</td>\n",
       "      <td>2</td>\n",
       "    </tr>\n",
       "    <tr>\n",
       "      <th>2</th>\n",
       "      <td>3</td>\n",
       "      <td>3</td>\n",
       "      <td>3</td>\n",
       "    </tr>\n",
       "  </tbody>\n",
       "</table>\n",
       "</div>"
      ],
      "text/plain": [
       "   a  b  c\n",
       "0  1  1  1\n",
       "1  2  2  2\n",
       "2  3  3  3"
      ]
     },
     "execution_count": 22,
     "metadata": {},
     "output_type": "execute_result"
    }
   ],
   "source": [
    "data_cleansing = DataCleansing()\n",
    "dup_df = data_cleansing.remove_duplicates(dup_df)\n",
    "dup_df"
   ]
  },
  {
   "cell_type": "markdown",
   "metadata": {},
   "source": [
    "handle_missing_values() funtion"
   ]
  },
  {
   "cell_type": "code",
   "execution_count": 23,
   "metadata": {},
   "outputs": [
    {
     "data": {
      "text/plain": [
       "(1000, 16)"
      ]
     },
     "execution_count": 23,
     "metadata": {},
     "output_type": "execute_result"
    }
   ],
   "source": [
    "df.shape"
   ]
  },
  {
   "cell_type": "code",
   "execution_count": 24,
   "metadata": {},
   "outputs": [
    {
     "name": "stdout",
     "output_type": "stream",
     "text": [
      "Missing data summary:\n",
      "HPBH:221F003 Stanlow       3\n",
      "HPBH:221F004 Stanlow      90\n",
      "HPBH:221F008 Stanlow      87\n",
      "HPBH:221F011 Stanlow     330\n",
      "HPBH:221FT009 Stanlow    165\n",
      "HPBH:221Q004 Stanlow     113\n",
      "HPBH:221QT004 Stanlow    268\n",
      "HPBH:221T017 Stanlow      36\n",
      "HPBH:221T028 Stanlow     435\n",
      "HPBH:221T034 Stanlow     746\n",
      "HPBH:221T035 Stanlow     451\n",
      "HPBH:221T036 Stanlow     440\n",
      "HPBH:221T044 Stanlow      95\n",
      "HPBH:221TT031 Stanlow    766\n",
      "HPBH:221TT032 Stanlow    841\n",
      "HPBH:221U829 Stanlow     183\n",
      "dtype: int64\n"
     ]
    }
   ],
   "source": [
    "data_exp.summarize_missing_data(df)"
   ]
  },
  {
   "cell_type": "code",
   "execution_count": 25,
   "metadata": {},
   "outputs": [
    {
     "name": "stdout",
     "output_type": "stream",
     "text": [
      "# rows dropped with missing values in the target variable: 177\n",
      "Dropped columns: ['HPBH:221T034 Stanlow', 'HPBH:221TT031 Stanlow', 'HPBH:221TT032 Stanlow']\n",
      "Filled missing values using mean\n"
     ]
    }
   ],
   "source": [
    "# df = data_cleansing.handle_missing_values(df, target_list=['OXO-5FI696 Augusta'], drop_thresh=0.5, fill_missing_method='forward')\n",
    "df = data_cleansing.handle_missing_values(df, target_list=['HPBH:221F008 Stanlow', 'HPBH:221FT009 Stanlow'], drop_thresh=0.5, fill_missing_method='mean')"
   ]
  },
  {
   "cell_type": "code",
   "execution_count": 26,
   "metadata": {},
   "outputs": [
    {
     "data": {
      "text/plain": [
       "(823, 13)"
      ]
     },
     "execution_count": 26,
     "metadata": {},
     "output_type": "execute_result"
    }
   ],
   "source": [
    "df.shape"
   ]
  },
  {
   "cell_type": "code",
   "execution_count": 27,
   "metadata": {},
   "outputs": [
    {
     "name": "stdout",
     "output_type": "stream",
     "text": [
      "Missing data summary:\n",
      "Series([], dtype: int64)\n"
     ]
    }
   ],
   "source": [
    "data_exp.summarize_missing_data(df)"
   ]
  },
  {
   "cell_type": "markdown",
   "metadata": {},
   "source": [
    "detect_anomalies() function"
   ]
  },
  {
   "cell_type": "code",
   "execution_count": 28,
   "metadata": {},
   "outputs": [
    {
     "name": "stdout",
     "output_type": "stream",
     "text": [
      "Selected Features are HPBH:221F008 Stanlow, HPBH:221F003 Stanlow, HPBH:221F004 Stanlow, HPBH:221FT009 Stanlow, HPBH:221T036 Stanlow\n",
      "Finding bounds...\n",
      "Found Bounds!\n",
      "Finding bounds...\n",
      "Found Bounds!\n",
      "Index(['HPBH:221F008 Stanlow', 'HPBH:221F003 Stanlow', 'HPBH:221F004 Stanlow',\n",
      "       'HPBH:221FT009 Stanlow', 'HPBH:221T036 Stanlow'],\n",
      "      dtype='object')\n",
      "HPBH:221F008 Stanlow\n",
      "HPBH:221F003 Stanlow\n",
      "HPBH:221F004 Stanlow\n",
      "HPBH:221FT009 Stanlow\n",
      "HPBH:221T036 Stanlow\n",
      "Done\n"
     ]
    }
   ],
   "source": [
    "# data_cleansing.generate_anomaly_report(df, 'OXO-5FI696 Augusta', problem_type='max')\n",
    "data_cleansing.generate_anomaly_report(df, 'HPBH:221F008 Stanlow', problem_type='max')"
   ]
  },
  {
   "cell_type": "markdown",
   "metadata": {},
   "source": [
    "detect_outliers() funcion"
   ]
  },
  {
   "cell_type": "code",
   "execution_count": 29,
   "metadata": {},
   "outputs": [
    {
     "name": "stdout",
     "output_type": "stream",
     "text": [
      "6 outliers detected\n"
     ]
    },
    {
     "data": {
      "application/vnd.plotly.v1+json": {
       "config": {
        "plotlyServerURL": "https://plot.ly"
       },
       "data": [
        {
         "hovertemplate": "Date=%{x}<br>HPBH:221T036 Stanlow=%{y}<extra></extra>",
         "legendgroup": "",
         "line": {
          "color": "#636efa",
          "dash": "solid"
         },
         "marker": {
          "symbol": "circle"
         },
         "mode": "lines",
         "name": "",
         "orientation": "v",
         "showlegend": false,
         "type": "scatter",
         "x": [
          "2018-03-26T01:00:00",
          "2018-03-26T09:00:00",
          "2018-03-27T10:00:00",
          "2018-03-28T20:00:00",
          "2018-03-29T18:00:00",
          "2018-03-30T02:00:00",
          "2018-03-30T06:00:00",
          "2018-03-30T14:00:00",
          "2018-03-30T17:00:00",
          "2018-03-30T18:00:00",
          "2018-03-30T19:00:00",
          "2018-03-30T20:00:00",
          "2018-03-30T21:00:00",
          "2018-03-30T22:00:00",
          "2018-03-30T23:00:00",
          "2018-03-31T00:00:00",
          "2018-03-31T01:00:00",
          "2018-03-31T02:00:00",
          "2018-03-31T03:00:00",
          "2018-03-31T04:00:00",
          "2018-03-31T05:00:00",
          "2018-03-31T06:00:00",
          "2018-03-31T07:00:00",
          "2018-03-31T08:00:00",
          "2018-03-31T09:00:00",
          "2018-03-31T10:00:00",
          "2018-03-31T11:00:00",
          "2018-03-31T12:00:00",
          "2018-03-31T13:00:00",
          "2018-03-31T14:00:00",
          "2018-03-31T16:00:00",
          "2018-04-01T00:00:00",
          "2018-04-01T07:00:00",
          "2018-04-01T15:00:00",
          "2018-04-01T23:00:00",
          "2018-04-02T01:00:00",
          "2018-04-02T09:00:00",
          "2018-04-02T16:00:00",
          "2018-04-02T23:00:00",
          "2018-04-03T00:00:00",
          "2018-04-03T01:00:00",
          "2018-04-03T02:00:00",
          "2018-04-03T03:00:00",
          "2018-04-03T04:00:00",
          "2018-04-03T05:00:00",
          "2018-04-03T06:00:00",
          "2018-04-03T07:00:00",
          "2018-04-03T08:00:00",
          "2018-04-03T09:00:00",
          "2018-04-03T10:00:00",
          "2018-04-03T12:00:00",
          "2018-04-03T13:00:00",
          "2018-04-03T14:00:00",
          "2018-04-03T15:00:00",
          "2018-04-03T16:00:00",
          "2018-04-03T17:00:00",
          "2018-04-03T18:00:00",
          "2018-04-03T19:00:00",
          "2018-04-03T20:00:00",
          "2018-04-03T21:00:00",
          "2018-04-03T22:00:00",
          "2018-04-03T23:00:00",
          "2018-04-04T00:00:00",
          "2018-04-04T01:00:00",
          "2018-04-04T02:00:00",
          "2018-04-04T03:00:00",
          "2018-04-04T04:00:00",
          "2018-04-04T05:00:00",
          "2018-04-04T06:00:00",
          "2018-04-04T07:00:00",
          "2018-04-04T08:00:00",
          "2018-04-04T09:00:00",
          "2018-04-04T10:00:00",
          "2018-04-04T11:00:00",
          "2018-04-04T12:00:00",
          "2018-04-04T13:00:00",
          "2018-04-04T14:00:00",
          "2018-04-04T15:00:00",
          "2018-04-04T16:00:00",
          "2018-04-04T17:00:00",
          "2018-04-04T18:00:00",
          "2018-04-04T19:00:00",
          "2018-04-04T20:00:00",
          "2018-04-04T21:00:00",
          "2018-04-04T22:00:00",
          "2018-04-04T23:00:00",
          "2018-04-05T00:00:00",
          "2018-04-05T01:00:00",
          "2018-04-05T02:00:00",
          "2018-04-05T03:00:00",
          "2018-04-05T04:00:00",
          "2018-04-05T05:00:00",
          "2018-04-05T06:00:00",
          "2018-04-05T07:00:00",
          "2018-04-05T08:00:00",
          "2018-04-05T09:00:00",
          "2018-04-05T10:00:00",
          "2018-04-05T11:00:00",
          "2018-04-05T12:00:00",
          "2018-04-05T13:00:00",
          "2018-04-05T14:00:00",
          "2018-04-05T15:00:00",
          "2018-04-05T16:00:00",
          "2018-04-05T17:00:00",
          "2018-04-05T18:00:00",
          "2018-04-05T19:00:00",
          "2018-04-05T20:00:00",
          "2018-04-05T21:00:00",
          "2018-04-05T22:00:00",
          "2018-04-05T23:00:00",
          "2018-04-06T00:00:00",
          "2018-04-06T01:00:00",
          "2018-04-06T02:00:00",
          "2018-04-06T03:00:00",
          "2018-04-06T04:00:00",
          "2018-04-06T05:00:00",
          "2018-04-06T06:00:00",
          "2018-04-06T07:00:00",
          "2018-04-06T08:00:00",
          "2018-04-06T09:00:00",
          "2018-04-06T10:00:00",
          "2018-04-06T11:00:00",
          "2018-04-06T12:00:00",
          "2018-04-06T13:00:00",
          "2018-04-06T14:00:00",
          "2018-04-06T15:00:00",
          "2018-04-06T16:00:00",
          "2018-04-06T17:00:00",
          "2018-04-06T18:00:00",
          "2018-04-06T19:00:00",
          "2018-04-06T20:00:00",
          "2018-04-06T21:00:00",
          "2018-04-06T22:00:00",
          "2018-04-06T23:00:00",
          "2018-04-07T00:00:00",
          "2018-04-07T01:00:00",
          "2018-04-07T02:00:00",
          "2018-04-07T03:00:00",
          "2018-04-07T04:00:00",
          "2018-04-07T05:00:00",
          "2018-04-07T06:00:00",
          "2018-04-07T07:00:00",
          "2018-04-07T08:00:00",
          "2018-04-07T09:00:00",
          "2018-04-07T10:00:00",
          "2018-04-07T11:00:00",
          "2018-04-07T12:00:00",
          "2018-04-07T13:00:00",
          "2018-04-07T14:00:00",
          "2018-04-07T15:00:00",
          "2018-04-07T16:00:00",
          "2018-04-07T17:00:00",
          "2018-04-07T18:00:00",
          "2018-04-07T19:00:00",
          "2018-04-07T20:00:00",
          "2018-04-07T21:00:00",
          "2018-04-07T22:00:00",
          "2018-04-07T23:00:00",
          "2018-04-08T00:00:00",
          "2018-04-08T01:00:00",
          "2018-04-08T02:00:00",
          "2018-04-08T03:00:00",
          "2018-04-08T04:00:00",
          "2018-04-08T05:00:00",
          "2018-04-08T06:00:00",
          "2018-04-08T07:00:00",
          "2018-04-08T08:00:00",
          "2018-04-08T09:00:00",
          "2018-04-08T10:00:00",
          "2018-04-08T11:00:00",
          "2018-04-08T12:00:00",
          "2018-04-08T13:00:00",
          "2018-04-08T14:00:00",
          "2018-04-08T15:00:00",
          "2018-04-08T16:00:00",
          "2018-04-08T17:00:00",
          "2018-04-08T18:00:00",
          "2018-04-08T19:00:00",
          "2018-04-08T20:00:00",
          "2018-04-08T21:00:00",
          "2018-04-08T22:00:00",
          "2018-04-08T23:00:00",
          "2018-04-09T00:00:00",
          "2018-04-09T01:00:00",
          "2018-04-09T02:00:00",
          "2018-04-09T03:00:00",
          "2018-04-09T04:00:00",
          "2018-04-09T05:00:00",
          "2018-04-09T06:00:00",
          "2018-04-09T07:00:00",
          "2018-04-09T08:00:00",
          "2018-04-09T09:00:00",
          "2018-04-09T10:00:00",
          "2018-04-09T11:00:00",
          "2018-04-09T12:00:00",
          "2018-04-09T13:00:00",
          "2018-04-09T14:00:00",
          "2018-04-09T15:00:00",
          "2018-04-09T16:00:00",
          "2018-04-09T17:00:00",
          "2018-04-09T18:00:00",
          "2018-04-09T19:00:00",
          "2018-04-09T20:00:00",
          "2018-04-09T21:00:00",
          "2018-04-09T22:00:00",
          "2018-04-09T23:00:00",
          "2018-04-10T00:00:00",
          "2018-04-10T01:00:00",
          "2018-04-10T02:00:00",
          "2018-04-10T03:00:00",
          "2018-04-10T04:00:00",
          "2018-04-10T05:00:00",
          "2018-04-10T06:00:00",
          "2018-04-10T07:00:00",
          "2018-04-10T08:00:00",
          "2018-04-10T09:00:00",
          "2018-04-10T10:00:00",
          "2018-04-10T11:00:00",
          "2018-04-10T12:00:00",
          "2018-04-10T13:00:00",
          "2018-04-10T14:00:00",
          "2018-04-10T15:00:00",
          "2018-04-10T16:00:00",
          "2018-04-10T17:00:00",
          "2018-04-10T18:00:00",
          "2018-04-10T19:00:00",
          "2018-04-10T20:00:00",
          "2018-04-10T21:00:00",
          "2018-04-10T22:00:00",
          "2018-04-10T23:00:00",
          "2018-04-11T00:00:00",
          "2018-04-11T01:00:00",
          "2018-04-11T02:00:00",
          "2018-04-11T03:00:00",
          "2018-04-11T04:00:00",
          "2018-04-11T05:00:00",
          "2018-04-11T06:00:00",
          "2018-04-11T07:00:00",
          "2018-04-11T08:00:00",
          "2018-04-11T09:00:00",
          "2018-04-11T10:00:00",
          "2018-04-11T11:00:00",
          "2018-04-11T12:00:00",
          "2018-04-11T13:00:00",
          "2018-04-11T14:00:00",
          "2018-04-11T15:00:00",
          "2018-04-11T16:00:00",
          "2018-04-11T17:00:00",
          "2018-04-11T18:00:00",
          "2018-04-11T19:00:00",
          "2018-04-11T20:00:00",
          "2018-04-11T21:00:00",
          "2018-04-11T22:00:00",
          "2018-04-11T23:00:00",
          "2018-04-12T00:00:00",
          "2018-04-12T01:00:00",
          "2018-04-12T02:00:00",
          "2018-04-12T03:00:00",
          "2018-04-12T04:00:00",
          "2018-04-12T05:00:00",
          "2018-04-12T06:00:00",
          "2018-04-12T07:00:00",
          "2018-04-12T08:00:00",
          "2018-04-12T09:00:00",
          "2018-04-12T10:00:00",
          "2018-04-12T11:00:00",
          "2018-04-12T12:00:00",
          "2018-04-12T13:00:00",
          "2018-04-12T14:00:00",
          "2018-04-12T15:00:00",
          "2018-04-12T16:00:00",
          "2018-04-12T17:00:00",
          "2018-04-12T18:00:00",
          "2018-04-12T19:00:00",
          "2018-04-12T20:00:00",
          "2018-04-12T21:00:00",
          "2018-04-12T22:00:00",
          "2018-04-12T23:00:00",
          "2018-04-13T00:00:00",
          "2018-04-13T01:00:00",
          "2018-04-13T02:00:00",
          "2018-04-13T03:00:00",
          "2018-04-13T04:00:00",
          "2018-04-13T05:00:00",
          "2018-04-13T06:00:00",
          "2018-04-13T07:00:00",
          "2018-04-13T08:00:00",
          "2018-04-13T09:00:00",
          "2018-04-13T10:00:00",
          "2018-04-13T11:00:00",
          "2018-04-13T12:00:00",
          "2018-04-13T13:00:00",
          "2018-04-13T14:00:00",
          "2018-04-13T15:00:00",
          "2018-04-13T16:00:00",
          "2018-04-13T17:00:00",
          "2018-04-13T18:00:00",
          "2018-04-13T19:00:00",
          "2018-04-13T20:00:00",
          "2018-04-13T21:00:00",
          "2018-04-13T22:00:00",
          "2018-04-13T23:00:00",
          "2018-04-14T00:00:00",
          "2018-04-14T01:00:00",
          "2018-04-14T02:00:00",
          "2018-04-14T03:00:00",
          "2018-04-14T04:00:00",
          "2018-04-14T05:00:00",
          "2018-04-14T06:00:00",
          "2018-04-14T07:00:00",
          "2018-04-14T08:00:00",
          "2018-04-14T09:00:00",
          "2018-04-14T10:00:00",
          "2018-04-14T11:00:00",
          "2018-04-14T12:00:00",
          "2018-04-14T13:00:00",
          "2018-04-14T14:00:00",
          "2018-04-14T15:00:00",
          "2018-04-14T16:00:00",
          "2018-04-14T17:00:00",
          "2018-04-14T18:00:00",
          "2018-04-14T19:00:00",
          "2018-04-14T20:00:00",
          "2018-04-14T21:00:00",
          "2018-04-14T22:00:00",
          "2018-04-14T23:00:00",
          "2018-04-15T00:00:00",
          "2018-04-15T01:00:00",
          "2018-04-15T02:00:00",
          "2018-04-15T03:00:00",
          "2018-04-15T04:00:00",
          "2018-04-15T05:00:00",
          "2018-04-15T06:00:00",
          "2018-04-15T07:00:00",
          "2018-04-15T08:00:00",
          "2018-04-15T09:00:00",
          "2018-04-15T10:00:00",
          "2018-04-15T11:00:00",
          "2018-04-15T12:00:00",
          "2018-04-15T13:00:00",
          "2018-04-15T14:00:00",
          "2018-04-15T15:00:00",
          "2018-04-16T11:00:00",
          "2018-04-16T12:00:00",
          "2018-04-16T13:00:00",
          "2018-04-16T14:00:00",
          "2018-04-16T15:00:00",
          "2018-04-16T16:00:00",
          "2018-04-16T17:00:00",
          "2018-04-16T18:00:00",
          "2018-04-16T19:00:00",
          "2018-04-16T20:00:00",
          "2018-04-16T21:00:00",
          "2018-04-16T22:00:00",
          "2018-04-16T23:00:00",
          "2018-04-17T00:00:00",
          "2018-04-17T01:00:00",
          "2018-04-17T02:00:00",
          "2018-04-17T03:00:00",
          "2018-04-17T04:00:00",
          "2018-04-17T05:00:00",
          "2018-04-17T06:00:00",
          "2018-04-17T07:00:00",
          "2018-04-17T08:00:00",
          "2018-04-17T09:00:00",
          "2018-04-17T10:00:00",
          "2018-04-17T11:00:00",
          "2018-04-17T12:00:00",
          "2018-04-17T13:00:00",
          "2018-04-17T14:00:00",
          "2018-04-17T15:00:00",
          "2018-04-17T16:00:00",
          "2018-04-17T17:00:00",
          "2018-04-17T18:00:00",
          "2018-04-17T19:00:00",
          "2018-04-17T20:00:00",
          "2018-04-17T21:00:00",
          "2018-04-17T22:00:00",
          "2018-04-17T23:00:00",
          "2018-04-18T00:00:00",
          "2018-04-18T01:00:00",
          "2018-04-18T02:00:00",
          "2018-04-18T03:00:00",
          "2018-04-18T04:00:00",
          "2018-04-18T05:00:00",
          "2018-04-18T06:00:00",
          "2018-04-18T07:00:00",
          "2018-04-18T08:00:00",
          "2018-04-18T09:00:00",
          "2018-04-18T10:00:00",
          "2018-04-18T11:00:00",
          "2018-04-18T12:00:00",
          "2018-04-18T13:00:00",
          "2018-04-18T14:00:00",
          "2018-04-18T15:00:00",
          "2018-04-18T16:00:00",
          "2018-04-18T17:00:00",
          "2018-04-18T18:00:00",
          "2018-04-18T19:00:00",
          "2018-04-18T20:00:00",
          "2018-04-18T21:00:00",
          "2018-04-18T22:00:00",
          "2018-04-18T23:00:00",
          "2018-04-19T00:00:00",
          "2018-04-19T01:00:00",
          "2018-04-19T02:00:00",
          "2018-04-19T03:00:00",
          "2018-04-19T04:00:00",
          "2018-04-19T05:00:00",
          "2018-04-19T06:00:00",
          "2018-04-19T07:00:00",
          "2018-04-19T08:00:00",
          "2018-04-19T09:00:00",
          "2018-04-19T10:00:00",
          "2018-04-19T11:00:00",
          "2018-04-19T12:00:00",
          "2018-04-19T13:00:00",
          "2018-04-19T14:00:00",
          "2018-04-19T15:00:00",
          "2018-04-19T16:00:00",
          "2018-04-19T17:00:00",
          "2018-04-19T18:00:00",
          "2018-04-19T19:00:00",
          "2018-04-19T20:00:00",
          "2018-04-19T21:00:00",
          "2018-04-19T22:00:00",
          "2018-04-19T23:00:00",
          "2018-04-20T00:00:00",
          "2018-04-20T01:00:00",
          "2018-04-20T02:00:00",
          "2018-04-20T03:00:00",
          "2018-04-20T04:00:00",
          "2018-04-20T05:00:00",
          "2018-04-20T06:00:00",
          "2018-04-20T07:00:00",
          "2018-04-20T08:00:00",
          "2018-04-20T09:00:00",
          "2018-04-20T10:00:00",
          "2018-04-20T11:00:00",
          "2018-04-20T12:00:00",
          "2018-04-20T13:00:00",
          "2018-04-20T14:00:00",
          "2018-04-20T15:00:00",
          "2018-04-20T16:00:00",
          "2018-04-20T17:00:00",
          "2018-04-20T18:00:00",
          "2018-04-20T19:00:00",
          "2018-04-20T20:00:00",
          "2018-04-20T21:00:00",
          "2018-04-20T22:00:00",
          "2018-04-20T23:00:00",
          "2018-04-21T00:00:00",
          "2018-04-21T01:00:00",
          "2018-04-21T02:00:00",
          "2018-04-21T03:00:00",
          "2018-04-21T04:00:00",
          "2018-04-21T05:00:00",
          "2018-04-21T06:00:00",
          "2018-04-21T07:00:00",
          "2018-04-21T08:00:00",
          "2018-04-21T09:00:00",
          "2018-04-21T10:00:00",
          "2018-04-21T11:00:00",
          "2018-04-21T12:00:00",
          "2018-04-21T13:00:00",
          "2018-04-21T14:00:00",
          "2018-04-21T15:00:00",
          "2018-04-21T16:00:00",
          "2018-04-21T17:00:00",
          "2018-04-21T18:00:00",
          "2018-04-21T19:00:00",
          "2018-04-21T20:00:00",
          "2018-04-21T21:00:00",
          "2018-04-21T22:00:00",
          "2018-04-21T23:00:00",
          "2018-04-22T00:00:00",
          "2018-04-22T01:00:00",
          "2018-04-22T02:00:00",
          "2018-04-22T03:00:00",
          "2018-04-22T04:00:00",
          "2018-04-22T05:00:00",
          "2018-04-22T06:00:00",
          "2018-04-22T07:00:00",
          "2018-04-22T08:00:00",
          "2018-04-22T09:00:00",
          "2018-04-22T10:00:00",
          "2018-04-22T11:00:00",
          "2018-04-22T12:00:00",
          "2018-04-22T13:00:00",
          "2018-04-22T14:00:00",
          "2018-04-22T15:00:00",
          "2018-04-22T16:00:00",
          "2018-04-22T17:00:00",
          "2018-04-22T18:00:00",
          "2018-04-22T19:00:00",
          "2018-04-22T20:00:00",
          "2018-04-22T21:00:00",
          "2018-04-22T22:00:00",
          "2018-04-22T23:00:00",
          "2018-04-23T00:00:00",
          "2018-04-23T01:00:00",
          "2018-04-23T02:00:00",
          "2018-04-23T03:00:00",
          "2018-04-23T04:00:00",
          "2018-04-23T05:00:00",
          "2018-04-23T06:00:00",
          "2018-04-23T07:00:00",
          "2018-04-23T08:00:00",
          "2018-04-23T09:00:00",
          "2018-04-23T10:00:00",
          "2018-04-23T11:00:00",
          "2018-04-23T12:00:00",
          "2018-04-23T13:00:00",
          "2018-04-23T14:00:00",
          "2018-04-23T15:00:00",
          "2018-04-23T16:00:00",
          "2018-04-23T17:00:00",
          "2018-04-23T18:00:00",
          "2018-04-23T19:00:00",
          "2018-04-23T20:00:00",
          "2018-04-23T21:00:00",
          "2018-04-23T22:00:00",
          "2018-04-23T23:00:00",
          "2018-04-24T00:00:00",
          "2018-04-24T01:00:00",
          "2018-04-24T02:00:00",
          "2018-04-24T03:00:00",
          "2018-04-24T04:00:00",
          "2018-04-24T05:00:00",
          "2018-04-24T06:00:00",
          "2018-04-24T07:00:00",
          "2018-04-24T08:00:00",
          "2018-04-24T09:00:00",
          "2018-04-24T10:00:00",
          "2018-04-24T11:00:00",
          "2018-04-24T12:00:00",
          "2018-04-24T13:00:00",
          "2018-04-24T14:00:00",
          "2018-04-24T15:00:00",
          "2018-04-24T16:00:00",
          "2018-04-24T17:00:00",
          "2018-04-24T18:00:00",
          "2018-04-24T19:00:00",
          "2018-04-24T20:00:00",
          "2018-04-24T21:00:00",
          "2018-04-24T22:00:00",
          "2018-04-24T23:00:00",
          "2018-04-25T00:00:00",
          "2018-04-25T01:00:00",
          "2018-04-25T02:00:00",
          "2018-04-25T03:00:00",
          "2018-04-25T04:00:00",
          "2018-04-25T05:00:00",
          "2018-04-25T06:00:00",
          "2018-04-25T07:00:00",
          "2018-04-25T08:00:00",
          "2018-04-25T09:00:00",
          "2018-04-25T10:00:00",
          "2018-04-25T11:00:00",
          "2018-04-25T12:00:00",
          "2018-04-25T13:00:00",
          "2018-04-25T14:00:00",
          "2018-04-25T15:00:00",
          "2018-04-25T16:00:00",
          "2018-04-25T17:00:00",
          "2018-04-25T18:00:00",
          "2018-04-25T19:00:00",
          "2018-04-25T20:00:00",
          "2018-04-25T21:00:00",
          "2018-04-25T22:00:00",
          "2018-04-25T23:00:00",
          "2018-04-26T00:00:00",
          "2018-04-26T01:00:00",
          "2018-04-26T02:00:00",
          "2018-04-26T03:00:00",
          "2018-04-26T04:00:00",
          "2018-04-26T05:00:00",
          "2018-04-26T06:00:00",
          "2018-04-26T07:00:00",
          "2018-04-26T08:00:00",
          "2018-04-26T09:00:00",
          "2018-04-26T10:00:00",
          "2018-04-26T11:00:00",
          "2018-04-26T12:00:00",
          "2018-04-26T13:00:00",
          "2018-04-26T14:00:00",
          "2018-04-26T15:00:00",
          "2018-04-26T16:00:00",
          "2018-04-26T17:00:00",
          "2018-04-26T18:00:00",
          "2018-04-26T19:00:00",
          "2018-04-26T20:00:00",
          "2018-04-26T21:00:00",
          "2018-04-26T22:00:00",
          "2018-04-26T23:00:00",
          "2018-04-27T00:00:00",
          "2018-04-27T01:00:00",
          "2018-04-27T02:00:00",
          "2018-04-27T03:00:00",
          "2018-04-27T04:00:00",
          "2018-04-27T05:00:00",
          "2018-04-27T06:00:00",
          "2018-04-27T07:00:00",
          "2018-04-27T08:00:00",
          "2018-04-27T09:00:00",
          "2018-04-27T10:00:00",
          "2018-04-27T11:00:00",
          "2018-04-27T12:00:00",
          "2018-04-27T13:00:00",
          "2018-04-27T14:00:00",
          "2018-04-27T15:00:00",
          "2018-04-27T16:00:00",
          "2018-04-27T17:00:00",
          "2018-04-30T10:00:00",
          "2018-04-30T11:00:00",
          "2018-04-30T12:00:00",
          "2018-04-30T13:00:00",
          "2018-04-30T14:00:00",
          "2018-04-30T15:00:00",
          "2018-04-30T16:00:00",
          "2018-04-30T17:00:00",
          "2018-04-30T18:00:00",
          "2018-04-30T19:00:00",
          "2018-04-30T20:00:00",
          "2018-04-30T21:00:00",
          "2018-04-30T22:00:00",
          "2018-04-30T23:00:00",
          "2018-05-01T00:00:00",
          "2018-05-01T01:00:00",
          "2018-05-01T02:00:00",
          "2018-05-01T03:00:00",
          "2018-05-01T04:00:00",
          "2018-05-01T05:00:00",
          "2018-05-01T06:00:00",
          "2018-05-01T07:00:00",
          "2018-05-01T08:00:00",
          "2018-05-01T09:00:00",
          "2018-05-01T10:00:00",
          "2018-05-01T11:00:00",
          "2018-05-01T12:00:00",
          "2018-05-01T13:00:00",
          "2018-05-01T14:00:00",
          "2018-05-01T15:00:00",
          "2018-05-01T16:00:00",
          "2018-05-01T17:00:00",
          "2018-05-01T18:00:00",
          "2018-05-01T19:00:00",
          "2018-05-01T20:00:00",
          "2018-05-01T21:00:00",
          "2018-05-01T22:00:00",
          "2018-05-01T23:00:00",
          "2018-05-02T00:00:00",
          "2018-05-02T01:00:00",
          "2018-05-02T02:00:00",
          "2018-05-02T03:00:00",
          "2018-05-02T04:00:00",
          "2018-05-02T05:00:00",
          "2018-05-02T06:00:00",
          "2018-05-02T07:00:00",
          "2018-05-02T08:00:00",
          "2018-05-02T09:00:00",
          "2018-05-02T10:00:00",
          "2018-05-02T11:00:00",
          "2018-05-02T12:00:00",
          "2018-05-02T13:00:00",
          "2018-05-02T14:00:00",
          "2018-05-02T15:00:00",
          "2018-05-02T16:00:00",
          "2018-05-02T17:00:00",
          "2018-05-02T18:00:00",
          "2018-05-02T19:00:00",
          "2018-05-02T20:00:00",
          "2018-05-02T21:00:00",
          "2018-05-02T22:00:00",
          "2018-05-02T23:00:00",
          "2018-05-03T00:00:00",
          "2018-05-03T01:00:00",
          "2018-05-03T02:00:00",
          "2018-05-03T03:00:00",
          "2018-05-03T04:00:00",
          "2018-05-03T05:00:00",
          "2018-05-03T06:00:00",
          "2018-05-03T07:00:00",
          "2018-05-03T08:00:00",
          "2018-05-03T09:00:00",
          "2018-05-03T10:00:00",
          "2018-05-03T11:00:00",
          "2018-05-03T12:00:00",
          "2018-05-03T13:00:00",
          "2018-05-03T14:00:00",
          "2018-05-03T15:00:00",
          "2018-05-03T16:00:00",
          "2018-05-03T17:00:00",
          "2018-05-03T18:00:00",
          "2018-05-03T19:00:00",
          "2018-05-03T20:00:00",
          "2018-05-03T21:00:00",
          "2018-05-03T22:00:00",
          "2018-05-03T23:00:00",
          "2018-05-04T00:00:00",
          "2018-05-04T01:00:00",
          "2018-05-04T02:00:00",
          "2018-05-04T03:00:00",
          "2018-05-04T04:00:00",
          "2018-05-04T05:00:00",
          "2018-05-04T06:00:00",
          "2018-05-04T07:00:00",
          "2018-05-04T08:00:00",
          "2018-05-04T09:00:00",
          "2018-05-04T10:00:00",
          "2018-05-04T11:00:00",
          "2018-05-04T12:00:00",
          "2018-05-04T13:00:00",
          "2018-05-04T14:00:00",
          "2018-05-04T15:00:00",
          "2018-05-04T16:00:00",
          "2018-05-04T17:00:00",
          "2018-05-04T18:00:00",
          "2018-05-04T19:00:00",
          "2018-05-04T20:00:00",
          "2018-05-04T21:00:00",
          "2018-05-04T22:00:00",
          "2018-05-04T23:00:00",
          "2018-05-05T00:00:00",
          "2018-05-05T01:00:00",
          "2018-05-05T02:00:00",
          "2018-05-05T03:00:00",
          "2018-05-05T04:00:00",
          "2018-05-05T05:00:00",
          "2018-05-05T06:00:00",
          "2018-05-05T07:00:00",
          "2018-05-05T08:00:00",
          "2018-05-05T09:00:00",
          "2018-05-05T10:00:00",
          "2018-05-05T11:00:00",
          "2018-05-05T12:00:00",
          "2018-05-05T13:00:00",
          "2018-05-05T14:00:00",
          "2018-05-05T15:00:00",
          "2018-05-05T16:00:00",
          "2018-05-05T17:00:00",
          "2018-05-05T18:00:00",
          "2018-05-05T19:00:00",
          "2018-05-05T20:00:00",
          "2018-05-05T21:00:00",
          "2018-05-05T22:00:00",
          "2018-05-05T23:00:00",
          "2018-05-06T00:00:00",
          "2018-05-06T01:00:00",
          "2018-05-06T02:00:00",
          "2018-05-06T03:00:00",
          "2018-05-06T04:00:00",
          "2018-05-06T05:00:00",
          "2018-05-06T06:00:00",
          "2018-05-06T07:00:00",
          "2018-05-06T08:00:00",
          "2018-05-06T09:00:00",
          "2018-05-06T10:00:00",
          "2018-05-06T11:00:00",
          "2018-05-06T12:00:00",
          "2018-05-06T13:00:00",
          "2018-05-06T14:00:00",
          "2018-05-06T15:00:00",
          "2018-05-06T16:00:00",
          "2018-05-06T17:00:00",
          "2018-05-06T18:00:00",
          "2018-05-06T19:00:00",
          "2018-05-06T20:00:00",
          "2018-05-06T21:00:00",
          "2018-05-06T22:00:00",
          "2018-05-06T23:00:00",
          "2018-05-07T00:00:00",
          "2018-05-07T01:00:00",
          "2018-05-07T02:00:00",
          "2018-05-07T03:00:00",
          "2018-05-07T04:00:00",
          "2018-05-07T05:00:00",
          "2018-05-07T06:00:00",
          "2018-05-07T07:00:00",
          "2018-05-07T08:00:00",
          "2018-05-07T09:00:00",
          "2018-05-07T10:00:00",
          "2018-05-07T11:00:00",
          "2018-05-07T12:00:00",
          "2018-05-07T13:00:00",
          "2018-05-07T14:00:00",
          "2018-05-07T15:00:00",
          "2018-05-07T16:00:00",
          "2018-05-07T17:00:00",
          "2018-05-07T18:00:00",
          "2018-05-07T19:00:00",
          "2018-05-07T20:00:00",
          "2018-05-07T21:00:00",
          "2018-05-07T22:00:00",
          "2018-05-07T23:00:00",
          "2018-05-08T00:00:00",
          "2018-05-08T01:00:00",
          "2018-05-08T02:00:00",
          "2018-05-08T03:00:00",
          "2018-05-08T04:00:00",
          "2018-05-08T05:00:00",
          "2018-05-08T06:00:00",
          "2018-05-08T07:00:00",
          "2018-05-08T08:00:00",
          "2018-05-08T09:00:00",
          "2018-05-08T10:00:00",
          "2018-05-08T11:00:00",
          "2018-05-08T12:00:00",
          "2018-05-08T13:00:00",
          "2018-05-08T14:00:00",
          "2018-05-08T15:00:00",
          "2018-05-08T16:00:00",
          "2018-05-08T17:00:00",
          "2018-05-08T18:00:00",
          "2018-05-08T19:00:00",
          "2018-05-08T20:00:00",
          "2018-05-08T21:00:00",
          "2018-05-08T22:00:00",
          "2018-05-08T23:00:00",
          "2018-05-09T00:00:00",
          "2018-05-09T01:00:00",
          "2018-05-09T02:00:00",
          "2018-05-09T03:00:00"
         ],
         "xaxis": "x",
         "y": [
          8.238677,
          6.063046,
          8.879219,
          8.514777,
          151.80991262822042,
          151.80991262822042,
          7.139824,
          110.17845,
          177.3606,
          175.9608,
          169.0032,
          165.0937,
          151.80991262822042,
          151.80991262822042,
          151.80991262822042,
          156.181375,
          151.31935,
          135.53577142857145,
          149.223775,
          144.94979999999998,
          151.80991262822042,
          147.38495,
          143.3098,
          146.1094,
          147.1365,
          151.80991262822042,
          146.0597,
          146.05975,
          148.9256,
          151.39572222222225,
          123.6629,
          151.80991262822042,
          151.80991262822042,
          151.80991262822042,
          151.80991262822042,
          7.0404230000000005,
          151.80991262822042,
          151.80991262822042,
          153.3210333333333,
          185.6462,
          171.2147,
          149.17405,
          145.96035,
          147.3021,
          148.8179,
          153.2658,
          151.80991262822042,
          155.8501,
          156.9434,
          158.2355,
          162.79104999999998,
          162.2444,
          161.01855,
          160.9357,
          162.41005,
          161.01855,
          160.19025,
          156.4796,
          157.36303333333333,
          160.89927999999998,
          158.6441,
          158.74905,
          157.5066,
          158.4012,
          161.1842333333333,
          163.12793333333332,
          164.0666,
          164.364825,
          167.9596,
          166.91592500000002,
          166.9049,
          166.02134999999998,
          165.73423333333332,
          166.03243333333336,
          172.30972,
          174.344,
          180.93055,
          181.825,
          177.6505,
          176.07342,
          176.35835,
          172.59795,
          173.85694999999998,
          175.886275,
          170.5935,
          170.9413833333333,
          166.36373333333333,
          166.0214,
          167.45074285714287,
          165.72873333333334,
          167.37977999999998,
          163.86786666666669,
          165.10473333333334,
          164.3317,
          165.0937,
          165.1931,
          165.64035,
          165.49130000000002,
          163.404,
          163.8016,
          163.54756666666665,
          158.31283333333332,
          161.0053,
          160.488425,
          160.90255000000002,
          160.5878,
          158.55576666666667,
          157.69715000000002,
          157.75515,
          159.718125,
          160.55470000000005,
          158.03675,
          160.0909,
          160.05773333333337,
          157.3741,
          159.71536666666665,
          158.41775,
          157.32440000000005,
          157.8545,
          151.80991262822042,
          158.1803,
          157.7054,
          156.5182166666667,
          157.00963333333334,
          156.18796000000003,
          159.27915000000002,
          158.5778666666667,
          159.6602,
          159.1190333333333,
          160.53815000000003,
          163.901,
          159.01956666666666,
          156.91025000000002,
          156.71145,
          156.0488,
          156.42654,
          155.6071,
          158.5116,
          158.35975,
          157.109,
          151.80991262822042,
          158.2024,
          156.728,
          159.0417,
          156.58996666666667,
          156.2808,
          155.53528333333335,
          160.34765,
          160.0412,
          154.375675,
          150.24255,
          155.3862,
          153.7186,
          151.9571,
          150.31713333333337,
          156.40666,
          157.29125,
          158.5337,
          154.92236666666668,
          154.9638,
          155.07145,
          148.1304,
          149.95265,
          148.9256,
          151.80991262822042,
          149.67104999999998,
          148.7599,
          154.1769,
          152.5038,
          154.53583333333333,
          155.46075,
          151.80991262822042,
          155.3133,
          157.63915,
          157.36306666666667,
          157.45695,
          158.3763,
          157.60603333333333,
          153.7296,
          152.926225,
          151.0239,
          151.84109999999998,
          155.03002500000002,
          157.38513333333333,
          158.6441,
          159.26256666666666,
          151.34416666666667,
          152.91240000000002,
          154.61313333333334,
          153.870475,
          151.80991262822042,
          146.42419999999998,
          151.80991262822042,
          150.94665,
          152.38780000000003,
          154.6905,
          151.80991262822042,
          154.1272,
          156.5127,
          156.6121,
          156.98598571428573,
          162.32725,
          166.42999999999998,
          168.62928571428574,
          166.63845,
          163.00642,
          166.69503333333333,
          166.336125,
          165.63483333333332,
          163.5807,
          165.17655000000002,
          167.4129,
          166.0214,
          151.80991262822042,
          164.8949,
          164.38135,
          165.78946666666664,
          164.5636,
          163.33775999999995,
          160.2068375,
          158.38695714285717,
          151.68380000000002,
          156.13716666666667,
          157.4404,
          154.7899,
          155.5187,
          161.1936714285714,
          161.04063333333332,
          166.85439999999997,
          169.77626666666666,
          165.81154999999998,
          169.1168,
          168.27432,
          164.5305,
          161.15108,
          154.97539999999998,
          147.0371,
          151.80991262822042,
          151.80991262822042,
          148.00896666666668,
          148.5169666666667,
          146.7886,
          151.80991262822042,
          140.6041,
          137.92595,
          151.80991262822042,
          139.1518,
          140.6648,
          137.3959,
          151.80991262822042,
          151.80991262822042,
          136.04853333333332,
          151.80991262822042,
          151.80991262822042,
          151.80991262822042,
          142.84595000000002,
          143.3761,
          151.80991262822042,
          151.80991262822042,
          144.12150000000003,
          138.7708,
          151.80991262822042,
          131.4322,
          151.80991262822042,
          151.80991262822042,
          151.80991262822042,
          132.5587,
          151.80991262822042,
          151.80991262822042,
          133.61890000000002,
          151.80991262822042,
          135.57365,
          151.80991262822042,
          151.80991262822042,
          132.5255,
          134.46375,
          151.80991262822042,
          131.0678,
          151.80991262822042,
          130.2395,
          151.80991262822042,
          129.9413,
          151.80991262822042,
          151.80991262822042,
          151.80991262822042,
          151.80991262822042,
          151.80991262822042,
          151.80991262822042,
          151.80991262822042,
          129.1793,
          151.80991262822042,
          151.80991262822042,
          151.80991262822042,
          151.80991262822042,
          151.80991262822042,
          131.2003,
          151.80991262822042,
          135.5074,
          131.3328,
          151.80991262822042,
          151.80991262822042,
          132.0948,
          151.80991262822042,
          151.80991262822042,
          151.80991262822042,
          151.80991262822042,
          151.80991262822042,
          132.0286,
          132.5587,
          151.80991262822042,
          151.80991262822042,
          132.4924,
          133.7514,
          151.80991262822042,
          151.80991262822042,
          151.80991262822042,
          136.4019,
          151.80991262822042,
          151.80991262822042,
          151.80991262822042,
          151.80991262822042,
          142.65273333333334,
          137.9922,
          151.80991262822042,
          151.80991262822042,
          135.4411,
          135.1761,
          151.80991262822042,
          151.80991262822042,
          151.80991262822042,
          133.5195,
          151.80991262822042,
          151.80991262822042,
          151.80991262822042,
          151.80991262822042,
          151.80991262822042,
          133.8177,
          151.80991262822042,
          151.80991262822042,
          136.17,
          151.80991262822042,
          136.7664,
          136.2031,
          151.80991262822042,
          151.80991262822042,
          138.0585,
          151.80991262822042,
          151.80991262822042,
          151.80991262822042,
          151.80991262822042,
          151.80991262822042,
          151.80991262822042,
          138.8868,
          140.79180000000002,
          139.1187,
          137.3627,
          151.80991262822042,
          151.80991262822042,
          151.80991262822042,
          151.80991262822042,
          151.80991262822042,
          151.80991262822042,
          136.667,
          151.80991262822042,
          151.80991262822042,
          151.80991262822042,
          151.80991262822042,
          151.80991262822042,
          151.80991262822042,
          137.7603,
          151.80991262822042,
          151.80991262822042,
          151.80991262822042,
          151.80991262822042,
          151.80991262822042,
          138.70454999999998,
          142.00115,
          138.4892,
          151.80991262822042,
          151.80991262822042,
          151.80991262822042,
          151.80991262822042,
          151.80991262822042,
          151.80991262822042,
          151.80991262822042,
          139.2843,
          151.80991262822042,
          151.80991262822042,
          151.80991262822042,
          151.80991262822042,
          151.80991262822042,
          151.80991262822042,
          142.9288,
          151.80991262822042,
          145.2149,
          151.80991262822042,
          146.0763,
          151.80991262822042,
          146.1757,
          151.80991262822042,
          147.2193,
          143.6246,
          151.80991262822042,
          151.80991262822042,
          151.80991262822042,
          151.80991262822042,
          151.80991262822042,
          151.80991262822042,
          138.83710000000002,
          151.80991262822042,
          139.1187,
          137.5947,
          151.80991262822042,
          151.80991262822042,
          151.80991262822042,
          151.80991262822042,
          142.0674,
          151.80991262822042,
          151.80991262822042,
          137.7272,
          151.80991262822042,
          151.80991262822042,
          151.80991262822042,
          135.0435,
          136.3025,
          139.5494,
          151.80991262822042,
          151.80991262822042,
          151.80991262822042,
          151.80991262822042,
          136.0375,
          134.5797,
          151.80991262822042,
          151.80991262822042,
          134.8448,
          151.80991262822042,
          134.6128,
          151.80991262822042,
          134.414,
          151.80991262822042,
          135.1429,
          151.80991262822042,
          135.8056,
          151.80991262822042,
          151.80991262822042,
          151.80991262822042,
          151.80991262822042,
          136.17,
          138.52229999999997,
          136.2197,
          151.80991262822042,
          151.80991262822042,
          151.80991262822042,
          131.9955,
          151.80991262822042,
          151.80991262822042,
          151.80991262822042,
          151.80991262822042,
          132.1611,
          151.80991262822042,
          151.80991262822042,
          151.80991262822042,
          151.80991262822042,
          138.3235,
          151.80991262822042,
          146.91559999999998,
          151.80991262822042,
          163.7685,
          151.80991262822042,
          164.5967,
          163.8678,
          159.8589,
          151.80991262822042,
          151.80991262822042,
          151.80991262822042,
          157.341,
          156.97655,
          151.80991262822042,
          151.80991262822042,
          151.80991262822042,
          151.80991262822042,
          151.80991262822042,
          151.80991262822042,
          155.4856,
          155.2206,
          151.80991262822042,
          151.80991262822042,
          154.9886,
          151.80991262822042,
          151.80991262822042,
          151.80991262822042,
          151.80991262822042,
          154.1603,
          155.5519,
          156.99305,
          151.80991262822042,
          153.9284,
          155.5187,
          151.80991262822042,
          151.80991262822042,
          155.9163,
          151.80991262822042,
          151.80991262822042,
          151.80991262822042,
          151.80991262822042,
          151.80991262822042,
          151.80991262822042,
          155.7506,
          151.80991262822042,
          151.80991262822042,
          157.24155,
          151.80991262822042,
          151.80991262822042,
          156.1151,
          158.9313,
          151.80991262822042,
          151.80991262822042,
          151.80991262822042,
          159.1963,
          162.55363333333332,
          151.80991262822042,
          151.80991262822042,
          151.80991262822042,
          159.0969,
          151.80991262822042,
          155.6181,
          151.80991262822042,
          151.80991262822042,
          151.80991262822042,
          151.80991262822042,
          151.80991262822042,
          151.80991262822042,
          156.4796,
          151.80991262822042,
          156.7777,
          151.80991262822042,
          151.80991262822042,
          151.80991262822042,
          151.80991262822042,
          154.4917,
          154.2598,
          153.7628,
          152.2719,
          151.80991262822042,
          152.5535,
          151.80991262822042,
          151.80991262822042,
          152.305,
          151.80991262822042,
          151.80991262822042,
          154.061,
          151.80991262822042,
          151.80991262822042,
          151.80991262822042,
          151.80991262822042,
          151.80991262822042,
          154.9555,
          151.80991262822042,
          151.80991262822042,
          151.80991262822042,
          151.80991262822042,
          156.1151,
          151.80991262822042,
          155.7175,
          151.80991262822042,
          151.80991262822042,
          151.80991262822042,
          154.2929,
          156.81085000000002,
          154.57445,
          151.80991262822042,
          151.80991262822042,
          151.80991262822042,
          151.80991262822042,
          154.2598,
          151.80991262822042,
          151.80991262822042,
          151.80991262822042,
          153.9947,
          151.80991262822042,
          151.80991262822042,
          155.1212,
          151.80991262822042,
          151.80991262822042,
          156.5127,
          151.80991262822042,
          151.80991262822042,
          151.80991262822042,
          151.80991262822042,
          155.4193,
          151.80991262822042,
          151.80991262822042,
          154.6905,
          155.0218,
          151.80991262822042,
          151.80991262822042,
          151.80991262822042,
          151.80991262822042,
          152.4044,
          151.80991262822042,
          151.80991262822042,
          151.80991262822042,
          151.6092,
          151.80991262822042,
          151.80991262822042,
          153.3652,
          151.80991262822042,
          151.80991262822042,
          151.80991262822042,
          151.80991262822042,
          152.1393,
          151.80991262822042,
          151.7086,
          150.5822,
          151.80991262822042,
          151.80991262822042,
          151.80991262822042,
          153.9947,
          151.4436,
          151.80991262822042,
          151.80991262822042,
          150.41653333333332,
          145.0161,
          151.80991262822042,
          151.80991262822042,
          146.59533333333334,
          151.80991262822042,
          151.80991262822042,
          151.80991262822042,
          145.4137,
          143.724,
          151.80991262822042,
          149.26796666666667,
          147.6666,
          151.80991262822042,
          151.80991262822042,
          151.80991262822042,
          151.9074,
          153.9615,
          151.80991262822042,
          155.27573333333336,
          153.9284,
          152.24976666666666,
          155.2206,
          155.5519,
          151.5319,
          151.43253333333334,
          152.98417500000002,
          151.2713,
          153.63025,
          152.17243333333332,
          152.4375,
          152.2719,
          151.02945,
          152.9014,
          151.4767,
          152.2719,
          151.43253333333334,
          152.371275,
          152.59213333333335,
          150.49598,
          151.67545,
          156.5127,
          156.6231,
          157.20845,
          155.73963333333333,
          154.66840000000002,
          149.34523333333334,
          146.63955,
          149.3011,
          150.8362,
          151.16743333333332,
          150.6484,
          149.1575,
          153.108425,
          146.3745,
          144.3203,
          151.80991262822042,
          144.5854,
          151.80991262822042,
          145.8112,
          151.80991262822042,
          145.2149,
          145.5462,
          147.30214999999998,
          147.14753333333334,
          149.90300000000002,
          150.11835000000002,
          149.43359999999998,
          151.2779,
          152.47063333333332,
          150.93334,
          150.43859999999998,
          148.528,
          151.80991262822042,
          148.5722,
          153.92845,
          160.6541,
          161.9462,
          160.0577,
          157.7054,
          156.8219,
          151.80991262822042,
          158.39013333333332,
          163.21848,
          171.02419999999998,
          168.315725,
          166.07441999999998,
          162.05886,
          167.9099,
          151.80991262822042,
          170.0137,
          169.8646,
          179.099975,
          179.2905,
          178.28,
          180.00283333333334,
          151.80991262822042,
          174.9006,
          173.65815,
          175.7952,
          173.8735,
          151.80991262822042,
          167.669675,
          162.3438,
          158.83186666666668,
          162.46529999999998,
          163.10585,
          163.0561,
          163.32119999999998,
          151.80991262822042,
          164.15938,
          162.9236,
          165.06054999999998,
          165.38086666666666,
          158.98095,
          158.9644,
          163.404,
          161.2505,
          153.58055,
          155.493875,
          156.03780000000003,
          156.61208000000002,
          165.64865,
          156.2476333333333,
          153.6413,
          150.09623333333334,
          147.96474999999998,
          145.0161,
          151.80991262822042,
          143.9227,
          144.3866,
          142.1337,
          142.9619,
          142.4981,
          151.80991262822042,
          144.0718,
          145.44018,
          147.97580000000002,
          150.1183,
          150.9466,
          151.60925,
          150.5159,
          149.60146,
          152.61975,
          156.6452,
          155.99915,
          153.6413,
          152.3381,
          155.1957,
          152.13933333333333,
          154.53722499999998,
          152.155875,
          151.80991262822042,
          142.1337,
          151.80991262822042,
          151.80991262822042,
          151.80991262822042,
          141.05685,
          151.80991262822042,
          145.77805,
          144.983,
          147.766,
          150.1266,
          151.80991262822042,
          153.2658,
          159.74295,
          154.5248,
          159.30676666666668,
          157.5563,
          153.961525,
          156.02893999999998,
          154.7567,
          148.1525,
          146.67265,
          144.51909999999998,
          147.31320000000002,
          146.41863333333333,
          144.1712,
          151.80991262822042,
          151.80991262822042,
          143.6908,
          147.11443333333332,
          146.9377,
          148.643975,
          143.8565,
          143.57485,
          146.49040000000002,
          150.20666666666668,
          151.49876666666668,
          150.42477499999998,
          148.17461666666668,
          147.8985,
          142.2993,
          151.80991262822042,
          146.77205,
          144.7179,
          146.19225,
          142.7632,
          143.37939999999998,
          148.1967,
          140.2452,
          141.5704
         ],
         "yaxis": "y"
        },
        {
         "mode": "markers",
         "name": "outliers",
         "type": "scatter",
         "x": [
          "2018-03-26T01:00:00",
          "2018-03-26T09:00:00",
          "2018-03-27T10:00:00",
          "2018-03-28T20:00:00",
          "2018-03-30T06:00:00",
          "2018-04-02T01:00:00"
         ],
         "y": [
          8.238677,
          6.063046,
          8.879219,
          8.514777,
          7.139824,
          7.0404230000000005
         ]
        }
       ],
       "layout": {
        "legend": {
         "tracegroupgap": 0
        },
        "template": {
         "data": {
          "bar": [
           {
            "error_x": {
             "color": "#2a3f5f"
            },
            "error_y": {
             "color": "#2a3f5f"
            },
            "marker": {
             "line": {
              "color": "#E5ECF6",
              "width": 0.5
             },
             "pattern": {
              "fillmode": "overlay",
              "size": 10,
              "solidity": 0.2
             }
            },
            "type": "bar"
           }
          ],
          "barpolar": [
           {
            "marker": {
             "line": {
              "color": "#E5ECF6",
              "width": 0.5
             },
             "pattern": {
              "fillmode": "overlay",
              "size": 10,
              "solidity": 0.2
             }
            },
            "type": "barpolar"
           }
          ],
          "carpet": [
           {
            "aaxis": {
             "endlinecolor": "#2a3f5f",
             "gridcolor": "white",
             "linecolor": "white",
             "minorgridcolor": "white",
             "startlinecolor": "#2a3f5f"
            },
            "baxis": {
             "endlinecolor": "#2a3f5f",
             "gridcolor": "white",
             "linecolor": "white",
             "minorgridcolor": "white",
             "startlinecolor": "#2a3f5f"
            },
            "type": "carpet"
           }
          ],
          "choropleth": [
           {
            "colorbar": {
             "outlinewidth": 0,
             "ticks": ""
            },
            "type": "choropleth"
           }
          ],
          "contour": [
           {
            "colorbar": {
             "outlinewidth": 0,
             "ticks": ""
            },
            "colorscale": [
             [
              0,
              "#0d0887"
             ],
             [
              0.1111111111111111,
              "#46039f"
             ],
             [
              0.2222222222222222,
              "#7201a8"
             ],
             [
              0.3333333333333333,
              "#9c179e"
             ],
             [
              0.4444444444444444,
              "#bd3786"
             ],
             [
              0.5555555555555556,
              "#d8576b"
             ],
             [
              0.6666666666666666,
              "#ed7953"
             ],
             [
              0.7777777777777778,
              "#fb9f3a"
             ],
             [
              0.8888888888888888,
              "#fdca26"
             ],
             [
              1,
              "#f0f921"
             ]
            ],
            "type": "contour"
           }
          ],
          "contourcarpet": [
           {
            "colorbar": {
             "outlinewidth": 0,
             "ticks": ""
            },
            "type": "contourcarpet"
           }
          ],
          "heatmap": [
           {
            "colorbar": {
             "outlinewidth": 0,
             "ticks": ""
            },
            "colorscale": [
             [
              0,
              "#0d0887"
             ],
             [
              0.1111111111111111,
              "#46039f"
             ],
             [
              0.2222222222222222,
              "#7201a8"
             ],
             [
              0.3333333333333333,
              "#9c179e"
             ],
             [
              0.4444444444444444,
              "#bd3786"
             ],
             [
              0.5555555555555556,
              "#d8576b"
             ],
             [
              0.6666666666666666,
              "#ed7953"
             ],
             [
              0.7777777777777778,
              "#fb9f3a"
             ],
             [
              0.8888888888888888,
              "#fdca26"
             ],
             [
              1,
              "#f0f921"
             ]
            ],
            "type": "heatmap"
           }
          ],
          "heatmapgl": [
           {
            "colorbar": {
             "outlinewidth": 0,
             "ticks": ""
            },
            "colorscale": [
             [
              0,
              "#0d0887"
             ],
             [
              0.1111111111111111,
              "#46039f"
             ],
             [
              0.2222222222222222,
              "#7201a8"
             ],
             [
              0.3333333333333333,
              "#9c179e"
             ],
             [
              0.4444444444444444,
              "#bd3786"
             ],
             [
              0.5555555555555556,
              "#d8576b"
             ],
             [
              0.6666666666666666,
              "#ed7953"
             ],
             [
              0.7777777777777778,
              "#fb9f3a"
             ],
             [
              0.8888888888888888,
              "#fdca26"
             ],
             [
              1,
              "#f0f921"
             ]
            ],
            "type": "heatmapgl"
           }
          ],
          "histogram": [
           {
            "marker": {
             "pattern": {
              "fillmode": "overlay",
              "size": 10,
              "solidity": 0.2
             }
            },
            "type": "histogram"
           }
          ],
          "histogram2d": [
           {
            "colorbar": {
             "outlinewidth": 0,
             "ticks": ""
            },
            "colorscale": [
             [
              0,
              "#0d0887"
             ],
             [
              0.1111111111111111,
              "#46039f"
             ],
             [
              0.2222222222222222,
              "#7201a8"
             ],
             [
              0.3333333333333333,
              "#9c179e"
             ],
             [
              0.4444444444444444,
              "#bd3786"
             ],
             [
              0.5555555555555556,
              "#d8576b"
             ],
             [
              0.6666666666666666,
              "#ed7953"
             ],
             [
              0.7777777777777778,
              "#fb9f3a"
             ],
             [
              0.8888888888888888,
              "#fdca26"
             ],
             [
              1,
              "#f0f921"
             ]
            ],
            "type": "histogram2d"
           }
          ],
          "histogram2dcontour": [
           {
            "colorbar": {
             "outlinewidth": 0,
             "ticks": ""
            },
            "colorscale": [
             [
              0,
              "#0d0887"
             ],
             [
              0.1111111111111111,
              "#46039f"
             ],
             [
              0.2222222222222222,
              "#7201a8"
             ],
             [
              0.3333333333333333,
              "#9c179e"
             ],
             [
              0.4444444444444444,
              "#bd3786"
             ],
             [
              0.5555555555555556,
              "#d8576b"
             ],
             [
              0.6666666666666666,
              "#ed7953"
             ],
             [
              0.7777777777777778,
              "#fb9f3a"
             ],
             [
              0.8888888888888888,
              "#fdca26"
             ],
             [
              1,
              "#f0f921"
             ]
            ],
            "type": "histogram2dcontour"
           }
          ],
          "mesh3d": [
           {
            "colorbar": {
             "outlinewidth": 0,
             "ticks": ""
            },
            "type": "mesh3d"
           }
          ],
          "parcoords": [
           {
            "line": {
             "colorbar": {
              "outlinewidth": 0,
              "ticks": ""
             }
            },
            "type": "parcoords"
           }
          ],
          "pie": [
           {
            "automargin": true,
            "type": "pie"
           }
          ],
          "scatter": [
           {
            "fillpattern": {
             "fillmode": "overlay",
             "size": 10,
             "solidity": 0.2
            },
            "type": "scatter"
           }
          ],
          "scatter3d": [
           {
            "line": {
             "colorbar": {
              "outlinewidth": 0,
              "ticks": ""
             }
            },
            "marker": {
             "colorbar": {
              "outlinewidth": 0,
              "ticks": ""
             }
            },
            "type": "scatter3d"
           }
          ],
          "scattercarpet": [
           {
            "marker": {
             "colorbar": {
              "outlinewidth": 0,
              "ticks": ""
             }
            },
            "type": "scattercarpet"
           }
          ],
          "scattergeo": [
           {
            "marker": {
             "colorbar": {
              "outlinewidth": 0,
              "ticks": ""
             }
            },
            "type": "scattergeo"
           }
          ],
          "scattergl": [
           {
            "marker": {
             "colorbar": {
              "outlinewidth": 0,
              "ticks": ""
             }
            },
            "type": "scattergl"
           }
          ],
          "scattermapbox": [
           {
            "marker": {
             "colorbar": {
              "outlinewidth": 0,
              "ticks": ""
             }
            },
            "type": "scattermapbox"
           }
          ],
          "scatterpolar": [
           {
            "marker": {
             "colorbar": {
              "outlinewidth": 0,
              "ticks": ""
             }
            },
            "type": "scatterpolar"
           }
          ],
          "scatterpolargl": [
           {
            "marker": {
             "colorbar": {
              "outlinewidth": 0,
              "ticks": ""
             }
            },
            "type": "scatterpolargl"
           }
          ],
          "scatterternary": [
           {
            "marker": {
             "colorbar": {
              "outlinewidth": 0,
              "ticks": ""
             }
            },
            "type": "scatterternary"
           }
          ],
          "surface": [
           {
            "colorbar": {
             "outlinewidth": 0,
             "ticks": ""
            },
            "colorscale": [
             [
              0,
              "#0d0887"
             ],
             [
              0.1111111111111111,
              "#46039f"
             ],
             [
              0.2222222222222222,
              "#7201a8"
             ],
             [
              0.3333333333333333,
              "#9c179e"
             ],
             [
              0.4444444444444444,
              "#bd3786"
             ],
             [
              0.5555555555555556,
              "#d8576b"
             ],
             [
              0.6666666666666666,
              "#ed7953"
             ],
             [
              0.7777777777777778,
              "#fb9f3a"
             ],
             [
              0.8888888888888888,
              "#fdca26"
             ],
             [
              1,
              "#f0f921"
             ]
            ],
            "type": "surface"
           }
          ],
          "table": [
           {
            "cells": {
             "fill": {
              "color": "#EBF0F8"
             },
             "line": {
              "color": "white"
             }
            },
            "header": {
             "fill": {
              "color": "#C8D4E3"
             },
             "line": {
              "color": "white"
             }
            },
            "type": "table"
           }
          ]
         },
         "layout": {
          "annotationdefaults": {
           "arrowcolor": "#2a3f5f",
           "arrowhead": 0,
           "arrowwidth": 1
          },
          "autotypenumbers": "strict",
          "coloraxis": {
           "colorbar": {
            "outlinewidth": 0,
            "ticks": ""
           }
          },
          "colorscale": {
           "diverging": [
            [
             0,
             "#8e0152"
            ],
            [
             0.1,
             "#c51b7d"
            ],
            [
             0.2,
             "#de77ae"
            ],
            [
             0.3,
             "#f1b6da"
            ],
            [
             0.4,
             "#fde0ef"
            ],
            [
             0.5,
             "#f7f7f7"
            ],
            [
             0.6,
             "#e6f5d0"
            ],
            [
             0.7,
             "#b8e186"
            ],
            [
             0.8,
             "#7fbc41"
            ],
            [
             0.9,
             "#4d9221"
            ],
            [
             1,
             "#276419"
            ]
           ],
           "sequential": [
            [
             0,
             "#0d0887"
            ],
            [
             0.1111111111111111,
             "#46039f"
            ],
            [
             0.2222222222222222,
             "#7201a8"
            ],
            [
             0.3333333333333333,
             "#9c179e"
            ],
            [
             0.4444444444444444,
             "#bd3786"
            ],
            [
             0.5555555555555556,
             "#d8576b"
            ],
            [
             0.6666666666666666,
             "#ed7953"
            ],
            [
             0.7777777777777778,
             "#fb9f3a"
            ],
            [
             0.8888888888888888,
             "#fdca26"
            ],
            [
             1,
             "#f0f921"
            ]
           ],
           "sequentialminus": [
            [
             0,
             "#0d0887"
            ],
            [
             0.1111111111111111,
             "#46039f"
            ],
            [
             0.2222222222222222,
             "#7201a8"
            ],
            [
             0.3333333333333333,
             "#9c179e"
            ],
            [
             0.4444444444444444,
             "#bd3786"
            ],
            [
             0.5555555555555556,
             "#d8576b"
            ],
            [
             0.6666666666666666,
             "#ed7953"
            ],
            [
             0.7777777777777778,
             "#fb9f3a"
            ],
            [
             0.8888888888888888,
             "#fdca26"
            ],
            [
             1,
             "#f0f921"
            ]
           ]
          },
          "colorway": [
           "#636efa",
           "#EF553B",
           "#00cc96",
           "#ab63fa",
           "#FFA15A",
           "#19d3f3",
           "#FF6692",
           "#B6E880",
           "#FF97FF",
           "#FECB52"
          ],
          "font": {
           "color": "#2a3f5f"
          },
          "geo": {
           "bgcolor": "white",
           "lakecolor": "white",
           "landcolor": "#E5ECF6",
           "showlakes": true,
           "showland": true,
           "subunitcolor": "white"
          },
          "hoverlabel": {
           "align": "left"
          },
          "hovermode": "closest",
          "mapbox": {
           "style": "light"
          },
          "paper_bgcolor": "white",
          "plot_bgcolor": "#E5ECF6",
          "polar": {
           "angularaxis": {
            "gridcolor": "white",
            "linecolor": "white",
            "ticks": ""
           },
           "bgcolor": "#E5ECF6",
           "radialaxis": {
            "gridcolor": "white",
            "linecolor": "white",
            "ticks": ""
           }
          },
          "scene": {
           "xaxis": {
            "backgroundcolor": "#E5ECF6",
            "gridcolor": "white",
            "gridwidth": 2,
            "linecolor": "white",
            "showbackground": true,
            "ticks": "",
            "zerolinecolor": "white"
           },
           "yaxis": {
            "backgroundcolor": "#E5ECF6",
            "gridcolor": "white",
            "gridwidth": 2,
            "linecolor": "white",
            "showbackground": true,
            "ticks": "",
            "zerolinecolor": "white"
           },
           "zaxis": {
            "backgroundcolor": "#E5ECF6",
            "gridcolor": "white",
            "gridwidth": 2,
            "linecolor": "white",
            "showbackground": true,
            "ticks": "",
            "zerolinecolor": "white"
           }
          },
          "shapedefaults": {
           "line": {
            "color": "#2a3f5f"
           }
          },
          "ternary": {
           "aaxis": {
            "gridcolor": "white",
            "linecolor": "white",
            "ticks": ""
           },
           "baxis": {
            "gridcolor": "white",
            "linecolor": "white",
            "ticks": ""
           },
           "bgcolor": "#E5ECF6",
           "caxis": {
            "gridcolor": "white",
            "linecolor": "white",
            "ticks": ""
           }
          },
          "title": {
           "x": 0.05
          },
          "xaxis": {
           "automargin": true,
           "gridcolor": "white",
           "linecolor": "white",
           "ticks": "",
           "title": {
            "standoff": 15
           },
           "zerolinecolor": "white",
           "zerolinewidth": 2
          },
          "yaxis": {
           "automargin": true,
           "gridcolor": "white",
           "linecolor": "white",
           "ticks": "",
           "title": {
            "standoff": 15
           },
           "zerolinecolor": "white",
           "zerolinewidth": 2
          }
         }
        },
        "title": {
         "text": "Outliers for HPBH:221T036 Stanlow"
        },
        "xaxis": {
         "anchor": "y",
         "domain": [
          0,
          1
         ],
         "title": {
          "text": "Date"
         }
        },
        "yaxis": {
         "anchor": "x",
         "domain": [
          0,
          1
         ],
         "title": {
          "text": "Value"
         }
        }
       }
      }
     },
     "metadata": {},
     "output_type": "display_data"
    }
   ],
   "source": [
    "data_cleansing.detect_outliers(df, col_name=df.columns[10], threshold=3)"
   ]
  },
  {
   "cell_type": "markdown",
   "metadata": {},
   "source": [
    "### Test DataPreprocessing Module"
   ]
  },
  {
   "cell_type": "markdown",
   "metadata": {},
   "source": [
    "feature_encoding()"
   ]
  },
  {
   "cell_type": "code",
   "execution_count": 2,
   "metadata": {},
   "outputs": [],
   "source": [
    "data_exp = DataExploration()\n",
    "df = data_exp.load_data('./data/coyote_0731_1000.xlsx', parse_dates=False, index_col=False)"
   ]
  },
  {
   "cell_type": "code",
   "execution_count": 3,
   "metadata": {},
   "outputs": [
    {
     "name": "stdout",
     "output_type": "stream",
     "text": [
      "Data types summary:\n",
      " int64      39\n",
      "float64    29\n",
      "bool       20\n",
      "object     11\n",
      "Name: count, dtype: int64\n"
     ]
    }
   ],
   "source": [
    "data_exp.summarize_data_type(df)"
   ]
  },
  {
   "cell_type": "code",
   "execution_count": 4,
   "metadata": {},
   "outputs": [
    {
     "data": {
      "text/html": [
       "<div>\n",
       "<style scoped>\n",
       "    .dataframe tbody tr th:only-of-type {\n",
       "        vertical-align: middle;\n",
       "    }\n",
       "\n",
       "    .dataframe tbody tr th {\n",
       "        vertical-align: top;\n",
       "    }\n",
       "\n",
       "    .dataframe thead th {\n",
       "        text-align: right;\n",
       "    }\n",
       "</style>\n",
       "<table border=\"1\" class=\"dataframe\">\n",
       "  <thead>\n",
       "    <tr style=\"text-align: right;\">\n",
       "      <th></th>\n",
       "      <th>Concealed</th>\n",
       "      <th>Team</th>\n",
       "      <th>Private</th>\n",
       "      <th>Rolled</th>\n",
       "      <th>TankerContainer</th>\n",
       "      <th>TankerLiquid</th>\n",
       "      <th>TankerFood</th>\n",
       "      <th>TankerReefer</th>\n",
       "      <th>TankerHazMat</th>\n",
       "      <th>Hot</th>\n",
       "      <th>Liquor</th>\n",
       "      <th>TWIC</th>\n",
       "      <th>TMSPrivateCarrier</th>\n",
       "      <th>Govt</th>\n",
       "      <th>HRHV</th>\n",
       "      <th>Seal</th>\n",
       "      <th>IsCustomerHighPriority</th>\n",
       "      <th>IsCommodityStackable</th>\n",
       "      <th>MXCrossBorder</th>\n",
       "      <th>CACrossBorder</th>\n",
       "    </tr>\n",
       "  </thead>\n",
       "  <tbody>\n",
       "    <tr>\n",
       "      <th>0</th>\n",
       "      <td>False</td>\n",
       "      <td>False</td>\n",
       "      <td>False</td>\n",
       "      <td>False</td>\n",
       "      <td>False</td>\n",
       "      <td>False</td>\n",
       "      <td>False</td>\n",
       "      <td>False</td>\n",
       "      <td>False</td>\n",
       "      <td>False</td>\n",
       "      <td>False</td>\n",
       "      <td>False</td>\n",
       "      <td>False</td>\n",
       "      <td>False</td>\n",
       "      <td>False</td>\n",
       "      <td>False</td>\n",
       "      <td>False</td>\n",
       "      <td>False</td>\n",
       "      <td>False</td>\n",
       "      <td>False</td>\n",
       "    </tr>\n",
       "    <tr>\n",
       "      <th>1</th>\n",
       "      <td>False</td>\n",
       "      <td>False</td>\n",
       "      <td>False</td>\n",
       "      <td>False</td>\n",
       "      <td>False</td>\n",
       "      <td>False</td>\n",
       "      <td>False</td>\n",
       "      <td>False</td>\n",
       "      <td>False</td>\n",
       "      <td>False</td>\n",
       "      <td>False</td>\n",
       "      <td>False</td>\n",
       "      <td>False</td>\n",
       "      <td>False</td>\n",
       "      <td>False</td>\n",
       "      <td>False</td>\n",
       "      <td>False</td>\n",
       "      <td>False</td>\n",
       "      <td>False</td>\n",
       "      <td>False</td>\n",
       "    </tr>\n",
       "    <tr>\n",
       "      <th>2</th>\n",
       "      <td>False</td>\n",
       "      <td>False</td>\n",
       "      <td>False</td>\n",
       "      <td>False</td>\n",
       "      <td>False</td>\n",
       "      <td>False</td>\n",
       "      <td>False</td>\n",
       "      <td>False</td>\n",
       "      <td>False</td>\n",
       "      <td>False</td>\n",
       "      <td>False</td>\n",
       "      <td>False</td>\n",
       "      <td>True</td>\n",
       "      <td>False</td>\n",
       "      <td>False</td>\n",
       "      <td>True</td>\n",
       "      <td>False</td>\n",
       "      <td>False</td>\n",
       "      <td>True</td>\n",
       "      <td>False</td>\n",
       "    </tr>\n",
       "    <tr>\n",
       "      <th>3</th>\n",
       "      <td>False</td>\n",
       "      <td>False</td>\n",
       "      <td>False</td>\n",
       "      <td>False</td>\n",
       "      <td>False</td>\n",
       "      <td>False</td>\n",
       "      <td>False</td>\n",
       "      <td>False</td>\n",
       "      <td>False</td>\n",
       "      <td>False</td>\n",
       "      <td>False</td>\n",
       "      <td>False</td>\n",
       "      <td>False</td>\n",
       "      <td>False</td>\n",
       "      <td>False</td>\n",
       "      <td>True</td>\n",
       "      <td>False</td>\n",
       "      <td>False</td>\n",
       "      <td>False</td>\n",
       "      <td>False</td>\n",
       "    </tr>\n",
       "    <tr>\n",
       "      <th>4</th>\n",
       "      <td>False</td>\n",
       "      <td>False</td>\n",
       "      <td>False</td>\n",
       "      <td>False</td>\n",
       "      <td>False</td>\n",
       "      <td>False</td>\n",
       "      <td>False</td>\n",
       "      <td>False</td>\n",
       "      <td>False</td>\n",
       "      <td>False</td>\n",
       "      <td>False</td>\n",
       "      <td>False</td>\n",
       "      <td>False</td>\n",
       "      <td>False</td>\n",
       "      <td>False</td>\n",
       "      <td>False</td>\n",
       "      <td>False</td>\n",
       "      <td>False</td>\n",
       "      <td>False</td>\n",
       "      <td>False</td>\n",
       "    </tr>\n",
       "  </tbody>\n",
       "</table>\n",
       "</div>"
      ],
      "text/plain": [
       "   Concealed   Team  Private  Rolled  TankerContainer  TankerLiquid   \n",
       "0      False  False    False   False            False         False  \\\n",
       "1      False  False    False   False            False         False   \n",
       "2      False  False    False   False            False         False   \n",
       "3      False  False    False   False            False         False   \n",
       "4      False  False    False   False            False         False   \n",
       "\n",
       "   TankerFood  TankerReefer  TankerHazMat    Hot  Liquor   TWIC   \n",
       "0       False         False         False  False   False  False  \\\n",
       "1       False         False         False  False   False  False   \n",
       "2       False         False         False  False   False  False   \n",
       "3       False         False         False  False   False  False   \n",
       "4       False         False         False  False   False  False   \n",
       "\n",
       "   TMSPrivateCarrier   Govt   HRHV   Seal  IsCustomerHighPriority   \n",
       "0              False  False  False  False                   False  \\\n",
       "1              False  False  False  False                   False   \n",
       "2               True  False  False   True                   False   \n",
       "3              False  False  False   True                   False   \n",
       "4              False  False  False  False                   False   \n",
       "\n",
       "   IsCommodityStackable  MXCrossBorder  CACrossBorder  \n",
       "0                 False          False          False  \n",
       "1                 False          False          False  \n",
       "2                 False           True          False  \n",
       "3                 False          False          False  \n",
       "4                 False          False          False  "
      ]
     },
     "execution_count": 4,
     "metadata": {},
     "output_type": "execute_result"
    }
   ],
   "source": [
    "be = BinaryEncoding(df, ['TotalCostUSD'])\n",
    "bool_cols = be.get_columns()\n",
    "df[bool_cols].head()"
   ]
  },
  {
   "cell_type": "code",
   "execution_count": 5,
   "metadata": {},
   "outputs": [
    {
     "data": {
      "text/html": [
       "<div>\n",
       "<style scoped>\n",
       "    .dataframe tbody tr th:only-of-type {\n",
       "        vertical-align: middle;\n",
       "    }\n",
       "\n",
       "    .dataframe tbody tr th {\n",
       "        vertical-align: top;\n",
       "    }\n",
       "\n",
       "    .dataframe thead th {\n",
       "        text-align: right;\n",
       "    }\n",
       "</style>\n",
       "<table border=\"1\" class=\"dataframe\">\n",
       "  <thead>\n",
       "    <tr style=\"text-align: right;\">\n",
       "      <th></th>\n",
       "      <th>Concealed</th>\n",
       "      <th>Team</th>\n",
       "      <th>Private</th>\n",
       "      <th>Rolled</th>\n",
       "      <th>TankerContainer</th>\n",
       "      <th>TankerLiquid</th>\n",
       "      <th>TankerFood</th>\n",
       "      <th>TankerReefer</th>\n",
       "      <th>TankerHazMat</th>\n",
       "      <th>Hot</th>\n",
       "      <th>Liquor</th>\n",
       "      <th>TWIC</th>\n",
       "      <th>TMSPrivateCarrier</th>\n",
       "      <th>Govt</th>\n",
       "      <th>HRHV</th>\n",
       "      <th>Seal</th>\n",
       "      <th>IsCustomerHighPriority</th>\n",
       "      <th>IsCommodityStackable</th>\n",
       "      <th>MXCrossBorder</th>\n",
       "      <th>CACrossBorder</th>\n",
       "    </tr>\n",
       "  </thead>\n",
       "  <tbody>\n",
       "    <tr>\n",
       "      <th>0</th>\n",
       "      <td>0</td>\n",
       "      <td>0</td>\n",
       "      <td>0</td>\n",
       "      <td>0</td>\n",
       "      <td>0</td>\n",
       "      <td>0</td>\n",
       "      <td>0</td>\n",
       "      <td>0</td>\n",
       "      <td>0</td>\n",
       "      <td>0</td>\n",
       "      <td>0</td>\n",
       "      <td>0</td>\n",
       "      <td>0</td>\n",
       "      <td>0</td>\n",
       "      <td>0</td>\n",
       "      <td>0</td>\n",
       "      <td>0</td>\n",
       "      <td>0</td>\n",
       "      <td>0</td>\n",
       "      <td>0</td>\n",
       "    </tr>\n",
       "    <tr>\n",
       "      <th>1</th>\n",
       "      <td>0</td>\n",
       "      <td>0</td>\n",
       "      <td>0</td>\n",
       "      <td>0</td>\n",
       "      <td>0</td>\n",
       "      <td>0</td>\n",
       "      <td>0</td>\n",
       "      <td>0</td>\n",
       "      <td>0</td>\n",
       "      <td>0</td>\n",
       "      <td>0</td>\n",
       "      <td>0</td>\n",
       "      <td>0</td>\n",
       "      <td>0</td>\n",
       "      <td>0</td>\n",
       "      <td>0</td>\n",
       "      <td>0</td>\n",
       "      <td>0</td>\n",
       "      <td>0</td>\n",
       "      <td>0</td>\n",
       "    </tr>\n",
       "    <tr>\n",
       "      <th>2</th>\n",
       "      <td>0</td>\n",
       "      <td>0</td>\n",
       "      <td>0</td>\n",
       "      <td>0</td>\n",
       "      <td>0</td>\n",
       "      <td>0</td>\n",
       "      <td>0</td>\n",
       "      <td>0</td>\n",
       "      <td>0</td>\n",
       "      <td>0</td>\n",
       "      <td>0</td>\n",
       "      <td>0</td>\n",
       "      <td>1</td>\n",
       "      <td>0</td>\n",
       "      <td>0</td>\n",
       "      <td>1</td>\n",
       "      <td>0</td>\n",
       "      <td>0</td>\n",
       "      <td>1</td>\n",
       "      <td>0</td>\n",
       "    </tr>\n",
       "    <tr>\n",
       "      <th>3</th>\n",
       "      <td>0</td>\n",
       "      <td>0</td>\n",
       "      <td>0</td>\n",
       "      <td>0</td>\n",
       "      <td>0</td>\n",
       "      <td>0</td>\n",
       "      <td>0</td>\n",
       "      <td>0</td>\n",
       "      <td>0</td>\n",
       "      <td>0</td>\n",
       "      <td>0</td>\n",
       "      <td>0</td>\n",
       "      <td>0</td>\n",
       "      <td>0</td>\n",
       "      <td>0</td>\n",
       "      <td>1</td>\n",
       "      <td>0</td>\n",
       "      <td>0</td>\n",
       "      <td>0</td>\n",
       "      <td>0</td>\n",
       "    </tr>\n",
       "    <tr>\n",
       "      <th>4</th>\n",
       "      <td>0</td>\n",
       "      <td>0</td>\n",
       "      <td>0</td>\n",
       "      <td>0</td>\n",
       "      <td>0</td>\n",
       "      <td>0</td>\n",
       "      <td>0</td>\n",
       "      <td>0</td>\n",
       "      <td>0</td>\n",
       "      <td>0</td>\n",
       "      <td>0</td>\n",
       "      <td>0</td>\n",
       "      <td>0</td>\n",
       "      <td>0</td>\n",
       "      <td>0</td>\n",
       "      <td>0</td>\n",
       "      <td>0</td>\n",
       "      <td>0</td>\n",
       "      <td>0</td>\n",
       "      <td>0</td>\n",
       "    </tr>\n",
       "  </tbody>\n",
       "</table>\n",
       "</div>"
      ],
      "text/plain": [
       "   Concealed  Team  Private  Rolled  TankerContainer  TankerLiquid   \n",
       "0          0     0        0       0                0             0  \\\n",
       "1          0     0        0       0                0             0   \n",
       "2          0     0        0       0                0             0   \n",
       "3          0     0        0       0                0             0   \n",
       "4          0     0        0       0                0             0   \n",
       "\n",
       "   TankerFood  TankerReefer  TankerHazMat  Hot  Liquor  TWIC   \n",
       "0           0             0             0    0       0     0  \\\n",
       "1           0             0             0    0       0     0   \n",
       "2           0             0             0    0       0     0   \n",
       "3           0             0             0    0       0     0   \n",
       "4           0             0             0    0       0     0   \n",
       "\n",
       "   TMSPrivateCarrier  Govt  HRHV  Seal  IsCustomerHighPriority   \n",
       "0                  0     0     0     0                       0  \\\n",
       "1                  0     0     0     0                       0   \n",
       "2                  1     0     0     1                       0   \n",
       "3                  0     0     0     1                       0   \n",
       "4                  0     0     0     0                       0   \n",
       "\n",
       "   IsCommodityStackable  MXCrossBorder  CACrossBorder  \n",
       "0                     0              0              0  \n",
       "1                     0              0              0  \n",
       "2                     0              1              0  \n",
       "3                     0              0              0  \n",
       "4                     0              0              0  "
      ]
     },
     "execution_count": 5,
     "metadata": {},
     "output_type": "execute_result"
    }
   ],
   "source": [
    "df = be.encode()\n",
    "df[bool_cols].head()"
   ]
  },
  {
   "cell_type": "code",
   "execution_count": 6,
   "metadata": {},
   "outputs": [
    {
     "name": "stdout",
     "output_type": "stream",
     "text": [
      "Data types summary:\n",
      " int64      59\n",
      "float64    29\n",
      "object     11\n",
      "Name: count, dtype: int64\n"
     ]
    }
   ],
   "source": [
    "data_exp.summarize_data_type(df)"
   ]
  },
  {
   "cell_type": "code",
   "execution_count": 7,
   "metadata": {},
   "outputs": [
    {
     "data": {
      "text/html": [
       "<div>\n",
       "<style scoped>\n",
       "    .dataframe tbody tr th:only-of-type {\n",
       "        vertical-align: middle;\n",
       "    }\n",
       "\n",
       "    .dataframe tbody tr th {\n",
       "        vertical-align: top;\n",
       "    }\n",
       "\n",
       "    .dataframe thead th {\n",
       "        text-align: right;\n",
       "    }\n",
       "</style>\n",
       "<table border=\"1\" class=\"dataframe\">\n",
       "  <thead>\n",
       "    <tr style=\"text-align: right;\">\n",
       "      <th></th>\n",
       "      <th>EquipmentType</th>\n",
       "      <th>NormalizedRank</th>\n",
       "      <th>Normalized_EQ</th>\n",
       "      <th>BizUnit</th>\n",
       "      <th>BookType</th>\n",
       "      <th>BuildType</th>\n",
       "      <th>SalesStatus</th>\n",
       "      <th>CommodityCode</th>\n",
       "      <th>LoadDate-Weekday</th>\n",
       "      <th>DelDate-Weekday</th>\n",
       "      <th>CreateDate-Weekday</th>\n",
       "    </tr>\n",
       "  </thead>\n",
       "  <tbody>\n",
       "    <tr>\n",
       "      <th>0</th>\n",
       "      <td>V</td>\n",
       "      <td>Spot</td>\n",
       "      <td>V</td>\n",
       "      <td>Core</td>\n",
       "      <td>SameDay</td>\n",
       "      <td>SameDayBuild</td>\n",
       "      <td>Non-Enterprise</td>\n",
       "      <td>NaN</td>\n",
       "      <td>Friday</td>\n",
       "      <td>Monday</td>\n",
       "      <td>Friday</td>\n",
       "    </tr>\n",
       "    <tr>\n",
       "      <th>1</th>\n",
       "      <td>V</td>\n",
       "      <td>Spot</td>\n",
       "      <td>V</td>\n",
       "      <td>Core</td>\n",
       "      <td>Prebook</td>\n",
       "      <td>PreBuild</td>\n",
       "      <td>Non-Enterprise</td>\n",
       "      <td>NaN</td>\n",
       "      <td>Tuesday</td>\n",
       "      <td>Wednesday</td>\n",
       "      <td>Friday</td>\n",
       "    </tr>\n",
       "    <tr>\n",
       "      <th>2</th>\n",
       "      <td>F</td>\n",
       "      <td>Primary</td>\n",
       "      <td>F</td>\n",
       "      <td>Core</td>\n",
       "      <td>Prebook</td>\n",
       "      <td>PreBuild</td>\n",
       "      <td>Managed</td>\n",
       "      <td>NaN</td>\n",
       "      <td>Monday</td>\n",
       "      <td>Tuesday</td>\n",
       "      <td>Friday</td>\n",
       "    </tr>\n",
       "    <tr>\n",
       "      <th>3</th>\n",
       "      <td>V</td>\n",
       "      <td>Primary</td>\n",
       "      <td>V</td>\n",
       "      <td>Core</td>\n",
       "      <td>SameDay</td>\n",
       "      <td>SameDayBuild</td>\n",
       "      <td>Non-Enterprise</td>\n",
       "      <td>NaN</td>\n",
       "      <td>Friday</td>\n",
       "      <td>Friday</td>\n",
       "      <td>Friday</td>\n",
       "    </tr>\n",
       "    <tr>\n",
       "      <th>4</th>\n",
       "      <td>V</td>\n",
       "      <td>Spot</td>\n",
       "      <td>V</td>\n",
       "      <td>Core</td>\n",
       "      <td>SameDay</td>\n",
       "      <td>SameDayBuild</td>\n",
       "      <td>Non-Enterprise</td>\n",
       "      <td>NaN</td>\n",
       "      <td>Friday</td>\n",
       "      <td>Wednesday</td>\n",
       "      <td>Friday</td>\n",
       "    </tr>\n",
       "  </tbody>\n",
       "</table>\n",
       "</div>"
      ],
      "text/plain": [
       "  EquipmentType NormalizedRank Normalized_EQ BizUnit BookType     BuildType   \n",
       "0             V           Spot             V    Core  SameDay  SameDayBuild  \\\n",
       "1             V           Spot             V    Core  Prebook      PreBuild   \n",
       "2             F        Primary             F    Core  Prebook      PreBuild   \n",
       "3             V        Primary             V    Core  SameDay  SameDayBuild   \n",
       "4             V           Spot             V    Core  SameDay  SameDayBuild   \n",
       "\n",
       "      SalesStatus CommodityCode LoadDate-Weekday DelDate-Weekday   \n",
       "0  Non-Enterprise           NaN           Friday          Monday  \\\n",
       "1  Non-Enterprise           NaN          Tuesday       Wednesday   \n",
       "2         Managed           NaN           Monday         Tuesday   \n",
       "3  Non-Enterprise           NaN           Friday          Friday   \n",
       "4  Non-Enterprise           NaN           Friday       Wednesday   \n",
       "\n",
       "  CreateDate-Weekday  \n",
       "0             Friday  \n",
       "1             Friday  \n",
       "2             Friday  \n",
       "3             Friday  \n",
       "4             Friday  "
      ]
     },
     "execution_count": 7,
     "metadata": {},
     "output_type": "execute_result"
    }
   ],
   "source": [
    "te = TargetEncoding(df, ['TotalCostUSD'])\n",
    "categorical_cols = te.get_columns()\n",
    "df[categorical_cols].head()"
   ]
  },
  {
   "cell_type": "code",
   "execution_count": 8,
   "metadata": {},
   "outputs": [
    {
     "data": {
      "text/html": [
       "<div>\n",
       "<style scoped>\n",
       "    .dataframe tbody tr th:only-of-type {\n",
       "        vertical-align: middle;\n",
       "    }\n",
       "\n",
       "    .dataframe tbody tr th {\n",
       "        vertical-align: top;\n",
       "    }\n",
       "\n",
       "    .dataframe thead th {\n",
       "        text-align: right;\n",
       "    }\n",
       "</style>\n",
       "<table border=\"1\" class=\"dataframe\">\n",
       "  <thead>\n",
       "    <tr style=\"text-align: right;\">\n",
       "      <th></th>\n",
       "      <th>EquipmentType</th>\n",
       "      <th>NormalizedRank</th>\n",
       "      <th>Normalized_EQ</th>\n",
       "      <th>BizUnit</th>\n",
       "      <th>BookType</th>\n",
       "      <th>BuildType</th>\n",
       "      <th>SalesStatus</th>\n",
       "      <th>CommodityCode</th>\n",
       "      <th>LoadDate-Weekday</th>\n",
       "      <th>DelDate-Weekday</th>\n",
       "      <th>CreateDate-Weekday</th>\n",
       "    </tr>\n",
       "  </thead>\n",
       "  <tbody>\n",
       "    <tr>\n",
       "      <th>0</th>\n",
       "      <td>1167.846730</td>\n",
       "      <td>1276.082259</td>\n",
       "      <td>1285.489573</td>\n",
       "      <td>1397.622783</td>\n",
       "      <td>1362.821291</td>\n",
       "      <td>931.475097</td>\n",
       "      <td>1308.222838</td>\n",
       "      <td>1321.638651</td>\n",
       "      <td>1127.472760</td>\n",
       "      <td>1446.114308</td>\n",
       "      <td>1414.839236</td>\n",
       "    </tr>\n",
       "    <tr>\n",
       "      <th>1</th>\n",
       "      <td>1167.846730</td>\n",
       "      <td>1276.082259</td>\n",
       "      <td>1285.489573</td>\n",
       "      <td>1397.622783</td>\n",
       "      <td>1525.869119</td>\n",
       "      <td>1781.346110</td>\n",
       "      <td>1308.222838</td>\n",
       "      <td>1321.638651</td>\n",
       "      <td>1658.687189</td>\n",
       "      <td>1316.577477</td>\n",
       "      <td>1414.839236</td>\n",
       "    </tr>\n",
       "    <tr>\n",
       "      <th>2</th>\n",
       "      <td>1163.274645</td>\n",
       "      <td>1568.820526</td>\n",
       "      <td>1419.329335</td>\n",
       "      <td>1397.622783</td>\n",
       "      <td>1525.869119</td>\n",
       "      <td>1781.346110</td>\n",
       "      <td>745.107322</td>\n",
       "      <td>1321.638651</td>\n",
       "      <td>1406.654348</td>\n",
       "      <td>1268.843787</td>\n",
       "      <td>1414.839236</td>\n",
       "    </tr>\n",
       "    <tr>\n",
       "      <th>3</th>\n",
       "      <td>1167.846730</td>\n",
       "      <td>1568.820526</td>\n",
       "      <td>1285.489573</td>\n",
       "      <td>1397.622783</td>\n",
       "      <td>1362.821291</td>\n",
       "      <td>931.475097</td>\n",
       "      <td>1308.222838</td>\n",
       "      <td>1321.638651</td>\n",
       "      <td>1127.472760</td>\n",
       "      <td>1774.547673</td>\n",
       "      <td>1414.839236</td>\n",
       "    </tr>\n",
       "    <tr>\n",
       "      <th>4</th>\n",
       "      <td>1167.846730</td>\n",
       "      <td>1276.082259</td>\n",
       "      <td>1285.489573</td>\n",
       "      <td>1397.622783</td>\n",
       "      <td>1362.821291</td>\n",
       "      <td>931.475097</td>\n",
       "      <td>1308.222838</td>\n",
       "      <td>1321.638651</td>\n",
       "      <td>1127.472760</td>\n",
       "      <td>1316.577477</td>\n",
       "      <td>1414.839236</td>\n",
       "    </tr>\n",
       "  </tbody>\n",
       "</table>\n",
       "</div>"
      ],
      "text/plain": [
       "   EquipmentType  NormalizedRank  Normalized_EQ      BizUnit     BookType   \n",
       "0    1167.846730     1276.082259    1285.489573  1397.622783  1362.821291  \\\n",
       "1    1167.846730     1276.082259    1285.489573  1397.622783  1525.869119   \n",
       "2    1163.274645     1568.820526    1419.329335  1397.622783  1525.869119   \n",
       "3    1167.846730     1568.820526    1285.489573  1397.622783  1362.821291   \n",
       "4    1167.846730     1276.082259    1285.489573  1397.622783  1362.821291   \n",
       "\n",
       "     BuildType  SalesStatus  CommodityCode  LoadDate-Weekday  DelDate-Weekday   \n",
       "0   931.475097  1308.222838    1321.638651       1127.472760      1446.114308  \\\n",
       "1  1781.346110  1308.222838    1321.638651       1658.687189      1316.577477   \n",
       "2  1781.346110   745.107322    1321.638651       1406.654348      1268.843787   \n",
       "3   931.475097  1308.222838    1321.638651       1127.472760      1774.547673   \n",
       "4   931.475097  1308.222838    1321.638651       1127.472760      1316.577477   \n",
       "\n",
       "   CreateDate-Weekday  \n",
       "0         1414.839236  \n",
       "1         1414.839236  \n",
       "2         1414.839236  \n",
       "3         1414.839236  \n",
       "4         1414.839236  "
      ]
     },
     "execution_count": 8,
     "metadata": {},
     "output_type": "execute_result"
    }
   ],
   "source": [
    "df = te.encode()\n",
    "df[categorical_cols].head()"
   ]
  },
  {
   "cell_type": "code",
   "execution_count": 9,
   "metadata": {},
   "outputs": [
    {
     "name": "stdout",
     "output_type": "stream",
     "text": [
      "Data types summary:\n",
      " int64      59\n",
      "float64    40\n",
      "Name: count, dtype: int64\n"
     ]
    }
   ],
   "source": [
    "data_exp.summarize_data_type(df)"
   ]
  },
  {
   "cell_type": "markdown",
   "metadata": {},
   "source": [
    "feature_scaling()"
   ]
  },
  {
   "cell_type": "code",
   "execution_count": 10,
   "metadata": {},
   "outputs": [
    {
     "data": {
      "text/html": [
       "<div>\n",
       "<style scoped>\n",
       "    .dataframe tbody tr th:only-of-type {\n",
       "        vertical-align: middle;\n",
       "    }\n",
       "\n",
       "    .dataframe tbody tr th {\n",
       "        vertical-align: top;\n",
       "    }\n",
       "\n",
       "    .dataframe thead th {\n",
       "        text-align: right;\n",
       "    }\n",
       "</style>\n",
       "<table border=\"1\" class=\"dataframe\">\n",
       "  <thead>\n",
       "    <tr style=\"text-align: right;\">\n",
       "      <th></th>\n",
       "      <th>Mode</th>\n",
       "      <th>ProgressType</th>\n",
       "      <th>Type</th>\n",
       "      <th>StateType</th>\n",
       "      <th>LoadingPosition</th>\n",
       "      <th>Plan</th>\n",
       "      <th>ShipmentType</th>\n",
       "      <th>EquipmentType</th>\n",
       "      <th>EquipmentLength</th>\n",
       "      <th>EquipmentWidth</th>\n",
       "      <th>...</th>\n",
       "      <th>TRUCKD11</th>\n",
       "      <th>DJTA</th>\n",
       "      <th>DTB3</th>\n",
       "      <th>GASREGW</th>\n",
       "      <th>IPG2122N</th>\n",
       "      <th>IPG3361T3S</th>\n",
       "      <th>GDP</th>\n",
       "      <th>PPIACO</th>\n",
       "      <th>BUSINV</th>\n",
       "      <th>PCU48414841</th>\n",
       "    </tr>\n",
       "  </thead>\n",
       "  <tbody>\n",
       "    <tr>\n",
       "      <th>0</th>\n",
       "      <td>2</td>\n",
       "      <td>8</td>\n",
       "      <td>1</td>\n",
       "      <td>1</td>\n",
       "      <td>0</td>\n",
       "      <td>0</td>\n",
       "      <td>1</td>\n",
       "      <td>1167.846730</td>\n",
       "      <td>53</td>\n",
       "      <td>0</td>\n",
       "      <td>...</td>\n",
       "      <td>115.9</td>\n",
       "      <td>13738.04</td>\n",
       "      <td>4.2</td>\n",
       "      <td>3.239</td>\n",
       "      <td>91.7098</td>\n",
       "      <td>102.9025</td>\n",
       "      <td>26137.992</td>\n",
       "      <td>257.897</td>\n",
       "      <td>2545624</td>\n",
       "      <td>207.137</td>\n",
       "    </tr>\n",
       "    <tr>\n",
       "      <th>1</th>\n",
       "      <td>1</td>\n",
       "      <td>8</td>\n",
       "      <td>1</td>\n",
       "      <td>1</td>\n",
       "      <td>2</td>\n",
       "      <td>0</td>\n",
       "      <td>1</td>\n",
       "      <td>1167.846730</td>\n",
       "      <td>53</td>\n",
       "      <td>0</td>\n",
       "      <td>...</td>\n",
       "      <td>115.9</td>\n",
       "      <td>13738.04</td>\n",
       "      <td>4.2</td>\n",
       "      <td>3.239</td>\n",
       "      <td>91.7098</td>\n",
       "      <td>102.9025</td>\n",
       "      <td>26137.992</td>\n",
       "      <td>257.897</td>\n",
       "      <td>2545624</td>\n",
       "      <td>207.137</td>\n",
       "    </tr>\n",
       "    <tr>\n",
       "      <th>2</th>\n",
       "      <td>1</td>\n",
       "      <td>8</td>\n",
       "      <td>2</td>\n",
       "      <td>1</td>\n",
       "      <td>2</td>\n",
       "      <td>0</td>\n",
       "      <td>5</td>\n",
       "      <td>1163.274645</td>\n",
       "      <td>48</td>\n",
       "      <td>0</td>\n",
       "      <td>...</td>\n",
       "      <td>115.9</td>\n",
       "      <td>13738.04</td>\n",
       "      <td>4.2</td>\n",
       "      <td>3.239</td>\n",
       "      <td>91.7098</td>\n",
       "      <td>102.9025</td>\n",
       "      <td>26137.992</td>\n",
       "      <td>257.897</td>\n",
       "      <td>2545624</td>\n",
       "      <td>207.137</td>\n",
       "    </tr>\n",
       "    <tr>\n",
       "      <th>3</th>\n",
       "      <td>1</td>\n",
       "      <td>8</td>\n",
       "      <td>1</td>\n",
       "      <td>1</td>\n",
       "      <td>2</td>\n",
       "      <td>0</td>\n",
       "      <td>1</td>\n",
       "      <td>1167.846730</td>\n",
       "      <td>48</td>\n",
       "      <td>0</td>\n",
       "      <td>...</td>\n",
       "      <td>115.9</td>\n",
       "      <td>13738.04</td>\n",
       "      <td>4.2</td>\n",
       "      <td>3.239</td>\n",
       "      <td>91.7098</td>\n",
       "      <td>102.9025</td>\n",
       "      <td>26137.992</td>\n",
       "      <td>257.897</td>\n",
       "      <td>2545624</td>\n",
       "      <td>207.137</td>\n",
       "    </tr>\n",
       "    <tr>\n",
       "      <th>4</th>\n",
       "      <td>2</td>\n",
       "      <td>8</td>\n",
       "      <td>1</td>\n",
       "      <td>1</td>\n",
       "      <td>0</td>\n",
       "      <td>0</td>\n",
       "      <td>1</td>\n",
       "      <td>1167.846730</td>\n",
       "      <td>53</td>\n",
       "      <td>0</td>\n",
       "      <td>...</td>\n",
       "      <td>115.9</td>\n",
       "      <td>13738.04</td>\n",
       "      <td>4.2</td>\n",
       "      <td>3.239</td>\n",
       "      <td>91.7098</td>\n",
       "      <td>102.9025</td>\n",
       "      <td>26137.992</td>\n",
       "      <td>257.897</td>\n",
       "      <td>2545624</td>\n",
       "      <td>207.137</td>\n",
       "    </tr>\n",
       "    <tr>\n",
       "      <th>...</th>\n",
       "      <td>...</td>\n",
       "      <td>...</td>\n",
       "      <td>...</td>\n",
       "      <td>...</td>\n",
       "      <td>...</td>\n",
       "      <td>...</td>\n",
       "      <td>...</td>\n",
       "      <td>...</td>\n",
       "      <td>...</td>\n",
       "      <td>...</td>\n",
       "      <td>...</td>\n",
       "      <td>...</td>\n",
       "      <td>...</td>\n",
       "      <td>...</td>\n",
       "      <td>...</td>\n",
       "      <td>...</td>\n",
       "      <td>...</td>\n",
       "      <td>...</td>\n",
       "      <td>...</td>\n",
       "      <td>...</td>\n",
       "      <td>...</td>\n",
       "    </tr>\n",
       "    <tr>\n",
       "      <th>995</th>\n",
       "      <td>1</td>\n",
       "      <td>8</td>\n",
       "      <td>1</td>\n",
       "      <td>1</td>\n",
       "      <td>2</td>\n",
       "      <td>0</td>\n",
       "      <td>0</td>\n",
       "      <td>1429.052565</td>\n",
       "      <td>53</td>\n",
       "      <td>0</td>\n",
       "      <td>...</td>\n",
       "      <td>115.9</td>\n",
       "      <td>13738.04</td>\n",
       "      <td>4.2</td>\n",
       "      <td>3.239</td>\n",
       "      <td>91.7098</td>\n",
       "      <td>102.9025</td>\n",
       "      <td>26137.992</td>\n",
       "      <td>257.897</td>\n",
       "      <td>2545624</td>\n",
       "      <td>207.137</td>\n",
       "    </tr>\n",
       "    <tr>\n",
       "      <th>996</th>\n",
       "      <td>1</td>\n",
       "      <td>8</td>\n",
       "      <td>1</td>\n",
       "      <td>1</td>\n",
       "      <td>2</td>\n",
       "      <td>0</td>\n",
       "      <td>1</td>\n",
       "      <td>1167.846730</td>\n",
       "      <td>53</td>\n",
       "      <td>0</td>\n",
       "      <td>...</td>\n",
       "      <td>115.9</td>\n",
       "      <td>13738.04</td>\n",
       "      <td>4.2</td>\n",
       "      <td>3.239</td>\n",
       "      <td>91.7098</td>\n",
       "      <td>102.9025</td>\n",
       "      <td>26137.992</td>\n",
       "      <td>257.897</td>\n",
       "      <td>2545624</td>\n",
       "      <td>207.137</td>\n",
       "    </tr>\n",
       "    <tr>\n",
       "      <th>997</th>\n",
       "      <td>1</td>\n",
       "      <td>8</td>\n",
       "      <td>1</td>\n",
       "      <td>1</td>\n",
       "      <td>2</td>\n",
       "      <td>0</td>\n",
       "      <td>1</td>\n",
       "      <td>1414.839236</td>\n",
       "      <td>18</td>\n",
       "      <td>0</td>\n",
       "      <td>...</td>\n",
       "      <td>115.9</td>\n",
       "      <td>13738.04</td>\n",
       "      <td>4.2</td>\n",
       "      <td>3.239</td>\n",
       "      <td>91.7098</td>\n",
       "      <td>102.9025</td>\n",
       "      <td>26137.992</td>\n",
       "      <td>257.897</td>\n",
       "      <td>2545624</td>\n",
       "      <td>207.137</td>\n",
       "    </tr>\n",
       "    <tr>\n",
       "      <th>998</th>\n",
       "      <td>1</td>\n",
       "      <td>8</td>\n",
       "      <td>1</td>\n",
       "      <td>1</td>\n",
       "      <td>2</td>\n",
       "      <td>0</td>\n",
       "      <td>0</td>\n",
       "      <td>1167.846730</td>\n",
       "      <td>53</td>\n",
       "      <td>102</td>\n",
       "      <td>...</td>\n",
       "      <td>115.9</td>\n",
       "      <td>13738.04</td>\n",
       "      <td>4.2</td>\n",
       "      <td>3.239</td>\n",
       "      <td>91.7098</td>\n",
       "      <td>102.9025</td>\n",
       "      <td>26137.992</td>\n",
       "      <td>257.897</td>\n",
       "      <td>2545624</td>\n",
       "      <td>207.137</td>\n",
       "    </tr>\n",
       "    <tr>\n",
       "      <th>999</th>\n",
       "      <td>1</td>\n",
       "      <td>8</td>\n",
       "      <td>1</td>\n",
       "      <td>1</td>\n",
       "      <td>2</td>\n",
       "      <td>0</td>\n",
       "      <td>0</td>\n",
       "      <td>1429.052565</td>\n",
       "      <td>53</td>\n",
       "      <td>0</td>\n",
       "      <td>...</td>\n",
       "      <td>115.9</td>\n",
       "      <td>13738.04</td>\n",
       "      <td>4.2</td>\n",
       "      <td>3.239</td>\n",
       "      <td>91.7098</td>\n",
       "      <td>102.9025</td>\n",
       "      <td>26137.992</td>\n",
       "      <td>257.897</td>\n",
       "      <td>2545624</td>\n",
       "      <td>207.137</td>\n",
       "    </tr>\n",
       "  </tbody>\n",
       "</table>\n",
       "<p>1000 rows × 98 columns</p>\n",
       "</div>"
      ],
      "text/plain": [
       "     Mode  ProgressType  Type  StateType  LoadingPosition  Plan  ShipmentType   \n",
       "0       2             8     1          1                0     0             1  \\\n",
       "1       1             8     1          1                2     0             1   \n",
       "2       1             8     2          1                2     0             5   \n",
       "3       1             8     1          1                2     0             1   \n",
       "4       2             8     1          1                0     0             1   \n",
       "..    ...           ...   ...        ...              ...   ...           ...   \n",
       "995     1             8     1          1                2     0             0   \n",
       "996     1             8     1          1                2     0             1   \n",
       "997     1             8     1          1                2     0             1   \n",
       "998     1             8     1          1                2     0             0   \n",
       "999     1             8     1          1                2     0             0   \n",
       "\n",
       "     EquipmentType  EquipmentLength  EquipmentWidth  ...  TRUCKD11      DJTA   \n",
       "0      1167.846730               53               0  ...     115.9  13738.04  \\\n",
       "1      1167.846730               53               0  ...     115.9  13738.04   \n",
       "2      1163.274645               48               0  ...     115.9  13738.04   \n",
       "3      1167.846730               48               0  ...     115.9  13738.04   \n",
       "4      1167.846730               53               0  ...     115.9  13738.04   \n",
       "..             ...              ...             ...  ...       ...       ...   \n",
       "995    1429.052565               53               0  ...     115.9  13738.04   \n",
       "996    1167.846730               53               0  ...     115.9  13738.04   \n",
       "997    1414.839236               18               0  ...     115.9  13738.04   \n",
       "998    1167.846730               53             102  ...     115.9  13738.04   \n",
       "999    1429.052565               53               0  ...     115.9  13738.04   \n",
       "\n",
       "     DTB3  GASREGW  IPG2122N  IPG3361T3S        GDP   PPIACO   BUSINV   \n",
       "0     4.2    3.239   91.7098    102.9025  26137.992  257.897  2545624  \\\n",
       "1     4.2    3.239   91.7098    102.9025  26137.992  257.897  2545624   \n",
       "2     4.2    3.239   91.7098    102.9025  26137.992  257.897  2545624   \n",
       "3     4.2    3.239   91.7098    102.9025  26137.992  257.897  2545624   \n",
       "4     4.2    3.239   91.7098    102.9025  26137.992  257.897  2545624   \n",
       "..    ...      ...       ...         ...        ...      ...      ...   \n",
       "995   4.2    3.239   91.7098    102.9025  26137.992  257.897  2545624   \n",
       "996   4.2    3.239   91.7098    102.9025  26137.992  257.897  2545624   \n",
       "997   4.2    3.239   91.7098    102.9025  26137.992  257.897  2545624   \n",
       "998   4.2    3.239   91.7098    102.9025  26137.992  257.897  2545624   \n",
       "999   4.2    3.239   91.7098    102.9025  26137.992  257.897  2545624   \n",
       "\n",
       "     PCU48414841  \n",
       "0        207.137  \n",
       "1        207.137  \n",
       "2        207.137  \n",
       "3        207.137  \n",
       "4        207.137  \n",
       "..           ...  \n",
       "995      207.137  \n",
       "996      207.137  \n",
       "997      207.137  \n",
       "998      207.137  \n",
       "999      207.137  \n",
       "\n",
       "[1000 rows x 98 columns]"
      ]
     },
     "execution_count": 10,
     "metadata": {},
     "output_type": "execute_result"
    }
   ],
   "source": [
    "minmax_scaling = FeatureScaling(df, ['TotalCostUSD'])\n",
    "numerical_cols = minmax_scaling.get_columns()\n",
    "df[numerical_cols]"
   ]
  },
  {
   "cell_type": "code",
   "execution_count": 11,
   "metadata": {},
   "outputs": [
    {
     "data": {
      "text/html": [
       "<div>\n",
       "<style scoped>\n",
       "    .dataframe tbody tr th:only-of-type {\n",
       "        vertical-align: middle;\n",
       "    }\n",
       "\n",
       "    .dataframe tbody tr th {\n",
       "        vertical-align: top;\n",
       "    }\n",
       "\n",
       "    .dataframe thead th {\n",
       "        text-align: right;\n",
       "    }\n",
       "</style>\n",
       "<table border=\"1\" class=\"dataframe\">\n",
       "  <thead>\n",
       "    <tr style=\"text-align: right;\">\n",
       "      <th></th>\n",
       "      <th>Mode</th>\n",
       "      <th>ProgressType</th>\n",
       "      <th>Type</th>\n",
       "      <th>StateType</th>\n",
       "      <th>LoadingPosition</th>\n",
       "      <th>Plan</th>\n",
       "      <th>ShipmentType</th>\n",
       "      <th>EquipmentType</th>\n",
       "      <th>EquipmentLength</th>\n",
       "      <th>EquipmentWidth</th>\n",
       "      <th>...</th>\n",
       "      <th>TRUCKD11</th>\n",
       "      <th>DJTA</th>\n",
       "      <th>DTB3</th>\n",
       "      <th>GASREGW</th>\n",
       "      <th>IPG2122N</th>\n",
       "      <th>IPG3361T3S</th>\n",
       "      <th>GDP</th>\n",
       "      <th>PPIACO</th>\n",
       "      <th>BUSINV</th>\n",
       "      <th>PCU48414841</th>\n",
       "    </tr>\n",
       "  </thead>\n",
       "  <tbody>\n",
       "    <tr>\n",
       "      <th>0</th>\n",
       "      <td>0.5</td>\n",
       "      <td>0.428571</td>\n",
       "      <td>0.0</td>\n",
       "      <td>0.0</td>\n",
       "      <td>0.0</td>\n",
       "      <td>0.0</td>\n",
       "      <td>0.166667</td>\n",
       "      <td>0.003914</td>\n",
       "      <td>1.000000</td>\n",
       "      <td>0.0</td>\n",
       "      <td>...</td>\n",
       "      <td>0.0</td>\n",
       "      <td>0.0</td>\n",
       "      <td>0.0</td>\n",
       "      <td>0.0</td>\n",
       "      <td>0.0</td>\n",
       "      <td>0.0</td>\n",
       "      <td>0.0</td>\n",
       "      <td>0.0</td>\n",
       "      <td>0.0</td>\n",
       "      <td>0.0</td>\n",
       "    </tr>\n",
       "    <tr>\n",
       "      <th>1</th>\n",
       "      <td>0.0</td>\n",
       "      <td>0.428571</td>\n",
       "      <td>0.0</td>\n",
       "      <td>0.0</td>\n",
       "      <td>1.0</td>\n",
       "      <td>0.0</td>\n",
       "      <td>0.166667</td>\n",
       "      <td>0.003914</td>\n",
       "      <td>1.000000</td>\n",
       "      <td>0.0</td>\n",
       "      <td>...</td>\n",
       "      <td>0.0</td>\n",
       "      <td>0.0</td>\n",
       "      <td>0.0</td>\n",
       "      <td>0.0</td>\n",
       "      <td>0.0</td>\n",
       "      <td>0.0</td>\n",
       "      <td>0.0</td>\n",
       "      <td>0.0</td>\n",
       "      <td>0.0</td>\n",
       "      <td>0.0</td>\n",
       "    </tr>\n",
       "    <tr>\n",
       "      <th>2</th>\n",
       "      <td>0.0</td>\n",
       "      <td>0.428571</td>\n",
       "      <td>1.0</td>\n",
       "      <td>0.0</td>\n",
       "      <td>1.0</td>\n",
       "      <td>0.0</td>\n",
       "      <td>0.833333</td>\n",
       "      <td>0.000000</td>\n",
       "      <td>0.905660</td>\n",
       "      <td>0.0</td>\n",
       "      <td>...</td>\n",
       "      <td>0.0</td>\n",
       "      <td>0.0</td>\n",
       "      <td>0.0</td>\n",
       "      <td>0.0</td>\n",
       "      <td>0.0</td>\n",
       "      <td>0.0</td>\n",
       "      <td>0.0</td>\n",
       "      <td>0.0</td>\n",
       "      <td>0.0</td>\n",
       "      <td>0.0</td>\n",
       "    </tr>\n",
       "    <tr>\n",
       "      <th>3</th>\n",
       "      <td>0.0</td>\n",
       "      <td>0.428571</td>\n",
       "      <td>0.0</td>\n",
       "      <td>0.0</td>\n",
       "      <td>1.0</td>\n",
       "      <td>0.0</td>\n",
       "      <td>0.166667</td>\n",
       "      <td>0.003914</td>\n",
       "      <td>0.905660</td>\n",
       "      <td>0.0</td>\n",
       "      <td>...</td>\n",
       "      <td>0.0</td>\n",
       "      <td>0.0</td>\n",
       "      <td>0.0</td>\n",
       "      <td>0.0</td>\n",
       "      <td>0.0</td>\n",
       "      <td>0.0</td>\n",
       "      <td>0.0</td>\n",
       "      <td>0.0</td>\n",
       "      <td>0.0</td>\n",
       "      <td>0.0</td>\n",
       "    </tr>\n",
       "    <tr>\n",
       "      <th>4</th>\n",
       "      <td>0.5</td>\n",
       "      <td>0.428571</td>\n",
       "      <td>0.0</td>\n",
       "      <td>0.0</td>\n",
       "      <td>0.0</td>\n",
       "      <td>0.0</td>\n",
       "      <td>0.166667</td>\n",
       "      <td>0.003914</td>\n",
       "      <td>1.000000</td>\n",
       "      <td>0.0</td>\n",
       "      <td>...</td>\n",
       "      <td>0.0</td>\n",
       "      <td>0.0</td>\n",
       "      <td>0.0</td>\n",
       "      <td>0.0</td>\n",
       "      <td>0.0</td>\n",
       "      <td>0.0</td>\n",
       "      <td>0.0</td>\n",
       "      <td>0.0</td>\n",
       "      <td>0.0</td>\n",
       "      <td>0.0</td>\n",
       "    </tr>\n",
       "    <tr>\n",
       "      <th>...</th>\n",
       "      <td>...</td>\n",
       "      <td>...</td>\n",
       "      <td>...</td>\n",
       "      <td>...</td>\n",
       "      <td>...</td>\n",
       "      <td>...</td>\n",
       "      <td>...</td>\n",
       "      <td>...</td>\n",
       "      <td>...</td>\n",
       "      <td>...</td>\n",
       "      <td>...</td>\n",
       "      <td>...</td>\n",
       "      <td>...</td>\n",
       "      <td>...</td>\n",
       "      <td>...</td>\n",
       "      <td>...</td>\n",
       "      <td>...</td>\n",
       "      <td>...</td>\n",
       "      <td>...</td>\n",
       "      <td>...</td>\n",
       "      <td>...</td>\n",
       "    </tr>\n",
       "    <tr>\n",
       "      <th>995</th>\n",
       "      <td>0.0</td>\n",
       "      <td>0.428571</td>\n",
       "      <td>0.0</td>\n",
       "      <td>0.0</td>\n",
       "      <td>1.0</td>\n",
       "      <td>0.0</td>\n",
       "      <td>0.000000</td>\n",
       "      <td>0.227545</td>\n",
       "      <td>1.000000</td>\n",
       "      <td>0.0</td>\n",
       "      <td>...</td>\n",
       "      <td>0.0</td>\n",
       "      <td>0.0</td>\n",
       "      <td>0.0</td>\n",
       "      <td>0.0</td>\n",
       "      <td>0.0</td>\n",
       "      <td>0.0</td>\n",
       "      <td>0.0</td>\n",
       "      <td>0.0</td>\n",
       "      <td>0.0</td>\n",
       "      <td>0.0</td>\n",
       "    </tr>\n",
       "    <tr>\n",
       "      <th>996</th>\n",
       "      <td>0.0</td>\n",
       "      <td>0.428571</td>\n",
       "      <td>0.0</td>\n",
       "      <td>0.0</td>\n",
       "      <td>1.0</td>\n",
       "      <td>0.0</td>\n",
       "      <td>0.166667</td>\n",
       "      <td>0.003914</td>\n",
       "      <td>1.000000</td>\n",
       "      <td>0.0</td>\n",
       "      <td>...</td>\n",
       "      <td>0.0</td>\n",
       "      <td>0.0</td>\n",
       "      <td>0.0</td>\n",
       "      <td>0.0</td>\n",
       "      <td>0.0</td>\n",
       "      <td>0.0</td>\n",
       "      <td>0.0</td>\n",
       "      <td>0.0</td>\n",
       "      <td>0.0</td>\n",
       "      <td>0.0</td>\n",
       "    </tr>\n",
       "    <tr>\n",
       "      <th>997</th>\n",
       "      <td>0.0</td>\n",
       "      <td>0.428571</td>\n",
       "      <td>0.0</td>\n",
       "      <td>0.0</td>\n",
       "      <td>1.0</td>\n",
       "      <td>0.0</td>\n",
       "      <td>0.166667</td>\n",
       "      <td>0.215377</td>\n",
       "      <td>0.339623</td>\n",
       "      <td>0.0</td>\n",
       "      <td>...</td>\n",
       "      <td>0.0</td>\n",
       "      <td>0.0</td>\n",
       "      <td>0.0</td>\n",
       "      <td>0.0</td>\n",
       "      <td>0.0</td>\n",
       "      <td>0.0</td>\n",
       "      <td>0.0</td>\n",
       "      <td>0.0</td>\n",
       "      <td>0.0</td>\n",
       "      <td>0.0</td>\n",
       "    </tr>\n",
       "    <tr>\n",
       "      <th>998</th>\n",
       "      <td>0.0</td>\n",
       "      <td>0.428571</td>\n",
       "      <td>0.0</td>\n",
       "      <td>0.0</td>\n",
       "      <td>1.0</td>\n",
       "      <td>0.0</td>\n",
       "      <td>0.000000</td>\n",
       "      <td>0.003914</td>\n",
       "      <td>1.000000</td>\n",
       "      <td>1.0</td>\n",
       "      <td>...</td>\n",
       "      <td>0.0</td>\n",
       "      <td>0.0</td>\n",
       "      <td>0.0</td>\n",
       "      <td>0.0</td>\n",
       "      <td>0.0</td>\n",
       "      <td>0.0</td>\n",
       "      <td>0.0</td>\n",
       "      <td>0.0</td>\n",
       "      <td>0.0</td>\n",
       "      <td>0.0</td>\n",
       "    </tr>\n",
       "    <tr>\n",
       "      <th>999</th>\n",
       "      <td>0.0</td>\n",
       "      <td>0.428571</td>\n",
       "      <td>0.0</td>\n",
       "      <td>0.0</td>\n",
       "      <td>1.0</td>\n",
       "      <td>0.0</td>\n",
       "      <td>0.000000</td>\n",
       "      <td>0.227545</td>\n",
       "      <td>1.000000</td>\n",
       "      <td>0.0</td>\n",
       "      <td>...</td>\n",
       "      <td>0.0</td>\n",
       "      <td>0.0</td>\n",
       "      <td>0.0</td>\n",
       "      <td>0.0</td>\n",
       "      <td>0.0</td>\n",
       "      <td>0.0</td>\n",
       "      <td>0.0</td>\n",
       "      <td>0.0</td>\n",
       "      <td>0.0</td>\n",
       "      <td>0.0</td>\n",
       "    </tr>\n",
       "  </tbody>\n",
       "</table>\n",
       "<p>1000 rows × 98 columns</p>\n",
       "</div>"
      ],
      "text/plain": [
       "     Mode  ProgressType  Type  StateType  LoadingPosition  Plan  ShipmentType   \n",
       "0     0.5      0.428571   0.0        0.0              0.0   0.0      0.166667  \\\n",
       "1     0.0      0.428571   0.0        0.0              1.0   0.0      0.166667   \n",
       "2     0.0      0.428571   1.0        0.0              1.0   0.0      0.833333   \n",
       "3     0.0      0.428571   0.0        0.0              1.0   0.0      0.166667   \n",
       "4     0.5      0.428571   0.0        0.0              0.0   0.0      0.166667   \n",
       "..    ...           ...   ...        ...              ...   ...           ...   \n",
       "995   0.0      0.428571   0.0        0.0              1.0   0.0      0.000000   \n",
       "996   0.0      0.428571   0.0        0.0              1.0   0.0      0.166667   \n",
       "997   0.0      0.428571   0.0        0.0              1.0   0.0      0.166667   \n",
       "998   0.0      0.428571   0.0        0.0              1.0   0.0      0.000000   \n",
       "999   0.0      0.428571   0.0        0.0              1.0   0.0      0.000000   \n",
       "\n",
       "     EquipmentType  EquipmentLength  EquipmentWidth  ...  TRUCKD11  DJTA   \n",
       "0         0.003914         1.000000             0.0  ...       0.0   0.0  \\\n",
       "1         0.003914         1.000000             0.0  ...       0.0   0.0   \n",
       "2         0.000000         0.905660             0.0  ...       0.0   0.0   \n",
       "3         0.003914         0.905660             0.0  ...       0.0   0.0   \n",
       "4         0.003914         1.000000             0.0  ...       0.0   0.0   \n",
       "..             ...              ...             ...  ...       ...   ...   \n",
       "995       0.227545         1.000000             0.0  ...       0.0   0.0   \n",
       "996       0.003914         1.000000             0.0  ...       0.0   0.0   \n",
       "997       0.215377         0.339623             0.0  ...       0.0   0.0   \n",
       "998       0.003914         1.000000             1.0  ...       0.0   0.0   \n",
       "999       0.227545         1.000000             0.0  ...       0.0   0.0   \n",
       "\n",
       "     DTB3  GASREGW  IPG2122N  IPG3361T3S  GDP  PPIACO  BUSINV  PCU48414841  \n",
       "0     0.0      0.0       0.0         0.0  0.0     0.0     0.0          0.0  \n",
       "1     0.0      0.0       0.0         0.0  0.0     0.0     0.0          0.0  \n",
       "2     0.0      0.0       0.0         0.0  0.0     0.0     0.0          0.0  \n",
       "3     0.0      0.0       0.0         0.0  0.0     0.0     0.0          0.0  \n",
       "4     0.0      0.0       0.0         0.0  0.0     0.0     0.0          0.0  \n",
       "..    ...      ...       ...         ...  ...     ...     ...          ...  \n",
       "995   0.0      0.0       0.0         0.0  0.0     0.0     0.0          0.0  \n",
       "996   0.0      0.0       0.0         0.0  0.0     0.0     0.0          0.0  \n",
       "997   0.0      0.0       0.0         0.0  0.0     0.0     0.0          0.0  \n",
       "998   0.0      0.0       0.0         0.0  0.0     0.0     0.0          0.0  \n",
       "999   0.0      0.0       0.0         0.0  0.0     0.0     0.0          0.0  \n",
       "\n",
       "[1000 rows x 98 columns]"
      ]
     },
     "execution_count": 11,
     "metadata": {},
     "output_type": "execute_result"
    }
   ],
   "source": [
    "df = minmax_scaling.scale(method=\"minmax\")\n",
    "df[numerical_cols]"
   ]
  },
  {
   "cell_type": "code",
   "execution_count": 12,
   "metadata": {},
   "outputs": [
    {
     "name": "stdout",
     "output_type": "stream",
     "text": [
      "Data types summary:\n",
      " float64    99\n",
      "Name: count, dtype: int64\n"
     ]
    }
   ],
   "source": [
    "data_exp.summarize_data_type(df)"
   ]
  },
  {
   "cell_type": "markdown",
   "metadata": {},
   "source": [
    "encoding & scaling"
   ]
  },
  {
   "cell_type": "code",
   "execution_count": 13,
   "metadata": {},
   "outputs": [],
   "source": [
    "df = data_exp.load_data('./data/coyote_0731_1000.xlsx', parse_dates=False, index_col=False)"
   ]
  },
  {
   "cell_type": "code",
   "execution_count": 14,
   "metadata": {},
   "outputs": [],
   "source": [
    "data_preprocessing = DataPreprocessing(df, ['TotalCostUSD'])"
   ]
  },
  {
   "cell_type": "code",
   "execution_count": 15,
   "metadata": {},
   "outputs": [
    {
     "data": {
      "text/html": [
       "<div>\n",
       "<style scoped>\n",
       "    .dataframe tbody tr th:only-of-type {\n",
       "        vertical-align: middle;\n",
       "    }\n",
       "\n",
       "    .dataframe tbody tr th {\n",
       "        vertical-align: top;\n",
       "    }\n",
       "\n",
       "    .dataframe thead th {\n",
       "        text-align: right;\n",
       "    }\n",
       "</style>\n",
       "<table border=\"1\" class=\"dataframe\">\n",
       "  <thead>\n",
       "    <tr style=\"text-align: right;\">\n",
       "      <th></th>\n",
       "      <th>TotalCostUSD</th>\n",
       "      <th>Mode</th>\n",
       "      <th>ProgressType</th>\n",
       "      <th>Type</th>\n",
       "      <th>StateType</th>\n",
       "      <th>LoadingPosition</th>\n",
       "      <th>Plan</th>\n",
       "      <th>ShipmentType</th>\n",
       "      <th>EquipmentType</th>\n",
       "      <th>EquipmentLength</th>\n",
       "      <th>...</th>\n",
       "      <th>TRUCKD11</th>\n",
       "      <th>DJTA</th>\n",
       "      <th>DTB3</th>\n",
       "      <th>GASREGW</th>\n",
       "      <th>IPG2122N</th>\n",
       "      <th>IPG3361T3S</th>\n",
       "      <th>GDP</th>\n",
       "      <th>PPIACO</th>\n",
       "      <th>BUSINV</th>\n",
       "      <th>PCU48414841</th>\n",
       "    </tr>\n",
       "  </thead>\n",
       "  <tbody>\n",
       "    <tr>\n",
       "      <th>0</th>\n",
       "      <td>423.82</td>\n",
       "      <td>2</td>\n",
       "      <td>8</td>\n",
       "      <td>1</td>\n",
       "      <td>1</td>\n",
       "      <td>0</td>\n",
       "      <td>0</td>\n",
       "      <td>1</td>\n",
       "      <td>V</td>\n",
       "      <td>53</td>\n",
       "      <td>...</td>\n",
       "      <td>115.9</td>\n",
       "      <td>13738.04</td>\n",
       "      <td>4.2</td>\n",
       "      <td>3.239</td>\n",
       "      <td>91.7098</td>\n",
       "      <td>102.9025</td>\n",
       "      <td>26137.992</td>\n",
       "      <td>257.897</td>\n",
       "      <td>2545624</td>\n",
       "      <td>207.137</td>\n",
       "    </tr>\n",
       "    <tr>\n",
       "      <th>1</th>\n",
       "      <td>1300.00</td>\n",
       "      <td>1</td>\n",
       "      <td>8</td>\n",
       "      <td>1</td>\n",
       "      <td>1</td>\n",
       "      <td>2</td>\n",
       "      <td>0</td>\n",
       "      <td>1</td>\n",
       "      <td>V</td>\n",
       "      <td>53</td>\n",
       "      <td>...</td>\n",
       "      <td>115.9</td>\n",
       "      <td>13738.04</td>\n",
       "      <td>4.2</td>\n",
       "      <td>3.239</td>\n",
       "      <td>91.7098</td>\n",
       "      <td>102.9025</td>\n",
       "      <td>26137.992</td>\n",
       "      <td>257.897</td>\n",
       "      <td>2545624</td>\n",
       "      <td>207.137</td>\n",
       "    </tr>\n",
       "    <tr>\n",
       "      <th>2</th>\n",
       "      <td>300.00</td>\n",
       "      <td>1</td>\n",
       "      <td>8</td>\n",
       "      <td>2</td>\n",
       "      <td>1</td>\n",
       "      <td>2</td>\n",
       "      <td>0</td>\n",
       "      <td>5</td>\n",
       "      <td>F</td>\n",
       "      <td>48</td>\n",
       "      <td>...</td>\n",
       "      <td>115.9</td>\n",
       "      <td>13738.04</td>\n",
       "      <td>4.2</td>\n",
       "      <td>3.239</td>\n",
       "      <td>91.7098</td>\n",
       "      <td>102.9025</td>\n",
       "      <td>26137.992</td>\n",
       "      <td>257.897</td>\n",
       "      <td>2545624</td>\n",
       "      <td>207.137</td>\n",
       "    </tr>\n",
       "    <tr>\n",
       "      <th>3</th>\n",
       "      <td>873.00</td>\n",
       "      <td>1</td>\n",
       "      <td>8</td>\n",
       "      <td>1</td>\n",
       "      <td>1</td>\n",
       "      <td>2</td>\n",
       "      <td>0</td>\n",
       "      <td>1</td>\n",
       "      <td>V</td>\n",
       "      <td>48</td>\n",
       "      <td>...</td>\n",
       "      <td>115.9</td>\n",
       "      <td>13738.04</td>\n",
       "      <td>4.2</td>\n",
       "      <td>3.239</td>\n",
       "      <td>91.7098</td>\n",
       "      <td>102.9025</td>\n",
       "      <td>26137.992</td>\n",
       "      <td>257.897</td>\n",
       "      <td>2545624</td>\n",
       "      <td>207.137</td>\n",
       "    </tr>\n",
       "    <tr>\n",
       "      <th>4</th>\n",
       "      <td>267.48</td>\n",
       "      <td>2</td>\n",
       "      <td>8</td>\n",
       "      <td>1</td>\n",
       "      <td>1</td>\n",
       "      <td>0</td>\n",
       "      <td>0</td>\n",
       "      <td>1</td>\n",
       "      <td>V</td>\n",
       "      <td>53</td>\n",
       "      <td>...</td>\n",
       "      <td>115.9</td>\n",
       "      <td>13738.04</td>\n",
       "      <td>4.2</td>\n",
       "      <td>3.239</td>\n",
       "      <td>91.7098</td>\n",
       "      <td>102.9025</td>\n",
       "      <td>26137.992</td>\n",
       "      <td>257.897</td>\n",
       "      <td>2545624</td>\n",
       "      <td>207.137</td>\n",
       "    </tr>\n",
       "  </tbody>\n",
       "</table>\n",
       "<p>5 rows × 99 columns</p>\n",
       "</div>"
      ],
      "text/plain": [
       "   TotalCostUSD  Mode  ProgressType  Type  StateType  LoadingPosition  Plan   \n",
       "0        423.82     2             8     1          1                0     0  \\\n",
       "1       1300.00     1             8     1          1                2     0   \n",
       "2        300.00     1             8     2          1                2     0   \n",
       "3        873.00     1             8     1          1                2     0   \n",
       "4        267.48     2             8     1          1                0     0   \n",
       "\n",
       "   ShipmentType EquipmentType  EquipmentLength  ...  TRUCKD11      DJTA  DTB3   \n",
       "0             1             V               53  ...     115.9  13738.04   4.2  \\\n",
       "1             1             V               53  ...     115.9  13738.04   4.2   \n",
       "2             5             F               48  ...     115.9  13738.04   4.2   \n",
       "3             1             V               48  ...     115.9  13738.04   4.2   \n",
       "4             1             V               53  ...     115.9  13738.04   4.2   \n",
       "\n",
       "   GASREGW  IPG2122N  IPG3361T3S        GDP   PPIACO   BUSINV  PCU48414841  \n",
       "0    3.239   91.7098    102.9025  26137.992  257.897  2545624      207.137  \n",
       "1    3.239   91.7098    102.9025  26137.992  257.897  2545624      207.137  \n",
       "2    3.239   91.7098    102.9025  26137.992  257.897  2545624      207.137  \n",
       "3    3.239   91.7098    102.9025  26137.992  257.897  2545624      207.137  \n",
       "4    3.239   91.7098    102.9025  26137.992  257.897  2545624      207.137  \n",
       "\n",
       "[5 rows x 99 columns]"
      ]
     },
     "execution_count": 15,
     "metadata": {},
     "output_type": "execute_result"
    }
   ],
   "source": [
    "df.head()"
   ]
  },
  {
   "cell_type": "code",
   "execution_count": 16,
   "metadata": {},
   "outputs": [
    {
     "data": {
      "text/html": [
       "<div>\n",
       "<style scoped>\n",
       "    .dataframe tbody tr th:only-of-type {\n",
       "        vertical-align: middle;\n",
       "    }\n",
       "\n",
       "    .dataframe tbody tr th {\n",
       "        vertical-align: top;\n",
       "    }\n",
       "\n",
       "    .dataframe thead th {\n",
       "        text-align: right;\n",
       "    }\n",
       "</style>\n",
       "<table border=\"1\" class=\"dataframe\">\n",
       "  <thead>\n",
       "    <tr style=\"text-align: right;\">\n",
       "      <th></th>\n",
       "      <th>Mode</th>\n",
       "      <th>ProgressType</th>\n",
       "      <th>Type</th>\n",
       "      <th>StateType</th>\n",
       "      <th>LoadingPosition</th>\n",
       "      <th>Plan</th>\n",
       "      <th>ShipmentType</th>\n",
       "      <th>EquipmentType</th>\n",
       "      <th>EquipmentLength</th>\n",
       "      <th>EquipmentWidth</th>\n",
       "      <th>...</th>\n",
       "      <th>DJTA</th>\n",
       "      <th>DTB3</th>\n",
       "      <th>GASREGW</th>\n",
       "      <th>IPG2122N</th>\n",
       "      <th>IPG3361T3S</th>\n",
       "      <th>GDP</th>\n",
       "      <th>PPIACO</th>\n",
       "      <th>BUSINV</th>\n",
       "      <th>PCU48414841</th>\n",
       "      <th>TotalCostUSD</th>\n",
       "    </tr>\n",
       "  </thead>\n",
       "  <tbody>\n",
       "    <tr>\n",
       "      <th>0</th>\n",
       "      <td>0.5</td>\n",
       "      <td>0.428571</td>\n",
       "      <td>0.0</td>\n",
       "      <td>0.0</td>\n",
       "      <td>0.0</td>\n",
       "      <td>0.0</td>\n",
       "      <td>0.166667</td>\n",
       "      <td>0.003914</td>\n",
       "      <td>1.00000</td>\n",
       "      <td>0.0</td>\n",
       "      <td>...</td>\n",
       "      <td>0.0</td>\n",
       "      <td>0.0</td>\n",
       "      <td>0.0</td>\n",
       "      <td>0.0</td>\n",
       "      <td>0.0</td>\n",
       "      <td>0.0</td>\n",
       "      <td>0.0</td>\n",
       "      <td>0.0</td>\n",
       "      <td>0.0</td>\n",
       "      <td>423.82</td>\n",
       "    </tr>\n",
       "    <tr>\n",
       "      <th>1</th>\n",
       "      <td>0.0</td>\n",
       "      <td>0.428571</td>\n",
       "      <td>0.0</td>\n",
       "      <td>0.0</td>\n",
       "      <td>1.0</td>\n",
       "      <td>0.0</td>\n",
       "      <td>0.166667</td>\n",
       "      <td>0.003914</td>\n",
       "      <td>1.00000</td>\n",
       "      <td>0.0</td>\n",
       "      <td>...</td>\n",
       "      <td>0.0</td>\n",
       "      <td>0.0</td>\n",
       "      <td>0.0</td>\n",
       "      <td>0.0</td>\n",
       "      <td>0.0</td>\n",
       "      <td>0.0</td>\n",
       "      <td>0.0</td>\n",
       "      <td>0.0</td>\n",
       "      <td>0.0</td>\n",
       "      <td>1300.00</td>\n",
       "    </tr>\n",
       "    <tr>\n",
       "      <th>2</th>\n",
       "      <td>0.0</td>\n",
       "      <td>0.428571</td>\n",
       "      <td>1.0</td>\n",
       "      <td>0.0</td>\n",
       "      <td>1.0</td>\n",
       "      <td>0.0</td>\n",
       "      <td>0.833333</td>\n",
       "      <td>0.000000</td>\n",
       "      <td>0.90566</td>\n",
       "      <td>0.0</td>\n",
       "      <td>...</td>\n",
       "      <td>0.0</td>\n",
       "      <td>0.0</td>\n",
       "      <td>0.0</td>\n",
       "      <td>0.0</td>\n",
       "      <td>0.0</td>\n",
       "      <td>0.0</td>\n",
       "      <td>0.0</td>\n",
       "      <td>0.0</td>\n",
       "      <td>0.0</td>\n",
       "      <td>300.00</td>\n",
       "    </tr>\n",
       "    <tr>\n",
       "      <th>3</th>\n",
       "      <td>0.0</td>\n",
       "      <td>0.428571</td>\n",
       "      <td>0.0</td>\n",
       "      <td>0.0</td>\n",
       "      <td>1.0</td>\n",
       "      <td>0.0</td>\n",
       "      <td>0.166667</td>\n",
       "      <td>0.003914</td>\n",
       "      <td>0.90566</td>\n",
       "      <td>0.0</td>\n",
       "      <td>...</td>\n",
       "      <td>0.0</td>\n",
       "      <td>0.0</td>\n",
       "      <td>0.0</td>\n",
       "      <td>0.0</td>\n",
       "      <td>0.0</td>\n",
       "      <td>0.0</td>\n",
       "      <td>0.0</td>\n",
       "      <td>0.0</td>\n",
       "      <td>0.0</td>\n",
       "      <td>873.00</td>\n",
       "    </tr>\n",
       "    <tr>\n",
       "      <th>4</th>\n",
       "      <td>0.5</td>\n",
       "      <td>0.428571</td>\n",
       "      <td>0.0</td>\n",
       "      <td>0.0</td>\n",
       "      <td>0.0</td>\n",
       "      <td>0.0</td>\n",
       "      <td>0.166667</td>\n",
       "      <td>0.003914</td>\n",
       "      <td>1.00000</td>\n",
       "      <td>0.0</td>\n",
       "      <td>...</td>\n",
       "      <td>0.0</td>\n",
       "      <td>0.0</td>\n",
       "      <td>0.0</td>\n",
       "      <td>0.0</td>\n",
       "      <td>0.0</td>\n",
       "      <td>0.0</td>\n",
       "      <td>0.0</td>\n",
       "      <td>0.0</td>\n",
       "      <td>0.0</td>\n",
       "      <td>267.48</td>\n",
       "    </tr>\n",
       "  </tbody>\n",
       "</table>\n",
       "<p>5 rows × 99 columns</p>\n",
       "</div>"
      ],
      "text/plain": [
       "   Mode  ProgressType  Type  StateType  LoadingPosition  Plan  ShipmentType   \n",
       "0   0.5      0.428571   0.0        0.0              0.0   0.0      0.166667  \\\n",
       "1   0.0      0.428571   0.0        0.0              1.0   0.0      0.166667   \n",
       "2   0.0      0.428571   1.0        0.0              1.0   0.0      0.833333   \n",
       "3   0.0      0.428571   0.0        0.0              1.0   0.0      0.166667   \n",
       "4   0.5      0.428571   0.0        0.0              0.0   0.0      0.166667   \n",
       "\n",
       "   EquipmentType  EquipmentLength  EquipmentWidth  ...  DJTA  DTB3  GASREGW   \n",
       "0       0.003914          1.00000             0.0  ...   0.0   0.0      0.0  \\\n",
       "1       0.003914          1.00000             0.0  ...   0.0   0.0      0.0   \n",
       "2       0.000000          0.90566             0.0  ...   0.0   0.0      0.0   \n",
       "3       0.003914          0.90566             0.0  ...   0.0   0.0      0.0   \n",
       "4       0.003914          1.00000             0.0  ...   0.0   0.0      0.0   \n",
       "\n",
       "   IPG2122N  IPG3361T3S  GDP  PPIACO  BUSINV  PCU48414841  TotalCostUSD  \n",
       "0       0.0         0.0  0.0     0.0     0.0          0.0        423.82  \n",
       "1       0.0         0.0  0.0     0.0     0.0          0.0       1300.00  \n",
       "2       0.0         0.0  0.0     0.0     0.0          0.0        300.00  \n",
       "3       0.0         0.0  0.0     0.0     0.0          0.0        873.00  \n",
       "4       0.0         0.0  0.0     0.0     0.0          0.0        267.48  \n",
       "\n",
       "[5 rows x 99 columns]"
      ]
     },
     "execution_count": 16,
     "metadata": {},
     "output_type": "execute_result"
    }
   ],
   "source": [
    "df = data_preprocessing.feature_encoding()\n",
    "df = data_preprocessing.feature_scaling(df)\n",
    "df.head()"
   ]
  },
  {
   "cell_type": "code",
   "execution_count": 17,
   "metadata": {},
   "outputs": [
    {
     "name": "stdout",
     "output_type": "stream",
     "text": [
      "Data types summary:\n",
      " float64    99\n",
      "Name: count, dtype: int64\n"
     ]
    }
   ],
   "source": [
    "data_exp.summarize_data_type(df)"
   ]
  },
  {
   "cell_type": "markdown",
   "metadata": {},
   "source": [
    "data resampling"
   ]
  },
  {
   "cell_type": "code",
   "execution_count": 18,
   "metadata": {},
   "outputs": [
    {
     "name": "stdout",
     "output_type": "stream",
     "text": [
      "(1000, 2166)\n"
     ]
    },
    {
     "data": {
      "text/html": [
       "<div>\n",
       "<style scoped>\n",
       "    .dataframe tbody tr th:only-of-type {\n",
       "        vertical-align: middle;\n",
       "    }\n",
       "\n",
       "    .dataframe tbody tr th {\n",
       "        vertical-align: top;\n",
       "    }\n",
       "\n",
       "    .dataframe thead th {\n",
       "        text-align: right;\n",
       "    }\n",
       "</style>\n",
       "<table border=\"1\" class=\"dataframe\">\n",
       "  <thead>\n",
       "    <tr style=\"text-align: right;\">\n",
       "      <th></th>\n",
       "      <th>3P1402_1:314T109.PNT</th>\n",
       "      <th>3T1413_GW2:314L804.PNT</th>\n",
       "      <th>3A1423_3:314LT810.PNT</th>\n",
       "      <th>3E1401_1:314T003.PNT</th>\n",
       "      <th>3KT1410_1:314T157.PNT</th>\n",
       "      <th>3E1560_1:315T028.PNT</th>\n",
       "      <th>3V1104_1:311T012.PNT</th>\n",
       "      <th>3P1101_GW2:311PZ202.PNT</th>\n",
       "      <th>3V1401_1:314P182.PNT</th>\n",
       "      <th>3V1410_1:314T056.PNT</th>\n",
       "      <th>...</th>\n",
       "      <th>3C1560_1:315Q011.PNT</th>\n",
       "      <th>3V1410_3:314FC015.MEAS</th>\n",
       "      <th>3V1411_1:314Q030.PNT</th>\n",
       "      <th>3F4110_1:341GZ112C.CIN</th>\n",
       "      <th>3K1410_GW6:314T818.PNT</th>\n",
       "      <th>3V1102_2:311FC030.SPT</th>\n",
       "      <th>3GT1410_2GW7:3141TTXD1_4.PNT</th>\n",
       "      <th>AIN1_1_SGSA:344TZ012.PNT</th>\n",
       "      <th>3GT1401_1:314Q044.PNT</th>\n",
       "      <th>3V4410_2:344FV026.OUT</th>\n",
       "    </tr>\n",
       "    <tr>\n",
       "      <th>Timestamp</th>\n",
       "      <th></th>\n",
       "      <th></th>\n",
       "      <th></th>\n",
       "      <th></th>\n",
       "      <th></th>\n",
       "      <th></th>\n",
       "      <th></th>\n",
       "      <th></th>\n",
       "      <th></th>\n",
       "      <th></th>\n",
       "      <th></th>\n",
       "      <th></th>\n",
       "      <th></th>\n",
       "      <th></th>\n",
       "      <th></th>\n",
       "      <th></th>\n",
       "      <th></th>\n",
       "      <th></th>\n",
       "      <th></th>\n",
       "      <th></th>\n",
       "      <th></th>\n",
       "    </tr>\n",
       "  </thead>\n",
       "  <tbody>\n",
       "    <tr>\n",
       "      <th>2020-01-01 00:00:00</th>\n",
       "      <td>52.998047</td>\n",
       "      <td>51.953602</td>\n",
       "      <td>62.005859</td>\n",
       "      <td>20.806641</td>\n",
       "      <td>29.855774</td>\n",
       "      <td>29.582031</td>\n",
       "      <td>28.882812</td>\n",
       "      <td>0.895136</td>\n",
       "      <td>7.013437</td>\n",
       "      <td>-29.069336</td>\n",
       "      <td>...</td>\n",
       "      <td>0.401367</td>\n",
       "      <td>0.0</td>\n",
       "      <td>1.465137</td>\n",
       "      <td>CLOSED</td>\n",
       "      <td>79.882446</td>\n",
       "      <td>21.284224</td>\n",
       "      <td>532.879395</td>\n",
       "      <td>33.150177</td>\n",
       "      <td>2.029439</td>\n",
       "      <td>-5.0</td>\n",
       "    </tr>\n",
       "    <tr>\n",
       "      <th>2020-01-01 00:10:00</th>\n",
       "      <td>52.998047</td>\n",
       "      <td>52.197803</td>\n",
       "      <td>72.490234</td>\n",
       "      <td>20.802734</td>\n",
       "      <td>29.802856</td>\n",
       "      <td>29.582031</td>\n",
       "      <td>28.882812</td>\n",
       "      <td>0.895136</td>\n",
       "      <td>7.013437</td>\n",
       "      <td>-28.656250</td>\n",
       "      <td>...</td>\n",
       "      <td>0.401367</td>\n",
       "      <td>0.0</td>\n",
       "      <td>1.465137</td>\n",
       "      <td>CLOSED</td>\n",
       "      <td>79.749573</td>\n",
       "      <td>21.270844</td>\n",
       "      <td>533.373291</td>\n",
       "      <td>32.142849</td>\n",
       "      <td>2.029439</td>\n",
       "      <td>-5.0</td>\n",
       "    </tr>\n",
       "    <tr>\n",
       "      <th>2020-01-01 00:20:00</th>\n",
       "      <td>52.998047</td>\n",
       "      <td>52.319904</td>\n",
       "      <td>57.939453</td>\n",
       "      <td>20.810547</td>\n",
       "      <td>29.555904</td>\n",
       "      <td>29.582031</td>\n",
       "      <td>28.882812</td>\n",
       "      <td>0.895136</td>\n",
       "      <td>7.014609</td>\n",
       "      <td>-29.447266</td>\n",
       "      <td>...</td>\n",
       "      <td>0.401367</td>\n",
       "      <td>0.0</td>\n",
       "      <td>1.456055</td>\n",
       "      <td>CLOSED</td>\n",
       "      <td>79.706665</td>\n",
       "      <td>21.396782</td>\n",
       "      <td>532.350220</td>\n",
       "      <td>32.142849</td>\n",
       "      <td>2.029439</td>\n",
       "      <td>-5.0</td>\n",
       "    </tr>\n",
       "    <tr>\n",
       "      <th>2020-01-01 00:30:00</th>\n",
       "      <td>52.998047</td>\n",
       "      <td>52.045177</td>\n",
       "      <td>68.265625</td>\n",
       "      <td>20.789062</td>\n",
       "      <td>29.326591</td>\n",
       "      <td>29.582031</td>\n",
       "      <td>28.882812</td>\n",
       "      <td>0.895136</td>\n",
       "      <td>7.014609</td>\n",
       "      <td>-28.612305</td>\n",
       "      <td>...</td>\n",
       "      <td>0.401367</td>\n",
       "      <td>0.0</td>\n",
       "      <td>1.465137</td>\n",
       "      <td>CLOSED</td>\n",
       "      <td>79.621475</td>\n",
       "      <td>21.290522</td>\n",
       "      <td>531.732849</td>\n",
       "      <td>32.142849</td>\n",
       "      <td>2.029439</td>\n",
       "      <td>-5.0</td>\n",
       "    </tr>\n",
       "    <tr>\n",
       "      <th>2020-01-01 00:40:00</th>\n",
       "      <td>52.998047</td>\n",
       "      <td>52.319904</td>\n",
       "      <td>62.250000</td>\n",
       "      <td>20.763672</td>\n",
       "      <td>29.132557</td>\n",
       "      <td>29.582031</td>\n",
       "      <td>28.882812</td>\n",
       "      <td>0.895136</td>\n",
       "      <td>7.012266</td>\n",
       "      <td>-28.814453</td>\n",
       "      <td>...</td>\n",
       "      <td>0.401367</td>\n",
       "      <td>0.0</td>\n",
       "      <td>1.456055</td>\n",
       "      <td>CLOSED</td>\n",
       "      <td>79.515244</td>\n",
       "      <td>21.303116</td>\n",
       "      <td>532.279663</td>\n",
       "      <td>32.142849</td>\n",
       "      <td>2.029439</td>\n",
       "      <td>-5.0</td>\n",
       "    </tr>\n",
       "  </tbody>\n",
       "</table>\n",
       "<p>5 rows × 2166 columns</p>\n",
       "</div>"
      ],
      "text/plain": [
       "                     3P1402_1:314T109.PNT  3T1413_GW2:314L804.PNT   \n",
       "Timestamp                                                           \n",
       "2020-01-01 00:00:00             52.998047               51.953602  \\\n",
       "2020-01-01 00:10:00             52.998047               52.197803   \n",
       "2020-01-01 00:20:00             52.998047               52.319904   \n",
       "2020-01-01 00:30:00             52.998047               52.045177   \n",
       "2020-01-01 00:40:00             52.998047               52.319904   \n",
       "\n",
       "                     3A1423_3:314LT810.PNT  3E1401_1:314T003.PNT   \n",
       "Timestamp                                                          \n",
       "2020-01-01 00:00:00              62.005859             20.806641  \\\n",
       "2020-01-01 00:10:00              72.490234             20.802734   \n",
       "2020-01-01 00:20:00              57.939453             20.810547   \n",
       "2020-01-01 00:30:00              68.265625             20.789062   \n",
       "2020-01-01 00:40:00              62.250000             20.763672   \n",
       "\n",
       "                     3KT1410_1:314T157.PNT  3E1560_1:315T028.PNT   \n",
       "Timestamp                                                          \n",
       "2020-01-01 00:00:00              29.855774             29.582031  \\\n",
       "2020-01-01 00:10:00              29.802856             29.582031   \n",
       "2020-01-01 00:20:00              29.555904             29.582031   \n",
       "2020-01-01 00:30:00              29.326591             29.582031   \n",
       "2020-01-01 00:40:00              29.132557             29.582031   \n",
       "\n",
       "                     3V1104_1:311T012.PNT  3P1101_GW2:311PZ202.PNT   \n",
       "Timestamp                                                            \n",
       "2020-01-01 00:00:00             28.882812                 0.895136  \\\n",
       "2020-01-01 00:10:00             28.882812                 0.895136   \n",
       "2020-01-01 00:20:00             28.882812                 0.895136   \n",
       "2020-01-01 00:30:00             28.882812                 0.895136   \n",
       "2020-01-01 00:40:00             28.882812                 0.895136   \n",
       "\n",
       "                     3V1401_1:314P182.PNT  3V1410_1:314T056.PNT  ...   \n",
       "Timestamp                                                        ...   \n",
       "2020-01-01 00:00:00              7.013437            -29.069336  ...  \\\n",
       "2020-01-01 00:10:00              7.013437            -28.656250  ...   \n",
       "2020-01-01 00:20:00              7.014609            -29.447266  ...   \n",
       "2020-01-01 00:30:00              7.014609            -28.612305  ...   \n",
       "2020-01-01 00:40:00              7.012266            -28.814453  ...   \n",
       "\n",
       "                     3C1560_1:315Q011.PNT  3V1410_3:314FC015.MEAS   \n",
       "Timestamp                                                           \n",
       "2020-01-01 00:00:00              0.401367                     0.0  \\\n",
       "2020-01-01 00:10:00              0.401367                     0.0   \n",
       "2020-01-01 00:20:00              0.401367                     0.0   \n",
       "2020-01-01 00:30:00              0.401367                     0.0   \n",
       "2020-01-01 00:40:00              0.401367                     0.0   \n",
       "\n",
       "                     3V1411_1:314Q030.PNT  3F4110_1:341GZ112C.CIN   \n",
       "Timestamp                                                           \n",
       "2020-01-01 00:00:00              1.465137                  CLOSED  \\\n",
       "2020-01-01 00:10:00              1.465137                  CLOSED   \n",
       "2020-01-01 00:20:00              1.456055                  CLOSED   \n",
       "2020-01-01 00:30:00              1.465137                  CLOSED   \n",
       "2020-01-01 00:40:00              1.456055                  CLOSED   \n",
       "\n",
       "                     3K1410_GW6:314T818.PNT  3V1102_2:311FC030.SPT   \n",
       "Timestamp                                                            \n",
       "2020-01-01 00:00:00               79.882446              21.284224  \\\n",
       "2020-01-01 00:10:00               79.749573              21.270844   \n",
       "2020-01-01 00:20:00               79.706665              21.396782   \n",
       "2020-01-01 00:30:00               79.621475              21.290522   \n",
       "2020-01-01 00:40:00               79.515244              21.303116   \n",
       "\n",
       "                     3GT1410_2GW7:3141TTXD1_4.PNT  AIN1_1_SGSA:344TZ012.PNT   \n",
       "Timestamp                                                                     \n",
       "2020-01-01 00:00:00                    532.879395                 33.150177  \\\n",
       "2020-01-01 00:10:00                    533.373291                 32.142849   \n",
       "2020-01-01 00:20:00                    532.350220                 32.142849   \n",
       "2020-01-01 00:30:00                    531.732849                 32.142849   \n",
       "2020-01-01 00:40:00                    532.279663                 32.142849   \n",
       "\n",
       "                     3GT1401_1:314Q044.PNT  3V4410_2:344FV026.OUT  \n",
       "Timestamp                                                          \n",
       "2020-01-01 00:00:00               2.029439                   -5.0  \n",
       "2020-01-01 00:10:00               2.029439                   -5.0  \n",
       "2020-01-01 00:20:00               2.029439                   -5.0  \n",
       "2020-01-01 00:30:00               2.029439                   -5.0  \n",
       "2020-01-01 00:40:00               2.029439                   -5.0  \n",
       "\n",
       "[5 rows x 2166 columns]"
      ]
     },
     "execution_count": 18,
     "metadata": {},
     "output_type": "execute_result"
    }
   ],
   "source": [
    "data_exp = DataExploration()\n",
    "df = data_exp.load_data('./data/raw_data/lng_alldata_1000.csv', parse_dates=True, index_col=0)\n",
    "print(df.shape)\n",
    "df.head()"
   ]
  },
  {
   "cell_type": "code",
   "execution_count": 19,
   "metadata": {},
   "outputs": [
    {
     "name": "stdout",
     "output_type": "stream",
     "text": [
      "Data types summary:\n",
      " float64    2027\n",
      "object      139\n",
      "Name: count, dtype: int64\n"
     ]
    }
   ],
   "source": [
    "data_exploration = DataExploration()\n",
    "data_exploration.summarize_data_type(df)"
   ]
  },
  {
   "cell_type": "code",
   "execution_count": 20,
   "metadata": {},
   "outputs": [
    {
     "data": {
      "text/html": [
       "<div>\n",
       "<style scoped>\n",
       "    .dataframe tbody tr th:only-of-type {\n",
       "        vertical-align: middle;\n",
       "    }\n",
       "\n",
       "    .dataframe tbody tr th {\n",
       "        vertical-align: top;\n",
       "    }\n",
       "\n",
       "    .dataframe thead th {\n",
       "        text-align: right;\n",
       "    }\n",
       "</style>\n",
       "<table border=\"1\" class=\"dataframe\">\n",
       "  <thead>\n",
       "    <tr style=\"text-align: right;\">\n",
       "      <th></th>\n",
       "      <th>3V1105_GW2:311LZ006M.COUT</th>\n",
       "      <th>3C1401_GW2:314TZ755M.COUT</th>\n",
       "      <th>3F4110_1:341GZ101C.CIN</th>\n",
       "      <th>3V1101_1:311G001C.CIN</th>\n",
       "      <th>3F4110_1:341G026O.CIN</th>\n",
       "      <th>3C1401_1:314G750C.CIN</th>\n",
       "      <th>3V4103_GW2:344TZ041U.CIN</th>\n",
       "      <th>3K1410_GW2:314UZ815U.CIN</th>\n",
       "      <th>3F4110_1:341G059C.CIN</th>\n",
       "      <th>3F4110_1:341GZ108C.CIN</th>\n",
       "      <th>...</th>\n",
       "      <th>3P1101_GW2:311FZ019U.CIN</th>\n",
       "      <th>3F4110_1:341GZ110C.CIN</th>\n",
       "      <th>3E1407_GW2:344TZ044M.COUT</th>\n",
       "      <th>3C1101_1:311G003C.CIN</th>\n",
       "      <th>3V4410_1:344G003O.CIN</th>\n",
       "      <th>3F4110_1:341GZ051O.CIN</th>\n",
       "      <th>3F4110_1:341GZ031C.CIN</th>\n",
       "      <th>3V4410_GW2:344UZ322T.CIN</th>\n",
       "      <th>3K1430_1:314G038O.CIN</th>\n",
       "      <th>3F4110_1:341GZ112C.CIN</th>\n",
       "    </tr>\n",
       "    <tr>\n",
       "      <th>Timestamp</th>\n",
       "      <th></th>\n",
       "      <th></th>\n",
       "      <th></th>\n",
       "      <th></th>\n",
       "      <th></th>\n",
       "      <th></th>\n",
       "      <th></th>\n",
       "      <th></th>\n",
       "      <th></th>\n",
       "      <th></th>\n",
       "      <th></th>\n",
       "      <th></th>\n",
       "      <th></th>\n",
       "      <th></th>\n",
       "      <th></th>\n",
       "      <th></th>\n",
       "      <th></th>\n",
       "      <th></th>\n",
       "      <th></th>\n",
       "      <th></th>\n",
       "      <th></th>\n",
       "    </tr>\n",
       "  </thead>\n",
       "  <tbody>\n",
       "    <tr>\n",
       "      <th>2020-01-01 00:00:00</th>\n",
       "      <td>N_OPEN</td>\n",
       "      <td>N_OPEN</td>\n",
       "      <td>CLOSED</td>\n",
       "      <td>N_CLOSED</td>\n",
       "      <td>OPEN</td>\n",
       "      <td>CLOSED</td>\n",
       "      <td>N_OPEN</td>\n",
       "      <td>N_OPEN</td>\n",
       "      <td>N_CLOSED</td>\n",
       "      <td>CLOSED</td>\n",
       "      <td>...</td>\n",
       "      <td>N_OPEN</td>\n",
       "      <td>CLOSED</td>\n",
       "      <td>N_OPEN</td>\n",
       "      <td>N_CLOSED</td>\n",
       "      <td>OPEN</td>\n",
       "      <td>N_OPEN</td>\n",
       "      <td>CLOSED</td>\n",
       "      <td>OPEN</td>\n",
       "      <td>N_OPEN</td>\n",
       "      <td>CLOSED</td>\n",
       "    </tr>\n",
       "    <tr>\n",
       "      <th>2020-01-01 00:10:00</th>\n",
       "      <td>N_OPEN</td>\n",
       "      <td>N_OPEN</td>\n",
       "      <td>CLOSED</td>\n",
       "      <td>N_CLOSED</td>\n",
       "      <td>OPEN</td>\n",
       "      <td>CLOSED</td>\n",
       "      <td>N_OPEN</td>\n",
       "      <td>N_OPEN</td>\n",
       "      <td>N_CLOSED</td>\n",
       "      <td>CLOSED</td>\n",
       "      <td>...</td>\n",
       "      <td>N_OPEN</td>\n",
       "      <td>CLOSED</td>\n",
       "      <td>N_OPEN</td>\n",
       "      <td>N_CLOSED</td>\n",
       "      <td>OPEN</td>\n",
       "      <td>N_OPEN</td>\n",
       "      <td>CLOSED</td>\n",
       "      <td>OPEN</td>\n",
       "      <td>N_OPEN</td>\n",
       "      <td>CLOSED</td>\n",
       "    </tr>\n",
       "    <tr>\n",
       "      <th>2020-01-01 00:20:00</th>\n",
       "      <td>N_OPEN</td>\n",
       "      <td>N_OPEN</td>\n",
       "      <td>CLOSED</td>\n",
       "      <td>N_CLOSED</td>\n",
       "      <td>OPEN</td>\n",
       "      <td>CLOSED</td>\n",
       "      <td>N_OPEN</td>\n",
       "      <td>N_OPEN</td>\n",
       "      <td>N_CLOSED</td>\n",
       "      <td>CLOSED</td>\n",
       "      <td>...</td>\n",
       "      <td>N_OPEN</td>\n",
       "      <td>CLOSED</td>\n",
       "      <td>N_OPEN</td>\n",
       "      <td>N_CLOSED</td>\n",
       "      <td>OPEN</td>\n",
       "      <td>N_OPEN</td>\n",
       "      <td>CLOSED</td>\n",
       "      <td>OPEN</td>\n",
       "      <td>N_OPEN</td>\n",
       "      <td>CLOSED</td>\n",
       "    </tr>\n",
       "    <tr>\n",
       "      <th>2020-01-01 00:30:00</th>\n",
       "      <td>N_OPEN</td>\n",
       "      <td>N_OPEN</td>\n",
       "      <td>CLOSED</td>\n",
       "      <td>N_CLOSED</td>\n",
       "      <td>OPEN</td>\n",
       "      <td>CLOSED</td>\n",
       "      <td>N_OPEN</td>\n",
       "      <td>N_OPEN</td>\n",
       "      <td>N_CLOSED</td>\n",
       "      <td>CLOSED</td>\n",
       "      <td>...</td>\n",
       "      <td>N_OPEN</td>\n",
       "      <td>CLOSED</td>\n",
       "      <td>N_OPEN</td>\n",
       "      <td>N_CLOSED</td>\n",
       "      <td>OPEN</td>\n",
       "      <td>N_OPEN</td>\n",
       "      <td>CLOSED</td>\n",
       "      <td>OPEN</td>\n",
       "      <td>N_OPEN</td>\n",
       "      <td>CLOSED</td>\n",
       "    </tr>\n",
       "    <tr>\n",
       "      <th>2020-01-01 00:40:00</th>\n",
       "      <td>N_OPEN</td>\n",
       "      <td>N_OPEN</td>\n",
       "      <td>CLOSED</td>\n",
       "      <td>N_CLOSED</td>\n",
       "      <td>OPEN</td>\n",
       "      <td>CLOSED</td>\n",
       "      <td>N_OPEN</td>\n",
       "      <td>N_OPEN</td>\n",
       "      <td>N_CLOSED</td>\n",
       "      <td>CLOSED</td>\n",
       "      <td>...</td>\n",
       "      <td>N_OPEN</td>\n",
       "      <td>CLOSED</td>\n",
       "      <td>N_OPEN</td>\n",
       "      <td>N_CLOSED</td>\n",
       "      <td>OPEN</td>\n",
       "      <td>N_OPEN</td>\n",
       "      <td>CLOSED</td>\n",
       "      <td>OPEN</td>\n",
       "      <td>N_OPEN</td>\n",
       "      <td>CLOSED</td>\n",
       "    </tr>\n",
       "  </tbody>\n",
       "</table>\n",
       "<p>5 rows × 139 columns</p>\n",
       "</div>"
      ],
      "text/plain": [
       "                    3V1105_GW2:311LZ006M.COUT 3C1401_GW2:314TZ755M.COUT   \n",
       "Timestamp                                                                 \n",
       "2020-01-01 00:00:00                    N_OPEN                    N_OPEN  \\\n",
       "2020-01-01 00:10:00                    N_OPEN                    N_OPEN   \n",
       "2020-01-01 00:20:00                    N_OPEN                    N_OPEN   \n",
       "2020-01-01 00:30:00                    N_OPEN                    N_OPEN   \n",
       "2020-01-01 00:40:00                    N_OPEN                    N_OPEN   \n",
       "\n",
       "                    3F4110_1:341GZ101C.CIN 3V1101_1:311G001C.CIN   \n",
       "Timestamp                                                          \n",
       "2020-01-01 00:00:00                 CLOSED              N_CLOSED  \\\n",
       "2020-01-01 00:10:00                 CLOSED              N_CLOSED   \n",
       "2020-01-01 00:20:00                 CLOSED              N_CLOSED   \n",
       "2020-01-01 00:30:00                 CLOSED              N_CLOSED   \n",
       "2020-01-01 00:40:00                 CLOSED              N_CLOSED   \n",
       "\n",
       "                    3F4110_1:341G026O.CIN 3C1401_1:314G750C.CIN   \n",
       "Timestamp                                                         \n",
       "2020-01-01 00:00:00                  OPEN                CLOSED  \\\n",
       "2020-01-01 00:10:00                  OPEN                CLOSED   \n",
       "2020-01-01 00:20:00                  OPEN                CLOSED   \n",
       "2020-01-01 00:30:00                  OPEN                CLOSED   \n",
       "2020-01-01 00:40:00                  OPEN                CLOSED   \n",
       "\n",
       "                    3V4103_GW2:344TZ041U.CIN 3K1410_GW2:314UZ815U.CIN   \n",
       "Timestamp                                                               \n",
       "2020-01-01 00:00:00                   N_OPEN                   N_OPEN  \\\n",
       "2020-01-01 00:10:00                   N_OPEN                   N_OPEN   \n",
       "2020-01-01 00:20:00                   N_OPEN                   N_OPEN   \n",
       "2020-01-01 00:30:00                   N_OPEN                   N_OPEN   \n",
       "2020-01-01 00:40:00                   N_OPEN                   N_OPEN   \n",
       "\n",
       "                    3F4110_1:341G059C.CIN 3F4110_1:341GZ108C.CIN  ...   \n",
       "Timestamp                                                         ...   \n",
       "2020-01-01 00:00:00              N_CLOSED                 CLOSED  ...  \\\n",
       "2020-01-01 00:10:00              N_CLOSED                 CLOSED  ...   \n",
       "2020-01-01 00:20:00              N_CLOSED                 CLOSED  ...   \n",
       "2020-01-01 00:30:00              N_CLOSED                 CLOSED  ...   \n",
       "2020-01-01 00:40:00              N_CLOSED                 CLOSED  ...   \n",
       "\n",
       "                    3P1101_GW2:311FZ019U.CIN 3F4110_1:341GZ110C.CIN   \n",
       "Timestamp                                                             \n",
       "2020-01-01 00:00:00                   N_OPEN                 CLOSED  \\\n",
       "2020-01-01 00:10:00                   N_OPEN                 CLOSED   \n",
       "2020-01-01 00:20:00                   N_OPEN                 CLOSED   \n",
       "2020-01-01 00:30:00                   N_OPEN                 CLOSED   \n",
       "2020-01-01 00:40:00                   N_OPEN                 CLOSED   \n",
       "\n",
       "                    3E1407_GW2:344TZ044M.COUT 3C1101_1:311G003C.CIN   \n",
       "Timestamp                                                             \n",
       "2020-01-01 00:00:00                    N_OPEN              N_CLOSED  \\\n",
       "2020-01-01 00:10:00                    N_OPEN              N_CLOSED   \n",
       "2020-01-01 00:20:00                    N_OPEN              N_CLOSED   \n",
       "2020-01-01 00:30:00                    N_OPEN              N_CLOSED   \n",
       "2020-01-01 00:40:00                    N_OPEN              N_CLOSED   \n",
       "\n",
       "                    3V4410_1:344G003O.CIN 3F4110_1:341GZ051O.CIN   \n",
       "Timestamp                                                          \n",
       "2020-01-01 00:00:00                  OPEN                 N_OPEN  \\\n",
       "2020-01-01 00:10:00                  OPEN                 N_OPEN   \n",
       "2020-01-01 00:20:00                  OPEN                 N_OPEN   \n",
       "2020-01-01 00:30:00                  OPEN                 N_OPEN   \n",
       "2020-01-01 00:40:00                  OPEN                 N_OPEN   \n",
       "\n",
       "                    3F4110_1:341GZ031C.CIN 3V4410_GW2:344UZ322T.CIN   \n",
       "Timestamp                                                             \n",
       "2020-01-01 00:00:00                 CLOSED                     OPEN  \\\n",
       "2020-01-01 00:10:00                 CLOSED                     OPEN   \n",
       "2020-01-01 00:20:00                 CLOSED                     OPEN   \n",
       "2020-01-01 00:30:00                 CLOSED                     OPEN   \n",
       "2020-01-01 00:40:00                 CLOSED                     OPEN   \n",
       "\n",
       "                    3K1430_1:314G038O.CIN 3F4110_1:341GZ112C.CIN  \n",
       "Timestamp                                                         \n",
       "2020-01-01 00:00:00                N_OPEN                 CLOSED  \n",
       "2020-01-01 00:10:00                N_OPEN                 CLOSED  \n",
       "2020-01-01 00:20:00                N_OPEN                 CLOSED  \n",
       "2020-01-01 00:30:00                N_OPEN                 CLOSED  \n",
       "2020-01-01 00:40:00                N_OPEN                 CLOSED  \n",
       "\n",
       "[5 rows x 139 columns]"
      ]
     },
     "execution_count": 20,
     "metadata": {},
     "output_type": "execute_result"
    }
   ],
   "source": [
    "# show first Object data column\n",
    "df.select_dtypes(include=['object']).head()"
   ]
  },
  {
   "cell_type": "code",
   "execution_count": 21,
   "metadata": {},
   "outputs": [
    {
     "name": "stdout",
     "output_type": "stream",
     "text": [
      "Data types summary:\n",
      " float64    2166\n",
      "Name: count, dtype: int64\n"
     ]
    }
   ],
   "source": [
    "dp = DataPreprocessing(df, ['3GT1401_3:314FT010.PNT'])\n",
    "df = dp.feature_encoding(df)\n",
    "data_exploration.summarize_data_type(df)"
   ]
  },
  {
   "cell_type": "code",
   "execution_count": 22,
   "metadata": {},
   "outputs": [
    {
     "data": {
      "text/html": [
       "<div>\n",
       "<style scoped>\n",
       "    .dataframe tbody tr th:only-of-type {\n",
       "        vertical-align: middle;\n",
       "    }\n",
       "\n",
       "    .dataframe tbody tr th {\n",
       "        vertical-align: top;\n",
       "    }\n",
       "\n",
       "    .dataframe thead th {\n",
       "        text-align: right;\n",
       "    }\n",
       "</style>\n",
       "<table border=\"1\" class=\"dataframe\">\n",
       "  <thead>\n",
       "    <tr style=\"text-align: right;\">\n",
       "      <th></th>\n",
       "      <th>3P1402_1:314T109.PNT</th>\n",
       "      <th>3T1413_GW2:314L804.PNT</th>\n",
       "      <th>3A1423_3:314LT810.PNT</th>\n",
       "      <th>3E1401_1:314T003.PNT</th>\n",
       "      <th>3KT1410_1:314T157.PNT</th>\n",
       "      <th>3E1560_1:315T028.PNT</th>\n",
       "      <th>3V1104_1:311T012.PNT</th>\n",
       "      <th>3P1101_GW2:311PZ202.PNT</th>\n",
       "      <th>3V1401_1:314P182.PNT</th>\n",
       "      <th>3V1410_1:314T056.PNT</th>\n",
       "      <th>...</th>\n",
       "      <th>3V1410_3:314FC015.MEAS</th>\n",
       "      <th>3V1411_1:314Q030.PNT</th>\n",
       "      <th>3F4110_1:341GZ112C.CIN</th>\n",
       "      <th>3K1410_GW6:314T818.PNT</th>\n",
       "      <th>3V1102_2:311FC030.SPT</th>\n",
       "      <th>3GT1410_2GW7:3141TTXD1_4.PNT</th>\n",
       "      <th>AIN1_1_SGSA:344TZ012.PNT</th>\n",
       "      <th>3GT1401_1:314Q044.PNT</th>\n",
       "      <th>3V4410_2:344FV026.OUT</th>\n",
       "      <th>3GT1401_3:314FT010.PNT</th>\n",
       "    </tr>\n",
       "    <tr>\n",
       "      <th>Timestamp</th>\n",
       "      <th></th>\n",
       "      <th></th>\n",
       "      <th></th>\n",
       "      <th></th>\n",
       "      <th></th>\n",
       "      <th></th>\n",
       "      <th></th>\n",
       "      <th></th>\n",
       "      <th></th>\n",
       "      <th></th>\n",
       "      <th></th>\n",
       "      <th></th>\n",
       "      <th></th>\n",
       "      <th></th>\n",
       "      <th></th>\n",
       "      <th></th>\n",
       "      <th></th>\n",
       "      <th></th>\n",
       "      <th></th>\n",
       "      <th></th>\n",
       "      <th></th>\n",
       "    </tr>\n",
       "  </thead>\n",
       "  <tbody>\n",
       "    <tr>\n",
       "      <th>2020-01-01 00:00:00</th>\n",
       "      <td>52.998047</td>\n",
       "      <td>52.218153</td>\n",
       "      <td>64.589844</td>\n",
       "      <td>20.806641</td>\n",
       "      <td>29.453007</td>\n",
       "      <td>29.582031</td>\n",
       "      <td>28.882812</td>\n",
       "      <td>0.895136</td>\n",
       "      <td>7.013008</td>\n",
       "      <td>-28.891602</td>\n",
       "      <td>...</td>\n",
       "      <td>0.0</td>\n",
       "      <td>1.462109</td>\n",
       "      <td>9976.232628</td>\n",
       "      <td>79.679461</td>\n",
       "      <td>21.301672</td>\n",
       "      <td>532.112081</td>\n",
       "      <td>32.310737</td>\n",
       "      <td>2.029439</td>\n",
       "      <td>-5.0</td>\n",
       "      <td>9872.846517</td>\n",
       "    </tr>\n",
       "    <tr>\n",
       "      <th>2020-01-01 01:00:00</th>\n",
       "      <td>52.998047</td>\n",
       "      <td>52.263941</td>\n",
       "      <td>64.867839</td>\n",
       "      <td>20.805664</td>\n",
       "      <td>28.876786</td>\n",
       "      <td>29.582031</td>\n",
       "      <td>28.667969</td>\n",
       "      <td>0.895136</td>\n",
       "      <td>7.004219</td>\n",
       "      <td>-28.416016</td>\n",
       "      <td>...</td>\n",
       "      <td>0.0</td>\n",
       "      <td>1.469775</td>\n",
       "      <td>9976.232628</td>\n",
       "      <td>79.780029</td>\n",
       "      <td>21.246181</td>\n",
       "      <td>528.475423</td>\n",
       "      <td>30.860799</td>\n",
       "      <td>2.029439</td>\n",
       "      <td>-5.0</td>\n",
       "      <td>9888.568034</td>\n",
       "    </tr>\n",
       "    <tr>\n",
       "      <th>2020-01-01 02:00:00</th>\n",
       "      <td>52.998047</td>\n",
       "      <td>51.928165</td>\n",
       "      <td>64.997070</td>\n",
       "      <td>20.873372</td>\n",
       "      <td>28.709212</td>\n",
       "      <td>29.246094</td>\n",
       "      <td>28.625000</td>\n",
       "      <td>0.886892</td>\n",
       "      <td>6.998633</td>\n",
       "      <td>-28.625488</td>\n",
       "      <td>...</td>\n",
       "      <td>0.0</td>\n",
       "      <td>1.468262</td>\n",
       "      <td>9976.232628</td>\n",
       "      <td>79.372106</td>\n",
       "      <td>21.306395</td>\n",
       "      <td>526.341064</td>\n",
       "      <td>29.578747</td>\n",
       "      <td>2.029439</td>\n",
       "      <td>-5.0</td>\n",
       "      <td>9899.958171</td>\n",
       "    </tr>\n",
       "    <tr>\n",
       "      <th>2020-01-01 03:00:00</th>\n",
       "      <td>52.998047</td>\n",
       "      <td>51.460115</td>\n",
       "      <td>64.961263</td>\n",
       "      <td>20.831055</td>\n",
       "      <td>28.491658</td>\n",
       "      <td>29.078125</td>\n",
       "      <td>28.625000</td>\n",
       "      <td>0.886892</td>\n",
       "      <td>7.002031</td>\n",
       "      <td>-29.092285</td>\n",
       "      <td>...</td>\n",
       "      <td>0.0</td>\n",
       "      <td>1.463623</td>\n",
       "      <td>9976.232628</td>\n",
       "      <td>79.646622</td>\n",
       "      <td>23.083295</td>\n",
       "      <td>525.785411</td>\n",
       "      <td>28.937723</td>\n",
       "      <td>2.029439</td>\n",
       "      <td>-5.0</td>\n",
       "      <td>9883.221354</td>\n",
       "    </tr>\n",
       "    <tr>\n",
       "      <th>2020-01-01 04:00:00</th>\n",
       "      <td>52.998047</td>\n",
       "      <td>50.854701</td>\n",
       "      <td>64.830078</td>\n",
       "      <td>20.871745</td>\n",
       "      <td>28.388762</td>\n",
       "      <td>29.078125</td>\n",
       "      <td>28.625000</td>\n",
       "      <td>0.886892</td>\n",
       "      <td>7.001719</td>\n",
       "      <td>-29.148438</td>\n",
       "      <td>...</td>\n",
       "      <td>0.0</td>\n",
       "      <td>1.469727</td>\n",
       "      <td>9976.232628</td>\n",
       "      <td>79.381485</td>\n",
       "      <td>26.649424</td>\n",
       "      <td>523.483480</td>\n",
       "      <td>28.365378</td>\n",
       "      <td>2.029439</td>\n",
       "      <td>-5.0</td>\n",
       "      <td>9892.548665</td>\n",
       "    </tr>\n",
       "  </tbody>\n",
       "</table>\n",
       "<p>5 rows × 2166 columns</p>\n",
       "</div>"
      ],
      "text/plain": [
       "                     3P1402_1:314T109.PNT  3T1413_GW2:314L804.PNT   \n",
       "Timestamp                                                           \n",
       "2020-01-01 00:00:00             52.998047               52.218153  \\\n",
       "2020-01-01 01:00:00             52.998047               52.263941   \n",
       "2020-01-01 02:00:00             52.998047               51.928165   \n",
       "2020-01-01 03:00:00             52.998047               51.460115   \n",
       "2020-01-01 04:00:00             52.998047               50.854701   \n",
       "\n",
       "                     3A1423_3:314LT810.PNT  3E1401_1:314T003.PNT   \n",
       "Timestamp                                                          \n",
       "2020-01-01 00:00:00              64.589844             20.806641  \\\n",
       "2020-01-01 01:00:00              64.867839             20.805664   \n",
       "2020-01-01 02:00:00              64.997070             20.873372   \n",
       "2020-01-01 03:00:00              64.961263             20.831055   \n",
       "2020-01-01 04:00:00              64.830078             20.871745   \n",
       "\n",
       "                     3KT1410_1:314T157.PNT  3E1560_1:315T028.PNT   \n",
       "Timestamp                                                          \n",
       "2020-01-01 00:00:00              29.453007             29.582031  \\\n",
       "2020-01-01 01:00:00              28.876786             29.582031   \n",
       "2020-01-01 02:00:00              28.709212             29.246094   \n",
       "2020-01-01 03:00:00              28.491658             29.078125   \n",
       "2020-01-01 04:00:00              28.388762             29.078125   \n",
       "\n",
       "                     3V1104_1:311T012.PNT  3P1101_GW2:311PZ202.PNT   \n",
       "Timestamp                                                            \n",
       "2020-01-01 00:00:00             28.882812                 0.895136  \\\n",
       "2020-01-01 01:00:00             28.667969                 0.895136   \n",
       "2020-01-01 02:00:00             28.625000                 0.886892   \n",
       "2020-01-01 03:00:00             28.625000                 0.886892   \n",
       "2020-01-01 04:00:00             28.625000                 0.886892   \n",
       "\n",
       "                     3V1401_1:314P182.PNT  3V1410_1:314T056.PNT  ...   \n",
       "Timestamp                                                        ...   \n",
       "2020-01-01 00:00:00              7.013008            -28.891602  ...  \\\n",
       "2020-01-01 01:00:00              7.004219            -28.416016  ...   \n",
       "2020-01-01 02:00:00              6.998633            -28.625488  ...   \n",
       "2020-01-01 03:00:00              7.002031            -29.092285  ...   \n",
       "2020-01-01 04:00:00              7.001719            -29.148438  ...   \n",
       "\n",
       "                     3V1410_3:314FC015.MEAS  3V1411_1:314Q030.PNT   \n",
       "Timestamp                                                           \n",
       "2020-01-01 00:00:00                     0.0              1.462109  \\\n",
       "2020-01-01 01:00:00                     0.0              1.469775   \n",
       "2020-01-01 02:00:00                     0.0              1.468262   \n",
       "2020-01-01 03:00:00                     0.0              1.463623   \n",
       "2020-01-01 04:00:00                     0.0              1.469727   \n",
       "\n",
       "                     3F4110_1:341GZ112C.CIN  3K1410_GW6:314T818.PNT   \n",
       "Timestamp                                                             \n",
       "2020-01-01 00:00:00             9976.232628               79.679461  \\\n",
       "2020-01-01 01:00:00             9976.232628               79.780029   \n",
       "2020-01-01 02:00:00             9976.232628               79.372106   \n",
       "2020-01-01 03:00:00             9976.232628               79.646622   \n",
       "2020-01-01 04:00:00             9976.232628               79.381485   \n",
       "\n",
       "                     3V1102_2:311FC030.SPT  3GT1410_2GW7:3141TTXD1_4.PNT   \n",
       "Timestamp                                                                  \n",
       "2020-01-01 00:00:00              21.301672                    532.112081  \\\n",
       "2020-01-01 01:00:00              21.246181                    528.475423   \n",
       "2020-01-01 02:00:00              21.306395                    526.341064   \n",
       "2020-01-01 03:00:00              23.083295                    525.785411   \n",
       "2020-01-01 04:00:00              26.649424                    523.483480   \n",
       "\n",
       "                     AIN1_1_SGSA:344TZ012.PNT  3GT1401_1:314Q044.PNT   \n",
       "Timestamp                                                              \n",
       "2020-01-01 00:00:00                 32.310737               2.029439  \\\n",
       "2020-01-01 01:00:00                 30.860799               2.029439   \n",
       "2020-01-01 02:00:00                 29.578747               2.029439   \n",
       "2020-01-01 03:00:00                 28.937723               2.029439   \n",
       "2020-01-01 04:00:00                 28.365378               2.029439   \n",
       "\n",
       "                     3V4410_2:344FV026.OUT  3GT1401_3:314FT010.PNT  \n",
       "Timestamp                                                           \n",
       "2020-01-01 00:00:00                   -5.0             9872.846517  \n",
       "2020-01-01 01:00:00                   -5.0             9888.568034  \n",
       "2020-01-01 02:00:00                   -5.0             9899.958171  \n",
       "2020-01-01 03:00:00                   -5.0             9883.221354  \n",
       "2020-01-01 04:00:00                   -5.0             9892.548665  \n",
       "\n",
       "[5 rows x 2166 columns]"
      ]
     },
     "execution_count": 22,
     "metadata": {},
     "output_type": "execute_result"
    }
   ],
   "source": [
    "df = dp.data_resampling(df, 'h')\n",
    "df.head()"
   ]
  },
  {
   "cell_type": "markdown",
   "metadata": {},
   "source": [
    "data splitting"
   ]
  },
  {
   "cell_type": "code",
   "execution_count": 23,
   "metadata": {},
   "outputs": [
    {
     "data": {
      "text/plain": [
       "(1000, 99)"
      ]
     },
     "execution_count": 23,
     "metadata": {},
     "output_type": "execute_result"
    }
   ],
   "source": [
    "df = data_exp.load_data('./data/coyote_0731_1000.xlsx', parse_dates=False, index_col=False)\n",
    "df.shape"
   ]
  },
  {
   "cell_type": "code",
   "execution_count": 24,
   "metadata": {},
   "outputs": [
    {
     "data": {
      "text/plain": [
       "((800, 98), (100, 98), (100, 98), (800, 1), (100, 1), (100, 1))"
      ]
     },
     "execution_count": 24,
     "metadata": {},
     "output_type": "execute_result"
    }
   ],
   "source": [
    "X_train, X_val, X_test, y_train, y_val, y_test = dp.data_splitting(df, [cfg.target_var.coyote])\n",
    "X_train.shape, X_val.shape, X_test.shape, y_train.shape, y_val.shape, y_test.shape"
   ]
  },
  {
   "cell_type": "markdown",
   "metadata": {},
   "source": [
    "feature engineering"
   ]
  },
  {
   "cell_type": "code",
   "execution_count": 25,
   "metadata": {},
   "outputs": [
    {
     "data": {
      "text/html": [
       "<div>\n",
       "<style scoped>\n",
       "    .dataframe tbody tr th:only-of-type {\n",
       "        vertical-align: middle;\n",
       "    }\n",
       "\n",
       "    .dataframe tbody tr th {\n",
       "        vertical-align: top;\n",
       "    }\n",
       "\n",
       "    .dataframe thead th {\n",
       "        text-align: right;\n",
       "    }\n",
       "</style>\n",
       "<table border=\"1\" class=\"dataframe\">\n",
       "  <thead>\n",
       "    <tr style=\"text-align: right;\">\n",
       "      <th></th>\n",
       "      <th>OXO-5FI635C Augusta</th>\n",
       "      <th>OXO-5FI661A Augusta</th>\n",
       "      <th>OXO-5FI696 Augusta</th>\n",
       "      <th>OXO-5FIC132 Augusta</th>\n",
       "      <th>OXO-5FIC600 Augusta</th>\n",
       "      <th>OXO-5FIC601 Augusta</th>\n",
       "      <th>OXO-5FIC602 Augusta</th>\n",
       "      <th>OXO-5FIC603 Augusta</th>\n",
       "      <th>OXO-5FIC606A Augusta</th>\n",
       "      <th>OXO-5FIC606C Augusta</th>\n",
       "      <th>...</th>\n",
       "      <th>OXO-5TIC603 Augusta</th>\n",
       "      <th>OXO-5TIC604 Augusta</th>\n",
       "      <th>OXO-5TIC605 Augusta</th>\n",
       "      <th>OXO-5TIC606 Augusta</th>\n",
       "      <th>OXO-5TIC607 Augusta</th>\n",
       "      <th>OXO-5TIC659 Augusta</th>\n",
       "      <th>OXO-_5FI658A Augusta</th>\n",
       "      <th>OXO-_5FI659A Augusta</th>\n",
       "      <th>OXO-_5FI660A Augusta</th>\n",
       "      <th>OXO-_5FI662A Augusta</th>\n",
       "    </tr>\n",
       "    <tr>\n",
       "      <th>Date</th>\n",
       "      <th></th>\n",
       "      <th></th>\n",
       "      <th></th>\n",
       "      <th></th>\n",
       "      <th></th>\n",
       "      <th></th>\n",
       "      <th></th>\n",
       "      <th></th>\n",
       "      <th></th>\n",
       "      <th></th>\n",
       "      <th></th>\n",
       "      <th></th>\n",
       "      <th></th>\n",
       "      <th></th>\n",
       "      <th></th>\n",
       "      <th></th>\n",
       "      <th></th>\n",
       "      <th></th>\n",
       "      <th></th>\n",
       "      <th></th>\n",
       "      <th></th>\n",
       "    </tr>\n",
       "  </thead>\n",
       "  <tbody>\n",
       "    <tr>\n",
       "      <th>2019-11-01 00:00:00</th>\n",
       "      <td>5859.125648</td>\n",
       "      <td>23345.857389</td>\n",
       "      <td>9830.200195</td>\n",
       "      <td>4.450549</td>\n",
       "      <td>2076.174093</td>\n",
       "      <td>67.208298</td>\n",
       "      <td>5069.174366</td>\n",
       "      <td>0.0</td>\n",
       "      <td>NaN</td>\n",
       "      <td>1.202029</td>\n",
       "      <td>...</td>\n",
       "      <td>133.996300</td>\n",
       "      <td>130.578919</td>\n",
       "      <td>133.007764</td>\n",
       "      <td>134.032267</td>\n",
       "      <td>130.899539</td>\n",
       "      <td>298.029910</td>\n",
       "      <td>21719.630615</td>\n",
       "      <td>22870.976318</td>\n",
       "      <td>22026.824772</td>\n",
       "      <td>22036.315560</td>\n",
       "    </tr>\n",
       "    <tr>\n",
       "      <th>2019-11-01 01:00:00</th>\n",
       "      <td>5950.173837</td>\n",
       "      <td>23346.553467</td>\n",
       "      <td>9384.632992</td>\n",
       "      <td>4.410112</td>\n",
       "      <td>2070.199284</td>\n",
       "      <td>67.204392</td>\n",
       "      <td>5068.014148</td>\n",
       "      <td>0.0</td>\n",
       "      <td>NaN</td>\n",
       "      <td>1.158160</td>\n",
       "      <td>...</td>\n",
       "      <td>133.994588</td>\n",
       "      <td>130.640505</td>\n",
       "      <td>132.966600</td>\n",
       "      <td>134.035076</td>\n",
       "      <td>130.849780</td>\n",
       "      <td>298.084330</td>\n",
       "      <td>21727.622575</td>\n",
       "      <td>22879.205452</td>\n",
       "      <td>22042.948193</td>\n",
       "      <td>22056.644971</td>\n",
       "    </tr>\n",
       "    <tr>\n",
       "      <th>2019-11-01 02:00:00</th>\n",
       "      <td>6379.102250</td>\n",
       "      <td>23430.336545</td>\n",
       "      <td>9233.277262</td>\n",
       "      <td>4.285714</td>\n",
       "      <td>2067.933828</td>\n",
       "      <td>67.031974</td>\n",
       "      <td>5069.603650</td>\n",
       "      <td>0.0</td>\n",
       "      <td>NaN</td>\n",
       "      <td>1.070420</td>\n",
       "      <td>...</td>\n",
       "      <td>134.008106</td>\n",
       "      <td>130.675602</td>\n",
       "      <td>133.035094</td>\n",
       "      <td>134.001994</td>\n",
       "      <td>130.743083</td>\n",
       "      <td>297.930878</td>\n",
       "      <td>21836.766659</td>\n",
       "      <td>22970.057215</td>\n",
       "      <td>22156.774258</td>\n",
       "      <td>22105.218684</td>\n",
       "    </tr>\n",
       "    <tr>\n",
       "      <th>2019-11-01 03:00:00</th>\n",
       "      <td>6337.343084</td>\n",
       "      <td>23384.694743</td>\n",
       "      <td>9223.139014</td>\n",
       "      <td>4.775281</td>\n",
       "      <td>2062.488529</td>\n",
       "      <td>66.808810</td>\n",
       "      <td>5061.608939</td>\n",
       "      <td>0.0</td>\n",
       "      <td>NaN</td>\n",
       "      <td>1.044098</td>\n",
       "      <td>...</td>\n",
       "      <td>134.008312</td>\n",
       "      <td>130.613462</td>\n",
       "      <td>133.000552</td>\n",
       "      <td>133.979115</td>\n",
       "      <td>130.760757</td>\n",
       "      <td>298.052583</td>\n",
       "      <td>21783.450505</td>\n",
       "      <td>22920.952018</td>\n",
       "      <td>22088.356950</td>\n",
       "      <td>22064.178402</td>\n",
       "    </tr>\n",
       "    <tr>\n",
       "      <th>2019-11-01 04:00:00</th>\n",
       "      <td>6183.590302</td>\n",
       "      <td>23357.085677</td>\n",
       "      <td>9104.168620</td>\n",
       "      <td>4.388889</td>\n",
       "      <td>2055.162223</td>\n",
       "      <td>66.354369</td>\n",
       "      <td>5004.132636</td>\n",
       "      <td>0.0</td>\n",
       "      <td>NaN</td>\n",
       "      <td>1.044098</td>\n",
       "      <td>...</td>\n",
       "      <td>134.002098</td>\n",
       "      <td>130.614549</td>\n",
       "      <td>133.004748</td>\n",
       "      <td>134.000492</td>\n",
       "      <td>130.814450</td>\n",
       "      <td>298.039928</td>\n",
       "      <td>21748.715137</td>\n",
       "      <td>22895.312126</td>\n",
       "      <td>22073.622298</td>\n",
       "      <td>22053.480892</td>\n",
       "    </tr>\n",
       "  </tbody>\n",
       "</table>\n",
       "<p>5 rows × 59 columns</p>\n",
       "</div>"
      ],
      "text/plain": [
       "                     OXO-5FI635C Augusta  OXO-5FI661A Augusta   \n",
       "Date                                                            \n",
       "2019-11-01 00:00:00          5859.125648         23345.857389  \\\n",
       "2019-11-01 01:00:00          5950.173837         23346.553467   \n",
       "2019-11-01 02:00:00          6379.102250         23430.336545   \n",
       "2019-11-01 03:00:00          6337.343084         23384.694743   \n",
       "2019-11-01 04:00:00          6183.590302         23357.085677   \n",
       "\n",
       "                     OXO-5FI696 Augusta  OXO-5FIC132 Augusta   \n",
       "Date                                                           \n",
       "2019-11-01 00:00:00         9830.200195             4.450549  \\\n",
       "2019-11-01 01:00:00         9384.632992             4.410112   \n",
       "2019-11-01 02:00:00         9233.277262             4.285714   \n",
       "2019-11-01 03:00:00         9223.139014             4.775281   \n",
       "2019-11-01 04:00:00         9104.168620             4.388889   \n",
       "\n",
       "                     OXO-5FIC600 Augusta  OXO-5FIC601 Augusta   \n",
       "Date                                                            \n",
       "2019-11-01 00:00:00          2076.174093            67.208298  \\\n",
       "2019-11-01 01:00:00          2070.199284            67.204392   \n",
       "2019-11-01 02:00:00          2067.933828            67.031974   \n",
       "2019-11-01 03:00:00          2062.488529            66.808810   \n",
       "2019-11-01 04:00:00          2055.162223            66.354369   \n",
       "\n",
       "                     OXO-5FIC602 Augusta  OXO-5FIC603 Augusta   \n",
       "Date                                                            \n",
       "2019-11-01 00:00:00          5069.174366                  0.0  \\\n",
       "2019-11-01 01:00:00          5068.014148                  0.0   \n",
       "2019-11-01 02:00:00          5069.603650                  0.0   \n",
       "2019-11-01 03:00:00          5061.608939                  0.0   \n",
       "2019-11-01 04:00:00          5004.132636                  0.0   \n",
       "\n",
       "                     OXO-5FIC606A Augusta  OXO-5FIC606C Augusta  ...   \n",
       "Date                                                             ...   \n",
       "2019-11-01 00:00:00                   NaN              1.202029  ...  \\\n",
       "2019-11-01 01:00:00                   NaN              1.158160  ...   \n",
       "2019-11-01 02:00:00                   NaN              1.070420  ...   \n",
       "2019-11-01 03:00:00                   NaN              1.044098  ...   \n",
       "2019-11-01 04:00:00                   NaN              1.044098  ...   \n",
       "\n",
       "                     OXO-5TIC603 Augusta  OXO-5TIC604 Augusta   \n",
       "Date                                                            \n",
       "2019-11-01 00:00:00           133.996300           130.578919  \\\n",
       "2019-11-01 01:00:00           133.994588           130.640505   \n",
       "2019-11-01 02:00:00           134.008106           130.675602   \n",
       "2019-11-01 03:00:00           134.008312           130.613462   \n",
       "2019-11-01 04:00:00           134.002098           130.614549   \n",
       "\n",
       "                     OXO-5TIC605 Augusta  OXO-5TIC606 Augusta   \n",
       "Date                                                            \n",
       "2019-11-01 00:00:00           133.007764           134.032267  \\\n",
       "2019-11-01 01:00:00           132.966600           134.035076   \n",
       "2019-11-01 02:00:00           133.035094           134.001994   \n",
       "2019-11-01 03:00:00           133.000552           133.979115   \n",
       "2019-11-01 04:00:00           133.004748           134.000492   \n",
       "\n",
       "                     OXO-5TIC607 Augusta  OXO-5TIC659 Augusta   \n",
       "Date                                                            \n",
       "2019-11-01 00:00:00           130.899539           298.029910  \\\n",
       "2019-11-01 01:00:00           130.849780           298.084330   \n",
       "2019-11-01 02:00:00           130.743083           297.930878   \n",
       "2019-11-01 03:00:00           130.760757           298.052583   \n",
       "2019-11-01 04:00:00           130.814450           298.039928   \n",
       "\n",
       "                     OXO-_5FI658A Augusta  OXO-_5FI659A Augusta   \n",
       "Date                                                              \n",
       "2019-11-01 00:00:00          21719.630615          22870.976318  \\\n",
       "2019-11-01 01:00:00          21727.622575          22879.205452   \n",
       "2019-11-01 02:00:00          21836.766659          22970.057215   \n",
       "2019-11-01 03:00:00          21783.450505          22920.952018   \n",
       "2019-11-01 04:00:00          21748.715137          22895.312126   \n",
       "\n",
       "                     OXO-_5FI660A Augusta  OXO-_5FI662A Augusta  \n",
       "Date                                                             \n",
       "2019-11-01 00:00:00          22026.824772          22036.315560  \n",
       "2019-11-01 01:00:00          22042.948193          22056.644971  \n",
       "2019-11-01 02:00:00          22156.774258          22105.218684  \n",
       "2019-11-01 03:00:00          22088.356950          22064.178402  \n",
       "2019-11-01 04:00:00          22073.622298          22053.480892  \n",
       "\n",
       "[5 rows x 59 columns]"
      ]
     },
     "execution_count": 25,
     "metadata": {},
     "output_type": "execute_result"
    }
   ],
   "source": [
    "de = DataExploration()\n",
    "df = de.load_data('./data/sasol_data_sample.csv', parse_dates=True, index_col=0)\n",
    "df.head()"
   ]
  },
  {
   "cell_type": "code",
   "execution_count": 26,
   "metadata": {},
   "outputs": [
    {
     "data": {
      "text/html": [
       "<div>\n",
       "<style scoped>\n",
       "    .dataframe tbody tr th:only-of-type {\n",
       "        vertical-align: middle;\n",
       "    }\n",
       "\n",
       "    .dataframe tbody tr th {\n",
       "        vertical-align: top;\n",
       "    }\n",
       "\n",
       "    .dataframe thead th {\n",
       "        text-align: right;\n",
       "    }\n",
       "</style>\n",
       "<table border=\"1\" class=\"dataframe\">\n",
       "  <thead>\n",
       "    <tr style=\"text-align: right;\">\n",
       "      <th></th>\n",
       "      <th>OXO-5FI635C Augusta</th>\n",
       "      <th>OXO-5FI661A Augusta</th>\n",
       "      <th>OXO-5FI696 Augusta</th>\n",
       "      <th>OXO-5FIC132 Augusta</th>\n",
       "      <th>OXO-5FIC600 Augusta</th>\n",
       "      <th>OXO-5FIC601 Augusta</th>\n",
       "      <th>OXO-5FIC602 Augusta</th>\n",
       "      <th>OXO-5FIC603 Augusta</th>\n",
       "      <th>OXO-5FIC606A Augusta</th>\n",
       "      <th>OXO-5FIC606C Augusta</th>\n",
       "      <th>...</th>\n",
       "      <th>OXO-5TIC604 Augusta</th>\n",
       "      <th>OXO-5TIC605 Augusta</th>\n",
       "      <th>OXO-5TIC606 Augusta</th>\n",
       "      <th>OXO-5TIC607 Augusta</th>\n",
       "      <th>OXO-5TIC659 Augusta</th>\n",
       "      <th>OXO-_5FI658A Augusta</th>\n",
       "      <th>OXO-_5FI659A Augusta</th>\n",
       "      <th>OXO-_5FI660A Augusta</th>\n",
       "      <th>OXO-_5FI662A Augusta</th>\n",
       "      <th>OXO-5FI696 Augusta_time_lag_1</th>\n",
       "    </tr>\n",
       "    <tr>\n",
       "      <th>Date</th>\n",
       "      <th></th>\n",
       "      <th></th>\n",
       "      <th></th>\n",
       "      <th></th>\n",
       "      <th></th>\n",
       "      <th></th>\n",
       "      <th></th>\n",
       "      <th></th>\n",
       "      <th></th>\n",
       "      <th></th>\n",
       "      <th></th>\n",
       "      <th></th>\n",
       "      <th></th>\n",
       "      <th></th>\n",
       "      <th></th>\n",
       "      <th></th>\n",
       "      <th></th>\n",
       "      <th></th>\n",
       "      <th></th>\n",
       "      <th></th>\n",
       "      <th></th>\n",
       "    </tr>\n",
       "  </thead>\n",
       "  <tbody>\n",
       "    <tr>\n",
       "      <th>2019-11-01 00:00:00</th>\n",
       "      <td>5859.125648</td>\n",
       "      <td>23345.857389</td>\n",
       "      <td>9830.200195</td>\n",
       "      <td>4.450549</td>\n",
       "      <td>2076.174093</td>\n",
       "      <td>67.208298</td>\n",
       "      <td>5069.174366</td>\n",
       "      <td>0.0</td>\n",
       "      <td>NaN</td>\n",
       "      <td>1.202029</td>\n",
       "      <td>...</td>\n",
       "      <td>130.578919</td>\n",
       "      <td>133.007764</td>\n",
       "      <td>134.032267</td>\n",
       "      <td>130.899539</td>\n",
       "      <td>298.029910</td>\n",
       "      <td>21719.630615</td>\n",
       "      <td>22870.976318</td>\n",
       "      <td>22026.824772</td>\n",
       "      <td>22036.315560</td>\n",
       "      <td>NaN</td>\n",
       "    </tr>\n",
       "    <tr>\n",
       "      <th>2019-11-01 01:00:00</th>\n",
       "      <td>5950.173837</td>\n",
       "      <td>23346.553467</td>\n",
       "      <td>9384.632992</td>\n",
       "      <td>4.410112</td>\n",
       "      <td>2070.199284</td>\n",
       "      <td>67.204392</td>\n",
       "      <td>5068.014148</td>\n",
       "      <td>0.0</td>\n",
       "      <td>NaN</td>\n",
       "      <td>1.158160</td>\n",
       "      <td>...</td>\n",
       "      <td>130.640505</td>\n",
       "      <td>132.966600</td>\n",
       "      <td>134.035076</td>\n",
       "      <td>130.849780</td>\n",
       "      <td>298.084330</td>\n",
       "      <td>21727.622575</td>\n",
       "      <td>22879.205452</td>\n",
       "      <td>22042.948193</td>\n",
       "      <td>22056.644971</td>\n",
       "      <td>9830.200195</td>\n",
       "    </tr>\n",
       "    <tr>\n",
       "      <th>2019-11-01 02:00:00</th>\n",
       "      <td>6379.102250</td>\n",
       "      <td>23430.336545</td>\n",
       "      <td>9233.277262</td>\n",
       "      <td>4.285714</td>\n",
       "      <td>2067.933828</td>\n",
       "      <td>67.031974</td>\n",
       "      <td>5069.603650</td>\n",
       "      <td>0.0</td>\n",
       "      <td>NaN</td>\n",
       "      <td>1.070420</td>\n",
       "      <td>...</td>\n",
       "      <td>130.675602</td>\n",
       "      <td>133.035094</td>\n",
       "      <td>134.001994</td>\n",
       "      <td>130.743083</td>\n",
       "      <td>297.930878</td>\n",
       "      <td>21836.766659</td>\n",
       "      <td>22970.057215</td>\n",
       "      <td>22156.774258</td>\n",
       "      <td>22105.218684</td>\n",
       "      <td>9384.632992</td>\n",
       "    </tr>\n",
       "    <tr>\n",
       "      <th>2019-11-01 03:00:00</th>\n",
       "      <td>6337.343084</td>\n",
       "      <td>23384.694743</td>\n",
       "      <td>9223.139014</td>\n",
       "      <td>4.775281</td>\n",
       "      <td>2062.488529</td>\n",
       "      <td>66.808810</td>\n",
       "      <td>5061.608939</td>\n",
       "      <td>0.0</td>\n",
       "      <td>NaN</td>\n",
       "      <td>1.044098</td>\n",
       "      <td>...</td>\n",
       "      <td>130.613462</td>\n",
       "      <td>133.000552</td>\n",
       "      <td>133.979115</td>\n",
       "      <td>130.760757</td>\n",
       "      <td>298.052583</td>\n",
       "      <td>21783.450505</td>\n",
       "      <td>22920.952018</td>\n",
       "      <td>22088.356950</td>\n",
       "      <td>22064.178402</td>\n",
       "      <td>9233.277262</td>\n",
       "    </tr>\n",
       "    <tr>\n",
       "      <th>2019-11-01 04:00:00</th>\n",
       "      <td>6183.590302</td>\n",
       "      <td>23357.085677</td>\n",
       "      <td>9104.168620</td>\n",
       "      <td>4.388889</td>\n",
       "      <td>2055.162223</td>\n",
       "      <td>66.354369</td>\n",
       "      <td>5004.132636</td>\n",
       "      <td>0.0</td>\n",
       "      <td>NaN</td>\n",
       "      <td>1.044098</td>\n",
       "      <td>...</td>\n",
       "      <td>130.614549</td>\n",
       "      <td>133.004748</td>\n",
       "      <td>134.000492</td>\n",
       "      <td>130.814450</td>\n",
       "      <td>298.039928</td>\n",
       "      <td>21748.715137</td>\n",
       "      <td>22895.312126</td>\n",
       "      <td>22073.622298</td>\n",
       "      <td>22053.480892</td>\n",
       "      <td>9223.139014</td>\n",
       "    </tr>\n",
       "  </tbody>\n",
       "</table>\n",
       "<p>5 rows × 60 columns</p>\n",
       "</div>"
      ],
      "text/plain": [
       "                     OXO-5FI635C Augusta  OXO-5FI661A Augusta   \n",
       "Date                                                            \n",
       "2019-11-01 00:00:00          5859.125648         23345.857389  \\\n",
       "2019-11-01 01:00:00          5950.173837         23346.553467   \n",
       "2019-11-01 02:00:00          6379.102250         23430.336545   \n",
       "2019-11-01 03:00:00          6337.343084         23384.694743   \n",
       "2019-11-01 04:00:00          6183.590302         23357.085677   \n",
       "\n",
       "                     OXO-5FI696 Augusta  OXO-5FIC132 Augusta   \n",
       "Date                                                           \n",
       "2019-11-01 00:00:00         9830.200195             4.450549  \\\n",
       "2019-11-01 01:00:00         9384.632992             4.410112   \n",
       "2019-11-01 02:00:00         9233.277262             4.285714   \n",
       "2019-11-01 03:00:00         9223.139014             4.775281   \n",
       "2019-11-01 04:00:00         9104.168620             4.388889   \n",
       "\n",
       "                     OXO-5FIC600 Augusta  OXO-5FIC601 Augusta   \n",
       "Date                                                            \n",
       "2019-11-01 00:00:00          2076.174093            67.208298  \\\n",
       "2019-11-01 01:00:00          2070.199284            67.204392   \n",
       "2019-11-01 02:00:00          2067.933828            67.031974   \n",
       "2019-11-01 03:00:00          2062.488529            66.808810   \n",
       "2019-11-01 04:00:00          2055.162223            66.354369   \n",
       "\n",
       "                     OXO-5FIC602 Augusta  OXO-5FIC603 Augusta   \n",
       "Date                                                            \n",
       "2019-11-01 00:00:00          5069.174366                  0.0  \\\n",
       "2019-11-01 01:00:00          5068.014148                  0.0   \n",
       "2019-11-01 02:00:00          5069.603650                  0.0   \n",
       "2019-11-01 03:00:00          5061.608939                  0.0   \n",
       "2019-11-01 04:00:00          5004.132636                  0.0   \n",
       "\n",
       "                     OXO-5FIC606A Augusta  OXO-5FIC606C Augusta  ...   \n",
       "Date                                                             ...   \n",
       "2019-11-01 00:00:00                   NaN              1.202029  ...  \\\n",
       "2019-11-01 01:00:00                   NaN              1.158160  ...   \n",
       "2019-11-01 02:00:00                   NaN              1.070420  ...   \n",
       "2019-11-01 03:00:00                   NaN              1.044098  ...   \n",
       "2019-11-01 04:00:00                   NaN              1.044098  ...   \n",
       "\n",
       "                     OXO-5TIC604 Augusta  OXO-5TIC605 Augusta   \n",
       "Date                                                            \n",
       "2019-11-01 00:00:00           130.578919           133.007764  \\\n",
       "2019-11-01 01:00:00           130.640505           132.966600   \n",
       "2019-11-01 02:00:00           130.675602           133.035094   \n",
       "2019-11-01 03:00:00           130.613462           133.000552   \n",
       "2019-11-01 04:00:00           130.614549           133.004748   \n",
       "\n",
       "                     OXO-5TIC606 Augusta  OXO-5TIC607 Augusta   \n",
       "Date                                                            \n",
       "2019-11-01 00:00:00           134.032267           130.899539  \\\n",
       "2019-11-01 01:00:00           134.035076           130.849780   \n",
       "2019-11-01 02:00:00           134.001994           130.743083   \n",
       "2019-11-01 03:00:00           133.979115           130.760757   \n",
       "2019-11-01 04:00:00           134.000492           130.814450   \n",
       "\n",
       "                     OXO-5TIC659 Augusta  OXO-_5FI658A Augusta   \n",
       "Date                                                             \n",
       "2019-11-01 00:00:00           298.029910          21719.630615  \\\n",
       "2019-11-01 01:00:00           298.084330          21727.622575   \n",
       "2019-11-01 02:00:00           297.930878          21836.766659   \n",
       "2019-11-01 03:00:00           298.052583          21783.450505   \n",
       "2019-11-01 04:00:00           298.039928          21748.715137   \n",
       "\n",
       "                     OXO-_5FI659A Augusta  OXO-_5FI660A Augusta   \n",
       "Date                                                              \n",
       "2019-11-01 00:00:00          22870.976318          22026.824772  \\\n",
       "2019-11-01 01:00:00          22879.205452          22042.948193   \n",
       "2019-11-01 02:00:00          22970.057215          22156.774258   \n",
       "2019-11-01 03:00:00          22920.952018          22088.356950   \n",
       "2019-11-01 04:00:00          22895.312126          22073.622298   \n",
       "\n",
       "                     OXO-_5FI662A Augusta  OXO-5FI696 Augusta_time_lag_1  \n",
       "Date                                                                      \n",
       "2019-11-01 00:00:00          22036.315560                            NaN  \n",
       "2019-11-01 01:00:00          22056.644971                    9830.200195  \n",
       "2019-11-01 02:00:00          22105.218684                    9384.632992  \n",
       "2019-11-01 03:00:00          22064.178402                    9233.277262  \n",
       "2019-11-01 04:00:00          22053.480892                    9223.139014  \n",
       "\n",
       "[5 rows x 60 columns]"
      ]
     },
     "execution_count": 26,
     "metadata": {},
     "output_type": "execute_result"
    }
   ],
   "source": [
    "fe = FeatureEngineering(df)\n",
    "df = fe.add_time_lag_features(df, col_list=[cfg.target_var.sasol], max_lag=1)\n",
    "df.head()"
   ]
  },
  {
   "cell_type": "code",
   "execution_count": 27,
   "metadata": {},
   "outputs": [
    {
     "data": {
      "text/html": [
       "<div>\n",
       "<style scoped>\n",
       "    .dataframe tbody tr th:only-of-type {\n",
       "        vertical-align: middle;\n",
       "    }\n",
       "\n",
       "    .dataframe tbody tr th {\n",
       "        vertical-align: top;\n",
       "    }\n",
       "\n",
       "    .dataframe thead th {\n",
       "        text-align: right;\n",
       "    }\n",
       "</style>\n",
       "<table border=\"1\" class=\"dataframe\">\n",
       "  <thead>\n",
       "    <tr style=\"text-align: right;\">\n",
       "      <th></th>\n",
       "      <th>OXO-5FI635C Augusta</th>\n",
       "      <th>OXO-5FI661A Augusta</th>\n",
       "      <th>OXO-5FI696 Augusta</th>\n",
       "      <th>OXO-5FIC132 Augusta</th>\n",
       "      <th>OXO-5FIC600 Augusta</th>\n",
       "      <th>OXO-5FIC601 Augusta</th>\n",
       "      <th>OXO-5FIC602 Augusta</th>\n",
       "      <th>OXO-5FIC603 Augusta</th>\n",
       "      <th>OXO-5FIC606A Augusta</th>\n",
       "      <th>OXO-5FIC606C Augusta</th>\n",
       "      <th>...</th>\n",
       "      <th>OXO-_5FI659A Augusta</th>\n",
       "      <th>OXO-_5FI660A Augusta</th>\n",
       "      <th>OXO-_5FI662A Augusta</th>\n",
       "      <th>OXO-5FI696 Augusta_time_lag_1</th>\n",
       "      <th>year</th>\n",
       "      <th>month</th>\n",
       "      <th>day</th>\n",
       "      <th>day_of_week</th>\n",
       "      <th>day_of_year</th>\n",
       "      <th>week_of_year</th>\n",
       "    </tr>\n",
       "    <tr>\n",
       "      <th>Date</th>\n",
       "      <th></th>\n",
       "      <th></th>\n",
       "      <th></th>\n",
       "      <th></th>\n",
       "      <th></th>\n",
       "      <th></th>\n",
       "      <th></th>\n",
       "      <th></th>\n",
       "      <th></th>\n",
       "      <th></th>\n",
       "      <th></th>\n",
       "      <th></th>\n",
       "      <th></th>\n",
       "      <th></th>\n",
       "      <th></th>\n",
       "      <th></th>\n",
       "      <th></th>\n",
       "      <th></th>\n",
       "      <th></th>\n",
       "      <th></th>\n",
       "      <th></th>\n",
       "    </tr>\n",
       "  </thead>\n",
       "  <tbody>\n",
       "    <tr>\n",
       "      <th>2019-11-01 00:00:00</th>\n",
       "      <td>5859.125648</td>\n",
       "      <td>23345.857389</td>\n",
       "      <td>9830.200195</td>\n",
       "      <td>4.450549</td>\n",
       "      <td>2076.174093</td>\n",
       "      <td>67.208298</td>\n",
       "      <td>5069.174366</td>\n",
       "      <td>0.0</td>\n",
       "      <td>NaN</td>\n",
       "      <td>1.202029</td>\n",
       "      <td>...</td>\n",
       "      <td>22870.976318</td>\n",
       "      <td>22026.824772</td>\n",
       "      <td>22036.315560</td>\n",
       "      <td>NaN</td>\n",
       "      <td>2019</td>\n",
       "      <td>11</td>\n",
       "      <td>1</td>\n",
       "      <td>4</td>\n",
       "      <td>305</td>\n",
       "      <td>44</td>\n",
       "    </tr>\n",
       "    <tr>\n",
       "      <th>2019-11-01 01:00:00</th>\n",
       "      <td>5950.173837</td>\n",
       "      <td>23346.553467</td>\n",
       "      <td>9384.632992</td>\n",
       "      <td>4.410112</td>\n",
       "      <td>2070.199284</td>\n",
       "      <td>67.204392</td>\n",
       "      <td>5068.014148</td>\n",
       "      <td>0.0</td>\n",
       "      <td>NaN</td>\n",
       "      <td>1.158160</td>\n",
       "      <td>...</td>\n",
       "      <td>22879.205452</td>\n",
       "      <td>22042.948193</td>\n",
       "      <td>22056.644971</td>\n",
       "      <td>9830.200195</td>\n",
       "      <td>2019</td>\n",
       "      <td>11</td>\n",
       "      <td>1</td>\n",
       "      <td>4</td>\n",
       "      <td>305</td>\n",
       "      <td>44</td>\n",
       "    </tr>\n",
       "    <tr>\n",
       "      <th>2019-11-01 02:00:00</th>\n",
       "      <td>6379.102250</td>\n",
       "      <td>23430.336545</td>\n",
       "      <td>9233.277262</td>\n",
       "      <td>4.285714</td>\n",
       "      <td>2067.933828</td>\n",
       "      <td>67.031974</td>\n",
       "      <td>5069.603650</td>\n",
       "      <td>0.0</td>\n",
       "      <td>NaN</td>\n",
       "      <td>1.070420</td>\n",
       "      <td>...</td>\n",
       "      <td>22970.057215</td>\n",
       "      <td>22156.774258</td>\n",
       "      <td>22105.218684</td>\n",
       "      <td>9384.632992</td>\n",
       "      <td>2019</td>\n",
       "      <td>11</td>\n",
       "      <td>1</td>\n",
       "      <td>4</td>\n",
       "      <td>305</td>\n",
       "      <td>44</td>\n",
       "    </tr>\n",
       "    <tr>\n",
       "      <th>2019-11-01 03:00:00</th>\n",
       "      <td>6337.343084</td>\n",
       "      <td>23384.694743</td>\n",
       "      <td>9223.139014</td>\n",
       "      <td>4.775281</td>\n",
       "      <td>2062.488529</td>\n",
       "      <td>66.808810</td>\n",
       "      <td>5061.608939</td>\n",
       "      <td>0.0</td>\n",
       "      <td>NaN</td>\n",
       "      <td>1.044098</td>\n",
       "      <td>...</td>\n",
       "      <td>22920.952018</td>\n",
       "      <td>22088.356950</td>\n",
       "      <td>22064.178402</td>\n",
       "      <td>9233.277262</td>\n",
       "      <td>2019</td>\n",
       "      <td>11</td>\n",
       "      <td>1</td>\n",
       "      <td>4</td>\n",
       "      <td>305</td>\n",
       "      <td>44</td>\n",
       "    </tr>\n",
       "    <tr>\n",
       "      <th>2019-11-01 04:00:00</th>\n",
       "      <td>6183.590302</td>\n",
       "      <td>23357.085677</td>\n",
       "      <td>9104.168620</td>\n",
       "      <td>4.388889</td>\n",
       "      <td>2055.162223</td>\n",
       "      <td>66.354369</td>\n",
       "      <td>5004.132636</td>\n",
       "      <td>0.0</td>\n",
       "      <td>NaN</td>\n",
       "      <td>1.044098</td>\n",
       "      <td>...</td>\n",
       "      <td>22895.312126</td>\n",
       "      <td>22073.622298</td>\n",
       "      <td>22053.480892</td>\n",
       "      <td>9223.139014</td>\n",
       "      <td>2019</td>\n",
       "      <td>11</td>\n",
       "      <td>1</td>\n",
       "      <td>4</td>\n",
       "      <td>305</td>\n",
       "      <td>44</td>\n",
       "    </tr>\n",
       "  </tbody>\n",
       "</table>\n",
       "<p>5 rows × 66 columns</p>\n",
       "</div>"
      ],
      "text/plain": [
       "                     OXO-5FI635C Augusta  OXO-5FI661A Augusta   \n",
       "Date                                                            \n",
       "2019-11-01 00:00:00          5859.125648         23345.857389  \\\n",
       "2019-11-01 01:00:00          5950.173837         23346.553467   \n",
       "2019-11-01 02:00:00          6379.102250         23430.336545   \n",
       "2019-11-01 03:00:00          6337.343084         23384.694743   \n",
       "2019-11-01 04:00:00          6183.590302         23357.085677   \n",
       "\n",
       "                     OXO-5FI696 Augusta  OXO-5FIC132 Augusta   \n",
       "Date                                                           \n",
       "2019-11-01 00:00:00         9830.200195             4.450549  \\\n",
       "2019-11-01 01:00:00         9384.632992             4.410112   \n",
       "2019-11-01 02:00:00         9233.277262             4.285714   \n",
       "2019-11-01 03:00:00         9223.139014             4.775281   \n",
       "2019-11-01 04:00:00         9104.168620             4.388889   \n",
       "\n",
       "                     OXO-5FIC600 Augusta  OXO-5FIC601 Augusta   \n",
       "Date                                                            \n",
       "2019-11-01 00:00:00          2076.174093            67.208298  \\\n",
       "2019-11-01 01:00:00          2070.199284            67.204392   \n",
       "2019-11-01 02:00:00          2067.933828            67.031974   \n",
       "2019-11-01 03:00:00          2062.488529            66.808810   \n",
       "2019-11-01 04:00:00          2055.162223            66.354369   \n",
       "\n",
       "                     OXO-5FIC602 Augusta  OXO-5FIC603 Augusta   \n",
       "Date                                                            \n",
       "2019-11-01 00:00:00          5069.174366                  0.0  \\\n",
       "2019-11-01 01:00:00          5068.014148                  0.0   \n",
       "2019-11-01 02:00:00          5069.603650                  0.0   \n",
       "2019-11-01 03:00:00          5061.608939                  0.0   \n",
       "2019-11-01 04:00:00          5004.132636                  0.0   \n",
       "\n",
       "                     OXO-5FIC606A Augusta  OXO-5FIC606C Augusta  ...   \n",
       "Date                                                             ...   \n",
       "2019-11-01 00:00:00                   NaN              1.202029  ...  \\\n",
       "2019-11-01 01:00:00                   NaN              1.158160  ...   \n",
       "2019-11-01 02:00:00                   NaN              1.070420  ...   \n",
       "2019-11-01 03:00:00                   NaN              1.044098  ...   \n",
       "2019-11-01 04:00:00                   NaN              1.044098  ...   \n",
       "\n",
       "                     OXO-_5FI659A Augusta  OXO-_5FI660A Augusta   \n",
       "Date                                                              \n",
       "2019-11-01 00:00:00          22870.976318          22026.824772  \\\n",
       "2019-11-01 01:00:00          22879.205452          22042.948193   \n",
       "2019-11-01 02:00:00          22970.057215          22156.774258   \n",
       "2019-11-01 03:00:00          22920.952018          22088.356950   \n",
       "2019-11-01 04:00:00          22895.312126          22073.622298   \n",
       "\n",
       "                     OXO-_5FI662A Augusta  OXO-5FI696 Augusta_time_lag_1   \n",
       "Date                                                                       \n",
       "2019-11-01 00:00:00          22036.315560                            NaN  \\\n",
       "2019-11-01 01:00:00          22056.644971                    9830.200195   \n",
       "2019-11-01 02:00:00          22105.218684                    9384.632992   \n",
       "2019-11-01 03:00:00          22064.178402                    9233.277262   \n",
       "2019-11-01 04:00:00          22053.480892                    9223.139014   \n",
       "\n",
       "                     year  month  day  day_of_week  day_of_year  week_of_year  \n",
       "Date                                                                           \n",
       "2019-11-01 00:00:00  2019     11    1            4          305            44  \n",
       "2019-11-01 01:00:00  2019     11    1            4          305            44  \n",
       "2019-11-01 02:00:00  2019     11    1            4          305            44  \n",
       "2019-11-01 03:00:00  2019     11    1            4          305            44  \n",
       "2019-11-01 04:00:00  2019     11    1            4          305            44  \n",
       "\n",
       "[5 rows x 66 columns]"
      ]
     },
     "execution_count": 27,
     "metadata": {},
     "output_type": "execute_result"
    }
   ],
   "source": [
    "df = fe.add_time_features(df)\n",
    "df.head()"
   ]
  },
  {
   "cell_type": "code",
   "execution_count": 28,
   "metadata": {},
   "outputs": [
    {
     "data": {
      "text/html": [
       "<div>\n",
       "<style scoped>\n",
       "    .dataframe tbody tr th:only-of-type {\n",
       "        vertical-align: middle;\n",
       "    }\n",
       "\n",
       "    .dataframe tbody tr th {\n",
       "        vertical-align: top;\n",
       "    }\n",
       "\n",
       "    .dataframe thead th {\n",
       "        text-align: right;\n",
       "    }\n",
       "</style>\n",
       "<table border=\"1\" class=\"dataframe\">\n",
       "  <thead>\n",
       "    <tr style=\"text-align: right;\">\n",
       "      <th></th>\n",
       "      <th>80GAF30CP001.XQ01 Ras Al-Khair</th>\n",
       "      <th>80GAF30CP002.XQ01 Ras Al-Khair</th>\n",
       "      <th>80GAF30CQ001.XQ01 Ras Al-Khair</th>\n",
       "      <th>80GAF30CQ002.XQ01 Ras Al-Khair</th>\n",
       "      <th>80GAF30CQ003.XQ01 Ras Al-Khair</th>\n",
       "      <th>80GAF30CQ004.XQ01 Ras Al-Khair</th>\n",
       "      <th>80GAF30CQ005.XQ01 Ras Al-Khair</th>\n",
       "      <th>80GAF30CQ006.XQ01 Ras Al-Khair</th>\n",
       "      <th>80GAF30CT001.XQ01 Ras Al-Khair</th>\n",
       "      <th>80GAF30CT002.XQ01 Ras Al-Khair</th>\n",
       "      <th>...</th>\n",
       "      <th>82GEV00CP001.XV03 Ras Al-Khair</th>\n",
       "      <th>82GEV00CQ001.XQ01 Ras Al-Khair</th>\n",
       "      <th>82GEV00CT001.XQ01 Ras Al-Khair</th>\n",
       "      <th>82GEV05CQ001.XQ01 Ras Al-Khair</th>\n",
       "      <th>82GEV05CQ002.XQ01 Ras Al-Khair</th>\n",
       "      <th>82GEV05CQ003.XQ01 Ras Al-Khair</th>\n",
       "      <th>82GEV05CQ005.XQ01 Ras Al-Khair</th>\n",
       "      <th>82GEV05CQ006.XQ01 Ras Al-Khair</th>\n",
       "      <th>82GEV05CQ007.XQ01 Ras Al-Khair</th>\n",
       "      <th>82GEV05CQ008.XQ01 Ras Al-Khair</th>\n",
       "    </tr>\n",
       "    <tr>\n",
       "      <th>Date</th>\n",
       "      <th></th>\n",
       "      <th></th>\n",
       "      <th></th>\n",
       "      <th></th>\n",
       "      <th></th>\n",
       "      <th></th>\n",
       "      <th></th>\n",
       "      <th></th>\n",
       "      <th></th>\n",
       "      <th></th>\n",
       "      <th></th>\n",
       "      <th></th>\n",
       "      <th></th>\n",
       "      <th></th>\n",
       "      <th></th>\n",
       "      <th></th>\n",
       "      <th></th>\n",
       "      <th></th>\n",
       "      <th></th>\n",
       "      <th></th>\n",
       "      <th></th>\n",
       "    </tr>\n",
       "  </thead>\n",
       "  <tbody>\n",
       "    <tr>\n",
       "      <th>2020-01-01 00:00:00</th>\n",
       "      <td>2.022105</td>\n",
       "      <td>1.955963</td>\n",
       "      <td>0.004200</td>\n",
       "      <td>-18.89949</td>\n",
       "      <td>62.556573</td>\n",
       "      <td>1.269097</td>\n",
       "      <td>7.982784</td>\n",
       "      <td>0.018975</td>\n",
       "      <td>19.333120</td>\n",
       "      <td>19.226244</td>\n",
       "      <td>...</td>\n",
       "      <td>0.593945</td>\n",
       "      <td>1.007940</td>\n",
       "      <td>26.463205</td>\n",
       "      <td>0.001075</td>\n",
       "      <td>0.072269</td>\n",
       "      <td>521.976229</td>\n",
       "      <td>-0.001308</td>\n",
       "      <td>60522.442833</td>\n",
       "      <td>6.340481</td>\n",
       "      <td>3.564636</td>\n",
       "    </tr>\n",
       "    <tr>\n",
       "      <th>2020-01-01 01:00:00</th>\n",
       "      <td>2.032036</td>\n",
       "      <td>1.967390</td>\n",
       "      <td>0.004115</td>\n",
       "      <td>NaN</td>\n",
       "      <td>62.628020</td>\n",
       "      <td>1.200446</td>\n",
       "      <td>7.982205</td>\n",
       "      <td>0.019771</td>\n",
       "      <td>19.275465</td>\n",
       "      <td>19.164369</td>\n",
       "      <td>...</td>\n",
       "      <td>0.591924</td>\n",
       "      <td>1.007929</td>\n",
       "      <td>26.403744</td>\n",
       "      <td>NaN</td>\n",
       "      <td>0.074882</td>\n",
       "      <td>272.794585</td>\n",
       "      <td>-0.001683</td>\n",
       "      <td>60412.080857</td>\n",
       "      <td>6.333336</td>\n",
       "      <td>NaN</td>\n",
       "    </tr>\n",
       "    <tr>\n",
       "      <th>2020-01-01 02:00:00</th>\n",
       "      <td>2.030507</td>\n",
       "      <td>1.966513</td>\n",
       "      <td>0.004243</td>\n",
       "      <td>NaN</td>\n",
       "      <td>62.461891</td>\n",
       "      <td>1.193488</td>\n",
       "      <td>7.977813</td>\n",
       "      <td>NaN</td>\n",
       "      <td>19.239994</td>\n",
       "      <td>19.134638</td>\n",
       "      <td>...</td>\n",
       "      <td>0.589208</td>\n",
       "      <td>1.007966</td>\n",
       "      <td>26.313748</td>\n",
       "      <td>NaN</td>\n",
       "      <td>0.095588</td>\n",
       "      <td>213.760548</td>\n",
       "      <td>-0.001188</td>\n",
       "      <td>60237.838714</td>\n",
       "      <td>6.336653</td>\n",
       "      <td>NaN</td>\n",
       "    </tr>\n",
       "    <tr>\n",
       "      <th>2020-01-01 03:00:00</th>\n",
       "      <td>2.029290</td>\n",
       "      <td>1.964664</td>\n",
       "      <td>0.004167</td>\n",
       "      <td>NaN</td>\n",
       "      <td>62.615500</td>\n",
       "      <td>1.431394</td>\n",
       "      <td>7.973681</td>\n",
       "      <td>NaN</td>\n",
       "      <td>19.237494</td>\n",
       "      <td>19.132496</td>\n",
       "      <td>...</td>\n",
       "      <td>0.587167</td>\n",
       "      <td>1.007972</td>\n",
       "      <td>26.279994</td>\n",
       "      <td>NaN</td>\n",
       "      <td>0.072197</td>\n",
       "      <td>189.206165</td>\n",
       "      <td>-0.001698</td>\n",
       "      <td>60625.976313</td>\n",
       "      <td>6.335094</td>\n",
       "      <td>NaN</td>\n",
       "    </tr>\n",
       "    <tr>\n",
       "      <th>2020-01-01 04:00:00</th>\n",
       "      <td>2.015641</td>\n",
       "      <td>1.952224</td>\n",
       "      <td>0.004275</td>\n",
       "      <td>NaN</td>\n",
       "      <td>62.592892</td>\n",
       "      <td>1.431766</td>\n",
       "      <td>7.968629</td>\n",
       "      <td>NaN</td>\n",
       "      <td>19.227851</td>\n",
       "      <td>19.128210</td>\n",
       "      <td>...</td>\n",
       "      <td>0.593460</td>\n",
       "      <td>1.007963</td>\n",
       "      <td>26.330622</td>\n",
       "      <td>NaN</td>\n",
       "      <td>0.072127</td>\n",
       "      <td>172.814084</td>\n",
       "      <td>-0.001200</td>\n",
       "      <td>60593.791267</td>\n",
       "      <td>6.331321</td>\n",
       "      <td>NaN</td>\n",
       "    </tr>\n",
       "  </tbody>\n",
       "</table>\n",
       "<p>5 rows × 129 columns</p>\n",
       "</div>"
      ],
      "text/plain": [
       "                     80GAF30CP001.XQ01 Ras Al-Khair   \n",
       "Date                                                  \n",
       "2020-01-01 00:00:00                        2.022105  \\\n",
       "2020-01-01 01:00:00                        2.032036   \n",
       "2020-01-01 02:00:00                        2.030507   \n",
       "2020-01-01 03:00:00                        2.029290   \n",
       "2020-01-01 04:00:00                        2.015641   \n",
       "\n",
       "                     80GAF30CP002.XQ01 Ras Al-Khair   \n",
       "Date                                                  \n",
       "2020-01-01 00:00:00                        1.955963  \\\n",
       "2020-01-01 01:00:00                        1.967390   \n",
       "2020-01-01 02:00:00                        1.966513   \n",
       "2020-01-01 03:00:00                        1.964664   \n",
       "2020-01-01 04:00:00                        1.952224   \n",
       "\n",
       "                     80GAF30CQ001.XQ01 Ras Al-Khair   \n",
       "Date                                                  \n",
       "2020-01-01 00:00:00                        0.004200  \\\n",
       "2020-01-01 01:00:00                        0.004115   \n",
       "2020-01-01 02:00:00                        0.004243   \n",
       "2020-01-01 03:00:00                        0.004167   \n",
       "2020-01-01 04:00:00                        0.004275   \n",
       "\n",
       "                     80GAF30CQ002.XQ01 Ras Al-Khair   \n",
       "Date                                                  \n",
       "2020-01-01 00:00:00                       -18.89949  \\\n",
       "2020-01-01 01:00:00                             NaN   \n",
       "2020-01-01 02:00:00                             NaN   \n",
       "2020-01-01 03:00:00                             NaN   \n",
       "2020-01-01 04:00:00                             NaN   \n",
       "\n",
       "                     80GAF30CQ003.XQ01 Ras Al-Khair   \n",
       "Date                                                  \n",
       "2020-01-01 00:00:00                       62.556573  \\\n",
       "2020-01-01 01:00:00                       62.628020   \n",
       "2020-01-01 02:00:00                       62.461891   \n",
       "2020-01-01 03:00:00                       62.615500   \n",
       "2020-01-01 04:00:00                       62.592892   \n",
       "\n",
       "                     80GAF30CQ004.XQ01 Ras Al-Khair   \n",
       "Date                                                  \n",
       "2020-01-01 00:00:00                        1.269097  \\\n",
       "2020-01-01 01:00:00                        1.200446   \n",
       "2020-01-01 02:00:00                        1.193488   \n",
       "2020-01-01 03:00:00                        1.431394   \n",
       "2020-01-01 04:00:00                        1.431766   \n",
       "\n",
       "                     80GAF30CQ005.XQ01 Ras Al-Khair   \n",
       "Date                                                  \n",
       "2020-01-01 00:00:00                        7.982784  \\\n",
       "2020-01-01 01:00:00                        7.982205   \n",
       "2020-01-01 02:00:00                        7.977813   \n",
       "2020-01-01 03:00:00                        7.973681   \n",
       "2020-01-01 04:00:00                        7.968629   \n",
       "\n",
       "                     80GAF30CQ006.XQ01 Ras Al-Khair   \n",
       "Date                                                  \n",
       "2020-01-01 00:00:00                        0.018975  \\\n",
       "2020-01-01 01:00:00                        0.019771   \n",
       "2020-01-01 02:00:00                             NaN   \n",
       "2020-01-01 03:00:00                             NaN   \n",
       "2020-01-01 04:00:00                             NaN   \n",
       "\n",
       "                     80GAF30CT001.XQ01 Ras Al-Khair   \n",
       "Date                                                  \n",
       "2020-01-01 00:00:00                       19.333120  \\\n",
       "2020-01-01 01:00:00                       19.275465   \n",
       "2020-01-01 02:00:00                       19.239994   \n",
       "2020-01-01 03:00:00                       19.237494   \n",
       "2020-01-01 04:00:00                       19.227851   \n",
       "\n",
       "                     80GAF30CT002.XQ01 Ras Al-Khair  ...   \n",
       "Date                                                 ...   \n",
       "2020-01-01 00:00:00                       19.226244  ...  \\\n",
       "2020-01-01 01:00:00                       19.164369  ...   \n",
       "2020-01-01 02:00:00                       19.134638  ...   \n",
       "2020-01-01 03:00:00                       19.132496  ...   \n",
       "2020-01-01 04:00:00                       19.128210  ...   \n",
       "\n",
       "                     82GEV00CP001.XV03 Ras Al-Khair   \n",
       "Date                                                  \n",
       "2020-01-01 00:00:00                        0.593945  \\\n",
       "2020-01-01 01:00:00                        0.591924   \n",
       "2020-01-01 02:00:00                        0.589208   \n",
       "2020-01-01 03:00:00                        0.587167   \n",
       "2020-01-01 04:00:00                        0.593460   \n",
       "\n",
       "                     82GEV00CQ001.XQ01 Ras Al-Khair   \n",
       "Date                                                  \n",
       "2020-01-01 00:00:00                        1.007940  \\\n",
       "2020-01-01 01:00:00                        1.007929   \n",
       "2020-01-01 02:00:00                        1.007966   \n",
       "2020-01-01 03:00:00                        1.007972   \n",
       "2020-01-01 04:00:00                        1.007963   \n",
       "\n",
       "                     82GEV00CT001.XQ01 Ras Al-Khair   \n",
       "Date                                                  \n",
       "2020-01-01 00:00:00                       26.463205  \\\n",
       "2020-01-01 01:00:00                       26.403744   \n",
       "2020-01-01 02:00:00                       26.313748   \n",
       "2020-01-01 03:00:00                       26.279994   \n",
       "2020-01-01 04:00:00                       26.330622   \n",
       "\n",
       "                     82GEV05CQ001.XQ01 Ras Al-Khair   \n",
       "Date                                                  \n",
       "2020-01-01 00:00:00                        0.001075  \\\n",
       "2020-01-01 01:00:00                             NaN   \n",
       "2020-01-01 02:00:00                             NaN   \n",
       "2020-01-01 03:00:00                             NaN   \n",
       "2020-01-01 04:00:00                             NaN   \n",
       "\n",
       "                     82GEV05CQ002.XQ01 Ras Al-Khair   \n",
       "Date                                                  \n",
       "2020-01-01 00:00:00                        0.072269  \\\n",
       "2020-01-01 01:00:00                        0.074882   \n",
       "2020-01-01 02:00:00                        0.095588   \n",
       "2020-01-01 03:00:00                        0.072197   \n",
       "2020-01-01 04:00:00                        0.072127   \n",
       "\n",
       "                     82GEV05CQ003.XQ01 Ras Al-Khair   \n",
       "Date                                                  \n",
       "2020-01-01 00:00:00                      521.976229  \\\n",
       "2020-01-01 01:00:00                      272.794585   \n",
       "2020-01-01 02:00:00                      213.760548   \n",
       "2020-01-01 03:00:00                      189.206165   \n",
       "2020-01-01 04:00:00                      172.814084   \n",
       "\n",
       "                     82GEV05CQ005.XQ01 Ras Al-Khair   \n",
       "Date                                                  \n",
       "2020-01-01 00:00:00                       -0.001308  \\\n",
       "2020-01-01 01:00:00                       -0.001683   \n",
       "2020-01-01 02:00:00                       -0.001188   \n",
       "2020-01-01 03:00:00                       -0.001698   \n",
       "2020-01-01 04:00:00                       -0.001200   \n",
       "\n",
       "                     82GEV05CQ006.XQ01 Ras Al-Khair   \n",
       "Date                                                  \n",
       "2020-01-01 00:00:00                    60522.442833  \\\n",
       "2020-01-01 01:00:00                    60412.080857   \n",
       "2020-01-01 02:00:00                    60237.838714   \n",
       "2020-01-01 03:00:00                    60625.976313   \n",
       "2020-01-01 04:00:00                    60593.791267   \n",
       "\n",
       "                     82GEV05CQ007.XQ01 Ras Al-Khair   \n",
       "Date                                                  \n",
       "2020-01-01 00:00:00                        6.340481  \\\n",
       "2020-01-01 01:00:00                        6.333336   \n",
       "2020-01-01 02:00:00                        6.336653   \n",
       "2020-01-01 03:00:00                        6.335094   \n",
       "2020-01-01 04:00:00                        6.331321   \n",
       "\n",
       "                     82GEV05CQ008.XQ01 Ras Al-Khair  \n",
       "Date                                                 \n",
       "2020-01-01 00:00:00                        3.564636  \n",
       "2020-01-01 01:00:00                             NaN  \n",
       "2020-01-01 02:00:00                             NaN  \n",
       "2020-01-01 03:00:00                             NaN  \n",
       "2020-01-01 04:00:00                             NaN  \n",
       "\n",
       "[5 rows x 129 columns]"
      ]
     },
     "execution_count": 28,
     "metadata": {},
     "output_type": "execute_result"
    }
   ],
   "source": [
    "df = de.load_data('./data/SWCC_sample_1000.csv', parse_dates=True, index_col=0)\n",
    "df.head()"
   ]
  },
  {
   "cell_type": "code",
   "execution_count": 29,
   "metadata": {},
   "outputs": [
    {
     "data": {
      "text/html": [
       "<div>\n",
       "<style scoped>\n",
       "    .dataframe tbody tr th:only-of-type {\n",
       "        vertical-align: middle;\n",
       "    }\n",
       "\n",
       "    .dataframe tbody tr th {\n",
       "        vertical-align: top;\n",
       "    }\n",
       "\n",
       "    .dataframe thead th {\n",
       "        text-align: right;\n",
       "    }\n",
       "</style>\n",
       "<table border=\"1\" class=\"dataframe\">\n",
       "  <thead>\n",
       "    <tr style=\"text-align: right;\">\n",
       "      <th></th>\n",
       "      <th>80GAF30CP001.XQ01 Ras Al-Khair</th>\n",
       "      <th>80GAF30CP002.XQ01 Ras Al-Khair</th>\n",
       "      <th>80GAF30CQ001.XQ01 Ras Al-Khair</th>\n",
       "      <th>80GAF30CQ002.XQ01 Ras Al-Khair</th>\n",
       "      <th>80GAF30CQ003.XQ01 Ras Al-Khair</th>\n",
       "      <th>80GAF30CQ004.XQ01 Ras Al-Khair</th>\n",
       "      <th>80GAF30CQ005.XQ01 Ras Al-Khair</th>\n",
       "      <th>80GAF30CQ006.XQ01 Ras Al-Khair</th>\n",
       "      <th>80GAF30CT001.XQ01 Ras Al-Khair</th>\n",
       "      <th>80GAF30CT002.XQ01 Ras Al-Khair</th>\n",
       "      <th>...</th>\n",
       "      <th>82GEV00CP001.XV03 Ras Al-Khair</th>\n",
       "      <th>82GEV00CQ001.XQ01 Ras Al-Khair</th>\n",
       "      <th>82GEV00CT001.XQ01 Ras Al-Khair</th>\n",
       "      <th>82GEV05CQ001.XQ01 Ras Al-Khair</th>\n",
       "      <th>82GEV05CQ002.XQ01 Ras Al-Khair</th>\n",
       "      <th>82GEV05CQ003.XQ01 Ras Al-Khair</th>\n",
       "      <th>82GEV05CQ005.XQ01 Ras Al-Khair</th>\n",
       "      <th>82GEV05CQ006.XQ01 Ras Al-Khair</th>\n",
       "      <th>82GEV05CQ007.XQ01 Ras Al-Khair</th>\n",
       "      <th>82GEV05CQ008.XQ01 Ras Al-Khair</th>\n",
       "    </tr>\n",
       "    <tr>\n",
       "      <th>Date</th>\n",
       "      <th></th>\n",
       "      <th></th>\n",
       "      <th></th>\n",
       "      <th></th>\n",
       "      <th></th>\n",
       "      <th></th>\n",
       "      <th></th>\n",
       "      <th></th>\n",
       "      <th></th>\n",
       "      <th></th>\n",
       "      <th></th>\n",
       "      <th></th>\n",
       "      <th></th>\n",
       "      <th></th>\n",
       "      <th></th>\n",
       "      <th></th>\n",
       "      <th></th>\n",
       "      <th></th>\n",
       "      <th></th>\n",
       "      <th></th>\n",
       "      <th></th>\n",
       "    </tr>\n",
       "  </thead>\n",
       "  <tbody>\n",
       "    <tr>\n",
       "      <th>2020-01-01 01:00:00</th>\n",
       "      <td>0.009931</td>\n",
       "      <td>0.011427</td>\n",
       "      <td>-0.000085</td>\n",
       "      <td>NaN</td>\n",
       "      <td>0.071447</td>\n",
       "      <td>-0.068651</td>\n",
       "      <td>-0.000579</td>\n",
       "      <td>0.000796</td>\n",
       "      <td>-0.057656</td>\n",
       "      <td>-0.061875</td>\n",
       "      <td>...</td>\n",
       "      <td>-0.002021</td>\n",
       "      <td>-0.000011</td>\n",
       "      <td>-0.059462</td>\n",
       "      <td>NaN</td>\n",
       "      <td>0.002613</td>\n",
       "      <td>-249.181644</td>\n",
       "      <td>-0.000375</td>\n",
       "      <td>-110.361976</td>\n",
       "      <td>-0.007145</td>\n",
       "      <td>NaN</td>\n",
       "    </tr>\n",
       "    <tr>\n",
       "      <th>2020-01-01 02:00:00</th>\n",
       "      <td>-0.001529</td>\n",
       "      <td>-0.000877</td>\n",
       "      <td>0.000128</td>\n",
       "      <td>NaN</td>\n",
       "      <td>-0.166129</td>\n",
       "      <td>-0.006957</td>\n",
       "      <td>-0.004392</td>\n",
       "      <td>NaN</td>\n",
       "      <td>-0.035471</td>\n",
       "      <td>-0.029731</td>\n",
       "      <td>...</td>\n",
       "      <td>-0.002716</td>\n",
       "      <td>0.000037</td>\n",
       "      <td>-0.089996</td>\n",
       "      <td>NaN</td>\n",
       "      <td>0.020705</td>\n",
       "      <td>-59.034037</td>\n",
       "      <td>0.000495</td>\n",
       "      <td>-174.242143</td>\n",
       "      <td>0.003317</td>\n",
       "      <td>NaN</td>\n",
       "    </tr>\n",
       "    <tr>\n",
       "      <th>2020-01-01 03:00:00</th>\n",
       "      <td>-0.001217</td>\n",
       "      <td>-0.001850</td>\n",
       "      <td>-0.000075</td>\n",
       "      <td>NaN</td>\n",
       "      <td>0.153609</td>\n",
       "      <td>0.237906</td>\n",
       "      <td>-0.004132</td>\n",
       "      <td>NaN</td>\n",
       "      <td>-0.002500</td>\n",
       "      <td>-0.002143</td>\n",
       "      <td>...</td>\n",
       "      <td>-0.002041</td>\n",
       "      <td>0.000006</td>\n",
       "      <td>-0.033754</td>\n",
       "      <td>NaN</td>\n",
       "      <td>-0.023391</td>\n",
       "      <td>-24.554383</td>\n",
       "      <td>-0.000510</td>\n",
       "      <td>388.137598</td>\n",
       "      <td>-0.001559</td>\n",
       "      <td>NaN</td>\n",
       "    </tr>\n",
       "    <tr>\n",
       "      <th>2020-01-01 04:00:00</th>\n",
       "      <td>-0.013649</td>\n",
       "      <td>-0.012440</td>\n",
       "      <td>0.000107</td>\n",
       "      <td>NaN</td>\n",
       "      <td>-0.022608</td>\n",
       "      <td>0.000372</td>\n",
       "      <td>-0.005052</td>\n",
       "      <td>NaN</td>\n",
       "      <td>-0.009644</td>\n",
       "      <td>-0.004286</td>\n",
       "      <td>...</td>\n",
       "      <td>0.006293</td>\n",
       "      <td>-0.000009</td>\n",
       "      <td>0.050628</td>\n",
       "      <td>NaN</td>\n",
       "      <td>-0.000070</td>\n",
       "      <td>-16.392081</td>\n",
       "      <td>0.000498</td>\n",
       "      <td>-32.185046</td>\n",
       "      <td>-0.003773</td>\n",
       "      <td>NaN</td>\n",
       "    </tr>\n",
       "    <tr>\n",
       "      <th>2020-01-01 05:00:00</th>\n",
       "      <td>0.007781</td>\n",
       "      <td>0.008071</td>\n",
       "      <td>-0.000169</td>\n",
       "      <td>NaN</td>\n",
       "      <td>0.114566</td>\n",
       "      <td>-0.097017</td>\n",
       "      <td>-0.002414</td>\n",
       "      <td>NaN</td>\n",
       "      <td>-0.012858</td>\n",
       "      <td>-0.018213</td>\n",
       "      <td>...</td>\n",
       "      <td>-0.002304</td>\n",
       "      <td>NaN</td>\n",
       "      <td>-0.059632</td>\n",
       "      <td>NaN</td>\n",
       "      <td>-0.000511</td>\n",
       "      <td>-8.774637</td>\n",
       "      <td>-0.000244</td>\n",
       "      <td>-108.133917</td>\n",
       "      <td>-0.005497</td>\n",
       "      <td>NaN</td>\n",
       "    </tr>\n",
       "  </tbody>\n",
       "</table>\n",
       "<p>5 rows × 129 columns</p>\n",
       "</div>"
      ],
      "text/plain": [
       "                     80GAF30CP001.XQ01 Ras Al-Khair   \n",
       "Date                                                  \n",
       "2020-01-01 01:00:00                        0.009931  \\\n",
       "2020-01-01 02:00:00                       -0.001529   \n",
       "2020-01-01 03:00:00                       -0.001217   \n",
       "2020-01-01 04:00:00                       -0.013649   \n",
       "2020-01-01 05:00:00                        0.007781   \n",
       "\n",
       "                     80GAF30CP002.XQ01 Ras Al-Khair   \n",
       "Date                                                  \n",
       "2020-01-01 01:00:00                        0.011427  \\\n",
       "2020-01-01 02:00:00                       -0.000877   \n",
       "2020-01-01 03:00:00                       -0.001850   \n",
       "2020-01-01 04:00:00                       -0.012440   \n",
       "2020-01-01 05:00:00                        0.008071   \n",
       "\n",
       "                     80GAF30CQ001.XQ01 Ras Al-Khair   \n",
       "Date                                                  \n",
       "2020-01-01 01:00:00                       -0.000085  \\\n",
       "2020-01-01 02:00:00                        0.000128   \n",
       "2020-01-01 03:00:00                       -0.000075   \n",
       "2020-01-01 04:00:00                        0.000107   \n",
       "2020-01-01 05:00:00                       -0.000169   \n",
       "\n",
       "                     80GAF30CQ002.XQ01 Ras Al-Khair   \n",
       "Date                                                  \n",
       "2020-01-01 01:00:00                             NaN  \\\n",
       "2020-01-01 02:00:00                             NaN   \n",
       "2020-01-01 03:00:00                             NaN   \n",
       "2020-01-01 04:00:00                             NaN   \n",
       "2020-01-01 05:00:00                             NaN   \n",
       "\n",
       "                     80GAF30CQ003.XQ01 Ras Al-Khair   \n",
       "Date                                                  \n",
       "2020-01-01 01:00:00                        0.071447  \\\n",
       "2020-01-01 02:00:00                       -0.166129   \n",
       "2020-01-01 03:00:00                        0.153609   \n",
       "2020-01-01 04:00:00                       -0.022608   \n",
       "2020-01-01 05:00:00                        0.114566   \n",
       "\n",
       "                     80GAF30CQ004.XQ01 Ras Al-Khair   \n",
       "Date                                                  \n",
       "2020-01-01 01:00:00                       -0.068651  \\\n",
       "2020-01-01 02:00:00                       -0.006957   \n",
       "2020-01-01 03:00:00                        0.237906   \n",
       "2020-01-01 04:00:00                        0.000372   \n",
       "2020-01-01 05:00:00                       -0.097017   \n",
       "\n",
       "                     80GAF30CQ005.XQ01 Ras Al-Khair   \n",
       "Date                                                  \n",
       "2020-01-01 01:00:00                       -0.000579  \\\n",
       "2020-01-01 02:00:00                       -0.004392   \n",
       "2020-01-01 03:00:00                       -0.004132   \n",
       "2020-01-01 04:00:00                       -0.005052   \n",
       "2020-01-01 05:00:00                       -0.002414   \n",
       "\n",
       "                     80GAF30CQ006.XQ01 Ras Al-Khair   \n",
       "Date                                                  \n",
       "2020-01-01 01:00:00                        0.000796  \\\n",
       "2020-01-01 02:00:00                             NaN   \n",
       "2020-01-01 03:00:00                             NaN   \n",
       "2020-01-01 04:00:00                             NaN   \n",
       "2020-01-01 05:00:00                             NaN   \n",
       "\n",
       "                     80GAF30CT001.XQ01 Ras Al-Khair   \n",
       "Date                                                  \n",
       "2020-01-01 01:00:00                       -0.057656  \\\n",
       "2020-01-01 02:00:00                       -0.035471   \n",
       "2020-01-01 03:00:00                       -0.002500   \n",
       "2020-01-01 04:00:00                       -0.009644   \n",
       "2020-01-01 05:00:00                       -0.012858   \n",
       "\n",
       "                     80GAF30CT002.XQ01 Ras Al-Khair  ...   \n",
       "Date                                                 ...   \n",
       "2020-01-01 01:00:00                       -0.061875  ...  \\\n",
       "2020-01-01 02:00:00                       -0.029731  ...   \n",
       "2020-01-01 03:00:00                       -0.002143  ...   \n",
       "2020-01-01 04:00:00                       -0.004286  ...   \n",
       "2020-01-01 05:00:00                       -0.018213  ...   \n",
       "\n",
       "                     82GEV00CP001.XV03 Ras Al-Khair   \n",
       "Date                                                  \n",
       "2020-01-01 01:00:00                       -0.002021  \\\n",
       "2020-01-01 02:00:00                       -0.002716   \n",
       "2020-01-01 03:00:00                       -0.002041   \n",
       "2020-01-01 04:00:00                        0.006293   \n",
       "2020-01-01 05:00:00                       -0.002304   \n",
       "\n",
       "                     82GEV00CQ001.XQ01 Ras Al-Khair   \n",
       "Date                                                  \n",
       "2020-01-01 01:00:00                       -0.000011  \\\n",
       "2020-01-01 02:00:00                        0.000037   \n",
       "2020-01-01 03:00:00                        0.000006   \n",
       "2020-01-01 04:00:00                       -0.000009   \n",
       "2020-01-01 05:00:00                             NaN   \n",
       "\n",
       "                     82GEV00CT001.XQ01 Ras Al-Khair   \n",
       "Date                                                  \n",
       "2020-01-01 01:00:00                       -0.059462  \\\n",
       "2020-01-01 02:00:00                       -0.089996   \n",
       "2020-01-01 03:00:00                       -0.033754   \n",
       "2020-01-01 04:00:00                        0.050628   \n",
       "2020-01-01 05:00:00                       -0.059632   \n",
       "\n",
       "                     82GEV05CQ001.XQ01 Ras Al-Khair   \n",
       "Date                                                  \n",
       "2020-01-01 01:00:00                             NaN  \\\n",
       "2020-01-01 02:00:00                             NaN   \n",
       "2020-01-01 03:00:00                             NaN   \n",
       "2020-01-01 04:00:00                             NaN   \n",
       "2020-01-01 05:00:00                             NaN   \n",
       "\n",
       "                     82GEV05CQ002.XQ01 Ras Al-Khair   \n",
       "Date                                                  \n",
       "2020-01-01 01:00:00                        0.002613  \\\n",
       "2020-01-01 02:00:00                        0.020705   \n",
       "2020-01-01 03:00:00                       -0.023391   \n",
       "2020-01-01 04:00:00                       -0.000070   \n",
       "2020-01-01 05:00:00                       -0.000511   \n",
       "\n",
       "                     82GEV05CQ003.XQ01 Ras Al-Khair   \n",
       "Date                                                  \n",
       "2020-01-01 01:00:00                     -249.181644  \\\n",
       "2020-01-01 02:00:00                      -59.034037   \n",
       "2020-01-01 03:00:00                      -24.554383   \n",
       "2020-01-01 04:00:00                      -16.392081   \n",
       "2020-01-01 05:00:00                       -8.774637   \n",
       "\n",
       "                     82GEV05CQ005.XQ01 Ras Al-Khair   \n",
       "Date                                                  \n",
       "2020-01-01 01:00:00                       -0.000375  \\\n",
       "2020-01-01 02:00:00                        0.000495   \n",
       "2020-01-01 03:00:00                       -0.000510   \n",
       "2020-01-01 04:00:00                        0.000498   \n",
       "2020-01-01 05:00:00                       -0.000244   \n",
       "\n",
       "                     82GEV05CQ006.XQ01 Ras Al-Khair   \n",
       "Date                                                  \n",
       "2020-01-01 01:00:00                     -110.361976  \\\n",
       "2020-01-01 02:00:00                     -174.242143   \n",
       "2020-01-01 03:00:00                      388.137598   \n",
       "2020-01-01 04:00:00                      -32.185046   \n",
       "2020-01-01 05:00:00                     -108.133917   \n",
       "\n",
       "                     82GEV05CQ007.XQ01 Ras Al-Khair   \n",
       "Date                                                  \n",
       "2020-01-01 01:00:00                       -0.007145  \\\n",
       "2020-01-01 02:00:00                        0.003317   \n",
       "2020-01-01 03:00:00                       -0.001559   \n",
       "2020-01-01 04:00:00                       -0.003773   \n",
       "2020-01-01 05:00:00                       -0.005497   \n",
       "\n",
       "                     82GEV05CQ008.XQ01 Ras Al-Khair  \n",
       "Date                                                 \n",
       "2020-01-01 01:00:00                             NaN  \n",
       "2020-01-01 02:00:00                             NaN  \n",
       "2020-01-01 03:00:00                             NaN  \n",
       "2020-01-01 04:00:00                             NaN  \n",
       "2020-01-01 05:00:00                             NaN  \n",
       "\n",
       "[5 rows x 129 columns]"
      ]
     },
     "execution_count": 29,
     "metadata": {},
     "output_type": "execute_result"
    }
   ],
   "source": [
    "fe = FeatureEngineering(df)\n",
    "df = fe.transform_gain(df)\n",
    "df.head()"
   ]
  },
  {
   "cell_type": "markdown",
   "metadata": {},
   "source": [
    "### Test DataAnalysis Module"
   ]
  },
  {
   "cell_type": "markdown",
   "metadata": {},
   "source": [
    "correlation_analysis"
   ]
  },
  {
   "cell_type": "markdown",
   "metadata": {},
   "source": [
    "variance_analysis"
   ]
  },
  {
   "cell_type": "code",
   "execution_count": 3,
   "metadata": {},
   "outputs": [
    {
     "data": {
      "application/vnd.plotly.v1+json": {
       "config": {
        "plotlyServerURL": "https://plot.ly"
       },
       "data": [
        {
         "alignmentgroup": "True",
         "hovertemplate": "x=%{x}<br>y=%{y}<extra></extra>",
         "legendgroup": "",
         "marker": {
          "color": "#636efa",
          "pattern": {
           "shape": ""
          }
         },
         "name": "",
         "offsetgroup": "",
         "orientation": "v",
         "showlegend": false,
         "textposition": "auto",
         "type": "bar",
         "x": [
          "OXO-5LI650F Augusta",
          "OXO-5FIC622A Augusta",
          "OXO-5FIC636B Augusta",
          "OXO-5FIC132 Augusta",
          "OXO-5FIC636A Augusta",
          "OXO-5LI633B Augusta",
          "OXO-5LI655F Augusta",
          "OXO-5LI653F Augusta",
          "OXO-5LI652E Augusta",
          "OXO-5FIC606C Augusta",
          "OXO-5FIC601 Augusta",
          "OXO-5LI653E Augusta",
          "OXO-5FIC622B Augusta",
          "OXO-5FIC612A Augusta",
          "OXO-5FIC622C Augusta",
          "OXO-5FIC636C Augusta",
          "OXO-5FIC609B Augusta",
          "OXO-5LI658F Augusta",
          "OXO-5FI635C Augusta",
          "OXO-5FI696 Augusta",
          "OXO-5FIC618A Augusta",
          "OXO-5LI657F Augusta",
          "OXO-5LI656F Augusta",
          "OXO-5FIC618C Augusta",
          "OXO-5LI654E Augusta",
          "OXO-5FIC618B Augusta",
          "OXO-5LI651F Augusta",
          "OXO-5FIC600 Augusta",
          "OXO-5RIC606_Y Augusta",
          "OXO-5TIC601 Augusta",
          "OXO-5FIC612B Augusta",
          "OXO-5FIC618D Augusta",
          "OXO-5FIC602 Augusta",
          "OXO-_5FI662A Augusta",
          "OXO-_5FI660A Augusta",
          "OXO-_5FI659A Augusta",
          "OXO-_5FI658A Augusta",
          "OXO-5FI661A Augusta",
          "OXO-5TIC603 Augusta",
          "OXO-5FIC611A Augusta",
          "OXO-5TIC602 Augusta",
          "OXO-5TIC604 Augusta",
          "OXO-5TIC607 Augusta",
          "OXO-5TIC605 Augusta",
          "OXO-5FQI691B Augusta",
          "OXO-5TIC606 Augusta",
          "OXO-5LI651E Augusta",
          "OXO-5PIC605A Augusta",
          "OXO-5TIC659 Augusta",
          "OXO-5LI657E Augusta",
          "OXO-5LI658E Augusta",
          "OXO-5TIC002 Augusta",
          "OXO-5FIC603 Augusta",
          "OXO-5FIC607 Augusta",
          "OXO-5FIC609A Augusta",
          "OXO-5LI652F Augusta",
          "OXO-5FIC606A Augusta",
          "OXO-5FIC611B Augusta",
          "OXO-5LI654F Augusta"
         ],
         "xaxis": "x",
         "y": [
          4.978317653426667,
          3.1908118883634295,
          1.2694845007363293,
          1.2666215187093854,
          0.7680049740767814,
          0.4400179093267958,
          0.39202757760988377,
          0.2770385863719003,
          0.26565315010445945,
          0.2597878901487682,
          0.23743360526196639,
          0.23343335274987959,
          0.1343268165263878,
          0.11342031458818379,
          0.10396577419672445,
          0.09862397974702503,
          0.08586967511334603,
          0.07815407069188204,
          0.07525645733310565,
          0.05662493102436036,
          0.05269272733426571,
          0.04323242851123516,
          0.03598007963085168,
          0.032810208125141904,
          0.030610450206668197,
          0.02766201425653446,
          0.01902207959210285,
          0.018068632654380207,
          0.016776361896502667,
          0.01539351405984975,
          0.015324927653522715,
          0.014520610808478315,
          0.012857671591702454,
          0.010146124485992468,
          0.009624332146022046,
          0.009263896116023011,
          0.009093895664611888,
          0.008932425885222025,
          0.008653379427818917,
          0.008374386910480452,
          0.008277165286456289,
          0.007707865651382551,
          0.0069653365819128355,
          0.0066919323136784515,
          0.0062276533436097375,
          0.005529198561902813,
          0.002876287787955566,
          0.0018512914392526817,
          0.0013643485079269527,
          0.0010068965089549701,
          0.0003407452320794987,
          0.00013915088730696358,
          0,
          0,
          0,
          0,
          null,
          null,
          null
         ],
         "yaxis": "y"
        }
       ],
       "layout": {
        "barmode": "relative",
        "legend": {
         "tracegroupgap": 0
        },
        "template": {
         "data": {
          "bar": [
           {
            "error_x": {
             "color": "#2a3f5f"
            },
            "error_y": {
             "color": "#2a3f5f"
            },
            "marker": {
             "line": {
              "color": "#E5ECF6",
              "width": 0.5
             },
             "pattern": {
              "fillmode": "overlay",
              "size": 10,
              "solidity": 0.2
             }
            },
            "type": "bar"
           }
          ],
          "barpolar": [
           {
            "marker": {
             "line": {
              "color": "#E5ECF6",
              "width": 0.5
             },
             "pattern": {
              "fillmode": "overlay",
              "size": 10,
              "solidity": 0.2
             }
            },
            "type": "barpolar"
           }
          ],
          "carpet": [
           {
            "aaxis": {
             "endlinecolor": "#2a3f5f",
             "gridcolor": "white",
             "linecolor": "white",
             "minorgridcolor": "white",
             "startlinecolor": "#2a3f5f"
            },
            "baxis": {
             "endlinecolor": "#2a3f5f",
             "gridcolor": "white",
             "linecolor": "white",
             "minorgridcolor": "white",
             "startlinecolor": "#2a3f5f"
            },
            "type": "carpet"
           }
          ],
          "choropleth": [
           {
            "colorbar": {
             "outlinewidth": 0,
             "ticks": ""
            },
            "type": "choropleth"
           }
          ],
          "contour": [
           {
            "colorbar": {
             "outlinewidth": 0,
             "ticks": ""
            },
            "colorscale": [
             [
              0,
              "#0d0887"
             ],
             [
              0.1111111111111111,
              "#46039f"
             ],
             [
              0.2222222222222222,
              "#7201a8"
             ],
             [
              0.3333333333333333,
              "#9c179e"
             ],
             [
              0.4444444444444444,
              "#bd3786"
             ],
             [
              0.5555555555555556,
              "#d8576b"
             ],
             [
              0.6666666666666666,
              "#ed7953"
             ],
             [
              0.7777777777777778,
              "#fb9f3a"
             ],
             [
              0.8888888888888888,
              "#fdca26"
             ],
             [
              1,
              "#f0f921"
             ]
            ],
            "type": "contour"
           }
          ],
          "contourcarpet": [
           {
            "colorbar": {
             "outlinewidth": 0,
             "ticks": ""
            },
            "type": "contourcarpet"
           }
          ],
          "heatmap": [
           {
            "colorbar": {
             "outlinewidth": 0,
             "ticks": ""
            },
            "colorscale": [
             [
              0,
              "#0d0887"
             ],
             [
              0.1111111111111111,
              "#46039f"
             ],
             [
              0.2222222222222222,
              "#7201a8"
             ],
             [
              0.3333333333333333,
              "#9c179e"
             ],
             [
              0.4444444444444444,
              "#bd3786"
             ],
             [
              0.5555555555555556,
              "#d8576b"
             ],
             [
              0.6666666666666666,
              "#ed7953"
             ],
             [
              0.7777777777777778,
              "#fb9f3a"
             ],
             [
              0.8888888888888888,
              "#fdca26"
             ],
             [
              1,
              "#f0f921"
             ]
            ],
            "type": "heatmap"
           }
          ],
          "heatmapgl": [
           {
            "colorbar": {
             "outlinewidth": 0,
             "ticks": ""
            },
            "colorscale": [
             [
              0,
              "#0d0887"
             ],
             [
              0.1111111111111111,
              "#46039f"
             ],
             [
              0.2222222222222222,
              "#7201a8"
             ],
             [
              0.3333333333333333,
              "#9c179e"
             ],
             [
              0.4444444444444444,
              "#bd3786"
             ],
             [
              0.5555555555555556,
              "#d8576b"
             ],
             [
              0.6666666666666666,
              "#ed7953"
             ],
             [
              0.7777777777777778,
              "#fb9f3a"
             ],
             [
              0.8888888888888888,
              "#fdca26"
             ],
             [
              1,
              "#f0f921"
             ]
            ],
            "type": "heatmapgl"
           }
          ],
          "histogram": [
           {
            "marker": {
             "pattern": {
              "fillmode": "overlay",
              "size": 10,
              "solidity": 0.2
             }
            },
            "type": "histogram"
           }
          ],
          "histogram2d": [
           {
            "colorbar": {
             "outlinewidth": 0,
             "ticks": ""
            },
            "colorscale": [
             [
              0,
              "#0d0887"
             ],
             [
              0.1111111111111111,
              "#46039f"
             ],
             [
              0.2222222222222222,
              "#7201a8"
             ],
             [
              0.3333333333333333,
              "#9c179e"
             ],
             [
              0.4444444444444444,
              "#bd3786"
             ],
             [
              0.5555555555555556,
              "#d8576b"
             ],
             [
              0.6666666666666666,
              "#ed7953"
             ],
             [
              0.7777777777777778,
              "#fb9f3a"
             ],
             [
              0.8888888888888888,
              "#fdca26"
             ],
             [
              1,
              "#f0f921"
             ]
            ],
            "type": "histogram2d"
           }
          ],
          "histogram2dcontour": [
           {
            "colorbar": {
             "outlinewidth": 0,
             "ticks": ""
            },
            "colorscale": [
             [
              0,
              "#0d0887"
             ],
             [
              0.1111111111111111,
              "#46039f"
             ],
             [
              0.2222222222222222,
              "#7201a8"
             ],
             [
              0.3333333333333333,
              "#9c179e"
             ],
             [
              0.4444444444444444,
              "#bd3786"
             ],
             [
              0.5555555555555556,
              "#d8576b"
             ],
             [
              0.6666666666666666,
              "#ed7953"
             ],
             [
              0.7777777777777778,
              "#fb9f3a"
             ],
             [
              0.8888888888888888,
              "#fdca26"
             ],
             [
              1,
              "#f0f921"
             ]
            ],
            "type": "histogram2dcontour"
           }
          ],
          "mesh3d": [
           {
            "colorbar": {
             "outlinewidth": 0,
             "ticks": ""
            },
            "type": "mesh3d"
           }
          ],
          "parcoords": [
           {
            "line": {
             "colorbar": {
              "outlinewidth": 0,
              "ticks": ""
             }
            },
            "type": "parcoords"
           }
          ],
          "pie": [
           {
            "automargin": true,
            "type": "pie"
           }
          ],
          "scatter": [
           {
            "fillpattern": {
             "fillmode": "overlay",
             "size": 10,
             "solidity": 0.2
            },
            "type": "scatter"
           }
          ],
          "scatter3d": [
           {
            "line": {
             "colorbar": {
              "outlinewidth": 0,
              "ticks": ""
             }
            },
            "marker": {
             "colorbar": {
              "outlinewidth": 0,
              "ticks": ""
             }
            },
            "type": "scatter3d"
           }
          ],
          "scattercarpet": [
           {
            "marker": {
             "colorbar": {
              "outlinewidth": 0,
              "ticks": ""
             }
            },
            "type": "scattercarpet"
           }
          ],
          "scattergeo": [
           {
            "marker": {
             "colorbar": {
              "outlinewidth": 0,
              "ticks": ""
             }
            },
            "type": "scattergeo"
           }
          ],
          "scattergl": [
           {
            "marker": {
             "colorbar": {
              "outlinewidth": 0,
              "ticks": ""
             }
            },
            "type": "scattergl"
           }
          ],
          "scattermapbox": [
           {
            "marker": {
             "colorbar": {
              "outlinewidth": 0,
              "ticks": ""
             }
            },
            "type": "scattermapbox"
           }
          ],
          "scatterpolar": [
           {
            "marker": {
             "colorbar": {
              "outlinewidth": 0,
              "ticks": ""
             }
            },
            "type": "scatterpolar"
           }
          ],
          "scatterpolargl": [
           {
            "marker": {
             "colorbar": {
              "outlinewidth": 0,
              "ticks": ""
             }
            },
            "type": "scatterpolargl"
           }
          ],
          "scatterternary": [
           {
            "marker": {
             "colorbar": {
              "outlinewidth": 0,
              "ticks": ""
             }
            },
            "type": "scatterternary"
           }
          ],
          "surface": [
           {
            "colorbar": {
             "outlinewidth": 0,
             "ticks": ""
            },
            "colorscale": [
             [
              0,
              "#0d0887"
             ],
             [
              0.1111111111111111,
              "#46039f"
             ],
             [
              0.2222222222222222,
              "#7201a8"
             ],
             [
              0.3333333333333333,
              "#9c179e"
             ],
             [
              0.4444444444444444,
              "#bd3786"
             ],
             [
              0.5555555555555556,
              "#d8576b"
             ],
             [
              0.6666666666666666,
              "#ed7953"
             ],
             [
              0.7777777777777778,
              "#fb9f3a"
             ],
             [
              0.8888888888888888,
              "#fdca26"
             ],
             [
              1,
              "#f0f921"
             ]
            ],
            "type": "surface"
           }
          ],
          "table": [
           {
            "cells": {
             "fill": {
              "color": "#EBF0F8"
             },
             "line": {
              "color": "white"
             }
            },
            "header": {
             "fill": {
              "color": "#C8D4E3"
             },
             "line": {
              "color": "white"
             }
            },
            "type": "table"
           }
          ]
         },
         "layout": {
          "annotationdefaults": {
           "arrowcolor": "#2a3f5f",
           "arrowhead": 0,
           "arrowwidth": 1
          },
          "autotypenumbers": "strict",
          "coloraxis": {
           "colorbar": {
            "outlinewidth": 0,
            "ticks": ""
           }
          },
          "colorscale": {
           "diverging": [
            [
             0,
             "#8e0152"
            ],
            [
             0.1,
             "#c51b7d"
            ],
            [
             0.2,
             "#de77ae"
            ],
            [
             0.3,
             "#f1b6da"
            ],
            [
             0.4,
             "#fde0ef"
            ],
            [
             0.5,
             "#f7f7f7"
            ],
            [
             0.6,
             "#e6f5d0"
            ],
            [
             0.7,
             "#b8e186"
            ],
            [
             0.8,
             "#7fbc41"
            ],
            [
             0.9,
             "#4d9221"
            ],
            [
             1,
             "#276419"
            ]
           ],
           "sequential": [
            [
             0,
             "#0d0887"
            ],
            [
             0.1111111111111111,
             "#46039f"
            ],
            [
             0.2222222222222222,
             "#7201a8"
            ],
            [
             0.3333333333333333,
             "#9c179e"
            ],
            [
             0.4444444444444444,
             "#bd3786"
            ],
            [
             0.5555555555555556,
             "#d8576b"
            ],
            [
             0.6666666666666666,
             "#ed7953"
            ],
            [
             0.7777777777777778,
             "#fb9f3a"
            ],
            [
             0.8888888888888888,
             "#fdca26"
            ],
            [
             1,
             "#f0f921"
            ]
           ],
           "sequentialminus": [
            [
             0,
             "#0d0887"
            ],
            [
             0.1111111111111111,
             "#46039f"
            ],
            [
             0.2222222222222222,
             "#7201a8"
            ],
            [
             0.3333333333333333,
             "#9c179e"
            ],
            [
             0.4444444444444444,
             "#bd3786"
            ],
            [
             0.5555555555555556,
             "#d8576b"
            ],
            [
             0.6666666666666666,
             "#ed7953"
            ],
            [
             0.7777777777777778,
             "#fb9f3a"
            ],
            [
             0.8888888888888888,
             "#fdca26"
            ],
            [
             1,
             "#f0f921"
            ]
           ]
          },
          "colorway": [
           "#636efa",
           "#EF553B",
           "#00cc96",
           "#ab63fa",
           "#FFA15A",
           "#19d3f3",
           "#FF6692",
           "#B6E880",
           "#FF97FF",
           "#FECB52"
          ],
          "font": {
           "color": "#2a3f5f"
          },
          "geo": {
           "bgcolor": "white",
           "lakecolor": "white",
           "landcolor": "#E5ECF6",
           "showlakes": true,
           "showland": true,
           "subunitcolor": "white"
          },
          "hoverlabel": {
           "align": "left"
          },
          "hovermode": "closest",
          "mapbox": {
           "style": "light"
          },
          "paper_bgcolor": "white",
          "plot_bgcolor": "#E5ECF6",
          "polar": {
           "angularaxis": {
            "gridcolor": "white",
            "linecolor": "white",
            "ticks": ""
           },
           "bgcolor": "#E5ECF6",
           "radialaxis": {
            "gridcolor": "white",
            "linecolor": "white",
            "ticks": ""
           }
          },
          "scene": {
           "xaxis": {
            "backgroundcolor": "#E5ECF6",
            "gridcolor": "white",
            "gridwidth": 2,
            "linecolor": "white",
            "showbackground": true,
            "ticks": "",
            "zerolinecolor": "white"
           },
           "yaxis": {
            "backgroundcolor": "#E5ECF6",
            "gridcolor": "white",
            "gridwidth": 2,
            "linecolor": "white",
            "showbackground": true,
            "ticks": "",
            "zerolinecolor": "white"
           },
           "zaxis": {
            "backgroundcolor": "#E5ECF6",
            "gridcolor": "white",
            "gridwidth": 2,
            "linecolor": "white",
            "showbackground": true,
            "ticks": "",
            "zerolinecolor": "white"
           }
          },
          "shapedefaults": {
           "line": {
            "color": "#2a3f5f"
           }
          },
          "ternary": {
           "aaxis": {
            "gridcolor": "white",
            "linecolor": "white",
            "ticks": ""
           },
           "baxis": {
            "gridcolor": "white",
            "linecolor": "white",
            "ticks": ""
           },
           "bgcolor": "#E5ECF6",
           "caxis": {
            "gridcolor": "white",
            "linecolor": "white",
            "ticks": ""
           }
          },
          "title": {
           "x": 0.05
          },
          "xaxis": {
           "automargin": true,
           "gridcolor": "white",
           "linecolor": "white",
           "ticks": "",
           "title": {
            "standoff": 15
           },
           "zerolinecolor": "white",
           "zerolinewidth": 2
          },
          "yaxis": {
           "automargin": true,
           "gridcolor": "white",
           "linecolor": "white",
           "ticks": "",
           "title": {
            "standoff": 15
           },
           "zerolinecolor": "white",
           "zerolinewidth": 2
          }
         }
        },
        "title": {
         "text": "Norm STD of each column"
        },
        "xaxis": {
         "anchor": "y",
         "domain": [
          0,
          1
         ],
         "title": {
          "text": "Column Name"
         }
        },
        "yaxis": {
         "anchor": "x",
         "domain": [
          0,
          1
         ],
         "title": {
          "text": "Norm STD"
         }
        }
       }
      }
     },
     "metadata": {},
     "output_type": "display_data"
    }
   ],
   "source": [
    "da = DataAnalysis()\n",
    "df = data_exp.load_data('./data/sasol_data_sample.csv', parse_dates=True, index_col=0)\n",
    "da.variance_analysis(df)"
   ]
  },
  {
   "cell_type": "markdown",
   "metadata": {},
   "source": [
    "feature_selection"
   ]
  }
 ],
 "metadata": {
  "kernelspec": {
   "display_name": "SQLTool",
   "language": "python",
   "name": "python3"
  },
  "language_info": {
   "codemirror_mode": {
    "name": "ipython",
    "version": 3
   },
   "file_extension": ".py",
   "mimetype": "text/x-python",
   "name": "python",
   "nbconvert_exporter": "python",
   "pygments_lexer": "ipython3",
   "version": "3.11.2"
  },
  "orig_nbformat": 4
 },
 "nbformat": 4,
 "nbformat_minor": 2
}
