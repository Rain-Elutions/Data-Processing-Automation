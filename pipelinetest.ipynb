{
 "cells": [
  {
   "cell_type": "code",
   "execution_count": 1,
   "metadata": {},
   "outputs": [
    {
     "name": "stderr",
     "output_type": "stream",
     "text": [
      "c:\\Users\\krodriguez0109\\AppData\\Local\\anaconda3\\envs\\pytorch\\lib\\site-packages\\numpy\\_distributor_init.py:30: UserWarning: loaded more than 1 DLL from .libs:\n",
      "c:\\Users\\krodriguez0109\\AppData\\Local\\anaconda3\\envs\\pytorch\\lib\\site-packages\\numpy\\.libs\\libopenblas64__v0.3.21-gcc_10_3_0.dll\n",
      "c:\\Users\\krodriguez0109\\AppData\\Local\\anaconda3\\envs\\pytorch\\lib\\site-packages\\numpy\\.libs\\libopenblas64__v0.3.23-246-g3d31191b-gcc_10_3_0.dll\n",
      "  warnings.warn(\"loaded more than 1 DLL from .libs:\"\n"
     ]
    }
   ],
   "source": [
    "import DPTool as dp"
   ]
  },
  {
   "cell_type": "code",
   "execution_count": 2,
   "metadata": {},
   "outputs": [
    {
     "name": "stdout",
     "output_type": "stream",
     "text": [
      "Loading Data...\n",
      "Getting Size...\n",
      "Data size: (100, 59)\n",
      "Summarizing Type...\n",
      "Data types summary:\n",
      " float64    59\n",
      "Name: count, dtype: int64\n",
      "Summarizing Missing Data...\n",
      "Missing data summary:\n",
      "OXO-5FIC606A Augusta    100\n",
      "OXO-5FIC611B Augusta    100\n",
      "OXO-5LI654F Augusta     100\n",
      "dtype: int64\n"
     ]
    },
    {
     "data": {
      "application/vnd.plotly.v1+json": {
       "config": {
        "plotlyServerURL": "https://plot.ly"
       },
       "data": [
        {
         "type": "bar",
         "x": [
          "OXO-5FI635C Augusta",
          "OXO-5FI661A Augusta",
          "OXO-5FI696 Augusta",
          "OXO-5FIC132 Augusta",
          "OXO-5FIC600 Augusta",
          "OXO-5FIC601 Augusta",
          "OXO-5FIC602 Augusta",
          "OXO-5FIC603 Augusta",
          "OXO-5FIC606A Augusta",
          "OXO-5FIC606C Augusta",
          "OXO-5FIC607 Augusta",
          "OXO-5FIC609A Augusta",
          "OXO-5FIC609B Augusta",
          "OXO-5FIC611A Augusta",
          "OXO-5FIC611B Augusta",
          "OXO-5FIC612A Augusta",
          "OXO-5FIC612B Augusta",
          "OXO-5FIC618A Augusta",
          "OXO-5FIC618B Augusta",
          "OXO-5FIC618C Augusta",
          "OXO-5FIC618D Augusta",
          "OXO-5FIC622A Augusta",
          "OXO-5FIC622B Augusta",
          "OXO-5FIC622C Augusta",
          "OXO-5FIC636A Augusta",
          "OXO-5FIC636B Augusta",
          "OXO-5FIC636C Augusta",
          "OXO-5FQI691B Augusta",
          "OXO-5LI633B Augusta",
          "OXO-5LI650F Augusta",
          "OXO-5LI651E Augusta",
          "OXO-5LI651F Augusta",
          "OXO-5LI652E Augusta",
          "OXO-5LI652F Augusta",
          "OXO-5LI653E Augusta",
          "OXO-5LI653F Augusta",
          "OXO-5LI654E Augusta",
          "OXO-5LI654F Augusta",
          "OXO-5LI655F Augusta",
          "OXO-5LI656F Augusta"
         ],
         "y": [
          0,
          0,
          0,
          0,
          0,
          0,
          0,
          0,
          100,
          0,
          0,
          0,
          0,
          0,
          100,
          0,
          0,
          0,
          0,
          0,
          0,
          0,
          0,
          0,
          0,
          0,
          0,
          0,
          0,
          0,
          0,
          0,
          0,
          0,
          0,
          0,
          0,
          100,
          0,
          0
         ]
        }
       ],
       "layout": {
        "template": {
         "data": {
          "bar": [
           {
            "error_x": {
             "color": "#2a3f5f"
            },
            "error_y": {
             "color": "#2a3f5f"
            },
            "marker": {
             "line": {
              "color": "#E5ECF6",
              "width": 0.5
             },
             "pattern": {
              "fillmode": "overlay",
              "size": 10,
              "solidity": 0.2
             }
            },
            "type": "bar"
           }
          ],
          "barpolar": [
           {
            "marker": {
             "line": {
              "color": "#E5ECF6",
              "width": 0.5
             },
             "pattern": {
              "fillmode": "overlay",
              "size": 10,
              "solidity": 0.2
             }
            },
            "type": "barpolar"
           }
          ],
          "carpet": [
           {
            "aaxis": {
             "endlinecolor": "#2a3f5f",
             "gridcolor": "white",
             "linecolor": "white",
             "minorgridcolor": "white",
             "startlinecolor": "#2a3f5f"
            },
            "baxis": {
             "endlinecolor": "#2a3f5f",
             "gridcolor": "white",
             "linecolor": "white",
             "minorgridcolor": "white",
             "startlinecolor": "#2a3f5f"
            },
            "type": "carpet"
           }
          ],
          "choropleth": [
           {
            "colorbar": {
             "outlinewidth": 0,
             "ticks": ""
            },
            "type": "choropleth"
           }
          ],
          "contour": [
           {
            "colorbar": {
             "outlinewidth": 0,
             "ticks": ""
            },
            "colorscale": [
             [
              0,
              "#0d0887"
             ],
             [
              0.1111111111111111,
              "#46039f"
             ],
             [
              0.2222222222222222,
              "#7201a8"
             ],
             [
              0.3333333333333333,
              "#9c179e"
             ],
             [
              0.4444444444444444,
              "#bd3786"
             ],
             [
              0.5555555555555556,
              "#d8576b"
             ],
             [
              0.6666666666666666,
              "#ed7953"
             ],
             [
              0.7777777777777778,
              "#fb9f3a"
             ],
             [
              0.8888888888888888,
              "#fdca26"
             ],
             [
              1,
              "#f0f921"
             ]
            ],
            "type": "contour"
           }
          ],
          "contourcarpet": [
           {
            "colorbar": {
             "outlinewidth": 0,
             "ticks": ""
            },
            "type": "contourcarpet"
           }
          ],
          "heatmap": [
           {
            "colorbar": {
             "outlinewidth": 0,
             "ticks": ""
            },
            "colorscale": [
             [
              0,
              "#0d0887"
             ],
             [
              0.1111111111111111,
              "#46039f"
             ],
             [
              0.2222222222222222,
              "#7201a8"
             ],
             [
              0.3333333333333333,
              "#9c179e"
             ],
             [
              0.4444444444444444,
              "#bd3786"
             ],
             [
              0.5555555555555556,
              "#d8576b"
             ],
             [
              0.6666666666666666,
              "#ed7953"
             ],
             [
              0.7777777777777778,
              "#fb9f3a"
             ],
             [
              0.8888888888888888,
              "#fdca26"
             ],
             [
              1,
              "#f0f921"
             ]
            ],
            "type": "heatmap"
           }
          ],
          "heatmapgl": [
           {
            "colorbar": {
             "outlinewidth": 0,
             "ticks": ""
            },
            "colorscale": [
             [
              0,
              "#0d0887"
             ],
             [
              0.1111111111111111,
              "#46039f"
             ],
             [
              0.2222222222222222,
              "#7201a8"
             ],
             [
              0.3333333333333333,
              "#9c179e"
             ],
             [
              0.4444444444444444,
              "#bd3786"
             ],
             [
              0.5555555555555556,
              "#d8576b"
             ],
             [
              0.6666666666666666,
              "#ed7953"
             ],
             [
              0.7777777777777778,
              "#fb9f3a"
             ],
             [
              0.8888888888888888,
              "#fdca26"
             ],
             [
              1,
              "#f0f921"
             ]
            ],
            "type": "heatmapgl"
           }
          ],
          "histogram": [
           {
            "marker": {
             "pattern": {
              "fillmode": "overlay",
              "size": 10,
              "solidity": 0.2
             }
            },
            "type": "histogram"
           }
          ],
          "histogram2d": [
           {
            "colorbar": {
             "outlinewidth": 0,
             "ticks": ""
            },
            "colorscale": [
             [
              0,
              "#0d0887"
             ],
             [
              0.1111111111111111,
              "#46039f"
             ],
             [
              0.2222222222222222,
              "#7201a8"
             ],
             [
              0.3333333333333333,
              "#9c179e"
             ],
             [
              0.4444444444444444,
              "#bd3786"
             ],
             [
              0.5555555555555556,
              "#d8576b"
             ],
             [
              0.6666666666666666,
              "#ed7953"
             ],
             [
              0.7777777777777778,
              "#fb9f3a"
             ],
             [
              0.8888888888888888,
              "#fdca26"
             ],
             [
              1,
              "#f0f921"
             ]
            ],
            "type": "histogram2d"
           }
          ],
          "histogram2dcontour": [
           {
            "colorbar": {
             "outlinewidth": 0,
             "ticks": ""
            },
            "colorscale": [
             [
              0,
              "#0d0887"
             ],
             [
              0.1111111111111111,
              "#46039f"
             ],
             [
              0.2222222222222222,
              "#7201a8"
             ],
             [
              0.3333333333333333,
              "#9c179e"
             ],
             [
              0.4444444444444444,
              "#bd3786"
             ],
             [
              0.5555555555555556,
              "#d8576b"
             ],
             [
              0.6666666666666666,
              "#ed7953"
             ],
             [
              0.7777777777777778,
              "#fb9f3a"
             ],
             [
              0.8888888888888888,
              "#fdca26"
             ],
             [
              1,
              "#f0f921"
             ]
            ],
            "type": "histogram2dcontour"
           }
          ],
          "mesh3d": [
           {
            "colorbar": {
             "outlinewidth": 0,
             "ticks": ""
            },
            "type": "mesh3d"
           }
          ],
          "parcoords": [
           {
            "line": {
             "colorbar": {
              "outlinewidth": 0,
              "ticks": ""
             }
            },
            "type": "parcoords"
           }
          ],
          "pie": [
           {
            "automargin": true,
            "type": "pie"
           }
          ],
          "scatter": [
           {
            "fillpattern": {
             "fillmode": "overlay",
             "size": 10,
             "solidity": 0.2
            },
            "type": "scatter"
           }
          ],
          "scatter3d": [
           {
            "line": {
             "colorbar": {
              "outlinewidth": 0,
              "ticks": ""
             }
            },
            "marker": {
             "colorbar": {
              "outlinewidth": 0,
              "ticks": ""
             }
            },
            "type": "scatter3d"
           }
          ],
          "scattercarpet": [
           {
            "marker": {
             "colorbar": {
              "outlinewidth": 0,
              "ticks": ""
             }
            },
            "type": "scattercarpet"
           }
          ],
          "scattergeo": [
           {
            "marker": {
             "colorbar": {
              "outlinewidth": 0,
              "ticks": ""
             }
            },
            "type": "scattergeo"
           }
          ],
          "scattergl": [
           {
            "marker": {
             "colorbar": {
              "outlinewidth": 0,
              "ticks": ""
             }
            },
            "type": "scattergl"
           }
          ],
          "scattermapbox": [
           {
            "marker": {
             "colorbar": {
              "outlinewidth": 0,
              "ticks": ""
             }
            },
            "type": "scattermapbox"
           }
          ],
          "scatterpolar": [
           {
            "marker": {
             "colorbar": {
              "outlinewidth": 0,
              "ticks": ""
             }
            },
            "type": "scatterpolar"
           }
          ],
          "scatterpolargl": [
           {
            "marker": {
             "colorbar": {
              "outlinewidth": 0,
              "ticks": ""
             }
            },
            "type": "scatterpolargl"
           }
          ],
          "scatterternary": [
           {
            "marker": {
             "colorbar": {
              "outlinewidth": 0,
              "ticks": ""
             }
            },
            "type": "scatterternary"
           }
          ],
          "surface": [
           {
            "colorbar": {
             "outlinewidth": 0,
             "ticks": ""
            },
            "colorscale": [
             [
              0,
              "#0d0887"
             ],
             [
              0.1111111111111111,
              "#46039f"
             ],
             [
              0.2222222222222222,
              "#7201a8"
             ],
             [
              0.3333333333333333,
              "#9c179e"
             ],
             [
              0.4444444444444444,
              "#bd3786"
             ],
             [
              0.5555555555555556,
              "#d8576b"
             ],
             [
              0.6666666666666666,
              "#ed7953"
             ],
             [
              0.7777777777777778,
              "#fb9f3a"
             ],
             [
              0.8888888888888888,
              "#fdca26"
             ],
             [
              1,
              "#f0f921"
             ]
            ],
            "type": "surface"
           }
          ],
          "table": [
           {
            "cells": {
             "fill": {
              "color": "#EBF0F8"
             },
             "line": {
              "color": "white"
             }
            },
            "header": {
             "fill": {
              "color": "#C8D4E3"
             },
             "line": {
              "color": "white"
             }
            },
            "type": "table"
           }
          ]
         },
         "layout": {
          "annotationdefaults": {
           "arrowcolor": "#2a3f5f",
           "arrowhead": 0,
           "arrowwidth": 1
          },
          "autotypenumbers": "strict",
          "coloraxis": {
           "colorbar": {
            "outlinewidth": 0,
            "ticks": ""
           }
          },
          "colorscale": {
           "diverging": [
            [
             0,
             "#8e0152"
            ],
            [
             0.1,
             "#c51b7d"
            ],
            [
             0.2,
             "#de77ae"
            ],
            [
             0.3,
             "#f1b6da"
            ],
            [
             0.4,
             "#fde0ef"
            ],
            [
             0.5,
             "#f7f7f7"
            ],
            [
             0.6,
             "#e6f5d0"
            ],
            [
             0.7,
             "#b8e186"
            ],
            [
             0.8,
             "#7fbc41"
            ],
            [
             0.9,
             "#4d9221"
            ],
            [
             1,
             "#276419"
            ]
           ],
           "sequential": [
            [
             0,
             "#0d0887"
            ],
            [
             0.1111111111111111,
             "#46039f"
            ],
            [
             0.2222222222222222,
             "#7201a8"
            ],
            [
             0.3333333333333333,
             "#9c179e"
            ],
            [
             0.4444444444444444,
             "#bd3786"
            ],
            [
             0.5555555555555556,
             "#d8576b"
            ],
            [
             0.6666666666666666,
             "#ed7953"
            ],
            [
             0.7777777777777778,
             "#fb9f3a"
            ],
            [
             0.8888888888888888,
             "#fdca26"
            ],
            [
             1,
             "#f0f921"
            ]
           ],
           "sequentialminus": [
            [
             0,
             "#0d0887"
            ],
            [
             0.1111111111111111,
             "#46039f"
            ],
            [
             0.2222222222222222,
             "#7201a8"
            ],
            [
             0.3333333333333333,
             "#9c179e"
            ],
            [
             0.4444444444444444,
             "#bd3786"
            ],
            [
             0.5555555555555556,
             "#d8576b"
            ],
            [
             0.6666666666666666,
             "#ed7953"
            ],
            [
             0.7777777777777778,
             "#fb9f3a"
            ],
            [
             0.8888888888888888,
             "#fdca26"
            ],
            [
             1,
             "#f0f921"
            ]
           ]
          },
          "colorway": [
           "#636efa",
           "#EF553B",
           "#00cc96",
           "#ab63fa",
           "#FFA15A",
           "#19d3f3",
           "#FF6692",
           "#B6E880",
           "#FF97FF",
           "#FECB52"
          ],
          "font": {
           "color": "#2a3f5f"
          },
          "geo": {
           "bgcolor": "white",
           "lakecolor": "white",
           "landcolor": "#E5ECF6",
           "showlakes": true,
           "showland": true,
           "subunitcolor": "white"
          },
          "hoverlabel": {
           "align": "left"
          },
          "hovermode": "closest",
          "mapbox": {
           "style": "light"
          },
          "paper_bgcolor": "white",
          "plot_bgcolor": "#E5ECF6",
          "polar": {
           "angularaxis": {
            "gridcolor": "white",
            "linecolor": "white",
            "ticks": ""
           },
           "bgcolor": "#E5ECF6",
           "radialaxis": {
            "gridcolor": "white",
            "linecolor": "white",
            "ticks": ""
           }
          },
          "scene": {
           "xaxis": {
            "backgroundcolor": "#E5ECF6",
            "gridcolor": "white",
            "gridwidth": 2,
            "linecolor": "white",
            "showbackground": true,
            "ticks": "",
            "zerolinecolor": "white"
           },
           "yaxis": {
            "backgroundcolor": "#E5ECF6",
            "gridcolor": "white",
            "gridwidth": 2,
            "linecolor": "white",
            "showbackground": true,
            "ticks": "",
            "zerolinecolor": "white"
           },
           "zaxis": {
            "backgroundcolor": "#E5ECF6",
            "gridcolor": "white",
            "gridwidth": 2,
            "linecolor": "white",
            "showbackground": true,
            "ticks": "",
            "zerolinecolor": "white"
           }
          },
          "shapedefaults": {
           "line": {
            "color": "#2a3f5f"
           }
          },
          "ternary": {
           "aaxis": {
            "gridcolor": "white",
            "linecolor": "white",
            "ticks": ""
           },
           "baxis": {
            "gridcolor": "white",
            "linecolor": "white",
            "ticks": ""
           },
           "bgcolor": "#E5ECF6",
           "caxis": {
            "gridcolor": "white",
            "linecolor": "white",
            "ticks": ""
           }
          },
          "title": {
           "x": 0.05
          },
          "xaxis": {
           "automargin": true,
           "gridcolor": "white",
           "linecolor": "white",
           "ticks": "",
           "title": {
            "standoff": 15
           },
           "zerolinecolor": "white",
           "zerolinewidth": 2
          },
          "yaxis": {
           "automargin": true,
           "gridcolor": "white",
           "linecolor": "white",
           "ticks": "",
           "title": {
            "standoff": 15
           },
           "zerolinecolor": "white",
           "zerolinewidth": 2
          }
         }
        },
        "title": {
         "text": "Missing Data"
        },
        "xaxis": {
         "title": {
          "text": "Columns"
         }
        },
        "yaxis": {
         "rangemode": "tozero",
         "title": {
          "text": "Missing Count"
         }
        }
       }
      }
     },
     "metadata": {},
     "output_type": "display_data"
    },
    {
     "data": {
      "application/vnd.plotly.v1+json": {
       "config": {
        "plotlyServerURL": "https://plot.ly"
       },
       "data": [
        {
         "type": "bar",
         "x": [
          "OXO-5LI657E Augusta",
          "OXO-5LI657F Augusta",
          "OXO-5LI658E Augusta",
          "OXO-5LI658F Augusta",
          "OXO-5PIC605A Augusta",
          "OXO-5RIC606_Y Augusta",
          "OXO-5TIC002 Augusta",
          "OXO-5TIC601 Augusta",
          "OXO-5TIC602 Augusta",
          "OXO-5TIC603 Augusta",
          "OXO-5TIC604 Augusta",
          "OXO-5TIC605 Augusta",
          "OXO-5TIC606 Augusta",
          "OXO-5TIC607 Augusta",
          "OXO-5TIC659 Augusta",
          "OXO-_5FI658A Augusta",
          "OXO-_5FI659A Augusta",
          "OXO-_5FI660A Augusta",
          "OXO-_5FI662A Augusta"
         ],
         "y": [
          0,
          0,
          0,
          0,
          0,
          0,
          0,
          0,
          0,
          0,
          0,
          0,
          0,
          0,
          0,
          0,
          0,
          0,
          0
         ]
        }
       ],
       "layout": {
        "template": {
         "data": {
          "bar": [
           {
            "error_x": {
             "color": "#2a3f5f"
            },
            "error_y": {
             "color": "#2a3f5f"
            },
            "marker": {
             "line": {
              "color": "#E5ECF6",
              "width": 0.5
             },
             "pattern": {
              "fillmode": "overlay",
              "size": 10,
              "solidity": 0.2
             }
            },
            "type": "bar"
           }
          ],
          "barpolar": [
           {
            "marker": {
             "line": {
              "color": "#E5ECF6",
              "width": 0.5
             },
             "pattern": {
              "fillmode": "overlay",
              "size": 10,
              "solidity": 0.2
             }
            },
            "type": "barpolar"
           }
          ],
          "carpet": [
           {
            "aaxis": {
             "endlinecolor": "#2a3f5f",
             "gridcolor": "white",
             "linecolor": "white",
             "minorgridcolor": "white",
             "startlinecolor": "#2a3f5f"
            },
            "baxis": {
             "endlinecolor": "#2a3f5f",
             "gridcolor": "white",
             "linecolor": "white",
             "minorgridcolor": "white",
             "startlinecolor": "#2a3f5f"
            },
            "type": "carpet"
           }
          ],
          "choropleth": [
           {
            "colorbar": {
             "outlinewidth": 0,
             "ticks": ""
            },
            "type": "choropleth"
           }
          ],
          "contour": [
           {
            "colorbar": {
             "outlinewidth": 0,
             "ticks": ""
            },
            "colorscale": [
             [
              0,
              "#0d0887"
             ],
             [
              0.1111111111111111,
              "#46039f"
             ],
             [
              0.2222222222222222,
              "#7201a8"
             ],
             [
              0.3333333333333333,
              "#9c179e"
             ],
             [
              0.4444444444444444,
              "#bd3786"
             ],
             [
              0.5555555555555556,
              "#d8576b"
             ],
             [
              0.6666666666666666,
              "#ed7953"
             ],
             [
              0.7777777777777778,
              "#fb9f3a"
             ],
             [
              0.8888888888888888,
              "#fdca26"
             ],
             [
              1,
              "#f0f921"
             ]
            ],
            "type": "contour"
           }
          ],
          "contourcarpet": [
           {
            "colorbar": {
             "outlinewidth": 0,
             "ticks": ""
            },
            "type": "contourcarpet"
           }
          ],
          "heatmap": [
           {
            "colorbar": {
             "outlinewidth": 0,
             "ticks": ""
            },
            "colorscale": [
             [
              0,
              "#0d0887"
             ],
             [
              0.1111111111111111,
              "#46039f"
             ],
             [
              0.2222222222222222,
              "#7201a8"
             ],
             [
              0.3333333333333333,
              "#9c179e"
             ],
             [
              0.4444444444444444,
              "#bd3786"
             ],
             [
              0.5555555555555556,
              "#d8576b"
             ],
             [
              0.6666666666666666,
              "#ed7953"
             ],
             [
              0.7777777777777778,
              "#fb9f3a"
             ],
             [
              0.8888888888888888,
              "#fdca26"
             ],
             [
              1,
              "#f0f921"
             ]
            ],
            "type": "heatmap"
           }
          ],
          "heatmapgl": [
           {
            "colorbar": {
             "outlinewidth": 0,
             "ticks": ""
            },
            "colorscale": [
             [
              0,
              "#0d0887"
             ],
             [
              0.1111111111111111,
              "#46039f"
             ],
             [
              0.2222222222222222,
              "#7201a8"
             ],
             [
              0.3333333333333333,
              "#9c179e"
             ],
             [
              0.4444444444444444,
              "#bd3786"
             ],
             [
              0.5555555555555556,
              "#d8576b"
             ],
             [
              0.6666666666666666,
              "#ed7953"
             ],
             [
              0.7777777777777778,
              "#fb9f3a"
             ],
             [
              0.8888888888888888,
              "#fdca26"
             ],
             [
              1,
              "#f0f921"
             ]
            ],
            "type": "heatmapgl"
           }
          ],
          "histogram": [
           {
            "marker": {
             "pattern": {
              "fillmode": "overlay",
              "size": 10,
              "solidity": 0.2
             }
            },
            "type": "histogram"
           }
          ],
          "histogram2d": [
           {
            "colorbar": {
             "outlinewidth": 0,
             "ticks": ""
            },
            "colorscale": [
             [
              0,
              "#0d0887"
             ],
             [
              0.1111111111111111,
              "#46039f"
             ],
             [
              0.2222222222222222,
              "#7201a8"
             ],
             [
              0.3333333333333333,
              "#9c179e"
             ],
             [
              0.4444444444444444,
              "#bd3786"
             ],
             [
              0.5555555555555556,
              "#d8576b"
             ],
             [
              0.6666666666666666,
              "#ed7953"
             ],
             [
              0.7777777777777778,
              "#fb9f3a"
             ],
             [
              0.8888888888888888,
              "#fdca26"
             ],
             [
              1,
              "#f0f921"
             ]
            ],
            "type": "histogram2d"
           }
          ],
          "histogram2dcontour": [
           {
            "colorbar": {
             "outlinewidth": 0,
             "ticks": ""
            },
            "colorscale": [
             [
              0,
              "#0d0887"
             ],
             [
              0.1111111111111111,
              "#46039f"
             ],
             [
              0.2222222222222222,
              "#7201a8"
             ],
             [
              0.3333333333333333,
              "#9c179e"
             ],
             [
              0.4444444444444444,
              "#bd3786"
             ],
             [
              0.5555555555555556,
              "#d8576b"
             ],
             [
              0.6666666666666666,
              "#ed7953"
             ],
             [
              0.7777777777777778,
              "#fb9f3a"
             ],
             [
              0.8888888888888888,
              "#fdca26"
             ],
             [
              1,
              "#f0f921"
             ]
            ],
            "type": "histogram2dcontour"
           }
          ],
          "mesh3d": [
           {
            "colorbar": {
             "outlinewidth": 0,
             "ticks": ""
            },
            "type": "mesh3d"
           }
          ],
          "parcoords": [
           {
            "line": {
             "colorbar": {
              "outlinewidth": 0,
              "ticks": ""
             }
            },
            "type": "parcoords"
           }
          ],
          "pie": [
           {
            "automargin": true,
            "type": "pie"
           }
          ],
          "scatter": [
           {
            "fillpattern": {
             "fillmode": "overlay",
             "size": 10,
             "solidity": 0.2
            },
            "type": "scatter"
           }
          ],
          "scatter3d": [
           {
            "line": {
             "colorbar": {
              "outlinewidth": 0,
              "ticks": ""
             }
            },
            "marker": {
             "colorbar": {
              "outlinewidth": 0,
              "ticks": ""
             }
            },
            "type": "scatter3d"
           }
          ],
          "scattercarpet": [
           {
            "marker": {
             "colorbar": {
              "outlinewidth": 0,
              "ticks": ""
             }
            },
            "type": "scattercarpet"
           }
          ],
          "scattergeo": [
           {
            "marker": {
             "colorbar": {
              "outlinewidth": 0,
              "ticks": ""
             }
            },
            "type": "scattergeo"
           }
          ],
          "scattergl": [
           {
            "marker": {
             "colorbar": {
              "outlinewidth": 0,
              "ticks": ""
             }
            },
            "type": "scattergl"
           }
          ],
          "scattermapbox": [
           {
            "marker": {
             "colorbar": {
              "outlinewidth": 0,
              "ticks": ""
             }
            },
            "type": "scattermapbox"
           }
          ],
          "scatterpolar": [
           {
            "marker": {
             "colorbar": {
              "outlinewidth": 0,
              "ticks": ""
             }
            },
            "type": "scatterpolar"
           }
          ],
          "scatterpolargl": [
           {
            "marker": {
             "colorbar": {
              "outlinewidth": 0,
              "ticks": ""
             }
            },
            "type": "scatterpolargl"
           }
          ],
          "scatterternary": [
           {
            "marker": {
             "colorbar": {
              "outlinewidth": 0,
              "ticks": ""
             }
            },
            "type": "scatterternary"
           }
          ],
          "surface": [
           {
            "colorbar": {
             "outlinewidth": 0,
             "ticks": ""
            },
            "colorscale": [
             [
              0,
              "#0d0887"
             ],
             [
              0.1111111111111111,
              "#46039f"
             ],
             [
              0.2222222222222222,
              "#7201a8"
             ],
             [
              0.3333333333333333,
              "#9c179e"
             ],
             [
              0.4444444444444444,
              "#bd3786"
             ],
             [
              0.5555555555555556,
              "#d8576b"
             ],
             [
              0.6666666666666666,
              "#ed7953"
             ],
             [
              0.7777777777777778,
              "#fb9f3a"
             ],
             [
              0.8888888888888888,
              "#fdca26"
             ],
             [
              1,
              "#f0f921"
             ]
            ],
            "type": "surface"
           }
          ],
          "table": [
           {
            "cells": {
             "fill": {
              "color": "#EBF0F8"
             },
             "line": {
              "color": "white"
             }
            },
            "header": {
             "fill": {
              "color": "#C8D4E3"
             },
             "line": {
              "color": "white"
             }
            },
            "type": "table"
           }
          ]
         },
         "layout": {
          "annotationdefaults": {
           "arrowcolor": "#2a3f5f",
           "arrowhead": 0,
           "arrowwidth": 1
          },
          "autotypenumbers": "strict",
          "coloraxis": {
           "colorbar": {
            "outlinewidth": 0,
            "ticks": ""
           }
          },
          "colorscale": {
           "diverging": [
            [
             0,
             "#8e0152"
            ],
            [
             0.1,
             "#c51b7d"
            ],
            [
             0.2,
             "#de77ae"
            ],
            [
             0.3,
             "#f1b6da"
            ],
            [
             0.4,
             "#fde0ef"
            ],
            [
             0.5,
             "#f7f7f7"
            ],
            [
             0.6,
             "#e6f5d0"
            ],
            [
             0.7,
             "#b8e186"
            ],
            [
             0.8,
             "#7fbc41"
            ],
            [
             0.9,
             "#4d9221"
            ],
            [
             1,
             "#276419"
            ]
           ],
           "sequential": [
            [
             0,
             "#0d0887"
            ],
            [
             0.1111111111111111,
             "#46039f"
            ],
            [
             0.2222222222222222,
             "#7201a8"
            ],
            [
             0.3333333333333333,
             "#9c179e"
            ],
            [
             0.4444444444444444,
             "#bd3786"
            ],
            [
             0.5555555555555556,
             "#d8576b"
            ],
            [
             0.6666666666666666,
             "#ed7953"
            ],
            [
             0.7777777777777778,
             "#fb9f3a"
            ],
            [
             0.8888888888888888,
             "#fdca26"
            ],
            [
             1,
             "#f0f921"
            ]
           ],
           "sequentialminus": [
            [
             0,
             "#0d0887"
            ],
            [
             0.1111111111111111,
             "#46039f"
            ],
            [
             0.2222222222222222,
             "#7201a8"
            ],
            [
             0.3333333333333333,
             "#9c179e"
            ],
            [
             0.4444444444444444,
             "#bd3786"
            ],
            [
             0.5555555555555556,
             "#d8576b"
            ],
            [
             0.6666666666666666,
             "#ed7953"
            ],
            [
             0.7777777777777778,
             "#fb9f3a"
            ],
            [
             0.8888888888888888,
             "#fdca26"
            ],
            [
             1,
             "#f0f921"
            ]
           ]
          },
          "colorway": [
           "#636efa",
           "#EF553B",
           "#00cc96",
           "#ab63fa",
           "#FFA15A",
           "#19d3f3",
           "#FF6692",
           "#B6E880",
           "#FF97FF",
           "#FECB52"
          ],
          "font": {
           "color": "#2a3f5f"
          },
          "geo": {
           "bgcolor": "white",
           "lakecolor": "white",
           "landcolor": "#E5ECF6",
           "showlakes": true,
           "showland": true,
           "subunitcolor": "white"
          },
          "hoverlabel": {
           "align": "left"
          },
          "hovermode": "closest",
          "mapbox": {
           "style": "light"
          },
          "paper_bgcolor": "white",
          "plot_bgcolor": "#E5ECF6",
          "polar": {
           "angularaxis": {
            "gridcolor": "white",
            "linecolor": "white",
            "ticks": ""
           },
           "bgcolor": "#E5ECF6",
           "radialaxis": {
            "gridcolor": "white",
            "linecolor": "white",
            "ticks": ""
           }
          },
          "scene": {
           "xaxis": {
            "backgroundcolor": "#E5ECF6",
            "gridcolor": "white",
            "gridwidth": 2,
            "linecolor": "white",
            "showbackground": true,
            "ticks": "",
            "zerolinecolor": "white"
           },
           "yaxis": {
            "backgroundcolor": "#E5ECF6",
            "gridcolor": "white",
            "gridwidth": 2,
            "linecolor": "white",
            "showbackground": true,
            "ticks": "",
            "zerolinecolor": "white"
           },
           "zaxis": {
            "backgroundcolor": "#E5ECF6",
            "gridcolor": "white",
            "gridwidth": 2,
            "linecolor": "white",
            "showbackground": true,
            "ticks": "",
            "zerolinecolor": "white"
           }
          },
          "shapedefaults": {
           "line": {
            "color": "#2a3f5f"
           }
          },
          "ternary": {
           "aaxis": {
            "gridcolor": "white",
            "linecolor": "white",
            "ticks": ""
           },
           "baxis": {
            "gridcolor": "white",
            "linecolor": "white",
            "ticks": ""
           },
           "bgcolor": "#E5ECF6",
           "caxis": {
            "gridcolor": "white",
            "linecolor": "white",
            "ticks": ""
           }
          },
          "title": {
           "x": 0.05
          },
          "xaxis": {
           "automargin": true,
           "gridcolor": "white",
           "linecolor": "white",
           "ticks": "",
           "title": {
            "standoff": 15
           },
           "zerolinecolor": "white",
           "zerolinewidth": 2
          },
          "yaxis": {
           "automargin": true,
           "gridcolor": "white",
           "linecolor": "white",
           "ticks": "",
           "title": {
            "standoff": 15
           },
           "zerolinecolor": "white",
           "zerolinewidth": 2
          }
         }
        },
        "title": {
         "text": "Missing Data"
        },
        "xaxis": {
         "title": {
          "text": "Columns"
         }
        },
        "yaxis": {
         "rangemode": "tozero",
         "title": {
          "text": "Missing Count"
         }
        }
       }
      }
     },
     "metadata": {},
     "output_type": "display_data"
    },
    {
     "name": "stdout",
     "output_type": "stream",
     "text": [
      "Removing Duplicates...\n",
      "Handling Missing Data...\n",
      "# rows dropped with missing values in the target variable: 0\n",
      "Dropped columns: ['OXO-5FIC606A Augusta', 'OXO-5FIC611B Augusta', 'OXO-5LI654F Augusta']\n",
      "Filled missing values using forward\n",
      "Missing data summary:\n",
      "Series([], dtype: int64)\n",
      "Generating Anomaly Report...\n",
      "./Data_Cleansing/OXO-5FI696 Augusta_anomaly_report already exists, trying again...\n",
      "[WinError 183] Cannot create a file when that file already exists: './Data_Cleansing/OXO-5FI696 Augusta_anomaly_report\\\\xlsx'\n",
      "Selected Features are OXO-5FI696 Augusta, OXO-5FI635C Augusta, OXO-5FIC602 Augusta, OXO-5FIC612B Augusta, OXO-5FIC622C Augusta, OXO-5FIC636C Augusta, OXO-5TIC602 Augusta, OXO-5TIC603 Augusta\n",
      "Finding bounds...\n",
      "Found Bounds!\n",
      "Index(['OXO-5FI696 Augusta'], dtype='object')\n",
      "OXO-5FI696 Augusta\n",
      "Done\n",
      "Detecting Outliers...\n",
      "2 outliers detected in OXO-5FI696 Augusta\n",
      "3 outliers detected in OXO-5FIC612A Augusta\n",
      "3 outliers detected in OXO-5FIC618A Augusta\n",
      "3 outliers detected in OXO-5FIC618D Augusta\n",
      "4 outliers detected in OXO-5FIC622A Augusta\n",
      "2 outliers detected in OXO-5FIC636C Augusta\n",
      "3 outliers detected in OXO-5LI650F Augusta\n",
      "2 outliers detected in OXO-5LI651F Augusta\n",
      "1 outliers detected in OXO-5LI654E Augusta\n",
      "2 outliers detected in OXO-5LI657F Augusta\n",
      "3 outliers detected in OXO-5LI658E Augusta\n",
      "4 outliers detected in OXO-5PIC605A Augusta\n",
      "1 outliers detected in OXO-5TIC002 Augusta\n",
      "1 outliers detected in OXO-5TIC603 Augusta\n",
      "4 outliers detected in OXO-5TIC659 Augusta\n",
      "Encoding Features...\n",
      "Warning: No categorical columns found. Calling 'transform' will only return input data.\n",
      "Analyzing Data...\n"
     ]
    },
    {
     "data": {
      "application/vnd.plotly.v1+json": {
       "config": {
        "plotlyServerURL": "https://plot.ly"
       },
       "data": [
        {
         "colorscale": [
          [
           0,
           "rgb(165,0,38)"
          ],
          [
           0.1,
           "rgb(215,48,39)"
          ],
          [
           0.2,
           "rgb(244,109,67)"
          ],
          [
           0.3,
           "rgb(253,174,97)"
          ],
          [
           0.4,
           "rgb(254,224,144)"
          ],
          [
           0.5,
           "rgb(255,255,191)"
          ],
          [
           0.6,
           "rgb(224,243,248)"
          ],
          [
           0.7,
           "rgb(171,217,233)"
          ],
          [
           0.8,
           "rgb(116,173,209)"
          ],
          [
           0.9,
           "rgb(69,117,180)"
          ],
          [
           1,
           "rgb(49,54,149)"
          ]
         ],
         "type": "heatmap",
         "x": [
          "OXO-5FI635C Augusta",
          "OXO-5FI661A Augusta",
          "OXO-5FIC132 Augusta",
          "OXO-5FIC600 Augusta",
          "OXO-5FIC601 Augusta",
          "OXO-5FIC602 Augusta",
          "OXO-5FIC606C Augusta",
          "OXO-5FIC609B Augusta",
          "OXO-5FIC611A Augusta",
          "OXO-5FIC612A Augusta"
         ],
         "y": [
          "OXO-5FI635C Augusta",
          "OXO-5FI661A Augusta",
          "OXO-5FIC132 Augusta",
          "OXO-5FIC600 Augusta",
          "OXO-5FIC601 Augusta",
          "OXO-5FIC602 Augusta",
          "OXO-5FIC606C Augusta",
          "OXO-5FIC609B Augusta",
          "OXO-5FIC611A Augusta",
          "OXO-5FIC612A Augusta"
         ],
         "z": [
          [
           1,
           0.4414826812687446,
           -0.09770901267319432,
           0.2141529712484165,
           0.3621922438496711,
           0.37844473853707516,
           0.22233972849182598,
           -0.16629694457819702,
           0.20776166925186243,
           0.2610269931787004
          ],
          [
           0.4414826812687446,
           1,
           0.337796827491654,
           0.7728143782837121,
           0.8695608095260817,
           0.3733993486273109,
           -0.3342560256286869,
           -0.048815444357762194,
           -0.3538493301110084,
           0.07122051802048802
          ],
          [
           -0.09770901267319432,
           0.337796827491654,
           1,
           0.4751788447905892,
           0.30315784209926155,
           0.3880491529105042,
           -0.23431489597353977,
           -0.1737777268123152,
           -0.19933347529869608,
           0.03507532106262877
          ],
          [
           0.2141529712484165,
           0.7728143782837121,
           0.4751788447905892,
           1,
           0.8320152356845535,
           0.3316667979092914,
           -0.36957644659300315,
           0.059157253355311336,
           -0.42944339883309113,
           0.10939777547838637
          ],
          [
           0.3621922438496711,
           0.8695608095260817,
           0.30315784209926155,
           0.8320152356845535,
           1,
           0.220016746013484,
           -0.36749980390826037,
           0.17789694955112234,
           -0.3850436096475312,
           0.0863540318291885
          ],
          [
           0.37844473853707516,
           0.3733993486273109,
           0.3880491529105042,
           0.3316667979092914,
           0.220016746013484,
           1,
           0.01192766108777464,
           -0.4411791896523419,
           0.018998282415615995,
           0.2226141011848797
          ],
          [
           0.22233972849182598,
           -0.3342560256286869,
           -0.23431489597353977,
           -0.36957644659300315,
           -0.36749980390826037,
           0.01192766108777464,
           1,
           -0.3795490681642183,
           0.9095208049645279,
           0.5893261772234228
          ],
          [
           -0.16629694457819702,
           -0.048815444357762194,
           -0.1737777268123152,
           0.059157253355311336,
           0.17789694955112234,
           -0.4411791896523419,
           -0.3795490681642183,
           1,
           -0.425592713762407,
           -0.3224175015678227
          ],
          [
           0.20776166925186243,
           -0.3538493301110084,
           -0.19933347529869608,
           -0.42944339883309113,
           -0.3850436096475312,
           0.018998282415615995,
           0.9095208049645279,
           -0.425592713762407,
           1,
           0.613800801888602
          ],
          [
           0.2610269931787004,
           0.07122051802048802,
           0.03507532106262877,
           0.10939777547838637,
           0.0863540318291885,
           0.2226141011848797,
           0.5893261772234228,
           -0.3224175015678227,
           0.613800801888602,
           1
          ],
          [
           0.7141788101241752,
           0.6721871573452728,
           0.2917159692863517,
           0.4742061998578471,
           0.5057743245362613,
           0.7505336946629788,
           -0.04928221467087347,
           -0.31907749089486825,
           -0.03883199902097391,
           0.25923313978239076
          ],
          [
           0.22696053257931034,
           0.49670298095361903,
           0.6594879025447222,
           0.4145912403364144,
           0.2984622769213806,
           0.5019548155365297,
           -0.21090824524384488,
           -0.24664296690158893,
           -0.19099868002793968,
           -0.03645579083243997
          ],
          [
           0.5085307667345373,
           0.4938776198449454,
           0.166539196708448,
           0.12525617023904773,
           0.31619435879709556,
           0.4460042178792554,
           -0.28732597225762485,
           -0.15890167915211664,
           -0.19417897635916798,
           -0.11076086625750592
          ],
          [
           0.5331160469571733,
           0.48092484224940774,
           0.14975693126021475,
           0.3608683281937439,
           0.2978411152288302,
           0.4517993765632016,
           -0.0008630233868542777,
           -0.4293856471280326,
           -0.05796264138601975,
           0.09348321798030768
          ],
          [
           -0.062492725316757876,
           0.047040198150997414,
           -0.10867368001072772,
           -0.011984070190610102,
           0.060107718111146714,
           -0.06809047773413604,
           -0.15162105754356,
           0.22838331076000526,
           -0.10153554507221128,
           -0.04413569630811757
          ],
          [
           0.004756151808536018,
           -0.2243627601238142,
           -0.14968240027872454,
           -0.25162435667971733,
           -0.2289610302445877,
           -0.11387422211327508,
           0.425136437251528,
           -0.05463494752803951,
           0.4022329235299358,
           0.15699822091169788
          ],
          [
           0.5362196490735319,
           0.854210684043184,
           0.07084771232219099,
           0.6189572829972647,
           0.7993349077770653,
           0.2899285472730787,
           -0.19365527686840245,
           0.06302395219248054,
           -0.20294370792651625,
           0.18379684451421574
          ],
          [
           0.7247733302792873,
           0.2504205839349996,
           -0.3140575941250439,
           0.07892403460889796,
           0.17351597437975397,
           0.28726581421172886,
           0.2905203617229626,
           -0.1469144937457641,
           0.3136518998348543,
           0.3687709709281529
          ],
          [
           -0.3029505006721658,
           -0.3479892736763203,
           0.0984828382100451,
           -0.2840637629998556,
           -0.34715718210328217,
           -0.16340621103955302,
           0.4426852025363019,
           0.0784137486150239,
           0.43272001532759297,
           0.2784126067340328
          ],
          [
           -0.1842697759877861,
           -0.2150708824876118,
           0.018139466816837972,
           -0.12496567794392886,
           -0.17177745139456765,
           -0.2912009083442445,
           0.4928326069187983,
           0.03667975399578838,
           0.46808693673584967,
           0.3148290361184177
          ],
          [
           0.7904877093372964,
           0.3445981255411294,
           -0.17125717040099217,
           0.07891017623787921,
           0.28799894829199846,
           0.5145328624077459,
           0.12723313649413975,
           -0.10547549322274691,
           0.14009149389876802,
           0.23271523357691618
          ],
          [
           -0.2199018758740184,
           -0.8561809182109006,
           -0.42748837677675916,
           -0.8166429131051002,
           -0.8619727726873936,
           -0.24193294068790422,
           0.27921573141951683,
           -0.022774110148220058,
           0.3096445626021819,
           -0.1938902844183204
          ],
          [
           0.3784862499667794,
           0.8163440508252385,
           0.1858415219662789,
           0.7644015290955376,
           0.9445000435031786,
           0.21037487101200722,
           -0.3870879583643352,
           0.28291313768231924,
           -0.42509538407143627,
           0.08178398821070249
          ],
          [
           0.05993373576419612,
           0.28569456378214014,
           -0.1599090637174867,
           0.2440410324350327,
           0.2875226051299218,
           0.11610299348306928,
           -0.25370989603342153,
           0.010316394612226816,
           -0.21793919852923072,
           0.07391333559715342
          ],
          [
           0.22595624495736286,
           0.8652257157940298,
           0.38382453719839754,
           0.8384489479694496,
           0.8746024222999329,
           0.2828302998906941,
           -0.34965774972991365,
           0.07302538044110608,
           -0.40748047665733805,
           0.16132517299429208
          ],
          [
           0.21923501484207647,
           -0.06257646798172413,
           -0.11716065823993115,
           -0.19014254264109354,
           -0.10155364618724731,
           -0.013563142716625766,
           0.7179261175731574,
           -0.5119355338563698,
           0.7840962486262877,
           0.5027000143596825
          ],
          [
           -0.08617910405466034,
           -0.17575646025028838,
           0.014030138469574363,
           -0.08653914086829968,
           -0.1701677790378368,
           -0.0781002044254733,
           -0.293262418182548,
           0.017416663596463353,
           -0.3589985199713124,
           -0.3672500016908491
          ],
          [
           -0.15355205586391596,
           -0.7981405790548765,
           -0.5422781624528515,
           -0.8336246353959819,
           -0.797046147669325,
           -0.27772528475995195,
           0.16758988988762877,
           0.042063833137171096,
           0.23131223264923478,
           -0.2446226091716607
          ],
          [
           -0.1444293575859865,
           -0.8109642427267673,
           -0.5483175962128479,
           -0.8510542390686207,
           -0.8136172519259826,
           -0.2773983956856007,
           0.2311926612930153,
           0.005389163098228052,
           0.29677256742170777,
           -0.20068783471779814
          ],
          [
           -0.3285401347619252,
           -0.6711572836882251,
           0.22430806736084863,
           -0.4983292698171103,
           -0.6849471203879446,
           -0.08061623074378327,
           0.285321390613791,
           -0.1349641364711133,
           0.318455237460504,
           -0.12447646552382496
          ],
          [
           0.2027841296808699,
           0.605561449527937,
           0.24618201780429214,
           0.444603045758992,
           0.5887570915306988,
           0.21591340558491123,
           -0.40986503106540617,
           0.31815506620475853,
           -0.38603659361887854,
           -0.03474830267172076
          ],
          [
           -0.20593648774849743,
           -0.8804319058113981,
           -0.4505541580379567,
           -0.861874526405821,
           -0.8802925096085169,
           -0.2868438443791955,
           0.40980648840078737,
           -0.09930740862316517,
           0.45976935594759555,
           -0.08681916738097381
          ],
          [
           0.40805183861347655,
           0.7090509284673311,
           0.27483779212791354,
           0.6098345951054783,
           0.6839512997358385,
           0.4604405260400085,
           -0.21691200961996304,
           0.029682726389527122,
           -0.2552900371295408,
           0.2691004194306373
          ],
          [
           0.06253562780446367,
           -0.46896410642187186,
           -0.30327709299238886,
           -0.4952755144507941,
           -0.5091349142760346,
           0.03622254869780644,
           0.6294314418616316,
           -0.3622074557068243,
           0.7660735293876222,
           0.367833678471725
          ],
          [
           -0.107003541570143,
           0.1772566372382756,
           -0.2292967219552438,
           0.23395636163865,
           0.22951416183303608,
           -0.08199011273553926,
           -0.6438118042197783,
           0.2962313848292547,
           -0.678628503969341,
           -0.3274175722845943
          ],
          [
           0.04154968991265029,
           -0.7115050839404046,
           -0.32566664200356094,
           -0.7608642817583354,
           -0.7596330356509999,
           -0.08043305979520962,
           0.7643988477783444,
           -0.33861548961368493,
           0.8316320980439044,
           0.2945709634963785
          ],
          [
           0.2615749736004077,
           0.14449768750550676,
           -0.12601457040753453,
           0.12176284625610861,
           0.0721183396997751,
           -0.0452541490536444,
           0.07880659083104036,
           0.07105565610243669,
           0.1144453697288212,
           0.003128279078732747
          ],
          [
           0.19455819854978582,
           -0.13869442063367785,
           -0.5579318763189819,
           -0.37493953583218537,
           -0.08529378741870655,
           -0.16524841853711425,
           -0.10675299516822023,
           0.047987370855791245,
           0.026584341231456785,
           -0.09539317454131478
          ],
          [
           -0.1205812023568366,
           0.08855116253389739,
           0.06872703279955929,
           0.06777089960680346,
           0.0409128189338685,
           0.10895696356020015,
           -0.10812769736588333,
           -0.07885374370839573,
           -0.11939729096043901,
           -0.06364491369940393
          ],
          [
           0.4428277467712431,
           0.8422464915922679,
           0.2573974864273748,
           0.7662142582151779,
           0.9662064049232022,
           0.22425438699260788,
           -0.3426455604783884,
           0.19881257723381013,
           -0.3243196478051331,
           0.08238396227379702
          ],
          [
           -0.7047156520568504,
           -0.6597997594336275,
           -0.11147973300938452,
           -0.47316996957494833,
           -0.7239056980208877,
           -0.3703806729403833,
           0.06083391274602953,
           0.0697162143991923,
           0.026929751892081782,
           -0.3021216476963227
          ],
          [
           -0.6068939498853365,
           -0.5390808245921211,
           -0.281781260149683,
           -0.22137890620152964,
           -0.40249899158437913,
           -0.3921355968711941,
           -0.033630810305745704,
           0.30372275286710804,
           -0.1402174299968339,
           -0.29166602947612114
          ],
          [
           -0.4928484472016879,
           -0.45953329858621395,
           0.059208481869963636,
           -0.3455326601631434,
           -0.5783683772244786,
           -0.2383347349883288,
           0.3027593180490482,
           -0.05297183859160186,
           0.20722130823991924,
           -0.05328980582697125
          ],
          [
           -0.5410639737455973,
           -0.4808571096914125,
           -0.018515882576147127,
           -0.2845708829079101,
           -0.5151869666057846,
           -0.2864968035096546,
           0.26970251761819075,
           0.04183329488650877,
           0.14385117784743387,
           -0.06966154282152842
          ],
          [
           -0.4189734825123146,
           0.0030201337732737943,
           0.275702979620619,
           0.21809451558142715,
           0.013856378209483851,
           -0.12152242076963997,
           0.09498232716342714,
           0.08736210429938206,
           -0.016151381751182133,
           0.05605623224658736
          ],
          [
           -0.27050568648020684,
           0.050112646481159706,
           0.015061900820708997,
           0.2443399718719874,
           0.16759691199647675,
           -0.3052866473832048,
           0.07819229697991054,
           0.268207513886224,
           -0.04776099511560616,
           0.015466157514794887
          ],
          [
           -0.15329952467983954,
           -0.12977816103539644,
           0.09346255972115027,
           -0.10275092955517934,
           -0.025667532491974655,
           0.05892340896629948,
           -0.03676965316995665,
           -0.08857434284312769,
           -0.03109984900299559,
           -0.024117642311391883
          ],
          [
           0.464675366768897,
           0.98799092783108,
           0.3256698986020395,
           0.7619805595049307,
           0.8616881876276632,
           0.40741138574721814,
           -0.37777775704307087,
           -0.042922592968312245,
           -0.39093294807491885,
           0.04161781417685988
          ],
          [
           0.43842416406585777,
           0.9919547085947872,
           0.33118578475413274,
           0.7612635687630851,
           0.8724513738356279,
           0.35966456867563795,
           -0.345886721714082,
           -0.06529650316827619,
           -0.3534241139890083,
           0.060483025694186635
          ],
          [
           0.45396069730720584,
           0.9700313014062064,
           0.33373788184882597,
           0.7589704150341507,
           0.8465445563159433,
           0.4133712056903425,
           -0.32862735664040127,
           0.020474885616140883,
           -0.36084173312423434,
           0.08695195468494671
          ],
          [
           0.4346073215157947,
           0.9852022737321363,
           0.3746903773136311,
           0.7569010311184672,
           0.8740395555401183,
           0.3856095415696895,
           -0.3239954601359754,
           -0.013629760762809784,
           -0.3169607530666225,
           0.08388040159796928
          ],
          [
           0.7003829225865948,
           0.23117734751668273,
           0.09872945086168373,
           0.07822666480631071,
           0.14064725259257468,
           0.6185941355239307,
           0.3146178640444763,
           -0.2905825220902709,
           0.31259139688584814,
           0.30692128335784635
          ]
         ]
        }
       ],
       "layout": {
        "scene": {
         "aspectmode": "data"
        },
        "template": {
         "data": {
          "bar": [
           {
            "error_x": {
             "color": "#2a3f5f"
            },
            "error_y": {
             "color": "#2a3f5f"
            },
            "marker": {
             "line": {
              "color": "#E5ECF6",
              "width": 0.5
             },
             "pattern": {
              "fillmode": "overlay",
              "size": 10,
              "solidity": 0.2
             }
            },
            "type": "bar"
           }
          ],
          "barpolar": [
           {
            "marker": {
             "line": {
              "color": "#E5ECF6",
              "width": 0.5
             },
             "pattern": {
              "fillmode": "overlay",
              "size": 10,
              "solidity": 0.2
             }
            },
            "type": "barpolar"
           }
          ],
          "carpet": [
           {
            "aaxis": {
             "endlinecolor": "#2a3f5f",
             "gridcolor": "white",
             "linecolor": "white",
             "minorgridcolor": "white",
             "startlinecolor": "#2a3f5f"
            },
            "baxis": {
             "endlinecolor": "#2a3f5f",
             "gridcolor": "white",
             "linecolor": "white",
             "minorgridcolor": "white",
             "startlinecolor": "#2a3f5f"
            },
            "type": "carpet"
           }
          ],
          "choropleth": [
           {
            "colorbar": {
             "outlinewidth": 0,
             "ticks": ""
            },
            "type": "choropleth"
           }
          ],
          "contour": [
           {
            "colorbar": {
             "outlinewidth": 0,
             "ticks": ""
            },
            "colorscale": [
             [
              0,
              "#0d0887"
             ],
             [
              0.1111111111111111,
              "#46039f"
             ],
             [
              0.2222222222222222,
              "#7201a8"
             ],
             [
              0.3333333333333333,
              "#9c179e"
             ],
             [
              0.4444444444444444,
              "#bd3786"
             ],
             [
              0.5555555555555556,
              "#d8576b"
             ],
             [
              0.6666666666666666,
              "#ed7953"
             ],
             [
              0.7777777777777778,
              "#fb9f3a"
             ],
             [
              0.8888888888888888,
              "#fdca26"
             ],
             [
              1,
              "#f0f921"
             ]
            ],
            "type": "contour"
           }
          ],
          "contourcarpet": [
           {
            "colorbar": {
             "outlinewidth": 0,
             "ticks": ""
            },
            "type": "contourcarpet"
           }
          ],
          "heatmap": [
           {
            "colorbar": {
             "outlinewidth": 0,
             "ticks": ""
            },
            "colorscale": [
             [
              0,
              "#0d0887"
             ],
             [
              0.1111111111111111,
              "#46039f"
             ],
             [
              0.2222222222222222,
              "#7201a8"
             ],
             [
              0.3333333333333333,
              "#9c179e"
             ],
             [
              0.4444444444444444,
              "#bd3786"
             ],
             [
              0.5555555555555556,
              "#d8576b"
             ],
             [
              0.6666666666666666,
              "#ed7953"
             ],
             [
              0.7777777777777778,
              "#fb9f3a"
             ],
             [
              0.8888888888888888,
              "#fdca26"
             ],
             [
              1,
              "#f0f921"
             ]
            ],
            "type": "heatmap"
           }
          ],
          "heatmapgl": [
           {
            "colorbar": {
             "outlinewidth": 0,
             "ticks": ""
            },
            "colorscale": [
             [
              0,
              "#0d0887"
             ],
             [
              0.1111111111111111,
              "#46039f"
             ],
             [
              0.2222222222222222,
              "#7201a8"
             ],
             [
              0.3333333333333333,
              "#9c179e"
             ],
             [
              0.4444444444444444,
              "#bd3786"
             ],
             [
              0.5555555555555556,
              "#d8576b"
             ],
             [
              0.6666666666666666,
              "#ed7953"
             ],
             [
              0.7777777777777778,
              "#fb9f3a"
             ],
             [
              0.8888888888888888,
              "#fdca26"
             ],
             [
              1,
              "#f0f921"
             ]
            ],
            "type": "heatmapgl"
           }
          ],
          "histogram": [
           {
            "marker": {
             "pattern": {
              "fillmode": "overlay",
              "size": 10,
              "solidity": 0.2
             }
            },
            "type": "histogram"
           }
          ],
          "histogram2d": [
           {
            "colorbar": {
             "outlinewidth": 0,
             "ticks": ""
            },
            "colorscale": [
             [
              0,
              "#0d0887"
             ],
             [
              0.1111111111111111,
              "#46039f"
             ],
             [
              0.2222222222222222,
              "#7201a8"
             ],
             [
              0.3333333333333333,
              "#9c179e"
             ],
             [
              0.4444444444444444,
              "#bd3786"
             ],
             [
              0.5555555555555556,
              "#d8576b"
             ],
             [
              0.6666666666666666,
              "#ed7953"
             ],
             [
              0.7777777777777778,
              "#fb9f3a"
             ],
             [
              0.8888888888888888,
              "#fdca26"
             ],
             [
              1,
              "#f0f921"
             ]
            ],
            "type": "histogram2d"
           }
          ],
          "histogram2dcontour": [
           {
            "colorbar": {
             "outlinewidth": 0,
             "ticks": ""
            },
            "colorscale": [
             [
              0,
              "#0d0887"
             ],
             [
              0.1111111111111111,
              "#46039f"
             ],
             [
              0.2222222222222222,
              "#7201a8"
             ],
             [
              0.3333333333333333,
              "#9c179e"
             ],
             [
              0.4444444444444444,
              "#bd3786"
             ],
             [
              0.5555555555555556,
              "#d8576b"
             ],
             [
              0.6666666666666666,
              "#ed7953"
             ],
             [
              0.7777777777777778,
              "#fb9f3a"
             ],
             [
              0.8888888888888888,
              "#fdca26"
             ],
             [
              1,
              "#f0f921"
             ]
            ],
            "type": "histogram2dcontour"
           }
          ],
          "mesh3d": [
           {
            "colorbar": {
             "outlinewidth": 0,
             "ticks": ""
            },
            "type": "mesh3d"
           }
          ],
          "parcoords": [
           {
            "line": {
             "colorbar": {
              "outlinewidth": 0,
              "ticks": ""
             }
            },
            "type": "parcoords"
           }
          ],
          "pie": [
           {
            "automargin": true,
            "type": "pie"
           }
          ],
          "scatter": [
           {
            "fillpattern": {
             "fillmode": "overlay",
             "size": 10,
             "solidity": 0.2
            },
            "type": "scatter"
           }
          ],
          "scatter3d": [
           {
            "line": {
             "colorbar": {
              "outlinewidth": 0,
              "ticks": ""
             }
            },
            "marker": {
             "colorbar": {
              "outlinewidth": 0,
              "ticks": ""
             }
            },
            "type": "scatter3d"
           }
          ],
          "scattercarpet": [
           {
            "marker": {
             "colorbar": {
              "outlinewidth": 0,
              "ticks": ""
             }
            },
            "type": "scattercarpet"
           }
          ],
          "scattergeo": [
           {
            "marker": {
             "colorbar": {
              "outlinewidth": 0,
              "ticks": ""
             }
            },
            "type": "scattergeo"
           }
          ],
          "scattergl": [
           {
            "marker": {
             "colorbar": {
              "outlinewidth": 0,
              "ticks": ""
             }
            },
            "type": "scattergl"
           }
          ],
          "scattermapbox": [
           {
            "marker": {
             "colorbar": {
              "outlinewidth": 0,
              "ticks": ""
             }
            },
            "type": "scattermapbox"
           }
          ],
          "scatterpolar": [
           {
            "marker": {
             "colorbar": {
              "outlinewidth": 0,
              "ticks": ""
             }
            },
            "type": "scatterpolar"
           }
          ],
          "scatterpolargl": [
           {
            "marker": {
             "colorbar": {
              "outlinewidth": 0,
              "ticks": ""
             }
            },
            "type": "scatterpolargl"
           }
          ],
          "scatterternary": [
           {
            "marker": {
             "colorbar": {
              "outlinewidth": 0,
              "ticks": ""
             }
            },
            "type": "scatterternary"
           }
          ],
          "surface": [
           {
            "colorbar": {
             "outlinewidth": 0,
             "ticks": ""
            },
            "colorscale": [
             [
              0,
              "#0d0887"
             ],
             [
              0.1111111111111111,
              "#46039f"
             ],
             [
              0.2222222222222222,
              "#7201a8"
             ],
             [
              0.3333333333333333,
              "#9c179e"
             ],
             [
              0.4444444444444444,
              "#bd3786"
             ],
             [
              0.5555555555555556,
              "#d8576b"
             ],
             [
              0.6666666666666666,
              "#ed7953"
             ],
             [
              0.7777777777777778,
              "#fb9f3a"
             ],
             [
              0.8888888888888888,
              "#fdca26"
             ],
             [
              1,
              "#f0f921"
             ]
            ],
            "type": "surface"
           }
          ],
          "table": [
           {
            "cells": {
             "fill": {
              "color": "#EBF0F8"
             },
             "line": {
              "color": "white"
             }
            },
            "header": {
             "fill": {
              "color": "#C8D4E3"
             },
             "line": {
              "color": "white"
             }
            },
            "type": "table"
           }
          ]
         },
         "layout": {
          "annotationdefaults": {
           "arrowcolor": "#2a3f5f",
           "arrowhead": 0,
           "arrowwidth": 1
          },
          "autotypenumbers": "strict",
          "coloraxis": {
           "colorbar": {
            "outlinewidth": 0,
            "ticks": ""
           }
          },
          "colorscale": {
           "diverging": [
            [
             0,
             "#8e0152"
            ],
            [
             0.1,
             "#c51b7d"
            ],
            [
             0.2,
             "#de77ae"
            ],
            [
             0.3,
             "#f1b6da"
            ],
            [
             0.4,
             "#fde0ef"
            ],
            [
             0.5,
             "#f7f7f7"
            ],
            [
             0.6,
             "#e6f5d0"
            ],
            [
             0.7,
             "#b8e186"
            ],
            [
             0.8,
             "#7fbc41"
            ],
            [
             0.9,
             "#4d9221"
            ],
            [
             1,
             "#276419"
            ]
           ],
           "sequential": [
            [
             0,
             "#0d0887"
            ],
            [
             0.1111111111111111,
             "#46039f"
            ],
            [
             0.2222222222222222,
             "#7201a8"
            ],
            [
             0.3333333333333333,
             "#9c179e"
            ],
            [
             0.4444444444444444,
             "#bd3786"
            ],
            [
             0.5555555555555556,
             "#d8576b"
            ],
            [
             0.6666666666666666,
             "#ed7953"
            ],
            [
             0.7777777777777778,
             "#fb9f3a"
            ],
            [
             0.8888888888888888,
             "#fdca26"
            ],
            [
             1,
             "#f0f921"
            ]
           ],
           "sequentialminus": [
            [
             0,
             "#0d0887"
            ],
            [
             0.1111111111111111,
             "#46039f"
            ],
            [
             0.2222222222222222,
             "#7201a8"
            ],
            [
             0.3333333333333333,
             "#9c179e"
            ],
            [
             0.4444444444444444,
             "#bd3786"
            ],
            [
             0.5555555555555556,
             "#d8576b"
            ],
            [
             0.6666666666666666,
             "#ed7953"
            ],
            [
             0.7777777777777778,
             "#fb9f3a"
            ],
            [
             0.8888888888888888,
             "#fdca26"
            ],
            [
             1,
             "#f0f921"
            ]
           ]
          },
          "colorway": [
           "#636efa",
           "#EF553B",
           "#00cc96",
           "#ab63fa",
           "#FFA15A",
           "#19d3f3",
           "#FF6692",
           "#B6E880",
           "#FF97FF",
           "#FECB52"
          ],
          "font": {
           "color": "#2a3f5f"
          },
          "geo": {
           "bgcolor": "white",
           "lakecolor": "white",
           "landcolor": "#E5ECF6",
           "showlakes": true,
           "showland": true,
           "subunitcolor": "white"
          },
          "hoverlabel": {
           "align": "left"
          },
          "hovermode": "closest",
          "mapbox": {
           "style": "light"
          },
          "paper_bgcolor": "white",
          "plot_bgcolor": "#E5ECF6",
          "polar": {
           "angularaxis": {
            "gridcolor": "white",
            "linecolor": "white",
            "ticks": ""
           },
           "bgcolor": "#E5ECF6",
           "radialaxis": {
            "gridcolor": "white",
            "linecolor": "white",
            "ticks": ""
           }
          },
          "scene": {
           "xaxis": {
            "backgroundcolor": "#E5ECF6",
            "gridcolor": "white",
            "gridwidth": 2,
            "linecolor": "white",
            "showbackground": true,
            "ticks": "",
            "zerolinecolor": "white"
           },
           "yaxis": {
            "backgroundcolor": "#E5ECF6",
            "gridcolor": "white",
            "gridwidth": 2,
            "linecolor": "white",
            "showbackground": true,
            "ticks": "",
            "zerolinecolor": "white"
           },
           "zaxis": {
            "backgroundcolor": "#E5ECF6",
            "gridcolor": "white",
            "gridwidth": 2,
            "linecolor": "white",
            "showbackground": true,
            "ticks": "",
            "zerolinecolor": "white"
           }
          },
          "shapedefaults": {
           "line": {
            "color": "#2a3f5f"
           }
          },
          "ternary": {
           "aaxis": {
            "gridcolor": "white",
            "linecolor": "white",
            "ticks": ""
           },
           "baxis": {
            "gridcolor": "white",
            "linecolor": "white",
            "ticks": ""
           },
           "bgcolor": "#E5ECF6",
           "caxis": {
            "gridcolor": "white",
            "linecolor": "white",
            "ticks": ""
           }
          },
          "title": {
           "x": 0.05
          },
          "xaxis": {
           "automargin": true,
           "gridcolor": "white",
           "linecolor": "white",
           "ticks": "",
           "title": {
            "standoff": 15
           },
           "zerolinecolor": "white",
           "zerolinewidth": 2
          },
          "yaxis": {
           "automargin": true,
           "gridcolor": "white",
           "linecolor": "white",
           "ticks": "",
           "title": {
            "standoff": 15
           },
           "zerolinecolor": "white",
           "zerolinewidth": 2
          }
         }
        },
        "title": {
         "text": "Correlation",
         "x": 0.5
        }
       }
      }
     },
     "metadata": {},
     "output_type": "display_data"
    },
    {
     "data": {
      "application/vnd.plotly.v1+json": {
       "config": {
        "plotlyServerURL": "https://plot.ly"
       },
       "data": [
        {
         "colorscale": [
          [
           0,
           "rgb(165,0,38)"
          ],
          [
           0.1,
           "rgb(215,48,39)"
          ],
          [
           0.2,
           "rgb(244,109,67)"
          ],
          [
           0.3,
           "rgb(253,174,97)"
          ],
          [
           0.4,
           "rgb(254,224,144)"
          ],
          [
           0.5,
           "rgb(255,255,191)"
          ],
          [
           0.6,
           "rgb(224,243,248)"
          ],
          [
           0.7,
           "rgb(171,217,233)"
          ],
          [
           0.8,
           "rgb(116,173,209)"
          ],
          [
           0.9,
           "rgb(69,117,180)"
          ],
          [
           1,
           "rgb(49,54,149)"
          ]
         ],
         "type": "heatmap",
         "x": [
          "OXO-5FI635C Augusta",
          "OXO-5FI661A Augusta",
          "OXO-5FIC132 Augusta",
          "OXO-5FIC600 Augusta",
          "OXO-5FIC601 Augusta",
          "OXO-5FIC602 Augusta",
          "OXO-5FIC606C Augusta",
          "OXO-5FIC609B Augusta",
          "OXO-5FIC611A Augusta",
          "OXO-5FIC612A Augusta"
         ],
         "y": [
          "OXO-5FI635C Augusta",
          "OXO-5FI661A Augusta",
          "OXO-5FIC132 Augusta",
          "OXO-5FIC600 Augusta",
          "OXO-5FIC601 Augusta",
          "OXO-5FIC602 Augusta",
          "OXO-5FIC606C Augusta",
          "OXO-5FIC609B Augusta",
          "OXO-5FIC611A Augusta",
          "OXO-5FIC612A Augusta"
         ],
         "z": [
          [
           1,
           0.5705370537053706,
           0.04405693437982299,
           0.29176117611761176,
           0.2754035403540354,
           0.29827556847485737,
           0.16443074917249983,
           -0.3195079507950795,
           0.1498109810981098,
           0.24597387380316985
          ],
          [
           0.5705370537053706,
           1,
           0.31203494793663794,
           0.7392739273927392,
           0.7617161716171618,
           0.2995238093907532,
           -0.3560045742029273,
           -0.15375937593759376,
           -0.3887548754875488,
           -0.2106993748731077
          ],
          [
           0.04405693437982299,
           0.31203494793663794,
           1,
           0.31938577122937606,
           0.2477557486616905,
           0.19216839515154374,
           -0.08248941562575718,
           -0.2927307858690963,
           -0.07262013346017678,
           -0.0717920903901008
          ],
          [
           0.29176117611761176,
           0.7392739273927392,
           0.31938577122937606,
           1,
           0.847056705670567,
           0.23361908949475327,
           -0.36309790068182857,
           -0.006468646864686469,
           -0.42821482148214823,
           -0.18454266876102784
          ],
          [
           0.2754035403540354,
           0.7617161716171618,
           0.2477557486616905,
           0.847056705670567,
           1,
           0.0869747865099915,
           -0.44740766692724643,
           0.12638463846384637,
           -0.5035943594359436,
           -0.25786770347512816
          ],
          [
           0.29827556847485737,
           0.2995238093907532,
           0.19216839515154374,
           0.23361908949475327,
           0.0869747865099915,
           1,
           0.06380986676384277,
           -0.434795917492714,
           0.05982554658925725,
           0.1361478100664724
          ],
          [
           0.16443074917249983,
           -0.3560045742029273,
           -0.08248941562575718,
           -0.36309790068182857,
           -0.44740766692724643,
           0.06380986676384277,
           1,
           -0.3558245405359501,
           0.9322083264856552,
           0.8007285127924625
          ],
          [
           -0.3195079507950795,
           -0.15375937593759376,
           -0.2927307858690963,
           -0.006468646864686469,
           0.12638463846384637,
           -0.434795917492714,
           -0.3558245405359501,
           1,
           -0.3473387338733873,
           -0.36318701851721835
          ],
          [
           0.1498109810981098,
           -0.3887548754875488,
           -0.07262013346017678,
           -0.42821482148214823,
           -0.5035943594359436,
           0.05982554658925725,
           0.9322083264856552,
           -0.3473387338733873,
           1,
           0.8250600211256697
          ],
          [
           0.24597387380316985,
           -0.2106993748731077,
           -0.0717920903901008,
           -0.18454266876102784,
           -0.25786770347512816,
           0.1361478100664724,
           0.8007285127924625,
           -0.36318701851721835,
           0.8250600211256697,
           1
          ],
          [
           0.7007860786078608,
           0.7361416141614161,
           0.18165834574780462,
           0.5308250825082508,
           0.48895289528952895,
           0.5714002827260637,
           -0.06029927619289337,
           -0.3167956795679568,
           -0.07486348634863486,
           0.11945462742546453
          ],
          [
           0.276987698769877,
           0.5482388238823882,
           0.4700326436899394,
           0.5165076507650765,
           0.41507350735073506,
           0.4824691186267354,
           -0.27594960362040366,
           -0.2588658865886589,
           -0.30706270627062704,
           -0.2602974950322187
          ],
          [
           0.46655865586558654,
           0.4852565256525653,
           -0.15480533820902664,
           0.08704470447044704,
           0.27509150915091507,
           0.33029174773593545,
           -0.3434562276146172,
           0.014041404140414042,
           -0.22682268226822683,
           -0.20491039648833945
          ],
          [
           0.5131953195319532,
           0.5382898289828983,
           0.15233306131383637,
           0.4167656765676568,
           0.2715271527152715,
           0.45531987870600116,
           0.058582955234377496,
           -0.44487248724872486,
           0.004896489648964896,
           0.030542479872628307
          ],
          [
           -0.24092409240924093,
           -0.08021602160216022,
           -0.20360880420073196,
           -0.0469006900690069,
           -0.004008400840084008,
           -0.08510242513614776,
           -0.2137839784131801,
           0.3272847284728473,
           -0.1318811881188119,
           -0.10188115998880708
          ],
          [
           0.15714059903806935,
           -0.3219037823916497,
           -0.21017869385167098,
           -0.4355292865903168,
           -0.4225479448715499,
           0.15471439810596313,
           0.7046944998901896,
           -0.220025369074657,
           0.7340505279978522,
           0.6701398596822709
          ],
          [
           0.6184218421842185,
           0.8005160516051605,
           0.09676083722073628,
           0.634047404740474,
           0.712067206720672,
           0.2726026134834999,
           -0.1652589040405949,
           -0.02067806780678068,
           -0.1693249324932493,
           0.05384418090512676
          ],
          [
           0.5882148214821482,
           0.1975037503750375,
           -0.4018290048774812,
           0.0650945094509451,
           0.029390939093909392,
           0.14756848135518463,
           0.2781580166019905,
           -0.17143714371437144,
           0.29236123612361237,
           0.43907548332404917
          ],
          [
           -0.20217379770350202,
           -0.34971903680839084,
           0.10338638955217952,
           -0.28157773122602375,
           -0.21945278672279908,
           -0.2436010528675547,
           0.4381675889177852,
           0.12566975022112697,
           0.45150383354532236,
           0.4962120164629145
          ],
          [
           -0.11053535070227422,
           -0.25195308751776824,
           0.13245013277549492,
           -0.1435761156905342,
           -0.11730538211555422,
           -0.29428217597813733,
           0.5357606467010166,
           0.016708613209976513,
           0.4745484577206735,
           0.5018404295744182
          ],
          [
           0.4872007200720072,
           0.35273927392739274,
           -0.2569247755933671,
           0.038067806780678067,
           0.1409180918091809,
           0.29241843802334616,
           -0.1046355672471426,
           0.0258985898589859,
           -0.06721872187218722,
           -0.0010022890172998549
          ],
          [
           -0.4192663886026799,
           -0.8226882320010307,
           -0.37073595287262473,
           -0.8144362428224492,
           -0.861800482763149,
           -0.12705857239431903,
           0.28009591658793465,
           0.0569108960431937,
           0.32810731753019745,
           0.03989388937278602
          ],
          [
           0.45585059330294975,
           0.786598091123048,
           -0.016346694489603086,
           0.7309712013568976,
           0.8018251628572806,
           0.13438674357560992,
           -0.38416178549855023,
           0.15384939584446122,
           -0.4223539058121874,
           -0.14755686784086425
          ],
          [
           0.142210190665815,
           0.3561450495095705,
           -0.3537001593504831,
           0.2679324545614571,
           0.36228246522154467,
           0.07020777816845855,
           -0.34920706265083207,
           -0.060062120506730675,
           -0.3329220014592739,
           -0.07854031893528379
          ],
          [
           0.3984350388107906,
           0.8126757056013343,
           0.3260684978904647,
           0.8354300492988376,
           0.8625228398563869,
           0.14749690999183798,
           -0.3112371361541226,
           -0.012847323274355076,
           -0.37488861352888064,
           -0.07207087105731327
          ],
          [
           0.2655745574557456,
           -0.14181818181818182,
           -0.023018578082402753,
           -0.20646864686468647,
           -0.25252925292529255,
           0.013712646600105608,
           0.8716269975478309,
           -0.39715571557155716,
           0.8781518151815182,
           0.7674010674759107
          ],
          [
           -0.14737473747374738,
           -0.1127032703270327,
           -0.06892371946154276,
           -0.059201920192019204,
           -0.06965496549654966,
           -0.03358848272244686,
           -0.2789981737145507,
           0.031203120312031204,
           -0.37663366336633664,
           -0.356912081821032
          ],
          [
           -0.3993999399939994,
           -0.7938673867386739,
           -0.4655561423214638,
           -0.8413081308130813,
           -0.8384518451845184,
           -0.18469764744483602,
           0.2331676032243908,
           -0.00906090609060906,
           0.2915211521152115,
           0.04122748824493403
          ],
          [
           -0.3734053405340534,
           -0.8053645364536454,
           -0.39653641210670976,
           -0.850909090909091,
           -0.8618541854185419,
           -0.18061685983517659,
           0.32254831775633286,
           0.013681368136813681,
           0.37053705370537054,
           0.09597676650507703
          ],
          [
           -0.26652345191674687,
           -0.2760044284573732,
           0.4959570350791227,
           -0.1829348422895791,
           -0.26240102730699355,
           0.028709627203228616,
           0.24670687517683088,
           -0.2773305650494482,
           0.27092790557549357,
           0.10179642270457717
          ],
          [
           0.36403240324032404,
           0.5808460846084609,
           -0.025970908743649403,
           0.3628202820282028,
           0.5660966096609661,
           0.08993335752699459,
           -0.3653723260079737,
           0.21903390339033904,
           -0.3180678067806781,
           -0.15519686123026663
          ],
          [
           -0.3948634863486349,
           -0.8412841284128413,
           -0.3479789736701083,
           -0.858985898589859,
           -0.8637263726372637,
           -0.15826254535579215,
           0.38389779033992655,
           -0.009756975697569756,
           0.43837983798379837,
           0.1590541553271479
          ],
          [
           0.5006570696583965,
           0.6675227574243037,
           0.18121538341850563,
           0.5640837928922011,
           0.5952991017154984,
           0.354769600493391,
           -0.22292802584044374,
           -0.04770505673687289,
           -0.24079952475395877,
           0.016027608734017075
          ],
          [
           -0.04483648364836484,
           -0.4922412241224122,
           -0.1760057126524909,
           -0.4611701170117012,
           -0.6675427542754275,
           0.06795711601732862,
           0.6911492475254308,
           -0.22905490549054905,
           0.7872907290729073,
           0.5396384813931346
          ],
          [
           -0.22235623807211846,
           0.09495520472954264,
           -0.25582525728805294,
           0.12977131303596368,
           0.18615996690625639,
           -0.23641988526086127,
           -0.7143684472325854,
           0.300911507606651,
           -0.7406553974569002,
           -0.6833182827549138
          ],
          [
           -0.10241824182418242,
           -0.7138673867386739,
           -0.20269070137314915,
           -0.7664806480648065,
           -0.8238103810381038,
           -0.02877555380634853,
           0.7828944042170067,
           -0.24831683168316832,
           0.8365076507650765,
           0.5869222250941168
          ],
          [
           0.043504350435043505,
           0.017413741374137415,
           0.15427127839428895,
           -0.06856285628562857,
           -0.12963696369636965,
           -0.002994577966500087,
           0.033036177890314294,
           -0.06287428742874288,
           0.10825082508250825,
           -0.001512545244288872
          ],
          [
           0.18227422742274227,
           0.00888088808880888,
           -0.5165858576532555,
           -0.1993879387938794,
           -0.11158715871587159,
           0.027455298991458713,
           -0.10644190503914706,
           0.028406840684068405,
           -0.015973597359735973,
           -0.08190219891062997
          ],
          [
           -0.08936120420443522,
           0.05238539569599244,
           0.0621731499147585,
           0.0521153678831265,
           0.014173459866430028,
           0.02944777188257584,
           -0.028571428672266887,
           -0.04535267132535062,
           -0.05765993897397381,
           -0.04455036186390793
          ],
          [
           0.38094209420942093,
           0.6168736873687368,
           -0.03762421391466769,
           0.5675727572757275,
           0.671071107110711,
           0.0840162154929884,
           -0.38365174432839105,
           0.24694869486948695,
           -0.36036003600360034,
           -0.21620892722881052
          ],
          [
           -0.6493009300930093,
           -0.6743114311431143,
           -0.07769070136414714,
           -0.5388538853885388,
           -0.5328172817281728,
           -0.33361038824790845,
           0.11475345933126065,
           0.028022802280228024,
           0.1031983198319832,
           -0.06202650397362921
          ],
          [
           -0.588994899489949,
           -0.6063246324632463,
           -0.17276534973161045,
           -0.28924092409240926,
           -0.32081608160816083,
           -0.31537886948592997,
           0.033000171156918855,
           0.3172637263726373,
           -0.050777077707770776,
           -0.12811683432649237
          ],
          [
           -0.46027002700270025,
           -0.5717251725172517,
           0.05673635447578676,
           -0.492973297329733,
           -0.48902490249024905,
           -0.2693679891870198,
           0.2821307595199538,
           -0.0924092409240924,
           0.2308790879087909,
           0.08890607307394349
          ],
          [
           -0.48415241524152414,
           -0.45275727572757274,
           0.020018242044550466,
           -0.2549054905490549,
           -0.28026402640264025,
           -0.20241306659735758,
           0.21167158338731437,
           0.05098109810981098,
           0.10265826582658266,
           0.0926358031140775
          ],
          [
           -0.33282928292829284,
           -0.06048604860486049,
           0.26117325142296594,
           0.17939393939393938,
           0.22945094509450945,
           -0.20966846692100208,
           0.08104515575089818,
           0.017785778577857785,
           -0.011725172517251725,
           0.05425724546983215
          ],
          [
           -0.2834083408340834,
           -0.03242724272427243,
           0.061986942542028266,
           0.2584578457845785,
           0.24081608160816081,
           -0.3080514552632915,
           0.03952339102372569,
           0.24825682568256827,
           -0.06137413741374138,
           -0.03582120203040754
          ],
          [
           -0.13342934293429343,
           -0.03561956195619562,
           -0.08094906630125473,
           -0.08525652565256525,
           0.01374137413741374,
           0.029681728702022906,
           -0.1392680436513213,
           0.10018601860186019,
           -0.1541194119411941,
           -0.09578238318050977
          ],
          [
           0.5748214821482148,
           0.985958595859586,
           0.2845818731902895,
           0.7241884188418842,
           0.7415901590159016,
           0.33009971067195143,
           -0.3859201685323036,
           -0.1328052805280528,
           -0.41116111611161116,
           -0.2390125209921054
          ],
          [
           0.5589438943894389,
           0.9867386738673868,
           0.32377826318879177,
           0.7244644464446445,
           0.7583678367836784,
           0.29101416699296334,
           -0.3722736165754327,
           -0.15343534353435342,
           -0.38664266426642663,
           -0.2250412195388347
          ],
          [
           0.5503630363036304,
           0.9578877887788779,
           0.2661838126061793,
           0.7202400240024003,
           0.7415301530153016,
           0.33295626199871303,
           -0.3495773722918416,
           -0.062346234623462345,
           -0.38976297629762974,
           -0.2043029485990668
          ],
          [
           0.5399099909990999,
           0.9745574557455745,
           0.31190893382304813,
           0.7118031803180318,
           0.762016201620162,
           0.2848869844202247,
           -0.37072532703942884,
           -0.08228022802280228,
           -0.3861746174617462,
           -0.21996902966340817
          ],
          [
           0.5512391239123913,
           0.3762136213621362,
           0.3189657241840767,
           0.19653165316531654,
           0.07878787878787878,
           0.5132010500224207,
           0.2566739990093792,
           -0.36374437443744373,
           0.2743834383438344,
           0.2966471767262934
          ]
         ]
        }
       ],
       "layout": {
        "scene": {
         "aspectmode": "data"
        },
        "template": {
         "data": {
          "bar": [
           {
            "error_x": {
             "color": "#2a3f5f"
            },
            "error_y": {
             "color": "#2a3f5f"
            },
            "marker": {
             "line": {
              "color": "#E5ECF6",
              "width": 0.5
             },
             "pattern": {
              "fillmode": "overlay",
              "size": 10,
              "solidity": 0.2
             }
            },
            "type": "bar"
           }
          ],
          "barpolar": [
           {
            "marker": {
             "line": {
              "color": "#E5ECF6",
              "width": 0.5
             },
             "pattern": {
              "fillmode": "overlay",
              "size": 10,
              "solidity": 0.2
             }
            },
            "type": "barpolar"
           }
          ],
          "carpet": [
           {
            "aaxis": {
             "endlinecolor": "#2a3f5f",
             "gridcolor": "white",
             "linecolor": "white",
             "minorgridcolor": "white",
             "startlinecolor": "#2a3f5f"
            },
            "baxis": {
             "endlinecolor": "#2a3f5f",
             "gridcolor": "white",
             "linecolor": "white",
             "minorgridcolor": "white",
             "startlinecolor": "#2a3f5f"
            },
            "type": "carpet"
           }
          ],
          "choropleth": [
           {
            "colorbar": {
             "outlinewidth": 0,
             "ticks": ""
            },
            "type": "choropleth"
           }
          ],
          "contour": [
           {
            "colorbar": {
             "outlinewidth": 0,
             "ticks": ""
            },
            "colorscale": [
             [
              0,
              "#0d0887"
             ],
             [
              0.1111111111111111,
              "#46039f"
             ],
             [
              0.2222222222222222,
              "#7201a8"
             ],
             [
              0.3333333333333333,
              "#9c179e"
             ],
             [
              0.4444444444444444,
              "#bd3786"
             ],
             [
              0.5555555555555556,
              "#d8576b"
             ],
             [
              0.6666666666666666,
              "#ed7953"
             ],
             [
              0.7777777777777778,
              "#fb9f3a"
             ],
             [
              0.8888888888888888,
              "#fdca26"
             ],
             [
              1,
              "#f0f921"
             ]
            ],
            "type": "contour"
           }
          ],
          "contourcarpet": [
           {
            "colorbar": {
             "outlinewidth": 0,
             "ticks": ""
            },
            "type": "contourcarpet"
           }
          ],
          "heatmap": [
           {
            "colorbar": {
             "outlinewidth": 0,
             "ticks": ""
            },
            "colorscale": [
             [
              0,
              "#0d0887"
             ],
             [
              0.1111111111111111,
              "#46039f"
             ],
             [
              0.2222222222222222,
              "#7201a8"
             ],
             [
              0.3333333333333333,
              "#9c179e"
             ],
             [
              0.4444444444444444,
              "#bd3786"
             ],
             [
              0.5555555555555556,
              "#d8576b"
             ],
             [
              0.6666666666666666,
              "#ed7953"
             ],
             [
              0.7777777777777778,
              "#fb9f3a"
             ],
             [
              0.8888888888888888,
              "#fdca26"
             ],
             [
              1,
              "#f0f921"
             ]
            ],
            "type": "heatmap"
           }
          ],
          "heatmapgl": [
           {
            "colorbar": {
             "outlinewidth": 0,
             "ticks": ""
            },
            "colorscale": [
             [
              0,
              "#0d0887"
             ],
             [
              0.1111111111111111,
              "#46039f"
             ],
             [
              0.2222222222222222,
              "#7201a8"
             ],
             [
              0.3333333333333333,
              "#9c179e"
             ],
             [
              0.4444444444444444,
              "#bd3786"
             ],
             [
              0.5555555555555556,
              "#d8576b"
             ],
             [
              0.6666666666666666,
              "#ed7953"
             ],
             [
              0.7777777777777778,
              "#fb9f3a"
             ],
             [
              0.8888888888888888,
              "#fdca26"
             ],
             [
              1,
              "#f0f921"
             ]
            ],
            "type": "heatmapgl"
           }
          ],
          "histogram": [
           {
            "marker": {
             "pattern": {
              "fillmode": "overlay",
              "size": 10,
              "solidity": 0.2
             }
            },
            "type": "histogram"
           }
          ],
          "histogram2d": [
           {
            "colorbar": {
             "outlinewidth": 0,
             "ticks": ""
            },
            "colorscale": [
             [
              0,
              "#0d0887"
             ],
             [
              0.1111111111111111,
              "#46039f"
             ],
             [
              0.2222222222222222,
              "#7201a8"
             ],
             [
              0.3333333333333333,
              "#9c179e"
             ],
             [
              0.4444444444444444,
              "#bd3786"
             ],
             [
              0.5555555555555556,
              "#d8576b"
             ],
             [
              0.6666666666666666,
              "#ed7953"
             ],
             [
              0.7777777777777778,
              "#fb9f3a"
             ],
             [
              0.8888888888888888,
              "#fdca26"
             ],
             [
              1,
              "#f0f921"
             ]
            ],
            "type": "histogram2d"
           }
          ],
          "histogram2dcontour": [
           {
            "colorbar": {
             "outlinewidth": 0,
             "ticks": ""
            },
            "colorscale": [
             [
              0,
              "#0d0887"
             ],
             [
              0.1111111111111111,
              "#46039f"
             ],
             [
              0.2222222222222222,
              "#7201a8"
             ],
             [
              0.3333333333333333,
              "#9c179e"
             ],
             [
              0.4444444444444444,
              "#bd3786"
             ],
             [
              0.5555555555555556,
              "#d8576b"
             ],
             [
              0.6666666666666666,
              "#ed7953"
             ],
             [
              0.7777777777777778,
              "#fb9f3a"
             ],
             [
              0.8888888888888888,
              "#fdca26"
             ],
             [
              1,
              "#f0f921"
             ]
            ],
            "type": "histogram2dcontour"
           }
          ],
          "mesh3d": [
           {
            "colorbar": {
             "outlinewidth": 0,
             "ticks": ""
            },
            "type": "mesh3d"
           }
          ],
          "parcoords": [
           {
            "line": {
             "colorbar": {
              "outlinewidth": 0,
              "ticks": ""
             }
            },
            "type": "parcoords"
           }
          ],
          "pie": [
           {
            "automargin": true,
            "type": "pie"
           }
          ],
          "scatter": [
           {
            "fillpattern": {
             "fillmode": "overlay",
             "size": 10,
             "solidity": 0.2
            },
            "type": "scatter"
           }
          ],
          "scatter3d": [
           {
            "line": {
             "colorbar": {
              "outlinewidth": 0,
              "ticks": ""
             }
            },
            "marker": {
             "colorbar": {
              "outlinewidth": 0,
              "ticks": ""
             }
            },
            "type": "scatter3d"
           }
          ],
          "scattercarpet": [
           {
            "marker": {
             "colorbar": {
              "outlinewidth": 0,
              "ticks": ""
             }
            },
            "type": "scattercarpet"
           }
          ],
          "scattergeo": [
           {
            "marker": {
             "colorbar": {
              "outlinewidth": 0,
              "ticks": ""
             }
            },
            "type": "scattergeo"
           }
          ],
          "scattergl": [
           {
            "marker": {
             "colorbar": {
              "outlinewidth": 0,
              "ticks": ""
             }
            },
            "type": "scattergl"
           }
          ],
          "scattermapbox": [
           {
            "marker": {
             "colorbar": {
              "outlinewidth": 0,
              "ticks": ""
             }
            },
            "type": "scattermapbox"
           }
          ],
          "scatterpolar": [
           {
            "marker": {
             "colorbar": {
              "outlinewidth": 0,
              "ticks": ""
             }
            },
            "type": "scatterpolar"
           }
          ],
          "scatterpolargl": [
           {
            "marker": {
             "colorbar": {
              "outlinewidth": 0,
              "ticks": ""
             }
            },
            "type": "scatterpolargl"
           }
          ],
          "scatterternary": [
           {
            "marker": {
             "colorbar": {
              "outlinewidth": 0,
              "ticks": ""
             }
            },
            "type": "scatterternary"
           }
          ],
          "surface": [
           {
            "colorbar": {
             "outlinewidth": 0,
             "ticks": ""
            },
            "colorscale": [
             [
              0,
              "#0d0887"
             ],
             [
              0.1111111111111111,
              "#46039f"
             ],
             [
              0.2222222222222222,
              "#7201a8"
             ],
             [
              0.3333333333333333,
              "#9c179e"
             ],
             [
              0.4444444444444444,
              "#bd3786"
             ],
             [
              0.5555555555555556,
              "#d8576b"
             ],
             [
              0.6666666666666666,
              "#ed7953"
             ],
             [
              0.7777777777777778,
              "#fb9f3a"
             ],
             [
              0.8888888888888888,
              "#fdca26"
             ],
             [
              1,
              "#f0f921"
             ]
            ],
            "type": "surface"
           }
          ],
          "table": [
           {
            "cells": {
             "fill": {
              "color": "#EBF0F8"
             },
             "line": {
              "color": "white"
             }
            },
            "header": {
             "fill": {
              "color": "#C8D4E3"
             },
             "line": {
              "color": "white"
             }
            },
            "type": "table"
           }
          ]
         },
         "layout": {
          "annotationdefaults": {
           "arrowcolor": "#2a3f5f",
           "arrowhead": 0,
           "arrowwidth": 1
          },
          "autotypenumbers": "strict",
          "coloraxis": {
           "colorbar": {
            "outlinewidth": 0,
            "ticks": ""
           }
          },
          "colorscale": {
           "diverging": [
            [
             0,
             "#8e0152"
            ],
            [
             0.1,
             "#c51b7d"
            ],
            [
             0.2,
             "#de77ae"
            ],
            [
             0.3,
             "#f1b6da"
            ],
            [
             0.4,
             "#fde0ef"
            ],
            [
             0.5,
             "#f7f7f7"
            ],
            [
             0.6,
             "#e6f5d0"
            ],
            [
             0.7,
             "#b8e186"
            ],
            [
             0.8,
             "#7fbc41"
            ],
            [
             0.9,
             "#4d9221"
            ],
            [
             1,
             "#276419"
            ]
           ],
           "sequential": [
            [
             0,
             "#0d0887"
            ],
            [
             0.1111111111111111,
             "#46039f"
            ],
            [
             0.2222222222222222,
             "#7201a8"
            ],
            [
             0.3333333333333333,
             "#9c179e"
            ],
            [
             0.4444444444444444,
             "#bd3786"
            ],
            [
             0.5555555555555556,
             "#d8576b"
            ],
            [
             0.6666666666666666,
             "#ed7953"
            ],
            [
             0.7777777777777778,
             "#fb9f3a"
            ],
            [
             0.8888888888888888,
             "#fdca26"
            ],
            [
             1,
             "#f0f921"
            ]
           ],
           "sequentialminus": [
            [
             0,
             "#0d0887"
            ],
            [
             0.1111111111111111,
             "#46039f"
            ],
            [
             0.2222222222222222,
             "#7201a8"
            ],
            [
             0.3333333333333333,
             "#9c179e"
            ],
            [
             0.4444444444444444,
             "#bd3786"
            ],
            [
             0.5555555555555556,
             "#d8576b"
            ],
            [
             0.6666666666666666,
             "#ed7953"
            ],
            [
             0.7777777777777778,
             "#fb9f3a"
            ],
            [
             0.8888888888888888,
             "#fdca26"
            ],
            [
             1,
             "#f0f921"
            ]
           ]
          },
          "colorway": [
           "#636efa",
           "#EF553B",
           "#00cc96",
           "#ab63fa",
           "#FFA15A",
           "#19d3f3",
           "#FF6692",
           "#B6E880",
           "#FF97FF",
           "#FECB52"
          ],
          "font": {
           "color": "#2a3f5f"
          },
          "geo": {
           "bgcolor": "white",
           "lakecolor": "white",
           "landcolor": "#E5ECF6",
           "showlakes": true,
           "showland": true,
           "subunitcolor": "white"
          },
          "hoverlabel": {
           "align": "left"
          },
          "hovermode": "closest",
          "mapbox": {
           "style": "light"
          },
          "paper_bgcolor": "white",
          "plot_bgcolor": "#E5ECF6",
          "polar": {
           "angularaxis": {
            "gridcolor": "white",
            "linecolor": "white",
            "ticks": ""
           },
           "bgcolor": "#E5ECF6",
           "radialaxis": {
            "gridcolor": "white",
            "linecolor": "white",
            "ticks": ""
           }
          },
          "scene": {
           "xaxis": {
            "backgroundcolor": "#E5ECF6",
            "gridcolor": "white",
            "gridwidth": 2,
            "linecolor": "white",
            "showbackground": true,
            "ticks": "",
            "zerolinecolor": "white"
           },
           "yaxis": {
            "backgroundcolor": "#E5ECF6",
            "gridcolor": "white",
            "gridwidth": 2,
            "linecolor": "white",
            "showbackground": true,
            "ticks": "",
            "zerolinecolor": "white"
           },
           "zaxis": {
            "backgroundcolor": "#E5ECF6",
            "gridcolor": "white",
            "gridwidth": 2,
            "linecolor": "white",
            "showbackground": true,
            "ticks": "",
            "zerolinecolor": "white"
           }
          },
          "shapedefaults": {
           "line": {
            "color": "#2a3f5f"
           }
          },
          "ternary": {
           "aaxis": {
            "gridcolor": "white",
            "linecolor": "white",
            "ticks": ""
           },
           "baxis": {
            "gridcolor": "white",
            "linecolor": "white",
            "ticks": ""
           },
           "bgcolor": "#E5ECF6",
           "caxis": {
            "gridcolor": "white",
            "linecolor": "white",
            "ticks": ""
           }
          },
          "title": {
           "x": 0.05
          },
          "xaxis": {
           "automargin": true,
           "gridcolor": "white",
           "linecolor": "white",
           "ticks": "",
           "title": {
            "standoff": 15
           },
           "zerolinecolor": "white",
           "zerolinewidth": 2
          },
          "yaxis": {
           "automargin": true,
           "gridcolor": "white",
           "linecolor": "white",
           "ticks": "",
           "title": {
            "standoff": 15
           },
           "zerolinecolor": "white",
           "zerolinewidth": 2
          }
         }
        },
        "title": {
         "text": "Spearman Correlation",
         "x": 0.5
        }
       }
      }
     },
     "metadata": {},
     "output_type": "display_data"
    },
    {
     "data": {
      "application/vnd.plotly.v1+json": {
       "config": {
        "plotlyServerURL": "https://plot.ly"
       },
       "data": [
        {
         "colorscale": [
          [
           0,
           "rgb(165,0,38)"
          ],
          [
           0.1,
           "rgb(215,48,39)"
          ],
          [
           0.2,
           "rgb(244,109,67)"
          ],
          [
           0.3,
           "rgb(253,174,97)"
          ],
          [
           0.4,
           "rgb(254,224,144)"
          ],
          [
           0.5,
           "rgb(255,255,191)"
          ],
          [
           0.6,
           "rgb(224,243,248)"
          ],
          [
           0.7,
           "rgb(171,217,233)"
          ],
          [
           0.8,
           "rgb(116,173,209)"
          ],
          [
           0.9,
           "rgb(69,117,180)"
          ],
          [
           1,
           "rgb(49,54,149)"
          ]
         ],
         "type": "heatmap",
         "x": [
          "OXO-5FI635C Augusta",
          "OXO-5FI661A Augusta",
          "OXO-5FIC132 Augusta",
          "OXO-5FIC600 Augusta",
          "OXO-5FIC601 Augusta",
          "OXO-5FIC602 Augusta",
          "OXO-5FIC603 Augusta",
          "OXO-5FIC606C Augusta",
          "OXO-5FIC607 Augusta",
          "OXO-5FIC609A Augusta"
         ],
         "y": [
          "OXO-5FI635C Augusta",
          "OXO-5FI661A Augusta",
          "OXO-5FIC132 Augusta",
          "OXO-5FIC600 Augusta",
          "OXO-5FIC601 Augusta",
          "OXO-5FIC602 Augusta",
          "OXO-5FIC603 Augusta",
          "OXO-5FIC606C Augusta",
          "OXO-5FIC607 Augusta",
          "OXO-5FIC609A Augusta"
         ],
         "z": [
          [
           3.344044184306288,
           0.3224933626547699,
           0.16881178385016993,
           0.22444570779346584,
           0.14151032524820595,
           0.23801663615818924,
           0,
           0,
           0,
           0
          ],
          [
           0.3224933626547699,
           3.344044184306288,
           0.4610065007563722,
           0.5448846679168193,
           0.5757024262759174,
           0.3871455747452348,
           0,
           0.00684498428334912,
           0,
           0
          ],
          [
           0.1688117838501697,
           0.46100650075637195,
           3.3248775176396212,
           0.16493898870791357,
           0.31695974431115936,
           0.40645509158811155,
           0,
           0.06816591116356263,
           0,
           0
          ],
          [
           0.22444570779346584,
           0.5448846679168193,
           0.16493898870791357,
           3.344044184306288,
           0.6071069998576522,
           0.28405899737417517,
           0,
           0.22886946176568346,
           0,
           0
          ],
          [
           0.14151032524820595,
           0.5757024262759174,
           0.31695974431115914,
           0.6071069998576522,
           3.344044184306288,
           0.19702489532491807,
           0,
           0.21210489600128568,
           0,
           0
          ],
          [
           0.2360665353724718,
           0.38714557474523503,
           0.4092328693658893,
           0.28405899737417517,
           0.19785822865825065,
           3.319544184306288,
           0,
           0,
           0,
           0
          ],
          [
           0,
           0,
           0,
           0,
           0,
           0,
           0.005579971052534827,
           0.0003061437008409218,
           0,
           0.016125310323320097
          ],
          [
           0,
           0.003213281489574893,
           0.06434845084610208,
           0.2267679675177301,
           0.2141882293346189,
           0,
           0,
           3.2770441843062885,
           0,
           0
          ],
          [
           0,
           0,
           0,
           0,
           0,
           0,
           0,
           0,
           0.06314245348522984,
           0.023101777378759625
          ],
          [
           0,
           0,
           0,
           0,
           0,
           0,
           0,
           0.004666688589689771,
           0,
           0.04482518245657774
          ],
          [
           0.20645914154909129,
           0.5205322415309972,
           0.4387805824616753,
           0.4218085270566383,
           0.48707873372801114,
           0.33769977520047156,
           0,
           0.16927112737412608,
           0,
           0
          ],
          [
           0.03278880521147398,
           0.07960681837559047,
           0.13095984430607466,
           0.3030130912727427,
           0.17198843696586952,
           0.08252905063187477,
           0,
           0.9292010170171761,
           0,
           0
          ],
          [
           0,
           0.13633016467252723,
           0.21206732601419054,
           0.10170553114524106,
           0.10014247594730996,
           0.06864101865487404,
           0.009165806014156175,
           0.4189348941821245,
           0.014950640389811198,
           0.0004942593459045241
          ],
          [
           0.48898253519271107,
           0.8321749501708193,
           0.6546623582665525,
           0.5233625703959857,
           0.7626538359187749,
           0.7239781775138305,
           0,
           0.11121128808413339,
           0,
           0
          ],
          [
           0.16271718989399053,
           0.5641734730713073,
           0.6093220671861861,
           0.45295194838991515,
           0.25199769985443865,
           0.7067956385004339,
           0,
           0.18036502889158035,
           0,
           0
          ],
          [
           0.5126410409686764,
           0.6035944894307028,
           0.5392316710063967,
           0.4777091351279421,
           0.5437235143837023,
           0.6349828998347378,
           0,
           0.33517885186416185,
           0,
           0
          ],
          [
           0.48578162498192157,
           0.6043902657477802,
           0.4297514128223985,
           0.446210841407916,
           0.5762062706939797,
           0.9259218639314177,
           0,
           0.2943479413831387,
           0,
           0
          ],
          [
           0.14531462900355718,
           0.0860928879918137,
           0.06724700994524824,
           0.01769566870501693,
           0.0343662920777521,
           0.0278738156282472,
           0,
           0,
           0,
           0
          ],
          [
           0.010402932497283857,
           0.07738682482516457,
           0.0906387230322645,
           0.10853972608848972,
           0.07073258150085993,
           0.045302899480759606,
           0,
           0.2644639714497803,
           0,
           0
          ],
          [
           0.3560856565387347,
           0.8231082784507837,
           0.5277731783625486,
           0.4168961386524286,
           0.5173406991649991,
           0.6404080146726252,
           0,
           0.10253983553245716,
           0,
           0
          ],
          [
           0.6324864950539948,
           0.3749366597835584,
           0.19747895225977308,
           0.2617586483450087,
           0.2517263120540143,
           0.4400785992770837,
           0,
           0.10086480626199013,
           0,
           0
          ],
          [
           0.14801309680767005,
           0.2511410280780759,
           0.25929371341770313,
           0.298017573599596,
           0.2985190285714583,
           0.1142906836785258,
           0,
           0.2797280145040113,
           0,
           0
          ],
          [
           0.1072209787014895,
           0.16639919419591465,
           0.2377238519819329,
           0.20415631441079407,
           0.15955085207743114,
           0.20916123397394948,
           0,
           0.22157888168478523,
           0,
           0.03805459246456966
          ],
          [
           0.422046060762018,
           0.4063969788610762,
           0.47503226064327597,
           0.44539718940588013,
           0.45015653253454513,
           0.7633976844553909,
           0,
           0.1814404724918166,
           0,
           0
          ],
          [
           0.44045175423683114,
           0.9023102686306634,
           1.1464357176091202,
           0.7053908028046489,
           0.7886929635037068,
           0.8860212984365003,
           0,
           0.21027310664864318,
           0,
           0
          ],
          [
           0.08429673872785615,
           0.4828745139452859,
           0.3160112884721116,
           0.41816352166064497,
           0.5780658016377116,
           0.29937439909687913,
           0.02611215231339159,
           0.1014527537987806,
           0,
           0.06518280012028121
          ],
          [
           0.016952913983022677,
           0.023556950119262288,
           0.00880068361365427,
           0,
           0.010372989064940219,
           0,
           0,
           0,
           0,
           0
          ],
          [
           0.391048286596809,
           0.842337492259039,
           0.804270883761276,
           0.767037517407676,
           0.9254472000904945,
           0.5901684248885011,
           0,
           0.34157469522083206,
           0,
           0
          ],
          [
           0.046880268394621005,
           0.01567849016697398,
           0.05980157774110184,
           0.18442825878635682,
           0.14058834509437768,
           0.21803899480848177,
           0,
           0.9987839783540529,
           0,
           0
          ],
          [
           0,
           0,
           0.05372734306044036,
           0.06300806372613543,
           0.0785156369442408,
           0.007140529070350787,
           0,
           0.12930928386561602,
           0,
           0
          ],
          [
           0,
           0,
           0,
           0,
           0,
           0,
           0,
           0,
           0.10850248510491234,
           0
          ],
          [
           0.5877624936371881,
           0.9389163021068461,
           0.6948034134672256,
           0.9306740133619145,
           0.8910783481798363,
           0.8977768786773836,
           0,
           0.5221908632810472,
           0,
           0
          ],
          [
           0.5141560219188146,
           0.9003496961516002,
           0.7455495082386858,
           0.925454927456133,
           0.8782463136637078,
           0.8477002866758334,
           0,
           0.5057182183676541,
           0,
           0
          ],
          [
           0.3410350924405767,
           0.5776298144900756,
           0.8160276123552039,
           0.5102767047582601,
           0.6221532441768698,
           0.9898143592056856,
           0,
           0.22067763099686744,
           0,
           0
          ],
          [
           0.3624955661571727,
           0.7002315459305364,
           0.39537537057990013,
           0.46604432263567164,
           0.48232240054186803,
           0.48988820317611603,
           0,
           0.3587368191990681,
           0,
           0
          ],
          [
           0.3901595262367019,
           0.8096429665109723,
           0.9295098738708663,
           0.7837917050823688,
           0.8312754366891575,
           0.5973923522748161,
           0,
           0.3122115371668701,
           0,
           0
          ],
          [
           0.2719924725144862,
           0.5494551921266146,
           0.19924390816616322,
           0.5323676224620306,
           0.3616224600950093,
           0.4009067953735874,
           0,
           0.057399168680051016,
           0,
           0
          ],
          [
           0.10579953810127263,
           0.2206144088308708,
           0.07568791664220775,
           0.1544090951688757,
           0.46589270187895515,
           0.06643857416746624,
           0,
           0.36315731270731,
           0,
           0
          ],
          [
           0.11753676305692773,
           0.36280715149066234,
           0.18268930291559693,
           0.40561199126722336,
           0.2219376888902902,
           0.32433515472060837,
           0,
           0.389018161337626,
           0,
           0
          ],
          [
           0.04002904835424248,
           0.5519077326991493,
           0.3541298479178896,
           0.600479814163299,
           0.6794800289255574,
           0.16077937071306714,
           0,
           0.5161154143599003,
           0,
           0
          ],
          [
           0,
           0.0811463159152539,
           0.11252773443008124,
           0,
           0.03605041480304605,
           0.08693859229108147,
           0,
           0.04226977277746524,
           0,
           0
          ],
          [
           0.4531588674421294,
           0.7141893570042102,
           0.43573705777622784,
           0.46807354212052,
           0.5608945265921661,
           0.6001668818962771,
           0,
           0,
           0,
           0
          ],
          [
           0.05279398794773149,
           0.05279272509647326,
           0.015430007226420184,
           0,
           0,
           0.11273383720965224,
           0,
           0,
           0,
           0
          ],
          [
           0.2764189036549536,
           0.6834409190097137,
           0.19466420955575847,
           0.6421822507255674,
           0.5366120349755348,
           0.4912374665622816,
           0,
           0.13665429961785747,
           0,
           0
          ],
          [
           0.45017235324741733,
           0.6684274820227096,
           0.34371431148928977,
           0.6548881100545376,
           0.842669962719989,
           0.4124729269317031,
           0,
           0.29058489270758736,
           0,
           0
          ],
          [
           0.25420959371998464,
           0.3035491059154949,
           0.318789784862588,
           0.32475209473829736,
           0.4427559918491406,
           0.428350682046458,
           0,
           0.09230356413869023,
           0,
           0
          ],
          [
           0.37772685185298727,
           0.6715304500614019,
           0.31434265690117646,
           0.5325504384065811,
           0.7320449863174869,
           0.5272473681603813,
           0,
           0.09586059513605161,
           0,
           0
          ],
          [
           0.18514743507476128,
           0.32487285454144077,
           0.19072095826502888,
           0.23704723379398507,
           0.3160562730007155,
           0.46876905924857404,
           0,
           0.0916708308414087,
           0,
           0
          ],
          [
           0.2711062501706736,
           0.6311299919263669,
           0.29998923672657085,
           0.531456256919687,
           0.5695282703793634,
           0.29298782475681806,
           0,
           0.12671934143457753,
           0,
           0
          ],
          [
           0.33359980938391853,
           0.646122670791319,
           0.18873816896749407,
           0.5866974742397213,
           0.6114835211187746,
           0.3232779133863595,
           0,
           0.275985280099345,
           0,
           0
          ],
          [
           0,
           0,
           0,
           0,
           0.029688838099330983,
           0.051616355316747686,
           0,
           0.08266479214789202,
           0,
           0
          ],
          [
           0.2981116722116699,
           1.7935410681414075,
           0.46311591010166975,
           0.5357421812827874,
           0.614699075729217,
           0.3998089786030632,
           0,
           0.19927152364500023,
           0,
           0
          ],
          [
           0.37766953158867844,
           2.0624067501329475,
           0.38296688370777865,
           0.597373367477041,
           0.6615409141923014,
           0.29544873001570693,
           0,
           0.12328628237429218,
           0,
           0
          ],
          [
           0.27949408663569564,
           1.648086743269396,
           0.5330885152681506,
           0.6068660959084968,
           0.5611677124090573,
           0.22619854905646308,
           0,
           0.08034065611843078,
           0,
           0
          ],
          [
           0.30680813499424753,
           1.6037811723504005,
           0.41411938405080395,
           0.47011324398937093,
           0.5247428046064946,
           0.2607789225160686,
           0,
           0.08139424825351327,
           0,
           0
          ],
          [
           0.4495790806354947,
           0.7183676137680495,
           0.5021343720028795,
           0.4352373632931834,
           0.4493563562166156,
           0.790126055783944,
           0,
           0.17818375171844414,
           0,
           0
          ]
         ]
        }
       ],
       "layout": {
        "scene": {
         "aspectmode": "data"
        },
        "template": {
         "data": {
          "bar": [
           {
            "error_x": {
             "color": "#2a3f5f"
            },
            "error_y": {
             "color": "#2a3f5f"
            },
            "marker": {
             "line": {
              "color": "#E5ECF6",
              "width": 0.5
             },
             "pattern": {
              "fillmode": "overlay",
              "size": 10,
              "solidity": 0.2
             }
            },
            "type": "bar"
           }
          ],
          "barpolar": [
           {
            "marker": {
             "line": {
              "color": "#E5ECF6",
              "width": 0.5
             },
             "pattern": {
              "fillmode": "overlay",
              "size": 10,
              "solidity": 0.2
             }
            },
            "type": "barpolar"
           }
          ],
          "carpet": [
           {
            "aaxis": {
             "endlinecolor": "#2a3f5f",
             "gridcolor": "white",
             "linecolor": "white",
             "minorgridcolor": "white",
             "startlinecolor": "#2a3f5f"
            },
            "baxis": {
             "endlinecolor": "#2a3f5f",
             "gridcolor": "white",
             "linecolor": "white",
             "minorgridcolor": "white",
             "startlinecolor": "#2a3f5f"
            },
            "type": "carpet"
           }
          ],
          "choropleth": [
           {
            "colorbar": {
             "outlinewidth": 0,
             "ticks": ""
            },
            "type": "choropleth"
           }
          ],
          "contour": [
           {
            "colorbar": {
             "outlinewidth": 0,
             "ticks": ""
            },
            "colorscale": [
             [
              0,
              "#0d0887"
             ],
             [
              0.1111111111111111,
              "#46039f"
             ],
             [
              0.2222222222222222,
              "#7201a8"
             ],
             [
              0.3333333333333333,
              "#9c179e"
             ],
             [
              0.4444444444444444,
              "#bd3786"
             ],
             [
              0.5555555555555556,
              "#d8576b"
             ],
             [
              0.6666666666666666,
              "#ed7953"
             ],
             [
              0.7777777777777778,
              "#fb9f3a"
             ],
             [
              0.8888888888888888,
              "#fdca26"
             ],
             [
              1,
              "#f0f921"
             ]
            ],
            "type": "contour"
           }
          ],
          "contourcarpet": [
           {
            "colorbar": {
             "outlinewidth": 0,
             "ticks": ""
            },
            "type": "contourcarpet"
           }
          ],
          "heatmap": [
           {
            "colorbar": {
             "outlinewidth": 0,
             "ticks": ""
            },
            "colorscale": [
             [
              0,
              "#0d0887"
             ],
             [
              0.1111111111111111,
              "#46039f"
             ],
             [
              0.2222222222222222,
              "#7201a8"
             ],
             [
              0.3333333333333333,
              "#9c179e"
             ],
             [
              0.4444444444444444,
              "#bd3786"
             ],
             [
              0.5555555555555556,
              "#d8576b"
             ],
             [
              0.6666666666666666,
              "#ed7953"
             ],
             [
              0.7777777777777778,
              "#fb9f3a"
             ],
             [
              0.8888888888888888,
              "#fdca26"
             ],
             [
              1,
              "#f0f921"
             ]
            ],
            "type": "heatmap"
           }
          ],
          "heatmapgl": [
           {
            "colorbar": {
             "outlinewidth": 0,
             "ticks": ""
            },
            "colorscale": [
             [
              0,
              "#0d0887"
             ],
             [
              0.1111111111111111,
              "#46039f"
             ],
             [
              0.2222222222222222,
              "#7201a8"
             ],
             [
              0.3333333333333333,
              "#9c179e"
             ],
             [
              0.4444444444444444,
              "#bd3786"
             ],
             [
              0.5555555555555556,
              "#d8576b"
             ],
             [
              0.6666666666666666,
              "#ed7953"
             ],
             [
              0.7777777777777778,
              "#fb9f3a"
             ],
             [
              0.8888888888888888,
              "#fdca26"
             ],
             [
              1,
              "#f0f921"
             ]
            ],
            "type": "heatmapgl"
           }
          ],
          "histogram": [
           {
            "marker": {
             "pattern": {
              "fillmode": "overlay",
              "size": 10,
              "solidity": 0.2
             }
            },
            "type": "histogram"
           }
          ],
          "histogram2d": [
           {
            "colorbar": {
             "outlinewidth": 0,
             "ticks": ""
            },
            "colorscale": [
             [
              0,
              "#0d0887"
             ],
             [
              0.1111111111111111,
              "#46039f"
             ],
             [
              0.2222222222222222,
              "#7201a8"
             ],
             [
              0.3333333333333333,
              "#9c179e"
             ],
             [
              0.4444444444444444,
              "#bd3786"
             ],
             [
              0.5555555555555556,
              "#d8576b"
             ],
             [
              0.6666666666666666,
              "#ed7953"
             ],
             [
              0.7777777777777778,
              "#fb9f3a"
             ],
             [
              0.8888888888888888,
              "#fdca26"
             ],
             [
              1,
              "#f0f921"
             ]
            ],
            "type": "histogram2d"
           }
          ],
          "histogram2dcontour": [
           {
            "colorbar": {
             "outlinewidth": 0,
             "ticks": ""
            },
            "colorscale": [
             [
              0,
              "#0d0887"
             ],
             [
              0.1111111111111111,
              "#46039f"
             ],
             [
              0.2222222222222222,
              "#7201a8"
             ],
             [
              0.3333333333333333,
              "#9c179e"
             ],
             [
              0.4444444444444444,
              "#bd3786"
             ],
             [
              0.5555555555555556,
              "#d8576b"
             ],
             [
              0.6666666666666666,
              "#ed7953"
             ],
             [
              0.7777777777777778,
              "#fb9f3a"
             ],
             [
              0.8888888888888888,
              "#fdca26"
             ],
             [
              1,
              "#f0f921"
             ]
            ],
            "type": "histogram2dcontour"
           }
          ],
          "mesh3d": [
           {
            "colorbar": {
             "outlinewidth": 0,
             "ticks": ""
            },
            "type": "mesh3d"
           }
          ],
          "parcoords": [
           {
            "line": {
             "colorbar": {
              "outlinewidth": 0,
              "ticks": ""
             }
            },
            "type": "parcoords"
           }
          ],
          "pie": [
           {
            "automargin": true,
            "type": "pie"
           }
          ],
          "scatter": [
           {
            "fillpattern": {
             "fillmode": "overlay",
             "size": 10,
             "solidity": 0.2
            },
            "type": "scatter"
           }
          ],
          "scatter3d": [
           {
            "line": {
             "colorbar": {
              "outlinewidth": 0,
              "ticks": ""
             }
            },
            "marker": {
             "colorbar": {
              "outlinewidth": 0,
              "ticks": ""
             }
            },
            "type": "scatter3d"
           }
          ],
          "scattercarpet": [
           {
            "marker": {
             "colorbar": {
              "outlinewidth": 0,
              "ticks": ""
             }
            },
            "type": "scattercarpet"
           }
          ],
          "scattergeo": [
           {
            "marker": {
             "colorbar": {
              "outlinewidth": 0,
              "ticks": ""
             }
            },
            "type": "scattergeo"
           }
          ],
          "scattergl": [
           {
            "marker": {
             "colorbar": {
              "outlinewidth": 0,
              "ticks": ""
             }
            },
            "type": "scattergl"
           }
          ],
          "scattermapbox": [
           {
            "marker": {
             "colorbar": {
              "outlinewidth": 0,
              "ticks": ""
             }
            },
            "type": "scattermapbox"
           }
          ],
          "scatterpolar": [
           {
            "marker": {
             "colorbar": {
              "outlinewidth": 0,
              "ticks": ""
             }
            },
            "type": "scatterpolar"
           }
          ],
          "scatterpolargl": [
           {
            "marker": {
             "colorbar": {
              "outlinewidth": 0,
              "ticks": ""
             }
            },
            "type": "scatterpolargl"
           }
          ],
          "scatterternary": [
           {
            "marker": {
             "colorbar": {
              "outlinewidth": 0,
              "ticks": ""
             }
            },
            "type": "scatterternary"
           }
          ],
          "surface": [
           {
            "colorbar": {
             "outlinewidth": 0,
             "ticks": ""
            },
            "colorscale": [
             [
              0,
              "#0d0887"
             ],
             [
              0.1111111111111111,
              "#46039f"
             ],
             [
              0.2222222222222222,
              "#7201a8"
             ],
             [
              0.3333333333333333,
              "#9c179e"
             ],
             [
              0.4444444444444444,
              "#bd3786"
             ],
             [
              0.5555555555555556,
              "#d8576b"
             ],
             [
              0.6666666666666666,
              "#ed7953"
             ],
             [
              0.7777777777777778,
              "#fb9f3a"
             ],
             [
              0.8888888888888888,
              "#fdca26"
             ],
             [
              1,
              "#f0f921"
             ]
            ],
            "type": "surface"
           }
          ],
          "table": [
           {
            "cells": {
             "fill": {
              "color": "#EBF0F8"
             },
             "line": {
              "color": "white"
             }
            },
            "header": {
             "fill": {
              "color": "#C8D4E3"
             },
             "line": {
              "color": "white"
             }
            },
            "type": "table"
           }
          ]
         },
         "layout": {
          "annotationdefaults": {
           "arrowcolor": "#2a3f5f",
           "arrowhead": 0,
           "arrowwidth": 1
          },
          "autotypenumbers": "strict",
          "coloraxis": {
           "colorbar": {
            "outlinewidth": 0,
            "ticks": ""
           }
          },
          "colorscale": {
           "diverging": [
            [
             0,
             "#8e0152"
            ],
            [
             0.1,
             "#c51b7d"
            ],
            [
             0.2,
             "#de77ae"
            ],
            [
             0.3,
             "#f1b6da"
            ],
            [
             0.4,
             "#fde0ef"
            ],
            [
             0.5,
             "#f7f7f7"
            ],
            [
             0.6,
             "#e6f5d0"
            ],
            [
             0.7,
             "#b8e186"
            ],
            [
             0.8,
             "#7fbc41"
            ],
            [
             0.9,
             "#4d9221"
            ],
            [
             1,
             "#276419"
            ]
           ],
           "sequential": [
            [
             0,
             "#0d0887"
            ],
            [
             0.1111111111111111,
             "#46039f"
            ],
            [
             0.2222222222222222,
             "#7201a8"
            ],
            [
             0.3333333333333333,
             "#9c179e"
            ],
            [
             0.4444444444444444,
             "#bd3786"
            ],
            [
             0.5555555555555556,
             "#d8576b"
            ],
            [
             0.6666666666666666,
             "#ed7953"
            ],
            [
             0.7777777777777778,
             "#fb9f3a"
            ],
            [
             0.8888888888888888,
             "#fdca26"
            ],
            [
             1,
             "#f0f921"
            ]
           ],
           "sequentialminus": [
            [
             0,
             "#0d0887"
            ],
            [
             0.1111111111111111,
             "#46039f"
            ],
            [
             0.2222222222222222,
             "#7201a8"
            ],
            [
             0.3333333333333333,
             "#9c179e"
            ],
            [
             0.4444444444444444,
             "#bd3786"
            ],
            [
             0.5555555555555556,
             "#d8576b"
            ],
            [
             0.6666666666666666,
             "#ed7953"
            ],
            [
             0.7777777777777778,
             "#fb9f3a"
            ],
            [
             0.8888888888888888,
             "#fdca26"
            ],
            [
             1,
             "#f0f921"
            ]
           ]
          },
          "colorway": [
           "#636efa",
           "#EF553B",
           "#00cc96",
           "#ab63fa",
           "#FFA15A",
           "#19d3f3",
           "#FF6692",
           "#B6E880",
           "#FF97FF",
           "#FECB52"
          ],
          "font": {
           "color": "#2a3f5f"
          },
          "geo": {
           "bgcolor": "white",
           "lakecolor": "white",
           "landcolor": "#E5ECF6",
           "showlakes": true,
           "showland": true,
           "subunitcolor": "white"
          },
          "hoverlabel": {
           "align": "left"
          },
          "hovermode": "closest",
          "mapbox": {
           "style": "light"
          },
          "paper_bgcolor": "white",
          "plot_bgcolor": "#E5ECF6",
          "polar": {
           "angularaxis": {
            "gridcolor": "white",
            "linecolor": "white",
            "ticks": ""
           },
           "bgcolor": "#E5ECF6",
           "radialaxis": {
            "gridcolor": "white",
            "linecolor": "white",
            "ticks": ""
           }
          },
          "scene": {
           "xaxis": {
            "backgroundcolor": "#E5ECF6",
            "gridcolor": "white",
            "gridwidth": 2,
            "linecolor": "white",
            "showbackground": true,
            "ticks": "",
            "zerolinecolor": "white"
           },
           "yaxis": {
            "backgroundcolor": "#E5ECF6",
            "gridcolor": "white",
            "gridwidth": 2,
            "linecolor": "white",
            "showbackground": true,
            "ticks": "",
            "zerolinecolor": "white"
           },
           "zaxis": {
            "backgroundcolor": "#E5ECF6",
            "gridcolor": "white",
            "gridwidth": 2,
            "linecolor": "white",
            "showbackground": true,
            "ticks": "",
            "zerolinecolor": "white"
           }
          },
          "shapedefaults": {
           "line": {
            "color": "#2a3f5f"
           }
          },
          "ternary": {
           "aaxis": {
            "gridcolor": "white",
            "linecolor": "white",
            "ticks": ""
           },
           "baxis": {
            "gridcolor": "white",
            "linecolor": "white",
            "ticks": ""
           },
           "bgcolor": "#E5ECF6",
           "caxis": {
            "gridcolor": "white",
            "linecolor": "white",
            "ticks": ""
           }
          },
          "title": {
           "x": 0.05
          },
          "xaxis": {
           "automargin": true,
           "gridcolor": "white",
           "linecolor": "white",
           "ticks": "",
           "title": {
            "standoff": 15
           },
           "zerolinecolor": "white",
           "zerolinewidth": 2
          },
          "yaxis": {
           "automargin": true,
           "gridcolor": "white",
           "linecolor": "white",
           "ticks": "",
           "title": {
            "standoff": 15
           },
           "zerolinecolor": "white",
           "zerolinewidth": 2
          }
         }
        },
        "title": {
         "text": "Mutual Information",
         "x": 0.5
        }
       }
      }
     },
     "metadata": {},
     "output_type": "display_data"
    },
    {
     "data": {
      "application/vnd.plotly.v1+json": {
       "config": {
        "plotlyServerURL": "https://plot.ly"
       },
       "data": [
        {
         "alignmentgroup": "True",
         "hovertemplate": "x=%{x}<br>y=%{y}<extra></extra>",
         "legendgroup": "",
         "marker": {
          "color": "#636efa",
          "pattern": {
           "shape": ""
          }
         },
         "name": "",
         "offsetgroup": "",
         "orientation": "v",
         "showlegend": false,
         "textposition": "auto",
         "type": "bar",
         "x": [
          "OXO-5LI650F Augusta",
          "OXO-5FIC622A Augusta",
          "OXO-5FIC636B Augusta",
          "OXO-5FIC132 Augusta",
          "OXO-5FIC636A Augusta",
          "OXO-5LI633B Augusta",
          "OXO-5LI655F Augusta",
          "OXO-5LI653F Augusta",
          "OXO-5LI652E Augusta",
          "OXO-5FIC606C Augusta",
          "OXO-5FIC601 Augusta",
          "OXO-5LI653E Augusta",
          "OXO-5FIC622B Augusta",
          "OXO-5FIC612A Augusta",
          "OXO-5FIC622C Augusta",
          "OXO-5FIC636C Augusta",
          "OXO-5FIC609B Augusta",
          "OXO-5LI658F Augusta",
          "OXO-5FI635C Augusta",
          "OXO-5FI696 Augusta",
          "OXO-5FIC618A Augusta",
          "OXO-5LI657F Augusta",
          "OXO-5LI656F Augusta",
          "OXO-5FIC618C Augusta",
          "OXO-5LI654E Augusta",
          "OXO-5FIC618B Augusta",
          "OXO-5LI651F Augusta",
          "OXO-5FIC600 Augusta",
          "OXO-5RIC606_Y Augusta",
          "OXO-5TIC601 Augusta",
          "OXO-5FIC612B Augusta",
          "OXO-5FIC618D Augusta",
          "OXO-5FIC602 Augusta",
          "OXO-_5FI662A Augusta",
          "OXO-_5FI660A Augusta",
          "OXO-_5FI659A Augusta",
          "OXO-_5FI658A Augusta",
          "OXO-5FI661A Augusta",
          "OXO-5TIC603 Augusta",
          "OXO-5FIC611A Augusta",
          "OXO-5TIC602 Augusta",
          "OXO-5TIC604 Augusta",
          "OXO-5TIC607 Augusta",
          "OXO-5TIC605 Augusta",
          "OXO-5FQI691B Augusta",
          "OXO-5TIC606 Augusta",
          "OXO-5LI651E Augusta",
          "OXO-5PIC605A Augusta",
          "OXO-5TIC659 Augusta",
          "OXO-5LI657E Augusta",
          "OXO-5LI658E Augusta",
          "OXO-5TIC002 Augusta",
          "OXO-5FIC607 Augusta",
          "OXO-5FIC609A Augusta",
          "OXO-5LI652F Augusta",
          "OXO-5FIC603 Augusta"
         ],
         "xaxis": "x",
         "y": [
          4.978317653426667,
          3.1908118883634295,
          1.2694845007363293,
          1.2666215187093854,
          0.7680049740767814,
          0.4400179093267958,
          0.3920275776098835,
          0.27703858637190026,
          0.2656531501044595,
          0.25978789014876835,
          0.23743360526196636,
          0.23343335274987945,
          0.13432681652638775,
          0.11342031458818368,
          0.10396577419672444,
          0.09862397974702498,
          0.08586967511334602,
          0.07815407069188204,
          0.0752564573331057,
          0.05662493102436036,
          0.05269272733426572,
          0.04323242851123516,
          0.03598007963085169,
          0.03281020812514192,
          0.03061045020666818,
          0.027662014256534452,
          0.01902207959210285,
          0.01806863265438021,
          0.016776361896502664,
          0.015393514059849747,
          0.015324927653522722,
          0.01452061080847832,
          0.012857671591702447,
          0.010146124485992468,
          0.009624332146022044,
          0.009263896116023013,
          0.009093895664611888,
          0.008932425885222025,
          0.008653379427818915,
          0.008374386910480452,
          0.008277165286456287,
          0.007707865651382549,
          0.006965336581912837,
          0.0066919323136784515,
          0.006227653343609739,
          0.0055291985619028115,
          0.002876287787955566,
          0.0018512914392526819,
          0.0013643485079269527,
          0.0010068965089549704,
          0.00034074523207949873,
          0.00013915088730696352,
          0,
          0,
          0,
          0
         ],
         "yaxis": "y"
        }
       ],
       "layout": {
        "barmode": "relative",
        "legend": {
         "tracegroupgap": 0
        },
        "template": {
         "data": {
          "bar": [
           {
            "error_x": {
             "color": "#2a3f5f"
            },
            "error_y": {
             "color": "#2a3f5f"
            },
            "marker": {
             "line": {
              "color": "#E5ECF6",
              "width": 0.5
             },
             "pattern": {
              "fillmode": "overlay",
              "size": 10,
              "solidity": 0.2
             }
            },
            "type": "bar"
           }
          ],
          "barpolar": [
           {
            "marker": {
             "line": {
              "color": "#E5ECF6",
              "width": 0.5
             },
             "pattern": {
              "fillmode": "overlay",
              "size": 10,
              "solidity": 0.2
             }
            },
            "type": "barpolar"
           }
          ],
          "carpet": [
           {
            "aaxis": {
             "endlinecolor": "#2a3f5f",
             "gridcolor": "white",
             "linecolor": "white",
             "minorgridcolor": "white",
             "startlinecolor": "#2a3f5f"
            },
            "baxis": {
             "endlinecolor": "#2a3f5f",
             "gridcolor": "white",
             "linecolor": "white",
             "minorgridcolor": "white",
             "startlinecolor": "#2a3f5f"
            },
            "type": "carpet"
           }
          ],
          "choropleth": [
           {
            "colorbar": {
             "outlinewidth": 0,
             "ticks": ""
            },
            "type": "choropleth"
           }
          ],
          "contour": [
           {
            "colorbar": {
             "outlinewidth": 0,
             "ticks": ""
            },
            "colorscale": [
             [
              0,
              "#0d0887"
             ],
             [
              0.1111111111111111,
              "#46039f"
             ],
             [
              0.2222222222222222,
              "#7201a8"
             ],
             [
              0.3333333333333333,
              "#9c179e"
             ],
             [
              0.4444444444444444,
              "#bd3786"
             ],
             [
              0.5555555555555556,
              "#d8576b"
             ],
             [
              0.6666666666666666,
              "#ed7953"
             ],
             [
              0.7777777777777778,
              "#fb9f3a"
             ],
             [
              0.8888888888888888,
              "#fdca26"
             ],
             [
              1,
              "#f0f921"
             ]
            ],
            "type": "contour"
           }
          ],
          "contourcarpet": [
           {
            "colorbar": {
             "outlinewidth": 0,
             "ticks": ""
            },
            "type": "contourcarpet"
           }
          ],
          "heatmap": [
           {
            "colorbar": {
             "outlinewidth": 0,
             "ticks": ""
            },
            "colorscale": [
             [
              0,
              "#0d0887"
             ],
             [
              0.1111111111111111,
              "#46039f"
             ],
             [
              0.2222222222222222,
              "#7201a8"
             ],
             [
              0.3333333333333333,
              "#9c179e"
             ],
             [
              0.4444444444444444,
              "#bd3786"
             ],
             [
              0.5555555555555556,
              "#d8576b"
             ],
             [
              0.6666666666666666,
              "#ed7953"
             ],
             [
              0.7777777777777778,
              "#fb9f3a"
             ],
             [
              0.8888888888888888,
              "#fdca26"
             ],
             [
              1,
              "#f0f921"
             ]
            ],
            "type": "heatmap"
           }
          ],
          "heatmapgl": [
           {
            "colorbar": {
             "outlinewidth": 0,
             "ticks": ""
            },
            "colorscale": [
             [
              0,
              "#0d0887"
             ],
             [
              0.1111111111111111,
              "#46039f"
             ],
             [
              0.2222222222222222,
              "#7201a8"
             ],
             [
              0.3333333333333333,
              "#9c179e"
             ],
             [
              0.4444444444444444,
              "#bd3786"
             ],
             [
              0.5555555555555556,
              "#d8576b"
             ],
             [
              0.6666666666666666,
              "#ed7953"
             ],
             [
              0.7777777777777778,
              "#fb9f3a"
             ],
             [
              0.8888888888888888,
              "#fdca26"
             ],
             [
              1,
              "#f0f921"
             ]
            ],
            "type": "heatmapgl"
           }
          ],
          "histogram": [
           {
            "marker": {
             "pattern": {
              "fillmode": "overlay",
              "size": 10,
              "solidity": 0.2
             }
            },
            "type": "histogram"
           }
          ],
          "histogram2d": [
           {
            "colorbar": {
             "outlinewidth": 0,
             "ticks": ""
            },
            "colorscale": [
             [
              0,
              "#0d0887"
             ],
             [
              0.1111111111111111,
              "#46039f"
             ],
             [
              0.2222222222222222,
              "#7201a8"
             ],
             [
              0.3333333333333333,
              "#9c179e"
             ],
             [
              0.4444444444444444,
              "#bd3786"
             ],
             [
              0.5555555555555556,
              "#d8576b"
             ],
             [
              0.6666666666666666,
              "#ed7953"
             ],
             [
              0.7777777777777778,
              "#fb9f3a"
             ],
             [
              0.8888888888888888,
              "#fdca26"
             ],
             [
              1,
              "#f0f921"
             ]
            ],
            "type": "histogram2d"
           }
          ],
          "histogram2dcontour": [
           {
            "colorbar": {
             "outlinewidth": 0,
             "ticks": ""
            },
            "colorscale": [
             [
              0,
              "#0d0887"
             ],
             [
              0.1111111111111111,
              "#46039f"
             ],
             [
              0.2222222222222222,
              "#7201a8"
             ],
             [
              0.3333333333333333,
              "#9c179e"
             ],
             [
              0.4444444444444444,
              "#bd3786"
             ],
             [
              0.5555555555555556,
              "#d8576b"
             ],
             [
              0.6666666666666666,
              "#ed7953"
             ],
             [
              0.7777777777777778,
              "#fb9f3a"
             ],
             [
              0.8888888888888888,
              "#fdca26"
             ],
             [
              1,
              "#f0f921"
             ]
            ],
            "type": "histogram2dcontour"
           }
          ],
          "mesh3d": [
           {
            "colorbar": {
             "outlinewidth": 0,
             "ticks": ""
            },
            "type": "mesh3d"
           }
          ],
          "parcoords": [
           {
            "line": {
             "colorbar": {
              "outlinewidth": 0,
              "ticks": ""
             }
            },
            "type": "parcoords"
           }
          ],
          "pie": [
           {
            "automargin": true,
            "type": "pie"
           }
          ],
          "scatter": [
           {
            "fillpattern": {
             "fillmode": "overlay",
             "size": 10,
             "solidity": 0.2
            },
            "type": "scatter"
           }
          ],
          "scatter3d": [
           {
            "line": {
             "colorbar": {
              "outlinewidth": 0,
              "ticks": ""
             }
            },
            "marker": {
             "colorbar": {
              "outlinewidth": 0,
              "ticks": ""
             }
            },
            "type": "scatter3d"
           }
          ],
          "scattercarpet": [
           {
            "marker": {
             "colorbar": {
              "outlinewidth": 0,
              "ticks": ""
             }
            },
            "type": "scattercarpet"
           }
          ],
          "scattergeo": [
           {
            "marker": {
             "colorbar": {
              "outlinewidth": 0,
              "ticks": ""
             }
            },
            "type": "scattergeo"
           }
          ],
          "scattergl": [
           {
            "marker": {
             "colorbar": {
              "outlinewidth": 0,
              "ticks": ""
             }
            },
            "type": "scattergl"
           }
          ],
          "scattermapbox": [
           {
            "marker": {
             "colorbar": {
              "outlinewidth": 0,
              "ticks": ""
             }
            },
            "type": "scattermapbox"
           }
          ],
          "scatterpolar": [
           {
            "marker": {
             "colorbar": {
              "outlinewidth": 0,
              "ticks": ""
             }
            },
            "type": "scatterpolar"
           }
          ],
          "scatterpolargl": [
           {
            "marker": {
             "colorbar": {
              "outlinewidth": 0,
              "ticks": ""
             }
            },
            "type": "scatterpolargl"
           }
          ],
          "scatterternary": [
           {
            "marker": {
             "colorbar": {
              "outlinewidth": 0,
              "ticks": ""
             }
            },
            "type": "scatterternary"
           }
          ],
          "surface": [
           {
            "colorbar": {
             "outlinewidth": 0,
             "ticks": ""
            },
            "colorscale": [
             [
              0,
              "#0d0887"
             ],
             [
              0.1111111111111111,
              "#46039f"
             ],
             [
              0.2222222222222222,
              "#7201a8"
             ],
             [
              0.3333333333333333,
              "#9c179e"
             ],
             [
              0.4444444444444444,
              "#bd3786"
             ],
             [
              0.5555555555555556,
              "#d8576b"
             ],
             [
              0.6666666666666666,
              "#ed7953"
             ],
             [
              0.7777777777777778,
              "#fb9f3a"
             ],
             [
              0.8888888888888888,
              "#fdca26"
             ],
             [
              1,
              "#f0f921"
             ]
            ],
            "type": "surface"
           }
          ],
          "table": [
           {
            "cells": {
             "fill": {
              "color": "#EBF0F8"
             },
             "line": {
              "color": "white"
             }
            },
            "header": {
             "fill": {
              "color": "#C8D4E3"
             },
             "line": {
              "color": "white"
             }
            },
            "type": "table"
           }
          ]
         },
         "layout": {
          "annotationdefaults": {
           "arrowcolor": "#2a3f5f",
           "arrowhead": 0,
           "arrowwidth": 1
          },
          "autotypenumbers": "strict",
          "coloraxis": {
           "colorbar": {
            "outlinewidth": 0,
            "ticks": ""
           }
          },
          "colorscale": {
           "diverging": [
            [
             0,
             "#8e0152"
            ],
            [
             0.1,
             "#c51b7d"
            ],
            [
             0.2,
             "#de77ae"
            ],
            [
             0.3,
             "#f1b6da"
            ],
            [
             0.4,
             "#fde0ef"
            ],
            [
             0.5,
             "#f7f7f7"
            ],
            [
             0.6,
             "#e6f5d0"
            ],
            [
             0.7,
             "#b8e186"
            ],
            [
             0.8,
             "#7fbc41"
            ],
            [
             0.9,
             "#4d9221"
            ],
            [
             1,
             "#276419"
            ]
           ],
           "sequential": [
            [
             0,
             "#0d0887"
            ],
            [
             0.1111111111111111,
             "#46039f"
            ],
            [
             0.2222222222222222,
             "#7201a8"
            ],
            [
             0.3333333333333333,
             "#9c179e"
            ],
            [
             0.4444444444444444,
             "#bd3786"
            ],
            [
             0.5555555555555556,
             "#d8576b"
            ],
            [
             0.6666666666666666,
             "#ed7953"
            ],
            [
             0.7777777777777778,
             "#fb9f3a"
            ],
            [
             0.8888888888888888,
             "#fdca26"
            ],
            [
             1,
             "#f0f921"
            ]
           ],
           "sequentialminus": [
            [
             0,
             "#0d0887"
            ],
            [
             0.1111111111111111,
             "#46039f"
            ],
            [
             0.2222222222222222,
             "#7201a8"
            ],
            [
             0.3333333333333333,
             "#9c179e"
            ],
            [
             0.4444444444444444,
             "#bd3786"
            ],
            [
             0.5555555555555556,
             "#d8576b"
            ],
            [
             0.6666666666666666,
             "#ed7953"
            ],
            [
             0.7777777777777778,
             "#fb9f3a"
            ],
            [
             0.8888888888888888,
             "#fdca26"
            ],
            [
             1,
             "#f0f921"
            ]
           ]
          },
          "colorway": [
           "#636efa",
           "#EF553B",
           "#00cc96",
           "#ab63fa",
           "#FFA15A",
           "#19d3f3",
           "#FF6692",
           "#B6E880",
           "#FF97FF",
           "#FECB52"
          ],
          "font": {
           "color": "#2a3f5f"
          },
          "geo": {
           "bgcolor": "white",
           "lakecolor": "white",
           "landcolor": "#E5ECF6",
           "showlakes": true,
           "showland": true,
           "subunitcolor": "white"
          },
          "hoverlabel": {
           "align": "left"
          },
          "hovermode": "closest",
          "mapbox": {
           "style": "light"
          },
          "paper_bgcolor": "white",
          "plot_bgcolor": "#E5ECF6",
          "polar": {
           "angularaxis": {
            "gridcolor": "white",
            "linecolor": "white",
            "ticks": ""
           },
           "bgcolor": "#E5ECF6",
           "radialaxis": {
            "gridcolor": "white",
            "linecolor": "white",
            "ticks": ""
           }
          },
          "scene": {
           "xaxis": {
            "backgroundcolor": "#E5ECF6",
            "gridcolor": "white",
            "gridwidth": 2,
            "linecolor": "white",
            "showbackground": true,
            "ticks": "",
            "zerolinecolor": "white"
           },
           "yaxis": {
            "backgroundcolor": "#E5ECF6",
            "gridcolor": "white",
            "gridwidth": 2,
            "linecolor": "white",
            "showbackground": true,
            "ticks": "",
            "zerolinecolor": "white"
           },
           "zaxis": {
            "backgroundcolor": "#E5ECF6",
            "gridcolor": "white",
            "gridwidth": 2,
            "linecolor": "white",
            "showbackground": true,
            "ticks": "",
            "zerolinecolor": "white"
           }
          },
          "shapedefaults": {
           "line": {
            "color": "#2a3f5f"
           }
          },
          "ternary": {
           "aaxis": {
            "gridcolor": "white",
            "linecolor": "white",
            "ticks": ""
           },
           "baxis": {
            "gridcolor": "white",
            "linecolor": "white",
            "ticks": ""
           },
           "bgcolor": "#E5ECF6",
           "caxis": {
            "gridcolor": "white",
            "linecolor": "white",
            "ticks": ""
           }
          },
          "title": {
           "x": 0.05
          },
          "xaxis": {
           "automargin": true,
           "gridcolor": "white",
           "linecolor": "white",
           "ticks": "",
           "title": {
            "standoff": 15
           },
           "zerolinecolor": "white",
           "zerolinewidth": 2
          },
          "yaxis": {
           "automargin": true,
           "gridcolor": "white",
           "linecolor": "white",
           "ticks": "",
           "title": {
            "standoff": 15
           },
           "zerolinecolor": "white",
           "zerolinewidth": 2
          }
         }
        },
        "title": {
         "text": "Norm STD of each column"
        },
        "xaxis": {
         "anchor": "y",
         "domain": [
          0,
          1
         ],
         "title": {
          "text": "Column Name"
         }
        },
        "yaxis": {
         "anchor": "x",
         "domain": [
          0,
          1
         ],
         "title": {
          "text": "Norm STD"
         }
        }
       }
      }
     },
     "metadata": {},
     "output_type": "display_data"
    },
    {
     "name": "stdout",
     "output_type": "stream",
     "text": [
      "Selecting Features...\n"
     ]
    }
   ],
   "source": [
    "dp_class = dp.DataProcessing('./data/sasol_data_sample.csv','OXO-5FI696 Augusta','OXO-5FI696 Augusta','max') \n",
    "final_df = dp_class.pipeline()"
   ]
  },
  {
   "cell_type": "code",
   "execution_count": 4,
   "metadata": {},
   "outputs": [
    {
     "data": {
      "text/html": [
       "<div>\n",
       "<style scoped>\n",
       "    .dataframe tbody tr th:only-of-type {\n",
       "        vertical-align: middle;\n",
       "    }\n",
       "\n",
       "    .dataframe tbody tr th {\n",
       "        vertical-align: top;\n",
       "    }\n",
       "\n",
       "    .dataframe thead th {\n",
       "        text-align: right;\n",
       "    }\n",
       "</style>\n",
       "<table border=\"1\" class=\"dataframe\">\n",
       "  <thead>\n",
       "    <tr style=\"text-align: right;\">\n",
       "      <th></th>\n",
       "      <th>OXO-5FI635C Augusta</th>\n",
       "      <th>OXO-5FI661A Augusta</th>\n",
       "      <th>OXO-5FIC132 Augusta</th>\n",
       "      <th>OXO-5FIC600 Augusta</th>\n",
       "      <th>OXO-5FIC601 Augusta</th>\n",
       "      <th>OXO-5FIC602 Augusta</th>\n",
       "      <th>OXO-5FIC603 Augusta</th>\n",
       "      <th>OXO-5FIC606C Augusta</th>\n",
       "      <th>OXO-5FIC607 Augusta</th>\n",
       "      <th>OXO-5FIC609A Augusta</th>\n",
       "      <th>...</th>\n",
       "      <th>OXO-5TIC604 Augusta</th>\n",
       "      <th>OXO-5TIC605 Augusta</th>\n",
       "      <th>OXO-5TIC606 Augusta</th>\n",
       "      <th>OXO-5TIC607 Augusta</th>\n",
       "      <th>OXO-5TIC659 Augusta</th>\n",
       "      <th>OXO-_5FI658A Augusta</th>\n",
       "      <th>OXO-_5FI659A Augusta</th>\n",
       "      <th>OXO-_5FI660A Augusta</th>\n",
       "      <th>OXO-_5FI662A Augusta</th>\n",
       "      <th>OXO-5FI696 Augusta</th>\n",
       "    </tr>\n",
       "    <tr>\n",
       "      <th>Date</th>\n",
       "      <th></th>\n",
       "      <th></th>\n",
       "      <th></th>\n",
       "      <th></th>\n",
       "      <th></th>\n",
       "      <th></th>\n",
       "      <th></th>\n",
       "      <th></th>\n",
       "      <th></th>\n",
       "      <th></th>\n",
       "      <th></th>\n",
       "      <th></th>\n",
       "      <th></th>\n",
       "      <th></th>\n",
       "      <th></th>\n",
       "      <th></th>\n",
       "      <th></th>\n",
       "      <th></th>\n",
       "      <th></th>\n",
       "      <th></th>\n",
       "      <th></th>\n",
       "    </tr>\n",
       "  </thead>\n",
       "  <tbody>\n",
       "    <tr>\n",
       "      <th>2019-11-01 00:00:00</th>\n",
       "      <td>5859.125648</td>\n",
       "      <td>23345.857389</td>\n",
       "      <td>4.450549</td>\n",
       "      <td>2076.174093</td>\n",
       "      <td>67.208298</td>\n",
       "      <td>5069.174366</td>\n",
       "      <td>0.0</td>\n",
       "      <td>1.202029</td>\n",
       "      <td>0.0</td>\n",
       "      <td>0.0</td>\n",
       "      <td>...</td>\n",
       "      <td>130.578919</td>\n",
       "      <td>133.007764</td>\n",
       "      <td>134.032267</td>\n",
       "      <td>130.899539</td>\n",
       "      <td>298.029910</td>\n",
       "      <td>21719.630615</td>\n",
       "      <td>22870.976318</td>\n",
       "      <td>22026.824772</td>\n",
       "      <td>22036.315560</td>\n",
       "      <td>9830.200195</td>\n",
       "    </tr>\n",
       "    <tr>\n",
       "      <th>2019-11-01 01:00:00</th>\n",
       "      <td>5950.173837</td>\n",
       "      <td>23346.553467</td>\n",
       "      <td>4.410112</td>\n",
       "      <td>2070.199284</td>\n",
       "      <td>67.204392</td>\n",
       "      <td>5068.014148</td>\n",
       "      <td>0.0</td>\n",
       "      <td>1.158160</td>\n",
       "      <td>0.0</td>\n",
       "      <td>0.0</td>\n",
       "      <td>...</td>\n",
       "      <td>130.640505</td>\n",
       "      <td>132.966600</td>\n",
       "      <td>134.035076</td>\n",
       "      <td>130.849780</td>\n",
       "      <td>298.084330</td>\n",
       "      <td>21727.622575</td>\n",
       "      <td>22879.205452</td>\n",
       "      <td>22042.948193</td>\n",
       "      <td>22056.644971</td>\n",
       "      <td>9384.632992</td>\n",
       "    </tr>\n",
       "    <tr>\n",
       "      <th>2019-11-01 02:00:00</th>\n",
       "      <td>6379.102250</td>\n",
       "      <td>23430.336545</td>\n",
       "      <td>4.285714</td>\n",
       "      <td>2067.933828</td>\n",
       "      <td>67.031974</td>\n",
       "      <td>5069.603650</td>\n",
       "      <td>0.0</td>\n",
       "      <td>1.070420</td>\n",
       "      <td>0.0</td>\n",
       "      <td>0.0</td>\n",
       "      <td>...</td>\n",
       "      <td>130.675602</td>\n",
       "      <td>133.035094</td>\n",
       "      <td>134.001994</td>\n",
       "      <td>130.743083</td>\n",
       "      <td>297.930878</td>\n",
       "      <td>21836.766659</td>\n",
       "      <td>22970.057215</td>\n",
       "      <td>22156.774258</td>\n",
       "      <td>22105.218684</td>\n",
       "      <td>9233.277262</td>\n",
       "    </tr>\n",
       "    <tr>\n",
       "      <th>2019-11-01 03:00:00</th>\n",
       "      <td>6337.343084</td>\n",
       "      <td>23384.694743</td>\n",
       "      <td>4.775281</td>\n",
       "      <td>2062.488529</td>\n",
       "      <td>66.808810</td>\n",
       "      <td>5061.608939</td>\n",
       "      <td>0.0</td>\n",
       "      <td>1.044098</td>\n",
       "      <td>0.0</td>\n",
       "      <td>0.0</td>\n",
       "      <td>...</td>\n",
       "      <td>130.613462</td>\n",
       "      <td>133.000552</td>\n",
       "      <td>133.979115</td>\n",
       "      <td>130.760757</td>\n",
       "      <td>298.052583</td>\n",
       "      <td>21783.450505</td>\n",
       "      <td>22920.952018</td>\n",
       "      <td>22088.356950</td>\n",
       "      <td>22064.178402</td>\n",
       "      <td>9223.139014</td>\n",
       "    </tr>\n",
       "    <tr>\n",
       "      <th>2019-11-01 04:00:00</th>\n",
       "      <td>6183.590302</td>\n",
       "      <td>23357.085677</td>\n",
       "      <td>4.388889</td>\n",
       "      <td>2055.162223</td>\n",
       "      <td>66.354369</td>\n",
       "      <td>5004.132636</td>\n",
       "      <td>0.0</td>\n",
       "      <td>1.044098</td>\n",
       "      <td>0.0</td>\n",
       "      <td>0.0</td>\n",
       "      <td>...</td>\n",
       "      <td>130.614549</td>\n",
       "      <td>133.004748</td>\n",
       "      <td>134.000492</td>\n",
       "      <td>130.814450</td>\n",
       "      <td>298.039928</td>\n",
       "      <td>21748.715137</td>\n",
       "      <td>22895.312126</td>\n",
       "      <td>22073.622298</td>\n",
       "      <td>22053.480892</td>\n",
       "      <td>9104.168620</td>\n",
       "    </tr>\n",
       "    <tr>\n",
       "      <th>...</th>\n",
       "      <td>...</td>\n",
       "      <td>...</td>\n",
       "      <td>...</td>\n",
       "      <td>...</td>\n",
       "      <td>...</td>\n",
       "      <td>...</td>\n",
       "      <td>...</td>\n",
       "      <td>...</td>\n",
       "      <td>...</td>\n",
       "      <td>...</td>\n",
       "      <td>...</td>\n",
       "      <td>...</td>\n",
       "      <td>...</td>\n",
       "      <td>...</td>\n",
       "      <td>...</td>\n",
       "      <td>...</td>\n",
       "      <td>...</td>\n",
       "      <td>...</td>\n",
       "      <td>...</td>\n",
       "      <td>...</td>\n",
       "      <td>...</td>\n",
       "    </tr>\n",
       "    <tr>\n",
       "      <th>2019-11-04 23:00:00</th>\n",
       "      <td>5957.402727</td>\n",
       "      <td>22935.365104</td>\n",
       "      <td>5.111111</td>\n",
       "      <td>1994.741311</td>\n",
       "      <td>42.120056</td>\n",
       "      <td>5004.459631</td>\n",
       "      <td>0.0</td>\n",
       "      <td>1.263447</td>\n",
       "      <td>0.0</td>\n",
       "      <td>0.0</td>\n",
       "      <td>...</td>\n",
       "      <td>130.809818</td>\n",
       "      <td>133.029826</td>\n",
       "      <td>133.018234</td>\n",
       "      <td>129.521752</td>\n",
       "      <td>297.787590</td>\n",
       "      <td>21370.636702</td>\n",
       "      <td>22484.879118</td>\n",
       "      <td>21637.554004</td>\n",
       "      <td>21614.658008</td>\n",
       "      <td>10094.243538</td>\n",
       "    </tr>\n",
       "    <tr>\n",
       "      <th>2019-11-05 00:00:00</th>\n",
       "      <td>5985.087500</td>\n",
       "      <td>22962.686491</td>\n",
       "      <td>4.805556</td>\n",
       "      <td>1980.864065</td>\n",
       "      <td>41.014191</td>\n",
       "      <td>5005.375403</td>\n",
       "      <td>0.0</td>\n",
       "      <td>1.070420</td>\n",
       "      <td>0.0</td>\n",
       "      <td>0.0</td>\n",
       "      <td>...</td>\n",
       "      <td>130.800930</td>\n",
       "      <td>132.980925</td>\n",
       "      <td>133.022506</td>\n",
       "      <td>129.434107</td>\n",
       "      <td>298.088860</td>\n",
       "      <td>21379.743620</td>\n",
       "      <td>22508.906283</td>\n",
       "      <td>21639.588053</td>\n",
       "      <td>21655.469206</td>\n",
       "      <td>10087.562663</td>\n",
       "    </tr>\n",
       "    <tr>\n",
       "      <th>2019-11-05 01:00:00</th>\n",
       "      <td>5924.414177</td>\n",
       "      <td>22905.231836</td>\n",
       "      <td>4.861111</td>\n",
       "      <td>1977.311137</td>\n",
       "      <td>41.433934</td>\n",
       "      <td>5004.505420</td>\n",
       "      <td>0.0</td>\n",
       "      <td>0.965133</td>\n",
       "      <td>0.0</td>\n",
       "      <td>0.0</td>\n",
       "      <td>...</td>\n",
       "      <td>130.825938</td>\n",
       "      <td>133.009727</td>\n",
       "      <td>133.001937</td>\n",
       "      <td>129.451987</td>\n",
       "      <td>298.191653</td>\n",
       "      <td>21330.972852</td>\n",
       "      <td>22463.574398</td>\n",
       "      <td>21587.729020</td>\n",
       "      <td>21605.327897</td>\n",
       "      <td>10084.821314</td>\n",
       "    </tr>\n",
       "    <tr>\n",
       "      <th>2019-11-05 02:00:00</th>\n",
       "      <td>5861.537925</td>\n",
       "      <td>22841.778434</td>\n",
       "      <td>4.550562</td>\n",
       "      <td>1981.834495</td>\n",
       "      <td>41.837856</td>\n",
       "      <td>5004.368054</td>\n",
       "      <td>0.0</td>\n",
       "      <td>1.061646</td>\n",
       "      <td>0.0</td>\n",
       "      <td>0.0</td>\n",
       "      <td>...</td>\n",
       "      <td>130.766302</td>\n",
       "      <td>133.020408</td>\n",
       "      <td>133.020485</td>\n",
       "      <td>129.363302</td>\n",
       "      <td>297.934947</td>\n",
       "      <td>21280.836198</td>\n",
       "      <td>22408.031755</td>\n",
       "      <td>21522.625212</td>\n",
       "      <td>21522.529508</td>\n",
       "      <td>10084.865194</td>\n",
       "    </tr>\n",
       "    <tr>\n",
       "      <th>2019-11-05 03:00:00</th>\n",
       "      <td>6106.674174</td>\n",
       "      <td>22943.393392</td>\n",
       "      <td>4.532967</td>\n",
       "      <td>1974.359360</td>\n",
       "      <td>39.006309</td>\n",
       "      <td>5004.871729</td>\n",
       "      <td>0.0</td>\n",
       "      <td>1.044098</td>\n",
       "      <td>0.0</td>\n",
       "      <td>0.0</td>\n",
       "      <td>...</td>\n",
       "      <td>130.820131</td>\n",
       "      <td>132.985666</td>\n",
       "      <td>133.016441</td>\n",
       "      <td>129.363859</td>\n",
       "      <td>298.070136</td>\n",
       "      <td>21370.442057</td>\n",
       "      <td>22495.135498</td>\n",
       "      <td>21616.521875</td>\n",
       "      <td>21625.482210</td>\n",
       "      <td>10093.666286</td>\n",
       "    </tr>\n",
       "  </tbody>\n",
       "</table>\n",
       "<p>100 rows × 56 columns</p>\n",
       "</div>"
      ],
      "text/plain": [
       "                     OXO-5FI635C Augusta  OXO-5FI661A Augusta  \\\n",
       "Date                                                            \n",
       "2019-11-01 00:00:00          5859.125648         23345.857389   \n",
       "2019-11-01 01:00:00          5950.173837         23346.553467   \n",
       "2019-11-01 02:00:00          6379.102250         23430.336545   \n",
       "2019-11-01 03:00:00          6337.343084         23384.694743   \n",
       "2019-11-01 04:00:00          6183.590302         23357.085677   \n",
       "...                                  ...                  ...   \n",
       "2019-11-04 23:00:00          5957.402727         22935.365104   \n",
       "2019-11-05 00:00:00          5985.087500         22962.686491   \n",
       "2019-11-05 01:00:00          5924.414177         22905.231836   \n",
       "2019-11-05 02:00:00          5861.537925         22841.778434   \n",
       "2019-11-05 03:00:00          6106.674174         22943.393392   \n",
       "\n",
       "                     OXO-5FIC132 Augusta  OXO-5FIC600 Augusta  \\\n",
       "Date                                                            \n",
       "2019-11-01 00:00:00             4.450549          2076.174093   \n",
       "2019-11-01 01:00:00             4.410112          2070.199284   \n",
       "2019-11-01 02:00:00             4.285714          2067.933828   \n",
       "2019-11-01 03:00:00             4.775281          2062.488529   \n",
       "2019-11-01 04:00:00             4.388889          2055.162223   \n",
       "...                                  ...                  ...   \n",
       "2019-11-04 23:00:00             5.111111          1994.741311   \n",
       "2019-11-05 00:00:00             4.805556          1980.864065   \n",
       "2019-11-05 01:00:00             4.861111          1977.311137   \n",
       "2019-11-05 02:00:00             4.550562          1981.834495   \n",
       "2019-11-05 03:00:00             4.532967          1974.359360   \n",
       "\n",
       "                     OXO-5FIC601 Augusta  OXO-5FIC602 Augusta  \\\n",
       "Date                                                            \n",
       "2019-11-01 00:00:00            67.208298          5069.174366   \n",
       "2019-11-01 01:00:00            67.204392          5068.014148   \n",
       "2019-11-01 02:00:00            67.031974          5069.603650   \n",
       "2019-11-01 03:00:00            66.808810          5061.608939   \n",
       "2019-11-01 04:00:00            66.354369          5004.132636   \n",
       "...                                  ...                  ...   \n",
       "2019-11-04 23:00:00            42.120056          5004.459631   \n",
       "2019-11-05 00:00:00            41.014191          5005.375403   \n",
       "2019-11-05 01:00:00            41.433934          5004.505420   \n",
       "2019-11-05 02:00:00            41.837856          5004.368054   \n",
       "2019-11-05 03:00:00            39.006309          5004.871729   \n",
       "\n",
       "                     OXO-5FIC603 Augusta  OXO-5FIC606C Augusta  \\\n",
       "Date                                                             \n",
       "2019-11-01 00:00:00                  0.0              1.202029   \n",
       "2019-11-01 01:00:00                  0.0              1.158160   \n",
       "2019-11-01 02:00:00                  0.0              1.070420   \n",
       "2019-11-01 03:00:00                  0.0              1.044098   \n",
       "2019-11-01 04:00:00                  0.0              1.044098   \n",
       "...                                  ...                   ...   \n",
       "2019-11-04 23:00:00                  0.0              1.263447   \n",
       "2019-11-05 00:00:00                  0.0              1.070420   \n",
       "2019-11-05 01:00:00                  0.0              0.965133   \n",
       "2019-11-05 02:00:00                  0.0              1.061646   \n",
       "2019-11-05 03:00:00                  0.0              1.044098   \n",
       "\n",
       "                     OXO-5FIC607 Augusta  OXO-5FIC609A Augusta  ...  \\\n",
       "Date                                                            ...   \n",
       "2019-11-01 00:00:00                  0.0                   0.0  ...   \n",
       "2019-11-01 01:00:00                  0.0                   0.0  ...   \n",
       "2019-11-01 02:00:00                  0.0                   0.0  ...   \n",
       "2019-11-01 03:00:00                  0.0                   0.0  ...   \n",
       "2019-11-01 04:00:00                  0.0                   0.0  ...   \n",
       "...                                  ...                   ...  ...   \n",
       "2019-11-04 23:00:00                  0.0                   0.0  ...   \n",
       "2019-11-05 00:00:00                  0.0                   0.0  ...   \n",
       "2019-11-05 01:00:00                  0.0                   0.0  ...   \n",
       "2019-11-05 02:00:00                  0.0                   0.0  ...   \n",
       "2019-11-05 03:00:00                  0.0                   0.0  ...   \n",
       "\n",
       "                     OXO-5TIC604 Augusta  OXO-5TIC605 Augusta  \\\n",
       "Date                                                            \n",
       "2019-11-01 00:00:00           130.578919           133.007764   \n",
       "2019-11-01 01:00:00           130.640505           132.966600   \n",
       "2019-11-01 02:00:00           130.675602           133.035094   \n",
       "2019-11-01 03:00:00           130.613462           133.000552   \n",
       "2019-11-01 04:00:00           130.614549           133.004748   \n",
       "...                                  ...                  ...   \n",
       "2019-11-04 23:00:00           130.809818           133.029826   \n",
       "2019-11-05 00:00:00           130.800930           132.980925   \n",
       "2019-11-05 01:00:00           130.825938           133.009727   \n",
       "2019-11-05 02:00:00           130.766302           133.020408   \n",
       "2019-11-05 03:00:00           130.820131           132.985666   \n",
       "\n",
       "                     OXO-5TIC606 Augusta  OXO-5TIC607 Augusta  \\\n",
       "Date                                                            \n",
       "2019-11-01 00:00:00           134.032267           130.899539   \n",
       "2019-11-01 01:00:00           134.035076           130.849780   \n",
       "2019-11-01 02:00:00           134.001994           130.743083   \n",
       "2019-11-01 03:00:00           133.979115           130.760757   \n",
       "2019-11-01 04:00:00           134.000492           130.814450   \n",
       "...                                  ...                  ...   \n",
       "2019-11-04 23:00:00           133.018234           129.521752   \n",
       "2019-11-05 00:00:00           133.022506           129.434107   \n",
       "2019-11-05 01:00:00           133.001937           129.451987   \n",
       "2019-11-05 02:00:00           133.020485           129.363302   \n",
       "2019-11-05 03:00:00           133.016441           129.363859   \n",
       "\n",
       "                     OXO-5TIC659 Augusta  OXO-_5FI658A Augusta  \\\n",
       "Date                                                             \n",
       "2019-11-01 00:00:00           298.029910          21719.630615   \n",
       "2019-11-01 01:00:00           298.084330          21727.622575   \n",
       "2019-11-01 02:00:00           297.930878          21836.766659   \n",
       "2019-11-01 03:00:00           298.052583          21783.450505   \n",
       "2019-11-01 04:00:00           298.039928          21748.715137   \n",
       "...                                  ...                   ...   \n",
       "2019-11-04 23:00:00           297.787590          21370.636702   \n",
       "2019-11-05 00:00:00           298.088860          21379.743620   \n",
       "2019-11-05 01:00:00           298.191653          21330.972852   \n",
       "2019-11-05 02:00:00           297.934947          21280.836198   \n",
       "2019-11-05 03:00:00           298.070136          21370.442057   \n",
       "\n",
       "                     OXO-_5FI659A Augusta  OXO-_5FI660A Augusta  \\\n",
       "Date                                                              \n",
       "2019-11-01 00:00:00          22870.976318          22026.824772   \n",
       "2019-11-01 01:00:00          22879.205452          22042.948193   \n",
       "2019-11-01 02:00:00          22970.057215          22156.774258   \n",
       "2019-11-01 03:00:00          22920.952018          22088.356950   \n",
       "2019-11-01 04:00:00          22895.312126          22073.622298   \n",
       "...                                   ...                   ...   \n",
       "2019-11-04 23:00:00          22484.879118          21637.554004   \n",
       "2019-11-05 00:00:00          22508.906283          21639.588053   \n",
       "2019-11-05 01:00:00          22463.574398          21587.729020   \n",
       "2019-11-05 02:00:00          22408.031755          21522.625212   \n",
       "2019-11-05 03:00:00          22495.135498          21616.521875   \n",
       "\n",
       "                     OXO-_5FI662A Augusta  OXO-5FI696 Augusta  \n",
       "Date                                                           \n",
       "2019-11-01 00:00:00          22036.315560         9830.200195  \n",
       "2019-11-01 01:00:00          22056.644971         9384.632992  \n",
       "2019-11-01 02:00:00          22105.218684         9233.277262  \n",
       "2019-11-01 03:00:00          22064.178402         9223.139014  \n",
       "2019-11-01 04:00:00          22053.480892         9104.168620  \n",
       "...                                   ...                 ...  \n",
       "2019-11-04 23:00:00          21614.658008        10094.243538  \n",
       "2019-11-05 00:00:00          21655.469206        10087.562663  \n",
       "2019-11-05 01:00:00          21605.327897        10084.821314  \n",
       "2019-11-05 02:00:00          21522.529508        10084.865194  \n",
       "2019-11-05 03:00:00          21625.482210        10093.666286  \n",
       "\n",
       "[100 rows x 56 columns]"
      ]
     },
     "execution_count": 4,
     "metadata": {},
     "output_type": "execute_result"
    }
   ],
   "source": [
    "final_df"
   ]
  },
  {
   "cell_type": "code",
   "execution_count": null,
   "metadata": {},
   "outputs": [],
   "source": []
  }
 ],
 "metadata": {
  "kernelspec": {
   "display_name": "Python 3",
   "language": "python",
   "name": "python3"
  },
  "language_info": {
   "codemirror_mode": {
    "name": "ipython",
    "version": 3
   },
   "file_extension": ".py",
   "mimetype": "text/x-python",
   "name": "python",
   "nbconvert_exporter": "python",
   "pygments_lexer": "ipython3",
   "version": "3.9.17"
  },
  "orig_nbformat": 4
 },
 "nbformat": 4,
 "nbformat_minor": 2
}
