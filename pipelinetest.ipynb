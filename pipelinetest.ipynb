{
 "cells": [
  {
   "cell_type": "code",
   "execution_count": 1,
   "metadata": {},
   "outputs": [
    {
     "name": "stderr",
     "output_type": "stream",
     "text": [
      "c:\\Users\\krodriguez0109\\AppData\\Local\\anaconda3\\envs\\pytorch\\lib\\site-packages\\numpy\\_distributor_init.py:30: UserWarning: loaded more than 1 DLL from .libs:\n",
      "c:\\Users\\krodriguez0109\\AppData\\Local\\anaconda3\\envs\\pytorch\\lib\\site-packages\\numpy\\.libs\\libopenblas64__v0.3.21-gcc_10_3_0.dll\n",
      "c:\\Users\\krodriguez0109\\AppData\\Local\\anaconda3\\envs\\pytorch\\lib\\site-packages\\numpy\\.libs\\libopenblas64__v0.3.23-246-g3d31191b-gcc_10_3_0.dll\n",
      "  warnings.warn(\"loaded more than 1 DLL from .libs:\"\n"
     ]
    }
   ],
   "source": [
    "from pipeline import DataProcessing"
   ]
  },
  {
   "cell_type": "code",
   "execution_count": 2,
   "metadata": {},
   "outputs": [],
   "source": [
    "dp = DataProcessing('./data/sasol_data_sample.csv','OXO-5FI635C Augusta','OXO-5FI635C Augusta','max')"
   ]
  },
  {
   "cell_type": "code",
   "execution_count": 3,
   "metadata": {},
   "outputs": [
    {
     "name": "stdout",
     "output_type": "stream",
     "text": [
      "Data size: (100, 59)\n",
      "Data type of column OXO-5FI635C Augusta is:  float64\n",
      "Data type of column OXO-5FI661A Augusta is:  float64\n",
      "Data type of column OXO-5FI696 Augusta is:  float64\n",
      "Data type of column OXO-5FIC132 Augusta is:  float64\n",
      "Data type of column OXO-5FIC600 Augusta is:  float64\n",
      "Data type of column OXO-5FIC601 Augusta is:  float64\n",
      "Data type of column OXO-5FIC602 Augusta is:  float64\n",
      "Data type of column OXO-5FIC603 Augusta is:  float64\n",
      "Data type of column OXO-5FIC606A Augusta is:  float64\n",
      "Data type of column OXO-5FIC606C Augusta is:  float64\n",
      "Data type of column OXO-5FIC607 Augusta is:  float64\n",
      "Data type of column OXO-5FIC609A Augusta is:  float64\n",
      "Data type of column OXO-5FIC609B Augusta is:  float64\n",
      "Data type of column OXO-5FIC611A Augusta is:  float64\n",
      "Data type of column OXO-5FIC611B Augusta is:  float64\n",
      "Data type of column OXO-5FIC612A Augusta is:  float64\n",
      "Data type of column OXO-5FIC612B Augusta is:  float64\n",
      "Data type of column OXO-5FIC618A Augusta is:  float64\n",
      "Data type of column OXO-5FIC618B Augusta is:  float64\n",
      "Data type of column OXO-5FIC618C Augusta is:  float64\n",
      "Data type of column OXO-5FIC618D Augusta is:  float64\n",
      "Data type of column OXO-5FIC622A Augusta is:  float64\n",
      "Data type of column OXO-5FIC622B Augusta is:  float64\n",
      "Data type of column OXO-5FIC622C Augusta is:  float64\n",
      "Data type of column OXO-5FIC636A Augusta is:  float64\n",
      "Data type of column OXO-5FIC636B Augusta is:  float64\n",
      "Data type of column OXO-5FIC636C Augusta is:  float64\n",
      "Data type of column OXO-5FQI691B Augusta is:  float64\n",
      "Data type of column OXO-5LI633B Augusta is:  float64\n",
      "Data type of column OXO-5LI650F Augusta is:  float64\n",
      "Data type of column OXO-5LI651E Augusta is:  float64\n",
      "Data type of column OXO-5LI651F Augusta is:  float64\n",
      "Data type of column OXO-5LI652E Augusta is:  float64\n",
      "Data type of column OXO-5LI652F Augusta is:  float64\n",
      "Data type of column OXO-5LI653E Augusta is:  float64\n",
      "Data type of column OXO-5LI653F Augusta is:  float64\n",
      "Data type of column OXO-5LI654E Augusta is:  float64\n",
      "Data type of column OXO-5LI654F Augusta is:  float64\n",
      "Data type of column OXO-5LI655F Augusta is:  float64\n",
      "Data type of column OXO-5LI656F Augusta is:  float64\n",
      "Data type of column OXO-5LI657E Augusta is:  float64\n",
      "Data type of column OXO-5LI657F Augusta is:  float64\n",
      "Data type of column OXO-5LI658E Augusta is:  float64\n",
      "Data type of column OXO-5LI658F Augusta is:  float64\n",
      "Data type of column OXO-5PIC605A Augusta is:  float64\n",
      "Data type of column OXO-5RIC606_Y Augusta is:  float64\n",
      "Data type of column OXO-5TIC002 Augusta is:  float64\n",
      "Data type of column OXO-5TIC601 Augusta is:  float64\n",
      "Data type of column OXO-5TIC602 Augusta is:  float64\n",
      "Data type of column OXO-5TIC603 Augusta is:  float64\n",
      "Data type of column OXO-5TIC604 Augusta is:  float64\n",
      "Data type of column OXO-5TIC605 Augusta is:  float64\n",
      "Data type of column OXO-5TIC606 Augusta is:  float64\n",
      "Data type of column OXO-5TIC607 Augusta is:  float64\n",
      "Data type of column OXO-5TIC659 Augusta is:  float64\n",
      "Data type of column OXO-_5FI658A Augusta is:  float64\n",
      "Data type of column OXO-_5FI659A Augusta is:  float64\n",
      "Data type of column OXO-_5FI660A Augusta is:  float64\n",
      "Data type of column OXO-_5FI662A Augusta is:  float64\n",
      "Data types summary:\n",
      " float64    59\n",
      "Name: count, dtype: int64\n",
      "Missing data summary:\n",
      "OXO-5FIC606A Augusta    100\n",
      "OXO-5FIC611B Augusta    100\n",
      "OXO-5LI654F Augusta     100\n",
      "dtype: int64\n"
     ]
    },
    {
     "data": {
      "application/vnd.plotly.v1+json": {
       "config": {
        "plotlyServerURL": "https://plot.ly"
       },
       "data": [
        {
         "type": "bar",
         "x": [
          "OXO-5FI635C Augusta",
          "OXO-5FI661A Augusta",
          "OXO-5FI696 Augusta",
          "OXO-5FIC132 Augusta",
          "OXO-5FIC600 Augusta",
          "OXO-5FIC601 Augusta",
          "OXO-5FIC602 Augusta",
          "OXO-5FIC603 Augusta",
          "OXO-5FIC606A Augusta",
          "OXO-5FIC606C Augusta",
          "OXO-5FIC607 Augusta",
          "OXO-5FIC609A Augusta",
          "OXO-5FIC609B Augusta",
          "OXO-5FIC611A Augusta",
          "OXO-5FIC611B Augusta",
          "OXO-5FIC612A Augusta",
          "OXO-5FIC612B Augusta",
          "OXO-5FIC618A Augusta",
          "OXO-5FIC618B Augusta",
          "OXO-5FIC618C Augusta",
          "OXO-5FIC618D Augusta",
          "OXO-5FIC622A Augusta",
          "OXO-5FIC622B Augusta",
          "OXO-5FIC622C Augusta",
          "OXO-5FIC636A Augusta",
          "OXO-5FIC636B Augusta",
          "OXO-5FIC636C Augusta",
          "OXO-5FQI691B Augusta",
          "OXO-5LI633B Augusta",
          "OXO-5LI650F Augusta",
          "OXO-5LI651E Augusta",
          "OXO-5LI651F Augusta",
          "OXO-5LI652E Augusta",
          "OXO-5LI652F Augusta",
          "OXO-5LI653E Augusta",
          "OXO-5LI653F Augusta",
          "OXO-5LI654E Augusta",
          "OXO-5LI654F Augusta",
          "OXO-5LI655F Augusta",
          "OXO-5LI656F Augusta"
         ],
         "y": [
          0,
          0,
          0,
          0,
          0,
          0,
          0,
          0,
          100,
          0,
          0,
          0,
          0,
          0,
          100,
          0,
          0,
          0,
          0,
          0,
          0,
          0,
          0,
          0,
          0,
          0,
          0,
          0,
          0,
          0,
          0,
          0,
          0,
          0,
          0,
          0,
          0,
          100,
          0,
          0
         ]
        }
       ],
       "layout": {
        "template": {
         "data": {
          "bar": [
           {
            "error_x": {
             "color": "#2a3f5f"
            },
            "error_y": {
             "color": "#2a3f5f"
            },
            "marker": {
             "line": {
              "color": "#E5ECF6",
              "width": 0.5
             },
             "pattern": {
              "fillmode": "overlay",
              "size": 10,
              "solidity": 0.2
             }
            },
            "type": "bar"
           }
          ],
          "barpolar": [
           {
            "marker": {
             "line": {
              "color": "#E5ECF6",
              "width": 0.5
             },
             "pattern": {
              "fillmode": "overlay",
              "size": 10,
              "solidity": 0.2
             }
            },
            "type": "barpolar"
           }
          ],
          "carpet": [
           {
            "aaxis": {
             "endlinecolor": "#2a3f5f",
             "gridcolor": "white",
             "linecolor": "white",
             "minorgridcolor": "white",
             "startlinecolor": "#2a3f5f"
            },
            "baxis": {
             "endlinecolor": "#2a3f5f",
             "gridcolor": "white",
             "linecolor": "white",
             "minorgridcolor": "white",
             "startlinecolor": "#2a3f5f"
            },
            "type": "carpet"
           }
          ],
          "choropleth": [
           {
            "colorbar": {
             "outlinewidth": 0,
             "ticks": ""
            },
            "type": "choropleth"
           }
          ],
          "contour": [
           {
            "colorbar": {
             "outlinewidth": 0,
             "ticks": ""
            },
            "colorscale": [
             [
              0,
              "#0d0887"
             ],
             [
              0.1111111111111111,
              "#46039f"
             ],
             [
              0.2222222222222222,
              "#7201a8"
             ],
             [
              0.3333333333333333,
              "#9c179e"
             ],
             [
              0.4444444444444444,
              "#bd3786"
             ],
             [
              0.5555555555555556,
              "#d8576b"
             ],
             [
              0.6666666666666666,
              "#ed7953"
             ],
             [
              0.7777777777777778,
              "#fb9f3a"
             ],
             [
              0.8888888888888888,
              "#fdca26"
             ],
             [
              1,
              "#f0f921"
             ]
            ],
            "type": "contour"
           }
          ],
          "contourcarpet": [
           {
            "colorbar": {
             "outlinewidth": 0,
             "ticks": ""
            },
            "type": "contourcarpet"
           }
          ],
          "heatmap": [
           {
            "colorbar": {
             "outlinewidth": 0,
             "ticks": ""
            },
            "colorscale": [
             [
              0,
              "#0d0887"
             ],
             [
              0.1111111111111111,
              "#46039f"
             ],
             [
              0.2222222222222222,
              "#7201a8"
             ],
             [
              0.3333333333333333,
              "#9c179e"
             ],
             [
              0.4444444444444444,
              "#bd3786"
             ],
             [
              0.5555555555555556,
              "#d8576b"
             ],
             [
              0.6666666666666666,
              "#ed7953"
             ],
             [
              0.7777777777777778,
              "#fb9f3a"
             ],
             [
              0.8888888888888888,
              "#fdca26"
             ],
             [
              1,
              "#f0f921"
             ]
            ],
            "type": "heatmap"
           }
          ],
          "heatmapgl": [
           {
            "colorbar": {
             "outlinewidth": 0,
             "ticks": ""
            },
            "colorscale": [
             [
              0,
              "#0d0887"
             ],
             [
              0.1111111111111111,
              "#46039f"
             ],
             [
              0.2222222222222222,
              "#7201a8"
             ],
             [
              0.3333333333333333,
              "#9c179e"
             ],
             [
              0.4444444444444444,
              "#bd3786"
             ],
             [
              0.5555555555555556,
              "#d8576b"
             ],
             [
              0.6666666666666666,
              "#ed7953"
             ],
             [
              0.7777777777777778,
              "#fb9f3a"
             ],
             [
              0.8888888888888888,
              "#fdca26"
             ],
             [
              1,
              "#f0f921"
             ]
            ],
            "type": "heatmapgl"
           }
          ],
          "histogram": [
           {
            "marker": {
             "pattern": {
              "fillmode": "overlay",
              "size": 10,
              "solidity": 0.2
             }
            },
            "type": "histogram"
           }
          ],
          "histogram2d": [
           {
            "colorbar": {
             "outlinewidth": 0,
             "ticks": ""
            },
            "colorscale": [
             [
              0,
              "#0d0887"
             ],
             [
              0.1111111111111111,
              "#46039f"
             ],
             [
              0.2222222222222222,
              "#7201a8"
             ],
             [
              0.3333333333333333,
              "#9c179e"
             ],
             [
              0.4444444444444444,
              "#bd3786"
             ],
             [
              0.5555555555555556,
              "#d8576b"
             ],
             [
              0.6666666666666666,
              "#ed7953"
             ],
             [
              0.7777777777777778,
              "#fb9f3a"
             ],
             [
              0.8888888888888888,
              "#fdca26"
             ],
             [
              1,
              "#f0f921"
             ]
            ],
            "type": "histogram2d"
           }
          ],
          "histogram2dcontour": [
           {
            "colorbar": {
             "outlinewidth": 0,
             "ticks": ""
            },
            "colorscale": [
             [
              0,
              "#0d0887"
             ],
             [
              0.1111111111111111,
              "#46039f"
             ],
             [
              0.2222222222222222,
              "#7201a8"
             ],
             [
              0.3333333333333333,
              "#9c179e"
             ],
             [
              0.4444444444444444,
              "#bd3786"
             ],
             [
              0.5555555555555556,
              "#d8576b"
             ],
             [
              0.6666666666666666,
              "#ed7953"
             ],
             [
              0.7777777777777778,
              "#fb9f3a"
             ],
             [
              0.8888888888888888,
              "#fdca26"
             ],
             [
              1,
              "#f0f921"
             ]
            ],
            "type": "histogram2dcontour"
           }
          ],
          "mesh3d": [
           {
            "colorbar": {
             "outlinewidth": 0,
             "ticks": ""
            },
            "type": "mesh3d"
           }
          ],
          "parcoords": [
           {
            "line": {
             "colorbar": {
              "outlinewidth": 0,
              "ticks": ""
             }
            },
            "type": "parcoords"
           }
          ],
          "pie": [
           {
            "automargin": true,
            "type": "pie"
           }
          ],
          "scatter": [
           {
            "fillpattern": {
             "fillmode": "overlay",
             "size": 10,
             "solidity": 0.2
            },
            "type": "scatter"
           }
          ],
          "scatter3d": [
           {
            "line": {
             "colorbar": {
              "outlinewidth": 0,
              "ticks": ""
             }
            },
            "marker": {
             "colorbar": {
              "outlinewidth": 0,
              "ticks": ""
             }
            },
            "type": "scatter3d"
           }
          ],
          "scattercarpet": [
           {
            "marker": {
             "colorbar": {
              "outlinewidth": 0,
              "ticks": ""
             }
            },
            "type": "scattercarpet"
           }
          ],
          "scattergeo": [
           {
            "marker": {
             "colorbar": {
              "outlinewidth": 0,
              "ticks": ""
             }
            },
            "type": "scattergeo"
           }
          ],
          "scattergl": [
           {
            "marker": {
             "colorbar": {
              "outlinewidth": 0,
              "ticks": ""
             }
            },
            "type": "scattergl"
           }
          ],
          "scattermapbox": [
           {
            "marker": {
             "colorbar": {
              "outlinewidth": 0,
              "ticks": ""
             }
            },
            "type": "scattermapbox"
           }
          ],
          "scatterpolar": [
           {
            "marker": {
             "colorbar": {
              "outlinewidth": 0,
              "ticks": ""
             }
            },
            "type": "scatterpolar"
           }
          ],
          "scatterpolargl": [
           {
            "marker": {
             "colorbar": {
              "outlinewidth": 0,
              "ticks": ""
             }
            },
            "type": "scatterpolargl"
           }
          ],
          "scatterternary": [
           {
            "marker": {
             "colorbar": {
              "outlinewidth": 0,
              "ticks": ""
             }
            },
            "type": "scatterternary"
           }
          ],
          "surface": [
           {
            "colorbar": {
             "outlinewidth": 0,
             "ticks": ""
            },
            "colorscale": [
             [
              0,
              "#0d0887"
             ],
             [
              0.1111111111111111,
              "#46039f"
             ],
             [
              0.2222222222222222,
              "#7201a8"
             ],
             [
              0.3333333333333333,
              "#9c179e"
             ],
             [
              0.4444444444444444,
              "#bd3786"
             ],
             [
              0.5555555555555556,
              "#d8576b"
             ],
             [
              0.6666666666666666,
              "#ed7953"
             ],
             [
              0.7777777777777778,
              "#fb9f3a"
             ],
             [
              0.8888888888888888,
              "#fdca26"
             ],
             [
              1,
              "#f0f921"
             ]
            ],
            "type": "surface"
           }
          ],
          "table": [
           {
            "cells": {
             "fill": {
              "color": "#EBF0F8"
             },
             "line": {
              "color": "white"
             }
            },
            "header": {
             "fill": {
              "color": "#C8D4E3"
             },
             "line": {
              "color": "white"
             }
            },
            "type": "table"
           }
          ]
         },
         "layout": {
          "annotationdefaults": {
           "arrowcolor": "#2a3f5f",
           "arrowhead": 0,
           "arrowwidth": 1
          },
          "autotypenumbers": "strict",
          "coloraxis": {
           "colorbar": {
            "outlinewidth": 0,
            "ticks": ""
           }
          },
          "colorscale": {
           "diverging": [
            [
             0,
             "#8e0152"
            ],
            [
             0.1,
             "#c51b7d"
            ],
            [
             0.2,
             "#de77ae"
            ],
            [
             0.3,
             "#f1b6da"
            ],
            [
             0.4,
             "#fde0ef"
            ],
            [
             0.5,
             "#f7f7f7"
            ],
            [
             0.6,
             "#e6f5d0"
            ],
            [
             0.7,
             "#b8e186"
            ],
            [
             0.8,
             "#7fbc41"
            ],
            [
             0.9,
             "#4d9221"
            ],
            [
             1,
             "#276419"
            ]
           ],
           "sequential": [
            [
             0,
             "#0d0887"
            ],
            [
             0.1111111111111111,
             "#46039f"
            ],
            [
             0.2222222222222222,
             "#7201a8"
            ],
            [
             0.3333333333333333,
             "#9c179e"
            ],
            [
             0.4444444444444444,
             "#bd3786"
            ],
            [
             0.5555555555555556,
             "#d8576b"
            ],
            [
             0.6666666666666666,
             "#ed7953"
            ],
            [
             0.7777777777777778,
             "#fb9f3a"
            ],
            [
             0.8888888888888888,
             "#fdca26"
            ],
            [
             1,
             "#f0f921"
            ]
           ],
           "sequentialminus": [
            [
             0,
             "#0d0887"
            ],
            [
             0.1111111111111111,
             "#46039f"
            ],
            [
             0.2222222222222222,
             "#7201a8"
            ],
            [
             0.3333333333333333,
             "#9c179e"
            ],
            [
             0.4444444444444444,
             "#bd3786"
            ],
            [
             0.5555555555555556,
             "#d8576b"
            ],
            [
             0.6666666666666666,
             "#ed7953"
            ],
            [
             0.7777777777777778,
             "#fb9f3a"
            ],
            [
             0.8888888888888888,
             "#fdca26"
            ],
            [
             1,
             "#f0f921"
            ]
           ]
          },
          "colorway": [
           "#636efa",
           "#EF553B",
           "#00cc96",
           "#ab63fa",
           "#FFA15A",
           "#19d3f3",
           "#FF6692",
           "#B6E880",
           "#FF97FF",
           "#FECB52"
          ],
          "font": {
           "color": "#2a3f5f"
          },
          "geo": {
           "bgcolor": "white",
           "lakecolor": "white",
           "landcolor": "#E5ECF6",
           "showlakes": true,
           "showland": true,
           "subunitcolor": "white"
          },
          "hoverlabel": {
           "align": "left"
          },
          "hovermode": "closest",
          "mapbox": {
           "style": "light"
          },
          "paper_bgcolor": "white",
          "plot_bgcolor": "#E5ECF6",
          "polar": {
           "angularaxis": {
            "gridcolor": "white",
            "linecolor": "white",
            "ticks": ""
           },
           "bgcolor": "#E5ECF6",
           "radialaxis": {
            "gridcolor": "white",
            "linecolor": "white",
            "ticks": ""
           }
          },
          "scene": {
           "xaxis": {
            "backgroundcolor": "#E5ECF6",
            "gridcolor": "white",
            "gridwidth": 2,
            "linecolor": "white",
            "showbackground": true,
            "ticks": "",
            "zerolinecolor": "white"
           },
           "yaxis": {
            "backgroundcolor": "#E5ECF6",
            "gridcolor": "white",
            "gridwidth": 2,
            "linecolor": "white",
            "showbackground": true,
            "ticks": "",
            "zerolinecolor": "white"
           },
           "zaxis": {
            "backgroundcolor": "#E5ECF6",
            "gridcolor": "white",
            "gridwidth": 2,
            "linecolor": "white",
            "showbackground": true,
            "ticks": "",
            "zerolinecolor": "white"
           }
          },
          "shapedefaults": {
           "line": {
            "color": "#2a3f5f"
           }
          },
          "ternary": {
           "aaxis": {
            "gridcolor": "white",
            "linecolor": "white",
            "ticks": ""
           },
           "baxis": {
            "gridcolor": "white",
            "linecolor": "white",
            "ticks": ""
           },
           "bgcolor": "#E5ECF6",
           "caxis": {
            "gridcolor": "white",
            "linecolor": "white",
            "ticks": ""
           }
          },
          "title": {
           "x": 0.05
          },
          "xaxis": {
           "automargin": true,
           "gridcolor": "white",
           "linecolor": "white",
           "ticks": "",
           "title": {
            "standoff": 15
           },
           "zerolinecolor": "white",
           "zerolinewidth": 2
          },
          "yaxis": {
           "automargin": true,
           "gridcolor": "white",
           "linecolor": "white",
           "ticks": "",
           "title": {
            "standoff": 15
           },
           "zerolinecolor": "white",
           "zerolinewidth": 2
          }
         }
        },
        "title": {
         "text": "Missing Data"
        },
        "xaxis": {
         "title": {
          "text": "Columns"
         }
        },
        "yaxis": {
         "rangemode": "tozero",
         "title": {
          "text": "Missing Count"
         }
        }
       }
      }
     },
     "metadata": {},
     "output_type": "display_data"
    },
    {
     "data": {
      "application/vnd.plotly.v1+json": {
       "config": {
        "plotlyServerURL": "https://plot.ly"
       },
       "data": [
        {
         "type": "bar",
         "x": [
          "OXO-5LI657E Augusta",
          "OXO-5LI657F Augusta",
          "OXO-5LI658E Augusta",
          "OXO-5LI658F Augusta",
          "OXO-5PIC605A Augusta",
          "OXO-5RIC606_Y Augusta",
          "OXO-5TIC002 Augusta",
          "OXO-5TIC601 Augusta",
          "OXO-5TIC602 Augusta",
          "OXO-5TIC603 Augusta",
          "OXO-5TIC604 Augusta",
          "OXO-5TIC605 Augusta",
          "OXO-5TIC606 Augusta",
          "OXO-5TIC607 Augusta",
          "OXO-5TIC659 Augusta",
          "OXO-_5FI658A Augusta",
          "OXO-_5FI659A Augusta",
          "OXO-_5FI660A Augusta",
          "OXO-_5FI662A Augusta"
         ],
         "y": [
          0,
          0,
          0,
          0,
          0,
          0,
          0,
          0,
          0,
          0,
          0,
          0,
          0,
          0,
          0,
          0,
          0,
          0,
          0
         ]
        }
       ],
       "layout": {
        "template": {
         "data": {
          "bar": [
           {
            "error_x": {
             "color": "#2a3f5f"
            },
            "error_y": {
             "color": "#2a3f5f"
            },
            "marker": {
             "line": {
              "color": "#E5ECF6",
              "width": 0.5
             },
             "pattern": {
              "fillmode": "overlay",
              "size": 10,
              "solidity": 0.2
             }
            },
            "type": "bar"
           }
          ],
          "barpolar": [
           {
            "marker": {
             "line": {
              "color": "#E5ECF6",
              "width": 0.5
             },
             "pattern": {
              "fillmode": "overlay",
              "size": 10,
              "solidity": 0.2
             }
            },
            "type": "barpolar"
           }
          ],
          "carpet": [
           {
            "aaxis": {
             "endlinecolor": "#2a3f5f",
             "gridcolor": "white",
             "linecolor": "white",
             "minorgridcolor": "white",
             "startlinecolor": "#2a3f5f"
            },
            "baxis": {
             "endlinecolor": "#2a3f5f",
             "gridcolor": "white",
             "linecolor": "white",
             "minorgridcolor": "white",
             "startlinecolor": "#2a3f5f"
            },
            "type": "carpet"
           }
          ],
          "choropleth": [
           {
            "colorbar": {
             "outlinewidth": 0,
             "ticks": ""
            },
            "type": "choropleth"
           }
          ],
          "contour": [
           {
            "colorbar": {
             "outlinewidth": 0,
             "ticks": ""
            },
            "colorscale": [
             [
              0,
              "#0d0887"
             ],
             [
              0.1111111111111111,
              "#46039f"
             ],
             [
              0.2222222222222222,
              "#7201a8"
             ],
             [
              0.3333333333333333,
              "#9c179e"
             ],
             [
              0.4444444444444444,
              "#bd3786"
             ],
             [
              0.5555555555555556,
              "#d8576b"
             ],
             [
              0.6666666666666666,
              "#ed7953"
             ],
             [
              0.7777777777777778,
              "#fb9f3a"
             ],
             [
              0.8888888888888888,
              "#fdca26"
             ],
             [
              1,
              "#f0f921"
             ]
            ],
            "type": "contour"
           }
          ],
          "contourcarpet": [
           {
            "colorbar": {
             "outlinewidth": 0,
             "ticks": ""
            },
            "type": "contourcarpet"
           }
          ],
          "heatmap": [
           {
            "colorbar": {
             "outlinewidth": 0,
             "ticks": ""
            },
            "colorscale": [
             [
              0,
              "#0d0887"
             ],
             [
              0.1111111111111111,
              "#46039f"
             ],
             [
              0.2222222222222222,
              "#7201a8"
             ],
             [
              0.3333333333333333,
              "#9c179e"
             ],
             [
              0.4444444444444444,
              "#bd3786"
             ],
             [
              0.5555555555555556,
              "#d8576b"
             ],
             [
              0.6666666666666666,
              "#ed7953"
             ],
             [
              0.7777777777777778,
              "#fb9f3a"
             ],
             [
              0.8888888888888888,
              "#fdca26"
             ],
             [
              1,
              "#f0f921"
             ]
            ],
            "type": "heatmap"
           }
          ],
          "heatmapgl": [
           {
            "colorbar": {
             "outlinewidth": 0,
             "ticks": ""
            },
            "colorscale": [
             [
              0,
              "#0d0887"
             ],
             [
              0.1111111111111111,
              "#46039f"
             ],
             [
              0.2222222222222222,
              "#7201a8"
             ],
             [
              0.3333333333333333,
              "#9c179e"
             ],
             [
              0.4444444444444444,
              "#bd3786"
             ],
             [
              0.5555555555555556,
              "#d8576b"
             ],
             [
              0.6666666666666666,
              "#ed7953"
             ],
             [
              0.7777777777777778,
              "#fb9f3a"
             ],
             [
              0.8888888888888888,
              "#fdca26"
             ],
             [
              1,
              "#f0f921"
             ]
            ],
            "type": "heatmapgl"
           }
          ],
          "histogram": [
           {
            "marker": {
             "pattern": {
              "fillmode": "overlay",
              "size": 10,
              "solidity": 0.2
             }
            },
            "type": "histogram"
           }
          ],
          "histogram2d": [
           {
            "colorbar": {
             "outlinewidth": 0,
             "ticks": ""
            },
            "colorscale": [
             [
              0,
              "#0d0887"
             ],
             [
              0.1111111111111111,
              "#46039f"
             ],
             [
              0.2222222222222222,
              "#7201a8"
             ],
             [
              0.3333333333333333,
              "#9c179e"
             ],
             [
              0.4444444444444444,
              "#bd3786"
             ],
             [
              0.5555555555555556,
              "#d8576b"
             ],
             [
              0.6666666666666666,
              "#ed7953"
             ],
             [
              0.7777777777777778,
              "#fb9f3a"
             ],
             [
              0.8888888888888888,
              "#fdca26"
             ],
             [
              1,
              "#f0f921"
             ]
            ],
            "type": "histogram2d"
           }
          ],
          "histogram2dcontour": [
           {
            "colorbar": {
             "outlinewidth": 0,
             "ticks": ""
            },
            "colorscale": [
             [
              0,
              "#0d0887"
             ],
             [
              0.1111111111111111,
              "#46039f"
             ],
             [
              0.2222222222222222,
              "#7201a8"
             ],
             [
              0.3333333333333333,
              "#9c179e"
             ],
             [
              0.4444444444444444,
              "#bd3786"
             ],
             [
              0.5555555555555556,
              "#d8576b"
             ],
             [
              0.6666666666666666,
              "#ed7953"
             ],
             [
              0.7777777777777778,
              "#fb9f3a"
             ],
             [
              0.8888888888888888,
              "#fdca26"
             ],
             [
              1,
              "#f0f921"
             ]
            ],
            "type": "histogram2dcontour"
           }
          ],
          "mesh3d": [
           {
            "colorbar": {
             "outlinewidth": 0,
             "ticks": ""
            },
            "type": "mesh3d"
           }
          ],
          "parcoords": [
           {
            "line": {
             "colorbar": {
              "outlinewidth": 0,
              "ticks": ""
             }
            },
            "type": "parcoords"
           }
          ],
          "pie": [
           {
            "automargin": true,
            "type": "pie"
           }
          ],
          "scatter": [
           {
            "fillpattern": {
             "fillmode": "overlay",
             "size": 10,
             "solidity": 0.2
            },
            "type": "scatter"
           }
          ],
          "scatter3d": [
           {
            "line": {
             "colorbar": {
              "outlinewidth": 0,
              "ticks": ""
             }
            },
            "marker": {
             "colorbar": {
              "outlinewidth": 0,
              "ticks": ""
             }
            },
            "type": "scatter3d"
           }
          ],
          "scattercarpet": [
           {
            "marker": {
             "colorbar": {
              "outlinewidth": 0,
              "ticks": ""
             }
            },
            "type": "scattercarpet"
           }
          ],
          "scattergeo": [
           {
            "marker": {
             "colorbar": {
              "outlinewidth": 0,
              "ticks": ""
             }
            },
            "type": "scattergeo"
           }
          ],
          "scattergl": [
           {
            "marker": {
             "colorbar": {
              "outlinewidth": 0,
              "ticks": ""
             }
            },
            "type": "scattergl"
           }
          ],
          "scattermapbox": [
           {
            "marker": {
             "colorbar": {
              "outlinewidth": 0,
              "ticks": ""
             }
            },
            "type": "scattermapbox"
           }
          ],
          "scatterpolar": [
           {
            "marker": {
             "colorbar": {
              "outlinewidth": 0,
              "ticks": ""
             }
            },
            "type": "scatterpolar"
           }
          ],
          "scatterpolargl": [
           {
            "marker": {
             "colorbar": {
              "outlinewidth": 0,
              "ticks": ""
             }
            },
            "type": "scatterpolargl"
           }
          ],
          "scatterternary": [
           {
            "marker": {
             "colorbar": {
              "outlinewidth": 0,
              "ticks": ""
             }
            },
            "type": "scatterternary"
           }
          ],
          "surface": [
           {
            "colorbar": {
             "outlinewidth": 0,
             "ticks": ""
            },
            "colorscale": [
             [
              0,
              "#0d0887"
             ],
             [
              0.1111111111111111,
              "#46039f"
             ],
             [
              0.2222222222222222,
              "#7201a8"
             ],
             [
              0.3333333333333333,
              "#9c179e"
             ],
             [
              0.4444444444444444,
              "#bd3786"
             ],
             [
              0.5555555555555556,
              "#d8576b"
             ],
             [
              0.6666666666666666,
              "#ed7953"
             ],
             [
              0.7777777777777778,
              "#fb9f3a"
             ],
             [
              0.8888888888888888,
              "#fdca26"
             ],
             [
              1,
              "#f0f921"
             ]
            ],
            "type": "surface"
           }
          ],
          "table": [
           {
            "cells": {
             "fill": {
              "color": "#EBF0F8"
             },
             "line": {
              "color": "white"
             }
            },
            "header": {
             "fill": {
              "color": "#C8D4E3"
             },
             "line": {
              "color": "white"
             }
            },
            "type": "table"
           }
          ]
         },
         "layout": {
          "annotationdefaults": {
           "arrowcolor": "#2a3f5f",
           "arrowhead": 0,
           "arrowwidth": 1
          },
          "autotypenumbers": "strict",
          "coloraxis": {
           "colorbar": {
            "outlinewidth": 0,
            "ticks": ""
           }
          },
          "colorscale": {
           "diverging": [
            [
             0,
             "#8e0152"
            ],
            [
             0.1,
             "#c51b7d"
            ],
            [
             0.2,
             "#de77ae"
            ],
            [
             0.3,
             "#f1b6da"
            ],
            [
             0.4,
             "#fde0ef"
            ],
            [
             0.5,
             "#f7f7f7"
            ],
            [
             0.6,
             "#e6f5d0"
            ],
            [
             0.7,
             "#b8e186"
            ],
            [
             0.8,
             "#7fbc41"
            ],
            [
             0.9,
             "#4d9221"
            ],
            [
             1,
             "#276419"
            ]
           ],
           "sequential": [
            [
             0,
             "#0d0887"
            ],
            [
             0.1111111111111111,
             "#46039f"
            ],
            [
             0.2222222222222222,
             "#7201a8"
            ],
            [
             0.3333333333333333,
             "#9c179e"
            ],
            [
             0.4444444444444444,
             "#bd3786"
            ],
            [
             0.5555555555555556,
             "#d8576b"
            ],
            [
             0.6666666666666666,
             "#ed7953"
            ],
            [
             0.7777777777777778,
             "#fb9f3a"
            ],
            [
             0.8888888888888888,
             "#fdca26"
            ],
            [
             1,
             "#f0f921"
            ]
           ],
           "sequentialminus": [
            [
             0,
             "#0d0887"
            ],
            [
             0.1111111111111111,
             "#46039f"
            ],
            [
             0.2222222222222222,
             "#7201a8"
            ],
            [
             0.3333333333333333,
             "#9c179e"
            ],
            [
             0.4444444444444444,
             "#bd3786"
            ],
            [
             0.5555555555555556,
             "#d8576b"
            ],
            [
             0.6666666666666666,
             "#ed7953"
            ],
            [
             0.7777777777777778,
             "#fb9f3a"
            ],
            [
             0.8888888888888888,
             "#fdca26"
            ],
            [
             1,
             "#f0f921"
            ]
           ]
          },
          "colorway": [
           "#636efa",
           "#EF553B",
           "#00cc96",
           "#ab63fa",
           "#FFA15A",
           "#19d3f3",
           "#FF6692",
           "#B6E880",
           "#FF97FF",
           "#FECB52"
          ],
          "font": {
           "color": "#2a3f5f"
          },
          "geo": {
           "bgcolor": "white",
           "lakecolor": "white",
           "landcolor": "#E5ECF6",
           "showlakes": true,
           "showland": true,
           "subunitcolor": "white"
          },
          "hoverlabel": {
           "align": "left"
          },
          "hovermode": "closest",
          "mapbox": {
           "style": "light"
          },
          "paper_bgcolor": "white",
          "plot_bgcolor": "#E5ECF6",
          "polar": {
           "angularaxis": {
            "gridcolor": "white",
            "linecolor": "white",
            "ticks": ""
           },
           "bgcolor": "#E5ECF6",
           "radialaxis": {
            "gridcolor": "white",
            "linecolor": "white",
            "ticks": ""
           }
          },
          "scene": {
           "xaxis": {
            "backgroundcolor": "#E5ECF6",
            "gridcolor": "white",
            "gridwidth": 2,
            "linecolor": "white",
            "showbackground": true,
            "ticks": "",
            "zerolinecolor": "white"
           },
           "yaxis": {
            "backgroundcolor": "#E5ECF6",
            "gridcolor": "white",
            "gridwidth": 2,
            "linecolor": "white",
            "showbackground": true,
            "ticks": "",
            "zerolinecolor": "white"
           },
           "zaxis": {
            "backgroundcolor": "#E5ECF6",
            "gridcolor": "white",
            "gridwidth": 2,
            "linecolor": "white",
            "showbackground": true,
            "ticks": "",
            "zerolinecolor": "white"
           }
          },
          "shapedefaults": {
           "line": {
            "color": "#2a3f5f"
           }
          },
          "ternary": {
           "aaxis": {
            "gridcolor": "white",
            "linecolor": "white",
            "ticks": ""
           },
           "baxis": {
            "gridcolor": "white",
            "linecolor": "white",
            "ticks": ""
           },
           "bgcolor": "#E5ECF6",
           "caxis": {
            "gridcolor": "white",
            "linecolor": "white",
            "ticks": ""
           }
          },
          "title": {
           "x": 0.05
          },
          "xaxis": {
           "automargin": true,
           "gridcolor": "white",
           "linecolor": "white",
           "ticks": "",
           "title": {
            "standoff": 15
           },
           "zerolinecolor": "white",
           "zerolinewidth": 2
          },
          "yaxis": {
           "automargin": true,
           "gridcolor": "white",
           "linecolor": "white",
           "ticks": "",
           "title": {
            "standoff": 15
           },
           "zerolinecolor": "white",
           "zerolinewidth": 2
          }
         }
        },
        "title": {
         "text": "Missing Data"
        },
        "xaxis": {
         "title": {
          "text": "Columns"
         }
        },
        "yaxis": {
         "rangemode": "tozero",
         "title": {
          "text": "Missing Count"
         }
        }
       }
      }
     },
     "metadata": {},
     "output_type": "display_data"
    },
    {
     "name": "stdout",
     "output_type": "stream",
     "text": [
      "Missing data summary:\n",
      "OXO-5FIC606A Augusta    100\n",
      "OXO-5FIC611B Augusta    100\n",
      "OXO-5LI654F Augusta     100\n",
      "dtype: int64\n",
      "# rows dropped with missing values in the target variable: 0\n",
      "Dropped columns: ['OXO-5FIC606A Augusta', 'OXO-5FIC611B Augusta', 'OXO-5LI654F Augusta']\n",
      "Filled missing values using mean\n",
      "Missing data summary:\n",
      "Series([], dtype: int64)\n",
      "./Data_Cleansing/OXO-5FI635C Augusta_anomaly_report already exists, trying again...\n",
      "[WinError 183] Cannot create a file when that file already exists: './Data_Cleansing/OXO-5FI635C Augusta_anomaly_report\\\\xlsx'\n",
      "Selected Features are OXO-5FI635C Augusta, OXO-5FI696 Augusta, OXO-5FIC612B Augusta, OXO-5FIC618B Augusta, OXO-5FIC618C Augusta, OXO-5FIC622B Augusta, OXO-5FIC622C Augusta, OXO-5FIC636C Augusta, OXO-5TIC602 Augusta, OXO-5TIC603 Augusta, OXO-5TIC605 Augusta\n",
      "Finding bounds...\n",
      "Found Bounds!\n",
      "Index(['OXO-5FI635C Augusta'], dtype='object')\n",
      "OXO-5FI635C Augusta\n",
      "Done\n",
      "1 outliers detected in OXO-5FI635C Augusta\n"
     ]
    },
    {
     "data": {
      "application/vnd.plotly.v1+json": {
       "config": {
        "plotlyServerURL": "https://plot.ly"
       },
       "data": [
        {
         "hovertemplate": "index=%{x}<br>OXO-5FI635C Augusta=%{y}<extra></extra>",
         "legendgroup": "",
         "line": {
          "color": "#636efa",
          "dash": "solid"
         },
         "marker": {
          "symbol": "circle"
         },
         "mode": "lines",
         "name": "",
         "orientation": "v",
         "showlegend": false,
         "type": "scatter",
         "x": [
          0,
          1,
          2,
          3,
          4,
          5,
          6,
          7,
          8,
          9,
          10,
          11,
          12,
          13,
          14,
          15,
          16,
          17,
          18,
          19,
          20,
          21,
          22,
          23,
          24,
          25,
          26,
          27,
          28,
          29,
          30,
          31,
          32,
          33,
          34,
          35,
          36,
          37,
          38,
          39,
          40,
          41,
          42,
          43,
          44,
          45,
          46,
          47,
          48,
          49,
          50,
          51,
          52,
          53,
          54,
          55,
          56,
          57,
          58,
          59,
          60,
          61,
          62,
          63,
          64,
          65,
          66,
          67,
          68,
          69,
          70,
          71,
          72,
          73,
          74,
          75,
          76,
          77,
          78,
          79,
          80,
          81,
          82,
          83,
          84,
          85,
          86,
          87,
          88,
          89,
          90,
          91,
          92,
          93,
          94,
          95,
          96,
          97,
          98,
          99
         ],
         "xaxis": "x",
         "y": [
          5859.125647989908,
          5950.17383720461,
          6379.102249786633,
          6337.343084161932,
          6183.590301513672,
          6348.371973887211,
          6275.842647298177,
          6305.913981119792,
          6223.726814778646,
          6432.715973657025,
          6407.449617513021,
          6335.004012044271,
          6333.084765625,
          6473.538468424479,
          6003.975577799479,
          6091.00557047526,
          6219.926257324219,
          6194.575121454832,
          6246.756591796875,
          6135.916366703254,
          6067.128035481771,
          6067.04691808364,
          5610.986687289782,
          6105.535599772135,
          6080.659326171875,
          6166.558208048845,
          6334.826981608073,
          5978.627793367244,
          5788.294631909924,
          6067.811866251627,
          6246.6356513914,
          6212.610002790178,
          6218.790934917355,
          6235.634191894531,
          6150.33612214417,
          6328.050390625,
          6226.37349883781,
          6322.732253643645,
          6439.448661867252,
          6364.82913438813,
          6329.501799780475,
          6269.116129557292,
          6204.016721598307,
          6052.607206217448,
          5679.579536946615,
          5063.308327041755,
          4652.049435450026,
          4328.971368408204,
          4904.587259928386,
          5041.807727050781,
          5056.61567993164,
          5009.594675272453,
          5187.44690445829,
          5239.23681233724,
          5293.792221966912,
          5616.239645209194,
          4819.035675048828,
          5256.360811121323,
          5111.833120803202,
          5275.183653246455,
          5446.890556398502,
          5712.773217773438,
          5782.940802001953,
          6071.759855895483,
          6115.65615234375,
          6056.239738022986,
          5929.296565755209,
          5980.169319661459,
          5962.82197265625,
          5972.023659073005,
          6000.826047770182,
          5979.151798973398,
          5781.218950398763,
          6072.464179030987,
          6192.087276204427,
          6178.568508684142,
          5979.75098063151,
          6186.893612132353,
          6035.115461222331,
          6055.054388427734,
          6197.43073669938,
          6290.69735179228,
          6056.885001627604,
          5970.387110182077,
          6022.296546743697,
          4872.838308113665,
          6569.744838460287,
          6020.480114746094,
          5996.483866373698,
          5923.42409893645,
          5851.581927490234,
          5990.566707356771,
          5933.114473705449,
          5910.424890136719,
          6032.192194065126,
          5957.402727111312,
          5985.0875,
          5924.414177389706,
          5861.537924522211,
          6106.674173990886
         ],
         "yaxis": "y"
        },
        {
         "mode": "markers",
         "name": "outliers",
         "type": "scatter",
         "x": [
          47
         ],
         "y": [
          4328.971368408204
         ]
        }
       ],
       "layout": {
        "legend": {
         "tracegroupgap": 0
        },
        "template": {
         "data": {
          "bar": [
           {
            "error_x": {
             "color": "#2a3f5f"
            },
            "error_y": {
             "color": "#2a3f5f"
            },
            "marker": {
             "line": {
              "color": "#E5ECF6",
              "width": 0.5
             },
             "pattern": {
              "fillmode": "overlay",
              "size": 10,
              "solidity": 0.2
             }
            },
            "type": "bar"
           }
          ],
          "barpolar": [
           {
            "marker": {
             "line": {
              "color": "#E5ECF6",
              "width": 0.5
             },
             "pattern": {
              "fillmode": "overlay",
              "size": 10,
              "solidity": 0.2
             }
            },
            "type": "barpolar"
           }
          ],
          "carpet": [
           {
            "aaxis": {
             "endlinecolor": "#2a3f5f",
             "gridcolor": "white",
             "linecolor": "white",
             "minorgridcolor": "white",
             "startlinecolor": "#2a3f5f"
            },
            "baxis": {
             "endlinecolor": "#2a3f5f",
             "gridcolor": "white",
             "linecolor": "white",
             "minorgridcolor": "white",
             "startlinecolor": "#2a3f5f"
            },
            "type": "carpet"
           }
          ],
          "choropleth": [
           {
            "colorbar": {
             "outlinewidth": 0,
             "ticks": ""
            },
            "type": "choropleth"
           }
          ],
          "contour": [
           {
            "colorbar": {
             "outlinewidth": 0,
             "ticks": ""
            },
            "colorscale": [
             [
              0,
              "#0d0887"
             ],
             [
              0.1111111111111111,
              "#46039f"
             ],
             [
              0.2222222222222222,
              "#7201a8"
             ],
             [
              0.3333333333333333,
              "#9c179e"
             ],
             [
              0.4444444444444444,
              "#bd3786"
             ],
             [
              0.5555555555555556,
              "#d8576b"
             ],
             [
              0.6666666666666666,
              "#ed7953"
             ],
             [
              0.7777777777777778,
              "#fb9f3a"
             ],
             [
              0.8888888888888888,
              "#fdca26"
             ],
             [
              1,
              "#f0f921"
             ]
            ],
            "type": "contour"
           }
          ],
          "contourcarpet": [
           {
            "colorbar": {
             "outlinewidth": 0,
             "ticks": ""
            },
            "type": "contourcarpet"
           }
          ],
          "heatmap": [
           {
            "colorbar": {
             "outlinewidth": 0,
             "ticks": ""
            },
            "colorscale": [
             [
              0,
              "#0d0887"
             ],
             [
              0.1111111111111111,
              "#46039f"
             ],
             [
              0.2222222222222222,
              "#7201a8"
             ],
             [
              0.3333333333333333,
              "#9c179e"
             ],
             [
              0.4444444444444444,
              "#bd3786"
             ],
             [
              0.5555555555555556,
              "#d8576b"
             ],
             [
              0.6666666666666666,
              "#ed7953"
             ],
             [
              0.7777777777777778,
              "#fb9f3a"
             ],
             [
              0.8888888888888888,
              "#fdca26"
             ],
             [
              1,
              "#f0f921"
             ]
            ],
            "type": "heatmap"
           }
          ],
          "heatmapgl": [
           {
            "colorbar": {
             "outlinewidth": 0,
             "ticks": ""
            },
            "colorscale": [
             [
              0,
              "#0d0887"
             ],
             [
              0.1111111111111111,
              "#46039f"
             ],
             [
              0.2222222222222222,
              "#7201a8"
             ],
             [
              0.3333333333333333,
              "#9c179e"
             ],
             [
              0.4444444444444444,
              "#bd3786"
             ],
             [
              0.5555555555555556,
              "#d8576b"
             ],
             [
              0.6666666666666666,
              "#ed7953"
             ],
             [
              0.7777777777777778,
              "#fb9f3a"
             ],
             [
              0.8888888888888888,
              "#fdca26"
             ],
             [
              1,
              "#f0f921"
             ]
            ],
            "type": "heatmapgl"
           }
          ],
          "histogram": [
           {
            "marker": {
             "pattern": {
              "fillmode": "overlay",
              "size": 10,
              "solidity": 0.2
             }
            },
            "type": "histogram"
           }
          ],
          "histogram2d": [
           {
            "colorbar": {
             "outlinewidth": 0,
             "ticks": ""
            },
            "colorscale": [
             [
              0,
              "#0d0887"
             ],
             [
              0.1111111111111111,
              "#46039f"
             ],
             [
              0.2222222222222222,
              "#7201a8"
             ],
             [
              0.3333333333333333,
              "#9c179e"
             ],
             [
              0.4444444444444444,
              "#bd3786"
             ],
             [
              0.5555555555555556,
              "#d8576b"
             ],
             [
              0.6666666666666666,
              "#ed7953"
             ],
             [
              0.7777777777777778,
              "#fb9f3a"
             ],
             [
              0.8888888888888888,
              "#fdca26"
             ],
             [
              1,
              "#f0f921"
             ]
            ],
            "type": "histogram2d"
           }
          ],
          "histogram2dcontour": [
           {
            "colorbar": {
             "outlinewidth": 0,
             "ticks": ""
            },
            "colorscale": [
             [
              0,
              "#0d0887"
             ],
             [
              0.1111111111111111,
              "#46039f"
             ],
             [
              0.2222222222222222,
              "#7201a8"
             ],
             [
              0.3333333333333333,
              "#9c179e"
             ],
             [
              0.4444444444444444,
              "#bd3786"
             ],
             [
              0.5555555555555556,
              "#d8576b"
             ],
             [
              0.6666666666666666,
              "#ed7953"
             ],
             [
              0.7777777777777778,
              "#fb9f3a"
             ],
             [
              0.8888888888888888,
              "#fdca26"
             ],
             [
              1,
              "#f0f921"
             ]
            ],
            "type": "histogram2dcontour"
           }
          ],
          "mesh3d": [
           {
            "colorbar": {
             "outlinewidth": 0,
             "ticks": ""
            },
            "type": "mesh3d"
           }
          ],
          "parcoords": [
           {
            "line": {
             "colorbar": {
              "outlinewidth": 0,
              "ticks": ""
             }
            },
            "type": "parcoords"
           }
          ],
          "pie": [
           {
            "automargin": true,
            "type": "pie"
           }
          ],
          "scatter": [
           {
            "fillpattern": {
             "fillmode": "overlay",
             "size": 10,
             "solidity": 0.2
            },
            "type": "scatter"
           }
          ],
          "scatter3d": [
           {
            "line": {
             "colorbar": {
              "outlinewidth": 0,
              "ticks": ""
             }
            },
            "marker": {
             "colorbar": {
              "outlinewidth": 0,
              "ticks": ""
             }
            },
            "type": "scatter3d"
           }
          ],
          "scattercarpet": [
           {
            "marker": {
             "colorbar": {
              "outlinewidth": 0,
              "ticks": ""
             }
            },
            "type": "scattercarpet"
           }
          ],
          "scattergeo": [
           {
            "marker": {
             "colorbar": {
              "outlinewidth": 0,
              "ticks": ""
             }
            },
            "type": "scattergeo"
           }
          ],
          "scattergl": [
           {
            "marker": {
             "colorbar": {
              "outlinewidth": 0,
              "ticks": ""
             }
            },
            "type": "scattergl"
           }
          ],
          "scattermapbox": [
           {
            "marker": {
             "colorbar": {
              "outlinewidth": 0,
              "ticks": ""
             }
            },
            "type": "scattermapbox"
           }
          ],
          "scatterpolar": [
           {
            "marker": {
             "colorbar": {
              "outlinewidth": 0,
              "ticks": ""
             }
            },
            "type": "scatterpolar"
           }
          ],
          "scatterpolargl": [
           {
            "marker": {
             "colorbar": {
              "outlinewidth": 0,
              "ticks": ""
             }
            },
            "type": "scatterpolargl"
           }
          ],
          "scatterternary": [
           {
            "marker": {
             "colorbar": {
              "outlinewidth": 0,
              "ticks": ""
             }
            },
            "type": "scatterternary"
           }
          ],
          "surface": [
           {
            "colorbar": {
             "outlinewidth": 0,
             "ticks": ""
            },
            "colorscale": [
             [
              0,
              "#0d0887"
             ],
             [
              0.1111111111111111,
              "#46039f"
             ],
             [
              0.2222222222222222,
              "#7201a8"
             ],
             [
              0.3333333333333333,
              "#9c179e"
             ],
             [
              0.4444444444444444,
              "#bd3786"
             ],
             [
              0.5555555555555556,
              "#d8576b"
             ],
             [
              0.6666666666666666,
              "#ed7953"
             ],
             [
              0.7777777777777778,
              "#fb9f3a"
             ],
             [
              0.8888888888888888,
              "#fdca26"
             ],
             [
              1,
              "#f0f921"
             ]
            ],
            "type": "surface"
           }
          ],
          "table": [
           {
            "cells": {
             "fill": {
              "color": "#EBF0F8"
             },
             "line": {
              "color": "white"
             }
            },
            "header": {
             "fill": {
              "color": "#C8D4E3"
             },
             "line": {
              "color": "white"
             }
            },
            "type": "table"
           }
          ]
         },
         "layout": {
          "annotationdefaults": {
           "arrowcolor": "#2a3f5f",
           "arrowhead": 0,
           "arrowwidth": 1
          },
          "autotypenumbers": "strict",
          "coloraxis": {
           "colorbar": {
            "outlinewidth": 0,
            "ticks": ""
           }
          },
          "colorscale": {
           "diverging": [
            [
             0,
             "#8e0152"
            ],
            [
             0.1,
             "#c51b7d"
            ],
            [
             0.2,
             "#de77ae"
            ],
            [
             0.3,
             "#f1b6da"
            ],
            [
             0.4,
             "#fde0ef"
            ],
            [
             0.5,
             "#f7f7f7"
            ],
            [
             0.6,
             "#e6f5d0"
            ],
            [
             0.7,
             "#b8e186"
            ],
            [
             0.8,
             "#7fbc41"
            ],
            [
             0.9,
             "#4d9221"
            ],
            [
             1,
             "#276419"
            ]
           ],
           "sequential": [
            [
             0,
             "#0d0887"
            ],
            [
             0.1111111111111111,
             "#46039f"
            ],
            [
             0.2222222222222222,
             "#7201a8"
            ],
            [
             0.3333333333333333,
             "#9c179e"
            ],
            [
             0.4444444444444444,
             "#bd3786"
            ],
            [
             0.5555555555555556,
             "#d8576b"
            ],
            [
             0.6666666666666666,
             "#ed7953"
            ],
            [
             0.7777777777777778,
             "#fb9f3a"
            ],
            [
             0.8888888888888888,
             "#fdca26"
            ],
            [
             1,
             "#f0f921"
            ]
           ],
           "sequentialminus": [
            [
             0,
             "#0d0887"
            ],
            [
             0.1111111111111111,
             "#46039f"
            ],
            [
             0.2222222222222222,
             "#7201a8"
            ],
            [
             0.3333333333333333,
             "#9c179e"
            ],
            [
             0.4444444444444444,
             "#bd3786"
            ],
            [
             0.5555555555555556,
             "#d8576b"
            ],
            [
             0.6666666666666666,
             "#ed7953"
            ],
            [
             0.7777777777777778,
             "#fb9f3a"
            ],
            [
             0.8888888888888888,
             "#fdca26"
            ],
            [
             1,
             "#f0f921"
            ]
           ]
          },
          "colorway": [
           "#636efa",
           "#EF553B",
           "#00cc96",
           "#ab63fa",
           "#FFA15A",
           "#19d3f3",
           "#FF6692",
           "#B6E880",
           "#FF97FF",
           "#FECB52"
          ],
          "font": {
           "color": "#2a3f5f"
          },
          "geo": {
           "bgcolor": "white",
           "lakecolor": "white",
           "landcolor": "#E5ECF6",
           "showlakes": true,
           "showland": true,
           "subunitcolor": "white"
          },
          "hoverlabel": {
           "align": "left"
          },
          "hovermode": "closest",
          "mapbox": {
           "style": "light"
          },
          "paper_bgcolor": "white",
          "plot_bgcolor": "#E5ECF6",
          "polar": {
           "angularaxis": {
            "gridcolor": "white",
            "linecolor": "white",
            "ticks": ""
           },
           "bgcolor": "#E5ECF6",
           "radialaxis": {
            "gridcolor": "white",
            "linecolor": "white",
            "ticks": ""
           }
          },
          "scene": {
           "xaxis": {
            "backgroundcolor": "#E5ECF6",
            "gridcolor": "white",
            "gridwidth": 2,
            "linecolor": "white",
            "showbackground": true,
            "ticks": "",
            "zerolinecolor": "white"
           },
           "yaxis": {
            "backgroundcolor": "#E5ECF6",
            "gridcolor": "white",
            "gridwidth": 2,
            "linecolor": "white",
            "showbackground": true,
            "ticks": "",
            "zerolinecolor": "white"
           },
           "zaxis": {
            "backgroundcolor": "#E5ECF6",
            "gridcolor": "white",
            "gridwidth": 2,
            "linecolor": "white",
            "showbackground": true,
            "ticks": "",
            "zerolinecolor": "white"
           }
          },
          "shapedefaults": {
           "line": {
            "color": "#2a3f5f"
           }
          },
          "ternary": {
           "aaxis": {
            "gridcolor": "white",
            "linecolor": "white",
            "ticks": ""
           },
           "baxis": {
            "gridcolor": "white",
            "linecolor": "white",
            "ticks": ""
           },
           "bgcolor": "#E5ECF6",
           "caxis": {
            "gridcolor": "white",
            "linecolor": "white",
            "ticks": ""
           }
          },
          "title": {
           "x": 0.05
          },
          "xaxis": {
           "automargin": true,
           "gridcolor": "white",
           "linecolor": "white",
           "ticks": "",
           "title": {
            "standoff": 15
           },
           "zerolinecolor": "white",
           "zerolinewidth": 2
          },
          "yaxis": {
           "automargin": true,
           "gridcolor": "white",
           "linecolor": "white",
           "ticks": "",
           "title": {
            "standoff": 15
           },
           "zerolinecolor": "white",
           "zerolinewidth": 2
          }
         }
        },
        "title": {
         "text": "Outliers for OXO-5FI635C Augusta"
        },
        "xaxis": {
         "anchor": "y",
         "domain": [
          0,
          1
         ],
         "title": {
          "text": "Date"
         }
        },
        "yaxis": {
         "anchor": "x",
         "domain": [
          0,
          1
         ],
         "title": {
          "text": "Value"
         }
        }
       }
      }
     },
     "metadata": {},
     "output_type": "display_data"
    },
    {
     "name": "stdout",
     "output_type": "stream",
     "text": [
      "2 outliers detected in OXO-5FI696 Augusta\n"
     ]
    },
    {
     "data": {
      "application/vnd.plotly.v1+json": {
       "config": {
        "plotlyServerURL": "https://plot.ly"
       },
       "data": [
        {
         "hovertemplate": "index=%{x}<br>OXO-5FI696 Augusta=%{y}<extra></extra>",
         "legendgroup": "",
         "line": {
          "color": "#636efa",
          "dash": "solid"
         },
         "marker": {
          "symbol": "circle"
         },
         "mode": "lines",
         "name": "",
         "orientation": "v",
         "showlegend": false,
         "type": "scatter",
         "x": [
          0,
          1,
          2,
          3,
          4,
          5,
          6,
          7,
          8,
          9,
          10,
          11,
          12,
          13,
          14,
          15,
          16,
          17,
          18,
          19,
          20,
          21,
          22,
          23,
          24,
          25,
          26,
          27,
          28,
          29,
          30,
          31,
          32,
          33,
          34,
          35,
          36,
          37,
          38,
          39,
          40,
          41,
          42,
          43,
          44,
          45,
          46,
          47,
          48,
          49,
          50,
          51,
          52,
          53,
          54,
          55,
          56,
          57,
          58,
          59,
          60,
          61,
          62,
          63,
          64,
          65,
          66,
          67,
          68,
          69,
          70,
          71,
          72,
          73,
          74,
          75,
          76,
          77,
          78,
          79,
          80,
          81,
          82,
          83,
          84,
          85,
          86,
          87,
          88,
          89,
          90,
          91,
          92,
          93,
          94,
          95,
          96,
          97,
          98,
          99
         ],
         "xaxis": "x",
         "y": [
          9830.2001953125,
          9384.63299153646,
          9233.277262369793,
          9223.139013671876,
          9104.168619791666,
          9838.639911042545,
          10389.782275390626,
          10386.495418294273,
          10373.74784342448,
          10376.726481792355,
          10385.354845063026,
          10399.763362630209,
          10415.00702311198,
          10405.199477014465,
          10420.073518880208,
          10405.669547526042,
          10396.791097689076,
          10396.95663578254,
          10336.595374868695,
          10155.94965457128,
          10158.636564127604,
          10154.23055826823,
          10166.29090983073,
          10160.849348958332,
          10163.938435530465,
          10186.94862151343,
          10284.569926798844,
          10273.158017497415,
          10285.642846679688,
          10293.24330357143,
          10292.052096784608,
          10294.56036783854,
          10296.27518546481,
          10292.088156960228,
          10353.457063802083,
          10389.666475183823,
          10382.3775390625,
          10528.763517252604,
          10648.372328576965,
          10650.542336856615,
          10677.24956417872,
          10674.325960286458,
          10677.47801503414,
          10699.67596028646,
          10713.54175813533,
          10608.395163143385,
          10161.713191731773,
          7975.456363932291,
          8258.268131510416,
          8481.239677492253,
          8898.724934895834,
          8961.214146205357,
          8963.184733072916,
          8968.128515625,
          8971.091667742769,
          8965.220239257813,
          8963.40693359375,
          8958.25586751302,
          8957.520417542017,
          8965.130657605889,
          9530.154354319851,
          9783.172407670454,
          9927.526529947916,
          9962.90773535977,
          10004.074848269627,
          10046.72832845052,
          10056.756070963542,
          10073.43806966146,
          10099.85244954427,
          10156.429956054688,
          10159.99194951418,
          10166.867526472108,
          10153.77068684896,
          10188.720727744225,
          10189.53721516927,
          10187.18659607438,
          10233.356070963542,
          10228.842716471354,
          10229.880558268227,
          10239.051027442229,
          10234.778206380208,
          10237.59608245093,
          10367.099026720063,
          10462.054541015625,
          10183.83104654948,
          9717.961865637912,
          9844.442473082983,
          10169.312435433883,
          10363.375582654937,
          10429.37246577996,
          10451.504841780465,
          10173.877766927084,
          10039.192463520145,
          10062.049593098958,
          10075.26221516927,
          10094.243538411458,
          10087.562662760416,
          10084.821313681725,
          10084.865194021178,
          10093.66628643645
         ],
         "yaxis": "y"
        },
        {
         "mode": "markers",
         "name": "outliers",
         "type": "scatter",
         "x": [
          47,
          48
         ],
         "y": [
          7975.456363932291,
          8258.268131510416
         ]
        }
       ],
       "layout": {
        "legend": {
         "tracegroupgap": 0
        },
        "template": {
         "data": {
          "bar": [
           {
            "error_x": {
             "color": "#2a3f5f"
            },
            "error_y": {
             "color": "#2a3f5f"
            },
            "marker": {
             "line": {
              "color": "#E5ECF6",
              "width": 0.5
             },
             "pattern": {
              "fillmode": "overlay",
              "size": 10,
              "solidity": 0.2
             }
            },
            "type": "bar"
           }
          ],
          "barpolar": [
           {
            "marker": {
             "line": {
              "color": "#E5ECF6",
              "width": 0.5
             },
             "pattern": {
              "fillmode": "overlay",
              "size": 10,
              "solidity": 0.2
             }
            },
            "type": "barpolar"
           }
          ],
          "carpet": [
           {
            "aaxis": {
             "endlinecolor": "#2a3f5f",
             "gridcolor": "white",
             "linecolor": "white",
             "minorgridcolor": "white",
             "startlinecolor": "#2a3f5f"
            },
            "baxis": {
             "endlinecolor": "#2a3f5f",
             "gridcolor": "white",
             "linecolor": "white",
             "minorgridcolor": "white",
             "startlinecolor": "#2a3f5f"
            },
            "type": "carpet"
           }
          ],
          "choropleth": [
           {
            "colorbar": {
             "outlinewidth": 0,
             "ticks": ""
            },
            "type": "choropleth"
           }
          ],
          "contour": [
           {
            "colorbar": {
             "outlinewidth": 0,
             "ticks": ""
            },
            "colorscale": [
             [
              0,
              "#0d0887"
             ],
             [
              0.1111111111111111,
              "#46039f"
             ],
             [
              0.2222222222222222,
              "#7201a8"
             ],
             [
              0.3333333333333333,
              "#9c179e"
             ],
             [
              0.4444444444444444,
              "#bd3786"
             ],
             [
              0.5555555555555556,
              "#d8576b"
             ],
             [
              0.6666666666666666,
              "#ed7953"
             ],
             [
              0.7777777777777778,
              "#fb9f3a"
             ],
             [
              0.8888888888888888,
              "#fdca26"
             ],
             [
              1,
              "#f0f921"
             ]
            ],
            "type": "contour"
           }
          ],
          "contourcarpet": [
           {
            "colorbar": {
             "outlinewidth": 0,
             "ticks": ""
            },
            "type": "contourcarpet"
           }
          ],
          "heatmap": [
           {
            "colorbar": {
             "outlinewidth": 0,
             "ticks": ""
            },
            "colorscale": [
             [
              0,
              "#0d0887"
             ],
             [
              0.1111111111111111,
              "#46039f"
             ],
             [
              0.2222222222222222,
              "#7201a8"
             ],
             [
              0.3333333333333333,
              "#9c179e"
             ],
             [
              0.4444444444444444,
              "#bd3786"
             ],
             [
              0.5555555555555556,
              "#d8576b"
             ],
             [
              0.6666666666666666,
              "#ed7953"
             ],
             [
              0.7777777777777778,
              "#fb9f3a"
             ],
             [
              0.8888888888888888,
              "#fdca26"
             ],
             [
              1,
              "#f0f921"
             ]
            ],
            "type": "heatmap"
           }
          ],
          "heatmapgl": [
           {
            "colorbar": {
             "outlinewidth": 0,
             "ticks": ""
            },
            "colorscale": [
             [
              0,
              "#0d0887"
             ],
             [
              0.1111111111111111,
              "#46039f"
             ],
             [
              0.2222222222222222,
              "#7201a8"
             ],
             [
              0.3333333333333333,
              "#9c179e"
             ],
             [
              0.4444444444444444,
              "#bd3786"
             ],
             [
              0.5555555555555556,
              "#d8576b"
             ],
             [
              0.6666666666666666,
              "#ed7953"
             ],
             [
              0.7777777777777778,
              "#fb9f3a"
             ],
             [
              0.8888888888888888,
              "#fdca26"
             ],
             [
              1,
              "#f0f921"
             ]
            ],
            "type": "heatmapgl"
           }
          ],
          "histogram": [
           {
            "marker": {
             "pattern": {
              "fillmode": "overlay",
              "size": 10,
              "solidity": 0.2
             }
            },
            "type": "histogram"
           }
          ],
          "histogram2d": [
           {
            "colorbar": {
             "outlinewidth": 0,
             "ticks": ""
            },
            "colorscale": [
             [
              0,
              "#0d0887"
             ],
             [
              0.1111111111111111,
              "#46039f"
             ],
             [
              0.2222222222222222,
              "#7201a8"
             ],
             [
              0.3333333333333333,
              "#9c179e"
             ],
             [
              0.4444444444444444,
              "#bd3786"
             ],
             [
              0.5555555555555556,
              "#d8576b"
             ],
             [
              0.6666666666666666,
              "#ed7953"
             ],
             [
              0.7777777777777778,
              "#fb9f3a"
             ],
             [
              0.8888888888888888,
              "#fdca26"
             ],
             [
              1,
              "#f0f921"
             ]
            ],
            "type": "histogram2d"
           }
          ],
          "histogram2dcontour": [
           {
            "colorbar": {
             "outlinewidth": 0,
             "ticks": ""
            },
            "colorscale": [
             [
              0,
              "#0d0887"
             ],
             [
              0.1111111111111111,
              "#46039f"
             ],
             [
              0.2222222222222222,
              "#7201a8"
             ],
             [
              0.3333333333333333,
              "#9c179e"
             ],
             [
              0.4444444444444444,
              "#bd3786"
             ],
             [
              0.5555555555555556,
              "#d8576b"
             ],
             [
              0.6666666666666666,
              "#ed7953"
             ],
             [
              0.7777777777777778,
              "#fb9f3a"
             ],
             [
              0.8888888888888888,
              "#fdca26"
             ],
             [
              1,
              "#f0f921"
             ]
            ],
            "type": "histogram2dcontour"
           }
          ],
          "mesh3d": [
           {
            "colorbar": {
             "outlinewidth": 0,
             "ticks": ""
            },
            "type": "mesh3d"
           }
          ],
          "parcoords": [
           {
            "line": {
             "colorbar": {
              "outlinewidth": 0,
              "ticks": ""
             }
            },
            "type": "parcoords"
           }
          ],
          "pie": [
           {
            "automargin": true,
            "type": "pie"
           }
          ],
          "scatter": [
           {
            "fillpattern": {
             "fillmode": "overlay",
             "size": 10,
             "solidity": 0.2
            },
            "type": "scatter"
           }
          ],
          "scatter3d": [
           {
            "line": {
             "colorbar": {
              "outlinewidth": 0,
              "ticks": ""
             }
            },
            "marker": {
             "colorbar": {
              "outlinewidth": 0,
              "ticks": ""
             }
            },
            "type": "scatter3d"
           }
          ],
          "scattercarpet": [
           {
            "marker": {
             "colorbar": {
              "outlinewidth": 0,
              "ticks": ""
             }
            },
            "type": "scattercarpet"
           }
          ],
          "scattergeo": [
           {
            "marker": {
             "colorbar": {
              "outlinewidth": 0,
              "ticks": ""
             }
            },
            "type": "scattergeo"
           }
          ],
          "scattergl": [
           {
            "marker": {
             "colorbar": {
              "outlinewidth": 0,
              "ticks": ""
             }
            },
            "type": "scattergl"
           }
          ],
          "scattermapbox": [
           {
            "marker": {
             "colorbar": {
              "outlinewidth": 0,
              "ticks": ""
             }
            },
            "type": "scattermapbox"
           }
          ],
          "scatterpolar": [
           {
            "marker": {
             "colorbar": {
              "outlinewidth": 0,
              "ticks": ""
             }
            },
            "type": "scatterpolar"
           }
          ],
          "scatterpolargl": [
           {
            "marker": {
             "colorbar": {
              "outlinewidth": 0,
              "ticks": ""
             }
            },
            "type": "scatterpolargl"
           }
          ],
          "scatterternary": [
           {
            "marker": {
             "colorbar": {
              "outlinewidth": 0,
              "ticks": ""
             }
            },
            "type": "scatterternary"
           }
          ],
          "surface": [
           {
            "colorbar": {
             "outlinewidth": 0,
             "ticks": ""
            },
            "colorscale": [
             [
              0,
              "#0d0887"
             ],
             [
              0.1111111111111111,
              "#46039f"
             ],
             [
              0.2222222222222222,
              "#7201a8"
             ],
             [
              0.3333333333333333,
              "#9c179e"
             ],
             [
              0.4444444444444444,
              "#bd3786"
             ],
             [
              0.5555555555555556,
              "#d8576b"
             ],
             [
              0.6666666666666666,
              "#ed7953"
             ],
             [
              0.7777777777777778,
              "#fb9f3a"
             ],
             [
              0.8888888888888888,
              "#fdca26"
             ],
             [
              1,
              "#f0f921"
             ]
            ],
            "type": "surface"
           }
          ],
          "table": [
           {
            "cells": {
             "fill": {
              "color": "#EBF0F8"
             },
             "line": {
              "color": "white"
             }
            },
            "header": {
             "fill": {
              "color": "#C8D4E3"
             },
             "line": {
              "color": "white"
             }
            },
            "type": "table"
           }
          ]
         },
         "layout": {
          "annotationdefaults": {
           "arrowcolor": "#2a3f5f",
           "arrowhead": 0,
           "arrowwidth": 1
          },
          "autotypenumbers": "strict",
          "coloraxis": {
           "colorbar": {
            "outlinewidth": 0,
            "ticks": ""
           }
          },
          "colorscale": {
           "diverging": [
            [
             0,
             "#8e0152"
            ],
            [
             0.1,
             "#c51b7d"
            ],
            [
             0.2,
             "#de77ae"
            ],
            [
             0.3,
             "#f1b6da"
            ],
            [
             0.4,
             "#fde0ef"
            ],
            [
             0.5,
             "#f7f7f7"
            ],
            [
             0.6,
             "#e6f5d0"
            ],
            [
             0.7,
             "#b8e186"
            ],
            [
             0.8,
             "#7fbc41"
            ],
            [
             0.9,
             "#4d9221"
            ],
            [
             1,
             "#276419"
            ]
           ],
           "sequential": [
            [
             0,
             "#0d0887"
            ],
            [
             0.1111111111111111,
             "#46039f"
            ],
            [
             0.2222222222222222,
             "#7201a8"
            ],
            [
             0.3333333333333333,
             "#9c179e"
            ],
            [
             0.4444444444444444,
             "#bd3786"
            ],
            [
             0.5555555555555556,
             "#d8576b"
            ],
            [
             0.6666666666666666,
             "#ed7953"
            ],
            [
             0.7777777777777778,
             "#fb9f3a"
            ],
            [
             0.8888888888888888,
             "#fdca26"
            ],
            [
             1,
             "#f0f921"
            ]
           ],
           "sequentialminus": [
            [
             0,
             "#0d0887"
            ],
            [
             0.1111111111111111,
             "#46039f"
            ],
            [
             0.2222222222222222,
             "#7201a8"
            ],
            [
             0.3333333333333333,
             "#9c179e"
            ],
            [
             0.4444444444444444,
             "#bd3786"
            ],
            [
             0.5555555555555556,
             "#d8576b"
            ],
            [
             0.6666666666666666,
             "#ed7953"
            ],
            [
             0.7777777777777778,
             "#fb9f3a"
            ],
            [
             0.8888888888888888,
             "#fdca26"
            ],
            [
             1,
             "#f0f921"
            ]
           ]
          },
          "colorway": [
           "#636efa",
           "#EF553B",
           "#00cc96",
           "#ab63fa",
           "#FFA15A",
           "#19d3f3",
           "#FF6692",
           "#B6E880",
           "#FF97FF",
           "#FECB52"
          ],
          "font": {
           "color": "#2a3f5f"
          },
          "geo": {
           "bgcolor": "white",
           "lakecolor": "white",
           "landcolor": "#E5ECF6",
           "showlakes": true,
           "showland": true,
           "subunitcolor": "white"
          },
          "hoverlabel": {
           "align": "left"
          },
          "hovermode": "closest",
          "mapbox": {
           "style": "light"
          },
          "paper_bgcolor": "white",
          "plot_bgcolor": "#E5ECF6",
          "polar": {
           "angularaxis": {
            "gridcolor": "white",
            "linecolor": "white",
            "ticks": ""
           },
           "bgcolor": "#E5ECF6",
           "radialaxis": {
            "gridcolor": "white",
            "linecolor": "white",
            "ticks": ""
           }
          },
          "scene": {
           "xaxis": {
            "backgroundcolor": "#E5ECF6",
            "gridcolor": "white",
            "gridwidth": 2,
            "linecolor": "white",
            "showbackground": true,
            "ticks": "",
            "zerolinecolor": "white"
           },
           "yaxis": {
            "backgroundcolor": "#E5ECF6",
            "gridcolor": "white",
            "gridwidth": 2,
            "linecolor": "white",
            "showbackground": true,
            "ticks": "",
            "zerolinecolor": "white"
           },
           "zaxis": {
            "backgroundcolor": "#E5ECF6",
            "gridcolor": "white",
            "gridwidth": 2,
            "linecolor": "white",
            "showbackground": true,
            "ticks": "",
            "zerolinecolor": "white"
           }
          },
          "shapedefaults": {
           "line": {
            "color": "#2a3f5f"
           }
          },
          "ternary": {
           "aaxis": {
            "gridcolor": "white",
            "linecolor": "white",
            "ticks": ""
           },
           "baxis": {
            "gridcolor": "white",
            "linecolor": "white",
            "ticks": ""
           },
           "bgcolor": "#E5ECF6",
           "caxis": {
            "gridcolor": "white",
            "linecolor": "white",
            "ticks": ""
           }
          },
          "title": {
           "x": 0.05
          },
          "xaxis": {
           "automargin": true,
           "gridcolor": "white",
           "linecolor": "white",
           "ticks": "",
           "title": {
            "standoff": 15
           },
           "zerolinecolor": "white",
           "zerolinewidth": 2
          },
          "yaxis": {
           "automargin": true,
           "gridcolor": "white",
           "linecolor": "white",
           "ticks": "",
           "title": {
            "standoff": 15
           },
           "zerolinecolor": "white",
           "zerolinewidth": 2
          }
         }
        },
        "title": {
         "text": "Outliers for OXO-5FI696 Augusta"
        },
        "xaxis": {
         "anchor": "y",
         "domain": [
          0,
          1
         ],
         "title": {
          "text": "Date"
         }
        },
        "yaxis": {
         "anchor": "x",
         "domain": [
          0,
          1
         ],
         "title": {
          "text": "Value"
         }
        }
       }
      }
     },
     "metadata": {},
     "output_type": "display_data"
    },
    {
     "name": "stdout",
     "output_type": "stream",
     "text": [
      "3 outliers detected in OXO-5FIC612A Augusta\n"
     ]
    },
    {
     "data": {
      "application/vnd.plotly.v1+json": {
       "config": {
        "plotlyServerURL": "https://plot.ly"
       },
       "data": [
        {
         "hovertemplate": "index=%{x}<br>OXO-5FIC612A Augusta=%{y}<extra></extra>",
         "legendgroup": "",
         "line": {
          "color": "#636efa",
          "dash": "solid"
         },
         "marker": {
          "symbol": "circle"
         },
         "mode": "lines",
         "name": "",
         "orientation": "v",
         "showlegend": false,
         "type": "scatter",
         "x": [
          0,
          1,
          2,
          3,
          4,
          5,
          6,
          7,
          8,
          9,
          10,
          11,
          12,
          13,
          14,
          15,
          16,
          17,
          18,
          19,
          20,
          21,
          22,
          23,
          24,
          25,
          26,
          27,
          28,
          29,
          30,
          31,
          32,
          33,
          34,
          35,
          36,
          37,
          38,
          39,
          40,
          41,
          42,
          43,
          44,
          45,
          46,
          47,
          48,
          49,
          50,
          51,
          52,
          53,
          54,
          55,
          56,
          57,
          58,
          59,
          60,
          61,
          62,
          63,
          64,
          65,
          66,
          67,
          68,
          69,
          70,
          71,
          72,
          73,
          74,
          75,
          76,
          77,
          78,
          79,
          80,
          81,
          82,
          83,
          84,
          85,
          86,
          87,
          88,
          89,
          90,
          91,
          92,
          93,
          94,
          95,
          96,
          97,
          98,
          99
         ],
         "xaxis": "x",
         "y": [
          0.0093625550507567,
          0.0088527129555586,
          0.0091926076856907,
          0.0093059059290681,
          0.0090226603206247,
          0.0082862217386718,
          0.0085128182254266,
          0.0086261164688039,
          0.0093625550507567,
          0.0094758532941341,
          0.0094758532941341,
          0.0094758532941341,
          0.0092492568073794,
          0.0085769581400658,
          0.0087903513173971,
          0.0093625550507567,
          0.0093625550507567,
          0.0094192041724454,
          0.0091926076856907,
          0.0086827655904926,
          0.0093625550507567,
          0.0083995199820492,
          0.0087903513173971,
          0.0088527129555586,
          0.009135958564002,
          0.0094192041724454,
          0.0085769581400658,
          0.0071908467050109,
          0.0075095201446097,
          0.0083904751643006,
          0.0086827655904926,
          0.0092492568073794,
          0.0090793094423133,
          0.0094192041724454,
          0.0094758532941341,
          0.0094192041724454,
          0.0094192041724454,
          0.0094192041724454,
          0.0094758532941341,
          0.0094758532941341,
          0.0094758532941341,
          0.0094192041724454,
          0.0094192041724454,
          0.0094192041724454,
          0.0094192041724454,
          0.009135958564002,
          0.0091926076856907,
          0.0085694673471152,
          0.0077763796434737,
          0.0086893200343243,
          0.0080029761302284,
          0.006505344728274,
          0.0063035024795681,
          0.0056237130193039,
          0.0066433972097001,
          0.0085128182254266,
          0.0089093620772473,
          0.0089093620772473,
          0.0093625550507567,
          0.0094758532941341,
          0.0094758532941341,
          0.0094758532941341,
          0.0094758532941341,
          0.0094758532941341,
          0.0094758532941341,
          0.0094758532941341,
          0.0094758532941341,
          0.0094758532941341,
          0.0094758532941341,
          0.0094192041724454,
          0.0094758532941341,
          0.0094758532941341,
          0.0081275105630317,
          0.0057055924220808,
          0.007549783156719,
          0.0085207771929365,
          0.0092473526352218,
          0.0091926076856907,
          0.0091926076856907,
          0.0093059059290681,
          0.0094758532941341,
          0.0094758532941341,
          0.0094758532941341,
          0.0094758532941341,
          0.0094758532941341,
          0.0094758532941341,
          0.0094758532941341,
          0.0094758532941341,
          0.0094192041724454,
          0.0094758532941341,
          0.0093625550507567,
          0.009135958564002,
          0.0085694673471152,
          0.007565701091739,
          0.0075335976933794,
          0.008408415298678,
          0.0074193473639232,
          0.0055431869950853,
          0.0060202568711247,
          0.0059340930809932
         ],
         "yaxis": "y"
        },
        {
         "mode": "markers",
         "name": "outliers",
         "type": "scatter",
         "x": [
          53,
          73,
          97
         ],
         "y": [
          0.0056237130193039,
          0.0057055924220808,
          0.0055431869950853
         ]
        }
       ],
       "layout": {
        "legend": {
         "tracegroupgap": 0
        },
        "template": {
         "data": {
          "bar": [
           {
            "error_x": {
             "color": "#2a3f5f"
            },
            "error_y": {
             "color": "#2a3f5f"
            },
            "marker": {
             "line": {
              "color": "#E5ECF6",
              "width": 0.5
             },
             "pattern": {
              "fillmode": "overlay",
              "size": 10,
              "solidity": 0.2
             }
            },
            "type": "bar"
           }
          ],
          "barpolar": [
           {
            "marker": {
             "line": {
              "color": "#E5ECF6",
              "width": 0.5
             },
             "pattern": {
              "fillmode": "overlay",
              "size": 10,
              "solidity": 0.2
             }
            },
            "type": "barpolar"
           }
          ],
          "carpet": [
           {
            "aaxis": {
             "endlinecolor": "#2a3f5f",
             "gridcolor": "white",
             "linecolor": "white",
             "minorgridcolor": "white",
             "startlinecolor": "#2a3f5f"
            },
            "baxis": {
             "endlinecolor": "#2a3f5f",
             "gridcolor": "white",
             "linecolor": "white",
             "minorgridcolor": "white",
             "startlinecolor": "#2a3f5f"
            },
            "type": "carpet"
           }
          ],
          "choropleth": [
           {
            "colorbar": {
             "outlinewidth": 0,
             "ticks": ""
            },
            "type": "choropleth"
           }
          ],
          "contour": [
           {
            "colorbar": {
             "outlinewidth": 0,
             "ticks": ""
            },
            "colorscale": [
             [
              0,
              "#0d0887"
             ],
             [
              0.1111111111111111,
              "#46039f"
             ],
             [
              0.2222222222222222,
              "#7201a8"
             ],
             [
              0.3333333333333333,
              "#9c179e"
             ],
             [
              0.4444444444444444,
              "#bd3786"
             ],
             [
              0.5555555555555556,
              "#d8576b"
             ],
             [
              0.6666666666666666,
              "#ed7953"
             ],
             [
              0.7777777777777778,
              "#fb9f3a"
             ],
             [
              0.8888888888888888,
              "#fdca26"
             ],
             [
              1,
              "#f0f921"
             ]
            ],
            "type": "contour"
           }
          ],
          "contourcarpet": [
           {
            "colorbar": {
             "outlinewidth": 0,
             "ticks": ""
            },
            "type": "contourcarpet"
           }
          ],
          "heatmap": [
           {
            "colorbar": {
             "outlinewidth": 0,
             "ticks": ""
            },
            "colorscale": [
             [
              0,
              "#0d0887"
             ],
             [
              0.1111111111111111,
              "#46039f"
             ],
             [
              0.2222222222222222,
              "#7201a8"
             ],
             [
              0.3333333333333333,
              "#9c179e"
             ],
             [
              0.4444444444444444,
              "#bd3786"
             ],
             [
              0.5555555555555556,
              "#d8576b"
             ],
             [
              0.6666666666666666,
              "#ed7953"
             ],
             [
              0.7777777777777778,
              "#fb9f3a"
             ],
             [
              0.8888888888888888,
              "#fdca26"
             ],
             [
              1,
              "#f0f921"
             ]
            ],
            "type": "heatmap"
           }
          ],
          "heatmapgl": [
           {
            "colorbar": {
             "outlinewidth": 0,
             "ticks": ""
            },
            "colorscale": [
             [
              0,
              "#0d0887"
             ],
             [
              0.1111111111111111,
              "#46039f"
             ],
             [
              0.2222222222222222,
              "#7201a8"
             ],
             [
              0.3333333333333333,
              "#9c179e"
             ],
             [
              0.4444444444444444,
              "#bd3786"
             ],
             [
              0.5555555555555556,
              "#d8576b"
             ],
             [
              0.6666666666666666,
              "#ed7953"
             ],
             [
              0.7777777777777778,
              "#fb9f3a"
             ],
             [
              0.8888888888888888,
              "#fdca26"
             ],
             [
              1,
              "#f0f921"
             ]
            ],
            "type": "heatmapgl"
           }
          ],
          "histogram": [
           {
            "marker": {
             "pattern": {
              "fillmode": "overlay",
              "size": 10,
              "solidity": 0.2
             }
            },
            "type": "histogram"
           }
          ],
          "histogram2d": [
           {
            "colorbar": {
             "outlinewidth": 0,
             "ticks": ""
            },
            "colorscale": [
             [
              0,
              "#0d0887"
             ],
             [
              0.1111111111111111,
              "#46039f"
             ],
             [
              0.2222222222222222,
              "#7201a8"
             ],
             [
              0.3333333333333333,
              "#9c179e"
             ],
             [
              0.4444444444444444,
              "#bd3786"
             ],
             [
              0.5555555555555556,
              "#d8576b"
             ],
             [
              0.6666666666666666,
              "#ed7953"
             ],
             [
              0.7777777777777778,
              "#fb9f3a"
             ],
             [
              0.8888888888888888,
              "#fdca26"
             ],
             [
              1,
              "#f0f921"
             ]
            ],
            "type": "histogram2d"
           }
          ],
          "histogram2dcontour": [
           {
            "colorbar": {
             "outlinewidth": 0,
             "ticks": ""
            },
            "colorscale": [
             [
              0,
              "#0d0887"
             ],
             [
              0.1111111111111111,
              "#46039f"
             ],
             [
              0.2222222222222222,
              "#7201a8"
             ],
             [
              0.3333333333333333,
              "#9c179e"
             ],
             [
              0.4444444444444444,
              "#bd3786"
             ],
             [
              0.5555555555555556,
              "#d8576b"
             ],
             [
              0.6666666666666666,
              "#ed7953"
             ],
             [
              0.7777777777777778,
              "#fb9f3a"
             ],
             [
              0.8888888888888888,
              "#fdca26"
             ],
             [
              1,
              "#f0f921"
             ]
            ],
            "type": "histogram2dcontour"
           }
          ],
          "mesh3d": [
           {
            "colorbar": {
             "outlinewidth": 0,
             "ticks": ""
            },
            "type": "mesh3d"
           }
          ],
          "parcoords": [
           {
            "line": {
             "colorbar": {
              "outlinewidth": 0,
              "ticks": ""
             }
            },
            "type": "parcoords"
           }
          ],
          "pie": [
           {
            "automargin": true,
            "type": "pie"
           }
          ],
          "scatter": [
           {
            "fillpattern": {
             "fillmode": "overlay",
             "size": 10,
             "solidity": 0.2
            },
            "type": "scatter"
           }
          ],
          "scatter3d": [
           {
            "line": {
             "colorbar": {
              "outlinewidth": 0,
              "ticks": ""
             }
            },
            "marker": {
             "colorbar": {
              "outlinewidth": 0,
              "ticks": ""
             }
            },
            "type": "scatter3d"
           }
          ],
          "scattercarpet": [
           {
            "marker": {
             "colorbar": {
              "outlinewidth": 0,
              "ticks": ""
             }
            },
            "type": "scattercarpet"
           }
          ],
          "scattergeo": [
           {
            "marker": {
             "colorbar": {
              "outlinewidth": 0,
              "ticks": ""
             }
            },
            "type": "scattergeo"
           }
          ],
          "scattergl": [
           {
            "marker": {
             "colorbar": {
              "outlinewidth": 0,
              "ticks": ""
             }
            },
            "type": "scattergl"
           }
          ],
          "scattermapbox": [
           {
            "marker": {
             "colorbar": {
              "outlinewidth": 0,
              "ticks": ""
             }
            },
            "type": "scattermapbox"
           }
          ],
          "scatterpolar": [
           {
            "marker": {
             "colorbar": {
              "outlinewidth": 0,
              "ticks": ""
             }
            },
            "type": "scatterpolar"
           }
          ],
          "scatterpolargl": [
           {
            "marker": {
             "colorbar": {
              "outlinewidth": 0,
              "ticks": ""
             }
            },
            "type": "scatterpolargl"
           }
          ],
          "scatterternary": [
           {
            "marker": {
             "colorbar": {
              "outlinewidth": 0,
              "ticks": ""
             }
            },
            "type": "scatterternary"
           }
          ],
          "surface": [
           {
            "colorbar": {
             "outlinewidth": 0,
             "ticks": ""
            },
            "colorscale": [
             [
              0,
              "#0d0887"
             ],
             [
              0.1111111111111111,
              "#46039f"
             ],
             [
              0.2222222222222222,
              "#7201a8"
             ],
             [
              0.3333333333333333,
              "#9c179e"
             ],
             [
              0.4444444444444444,
              "#bd3786"
             ],
             [
              0.5555555555555556,
              "#d8576b"
             ],
             [
              0.6666666666666666,
              "#ed7953"
             ],
             [
              0.7777777777777778,
              "#fb9f3a"
             ],
             [
              0.8888888888888888,
              "#fdca26"
             ],
             [
              1,
              "#f0f921"
             ]
            ],
            "type": "surface"
           }
          ],
          "table": [
           {
            "cells": {
             "fill": {
              "color": "#EBF0F8"
             },
             "line": {
              "color": "white"
             }
            },
            "header": {
             "fill": {
              "color": "#C8D4E3"
             },
             "line": {
              "color": "white"
             }
            },
            "type": "table"
           }
          ]
         },
         "layout": {
          "annotationdefaults": {
           "arrowcolor": "#2a3f5f",
           "arrowhead": 0,
           "arrowwidth": 1
          },
          "autotypenumbers": "strict",
          "coloraxis": {
           "colorbar": {
            "outlinewidth": 0,
            "ticks": ""
           }
          },
          "colorscale": {
           "diverging": [
            [
             0,
             "#8e0152"
            ],
            [
             0.1,
             "#c51b7d"
            ],
            [
             0.2,
             "#de77ae"
            ],
            [
             0.3,
             "#f1b6da"
            ],
            [
             0.4,
             "#fde0ef"
            ],
            [
             0.5,
             "#f7f7f7"
            ],
            [
             0.6,
             "#e6f5d0"
            ],
            [
             0.7,
             "#b8e186"
            ],
            [
             0.8,
             "#7fbc41"
            ],
            [
             0.9,
             "#4d9221"
            ],
            [
             1,
             "#276419"
            ]
           ],
           "sequential": [
            [
             0,
             "#0d0887"
            ],
            [
             0.1111111111111111,
             "#46039f"
            ],
            [
             0.2222222222222222,
             "#7201a8"
            ],
            [
             0.3333333333333333,
             "#9c179e"
            ],
            [
             0.4444444444444444,
             "#bd3786"
            ],
            [
             0.5555555555555556,
             "#d8576b"
            ],
            [
             0.6666666666666666,
             "#ed7953"
            ],
            [
             0.7777777777777778,
             "#fb9f3a"
            ],
            [
             0.8888888888888888,
             "#fdca26"
            ],
            [
             1,
             "#f0f921"
            ]
           ],
           "sequentialminus": [
            [
             0,
             "#0d0887"
            ],
            [
             0.1111111111111111,
             "#46039f"
            ],
            [
             0.2222222222222222,
             "#7201a8"
            ],
            [
             0.3333333333333333,
             "#9c179e"
            ],
            [
             0.4444444444444444,
             "#bd3786"
            ],
            [
             0.5555555555555556,
             "#d8576b"
            ],
            [
             0.6666666666666666,
             "#ed7953"
            ],
            [
             0.7777777777777778,
             "#fb9f3a"
            ],
            [
             0.8888888888888888,
             "#fdca26"
            ],
            [
             1,
             "#f0f921"
            ]
           ]
          },
          "colorway": [
           "#636efa",
           "#EF553B",
           "#00cc96",
           "#ab63fa",
           "#FFA15A",
           "#19d3f3",
           "#FF6692",
           "#B6E880",
           "#FF97FF",
           "#FECB52"
          ],
          "font": {
           "color": "#2a3f5f"
          },
          "geo": {
           "bgcolor": "white",
           "lakecolor": "white",
           "landcolor": "#E5ECF6",
           "showlakes": true,
           "showland": true,
           "subunitcolor": "white"
          },
          "hoverlabel": {
           "align": "left"
          },
          "hovermode": "closest",
          "mapbox": {
           "style": "light"
          },
          "paper_bgcolor": "white",
          "plot_bgcolor": "#E5ECF6",
          "polar": {
           "angularaxis": {
            "gridcolor": "white",
            "linecolor": "white",
            "ticks": ""
           },
           "bgcolor": "#E5ECF6",
           "radialaxis": {
            "gridcolor": "white",
            "linecolor": "white",
            "ticks": ""
           }
          },
          "scene": {
           "xaxis": {
            "backgroundcolor": "#E5ECF6",
            "gridcolor": "white",
            "gridwidth": 2,
            "linecolor": "white",
            "showbackground": true,
            "ticks": "",
            "zerolinecolor": "white"
           },
           "yaxis": {
            "backgroundcolor": "#E5ECF6",
            "gridcolor": "white",
            "gridwidth": 2,
            "linecolor": "white",
            "showbackground": true,
            "ticks": "",
            "zerolinecolor": "white"
           },
           "zaxis": {
            "backgroundcolor": "#E5ECF6",
            "gridcolor": "white",
            "gridwidth": 2,
            "linecolor": "white",
            "showbackground": true,
            "ticks": "",
            "zerolinecolor": "white"
           }
          },
          "shapedefaults": {
           "line": {
            "color": "#2a3f5f"
           }
          },
          "ternary": {
           "aaxis": {
            "gridcolor": "white",
            "linecolor": "white",
            "ticks": ""
           },
           "baxis": {
            "gridcolor": "white",
            "linecolor": "white",
            "ticks": ""
           },
           "bgcolor": "#E5ECF6",
           "caxis": {
            "gridcolor": "white",
            "linecolor": "white",
            "ticks": ""
           }
          },
          "title": {
           "x": 0.05
          },
          "xaxis": {
           "automargin": true,
           "gridcolor": "white",
           "linecolor": "white",
           "ticks": "",
           "title": {
            "standoff": 15
           },
           "zerolinecolor": "white",
           "zerolinewidth": 2
          },
          "yaxis": {
           "automargin": true,
           "gridcolor": "white",
           "linecolor": "white",
           "ticks": "",
           "title": {
            "standoff": 15
           },
           "zerolinecolor": "white",
           "zerolinewidth": 2
          }
         }
        },
        "title": {
         "text": "Outliers for OXO-5FIC612A Augusta"
        },
        "xaxis": {
         "anchor": "y",
         "domain": [
          0,
          1
         ],
         "title": {
          "text": "Date"
         }
        },
        "yaxis": {
         "anchor": "x",
         "domain": [
          0,
          1
         ],
         "title": {
          "text": "Value"
         }
        }
       }
      }
     },
     "metadata": {},
     "output_type": "display_data"
    },
    {
     "name": "stdout",
     "output_type": "stream",
     "text": [
      "3 outliers detected in OXO-5FIC618A Augusta\n"
     ]
    },
    {
     "data": {
      "application/vnd.plotly.v1+json": {
       "config": {
        "plotlyServerURL": "https://plot.ly"
       },
       "data": [
        {
         "hovertemplate": "index=%{x}<br>OXO-5FIC618A Augusta=%{y}<extra></extra>",
         "legendgroup": "",
         "line": {
          "color": "#636efa",
          "dash": "solid"
         },
         "marker": {
          "symbol": "circle"
         },
         "mode": "lines",
         "name": "",
         "orientation": "v",
         "showlegend": false,
         "type": "scatter",
         "x": [
          0,
          1,
          2,
          3,
          4,
          5,
          6,
          7,
          8,
          9,
          10,
          11,
          12,
          13,
          14,
          15,
          16,
          17,
          18,
          19,
          20,
          21,
          22,
          23,
          24,
          25,
          26,
          27,
          28,
          29,
          30,
          31,
          32,
          33,
          34,
          35,
          36,
          37,
          38,
          39,
          40,
          41,
          42,
          43,
          44,
          45,
          46,
          47,
          48,
          49,
          50,
          51,
          52,
          53,
          54,
          55,
          56,
          57,
          58,
          59,
          60,
          61,
          62,
          63,
          64,
          65,
          66,
          67,
          68,
          69,
          70,
          71,
          72,
          73,
          74,
          75,
          76,
          77,
          78,
          79,
          80,
          81,
          82,
          83,
          84,
          85,
          86,
          87,
          88,
          89,
          90,
          91,
          92,
          93,
          94,
          95,
          96,
          97,
          98,
          99
         ],
         "xaxis": "x",
         "y": [
          2746.4690728305795,
          2639.0375203450526,
          2642.8009867350265,
          2639.211299641928,
          2641.9315287272143,
          2645.3323451450897,
          2651.5817342122405,
          2652.918701171876,
          2650.033500162761,
          2643.574232991537,
          2639.402290852865,
          2632.685851546359,
          2634.8438395182297,
          2533.203619436056,
          2517.560482308885,
          2518.2615397135423,
          2520.820470473346,
          2521.104132080079,
          2566.9126198508534,
          2776.363874162947,
          2830.0602294921887,
          2828.001872417356,
          2828.345048663997,
          2825.3659627278653,
          2824.3681277440605,
          2828.376904296876,
          2826.458565266928,
          2823.0350598247114,
          2825.3330851236988,
          2823.672682076447,
          2824.963130696616,
          2824.22759240415,
          2822.430220170455,
          2821.01258951823,
          2822.6057990579047,
          2836.594161608988,
          3118.1376180013026,
          3114.485162353516,
          3108.8458693047537,
          2821.5213451543136,
          2729.328068033855,
          2775.2690429687505,
          2782.561874261424,
          2795.807613152119,
          2805.291188557944,
          2811.6191672958257,
          2668.35560506185,
          2633.8362704190345,
          2632.557757568361,
          2633.598494466147,
          2634.683233642579,
          2640.890423943016,
          2648.423520914714,
          2655.054742431641,
          2659.226580659221,
          2542.118756103516,
          2522.9051330566417,
          2525.8818094889334,
          2525.8048156738287,
          2521.769369173451,
          2516.02508191826,
          2511.275124104818,
          2510.353273518881,
          2509.885017972033,
          2511.3374810337045,
          2510.1387518874744,
          2512.6771472268856,
          2597.535217798057,
          2643.707965087892,
          2644.123759119964,
          2645.237667821036,
          2643.479408772787,
          2645.482536883394,
          2656.4856859736087,
          2659.0075297037765,
          2659.167238362631,
          2658.588651529949,
          2660.8406799316417,
          2659.961492365058,
          2656.1352701822925,
          2649.1391255696626,
          2623.480641682944,
          2459.240897042412,
          2455.731703576964,
          2453.108864339193,
          2447.556374104818,
          2441.613669840496,
          2434.936578369141,
          2448.840871175132,
          2494.342100016277,
          2504.8406270345063,
          2565.796040852865,
          2586.6144775390635,
          2637.116780598959,
          2642.3011238675167,
          2643.1947428385424,
          2641.030403645834,
          2635.978450520834,
          2625.5127319335943,
          2622.12760282154
         ],
         "yaxis": "y"
        },
        {
         "mode": "markers",
         "name": "outliers",
         "type": "scatter",
         "x": [
          36,
          37,
          38
         ],
         "y": [
          3118.1376180013026,
          3114.485162353516,
          3108.8458693047537
         ]
        }
       ],
       "layout": {
        "legend": {
         "tracegroupgap": 0
        },
        "template": {
         "data": {
          "bar": [
           {
            "error_x": {
             "color": "#2a3f5f"
            },
            "error_y": {
             "color": "#2a3f5f"
            },
            "marker": {
             "line": {
              "color": "#E5ECF6",
              "width": 0.5
             },
             "pattern": {
              "fillmode": "overlay",
              "size": 10,
              "solidity": 0.2
             }
            },
            "type": "bar"
           }
          ],
          "barpolar": [
           {
            "marker": {
             "line": {
              "color": "#E5ECF6",
              "width": 0.5
             },
             "pattern": {
              "fillmode": "overlay",
              "size": 10,
              "solidity": 0.2
             }
            },
            "type": "barpolar"
           }
          ],
          "carpet": [
           {
            "aaxis": {
             "endlinecolor": "#2a3f5f",
             "gridcolor": "white",
             "linecolor": "white",
             "minorgridcolor": "white",
             "startlinecolor": "#2a3f5f"
            },
            "baxis": {
             "endlinecolor": "#2a3f5f",
             "gridcolor": "white",
             "linecolor": "white",
             "minorgridcolor": "white",
             "startlinecolor": "#2a3f5f"
            },
            "type": "carpet"
           }
          ],
          "choropleth": [
           {
            "colorbar": {
             "outlinewidth": 0,
             "ticks": ""
            },
            "type": "choropleth"
           }
          ],
          "contour": [
           {
            "colorbar": {
             "outlinewidth": 0,
             "ticks": ""
            },
            "colorscale": [
             [
              0,
              "#0d0887"
             ],
             [
              0.1111111111111111,
              "#46039f"
             ],
             [
              0.2222222222222222,
              "#7201a8"
             ],
             [
              0.3333333333333333,
              "#9c179e"
             ],
             [
              0.4444444444444444,
              "#bd3786"
             ],
             [
              0.5555555555555556,
              "#d8576b"
             ],
             [
              0.6666666666666666,
              "#ed7953"
             ],
             [
              0.7777777777777778,
              "#fb9f3a"
             ],
             [
              0.8888888888888888,
              "#fdca26"
             ],
             [
              1,
              "#f0f921"
             ]
            ],
            "type": "contour"
           }
          ],
          "contourcarpet": [
           {
            "colorbar": {
             "outlinewidth": 0,
             "ticks": ""
            },
            "type": "contourcarpet"
           }
          ],
          "heatmap": [
           {
            "colorbar": {
             "outlinewidth": 0,
             "ticks": ""
            },
            "colorscale": [
             [
              0,
              "#0d0887"
             ],
             [
              0.1111111111111111,
              "#46039f"
             ],
             [
              0.2222222222222222,
              "#7201a8"
             ],
             [
              0.3333333333333333,
              "#9c179e"
             ],
             [
              0.4444444444444444,
              "#bd3786"
             ],
             [
              0.5555555555555556,
              "#d8576b"
             ],
             [
              0.6666666666666666,
              "#ed7953"
             ],
             [
              0.7777777777777778,
              "#fb9f3a"
             ],
             [
              0.8888888888888888,
              "#fdca26"
             ],
             [
              1,
              "#f0f921"
             ]
            ],
            "type": "heatmap"
           }
          ],
          "heatmapgl": [
           {
            "colorbar": {
             "outlinewidth": 0,
             "ticks": ""
            },
            "colorscale": [
             [
              0,
              "#0d0887"
             ],
             [
              0.1111111111111111,
              "#46039f"
             ],
             [
              0.2222222222222222,
              "#7201a8"
             ],
             [
              0.3333333333333333,
              "#9c179e"
             ],
             [
              0.4444444444444444,
              "#bd3786"
             ],
             [
              0.5555555555555556,
              "#d8576b"
             ],
             [
              0.6666666666666666,
              "#ed7953"
             ],
             [
              0.7777777777777778,
              "#fb9f3a"
             ],
             [
              0.8888888888888888,
              "#fdca26"
             ],
             [
              1,
              "#f0f921"
             ]
            ],
            "type": "heatmapgl"
           }
          ],
          "histogram": [
           {
            "marker": {
             "pattern": {
              "fillmode": "overlay",
              "size": 10,
              "solidity": 0.2
             }
            },
            "type": "histogram"
           }
          ],
          "histogram2d": [
           {
            "colorbar": {
             "outlinewidth": 0,
             "ticks": ""
            },
            "colorscale": [
             [
              0,
              "#0d0887"
             ],
             [
              0.1111111111111111,
              "#46039f"
             ],
             [
              0.2222222222222222,
              "#7201a8"
             ],
             [
              0.3333333333333333,
              "#9c179e"
             ],
             [
              0.4444444444444444,
              "#bd3786"
             ],
             [
              0.5555555555555556,
              "#d8576b"
             ],
             [
              0.6666666666666666,
              "#ed7953"
             ],
             [
              0.7777777777777778,
              "#fb9f3a"
             ],
             [
              0.8888888888888888,
              "#fdca26"
             ],
             [
              1,
              "#f0f921"
             ]
            ],
            "type": "histogram2d"
           }
          ],
          "histogram2dcontour": [
           {
            "colorbar": {
             "outlinewidth": 0,
             "ticks": ""
            },
            "colorscale": [
             [
              0,
              "#0d0887"
             ],
             [
              0.1111111111111111,
              "#46039f"
             ],
             [
              0.2222222222222222,
              "#7201a8"
             ],
             [
              0.3333333333333333,
              "#9c179e"
             ],
             [
              0.4444444444444444,
              "#bd3786"
             ],
             [
              0.5555555555555556,
              "#d8576b"
             ],
             [
              0.6666666666666666,
              "#ed7953"
             ],
             [
              0.7777777777777778,
              "#fb9f3a"
             ],
             [
              0.8888888888888888,
              "#fdca26"
             ],
             [
              1,
              "#f0f921"
             ]
            ],
            "type": "histogram2dcontour"
           }
          ],
          "mesh3d": [
           {
            "colorbar": {
             "outlinewidth": 0,
             "ticks": ""
            },
            "type": "mesh3d"
           }
          ],
          "parcoords": [
           {
            "line": {
             "colorbar": {
              "outlinewidth": 0,
              "ticks": ""
             }
            },
            "type": "parcoords"
           }
          ],
          "pie": [
           {
            "automargin": true,
            "type": "pie"
           }
          ],
          "scatter": [
           {
            "fillpattern": {
             "fillmode": "overlay",
             "size": 10,
             "solidity": 0.2
            },
            "type": "scatter"
           }
          ],
          "scatter3d": [
           {
            "line": {
             "colorbar": {
              "outlinewidth": 0,
              "ticks": ""
             }
            },
            "marker": {
             "colorbar": {
              "outlinewidth": 0,
              "ticks": ""
             }
            },
            "type": "scatter3d"
           }
          ],
          "scattercarpet": [
           {
            "marker": {
             "colorbar": {
              "outlinewidth": 0,
              "ticks": ""
             }
            },
            "type": "scattercarpet"
           }
          ],
          "scattergeo": [
           {
            "marker": {
             "colorbar": {
              "outlinewidth": 0,
              "ticks": ""
             }
            },
            "type": "scattergeo"
           }
          ],
          "scattergl": [
           {
            "marker": {
             "colorbar": {
              "outlinewidth": 0,
              "ticks": ""
             }
            },
            "type": "scattergl"
           }
          ],
          "scattermapbox": [
           {
            "marker": {
             "colorbar": {
              "outlinewidth": 0,
              "ticks": ""
             }
            },
            "type": "scattermapbox"
           }
          ],
          "scatterpolar": [
           {
            "marker": {
             "colorbar": {
              "outlinewidth": 0,
              "ticks": ""
             }
            },
            "type": "scatterpolar"
           }
          ],
          "scatterpolargl": [
           {
            "marker": {
             "colorbar": {
              "outlinewidth": 0,
              "ticks": ""
             }
            },
            "type": "scatterpolargl"
           }
          ],
          "scatterternary": [
           {
            "marker": {
             "colorbar": {
              "outlinewidth": 0,
              "ticks": ""
             }
            },
            "type": "scatterternary"
           }
          ],
          "surface": [
           {
            "colorbar": {
             "outlinewidth": 0,
             "ticks": ""
            },
            "colorscale": [
             [
              0,
              "#0d0887"
             ],
             [
              0.1111111111111111,
              "#46039f"
             ],
             [
              0.2222222222222222,
              "#7201a8"
             ],
             [
              0.3333333333333333,
              "#9c179e"
             ],
             [
              0.4444444444444444,
              "#bd3786"
             ],
             [
              0.5555555555555556,
              "#d8576b"
             ],
             [
              0.6666666666666666,
              "#ed7953"
             ],
             [
              0.7777777777777778,
              "#fb9f3a"
             ],
             [
              0.8888888888888888,
              "#fdca26"
             ],
             [
              1,
              "#f0f921"
             ]
            ],
            "type": "surface"
           }
          ],
          "table": [
           {
            "cells": {
             "fill": {
              "color": "#EBF0F8"
             },
             "line": {
              "color": "white"
             }
            },
            "header": {
             "fill": {
              "color": "#C8D4E3"
             },
             "line": {
              "color": "white"
             }
            },
            "type": "table"
           }
          ]
         },
         "layout": {
          "annotationdefaults": {
           "arrowcolor": "#2a3f5f",
           "arrowhead": 0,
           "arrowwidth": 1
          },
          "autotypenumbers": "strict",
          "coloraxis": {
           "colorbar": {
            "outlinewidth": 0,
            "ticks": ""
           }
          },
          "colorscale": {
           "diverging": [
            [
             0,
             "#8e0152"
            ],
            [
             0.1,
             "#c51b7d"
            ],
            [
             0.2,
             "#de77ae"
            ],
            [
             0.3,
             "#f1b6da"
            ],
            [
             0.4,
             "#fde0ef"
            ],
            [
             0.5,
             "#f7f7f7"
            ],
            [
             0.6,
             "#e6f5d0"
            ],
            [
             0.7,
             "#b8e186"
            ],
            [
             0.8,
             "#7fbc41"
            ],
            [
             0.9,
             "#4d9221"
            ],
            [
             1,
             "#276419"
            ]
           ],
           "sequential": [
            [
             0,
             "#0d0887"
            ],
            [
             0.1111111111111111,
             "#46039f"
            ],
            [
             0.2222222222222222,
             "#7201a8"
            ],
            [
             0.3333333333333333,
             "#9c179e"
            ],
            [
             0.4444444444444444,
             "#bd3786"
            ],
            [
             0.5555555555555556,
             "#d8576b"
            ],
            [
             0.6666666666666666,
             "#ed7953"
            ],
            [
             0.7777777777777778,
             "#fb9f3a"
            ],
            [
             0.8888888888888888,
             "#fdca26"
            ],
            [
             1,
             "#f0f921"
            ]
           ],
           "sequentialminus": [
            [
             0,
             "#0d0887"
            ],
            [
             0.1111111111111111,
             "#46039f"
            ],
            [
             0.2222222222222222,
             "#7201a8"
            ],
            [
             0.3333333333333333,
             "#9c179e"
            ],
            [
             0.4444444444444444,
             "#bd3786"
            ],
            [
             0.5555555555555556,
             "#d8576b"
            ],
            [
             0.6666666666666666,
             "#ed7953"
            ],
            [
             0.7777777777777778,
             "#fb9f3a"
            ],
            [
             0.8888888888888888,
             "#fdca26"
            ],
            [
             1,
             "#f0f921"
            ]
           ]
          },
          "colorway": [
           "#636efa",
           "#EF553B",
           "#00cc96",
           "#ab63fa",
           "#FFA15A",
           "#19d3f3",
           "#FF6692",
           "#B6E880",
           "#FF97FF",
           "#FECB52"
          ],
          "font": {
           "color": "#2a3f5f"
          },
          "geo": {
           "bgcolor": "white",
           "lakecolor": "white",
           "landcolor": "#E5ECF6",
           "showlakes": true,
           "showland": true,
           "subunitcolor": "white"
          },
          "hoverlabel": {
           "align": "left"
          },
          "hovermode": "closest",
          "mapbox": {
           "style": "light"
          },
          "paper_bgcolor": "white",
          "plot_bgcolor": "#E5ECF6",
          "polar": {
           "angularaxis": {
            "gridcolor": "white",
            "linecolor": "white",
            "ticks": ""
           },
           "bgcolor": "#E5ECF6",
           "radialaxis": {
            "gridcolor": "white",
            "linecolor": "white",
            "ticks": ""
           }
          },
          "scene": {
           "xaxis": {
            "backgroundcolor": "#E5ECF6",
            "gridcolor": "white",
            "gridwidth": 2,
            "linecolor": "white",
            "showbackground": true,
            "ticks": "",
            "zerolinecolor": "white"
           },
           "yaxis": {
            "backgroundcolor": "#E5ECF6",
            "gridcolor": "white",
            "gridwidth": 2,
            "linecolor": "white",
            "showbackground": true,
            "ticks": "",
            "zerolinecolor": "white"
           },
           "zaxis": {
            "backgroundcolor": "#E5ECF6",
            "gridcolor": "white",
            "gridwidth": 2,
            "linecolor": "white",
            "showbackground": true,
            "ticks": "",
            "zerolinecolor": "white"
           }
          },
          "shapedefaults": {
           "line": {
            "color": "#2a3f5f"
           }
          },
          "ternary": {
           "aaxis": {
            "gridcolor": "white",
            "linecolor": "white",
            "ticks": ""
           },
           "baxis": {
            "gridcolor": "white",
            "linecolor": "white",
            "ticks": ""
           },
           "bgcolor": "#E5ECF6",
           "caxis": {
            "gridcolor": "white",
            "linecolor": "white",
            "ticks": ""
           }
          },
          "title": {
           "x": 0.05
          },
          "xaxis": {
           "automargin": true,
           "gridcolor": "white",
           "linecolor": "white",
           "ticks": "",
           "title": {
            "standoff": 15
           },
           "zerolinecolor": "white",
           "zerolinewidth": 2
          },
          "yaxis": {
           "automargin": true,
           "gridcolor": "white",
           "linecolor": "white",
           "ticks": "",
           "title": {
            "standoff": 15
           },
           "zerolinecolor": "white",
           "zerolinewidth": 2
          }
         }
        },
        "title": {
         "text": "Outliers for OXO-5FIC618A Augusta"
        },
        "xaxis": {
         "anchor": "y",
         "domain": [
          0,
          1
         ],
         "title": {
          "text": "Date"
         }
        },
        "yaxis": {
         "anchor": "x",
         "domain": [
          0,
          1
         ],
         "title": {
          "text": "Value"
         }
        }
       }
      }
     },
     "metadata": {},
     "output_type": "display_data"
    },
    {
     "name": "stdout",
     "output_type": "stream",
     "text": [
      "3 outliers detected in OXO-5FIC618D Augusta\n"
     ]
    },
    {
     "data": {
      "application/vnd.plotly.v1+json": {
       "config": {
        "plotlyServerURL": "https://plot.ly"
       },
       "data": [
        {
         "hovertemplate": "index=%{x}<br>OXO-5FIC618D Augusta=%{y}<extra></extra>",
         "legendgroup": "",
         "line": {
          "color": "#636efa",
          "dash": "solid"
         },
         "marker": {
          "symbol": "circle"
         },
         "mode": "lines",
         "name": "",
         "orientation": "v",
         "showlegend": false,
         "type": "scatter",
         "x": [
          0,
          1,
          2,
          3,
          4,
          5,
          6,
          7,
          8,
          9,
          10,
          11,
          12,
          13,
          14,
          15,
          16,
          17,
          18,
          19,
          20,
          21,
          22,
          23,
          24,
          25,
          26,
          27,
          28,
          29,
          30,
          31,
          32,
          33,
          34,
          35,
          36,
          37,
          38,
          39,
          40,
          41,
          42,
          43,
          44,
          45,
          46,
          47,
          48,
          49,
          50,
          51,
          52,
          53,
          54,
          55,
          56,
          57,
          58,
          59,
          60,
          61,
          62,
          63,
          64,
          65,
          66,
          67,
          68,
          69,
          70,
          71,
          72,
          73,
          74,
          75,
          76,
          77,
          78,
          79,
          80,
          81,
          82,
          83,
          84,
          85,
          86,
          87,
          88,
          89,
          90,
          91,
          92,
          93,
          94,
          95,
          96,
          97,
          98,
          99
         ],
         "xaxis": "x",
         "y": [
          2224.160099283856,
          2178.4199259440115,
          2178.2493455389977,
          2177.2428150019377,
          2159.428598099397,
          2166.405183919272,
          2132.3489400227872,
          2141.6470255533864,
          2157.456235758465,
          2152.4268768562765,
          2142.721111393777,
          2163.0751993815115,
          2288.8516795260853,
          2125.916990152996,
          2132.906164550782,
          2144.959582519532,
          2152.353918457032,
          2189.041050502233,
          2209.881905110678,
          2180.420692633007,
          2198.7335225423185,
          2175.184796142579,
          2148.974304199219,
          2141.66854319853,
          2144.1595133463547,
          2149.258544921876,
          2155.6666646321623,
          2211.3523437500003,
          2186.7391064856674,
          2150.295953830752,
          2135.8356913416847,
          2154.9626037597664,
          2160.307221228336,
          2159.7843653150835,
          2154.615824381511,
          2150.6625832950376,
          2153.5977066922787,
          2139.514613850912,
          2141.193963623048,
          2091.1807383219407,
          2057.589393423386,
          2129.309642537436,
          2218.631747159092,
          2168.0365112304694,
          2167.4581298828134,
          2166.55878092448,
          2166.974208577475,
          2146.791878255209,
          2133.571682970064,
          2157.7747348753883,
          2191.21908569336,
          2163.011568196616,
          2166.650490315756,
          2152.564337158204,
          2149.252207523635,
          2168.832690429688,
          2163.546712239584,
          2162.996927897136,
          2164.6137130359,
          2165.6177783613457,
          2163.059176862733,
          2154.012943522136,
          2148.377891031902,
          2178.8407485064345,
          2184.049725997548,
          2232.847085904675,
          2158.7219339165813,
          2171.577380371095,
          2136.592761230469,
          2155.98082572873,
          2152.076190034221,
          2150.8666684447226,
          2295.7580828706105,
          2146.841426595053,
          2133.2423990885427,
          2143.5631811318285,
          2163.315708128875,
          2159.462095133464,
          2124.3141682942714,
          2122.284144810269,
          2131.593663239283,
          2144.259867350261,
          2152.9830708821623,
          2150.5154174804698,
          2147.9286001509986,
          2151.6554429235543,
          2167.8060518152583,
          2174.555623372397,
          2208.056235069086,
          2161.888838704428,
          2158.118322753908,
          2175.4222412109384,
          2170.952677408855,
          2170.15995279948,
          2154.758805475316,
          2222.069095832258,
          2194.795717366537,
          2169.3339579264334,
          2162.5295471191416,
          2142.6991325827216
         ],
         "yaxis": "y"
        },
        {
         "mode": "markers",
         "name": "outliers",
         "type": "scatter",
         "x": [
          12,
          40,
          72
         ],
         "y": [
          2288.8516795260853,
          2057.589393423386,
          2295.7580828706105
         ]
        }
       ],
       "layout": {
        "legend": {
         "tracegroupgap": 0
        },
        "template": {
         "data": {
          "bar": [
           {
            "error_x": {
             "color": "#2a3f5f"
            },
            "error_y": {
             "color": "#2a3f5f"
            },
            "marker": {
             "line": {
              "color": "#E5ECF6",
              "width": 0.5
             },
             "pattern": {
              "fillmode": "overlay",
              "size": 10,
              "solidity": 0.2
             }
            },
            "type": "bar"
           }
          ],
          "barpolar": [
           {
            "marker": {
             "line": {
              "color": "#E5ECF6",
              "width": 0.5
             },
             "pattern": {
              "fillmode": "overlay",
              "size": 10,
              "solidity": 0.2
             }
            },
            "type": "barpolar"
           }
          ],
          "carpet": [
           {
            "aaxis": {
             "endlinecolor": "#2a3f5f",
             "gridcolor": "white",
             "linecolor": "white",
             "minorgridcolor": "white",
             "startlinecolor": "#2a3f5f"
            },
            "baxis": {
             "endlinecolor": "#2a3f5f",
             "gridcolor": "white",
             "linecolor": "white",
             "minorgridcolor": "white",
             "startlinecolor": "#2a3f5f"
            },
            "type": "carpet"
           }
          ],
          "choropleth": [
           {
            "colorbar": {
             "outlinewidth": 0,
             "ticks": ""
            },
            "type": "choropleth"
           }
          ],
          "contour": [
           {
            "colorbar": {
             "outlinewidth": 0,
             "ticks": ""
            },
            "colorscale": [
             [
              0,
              "#0d0887"
             ],
             [
              0.1111111111111111,
              "#46039f"
             ],
             [
              0.2222222222222222,
              "#7201a8"
             ],
             [
              0.3333333333333333,
              "#9c179e"
             ],
             [
              0.4444444444444444,
              "#bd3786"
             ],
             [
              0.5555555555555556,
              "#d8576b"
             ],
             [
              0.6666666666666666,
              "#ed7953"
             ],
             [
              0.7777777777777778,
              "#fb9f3a"
             ],
             [
              0.8888888888888888,
              "#fdca26"
             ],
             [
              1,
              "#f0f921"
             ]
            ],
            "type": "contour"
           }
          ],
          "contourcarpet": [
           {
            "colorbar": {
             "outlinewidth": 0,
             "ticks": ""
            },
            "type": "contourcarpet"
           }
          ],
          "heatmap": [
           {
            "colorbar": {
             "outlinewidth": 0,
             "ticks": ""
            },
            "colorscale": [
             [
              0,
              "#0d0887"
             ],
             [
              0.1111111111111111,
              "#46039f"
             ],
             [
              0.2222222222222222,
              "#7201a8"
             ],
             [
              0.3333333333333333,
              "#9c179e"
             ],
             [
              0.4444444444444444,
              "#bd3786"
             ],
             [
              0.5555555555555556,
              "#d8576b"
             ],
             [
              0.6666666666666666,
              "#ed7953"
             ],
             [
              0.7777777777777778,
              "#fb9f3a"
             ],
             [
              0.8888888888888888,
              "#fdca26"
             ],
             [
              1,
              "#f0f921"
             ]
            ],
            "type": "heatmap"
           }
          ],
          "heatmapgl": [
           {
            "colorbar": {
             "outlinewidth": 0,
             "ticks": ""
            },
            "colorscale": [
             [
              0,
              "#0d0887"
             ],
             [
              0.1111111111111111,
              "#46039f"
             ],
             [
              0.2222222222222222,
              "#7201a8"
             ],
             [
              0.3333333333333333,
              "#9c179e"
             ],
             [
              0.4444444444444444,
              "#bd3786"
             ],
             [
              0.5555555555555556,
              "#d8576b"
             ],
             [
              0.6666666666666666,
              "#ed7953"
             ],
             [
              0.7777777777777778,
              "#fb9f3a"
             ],
             [
              0.8888888888888888,
              "#fdca26"
             ],
             [
              1,
              "#f0f921"
             ]
            ],
            "type": "heatmapgl"
           }
          ],
          "histogram": [
           {
            "marker": {
             "pattern": {
              "fillmode": "overlay",
              "size": 10,
              "solidity": 0.2
             }
            },
            "type": "histogram"
           }
          ],
          "histogram2d": [
           {
            "colorbar": {
             "outlinewidth": 0,
             "ticks": ""
            },
            "colorscale": [
             [
              0,
              "#0d0887"
             ],
             [
              0.1111111111111111,
              "#46039f"
             ],
             [
              0.2222222222222222,
              "#7201a8"
             ],
             [
              0.3333333333333333,
              "#9c179e"
             ],
             [
              0.4444444444444444,
              "#bd3786"
             ],
             [
              0.5555555555555556,
              "#d8576b"
             ],
             [
              0.6666666666666666,
              "#ed7953"
             ],
             [
              0.7777777777777778,
              "#fb9f3a"
             ],
             [
              0.8888888888888888,
              "#fdca26"
             ],
             [
              1,
              "#f0f921"
             ]
            ],
            "type": "histogram2d"
           }
          ],
          "histogram2dcontour": [
           {
            "colorbar": {
             "outlinewidth": 0,
             "ticks": ""
            },
            "colorscale": [
             [
              0,
              "#0d0887"
             ],
             [
              0.1111111111111111,
              "#46039f"
             ],
             [
              0.2222222222222222,
              "#7201a8"
             ],
             [
              0.3333333333333333,
              "#9c179e"
             ],
             [
              0.4444444444444444,
              "#bd3786"
             ],
             [
              0.5555555555555556,
              "#d8576b"
             ],
             [
              0.6666666666666666,
              "#ed7953"
             ],
             [
              0.7777777777777778,
              "#fb9f3a"
             ],
             [
              0.8888888888888888,
              "#fdca26"
             ],
             [
              1,
              "#f0f921"
             ]
            ],
            "type": "histogram2dcontour"
           }
          ],
          "mesh3d": [
           {
            "colorbar": {
             "outlinewidth": 0,
             "ticks": ""
            },
            "type": "mesh3d"
           }
          ],
          "parcoords": [
           {
            "line": {
             "colorbar": {
              "outlinewidth": 0,
              "ticks": ""
             }
            },
            "type": "parcoords"
           }
          ],
          "pie": [
           {
            "automargin": true,
            "type": "pie"
           }
          ],
          "scatter": [
           {
            "fillpattern": {
             "fillmode": "overlay",
             "size": 10,
             "solidity": 0.2
            },
            "type": "scatter"
           }
          ],
          "scatter3d": [
           {
            "line": {
             "colorbar": {
              "outlinewidth": 0,
              "ticks": ""
             }
            },
            "marker": {
             "colorbar": {
              "outlinewidth": 0,
              "ticks": ""
             }
            },
            "type": "scatter3d"
           }
          ],
          "scattercarpet": [
           {
            "marker": {
             "colorbar": {
              "outlinewidth": 0,
              "ticks": ""
             }
            },
            "type": "scattercarpet"
           }
          ],
          "scattergeo": [
           {
            "marker": {
             "colorbar": {
              "outlinewidth": 0,
              "ticks": ""
             }
            },
            "type": "scattergeo"
           }
          ],
          "scattergl": [
           {
            "marker": {
             "colorbar": {
              "outlinewidth": 0,
              "ticks": ""
             }
            },
            "type": "scattergl"
           }
          ],
          "scattermapbox": [
           {
            "marker": {
             "colorbar": {
              "outlinewidth": 0,
              "ticks": ""
             }
            },
            "type": "scattermapbox"
           }
          ],
          "scatterpolar": [
           {
            "marker": {
             "colorbar": {
              "outlinewidth": 0,
              "ticks": ""
             }
            },
            "type": "scatterpolar"
           }
          ],
          "scatterpolargl": [
           {
            "marker": {
             "colorbar": {
              "outlinewidth": 0,
              "ticks": ""
             }
            },
            "type": "scatterpolargl"
           }
          ],
          "scatterternary": [
           {
            "marker": {
             "colorbar": {
              "outlinewidth": 0,
              "ticks": ""
             }
            },
            "type": "scatterternary"
           }
          ],
          "surface": [
           {
            "colorbar": {
             "outlinewidth": 0,
             "ticks": ""
            },
            "colorscale": [
             [
              0,
              "#0d0887"
             ],
             [
              0.1111111111111111,
              "#46039f"
             ],
             [
              0.2222222222222222,
              "#7201a8"
             ],
             [
              0.3333333333333333,
              "#9c179e"
             ],
             [
              0.4444444444444444,
              "#bd3786"
             ],
             [
              0.5555555555555556,
              "#d8576b"
             ],
             [
              0.6666666666666666,
              "#ed7953"
             ],
             [
              0.7777777777777778,
              "#fb9f3a"
             ],
             [
              0.8888888888888888,
              "#fdca26"
             ],
             [
              1,
              "#f0f921"
             ]
            ],
            "type": "surface"
           }
          ],
          "table": [
           {
            "cells": {
             "fill": {
              "color": "#EBF0F8"
             },
             "line": {
              "color": "white"
             }
            },
            "header": {
             "fill": {
              "color": "#C8D4E3"
             },
             "line": {
              "color": "white"
             }
            },
            "type": "table"
           }
          ]
         },
         "layout": {
          "annotationdefaults": {
           "arrowcolor": "#2a3f5f",
           "arrowhead": 0,
           "arrowwidth": 1
          },
          "autotypenumbers": "strict",
          "coloraxis": {
           "colorbar": {
            "outlinewidth": 0,
            "ticks": ""
           }
          },
          "colorscale": {
           "diverging": [
            [
             0,
             "#8e0152"
            ],
            [
             0.1,
             "#c51b7d"
            ],
            [
             0.2,
             "#de77ae"
            ],
            [
             0.3,
             "#f1b6da"
            ],
            [
             0.4,
             "#fde0ef"
            ],
            [
             0.5,
             "#f7f7f7"
            ],
            [
             0.6,
             "#e6f5d0"
            ],
            [
             0.7,
             "#b8e186"
            ],
            [
             0.8,
             "#7fbc41"
            ],
            [
             0.9,
             "#4d9221"
            ],
            [
             1,
             "#276419"
            ]
           ],
           "sequential": [
            [
             0,
             "#0d0887"
            ],
            [
             0.1111111111111111,
             "#46039f"
            ],
            [
             0.2222222222222222,
             "#7201a8"
            ],
            [
             0.3333333333333333,
             "#9c179e"
            ],
            [
             0.4444444444444444,
             "#bd3786"
            ],
            [
             0.5555555555555556,
             "#d8576b"
            ],
            [
             0.6666666666666666,
             "#ed7953"
            ],
            [
             0.7777777777777778,
             "#fb9f3a"
            ],
            [
             0.8888888888888888,
             "#fdca26"
            ],
            [
             1,
             "#f0f921"
            ]
           ],
           "sequentialminus": [
            [
             0,
             "#0d0887"
            ],
            [
             0.1111111111111111,
             "#46039f"
            ],
            [
             0.2222222222222222,
             "#7201a8"
            ],
            [
             0.3333333333333333,
             "#9c179e"
            ],
            [
             0.4444444444444444,
             "#bd3786"
            ],
            [
             0.5555555555555556,
             "#d8576b"
            ],
            [
             0.6666666666666666,
             "#ed7953"
            ],
            [
             0.7777777777777778,
             "#fb9f3a"
            ],
            [
             0.8888888888888888,
             "#fdca26"
            ],
            [
             1,
             "#f0f921"
            ]
           ]
          },
          "colorway": [
           "#636efa",
           "#EF553B",
           "#00cc96",
           "#ab63fa",
           "#FFA15A",
           "#19d3f3",
           "#FF6692",
           "#B6E880",
           "#FF97FF",
           "#FECB52"
          ],
          "font": {
           "color": "#2a3f5f"
          },
          "geo": {
           "bgcolor": "white",
           "lakecolor": "white",
           "landcolor": "#E5ECF6",
           "showlakes": true,
           "showland": true,
           "subunitcolor": "white"
          },
          "hoverlabel": {
           "align": "left"
          },
          "hovermode": "closest",
          "mapbox": {
           "style": "light"
          },
          "paper_bgcolor": "white",
          "plot_bgcolor": "#E5ECF6",
          "polar": {
           "angularaxis": {
            "gridcolor": "white",
            "linecolor": "white",
            "ticks": ""
           },
           "bgcolor": "#E5ECF6",
           "radialaxis": {
            "gridcolor": "white",
            "linecolor": "white",
            "ticks": ""
           }
          },
          "scene": {
           "xaxis": {
            "backgroundcolor": "#E5ECF6",
            "gridcolor": "white",
            "gridwidth": 2,
            "linecolor": "white",
            "showbackground": true,
            "ticks": "",
            "zerolinecolor": "white"
           },
           "yaxis": {
            "backgroundcolor": "#E5ECF6",
            "gridcolor": "white",
            "gridwidth": 2,
            "linecolor": "white",
            "showbackground": true,
            "ticks": "",
            "zerolinecolor": "white"
           },
           "zaxis": {
            "backgroundcolor": "#E5ECF6",
            "gridcolor": "white",
            "gridwidth": 2,
            "linecolor": "white",
            "showbackground": true,
            "ticks": "",
            "zerolinecolor": "white"
           }
          },
          "shapedefaults": {
           "line": {
            "color": "#2a3f5f"
           }
          },
          "ternary": {
           "aaxis": {
            "gridcolor": "white",
            "linecolor": "white",
            "ticks": ""
           },
           "baxis": {
            "gridcolor": "white",
            "linecolor": "white",
            "ticks": ""
           },
           "bgcolor": "#E5ECF6",
           "caxis": {
            "gridcolor": "white",
            "linecolor": "white",
            "ticks": ""
           }
          },
          "title": {
           "x": 0.05
          },
          "xaxis": {
           "automargin": true,
           "gridcolor": "white",
           "linecolor": "white",
           "ticks": "",
           "title": {
            "standoff": 15
           },
           "zerolinecolor": "white",
           "zerolinewidth": 2
          },
          "yaxis": {
           "automargin": true,
           "gridcolor": "white",
           "linecolor": "white",
           "ticks": "",
           "title": {
            "standoff": 15
           },
           "zerolinecolor": "white",
           "zerolinewidth": 2
          }
         }
        },
        "title": {
         "text": "Outliers for OXO-5FIC618D Augusta"
        },
        "xaxis": {
         "anchor": "y",
         "domain": [
          0,
          1
         ],
         "title": {
          "text": "Date"
         }
        },
        "yaxis": {
         "anchor": "x",
         "domain": [
          0,
          1
         ],
         "title": {
          "text": "Value"
         }
        }
       }
      }
     },
     "metadata": {},
     "output_type": "display_data"
    },
    {
     "name": "stdout",
     "output_type": "stream",
     "text": [
      "4 outliers detected in OXO-5FIC622A Augusta\n"
     ]
    },
    {
     "data": {
      "application/vnd.plotly.v1+json": {
       "config": {
        "plotlyServerURL": "https://plot.ly"
       },
       "data": [
        {
         "hovertemplate": "index=%{x}<br>OXO-5FIC622A Augusta=%{y}<extra></extra>",
         "legendgroup": "",
         "line": {
          "color": "#636efa",
          "dash": "solid"
         },
         "marker": {
          "symbol": "circle"
         },
         "mode": "lines",
         "name": "",
         "orientation": "v",
         "showlegend": false,
         "type": "scatter",
         "x": [
          0,
          1,
          2,
          3,
          4,
          5,
          6,
          7,
          8,
          9,
          10,
          11,
          12,
          13,
          14,
          15,
          16,
          17,
          18,
          19,
          20,
          21,
          22,
          23,
          24,
          25,
          26,
          27,
          28,
          29,
          30,
          31,
          32,
          33,
          34,
          35,
          36,
          37,
          38,
          39,
          40,
          41,
          42,
          43,
          44,
          45,
          46,
          47,
          48,
          49,
          50,
          51,
          52,
          53,
          54,
          55,
          56,
          57,
          58,
          59,
          60,
          61,
          62,
          63,
          64,
          65,
          66,
          67,
          68,
          69,
          70,
          71,
          72,
          73,
          74,
          75,
          76,
          77,
          78,
          79,
          80,
          81,
          82,
          83,
          84,
          85,
          86,
          87,
          88,
          89,
          90,
          91,
          92,
          93,
          94,
          95,
          96,
          97,
          98,
          99
         ],
         "xaxis": "x",
         "y": [
          0.0001204371459657,
          0,
          0.0004327776023009,
          0.0001302666573909,
          0,
          0,
          0,
          0,
          0.0008893969332546,
          0.002178558472803,
          0.0341988183247452,
          0.0074461318839235,
          0.0368540647856961,
          0.000059000717190057245,
          0,
          0,
          0.0001024516314776,
          0,
          0,
          0,
          0,
          0,
          0,
          0,
          0,
          0,
          0,
          0,
          0,
          0,
          0,
          0.0008893969332546,
          0.0001411130951294,
          0,
          0.0115472677979547,
          0.0112547176026345,
          0.0028948505614776,
          0.0001726190191162,
          0.1319477172771108,
          0.2822285037073925,
          0.0337557125565653,
          0.0253182973842442,
          0.0341839145429195,
          0.0028039045613284,
          0.0000025792298611564864,
          2.742527784144555e-7,
          0,
          0,
          0,
          0,
          0,
          0,
          0,
          0,
          0,
          0,
          0,
          0.000001254963515408022,
          0.0019822770336179,
          0.0023628453520907,
          0.1518769233654913,
          0.7388246534935508,
          0.3622458977114518,
          0.1306510691442352,
          0.0167359524993952,
          0.5901467112099549,
          0.0003369092387586,
          0.0008861112244462,
          0.0021103016589798,
          0.0011741951958725,
          0.0019407720601303,
          0.0315585466131569,
          0.5065629105127993,
          0,
          0.0003142074061143,
          0,
          0,
          0,
          0,
          0,
          0.000016637150909367112,
          0.0003884214879875,
          0.4574897760660093,
          0.1070070147326053,
          0.0208991089836931,
          0.0454419809333222,
          0.0182999077744272,
          0.0220288997751342,
          0.0236546906450724,
          0.0015132847547211,
          0.000012785925936937098,
          0.0014624673131649,
          0,
          0.0005086499504741,
          0.00003493419781419159,
          0.0002471326357355,
          0.0003899990428731,
          0.0012517773872101,
          0.000048595498707923067,
          0.00008058619113712727
         ],
         "yaxis": "y"
        },
        {
         "mode": "markers",
         "name": "outliers",
         "type": "scatter",
         "x": [
          61,
          65,
          72,
          82
         ],
         "y": [
          0.7388246534935508,
          0.5901467112099549,
          0.5065629105127993,
          0.4574897760660093
         ]
        }
       ],
       "layout": {
        "legend": {
         "tracegroupgap": 0
        },
        "template": {
         "data": {
          "bar": [
           {
            "error_x": {
             "color": "#2a3f5f"
            },
            "error_y": {
             "color": "#2a3f5f"
            },
            "marker": {
             "line": {
              "color": "#E5ECF6",
              "width": 0.5
             },
             "pattern": {
              "fillmode": "overlay",
              "size": 10,
              "solidity": 0.2
             }
            },
            "type": "bar"
           }
          ],
          "barpolar": [
           {
            "marker": {
             "line": {
              "color": "#E5ECF6",
              "width": 0.5
             },
             "pattern": {
              "fillmode": "overlay",
              "size": 10,
              "solidity": 0.2
             }
            },
            "type": "barpolar"
           }
          ],
          "carpet": [
           {
            "aaxis": {
             "endlinecolor": "#2a3f5f",
             "gridcolor": "white",
             "linecolor": "white",
             "minorgridcolor": "white",
             "startlinecolor": "#2a3f5f"
            },
            "baxis": {
             "endlinecolor": "#2a3f5f",
             "gridcolor": "white",
             "linecolor": "white",
             "minorgridcolor": "white",
             "startlinecolor": "#2a3f5f"
            },
            "type": "carpet"
           }
          ],
          "choropleth": [
           {
            "colorbar": {
             "outlinewidth": 0,
             "ticks": ""
            },
            "type": "choropleth"
           }
          ],
          "contour": [
           {
            "colorbar": {
             "outlinewidth": 0,
             "ticks": ""
            },
            "colorscale": [
             [
              0,
              "#0d0887"
             ],
             [
              0.1111111111111111,
              "#46039f"
             ],
             [
              0.2222222222222222,
              "#7201a8"
             ],
             [
              0.3333333333333333,
              "#9c179e"
             ],
             [
              0.4444444444444444,
              "#bd3786"
             ],
             [
              0.5555555555555556,
              "#d8576b"
             ],
             [
              0.6666666666666666,
              "#ed7953"
             ],
             [
              0.7777777777777778,
              "#fb9f3a"
             ],
             [
              0.8888888888888888,
              "#fdca26"
             ],
             [
              1,
              "#f0f921"
             ]
            ],
            "type": "contour"
           }
          ],
          "contourcarpet": [
           {
            "colorbar": {
             "outlinewidth": 0,
             "ticks": ""
            },
            "type": "contourcarpet"
           }
          ],
          "heatmap": [
           {
            "colorbar": {
             "outlinewidth": 0,
             "ticks": ""
            },
            "colorscale": [
             [
              0,
              "#0d0887"
             ],
             [
              0.1111111111111111,
              "#46039f"
             ],
             [
              0.2222222222222222,
              "#7201a8"
             ],
             [
              0.3333333333333333,
              "#9c179e"
             ],
             [
              0.4444444444444444,
              "#bd3786"
             ],
             [
              0.5555555555555556,
              "#d8576b"
             ],
             [
              0.6666666666666666,
              "#ed7953"
             ],
             [
              0.7777777777777778,
              "#fb9f3a"
             ],
             [
              0.8888888888888888,
              "#fdca26"
             ],
             [
              1,
              "#f0f921"
             ]
            ],
            "type": "heatmap"
           }
          ],
          "heatmapgl": [
           {
            "colorbar": {
             "outlinewidth": 0,
             "ticks": ""
            },
            "colorscale": [
             [
              0,
              "#0d0887"
             ],
             [
              0.1111111111111111,
              "#46039f"
             ],
             [
              0.2222222222222222,
              "#7201a8"
             ],
             [
              0.3333333333333333,
              "#9c179e"
             ],
             [
              0.4444444444444444,
              "#bd3786"
             ],
             [
              0.5555555555555556,
              "#d8576b"
             ],
             [
              0.6666666666666666,
              "#ed7953"
             ],
             [
              0.7777777777777778,
              "#fb9f3a"
             ],
             [
              0.8888888888888888,
              "#fdca26"
             ],
             [
              1,
              "#f0f921"
             ]
            ],
            "type": "heatmapgl"
           }
          ],
          "histogram": [
           {
            "marker": {
             "pattern": {
              "fillmode": "overlay",
              "size": 10,
              "solidity": 0.2
             }
            },
            "type": "histogram"
           }
          ],
          "histogram2d": [
           {
            "colorbar": {
             "outlinewidth": 0,
             "ticks": ""
            },
            "colorscale": [
             [
              0,
              "#0d0887"
             ],
             [
              0.1111111111111111,
              "#46039f"
             ],
             [
              0.2222222222222222,
              "#7201a8"
             ],
             [
              0.3333333333333333,
              "#9c179e"
             ],
             [
              0.4444444444444444,
              "#bd3786"
             ],
             [
              0.5555555555555556,
              "#d8576b"
             ],
             [
              0.6666666666666666,
              "#ed7953"
             ],
             [
              0.7777777777777778,
              "#fb9f3a"
             ],
             [
              0.8888888888888888,
              "#fdca26"
             ],
             [
              1,
              "#f0f921"
             ]
            ],
            "type": "histogram2d"
           }
          ],
          "histogram2dcontour": [
           {
            "colorbar": {
             "outlinewidth": 0,
             "ticks": ""
            },
            "colorscale": [
             [
              0,
              "#0d0887"
             ],
             [
              0.1111111111111111,
              "#46039f"
             ],
             [
              0.2222222222222222,
              "#7201a8"
             ],
             [
              0.3333333333333333,
              "#9c179e"
             ],
             [
              0.4444444444444444,
              "#bd3786"
             ],
             [
              0.5555555555555556,
              "#d8576b"
             ],
             [
              0.6666666666666666,
              "#ed7953"
             ],
             [
              0.7777777777777778,
              "#fb9f3a"
             ],
             [
              0.8888888888888888,
              "#fdca26"
             ],
             [
              1,
              "#f0f921"
             ]
            ],
            "type": "histogram2dcontour"
           }
          ],
          "mesh3d": [
           {
            "colorbar": {
             "outlinewidth": 0,
             "ticks": ""
            },
            "type": "mesh3d"
           }
          ],
          "parcoords": [
           {
            "line": {
             "colorbar": {
              "outlinewidth": 0,
              "ticks": ""
             }
            },
            "type": "parcoords"
           }
          ],
          "pie": [
           {
            "automargin": true,
            "type": "pie"
           }
          ],
          "scatter": [
           {
            "fillpattern": {
             "fillmode": "overlay",
             "size": 10,
             "solidity": 0.2
            },
            "type": "scatter"
           }
          ],
          "scatter3d": [
           {
            "line": {
             "colorbar": {
              "outlinewidth": 0,
              "ticks": ""
             }
            },
            "marker": {
             "colorbar": {
              "outlinewidth": 0,
              "ticks": ""
             }
            },
            "type": "scatter3d"
           }
          ],
          "scattercarpet": [
           {
            "marker": {
             "colorbar": {
              "outlinewidth": 0,
              "ticks": ""
             }
            },
            "type": "scattercarpet"
           }
          ],
          "scattergeo": [
           {
            "marker": {
             "colorbar": {
              "outlinewidth": 0,
              "ticks": ""
             }
            },
            "type": "scattergeo"
           }
          ],
          "scattergl": [
           {
            "marker": {
             "colorbar": {
              "outlinewidth": 0,
              "ticks": ""
             }
            },
            "type": "scattergl"
           }
          ],
          "scattermapbox": [
           {
            "marker": {
             "colorbar": {
              "outlinewidth": 0,
              "ticks": ""
             }
            },
            "type": "scattermapbox"
           }
          ],
          "scatterpolar": [
           {
            "marker": {
             "colorbar": {
              "outlinewidth": 0,
              "ticks": ""
             }
            },
            "type": "scatterpolar"
           }
          ],
          "scatterpolargl": [
           {
            "marker": {
             "colorbar": {
              "outlinewidth": 0,
              "ticks": ""
             }
            },
            "type": "scatterpolargl"
           }
          ],
          "scatterternary": [
           {
            "marker": {
             "colorbar": {
              "outlinewidth": 0,
              "ticks": ""
             }
            },
            "type": "scatterternary"
           }
          ],
          "surface": [
           {
            "colorbar": {
             "outlinewidth": 0,
             "ticks": ""
            },
            "colorscale": [
             [
              0,
              "#0d0887"
             ],
             [
              0.1111111111111111,
              "#46039f"
             ],
             [
              0.2222222222222222,
              "#7201a8"
             ],
             [
              0.3333333333333333,
              "#9c179e"
             ],
             [
              0.4444444444444444,
              "#bd3786"
             ],
             [
              0.5555555555555556,
              "#d8576b"
             ],
             [
              0.6666666666666666,
              "#ed7953"
             ],
             [
              0.7777777777777778,
              "#fb9f3a"
             ],
             [
              0.8888888888888888,
              "#fdca26"
             ],
             [
              1,
              "#f0f921"
             ]
            ],
            "type": "surface"
           }
          ],
          "table": [
           {
            "cells": {
             "fill": {
              "color": "#EBF0F8"
             },
             "line": {
              "color": "white"
             }
            },
            "header": {
             "fill": {
              "color": "#C8D4E3"
             },
             "line": {
              "color": "white"
             }
            },
            "type": "table"
           }
          ]
         },
         "layout": {
          "annotationdefaults": {
           "arrowcolor": "#2a3f5f",
           "arrowhead": 0,
           "arrowwidth": 1
          },
          "autotypenumbers": "strict",
          "coloraxis": {
           "colorbar": {
            "outlinewidth": 0,
            "ticks": ""
           }
          },
          "colorscale": {
           "diverging": [
            [
             0,
             "#8e0152"
            ],
            [
             0.1,
             "#c51b7d"
            ],
            [
             0.2,
             "#de77ae"
            ],
            [
             0.3,
             "#f1b6da"
            ],
            [
             0.4,
             "#fde0ef"
            ],
            [
             0.5,
             "#f7f7f7"
            ],
            [
             0.6,
             "#e6f5d0"
            ],
            [
             0.7,
             "#b8e186"
            ],
            [
             0.8,
             "#7fbc41"
            ],
            [
             0.9,
             "#4d9221"
            ],
            [
             1,
             "#276419"
            ]
           ],
           "sequential": [
            [
             0,
             "#0d0887"
            ],
            [
             0.1111111111111111,
             "#46039f"
            ],
            [
             0.2222222222222222,
             "#7201a8"
            ],
            [
             0.3333333333333333,
             "#9c179e"
            ],
            [
             0.4444444444444444,
             "#bd3786"
            ],
            [
             0.5555555555555556,
             "#d8576b"
            ],
            [
             0.6666666666666666,
             "#ed7953"
            ],
            [
             0.7777777777777778,
             "#fb9f3a"
            ],
            [
             0.8888888888888888,
             "#fdca26"
            ],
            [
             1,
             "#f0f921"
            ]
           ],
           "sequentialminus": [
            [
             0,
             "#0d0887"
            ],
            [
             0.1111111111111111,
             "#46039f"
            ],
            [
             0.2222222222222222,
             "#7201a8"
            ],
            [
             0.3333333333333333,
             "#9c179e"
            ],
            [
             0.4444444444444444,
             "#bd3786"
            ],
            [
             0.5555555555555556,
             "#d8576b"
            ],
            [
             0.6666666666666666,
             "#ed7953"
            ],
            [
             0.7777777777777778,
             "#fb9f3a"
            ],
            [
             0.8888888888888888,
             "#fdca26"
            ],
            [
             1,
             "#f0f921"
            ]
           ]
          },
          "colorway": [
           "#636efa",
           "#EF553B",
           "#00cc96",
           "#ab63fa",
           "#FFA15A",
           "#19d3f3",
           "#FF6692",
           "#B6E880",
           "#FF97FF",
           "#FECB52"
          ],
          "font": {
           "color": "#2a3f5f"
          },
          "geo": {
           "bgcolor": "white",
           "lakecolor": "white",
           "landcolor": "#E5ECF6",
           "showlakes": true,
           "showland": true,
           "subunitcolor": "white"
          },
          "hoverlabel": {
           "align": "left"
          },
          "hovermode": "closest",
          "mapbox": {
           "style": "light"
          },
          "paper_bgcolor": "white",
          "plot_bgcolor": "#E5ECF6",
          "polar": {
           "angularaxis": {
            "gridcolor": "white",
            "linecolor": "white",
            "ticks": ""
           },
           "bgcolor": "#E5ECF6",
           "radialaxis": {
            "gridcolor": "white",
            "linecolor": "white",
            "ticks": ""
           }
          },
          "scene": {
           "xaxis": {
            "backgroundcolor": "#E5ECF6",
            "gridcolor": "white",
            "gridwidth": 2,
            "linecolor": "white",
            "showbackground": true,
            "ticks": "",
            "zerolinecolor": "white"
           },
           "yaxis": {
            "backgroundcolor": "#E5ECF6",
            "gridcolor": "white",
            "gridwidth": 2,
            "linecolor": "white",
            "showbackground": true,
            "ticks": "",
            "zerolinecolor": "white"
           },
           "zaxis": {
            "backgroundcolor": "#E5ECF6",
            "gridcolor": "white",
            "gridwidth": 2,
            "linecolor": "white",
            "showbackground": true,
            "ticks": "",
            "zerolinecolor": "white"
           }
          },
          "shapedefaults": {
           "line": {
            "color": "#2a3f5f"
           }
          },
          "ternary": {
           "aaxis": {
            "gridcolor": "white",
            "linecolor": "white",
            "ticks": ""
           },
           "baxis": {
            "gridcolor": "white",
            "linecolor": "white",
            "ticks": ""
           },
           "bgcolor": "#E5ECF6",
           "caxis": {
            "gridcolor": "white",
            "linecolor": "white",
            "ticks": ""
           }
          },
          "title": {
           "x": 0.05
          },
          "xaxis": {
           "automargin": true,
           "gridcolor": "white",
           "linecolor": "white",
           "ticks": "",
           "title": {
            "standoff": 15
           },
           "zerolinecolor": "white",
           "zerolinewidth": 2
          },
          "yaxis": {
           "automargin": true,
           "gridcolor": "white",
           "linecolor": "white",
           "ticks": "",
           "title": {
            "standoff": 15
           },
           "zerolinecolor": "white",
           "zerolinewidth": 2
          }
         }
        },
        "title": {
         "text": "Outliers for OXO-5FIC622A Augusta"
        },
        "xaxis": {
         "anchor": "y",
         "domain": [
          0,
          1
         ],
         "title": {
          "text": "Date"
         }
        },
        "yaxis": {
         "anchor": "x",
         "domain": [
          0,
          1
         ],
         "title": {
          "text": "Value"
         }
        }
       }
      }
     },
     "metadata": {},
     "output_type": "display_data"
    },
    {
     "name": "stdout",
     "output_type": "stream",
     "text": [
      "2 outliers detected in OXO-5FIC636C Augusta\n"
     ]
    },
    {
     "data": {
      "application/vnd.plotly.v1+json": {
       "config": {
        "plotlyServerURL": "https://plot.ly"
       },
       "data": [
        {
         "hovertemplate": "index=%{x}<br>OXO-5FIC636C Augusta=%{y}<extra></extra>",
         "legendgroup": "",
         "line": {
          "color": "#636efa",
          "dash": "solid"
         },
         "marker": {
          "symbol": "circle"
         },
         "mode": "lines",
         "name": "",
         "orientation": "v",
         "showlegend": false,
         "type": "scatter",
         "x": [
          0,
          1,
          2,
          3,
          4,
          5,
          6,
          7,
          8,
          9,
          10,
          11,
          12,
          13,
          14,
          15,
          16,
          17,
          18,
          19,
          20,
          21,
          22,
          23,
          24,
          25,
          26,
          27,
          28,
          29,
          30,
          31,
          32,
          33,
          34,
          35,
          36,
          37,
          38,
          39,
          40,
          41,
          42,
          43,
          44,
          45,
          46,
          47,
          48,
          49,
          50,
          51,
          52,
          53,
          54,
          55,
          56,
          57,
          58,
          59,
          60,
          61,
          62,
          63,
          64,
          65,
          66,
          67,
          68,
          69,
          70,
          71,
          72,
          73,
          74,
          75,
          76,
          77,
          78,
          79,
          80,
          81,
          82,
          83,
          84,
          85,
          86,
          87,
          88,
          89,
          90,
          91,
          92,
          93,
          94,
          95,
          96,
          97,
          98,
          99
         ],
         "xaxis": "x",
         "y": [
          2710.863008626303,
          2713.375058513043,
          2710.63129272461,
          2710.523927815756,
          2719.3542561848967,
          2783.075321451824,
          2783.888881429037,
          2778.776485188803,
          2772.656446953782,
          2771.652516682944,
          2773.091003922392,
          2769.0700847721905,
          2777.5418247191374,
          2780.998758780857,
          2776.0038134362094,
          2773.2169589515497,
          2772.9594991048184,
          2772.834059029572,
          2696.118334345457,
          2559.805867513022,
          2561.5993469238288,
          2566.132640996256,
          2565.1872086725325,
          2562.4378147598145,
          2561.914841715495,
          2559.932875569662,
          2560.9205871582035,
          2566.4675476074217,
          2570.3121594340864,
          2570.3419300426144,
          2568.1106872558603,
          2564.7188334147145,
          2559.7390441894536,
          2554.583781266413,
          2609.571004568053,
          2626.1738220214847,
          2623.9248270670582,
          2674.251098632813,
          2701.3042238379726,
          2705.863507231406,
          2702.3555826822926,
          2701.014678955079,
          2699.2861551920582,
          2700.691882324219,
          2702.860955810548,
          2593.642237559088,
          2314.1758437984254,
          1537.3119130452478,
          1785.1015513102218,
          1871.693931070964,
          2053.9658874511724,
          2065.673483455884,
          2071.112520345053,
          2070.785231526693,
          2065.219242316633,
          2058.1727864583345,
          2059.333307346377,
          2056.693387858073,
          2053.407336425781,
          2057.1550131553468,
          2304.8033813476573,
          2406.1002597328,
          2480.602225748699,
          2475.127978112088,
          2481.089709472657,
          2482.9904703776047,
          2480.9863486410195,
          2476.734912109376,
          2484.0323960485543,
          2548.9514444986985,
          2556.658184660584,
          2553.554144741091,
          2561.618809000652,
          2576.4554207425163,
          2571.738517252605,
          2566.8971435546887,
          2563.237766520183,
          2563.748785349949,
          2564.84037475586,
          2560.5658482142867,
          2556.557281494141,
          2552.973336211907,
          2606.657462565105,
          2624.1928120931,
          2622.124807149423,
          2622.176905103952,
          2640.7761088053394,
          2814.868115234376,
          2833.15985921224,
          2839.613877360027,
          2843.1626118977874,
          2792.232559332327,
          2714.07021077474,
          2717.9055684407563,
          2718.0845133463545,
          2714.558206353306,
          2714.923400878907,
          2717.6235269498434,
          2718.125996907553,
          2721.2723600529453
         ],
         "yaxis": "y"
        },
        {
         "mode": "markers",
         "name": "outliers",
         "type": "scatter",
         "x": [
          47,
          48
         ],
         "y": [
          1537.3119130452478,
          1785.1015513102218
         ]
        }
       ],
       "layout": {
        "legend": {
         "tracegroupgap": 0
        },
        "template": {
         "data": {
          "bar": [
           {
            "error_x": {
             "color": "#2a3f5f"
            },
            "error_y": {
             "color": "#2a3f5f"
            },
            "marker": {
             "line": {
              "color": "#E5ECF6",
              "width": 0.5
             },
             "pattern": {
              "fillmode": "overlay",
              "size": 10,
              "solidity": 0.2
             }
            },
            "type": "bar"
           }
          ],
          "barpolar": [
           {
            "marker": {
             "line": {
              "color": "#E5ECF6",
              "width": 0.5
             },
             "pattern": {
              "fillmode": "overlay",
              "size": 10,
              "solidity": 0.2
             }
            },
            "type": "barpolar"
           }
          ],
          "carpet": [
           {
            "aaxis": {
             "endlinecolor": "#2a3f5f",
             "gridcolor": "white",
             "linecolor": "white",
             "minorgridcolor": "white",
             "startlinecolor": "#2a3f5f"
            },
            "baxis": {
             "endlinecolor": "#2a3f5f",
             "gridcolor": "white",
             "linecolor": "white",
             "minorgridcolor": "white",
             "startlinecolor": "#2a3f5f"
            },
            "type": "carpet"
           }
          ],
          "choropleth": [
           {
            "colorbar": {
             "outlinewidth": 0,
             "ticks": ""
            },
            "type": "choropleth"
           }
          ],
          "contour": [
           {
            "colorbar": {
             "outlinewidth": 0,
             "ticks": ""
            },
            "colorscale": [
             [
              0,
              "#0d0887"
             ],
             [
              0.1111111111111111,
              "#46039f"
             ],
             [
              0.2222222222222222,
              "#7201a8"
             ],
             [
              0.3333333333333333,
              "#9c179e"
             ],
             [
              0.4444444444444444,
              "#bd3786"
             ],
             [
              0.5555555555555556,
              "#d8576b"
             ],
             [
              0.6666666666666666,
              "#ed7953"
             ],
             [
              0.7777777777777778,
              "#fb9f3a"
             ],
             [
              0.8888888888888888,
              "#fdca26"
             ],
             [
              1,
              "#f0f921"
             ]
            ],
            "type": "contour"
           }
          ],
          "contourcarpet": [
           {
            "colorbar": {
             "outlinewidth": 0,
             "ticks": ""
            },
            "type": "contourcarpet"
           }
          ],
          "heatmap": [
           {
            "colorbar": {
             "outlinewidth": 0,
             "ticks": ""
            },
            "colorscale": [
             [
              0,
              "#0d0887"
             ],
             [
              0.1111111111111111,
              "#46039f"
             ],
             [
              0.2222222222222222,
              "#7201a8"
             ],
             [
              0.3333333333333333,
              "#9c179e"
             ],
             [
              0.4444444444444444,
              "#bd3786"
             ],
             [
              0.5555555555555556,
              "#d8576b"
             ],
             [
              0.6666666666666666,
              "#ed7953"
             ],
             [
              0.7777777777777778,
              "#fb9f3a"
             ],
             [
              0.8888888888888888,
              "#fdca26"
             ],
             [
              1,
              "#f0f921"
             ]
            ],
            "type": "heatmap"
           }
          ],
          "heatmapgl": [
           {
            "colorbar": {
             "outlinewidth": 0,
             "ticks": ""
            },
            "colorscale": [
             [
              0,
              "#0d0887"
             ],
             [
              0.1111111111111111,
              "#46039f"
             ],
             [
              0.2222222222222222,
              "#7201a8"
             ],
             [
              0.3333333333333333,
              "#9c179e"
             ],
             [
              0.4444444444444444,
              "#bd3786"
             ],
             [
              0.5555555555555556,
              "#d8576b"
             ],
             [
              0.6666666666666666,
              "#ed7953"
             ],
             [
              0.7777777777777778,
              "#fb9f3a"
             ],
             [
              0.8888888888888888,
              "#fdca26"
             ],
             [
              1,
              "#f0f921"
             ]
            ],
            "type": "heatmapgl"
           }
          ],
          "histogram": [
           {
            "marker": {
             "pattern": {
              "fillmode": "overlay",
              "size": 10,
              "solidity": 0.2
             }
            },
            "type": "histogram"
           }
          ],
          "histogram2d": [
           {
            "colorbar": {
             "outlinewidth": 0,
             "ticks": ""
            },
            "colorscale": [
             [
              0,
              "#0d0887"
             ],
             [
              0.1111111111111111,
              "#46039f"
             ],
             [
              0.2222222222222222,
              "#7201a8"
             ],
             [
              0.3333333333333333,
              "#9c179e"
             ],
             [
              0.4444444444444444,
              "#bd3786"
             ],
             [
              0.5555555555555556,
              "#d8576b"
             ],
             [
              0.6666666666666666,
              "#ed7953"
             ],
             [
              0.7777777777777778,
              "#fb9f3a"
             ],
             [
              0.8888888888888888,
              "#fdca26"
             ],
             [
              1,
              "#f0f921"
             ]
            ],
            "type": "histogram2d"
           }
          ],
          "histogram2dcontour": [
           {
            "colorbar": {
             "outlinewidth": 0,
             "ticks": ""
            },
            "colorscale": [
             [
              0,
              "#0d0887"
             ],
             [
              0.1111111111111111,
              "#46039f"
             ],
             [
              0.2222222222222222,
              "#7201a8"
             ],
             [
              0.3333333333333333,
              "#9c179e"
             ],
             [
              0.4444444444444444,
              "#bd3786"
             ],
             [
              0.5555555555555556,
              "#d8576b"
             ],
             [
              0.6666666666666666,
              "#ed7953"
             ],
             [
              0.7777777777777778,
              "#fb9f3a"
             ],
             [
              0.8888888888888888,
              "#fdca26"
             ],
             [
              1,
              "#f0f921"
             ]
            ],
            "type": "histogram2dcontour"
           }
          ],
          "mesh3d": [
           {
            "colorbar": {
             "outlinewidth": 0,
             "ticks": ""
            },
            "type": "mesh3d"
           }
          ],
          "parcoords": [
           {
            "line": {
             "colorbar": {
              "outlinewidth": 0,
              "ticks": ""
             }
            },
            "type": "parcoords"
           }
          ],
          "pie": [
           {
            "automargin": true,
            "type": "pie"
           }
          ],
          "scatter": [
           {
            "fillpattern": {
             "fillmode": "overlay",
             "size": 10,
             "solidity": 0.2
            },
            "type": "scatter"
           }
          ],
          "scatter3d": [
           {
            "line": {
             "colorbar": {
              "outlinewidth": 0,
              "ticks": ""
             }
            },
            "marker": {
             "colorbar": {
              "outlinewidth": 0,
              "ticks": ""
             }
            },
            "type": "scatter3d"
           }
          ],
          "scattercarpet": [
           {
            "marker": {
             "colorbar": {
              "outlinewidth": 0,
              "ticks": ""
             }
            },
            "type": "scattercarpet"
           }
          ],
          "scattergeo": [
           {
            "marker": {
             "colorbar": {
              "outlinewidth": 0,
              "ticks": ""
             }
            },
            "type": "scattergeo"
           }
          ],
          "scattergl": [
           {
            "marker": {
             "colorbar": {
              "outlinewidth": 0,
              "ticks": ""
             }
            },
            "type": "scattergl"
           }
          ],
          "scattermapbox": [
           {
            "marker": {
             "colorbar": {
              "outlinewidth": 0,
              "ticks": ""
             }
            },
            "type": "scattermapbox"
           }
          ],
          "scatterpolar": [
           {
            "marker": {
             "colorbar": {
              "outlinewidth": 0,
              "ticks": ""
             }
            },
            "type": "scatterpolar"
           }
          ],
          "scatterpolargl": [
           {
            "marker": {
             "colorbar": {
              "outlinewidth": 0,
              "ticks": ""
             }
            },
            "type": "scatterpolargl"
           }
          ],
          "scatterternary": [
           {
            "marker": {
             "colorbar": {
              "outlinewidth": 0,
              "ticks": ""
             }
            },
            "type": "scatterternary"
           }
          ],
          "surface": [
           {
            "colorbar": {
             "outlinewidth": 0,
             "ticks": ""
            },
            "colorscale": [
             [
              0,
              "#0d0887"
             ],
             [
              0.1111111111111111,
              "#46039f"
             ],
             [
              0.2222222222222222,
              "#7201a8"
             ],
             [
              0.3333333333333333,
              "#9c179e"
             ],
             [
              0.4444444444444444,
              "#bd3786"
             ],
             [
              0.5555555555555556,
              "#d8576b"
             ],
             [
              0.6666666666666666,
              "#ed7953"
             ],
             [
              0.7777777777777778,
              "#fb9f3a"
             ],
             [
              0.8888888888888888,
              "#fdca26"
             ],
             [
              1,
              "#f0f921"
             ]
            ],
            "type": "surface"
           }
          ],
          "table": [
           {
            "cells": {
             "fill": {
              "color": "#EBF0F8"
             },
             "line": {
              "color": "white"
             }
            },
            "header": {
             "fill": {
              "color": "#C8D4E3"
             },
             "line": {
              "color": "white"
             }
            },
            "type": "table"
           }
          ]
         },
         "layout": {
          "annotationdefaults": {
           "arrowcolor": "#2a3f5f",
           "arrowhead": 0,
           "arrowwidth": 1
          },
          "autotypenumbers": "strict",
          "coloraxis": {
           "colorbar": {
            "outlinewidth": 0,
            "ticks": ""
           }
          },
          "colorscale": {
           "diverging": [
            [
             0,
             "#8e0152"
            ],
            [
             0.1,
             "#c51b7d"
            ],
            [
             0.2,
             "#de77ae"
            ],
            [
             0.3,
             "#f1b6da"
            ],
            [
             0.4,
             "#fde0ef"
            ],
            [
             0.5,
             "#f7f7f7"
            ],
            [
             0.6,
             "#e6f5d0"
            ],
            [
             0.7,
             "#b8e186"
            ],
            [
             0.8,
             "#7fbc41"
            ],
            [
             0.9,
             "#4d9221"
            ],
            [
             1,
             "#276419"
            ]
           ],
           "sequential": [
            [
             0,
             "#0d0887"
            ],
            [
             0.1111111111111111,
             "#46039f"
            ],
            [
             0.2222222222222222,
             "#7201a8"
            ],
            [
             0.3333333333333333,
             "#9c179e"
            ],
            [
             0.4444444444444444,
             "#bd3786"
            ],
            [
             0.5555555555555556,
             "#d8576b"
            ],
            [
             0.6666666666666666,
             "#ed7953"
            ],
            [
             0.7777777777777778,
             "#fb9f3a"
            ],
            [
             0.8888888888888888,
             "#fdca26"
            ],
            [
             1,
             "#f0f921"
            ]
           ],
           "sequentialminus": [
            [
             0,
             "#0d0887"
            ],
            [
             0.1111111111111111,
             "#46039f"
            ],
            [
             0.2222222222222222,
             "#7201a8"
            ],
            [
             0.3333333333333333,
             "#9c179e"
            ],
            [
             0.4444444444444444,
             "#bd3786"
            ],
            [
             0.5555555555555556,
             "#d8576b"
            ],
            [
             0.6666666666666666,
             "#ed7953"
            ],
            [
             0.7777777777777778,
             "#fb9f3a"
            ],
            [
             0.8888888888888888,
             "#fdca26"
            ],
            [
             1,
             "#f0f921"
            ]
           ]
          },
          "colorway": [
           "#636efa",
           "#EF553B",
           "#00cc96",
           "#ab63fa",
           "#FFA15A",
           "#19d3f3",
           "#FF6692",
           "#B6E880",
           "#FF97FF",
           "#FECB52"
          ],
          "font": {
           "color": "#2a3f5f"
          },
          "geo": {
           "bgcolor": "white",
           "lakecolor": "white",
           "landcolor": "#E5ECF6",
           "showlakes": true,
           "showland": true,
           "subunitcolor": "white"
          },
          "hoverlabel": {
           "align": "left"
          },
          "hovermode": "closest",
          "mapbox": {
           "style": "light"
          },
          "paper_bgcolor": "white",
          "plot_bgcolor": "#E5ECF6",
          "polar": {
           "angularaxis": {
            "gridcolor": "white",
            "linecolor": "white",
            "ticks": ""
           },
           "bgcolor": "#E5ECF6",
           "radialaxis": {
            "gridcolor": "white",
            "linecolor": "white",
            "ticks": ""
           }
          },
          "scene": {
           "xaxis": {
            "backgroundcolor": "#E5ECF6",
            "gridcolor": "white",
            "gridwidth": 2,
            "linecolor": "white",
            "showbackground": true,
            "ticks": "",
            "zerolinecolor": "white"
           },
           "yaxis": {
            "backgroundcolor": "#E5ECF6",
            "gridcolor": "white",
            "gridwidth": 2,
            "linecolor": "white",
            "showbackground": true,
            "ticks": "",
            "zerolinecolor": "white"
           },
           "zaxis": {
            "backgroundcolor": "#E5ECF6",
            "gridcolor": "white",
            "gridwidth": 2,
            "linecolor": "white",
            "showbackground": true,
            "ticks": "",
            "zerolinecolor": "white"
           }
          },
          "shapedefaults": {
           "line": {
            "color": "#2a3f5f"
           }
          },
          "ternary": {
           "aaxis": {
            "gridcolor": "white",
            "linecolor": "white",
            "ticks": ""
           },
           "baxis": {
            "gridcolor": "white",
            "linecolor": "white",
            "ticks": ""
           },
           "bgcolor": "#E5ECF6",
           "caxis": {
            "gridcolor": "white",
            "linecolor": "white",
            "ticks": ""
           }
          },
          "title": {
           "x": 0.05
          },
          "xaxis": {
           "automargin": true,
           "gridcolor": "white",
           "linecolor": "white",
           "ticks": "",
           "title": {
            "standoff": 15
           },
           "zerolinecolor": "white",
           "zerolinewidth": 2
          },
          "yaxis": {
           "automargin": true,
           "gridcolor": "white",
           "linecolor": "white",
           "ticks": "",
           "title": {
            "standoff": 15
           },
           "zerolinecolor": "white",
           "zerolinewidth": 2
          }
         }
        },
        "title": {
         "text": "Outliers for OXO-5FIC636C Augusta"
        },
        "xaxis": {
         "anchor": "y",
         "domain": [
          0,
          1
         ],
         "title": {
          "text": "Date"
         }
        },
        "yaxis": {
         "anchor": "x",
         "domain": [
          0,
          1
         ],
         "title": {
          "text": "Value"
         }
        }
       }
      }
     },
     "metadata": {},
     "output_type": "display_data"
    },
    {
     "name": "stdout",
     "output_type": "stream",
     "text": [
      "3 outliers detected in OXO-5LI650F Augusta\n"
     ]
    },
    {
     "data": {
      "application/vnd.plotly.v1+json": {
       "config": {
        "plotlyServerURL": "https://plot.ly"
       },
       "data": [
        {
         "hovertemplate": "index=%{x}<br>OXO-5LI650F Augusta=%{y}<extra></extra>",
         "legendgroup": "",
         "line": {
          "color": "#636efa",
          "dash": "solid"
         },
         "marker": {
          "symbol": "circle"
         },
         "mode": "lines",
         "name": "",
         "orientation": "v",
         "showlegend": false,
         "type": "scatter",
         "x": [
          0,
          1,
          2,
          3,
          4,
          5,
          6,
          7,
          8,
          9,
          10,
          11,
          12,
          13,
          14,
          15,
          16,
          17,
          18,
          19,
          20,
          21,
          22,
          23,
          24,
          25,
          26,
          27,
          28,
          29,
          30,
          31,
          32,
          33,
          34,
          35,
          36,
          37,
          38,
          39,
          40,
          41,
          42,
          43,
          44,
          45,
          46,
          47,
          48,
          49,
          50,
          51,
          52,
          53,
          54,
          55,
          56,
          57,
          58,
          59,
          60,
          61,
          62,
          63,
          64,
          65,
          66,
          67,
          68,
          69,
          70,
          71,
          72,
          73,
          74,
          75,
          76,
          77,
          78,
          79,
          80,
          81,
          82,
          83,
          84,
          85,
          86,
          87,
          88,
          89,
          90,
          91,
          92,
          93,
          94,
          95,
          96,
          97,
          98,
          99
         ],
         "xaxis": "x",
         "y": [
          5182.656062825521,
          4031.091849772136,
          2887.6722473144537,
          1790.506084187826,
          772.5199017842613,
          45.23274208517636,
          0,
          0,
          0,
          0,
          0,
          0,
          0,
          0,
          0,
          0,
          0,
          0,
          0,
          0,
          0,
          0,
          0,
          0,
          0,
          0,
          0,
          0,
          0,
          0,
          0,
          0,
          0,
          0,
          0,
          0,
          0,
          0,
          0,
          0,
          0,
          0,
          0,
          0,
          0,
          0,
          0,
          0,
          0,
          0,
          0,
          0,
          0,
          0,
          0,
          0,
          0,
          0,
          0,
          0,
          0,
          0,
          0,
          0,
          0,
          0,
          0,
          0,
          0,
          0,
          0,
          0,
          0,
          0,
          0,
          0,
          0,
          0,
          0,
          0,
          0,
          0,
          0,
          0,
          0,
          0,
          0,
          0,
          0,
          0,
          0,
          0,
          0,
          0,
          0,
          0,
          0,
          0,
          0,
          0
         ],
         "yaxis": "y"
        },
        {
         "mode": "markers",
         "name": "outliers",
         "type": "scatter",
         "x": [
          0,
          1,
          2
         ],
         "y": [
          5182.656062825521,
          4031.091849772136,
          2887.6722473144537
         ]
        }
       ],
       "layout": {
        "legend": {
         "tracegroupgap": 0
        },
        "template": {
         "data": {
          "bar": [
           {
            "error_x": {
             "color": "#2a3f5f"
            },
            "error_y": {
             "color": "#2a3f5f"
            },
            "marker": {
             "line": {
              "color": "#E5ECF6",
              "width": 0.5
             },
             "pattern": {
              "fillmode": "overlay",
              "size": 10,
              "solidity": 0.2
             }
            },
            "type": "bar"
           }
          ],
          "barpolar": [
           {
            "marker": {
             "line": {
              "color": "#E5ECF6",
              "width": 0.5
             },
             "pattern": {
              "fillmode": "overlay",
              "size": 10,
              "solidity": 0.2
             }
            },
            "type": "barpolar"
           }
          ],
          "carpet": [
           {
            "aaxis": {
             "endlinecolor": "#2a3f5f",
             "gridcolor": "white",
             "linecolor": "white",
             "minorgridcolor": "white",
             "startlinecolor": "#2a3f5f"
            },
            "baxis": {
             "endlinecolor": "#2a3f5f",
             "gridcolor": "white",
             "linecolor": "white",
             "minorgridcolor": "white",
             "startlinecolor": "#2a3f5f"
            },
            "type": "carpet"
           }
          ],
          "choropleth": [
           {
            "colorbar": {
             "outlinewidth": 0,
             "ticks": ""
            },
            "type": "choropleth"
           }
          ],
          "contour": [
           {
            "colorbar": {
             "outlinewidth": 0,
             "ticks": ""
            },
            "colorscale": [
             [
              0,
              "#0d0887"
             ],
             [
              0.1111111111111111,
              "#46039f"
             ],
             [
              0.2222222222222222,
              "#7201a8"
             ],
             [
              0.3333333333333333,
              "#9c179e"
             ],
             [
              0.4444444444444444,
              "#bd3786"
             ],
             [
              0.5555555555555556,
              "#d8576b"
             ],
             [
              0.6666666666666666,
              "#ed7953"
             ],
             [
              0.7777777777777778,
              "#fb9f3a"
             ],
             [
              0.8888888888888888,
              "#fdca26"
             ],
             [
              1,
              "#f0f921"
             ]
            ],
            "type": "contour"
           }
          ],
          "contourcarpet": [
           {
            "colorbar": {
             "outlinewidth": 0,
             "ticks": ""
            },
            "type": "contourcarpet"
           }
          ],
          "heatmap": [
           {
            "colorbar": {
             "outlinewidth": 0,
             "ticks": ""
            },
            "colorscale": [
             [
              0,
              "#0d0887"
             ],
             [
              0.1111111111111111,
              "#46039f"
             ],
             [
              0.2222222222222222,
              "#7201a8"
             ],
             [
              0.3333333333333333,
              "#9c179e"
             ],
             [
              0.4444444444444444,
              "#bd3786"
             ],
             [
              0.5555555555555556,
              "#d8576b"
             ],
             [
              0.6666666666666666,
              "#ed7953"
             ],
             [
              0.7777777777777778,
              "#fb9f3a"
             ],
             [
              0.8888888888888888,
              "#fdca26"
             ],
             [
              1,
              "#f0f921"
             ]
            ],
            "type": "heatmap"
           }
          ],
          "heatmapgl": [
           {
            "colorbar": {
             "outlinewidth": 0,
             "ticks": ""
            },
            "colorscale": [
             [
              0,
              "#0d0887"
             ],
             [
              0.1111111111111111,
              "#46039f"
             ],
             [
              0.2222222222222222,
              "#7201a8"
             ],
             [
              0.3333333333333333,
              "#9c179e"
             ],
             [
              0.4444444444444444,
              "#bd3786"
             ],
             [
              0.5555555555555556,
              "#d8576b"
             ],
             [
              0.6666666666666666,
              "#ed7953"
             ],
             [
              0.7777777777777778,
              "#fb9f3a"
             ],
             [
              0.8888888888888888,
              "#fdca26"
             ],
             [
              1,
              "#f0f921"
             ]
            ],
            "type": "heatmapgl"
           }
          ],
          "histogram": [
           {
            "marker": {
             "pattern": {
              "fillmode": "overlay",
              "size": 10,
              "solidity": 0.2
             }
            },
            "type": "histogram"
           }
          ],
          "histogram2d": [
           {
            "colorbar": {
             "outlinewidth": 0,
             "ticks": ""
            },
            "colorscale": [
             [
              0,
              "#0d0887"
             ],
             [
              0.1111111111111111,
              "#46039f"
             ],
             [
              0.2222222222222222,
              "#7201a8"
             ],
             [
              0.3333333333333333,
              "#9c179e"
             ],
             [
              0.4444444444444444,
              "#bd3786"
             ],
             [
              0.5555555555555556,
              "#d8576b"
             ],
             [
              0.6666666666666666,
              "#ed7953"
             ],
             [
              0.7777777777777778,
              "#fb9f3a"
             ],
             [
              0.8888888888888888,
              "#fdca26"
             ],
             [
              1,
              "#f0f921"
             ]
            ],
            "type": "histogram2d"
           }
          ],
          "histogram2dcontour": [
           {
            "colorbar": {
             "outlinewidth": 0,
             "ticks": ""
            },
            "colorscale": [
             [
              0,
              "#0d0887"
             ],
             [
              0.1111111111111111,
              "#46039f"
             ],
             [
              0.2222222222222222,
              "#7201a8"
             ],
             [
              0.3333333333333333,
              "#9c179e"
             ],
             [
              0.4444444444444444,
              "#bd3786"
             ],
             [
              0.5555555555555556,
              "#d8576b"
             ],
             [
              0.6666666666666666,
              "#ed7953"
             ],
             [
              0.7777777777777778,
              "#fb9f3a"
             ],
             [
              0.8888888888888888,
              "#fdca26"
             ],
             [
              1,
              "#f0f921"
             ]
            ],
            "type": "histogram2dcontour"
           }
          ],
          "mesh3d": [
           {
            "colorbar": {
             "outlinewidth": 0,
             "ticks": ""
            },
            "type": "mesh3d"
           }
          ],
          "parcoords": [
           {
            "line": {
             "colorbar": {
              "outlinewidth": 0,
              "ticks": ""
             }
            },
            "type": "parcoords"
           }
          ],
          "pie": [
           {
            "automargin": true,
            "type": "pie"
           }
          ],
          "scatter": [
           {
            "fillpattern": {
             "fillmode": "overlay",
             "size": 10,
             "solidity": 0.2
            },
            "type": "scatter"
           }
          ],
          "scatter3d": [
           {
            "line": {
             "colorbar": {
              "outlinewidth": 0,
              "ticks": ""
             }
            },
            "marker": {
             "colorbar": {
              "outlinewidth": 0,
              "ticks": ""
             }
            },
            "type": "scatter3d"
           }
          ],
          "scattercarpet": [
           {
            "marker": {
             "colorbar": {
              "outlinewidth": 0,
              "ticks": ""
             }
            },
            "type": "scattercarpet"
           }
          ],
          "scattergeo": [
           {
            "marker": {
             "colorbar": {
              "outlinewidth": 0,
              "ticks": ""
             }
            },
            "type": "scattergeo"
           }
          ],
          "scattergl": [
           {
            "marker": {
             "colorbar": {
              "outlinewidth": 0,
              "ticks": ""
             }
            },
            "type": "scattergl"
           }
          ],
          "scattermapbox": [
           {
            "marker": {
             "colorbar": {
              "outlinewidth": 0,
              "ticks": ""
             }
            },
            "type": "scattermapbox"
           }
          ],
          "scatterpolar": [
           {
            "marker": {
             "colorbar": {
              "outlinewidth": 0,
              "ticks": ""
             }
            },
            "type": "scatterpolar"
           }
          ],
          "scatterpolargl": [
           {
            "marker": {
             "colorbar": {
              "outlinewidth": 0,
              "ticks": ""
             }
            },
            "type": "scatterpolargl"
           }
          ],
          "scatterternary": [
           {
            "marker": {
             "colorbar": {
              "outlinewidth": 0,
              "ticks": ""
             }
            },
            "type": "scatterternary"
           }
          ],
          "surface": [
           {
            "colorbar": {
             "outlinewidth": 0,
             "ticks": ""
            },
            "colorscale": [
             [
              0,
              "#0d0887"
             ],
             [
              0.1111111111111111,
              "#46039f"
             ],
             [
              0.2222222222222222,
              "#7201a8"
             ],
             [
              0.3333333333333333,
              "#9c179e"
             ],
             [
              0.4444444444444444,
              "#bd3786"
             ],
             [
              0.5555555555555556,
              "#d8576b"
             ],
             [
              0.6666666666666666,
              "#ed7953"
             ],
             [
              0.7777777777777778,
              "#fb9f3a"
             ],
             [
              0.8888888888888888,
              "#fdca26"
             ],
             [
              1,
              "#f0f921"
             ]
            ],
            "type": "surface"
           }
          ],
          "table": [
           {
            "cells": {
             "fill": {
              "color": "#EBF0F8"
             },
             "line": {
              "color": "white"
             }
            },
            "header": {
             "fill": {
              "color": "#C8D4E3"
             },
             "line": {
              "color": "white"
             }
            },
            "type": "table"
           }
          ]
         },
         "layout": {
          "annotationdefaults": {
           "arrowcolor": "#2a3f5f",
           "arrowhead": 0,
           "arrowwidth": 1
          },
          "autotypenumbers": "strict",
          "coloraxis": {
           "colorbar": {
            "outlinewidth": 0,
            "ticks": ""
           }
          },
          "colorscale": {
           "diverging": [
            [
             0,
             "#8e0152"
            ],
            [
             0.1,
             "#c51b7d"
            ],
            [
             0.2,
             "#de77ae"
            ],
            [
             0.3,
             "#f1b6da"
            ],
            [
             0.4,
             "#fde0ef"
            ],
            [
             0.5,
             "#f7f7f7"
            ],
            [
             0.6,
             "#e6f5d0"
            ],
            [
             0.7,
             "#b8e186"
            ],
            [
             0.8,
             "#7fbc41"
            ],
            [
             0.9,
             "#4d9221"
            ],
            [
             1,
             "#276419"
            ]
           ],
           "sequential": [
            [
             0,
             "#0d0887"
            ],
            [
             0.1111111111111111,
             "#46039f"
            ],
            [
             0.2222222222222222,
             "#7201a8"
            ],
            [
             0.3333333333333333,
             "#9c179e"
            ],
            [
             0.4444444444444444,
             "#bd3786"
            ],
            [
             0.5555555555555556,
             "#d8576b"
            ],
            [
             0.6666666666666666,
             "#ed7953"
            ],
            [
             0.7777777777777778,
             "#fb9f3a"
            ],
            [
             0.8888888888888888,
             "#fdca26"
            ],
            [
             1,
             "#f0f921"
            ]
           ],
           "sequentialminus": [
            [
             0,
             "#0d0887"
            ],
            [
             0.1111111111111111,
             "#46039f"
            ],
            [
             0.2222222222222222,
             "#7201a8"
            ],
            [
             0.3333333333333333,
             "#9c179e"
            ],
            [
             0.4444444444444444,
             "#bd3786"
            ],
            [
             0.5555555555555556,
             "#d8576b"
            ],
            [
             0.6666666666666666,
             "#ed7953"
            ],
            [
             0.7777777777777778,
             "#fb9f3a"
            ],
            [
             0.8888888888888888,
             "#fdca26"
            ],
            [
             1,
             "#f0f921"
            ]
           ]
          },
          "colorway": [
           "#636efa",
           "#EF553B",
           "#00cc96",
           "#ab63fa",
           "#FFA15A",
           "#19d3f3",
           "#FF6692",
           "#B6E880",
           "#FF97FF",
           "#FECB52"
          ],
          "font": {
           "color": "#2a3f5f"
          },
          "geo": {
           "bgcolor": "white",
           "lakecolor": "white",
           "landcolor": "#E5ECF6",
           "showlakes": true,
           "showland": true,
           "subunitcolor": "white"
          },
          "hoverlabel": {
           "align": "left"
          },
          "hovermode": "closest",
          "mapbox": {
           "style": "light"
          },
          "paper_bgcolor": "white",
          "plot_bgcolor": "#E5ECF6",
          "polar": {
           "angularaxis": {
            "gridcolor": "white",
            "linecolor": "white",
            "ticks": ""
           },
           "bgcolor": "#E5ECF6",
           "radialaxis": {
            "gridcolor": "white",
            "linecolor": "white",
            "ticks": ""
           }
          },
          "scene": {
           "xaxis": {
            "backgroundcolor": "#E5ECF6",
            "gridcolor": "white",
            "gridwidth": 2,
            "linecolor": "white",
            "showbackground": true,
            "ticks": "",
            "zerolinecolor": "white"
           },
           "yaxis": {
            "backgroundcolor": "#E5ECF6",
            "gridcolor": "white",
            "gridwidth": 2,
            "linecolor": "white",
            "showbackground": true,
            "ticks": "",
            "zerolinecolor": "white"
           },
           "zaxis": {
            "backgroundcolor": "#E5ECF6",
            "gridcolor": "white",
            "gridwidth": 2,
            "linecolor": "white",
            "showbackground": true,
            "ticks": "",
            "zerolinecolor": "white"
           }
          },
          "shapedefaults": {
           "line": {
            "color": "#2a3f5f"
           }
          },
          "ternary": {
           "aaxis": {
            "gridcolor": "white",
            "linecolor": "white",
            "ticks": ""
           },
           "baxis": {
            "gridcolor": "white",
            "linecolor": "white",
            "ticks": ""
           },
           "bgcolor": "#E5ECF6",
           "caxis": {
            "gridcolor": "white",
            "linecolor": "white",
            "ticks": ""
           }
          },
          "title": {
           "x": 0.05
          },
          "xaxis": {
           "automargin": true,
           "gridcolor": "white",
           "linecolor": "white",
           "ticks": "",
           "title": {
            "standoff": 15
           },
           "zerolinecolor": "white",
           "zerolinewidth": 2
          },
          "yaxis": {
           "automargin": true,
           "gridcolor": "white",
           "linecolor": "white",
           "ticks": "",
           "title": {
            "standoff": 15
           },
           "zerolinecolor": "white",
           "zerolinewidth": 2
          }
         }
        },
        "title": {
         "text": "Outliers for OXO-5LI650F Augusta"
        },
        "xaxis": {
         "anchor": "y",
         "domain": [
          0,
          1
         ],
         "title": {
          "text": "Date"
         }
        },
        "yaxis": {
         "anchor": "x",
         "domain": [
          0,
          1
         ],
         "title": {
          "text": "Value"
         }
        }
       }
      }
     },
     "metadata": {},
     "output_type": "display_data"
    },
    {
     "name": "stdout",
     "output_type": "stream",
     "text": [
      "2 outliers detected in OXO-5LI651F Augusta\n"
     ]
    },
    {
     "data": {
      "application/vnd.plotly.v1+json": {
       "config": {
        "plotlyServerURL": "https://plot.ly"
       },
       "data": [
        {
         "hovertemplate": "index=%{x}<br>OXO-5LI651F Augusta=%{y}<extra></extra>",
         "legendgroup": "",
         "line": {
          "color": "#636efa",
          "dash": "solid"
         },
         "marker": {
          "symbol": "circle"
         },
         "mode": "lines",
         "name": "",
         "orientation": "v",
         "showlegend": false,
         "type": "scatter",
         "x": [
          0,
          1,
          2,
          3,
          4,
          5,
          6,
          7,
          8,
          9,
          10,
          11,
          12,
          13,
          14,
          15,
          16,
          17,
          18,
          19,
          20,
          21,
          22,
          23,
          24,
          25,
          26,
          27,
          28,
          29,
          30,
          31,
          32,
          33,
          34,
          35,
          36,
          37,
          38,
          39,
          40,
          41,
          42,
          43,
          44,
          45,
          46,
          47,
          48,
          49,
          50,
          51,
          52,
          53,
          54,
          55,
          56,
          57,
          58,
          59,
          60,
          61,
          62,
          63,
          64,
          65,
          66,
          67,
          68,
          69,
          70,
          71,
          72,
          73,
          74,
          75,
          76,
          77,
          78,
          79,
          80,
          81,
          82,
          83,
          84,
          85,
          86,
          87,
          88,
          89,
          90,
          91,
          92,
          93,
          94,
          95,
          96,
          97,
          98,
          99
         ],
         "xaxis": "x",
         "y": [
          2020.465755208335,
          2018.6548299153665,
          2016.352590513624,
          2015.3231760660824,
          2014.3164754231768,
          2015.6966491186329,
          2026.241416741996,
          2056.399275716148,
          2098.8258846507365,
          2084.48849714295,
          2082.449829101564,
          2088.196704101563,
          2031.9235491071431,
          2040.0496846516933,
          2047.505036417644,
          2038.7147603352864,
          2034.292879231772,
          2031.58684848754,
          2027.9409088134776,
          2022.3353546142584,
          2018.26968688965,
          2014.4714735015093,
          2020.0491729736343,
          2023.2420806884784,
          2022.16012064616,
          2025.889437866212,
          2022.959376017253,
          2018.8532135009784,
          2013.334581502278,
          2014.3968425151727,
          2030.9652323404964,
          2071.144496372769,
          2137.919984944662,
          2174.2398792613635,
          2151.24779663086,
          2113.919980875652,
          2080.67944746258,
          2072.420075219526,
          2067.99628499349,
          2057.1977294921894,
          2051.1078206380207,
          2045.672693589156,
          2036.7237080891923,
          2031.3116607666032,
          2030.4850509265243,
          2022.366852063092,
          2016.5654144287123,
          2015.3173878987627,
          2018.6903479710115,
          2012.7220335888253,
          2011.2302215576167,
          2007.9753997802736,
          2005.783431124096,
          2008.977207728795,
          2027.8690378824883,
          2069.949433390301,
          2039.3661346435551,
          2069.756005859376,
          2077.793986002606,
          2080.1104928008795,
          2096.228708475579,
          2090.258902994793,
          2079.343237506458,
          2071.2312052750804,
          2062.308317326319,
          2052.919751592044,
          2053.243611653647,
          2051.023557535808,
          2056.613874451188,
          2061.4948974609392,
          2058.5949419807,
          2065.765504964194,
          2043.7434427897144,
          2022.6494160970065,
          2022.5923807779968,
          2026.7680053710944,
          2029.678294881185,
          2028.956334137721,
          2037.600449505976,
          2079.866113281252,
          2126.0245381673176,
          2176.1251230791586,
          2165.4447462578783,
          2133.285263187629,
          2115.3028238932297,
          2083.229036731881,
          2070.806518554689,
          2060.01155329933,
          2045.0500293379075,
          2036.086049481857,
          2033.7372718618703,
          2029.3816497802752,
          2027.196128336589,
          2024.0504180908208,
          2020.7500885009783,
          2018.7540415445976,
          2011.0376586914065,
          2007.2163650891007,
          2006.8513244628907,
          2005.225689543396
         ],
         "yaxis": "y"
        },
        {
         "mode": "markers",
         "name": "outliers",
         "type": "scatter",
         "x": [
          33,
          81
         ],
         "y": [
          2174.2398792613635,
          2176.1251230791586
         ]
        }
       ],
       "layout": {
        "legend": {
         "tracegroupgap": 0
        },
        "template": {
         "data": {
          "bar": [
           {
            "error_x": {
             "color": "#2a3f5f"
            },
            "error_y": {
             "color": "#2a3f5f"
            },
            "marker": {
             "line": {
              "color": "#E5ECF6",
              "width": 0.5
             },
             "pattern": {
              "fillmode": "overlay",
              "size": 10,
              "solidity": 0.2
             }
            },
            "type": "bar"
           }
          ],
          "barpolar": [
           {
            "marker": {
             "line": {
              "color": "#E5ECF6",
              "width": 0.5
             },
             "pattern": {
              "fillmode": "overlay",
              "size": 10,
              "solidity": 0.2
             }
            },
            "type": "barpolar"
           }
          ],
          "carpet": [
           {
            "aaxis": {
             "endlinecolor": "#2a3f5f",
             "gridcolor": "white",
             "linecolor": "white",
             "minorgridcolor": "white",
             "startlinecolor": "#2a3f5f"
            },
            "baxis": {
             "endlinecolor": "#2a3f5f",
             "gridcolor": "white",
             "linecolor": "white",
             "minorgridcolor": "white",
             "startlinecolor": "#2a3f5f"
            },
            "type": "carpet"
           }
          ],
          "choropleth": [
           {
            "colorbar": {
             "outlinewidth": 0,
             "ticks": ""
            },
            "type": "choropleth"
           }
          ],
          "contour": [
           {
            "colorbar": {
             "outlinewidth": 0,
             "ticks": ""
            },
            "colorscale": [
             [
              0,
              "#0d0887"
             ],
             [
              0.1111111111111111,
              "#46039f"
             ],
             [
              0.2222222222222222,
              "#7201a8"
             ],
             [
              0.3333333333333333,
              "#9c179e"
             ],
             [
              0.4444444444444444,
              "#bd3786"
             ],
             [
              0.5555555555555556,
              "#d8576b"
             ],
             [
              0.6666666666666666,
              "#ed7953"
             ],
             [
              0.7777777777777778,
              "#fb9f3a"
             ],
             [
              0.8888888888888888,
              "#fdca26"
             ],
             [
              1,
              "#f0f921"
             ]
            ],
            "type": "contour"
           }
          ],
          "contourcarpet": [
           {
            "colorbar": {
             "outlinewidth": 0,
             "ticks": ""
            },
            "type": "contourcarpet"
           }
          ],
          "heatmap": [
           {
            "colorbar": {
             "outlinewidth": 0,
             "ticks": ""
            },
            "colorscale": [
             [
              0,
              "#0d0887"
             ],
             [
              0.1111111111111111,
              "#46039f"
             ],
             [
              0.2222222222222222,
              "#7201a8"
             ],
             [
              0.3333333333333333,
              "#9c179e"
             ],
             [
              0.4444444444444444,
              "#bd3786"
             ],
             [
              0.5555555555555556,
              "#d8576b"
             ],
             [
              0.6666666666666666,
              "#ed7953"
             ],
             [
              0.7777777777777778,
              "#fb9f3a"
             ],
             [
              0.8888888888888888,
              "#fdca26"
             ],
             [
              1,
              "#f0f921"
             ]
            ],
            "type": "heatmap"
           }
          ],
          "heatmapgl": [
           {
            "colorbar": {
             "outlinewidth": 0,
             "ticks": ""
            },
            "colorscale": [
             [
              0,
              "#0d0887"
             ],
             [
              0.1111111111111111,
              "#46039f"
             ],
             [
              0.2222222222222222,
              "#7201a8"
             ],
             [
              0.3333333333333333,
              "#9c179e"
             ],
             [
              0.4444444444444444,
              "#bd3786"
             ],
             [
              0.5555555555555556,
              "#d8576b"
             ],
             [
              0.6666666666666666,
              "#ed7953"
             ],
             [
              0.7777777777777778,
              "#fb9f3a"
             ],
             [
              0.8888888888888888,
              "#fdca26"
             ],
             [
              1,
              "#f0f921"
             ]
            ],
            "type": "heatmapgl"
           }
          ],
          "histogram": [
           {
            "marker": {
             "pattern": {
              "fillmode": "overlay",
              "size": 10,
              "solidity": 0.2
             }
            },
            "type": "histogram"
           }
          ],
          "histogram2d": [
           {
            "colorbar": {
             "outlinewidth": 0,
             "ticks": ""
            },
            "colorscale": [
             [
              0,
              "#0d0887"
             ],
             [
              0.1111111111111111,
              "#46039f"
             ],
             [
              0.2222222222222222,
              "#7201a8"
             ],
             [
              0.3333333333333333,
              "#9c179e"
             ],
             [
              0.4444444444444444,
              "#bd3786"
             ],
             [
              0.5555555555555556,
              "#d8576b"
             ],
             [
              0.6666666666666666,
              "#ed7953"
             ],
             [
              0.7777777777777778,
              "#fb9f3a"
             ],
             [
              0.8888888888888888,
              "#fdca26"
             ],
             [
              1,
              "#f0f921"
             ]
            ],
            "type": "histogram2d"
           }
          ],
          "histogram2dcontour": [
           {
            "colorbar": {
             "outlinewidth": 0,
             "ticks": ""
            },
            "colorscale": [
             [
              0,
              "#0d0887"
             ],
             [
              0.1111111111111111,
              "#46039f"
             ],
             [
              0.2222222222222222,
              "#7201a8"
             ],
             [
              0.3333333333333333,
              "#9c179e"
             ],
             [
              0.4444444444444444,
              "#bd3786"
             ],
             [
              0.5555555555555556,
              "#d8576b"
             ],
             [
              0.6666666666666666,
              "#ed7953"
             ],
             [
              0.7777777777777778,
              "#fb9f3a"
             ],
             [
              0.8888888888888888,
              "#fdca26"
             ],
             [
              1,
              "#f0f921"
             ]
            ],
            "type": "histogram2dcontour"
           }
          ],
          "mesh3d": [
           {
            "colorbar": {
             "outlinewidth": 0,
             "ticks": ""
            },
            "type": "mesh3d"
           }
          ],
          "parcoords": [
           {
            "line": {
             "colorbar": {
              "outlinewidth": 0,
              "ticks": ""
             }
            },
            "type": "parcoords"
           }
          ],
          "pie": [
           {
            "automargin": true,
            "type": "pie"
           }
          ],
          "scatter": [
           {
            "fillpattern": {
             "fillmode": "overlay",
             "size": 10,
             "solidity": 0.2
            },
            "type": "scatter"
           }
          ],
          "scatter3d": [
           {
            "line": {
             "colorbar": {
              "outlinewidth": 0,
              "ticks": ""
             }
            },
            "marker": {
             "colorbar": {
              "outlinewidth": 0,
              "ticks": ""
             }
            },
            "type": "scatter3d"
           }
          ],
          "scattercarpet": [
           {
            "marker": {
             "colorbar": {
              "outlinewidth": 0,
              "ticks": ""
             }
            },
            "type": "scattercarpet"
           }
          ],
          "scattergeo": [
           {
            "marker": {
             "colorbar": {
              "outlinewidth": 0,
              "ticks": ""
             }
            },
            "type": "scattergeo"
           }
          ],
          "scattergl": [
           {
            "marker": {
             "colorbar": {
              "outlinewidth": 0,
              "ticks": ""
             }
            },
            "type": "scattergl"
           }
          ],
          "scattermapbox": [
           {
            "marker": {
             "colorbar": {
              "outlinewidth": 0,
              "ticks": ""
             }
            },
            "type": "scattermapbox"
           }
          ],
          "scatterpolar": [
           {
            "marker": {
             "colorbar": {
              "outlinewidth": 0,
              "ticks": ""
             }
            },
            "type": "scatterpolar"
           }
          ],
          "scatterpolargl": [
           {
            "marker": {
             "colorbar": {
              "outlinewidth": 0,
              "ticks": ""
             }
            },
            "type": "scatterpolargl"
           }
          ],
          "scatterternary": [
           {
            "marker": {
             "colorbar": {
              "outlinewidth": 0,
              "ticks": ""
             }
            },
            "type": "scatterternary"
           }
          ],
          "surface": [
           {
            "colorbar": {
             "outlinewidth": 0,
             "ticks": ""
            },
            "colorscale": [
             [
              0,
              "#0d0887"
             ],
             [
              0.1111111111111111,
              "#46039f"
             ],
             [
              0.2222222222222222,
              "#7201a8"
             ],
             [
              0.3333333333333333,
              "#9c179e"
             ],
             [
              0.4444444444444444,
              "#bd3786"
             ],
             [
              0.5555555555555556,
              "#d8576b"
             ],
             [
              0.6666666666666666,
              "#ed7953"
             ],
             [
              0.7777777777777778,
              "#fb9f3a"
             ],
             [
              0.8888888888888888,
              "#fdca26"
             ],
             [
              1,
              "#f0f921"
             ]
            ],
            "type": "surface"
           }
          ],
          "table": [
           {
            "cells": {
             "fill": {
              "color": "#EBF0F8"
             },
             "line": {
              "color": "white"
             }
            },
            "header": {
             "fill": {
              "color": "#C8D4E3"
             },
             "line": {
              "color": "white"
             }
            },
            "type": "table"
           }
          ]
         },
         "layout": {
          "annotationdefaults": {
           "arrowcolor": "#2a3f5f",
           "arrowhead": 0,
           "arrowwidth": 1
          },
          "autotypenumbers": "strict",
          "coloraxis": {
           "colorbar": {
            "outlinewidth": 0,
            "ticks": ""
           }
          },
          "colorscale": {
           "diverging": [
            [
             0,
             "#8e0152"
            ],
            [
             0.1,
             "#c51b7d"
            ],
            [
             0.2,
             "#de77ae"
            ],
            [
             0.3,
             "#f1b6da"
            ],
            [
             0.4,
             "#fde0ef"
            ],
            [
             0.5,
             "#f7f7f7"
            ],
            [
             0.6,
             "#e6f5d0"
            ],
            [
             0.7,
             "#b8e186"
            ],
            [
             0.8,
             "#7fbc41"
            ],
            [
             0.9,
             "#4d9221"
            ],
            [
             1,
             "#276419"
            ]
           ],
           "sequential": [
            [
             0,
             "#0d0887"
            ],
            [
             0.1111111111111111,
             "#46039f"
            ],
            [
             0.2222222222222222,
             "#7201a8"
            ],
            [
             0.3333333333333333,
             "#9c179e"
            ],
            [
             0.4444444444444444,
             "#bd3786"
            ],
            [
             0.5555555555555556,
             "#d8576b"
            ],
            [
             0.6666666666666666,
             "#ed7953"
            ],
            [
             0.7777777777777778,
             "#fb9f3a"
            ],
            [
             0.8888888888888888,
             "#fdca26"
            ],
            [
             1,
             "#f0f921"
            ]
           ],
           "sequentialminus": [
            [
             0,
             "#0d0887"
            ],
            [
             0.1111111111111111,
             "#46039f"
            ],
            [
             0.2222222222222222,
             "#7201a8"
            ],
            [
             0.3333333333333333,
             "#9c179e"
            ],
            [
             0.4444444444444444,
             "#bd3786"
            ],
            [
             0.5555555555555556,
             "#d8576b"
            ],
            [
             0.6666666666666666,
             "#ed7953"
            ],
            [
             0.7777777777777778,
             "#fb9f3a"
            ],
            [
             0.8888888888888888,
             "#fdca26"
            ],
            [
             1,
             "#f0f921"
            ]
           ]
          },
          "colorway": [
           "#636efa",
           "#EF553B",
           "#00cc96",
           "#ab63fa",
           "#FFA15A",
           "#19d3f3",
           "#FF6692",
           "#B6E880",
           "#FF97FF",
           "#FECB52"
          ],
          "font": {
           "color": "#2a3f5f"
          },
          "geo": {
           "bgcolor": "white",
           "lakecolor": "white",
           "landcolor": "#E5ECF6",
           "showlakes": true,
           "showland": true,
           "subunitcolor": "white"
          },
          "hoverlabel": {
           "align": "left"
          },
          "hovermode": "closest",
          "mapbox": {
           "style": "light"
          },
          "paper_bgcolor": "white",
          "plot_bgcolor": "#E5ECF6",
          "polar": {
           "angularaxis": {
            "gridcolor": "white",
            "linecolor": "white",
            "ticks": ""
           },
           "bgcolor": "#E5ECF6",
           "radialaxis": {
            "gridcolor": "white",
            "linecolor": "white",
            "ticks": ""
           }
          },
          "scene": {
           "xaxis": {
            "backgroundcolor": "#E5ECF6",
            "gridcolor": "white",
            "gridwidth": 2,
            "linecolor": "white",
            "showbackground": true,
            "ticks": "",
            "zerolinecolor": "white"
           },
           "yaxis": {
            "backgroundcolor": "#E5ECF6",
            "gridcolor": "white",
            "gridwidth": 2,
            "linecolor": "white",
            "showbackground": true,
            "ticks": "",
            "zerolinecolor": "white"
           },
           "zaxis": {
            "backgroundcolor": "#E5ECF6",
            "gridcolor": "white",
            "gridwidth": 2,
            "linecolor": "white",
            "showbackground": true,
            "ticks": "",
            "zerolinecolor": "white"
           }
          },
          "shapedefaults": {
           "line": {
            "color": "#2a3f5f"
           }
          },
          "ternary": {
           "aaxis": {
            "gridcolor": "white",
            "linecolor": "white",
            "ticks": ""
           },
           "baxis": {
            "gridcolor": "white",
            "linecolor": "white",
            "ticks": ""
           },
           "bgcolor": "#E5ECF6",
           "caxis": {
            "gridcolor": "white",
            "linecolor": "white",
            "ticks": ""
           }
          },
          "title": {
           "x": 0.05
          },
          "xaxis": {
           "automargin": true,
           "gridcolor": "white",
           "linecolor": "white",
           "ticks": "",
           "title": {
            "standoff": 15
           },
           "zerolinecolor": "white",
           "zerolinewidth": 2
          },
          "yaxis": {
           "automargin": true,
           "gridcolor": "white",
           "linecolor": "white",
           "ticks": "",
           "title": {
            "standoff": 15
           },
           "zerolinecolor": "white",
           "zerolinewidth": 2
          }
         }
        },
        "title": {
         "text": "Outliers for OXO-5LI651F Augusta"
        },
        "xaxis": {
         "anchor": "y",
         "domain": [
          0,
          1
         ],
         "title": {
          "text": "Date"
         }
        },
        "yaxis": {
         "anchor": "x",
         "domain": [
          0,
          1
         ],
         "title": {
          "text": "Value"
         }
        }
       }
      }
     },
     "metadata": {},
     "output_type": "display_data"
    },
    {
     "name": "stdout",
     "output_type": "stream",
     "text": [
      "1 outliers detected in OXO-5LI654E Augusta\n"
     ]
    },
    {
     "data": {
      "application/vnd.plotly.v1+json": {
       "config": {
        "plotlyServerURL": "https://plot.ly"
       },
       "data": [
        {
         "hovertemplate": "index=%{x}<br>OXO-5LI654E Augusta=%{y}<extra></extra>",
         "legendgroup": "",
         "line": {
          "color": "#636efa",
          "dash": "solid"
         },
         "marker": {
          "symbol": "circle"
         },
         "mode": "lines",
         "name": "",
         "orientation": "v",
         "showlegend": false,
         "type": "scatter",
         "x": [
          0,
          1,
          2,
          3,
          4,
          5,
          6,
          7,
          8,
          9,
          10,
          11,
          12,
          13,
          14,
          15,
          16,
          17,
          18,
          19,
          20,
          21,
          22,
          23,
          24,
          25,
          26,
          27,
          28,
          29,
          30,
          31,
          32,
          33,
          34,
          35,
          36,
          37,
          38,
          39,
          40,
          41,
          42,
          43,
          44,
          45,
          46,
          47,
          48,
          49,
          50,
          51,
          52,
          53,
          54,
          55,
          56,
          57,
          58,
          59,
          60,
          61,
          62,
          63,
          64,
          65,
          66,
          67,
          68,
          69,
          70,
          71,
          72,
          73,
          74,
          75,
          76,
          77,
          78,
          79,
          80,
          81,
          82,
          83,
          84,
          85,
          86,
          87,
          88,
          89,
          90,
          91,
          92,
          93,
          94,
          95,
          96,
          97,
          98,
          99
         ],
         "xaxis": "x",
         "y": [
          5639.868680826823,
          5665.735461425781,
          5691.682605081353,
          5717.262089029948,
          5742.96991120667,
          5768.798046875,
          5794.561413574219,
          5820.677510579427,
          5846.735274251302,
          5873.12431398502,
          5898.790884322479,
          5925.19241913094,
          5951.09792706145,
          5975.479903157552,
          6000.604653602789,
          6025.460104549632,
          6050.696252441407,
          6075.722635904948,
          6100.7719034830725,
          6125.976806640625,
          6151.855362955729,
          6177.572180175781,
          6202.724039713542,
          6227.712019856771,
          6253.447887073864,
          6278.89966435793,
          6304.100907389323,
          6329.245393880208,
          6346.398347981771,
          6346.854774664256,
          6346.128304036459,
          6345.583352481618,
          6345.466577148438,
          6344.996964518229,
          6345.018310546875,
          6345.018310546875,
          6344.9737548828125,
          6344.441967773438,
          6344.190388997396,
          6343.704850260417,
          6342.544368489584,
          6342.242643229167,
          6341.6642659505205,
          6341.317568440083,
          6340.653548177083,
          6340.193621980042,
          6339.479516601563,
          6339.007112630208,
          6338.835359700521,
          6337.776106770833,
          6336.979573567708,
          6336.27958984375,
          6336.231315104166,
          6335.959338378906,
          6335.583422851562,
          6335.232568359375,
          6334.530859375,
          6333.503356933594,
          6333.202624511719,
          6333.302868652344,
          6333.503352864584,
          6333.507067871094,
          6333.156213378907,
          6333.12744140625,
          6332.4287109375,
          6331.64190519958,
          6331.013781738281,
          6330.714880371093,
          6330.608129882812,
          6330.420629882812,
          6329.655943310951,
          6329.51897731749,
          6328.586499023438,
          6327.677783203125,
          6326.943530273437,
          6325.679110440341,
          6325.23659893645,
          6325.171472167969,
          6324.92177734375,
          6324.620104980469,
          6324.666516113281,
          6324.132788085937,
          6324.17919921875,
          6324.186870480372,
          6323.867191603204,
          6323.831115722656,
          6323.864677492252,
          6323.529443359375,
          6322.717248535157,
          6322.533359046744,
          6322.023469783057,
          6321.52685546875,
          6320.757267723398,
          6320.3330078125,
          6319.70146891276,
          6319.455436197916,
          6318.901899857955,
          6318.848165047269,
          6317.822043678977,
          6317.8291015625
         ],
         "yaxis": "y"
        },
        {
         "mode": "markers",
         "name": "outliers",
         "type": "scatter",
         "x": [
          0
         ],
         "y": [
          5639.868680826823
         ]
        }
       ],
       "layout": {
        "legend": {
         "tracegroupgap": 0
        },
        "template": {
         "data": {
          "bar": [
           {
            "error_x": {
             "color": "#2a3f5f"
            },
            "error_y": {
             "color": "#2a3f5f"
            },
            "marker": {
             "line": {
              "color": "#E5ECF6",
              "width": 0.5
             },
             "pattern": {
              "fillmode": "overlay",
              "size": 10,
              "solidity": 0.2
             }
            },
            "type": "bar"
           }
          ],
          "barpolar": [
           {
            "marker": {
             "line": {
              "color": "#E5ECF6",
              "width": 0.5
             },
             "pattern": {
              "fillmode": "overlay",
              "size": 10,
              "solidity": 0.2
             }
            },
            "type": "barpolar"
           }
          ],
          "carpet": [
           {
            "aaxis": {
             "endlinecolor": "#2a3f5f",
             "gridcolor": "white",
             "linecolor": "white",
             "minorgridcolor": "white",
             "startlinecolor": "#2a3f5f"
            },
            "baxis": {
             "endlinecolor": "#2a3f5f",
             "gridcolor": "white",
             "linecolor": "white",
             "minorgridcolor": "white",
             "startlinecolor": "#2a3f5f"
            },
            "type": "carpet"
           }
          ],
          "choropleth": [
           {
            "colorbar": {
             "outlinewidth": 0,
             "ticks": ""
            },
            "type": "choropleth"
           }
          ],
          "contour": [
           {
            "colorbar": {
             "outlinewidth": 0,
             "ticks": ""
            },
            "colorscale": [
             [
              0,
              "#0d0887"
             ],
             [
              0.1111111111111111,
              "#46039f"
             ],
             [
              0.2222222222222222,
              "#7201a8"
             ],
             [
              0.3333333333333333,
              "#9c179e"
             ],
             [
              0.4444444444444444,
              "#bd3786"
             ],
             [
              0.5555555555555556,
              "#d8576b"
             ],
             [
              0.6666666666666666,
              "#ed7953"
             ],
             [
              0.7777777777777778,
              "#fb9f3a"
             ],
             [
              0.8888888888888888,
              "#fdca26"
             ],
             [
              1,
              "#f0f921"
             ]
            ],
            "type": "contour"
           }
          ],
          "contourcarpet": [
           {
            "colorbar": {
             "outlinewidth": 0,
             "ticks": ""
            },
            "type": "contourcarpet"
           }
          ],
          "heatmap": [
           {
            "colorbar": {
             "outlinewidth": 0,
             "ticks": ""
            },
            "colorscale": [
             [
              0,
              "#0d0887"
             ],
             [
              0.1111111111111111,
              "#46039f"
             ],
             [
              0.2222222222222222,
              "#7201a8"
             ],
             [
              0.3333333333333333,
              "#9c179e"
             ],
             [
              0.4444444444444444,
              "#bd3786"
             ],
             [
              0.5555555555555556,
              "#d8576b"
             ],
             [
              0.6666666666666666,
              "#ed7953"
             ],
             [
              0.7777777777777778,
              "#fb9f3a"
             ],
             [
              0.8888888888888888,
              "#fdca26"
             ],
             [
              1,
              "#f0f921"
             ]
            ],
            "type": "heatmap"
           }
          ],
          "heatmapgl": [
           {
            "colorbar": {
             "outlinewidth": 0,
             "ticks": ""
            },
            "colorscale": [
             [
              0,
              "#0d0887"
             ],
             [
              0.1111111111111111,
              "#46039f"
             ],
             [
              0.2222222222222222,
              "#7201a8"
             ],
             [
              0.3333333333333333,
              "#9c179e"
             ],
             [
              0.4444444444444444,
              "#bd3786"
             ],
             [
              0.5555555555555556,
              "#d8576b"
             ],
             [
              0.6666666666666666,
              "#ed7953"
             ],
             [
              0.7777777777777778,
              "#fb9f3a"
             ],
             [
              0.8888888888888888,
              "#fdca26"
             ],
             [
              1,
              "#f0f921"
             ]
            ],
            "type": "heatmapgl"
           }
          ],
          "histogram": [
           {
            "marker": {
             "pattern": {
              "fillmode": "overlay",
              "size": 10,
              "solidity": 0.2
             }
            },
            "type": "histogram"
           }
          ],
          "histogram2d": [
           {
            "colorbar": {
             "outlinewidth": 0,
             "ticks": ""
            },
            "colorscale": [
             [
              0,
              "#0d0887"
             ],
             [
              0.1111111111111111,
              "#46039f"
             ],
             [
              0.2222222222222222,
              "#7201a8"
             ],
             [
              0.3333333333333333,
              "#9c179e"
             ],
             [
              0.4444444444444444,
              "#bd3786"
             ],
             [
              0.5555555555555556,
              "#d8576b"
             ],
             [
              0.6666666666666666,
              "#ed7953"
             ],
             [
              0.7777777777777778,
              "#fb9f3a"
             ],
             [
              0.8888888888888888,
              "#fdca26"
             ],
             [
              1,
              "#f0f921"
             ]
            ],
            "type": "histogram2d"
           }
          ],
          "histogram2dcontour": [
           {
            "colorbar": {
             "outlinewidth": 0,
             "ticks": ""
            },
            "colorscale": [
             [
              0,
              "#0d0887"
             ],
             [
              0.1111111111111111,
              "#46039f"
             ],
             [
              0.2222222222222222,
              "#7201a8"
             ],
             [
              0.3333333333333333,
              "#9c179e"
             ],
             [
              0.4444444444444444,
              "#bd3786"
             ],
             [
              0.5555555555555556,
              "#d8576b"
             ],
             [
              0.6666666666666666,
              "#ed7953"
             ],
             [
              0.7777777777777778,
              "#fb9f3a"
             ],
             [
              0.8888888888888888,
              "#fdca26"
             ],
             [
              1,
              "#f0f921"
             ]
            ],
            "type": "histogram2dcontour"
           }
          ],
          "mesh3d": [
           {
            "colorbar": {
             "outlinewidth": 0,
             "ticks": ""
            },
            "type": "mesh3d"
           }
          ],
          "parcoords": [
           {
            "line": {
             "colorbar": {
              "outlinewidth": 0,
              "ticks": ""
             }
            },
            "type": "parcoords"
           }
          ],
          "pie": [
           {
            "automargin": true,
            "type": "pie"
           }
          ],
          "scatter": [
           {
            "fillpattern": {
             "fillmode": "overlay",
             "size": 10,
             "solidity": 0.2
            },
            "type": "scatter"
           }
          ],
          "scatter3d": [
           {
            "line": {
             "colorbar": {
              "outlinewidth": 0,
              "ticks": ""
             }
            },
            "marker": {
             "colorbar": {
              "outlinewidth": 0,
              "ticks": ""
             }
            },
            "type": "scatter3d"
           }
          ],
          "scattercarpet": [
           {
            "marker": {
             "colorbar": {
              "outlinewidth": 0,
              "ticks": ""
             }
            },
            "type": "scattercarpet"
           }
          ],
          "scattergeo": [
           {
            "marker": {
             "colorbar": {
              "outlinewidth": 0,
              "ticks": ""
             }
            },
            "type": "scattergeo"
           }
          ],
          "scattergl": [
           {
            "marker": {
             "colorbar": {
              "outlinewidth": 0,
              "ticks": ""
             }
            },
            "type": "scattergl"
           }
          ],
          "scattermapbox": [
           {
            "marker": {
             "colorbar": {
              "outlinewidth": 0,
              "ticks": ""
             }
            },
            "type": "scattermapbox"
           }
          ],
          "scatterpolar": [
           {
            "marker": {
             "colorbar": {
              "outlinewidth": 0,
              "ticks": ""
             }
            },
            "type": "scatterpolar"
           }
          ],
          "scatterpolargl": [
           {
            "marker": {
             "colorbar": {
              "outlinewidth": 0,
              "ticks": ""
             }
            },
            "type": "scatterpolargl"
           }
          ],
          "scatterternary": [
           {
            "marker": {
             "colorbar": {
              "outlinewidth": 0,
              "ticks": ""
             }
            },
            "type": "scatterternary"
           }
          ],
          "surface": [
           {
            "colorbar": {
             "outlinewidth": 0,
             "ticks": ""
            },
            "colorscale": [
             [
              0,
              "#0d0887"
             ],
             [
              0.1111111111111111,
              "#46039f"
             ],
             [
              0.2222222222222222,
              "#7201a8"
             ],
             [
              0.3333333333333333,
              "#9c179e"
             ],
             [
              0.4444444444444444,
              "#bd3786"
             ],
             [
              0.5555555555555556,
              "#d8576b"
             ],
             [
              0.6666666666666666,
              "#ed7953"
             ],
             [
              0.7777777777777778,
              "#fb9f3a"
             ],
             [
              0.8888888888888888,
              "#fdca26"
             ],
             [
              1,
              "#f0f921"
             ]
            ],
            "type": "surface"
           }
          ],
          "table": [
           {
            "cells": {
             "fill": {
              "color": "#EBF0F8"
             },
             "line": {
              "color": "white"
             }
            },
            "header": {
             "fill": {
              "color": "#C8D4E3"
             },
             "line": {
              "color": "white"
             }
            },
            "type": "table"
           }
          ]
         },
         "layout": {
          "annotationdefaults": {
           "arrowcolor": "#2a3f5f",
           "arrowhead": 0,
           "arrowwidth": 1
          },
          "autotypenumbers": "strict",
          "coloraxis": {
           "colorbar": {
            "outlinewidth": 0,
            "ticks": ""
           }
          },
          "colorscale": {
           "diverging": [
            [
             0,
             "#8e0152"
            ],
            [
             0.1,
             "#c51b7d"
            ],
            [
             0.2,
             "#de77ae"
            ],
            [
             0.3,
             "#f1b6da"
            ],
            [
             0.4,
             "#fde0ef"
            ],
            [
             0.5,
             "#f7f7f7"
            ],
            [
             0.6,
             "#e6f5d0"
            ],
            [
             0.7,
             "#b8e186"
            ],
            [
             0.8,
             "#7fbc41"
            ],
            [
             0.9,
             "#4d9221"
            ],
            [
             1,
             "#276419"
            ]
           ],
           "sequential": [
            [
             0,
             "#0d0887"
            ],
            [
             0.1111111111111111,
             "#46039f"
            ],
            [
             0.2222222222222222,
             "#7201a8"
            ],
            [
             0.3333333333333333,
             "#9c179e"
            ],
            [
             0.4444444444444444,
             "#bd3786"
            ],
            [
             0.5555555555555556,
             "#d8576b"
            ],
            [
             0.6666666666666666,
             "#ed7953"
            ],
            [
             0.7777777777777778,
             "#fb9f3a"
            ],
            [
             0.8888888888888888,
             "#fdca26"
            ],
            [
             1,
             "#f0f921"
            ]
           ],
           "sequentialminus": [
            [
             0,
             "#0d0887"
            ],
            [
             0.1111111111111111,
             "#46039f"
            ],
            [
             0.2222222222222222,
             "#7201a8"
            ],
            [
             0.3333333333333333,
             "#9c179e"
            ],
            [
             0.4444444444444444,
             "#bd3786"
            ],
            [
             0.5555555555555556,
             "#d8576b"
            ],
            [
             0.6666666666666666,
             "#ed7953"
            ],
            [
             0.7777777777777778,
             "#fb9f3a"
            ],
            [
             0.8888888888888888,
             "#fdca26"
            ],
            [
             1,
             "#f0f921"
            ]
           ]
          },
          "colorway": [
           "#636efa",
           "#EF553B",
           "#00cc96",
           "#ab63fa",
           "#FFA15A",
           "#19d3f3",
           "#FF6692",
           "#B6E880",
           "#FF97FF",
           "#FECB52"
          ],
          "font": {
           "color": "#2a3f5f"
          },
          "geo": {
           "bgcolor": "white",
           "lakecolor": "white",
           "landcolor": "#E5ECF6",
           "showlakes": true,
           "showland": true,
           "subunitcolor": "white"
          },
          "hoverlabel": {
           "align": "left"
          },
          "hovermode": "closest",
          "mapbox": {
           "style": "light"
          },
          "paper_bgcolor": "white",
          "plot_bgcolor": "#E5ECF6",
          "polar": {
           "angularaxis": {
            "gridcolor": "white",
            "linecolor": "white",
            "ticks": ""
           },
           "bgcolor": "#E5ECF6",
           "radialaxis": {
            "gridcolor": "white",
            "linecolor": "white",
            "ticks": ""
           }
          },
          "scene": {
           "xaxis": {
            "backgroundcolor": "#E5ECF6",
            "gridcolor": "white",
            "gridwidth": 2,
            "linecolor": "white",
            "showbackground": true,
            "ticks": "",
            "zerolinecolor": "white"
           },
           "yaxis": {
            "backgroundcolor": "#E5ECF6",
            "gridcolor": "white",
            "gridwidth": 2,
            "linecolor": "white",
            "showbackground": true,
            "ticks": "",
            "zerolinecolor": "white"
           },
           "zaxis": {
            "backgroundcolor": "#E5ECF6",
            "gridcolor": "white",
            "gridwidth": 2,
            "linecolor": "white",
            "showbackground": true,
            "ticks": "",
            "zerolinecolor": "white"
           }
          },
          "shapedefaults": {
           "line": {
            "color": "#2a3f5f"
           }
          },
          "ternary": {
           "aaxis": {
            "gridcolor": "white",
            "linecolor": "white",
            "ticks": ""
           },
           "baxis": {
            "gridcolor": "white",
            "linecolor": "white",
            "ticks": ""
           },
           "bgcolor": "#E5ECF6",
           "caxis": {
            "gridcolor": "white",
            "linecolor": "white",
            "ticks": ""
           }
          },
          "title": {
           "x": 0.05
          },
          "xaxis": {
           "automargin": true,
           "gridcolor": "white",
           "linecolor": "white",
           "ticks": "",
           "title": {
            "standoff": 15
           },
           "zerolinecolor": "white",
           "zerolinewidth": 2
          },
          "yaxis": {
           "automargin": true,
           "gridcolor": "white",
           "linecolor": "white",
           "ticks": "",
           "title": {
            "standoff": 15
           },
           "zerolinecolor": "white",
           "zerolinewidth": 2
          }
         }
        },
        "title": {
         "text": "Outliers for OXO-5LI654E Augusta"
        },
        "xaxis": {
         "anchor": "y",
         "domain": [
          0,
          1
         ],
         "title": {
          "text": "Date"
         }
        },
        "yaxis": {
         "anchor": "x",
         "domain": [
          0,
          1
         ],
         "title": {
          "text": "Value"
         }
        }
       }
      }
     },
     "metadata": {},
     "output_type": "display_data"
    },
    {
     "name": "stdout",
     "output_type": "stream",
     "text": [
      "2 outliers detected in OXO-5LI657F Augusta\n"
     ]
    },
    {
     "data": {
      "application/vnd.plotly.v1+json": {
       "config": {
        "plotlyServerURL": "https://plot.ly"
       },
       "data": [
        {
         "hovertemplate": "index=%{x}<br>OXO-5LI657F Augusta=%{y}<extra></extra>",
         "legendgroup": "",
         "line": {
          "color": "#636efa",
          "dash": "solid"
         },
         "marker": {
          "symbol": "circle"
         },
         "mode": "lines",
         "name": "",
         "orientation": "v",
         "showlegend": false,
         "type": "scatter",
         "x": [
          0,
          1,
          2,
          3,
          4,
          5,
          6,
          7,
          8,
          9,
          10,
          11,
          12,
          13,
          14,
          15,
          16,
          17,
          18,
          19,
          20,
          21,
          22,
          23,
          24,
          25,
          26,
          27,
          28,
          29,
          30,
          31,
          32,
          33,
          34,
          35,
          36,
          37,
          38,
          39,
          40,
          41,
          42,
          43,
          44,
          45,
          46,
          47,
          48,
          49,
          50,
          51,
          52,
          53,
          54,
          55,
          56,
          57,
          58,
          59,
          60,
          61,
          62,
          63,
          64,
          65,
          66,
          67,
          68,
          69,
          70,
          71,
          72,
          73,
          74,
          75,
          76,
          77,
          78,
          79,
          80,
          81,
          82,
          83,
          84,
          85,
          86,
          87,
          88,
          89,
          90,
          91,
          92,
          93,
          94,
          95,
          96,
          97,
          98,
          99
         ],
         "xaxis": "x",
         "y": [
          1303.0608235677084,
          1295.1501607259124,
          1292.2070978338088,
          1279.6908092338515,
          1272.1143516351365,
          1264.3419415129329,
          1272.3161530297646,
          1286.90742043888,
          1318.9415649414068,
          1328.2348108212818,
          1336.7262147534798,
          1359.3593891238386,
          1335.033594980962,
          1313.652993446541,
          1320.3990755481875,
          1322.5057362958414,
          1330.2982177734375,
          1324.8086313883468,
          1318.160780843099,
          1310.2947794596364,
          1301.532332356771,
          1297.9629272460938,
          1296.7981384277348,
          1302.6375359149029,
          1308.3470612854526,
          1311.574731243544,
          1307.9258524576842,
          1302.0117757161458,
          1299.39036444656,
          1298.318935139974,
          1307.0280985514323,
          1325.3961049397792,
          1350.7832132975273,
          1360.2043164466045,
          1355.8149454752606,
          1461.8867543538422,
          1414.8921637014182,
          1402.3268155184662,
          1265.030617080817,
          1276.365044148764,
          1368.7100931803393,
          1386.858239746094,
          1371.7733652750655,
          1351.483887736003,
          1328.4933123627973,
          1316.18553559119,
          1311.0678914388031,
          1301.7701416015625,
          1301.5984391141528,
          1302.189784749349,
          1287.1213623046883,
          1281.0589835543608,
          1281.4996846516945,
          1285.861218261719,
          1300.6612559000669,
          1329.3914367675784,
          1339.049095662435,
          1354.7274321248717,
          1352.1501444498697,
          1374.1441794002765,
          1410.8113478983732,
          1439.8746204536506,
          1347.232924280088,
          1310.4729886095065,
          1401.425454711914,
          1404.1086940292496,
          1386.350868733724,
          1377.416532628676,
          1378.6297403971362,
          1384.012250411609,
          1398.0316172367386,
          1412.8747782389328,
          1401.6606964111334,
          1366.1376892089845,
          1365.2486572265627,
          1370.1889617919917,
          1371.8649047851568,
          1373.3581481420697,
          1379.1434855143232,
          1395.2863026936843,
          1414.8354078560828,
          1426.5416187959563,
          1443.563225301107,
          1573.5948476239676,
          1568.2905008951825,
          1493.097830200196,
          1366.6839168772983,
          1303.5248229980475,
          1398.3229001888562,
          1418.9453925124735,
          1414.0358745480366,
          1402.8606192965483,
          1393.3518177379256,
          1381.7807474772137,
          1373.223508690586,
          1353.5735700623068,
          1328.1234715565918,
          1310.3125915527348,
          1300.7295325413222,
          1298.1486175537125
         ],
         "yaxis": "y"
        },
        {
         "mode": "markers",
         "name": "outliers",
         "type": "scatter",
         "x": [
          83,
          84
         ],
         "y": [
          1573.5948476239676,
          1568.2905008951825
         ]
        }
       ],
       "layout": {
        "legend": {
         "tracegroupgap": 0
        },
        "template": {
         "data": {
          "bar": [
           {
            "error_x": {
             "color": "#2a3f5f"
            },
            "error_y": {
             "color": "#2a3f5f"
            },
            "marker": {
             "line": {
              "color": "#E5ECF6",
              "width": 0.5
             },
             "pattern": {
              "fillmode": "overlay",
              "size": 10,
              "solidity": 0.2
             }
            },
            "type": "bar"
           }
          ],
          "barpolar": [
           {
            "marker": {
             "line": {
              "color": "#E5ECF6",
              "width": 0.5
             },
             "pattern": {
              "fillmode": "overlay",
              "size": 10,
              "solidity": 0.2
             }
            },
            "type": "barpolar"
           }
          ],
          "carpet": [
           {
            "aaxis": {
             "endlinecolor": "#2a3f5f",
             "gridcolor": "white",
             "linecolor": "white",
             "minorgridcolor": "white",
             "startlinecolor": "#2a3f5f"
            },
            "baxis": {
             "endlinecolor": "#2a3f5f",
             "gridcolor": "white",
             "linecolor": "white",
             "minorgridcolor": "white",
             "startlinecolor": "#2a3f5f"
            },
            "type": "carpet"
           }
          ],
          "choropleth": [
           {
            "colorbar": {
             "outlinewidth": 0,
             "ticks": ""
            },
            "type": "choropleth"
           }
          ],
          "contour": [
           {
            "colorbar": {
             "outlinewidth": 0,
             "ticks": ""
            },
            "colorscale": [
             [
              0,
              "#0d0887"
             ],
             [
              0.1111111111111111,
              "#46039f"
             ],
             [
              0.2222222222222222,
              "#7201a8"
             ],
             [
              0.3333333333333333,
              "#9c179e"
             ],
             [
              0.4444444444444444,
              "#bd3786"
             ],
             [
              0.5555555555555556,
              "#d8576b"
             ],
             [
              0.6666666666666666,
              "#ed7953"
             ],
             [
              0.7777777777777778,
              "#fb9f3a"
             ],
             [
              0.8888888888888888,
              "#fdca26"
             ],
             [
              1,
              "#f0f921"
             ]
            ],
            "type": "contour"
           }
          ],
          "contourcarpet": [
           {
            "colorbar": {
             "outlinewidth": 0,
             "ticks": ""
            },
            "type": "contourcarpet"
           }
          ],
          "heatmap": [
           {
            "colorbar": {
             "outlinewidth": 0,
             "ticks": ""
            },
            "colorscale": [
             [
              0,
              "#0d0887"
             ],
             [
              0.1111111111111111,
              "#46039f"
             ],
             [
              0.2222222222222222,
              "#7201a8"
             ],
             [
              0.3333333333333333,
              "#9c179e"
             ],
             [
              0.4444444444444444,
              "#bd3786"
             ],
             [
              0.5555555555555556,
              "#d8576b"
             ],
             [
              0.6666666666666666,
              "#ed7953"
             ],
             [
              0.7777777777777778,
              "#fb9f3a"
             ],
             [
              0.8888888888888888,
              "#fdca26"
             ],
             [
              1,
              "#f0f921"
             ]
            ],
            "type": "heatmap"
           }
          ],
          "heatmapgl": [
           {
            "colorbar": {
             "outlinewidth": 0,
             "ticks": ""
            },
            "colorscale": [
             [
              0,
              "#0d0887"
             ],
             [
              0.1111111111111111,
              "#46039f"
             ],
             [
              0.2222222222222222,
              "#7201a8"
             ],
             [
              0.3333333333333333,
              "#9c179e"
             ],
             [
              0.4444444444444444,
              "#bd3786"
             ],
             [
              0.5555555555555556,
              "#d8576b"
             ],
             [
              0.6666666666666666,
              "#ed7953"
             ],
             [
              0.7777777777777778,
              "#fb9f3a"
             ],
             [
              0.8888888888888888,
              "#fdca26"
             ],
             [
              1,
              "#f0f921"
             ]
            ],
            "type": "heatmapgl"
           }
          ],
          "histogram": [
           {
            "marker": {
             "pattern": {
              "fillmode": "overlay",
              "size": 10,
              "solidity": 0.2
             }
            },
            "type": "histogram"
           }
          ],
          "histogram2d": [
           {
            "colorbar": {
             "outlinewidth": 0,
             "ticks": ""
            },
            "colorscale": [
             [
              0,
              "#0d0887"
             ],
             [
              0.1111111111111111,
              "#46039f"
             ],
             [
              0.2222222222222222,
              "#7201a8"
             ],
             [
              0.3333333333333333,
              "#9c179e"
             ],
             [
              0.4444444444444444,
              "#bd3786"
             ],
             [
              0.5555555555555556,
              "#d8576b"
             ],
             [
              0.6666666666666666,
              "#ed7953"
             ],
             [
              0.7777777777777778,
              "#fb9f3a"
             ],
             [
              0.8888888888888888,
              "#fdca26"
             ],
             [
              1,
              "#f0f921"
             ]
            ],
            "type": "histogram2d"
           }
          ],
          "histogram2dcontour": [
           {
            "colorbar": {
             "outlinewidth": 0,
             "ticks": ""
            },
            "colorscale": [
             [
              0,
              "#0d0887"
             ],
             [
              0.1111111111111111,
              "#46039f"
             ],
             [
              0.2222222222222222,
              "#7201a8"
             ],
             [
              0.3333333333333333,
              "#9c179e"
             ],
             [
              0.4444444444444444,
              "#bd3786"
             ],
             [
              0.5555555555555556,
              "#d8576b"
             ],
             [
              0.6666666666666666,
              "#ed7953"
             ],
             [
              0.7777777777777778,
              "#fb9f3a"
             ],
             [
              0.8888888888888888,
              "#fdca26"
             ],
             [
              1,
              "#f0f921"
             ]
            ],
            "type": "histogram2dcontour"
           }
          ],
          "mesh3d": [
           {
            "colorbar": {
             "outlinewidth": 0,
             "ticks": ""
            },
            "type": "mesh3d"
           }
          ],
          "parcoords": [
           {
            "line": {
             "colorbar": {
              "outlinewidth": 0,
              "ticks": ""
             }
            },
            "type": "parcoords"
           }
          ],
          "pie": [
           {
            "automargin": true,
            "type": "pie"
           }
          ],
          "scatter": [
           {
            "fillpattern": {
             "fillmode": "overlay",
             "size": 10,
             "solidity": 0.2
            },
            "type": "scatter"
           }
          ],
          "scatter3d": [
           {
            "line": {
             "colorbar": {
              "outlinewidth": 0,
              "ticks": ""
             }
            },
            "marker": {
             "colorbar": {
              "outlinewidth": 0,
              "ticks": ""
             }
            },
            "type": "scatter3d"
           }
          ],
          "scattercarpet": [
           {
            "marker": {
             "colorbar": {
              "outlinewidth": 0,
              "ticks": ""
             }
            },
            "type": "scattercarpet"
           }
          ],
          "scattergeo": [
           {
            "marker": {
             "colorbar": {
              "outlinewidth": 0,
              "ticks": ""
             }
            },
            "type": "scattergeo"
           }
          ],
          "scattergl": [
           {
            "marker": {
             "colorbar": {
              "outlinewidth": 0,
              "ticks": ""
             }
            },
            "type": "scattergl"
           }
          ],
          "scattermapbox": [
           {
            "marker": {
             "colorbar": {
              "outlinewidth": 0,
              "ticks": ""
             }
            },
            "type": "scattermapbox"
           }
          ],
          "scatterpolar": [
           {
            "marker": {
             "colorbar": {
              "outlinewidth": 0,
              "ticks": ""
             }
            },
            "type": "scatterpolar"
           }
          ],
          "scatterpolargl": [
           {
            "marker": {
             "colorbar": {
              "outlinewidth": 0,
              "ticks": ""
             }
            },
            "type": "scatterpolargl"
           }
          ],
          "scatterternary": [
           {
            "marker": {
             "colorbar": {
              "outlinewidth": 0,
              "ticks": ""
             }
            },
            "type": "scatterternary"
           }
          ],
          "surface": [
           {
            "colorbar": {
             "outlinewidth": 0,
             "ticks": ""
            },
            "colorscale": [
             [
              0,
              "#0d0887"
             ],
             [
              0.1111111111111111,
              "#46039f"
             ],
             [
              0.2222222222222222,
              "#7201a8"
             ],
             [
              0.3333333333333333,
              "#9c179e"
             ],
             [
              0.4444444444444444,
              "#bd3786"
             ],
             [
              0.5555555555555556,
              "#d8576b"
             ],
             [
              0.6666666666666666,
              "#ed7953"
             ],
             [
              0.7777777777777778,
              "#fb9f3a"
             ],
             [
              0.8888888888888888,
              "#fdca26"
             ],
             [
              1,
              "#f0f921"
             ]
            ],
            "type": "surface"
           }
          ],
          "table": [
           {
            "cells": {
             "fill": {
              "color": "#EBF0F8"
             },
             "line": {
              "color": "white"
             }
            },
            "header": {
             "fill": {
              "color": "#C8D4E3"
             },
             "line": {
              "color": "white"
             }
            },
            "type": "table"
           }
          ]
         },
         "layout": {
          "annotationdefaults": {
           "arrowcolor": "#2a3f5f",
           "arrowhead": 0,
           "arrowwidth": 1
          },
          "autotypenumbers": "strict",
          "coloraxis": {
           "colorbar": {
            "outlinewidth": 0,
            "ticks": ""
           }
          },
          "colorscale": {
           "diverging": [
            [
             0,
             "#8e0152"
            ],
            [
             0.1,
             "#c51b7d"
            ],
            [
             0.2,
             "#de77ae"
            ],
            [
             0.3,
             "#f1b6da"
            ],
            [
             0.4,
             "#fde0ef"
            ],
            [
             0.5,
             "#f7f7f7"
            ],
            [
             0.6,
             "#e6f5d0"
            ],
            [
             0.7,
             "#b8e186"
            ],
            [
             0.8,
             "#7fbc41"
            ],
            [
             0.9,
             "#4d9221"
            ],
            [
             1,
             "#276419"
            ]
           ],
           "sequential": [
            [
             0,
             "#0d0887"
            ],
            [
             0.1111111111111111,
             "#46039f"
            ],
            [
             0.2222222222222222,
             "#7201a8"
            ],
            [
             0.3333333333333333,
             "#9c179e"
            ],
            [
             0.4444444444444444,
             "#bd3786"
            ],
            [
             0.5555555555555556,
             "#d8576b"
            ],
            [
             0.6666666666666666,
             "#ed7953"
            ],
            [
             0.7777777777777778,
             "#fb9f3a"
            ],
            [
             0.8888888888888888,
             "#fdca26"
            ],
            [
             1,
             "#f0f921"
            ]
           ],
           "sequentialminus": [
            [
             0,
             "#0d0887"
            ],
            [
             0.1111111111111111,
             "#46039f"
            ],
            [
             0.2222222222222222,
             "#7201a8"
            ],
            [
             0.3333333333333333,
             "#9c179e"
            ],
            [
             0.4444444444444444,
             "#bd3786"
            ],
            [
             0.5555555555555556,
             "#d8576b"
            ],
            [
             0.6666666666666666,
             "#ed7953"
            ],
            [
             0.7777777777777778,
             "#fb9f3a"
            ],
            [
             0.8888888888888888,
             "#fdca26"
            ],
            [
             1,
             "#f0f921"
            ]
           ]
          },
          "colorway": [
           "#636efa",
           "#EF553B",
           "#00cc96",
           "#ab63fa",
           "#FFA15A",
           "#19d3f3",
           "#FF6692",
           "#B6E880",
           "#FF97FF",
           "#FECB52"
          ],
          "font": {
           "color": "#2a3f5f"
          },
          "geo": {
           "bgcolor": "white",
           "lakecolor": "white",
           "landcolor": "#E5ECF6",
           "showlakes": true,
           "showland": true,
           "subunitcolor": "white"
          },
          "hoverlabel": {
           "align": "left"
          },
          "hovermode": "closest",
          "mapbox": {
           "style": "light"
          },
          "paper_bgcolor": "white",
          "plot_bgcolor": "#E5ECF6",
          "polar": {
           "angularaxis": {
            "gridcolor": "white",
            "linecolor": "white",
            "ticks": ""
           },
           "bgcolor": "#E5ECF6",
           "radialaxis": {
            "gridcolor": "white",
            "linecolor": "white",
            "ticks": ""
           }
          },
          "scene": {
           "xaxis": {
            "backgroundcolor": "#E5ECF6",
            "gridcolor": "white",
            "gridwidth": 2,
            "linecolor": "white",
            "showbackground": true,
            "ticks": "",
            "zerolinecolor": "white"
           },
           "yaxis": {
            "backgroundcolor": "#E5ECF6",
            "gridcolor": "white",
            "gridwidth": 2,
            "linecolor": "white",
            "showbackground": true,
            "ticks": "",
            "zerolinecolor": "white"
           },
           "zaxis": {
            "backgroundcolor": "#E5ECF6",
            "gridcolor": "white",
            "gridwidth": 2,
            "linecolor": "white",
            "showbackground": true,
            "ticks": "",
            "zerolinecolor": "white"
           }
          },
          "shapedefaults": {
           "line": {
            "color": "#2a3f5f"
           }
          },
          "ternary": {
           "aaxis": {
            "gridcolor": "white",
            "linecolor": "white",
            "ticks": ""
           },
           "baxis": {
            "gridcolor": "white",
            "linecolor": "white",
            "ticks": ""
           },
           "bgcolor": "#E5ECF6",
           "caxis": {
            "gridcolor": "white",
            "linecolor": "white",
            "ticks": ""
           }
          },
          "title": {
           "x": 0.05
          },
          "xaxis": {
           "automargin": true,
           "gridcolor": "white",
           "linecolor": "white",
           "ticks": "",
           "title": {
            "standoff": 15
           },
           "zerolinecolor": "white",
           "zerolinewidth": 2
          },
          "yaxis": {
           "automargin": true,
           "gridcolor": "white",
           "linecolor": "white",
           "ticks": "",
           "title": {
            "standoff": 15
           },
           "zerolinecolor": "white",
           "zerolinewidth": 2
          }
         }
        },
        "title": {
         "text": "Outliers for OXO-5LI657F Augusta"
        },
        "xaxis": {
         "anchor": "y",
         "domain": [
          0,
          1
         ],
         "title": {
          "text": "Date"
         }
        },
        "yaxis": {
         "anchor": "x",
         "domain": [
          0,
          1
         ],
         "title": {
          "text": "Value"
         }
        }
       }
      }
     },
     "metadata": {},
     "output_type": "display_data"
    },
    {
     "name": "stdout",
     "output_type": "stream",
     "text": [
      "3 outliers detected in OXO-5LI658E Augusta\n"
     ]
    },
    {
     "data": {
      "application/vnd.plotly.v1+json": {
       "config": {
        "plotlyServerURL": "https://plot.ly"
       },
       "data": [
        {
         "hovertemplate": "index=%{x}<br>OXO-5LI658E Augusta=%{y}<extra></extra>",
         "legendgroup": "",
         "line": {
          "color": "#636efa",
          "dash": "solid"
         },
         "marker": {
          "symbol": "circle"
         },
         "mode": "lines",
         "name": "",
         "orientation": "v",
         "showlegend": false,
         "type": "scatter",
         "x": [
          0,
          1,
          2,
          3,
          4,
          5,
          6,
          7,
          8,
          9,
          10,
          11,
          12,
          13,
          14,
          15,
          16,
          17,
          18,
          19,
          20,
          21,
          22,
          23,
          24,
          25,
          26,
          27,
          28,
          29,
          30,
          31,
          32,
          33,
          34,
          35,
          36,
          37,
          38,
          39,
          40,
          41,
          42,
          43,
          44,
          45,
          46,
          47,
          48,
          49,
          50,
          51,
          52,
          53,
          54,
          55,
          56,
          57,
          58,
          59,
          60,
          61,
          62,
          63,
          64,
          65,
          66,
          67,
          68,
          69,
          70,
          71,
          72,
          73,
          74,
          75,
          76,
          77,
          78,
          79,
          80,
          81,
          82,
          83,
          84,
          85,
          86,
          87,
          88,
          89,
          90,
          91,
          92,
          93,
          94,
          95,
          96,
          97,
          98,
          99
         ],
         "xaxis": "x",
         "y": [
          8948.725471047794,
          8948.003857421874,
          8946.228759765625,
          8944.691470816115,
          8943.11950991334,
          8941.461736505682,
          8938.705562303046,
          8936.928076171875,
          8934.12958984375,
          8932.448828125,
          8932.900146484375,
          8931.93515625,
          8938.41098753874,
          8937.72159016927,
          8936.73857421875,
          8937.074432116597,
          8937.37051265496,
          8937.060302734375,
          8937.001806640625,
          8936.626903886554,
          8936.615283203126,
          8936.415625,
          8935.99593233471,
          8935.8001953125,
          8935.947314863446,
          8936.4359375,
          8936.196875,
          8936.732373450413,
          8937.055224609376,
          8937.308260091146,
          8937.55145417542,
          8937.245947265625,
          8935.580224609375,
          8933.46337890625,
          8931.107365379648,
          8929.165958180147,
          8931.15947265625,
          8931.537383780991,
          8932.034434086134,
          8933.372046100207,
          8935.225528492647,
          8935.5408203125,
          8935.937919679753,
          8935.788373161764,
          8935.727685546875,
          8936.722301136364,
          8936.897469143907,
          8937.128955078126,
          8937.931705191115,
          8938.006396484376,
          8938.292648700106,
          8938.591357421876,
          8938.686735026042,
          8939.423038736979,
          8938.690551757812,
          8936.83525390625,
          8937.844686208678,
          8937.182165835084,
          8934.884765625,
          8934.61015625,
          8933.479209710744,
          8934.222935267857,
          8934.178993414256,
          8934.553719143907,
          8936.035400390625,
          8936.993430397728,
          8937.347705078126,
          8936.85048828125,
          8937.245947265625,
          8937.245947265625,
          8937.32353515625,
          8936.833360688026,
          8936.523681640625,
          8937.438597623966,
          8937.846392463236,
          8937.889404296875,
          8938.105743155991,
          8938.02720424107,
          8937.626171875,
          8936.86733277376,
          8934.806263130253,
          8934.512255859376,
          8933.899462890626,
          8933.153893336777,
          8933.487548828125,
          8933.738330488446,
          8934.428369140625,
          8933.825732421876,
          8935.40859375,
          8936.26202543905,
          8936.36411830357,
          8936.40546875,
          8936.683222494834,
          8937.45068359375,
          8938.006396484376,
          8938.115685727416,
          8938.16375581095,
          8938.690551757812,
          8939.100528492647,
          8939.107657877605
         ],
         "yaxis": "y"
        },
        {
         "mode": "markers",
         "name": "outliers",
         "type": "scatter",
         "x": [
          0,
          1,
          2
         ],
         "y": [
          8948.725471047794,
          8948.003857421874,
          8946.228759765625
         ]
        }
       ],
       "layout": {
        "legend": {
         "tracegroupgap": 0
        },
        "template": {
         "data": {
          "bar": [
           {
            "error_x": {
             "color": "#2a3f5f"
            },
            "error_y": {
             "color": "#2a3f5f"
            },
            "marker": {
             "line": {
              "color": "#E5ECF6",
              "width": 0.5
             },
             "pattern": {
              "fillmode": "overlay",
              "size": 10,
              "solidity": 0.2
             }
            },
            "type": "bar"
           }
          ],
          "barpolar": [
           {
            "marker": {
             "line": {
              "color": "#E5ECF6",
              "width": 0.5
             },
             "pattern": {
              "fillmode": "overlay",
              "size": 10,
              "solidity": 0.2
             }
            },
            "type": "barpolar"
           }
          ],
          "carpet": [
           {
            "aaxis": {
             "endlinecolor": "#2a3f5f",
             "gridcolor": "white",
             "linecolor": "white",
             "minorgridcolor": "white",
             "startlinecolor": "#2a3f5f"
            },
            "baxis": {
             "endlinecolor": "#2a3f5f",
             "gridcolor": "white",
             "linecolor": "white",
             "minorgridcolor": "white",
             "startlinecolor": "#2a3f5f"
            },
            "type": "carpet"
           }
          ],
          "choropleth": [
           {
            "colorbar": {
             "outlinewidth": 0,
             "ticks": ""
            },
            "type": "choropleth"
           }
          ],
          "contour": [
           {
            "colorbar": {
             "outlinewidth": 0,
             "ticks": ""
            },
            "colorscale": [
             [
              0,
              "#0d0887"
             ],
             [
              0.1111111111111111,
              "#46039f"
             ],
             [
              0.2222222222222222,
              "#7201a8"
             ],
             [
              0.3333333333333333,
              "#9c179e"
             ],
             [
              0.4444444444444444,
              "#bd3786"
             ],
             [
              0.5555555555555556,
              "#d8576b"
             ],
             [
              0.6666666666666666,
              "#ed7953"
             ],
             [
              0.7777777777777778,
              "#fb9f3a"
             ],
             [
              0.8888888888888888,
              "#fdca26"
             ],
             [
              1,
              "#f0f921"
             ]
            ],
            "type": "contour"
           }
          ],
          "contourcarpet": [
           {
            "colorbar": {
             "outlinewidth": 0,
             "ticks": ""
            },
            "type": "contourcarpet"
           }
          ],
          "heatmap": [
           {
            "colorbar": {
             "outlinewidth": 0,
             "ticks": ""
            },
            "colorscale": [
             [
              0,
              "#0d0887"
             ],
             [
              0.1111111111111111,
              "#46039f"
             ],
             [
              0.2222222222222222,
              "#7201a8"
             ],
             [
              0.3333333333333333,
              "#9c179e"
             ],
             [
              0.4444444444444444,
              "#bd3786"
             ],
             [
              0.5555555555555556,
              "#d8576b"
             ],
             [
              0.6666666666666666,
              "#ed7953"
             ],
             [
              0.7777777777777778,
              "#fb9f3a"
             ],
             [
              0.8888888888888888,
              "#fdca26"
             ],
             [
              1,
              "#f0f921"
             ]
            ],
            "type": "heatmap"
           }
          ],
          "heatmapgl": [
           {
            "colorbar": {
             "outlinewidth": 0,
             "ticks": ""
            },
            "colorscale": [
             [
              0,
              "#0d0887"
             ],
             [
              0.1111111111111111,
              "#46039f"
             ],
             [
              0.2222222222222222,
              "#7201a8"
             ],
             [
              0.3333333333333333,
              "#9c179e"
             ],
             [
              0.4444444444444444,
              "#bd3786"
             ],
             [
              0.5555555555555556,
              "#d8576b"
             ],
             [
              0.6666666666666666,
              "#ed7953"
             ],
             [
              0.7777777777777778,
              "#fb9f3a"
             ],
             [
              0.8888888888888888,
              "#fdca26"
             ],
             [
              1,
              "#f0f921"
             ]
            ],
            "type": "heatmapgl"
           }
          ],
          "histogram": [
           {
            "marker": {
             "pattern": {
              "fillmode": "overlay",
              "size": 10,
              "solidity": 0.2
             }
            },
            "type": "histogram"
           }
          ],
          "histogram2d": [
           {
            "colorbar": {
             "outlinewidth": 0,
             "ticks": ""
            },
            "colorscale": [
             [
              0,
              "#0d0887"
             ],
             [
              0.1111111111111111,
              "#46039f"
             ],
             [
              0.2222222222222222,
              "#7201a8"
             ],
             [
              0.3333333333333333,
              "#9c179e"
             ],
             [
              0.4444444444444444,
              "#bd3786"
             ],
             [
              0.5555555555555556,
              "#d8576b"
             ],
             [
              0.6666666666666666,
              "#ed7953"
             ],
             [
              0.7777777777777778,
              "#fb9f3a"
             ],
             [
              0.8888888888888888,
              "#fdca26"
             ],
             [
              1,
              "#f0f921"
             ]
            ],
            "type": "histogram2d"
           }
          ],
          "histogram2dcontour": [
           {
            "colorbar": {
             "outlinewidth": 0,
             "ticks": ""
            },
            "colorscale": [
             [
              0,
              "#0d0887"
             ],
             [
              0.1111111111111111,
              "#46039f"
             ],
             [
              0.2222222222222222,
              "#7201a8"
             ],
             [
              0.3333333333333333,
              "#9c179e"
             ],
             [
              0.4444444444444444,
              "#bd3786"
             ],
             [
              0.5555555555555556,
              "#d8576b"
             ],
             [
              0.6666666666666666,
              "#ed7953"
             ],
             [
              0.7777777777777778,
              "#fb9f3a"
             ],
             [
              0.8888888888888888,
              "#fdca26"
             ],
             [
              1,
              "#f0f921"
             ]
            ],
            "type": "histogram2dcontour"
           }
          ],
          "mesh3d": [
           {
            "colorbar": {
             "outlinewidth": 0,
             "ticks": ""
            },
            "type": "mesh3d"
           }
          ],
          "parcoords": [
           {
            "line": {
             "colorbar": {
              "outlinewidth": 0,
              "ticks": ""
             }
            },
            "type": "parcoords"
           }
          ],
          "pie": [
           {
            "automargin": true,
            "type": "pie"
           }
          ],
          "scatter": [
           {
            "fillpattern": {
             "fillmode": "overlay",
             "size": 10,
             "solidity": 0.2
            },
            "type": "scatter"
           }
          ],
          "scatter3d": [
           {
            "line": {
             "colorbar": {
              "outlinewidth": 0,
              "ticks": ""
             }
            },
            "marker": {
             "colorbar": {
              "outlinewidth": 0,
              "ticks": ""
             }
            },
            "type": "scatter3d"
           }
          ],
          "scattercarpet": [
           {
            "marker": {
             "colorbar": {
              "outlinewidth": 0,
              "ticks": ""
             }
            },
            "type": "scattercarpet"
           }
          ],
          "scattergeo": [
           {
            "marker": {
             "colorbar": {
              "outlinewidth": 0,
              "ticks": ""
             }
            },
            "type": "scattergeo"
           }
          ],
          "scattergl": [
           {
            "marker": {
             "colorbar": {
              "outlinewidth": 0,
              "ticks": ""
             }
            },
            "type": "scattergl"
           }
          ],
          "scattermapbox": [
           {
            "marker": {
             "colorbar": {
              "outlinewidth": 0,
              "ticks": ""
             }
            },
            "type": "scattermapbox"
           }
          ],
          "scatterpolar": [
           {
            "marker": {
             "colorbar": {
              "outlinewidth": 0,
              "ticks": ""
             }
            },
            "type": "scatterpolar"
           }
          ],
          "scatterpolargl": [
           {
            "marker": {
             "colorbar": {
              "outlinewidth": 0,
              "ticks": ""
             }
            },
            "type": "scatterpolargl"
           }
          ],
          "scatterternary": [
           {
            "marker": {
             "colorbar": {
              "outlinewidth": 0,
              "ticks": ""
             }
            },
            "type": "scatterternary"
           }
          ],
          "surface": [
           {
            "colorbar": {
             "outlinewidth": 0,
             "ticks": ""
            },
            "colorscale": [
             [
              0,
              "#0d0887"
             ],
             [
              0.1111111111111111,
              "#46039f"
             ],
             [
              0.2222222222222222,
              "#7201a8"
             ],
             [
              0.3333333333333333,
              "#9c179e"
             ],
             [
              0.4444444444444444,
              "#bd3786"
             ],
             [
              0.5555555555555556,
              "#d8576b"
             ],
             [
              0.6666666666666666,
              "#ed7953"
             ],
             [
              0.7777777777777778,
              "#fb9f3a"
             ],
             [
              0.8888888888888888,
              "#fdca26"
             ],
             [
              1,
              "#f0f921"
             ]
            ],
            "type": "surface"
           }
          ],
          "table": [
           {
            "cells": {
             "fill": {
              "color": "#EBF0F8"
             },
             "line": {
              "color": "white"
             }
            },
            "header": {
             "fill": {
              "color": "#C8D4E3"
             },
             "line": {
              "color": "white"
             }
            },
            "type": "table"
           }
          ]
         },
         "layout": {
          "annotationdefaults": {
           "arrowcolor": "#2a3f5f",
           "arrowhead": 0,
           "arrowwidth": 1
          },
          "autotypenumbers": "strict",
          "coloraxis": {
           "colorbar": {
            "outlinewidth": 0,
            "ticks": ""
           }
          },
          "colorscale": {
           "diverging": [
            [
             0,
             "#8e0152"
            ],
            [
             0.1,
             "#c51b7d"
            ],
            [
             0.2,
             "#de77ae"
            ],
            [
             0.3,
             "#f1b6da"
            ],
            [
             0.4,
             "#fde0ef"
            ],
            [
             0.5,
             "#f7f7f7"
            ],
            [
             0.6,
             "#e6f5d0"
            ],
            [
             0.7,
             "#b8e186"
            ],
            [
             0.8,
             "#7fbc41"
            ],
            [
             0.9,
             "#4d9221"
            ],
            [
             1,
             "#276419"
            ]
           ],
           "sequential": [
            [
             0,
             "#0d0887"
            ],
            [
             0.1111111111111111,
             "#46039f"
            ],
            [
             0.2222222222222222,
             "#7201a8"
            ],
            [
             0.3333333333333333,
             "#9c179e"
            ],
            [
             0.4444444444444444,
             "#bd3786"
            ],
            [
             0.5555555555555556,
             "#d8576b"
            ],
            [
             0.6666666666666666,
             "#ed7953"
            ],
            [
             0.7777777777777778,
             "#fb9f3a"
            ],
            [
             0.8888888888888888,
             "#fdca26"
            ],
            [
             1,
             "#f0f921"
            ]
           ],
           "sequentialminus": [
            [
             0,
             "#0d0887"
            ],
            [
             0.1111111111111111,
             "#46039f"
            ],
            [
             0.2222222222222222,
             "#7201a8"
            ],
            [
             0.3333333333333333,
             "#9c179e"
            ],
            [
             0.4444444444444444,
             "#bd3786"
            ],
            [
             0.5555555555555556,
             "#d8576b"
            ],
            [
             0.6666666666666666,
             "#ed7953"
            ],
            [
             0.7777777777777778,
             "#fb9f3a"
            ],
            [
             0.8888888888888888,
             "#fdca26"
            ],
            [
             1,
             "#f0f921"
            ]
           ]
          },
          "colorway": [
           "#636efa",
           "#EF553B",
           "#00cc96",
           "#ab63fa",
           "#FFA15A",
           "#19d3f3",
           "#FF6692",
           "#B6E880",
           "#FF97FF",
           "#FECB52"
          ],
          "font": {
           "color": "#2a3f5f"
          },
          "geo": {
           "bgcolor": "white",
           "lakecolor": "white",
           "landcolor": "#E5ECF6",
           "showlakes": true,
           "showland": true,
           "subunitcolor": "white"
          },
          "hoverlabel": {
           "align": "left"
          },
          "hovermode": "closest",
          "mapbox": {
           "style": "light"
          },
          "paper_bgcolor": "white",
          "plot_bgcolor": "#E5ECF6",
          "polar": {
           "angularaxis": {
            "gridcolor": "white",
            "linecolor": "white",
            "ticks": ""
           },
           "bgcolor": "#E5ECF6",
           "radialaxis": {
            "gridcolor": "white",
            "linecolor": "white",
            "ticks": ""
           }
          },
          "scene": {
           "xaxis": {
            "backgroundcolor": "#E5ECF6",
            "gridcolor": "white",
            "gridwidth": 2,
            "linecolor": "white",
            "showbackground": true,
            "ticks": "",
            "zerolinecolor": "white"
           },
           "yaxis": {
            "backgroundcolor": "#E5ECF6",
            "gridcolor": "white",
            "gridwidth": 2,
            "linecolor": "white",
            "showbackground": true,
            "ticks": "",
            "zerolinecolor": "white"
           },
           "zaxis": {
            "backgroundcolor": "#E5ECF6",
            "gridcolor": "white",
            "gridwidth": 2,
            "linecolor": "white",
            "showbackground": true,
            "ticks": "",
            "zerolinecolor": "white"
           }
          },
          "shapedefaults": {
           "line": {
            "color": "#2a3f5f"
           }
          },
          "ternary": {
           "aaxis": {
            "gridcolor": "white",
            "linecolor": "white",
            "ticks": ""
           },
           "baxis": {
            "gridcolor": "white",
            "linecolor": "white",
            "ticks": ""
           },
           "bgcolor": "#E5ECF6",
           "caxis": {
            "gridcolor": "white",
            "linecolor": "white",
            "ticks": ""
           }
          },
          "title": {
           "x": 0.05
          },
          "xaxis": {
           "automargin": true,
           "gridcolor": "white",
           "linecolor": "white",
           "ticks": "",
           "title": {
            "standoff": 15
           },
           "zerolinecolor": "white",
           "zerolinewidth": 2
          },
          "yaxis": {
           "automargin": true,
           "gridcolor": "white",
           "linecolor": "white",
           "ticks": "",
           "title": {
            "standoff": 15
           },
           "zerolinecolor": "white",
           "zerolinewidth": 2
          }
         }
        },
        "title": {
         "text": "Outliers for OXO-5LI658E Augusta"
        },
        "xaxis": {
         "anchor": "y",
         "domain": [
          0,
          1
         ],
         "title": {
          "text": "Date"
         }
        },
        "yaxis": {
         "anchor": "x",
         "domain": [
          0,
          1
         ],
         "title": {
          "text": "Value"
         }
        }
       }
      }
     },
     "metadata": {},
     "output_type": "display_data"
    },
    {
     "name": "stdout",
     "output_type": "stream",
     "text": [
      "4 outliers detected in OXO-5PIC605A Augusta\n"
     ]
    },
    {
     "data": {
      "application/vnd.plotly.v1+json": {
       "config": {
        "plotlyServerURL": "https://plot.ly"
       },
       "data": [
        {
         "hovertemplate": "index=%{x}<br>OXO-5PIC605A Augusta=%{y}<extra></extra>",
         "legendgroup": "",
         "line": {
          "color": "#636efa",
          "dash": "solid"
         },
         "marker": {
          "symbol": "circle"
         },
         "mode": "lines",
         "name": "",
         "orientation": "v",
         "showlegend": false,
         "type": "scatter",
         "x": [
          0,
          1,
          2,
          3,
          4,
          5,
          6,
          7,
          8,
          9,
          10,
          11,
          12,
          13,
          14,
          15,
          16,
          17,
          18,
          19,
          20,
          21,
          22,
          23,
          24,
          25,
          26,
          27,
          28,
          29,
          30,
          31,
          32,
          33,
          34,
          35,
          36,
          37,
          38,
          39,
          40,
          41,
          42,
          43,
          44,
          45,
          46,
          47,
          48,
          49,
          50,
          51,
          52,
          53,
          54,
          55,
          56,
          57,
          58,
          59,
          60,
          61,
          62,
          63,
          64,
          65,
          66,
          67,
          68,
          69,
          70,
          71,
          72,
          73,
          74,
          75,
          76,
          77,
          78,
          79,
          80,
          81,
          82,
          83,
          84,
          85,
          86,
          87,
          88,
          89,
          90,
          91,
          92,
          93,
          94,
          95,
          96,
          97,
          98,
          99
         ],
         "xaxis": "x",
         "y": [
          184.0268872578939,
          183.9532948811849,
          183.96343023126772,
          183.97538782755527,
          183.9687121073405,
          184.00778249104812,
          183.97559042537915,
          183.9644837697348,
          183.9951291402181,
          183.97689214028605,
          183.9661371866862,
          183.98908958435052,
          183.96874376932783,
          183.9979901631673,
          184.0108969370524,
          184.0272057851156,
          183.99129800235528,
          183.96893450419108,
          184.01727685849528,
          184.06217422485352,
          184.10553525288896,
          183.93737869903825,
          184.0784717906605,
          183.985431831424,
          183.9686626087536,
          183.96957105000817,
          183.95616393530068,
          183.9727305262542,
          183.99001108805345,
          183.9931903839111,
          183.99030412946428,
          184.01611099243163,
          184.01484995440012,
          184.0640678085199,
          184.15172526041667,
          185.1381899515788,
          184.1400754313824,
          184.0823918660482,
          184.09464898630355,
          182.0371107737223,
          183.97856725056965,
          184.08814646403,
          184.6275441823912,
          183.80108540852865,
          184.33610458374025,
          183.2890301872702,
          182.1731424883378,
          184.0456116994222,
          182.67190551757807,
          183.96049839997096,
          184.0048581932773,
          184.0354368351708,
          183.95367584228515,
          184.08932177225748,
          183.9501467386881,
          184.07956250508627,
          184.0574681599936,
          184.00543482163377,
          183.9622004485328,
          183.94677734375,
          183.99897626241045,
          184.01550738016763,
          183.99633776346843,
          183.9590175853056,
          183.923539352417,
          184.09091262817384,
          183.85466179965945,
          183.9943441182625,
          184.02472648620605,
          183.8947691599528,
          183.9639441172282,
          183.9354341365089,
          183.93520596822103,
          183.99197092777536,
          184.0363835106212,
          184.0390633900961,
          183.9907847172072,
          184.0041312225594,
          184.0076545715332,
          184.11904538472496,
          184.04662816664748,
          184.0120730082194,
          183.97124815381264,
          184.02844530741376,
          184.01396217666755,
          183.99946543796003,
          183.9667734781901,
          183.75801073710127,
          184.05673777262373,
          184.03527998723908,
          184.0237715539853,
          184.03728281656905,
          184.0309205896714,
          184.0107381184896,
          184.0291319287513,
          184.02640039780565,
          183.9796796162924,
          183.94092763264976,
          184.1131336212158,
          183.99382553100588
         ],
         "yaxis": "y"
        },
        {
         "mode": "markers",
         "name": "outliers",
         "type": "scatter",
         "x": [
          35,
          39,
          46,
          48
         ],
         "y": [
          185.1381899515788,
          182.0371107737223,
          182.1731424883378,
          182.67190551757807
         ]
        }
       ],
       "layout": {
        "legend": {
         "tracegroupgap": 0
        },
        "template": {
         "data": {
          "bar": [
           {
            "error_x": {
             "color": "#2a3f5f"
            },
            "error_y": {
             "color": "#2a3f5f"
            },
            "marker": {
             "line": {
              "color": "#E5ECF6",
              "width": 0.5
             },
             "pattern": {
              "fillmode": "overlay",
              "size": 10,
              "solidity": 0.2
             }
            },
            "type": "bar"
           }
          ],
          "barpolar": [
           {
            "marker": {
             "line": {
              "color": "#E5ECF6",
              "width": 0.5
             },
             "pattern": {
              "fillmode": "overlay",
              "size": 10,
              "solidity": 0.2
             }
            },
            "type": "barpolar"
           }
          ],
          "carpet": [
           {
            "aaxis": {
             "endlinecolor": "#2a3f5f",
             "gridcolor": "white",
             "linecolor": "white",
             "minorgridcolor": "white",
             "startlinecolor": "#2a3f5f"
            },
            "baxis": {
             "endlinecolor": "#2a3f5f",
             "gridcolor": "white",
             "linecolor": "white",
             "minorgridcolor": "white",
             "startlinecolor": "#2a3f5f"
            },
            "type": "carpet"
           }
          ],
          "choropleth": [
           {
            "colorbar": {
             "outlinewidth": 0,
             "ticks": ""
            },
            "type": "choropleth"
           }
          ],
          "contour": [
           {
            "colorbar": {
             "outlinewidth": 0,
             "ticks": ""
            },
            "colorscale": [
             [
              0,
              "#0d0887"
             ],
             [
              0.1111111111111111,
              "#46039f"
             ],
             [
              0.2222222222222222,
              "#7201a8"
             ],
             [
              0.3333333333333333,
              "#9c179e"
             ],
             [
              0.4444444444444444,
              "#bd3786"
             ],
             [
              0.5555555555555556,
              "#d8576b"
             ],
             [
              0.6666666666666666,
              "#ed7953"
             ],
             [
              0.7777777777777778,
              "#fb9f3a"
             ],
             [
              0.8888888888888888,
              "#fdca26"
             ],
             [
              1,
              "#f0f921"
             ]
            ],
            "type": "contour"
           }
          ],
          "contourcarpet": [
           {
            "colorbar": {
             "outlinewidth": 0,
             "ticks": ""
            },
            "type": "contourcarpet"
           }
          ],
          "heatmap": [
           {
            "colorbar": {
             "outlinewidth": 0,
             "ticks": ""
            },
            "colorscale": [
             [
              0,
              "#0d0887"
             ],
             [
              0.1111111111111111,
              "#46039f"
             ],
             [
              0.2222222222222222,
              "#7201a8"
             ],
             [
              0.3333333333333333,
              "#9c179e"
             ],
             [
              0.4444444444444444,
              "#bd3786"
             ],
             [
              0.5555555555555556,
              "#d8576b"
             ],
             [
              0.6666666666666666,
              "#ed7953"
             ],
             [
              0.7777777777777778,
              "#fb9f3a"
             ],
             [
              0.8888888888888888,
              "#fdca26"
             ],
             [
              1,
              "#f0f921"
             ]
            ],
            "type": "heatmap"
           }
          ],
          "heatmapgl": [
           {
            "colorbar": {
             "outlinewidth": 0,
             "ticks": ""
            },
            "colorscale": [
             [
              0,
              "#0d0887"
             ],
             [
              0.1111111111111111,
              "#46039f"
             ],
             [
              0.2222222222222222,
              "#7201a8"
             ],
             [
              0.3333333333333333,
              "#9c179e"
             ],
             [
              0.4444444444444444,
              "#bd3786"
             ],
             [
              0.5555555555555556,
              "#d8576b"
             ],
             [
              0.6666666666666666,
              "#ed7953"
             ],
             [
              0.7777777777777778,
              "#fb9f3a"
             ],
             [
              0.8888888888888888,
              "#fdca26"
             ],
             [
              1,
              "#f0f921"
             ]
            ],
            "type": "heatmapgl"
           }
          ],
          "histogram": [
           {
            "marker": {
             "pattern": {
              "fillmode": "overlay",
              "size": 10,
              "solidity": 0.2
             }
            },
            "type": "histogram"
           }
          ],
          "histogram2d": [
           {
            "colorbar": {
             "outlinewidth": 0,
             "ticks": ""
            },
            "colorscale": [
             [
              0,
              "#0d0887"
             ],
             [
              0.1111111111111111,
              "#46039f"
             ],
             [
              0.2222222222222222,
              "#7201a8"
             ],
             [
              0.3333333333333333,
              "#9c179e"
             ],
             [
              0.4444444444444444,
              "#bd3786"
             ],
             [
              0.5555555555555556,
              "#d8576b"
             ],
             [
              0.6666666666666666,
              "#ed7953"
             ],
             [
              0.7777777777777778,
              "#fb9f3a"
             ],
             [
              0.8888888888888888,
              "#fdca26"
             ],
             [
              1,
              "#f0f921"
             ]
            ],
            "type": "histogram2d"
           }
          ],
          "histogram2dcontour": [
           {
            "colorbar": {
             "outlinewidth": 0,
             "ticks": ""
            },
            "colorscale": [
             [
              0,
              "#0d0887"
             ],
             [
              0.1111111111111111,
              "#46039f"
             ],
             [
              0.2222222222222222,
              "#7201a8"
             ],
             [
              0.3333333333333333,
              "#9c179e"
             ],
             [
              0.4444444444444444,
              "#bd3786"
             ],
             [
              0.5555555555555556,
              "#d8576b"
             ],
             [
              0.6666666666666666,
              "#ed7953"
             ],
             [
              0.7777777777777778,
              "#fb9f3a"
             ],
             [
              0.8888888888888888,
              "#fdca26"
             ],
             [
              1,
              "#f0f921"
             ]
            ],
            "type": "histogram2dcontour"
           }
          ],
          "mesh3d": [
           {
            "colorbar": {
             "outlinewidth": 0,
             "ticks": ""
            },
            "type": "mesh3d"
           }
          ],
          "parcoords": [
           {
            "line": {
             "colorbar": {
              "outlinewidth": 0,
              "ticks": ""
             }
            },
            "type": "parcoords"
           }
          ],
          "pie": [
           {
            "automargin": true,
            "type": "pie"
           }
          ],
          "scatter": [
           {
            "fillpattern": {
             "fillmode": "overlay",
             "size": 10,
             "solidity": 0.2
            },
            "type": "scatter"
           }
          ],
          "scatter3d": [
           {
            "line": {
             "colorbar": {
              "outlinewidth": 0,
              "ticks": ""
             }
            },
            "marker": {
             "colorbar": {
              "outlinewidth": 0,
              "ticks": ""
             }
            },
            "type": "scatter3d"
           }
          ],
          "scattercarpet": [
           {
            "marker": {
             "colorbar": {
              "outlinewidth": 0,
              "ticks": ""
             }
            },
            "type": "scattercarpet"
           }
          ],
          "scattergeo": [
           {
            "marker": {
             "colorbar": {
              "outlinewidth": 0,
              "ticks": ""
             }
            },
            "type": "scattergeo"
           }
          ],
          "scattergl": [
           {
            "marker": {
             "colorbar": {
              "outlinewidth": 0,
              "ticks": ""
             }
            },
            "type": "scattergl"
           }
          ],
          "scattermapbox": [
           {
            "marker": {
             "colorbar": {
              "outlinewidth": 0,
              "ticks": ""
             }
            },
            "type": "scattermapbox"
           }
          ],
          "scatterpolar": [
           {
            "marker": {
             "colorbar": {
              "outlinewidth": 0,
              "ticks": ""
             }
            },
            "type": "scatterpolar"
           }
          ],
          "scatterpolargl": [
           {
            "marker": {
             "colorbar": {
              "outlinewidth": 0,
              "ticks": ""
             }
            },
            "type": "scatterpolargl"
           }
          ],
          "scatterternary": [
           {
            "marker": {
             "colorbar": {
              "outlinewidth": 0,
              "ticks": ""
             }
            },
            "type": "scatterternary"
           }
          ],
          "surface": [
           {
            "colorbar": {
             "outlinewidth": 0,
             "ticks": ""
            },
            "colorscale": [
             [
              0,
              "#0d0887"
             ],
             [
              0.1111111111111111,
              "#46039f"
             ],
             [
              0.2222222222222222,
              "#7201a8"
             ],
             [
              0.3333333333333333,
              "#9c179e"
             ],
             [
              0.4444444444444444,
              "#bd3786"
             ],
             [
              0.5555555555555556,
              "#d8576b"
             ],
             [
              0.6666666666666666,
              "#ed7953"
             ],
             [
              0.7777777777777778,
              "#fb9f3a"
             ],
             [
              0.8888888888888888,
              "#fdca26"
             ],
             [
              1,
              "#f0f921"
             ]
            ],
            "type": "surface"
           }
          ],
          "table": [
           {
            "cells": {
             "fill": {
              "color": "#EBF0F8"
             },
             "line": {
              "color": "white"
             }
            },
            "header": {
             "fill": {
              "color": "#C8D4E3"
             },
             "line": {
              "color": "white"
             }
            },
            "type": "table"
           }
          ]
         },
         "layout": {
          "annotationdefaults": {
           "arrowcolor": "#2a3f5f",
           "arrowhead": 0,
           "arrowwidth": 1
          },
          "autotypenumbers": "strict",
          "coloraxis": {
           "colorbar": {
            "outlinewidth": 0,
            "ticks": ""
           }
          },
          "colorscale": {
           "diverging": [
            [
             0,
             "#8e0152"
            ],
            [
             0.1,
             "#c51b7d"
            ],
            [
             0.2,
             "#de77ae"
            ],
            [
             0.3,
             "#f1b6da"
            ],
            [
             0.4,
             "#fde0ef"
            ],
            [
             0.5,
             "#f7f7f7"
            ],
            [
             0.6,
             "#e6f5d0"
            ],
            [
             0.7,
             "#b8e186"
            ],
            [
             0.8,
             "#7fbc41"
            ],
            [
             0.9,
             "#4d9221"
            ],
            [
             1,
             "#276419"
            ]
           ],
           "sequential": [
            [
             0,
             "#0d0887"
            ],
            [
             0.1111111111111111,
             "#46039f"
            ],
            [
             0.2222222222222222,
             "#7201a8"
            ],
            [
             0.3333333333333333,
             "#9c179e"
            ],
            [
             0.4444444444444444,
             "#bd3786"
            ],
            [
             0.5555555555555556,
             "#d8576b"
            ],
            [
             0.6666666666666666,
             "#ed7953"
            ],
            [
             0.7777777777777778,
             "#fb9f3a"
            ],
            [
             0.8888888888888888,
             "#fdca26"
            ],
            [
             1,
             "#f0f921"
            ]
           ],
           "sequentialminus": [
            [
             0,
             "#0d0887"
            ],
            [
             0.1111111111111111,
             "#46039f"
            ],
            [
             0.2222222222222222,
             "#7201a8"
            ],
            [
             0.3333333333333333,
             "#9c179e"
            ],
            [
             0.4444444444444444,
             "#bd3786"
            ],
            [
             0.5555555555555556,
             "#d8576b"
            ],
            [
             0.6666666666666666,
             "#ed7953"
            ],
            [
             0.7777777777777778,
             "#fb9f3a"
            ],
            [
             0.8888888888888888,
             "#fdca26"
            ],
            [
             1,
             "#f0f921"
            ]
           ]
          },
          "colorway": [
           "#636efa",
           "#EF553B",
           "#00cc96",
           "#ab63fa",
           "#FFA15A",
           "#19d3f3",
           "#FF6692",
           "#B6E880",
           "#FF97FF",
           "#FECB52"
          ],
          "font": {
           "color": "#2a3f5f"
          },
          "geo": {
           "bgcolor": "white",
           "lakecolor": "white",
           "landcolor": "#E5ECF6",
           "showlakes": true,
           "showland": true,
           "subunitcolor": "white"
          },
          "hoverlabel": {
           "align": "left"
          },
          "hovermode": "closest",
          "mapbox": {
           "style": "light"
          },
          "paper_bgcolor": "white",
          "plot_bgcolor": "#E5ECF6",
          "polar": {
           "angularaxis": {
            "gridcolor": "white",
            "linecolor": "white",
            "ticks": ""
           },
           "bgcolor": "#E5ECF6",
           "radialaxis": {
            "gridcolor": "white",
            "linecolor": "white",
            "ticks": ""
           }
          },
          "scene": {
           "xaxis": {
            "backgroundcolor": "#E5ECF6",
            "gridcolor": "white",
            "gridwidth": 2,
            "linecolor": "white",
            "showbackground": true,
            "ticks": "",
            "zerolinecolor": "white"
           },
           "yaxis": {
            "backgroundcolor": "#E5ECF6",
            "gridcolor": "white",
            "gridwidth": 2,
            "linecolor": "white",
            "showbackground": true,
            "ticks": "",
            "zerolinecolor": "white"
           },
           "zaxis": {
            "backgroundcolor": "#E5ECF6",
            "gridcolor": "white",
            "gridwidth": 2,
            "linecolor": "white",
            "showbackground": true,
            "ticks": "",
            "zerolinecolor": "white"
           }
          },
          "shapedefaults": {
           "line": {
            "color": "#2a3f5f"
           }
          },
          "ternary": {
           "aaxis": {
            "gridcolor": "white",
            "linecolor": "white",
            "ticks": ""
           },
           "baxis": {
            "gridcolor": "white",
            "linecolor": "white",
            "ticks": ""
           },
           "bgcolor": "#E5ECF6",
           "caxis": {
            "gridcolor": "white",
            "linecolor": "white",
            "ticks": ""
           }
          },
          "title": {
           "x": 0.05
          },
          "xaxis": {
           "automargin": true,
           "gridcolor": "white",
           "linecolor": "white",
           "ticks": "",
           "title": {
            "standoff": 15
           },
           "zerolinecolor": "white",
           "zerolinewidth": 2
          },
          "yaxis": {
           "automargin": true,
           "gridcolor": "white",
           "linecolor": "white",
           "ticks": "",
           "title": {
            "standoff": 15
           },
           "zerolinecolor": "white",
           "zerolinewidth": 2
          }
         }
        },
        "title": {
         "text": "Outliers for OXO-5PIC605A Augusta"
        },
        "xaxis": {
         "anchor": "y",
         "domain": [
          0,
          1
         ],
         "title": {
          "text": "Date"
         }
        },
        "yaxis": {
         "anchor": "x",
         "domain": [
          0,
          1
         ],
         "title": {
          "text": "Value"
         }
        }
       }
      }
     },
     "metadata": {},
     "output_type": "display_data"
    },
    {
     "name": "stdout",
     "output_type": "stream",
     "text": [
      "1 outliers detected in OXO-5TIC002 Augusta\n"
     ]
    },
    {
     "data": {
      "application/vnd.plotly.v1+json": {
       "config": {
        "plotlyServerURL": "https://plot.ly"
       },
       "data": [
        {
         "hovertemplate": "index=%{x}<br>OXO-5TIC002 Augusta=%{y}<extra></extra>",
         "legendgroup": "",
         "line": {
          "color": "#636efa",
          "dash": "solid"
         },
         "marker": {
          "symbol": "circle"
         },
         "mode": "lines",
         "name": "",
         "orientation": "v",
         "showlegend": false,
         "type": "scatter",
         "x": [
          0,
          1,
          2,
          3,
          4,
          5,
          6,
          7,
          8,
          9,
          10,
          11,
          12,
          13,
          14,
          15,
          16,
          17,
          18,
          19,
          20,
          21,
          22,
          23,
          24,
          25,
          26,
          27,
          28,
          29,
          30,
          31,
          32,
          33,
          34,
          35,
          36,
          37,
          38,
          39,
          40,
          41,
          42,
          43,
          44,
          45,
          46,
          47,
          48,
          49,
          50,
          51,
          52,
          53,
          54,
          55,
          56,
          57,
          58,
          59,
          60,
          61,
          62,
          63,
          64,
          65,
          66,
          67,
          68,
          69,
          70,
          71,
          72,
          73,
          74,
          75,
          76,
          77,
          78,
          79,
          80,
          81,
          82,
          83,
          84,
          85,
          86,
          87,
          88,
          89,
          90,
          91,
          92,
          93,
          94,
          95,
          96,
          97,
          98,
          99
         ],
         "xaxis": "x",
         "y": [
          298.01326232397264,
          297.98779296875006,
          298.04094441731775,
          297.96224017182664,
          298.0298563639324,
          298.0133260091146,
          298.0172629476596,
          297.9916076660157,
          298.01408894856775,
          297.9819631024826,
          298.0369771321615,
          297.96709187825525,
          298.0111389160157,
          298.0247512945609,
          298.0268062875291,
          298.010477701823,
          298.00411987304693,
          298.0096720206638,
          298.02263387044275,
          298.0098576821572,
          297.9943362965304,
          298.0072346837068,
          298.029042561849,
          297.99760945638025,
          298.04633585611987,
          297.96674225109973,
          298.01505323678015,
          297.96444702148443,
          298.0594746565619,
          297.9925740559896,
          297.9965409207936,
          297.9990549808791,
          298.0223286946615,
          298.0464787759072,
          297.96894772313226,
          298.0147505831128,
          298.01403167468163,
          298.01106829682664,
          297.9991062709264,
          298.0221151556851,
          298.0106811523438,
          297.99409993489587,
          298.02802530924487,
          298.0062052408855,
          298.01887003580737,
          298.03092447916674,
          297.99689737955737,
          298.0629623797762,
          297.9382800898277,
          298.02807617187506,
          297.98311360677087,
          297.99389648437506,
          298.02950032552087,
          298.01208265288545,
          298.0296529134115,
          297.911344909668,
          298.0989789326986,
          297.95671590169275,
          298.046579660463,
          298.00161948324256,
          297.99247233072924,
          297.9918497889496,
          298.0367531656218,
          297.7026621921004,
          298.0439850622867,
          298.00284830729174,
          298.00456124297847,
          298.0192632595031,
          297.9992648037998,
          297.977773030599,
          298.0601704915365,
          297.98046875000006,
          298.0337270528329,
          298.0263977050782,
          297.99628702799487,
          297.96017203843303,
          298.0377400716146,
          297.99150594075525,
          297.99572753906256,
          297.99166947052265,
          298.0445048014324,
          298.0206502278646,
          298.0122789114961,
          297.98652140299487,
          297.9974129300158,
          298.04451102264665,
          297.96674225109973,
          298.0185648600261,
          297.98514811197924,
          298.0411987304688,
          297.98026529947924,
          298.02360026041674,
          297.9897766113282,
          298.01703898111987,
          298.0246683756511,
          297.98291015625006,
          298.0189372921779,
          298.0191752115886,
          298.0362141927084,
          297.98002637334235
         ],
         "yaxis": "y"
        },
        {
         "mode": "markers",
         "name": "outliers",
         "type": "scatter",
         "x": [
          63
         ],
         "y": [
          297.7026621921004
         ]
        }
       ],
       "layout": {
        "legend": {
         "tracegroupgap": 0
        },
        "template": {
         "data": {
          "bar": [
           {
            "error_x": {
             "color": "#2a3f5f"
            },
            "error_y": {
             "color": "#2a3f5f"
            },
            "marker": {
             "line": {
              "color": "#E5ECF6",
              "width": 0.5
             },
             "pattern": {
              "fillmode": "overlay",
              "size": 10,
              "solidity": 0.2
             }
            },
            "type": "bar"
           }
          ],
          "barpolar": [
           {
            "marker": {
             "line": {
              "color": "#E5ECF6",
              "width": 0.5
             },
             "pattern": {
              "fillmode": "overlay",
              "size": 10,
              "solidity": 0.2
             }
            },
            "type": "barpolar"
           }
          ],
          "carpet": [
           {
            "aaxis": {
             "endlinecolor": "#2a3f5f",
             "gridcolor": "white",
             "linecolor": "white",
             "minorgridcolor": "white",
             "startlinecolor": "#2a3f5f"
            },
            "baxis": {
             "endlinecolor": "#2a3f5f",
             "gridcolor": "white",
             "linecolor": "white",
             "minorgridcolor": "white",
             "startlinecolor": "#2a3f5f"
            },
            "type": "carpet"
           }
          ],
          "choropleth": [
           {
            "colorbar": {
             "outlinewidth": 0,
             "ticks": ""
            },
            "type": "choropleth"
           }
          ],
          "contour": [
           {
            "colorbar": {
             "outlinewidth": 0,
             "ticks": ""
            },
            "colorscale": [
             [
              0,
              "#0d0887"
             ],
             [
              0.1111111111111111,
              "#46039f"
             ],
             [
              0.2222222222222222,
              "#7201a8"
             ],
             [
              0.3333333333333333,
              "#9c179e"
             ],
             [
              0.4444444444444444,
              "#bd3786"
             ],
             [
              0.5555555555555556,
              "#d8576b"
             ],
             [
              0.6666666666666666,
              "#ed7953"
             ],
             [
              0.7777777777777778,
              "#fb9f3a"
             ],
             [
              0.8888888888888888,
              "#fdca26"
             ],
             [
              1,
              "#f0f921"
             ]
            ],
            "type": "contour"
           }
          ],
          "contourcarpet": [
           {
            "colorbar": {
             "outlinewidth": 0,
             "ticks": ""
            },
            "type": "contourcarpet"
           }
          ],
          "heatmap": [
           {
            "colorbar": {
             "outlinewidth": 0,
             "ticks": ""
            },
            "colorscale": [
             [
              0,
              "#0d0887"
             ],
             [
              0.1111111111111111,
              "#46039f"
             ],
             [
              0.2222222222222222,
              "#7201a8"
             ],
             [
              0.3333333333333333,
              "#9c179e"
             ],
             [
              0.4444444444444444,
              "#bd3786"
             ],
             [
              0.5555555555555556,
              "#d8576b"
             ],
             [
              0.6666666666666666,
              "#ed7953"
             ],
             [
              0.7777777777777778,
              "#fb9f3a"
             ],
             [
              0.8888888888888888,
              "#fdca26"
             ],
             [
              1,
              "#f0f921"
             ]
            ],
            "type": "heatmap"
           }
          ],
          "heatmapgl": [
           {
            "colorbar": {
             "outlinewidth": 0,
             "ticks": ""
            },
            "colorscale": [
             [
              0,
              "#0d0887"
             ],
             [
              0.1111111111111111,
              "#46039f"
             ],
             [
              0.2222222222222222,
              "#7201a8"
             ],
             [
              0.3333333333333333,
              "#9c179e"
             ],
             [
              0.4444444444444444,
              "#bd3786"
             ],
             [
              0.5555555555555556,
              "#d8576b"
             ],
             [
              0.6666666666666666,
              "#ed7953"
             ],
             [
              0.7777777777777778,
              "#fb9f3a"
             ],
             [
              0.8888888888888888,
              "#fdca26"
             ],
             [
              1,
              "#f0f921"
             ]
            ],
            "type": "heatmapgl"
           }
          ],
          "histogram": [
           {
            "marker": {
             "pattern": {
              "fillmode": "overlay",
              "size": 10,
              "solidity": 0.2
             }
            },
            "type": "histogram"
           }
          ],
          "histogram2d": [
           {
            "colorbar": {
             "outlinewidth": 0,
             "ticks": ""
            },
            "colorscale": [
             [
              0,
              "#0d0887"
             ],
             [
              0.1111111111111111,
              "#46039f"
             ],
             [
              0.2222222222222222,
              "#7201a8"
             ],
             [
              0.3333333333333333,
              "#9c179e"
             ],
             [
              0.4444444444444444,
              "#bd3786"
             ],
             [
              0.5555555555555556,
              "#d8576b"
             ],
             [
              0.6666666666666666,
              "#ed7953"
             ],
             [
              0.7777777777777778,
              "#fb9f3a"
             ],
             [
              0.8888888888888888,
              "#fdca26"
             ],
             [
              1,
              "#f0f921"
             ]
            ],
            "type": "histogram2d"
           }
          ],
          "histogram2dcontour": [
           {
            "colorbar": {
             "outlinewidth": 0,
             "ticks": ""
            },
            "colorscale": [
             [
              0,
              "#0d0887"
             ],
             [
              0.1111111111111111,
              "#46039f"
             ],
             [
              0.2222222222222222,
              "#7201a8"
             ],
             [
              0.3333333333333333,
              "#9c179e"
             ],
             [
              0.4444444444444444,
              "#bd3786"
             ],
             [
              0.5555555555555556,
              "#d8576b"
             ],
             [
              0.6666666666666666,
              "#ed7953"
             ],
             [
              0.7777777777777778,
              "#fb9f3a"
             ],
             [
              0.8888888888888888,
              "#fdca26"
             ],
             [
              1,
              "#f0f921"
             ]
            ],
            "type": "histogram2dcontour"
           }
          ],
          "mesh3d": [
           {
            "colorbar": {
             "outlinewidth": 0,
             "ticks": ""
            },
            "type": "mesh3d"
           }
          ],
          "parcoords": [
           {
            "line": {
             "colorbar": {
              "outlinewidth": 0,
              "ticks": ""
             }
            },
            "type": "parcoords"
           }
          ],
          "pie": [
           {
            "automargin": true,
            "type": "pie"
           }
          ],
          "scatter": [
           {
            "fillpattern": {
             "fillmode": "overlay",
             "size": 10,
             "solidity": 0.2
            },
            "type": "scatter"
           }
          ],
          "scatter3d": [
           {
            "line": {
             "colorbar": {
              "outlinewidth": 0,
              "ticks": ""
             }
            },
            "marker": {
             "colorbar": {
              "outlinewidth": 0,
              "ticks": ""
             }
            },
            "type": "scatter3d"
           }
          ],
          "scattercarpet": [
           {
            "marker": {
             "colorbar": {
              "outlinewidth": 0,
              "ticks": ""
             }
            },
            "type": "scattercarpet"
           }
          ],
          "scattergeo": [
           {
            "marker": {
             "colorbar": {
              "outlinewidth": 0,
              "ticks": ""
             }
            },
            "type": "scattergeo"
           }
          ],
          "scattergl": [
           {
            "marker": {
             "colorbar": {
              "outlinewidth": 0,
              "ticks": ""
             }
            },
            "type": "scattergl"
           }
          ],
          "scattermapbox": [
           {
            "marker": {
             "colorbar": {
              "outlinewidth": 0,
              "ticks": ""
             }
            },
            "type": "scattermapbox"
           }
          ],
          "scatterpolar": [
           {
            "marker": {
             "colorbar": {
              "outlinewidth": 0,
              "ticks": ""
             }
            },
            "type": "scatterpolar"
           }
          ],
          "scatterpolargl": [
           {
            "marker": {
             "colorbar": {
              "outlinewidth": 0,
              "ticks": ""
             }
            },
            "type": "scatterpolargl"
           }
          ],
          "scatterternary": [
           {
            "marker": {
             "colorbar": {
              "outlinewidth": 0,
              "ticks": ""
             }
            },
            "type": "scatterternary"
           }
          ],
          "surface": [
           {
            "colorbar": {
             "outlinewidth": 0,
             "ticks": ""
            },
            "colorscale": [
             [
              0,
              "#0d0887"
             ],
             [
              0.1111111111111111,
              "#46039f"
             ],
             [
              0.2222222222222222,
              "#7201a8"
             ],
             [
              0.3333333333333333,
              "#9c179e"
             ],
             [
              0.4444444444444444,
              "#bd3786"
             ],
             [
              0.5555555555555556,
              "#d8576b"
             ],
             [
              0.6666666666666666,
              "#ed7953"
             ],
             [
              0.7777777777777778,
              "#fb9f3a"
             ],
             [
              0.8888888888888888,
              "#fdca26"
             ],
             [
              1,
              "#f0f921"
             ]
            ],
            "type": "surface"
           }
          ],
          "table": [
           {
            "cells": {
             "fill": {
              "color": "#EBF0F8"
             },
             "line": {
              "color": "white"
             }
            },
            "header": {
             "fill": {
              "color": "#C8D4E3"
             },
             "line": {
              "color": "white"
             }
            },
            "type": "table"
           }
          ]
         },
         "layout": {
          "annotationdefaults": {
           "arrowcolor": "#2a3f5f",
           "arrowhead": 0,
           "arrowwidth": 1
          },
          "autotypenumbers": "strict",
          "coloraxis": {
           "colorbar": {
            "outlinewidth": 0,
            "ticks": ""
           }
          },
          "colorscale": {
           "diverging": [
            [
             0,
             "#8e0152"
            ],
            [
             0.1,
             "#c51b7d"
            ],
            [
             0.2,
             "#de77ae"
            ],
            [
             0.3,
             "#f1b6da"
            ],
            [
             0.4,
             "#fde0ef"
            ],
            [
             0.5,
             "#f7f7f7"
            ],
            [
             0.6,
             "#e6f5d0"
            ],
            [
             0.7,
             "#b8e186"
            ],
            [
             0.8,
             "#7fbc41"
            ],
            [
             0.9,
             "#4d9221"
            ],
            [
             1,
             "#276419"
            ]
           ],
           "sequential": [
            [
             0,
             "#0d0887"
            ],
            [
             0.1111111111111111,
             "#46039f"
            ],
            [
             0.2222222222222222,
             "#7201a8"
            ],
            [
             0.3333333333333333,
             "#9c179e"
            ],
            [
             0.4444444444444444,
             "#bd3786"
            ],
            [
             0.5555555555555556,
             "#d8576b"
            ],
            [
             0.6666666666666666,
             "#ed7953"
            ],
            [
             0.7777777777777778,
             "#fb9f3a"
            ],
            [
             0.8888888888888888,
             "#fdca26"
            ],
            [
             1,
             "#f0f921"
            ]
           ],
           "sequentialminus": [
            [
             0,
             "#0d0887"
            ],
            [
             0.1111111111111111,
             "#46039f"
            ],
            [
             0.2222222222222222,
             "#7201a8"
            ],
            [
             0.3333333333333333,
             "#9c179e"
            ],
            [
             0.4444444444444444,
             "#bd3786"
            ],
            [
             0.5555555555555556,
             "#d8576b"
            ],
            [
             0.6666666666666666,
             "#ed7953"
            ],
            [
             0.7777777777777778,
             "#fb9f3a"
            ],
            [
             0.8888888888888888,
             "#fdca26"
            ],
            [
             1,
             "#f0f921"
            ]
           ]
          },
          "colorway": [
           "#636efa",
           "#EF553B",
           "#00cc96",
           "#ab63fa",
           "#FFA15A",
           "#19d3f3",
           "#FF6692",
           "#B6E880",
           "#FF97FF",
           "#FECB52"
          ],
          "font": {
           "color": "#2a3f5f"
          },
          "geo": {
           "bgcolor": "white",
           "lakecolor": "white",
           "landcolor": "#E5ECF6",
           "showlakes": true,
           "showland": true,
           "subunitcolor": "white"
          },
          "hoverlabel": {
           "align": "left"
          },
          "hovermode": "closest",
          "mapbox": {
           "style": "light"
          },
          "paper_bgcolor": "white",
          "plot_bgcolor": "#E5ECF6",
          "polar": {
           "angularaxis": {
            "gridcolor": "white",
            "linecolor": "white",
            "ticks": ""
           },
           "bgcolor": "#E5ECF6",
           "radialaxis": {
            "gridcolor": "white",
            "linecolor": "white",
            "ticks": ""
           }
          },
          "scene": {
           "xaxis": {
            "backgroundcolor": "#E5ECF6",
            "gridcolor": "white",
            "gridwidth": 2,
            "linecolor": "white",
            "showbackground": true,
            "ticks": "",
            "zerolinecolor": "white"
           },
           "yaxis": {
            "backgroundcolor": "#E5ECF6",
            "gridcolor": "white",
            "gridwidth": 2,
            "linecolor": "white",
            "showbackground": true,
            "ticks": "",
            "zerolinecolor": "white"
           },
           "zaxis": {
            "backgroundcolor": "#E5ECF6",
            "gridcolor": "white",
            "gridwidth": 2,
            "linecolor": "white",
            "showbackground": true,
            "ticks": "",
            "zerolinecolor": "white"
           }
          },
          "shapedefaults": {
           "line": {
            "color": "#2a3f5f"
           }
          },
          "ternary": {
           "aaxis": {
            "gridcolor": "white",
            "linecolor": "white",
            "ticks": ""
           },
           "baxis": {
            "gridcolor": "white",
            "linecolor": "white",
            "ticks": ""
           },
           "bgcolor": "#E5ECF6",
           "caxis": {
            "gridcolor": "white",
            "linecolor": "white",
            "ticks": ""
           }
          },
          "title": {
           "x": 0.05
          },
          "xaxis": {
           "automargin": true,
           "gridcolor": "white",
           "linecolor": "white",
           "ticks": "",
           "title": {
            "standoff": 15
           },
           "zerolinecolor": "white",
           "zerolinewidth": 2
          },
          "yaxis": {
           "automargin": true,
           "gridcolor": "white",
           "linecolor": "white",
           "ticks": "",
           "title": {
            "standoff": 15
           },
           "zerolinecolor": "white",
           "zerolinewidth": 2
          }
         }
        },
        "title": {
         "text": "Outliers for OXO-5TIC002 Augusta"
        },
        "xaxis": {
         "anchor": "y",
         "domain": [
          0,
          1
         ],
         "title": {
          "text": "Date"
         }
        },
        "yaxis": {
         "anchor": "x",
         "domain": [
          0,
          1
         ],
         "title": {
          "text": "Value"
         }
        }
       }
      }
     },
     "metadata": {},
     "output_type": "display_data"
    },
    {
     "name": "stdout",
     "output_type": "stream",
     "text": [
      "1 outliers detected in OXO-5TIC603 Augusta\n"
     ]
    },
    {
     "data": {
      "application/vnd.plotly.v1+json": {
       "config": {
        "plotlyServerURL": "https://plot.ly"
       },
       "data": [
        {
         "hovertemplate": "index=%{x}<br>OXO-5TIC603 Augusta=%{y}<extra></extra>",
         "legendgroup": "",
         "line": {
          "color": "#636efa",
          "dash": "solid"
         },
         "marker": {
          "symbol": "circle"
         },
         "mode": "lines",
         "name": "",
         "orientation": "v",
         "showlegend": false,
         "type": "scatter",
         "x": [
          0,
          1,
          2,
          3,
          4,
          5,
          6,
          7,
          8,
          9,
          10,
          11,
          12,
          13,
          14,
          15,
          16,
          17,
          18,
          19,
          20,
          21,
          22,
          23,
          24,
          25,
          26,
          27,
          28,
          29,
          30,
          31,
          32,
          33,
          34,
          35,
          36,
          37,
          38,
          39,
          40,
          41,
          42,
          43,
          44,
          45,
          46,
          47,
          48,
          49,
          50,
          51,
          52,
          53,
          54,
          55,
          56,
          57,
          58,
          59,
          60,
          61,
          62,
          63,
          64,
          65,
          66,
          67,
          68,
          69,
          70,
          71,
          72,
          73,
          74,
          75,
          76,
          77,
          78,
          79,
          80,
          81,
          82,
          83,
          84,
          85,
          86,
          87,
          88,
          89,
          90,
          91,
          92,
          93,
          94,
          95,
          96,
          97,
          98,
          99
         ],
         "xaxis": "x",
         "y": [
          133.99630005891663,
          133.99458761776205,
          134.00810623168948,
          134.0083116263398,
          134.00209808349615,
          134.00091552734384,
          133.99141693115237,
          134.00891677471773,
          134.01058578491217,
          134.00080108642584,
          134.00303410301527,
          133.99940872192388,
          133.9843215942383,
          134.01106262207037,
          134.00967025756842,
          134.01153945922854,
          134.02042770385745,
          133.99364516314338,
          134.00668486287776,
          134.0131416320801,
          134.00345438468358,
          134.00036239624026,
          134.00404357910162,
          134.00579581772993,
          134.0036811828614,
          133.9994087219239,
          133.99979996881572,
          134.00292060789005,
          134.00194549560555,
          134.01527786254894,
          134.00358902105768,
          133.99208450317388,
          133.99729156494146,
          133.947566986084,
          133.1938866933187,
          131.46585782368982,
          131.7730671275746,
          131.3477911631267,
          130.42661202054072,
          134.08161506652834,
          134.11242448791006,
          134.13693673270097,
          134.16778945922857,
          135.2139719813323,
          135.15625432332357,
          135.4946326247784,
          135.73748741149905,
          136.13211967531316,
          136.1702276919069,
          136.11222019668455,
          136.13294219970712,
          136.1346825351235,
          136.14409341102805,
          136.1479153673189,
          136.14938354492202,
          136.1496124267579,
          136.14017782920658,
          136.14283765263923,
          136.15087127685553,
          136.1446230549458,
          136.1572991689047,
          136.14643436720397,
          136.1477820025988,
          136.13885626272,
          136.15029907226565,
          136.1498413085938,
          136.13652706934403,
          136.15312771837262,
          136.15522003173834,
          136.14205932617193,
          136.14280319213873,
          136.13635682665614,
          135.97250302098388,
          135.9502754211426,
          135.34984430990932,
          134.63563909450497,
          134.0152969360352,
          134.01073837280276,
          133.9853706359864,
          134.00696860069093,
          133.9972534179688,
          133.99378204345706,
          133.99351052676937,
          134.0101852416993,
          134.0102615356446,
          134.00597000122076,
          134.0326347351075,
          133.97450899486702,
          133.99881904666174,
          134.01440253139535,
          134.0011634826661,
          134.01349441143657,
          134.6380373636882,
          134.9954130314598,
          134.98567530314125,
          135.00823961893713,
          134.99561271667477,
          134.9950279428177,
          135.0029753367105,
          135.0188827514648
         ],
         "yaxis": "y"
        },
        {
         "mode": "markers",
         "name": "outliers",
         "type": "scatter",
         "x": [
          38
         ],
         "y": [
          130.42661202054072
         ]
        }
       ],
       "layout": {
        "legend": {
         "tracegroupgap": 0
        },
        "template": {
         "data": {
          "bar": [
           {
            "error_x": {
             "color": "#2a3f5f"
            },
            "error_y": {
             "color": "#2a3f5f"
            },
            "marker": {
             "line": {
              "color": "#E5ECF6",
              "width": 0.5
             },
             "pattern": {
              "fillmode": "overlay",
              "size": 10,
              "solidity": 0.2
             }
            },
            "type": "bar"
           }
          ],
          "barpolar": [
           {
            "marker": {
             "line": {
              "color": "#E5ECF6",
              "width": 0.5
             },
             "pattern": {
              "fillmode": "overlay",
              "size": 10,
              "solidity": 0.2
             }
            },
            "type": "barpolar"
           }
          ],
          "carpet": [
           {
            "aaxis": {
             "endlinecolor": "#2a3f5f",
             "gridcolor": "white",
             "linecolor": "white",
             "minorgridcolor": "white",
             "startlinecolor": "#2a3f5f"
            },
            "baxis": {
             "endlinecolor": "#2a3f5f",
             "gridcolor": "white",
             "linecolor": "white",
             "minorgridcolor": "white",
             "startlinecolor": "#2a3f5f"
            },
            "type": "carpet"
           }
          ],
          "choropleth": [
           {
            "colorbar": {
             "outlinewidth": 0,
             "ticks": ""
            },
            "type": "choropleth"
           }
          ],
          "contour": [
           {
            "colorbar": {
             "outlinewidth": 0,
             "ticks": ""
            },
            "colorscale": [
             [
              0,
              "#0d0887"
             ],
             [
              0.1111111111111111,
              "#46039f"
             ],
             [
              0.2222222222222222,
              "#7201a8"
             ],
             [
              0.3333333333333333,
              "#9c179e"
             ],
             [
              0.4444444444444444,
              "#bd3786"
             ],
             [
              0.5555555555555556,
              "#d8576b"
             ],
             [
              0.6666666666666666,
              "#ed7953"
             ],
             [
              0.7777777777777778,
              "#fb9f3a"
             ],
             [
              0.8888888888888888,
              "#fdca26"
             ],
             [
              1,
              "#f0f921"
             ]
            ],
            "type": "contour"
           }
          ],
          "contourcarpet": [
           {
            "colorbar": {
             "outlinewidth": 0,
             "ticks": ""
            },
            "type": "contourcarpet"
           }
          ],
          "heatmap": [
           {
            "colorbar": {
             "outlinewidth": 0,
             "ticks": ""
            },
            "colorscale": [
             [
              0,
              "#0d0887"
             ],
             [
              0.1111111111111111,
              "#46039f"
             ],
             [
              0.2222222222222222,
              "#7201a8"
             ],
             [
              0.3333333333333333,
              "#9c179e"
             ],
             [
              0.4444444444444444,
              "#bd3786"
             ],
             [
              0.5555555555555556,
              "#d8576b"
             ],
             [
              0.6666666666666666,
              "#ed7953"
             ],
             [
              0.7777777777777778,
              "#fb9f3a"
             ],
             [
              0.8888888888888888,
              "#fdca26"
             ],
             [
              1,
              "#f0f921"
             ]
            ],
            "type": "heatmap"
           }
          ],
          "heatmapgl": [
           {
            "colorbar": {
             "outlinewidth": 0,
             "ticks": ""
            },
            "colorscale": [
             [
              0,
              "#0d0887"
             ],
             [
              0.1111111111111111,
              "#46039f"
             ],
             [
              0.2222222222222222,
              "#7201a8"
             ],
             [
              0.3333333333333333,
              "#9c179e"
             ],
             [
              0.4444444444444444,
              "#bd3786"
             ],
             [
              0.5555555555555556,
              "#d8576b"
             ],
             [
              0.6666666666666666,
              "#ed7953"
             ],
             [
              0.7777777777777778,
              "#fb9f3a"
             ],
             [
              0.8888888888888888,
              "#fdca26"
             ],
             [
              1,
              "#f0f921"
             ]
            ],
            "type": "heatmapgl"
           }
          ],
          "histogram": [
           {
            "marker": {
             "pattern": {
              "fillmode": "overlay",
              "size": 10,
              "solidity": 0.2
             }
            },
            "type": "histogram"
           }
          ],
          "histogram2d": [
           {
            "colorbar": {
             "outlinewidth": 0,
             "ticks": ""
            },
            "colorscale": [
             [
              0,
              "#0d0887"
             ],
             [
              0.1111111111111111,
              "#46039f"
             ],
             [
              0.2222222222222222,
              "#7201a8"
             ],
             [
              0.3333333333333333,
              "#9c179e"
             ],
             [
              0.4444444444444444,
              "#bd3786"
             ],
             [
              0.5555555555555556,
              "#d8576b"
             ],
             [
              0.6666666666666666,
              "#ed7953"
             ],
             [
              0.7777777777777778,
              "#fb9f3a"
             ],
             [
              0.8888888888888888,
              "#fdca26"
             ],
             [
              1,
              "#f0f921"
             ]
            ],
            "type": "histogram2d"
           }
          ],
          "histogram2dcontour": [
           {
            "colorbar": {
             "outlinewidth": 0,
             "ticks": ""
            },
            "colorscale": [
             [
              0,
              "#0d0887"
             ],
             [
              0.1111111111111111,
              "#46039f"
             ],
             [
              0.2222222222222222,
              "#7201a8"
             ],
             [
              0.3333333333333333,
              "#9c179e"
             ],
             [
              0.4444444444444444,
              "#bd3786"
             ],
             [
              0.5555555555555556,
              "#d8576b"
             ],
             [
              0.6666666666666666,
              "#ed7953"
             ],
             [
              0.7777777777777778,
              "#fb9f3a"
             ],
             [
              0.8888888888888888,
              "#fdca26"
             ],
             [
              1,
              "#f0f921"
             ]
            ],
            "type": "histogram2dcontour"
           }
          ],
          "mesh3d": [
           {
            "colorbar": {
             "outlinewidth": 0,
             "ticks": ""
            },
            "type": "mesh3d"
           }
          ],
          "parcoords": [
           {
            "line": {
             "colorbar": {
              "outlinewidth": 0,
              "ticks": ""
             }
            },
            "type": "parcoords"
           }
          ],
          "pie": [
           {
            "automargin": true,
            "type": "pie"
           }
          ],
          "scatter": [
           {
            "fillpattern": {
             "fillmode": "overlay",
             "size": 10,
             "solidity": 0.2
            },
            "type": "scatter"
           }
          ],
          "scatter3d": [
           {
            "line": {
             "colorbar": {
              "outlinewidth": 0,
              "ticks": ""
             }
            },
            "marker": {
             "colorbar": {
              "outlinewidth": 0,
              "ticks": ""
             }
            },
            "type": "scatter3d"
           }
          ],
          "scattercarpet": [
           {
            "marker": {
             "colorbar": {
              "outlinewidth": 0,
              "ticks": ""
             }
            },
            "type": "scattercarpet"
           }
          ],
          "scattergeo": [
           {
            "marker": {
             "colorbar": {
              "outlinewidth": 0,
              "ticks": ""
             }
            },
            "type": "scattergeo"
           }
          ],
          "scattergl": [
           {
            "marker": {
             "colorbar": {
              "outlinewidth": 0,
              "ticks": ""
             }
            },
            "type": "scattergl"
           }
          ],
          "scattermapbox": [
           {
            "marker": {
             "colorbar": {
              "outlinewidth": 0,
              "ticks": ""
             }
            },
            "type": "scattermapbox"
           }
          ],
          "scatterpolar": [
           {
            "marker": {
             "colorbar": {
              "outlinewidth": 0,
              "ticks": ""
             }
            },
            "type": "scatterpolar"
           }
          ],
          "scatterpolargl": [
           {
            "marker": {
             "colorbar": {
              "outlinewidth": 0,
              "ticks": ""
             }
            },
            "type": "scatterpolargl"
           }
          ],
          "scatterternary": [
           {
            "marker": {
             "colorbar": {
              "outlinewidth": 0,
              "ticks": ""
             }
            },
            "type": "scatterternary"
           }
          ],
          "surface": [
           {
            "colorbar": {
             "outlinewidth": 0,
             "ticks": ""
            },
            "colorscale": [
             [
              0,
              "#0d0887"
             ],
             [
              0.1111111111111111,
              "#46039f"
             ],
             [
              0.2222222222222222,
              "#7201a8"
             ],
             [
              0.3333333333333333,
              "#9c179e"
             ],
             [
              0.4444444444444444,
              "#bd3786"
             ],
             [
              0.5555555555555556,
              "#d8576b"
             ],
             [
              0.6666666666666666,
              "#ed7953"
             ],
             [
              0.7777777777777778,
              "#fb9f3a"
             ],
             [
              0.8888888888888888,
              "#fdca26"
             ],
             [
              1,
              "#f0f921"
             ]
            ],
            "type": "surface"
           }
          ],
          "table": [
           {
            "cells": {
             "fill": {
              "color": "#EBF0F8"
             },
             "line": {
              "color": "white"
             }
            },
            "header": {
             "fill": {
              "color": "#C8D4E3"
             },
             "line": {
              "color": "white"
             }
            },
            "type": "table"
           }
          ]
         },
         "layout": {
          "annotationdefaults": {
           "arrowcolor": "#2a3f5f",
           "arrowhead": 0,
           "arrowwidth": 1
          },
          "autotypenumbers": "strict",
          "coloraxis": {
           "colorbar": {
            "outlinewidth": 0,
            "ticks": ""
           }
          },
          "colorscale": {
           "diverging": [
            [
             0,
             "#8e0152"
            ],
            [
             0.1,
             "#c51b7d"
            ],
            [
             0.2,
             "#de77ae"
            ],
            [
             0.3,
             "#f1b6da"
            ],
            [
             0.4,
             "#fde0ef"
            ],
            [
             0.5,
             "#f7f7f7"
            ],
            [
             0.6,
             "#e6f5d0"
            ],
            [
             0.7,
             "#b8e186"
            ],
            [
             0.8,
             "#7fbc41"
            ],
            [
             0.9,
             "#4d9221"
            ],
            [
             1,
             "#276419"
            ]
           ],
           "sequential": [
            [
             0,
             "#0d0887"
            ],
            [
             0.1111111111111111,
             "#46039f"
            ],
            [
             0.2222222222222222,
             "#7201a8"
            ],
            [
             0.3333333333333333,
             "#9c179e"
            ],
            [
             0.4444444444444444,
             "#bd3786"
            ],
            [
             0.5555555555555556,
             "#d8576b"
            ],
            [
             0.6666666666666666,
             "#ed7953"
            ],
            [
             0.7777777777777778,
             "#fb9f3a"
            ],
            [
             0.8888888888888888,
             "#fdca26"
            ],
            [
             1,
             "#f0f921"
            ]
           ],
           "sequentialminus": [
            [
             0,
             "#0d0887"
            ],
            [
             0.1111111111111111,
             "#46039f"
            ],
            [
             0.2222222222222222,
             "#7201a8"
            ],
            [
             0.3333333333333333,
             "#9c179e"
            ],
            [
             0.4444444444444444,
             "#bd3786"
            ],
            [
             0.5555555555555556,
             "#d8576b"
            ],
            [
             0.6666666666666666,
             "#ed7953"
            ],
            [
             0.7777777777777778,
             "#fb9f3a"
            ],
            [
             0.8888888888888888,
             "#fdca26"
            ],
            [
             1,
             "#f0f921"
            ]
           ]
          },
          "colorway": [
           "#636efa",
           "#EF553B",
           "#00cc96",
           "#ab63fa",
           "#FFA15A",
           "#19d3f3",
           "#FF6692",
           "#B6E880",
           "#FF97FF",
           "#FECB52"
          ],
          "font": {
           "color": "#2a3f5f"
          },
          "geo": {
           "bgcolor": "white",
           "lakecolor": "white",
           "landcolor": "#E5ECF6",
           "showlakes": true,
           "showland": true,
           "subunitcolor": "white"
          },
          "hoverlabel": {
           "align": "left"
          },
          "hovermode": "closest",
          "mapbox": {
           "style": "light"
          },
          "paper_bgcolor": "white",
          "plot_bgcolor": "#E5ECF6",
          "polar": {
           "angularaxis": {
            "gridcolor": "white",
            "linecolor": "white",
            "ticks": ""
           },
           "bgcolor": "#E5ECF6",
           "radialaxis": {
            "gridcolor": "white",
            "linecolor": "white",
            "ticks": ""
           }
          },
          "scene": {
           "xaxis": {
            "backgroundcolor": "#E5ECF6",
            "gridcolor": "white",
            "gridwidth": 2,
            "linecolor": "white",
            "showbackground": true,
            "ticks": "",
            "zerolinecolor": "white"
           },
           "yaxis": {
            "backgroundcolor": "#E5ECF6",
            "gridcolor": "white",
            "gridwidth": 2,
            "linecolor": "white",
            "showbackground": true,
            "ticks": "",
            "zerolinecolor": "white"
           },
           "zaxis": {
            "backgroundcolor": "#E5ECF6",
            "gridcolor": "white",
            "gridwidth": 2,
            "linecolor": "white",
            "showbackground": true,
            "ticks": "",
            "zerolinecolor": "white"
           }
          },
          "shapedefaults": {
           "line": {
            "color": "#2a3f5f"
           }
          },
          "ternary": {
           "aaxis": {
            "gridcolor": "white",
            "linecolor": "white",
            "ticks": ""
           },
           "baxis": {
            "gridcolor": "white",
            "linecolor": "white",
            "ticks": ""
           },
           "bgcolor": "#E5ECF6",
           "caxis": {
            "gridcolor": "white",
            "linecolor": "white",
            "ticks": ""
           }
          },
          "title": {
           "x": 0.05
          },
          "xaxis": {
           "automargin": true,
           "gridcolor": "white",
           "linecolor": "white",
           "ticks": "",
           "title": {
            "standoff": 15
           },
           "zerolinecolor": "white",
           "zerolinewidth": 2
          },
          "yaxis": {
           "automargin": true,
           "gridcolor": "white",
           "linecolor": "white",
           "ticks": "",
           "title": {
            "standoff": 15
           },
           "zerolinecolor": "white",
           "zerolinewidth": 2
          }
         }
        },
        "title": {
         "text": "Outliers for OXO-5TIC603 Augusta"
        },
        "xaxis": {
         "anchor": "y",
         "domain": [
          0,
          1
         ],
         "title": {
          "text": "Date"
         }
        },
        "yaxis": {
         "anchor": "x",
         "domain": [
          0,
          1
         ],
         "title": {
          "text": "Value"
         }
        }
       }
      }
     },
     "metadata": {},
     "output_type": "display_data"
    },
    {
     "name": "stdout",
     "output_type": "stream",
     "text": [
      "4 outliers detected in OXO-5TIC659 Augusta\n"
     ]
    },
    {
     "data": {
      "application/vnd.plotly.v1+json": {
       "config": {
        "plotlyServerURL": "https://plot.ly"
       },
       "data": [
        {
         "hovertemplate": "index=%{x}<br>OXO-5TIC659 Augusta=%{y}<extra></extra>",
         "legendgroup": "",
         "line": {
          "color": "#636efa",
          "dash": "solid"
         },
         "marker": {
          "symbol": "circle"
         },
         "mode": "lines",
         "name": "",
         "orientation": "v",
         "showlegend": false,
         "type": "scatter",
         "x": [
          0,
          1,
          2,
          3,
          4,
          5,
          6,
          7,
          8,
          9,
          10,
          11,
          12,
          13,
          14,
          15,
          16,
          17,
          18,
          19,
          20,
          21,
          22,
          23,
          24,
          25,
          26,
          27,
          28,
          29,
          30,
          31,
          32,
          33,
          34,
          35,
          36,
          37,
          38,
          39,
          40,
          41,
          42,
          43,
          44,
          45,
          46,
          47,
          48,
          49,
          50,
          51,
          52,
          53,
          54,
          55,
          56,
          57,
          58,
          59,
          60,
          61,
          62,
          63,
          64,
          65,
          66,
          67,
          68,
          69,
          70,
          71,
          72,
          73,
          74,
          75,
          76,
          77,
          78,
          79,
          80,
          81,
          82,
          83,
          84,
          85,
          86,
          87,
          88,
          89,
          90,
          91,
          92,
          93,
          94,
          95,
          96,
          97,
          98,
          99
         ],
         "xaxis": "x",
         "y": [
          298.0299097696941,
          298.0843302408855,
          297.93087768554693,
          298.052582795955,
          298.0399276733399,
          297.9200680516348,
          297.9803991396566,
          297.96340839802724,
          298.0319022186532,
          298.0852735503382,
          297.953514162174,
          298.0774149576824,
          297.99928741455085,
          297.8009221394857,
          298.1378458487888,
          298.0081888834636,
          297.9973984395177,
          298.00664590787494,
          297.9789428710938,
          298.0273614047973,
          297.9647419392562,
          298.0016355908607,
          297.9736531575521,
          297.9495087952173,
          298.08870442708337,
          298.00688158776154,
          298.01741733070185,
          297.90656611124683,
          298.188346862793,
          297.8084393966297,
          298.0051579836037,
          298.0025428771973,
          297.95472427242066,
          298.01302108764656,
          297.7849190335314,
          297.91336160454875,
          297.9056498209636,
          297.93535359700525,
          297.9751281738282,
          299.82192560831714,
          297.55530344645194,
          297.84578323364263,
          297.9332498502331,
          298.01298510338654,
          297.99267578125006,
          298.13468729654954,
          300.18610738118497,
          297.83759562174487,
          299.81977780125726,
          295.99833817915487,
          298.02421061197924,
          297.9512526568245,
          298.0558471679688,
          298.0340779622396,
          297.9532063802084,
          297.9474062601726,
          297.9682121276856,
          298.16235605875664,
          297.91627960205085,
          298.1872646867737,
          297.9510992995832,
          297.94937663432995,
          297.947662862142,
          297.97787219135705,
          298.00052661738124,
          298.150809733073,
          297.92736816406256,
          298.0507556049764,
          297.8498525067795,
          298.02726450687703,
          298.0033501238863,
          297.9649470994453,
          297.8927258809408,
          298.092264811198,
          297.8480386024665,
          298.09221394856775,
          297.9414049677489,
          298.03585815429693,
          297.97560737546814,
          298.0196334838868,
          297.92869008382166,
          297.93509928385424,
          298.080312093099,
          297.9345313320641,
          297.9644101986216,
          298.09414929301806,
          297.85691795664394,
          298.0513740539552,
          297.74883626302096,
          297.9453226725261,
          298.0639881807216,
          298.01144510904953,
          298.15457758627656,
          297.8682139078777,
          298.00556881688226,
          297.78759028116866,
          298.0888595581055,
          298.1916531880697,
          297.9349474589031,
          298.0701364564502
         ],
         "yaxis": "y"
        },
        {
         "mode": "markers",
         "name": "outliers",
         "type": "scatter",
         "x": [
          39,
          46,
          48,
          49
         ],
         "y": [
          299.82192560831714,
          300.18610738118497,
          299.81977780125726,
          295.99833817915487
         ]
        }
       ],
       "layout": {
        "legend": {
         "tracegroupgap": 0
        },
        "template": {
         "data": {
          "bar": [
           {
            "error_x": {
             "color": "#2a3f5f"
            },
            "error_y": {
             "color": "#2a3f5f"
            },
            "marker": {
             "line": {
              "color": "#E5ECF6",
              "width": 0.5
             },
             "pattern": {
              "fillmode": "overlay",
              "size": 10,
              "solidity": 0.2
             }
            },
            "type": "bar"
           }
          ],
          "barpolar": [
           {
            "marker": {
             "line": {
              "color": "#E5ECF6",
              "width": 0.5
             },
             "pattern": {
              "fillmode": "overlay",
              "size": 10,
              "solidity": 0.2
             }
            },
            "type": "barpolar"
           }
          ],
          "carpet": [
           {
            "aaxis": {
             "endlinecolor": "#2a3f5f",
             "gridcolor": "white",
             "linecolor": "white",
             "minorgridcolor": "white",
             "startlinecolor": "#2a3f5f"
            },
            "baxis": {
             "endlinecolor": "#2a3f5f",
             "gridcolor": "white",
             "linecolor": "white",
             "minorgridcolor": "white",
             "startlinecolor": "#2a3f5f"
            },
            "type": "carpet"
           }
          ],
          "choropleth": [
           {
            "colorbar": {
             "outlinewidth": 0,
             "ticks": ""
            },
            "type": "choropleth"
           }
          ],
          "contour": [
           {
            "colorbar": {
             "outlinewidth": 0,
             "ticks": ""
            },
            "colorscale": [
             [
              0,
              "#0d0887"
             ],
             [
              0.1111111111111111,
              "#46039f"
             ],
             [
              0.2222222222222222,
              "#7201a8"
             ],
             [
              0.3333333333333333,
              "#9c179e"
             ],
             [
              0.4444444444444444,
              "#bd3786"
             ],
             [
              0.5555555555555556,
              "#d8576b"
             ],
             [
              0.6666666666666666,
              "#ed7953"
             ],
             [
              0.7777777777777778,
              "#fb9f3a"
             ],
             [
              0.8888888888888888,
              "#fdca26"
             ],
             [
              1,
              "#f0f921"
             ]
            ],
            "type": "contour"
           }
          ],
          "contourcarpet": [
           {
            "colorbar": {
             "outlinewidth": 0,
             "ticks": ""
            },
            "type": "contourcarpet"
           }
          ],
          "heatmap": [
           {
            "colorbar": {
             "outlinewidth": 0,
             "ticks": ""
            },
            "colorscale": [
             [
              0,
              "#0d0887"
             ],
             [
              0.1111111111111111,
              "#46039f"
             ],
             [
              0.2222222222222222,
              "#7201a8"
             ],
             [
              0.3333333333333333,
              "#9c179e"
             ],
             [
              0.4444444444444444,
              "#bd3786"
             ],
             [
              0.5555555555555556,
              "#d8576b"
             ],
             [
              0.6666666666666666,
              "#ed7953"
             ],
             [
              0.7777777777777778,
              "#fb9f3a"
             ],
             [
              0.8888888888888888,
              "#fdca26"
             ],
             [
              1,
              "#f0f921"
             ]
            ],
            "type": "heatmap"
           }
          ],
          "heatmapgl": [
           {
            "colorbar": {
             "outlinewidth": 0,
             "ticks": ""
            },
            "colorscale": [
             [
              0,
              "#0d0887"
             ],
             [
              0.1111111111111111,
              "#46039f"
             ],
             [
              0.2222222222222222,
              "#7201a8"
             ],
             [
              0.3333333333333333,
              "#9c179e"
             ],
             [
              0.4444444444444444,
              "#bd3786"
             ],
             [
              0.5555555555555556,
              "#d8576b"
             ],
             [
              0.6666666666666666,
              "#ed7953"
             ],
             [
              0.7777777777777778,
              "#fb9f3a"
             ],
             [
              0.8888888888888888,
              "#fdca26"
             ],
             [
              1,
              "#f0f921"
             ]
            ],
            "type": "heatmapgl"
           }
          ],
          "histogram": [
           {
            "marker": {
             "pattern": {
              "fillmode": "overlay",
              "size": 10,
              "solidity": 0.2
             }
            },
            "type": "histogram"
           }
          ],
          "histogram2d": [
           {
            "colorbar": {
             "outlinewidth": 0,
             "ticks": ""
            },
            "colorscale": [
             [
              0,
              "#0d0887"
             ],
             [
              0.1111111111111111,
              "#46039f"
             ],
             [
              0.2222222222222222,
              "#7201a8"
             ],
             [
              0.3333333333333333,
              "#9c179e"
             ],
             [
              0.4444444444444444,
              "#bd3786"
             ],
             [
              0.5555555555555556,
              "#d8576b"
             ],
             [
              0.6666666666666666,
              "#ed7953"
             ],
             [
              0.7777777777777778,
              "#fb9f3a"
             ],
             [
              0.8888888888888888,
              "#fdca26"
             ],
             [
              1,
              "#f0f921"
             ]
            ],
            "type": "histogram2d"
           }
          ],
          "histogram2dcontour": [
           {
            "colorbar": {
             "outlinewidth": 0,
             "ticks": ""
            },
            "colorscale": [
             [
              0,
              "#0d0887"
             ],
             [
              0.1111111111111111,
              "#46039f"
             ],
             [
              0.2222222222222222,
              "#7201a8"
             ],
             [
              0.3333333333333333,
              "#9c179e"
             ],
             [
              0.4444444444444444,
              "#bd3786"
             ],
             [
              0.5555555555555556,
              "#d8576b"
             ],
             [
              0.6666666666666666,
              "#ed7953"
             ],
             [
              0.7777777777777778,
              "#fb9f3a"
             ],
             [
              0.8888888888888888,
              "#fdca26"
             ],
             [
              1,
              "#f0f921"
             ]
            ],
            "type": "histogram2dcontour"
           }
          ],
          "mesh3d": [
           {
            "colorbar": {
             "outlinewidth": 0,
             "ticks": ""
            },
            "type": "mesh3d"
           }
          ],
          "parcoords": [
           {
            "line": {
             "colorbar": {
              "outlinewidth": 0,
              "ticks": ""
             }
            },
            "type": "parcoords"
           }
          ],
          "pie": [
           {
            "automargin": true,
            "type": "pie"
           }
          ],
          "scatter": [
           {
            "fillpattern": {
             "fillmode": "overlay",
             "size": 10,
             "solidity": 0.2
            },
            "type": "scatter"
           }
          ],
          "scatter3d": [
           {
            "line": {
             "colorbar": {
              "outlinewidth": 0,
              "ticks": ""
             }
            },
            "marker": {
             "colorbar": {
              "outlinewidth": 0,
              "ticks": ""
             }
            },
            "type": "scatter3d"
           }
          ],
          "scattercarpet": [
           {
            "marker": {
             "colorbar": {
              "outlinewidth": 0,
              "ticks": ""
             }
            },
            "type": "scattercarpet"
           }
          ],
          "scattergeo": [
           {
            "marker": {
             "colorbar": {
              "outlinewidth": 0,
              "ticks": ""
             }
            },
            "type": "scattergeo"
           }
          ],
          "scattergl": [
           {
            "marker": {
             "colorbar": {
              "outlinewidth": 0,
              "ticks": ""
             }
            },
            "type": "scattergl"
           }
          ],
          "scattermapbox": [
           {
            "marker": {
             "colorbar": {
              "outlinewidth": 0,
              "ticks": ""
             }
            },
            "type": "scattermapbox"
           }
          ],
          "scatterpolar": [
           {
            "marker": {
             "colorbar": {
              "outlinewidth": 0,
              "ticks": ""
             }
            },
            "type": "scatterpolar"
           }
          ],
          "scatterpolargl": [
           {
            "marker": {
             "colorbar": {
              "outlinewidth": 0,
              "ticks": ""
             }
            },
            "type": "scatterpolargl"
           }
          ],
          "scatterternary": [
           {
            "marker": {
             "colorbar": {
              "outlinewidth": 0,
              "ticks": ""
             }
            },
            "type": "scatterternary"
           }
          ],
          "surface": [
           {
            "colorbar": {
             "outlinewidth": 0,
             "ticks": ""
            },
            "colorscale": [
             [
              0,
              "#0d0887"
             ],
             [
              0.1111111111111111,
              "#46039f"
             ],
             [
              0.2222222222222222,
              "#7201a8"
             ],
             [
              0.3333333333333333,
              "#9c179e"
             ],
             [
              0.4444444444444444,
              "#bd3786"
             ],
             [
              0.5555555555555556,
              "#d8576b"
             ],
             [
              0.6666666666666666,
              "#ed7953"
             ],
             [
              0.7777777777777778,
              "#fb9f3a"
             ],
             [
              0.8888888888888888,
              "#fdca26"
             ],
             [
              1,
              "#f0f921"
             ]
            ],
            "type": "surface"
           }
          ],
          "table": [
           {
            "cells": {
             "fill": {
              "color": "#EBF0F8"
             },
             "line": {
              "color": "white"
             }
            },
            "header": {
             "fill": {
              "color": "#C8D4E3"
             },
             "line": {
              "color": "white"
             }
            },
            "type": "table"
           }
          ]
         },
         "layout": {
          "annotationdefaults": {
           "arrowcolor": "#2a3f5f",
           "arrowhead": 0,
           "arrowwidth": 1
          },
          "autotypenumbers": "strict",
          "coloraxis": {
           "colorbar": {
            "outlinewidth": 0,
            "ticks": ""
           }
          },
          "colorscale": {
           "diverging": [
            [
             0,
             "#8e0152"
            ],
            [
             0.1,
             "#c51b7d"
            ],
            [
             0.2,
             "#de77ae"
            ],
            [
             0.3,
             "#f1b6da"
            ],
            [
             0.4,
             "#fde0ef"
            ],
            [
             0.5,
             "#f7f7f7"
            ],
            [
             0.6,
             "#e6f5d0"
            ],
            [
             0.7,
             "#b8e186"
            ],
            [
             0.8,
             "#7fbc41"
            ],
            [
             0.9,
             "#4d9221"
            ],
            [
             1,
             "#276419"
            ]
           ],
           "sequential": [
            [
             0,
             "#0d0887"
            ],
            [
             0.1111111111111111,
             "#46039f"
            ],
            [
             0.2222222222222222,
             "#7201a8"
            ],
            [
             0.3333333333333333,
             "#9c179e"
            ],
            [
             0.4444444444444444,
             "#bd3786"
            ],
            [
             0.5555555555555556,
             "#d8576b"
            ],
            [
             0.6666666666666666,
             "#ed7953"
            ],
            [
             0.7777777777777778,
             "#fb9f3a"
            ],
            [
             0.8888888888888888,
             "#fdca26"
            ],
            [
             1,
             "#f0f921"
            ]
           ],
           "sequentialminus": [
            [
             0,
             "#0d0887"
            ],
            [
             0.1111111111111111,
             "#46039f"
            ],
            [
             0.2222222222222222,
             "#7201a8"
            ],
            [
             0.3333333333333333,
             "#9c179e"
            ],
            [
             0.4444444444444444,
             "#bd3786"
            ],
            [
             0.5555555555555556,
             "#d8576b"
            ],
            [
             0.6666666666666666,
             "#ed7953"
            ],
            [
             0.7777777777777778,
             "#fb9f3a"
            ],
            [
             0.8888888888888888,
             "#fdca26"
            ],
            [
             1,
             "#f0f921"
            ]
           ]
          },
          "colorway": [
           "#636efa",
           "#EF553B",
           "#00cc96",
           "#ab63fa",
           "#FFA15A",
           "#19d3f3",
           "#FF6692",
           "#B6E880",
           "#FF97FF",
           "#FECB52"
          ],
          "font": {
           "color": "#2a3f5f"
          },
          "geo": {
           "bgcolor": "white",
           "lakecolor": "white",
           "landcolor": "#E5ECF6",
           "showlakes": true,
           "showland": true,
           "subunitcolor": "white"
          },
          "hoverlabel": {
           "align": "left"
          },
          "hovermode": "closest",
          "mapbox": {
           "style": "light"
          },
          "paper_bgcolor": "white",
          "plot_bgcolor": "#E5ECF6",
          "polar": {
           "angularaxis": {
            "gridcolor": "white",
            "linecolor": "white",
            "ticks": ""
           },
           "bgcolor": "#E5ECF6",
           "radialaxis": {
            "gridcolor": "white",
            "linecolor": "white",
            "ticks": ""
           }
          },
          "scene": {
           "xaxis": {
            "backgroundcolor": "#E5ECF6",
            "gridcolor": "white",
            "gridwidth": 2,
            "linecolor": "white",
            "showbackground": true,
            "ticks": "",
            "zerolinecolor": "white"
           },
           "yaxis": {
            "backgroundcolor": "#E5ECF6",
            "gridcolor": "white",
            "gridwidth": 2,
            "linecolor": "white",
            "showbackground": true,
            "ticks": "",
            "zerolinecolor": "white"
           },
           "zaxis": {
            "backgroundcolor": "#E5ECF6",
            "gridcolor": "white",
            "gridwidth": 2,
            "linecolor": "white",
            "showbackground": true,
            "ticks": "",
            "zerolinecolor": "white"
           }
          },
          "shapedefaults": {
           "line": {
            "color": "#2a3f5f"
           }
          },
          "ternary": {
           "aaxis": {
            "gridcolor": "white",
            "linecolor": "white",
            "ticks": ""
           },
           "baxis": {
            "gridcolor": "white",
            "linecolor": "white",
            "ticks": ""
           },
           "bgcolor": "#E5ECF6",
           "caxis": {
            "gridcolor": "white",
            "linecolor": "white",
            "ticks": ""
           }
          },
          "title": {
           "x": 0.05
          },
          "xaxis": {
           "automargin": true,
           "gridcolor": "white",
           "linecolor": "white",
           "ticks": "",
           "title": {
            "standoff": 15
           },
           "zerolinecolor": "white",
           "zerolinewidth": 2
          },
          "yaxis": {
           "automargin": true,
           "gridcolor": "white",
           "linecolor": "white",
           "ticks": "",
           "title": {
            "standoff": 15
           },
           "zerolinecolor": "white",
           "zerolinewidth": 2
          }
         }
        },
        "title": {
         "text": "Outliers for OXO-5TIC659 Augusta"
        },
        "xaxis": {
         "anchor": "y",
         "domain": [
          0,
          1
         ],
         "title": {
          "text": "Date"
         }
        },
        "yaxis": {
         "anchor": "x",
         "domain": [
          0,
          1
         ],
         "title": {
          "text": "Value"
         }
        }
       }
      }
     },
     "metadata": {},
     "output_type": "display_data"
    },
    {
     "name": "stdout",
     "output_type": "stream",
     "text": [
      "Warning: No categorical columns found. Calling 'transform' will only return input data.\n"
     ]
    },
    {
     "data": {
      "application/vnd.plotly.v1+json": {
       "config": {
        "plotlyServerURL": "https://plot.ly"
       },
       "data": [
        {
         "colorscale": [
          [
           0,
           "rgb(165,0,38)"
          ],
          [
           0.1,
           "rgb(215,48,39)"
          ],
          [
           0.2,
           "rgb(244,109,67)"
          ],
          [
           0.3,
           "rgb(253,174,97)"
          ],
          [
           0.4,
           "rgb(254,224,144)"
          ],
          [
           0.5,
           "rgb(255,255,191)"
          ],
          [
           0.6,
           "rgb(224,243,248)"
          ],
          [
           0.7,
           "rgb(171,217,233)"
          ],
          [
           0.8,
           "rgb(116,173,209)"
          ],
          [
           0.9,
           "rgb(69,117,180)"
          ],
          [
           1,
           "rgb(49,54,149)"
          ]
         ],
         "type": "heatmap",
         "x": [
          "OXO-5FI661A Augusta",
          "OXO-5FI696 Augusta",
          "OXO-5FIC132 Augusta",
          "OXO-5FIC600 Augusta",
          "OXO-5FIC601 Augusta",
          "OXO-5FIC602 Augusta",
          "OXO-5FIC606C Augusta",
          "OXO-5FIC609B Augusta",
          "OXO-5FIC611A Augusta",
          "OXO-5FIC612A Augusta",
          "OXO-5FIC612B Augusta",
          "OXO-5FIC618A Augusta",
          "OXO-5FIC618B Augusta",
          "OXO-5FIC618C Augusta",
          "OXO-5FIC618D Augusta",
          "OXO-5FIC622A Augusta",
          "OXO-5FIC622B Augusta",
          "OXO-5FIC622C Augusta",
          "OXO-5FIC636A Augusta",
          "OXO-5FIC636B Augusta",
          "OXO-5FIC636C Augusta",
          "OXO-5FQI691B Augusta",
          "OXO-5LI633B Augusta",
          "OXO-5LI650F Augusta",
          "OXO-5LI651E Augusta",
          "OXO-5LI651F Augusta",
          "OXO-5LI652E Augusta",
          "OXO-5LI653E Augusta",
          "OXO-5LI653F Augusta",
          "OXO-5LI654E Augusta",
          "OXO-5LI655F Augusta",
          "OXO-5LI656F Augusta",
          "OXO-5LI657E Augusta",
          "OXO-5LI657F Augusta",
          "OXO-5LI658E Augusta",
          "OXO-5LI658F Augusta",
          "OXO-5PIC605A Augusta",
          "OXO-5RIC606_Y Augusta",
          "OXO-5TIC002 Augusta",
          "OXO-5TIC601 Augusta",
          "OXO-5TIC602 Augusta",
          "OXO-5TIC603 Augusta",
          "OXO-5TIC604 Augusta",
          "OXO-5TIC605 Augusta",
          "OXO-5TIC606 Augusta",
          "OXO-5TIC607 Augusta",
          "OXO-5TIC659 Augusta",
          "OXO-_5FI658A Augusta",
          "OXO-_5FI659A Augusta",
          "OXO-_5FI660A Augusta",
          "OXO-_5FI662A Augusta",
          "OXO-5FI635C Augusta"
         ],
         "y": [
          "OXO-5FI661A Augusta",
          "OXO-5FI696 Augusta",
          "OXO-5FIC132 Augusta",
          "OXO-5FIC600 Augusta",
          "OXO-5FIC601 Augusta",
          "OXO-5FIC602 Augusta",
          "OXO-5FIC606C Augusta",
          "OXO-5FIC609B Augusta",
          "OXO-5FIC611A Augusta",
          "OXO-5FIC612A Augusta",
          "OXO-5FIC612B Augusta",
          "OXO-5FIC618A Augusta",
          "OXO-5FIC618B Augusta",
          "OXO-5FIC618C Augusta",
          "OXO-5FIC618D Augusta",
          "OXO-5FIC622A Augusta",
          "OXO-5FIC622B Augusta",
          "OXO-5FIC622C Augusta",
          "OXO-5FIC636A Augusta",
          "OXO-5FIC636B Augusta",
          "OXO-5FIC636C Augusta",
          "OXO-5FQI691B Augusta",
          "OXO-5LI633B Augusta",
          "OXO-5LI650F Augusta",
          "OXO-5LI651E Augusta",
          "OXO-5LI651F Augusta",
          "OXO-5LI652E Augusta",
          "OXO-5LI653E Augusta",
          "OXO-5LI653F Augusta",
          "OXO-5LI654E Augusta",
          "OXO-5LI655F Augusta",
          "OXO-5LI656F Augusta",
          "OXO-5LI657E Augusta",
          "OXO-5LI657F Augusta",
          "OXO-5LI658E Augusta",
          "OXO-5LI658F Augusta",
          "OXO-5PIC605A Augusta",
          "OXO-5RIC606_Y Augusta",
          "OXO-5TIC002 Augusta",
          "OXO-5TIC601 Augusta",
          "OXO-5TIC602 Augusta",
          "OXO-5TIC603 Augusta",
          "OXO-5TIC604 Augusta",
          "OXO-5TIC605 Augusta",
          "OXO-5TIC606 Augusta",
          "OXO-5TIC607 Augusta",
          "OXO-5TIC659 Augusta",
          "OXO-_5FI658A Augusta",
          "OXO-_5FI659A Augusta",
          "OXO-_5FI660A Augusta",
          "OXO-_5FI662A Augusta",
          "OXO-5FI635C Augusta"
         ],
         "z": [
          [
           1,
           0.23117734751667837,
           0.3377968274916519,
           0.7728143782837107,
           0.8695608095260807,
           0.3733993486273083,
           -0.3342560256286857,
           -0.04881544435776595,
           -0.3538493301109753,
           0.071220518020492,
           0.6721871573452638,
           0.49670298095361776,
           0.49387761984494155,
           0.4809248422494115,
           0.04704019815098092,
           -0.22436276012381162,
           0.8542106840431816,
           0.2504205839349984,
           -0.34798927367632165,
           -0.21507088248760842,
           0.34459812554112546,
           -0.8561809182109045,
           0.8163440508252388,
           0.2856945637821404,
           0.8652257157940241,
           -0.0625764679817167,
           -0.1757564602502869,
           -0.7981405790548788,
           -0.8109642427267694,
           -0.671157283688223,
           0.6055614495279301,
           -0.8804319058113987,
           0.709050928467422,
           -0.46896410642187003,
           0.17725663723817914,
           -0.7115050839404059,
           0.1444976875055357,
           -0.13869442063368848,
           0.08855116253215622,
           0.8422464915922594,
           -0.659799759433628,
           -0.5390808245921321,
           -0.4595332985862035,
           -0.48085710969140943,
           0.0030201337732640855,
           0.05011264648117391,
           -0.12977816103526418,
           0.9879909278310783,
           0.9919547085947871,
           0.9700313014062063,
           0.985202273732135,
           0.4414826812687417
          ],
          [
           0.23117734751667837,
           1,
           0.09872945086168258,
           0.0782266648063091,
           0.1406472525925752,
           0.6185941355239293,
           0.3146178640444754,
           -0.29058252209027075,
           0.3125913968858525,
           0.30692128335784685,
           0.6807111028032595,
           0.28648821079028,
           0.4607251000113568,
           0.46459921623565564,
           -0.05843337703209654,
           0.05532032075911757,
           0.31678148940156103,
           0.5487982724972768,
           -0.1254684104054248,
           -0.19364178929555145,
           0.8284375531033298,
           -0.01425038800585792,
           0.16125812365834089,
           -0.19176341918265224,
           0.023933734968792114,
           0.22485986740517214,
           -0.04480552616248694,
           -0.026488691840299984,
           -0.01413000478006876,
           0.013590670336973283,
           0.06827505021988704,
           -0.02029200410968152,
           0.33356191433637317,
           0.2482828875489682,
           -0.37865928521719155,
           0.2238562457496429,
           0.08179336205946802,
           0.11756151457759749,
           0.019443305218676075,
           0.23269935787213003,
           -0.5461134714485372,
           -0.5448651001293489,
           -0.4002994118621245,
           -0.4646166445575176,
           -0.387881611899893,
           -0.3945619692595657,
           0.032655299895455445,
           0.26275449135293416,
           0.23271352940373372,
           0.2564189521581694,
           0.23645520664917652,
           0.7003829225865954
          ],
          [
           0.3377968274916519,
           0.09872945086168258,
           1,
           0.475178844790589,
           0.3031578420992616,
           0.3880491529105055,
           -0.23431489597354,
           -0.1737777268123149,
           -0.19933347529866288,
           0.03507532106263009,
           0.2917159692863449,
           0.6594879025447216,
           0.16653919670845047,
           0.14975693126021442,
           -0.108673680010742,
           -0.14968240027872456,
           0.07084771232218927,
           -0.3140575941250432,
           0.0984828382100453,
           0.0181394668168378,
           -0.17125717040099192,
           -0.4274883767767553,
           0.18584152196627932,
           -0.15990906371748673,
           0.3838245371984057,
           -0.11716065823992712,
           0.01403013846957516,
           -0.5422781624528514,
           -0.5483175962128477,
           0.2243080673608527,
           0.24618201780429197,
           -0.4505541580379569,
           0.2748377921277199,
           -0.30327709299238786,
           -0.2292967219554713,
           -0.32566664200355966,
           -0.12601457040751976,
           -0.557931876318981,
           0.06872703279933416,
           0.2573974864273593,
           -0.11147973300939736,
           -0.2817812601496829,
           0.059208481869964885,
           -0.018515882576149088,
           0.27570297962060986,
           0.015061900820710697,
           0.09346255972123817,
           0.32566989860203727,
           0.331185784754141,
           0.3337378818488289,
           0.3746903773136289,
           -0.09770901267319407
          ],
          [
           0.7728143782837107,
           0.0782266648063091,
           0.475178844790589,
           1,
           0.8320152356845512,
           0.33166679790928977,
           -0.369576446593003,
           0.05915725335530944,
           -0.42944339883305627,
           0.10939777547838833,
           0.4742061998578364,
           0.4145912403364144,
           0.12525617023904723,
           0.3608683281937452,
           -0.01198407019062637,
           -0.2516243566797175,
           0.6189572829972605,
           0.07892403460889727,
           -0.2840637629998551,
           -0.12496567794392884,
           0.07891017623787817,
           -0.8166429131050975,
           0.7644015290955344,
           0.24404103243503156,
           0.8384489479694476,
           -0.1901425426410864,
           -0.0865391408682981,
           -0.8336246353959803,
           -0.8510542390686193,
           -0.49832926981710357,
           0.4446030457589894,
           -0.8618745264058182,
           0.6098345951055224,
           -0.49527551445079093,
           0.23395636163850622,
           -0.7608642817583336,
           0.12176284625611611,
           -0.37493953583219297,
           0.06777089960507612,
           0.7662142582151665,
           -0.47316996957495255,
           -0.22137890620153988,
           -0.34553266016313505,
           -0.28457088290790983,
           0.21809451558141418,
           0.24433997187199644,
           -0.10275092955507108,
           0.7619805595049274,
           0.7612635687630868,
           0.7589704150341509,
           0.7569010311184583,
           0.21415297124841462
          ],
          [
           0.8695608095260807,
           0.1406472525925752,
           0.3031578420992616,
           0.8320152356845512,
           1,
           0.22001674601348287,
           -0.3674998039082611,
           0.17789694955112118,
           -0.38504360964750073,
           0.08635403182919121,
           0.5057743245362543,
           0.29846227692138066,
           0.31619435879709773,
           0.2978411152288306,
           0.06010771811113026,
           -0.22896103024458764,
           0.7993349077770641,
           0.17351597437975466,
           -0.34715718210328156,
           -0.17177745139456785,
           0.28799894829200073,
           -0.861972772687394,
           0.9445000435031778,
           0.2875226051299215,
           0.8746024222999181,
           -0.10155364618724137,
           -0.17016777903783573,
           -0.797046147669325,
           -0.8136172519259826,
           -0.6849471203879413,
           0.5887570915306988,
           -0.8802925096085156,
           0.6839512997359707,
           -0.5091349142760333,
           0.22951416183297527,
           -0.7596330356510002,
           0.07211833969979972,
           -0.08529378741871389,
           0.04091281893215646,
           0.9662064049231983,
           -0.7239056980208913,
           -0.4024989915843931,
           -0.5783683772244733,
           -0.5151869666057843,
           0.013856378209465562,
           0.16759691199648302,
           -0.025667532491849703,
           0.8616881876276641,
           0.8724513738356284,
           0.8465445563159479,
           0.8740395555401127,
           0.36219224384967097
          ],
          [
           0.3733993486273083,
           0.6185941355239293,
           0.3880491529105055,
           0.33166679790928977,
           0.22001674601348287,
           1,
           0.011927661087774127,
           -0.4411791896523455,
           0.018998282415632537,
           0.222614101184881,
           0.7505336946629779,
           0.5019548155365289,
           0.4460042178792572,
           0.451799376563198,
           -0.06809047773414674,
           -0.1138742221132756,
           0.2899285472730778,
           0.2872658142117286,
           -0.16340621103955166,
           -0.2912009083442452,
           0.5145328624077454,
           -0.24193294068790847,
           0.21037487101200558,
           0.11610299348306868,
           0.28283029989069963,
           -0.013563142716622642,
           -0.07810020442547362,
           -0.27772528475995156,
           -0.2773983956856006,
           -0.08061623074378153,
           0.21591340558491273,
           -0.286843844379195,
           0.4604405260399301,
           0.036222548697807846,
           -0.08199011273566646,
           -0.08043305979520901,
           -0.04525414905362803,
           -0.16524841853711486,
           0.10895696355964822,
           0.22425438699260197,
           -0.3703806729403863,
           -0.39213559687119626,
           -0.2383347349883263,
           -0.2864968035096563,
           -0.12152242076964573,
           -0.3052866473832044,
           0.05892340896634807,
           0.40741138574721797,
           0.3596645686756418,
           0.4133712056903401,
           0.38560954156969085,
           0.37844473853707405
          ],
          [
           -0.3342560256286857,
           0.3146178640444754,
           -0.23431489597354,
           -0.369576446593003,
           -0.3674998039082611,
           0.011927661087774127,
           1,
           -0.37954906816421746,
           0.9095208049645289,
           0.589326177223421,
           -0.049282214670872036,
           -0.2109082452438454,
           -0.2873259722576265,
           -0.0008630233868546707,
           -0.15162105754355337,
           0.4251364372515281,
           -0.1936552768684027,
           0.2905203617229622,
           0.4426852025363023,
           0.49283260691879816,
           0.12723313649413884,
           0.2792157314195261,
           -0.38708795836433596,
           -0.25370989603342187,
           -0.34965774972990865,
           0.7179261175731556,
           -0.29326241818254806,
           0.16758988988762977,
           0.23119266129301622,
           0.28532139061379125,
           -0.4098650310654068,
           0.4098064884007884,
           -0.21691200962000767,
           0.629431441861633,
           -0.6438118042197536,
           0.7643988477783449,
           0.07880659083102054,
           -0.10675299516821925,
           -0.10812769736564032,
           -0.3426455604783873,
           0.06083391274602966,
           -0.033630810305738855,
           0.30275931804904904,
           0.26970251761819397,
           0.09498232716343426,
           0.0781922969799146,
           -0.03676965317000195,
           -0.37777775704307404,
           -0.3458867217140834,
           -0.32862735664040116,
           -0.32399546013597563,
           0.22233972849182557
          ],
          [
           -0.04881544435776595,
           -0.29058252209027075,
           -0.1737777268123149,
           0.05915725335530944,
           0.17789694955112118,
           -0.4411791896523455,
           -0.37954906816421746,
           1,
           -0.42559271376241536,
           -0.32241750156782173,
           -0.3190774908948716,
           -0.2466429669015896,
           -0.1589016791521184,
           -0.42938564712803245,
           0.22838331076000312,
           -0.054634947528038866,
           0.06302395219247997,
           -0.1469144937457651,
           0.07841374861502495,
           0.03667975399578977,
           -0.10547549322274778,
           -0.022774110148222143,
           0.2829131376823182,
           0.01031639461222565,
           0.07302538044109101,
           -0.5119355338563708,
           0.017416663596463686,
           0.04206383313717121,
           0.005389163098228308,
           -0.13496413647111247,
           0.3181550662047572,
           -0.09930740862316399,
           0.029682726389599026,
           -0.3622074557068241,
           0.29623138482937794,
           -0.3386154896136843,
           0.07105565610244795,
           0.04798737085579026,
           -0.07885374370839823,
           0.1988125772338099,
           0.06971621439919284,
           0.30372275286710987,
           -0.05297183859159931,
           0.04183329488651617,
           0.08736210429937655,
           0.2682075138862213,
           -0.0885743428431259,
           -0.04292259296830909,
           -0.06529650316827794,
           0.020474885616144172,
           -0.013629760762813827,
           -0.16629694457819816
          ],
          [
           -0.3538493301109753,
           0.3125913968858525,
           -0.19933347529866288,
           -0.42944339883305627,
           -0.38504360964750073,
           0.018998282415632537,
           0.9095208049645289,
           -0.42559271376241536,
           1,
           0.6138008018886163,
           -0.038831999020950976,
           -0.19099868002791268,
           -0.19417897635916712,
           -0.057962641386005403,
           -0.1015355450722091,
           0.4022329235299324,
           -0.2029437079264945,
           0.3136518998348494,
           0.43272001532759435,
           0.4680869367358577,
           0.14009149389876296,
           0.30964456260215373,
           -0.4250953840714139,
           -0.21793919852922927,
           -0.4074804766573007,
           0.7840962486262913,
           -0.3589985199713233,
           0.23131223264919204,
           0.29677256742166586,
           0.3184552374604944,
           -0.38603659361886405,
           0.45976935594755947,
           -0.2552900371295651,
           0.7660735293876093,
           -0.6786285039693393,
           0.8316320980438845,
           0.11444536972880805,
           0.026584341231426136,
           -0.11939729095988856,
           -0.32431964780510436,
           0.02692975189206671,
           -0.14021742999684328,
           0.20722130823992024,
           0.14385117784743573,
           -0.016151381751153486,
           -0.047760995115588685,
           -0.031099849003037857,
           -0.390932948074892,
           -0.35342411398898027,
           -0.36084173312420326,
           -0.31696075306658866,
           0.20776166925186854
          ],
          [
           0.071220518020492,
           0.30692128335784685,
           0.03507532106263009,
           0.10939777547838833,
           0.08635403182919121,
           0.222614101184881,
           0.589326177223421,
           -0.32241750156782173,
           0.6138008018886163,
           1,
           0.2592331397823919,
           -0.03645579083243864,
           -0.11076086625750385,
           0.09348321798030931,
           -0.04413569630811719,
           0.1569982209116968,
           0.18379684451421816,
           0.36877097092815403,
           0.2784126067340321,
           0.31482903611841695,
           0.23271523357691798,
           -0.19389028441831752,
           0.08178398821070511,
           0.07391333559715398,
           0.1613251729943031,
           0.5027000143596843,
           -0.3672500016908493,
           -0.244622609171663,
           -0.2006878347178005,
           -0.12447646552382612,
           -0.03474830267171808,
           -0.08681916738097666,
           0.2691004194306116,
           0.3678336784717247,
           -0.3274175722846504,
           0.29457096349637574,
           0.0031282790787302292,
           -0.09539317454131807,
           -0.06364491369997288,
           0.08238396227379906,
           -0.3021216476963269,
           -0.29166602947612386,
           -0.053289805826971466,
           -0.06966154282153576,
           0.056056232246585534,
           0.01546615751480314,
           -0.02411764231135038,
           0.04161781417686144,
           0.06048302569419017,
           0.08695195468495008,
           0.08388040159796746,
           0.2610269931787019
          ],
          [
           0.6721871573452638,
           0.6807111028032595,
           0.2917159692863449,
           0.4742061998578364,
           0.5057743245362543,
           0.7505336946629779,
           -0.049282214670872036,
           -0.3190774908948716,
           -0.038831999020950976,
           0.2592331397823919,
           1,
           0.5556663194232342,
           0.7168216446020966,
           0.6012912050942019,
           -0.11556184591179829,
           -0.2175294129201085,
           0.6337377009427988,
           0.5076123730372465,
           -0.299917740466248,
           -0.3283007513773741,
           0.7411125709543378,
           -0.47935166677633273,
           0.4965724503563262,
           0.18521360522519867,
           0.5069951691356828,
           0.02029927565663728,
           -0.0974213836774126,
           -0.42320276125776435,
           -0.426710655320332,
           -0.4139676938292954,
           0.48502886570771403,
           -0.5075553840121809,
           0.6965357110398424,
           -0.11950630545259411,
           -0.03828885030064395,
           -0.2467703057389206,
           0.13993633033237143,
           0.02575927034156078,
           0.1262425496617893,
           0.5493584841208128,
           -0.7309280216605292,
           -0.7637193717662307,
           -0.5114526247729939,
           -0.6072669747956153,
           -0.3280216392447396,
           -0.409062875230663,
           -0.038744687663469564,
           0.6972623949759689,
           0.6643061885111693,
           0.6965621427137423,
           0.6693831948147873,
           0.7141788101241769
          ],
          [
           0.49670298095361776,
           0.28648821079028,
           0.6594879025447216,
           0.4145912403364144,
           0.29846227692138066,
           0.5019548155365289,
           -0.2109082452438454,
           -0.2466429669015896,
           -0.19099868002791268,
           -0.03645579083243864,
           0.5556663194232342,
           1,
           0.5373898725078119,
           0.6569827390048958,
           -0.11953924913933482,
           -0.1916809732838162,
           0.22942044378679727,
           -0.13607933156172733,
           -0.20808425064590952,
           -0.16700106554554617,
           0.09125338495750054,
           -0.39856868441335075,
           0.20067017267086149,
           0.026367537442357505,
           0.36988960294097367,
           -0.08961958678224526,
           0.05624892386967411,
           -0.46345641778185936,
           -0.46888866427402603,
           0.07180147706161696,
           0.2708597455998683,
           -0.42902425731351007,
           0.22579919440571125,
           -0.30877229929368005,
           -0.13229584032322284,
           -0.3039822884787068,
           0.029941812924227477,
           -0.4253208883752818,
           0.09158782896084419,
           0.2988479852443936,
           -0.2354172978951905,
           -0.5104684256799578,
           0.01627048302264955,
           -0.1385503512221828,
           0.13389101941572243,
           -0.042860577509346395,
           0.030957119488179308,
           0.4641659540986298,
           0.47970427047852787,
           0.4875930294199517,
           0.49344537867438754,
           0.22696053257931073
          ],
          [
           0.49387761984494155,
           0.4607251000113568,
           0.16653919670845047,
           0.12525617023904723,
           0.31619435879709773,
           0.4460042178792572,
           -0.2873259722576265,
           -0.1589016791521184,
           -0.19417897635916712,
           -0.11076086625750385,
           0.7168216446020966,
           0.5373898725078119,
           1,
           0.4919431162820539,
           0.014415894266044471,
           -0.28324942882685245,
           0.45222968346569886,
           0.3462708135466328,
           -0.3034536051293498,
           -0.3924466808448138,
           0.63635000879443,
           -0.1941482925860827,
           0.3131334339931971,
           0.1628831186038777,
           0.23227907914078455,
           -0.13307803113520583,
           -0.007507848356786165,
           -0.059655516012505974,
           -0.0811449605662565,
           -0.3034293773720503,
           0.5469111458127129,
           -0.2473204886052454,
           0.48330794110798825,
           -0.1545805378386422,
           0.03637585918434332,
           -0.19068771592204287,
           0.08058081958400247,
           0.3833754483392663,
           0.11905895361137629,
           0.4247290205907453,
           -0.5674035738873621,
           -0.7532531475170247,
           -0.5249471161929427,
           -0.6791664957569901,
           -0.5398188675942927,
           -0.5476046671028485,
           -0.019682699905478454,
           0.5247326629711363,
           0.4976352507871556,
           0.49773803659578797,
           0.49945560545108736,
           0.5085307667345362
          ],
          [
           0.4809248422494115,
           0.46459921623565564,
           0.14975693126021442,
           0.3608683281937452,
           0.2978411152288306,
           0.451799376563198,
           -0.0008630233868546707,
           -0.42938564712803245,
           -0.057962641386005403,
           0.09348321798030931,
           0.6012912050942019,
           0.6569827390048958,
           0.4919431162820539,
           1,
           -0.056914292082873755,
           -0.1153907459318626,
           0.35682559015118975,
           0.2905274930376706,
           -0.42697931084945884,
           -0.1363153969194319,
           0.38211192243412206,
           -0.31740250532620023,
           0.27745824670718144,
           0.16506770005122068,
           0.30665433385486224,
           -0.019381815233729643,
           0.08888494783273834,
           -0.3180733449767425,
           -0.3171753216719765,
           -0.21126187654660222,
           -0.020819902355821845,
           -0.31996026481846224,
           0.23969801228158175,
           -0.1304198004697874,
           0.06790533699056574,
           -0.1586499315849104,
           0.09998130403677748,
           -0.15714369722931595,
           0.04949138841362963,
           0.29937716966644073,
           -0.39440335166197527,
           -0.4294640131130674,
           -0.15772283310176397,
           -0.23307710536073112,
           -0.06420824988781323,
           0.018950864994521793,
           -0.03727750991705442,
           0.4724522097465611,
           0.4512696116358965,
           0.47785498770347773,
           0.4255474028890871,
           0.5331160469571725
          ],
          [
           0.04704019815098092,
           -0.05843337703209654,
           -0.108673680010742,
           -0.01198407019062637,
           0.06010771811113026,
           -0.06809047773414674,
           -0.15162105754355337,
           0.22838331076000312,
           -0.1015355450722091,
           -0.04413569630811719,
           -0.11556184591179829,
           -0.11953924913933482,
           0.014415894266044471,
           -0.056914292082873755,
           1,
           0.1909973843447066,
           0.07971822534872368,
           0.03674631769557916,
           -0.028123706242421893,
           -0.004528026978857511,
           0.0527394854729839,
           -0.0100277891222438,
           0.10279532838791257,
           0.19914490868989868,
           0.023835173512938467,
           -0.19523723270348362,
           -0.2828029318004731,
           0.03860438079233815,
           0.02139361590101486,
           -0.1262603297699714,
           0.10345092131122331,
           -0.041773320021717596,
           0.07550230471111417,
           -0.03183933850197447,
           0.24160844826390537,
           -0.08585709514309928,
           0.16257779175672715,
           0.09683778589888833,
           -0.025844726789833655,
           0.0965035065222945,
           0.04897322201134886,
           0.13584344095031708,
           -0.04612034703191783,
           -0.013105901093829118,
           0.00933437531051196,
           0.2222477619246117,
           -0.08984907115111769,
           0.09575007735303243,
           0.03400516010459886,
           0.06644477730611532,
           0.0808391095587853,
           -0.06249272531676407
          ],
          [
           -0.22436276012381162,
           0.05532032075911757,
           -0.14968240027872456,
           -0.2516243566797175,
           -0.22896103024458764,
           -0.1138742221132756,
           0.4251364372515281,
           -0.054634947528038866,
           0.4022329235299324,
           0.1569982209116968,
           -0.2175294129201085,
           -0.1916809732838162,
           -0.28324942882685245,
           -0.1153907459318626,
           0.1909973843447066,
           1,
           -0.17596908002804446,
           0.07848235258750748,
           0.1420709917849949,
           0.22963561861398754,
           -0.02427884175046916,
           0.14923902464320532,
           -0.2054287647939784,
           -0.06335122951299076,
           -0.2008968032138788,
           0.2607986527162977,
           -0.1673070336509272,
           0.10977095110415921,
           0.13315697444962582,
           0.14597529480313431,
           -0.2731268409367747,
           0.2194445111368912,
           -0.1991042250017609,
           0.25869334817934303,
           -0.19666857252195002,
           0.3625361030694748,
           -0.08675623566204624,
           -0.09758005659642445,
           -0.041130265434116006,
           -0.24799531476188452,
           0.1594134666052786,
           0.17690117276210873,
           0.29609983062583717,
           0.31992779537762045,
           0.176745421577203,
           0.21259502965658186,
           0.07882934677633063,
           -0.22064120032399623,
           -0.2287216696408227,
           -0.21415469690617253,
           -0.23443659209507725,
           0.004756151808536101
          ],
          [
           0.8542106840431816,
           0.31678148940156103,
           0.07084771232218927,
           0.6189572829972605,
           0.7993349077770641,
           0.2899285472730778,
           -0.1936552768684027,
           0.06302395219247997,
           -0.2029437079264945,
           0.18379684451421816,
           0.6337377009427988,
           0.22942044378679727,
           0.45222968346569886,
           0.35682559015118975,
           0.07971822534872368,
           -0.17596908002804446,
           1,
           0.5654239098809987,
           -0.1618876218215127,
           -0.04907781053923932,
           0.5196821182635721,
           -0.7927954209929965,
           0.796170239983745,
           0.2631077192504021,
           0.8081828295574618,
           -0.027034276586294842,
           -0.2535868716226392,
           -0.6653404137988914,
           -0.674294582400329,
           -0.813457055960265,
           0.6615901107088991,
           -0.7871034465654971,
           0.7947238731324625,
           -0.3957153949624462,
           0.15382775855171826,
           -0.5792528941066485,
           0.057279625057589365,
           0.014296428919041586,
           0.002719446269115774,
           0.7934222390040937,
           -0.6528669026254582,
           -0.4619227627898601,
           -0.472343496468535,
           -0.4607039089759532,
           -0.01305757003653028,
           0.03168257297853368,
           -0.009156603047316617,
           0.8445095419378206,
           0.8392302941285704,
           0.8596373110586283,
           0.8578685961966793,
           0.5362196490735328
          ],
          [
           0.2504205839349984,
           0.5487982724972768,
           -0.3140575941250432,
           0.07892403460889727,
           0.17351597437975466,
           0.2872658142117286,
           0.2905203617229622,
           -0.1469144937457651,
           0.3136518998348494,
           0.36877097092815403,
           0.5076123730372465,
           -0.13607933156172733,
           0.3462708135466328,
           0.2905274930376706,
           0.03674631769557916,
           0.07848235258750748,
           0.5654239098809987,
           1,
           0.04748250995901038,
           0.12048250313346805,
           0.7420613821680255,
           -0.13990858493588243,
           0.22531350288060134,
           0.14529580383531007,
           0.16007677753798452,
           0.1983010746256264,
           -0.17823234026521703,
           -0.005516813090840545,
           0.004247321489918095,
           -0.46362037504770104,
           0.2552503267724143,
           -0.09533555403980551,
           0.4739849378903447,
           0.16967968161286015,
           -0.0208417063913599,
           0.1414103226933213,
           0.13030120093583347,
           0.3125845349818518,
           -0.11371961163952465,
           0.23901085501353744,
           -0.43820093977331837,
           -0.3058357748070629,
           -0.3339614531813383,
           -0.33091573939366065,
           -0.27041307281619553,
           -0.18222156221949357,
           -0.09008748776453981,
           0.2678194440864352,
           0.22731298358821916,
           0.2948313926306102,
           0.2535566100262169,
           0.7247733302792871
          ],
          [
           -0.34798927367632165,
           -0.1254684104054248,
           0.0984828382100453,
           -0.2840637629998551,
           -0.34715718210328156,
           -0.16340621103955166,
           0.4426852025363023,
           0.07841374861502495,
           0.43272001532759435,
           0.2784126067340321,
           -0.299917740466248,
           -0.20808425064590952,
           -0.3034536051293498,
           -0.42697931084945884,
           -0.028123706242421893,
           0.1420709917849949,
           -0.1618876218215127,
           0.04748250995901038,
           1,
           0.7862167751249848,
           -0.23484454573386815,
           0.14435955890996316,
           -0.3721789696325363,
           -0.2474178902830511,
           -0.18416935969872097,
           0.15915841537730932,
           -0.30867263683355844,
           0.08132508490708307,
           0.11049820174936764,
           0.25495285018162994,
           0.05836710817648225,
           0.20571971086679958,
           -0.05310221859461317,
           0.19830314595662202,
           -0.4533997142808888,
           0.374067439674324,
           -0.09948415318011676,
           -0.2619516008405211,
           -0.11453937035722342,
           -0.3334069634623129,
           0.40408805524963975,
           0.20777687790292987,
           0.48515977285038286,
           0.4514392471130218,
           0.39310327363356645,
           0.16087916601896587,
           0.06886317141165084,
           -0.4067905833804972,
           -0.3923903442870938,
           -0.27968967516798887,
           -0.27773408670075306,
           -0.3029505006721658
          ],
          [
           -0.21507088248760842,
           -0.19364178929555145,
           0.0181394668168378,
           -0.12496567794392884,
           -0.17177745139456785,
           -0.2912009083442452,
           0.49283260691879816,
           0.03667975399578977,
           0.4680869367358577,
           0.31482903611841695,
           -0.3283007513773741,
           -0.16700106554554617,
           -0.3924466808448138,
           -0.1363153969194319,
           -0.004528026978857511,
           0.22963561861398754,
           -0.04907781053923932,
           0.12048250313346805,
           0.7862167751249848,
           1,
           -0.2965400915609066,
           -0.05167987251747228,
           -0.19233131339749374,
           -0.15982871029635734,
           -0.03396467369116819,
           0.23910301260122682,
           -0.3186366692753539,
           -0.1037933083800706,
           -0.06640630245720193,
           0.09335990252449003,
           -0.10527391721153724,
           0.06407742888620885,
           -0.09266587954777653,
           0.13544247270163157,
           -0.3729174041947205,
           0.29457568043449733,
           0.005957247454928622,
           -0.3774648385807399,
           -0.14975529299632603,
           -0.19121060962094186,
           0.3379073259250612,
           0.25143705656117304,
           0.5124018883799634,
           0.5070634943230921,
           0.5338428341631989,
           0.4880330623036138,
           -0.024768973346109273,
           -0.29784914778762067,
           -0.27165920790234716,
           -0.16495631643028852,
           -0.1755422260123149,
           -0.18426977598778593
          ],
          [
           0.34459812554112546,
           0.8284375531033298,
           -0.17125717040099192,
           0.07891017623787817,
           0.28799894829200073,
           0.5145328624077454,
           0.12723313649413884,
           -0.10547549322274778,
           0.14009149389876296,
           0.23271523357691798,
           0.7411125709543378,
           0.09125338495750054,
           0.63635000879443,
           0.38211192243412206,
           0.0527394854729839,
           -0.02427884175046916,
           0.5196821182635721,
           0.7420613821680255,
           -0.23484454573386815,
           -0.2965400915609066,
           1,
           -0.10201399350771082,
           0.3422733071609344,
           0.12818948441034386,
           0.14932525199593874,
           0.06282398149399118,
           -0.10444589227384017,
           0.021587395451321212,
           0.017886262847745676,
           -0.37615718291991446,
           0.3592564296628717,
           -0.11857110430042636,
           0.5235684572450048,
           0.12229092415452116,
           -0.030169378310947136,
           0.07170070417289205,
           0.14995029728213682,
           0.42451993234509766,
           0.02596840337471885,
           0.406406133623157,
           -0.698648218054439,
           -0.6047675895749707,
           -0.6245443503564616,
           -0.668681869579715,
           -0.5776564377081836,
           -0.4796036953455931,
           -0.03473939587095325,
           0.39709201530923416,
           0.3439243788845765,
           0.3926321750645148,
           0.35348616162199337,
           0.7904877093372966
          ],
          [
           -0.8561809182109045,
           -0.01425038800585792,
           -0.4274883767767553,
           -0.8166429131050975,
           -0.861972772687394,
           -0.24193294068790847,
           0.2792157314195261,
           -0.022774110148222143,
           0.30964456260215373,
           -0.19389028441831752,
           -0.47935166677633273,
           -0.39856868441335075,
           -0.1941482925860827,
           -0.31740250532620023,
           -0.0100277891222438,
           0.14923902464320532,
           -0.7927954209929965,
           -0.13990858493588243,
           0.14435955890996316,
           -0.05167987251747228,
           -0.10201399350771082,
           1,
           -0.8085051781085418,
           -0.3498350051080552,
           -0.9762542304989642,
           0.09876138902430631,
           0.19878272620762868,
           0.9535705146259105,
           0.9594578275769893,
           0.7041633271595312,
           -0.5781553837477169,
           0.9747046777897022,
           -0.7265624756920124,
           0.528565200553475,
           -0.21133757471450682,
           0.735739428348798,
           -0.0012723711314876662,
           0.3962888059146231,
           -0.03451050582014781,
           -0.7820106331642616,
           0.4941255900718131,
           0.35677118790427403,
           0.22779229753730743,
           0.2159370999474843,
           -0.3301305150784057,
           -0.2952800210575217,
           -0.018890450728043136,
           -0.8229050471186371,
           -0.8331733214795399,
           -0.8602739903578834,
           -0.8600655664089586,
           -0.2199018758740186
          ],
          [
           0.8163440508252388,
           0.16125812365834089,
           0.18584152196627932,
           0.7644015290955344,
           0.9445000435031778,
           0.21037487101200558,
           -0.38708795836433596,
           0.2829131376823182,
           -0.4250953840714139,
           0.08178398821070511,
           0.4965724503563262,
           0.20067017267086149,
           0.3131334339931971,
           0.27745824670718144,
           0.10279532838791257,
           -0.2054287647939784,
           0.796170239983745,
           0.22531350288060134,
           -0.3721789696325363,
           -0.19233131339749374,
           0.3422733071609344,
           -0.8085051781085418,
           1,
           0.2936022210529499,
           0.8390583834132688,
           -0.23295603982097673,
           -0.13572357919576317,
           -0.7313159559815495,
           -0.7534490425546707,
           -0.7327615277560617,
           0.5264388216759394,
           -0.8436368576689142,
           0.7226418793242,
           -0.48904981121284363,
           0.29956629593760403,
           -0.7356858814330095,
           0.060173844968035704,
           -0.008786905211255983,
           0.039151203835258795,
           0.9128325062274054,
           -0.7349096131104209,
           -0.36922405112763784,
           -0.5997191471938368,
           -0.522988215928157,
           -0.05354011604692494,
           0.1370815108640369,
           -0.03920191260517364,
           0.8269652371004197,
           0.8112930458398497,
           0.8252842236290057,
           0.8144177030568371,
           0.378486249966779
          ],
          [
           0.2856945637821404,
           -0.19176341918265224,
           -0.15990906371748673,
           0.24404103243503156,
           0.2875226051299215,
           0.11610299348306868,
           -0.25370989603342187,
           0.01031639461222565,
           -0.21793919852922927,
           0.07391333559715398,
           0.18521360522519867,
           0.026367537442357505,
           0.1628831186038777,
           0.16506770005122068,
           0.19914490868989868,
           -0.06335122951299076,
           0.2631077192504021,
           0.14529580383531007,
           -0.2474178902830511,
           -0.15982871029635734,
           0.12818948441034386,
           -0.3498350051080552,
           0.2936022210529499,
           1,
           0.40900984755670405,
           -0.16184893652826265,
           -0.07597481340301591,
           -0.2122937700885982,
           -0.22678985626252812,
           -0.5985014440355448,
           0.33364054392790865,
           -0.34277171005738527,
           0.25194884459354977,
           -0.1905412398496576,
           0.7028116883066692,
           -0.3195870149790388,
           0.012431540202871317,
           0.11960735525972552,
           0.003948874519977979,
           0.26359467315035645,
           -0.1991534368618482,
           -0.107275191515423,
           -0.1689906772842554,
           -0.151441413070435,
           -0.011693385573584745,
           0.03981311623816088,
           0.002880720586967922,
           0.290125634647336,
           0.2748159445282996,
           0.292422253010735,
           0.27621870976270746,
           0.059933735764196194
          ],
          [
           0.8652257157940241,
           0.023933734968792114,
           0.3838245371984057,
           0.8384489479694476,
           0.8746024222999181,
           0.28283029989069963,
           -0.34965774972990865,
           0.07302538044109101,
           -0.4074804766573007,
           0.1613251729943031,
           0.5069951691356828,
           0.36988960294097367,
           0.23227907914078455,
           0.30665433385486224,
           0.023835173512938467,
           -0.2008968032138788,
           0.8081828295574618,
           0.16007677753798452,
           -0.18416935969872097,
           -0.03396467369116819,
           0.14932525199593874,
           -0.9762542304989642,
           0.8390583834132688,
           0.40900984755670405,
           1,
           -0.1963201428459174,
           -0.15477338650379416,
           -0.9254947405510391,
           -0.9399210342236912,
           -0.7536437658742321,
           0.6436323866122936,
           -0.9865695132937348,
           0.7844734119991101,
           -0.5988758425191162,
           0.3056197091268801,
           -0.7985250012841206,
           -0.03526477593719092,
           -0.3429197345327392,
           0.05039247030429129,
           0.7915188726971822,
           -0.5091871697669411,
           -0.32912453957380833,
           -0.27842084008314855,
           -0.24837057354094128,
           0.28370006365409817,
           0.2522665490707932,
           0.03408799654936943,
           0.8426857011903187,
           0.841379866035018,
           0.8782679026408311,
           0.8633018332820455,
           0.22595624495735595
          ],
          [
           -0.0625764679817167,
           0.22485986740517214,
           -0.11716065823992712,
           -0.1901425426410864,
           -0.10155364618724137,
           -0.013563142716622642,
           0.7179261175731556,
           -0.5119355338563708,
           0.7840962486262913,
           0.5027000143596843,
           0.02029927565663728,
           -0.08961958678224526,
           -0.13307803113520583,
           -0.019381815233729643,
           -0.19523723270348362,
           0.2607986527162977,
           -0.027034276586294842,
           0.1983010746256264,
           0.15915841537730932,
           0.23910301260122682,
           0.06282398149399118,
           0.09876138902430631,
           -0.23295603982097673,
           -0.16184893652826265,
           -0.1963201428459174,
           1,
           -0.29284819854698396,
           0.04140851868714086,
           0.10313827962118022,
           0.16044804961862041,
           -0.30075684725173324,
           0.25272233413283696,
           -0.25821779366284847,
           0.5847475144472528,
           -0.6113242063309715,
           0.504678695075987,
           0.145891590579779,
           0.09921055474974584,
           -0.053155236090309754,
           -0.07464233144182016,
           -0.11354294727566844,
           -0.21026498477977387,
           0.002997277271361632,
           -0.04359037256191301,
           -0.06882739528798022,
           -0.06446243416861219,
           -0.05214087877161762,
           -0.1202071796210041,
           -0.009527944506679632,
           -0.1939113947915008,
           -0.059268560757211944,
           0.21923501484207686
          ],
          [
           -0.1757564602502869,
           -0.04480552616248694,
           0.01403013846957516,
           -0.0865391408682981,
           -0.17016777903783573,
           -0.07810020442547362,
           -0.29326241818254806,
           0.017416663596463686,
           -0.3589985199713233,
           -0.3672500016908493,
           -0.0974213836774126,
           0.05624892386967411,
           -0.007507848356786165,
           0.08888494783273834,
           -0.2828029318004731,
           -0.1673070336509272,
           -0.2535868716226392,
           -0.17823234026521703,
           -0.30867263683355844,
           -0.3186366692753539,
           -0.10444589227384017,
           0.19878272620762868,
           -0.13572357919576317,
           -0.07597481340301591,
           -0.15477338650379416,
           -0.29284819854698396,
           1,
           0.20404508052597758,
           0.17734709222476028,
           0.20036871971482736,
           -0.21816866099339244,
           0.15459568428175008,
           -0.20762161364883872,
           -0.18129253060698905,
           0.274898523336473,
           -0.10716640356328731,
           -0.12984956626394686,
           0.022378583232326128,
           0.01886460266314281,
           -0.21249364236573606,
           0.15261822940811454,
           0.17183027689677818,
           0.07587346353670853,
           0.09652414777868017,
           -0.043190589089294074,
           -0.06556639036229325,
           0.07680988591347215,
           -0.15902246435376083,
           -0.17269825565964908,
           -0.1940379337172742,
           -0.24534668341136742,
           -0.08617910405466021
          ],
          [
           -0.7981405790548788,
           -0.026488691840299984,
           -0.5422781624528514,
           -0.8336246353959803,
           -0.797046147669325,
           -0.27772528475995156,
           0.16758988988762977,
           0.04206383313717121,
           0.23131223264919204,
           -0.244622609171663,
           -0.42320276125776435,
           -0.46345641778185936,
           -0.059655516012505974,
           -0.3180733449767425,
           0.03860438079233815,
           0.10977095110415921,
           -0.6653404137988914,
           -0.005516813090840545,
           0.08132508490708307,
           -0.1037933083800706,
           0.021587395451321212,
           0.9535705146259105,
           -0.7313159559815495,
           -0.2122937700885982,
           -0.9254947405510391,
           0.04140851868714086,
           0.20404508052597758,
           1,
           0.9973151293470892,
           0.510550844419219,
           -0.4331751279015466,
           0.9373613505844661,
           -0.6315446425559079,
           0.48683460087949726,
           -0.06386345456437136,
           0.6660991938832842,
           0.028332233003077082,
           0.5765703555272368,
           -0.02819956898676895,
           -0.6965910125074526,
           0.4141687098877577,
           0.2967989254713923,
           0.09544236509003291,
           0.07996330274902536,
           -0.45239051635467253,
           -0.37735127583288186,
           -0.03440998645858934,
           -0.7560491504302416,
           -0.7723363069373936,
           -0.7993978795785982,
           -0.8001111100293169,
           -0.15355205586391618
          ],
          [
           -0.8109642427267694,
           -0.01413000478006876,
           -0.5483175962128477,
           -0.8510542390686193,
           -0.8136172519259826,
           -0.2773983956856006,
           0.23119266129301622,
           0.005389163098228308,
           0.29677256742166586,
           -0.2006878347178005,
           -0.426710655320332,
           -0.46888866427402603,
           -0.0811449605662565,
           -0.3171753216719765,
           0.02139361590101486,
           0.13315697444962582,
           -0.674294582400329,
           0.004247321489918095,
           0.11049820174936764,
           -0.06640630245720193,
           0.017886262847745676,
           0.9594578275769893,
           -0.7534490425546707,
           -0.22678985626252812,
           -0.9399210342236912,
           0.10313827962118022,
           0.17734709222476028,
           0.9973151293470892,
           1,
           0.5274464090812793,
           -0.46241635520367147,
           0.9554852321109909,
           -0.649601955844277,
           0.5329878380663141,
           -0.11444436986727442,
           0.7129570312262217,
           0.03692626280374791,
           0.5632730200438527,
           -0.03693965405099499,
           -0.7126400277560153,
           0.4167901386939938,
           0.2870873180512773,
           0.11618984616892086,
           0.09615572336929858,
           -0.4392018137921356,
           -0.3690021284115499,
           -0.03659376184763069,
           -0.7741476765381204,
           -0.7848589502212235,
           -0.8153892596923352,
           -0.8114513350190916,
           -0.1444293575859866
          ],
          [
           -0.671157283688223,
           0.013590670336973283,
           0.2243080673608527,
           -0.49832926981710357,
           -0.6849471203879413,
           -0.08061623074378153,
           0.28532139061379125,
           -0.13496413647111247,
           0.3184552374604944,
           -0.12447646552382612,
           -0.4139676938292954,
           0.07180147706161696,
           -0.3034293773720503,
           -0.21126187654660222,
           -0.1262603297699714,
           0.14597529480313431,
           -0.813457055960265,
           -0.46362037504770104,
           0.25495285018162994,
           0.09335990252449003,
           -0.37615718291991446,
           0.7041633271595312,
           -0.7327615277560617,
           -0.5985014440355448,
           -0.7536437658742321,
           0.16044804961862041,
           0.20036871971482736,
           0.510550844419219,
           0.5274464090812793,
           1,
           -0.599946356520782,
           0.6968566594139005,
           -0.713828069346616,
           0.38231371810467074,
           -0.5127184334521374,
           0.5949744297021,
           -0.04057812892839726,
           -0.1905753989961858,
           -0.028954554356046245,
           -0.6571616190774777,
           0.5155915539774075,
           0.26342640262294537,
           0.44688520312917224,
           0.3917632886954425,
           0.06230506594570096,
           -0.058813506248341876,
           0.025211643131180163,
           -0.6756405849529605,
           -0.6581648477697832,
           -0.6878359264996432,
           -0.655683234977121,
           -0.32854013476192445
          ],
          [
           0.6055614495279301,
           0.06827505021988704,
           0.24618201780429197,
           0.4446030457589894,
           0.5887570915306988,
           0.21591340558491273,
           -0.4098650310654068,
           0.3181550662047572,
           -0.38603659361886405,
           -0.03474830267171808,
           0.48502886570771403,
           0.2708597455998683,
           0.5469111458127129,
           -0.020819902355821845,
           0.10345092131122331,
           -0.2731268409367747,
           0.6615901107088991,
           0.2552503267724143,
           0.05836710817648225,
           -0.10527391721153724,
           0.3592564296628717,
           -0.5781553837477169,
           0.5264388216759394,
           0.33364054392790865,
           0.6436323866122936,
           -0.30075684725173324,
           -0.21816866099339244,
           -0.4331751279015466,
           -0.46241635520367147,
           -0.599946356520782,
           1,
           -0.6338203424404905,
           0.7438527479868703,
           -0.5039857899486139,
           0.22435005466727456,
           -0.5754114918380102,
           0.0036785175396246246,
           0.04975065103610893,
           0.06867958662529963,
           0.6339387659104201,
           -0.4070262030298533,
           -0.4091347419184388,
           -0.3658635647470001,
           -0.40567972642496025,
           -0.047164926225655504,
           -0.15788096001616894,
           0.03436188748689267,
           0.6008833122553596,
           0.5885781826335545,
           0.6538164020389065,
           0.6559646443358298,
           0.20278412968087015
          ],
          [
           -0.8804319058113987,
           -0.02029200410968152,
           -0.4505541580379569,
           -0.8618745264058182,
           -0.8802925096085156,
           -0.286843844379195,
           0.4098064884007884,
           -0.09930740862316399,
           0.45976935594755947,
           -0.08681916738097666,
           -0.5075553840121809,
           -0.42902425731351007,
           -0.2473204886052454,
           -0.31996026481846224,
           -0.041773320021717596,
           0.2194445111368912,
           -0.7871034465654971,
           -0.09533555403980551,
           0.20571971086679958,
           0.06407742888620885,
           -0.11857110430042636,
           0.9747046777897022,
           -0.8436368576689142,
           -0.34277171005738527,
           -0.9865695132937348,
           0.25272233413283696,
           0.15459568428175008,
           0.9373613505844661,
           0.9554852321109909,
           0.6968566594139005,
           -0.6338203424404905,
           1,
           -0.7642930536372202,
           0.6251420206366144,
           -0.2910873111156052,
           0.8301522685325846,
           0.02205439547427963,
           0.381539150942426,
           -0.06787563985273011,
           -0.8034295660613806,
           0.49828295561670594,
           0.33321798345375636,
           0.27579831332967203,
           0.2519060871433014,
           -0.2866398444238747,
           -0.2497620427412002,
           -0.02713934163604636,
           -0.8628709639095787,
           -0.8560824655592256,
           -0.8952221758202809,
           -0.8808984713026122,
           -0.20593648774849654
          ],
          [
           0.709050928467422,
           0.33356191433637317,
           0.2748377921277199,
           0.6098345951055224,
           0.6839512997359707,
           0.4604405260399301,
           -0.21691200962000767,
           0.029682726389599026,
           -0.2552900371295651,
           0.2691004194306116,
           0.6965357110398424,
           0.22579919440571125,
           0.48330794110798825,
           0.23969801228158175,
           0.07550230471111417,
           -0.1991042250017609,
           0.7947238731324625,
           0.4739849378903447,
           -0.05310221859461317,
           -0.09266587954777653,
           0.5235684572450048,
           -0.7265624756920124,
           0.7226418793242,
           0.25194884459354977,
           0.7844734119991101,
           -0.25821779366284847,
           -0.20762161364883872,
           -0.6315446425559079,
           -0.649601955844277,
           -0.713828069346616,
           0.7438527479868703,
           -0.7642930536372202,
           1,
           -0.38974671473787553,
           0.14566461898797076,
           -0.518288709792296,
           -0.06362523475335431,
           -0.0430144783714316,
           0.07415142013649652,
           0.6793998898804935,
           -0.6249065335058944,
           -0.49608842592951,
           -0.44307970629312887,
           -0.4456306772161572,
           -0.058020093129495395,
           -0.12057457896437236,
           0.0481746717728851,
           0.7374539119912246,
           0.6760217770026965,
           0.7891760498088672,
           0.733546064205064,
           0.4080518386135881
          ],
          [
           -0.46896410642187003,
           0.2482828875489682,
           -0.30327709299238786,
           -0.49527551445079093,
           -0.5091349142760333,
           0.036222548697807846,
           0.629431441861633,
           -0.3622074557068241,
           0.7660735293876093,
           0.3678336784717247,
           -0.11950630545259411,
           -0.30877229929368005,
           -0.1545805378386422,
           -0.1304198004697874,
           -0.03183933850197447,
           0.25869334817934303,
           -0.3957153949624462,
           0.16967968161286015,
           0.19830314595662202,
           0.13544247270163157,
           0.12229092415452116,
           0.528565200553475,
           -0.48904981121284363,
           -0.1905412398496576,
           -0.5988758425191162,
           0.5847475144472528,
           -0.18129253060698905,
           0.48683460087949726,
           0.5329878380663141,
           0.38231371810467074,
           -0.5039857899486139,
           0.6251420206366144,
           -0.38974671473787553,
           1,
           -0.4532357060442979,
           0.800832622030945,
           0.2392459915732921,
           0.2828440069040426,
           0.041775244338153945,
           -0.41271729290812054,
           0.09907100405305344,
           -0.03867430636731583,
           0.026748185758899774,
           -0.024926192627207487,
           -0.30300443898180646,
           -0.2578566141619478,
           -0.11570832606603997,
           -0.4652016175784406,
           -0.4472046589351876,
           -0.49394672707864273,
           -0.4535342433145073,
           0.06253562780446356
          ],
          [
           0.17725663723817914,
           -0.37865928521719155,
           -0.2292967219554713,
           0.23395636163850622,
           0.22951416183297527,
           -0.08199011273566646,
           -0.6438118042197536,
           0.29623138482937794,
           -0.6786285039693393,
           -0.3274175722846504,
           -0.03828885030064395,
           -0.13229584032322284,
           0.03637585918434332,
           0.06790533699056574,
           0.24160844826390537,
           -0.19666857252195002,
           0.15382775855171826,
           -0.0208417063913599,
           -0.4533997142808888,
           -0.3729174041947205,
           -0.030169378310947136,
           -0.21133757471450682,
           0.29956629593760403,
           0.7028116883066692,
           0.3056197091268801,
           -0.6113242063309715,
           0.274898523336473,
           -0.06386345456437136,
           -0.11444436986727442,
           -0.5127184334521374,
           0.22435005466727456,
           -0.2910873111156052,
           0.14566461898797076,
           -0.4532357060442979,
           1,
           -0.5641555591808635,
           -0.06958338570523367,
           0.13372258480963184,
           0.05621709347893437,
           0.1681642240856092,
           0.00004620752428717737,
           0.24569120328823427,
           -0.14585950158488198,
           -0.046930795196540864,
           -0.0003436445643020532,
           0.1334275256239776,
           -0.010946494927452349,
           0.22013224227848474,
           0.16361946958787021,
           0.20182385078944245,
           0.12676401895572126,
           -0.10700354157014039
          ],
          [
           -0.7115050839404059,
           0.2238562457496429,
           -0.32566664200355966,
           -0.7608642817583336,
           -0.7596330356510002,
           -0.08043305979520901,
           0.7643988477783449,
           -0.3386154896136843,
           0.8316320980438845,
           0.29457096349637574,
           -0.2467703057389206,
           -0.3039822884787068,
           -0.19068771592204287,
           -0.1586499315849104,
           -0.08585709514309928,
           0.3625361030694748,
           -0.5792528941066485,
           0.1414103226933213,
           0.374067439674324,
           0.29457568043449733,
           0.07170070417289205,
           0.735739428348798,
           -0.7356858814330095,
           -0.3195870149790388,
           -0.7985250012841206,
           0.504678695075987,
           -0.10716640356328731,
           0.6660991938832842,
           0.7129570312262217,
           0.5949744297021,
           -0.5754114918380102,
           0.8301522685325846,
           -0.518288709792296,
           0.800832622030945,
           -0.5641555591808635,
           1,
           0.06745234137469264,
           0.19695186365623926,
           -0.11140782741534212,
           -0.670816177404856,
           0.279085398994188,
           0.04464228630844982,
           0.29356484064881105,
           0.22111879055619618,
           -0.1976345466926092,
           -0.22195393061928276,
           -0.02806966377799645,
           -0.7103114530563516,
           -0.7104078256560248,
           -0.6873374270223277,
           -0.6834508246442079,
           0.04154968991264859
          ],
          [
           0.1444976875055357,
           0.08179336205946802,
           -0.12601457040751976,
           0.12176284625611611,
           0.07211833969979972,
           -0.04525414905362803,
           0.07880659083102054,
           0.07105565610244795,
           0.11444536972880805,
           0.0031282790787302292,
           0.13993633033237143,
           0.029941812924227477,
           0.08058081958400247,
           0.09998130403677748,
           0.16257779175672715,
           -0.08675623566204624,
           0.057279625057589365,
           0.13030120093583347,
           -0.09948415318011676,
           0.005957247454928622,
           0.14995029728213682,
           -0.0012723711314876662,
           0.060173844968035704,
           0.012431540202871317,
           -0.03526477593719092,
           0.145891590579779,
           -0.12984956626394686,
           0.028332233003077082,
           0.03692626280374791,
           -0.04057812892839726,
           0.0036785175396246246,
           0.02205439547427963,
           -0.06362523475335431,
           0.2392459915732921,
           -0.06958338570523367,
           0.06745234137469264,
           1,
           0.09106914855198885,
           0.06076186710589097,
           0.15701824262854225,
           -0.12522501143749032,
           -0.2336042821505491,
           -0.17708044460691563,
           -0.2702185065251602,
           -0.23234398946811735,
           0.021966810325303357,
           -0.7423550055256678,
           0.1404965758356102,
           0.14486027306386826,
           0.12430922470812442,
           0.14786310175105816,
           0.2615749736004295
          ],
          [
           -0.13869442063368848,
           0.11756151457759749,
           -0.557931876318981,
           -0.37493953583219297,
           -0.08529378741871389,
           -0.16524841853711486,
           -0.10675299516821925,
           0.04798737085579026,
           0.026584341231426136,
           -0.09539317454131807,
           0.02575927034156078,
           -0.4253208883752818,
           0.3833754483392663,
           -0.15714369722931595,
           0.09683778589888833,
           -0.09758005659642445,
           0.014296428919041586,
           0.3125845349818518,
           -0.2619516008405211,
           -0.3774648385807399,
           0.42451993234509766,
           0.3962888059146231,
           -0.008786905211255983,
           0.11960735525972552,
           -0.3429197345327392,
           0.09921055474974584,
           0.022378583232326128,
           0.5765703555272368,
           0.5632730200438527,
           -0.1905753989961858,
           0.04975065103610893,
           0.381539150942426,
           -0.0430144783714316,
           0.2828440069040426,
           0.13372258480963184,
           0.19695186365623926,
           0.09106914855198885,
           1,
           0.0351087480505275,
           0.032861380475890184,
           -0.30492058204651673,
           -0.19536780855434097,
           -0.6177334810142621,
           -0.6022047285235858,
           -0.8144626831032782,
           -0.5951379345295882,
           -0.04653130517904126,
           -0.08429559544481774,
           -0.08347785702930836,
           -0.19049171443261528,
           -0.14038753350789823,
           0.194558198549781
          ],
          [
           0.08855116253215622,
           0.019443305218676075,
           0.06872703279933416,
           0.06777089960507612,
           0.04091281893215646,
           0.10895696355964822,
           -0.10812769736564032,
           -0.07885374370839823,
           -0.11939729095988856,
           -0.06364491369997288,
           0.1262425496617893,
           0.09158782896084419,
           0.11905895361137629,
           0.04949138841362963,
           -0.025844726789833655,
           -0.041130265434116006,
           0.002719446269115774,
           -0.11371961163952465,
           -0.11453937035722342,
           -0.14975529299632603,
           0.02596840337471885,
           -0.03451050582014781,
           0.039151203835258795,
           0.003948874519977979,
           0.05039247030429129,
           -0.053155236090309754,
           0.01886460266314281,
           -0.02819956898676895,
           -0.03693965405099499,
           -0.028954554356046245,
           0.06867958662529963,
           -0.06787563985273011,
           0.07415142013649652,
           0.041775244338153945,
           0.05621709347893437,
           -0.11140782741534212,
           0.06076186710589097,
           0.0351087480505275,
           1,
           0.059035231430422816,
           -0.04272168373070412,
           -0.08020985459111558,
           -0.0786711501903447,
           -0.09493174836047494,
           -0.06892391300072603,
           -0.09985508733929553,
           -0.08861019983775388,
           0.11192340792300155,
           0.10082921704660687,
           0.07737494393484057,
           0.06995864757375422,
           -0.1205812023575967
          ],
          [
           0.8422464915922594,
           0.23269935787213003,
           0.2573974864273593,
           0.7662142582151665,
           0.9662064049231983,
           0.22425438699260197,
           -0.3426455604783873,
           0.1988125772338099,
           -0.32431964780510436,
           0.08238396227379906,
           0.5493584841208128,
           0.2988479852443936,
           0.4247290205907453,
           0.29937716966644073,
           0.0965035065222945,
           -0.24799531476188452,
           0.7934222390040937,
           0.23901085501353744,
           -0.3334069634623129,
           -0.19121060962094186,
           0.406406133623157,
           -0.7820106331642616,
           0.9128325062274054,
           0.26359467315035645,
           0.7915188726971822,
           -0.07464233144182016,
           -0.21249364236573606,
           -0.6965910125074526,
           -0.7126400277560153,
           -0.6571616190774777,
           0.6339387659104201,
           -0.8034295660613806,
           0.6793998898804935,
           -0.41271729290812054,
           0.1681642240856092,
           -0.670816177404856,
           0.15701824262854225,
           0.032861380475890184,
           0.059035231430422816,
           1,
           -0.786880707558233,
           -0.5039018125934744,
           -0.6851506958085709,
           -0.6462646645840128,
           -0.13398308948193843,
           0.037301575457560694,
           -0.05265304842314121,
           0.8404596402797645,
           0.8482454142752661,
           0.8225497517582606,
           0.8605947187938003,
           0.44282774677125036
          ],
          [
           -0.659799759433628,
           -0.5461134714485372,
           -0.11147973300939736,
           -0.47316996957495255,
           -0.7239056980208913,
           -0.3703806729403863,
           0.06083391274602966,
           0.06971621439919284,
           0.02692975189206671,
           -0.3021216476963269,
           -0.7309280216605292,
           -0.2354172978951905,
           -0.5674035738873621,
           -0.39440335166197527,
           0.04897322201134886,
           0.1594134666052786,
           -0.6528669026254582,
           -0.43820093977331837,
           0.40408805524963975,
           0.3379073259250612,
           -0.698648218054439,
           0.4941255900718131,
           -0.7349096131104209,
           -0.1991534368618482,
           -0.5091871697669411,
           -0.11354294727566844,
           0.15261822940811454,
           0.4141687098877577,
           0.4167901386939938,
           0.5155915539774075,
           -0.4070262030298533,
           0.49828295561670594,
           -0.6249065335058944,
           0.09907100405305344,
           0.00004620752428717737,
           0.279085398994188,
           -0.12522501143749032,
           -0.30492058204651673,
           -0.04272168373070412,
           -0.786880707558233,
           1,
           0.7719033790387139,
           0.8130249350862224,
           0.8170403686525286,
           0.5283073326316917,
           0.36491306794036715,
           0.00427902959372459,
           -0.6906879621863475,
           -0.6797753037675923,
           -0.6481741470840948,
           -0.6657780444293585,
           -0.7047156520568508
          ],
          [
           -0.5390808245921321,
           -0.5448651001293489,
           -0.2817812601496829,
           -0.22137890620153988,
           -0.4024989915843931,
           -0.39213559687119626,
           -0.033630810305738855,
           0.30372275286710987,
           -0.14021742999684328,
           -0.29166602947612386,
           -0.7637193717662307,
           -0.5104684256799578,
           -0.7532531475170247,
           -0.4294640131130674,
           0.13584344095031708,
           0.17690117276210873,
           -0.4619227627898601,
           -0.3058357748070629,
           0.20777687790292987,
           0.25143705656117304,
           -0.6047675895749707,
           0.35677118790427403,
           -0.36922405112763784,
           -0.107275191515423,
           -0.32912453957380833,
           -0.21026498477977387,
           0.17183027689677818,
           0.2967989254713923,
           0.2870873180512773,
           0.26342640262294537,
           -0.4091347419184388,
           0.33321798345375636,
           -0.49608842592951,
           -0.03867430636731583,
           0.24569120328823427,
           0.04464228630844982,
           -0.2336042821505491,
           -0.19536780855434097,
           -0.08020985459111558,
           -0.5039018125934744,
           0.7719033790387139,
           1,
           0.5267519668537163,
           0.709332413605876,
           0.4969339198688273,
           0.5339604988851046,
           0.05924629774677495,
           -0.5483248714875063,
           -0.5539751715197223,
           -0.5258278429721825,
           -0.5567281262886574,
           -0.6068939498853372
          ],
          [
           -0.4595332985862035,
           -0.4002994118621245,
           0.059208481869964885,
           -0.34553266016313505,
           -0.5783683772244733,
           -0.2383347349883263,
           0.30275931804904904,
           -0.05297183859159931,
           0.20722130823992024,
           -0.053289805826971466,
           -0.5114526247729939,
           0.01627048302264955,
           -0.5249471161929427,
           -0.15772283310176397,
           -0.04612034703191783,
           0.29609983062583717,
           -0.472343496468535,
           -0.3339614531813383,
           0.48515977285038286,
           0.5124018883799634,
           -0.6245443503564616,
           0.22779229753730743,
           -0.5997191471938368,
           -0.1689906772842554,
           -0.27842084008314855,
           0.002997277271361632,
           0.07587346353670853,
           0.09544236509003291,
           0.11618984616892086,
           0.44688520312917224,
           -0.3658635647470001,
           0.27579831332967203,
           -0.44307970629312887,
           0.026748185758899774,
           -0.14585950158488198,
           0.29356484064881105,
           -0.17708044460691563,
           -0.6177334810142621,
           -0.0786711501903447,
           -0.6851506958085709,
           0.8130249350862224,
           0.5267519668537163,
           1,
           0.957031194211197,
           0.7611362602514788,
           0.5475965269514327,
           0.07859851653838745,
           -0.5147364224962934,
           -0.5075439033733375,
           -0.41951256232932915,
           -0.4701977858818863,
           -0.4928484472016817
          ],
          [
           -0.48085710969140943,
           -0.4646166445575176,
           -0.018515882576149088,
           -0.28457088290790983,
           -0.5151869666057843,
           -0.2864968035096563,
           0.26970251761819397,
           0.04183329488651617,
           0.14385117784743573,
           -0.06966154282153576,
           -0.6072669747956153,
           -0.1385503512221828,
           -0.6791664957569901,
           -0.23307710536073112,
           -0.013105901093829118,
           0.31992779537762045,
           -0.4607039089759532,
           -0.33091573939366065,
           0.4514392471130218,
           0.5070634943230921,
           -0.668681869579715,
           0.2159370999474843,
           -0.522988215928157,
           -0.151441413070435,
           -0.24837057354094128,
           -0.04359037256191301,
           0.09652414777868017,
           0.07996330274902536,
           0.09615572336929858,
           0.3917632886954425,
           -0.40567972642496025,
           0.2519060871433014,
           -0.4456306772161572,
           -0.024926192627207487,
           -0.046930795196540864,
           0.22111879055619618,
           -0.2702185065251602,
           -0.6022047285235858,
           -0.09493174836047494,
           -0.6462646645840128,
           0.8170403686525286,
           0.709332413605876,
           0.957031194211197,
           1,
           0.8056462450680815,
           0.6408635640440279,
           0.132814121534827,
           -0.5298205747793024,
           -0.5273956562590933,
           -0.4405906479267593,
           -0.49541164656780834,
           -0.5410639737455892
          ],
          [
           0.0030201337732640855,
           -0.387881611899893,
           0.27570297962060986,
           0.21809451558141418,
           0.013856378209465562,
           -0.12152242076964573,
           0.09498232716343426,
           0.08736210429937655,
           -0.016151381751153486,
           0.056056232246585534,
           -0.3280216392447396,
           0.13389101941572243,
           -0.5398188675942927,
           -0.06420824988781323,
           0.00933437531051196,
           0.176745421577203,
           -0.01305757003653028,
           -0.27041307281619553,
           0.39310327363356645,
           0.5338428341631989,
           -0.5776564377081836,
           -0.3301305150784057,
           -0.05354011604692494,
           -0.011693385573584745,
           0.28370006365409817,
           -0.06882739528798022,
           -0.043190589089294074,
           -0.45239051635467253,
           -0.4392018137921356,
           0.06230506594570096,
           -0.047164926225655504,
           -0.2866398444238747,
           -0.058020093129495395,
           -0.30300443898180646,
           -0.0003436445643020532,
           -0.1976345466926092,
           -0.23234398946811735,
           -0.8144626831032782,
           -0.06892391300072603,
           -0.13398308948193843,
           0.5283073326316917,
           0.4969339198688273,
           0.7611362602514788,
           0.8056462450680815,
           1,
           0.8215683725871255,
           0.15152196964507378,
           -0.0720658769882821,
           -0.051159597119237635,
           0.03724950497133594,
           0.004602536795168958,
           -0.4189734825123213
          ],
          [
           0.05011264648117391,
           -0.3945619692595657,
           0.015061900820710697,
           0.24433997187199644,
           0.16759691199648302,
           -0.3052866473832044,
           0.0781922969799146,
           0.2682075138862213,
           -0.047760995115588685,
           0.01546615751480314,
           -0.409062875230663,
           -0.042860577509346395,
           -0.5476046671028485,
           0.018950864994521793,
           0.2222477619246117,
           0.21259502965658186,
           0.03168257297853368,
           -0.18222156221949357,
           0.16087916601896587,
           0.4880330623036138,
           -0.4796036953455931,
           -0.2952800210575217,
           0.1370815108640369,
           0.03981311623816088,
           0.2522665490707932,
           -0.06446243416861219,
           -0.06556639036229325,
           -0.37735127583288186,
           -0.3690021284115499,
           -0.058813506248341876,
           -0.15788096001616894,
           -0.2497620427412002,
           -0.12057457896437236,
           -0.2578566141619478,
           0.1334275256239776,
           -0.22195393061928276,
           0.021966810325303357,
           -0.5951379345295882,
           -0.09985508733929553,
           0.037301575457560694,
           0.36491306794036715,
           0.5339604988851046,
           0.5475965269514327,
           0.6408635640440279,
           0.8215683725871255,
           1,
           -0.09628394821855164,
           -0.006622504868515989,
           0.0011642310583008769,
           0.07100247748017889,
           0.03327980581480661,
           -0.270505686480204
          ],
          [
           -0.12977816103526418,
           0.032655299895455445,
           0.09346255972123817,
           -0.10275092955507108,
           -0.025667532491849703,
           0.05892340896634807,
           -0.03676965317000195,
           -0.0885743428431259,
           -0.031099849003037857,
           -0.02411764231135038,
           -0.038744687663469564,
           0.030957119488179308,
           -0.019682699905478454,
           -0.03727750991705442,
           -0.08984907115111769,
           0.07882934677633063,
           -0.009156603047316617,
           -0.09008748776453981,
           0.06886317141165084,
           -0.024768973346109273,
           -0.03473939587095325,
           -0.018890450728043136,
           -0.03920191260517364,
           0.002880720586967922,
           0.03408799654936943,
           -0.05214087877161762,
           0.07680988591347215,
           -0.03440998645858934,
           -0.03659376184763069,
           0.025211643131180163,
           0.03436188748689267,
           -0.02713934163604636,
           0.0481746717728851,
           -0.11570832606603997,
           -0.010946494927452349,
           -0.02806966377799645,
           -0.7423550055256678,
           -0.04653130517904126,
           -0.08861019983775388,
           -0.05265304842314121,
           0.00427902959372459,
           0.05924629774677495,
           0.07859851653838745,
           0.132814121534827,
           0.15152196964507378,
           -0.09628394821855164,
           1,
           -0.1417315081544613,
           -0.1254838996894877,
           -0.12247148920211393,
           -0.12101666517299439,
           -0.1532995246798045
          ],
          [
           0.9879909278310783,
           0.26275449135293416,
           0.32566989860203727,
           0.7619805595049274,
           0.8616881876276641,
           0.40741138574721797,
           -0.37777775704307404,
           -0.04292259296830909,
           -0.390932948074892,
           0.04161781417686144,
           0.6972623949759689,
           0.4641659540986298,
           0.5247326629711363,
           0.4724522097465611,
           0.09575007735303243,
           -0.22064120032399623,
           0.8445095419378206,
           0.2678194440864352,
           -0.4067905833804972,
           -0.29784914778762067,
           0.39709201530923416,
           -0.8229050471186371,
           0.8269652371004197,
           0.290125634647336,
           0.8426857011903187,
           -0.1202071796210041,
           -0.15902246435376083,
           -0.7560491504302416,
           -0.7741476765381204,
           -0.6756405849529605,
           0.6008833122553596,
           -0.8628709639095787,
           0.7374539119912246,
           -0.4652016175784406,
           0.22013224227848474,
           -0.7103114530563516,
           0.1404965758356102,
           -0.08429559544481774,
           0.11192340792300155,
           0.8404596402797645,
           -0.6906879621863475,
           -0.5483248714875063,
           -0.5147364224962934,
           -0.5298205747793024,
           -0.0720658769882821,
           -0.006622504868515989,
           -0.1417315081544613,
           1,
           0.9834474504762771,
           0.9671591999390523,
           0.9752624586402937,
           0.46467536676890114
          ],
          [
           0.9919547085947871,
           0.23271352940373372,
           0.331185784754141,
           0.7612635687630868,
           0.8724513738356284,
           0.3596645686756418,
           -0.3458867217140834,
           -0.06529650316827794,
           -0.35342411398898027,
           0.06048302569419017,
           0.6643061885111693,
           0.47970427047852787,
           0.4976352507871556,
           0.4512696116358965,
           0.03400516010459886,
           -0.2287216696408227,
           0.8392302941285704,
           0.22731298358821916,
           -0.3923903442870938,
           -0.27165920790234716,
           0.3439243788845765,
           -0.8331733214795399,
           0.8112930458398497,
           0.2748159445282996,
           0.841379866035018,
           -0.009527944506679632,
           -0.17269825565964908,
           -0.7723363069373936,
           -0.7848589502212235,
           -0.6581648477697832,
           0.5885781826335545,
           -0.8560824655592256,
           0.6760217770026965,
           -0.4472046589351876,
           0.16361946958787021,
           -0.7104078256560248,
           0.14486027306386826,
           -0.08347785702930836,
           0.10082921704660687,
           0.8482454142752661,
           -0.6797753037675923,
           -0.5539751715197223,
           -0.5075439033733375,
           -0.5273956562590933,
           -0.051159597119237635,
           0.0011642310583008769,
           -0.1254838996894877,
           0.9834474504762771,
           1,
           0.9392133519781061,
           0.9760867776046757,
           0.43842416406585477
          ],
          [
           0.9700313014062063,
           0.2564189521581694,
           0.3337378818488289,
           0.7589704150341509,
           0.8465445563159479,
           0.4133712056903401,
           -0.32862735664040116,
           0.020474885616144172,
           -0.36084173312420326,
           0.08695195468495008,
           0.6965621427137423,
           0.4875930294199517,
           0.49773803659578797,
           0.47785498770347773,
           0.06644477730611532,
           -0.21415469690617253,
           0.8596373110586283,
           0.2948313926306102,
           -0.27968967516798887,
           -0.16495631643028852,
           0.3926321750645148,
           -0.8602739903578834,
           0.8252842236290057,
           0.292422253010735,
           0.8782679026408311,
           -0.1939113947915008,
           -0.1940379337172742,
           -0.7993978795785982,
           -0.8153892596923352,
           -0.6878359264996432,
           0.6538164020389065,
           -0.8952221758202809,
           0.7891760498088672,
           -0.49394672707864273,
           0.20182385078944245,
           -0.6873374270223277,
           0.12430922470812442,
           -0.19049171443261528,
           0.07737494393484057,
           0.8225497517582606,
           -0.6481741470840948,
           -0.5258278429721825,
           -0.41951256232932915,
           -0.4405906479267593,
           0.03724950497133594,
           0.07100247748017889,
           -0.12247148920211393,
           0.9671591999390523,
           0.9392133519781061,
           1,
           0.9694826694100116,
           0.45396069730720806
          ],
          [
           0.985202273732135,
           0.23645520664917652,
           0.3746903773136289,
           0.7569010311184583,
           0.8740395555401127,
           0.38560954156969085,
           -0.32399546013597563,
           -0.013629760762813827,
           -0.31696075306658866,
           0.08388040159796746,
           0.6693831948147873,
           0.49344537867438754,
           0.49945560545108736,
           0.4255474028890871,
           0.0808391095587853,
           -0.23443659209507725,
           0.8578685961966793,
           0.2535566100262169,
           -0.27773408670075306,
           -0.1755422260123149,
           0.35348616162199337,
           -0.8600655664089586,
           0.8144177030568371,
           0.27621870976270746,
           0.8633018332820455,
           -0.059268560757211944,
           -0.24534668341136742,
           -0.8001111100293169,
           -0.8114513350190916,
           -0.655683234977121,
           0.6559646443358298,
           -0.8808984713026122,
           0.733546064205064,
           -0.4535342433145073,
           0.12676401895572126,
           -0.6834508246442079,
           0.14786310175105816,
           -0.14038753350789823,
           0.06995864757375422,
           0.8605947187938003,
           -0.6657780444293585,
           -0.5567281262886574,
           -0.4701977858818863,
           -0.49541164656780834,
           0.004602536795168958,
           0.03327980581480661,
           -0.12101666517299439,
           0.9752624586402937,
           0.9760867776046757,
           0.9694826694100116,
           1,
           0.43460732151579684
          ],
          [
           0.4414826812687417,
           0.7003829225865954,
           -0.09770901267319407,
           0.21415297124841462,
           0.36219224384967097,
           0.37844473853707405,
           0.22233972849182557,
           -0.16629694457819816,
           0.20776166925186854,
           0.2610269931787019,
           0.7141788101241769,
           0.22696053257931073,
           0.5085307667345362,
           0.5331160469571725,
           -0.06249272531676407,
           0.004756151808536101,
           0.5362196490735328,
           0.7247733302792871,
           -0.3029505006721658,
           -0.18426977598778593,
           0.7904877093372966,
           -0.2199018758740186,
           0.378486249966779,
           0.059933735764196194,
           0.22595624495735595,
           0.21923501484207686,
           -0.08617910405466021,
           -0.15355205586391618,
           -0.1444293575859866,
           -0.32854013476192445,
           0.20278412968087015,
           -0.20593648774849654,
           0.4080518386135881,
           0.06253562780446356,
           -0.10700354157014039,
           0.04154968991264859,
           0.2615749736004295,
           0.194558198549781,
           -0.1205812023575967,
           0.44282774677125036,
           -0.7047156520568508,
           -0.6068939498853372,
           -0.4928484472016817,
           -0.5410639737455892,
           -0.4189734825123213,
           -0.270505686480204,
           -0.1532995246798045,
           0.46467536676890114,
           0.43842416406585477,
           0.45396069730720806,
           0.43460732151579684,
           1
          ]
         ]
        }
       ],
       "layout": {
        "template": {
         "data": {
          "bar": [
           {
            "error_x": {
             "color": "#2a3f5f"
            },
            "error_y": {
             "color": "#2a3f5f"
            },
            "marker": {
             "line": {
              "color": "#E5ECF6",
              "width": 0.5
             },
             "pattern": {
              "fillmode": "overlay",
              "size": 10,
              "solidity": 0.2
             }
            },
            "type": "bar"
           }
          ],
          "barpolar": [
           {
            "marker": {
             "line": {
              "color": "#E5ECF6",
              "width": 0.5
             },
             "pattern": {
              "fillmode": "overlay",
              "size": 10,
              "solidity": 0.2
             }
            },
            "type": "barpolar"
           }
          ],
          "carpet": [
           {
            "aaxis": {
             "endlinecolor": "#2a3f5f",
             "gridcolor": "white",
             "linecolor": "white",
             "minorgridcolor": "white",
             "startlinecolor": "#2a3f5f"
            },
            "baxis": {
             "endlinecolor": "#2a3f5f",
             "gridcolor": "white",
             "linecolor": "white",
             "minorgridcolor": "white",
             "startlinecolor": "#2a3f5f"
            },
            "type": "carpet"
           }
          ],
          "choropleth": [
           {
            "colorbar": {
             "outlinewidth": 0,
             "ticks": ""
            },
            "type": "choropleth"
           }
          ],
          "contour": [
           {
            "colorbar": {
             "outlinewidth": 0,
             "ticks": ""
            },
            "colorscale": [
             [
              0,
              "#0d0887"
             ],
             [
              0.1111111111111111,
              "#46039f"
             ],
             [
              0.2222222222222222,
              "#7201a8"
             ],
             [
              0.3333333333333333,
              "#9c179e"
             ],
             [
              0.4444444444444444,
              "#bd3786"
             ],
             [
              0.5555555555555556,
              "#d8576b"
             ],
             [
              0.6666666666666666,
              "#ed7953"
             ],
             [
              0.7777777777777778,
              "#fb9f3a"
             ],
             [
              0.8888888888888888,
              "#fdca26"
             ],
             [
              1,
              "#f0f921"
             ]
            ],
            "type": "contour"
           }
          ],
          "contourcarpet": [
           {
            "colorbar": {
             "outlinewidth": 0,
             "ticks": ""
            },
            "type": "contourcarpet"
           }
          ],
          "heatmap": [
           {
            "colorbar": {
             "outlinewidth": 0,
             "ticks": ""
            },
            "colorscale": [
             [
              0,
              "#0d0887"
             ],
             [
              0.1111111111111111,
              "#46039f"
             ],
             [
              0.2222222222222222,
              "#7201a8"
             ],
             [
              0.3333333333333333,
              "#9c179e"
             ],
             [
              0.4444444444444444,
              "#bd3786"
             ],
             [
              0.5555555555555556,
              "#d8576b"
             ],
             [
              0.6666666666666666,
              "#ed7953"
             ],
             [
              0.7777777777777778,
              "#fb9f3a"
             ],
             [
              0.8888888888888888,
              "#fdca26"
             ],
             [
              1,
              "#f0f921"
             ]
            ],
            "type": "heatmap"
           }
          ],
          "heatmapgl": [
           {
            "colorbar": {
             "outlinewidth": 0,
             "ticks": ""
            },
            "colorscale": [
             [
              0,
              "#0d0887"
             ],
             [
              0.1111111111111111,
              "#46039f"
             ],
             [
              0.2222222222222222,
              "#7201a8"
             ],
             [
              0.3333333333333333,
              "#9c179e"
             ],
             [
              0.4444444444444444,
              "#bd3786"
             ],
             [
              0.5555555555555556,
              "#d8576b"
             ],
             [
              0.6666666666666666,
              "#ed7953"
             ],
             [
              0.7777777777777778,
              "#fb9f3a"
             ],
             [
              0.8888888888888888,
              "#fdca26"
             ],
             [
              1,
              "#f0f921"
             ]
            ],
            "type": "heatmapgl"
           }
          ],
          "histogram": [
           {
            "marker": {
             "pattern": {
              "fillmode": "overlay",
              "size": 10,
              "solidity": 0.2
             }
            },
            "type": "histogram"
           }
          ],
          "histogram2d": [
           {
            "colorbar": {
             "outlinewidth": 0,
             "ticks": ""
            },
            "colorscale": [
             [
              0,
              "#0d0887"
             ],
             [
              0.1111111111111111,
              "#46039f"
             ],
             [
              0.2222222222222222,
              "#7201a8"
             ],
             [
              0.3333333333333333,
              "#9c179e"
             ],
             [
              0.4444444444444444,
              "#bd3786"
             ],
             [
              0.5555555555555556,
              "#d8576b"
             ],
             [
              0.6666666666666666,
              "#ed7953"
             ],
             [
              0.7777777777777778,
              "#fb9f3a"
             ],
             [
              0.8888888888888888,
              "#fdca26"
             ],
             [
              1,
              "#f0f921"
             ]
            ],
            "type": "histogram2d"
           }
          ],
          "histogram2dcontour": [
           {
            "colorbar": {
             "outlinewidth": 0,
             "ticks": ""
            },
            "colorscale": [
             [
              0,
              "#0d0887"
             ],
             [
              0.1111111111111111,
              "#46039f"
             ],
             [
              0.2222222222222222,
              "#7201a8"
             ],
             [
              0.3333333333333333,
              "#9c179e"
             ],
             [
              0.4444444444444444,
              "#bd3786"
             ],
             [
              0.5555555555555556,
              "#d8576b"
             ],
             [
              0.6666666666666666,
              "#ed7953"
             ],
             [
              0.7777777777777778,
              "#fb9f3a"
             ],
             [
              0.8888888888888888,
              "#fdca26"
             ],
             [
              1,
              "#f0f921"
             ]
            ],
            "type": "histogram2dcontour"
           }
          ],
          "mesh3d": [
           {
            "colorbar": {
             "outlinewidth": 0,
             "ticks": ""
            },
            "type": "mesh3d"
           }
          ],
          "parcoords": [
           {
            "line": {
             "colorbar": {
              "outlinewidth": 0,
              "ticks": ""
             }
            },
            "type": "parcoords"
           }
          ],
          "pie": [
           {
            "automargin": true,
            "type": "pie"
           }
          ],
          "scatter": [
           {
            "fillpattern": {
             "fillmode": "overlay",
             "size": 10,
             "solidity": 0.2
            },
            "type": "scatter"
           }
          ],
          "scatter3d": [
           {
            "line": {
             "colorbar": {
              "outlinewidth": 0,
              "ticks": ""
             }
            },
            "marker": {
             "colorbar": {
              "outlinewidth": 0,
              "ticks": ""
             }
            },
            "type": "scatter3d"
           }
          ],
          "scattercarpet": [
           {
            "marker": {
             "colorbar": {
              "outlinewidth": 0,
              "ticks": ""
             }
            },
            "type": "scattercarpet"
           }
          ],
          "scattergeo": [
           {
            "marker": {
             "colorbar": {
              "outlinewidth": 0,
              "ticks": ""
             }
            },
            "type": "scattergeo"
           }
          ],
          "scattergl": [
           {
            "marker": {
             "colorbar": {
              "outlinewidth": 0,
              "ticks": ""
             }
            },
            "type": "scattergl"
           }
          ],
          "scattermapbox": [
           {
            "marker": {
             "colorbar": {
              "outlinewidth": 0,
              "ticks": ""
             }
            },
            "type": "scattermapbox"
           }
          ],
          "scatterpolar": [
           {
            "marker": {
             "colorbar": {
              "outlinewidth": 0,
              "ticks": ""
             }
            },
            "type": "scatterpolar"
           }
          ],
          "scatterpolargl": [
           {
            "marker": {
             "colorbar": {
              "outlinewidth": 0,
              "ticks": ""
             }
            },
            "type": "scatterpolargl"
           }
          ],
          "scatterternary": [
           {
            "marker": {
             "colorbar": {
              "outlinewidth": 0,
              "ticks": ""
             }
            },
            "type": "scatterternary"
           }
          ],
          "surface": [
           {
            "colorbar": {
             "outlinewidth": 0,
             "ticks": ""
            },
            "colorscale": [
             [
              0,
              "#0d0887"
             ],
             [
              0.1111111111111111,
              "#46039f"
             ],
             [
              0.2222222222222222,
              "#7201a8"
             ],
             [
              0.3333333333333333,
              "#9c179e"
             ],
             [
              0.4444444444444444,
              "#bd3786"
             ],
             [
              0.5555555555555556,
              "#d8576b"
             ],
             [
              0.6666666666666666,
              "#ed7953"
             ],
             [
              0.7777777777777778,
              "#fb9f3a"
             ],
             [
              0.8888888888888888,
              "#fdca26"
             ],
             [
              1,
              "#f0f921"
             ]
            ],
            "type": "surface"
           }
          ],
          "table": [
           {
            "cells": {
             "fill": {
              "color": "#EBF0F8"
             },
             "line": {
              "color": "white"
             }
            },
            "header": {
             "fill": {
              "color": "#C8D4E3"
             },
             "line": {
              "color": "white"
             }
            },
            "type": "table"
           }
          ]
         },
         "layout": {
          "annotationdefaults": {
           "arrowcolor": "#2a3f5f",
           "arrowhead": 0,
           "arrowwidth": 1
          },
          "autotypenumbers": "strict",
          "coloraxis": {
           "colorbar": {
            "outlinewidth": 0,
            "ticks": ""
           }
          },
          "colorscale": {
           "diverging": [
            [
             0,
             "#8e0152"
            ],
            [
             0.1,
             "#c51b7d"
            ],
            [
             0.2,
             "#de77ae"
            ],
            [
             0.3,
             "#f1b6da"
            ],
            [
             0.4,
             "#fde0ef"
            ],
            [
             0.5,
             "#f7f7f7"
            ],
            [
             0.6,
             "#e6f5d0"
            ],
            [
             0.7,
             "#b8e186"
            ],
            [
             0.8,
             "#7fbc41"
            ],
            [
             0.9,
             "#4d9221"
            ],
            [
             1,
             "#276419"
            ]
           ],
           "sequential": [
            [
             0,
             "#0d0887"
            ],
            [
             0.1111111111111111,
             "#46039f"
            ],
            [
             0.2222222222222222,
             "#7201a8"
            ],
            [
             0.3333333333333333,
             "#9c179e"
            ],
            [
             0.4444444444444444,
             "#bd3786"
            ],
            [
             0.5555555555555556,
             "#d8576b"
            ],
            [
             0.6666666666666666,
             "#ed7953"
            ],
            [
             0.7777777777777778,
             "#fb9f3a"
            ],
            [
             0.8888888888888888,
             "#fdca26"
            ],
            [
             1,
             "#f0f921"
            ]
           ],
           "sequentialminus": [
            [
             0,
             "#0d0887"
            ],
            [
             0.1111111111111111,
             "#46039f"
            ],
            [
             0.2222222222222222,
             "#7201a8"
            ],
            [
             0.3333333333333333,
             "#9c179e"
            ],
            [
             0.4444444444444444,
             "#bd3786"
            ],
            [
             0.5555555555555556,
             "#d8576b"
            ],
            [
             0.6666666666666666,
             "#ed7953"
            ],
            [
             0.7777777777777778,
             "#fb9f3a"
            ],
            [
             0.8888888888888888,
             "#fdca26"
            ],
            [
             1,
             "#f0f921"
            ]
           ]
          },
          "colorway": [
           "#636efa",
           "#EF553B",
           "#00cc96",
           "#ab63fa",
           "#FFA15A",
           "#19d3f3",
           "#FF6692",
           "#B6E880",
           "#FF97FF",
           "#FECB52"
          ],
          "font": {
           "color": "#2a3f5f"
          },
          "geo": {
           "bgcolor": "white",
           "lakecolor": "white",
           "landcolor": "#E5ECF6",
           "showlakes": true,
           "showland": true,
           "subunitcolor": "white"
          },
          "hoverlabel": {
           "align": "left"
          },
          "hovermode": "closest",
          "mapbox": {
           "style": "light"
          },
          "paper_bgcolor": "white",
          "plot_bgcolor": "#E5ECF6",
          "polar": {
           "angularaxis": {
            "gridcolor": "white",
            "linecolor": "white",
            "ticks": ""
           },
           "bgcolor": "#E5ECF6",
           "radialaxis": {
            "gridcolor": "white",
            "linecolor": "white",
            "ticks": ""
           }
          },
          "scene": {
           "xaxis": {
            "backgroundcolor": "#E5ECF6",
            "gridcolor": "white",
            "gridwidth": 2,
            "linecolor": "white",
            "showbackground": true,
            "ticks": "",
            "zerolinecolor": "white"
           },
           "yaxis": {
            "backgroundcolor": "#E5ECF6",
            "gridcolor": "white",
            "gridwidth": 2,
            "linecolor": "white",
            "showbackground": true,
            "ticks": "",
            "zerolinecolor": "white"
           },
           "zaxis": {
            "backgroundcolor": "#E5ECF6",
            "gridcolor": "white",
            "gridwidth": 2,
            "linecolor": "white",
            "showbackground": true,
            "ticks": "",
            "zerolinecolor": "white"
           }
          },
          "shapedefaults": {
           "line": {
            "color": "#2a3f5f"
           }
          },
          "ternary": {
           "aaxis": {
            "gridcolor": "white",
            "linecolor": "white",
            "ticks": ""
           },
           "baxis": {
            "gridcolor": "white",
            "linecolor": "white",
            "ticks": ""
           },
           "bgcolor": "#E5ECF6",
           "caxis": {
            "gridcolor": "white",
            "linecolor": "white",
            "ticks": ""
           }
          },
          "title": {
           "x": 0.05
          },
          "xaxis": {
           "automargin": true,
           "gridcolor": "white",
           "linecolor": "white",
           "ticks": "",
           "title": {
            "standoff": 15
           },
           "zerolinecolor": "white",
           "zerolinewidth": 2
          },
          "yaxis": {
           "automargin": true,
           "gridcolor": "white",
           "linecolor": "white",
           "ticks": "",
           "title": {
            "standoff": 15
           },
           "zerolinecolor": "white",
           "zerolinewidth": 2
          }
         }
        },
        "title": {
         "text": "Correlation",
         "x": 0.5
        }
       }
      }
     },
     "metadata": {},
     "output_type": "display_data"
    },
    {
     "data": {
      "application/vnd.plotly.v1+json": {
       "config": {
        "plotlyServerURL": "https://plot.ly"
       },
       "data": [
        {
         "colorscale": [
          [
           0,
           "rgb(165,0,38)"
          ],
          [
           0.1,
           "rgb(215,48,39)"
          ],
          [
           0.2,
           "rgb(244,109,67)"
          ],
          [
           0.3,
           "rgb(253,174,97)"
          ],
          [
           0.4,
           "rgb(254,224,144)"
          ],
          [
           0.5,
           "rgb(255,255,191)"
          ],
          [
           0.6,
           "rgb(224,243,248)"
          ],
          [
           0.7,
           "rgb(171,217,233)"
          ],
          [
           0.8,
           "rgb(116,173,209)"
          ],
          [
           0.9,
           "rgb(69,117,180)"
          ],
          [
           1,
           "rgb(49,54,149)"
          ]
         ],
         "type": "heatmap",
         "x": [
          "OXO-5FI661A Augusta",
          "OXO-5FI696 Augusta",
          "OXO-5FIC132 Augusta",
          "OXO-5FIC600 Augusta",
          "OXO-5FIC601 Augusta",
          "OXO-5FIC602 Augusta",
          "OXO-5FIC606C Augusta",
          "OXO-5FIC609B Augusta",
          "OXO-5FIC611A Augusta",
          "OXO-5FIC612A Augusta",
          "OXO-5FIC612B Augusta",
          "OXO-5FIC618A Augusta",
          "OXO-5FIC618B Augusta",
          "OXO-5FIC618C Augusta",
          "OXO-5FIC618D Augusta",
          "OXO-5FIC622A Augusta",
          "OXO-5FIC622B Augusta",
          "OXO-5FIC622C Augusta",
          "OXO-5FIC636A Augusta",
          "OXO-5FIC636B Augusta",
          "OXO-5FIC636C Augusta",
          "OXO-5FQI691B Augusta",
          "OXO-5LI633B Augusta",
          "OXO-5LI650F Augusta",
          "OXO-5LI651E Augusta",
          "OXO-5LI651F Augusta",
          "OXO-5LI652E Augusta",
          "OXO-5LI653E Augusta",
          "OXO-5LI653F Augusta",
          "OXO-5LI654E Augusta",
          "OXO-5LI655F Augusta",
          "OXO-5LI656F Augusta",
          "OXO-5LI657E Augusta",
          "OXO-5LI657F Augusta",
          "OXO-5LI658E Augusta",
          "OXO-5LI658F Augusta",
          "OXO-5PIC605A Augusta",
          "OXO-5RIC606_Y Augusta",
          "OXO-5TIC002 Augusta",
          "OXO-5TIC601 Augusta",
          "OXO-5TIC602 Augusta",
          "OXO-5TIC603 Augusta",
          "OXO-5TIC604 Augusta",
          "OXO-5TIC605 Augusta",
          "OXO-5TIC606 Augusta",
          "OXO-5TIC607 Augusta",
          "OXO-5TIC659 Augusta",
          "OXO-_5FI658A Augusta",
          "OXO-_5FI659A Augusta",
          "OXO-_5FI660A Augusta",
          "OXO-_5FI662A Augusta",
          "OXO-5FI635C Augusta"
         ],
         "y": [
          "OXO-5FI661A Augusta",
          "OXO-5FI696 Augusta",
          "OXO-5FIC132 Augusta",
          "OXO-5FIC600 Augusta",
          "OXO-5FIC601 Augusta",
          "OXO-5FIC602 Augusta",
          "OXO-5FIC606C Augusta",
          "OXO-5FIC609B Augusta",
          "OXO-5FIC611A Augusta",
          "OXO-5FIC612A Augusta",
          "OXO-5FIC612B Augusta",
          "OXO-5FIC618A Augusta",
          "OXO-5FIC618B Augusta",
          "OXO-5FIC618C Augusta",
          "OXO-5FIC618D Augusta",
          "OXO-5FIC622A Augusta",
          "OXO-5FIC622B Augusta",
          "OXO-5FIC622C Augusta",
          "OXO-5FIC636A Augusta",
          "OXO-5FIC636B Augusta",
          "OXO-5FIC636C Augusta",
          "OXO-5FQI691B Augusta",
          "OXO-5LI633B Augusta",
          "OXO-5LI650F Augusta",
          "OXO-5LI651E Augusta",
          "OXO-5LI651F Augusta",
          "OXO-5LI652E Augusta",
          "OXO-5LI653E Augusta",
          "OXO-5LI653F Augusta",
          "OXO-5LI654E Augusta",
          "OXO-5LI655F Augusta",
          "OXO-5LI656F Augusta",
          "OXO-5LI657E Augusta",
          "OXO-5LI657F Augusta",
          "OXO-5LI658E Augusta",
          "OXO-5LI658F Augusta",
          "OXO-5PIC605A Augusta",
          "OXO-5RIC606_Y Augusta",
          "OXO-5TIC002 Augusta",
          "OXO-5TIC601 Augusta",
          "OXO-5TIC602 Augusta",
          "OXO-5TIC603 Augusta",
          "OXO-5TIC604 Augusta",
          "OXO-5TIC605 Augusta",
          "OXO-5TIC606 Augusta",
          "OXO-5TIC607 Augusta",
          "OXO-5TIC659 Augusta",
          "OXO-_5FI658A Augusta",
          "OXO-_5FI659A Augusta",
          "OXO-_5FI660A Augusta",
          "OXO-_5FI662A Augusta",
          "OXO-5FI635C Augusta"
         ],
         "z": [
          [
           1,
           0.3762136213621362,
           0.31203494793663794,
           0.7392739273927392,
           0.7617161716171618,
           0.2995238093907532,
           -0.3560045742029273,
           -0.15375937593759376,
           -0.3887548754875488,
           -0.2106993748731077,
           0.7361416141614161,
           0.5482388238823882,
           0.4852565256525653,
           0.5382898289828983,
           -0.08021602160216022,
           -0.3219037823916497,
           0.8005160516051605,
           0.1975037503750375,
           -0.34971903680839084,
           -0.25195308751776824,
           0.35273927392739274,
           -0.8226882320010307,
           0.786598091123048,
           0.3561450495095705,
           0.8126757056013343,
           -0.14181818181818182,
           -0.1127032703270327,
           -0.7938673867386739,
           -0.8053645364536454,
           -0.2760044284573732,
           0.5808460846084609,
           -0.8412841284128413,
           0.6675227574243037,
           -0.4922412241224122,
           0.09495520472954264,
           -0.7138673867386739,
           0.017413741374137415,
           0.00888088808880888,
           0.05238539569599244,
           0.6168736873687368,
           -0.6743114311431143,
           -0.6063246324632463,
           -0.5717251725172517,
           -0.45275727572757274,
           -0.06048604860486049,
           -0.03242724272427243,
           -0.03561956195619562,
           0.985958595859586,
           0.9867386738673868,
           0.9578877887788779,
           0.9745574557455745,
           0.5705370537053706
          ],
          [
           0.3762136213621362,
           1,
           0.3189657241840767,
           0.19653165316531654,
           0.07878787878787878,
           0.5132010500224207,
           0.2566739990093792,
           -0.36374437443744373,
           0.2743834383438344,
           0.2966471767262934,
           0.669030903090309,
           0.30724272427242727,
           0.35912391239123914,
           0.3942994299429943,
           -0.28074407440744076,
           0.1884806466753982,
           0.41675367536753677,
           0.37556555655565554,
           -0.051223298227818605,
           -0.1290321557127927,
           0.5663846384638463,
           -0.19073952699583405,
           0.1627474019474058,
           -0.2885751639394985,
           0.20297090600423187,
           0.32753675367536755,
           -0.09896189618961897,
           -0.25642964296429643,
           -0.17426942694269426,
           0.028898976594719312,
           0.24858085808580857,
           -0.20742874287428742,
           0.4597867374024417,
           0.20224422442244225,
           -0.43400121221335763,
           0.08943294329432944,
           0.16771677167716773,
           0.04858085808580858,
           0.003624373310467289,
           0.21236123612361235,
           -0.468994899489949,
           -0.5371257125712571,
           -0.3442064206420642,
           -0.37454545454545457,
           -0.2983978397839784,
           -0.4398199819981998,
           -0.07998799879987999,
           0.4031563156315632,
           0.3846024602460246,
           0.3640684068406841,
           0.34072607260726073,
           0.5512391239123913
          ],
          [
           0.31203494793663794,
           0.3189657241840767,
           1,
           0.31938577122937606,
           0.2477557486616905,
           0.19216839515154374,
           -0.08248941562575718,
           -0.2927307858690963,
           -0.07262013346017678,
           -0.0717920903901008,
           0.18165834574780462,
           0.4700326436899394,
           -0.15480533820902664,
           0.15233306131383637,
           -0.20360880420073196,
           -0.21017869385167098,
           0.09676083722073628,
           -0.4018290048774812,
           0.10338638955217952,
           0.13245013277549492,
           -0.2569247755933671,
           -0.37073595287262473,
           -0.016346694489603086,
           -0.3537001593504831,
           0.3260684978904647,
           -0.023018578082402753,
           -0.06892371946154276,
           -0.4655561423214638,
           -0.39653641210670976,
           0.4959570350791227,
           -0.025970908743649403,
           -0.3479789736701083,
           0.18121538341850563,
           -0.1760057126524909,
           -0.25582525728805294,
           -0.20269070137314915,
           0.15427127839428895,
           -0.5165858576532555,
           0.0621731499147585,
           -0.03762421391466769,
           -0.07769070136414714,
           -0.17276534973161045,
           0.05673635447578676,
           0.020018242044550466,
           0.26117325142296594,
           0.061986942542028266,
           -0.08094906630125473,
           0.2845818731902895,
           0.32377826318879177,
           0.2661838126061793,
           0.31190893382304813,
           0.04405693437982299
          ],
          [
           0.7392739273927392,
           0.19653165316531654,
           0.31938577122937606,
           1,
           0.847056705670567,
           0.23361908949475327,
           -0.36309790068182857,
           -0.006468646864686469,
           -0.42821482148214823,
           -0.18454266876102784,
           0.5308250825082508,
           0.5165076507650765,
           0.08704470447044704,
           0.4167656765676568,
           -0.0469006900690069,
           -0.4355292865903168,
           0.634047404740474,
           0.0650945094509451,
           -0.28157773122602375,
           -0.1435761156905342,
           0.038067806780678067,
           -0.8144362428224492,
           0.7309712013568976,
           0.2679324545614571,
           0.8354300492988376,
           -0.20646864686468647,
           -0.059201920192019204,
           -0.8413081308130813,
           -0.850909090909091,
           -0.1829348422895791,
           0.3628202820282028,
           -0.858985898589859,
           0.5640837928922011,
           -0.4611701170117012,
           0.12977131303596368,
           -0.7664806480648065,
           -0.06856285628562857,
           -0.1993879387938794,
           0.0521153678831265,
           0.5675727572757275,
           -0.5388538853885388,
           -0.28924092409240926,
           -0.492973297329733,
           -0.2549054905490549,
           0.17939393939393938,
           0.2584578457845785,
           -0.08525652565256525,
           0.7241884188418842,
           0.7244644464446445,
           0.7202400240024003,
           0.7118031803180318,
           0.29176117611761176
          ],
          [
           0.7617161716171618,
           0.07878787878787878,
           0.2477557486616905,
           0.847056705670567,
           1,
           0.0869747865099915,
           -0.44740766692724643,
           0.12638463846384637,
           -0.5035943594359436,
           -0.25786770347512816,
           0.48895289528952895,
           0.41507350735073506,
           0.27509150915091507,
           0.2715271527152715,
           -0.004008400840084008,
           -0.4225479448715499,
           0.712067206720672,
           0.029390939093909392,
           -0.21945278672279908,
           -0.11730538211555422,
           0.1409180918091809,
           -0.861800482763149,
           0.8018251628572806,
           0.36228246522154467,
           0.8625228398563869,
           -0.25252925292529255,
           -0.06965496549654966,
           -0.8384518451845184,
           -0.8618541854185419,
           -0.26240102730699355,
           0.5660966096609661,
           -0.8637263726372637,
           0.5952991017154984,
           -0.6675427542754275,
           0.18615996690625639,
           -0.8238103810381038,
           -0.12963696369636965,
           -0.11158715871587159,
           0.014173459866430028,
           0.671071107110711,
           -0.5328172817281728,
           -0.32081608160816083,
           -0.48902490249024905,
           -0.28026402640264025,
           0.22945094509450945,
           0.24081608160816081,
           0.01374137413741374,
           0.7415901590159016,
           0.7583678367836784,
           0.7415301530153016,
           0.762016201620162,
           0.2754035403540354
          ],
          [
           0.2995238093907532,
           0.5132010500224207,
           0.19216839515154374,
           0.23361908949475327,
           0.0869747865099915,
           1,
           0.06380986676384277,
           -0.434795917492714,
           0.05982554658925725,
           0.1361478100664724,
           0.5714002827260637,
           0.4824691186267354,
           0.33029174773593545,
           0.45531987870600116,
           -0.08510242513614776,
           0.15471439810596313,
           0.2726026134834999,
           0.14756848135518463,
           -0.2436010528675547,
           -0.29428217597813733,
           0.29241843802334616,
           -0.12705857239431903,
           0.13438674357560992,
           0.07020777816845855,
           0.14749690999183798,
           0.013712646600105608,
           -0.03358848272244686,
           -0.18469764744483602,
           -0.18061685983517659,
           0.028709627203228616,
           0.08993335752699459,
           -0.15826254535579215,
           0.354769600493391,
           0.06795711601732862,
           -0.23641988526086127,
           -0.02877555380634853,
           -0.002994577966500087,
           0.027455298991458713,
           0.02944777188257584,
           0.0840162154929884,
           -0.33361038824790845,
           -0.31537886948592997,
           -0.2693679891870198,
           -0.20241306659735758,
           -0.20966846692100208,
           -0.3080514552632915,
           0.029681728702022906,
           0.33009971067195143,
           0.29101416699296334,
           0.33295626199871303,
           0.2848869844202247,
           0.29827556847485737
          ],
          [
           -0.3560045742029273,
           0.2566739990093792,
           -0.08248941562575718,
           -0.36309790068182857,
           -0.44740766692724643,
           0.06380986676384277,
           1,
           -0.3558245405359501,
           0.9322083264856552,
           0.8007285127924625,
           -0.06029927619289337,
           -0.27594960362040366,
           -0.3434562276146172,
           0.058582955234377496,
           -0.2137839784131801,
           0.7046944998901896,
           -0.1652589040405949,
           0.2781580166019905,
           0.4381675889177852,
           0.5357606467010166,
           -0.1046355672471426,
           0.28009591658793465,
           -0.38416178549855023,
           -0.34920706265083207,
           -0.3112371361541226,
           0.8716269975478309,
           -0.2789981737145507,
           0.2331676032243908,
           0.32254831775633286,
           0.24670687517683088,
           -0.3653723260079737,
           0.38389779033992655,
           -0.22292802584044374,
           0.6911492475254308,
           -0.7143684472325854,
           0.7828944042170067,
           0.033036177890314294,
           -0.10644190503914706,
           -0.028571428672266887,
           -0.38365174432839105,
           0.11475345933126065,
           0.033000171156918855,
           0.2821307595199538,
           0.21167158338731437,
           0.08104515575089818,
           0.03952339102372569,
           -0.1392680436513213,
           -0.3859201685323036,
           -0.3722736165754327,
           -0.3495773722918416,
           -0.37072532703942884,
           0.16443074917249983
          ],
          [
           -0.15375937593759376,
           -0.36374437443744373,
           -0.2927307858690963,
           -0.006468646864686469,
           0.12638463846384637,
           -0.434795917492714,
           -0.3558245405359501,
           1,
           -0.3473387338733873,
           -0.36318701851721835,
           -0.3167956795679568,
           -0.2588658865886589,
           0.014041404140414042,
           -0.44487248724872486,
           0.3272847284728473,
           -0.220025369074657,
           -0.02067806780678068,
           -0.17143714371437144,
           0.12566975022112697,
           0.016708613209976513,
           0.0258985898589859,
           0.0569108960431937,
           0.15384939584446122,
           -0.060062120506730675,
           -0.012847323274355076,
           -0.39715571557155716,
           0.031203120312031204,
           -0.00906090609060906,
           0.013681368136813681,
           -0.2773305650494482,
           0.21903390339033904,
           -0.009756975697569756,
           -0.04770505673687289,
           -0.22905490549054905,
           0.300911507606651,
           -0.24831683168316832,
           -0.06287428742874288,
           0.028406840684068405,
           -0.04535267132535062,
           0.24694869486948695,
           0.028022802280228024,
           0.3172637263726373,
           -0.0924092409240924,
           0.05098109810981098,
           0.017785778577857785,
           0.24825682568256827,
           0.10018601860186019,
           -0.1328052805280528,
           -0.15343534353435342,
           -0.062346234623462345,
           -0.08228022802280228,
           -0.3195079507950795
          ],
          [
           -0.3887548754875488,
           0.2743834383438344,
           -0.07262013346017678,
           -0.42821482148214823,
           -0.5035943594359436,
           0.05982554658925725,
           0.9322083264856552,
           -0.3473387338733873,
           1,
           0.8250600211256697,
           -0.07486348634863486,
           -0.30706270627062704,
           -0.22682268226822683,
           0.004896489648964896,
           -0.1318811881188119,
           0.7340505279978522,
           -0.1693249324932493,
           0.29236123612361237,
           0.45150383354532236,
           0.4745484577206735,
           -0.06721872187218722,
           0.32810731753019745,
           -0.4223539058121874,
           -0.3329220014592739,
           -0.37488861352888064,
           0.8781518151815182,
           -0.37663366336633664,
           0.2915211521152115,
           0.37053705370537054,
           0.27092790557549357,
           -0.3180678067806781,
           0.43837983798379837,
           -0.24079952475395877,
           0.7872907290729073,
           -0.7406553974569002,
           0.8365076507650765,
           0.10825082508250825,
           -0.015973597359735973,
           -0.05765993897397381,
           -0.36036003600360034,
           0.1031983198319832,
           -0.050777077707770776,
           0.2308790879087909,
           0.10265826582658266,
           -0.011725172517251725,
           -0.06137413741374138,
           -0.1541194119411941,
           -0.41116111611161116,
           -0.38664266426642663,
           -0.38976297629762974,
           -0.3861746174617462,
           0.1498109810981098
          ],
          [
           -0.2106993748731077,
           0.2966471767262934,
           -0.0717920903901008,
           -0.18454266876102784,
           -0.25786770347512816,
           0.1361478100664724,
           0.8007285127924625,
           -0.36318701851721835,
           0.8250600211256697,
           1,
           0.11945462742546453,
           -0.2602974950322187,
           -0.20491039648833945,
           0.030542479872628307,
           -0.10188115998880708,
           0.6701398596822709,
           0.05384418090512676,
           0.43907548332404917,
           0.4962120164629145,
           0.5018404295744182,
           -0.0010022890172998549,
           0.03989388937278602,
           -0.14755686784086425,
           -0.07854031893528379,
           -0.07207087105731327,
           0.7674010674759107,
           -0.356912081821032,
           0.04122748824493403,
           0.09597676650507703,
           0.10179642270457717,
           -0.15519686123026663,
           0.1590541553271479,
           0.016027608734017075,
           0.5396384813931346,
           -0.6833182827549138,
           0.5869222250941168,
           -0.001512545244288872,
           -0.08190219891062997,
           -0.04455036186390793,
           -0.21620892722881052,
           -0.06202650397362921,
           -0.12811683432649237,
           0.08890607307394349,
           0.0926358031140775,
           0.05425724546983215,
           -0.03582120203040754,
           -0.09578238318050977,
           -0.2390125209921054,
           -0.2250412195388347,
           -0.2043029485990668,
           -0.21996902966340817,
           0.24597387380316985
          ],
          [
           0.7361416141614161,
           0.669030903090309,
           0.18165834574780462,
           0.5308250825082508,
           0.48895289528952895,
           0.5714002827260637,
           -0.06029927619289337,
           -0.3167956795679568,
           -0.07486348634863486,
           0.11945462742546453,
           1,
           0.5354095409540954,
           0.5907470747074708,
           0.5811341134113411,
           -0.2082088208820882,
           0.009669331934810156,
           0.7307170717071707,
           0.4239423942394239,
           -0.2647078547601084,
           -0.26636528599441717,
           0.597011701170117,
           -0.6049240454298861,
           0.5821592250965228,
           0.29019334242887884,
           0.6061224306130809,
           0.07276327632763277,
           -0.08846084608460845,
           -0.577977797779778,
           -0.5926792679267927,
           -0.23125781955645505,
           0.5786378637863786,
           -0.6174737473747375,
           0.7102532868611932,
           -0.21903390339033904,
           -0.171068186073673,
           -0.35777977797779775,
           0.09358535853585359,
           0.0204980498049805,
           0.005490565528274122,
           0.48926492649264924,
           -0.669030903090309,
           -0.6622982298229823,
           -0.5325052505250525,
           -0.48315631563156314,
           -0.21996999699969996,
           -0.33713771377137713,
           -0.04662466246624662,
           0.7375937593759376,
           0.7267326732673267,
           0.7362976297629763,
           0.7034623462346234,
           0.7007860786078608
          ],
          [
           0.5482388238823882,
           0.30724272427242727,
           0.4700326436899394,
           0.5165076507650765,
           0.41507350735073506,
           0.4824691186267354,
           -0.27594960362040366,
           -0.2588658865886589,
           -0.30706270627062704,
           -0.2602974950322187,
           0.5354095409540954,
           1,
           0.32044404440444046,
           0.7222322232223223,
           -0.18793879387938794,
           -0.33036367255141946,
           0.3247764776477648,
           -0.23607560756075607,
           -0.3900045905943285,
           -0.29495753173150424,
           -0.0763036303630363,
           -0.40192148172951775,
           0.19506725637294,
           0.012843380622919837,
           0.4104842798826753,
           -0.22204620462046204,
           0.1460906090609061,
           -0.4759195919591959,
           -0.48216021602160214,
           0.2661694154509893,
           0.15158715871587158,
           -0.46293429342934295,
           0.2199833182356931,
           -0.3195319531953195,
           -0.009871164799045604,
           -0.4151095109510951,
           0.11551155115511551,
           -0.31377137713771375,
           0.04091821457628551,
           0.20986498649864987,
           -0.3041944194419442,
           -0.3468706870687069,
           -0.16607260726072606,
           -0.16166816681668167,
           0.09459345934593459,
           -0.01785778577857786,
           -0.05401740174017402,
           0.5115271527152715,
           0.5316651665166516,
           0.5117311731173118,
           0.5124272427242724,
           0.276987698769877
          ],
          [
           0.4852565256525653,
           0.35912391239123914,
           -0.15480533820902664,
           0.08704470447044704,
           0.27509150915091507,
           0.33029174773593545,
           -0.3434562276146172,
           0.014041404140414042,
           -0.22682268226822683,
           -0.20491039648833945,
           0.5907470747074708,
           0.32044404440444046,
           1,
           0.32646864686468646,
           0.07914791479147915,
           -0.038931620625274756,
           0.5086108610861086,
           0.30150615061506153,
           -0.31766386497872,
           -0.4854470161681873,
           0.7320972097209721,
           -0.18409074685854587,
           0.4064666594316073,
           0.2930798229775033,
           0.17718024956650272,
           -0.2083168316831683,
           -0.08602460246024603,
           -0.13665766576657665,
           -0.16436843684368438,
           -0.404477661200924,
           0.6887728772877287,
           -0.20745274527452745,
           0.4834292435085145,
           -0.21624962496249625,
           0.038824581306884536,
           -0.2467806780678068,
           0.1278007800780078,
           0.5298649864986499,
           -0.010117042055377234,
           0.5525112511251125,
           -0.5466666666666666,
           -0.6604860486048605,
           -0.5792979297929793,
           -0.6644224422442244,
           -0.5348214821482148,
           -0.5681608160816082,
           0.04106810681068107,
           0.525928592859286,
           0.5112031203120312,
           0.4818721872187219,
           0.5104230423042304,
           0.46655865586558654
          ],
          [
           0.5382898289828983,
           0.3942994299429943,
           0.15233306131383637,
           0.4167656765676568,
           0.2715271527152715,
           0.45531987870600116,
           0.058582955234377496,
           -0.44487248724872486,
           0.004896489648964896,
           0.030542479872628307,
           0.5811341134113411,
           0.7222322232223223,
           0.32646864686468646,
           1,
           -0.24834083408340835,
           -0.10974288598751179,
           0.4246624662466247,
           0.1919231923192319,
           -0.393277491021382,
           -0.15453114335280194,
           0.08277227722772278,
           -0.3527120389299709,
           0.2991165212864049,
           0.10089561554055412,
           0.334510454578327,
           0.08232823282328233,
           0.027854785478547854,
           -0.3657005700570057,
           -0.35445544554455444,
           -0.04287441606504765,
           0.05431743174317432,
           -0.3761896189618962,
           0.24395585932548017,
           -0.02895889588958896,
           -0.034288045994982724,
           -0.16682868286828684,
           0.08639663966396639,
           -0.018133813381338133,
           0.0023942466074113383,
           0.19415541554155416,
           -0.4466366636663666,
           -0.4409120912091209,
           -0.2774917491749175,
           -0.24315631563156315,
           -0.03708370837083708,
           0.033435343534353436,
           -0.06967896789678968,
           0.49904590459045906,
           0.4930933093309331,
           0.504014401440144,
           0.4563336333633363,
           0.5131953195319532
          ],
          [
           -0.08021602160216022,
           -0.28074407440744076,
           -0.20360880420073196,
           -0.0469006900690069,
           -0.004008400840084008,
           -0.08510242513614776,
           -0.2137839784131801,
           0.3272847284728473,
           -0.1318811881188119,
           -0.10188115998880708,
           -0.2082088208820882,
           -0.18793879387938794,
           0.07914791479147915,
           -0.24834083408340835,
           1,
           0.05802839613988699,
           0.033855385538553856,
           0.011797179717971798,
           0.06054865790048936,
           0.0025285659495383156,
           0.014065406540654066,
           0.016516078048040693,
           0.06334806280386678,
           0.2339652844690584,
           0.001308134737883889,
           -0.2605940594059406,
           -0.2548214821482148,
           0.05194119411941194,
           -0.01618961896189619,
           -0.1271650980056669,
           0.15380738073807382,
           -0.03387938793879388,
           0.06612700946419361,
           -0.06604260426042605,
           0.16991605012144398,
           -0.07645964596459646,
           -0.09441344134413442,
           0.07089108910891088,
           -0.003486359095002475,
           0.10177017701770177,
           0.09521752175217522,
           0.10168616861686168,
           -0.05134113411341134,
           0.04847284728472847,
           0.04831683168316832,
           0.13098109810981098,
           0.10936693669366937,
           -0.034995499549955,
           -0.07516351635163517,
           -0.028034803480348036,
           0.018841884188418843,
           -0.24092409240924093
          ],
          [
           -0.3219037823916497,
           0.1884806466753982,
           -0.21017869385167098,
           -0.4355292865903168,
           -0.4225479448715499,
           0.15471439810596313,
           0.7046944998901896,
           -0.220025369074657,
           0.7340505279978522,
           0.6701398596822709,
           0.009669331934810156,
           -0.33036367255141946,
           -0.038931620625274756,
           -0.10974288598751179,
           0.05802839613988699,
           1,
           -0.058233070901816904,
           0.4488703597088394,
           0.4778276414936389,
           0.4062408510544407,
           0.14060535918033754,
           0.29251997460661605,
           -0.3180620444404039,
           -0.1158663212249679,
           -0.3262990665041975,
           0.5955167254988659,
           -0.3003633142649046,
           0.31527976282373615,
           0.3426751695947794,
           0.14834623162446697,
           -0.10522143442851462,
           0.37300424795348475,
           -0.10856820814914403,
           0.5250900005984366,
           -0.5330509009483159,
           0.6810583714545436,
           -0.037895842284599135,
           0.010612076292790363,
           -0.01087570520752165,
           -0.3144920751035816,
           0.17291296023769873,
           0.07421010686337622,
           0.23246711369379053,
           0.13744220376869343,
           -0.012491362743237752,
           -0.09304018496092825,
           -0.18472207377450345,
           -0.32139519661958144,
           -0.32858982461469355,
           -0.29420446461046806,
           -0.29359044032467835,
           0.15714059903806935
          ],
          [
           0.8005160516051605,
           0.41675367536753677,
           0.09676083722073628,
           0.634047404740474,
           0.712067206720672,
           0.2726026134834999,
           -0.1652589040405949,
           -0.02067806780678068,
           -0.1693249324932493,
           0.05384418090512676,
           0.7307170717071707,
           0.3247764776477648,
           0.5086108610861086,
           0.4246624662466247,
           0.033855385538553856,
           -0.058233070901816904,
           1,
           0.5058385838583859,
           -0.12847337448400734,
           -0.0859461448555232,
           0.4702190219021902,
           -0.7840478691831421,
           0.8093597647992902,
           0.34150855218220216,
           0.7649107858143813,
           0.005268526852685269,
           -0.18000600060006,
           -0.7382418241824182,
           -0.7395379537953796,
           -0.41175041029411336,
           0.6491689168916892,
           -0.7689528952895289,
           0.7406105047268334,
           -0.3646564656465647,
           -0.04395518671915444,
           -0.5365856585658566,
           -0.0859045904590459,
           0.06906690669066906,
           0.04664880482710713,
           0.6785958595859586,
           -0.700906090609061,
           -0.5349294929492949,
           -0.6142334233423342,
           -0.46060606060606063,
           0.000528052805280528,
           -0.03177917791779178,
           0.07236723672367237,
           0.7935553555355536,
           0.7891629162916292,
           0.7956795679567957,
           0.8097809780978098,
           0.6184218421842185
          ],
          [
           0.1975037503750375,
           0.37556555655565554,
           -0.4018290048774812,
           0.0650945094509451,
           0.029390939093909392,
           0.14756848135518463,
           0.2781580166019905,
           -0.17143714371437144,
           0.29236123612361237,
           0.43907548332404917,
           0.4239423942394239,
           -0.23607560756075607,
           0.30150615061506153,
           0.1919231923192319,
           0.011797179717971798,
           0.4488703597088394,
           0.5058385838583859,
           1,
           0.10667008193319519,
           0.08273994832893738,
           0.5702250225022503,
           -0.14240731178491936,
           0.2930888397327973,
           0.2732097573826795,
           0.14724916666482915,
           0.2735793579357936,
           -0.1344734473447345,
           -0.04018001800180018,
           -0.05075307530753075,
           -0.43842915820526823,
           0.35102310231023104,
           -0.1193999399939994,
           0.4374583705951582,
           0.19275127512751275,
           -0.10882884182096722,
           0.13810981098109812,
           -0.11485148514851486,
           0.3118151815181518,
           -0.041044227555622946,
           0.2031083108310831,
           -0.28723672367236724,
           -0.23554755475547554,
           -0.26936693669366935,
           -0.24822082208220822,
           -0.21866186618661868,
           -0.2034923492349235,
           -0.08886888688868887,
           0.21172517251725173,
           0.16276027602760276,
           0.22353435343534353,
           0.19307530753075308,
           0.5882148214821482
          ],
          [
           -0.34971903680839084,
           -0.051223298227818605,
           0.10338638955217952,
           -0.28157773122602375,
           -0.21945278672279908,
           -0.2436010528675547,
           0.4381675889177852,
           0.12566975022112697,
           0.45150383354532236,
           0.4962120164629145,
           -0.2647078547601084,
           -0.3900045905943285,
           -0.31766386497872,
           -0.393277491021382,
           0.06054865790048936,
           0.4778276414936389,
           -0.12847337448400734,
           0.10667008193319519,
           1,
           0.8652165930267953,
           -0.12643984443925718,
           0.07869685632891824,
           -0.2882180464210997,
           -0.2654059579031822,
           -0.08778498788746401,
           0.3204313910751255,
           -0.33262053862146806,
           0.04067060089500279,
           0.14711206110719055,
           0.2247478587844634,
           0.06098183589818761,
           0.15330891301870725,
           -0.019571340030586824,
           0.24877653062253924,
           -0.4326021983620069,
           0.39878847776987647,
           -0.06009141445847453,
           -0.34654239815860366,
           -0.04734890375398134,
           -0.29355028977351716,
           0.3469033798233522,
           0.3277713515916793,
           0.3743620517885582,
           0.3410795422987423,
           0.38323016801921417,
           0.16306745068907627,
           -0.038456580017878376,
           -0.3966225877813852,
           -0.3849388145656906,
           -0.27141008100227304,
           -0.27560950103551446,
           -0.20217379770350202
          ],
          [
           -0.25195308751776824,
           -0.1290321557127927,
           0.13245013277549492,
           -0.1435761156905342,
           -0.11730538211555422,
           -0.29428217597813733,
           0.5357606467010166,
           0.016708613209976513,
           0.4745484577206735,
           0.5018404295744182,
           -0.26636528599441717,
           -0.29495753173150424,
           -0.4854470161681873,
           -0.15453114335280194,
           0.0025285659495383156,
           0.4062408510544407,
           -0.0859461448555232,
           0.08273994832893738,
           0.8652165930267953,
           1,
           -0.3172064023445635,
           -0.06073131551343698,
           -0.20136293719565218,
           -0.25608685337391024,
           0.04257164129517728,
           0.39936910981157153,
           -0.2871898775242377,
           -0.09676313665950348,
           0.0016564302994494177,
           0.2715738172703254,
           -0.11211648871538502,
           0.031158457829794727,
           -0.06734621707021578,
           0.20248605539330156,
           -0.37087138148780907,
           0.34263637205542896,
           -0.1319999266659729,
           -0.4509882464538835,
           -0.024225365812922544,
           -0.3132284598830069,
           0.2992742894815846,
           0.32961708087604435,
           0.40810928938404517,
           0.4353776457530117,
           0.5390739471128622,
           0.44507780197630264,
           -0.07273862296029204,
           -0.32465406433489097,
           -0.3137617802445721,
           -0.18897736435271595,
           -0.21904408403060083,
           -0.11053535070227422
          ],
          [
           0.35273927392739274,
           0.5663846384638463,
           -0.2569247755933671,
           0.038067806780678067,
           0.1409180918091809,
           0.29241843802334616,
           -0.1046355672471426,
           0.0258985898589859,
           -0.06721872187218722,
           -0.0010022890172998549,
           0.597011701170117,
           -0.0763036303630363,
           0.7320972097209721,
           0.08277227722772278,
           0.014065406540654066,
           0.14060535918033754,
           0.4702190219021902,
           0.5702250225022503,
           -0.12643984443925718,
           -0.3172064023445635,
           1,
           -0.13269126001013792,
           0.41855072578431596,
           0.2283964179560557,
           0.15752222478986228,
           -0.05954995499549955,
           -0.11591959195919592,
           -0.0670987098709871,
           -0.07944794479447945,
           -0.5545951233001958,
           0.6834923492349235,
           -0.16597659765976597,
           0.6444563123807138,
           -0.05128112811281128,
           -0.0026823165137832127,
           -0.1002100210021002,
           0.07702370237023702,
           0.5465466546654666,
           0.00872489866460172,
           0.4844764476447645,
           -0.5186198619861986,
           -0.533033303330333,
           -0.5722172217221723,
           -0.5753015301530153,
           -0.5962676267626763,
           -0.6331113111311131,
           0.023054305430543053,
           0.4224062406240624,
           0.36136813681368135,
           0.4040804080408041,
           0.36562856285628564,
           0.4872007200720072
          ],
          [
           -0.8226882320010307,
           -0.19073952699583405,
           -0.37073595287262473,
           -0.8144362428224492,
           -0.861800482763149,
           -0.12705857239431903,
           0.28009591658793465,
           0.0569108960431937,
           0.32810731753019745,
           0.03989388937278602,
           -0.6049240454298861,
           -0.40192148172951775,
           -0.18409074685854587,
           -0.3527120389299709,
           0.016516078048040693,
           0.29251997460661605,
           -0.7840478691831421,
           -0.14240731178491936,
           0.07869685632891824,
           -0.06073131551343698,
           -0.13269126001013792,
           1,
           -0.8287639851691794,
           -0.4144786366406203,
           -0.9771376679198194,
           0.10668297446855296,
           0.1839092514953806,
           0.9474723440226012,
           0.9732204862103159,
           0.23076599678748339,
           -0.55210284490335,
           0.9717806229958713,
           -0.6982350014747202,
           0.565878342967595,
           -0.039246053867751714,
           0.7331928684242299,
           0.08901742578713215,
           0.25602945897182494,
           -0.01608658728654358,
           -0.5711356586539493,
           0.5553879109766416,
           0.3940143337409503,
           0.4356009712875553,
           0.22934964058652846,
           -0.28893456831369063,
           -0.24287104514234198,
           -0.02706700849338244,
           -0.7945685504012896,
           -0.8020340596728215,
           -0.8240070983066984,
           -0.8211576211050035,
           -0.4192663886026799
          ],
          [
           0.786598091123048,
           0.1627474019474058,
           -0.016346694489603086,
           0.7309712013568976,
           0.8018251628572806,
           0.13438674357560992,
           -0.38416178549855023,
           0.15384939584446122,
           -0.4223539058121874,
           -0.14755686784086425,
           0.5821592250965228,
           0.19506725637294,
           0.4064666594316073,
           0.2991165212864049,
           0.06334806280386678,
           -0.3180620444404039,
           0.8093597647992902,
           0.2930888397327973,
           -0.2882180464210997,
           -0.20136293719565218,
           0.41855072578431596,
           -0.8287639851691794,
           1,
           0.49222942195085634,
           0.8335160466839321,
           -0.2053717215050597,
           -0.15092166480413752,
           -0.7860957843269141,
           -0.8077667346744081,
           -0.6467147645523494,
           0.5977163841539291,
           -0.8310163635240375,
           0.7339750948151671,
           -0.5234467364398353,
           0.1982999412789943,
           -0.7531588101232723,
           -0.16055160366716303,
           0.21749884272600836,
           -0.009464923599091794,
           0.7650993602485141,
           -0.7645827018296335,
           -0.4793298481165261,
           -0.7511352313159898,
           -0.4425035841485329,
           -0.09805028660535066,
           0.060664309350236714,
           0.10346084838085083,
           0.8027867215813085,
           0.7794796862406923,
           0.796572468931994,
           0.7740117179742054,
           0.45585059330294975
          ],
          [
           0.3561450495095705,
           -0.2885751639394985,
           -0.3537001593504831,
           0.2679324545614571,
           0.36228246522154467,
           0.07020777816845855,
           -0.34920706265083207,
           -0.060062120506730675,
           -0.3329220014592739,
           -0.07854031893528379,
           0.29019334242887884,
           0.012843380622919837,
           0.2930798229775033,
           0.10089561554055412,
           0.2339652844690584,
           -0.1158663212249679,
           0.34150855218220216,
           0.2732097573826795,
           -0.2654059579031822,
           -0.25608685337391024,
           0.2283964179560557,
           -0.4144786366406203,
           0.49222942195085634,
           1,
           0.40884641346259676,
           -0.2890270876617579,
           -0.08577803812174838,
           -0.2136870297057423,
           -0.39269255827422433,
           -0.41161627684494273,
           0.4116150418707623,
           -0.41144010365569417,
           0.31878307530341204,
           -0.3489142699534204,
           0.4116224518825881,
           -0.4032325857320802,
           -0.1091614462025241,
           0.16923814489384378,
           0.007216223022427719,
           0.2982113439528356,
           -0.2130893241375928,
           -0.20533372993623825,
           -0.22539331193071918,
           -0.17180390538150997,
           -0.0024054004571870294,
           -0.011370983979429594,
           0.06453762317555745,
           0.3646878656787317,
           0.34306841793322645,
           0.36798253539584846,
           0.3577049152605948,
           0.142210190665815
          ],
          [
           0.8126757056013343,
           0.20297090600423187,
           0.3260684978904647,
           0.8354300492988376,
           0.8625228398563869,
           0.14749690999183798,
           -0.3112371361541226,
           -0.012847323274355076,
           -0.37488861352888064,
           -0.07207087105731327,
           0.6061224306130809,
           0.4104842798826753,
           0.17718024956650272,
           0.334510454578327,
           0.001308134737883889,
           -0.3262990665041975,
           0.7649107858143813,
           0.14724916666482915,
           -0.08778498788746401,
           0.04257164129517728,
           0.15752222478986228,
           -0.9771376679198194,
           0.8335160466839321,
           0.40884641346259676,
           1,
           -0.1530277618601603,
           -0.13819423400672462,
           -0.9455173882952496,
           -0.9666875688239394,
           -0.23848927986366555,
           0.5767614064274577,
           -0.9813410781354643,
           0.730729649535088,
           -0.5932691067206621,
           0.07474204379570877,
           -0.7711034236561068,
           -0.12664304423412606,
           -0.2640391960383802,
           0.031053291648914783,
           0.5676044632622704,
           -0.5424198692489738,
           -0.3477298161726307,
           -0.4386991860181342,
           -0.1862171803704162,
           0.2887677430788367,
           0.2546842324770913,
           0.050483199769803484,
           0.7856369206063581,
           0.7864290021907648,
           0.8245089244229261,
           0.8054149577442723,
           0.3984350388107906
          ],
          [
           -0.14181818181818182,
           0.32753675367536755,
           -0.023018578082402753,
           -0.20646864686468647,
           -0.25252925292529255,
           0.013712646600105608,
           0.8716269975478309,
           -0.39715571557155716,
           0.8781518151815182,
           0.7674010674759107,
           0.07276327632763277,
           -0.22204620462046204,
           -0.2083168316831683,
           0.08232823282328233,
           -0.2605940594059406,
           0.5955167254988659,
           0.005268526852685269,
           0.2735793579357936,
           0.3204313910751255,
           0.39936910981157153,
           -0.05954995499549955,
           0.10668297446855296,
           -0.2053717215050597,
           -0.2890270876617579,
           -0.1530277618601603,
           1,
           -0.34897089708970896,
           0.09042904290429044,
           0.1759015901590159,
           0.20636725582827906,
           -0.23383138313831384,
           0.22671467146714672,
           -0.18400350437477614,
           0.6545094509450945,
           -0.7523927824702334,
           0.6035883588358836,
           0.13195319531953195,
           -0.007536753675367536,
           -0.05493565837305966,
           -0.1874107410741074,
           -0.035427542754275426,
           -0.1651005100510051,
           0.10216621662166217,
           -0.010765076507650765,
           0.01881788178817882,
           -0.034323432343234324,
           -0.1556915691569157,
           -0.1853825382538254,
           -0.11623162316231624,
           -0.2220942094209421,
           -0.17066906690669068,
           0.2655745574557456
          ],
          [
           -0.1127032703270327,
           -0.09896189618961897,
           -0.06892371946154276,
           -0.059201920192019204,
           -0.06965496549654966,
           -0.03358848272244686,
           -0.2789981737145507,
           0.031203120312031204,
           -0.37663366336633664,
           -0.356912081821032,
           -0.08846084608460845,
           0.1460906090609061,
           -0.08602460246024603,
           0.027854785478547854,
           -0.2548214821482148,
           -0.3003633142649046,
           -0.18000600060006,
           -0.1344734473447345,
           -0.33262053862146806,
           -0.2871898775242377,
           -0.11591959195919592,
           0.1839092514953806,
           -0.15092166480413752,
           -0.08577803812174838,
           -0.13819423400672462,
           -0.34897089708970896,
           1,
           0.21142514251425143,
           0.16286828682868287,
           0.11078941130986351,
           -0.19837983798379838,
           0.13404140414041404,
           -0.17871094336321364,
           -0.21164116411641165,
           0.38481940875258086,
           -0.14103810381038104,
           -0.015145514551455146,
           -0.07213921392139214,
           -0.0015121557520492664,
           -0.14527452745274527,
           0.17886588658865887,
           0.24336033603360335,
           0.1506030603060306,
           0.16675667566756674,
           0.03111911191119112,
           0.019741974197419743,
           0.08878487848784879,
           -0.11619561956195619,
           -0.13720972097209722,
           -0.126000600060006,
           -0.17764176417641764,
           -0.14737473747374738
          ],
          [
           -0.7938673867386739,
           -0.25642964296429643,
           -0.4655561423214638,
           -0.8413081308130813,
           -0.8384518451845184,
           -0.18469764744483602,
           0.2331676032243908,
           -0.00906090609060906,
           0.2915211521152115,
           0.04122748824493403,
           -0.577977797779778,
           -0.4759195919591959,
           -0.13665766576657665,
           -0.3657005700570057,
           0.05194119411941194,
           0.31527976282373615,
           -0.7382418241824182,
           -0.04018001800180018,
           0.04067060089500279,
           -0.09676313665950348,
           -0.0670987098709871,
           0.9474723440226012,
           -0.7860957843269141,
           -0.2136870297057423,
           -0.9455173882952496,
           0.09042904290429044,
           0.21142514251425143,
           1,
           0.965064506450645,
           0.18164470940588628,
           -0.469006900690069,
           0.9391899189918992,
           -0.6765777172502082,
           0.5263966396639664,
           0.07798520226650253,
           0.7075307530753076,
           0.10067806780678068,
           0.30384638463846386,
           -0.013393379518150644,
           -0.5543114311431143,
           0.5915511551155116,
           0.3807260726072607,
           0.4641104110411041,
           0.21314131413141313,
           -0.27404740474047407,
           -0.2712991299129913,
           -0.021554155415541554,
           -0.7677887788778878,
           -0.7730573057305731,
           -0.805952595259526,
           -0.7952955295529553,
           -0.3993999399939994
          ],
          [
           -0.8053645364536454,
           -0.17426942694269426,
           -0.39653641210670976,
           -0.850909090909091,
           -0.8618541854185419,
           -0.18061685983517659,
           0.32254831775633286,
           0.013681368136813681,
           0.37053705370537054,
           0.09597676650507703,
           -0.5926792679267927,
           -0.48216021602160214,
           -0.16436843684368438,
           -0.35445544554455444,
           -0.01618961896189619,
           0.3426751695947794,
           -0.7395379537953796,
           -0.05075307530753075,
           0.14711206110719055,
           0.0016564302994494177,
           -0.07944794479447945,
           0.9732204862103159,
           -0.8077667346744081,
           -0.39269255827422433,
           -0.9666875688239394,
           0.1759015901590159,
           0.16286828682868287,
           0.965064506450645,
           1,
           0.1830308521785981,
           -0.49923792379237925,
           0.9683168316831683,
           -0.6807721618614125,
           0.5894029402940294,
           -0.04296506988520762,
           0.7565436543654366,
           0.10534653465346534,
           0.2935253525352535,
           -0.028808967323764,
           -0.5670807080708071,
           0.5641644164416442,
           0.3903510351035103,
           0.44162016201620163,
           0.20634863486348634,
           -0.2817761776177618,
           -0.2721392139213921,
           -0.012961296129612962,
           -0.7846024602460246,
           -0.783990399039904,
           -0.8177977797779779,
           -0.805928592859286,
           -0.3734053405340534
          ],
          [
           -0.2760044284573732,
           0.028898976594719312,
           0.4959570350791227,
           -0.1829348422895791,
           -0.26240102730699355,
           0.028709627203228616,
           0.24670687517683088,
           -0.2773305650494482,
           0.27092790557549357,
           0.10179642270457717,
           -0.23125781955645505,
           0.2661694154509893,
           -0.404477661200924,
           -0.04287441606504765,
           -0.1271650980056669,
           0.14834623162446697,
           -0.41175041029411336,
           -0.43842915820526823,
           0.2247478587844634,
           0.2715738172703254,
           -0.5545951233001958,
           0.23076599678748339,
           -0.6467147645523494,
           -0.41161627684494273,
           -0.23848927986366555,
           0.20636725582827906,
           0.11078941130986351,
           0.18164470940588628,
           0.1830308521785981,
           1,
           -0.4332326229621148,
           0.24958370712295688,
           -0.46604679910319974,
           0.1865952193084285,
           -0.2629938222820865,
           0.3372167333250501,
           0.13923234093174258,
           -0.6415680815152833,
           0.02276641323980342,
           -0.5007095730882815,
           0.4786933054126118,
           0.28202904899331555,
           0.6024080480316584,
           0.42673995421720484,
           0.4292002076233168,
           0.21418006054720026,
           -0.15216967347705296,
           -0.3339283946261493,
           -0.2801688573935724,
           -0.3118701226240338,
           -0.27656848655535987,
           -0.26652345191674687
          ],
          [
           0.5808460846084609,
           0.24858085808580857,
           -0.025970908743649403,
           0.3628202820282028,
           0.5660966096609661,
           0.08993335752699459,
           -0.3653723260079737,
           0.21903390339033904,
           -0.3180678067806781,
           -0.15519686123026663,
           0.5786378637863786,
           0.15158715871587158,
           0.6887728772877287,
           0.05431743174317432,
           0.15380738073807382,
           -0.10522143442851462,
           0.6491689168916892,
           0.35102310231023104,
           0.06098183589818761,
           -0.11211648871538502,
           0.6834923492349235,
           -0.55210284490335,
           0.5977163841539291,
           0.4116150418707623,
           0.5767614064274577,
           -0.23383138313831384,
           -0.19837983798379838,
           -0.469006900690069,
           -0.49923792379237925,
           -0.4332326229621148,
           1,
           -0.5807380738073807,
           0.7625908346422001,
           -0.407020702070207,
           0.07065833769529604,
           -0.5017581758175818,
           0.0721032103210321,
           0.19313531353135313,
           0.035547661409285135,
           0.6376597659765977,
           -0.4502130213021302,
           -0.43672367236723675,
           -0.4839003900390039,
           -0.45803780378037806,
           -0.1555835583558356,
           -0.2830723072307231,
           0.047956795679567954,
           0.5947674767476747,
           0.583030303030303,
           0.6248904890489049,
           0.6463846384638464,
           0.36403240324032404
          ],
          [
           -0.8412841284128413,
           -0.20742874287428742,
           -0.3479789736701083,
           -0.858985898589859,
           -0.8637263726372637,
           -0.15826254535579215,
           0.38389779033992655,
           -0.009756975697569756,
           0.43837983798379837,
           0.1590541553271479,
           -0.6174737473747375,
           -0.46293429342934295,
           -0.20745274527452745,
           -0.3761896189618962,
           -0.03387938793879388,
           0.37300424795348475,
           -0.7689528952895289,
           -0.1193999399939994,
           0.15330891301870725,
           0.031158457829794727,
           -0.16597659765976597,
           0.9717806229958713,
           -0.8310163635240375,
           -0.41144010365569417,
           -0.9813410781354643,
           0.22671467146714672,
           0.13404140414041404,
           0.9391899189918992,
           0.9683168316831683,
           0.24958370712295688,
           -0.5807380738073807,
           1,
           -0.7231306518621151,
           0.6027722772277228,
           -0.14297887153000585,
           0.8054245424542454,
           0.09767776777677768,
           0.2654185418541854,
           -0.051959351813470625,
           -0.5870867086708671,
           0.5391659165916591,
           0.3511911191119112,
           0.4476087608760876,
           0.216009600960096,
           -0.26273027302730273,
           -0.24344434443444343,
           -0.04926492649264926,
           -0.8218421842184218,
           -0.8157215721572157,
           -0.8536093609360936,
           -0.8383558355835583,
           -0.3948634863486349
          ],
          [
           0.6675227574243037,
           0.4597867374024417,
           0.18121538341850563,
           0.5640837928922011,
           0.5952991017154984,
           0.354769600493391,
           -0.22292802584044374,
           -0.04770505673687289,
           -0.24079952475395877,
           0.016027608734017075,
           0.7102532868611932,
           0.2199833182356931,
           0.4834292435085145,
           0.24395585932548017,
           0.06612700946419361,
           -0.10856820814914403,
           0.7406105047268334,
           0.4374583705951582,
           -0.019571340030586824,
           -0.06734621707021578,
           0.6444563123807138,
           -0.6982350014747202,
           0.7339750948151671,
           0.31878307530341204,
           0.730729649535088,
           -0.18400350437477614,
           -0.17871094336321364,
           -0.6765777172502082,
           -0.6807721618614125,
           -0.46604679910319974,
           0.7625908346422001,
           -0.7231306518621151,
           1,
           -0.38164045389498313,
           -0.034723305692406246,
           -0.507857832939434,
           -0.08033051503603993,
           0.0915457038462557,
           0.04072643918205414,
           0.5718366146914514,
           -0.6252242737842764,
           -0.49439840623996156,
           -0.5930668650983767,
           -0.38972931131401517,
           -0.12117084411165714,
           -0.19345450618113774,
           0.030549238219801243,
           0.6999561953693096,
           0.638743706844424,
           0.7464071191680686,
           0.6895030873396704,
           0.5006570696583965
          ],
          [
           -0.4922412241224122,
           0.20224422442244225,
           -0.1760057126524909,
           -0.4611701170117012,
           -0.6675427542754275,
           0.06795711601732862,
           0.6911492475254308,
           -0.22905490549054905,
           0.7872907290729073,
           0.5396384813931346,
           -0.21903390339033904,
           -0.3195319531953195,
           -0.21624962496249625,
           -0.02895889588958896,
           -0.06604260426042605,
           0.5250900005984366,
           -0.3646564656465647,
           0.19275127512751275,
           0.24877653062253924,
           0.20248605539330156,
           -0.05128112811281128,
           0.565878342967595,
           -0.5234467364398353,
           -0.3489142699534204,
           -0.5932691067206621,
           0.6545094509450945,
           -0.21164116411641165,
           0.5263966396639664,
           0.5894029402940294,
           0.1865952193084285,
           -0.407020702070207,
           0.6027722772277228,
           -0.38164045389498313,
           1,
           -0.46894333538955374,
           0.7998319831983198,
           0.246984698469847,
           0.16409240924092408,
           -0.016897740467344182,
           -0.3587038703870387,
           0.20816081608160816,
           0.0663906390639064,
           0.21954995499549956,
           -0.007644764476447644,
           -0.21114911491149116,
           -0.17675367536753675,
           -0.17453345334533454,
           -0.4870567056705671,
           -0.47913591359135915,
           -0.5095109510951095,
           -0.5091149114911491,
           -0.04483648364836484
          ],
          [
           0.09495520472954264,
           -0.43400121221335763,
           -0.25582525728805294,
           0.12977131303596368,
           0.18615996690625639,
           -0.23641988526086127,
           -0.7143684472325854,
           0.300911507606651,
           -0.7406553974569002,
           -0.6833182827549138,
           -0.171068186073673,
           -0.009871164799045604,
           0.038824581306884536,
           -0.034288045994982724,
           0.16991605012144398,
           -0.5330509009483159,
           -0.04395518671915444,
           -0.10882884182096722,
           -0.4326021983620069,
           -0.37087138148780907,
           -0.0026823165137832127,
           -0.039246053867751714,
           0.1982999412789943,
           0.4116224518825881,
           0.07474204379570877,
           -0.7523927824702334,
           0.38481940875258086,
           0.07798520226650253,
           -0.04296506988520762,
           -0.2629938222820865,
           0.07065833769529604,
           -0.14297887153000585,
           -0.034723305692406246,
           -0.46894333538955374,
           1,
           -0.5116863790756339,
           -0.1375662328377632,
           0.10910487439285542,
           0.009829189333015213,
           0.11361740687241913,
           0.11833396342685673,
           0.2571963492108776,
           -0.013129549288943332,
           0.03209778754413066,
           0.010999297918936531,
           0.18506783803487262,
           0.12516276922704755,
           0.10809675543465502,
           0.056730694231110726,
           0.12467071116411639,
           0.06171128194126747,
           -0.22235623807211846
          ],
          [
           -0.7138673867386739,
           0.08943294329432944,
           -0.20269070137314915,
           -0.7664806480648065,
           -0.8238103810381038,
           -0.02877555380634853,
           0.7828944042170067,
           -0.24831683168316832,
           0.8365076507650765,
           0.5869222250941168,
           -0.35777977797779775,
           -0.4151095109510951,
           -0.2467806780678068,
           -0.16682868286828684,
           -0.07645964596459646,
           0.6810583714545436,
           -0.5365856585658566,
           0.13810981098109812,
           0.39878847776987647,
           0.34263637205542896,
           -0.1002100210021002,
           0.7331928684242299,
           -0.7531588101232723,
           -0.4032325857320802,
           -0.7711034236561068,
           0.6035883588358836,
           -0.14103810381038104,
           0.7075307530753076,
           0.7565436543654366,
           0.3372167333250501,
           -0.5017581758175818,
           0.8054245424542454,
           -0.507857832939434,
           0.7998319831983198,
           -0.5116863790756339,
           1,
           0.12457245724572458,
           0.0589018901890189,
           -0.05044119544335767,
           -0.5981758175817582,
           0.40664866486648665,
           0.1809060906090609,
           0.4631023102310231,
           0.23001500150015,
           -0.1142994299429943,
           -0.16956495649564957,
           -0.13393339333933393,
           -0.7123672367236724,
           -0.7144794479447945,
           -0.6928652865286529,
           -0.7062346234623462,
           -0.10241824182418242
          ],
          [
           0.017413741374137415,
           0.16771677167716773,
           0.15427127839428895,
           -0.06856285628562857,
           -0.12963696369636965,
           -0.002994577966500087,
           0.033036177890314294,
           -0.06287428742874288,
           0.10825082508250825,
           -0.001512545244288872,
           0.09358535853585359,
           0.11551155115511551,
           0.1278007800780078,
           0.08639663966396639,
           -0.09441344134413442,
           -0.037895842284599135,
           -0.0859045904590459,
           -0.11485148514851486,
           -0.06009141445847453,
           -0.1319999266659729,
           0.07702370237023702,
           0.08901742578713215,
           -0.16055160366716303,
           -0.1091614462025241,
           -0.12664304423412606,
           0.13195319531953195,
           -0.015145514551455146,
           0.10067806780678068,
           0.10534653465346534,
           0.13923234093174258,
           0.0721032103210321,
           0.09767776777677768,
           -0.08033051503603993,
           0.246984698469847,
           -0.1375662328377632,
           0.12457245724572458,
           1,
           0.023342334233423342,
           -0.029829072394590886,
           -0.07705970597059705,
           -0.017581758175817582,
           -0.18485448544854485,
           0.03763576357635764,
           -0.24596459645964597,
           -0.21476147614761476,
           -0.1912871287128713,
           -0.2955655565556556,
           0.02159015901590159,
           0.051245124512451244,
           -0.0186018601860186,
           0.02535853585358536,
           0.043504350435043505
          ],
          [
           0.00888088808880888,
           0.04858085808580858,
           -0.5165858576532555,
           -0.1993879387938794,
           -0.11158715871587159,
           0.027455298991458713,
           -0.10644190503914706,
           0.028406840684068405,
           -0.015973597359735973,
           -0.08190219891062997,
           0.0204980498049805,
           -0.31377137713771375,
           0.5298649864986499,
           -0.018133813381338133,
           0.07089108910891088,
           0.010612076292790363,
           0.06906690669066906,
           0.3118151815181518,
           -0.34654239815860366,
           -0.4509882464538835,
           0.5465466546654666,
           0.25602945897182494,
           0.21749884272600836,
           0.16923814489384378,
           -0.2640391960383802,
           -0.007536753675367536,
           -0.07213921392139214,
           0.30384638463846386,
           0.2935253525352535,
           -0.6415680815152833,
           0.19313531353135313,
           0.2654185418541854,
           0.0915457038462557,
           0.16409240924092408,
           0.10910487439285542,
           0.0589018901890189,
           0.023342334233423342,
           1,
           -0.02636671577184316,
           0.35805580558055805,
           -0.3943354335433543,
           -0.41095709570957095,
           -0.5725532553255326,
           -0.575037503750375,
           -0.7688328832883289,
           -0.5442064206420643,
           0.07660366036603661,
           0.07915991599159916,
           0.06163816381638164,
           -0.04384038403840384,
           0.0044044404440444045,
           0.18227422742274227
          ],
          [
           0.05238539569599244,
           0.003624373310467289,
           0.0621731499147585,
           0.0521153678831265,
           0.014173459866430028,
           0.02944777188257584,
           -0.028571428672266887,
           -0.04535267132535062,
           -0.05765993897397381,
           -0.04455036186390793,
           0.005490565528274122,
           0.04091821457628551,
           -0.010117042055377234,
           0.0023942466074113383,
           -0.003486359095002475,
           -0.01087570520752165,
           0.04664880482710713,
           -0.041044227555622946,
           -0.04734890375398134,
           -0.024225365812922544,
           0.00872489866460172,
           -0.01608658728654358,
           -0.009464923599091794,
           0.007216223022427719,
           0.031053291648914783,
           -0.05493565837305966,
           -0.0015121557520492664,
           -0.013393379518150644,
           -0.028808967323764,
           0.02276641323980342,
           0.035547661409285135,
           -0.051959351813470625,
           0.04072643918205414,
           -0.016897740467344182,
           0.009829189333015213,
           -0.05044119544335767,
           -0.029829072394590886,
           -0.02636671577184316,
           1,
           0.04016813731832456,
           0.056081776423223983,
           0.007476770107354706,
           0.007278749711253016,
           0.07772000516088134,
           0.07284750329316704,
           0.0053585519308729955,
           -0.056489818451554735,
           0.06340253046092281,
           0.06151233577086123,
           0.031263220111812214,
           0.06240042724428699,
           -0.08936120420443522
          ],
          [
           0.6168736873687368,
           0.21236123612361235,
           -0.03762421391466769,
           0.5675727572757275,
           0.671071107110711,
           0.0840162154929884,
           -0.38365174432839105,
           0.24694869486948695,
           -0.36036003600360034,
           -0.21620892722881052,
           0.48926492649264924,
           0.20986498649864987,
           0.5525112511251125,
           0.19415541554155416,
           0.10177017701770177,
           -0.3144920751035816,
           0.6785958595859586,
           0.2031083108310831,
           -0.29355028977351716,
           -0.3132284598830069,
           0.4844764476447645,
           -0.5711356586539493,
           0.7650993602485141,
           0.2982113439528356,
           0.5676044632622704,
           -0.1874107410741074,
           -0.14527452745274527,
           -0.5543114311431143,
           -0.5670807080708071,
           -0.5007095730882815,
           0.6376597659765977,
           -0.5870867086708671,
           0.5718366146914514,
           -0.3587038703870387,
           0.11361740687241913,
           -0.5981758175817582,
           -0.07705970597059705,
           0.35805580558055805,
           0.04016813731832456,
           1,
           -0.7495949594959496,
           -0.5550675067506751,
           -0.7961596159615961,
           -0.6150735073507351,
           -0.24705670567056706,
           -0.16843684368436843,
           0.14292229222922292,
           0.6468286828682869,
           0.6454485448544854,
           0.6030363036303631,
           0.6395439543954395,
           0.38094209420942093
          ],
          [
           -0.6743114311431143,
           -0.468994899489949,
           -0.07769070136414714,
           -0.5388538853885388,
           -0.5328172817281728,
           -0.33361038824790845,
           0.11475345933126065,
           0.028022802280228024,
           0.1031983198319832,
           -0.06202650397362921,
           -0.669030903090309,
           -0.3041944194419442,
           -0.5466666666666666,
           -0.4466366636663666,
           0.09521752175217522,
           0.17291296023769873,
           -0.700906090609061,
           -0.28723672367236724,
           0.3469033798233522,
           0.2992742894815846,
           -0.5186198619861986,
           0.5553879109766416,
           -0.7645827018296335,
           -0.2130893241375928,
           -0.5424198692489738,
           -0.035427542754275426,
           0.17886588658865887,
           0.5915511551155116,
           0.5641644164416442,
           0.4786933054126118,
           -0.4502130213021302,
           0.5391659165916591,
           -0.6252242737842764,
           0.20816081608160816,
           0.11833396342685673,
           0.40664866486648665,
           -0.017581758175817582,
           -0.3943354335433543,
           0.056081776423223983,
           -0.7495949594959496,
           1,
           0.7718931893189319,
           0.8746594659465946,
           0.6683708370837084,
           0.47037503750375037,
           0.28152415241524154,
           -0.043192319231923196,
           -0.703054305430543,
           -0.6873567356735674,
           -0.6535013501350135,
           -0.6469606960696069,
           -0.6493009300930093
          ],
          [
           -0.6063246324632463,
           -0.5371257125712571,
           -0.17276534973161045,
           -0.28924092409240926,
           -0.32081608160816083,
           -0.31537886948592997,
           0.033000171156918855,
           0.3172637263726373,
           -0.050777077707770776,
           -0.12811683432649237,
           -0.6622982298229823,
           -0.3468706870687069,
           -0.6604860486048605,
           -0.4409120912091209,
           0.10168616861686168,
           0.07421010686337622,
           -0.5349294929492949,
           -0.23554755475547554,
           0.3277713515916793,
           0.32961708087604435,
           -0.533033303330333,
           0.3940143337409503,
           -0.4793298481165261,
           -0.20533372993623825,
           -0.3477298161726307,
           -0.1651005100510051,
           0.24336033603360335,
           0.3807260726072607,
           0.3903510351035103,
           0.28202904899331555,
           -0.43672367236723675,
           0.3511911191119112,
           -0.49439840623996156,
           0.0663906390639064,
           0.2571963492108776,
           0.1809060906090609,
           -0.18485448544854485,
           -0.41095709570957095,
           0.007476770107354706,
           -0.5550675067506751,
           0.7718931893189319,
           1,
           0.6616981698169817,
           0.7144554455445544,
           0.5094389438943895,
           0.481020102010201,
           0.03648364836483648,
           -0.6265586558655866,
           -0.6415961596159616,
           -0.5313411341134113,
           -0.5877347734773477,
           -0.588994899489949
          ],
          [
           -0.5717251725172517,
           -0.3442064206420642,
           0.05673635447578676,
           -0.492973297329733,
           -0.48902490249024905,
           -0.2693679891870198,
           0.2821307595199538,
           -0.0924092409240924,
           0.2308790879087909,
           0.08890607307394349,
           -0.5325052505250525,
           -0.16607260726072606,
           -0.5792979297929793,
           -0.2774917491749175,
           -0.05134113411341134,
           0.23246711369379053,
           -0.6142334233423342,
           -0.26936693669366935,
           0.3743620517885582,
           0.40810928938404517,
           -0.5722172217221723,
           0.4356009712875553,
           -0.7511352313159898,
           -0.22539331193071918,
           -0.4386991860181342,
           0.10216621662166217,
           0.1506030603060306,
           0.4641104110411041,
           0.44162016201620163,
           0.6024080480316584,
           -0.4839003900390039,
           0.4476087608760876,
           -0.5930668650983767,
           0.21954995499549956,
           -0.013129549288943332,
           0.4631023102310231,
           0.03763576357635764,
           -0.5725532553255326,
           0.007278749711253016,
           -0.7961596159615961,
           0.8746594659465946,
           0.6616981698169817,
           1,
           0.7186198619861986,
           0.5589558955895589,
           0.354971497149715,
           -0.11451545154515451,
           -0.6161656165616561,
           -0.604044404440444,
           -0.551059105910591,
           -0.5655085508550856,
           -0.46027002700270025
          ],
          [
           -0.45275727572757274,
           -0.37454545454545457,
           0.020018242044550466,
           -0.2549054905490549,
           -0.28026402640264025,
           -0.20241306659735758,
           0.21167158338731437,
           0.05098109810981098,
           0.10265826582658266,
           0.0926358031140775,
           -0.48315631563156314,
           -0.16166816681668167,
           -0.6644224422442244,
           -0.24315631563156315,
           0.04847284728472847,
           0.13744220376869343,
           -0.46060606060606063,
           -0.24822082208220822,
           0.3410795422987423,
           0.4353776457530117,
           -0.5753015301530153,
           0.22934964058652846,
           -0.4425035841485329,
           -0.17180390538150997,
           -0.1862171803704162,
           -0.010765076507650765,
           0.16675667566756674,
           0.21314131413141313,
           0.20634863486348634,
           0.42673995421720484,
           -0.45803780378037806,
           0.216009600960096,
           -0.38972931131401517,
           -0.007644764476447644,
           0.03209778754413066,
           0.23001500150015,
           -0.24596459645964597,
           -0.575037503750375,
           0.07772000516088134,
           -0.6150735073507351,
           0.6683708370837084,
           0.7144554455445544,
           0.7186198619861986,
           1,
           0.6172937293729372,
           0.5155835583558356,
           0.08722472247224722,
           -0.4871167116711671,
           -0.5015061506150615,
           -0.39728772877287727,
           -0.46035403540354036,
           -0.48415241524152414
          ],
          [
           -0.06048604860486049,
           -0.2983978397839784,
           0.26117325142296594,
           0.17939393939393938,
           0.22945094509450945,
           -0.20966846692100208,
           0.08104515575089818,
           0.017785778577857785,
           -0.011725172517251725,
           0.05425724546983215,
           -0.21996999699969996,
           0.09459345934593459,
           -0.5348214821482148,
           -0.03708370837083708,
           0.04831683168316832,
           -0.012491362743237752,
           0.000528052805280528,
           -0.21866186618661868,
           0.38323016801921417,
           0.5390739471128622,
           -0.5962676267626763,
           -0.28893456831369063,
           -0.09805028660535066,
           -0.0024054004571870294,
           0.2887677430788367,
           0.01881788178817882,
           0.03111911191119112,
           -0.27404740474047407,
           -0.2817761776177618,
           0.4292002076233168,
           -0.1555835583558356,
           -0.26273027302730273,
           -0.12117084411165714,
           -0.21114911491149116,
           0.010999297918936531,
           -0.1142994299429943,
           -0.21476147614761476,
           -0.7688328832883289,
           0.07284750329316704,
           -0.24705670567056706,
           0.47037503750375037,
           0.5094389438943895,
           0.5589558955895589,
           0.6172937293729372,
           1,
           0.7557875787578758,
           0.0846084608460846,
           -0.13628562856285628,
           -0.11198319831983199,
           -0.028754875487548754,
           -0.04592859285928593,
           -0.33282928292829284
          ],
          [
           -0.03242724272427243,
           -0.4398199819981998,
           0.061986942542028266,
           0.2584578457845785,
           0.24081608160816081,
           -0.3080514552632915,
           0.03952339102372569,
           0.24825682568256827,
           -0.06137413741374138,
           -0.03582120203040754,
           -0.33713771377137713,
           -0.01785778577857786,
           -0.5681608160816082,
           0.033435343534353436,
           0.13098109810981098,
           -0.09304018496092825,
           -0.03177917791779178,
           -0.2034923492349235,
           0.16306745068907627,
           0.44507780197630264,
           -0.6331113111311131,
           -0.24287104514234198,
           0.060664309350236714,
           -0.011370983979429594,
           0.2546842324770913,
           -0.034323432343234324,
           0.019741974197419743,
           -0.2712991299129913,
           -0.2721392139213921,
           0.21418006054720026,
           -0.2830723072307231,
           -0.24344434443444343,
           -0.19345450618113774,
           -0.17675367536753675,
           0.18506783803487262,
           -0.16956495649564957,
           -0.1912871287128713,
           -0.5442064206420643,
           0.0053585519308729955,
           -0.16843684368436843,
           0.28152415241524154,
           0.481020102010201,
           0.354971497149715,
           0.5155835583558356,
           0.7557875787578758,
           1,
           -0.027302730273027303,
           -0.08981698169816982,
           -0.09322532253225323,
           0.017593759375937594,
           -0.04295229522952295,
           -0.2834083408340834
          ],
          [
           -0.03561956195619562,
           -0.07998799879987999,
           -0.08094906630125473,
           -0.08525652565256525,
           0.01374137413741374,
           0.029681728702022906,
           -0.1392680436513213,
           0.10018601860186019,
           -0.1541194119411941,
           -0.09578238318050977,
           -0.04662466246624662,
           -0.05401740174017402,
           0.04106810681068107,
           -0.06967896789678968,
           0.10936693669366937,
           -0.18472207377450345,
           0.07236723672367237,
           -0.08886888688868887,
           -0.038456580017878376,
           -0.07273862296029204,
           0.023054305430543053,
           -0.02706700849338244,
           0.10346084838085083,
           0.06453762317555745,
           0.050483199769803484,
           -0.1556915691569157,
           0.08878487848784879,
           -0.021554155415541554,
           -0.012961296129612962,
           -0.15216967347705296,
           0.047956795679567954,
           -0.04926492649264926,
           0.030549238219801243,
           -0.17453345334533454,
           0.12516276922704755,
           -0.13393339333933393,
           -0.2955655565556556,
           0.07660366036603661,
           -0.056489818451554735,
           0.14292229222922292,
           -0.043192319231923196,
           0.03648364836483648,
           -0.11451545154515451,
           0.08722472247224722,
           0.0846084608460846,
           -0.027302730273027303,
           1,
           -0.03615961596159616,
           -0.03425142514251425,
           -0.028622862286228623,
           -0.030483048304830482,
           -0.13342934293429343
          ],
          [
           0.985958595859586,
           0.4031563156315632,
           0.2845818731902895,
           0.7241884188418842,
           0.7415901590159016,
           0.33009971067195143,
           -0.3859201685323036,
           -0.1328052805280528,
           -0.41116111611161116,
           -0.2390125209921054,
           0.7375937593759376,
           0.5115271527152715,
           0.525928592859286,
           0.49904590459045906,
           -0.034995499549955,
           -0.32139519661958144,
           0.7935553555355536,
           0.21172517251725173,
           -0.3966225877813852,
           -0.32465406433489097,
           0.4224062406240624,
           -0.7945685504012896,
           0.8027867215813085,
           0.3646878656787317,
           0.7856369206063581,
           -0.1853825382538254,
           -0.11619561956195619,
           -0.7677887788778878,
           -0.7846024602460246,
           -0.3339283946261493,
           0.5947674767476747,
           -0.8218421842184218,
           0.6999561953693096,
           -0.4870567056705671,
           0.10809675543465502,
           -0.7123672367236724,
           0.02159015901590159,
           0.07915991599159916,
           0.06340253046092281,
           0.6468286828682869,
           -0.703054305430543,
           -0.6265586558655866,
           -0.6161656165616561,
           -0.4871167116711671,
           -0.13628562856285628,
           -0.08981698169816982,
           -0.03615961596159616,
           1,
           0.9822262226222622,
           0.9552115211521152,
           0.9695649564956496,
           0.5748214821482148
          ],
          [
           0.9867386738673868,
           0.3846024602460246,
           0.32377826318879177,
           0.7244644464446445,
           0.7583678367836784,
           0.29101416699296334,
           -0.3722736165754327,
           -0.15343534353435342,
           -0.38664266426642663,
           -0.2250412195388347,
           0.7267326732673267,
           0.5316651665166516,
           0.5112031203120312,
           0.4930933093309331,
           -0.07516351635163517,
           -0.32858982461469355,
           0.7891629162916292,
           0.16276027602760276,
           -0.3849388145656906,
           -0.3137617802445721,
           0.36136813681368135,
           -0.8020340596728215,
           0.7794796862406923,
           0.34306841793322645,
           0.7864290021907648,
           -0.11623162316231624,
           -0.13720972097209722,
           -0.7730573057305731,
           -0.783990399039904,
           -0.2801688573935724,
           0.583030303030303,
           -0.8157215721572157,
           0.638743706844424,
           -0.47913591359135915,
           0.056730694231110726,
           -0.7144794479447945,
           0.051245124512451244,
           0.06163816381638164,
           0.06151233577086123,
           0.6454485448544854,
           -0.6873567356735674,
           -0.6415961596159616,
           -0.604044404440444,
           -0.5015061506150615,
           -0.11198319831983199,
           -0.09322532253225323,
           -0.03425142514251425,
           0.9822262226222622,
           1,
           0.9180318031803181,
           0.9659645964596459,
           0.5589438943894389
          ],
          [
           0.9578877887788779,
           0.3640684068406841,
           0.2661838126061793,
           0.7202400240024003,
           0.7415301530153016,
           0.33295626199871303,
           -0.3495773722918416,
           -0.062346234623462345,
           -0.38976297629762974,
           -0.2043029485990668,
           0.7362976297629763,
           0.5117311731173118,
           0.4818721872187219,
           0.504014401440144,
           -0.028034803480348036,
           -0.29420446461046806,
           0.7956795679567957,
           0.22353435343534353,
           -0.27141008100227304,
           -0.18897736435271595,
           0.4040804080408041,
           -0.8240070983066984,
           0.796572468931994,
           0.36798253539584846,
           0.8245089244229261,
           -0.2220942094209421,
           -0.126000600060006,
           -0.805952595259526,
           -0.8177977797779779,
           -0.3118701226240338,
           0.6248904890489049,
           -0.8536093609360936,
           0.7464071191680686,
           -0.5095109510951095,
           0.12467071116411639,
           -0.6928652865286529,
           -0.0186018601860186,
           -0.04384038403840384,
           0.031263220111812214,
           0.6030363036303631,
           -0.6535013501350135,
           -0.5313411341134113,
           -0.551059105910591,
           -0.39728772877287727,
           -0.028754875487548754,
           0.017593759375937594,
           -0.028622862286228623,
           0.9552115211521152,
           0.9180318031803181,
           1,
           0.9551515151515152,
           0.5503630363036304
          ],
          [
           0.9745574557455745,
           0.34072607260726073,
           0.31190893382304813,
           0.7118031803180318,
           0.762016201620162,
           0.2848869844202247,
           -0.37072532703942884,
           -0.08228022802280228,
           -0.3861746174617462,
           -0.21996902966340817,
           0.7034623462346234,
           0.5124272427242724,
           0.5104230423042304,
           0.4563336333633363,
           0.018841884188418843,
           -0.29359044032467835,
           0.8097809780978098,
           0.19307530753075308,
           -0.27560950103551446,
           -0.21904408403060083,
           0.36562856285628564,
           -0.8211576211050035,
           0.7740117179742054,
           0.3577049152605948,
           0.8054149577442723,
           -0.17066906690669068,
           -0.17764176417641764,
           -0.7952955295529553,
           -0.805928592859286,
           -0.27656848655535987,
           0.6463846384638464,
           -0.8383558355835583,
           0.6895030873396704,
           -0.5091149114911491,
           0.06171128194126747,
           -0.7062346234623462,
           0.02535853585358536,
           0.0044044404440444045,
           0.06240042724428699,
           0.6395439543954395,
           -0.6469606960696069,
           -0.5877347734773477,
           -0.5655085508550856,
           -0.46035403540354036,
           -0.04592859285928593,
           -0.04295229522952295,
           -0.030483048304830482,
           0.9695649564956496,
           0.9659645964596459,
           0.9551515151515152,
           1,
           0.5399099909990999
          ],
          [
           0.5705370537053706,
           0.5512391239123913,
           0.04405693437982299,
           0.29176117611761176,
           0.2754035403540354,
           0.29827556847485737,
           0.16443074917249983,
           -0.3195079507950795,
           0.1498109810981098,
           0.24597387380316985,
           0.7007860786078608,
           0.276987698769877,
           0.46655865586558654,
           0.5131953195319532,
           -0.24092409240924093,
           0.15714059903806935,
           0.6184218421842185,
           0.5882148214821482,
           -0.20217379770350202,
           -0.11053535070227422,
           0.4872007200720072,
           -0.4192663886026799,
           0.45585059330294975,
           0.142210190665815,
           0.3984350388107906,
           0.2655745574557456,
           -0.14737473747374738,
           -0.3993999399939994,
           -0.3734053405340534,
           -0.26652345191674687,
           0.36403240324032404,
           -0.3948634863486349,
           0.5006570696583965,
           -0.04483648364836484,
           -0.22235623807211846,
           -0.10241824182418242,
           0.043504350435043505,
           0.18227422742274227,
           -0.08936120420443522,
           0.38094209420942093,
           -0.6493009300930093,
           -0.588994899489949,
           -0.46027002700270025,
           -0.48415241524152414,
           -0.33282928292829284,
           -0.2834083408340834,
           -0.13342934293429343,
           0.5748214821482148,
           0.5589438943894389,
           0.5503630363036304,
           0.5399099909990999,
           1
          ]
         ]
        }
       ],
       "layout": {
        "template": {
         "data": {
          "bar": [
           {
            "error_x": {
             "color": "#2a3f5f"
            },
            "error_y": {
             "color": "#2a3f5f"
            },
            "marker": {
             "line": {
              "color": "#E5ECF6",
              "width": 0.5
             },
             "pattern": {
              "fillmode": "overlay",
              "size": 10,
              "solidity": 0.2
             }
            },
            "type": "bar"
           }
          ],
          "barpolar": [
           {
            "marker": {
             "line": {
              "color": "#E5ECF6",
              "width": 0.5
             },
             "pattern": {
              "fillmode": "overlay",
              "size": 10,
              "solidity": 0.2
             }
            },
            "type": "barpolar"
           }
          ],
          "carpet": [
           {
            "aaxis": {
             "endlinecolor": "#2a3f5f",
             "gridcolor": "white",
             "linecolor": "white",
             "minorgridcolor": "white",
             "startlinecolor": "#2a3f5f"
            },
            "baxis": {
             "endlinecolor": "#2a3f5f",
             "gridcolor": "white",
             "linecolor": "white",
             "minorgridcolor": "white",
             "startlinecolor": "#2a3f5f"
            },
            "type": "carpet"
           }
          ],
          "choropleth": [
           {
            "colorbar": {
             "outlinewidth": 0,
             "ticks": ""
            },
            "type": "choropleth"
           }
          ],
          "contour": [
           {
            "colorbar": {
             "outlinewidth": 0,
             "ticks": ""
            },
            "colorscale": [
             [
              0,
              "#0d0887"
             ],
             [
              0.1111111111111111,
              "#46039f"
             ],
             [
              0.2222222222222222,
              "#7201a8"
             ],
             [
              0.3333333333333333,
              "#9c179e"
             ],
             [
              0.4444444444444444,
              "#bd3786"
             ],
             [
              0.5555555555555556,
              "#d8576b"
             ],
             [
              0.6666666666666666,
              "#ed7953"
             ],
             [
              0.7777777777777778,
              "#fb9f3a"
             ],
             [
              0.8888888888888888,
              "#fdca26"
             ],
             [
              1,
              "#f0f921"
             ]
            ],
            "type": "contour"
           }
          ],
          "contourcarpet": [
           {
            "colorbar": {
             "outlinewidth": 0,
             "ticks": ""
            },
            "type": "contourcarpet"
           }
          ],
          "heatmap": [
           {
            "colorbar": {
             "outlinewidth": 0,
             "ticks": ""
            },
            "colorscale": [
             [
              0,
              "#0d0887"
             ],
             [
              0.1111111111111111,
              "#46039f"
             ],
             [
              0.2222222222222222,
              "#7201a8"
             ],
             [
              0.3333333333333333,
              "#9c179e"
             ],
             [
              0.4444444444444444,
              "#bd3786"
             ],
             [
              0.5555555555555556,
              "#d8576b"
             ],
             [
              0.6666666666666666,
              "#ed7953"
             ],
             [
              0.7777777777777778,
              "#fb9f3a"
             ],
             [
              0.8888888888888888,
              "#fdca26"
             ],
             [
              1,
              "#f0f921"
             ]
            ],
            "type": "heatmap"
           }
          ],
          "heatmapgl": [
           {
            "colorbar": {
             "outlinewidth": 0,
             "ticks": ""
            },
            "colorscale": [
             [
              0,
              "#0d0887"
             ],
             [
              0.1111111111111111,
              "#46039f"
             ],
             [
              0.2222222222222222,
              "#7201a8"
             ],
             [
              0.3333333333333333,
              "#9c179e"
             ],
             [
              0.4444444444444444,
              "#bd3786"
             ],
             [
              0.5555555555555556,
              "#d8576b"
             ],
             [
              0.6666666666666666,
              "#ed7953"
             ],
             [
              0.7777777777777778,
              "#fb9f3a"
             ],
             [
              0.8888888888888888,
              "#fdca26"
             ],
             [
              1,
              "#f0f921"
             ]
            ],
            "type": "heatmapgl"
           }
          ],
          "histogram": [
           {
            "marker": {
             "pattern": {
              "fillmode": "overlay",
              "size": 10,
              "solidity": 0.2
             }
            },
            "type": "histogram"
           }
          ],
          "histogram2d": [
           {
            "colorbar": {
             "outlinewidth": 0,
             "ticks": ""
            },
            "colorscale": [
             [
              0,
              "#0d0887"
             ],
             [
              0.1111111111111111,
              "#46039f"
             ],
             [
              0.2222222222222222,
              "#7201a8"
             ],
             [
              0.3333333333333333,
              "#9c179e"
             ],
             [
              0.4444444444444444,
              "#bd3786"
             ],
             [
              0.5555555555555556,
              "#d8576b"
             ],
             [
              0.6666666666666666,
              "#ed7953"
             ],
             [
              0.7777777777777778,
              "#fb9f3a"
             ],
             [
              0.8888888888888888,
              "#fdca26"
             ],
             [
              1,
              "#f0f921"
             ]
            ],
            "type": "histogram2d"
           }
          ],
          "histogram2dcontour": [
           {
            "colorbar": {
             "outlinewidth": 0,
             "ticks": ""
            },
            "colorscale": [
             [
              0,
              "#0d0887"
             ],
             [
              0.1111111111111111,
              "#46039f"
             ],
             [
              0.2222222222222222,
              "#7201a8"
             ],
             [
              0.3333333333333333,
              "#9c179e"
             ],
             [
              0.4444444444444444,
              "#bd3786"
             ],
             [
              0.5555555555555556,
              "#d8576b"
             ],
             [
              0.6666666666666666,
              "#ed7953"
             ],
             [
              0.7777777777777778,
              "#fb9f3a"
             ],
             [
              0.8888888888888888,
              "#fdca26"
             ],
             [
              1,
              "#f0f921"
             ]
            ],
            "type": "histogram2dcontour"
           }
          ],
          "mesh3d": [
           {
            "colorbar": {
             "outlinewidth": 0,
             "ticks": ""
            },
            "type": "mesh3d"
           }
          ],
          "parcoords": [
           {
            "line": {
             "colorbar": {
              "outlinewidth": 0,
              "ticks": ""
             }
            },
            "type": "parcoords"
           }
          ],
          "pie": [
           {
            "automargin": true,
            "type": "pie"
           }
          ],
          "scatter": [
           {
            "fillpattern": {
             "fillmode": "overlay",
             "size": 10,
             "solidity": 0.2
            },
            "type": "scatter"
           }
          ],
          "scatter3d": [
           {
            "line": {
             "colorbar": {
              "outlinewidth": 0,
              "ticks": ""
             }
            },
            "marker": {
             "colorbar": {
              "outlinewidth": 0,
              "ticks": ""
             }
            },
            "type": "scatter3d"
           }
          ],
          "scattercarpet": [
           {
            "marker": {
             "colorbar": {
              "outlinewidth": 0,
              "ticks": ""
             }
            },
            "type": "scattercarpet"
           }
          ],
          "scattergeo": [
           {
            "marker": {
             "colorbar": {
              "outlinewidth": 0,
              "ticks": ""
             }
            },
            "type": "scattergeo"
           }
          ],
          "scattergl": [
           {
            "marker": {
             "colorbar": {
              "outlinewidth": 0,
              "ticks": ""
             }
            },
            "type": "scattergl"
           }
          ],
          "scattermapbox": [
           {
            "marker": {
             "colorbar": {
              "outlinewidth": 0,
              "ticks": ""
             }
            },
            "type": "scattermapbox"
           }
          ],
          "scatterpolar": [
           {
            "marker": {
             "colorbar": {
              "outlinewidth": 0,
              "ticks": ""
             }
            },
            "type": "scatterpolar"
           }
          ],
          "scatterpolargl": [
           {
            "marker": {
             "colorbar": {
              "outlinewidth": 0,
              "ticks": ""
             }
            },
            "type": "scatterpolargl"
           }
          ],
          "scatterternary": [
           {
            "marker": {
             "colorbar": {
              "outlinewidth": 0,
              "ticks": ""
             }
            },
            "type": "scatterternary"
           }
          ],
          "surface": [
           {
            "colorbar": {
             "outlinewidth": 0,
             "ticks": ""
            },
            "colorscale": [
             [
              0,
              "#0d0887"
             ],
             [
              0.1111111111111111,
              "#46039f"
             ],
             [
              0.2222222222222222,
              "#7201a8"
             ],
             [
              0.3333333333333333,
              "#9c179e"
             ],
             [
              0.4444444444444444,
              "#bd3786"
             ],
             [
              0.5555555555555556,
              "#d8576b"
             ],
             [
              0.6666666666666666,
              "#ed7953"
             ],
             [
              0.7777777777777778,
              "#fb9f3a"
             ],
             [
              0.8888888888888888,
              "#fdca26"
             ],
             [
              1,
              "#f0f921"
             ]
            ],
            "type": "surface"
           }
          ],
          "table": [
           {
            "cells": {
             "fill": {
              "color": "#EBF0F8"
             },
             "line": {
              "color": "white"
             }
            },
            "header": {
             "fill": {
              "color": "#C8D4E3"
             },
             "line": {
              "color": "white"
             }
            },
            "type": "table"
           }
          ]
         },
         "layout": {
          "annotationdefaults": {
           "arrowcolor": "#2a3f5f",
           "arrowhead": 0,
           "arrowwidth": 1
          },
          "autotypenumbers": "strict",
          "coloraxis": {
           "colorbar": {
            "outlinewidth": 0,
            "ticks": ""
           }
          },
          "colorscale": {
           "diverging": [
            [
             0,
             "#8e0152"
            ],
            [
             0.1,
             "#c51b7d"
            ],
            [
             0.2,
             "#de77ae"
            ],
            [
             0.3,
             "#f1b6da"
            ],
            [
             0.4,
             "#fde0ef"
            ],
            [
             0.5,
             "#f7f7f7"
            ],
            [
             0.6,
             "#e6f5d0"
            ],
            [
             0.7,
             "#b8e186"
            ],
            [
             0.8,
             "#7fbc41"
            ],
            [
             0.9,
             "#4d9221"
            ],
            [
             1,
             "#276419"
            ]
           ],
           "sequential": [
            [
             0,
             "#0d0887"
            ],
            [
             0.1111111111111111,
             "#46039f"
            ],
            [
             0.2222222222222222,
             "#7201a8"
            ],
            [
             0.3333333333333333,
             "#9c179e"
            ],
            [
             0.4444444444444444,
             "#bd3786"
            ],
            [
             0.5555555555555556,
             "#d8576b"
            ],
            [
             0.6666666666666666,
             "#ed7953"
            ],
            [
             0.7777777777777778,
             "#fb9f3a"
            ],
            [
             0.8888888888888888,
             "#fdca26"
            ],
            [
             1,
             "#f0f921"
            ]
           ],
           "sequentialminus": [
            [
             0,
             "#0d0887"
            ],
            [
             0.1111111111111111,
             "#46039f"
            ],
            [
             0.2222222222222222,
             "#7201a8"
            ],
            [
             0.3333333333333333,
             "#9c179e"
            ],
            [
             0.4444444444444444,
             "#bd3786"
            ],
            [
             0.5555555555555556,
             "#d8576b"
            ],
            [
             0.6666666666666666,
             "#ed7953"
            ],
            [
             0.7777777777777778,
             "#fb9f3a"
            ],
            [
             0.8888888888888888,
             "#fdca26"
            ],
            [
             1,
             "#f0f921"
            ]
           ]
          },
          "colorway": [
           "#636efa",
           "#EF553B",
           "#00cc96",
           "#ab63fa",
           "#FFA15A",
           "#19d3f3",
           "#FF6692",
           "#B6E880",
           "#FF97FF",
           "#FECB52"
          ],
          "font": {
           "color": "#2a3f5f"
          },
          "geo": {
           "bgcolor": "white",
           "lakecolor": "white",
           "landcolor": "#E5ECF6",
           "showlakes": true,
           "showland": true,
           "subunitcolor": "white"
          },
          "hoverlabel": {
           "align": "left"
          },
          "hovermode": "closest",
          "mapbox": {
           "style": "light"
          },
          "paper_bgcolor": "white",
          "plot_bgcolor": "#E5ECF6",
          "polar": {
           "angularaxis": {
            "gridcolor": "white",
            "linecolor": "white",
            "ticks": ""
           },
           "bgcolor": "#E5ECF6",
           "radialaxis": {
            "gridcolor": "white",
            "linecolor": "white",
            "ticks": ""
           }
          },
          "scene": {
           "xaxis": {
            "backgroundcolor": "#E5ECF6",
            "gridcolor": "white",
            "gridwidth": 2,
            "linecolor": "white",
            "showbackground": true,
            "ticks": "",
            "zerolinecolor": "white"
           },
           "yaxis": {
            "backgroundcolor": "#E5ECF6",
            "gridcolor": "white",
            "gridwidth": 2,
            "linecolor": "white",
            "showbackground": true,
            "ticks": "",
            "zerolinecolor": "white"
           },
           "zaxis": {
            "backgroundcolor": "#E5ECF6",
            "gridcolor": "white",
            "gridwidth": 2,
            "linecolor": "white",
            "showbackground": true,
            "ticks": "",
            "zerolinecolor": "white"
           }
          },
          "shapedefaults": {
           "line": {
            "color": "#2a3f5f"
           }
          },
          "ternary": {
           "aaxis": {
            "gridcolor": "white",
            "linecolor": "white",
            "ticks": ""
           },
           "baxis": {
            "gridcolor": "white",
            "linecolor": "white",
            "ticks": ""
           },
           "bgcolor": "#E5ECF6",
           "caxis": {
            "gridcolor": "white",
            "linecolor": "white",
            "ticks": ""
           }
          },
          "title": {
           "x": 0.05
          },
          "xaxis": {
           "automargin": true,
           "gridcolor": "white",
           "linecolor": "white",
           "ticks": "",
           "title": {
            "standoff": 15
           },
           "zerolinecolor": "white",
           "zerolinewidth": 2
          },
          "yaxis": {
           "automargin": true,
           "gridcolor": "white",
           "linecolor": "white",
           "ticks": "",
           "title": {
            "standoff": 15
           },
           "zerolinecolor": "white",
           "zerolinewidth": 2
          }
         }
        },
        "title": {
         "text": "Spearman Correlation",
         "x": 0.5
        }
       }
      }
     },
     "metadata": {},
     "output_type": "display_data"
    },
    {
     "data": {
      "application/vnd.plotly.v1+json": {
       "config": {
        "plotlyServerURL": "https://plot.ly"
       },
       "data": [
        {
         "colorscale": [
          [
           0,
           "rgb(165,0,38)"
          ],
          [
           0.1,
           "rgb(215,48,39)"
          ],
          [
           0.2,
           "rgb(244,109,67)"
          ],
          [
           0.3,
           "rgb(253,174,97)"
          ],
          [
           0.4,
           "rgb(254,224,144)"
          ],
          [
           0.5,
           "rgb(255,255,191)"
          ],
          [
           0.6,
           "rgb(224,243,248)"
          ],
          [
           0.7,
           "rgb(171,217,233)"
          ],
          [
           0.8,
           "rgb(116,173,209)"
          ],
          [
           0.9,
           "rgb(69,117,180)"
          ],
          [
           1,
           "rgb(49,54,149)"
          ]
         ],
         "type": "heatmap",
         "x": [
          "OXO-5FI661A Augusta",
          "OXO-5FI696 Augusta",
          "OXO-5FIC132 Augusta",
          "OXO-5FIC600 Augusta",
          "OXO-5FIC601 Augusta",
          "OXO-5FIC602 Augusta",
          "OXO-5FIC603 Augusta",
          "OXO-5FIC606C Augusta",
          "OXO-5FIC607 Augusta",
          "OXO-5FIC609A Augusta",
          "OXO-5FIC609B Augusta",
          "OXO-5FIC611A Augusta",
          "OXO-5FIC612A Augusta",
          "OXO-5FIC612B Augusta",
          "OXO-5FIC618A Augusta",
          "OXO-5FIC618B Augusta",
          "OXO-5FIC618C Augusta",
          "OXO-5FIC618D Augusta",
          "OXO-5FIC622A Augusta",
          "OXO-5FIC622B Augusta",
          "OXO-5FIC622C Augusta",
          "OXO-5FIC636A Augusta",
          "OXO-5FIC636B Augusta",
          "OXO-5FIC636C Augusta",
          "OXO-5FQI691B Augusta",
          "OXO-5LI633B Augusta",
          "OXO-5LI650F Augusta",
          "OXO-5LI651E Augusta",
          "OXO-5LI651F Augusta",
          "OXO-5LI652E Augusta",
          "OXO-5LI652F Augusta",
          "OXO-5LI653E Augusta",
          "OXO-5LI653F Augusta",
          "OXO-5LI654E Augusta",
          "OXO-5LI655F Augusta",
          "OXO-5LI656F Augusta",
          "OXO-5LI657E Augusta",
          "OXO-5LI657F Augusta",
          "OXO-5LI658E Augusta",
          "OXO-5LI658F Augusta",
          "OXO-5PIC605A Augusta",
          "OXO-5RIC606_Y Augusta",
          "OXO-5TIC002 Augusta",
          "OXO-5TIC601 Augusta",
          "OXO-5TIC602 Augusta",
          "OXO-5TIC603 Augusta",
          "OXO-5TIC604 Augusta",
          "OXO-5TIC605 Augusta",
          "OXO-5TIC606 Augusta",
          "OXO-5TIC607 Augusta",
          "OXO-5TIC659 Augusta",
          "OXO-_5FI658A Augusta",
          "OXO-_5FI659A Augusta",
          "OXO-_5FI660A Augusta",
          "OXO-_5FI662A Augusta",
          "OXO-5FI635C Augusta"
         ],
         "y": [
          "OXO-5FI661A Augusta",
          "OXO-5FI696 Augusta",
          "OXO-5FIC132 Augusta",
          "OXO-5FIC600 Augusta",
          "OXO-5FIC601 Augusta",
          "OXO-5FIC602 Augusta",
          "OXO-5FIC603 Augusta",
          "OXO-5FIC606C Augusta",
          "OXO-5FIC607 Augusta",
          "OXO-5FIC609A Augusta",
          "OXO-5FIC609B Augusta",
          "OXO-5FIC611A Augusta",
          "OXO-5FIC612A Augusta",
          "OXO-5FIC612B Augusta",
          "OXO-5FIC618A Augusta",
          "OXO-5FIC618B Augusta",
          "OXO-5FIC618C Augusta",
          "OXO-5FIC618D Augusta",
          "OXO-5FIC622A Augusta",
          "OXO-5FIC622B Augusta",
          "OXO-5FIC622C Augusta",
          "OXO-5FIC636A Augusta",
          "OXO-5FIC636B Augusta",
          "OXO-5FIC636C Augusta",
          "OXO-5FQI691B Augusta",
          "OXO-5LI633B Augusta",
          "OXO-5LI650F Augusta",
          "OXO-5LI651E Augusta",
          "OXO-5LI651F Augusta",
          "OXO-5LI652E Augusta",
          "OXO-5LI652F Augusta",
          "OXO-5LI653E Augusta",
          "OXO-5LI653F Augusta",
          "OXO-5LI654E Augusta",
          "OXO-5LI655F Augusta",
          "OXO-5LI656F Augusta",
          "OXO-5LI657E Augusta",
          "OXO-5LI657F Augusta",
          "OXO-5LI658E Augusta",
          "OXO-5LI658F Augusta",
          "OXO-5PIC605A Augusta",
          "OXO-5RIC606_Y Augusta",
          "OXO-5TIC002 Augusta",
          "OXO-5TIC601 Augusta",
          "OXO-5TIC602 Augusta",
          "OXO-5TIC603 Augusta",
          "OXO-5TIC604 Augusta",
          "OXO-5TIC605 Augusta",
          "OXO-5TIC606 Augusta",
          "OXO-5TIC607 Augusta",
          "OXO-5TIC659 Augusta",
          "OXO-_5FI658A Augusta",
          "OXO-_5FI659A Augusta",
          "OXO-_5FI660A Augusta",
          "OXO-_5FI662A Augusta",
          "OXO-5FI635C Augusta"
         ],
         "z": [
          [
           3.344044184306288,
           0.7183676137680495,
           0.4610065007563722,
           0.5448846679168193,
           0.5757024262759174,
           0.3871455747452348,
           0,
           0.005884942875481247,
           0,
           0,
           0.5205322415309972,
           0.07960681837559047,
           0.12384785312870727,
           0.8321749501708191,
           0.5641734730713073,
           0.6035944894307028,
           0.6043902657477802,
           0.0860928879918137,
           0.08078974079119039,
           0.8231082784507837,
           0.3749366597835584,
           0.2439677053166731,
           0.1622674229086516,
           0.4063969788610762,
           0.9058604823058771,
           0.48287451394528613,
           0.019056950119263227,
           0.842337492259039,
           0.01567849016697398,
           0,
           0,
           0.9389163021068461,
           0.9003496961516002,
           0.5776298144900753,
           0.7002315459305364,
           0.8096429665109723,
           0.5494551921266146,
           0.2206144088308708,
           0.36353092771443896,
           0.5519077326991493,
           0.0811463159152539,
           0.7141893570042099,
           0.05279272509647326,
           0.6834409190097137,
           0.6684274820227096,
           0.3035491059154949,
           0.6715304500614021,
           0.32487285454144077,
           0.6311299919263669,
           0.646122670791319,
           0,
           1.7935410681414075,
           2.062406750132947,
           1.648086743269396,
           1.6037811723504007,
           0.3224933626547699
          ],
          [
           0.7183676137680495,
           3.3440441843062887,
           0.5021343720028795,
           0.4352373632931834,
           0.4493563562166156,
           0.790126055783944,
           0,
           0.17698045059122958,
           0,
           0,
           0.7279297731220757,
           0.19454262071861894,
           0.15267987375701653,
           0.8275131305819077,
           0.786673725837657,
           1.0889993102150628,
           0.9493112489627573,
           0.19404196658625184,
           0.035863868899765894,
           0.6906800915946474,
           0.5375004414017139,
           0.3657103182287442,
           0.13626116325512694,
           1.29565418587296,
           0.9696758681604343,
           0.2446432278268973,
           0.030892014369973353,
           0.9901302745011704,
           0.384769241495178,
           0,
           0,
           1.1817919356121633,
           1.1693844167469996,
           0.8512837514617337,
           0.9770057685207625,
           0.9388251129675558,
           0.5769683187173369,
           0.275089242147311,
           0.2940924805844509,
           0.564625762383181,
           0.0719187224106248,
           0.799268571220006,
           0.059529628287979364,
           0.4438370975089625,
           0.7843897041024586,
           0.6233012639417486,
           0.6971894294795429,
           0.4288554154048967,
           0.5069705517789664,
           0.6159230099769655,
           0.015445833300938183,
           0.4976674354209636,
           0.5573434974254163,
           0.4479920612076107,
           0.5853289186433162,
           0.4495790806354947
          ],
          [
           0.46100650075637195,
           0.5021343720028795,
           3.3207108509729553,
           0.16493898870791357,
           0.31695974431115936,
           0.4077493528823726,
           0,
           0.06386793136558278,
           0,
           0,
           0.4387805824616755,
           0.13095984430607466,
           0.20475816295502636,
           0.6546623582665527,
           0.6093220671861863,
           0.5389375533593384,
           0.4297514128223985,
           0.06758034327858176,
           0.09216055913080146,
           0.5277731783625483,
           0.19747895225977286,
           0.2650916932156835,
           0.23897124484564802,
           0.47526481878281124,
           1.1429045820779842,
           0.316011288472112,
           0,
           0.8042708837612764,
           0.05980157774110184,
           0.05372734306044036,
           0,
           0.6948034134672256,
           0.7453454266060333,
           0.8160276123552042,
           0.39537537057990035,
           0.9295098738708665,
           0.19924390816616322,
           0.0759151893694805,
           0.19072776445405837,
           0.3541298479178896,
           0.11252773443008124,
           0.4354513434905134,
           0.016858578654991296,
           0.19466420955575847,
           0.34371431148929,
           0.318789784862588,
           0.31434265690117646,
           0.1910239885680589,
           0.29998923672657085,
           0.18873816896749407,
           0,
           0.46311591010166975,
           0.38296688370777887,
           0.5330885152681508,
           0.41411938405080373,
           0.1688117838501697
          ],
          [
           0.5448846679168193,
           0.4352373632931834,
           0.16493898870791357,
           3.344044184306288,
           0.6071069998576522,
           0.28405899737417517,
           0,
           0.22781832402396907,
           0,
           0,
           0.4218085270566383,
           0.3030130912727427,
           0.10311564999733491,
           0.5233625703959857,
           0.45295194838991515,
           0.4777091351279421,
           0.446210841407916,
           0.01769566870501693,
           0.10703364412617988,
           0.4168961386524286,
           0.2617586483450087,
           0.30406249252083084,
           0.20000831017024234,
           0.44539718940588013,
           0.6916953239021231,
           0.4181635216606452,
           0,
           0.7657875174076758,
           0.18442825878635682,
           0.06300806372613543,
           0,
           0.9306740133619145,
           0.925454927456133,
           0.5102767047582604,
           0.46604432263567164,
           0.7837917050823688,
           0.5323676224620306,
           0.1544090951688757,
           0.40515744581267743,
           0.600479814163299,
           0,
           0.46807354212052,
           0,
           0.6421822507255674,
           0.6548881100545376,
           0.32475209473829736,
           0.5325504384065813,
           0.23704723379398507,
           0.5314562569196868,
           0.5866974742397213,
           0,
           0.5357421812827874,
           0.597373367477041,
           0.6068660959084968,
           0.47011324398937093,
           0.22444570779346584
          ],
          [
           0.5757024262759174,
           0.4493563562166156,
           0.3172627746141905,
           0.6071069998576522,
           3.344044184306288,
           0.19715625821490113,
           0,
           0.21354104318743294,
           0,
           0,
           0.48707873372801114,
           0.17198843696586952,
           0.09526873522818313,
           0.7626538359187749,
           0.25199769985443865,
           0.5437235143837023,
           0.5762062706939797,
           0.0343662920777521,
           0.07959152584583862,
           0.5173406991649991,
           0.2517263120540143,
           0.3006692117216416,
           0.17153921217745305,
           0.45015653253454513,
           0.7773989519596949,
           0.5780658016377114,
           0,
           0.9254472000904945,
           0.14058834509437768,
           0.0785156369442408,
           0,
           0.8910783481798363,
           0.878246313663708,
           0.6221532441768698,
           0.4823224005418678,
           0.8312754366891577,
           0.3616224600950093,
           0.46589270187895515,
           0.22558175827120186,
           0.6794800289255576,
           0.03605041480304605,
           0.5608945265921661,
           0,
           0.5366120349755348,
           0.842669962719989,
           0.4427559918491406,
           0.7320449863174869,
           0.3160562730007155,
           0.5695282703793634,
           0.6114835211187746,
           0.029688838099330983,
           0.6146990757292172,
           0.6615409141923014,
           0.561167712409057,
           0.5247428046064946,
           0.14151032524820595
          ],
          [
           0.38606370340020635,
           0.790126055783944,
           0.4092328693658893,
           0.28658531316364844,
           0.19758045088047327,
           3.319544184306288,
           0.007218735140853916,
           0,
           0,
           0,
           0.34085417401802776,
           0.08206285016567483,
           0.049308898078138874,
           0.722959658995312,
           0.7096733857531814,
           0.6424828998347376,
           0.9251526331621875,
           0.0278738156282472,
           0.046749980389025225,
           0.6404080146726252,
           0.4413093685078531,
           0.1241597312975733,
           0.20593803637715036,
           0.7635881606458674,
           0.8931328422815317,
           0.30190612350187074,
           0,
           0.5899832397033156,
           0.21799625976574744,
           0.005140529070351008,
           0.004669852357691795,
           0.8977768786773836,
           0.8468669533425002,
           0.9915567834481096,
           0.49036439365230633,
           0.5973923522748161,
           0.4009067953735874,
           0.06643857416746624,
           0.32910163823709215,
           0.15877937071306736,
           0.08777619912868806,
           0.5996113263407219,
           0.11273383720965224,
           0.4925866729114885,
           0.409604871376148,
           0.43491271212164584,
           0.5264781373911505,
           0.4672763852559001,
           0.293677690446684,
           0.32466446800820803,
           0.04994968865008165,
           0.4000946928887772,
           0.29544873001570693,
           0.22619854905646308,
           0.26133447807162424,
           0.23717764648358353
          ],
          [
           0,
           0,
           0,
           0,
           0,
           0.00622312606728781,
           0.025374406593939636,
           0.0003061437008409218,
           0,
           0.1265804296040085,
           0,
           0,
           0,
           0,
           0,
           0,
           0,
           0,
           0,
           0,
           0,
           0.0034246111540447988,
           0,
           0,
           0,
           0,
           0,
           0,
           0,
           0,
           0.03475343987911783,
           0,
           0,
           0,
           0,
           0,
           0,
           0,
           0,
           0,
           0,
           0,
           0,
           0,
           0,
           0,
           0,
           0,
           0,
           0,
           0,
           0,
           0,
           0,
           0,
           0
          ],
          [
           0.0030017430280366852,
           0.17359724378193597,
           0.06507067306832459,
           0.22950029075005274,
           0.21100626260853472,
           0,
           0.0013604587294464565,
           3.268877517639622,
           0,
           0.0016811367631479612,
           0.16914746427252192,
           0.9271057789219386,
           0.4223535692579441,
           0.11022024106212669,
           0.180451396772066,
           0.3348604578398855,
           0.29369137572657333,
           0,
           0.2623828846604144,
           0.10238475866917618,
           0.09733686772543093,
           0.2794144989133214,
           0.22629848289321997,
           0.1801788174801615,
           0.2114289149369557,
           0.10482576967179602,
           0.00377313212445074,
           0.3435225923506988,
           1.00454227561235,
           0.12942997472222295,
           0.003392346214254438,
           0.5170622182332849,
           0.495598288678607,
           0.21740382147305803,
           0.35935530255596726,
           0.3157410798464122,
           0.05373647931627534,
           0.36529765850079965,
           0.3922446390116847,
           0.5180306190382629,
           0.03831031556800779,
           0,
           0,
           0.13493373831641353,
           0.29245610482879947,
           0.08997221493234075,
           0.09235913314774757,
           0.10009504497150523,
           0.12549359087794443,
           0.2831794169566404,
           0.08087510960820987,
           0.1912735077719847,
           0.12361062877952111,
           0.07419574982646582,
           0.08027611877950092,
           0
          ],
          [
           0,
           0,
           0,
           0,
           0,
           0.008247657450747847,
           0,
           0.0004103103675074937,
           0.12230581096454518,
           0,
           0,
           0,
           0.05647761159318909,
           0,
           0,
           0,
           0,
           0,
           0,
           0,
           0,
           0,
           0,
           0,
           0.00827700907349338,
           0.0067999712788453515,
           0,
           0,
           0,
           0,
           0.1028989213552407,
           0,
           0,
           0,
           0,
           0,
           0,
           0,
           0,
           0,
           0,
           0,
           0,
           0,
           0,
           0,
           0,
           0,
           0,
           0,
           0,
           0,
           0,
           0,
           0,
           0
          ],
          [
           0,
           0,
           0,
           0,
           0,
           0,
           0.018286094417504728,
           0,
           0.07916453439521787,
           0.07058614257719231,
           0,
           0,
           0,
           0,
           0,
           0,
           0,
           0,
           0.052618474722567976,
           0,
           0,
           0.015242150071447913,
           0.02463754997894907,
           0,
           0,
           0,
           0,
           0,
           0,
           0,
           0,
           0,
           0,
           0,
           0,
           0,
           0,
           0,
           0,
           0,
           0,
           0,
           0,
           0,
           0,
           0,
           0,
           0,
           0,
           0,
           0,
           0,
           0,
           0,
           0,
           0
          ],
          [
           0.5205322415309972,
           0.7279297731220757,
           0.4387805824616753,
           0.4218085270566383,
           0.48707873372801114,
           0.33782609098994465,
           0,
           0.16812920272446474,
           0,
           0,
           3.3440441843062887,
           0.2367936941820683,
           0,
           0.765839692610808,
           0.5968768902041313,
           0.8942492008513443,
           0.7820118204981616,
           0.21752405960754917,
           0.0341103274109722,
           0.6152310475487099,
           0.44069292043583896,
           0.0662630012904013,
           0.13040472108780232,
           0.8629716111081649,
           0.832339790649931,
           0.4761037303488016,
           0,
           1.0228642088678965,
           0.3529843725201811,
           0.04415243609076658,
           0,
           1.1596980478131056,
           1.1977802423552362,
           0.697815079930602,
           0.7103909781762554,
           1.0490208863994233,
           0.4028341722275952,
           0.3636048283116988,
           0.3217420996040916,
           0.6147592919347855,
           0.05542783611631963,
           0.8299792316805492,
           0,
           0.42742594977637616,
           0.8468744031513067,
           0.5673296534427794,
           0.6100394207874338,
           0.36073591192094856,
           0.509482830004715,
           0.6057609093303009,
           0,
           0.5370542672776821,
           0.536289133376715,
           0.5228690127823961,
           0.4011937115834998,
           0.20645914154909129
          ],
          [
           0.07960681837559047,
           0.19454262071861894,
           0.13068206652829684,
           0.3030130912727427,
           0.17198843696586952,
           0.08227652537934915,
           0,
           0.9254807789219384,
           0,
           0,
           0.2367936941820683,
           3.3440441843062882,
           0.5609227322838803,
           0.048954260501961055,
           0.2205719444001275,
           0.275892984982272,
           0.2813871260562295,
           0.1346880302447544,
           0.2380796898319657,
           0.21725159572060004,
           0.14884857921985484,
           0.09913816044196899,
           0.1269174802647446,
           0.31687506797750764,
           0.24401685265010364,
           0.13952096647653311,
           0,
           0.2163451593223118,
           0.882081292376347,
           0.14843490449073116,
           0,
           0.4502260155049891,
           0.42508355910842566,
           0.21019056229356137,
           0.5371361084353068,
           0.29868160040448233,
           0.22914905256315343,
           0.8275454788793861,
           0.7026879005883422,
           0.687529473043877,
           0.0028594939287751586,
           0.13403840669123301,
           0,
           0.033663584923738554,
           0.3555784463369842,
           0.13245469793457998,
           0.17922239690301023,
           0.09979306854853087,
           0.1035976879856344,
           0.30653779570363104,
           0.0348837039250407,
           0.08810339981416782,
           0.15548244831889368,
           0.09843249375389673,
           0.09211987038391811,
           0.03278880521147398
          ],
          [
           0.14198393614503368,
           0.12212115172748561,
           0.20543362638049079,
           0.07871199364375281,
           0.10246243485947959,
           0.06801849208618238,
           0.00970944791698436,
           0.4368151556147044,
           0.008551390874926845,
           0.0015564748289227381,
           0.023701982434487956,
           0.5792671293111131,
           2.501739939746238,
           0.22660414588267264,
           0.21589152364656128,
           0.0023725444756901304,
           0.11173134236649007,
           0,
           0.212054275792525,
           0.13795758026689153,
           0.055207227514010526,
           0.28520982177483667,
           0.2110513573612871,
           0.25379587519614955,
           0.22013017697548065,
           0.16788510803771306,
           0.03682022542453023,
           0.2456380399870821,
           0.4525539543653547,
           0.07473670002402155,
           0.03291991376378167,
           0.3161196164498721,
           0.2842679301324824,
           0.2623046926228527,
           0.15767589576459295,
           0.2110730963096734,
           0.13626572102622303,
           0.11155630857355847,
           0.3590085573167907,
           0.2172252024600767,
           0,
           0.06481189551075595,
           0.023932073183404956,
           0.023111409094806135,
           0.37896441331992214,
           0.13852381440563777,
           0.2426356640313534,
           0.12484185612341347,
           0.048127629938066185,
           0.14044915971941485,
           0.04748925535017845,
           0.04187626458403537,
           0.17436501797805803,
           0.11405914807089212,
           0.16271832262792474,
           0
          ],
          [
           0.8321749501708193,
           0.8275131305819077,
           0.6546623582665525,
           0.5233625703959857,
           0.7626538359187749,
           0.7222837330693861,
           0,
           0.10888544289165081,
           0,
           0,
           0.765839692610808,
           0.048954260501961055,
           0.21773726828289952,
           3.3440441843062882,
           0.7589017649482264,
           0.8635049248402824,
           0.8568351987590872,
           0,
           0.10750338792003467,
           0.9208109517881149,
           0.6324366250211557,
           0.28697661764701854,
           0.1868910734509983,
           0.9155518142827574,
           1.199376216501197,
           0.6202572407685705,
           0.01706601417473763,
           1.1500630006788057,
           0.15544439773057217,
           0.019445659028562545,
           0,
           1.2563990163097862,
           1.2424274254116634,
           1.1347169188983877,
           0.749717615954294,
           1.1550999413640746,
           0.5541979436789375,
           0.32676216663778535,
           0.28575180622961405,
           0.5830249504100289,
           0.0835275358889116,
           1.4764469434289609,
           0.07850148474764129,
           0.6803181031538275,
           0.847833764420336,
           0.6558894499432486,
           0.8856791834933597,
           0.5145627419367345,
           0.7505303423691321,
           0.7176565283876439,
           0.028129638265978585,
           0.8624122668263756,
           0.7763087556345842,
           0.8734369075333932,
           0.7796521974203126,
           0.48898253519271107
          ],
          [
           0.5641734730713073,
           0.786673725837657,
           0.6093220671861861,
           0.45295194838991515,
           0.25199769985443865,
           0.7074206385004338,
           0,
           0.17875889891045071,
           0,
           0,
           0.5968768902041313,
           0.2205719444001275,
           0.2362772092226657,
           0.7589017649482264,
           3.3440441843062882,
           1.169170944200344,
           1.26270715346809,
           0.015055103085482191,
           0.20793196766264366,
           0.7550399106701442,
           0.34194330839381726,
           0.20164049311406185,
           0.1443307021244271,
           0.9511283465198721,
           0.9062359198837231,
           0.2583856648437681,
           0.014323850451698483,
           0.8364769432391264,
           0.2129355459719724,
           0,
           0,
           1.0246624221933267,
           1.1289937557889869,
           0.8674243710492457,
           0.5424146430327217,
           0.8581574250233266,
           0.38723078623724794,
           0.23098199384601248,
           0.39700049757707045,
           0.6354811935407922,
           0.019545844180864247,
           0.6092059314547482,
           0.014442476154504558,
           0.1979611634720566,
           0.5715575749653343,
           0.42535518038726705,
           0.5485999912188206,
           0.2878221502773872,
           0.36524437483090777,
           0.5214838641293698,
           0,
           0.4106284780266627,
           0.4612280277845522,
           0.5058594984061049,
           0.4536282571647985,
           0.16271718989399053
          ],
          [
           0.6035944894307028,
           1.0889993102150628,
           0.5389375533593381,
           0.4777091351279421,
           0.5437235143837023,
           0.6349828998347378,
           0,
           0.33527986561649126,
           0,
           0,
           0.8942492008513443,
           0.275892984982272,
           0,
           0.8635049248402824,
           1.169170944200344,
           3.3440441843062887,
           1.3615728953020798,
           0.2362536837745144,
           0.06945352207678956,
           0.7390140919540791,
           0.7025410653382131,
           0.21158522568294558,
           0.24442394652096633,
           1.1114021247974946,
           1.1958966236487103,
           0.3803917221594997,
           0,
           0.9844714188756587,
           0.39972749900540316,
           0.026953669558740234,
           0,
           1.267410281118103,
           1.3058294373892994,
           1.1724984843840716,
           1.0577991254979702,
           1.0550740706267292,
           0.5216525915905788,
           0.3824372384172503,
           0.24234466630484963,
           0.6431165889617851,
           0,
           0.8499062488535136,
           0,
           0.5817996950093298,
           1.0427061235295838,
           0.753949484401887,
           0.7678806331903876,
           0.5331218938535507,
           0.5536327114785826,
           0.7527162016976678,
           0.02148593834003165,
           0.5342174926986609,
           0.5649856541868625,
           0.47762314075501555,
           0.5530511142237584,
           0.5126410409686764
          ],
          [
           0.6043902657477802,
           0.9493112489627573,
           0.4297960556795406,
           0.446210841407916,
           0.5762062706939797,
           0.9278823206287163,
           0,
           0.29162513641033394,
           0,
           0,
           0.7820118204981616,
           0.2813871260562295,
           0.1270099339276296,
           0.8568351987590872,
           1.26270715346809,
           1.3615728953020798,
           3.344044184306288,
           0.20910479969560614,
           0.09925185155849459,
           0.8612358692952569,
           0.794588678990563,
           0.15436240660203415,
           0.11867292951228858,
           1.1236008654415546,
           1.2277129305074848,
           0.5090853419893668,
           0.026575262513342857,
           1.0353774583839146,
           0.2686693195938852,
           0.006882481077395308,
           0,
           1.5035965082478768,
           1.4987703439952307,
           0.9430286645632524,
           0.794578199210918,
           1.1368123813979563,
           0.49019389115307055,
           0.38300747002507807,
           0.2574889050980209,
           0.6678092940895097,
           0.04277314446657732,
           0.7009321571190457,
           0,
           0.617569175395102,
           1.0307929073456878,
           0.6028216401554549,
           0.7525737486517743,
           0.4476764044468027,
           0.6047636294455683,
           0.6828814130614735,
           0.018790207690790872,
           0.47254101801187165,
           0.5448355929294064,
           0.41933913434582637,
           0.5594199686953849,
           0.48578162498192157
          ],
          [
           0.0860928879918137,
           0.19404196658625184,
           0.06724700994524824,
           0.01769566870501693,
           0.0343662920777521,
           0.0278738156282472,
           0,
           0,
           0,
           0,
           0.21752405960754917,
           0.1346880302447544,
           0,
           0,
           0.015055103085482191,
           0.2362536837745144,
           0.20910479969560614,
           3.344044184306288,
           0.01940632218386451,
           0.17550932857431922,
           0.12309845348410464,
           0.007693978034383875,
           0,
           0.03925388408455888,
           0.183588949250844,
           0,
           0,
           0,
           0.09107544434056702,
           0.09913092440549187,
           0,
           0.17051838276481623,
           0.223453284997571,
           0.08486351435759909,
           0.0666137372508846,
           0,
           0.08972530057132388,
           0,
           0,
           0.0546559253411667,
           0,
           0,
           0,
           0.043007999027042665,
           0.15471292647826873,
           0.05464110377769282,
           0.06852152150742752,
           0.019899451169394844,
           0.10636955317992358,
           0.04887775730655397,
           0.15278977545841554,
           0.018638596401740593,
           0.06838255141152327,
           0,
           0.06564183775590537,
           0.14531462900355718
          ],
          [
           0.0789522719407676,
           0.041578908526882064,
           0.09348248946696325,
           0.10800006911722848,
           0.0773895916644527,
           0.04851180981353265,
           0,
           0.2559084883212299,
           0,
           0,
           0.03366249970458468,
           0.23807968983196592,
           0.21459389819344343,
           0.10588609251381498,
           0.21163762455848434,
           0.06486640492367668,
           0.09877097838913484,
           0.01744168683776004,
           2.2549410133884313,
           0.05710639153064001,
           0.06709754166828774,
           0.1364292128782767,
           0.05020714956834427,
           0.11302608350836496,
           0.057995590099609196,
           0.10816980415042554,
           0,
           0.02362259387729093,
           0.13292463656992215,
           0.008629183573919397,
           0,
           0.1758158074600713,
           0.2308814385601048,
           0.17496685881310325,
           0.07236652508074082,
           0.15783551540087948,
           0,
           0.09176216372433821,
           0.16257292308701254,
           0.15901017048444932,
           0.0022947316678934015,
           0.0631299943843513,
           0,
           0.08200208604906534,
           0.06333448100107364,
           0.05597506116578854,
           0.10065468345071271,
           0.018335201553035585,
           0.058288608312725865,
           0.08241238184686384,
           0,
           0.02234142484948265,
           0.05660544325292882,
           0.07239061688328507,
           0.0684445200629542,
           0.012355754525731566
          ],
          [
           0.8231082784507837,
           0.6906800915946474,
           0.5277731783625486,
           0.4168961386524286,
           0.5173406991649991,
           0.6404080146726252,
           0,
           0.10294031422473138,
           0,
           0,
           0.6152310475487099,
           0.21725159572060004,
           0.12911650164198196,
           0.9208109517881149,
           0.7550399106701442,
           0.7390140919540791,
           0.8612358692952569,
           0.17550932857431922,
           0.0640112241479307,
           3.344044184306288,
           0.62929644212509,
           0.25514642452557723,
           0.15969328037201258,
           0.8536507673223968,
           1.068672348977851,
           0.6597242152110852,
           0.042575002892895064,
           1.0780583637097756,
           0.15362185732062716,
           0.0915059003581784,
           0,
           1.2815033038371952,
           1.240905192198704,
           1.2757131430046744,
           0.9063021184387323,
           1.0334184985594241,
           0.745523740340098,
           0.29810949378677565,
           0.3543255996739769,
           0.589527645746069,
           0.08339642620979637,
           0.7677877012488836,
           0,
           0.5871321704121608,
           0.6143236581026197,
           0.33080825480278797,
           0.7320327248954146,
           0.2869834892036258,
           0.56262264803255,
           0.6436122110248519,
           0,
           0.7950700365039154,
           0.725806638131012,
           0.8198923061676893,
           0.793769830470314,
           0.3560856565387347
          ],
          [
           0.3749366597835584,
           0.5375004414017139,
           0.19747895225977308,
           0.2617586483450087,
           0.2517263120540143,
           0.4400785992770837,
           0,
           0.09788123076979405,
           0,
           0,
           0.44069292043583896,
           0.14884857921985484,
           0.07689290570944163,
           0.6324366250211559,
           0.34194330839381726,
           0.7025410653382131,
           0.794588678990563,
           0.12309845348410464,
           0.07180713672023353,
           0.62929644212509,
           3.344044184306288,
           0.1856839512250663,
           0.1477901138125639,
           0.7410520896376762,
           0.501070515512203,
           0.22803743164185208,
           0.01957400673258114,
           0.694585765808831,
           0.26396837684603724,
           0.005248220900223366,
           0,
           0.6798299208074554,
           0.5966899832876833,
           0.3744776427717107,
           0.5904006948584755,
           0.6093716765072252,
           0.3016155538050098,
           0.22166653097814004,
           0.0779048170719201,
           0.3552822424603357,
           0.12141692405378901,
           0.5285574863759761,
           0.1292043934852547,
           0.30632434769772976,
           0.5946948899881219,
           0.36095646805661064,
           0.4450540889957315,
           0.2792542548077197,
           0.3572295017427196,
           0.40357992405236853,
           0,
           0.39501136146260807,
           0.3525724175259195,
           0.28795966903203496,
           0.23710847446072014,
           0.6324864950539948
          ],
          [
           0.2443952453205287,
           0.3748961001504325,
           0.25297324325319304,
           0.30616475296472867,
           0.2985190285714583,
           0.12370086968275196,
           0,
           0.2822589104386162,
           0,
           0,
           0.07210145585636818,
           0.10479743450124346,
           0.2975550627752632,
           0.28996013413053534,
           0.19889806887163797,
           0.2095171097409172,
           0.15096563096387916,
           0.0110480929145087,
           0.1526159483793723,
           0.24413235027454627,
           0.19594078934389758,
           2.9428673750044787,
           0.7738004363123254,
           0.4602358730977105,
           0.4141283966952902,
           0.17081210331044971,
           0.05203571004042473,
           0.39356137227866306,
           0.22739191130285263,
           0.03656982028426503,
           0,
           0.5538982102046175,
           0.47145893807665296,
           0.5259053057113117,
           0.44024558196314123,
           0.25772179729153155,
           0.2048767835103824,
           0.035554204568064574,
           0.17755283241575315,
           0.493662530481505,
           0.12153788363533513,
           0.2718166796274799,
           0,
           0.07965255614624889,
           0.29217418581905985,
           0.24751032991253652,
           0.17269507083317404,
           0.14575643150343032,
           0.18550047342646936,
           0.18043930581671264,
           0,
           0.2999906666290637,
           0.24351732206972931,
           0.06964531803867313,
           0.07363051047744662,
           0.14449888471257566
          ],
          [
           0.17293730846001631,
           0.1271392748447826,
           0.24337242543496673,
           0.20271467172708935,
           0.15712125200278315,
           0.21348651320182288,
           0,
           0.22509069808400461,
           0.07768564958794366,
           0,
           0.09611507000965513,
           0.12244268683595427,
           0.20199783399761984,
           0.19189932205617666,
           0.14088717140081597,
           0.23772037444748895,
           0.1278685416398142,
           0,
           0.057665079175991174,
           0.15314735440715355,
           0.13754152294371735,
           0.7783883239843177,
           2.160430151388101,
           0.3608379805971309,
           0.2339046636421731,
           0.16732265195306528,
           0.005737441958080236,
           0.45655403475062073,
           0.28493298277570833,
           0.08740508654121681,
           0,
           0.39647287066394865,
           0.41054713514369157,
           0.35801524246943695,
           0.3256946729121677,
           0.2989213525115315,
           0.07333016162687711,
           0.010345905805127398,
           0.22919318024362045,
           0.30779563913431884,
           0,
           0.273457662097115,
           0,
           0.09228238506496789,
           0.3247978615455964,
           0.3379196889640057,
           0.297951600957568,
           0.18333232510684505,
           0.29802113180707135,
           0.2455622770836272,
           0,
           0.18096615343304645,
           0.25492034110125905,
           0,
           0.1243028825103325,
           0.1055125596300499
          ],
          [
           0.4063969788610762,
           1.2956541858729598,
           0.475264818782811,
           0.44539718940588013,
           0.45015653253454513,
           0.764064351122058,
           0,
           0.18094901950036357,
           0,
           0,
           0.8629716111081649,
           0.31687506797750764,
           0.257599266684132,
           0.9155518142827574,
           0.9511283465198721,
           1.1114021247974946,
           1.1236008654415546,
           0.03925388408455888,
           0.11805529716703633,
           0.8536507673223968,
           0.7410520896376762,
           0.4578722952102199,
           0.3542497123838628,
           3.344044184306288,
           1.2261928192800262,
           0.5149620574562688,
           0.03517724584590276,
           1.091792563917758,
           0.28091769205683104,
           0,
           0,
           1.432949881190742,
           1.4685574776184307,
           0.9648567895068765,
           0.851262597478831,
           1.2236490902063308,
           0.4860445850019466,
           0.28840873001116796,
           0.18552782970177129,
           0.6144412050262784,
           0.0824985900794073,
           1.0635987002004965,
           0,
           0.5258750540121779,
           1.0274120477801838,
           0.7459923539951756,
           0.7391317267381239,
           0.5172679302012977,
           0.5375405417511785,
           0.7892321448628792,
           0,
           0.3230316115034788,
           0.2838974709064286,
           0.2566682495833281,
           0.257931324588081,
           0.422046060762018
          ],
          [
           0.9071104823058773,
           0.967727675207017,
           1.1420712487446507,
           0.6964611949728665,
           0.7837719678327111,
           0.9219929868939274,
           0,
           0.20746984977766214,
           0,
           0.03296552496802452,
           0.8489620683722086,
           0.2362022640968915,
           0.24306835582024755,
           1.197349776274757,
           0.9003387337365365,
           1.2024799569820448,
           1.2463533546514152,
           0.17358386797039627,
           0.03019559870034705,
           1.071672601493396,
           0.5095530655708398,
           0.4467091217602226,
           0.3035319144634898,
           1.2237678553550628,
           2.070104679366783,
           0.8593014829729819,
           0.07196370814935538,
           1.5358050413113398,
           0.2503787729157354,
           0.0632114140016129,
           0.01939262604329528,
           1.793974181238518,
           1.6191965045361953,
           1.6951822929847373,
           1.1236356336699518,
           1.5594725496715724,
           0.776401916606519,
           0.3459481981759147,
           0.3119435997192741,
           0.8757959507255038,
           0.057029681589998216,
           1.0573831683851924,
           0.14878512085103068,
           0.9685990134226268,
           1.1085745467664903,
           0.7285710680916111,
           0.9539205552659054,
           0.6818964729376393,
           0.7941547759324128,
           0.7180013735481565,
           0.043660750605516885,
           0.9210302909438162,
           0.8089534894458907,
           0.7741271225297246,
           0.9310852849175593,
           0.4409422115251145
          ],
          [
           0.4828745139452859,
           0.2446432278268975,
           0.3160112884721116,
           0.41816352166064497,
           0.5780658016377116,
           0.29288113906218727,
           0.021563559736358595,
           0.11599243633846301,
           0,
           0,
           0.4761037303488016,
           0.13952096647653356,
           0.16979468834947298,
           0.6202572407685707,
           0.25838566484376857,
           0.3803917221594997,
           0.5090853419893671,
           0,
           0.06517294759942738,
           0.6597242152110852,
           0.22803743164185164,
           0.1922111190309872,
           0.1426100517270137,
           0.5149620574562686,
           0.77677422983614,
           1.2904176167268235,
           0,
           0.6315383037405544,
           0.07270636308414713,
           0,
           0.006583484970053011,
           0.8785747695300998,
           0.6629147285750849,
           0.5575079923874429,
           0.16389787816464918,
           0.6734985449966087,
           0.3472379722241723,
           0.24832193856275264,
           0.11757554681416926,
           0.47042475205439116,
           0.06414333831389452,
           0.45850261824709526,
           0,
           0.4846217734705103,
           0.5883953722115598,
           0.3601840158912908,
           0.546413096799375,
           0.27565026079616306,
           0.4132855217578413,
           0.46761160445454863,
           0,
           0.5665411536304825,
           0.4935201315150579,
           0.4900291631461924,
           0.46358091922395284,
           0.08429673872785615
          ],
          [
           0.023556950119262288,
           0.026900781142758845,
           0.006300683613653879,
           0,
           0.020645498418332187,
           0,
           0,
           0,
           0.003380311637020128,
           0,
           0,
           0,
           0,
           0.010358912745809246,
           0.012458331912265752,
           0,
           0.02685044566352479,
           0,
           0,
           0.042575002892895286,
           0.019812101970675844,
           0.04549819172016378,
           0,
           0.024193490389792238,
           0.09118757851698511,
           0.032966983301136565,
           0.352884189069401,
           0.06646347972494637,
           0.004906937120158217,
           0,
           0,
           0.017986315937951858,
           0.005134528340308808,
           0.08653942420271776,
           0.059455406939656896,
           0.04623336490338392,
           0.02568257269707197,
           0.02651111445050791,
           0.09490081913440207,
           0.03712749652634506,
           0,
           0.018874842677079506,
           0.00015559250576435701,
           0,
           0.02037219113094424,
           0.01479007913955166,
           0,
           0,
           0,
           0,
           0,
           0.013559144330739015,
           0.025178307485300033,
           0.021674561735806508,
           0,
           0.018279624322424803
          ],
          [
           0.8432465831681304,
           0.9901302745011704,
           0.804270883761276,
           0.767037517407676,
           0.9215186286619228,
           0.5899832397033156,
           0,
           0.3439844778295278,
           0,
           0,
           1.0203642088678966,
           0.2163451593223118,
           0.23271129834745752,
           1.1500630006788057,
           0.8364769432391266,
           0.9832214188756585,
           1.0353774583839148,
           0,
           0.023440775695473093,
           1.0780583637097756,
           0.694585765808831,
           0.39114864203504984,
           0.4562143091167776,
           1.0917925639177581,
           1.5233486921049906,
           0.6315383037405544,
           0.05546294030139265,
           3.3440441843062882,
           0.2850748365503155,
           0,
           0,
           1.6631257207425083,
           1.7146949509706348,
           1.229836437218176,
           1.225479385411293,
           1.7472262630634434,
           0.9635722528420252,
           0.5253648153445818,
           0.39826113356105264,
           0.9494173525848177,
           0.11726708905850813,
           1.1945122866034028,
           0.05099396901098752,
           0.7262502262130042,
           1.2443317218049632,
           0.7929444671239558,
           0.9946731167753029,
           0.6021126284335092,
           0.8389744131362757,
           1.104915385131434,
           0,
           0.8685492666646399,
           0.8767391696924762,
           0.8800117536177741,
           0.7918082885637197,
           0.38979828659680926
          ],
          [
           0.01567849016697398,
           0.384769241495178,
           0.05980157774110184,
           0.18442825878635682,
           0.14058834509437768,
           0.21834108735195423,
           0,
           0.9971877782578527,
           0,
           0,
           0.3529843725201811,
           0.882081292376347,
           0.4476883397006932,
           0.15544439773057217,
           0.2129355459719724,
           0.39972749900540316,
           0.2686693195938852,
           0.09107544434056702,
           0.13250204546775368,
           0.15362185732062716,
           0.26396837684603724,
           0.22742859683953753,
           0.28813622674424444,
           0.28091769205683104,
           0.25374505858271723,
           0.07118173776733672,
           0,
           0.2850748365503155,
           3.344044184306288,
           0.24775466172438598,
           0,
           0.5185143207839791,
           0.4828623323201304,
           0.21378274262405217,
           0.6162397944226439,
           0.28536388845687943,
           0.30158108707486386,
           0.32674470925278376,
           0.5939986096437799,
           0.45909314051595906,
           0.004554970917844958,
           0.1701844134260151,
           0,
           0.04396834823850915,
           0.3780751234555,
           0.25145150561322716,
           0.1470793660768095,
           0.1798893678731477,
           0.08894828647944397,
           0.2883171020971611,
           0.07002427030597946,
           0.09860454631270166,
           0.17016118774403788,
           0.04572655273540294,
           0.147981221828422,
           0.046880268394621005
          ],
          [
           0,
           0,
           0.05372734306044036,
           0.06300806372613543,
           0.0785156369442408,
           0.007140529070350787,
           0,
           0.12937529900578282,
           0,
           0,
           0.04415243609076658,
           0.14843490449073116,
           0.08663605770014993,
           0.019445659028562545,
           0,
           0.026953669558740234,
           0.006882481077395308,
           0.09913092440549187,
           0.012582166711240461,
           0.0915059003581784,
           0.005248220900223366,
           0.04085684515023713,
           0.08966031243943107,
           0,
           0.06175292972424096,
           0,
           0,
           0,
           0.24775466172438598,
           3.344044184306288,
           0,
           0.12099622398309773,
           0.10681565509525415,
           0.07434606715579806,
           0.027313273699115292,
           0,
           0,
           0.0504272600836817,
           0.10354165511685665,
           0.06622443893981611,
           0,
           0,
           0.021891814179448854,
           0,
           0,
           0.016679973329151387,
           0,
           0.03919263330227585,
           0,
           0,
           0.031877526506888465,
           0,
           0,
           0.05343105898994249,
           0.022576090073080035,
           0
          ],
          [
           0,
           0,
           0,
           0,
           0,
           0,
           0,
           0.0066265449524909315,
           0,
           0,
           0,
           0,
           0.015647696073469275,
           0,
           0,
           0,
           0,
           0,
           0.0923005850402352,
           0,
           0,
           0,
           0,
           0,
           0,
           0.013776798806607538,
           0.026117047171366536,
           0,
           0,
           0,
           0.00954416791075774,
           0,
           0,
           0,
           0,
           0,
           0,
           0,
           0,
           0,
           0,
           0,
           0,
           0,
           0,
           0,
           0,
           0,
           0,
           0,
           0,
           0,
           0,
           0,
           0,
           0
          ],
          [
           0.9389163021068461,
           1.1817919356121633,
           0.6948034134672256,
           0.9306740133619145,
           0.8910783481798363,
           0.8985387834392884,
           0,
           0.5155290985751653,
           0,
           0,
           1.1596980478131056,
           0.4502260155049891,
           0.3089077116681933,
           1.2563990163097865,
           1.0246624221933267,
           1.267410281118103,
           1.503596508247877,
           0.17051838276481623,
           0.17860596840084364,
           1.2815033038371952,
           0.6798299208074554,
           0.5481329447132652,
           0.3957605462472231,
           1.432949881190742,
           1.803017221531558,
           0.8785747695300996,
           0.002512359338995296,
           1.6631257207425083,
           0.5185143207839791,
           0.12099622398309773,
           0,
           3.3440441843062887,
           2.3906193716008586,
           0.5593397941310676,
           1.3790120018999064,
           1.7743450689404978,
           1.0121616680957781,
           0.41587522780165065,
           0.6532504249134874,
           1.0428573140690687,
           0.0617417017192845,
           1.1914643506221032,
           0,
           0.9212561060166697,
           1.5280555408061374,
           1.0376409364253965,
           1.221504076441478,
           0.8517521123261114,
           1.0111904272186698,
           1.072250616250117,
           0,
           0.9715664956995953,
           0.9411965430310296,
           0.8602957649363554,
           0.827320407455213,
           0.5877624936371881
          ],
          [
           0.9003496961516002,
           1.1693844167469996,
           0.7453454266060331,
           0.925454927456133,
           0.8782463136637078,
           0.8477002866758334,
           0,
           0.50181648399092,
           0,
           0,
           1.1977802423552362,
           0.42508355910842566,
           0.2867709783441126,
           1.2424274254116634,
           1.1289937557889869,
           1.3058294373892991,
           1.4987703439952305,
           0.223453284997571,
           0.22872963502421761,
           1.2409051921987042,
           0.5966899832876833,
           0.4705032485970504,
           0.40216345509444507,
           1.4685574776184307,
           1.6088868697265601,
           0.6629147285750845,
           0.010859256828195107,
           1.7146949509706348,
           0.4828623323201304,
           0.10681565509525415,
           0,
           2.390619371600858,
           3.344044184306288,
           0.6960146139020891,
           1.299781946324355,
           1.924194383173421,
           0.9360375908152303,
           0.4921613245897474,
           0.6695178231064927,
           1.0582268622966464,
           0.10956583808843279,
           1.2390750009145886,
           0.04854710256560102,
           0.8780770344199502,
           1.5066793295000571,
           0.9871298885308821,
           1.1857982077559246,
           0.8049138598572472,
           0.9320195648211933,
           1.1413981513539992,
           0,
           0.9537700081775702,
           0.9062039220085443,
           0.7951464064745299,
           0.7929200879946405,
           0.5141560219188146
          ],
          [
           0.5776298144900756,
           0.8512837514617337,
           0.8176942790218704,
           0.5102767047582601,
           0.6221532441768698,
           0.9902905496818759,
           0,
           0.21738398020321714,
           0,
           0,
           0.6979643336619454,
           0.20984573470735457,
           0.26116926978462507,
           1.1345654037468726,
           0.8674243710492457,
           1.1724984843840716,
           0.9430286645632526,
           0.08486351435759909,
           0.1754614824690175,
           1.2757131430046744,
           0.3744776427717107,
           0.5292386390446446,
           0.354574062847155,
           0.9648567895068765,
           1.6996822929847375,
           0.5575079923874431,
           0.08622692420271783,
           1.2298364372181765,
           0.21378274262405217,
           0.07434606715579806,
           0,
           0.5593397941310676,
           0.6960146139020891,
           3.3415441843062883,
           0.5373185045698987,
           1.2396389388103033,
           0.6817456840261467,
           0.3924927059773151,
           0.37977167912810295,
           0.618806260529569,
           0.09164721231240769,
           1.0089992385983055,
           0.02653939193891608,
           0.8036549244053948,
           0.8022352895445837,
           0.7945994672581502,
           0.8275074483597371,
           0.6287817577084986,
           0.7773211629135148,
           0.5754919393117828,
           0.05584089206415177,
           0.6307456050712894,
           0.5101976862647972,
           0.5537835680615415,
           0.5836623551934763,
           0.3410350924405767
          ],
          [
           0.7002315459305364,
           0.9770057685207623,
           0.39537537057990013,
           0.46604432263567164,
           0.48232240054186803,
           0.49065010793802033,
           0,
           0.3575426059475788,
           0,
           0,
           0.7103909781762554,
           0.5371361084353068,
           0.15994056806720458,
           0.7497176159542938,
           0.5424146430327217,
           1.0577991254979704,
           0.794578199210918,
           0.0666137372508846,
           0.07947037657592881,
           0.9063021184387323,
           0.5904006948584755,
           0.44233619207766406,
           0.3220017892048719,
           0.851262597478831,
           1.1269967447810632,
           0.16389787816464896,
           0.05186016884441891,
           1.225479385411293,
           0.6162397944226439,
           0.027313273699115292,
           0,
           1.3790120018999064,
           1.2997819463243552,
           0.5374677583012422,
           3.344044184306288,
           1.1348618073826926,
           1.1022733116408214,
           0.5965937726756043,
           0.591554678332995,
           0.8759393750787359,
           0.07911459539318155,
           0.7184173906295368,
           0.001213470087265467,
           0.38302528616703846,
           0.9984444267640611,
           0.5040480496632975,
           0.6358099079724666,
           0.3749602116874393,
           0.37535325558141386,
           0.7970858683097823,
           0,
           0.5630923119463485,
           0.7424674325293417,
           0.5788702071590976,
           0.5634543339533233,
           0.3624955661571727
          ],
          [
           0.8096429665109723,
           0.9388251129675558,
           0.9295098738708663,
           0.7837917050823688,
           0.8312754366891575,
           0.5977627226451858,
           0,
           0.3164279993510566,
           0,
           0,
           1.0490208863994233,
           0.29868160040448233,
           0.21329808645056403,
           1.1550999413640746,
           0.8581574250233266,
           1.0550740706267292,
           1.1368123813979563,
           0,
           0.15683433551961068,
           1.0334184985594241,
           0.6093716765072252,
           0.2588636316204367,
           0.27922958968109546,
           1.2236490902063308,
           1.5644447718937946,
           0.6734985449966087,
           0.04623336490338392,
           1.7447262630634435,
           0.28536388845687943,
           0,
           0,
           1.7743450689404978,
           1.9241943831734207,
           1.240472272143637,
           1.1348618073826928,
           3.3440441843062882,
           0.8170703926737564,
           0.5467154279352076,
           0.35360148415793846,
           1.0051914558728043,
           0.1560493683555193,
           1.1631133735058987,
           0.13560796148867027,
           0.7988033140052471,
           1.1728390184836348,
           0.6965816763820163,
           1.005160930617854,
           0.5919856822500766,
           0.7857990712788743,
           1.0764339149813633,
           0.040701785056247,
           0.8332452402846542,
           0.7650419647385696,
           0.7720462334373539,
           0.7437968339506442,
           0.3901595262367019
          ],
          [
           0.5494551921266146,
           0.5769683187173369,
           0.20091057483282926,
           0.5326496737440825,
           0.36305103152358065,
           0.4016760261428174,
           0,
           0.05829332028008505,
           0,
           0,
           0.40335864775207053,
           0.22914905256315343,
           0.13581201423826172,
           0.5575312770122709,
           0.38723078623724794,
           0.5225927625307496,
           0.4916224625816419,
           0.08972530057132388,
           0,
           0.745523740340098,
           0.3016155538050098,
           0.1961339363724477,
           0.07138959946876922,
           0.4856526436100057,
           0.7734180948726981,
           0.3472379722241725,
           0.015012377554523226,
           0.9635722528420252,
           0.30158108707486386,
           0,
           0,
           1.0111177120518215,
           0.9357628655405046,
           0.6797456840261469,
           1.1022733116408214,
           0.8170703926737564,
           3.3415441843062883,
           0.3399688630326403,
           0.45666123260113745,
           0.2702042224378789,
           0.01290045045942767,
           0.5347560656491988,
           0.013469000246663754,
           0.2969365261544934,
           0.48034759592971144,
           0.37745881495550293,
           0.5577830093761413,
           0.29092657672609423,
           0.40335520657305723,
           0.4794193147483896,
           0.01909705684794405,
           0.5445507403362879,
           0.576176303965505,
           0.5269751998920431,
           0.5809023215296016,
           0.271008164030178
          ],
          [
           0.2206144088308708,
           0.275089242147311,
           0.07591518936948027,
           0.1544090951688757,
           0.46589270187895515,
           0.06643857416746624,
           0,
           0.3613517571517546,
           0,
           0,
           0.3636048283116988,
           0.8275454788793861,
           0.11015138564202287,
           0.32676216663778535,
           0.23098199384601248,
           0.3824372384172503,
           0.38300747002507807,
           0,
           0.09176216372433776,
           0.29810949378677565,
           0.22166653097814004,
           0.03170041839733484,
           0.007819975403221324,
           0.28840873001116796,
           0.3409473499941953,
           0.2483219385627522,
           0.01322143191082592,
           0.5253648153445818,
           0.32674470925278376,
           0.0504272600836817,
           0,
           0.41587522780165065,
           0.4921613245897474,
           0.39231726738082395,
           0.5965937726756043,
           0.5467154279352076,
           0.3399688630326403,
           3.3440441843062882,
           0.23256267151946952,
           1.085490655547448,
           0,
           0.22521249428769963,
           0.0222617705225141,
           0.06815378421527774,
           0.5059636751526897,
           0.09936543585360758,
           0.27385354613941004,
           0.06544852979279758,
           0.15823186489885455,
           0.4945292985695384,
           0.05773977390407703,
           0.2671084327395463,
           0.2653415532988759,
           0.23821739747334147,
           0.2315730514755523,
           0.10579953810127263
          ],
          [
           0.36280715149066234,
           0.2945924805844511,
           0.1846893029155967,
           0.4059420611972935,
           0.22343157512101897,
           0.32856592395137785,
           0,
           0.3895657526352174,
           0,
           0,
           0.32171246997446223,
           0.7026879005883422,
           0.3694545894814407,
           0.28575180622961405,
           0.3950004975770707,
           0.240459426479807,
           0.25748558852212344,
           0,
           0.16657029446064753,
           0.3546959700443475,
           0.07883186874365311,
           0.18213798234494316,
           0.20931784855225777,
           0.18552782970177129,
           0.308151798016739,
           0.11757554681416904,
           0.09490081913440207,
           0.39831607861599716,
           0.5935440641892349,
           0.10277242434762579,
           0,
           0.654505326874272,
           0.6695178231064927,
           0.3856807700371938,
           0.5902997763722109,
           0.35082630100775525,
           0.46326657170647634,
           0.23414997310677155,
           3.3415441843062883,
           0.41630755545186426,
           0.04392062384801587,
           0.3125534200291029,
           0,
           0.1263704477258636,
           0.26338966037247813,
           0.2542724623887005,
           0.17814166710130674,
           0.16863857007800354,
           0.12547173248276478,
           0.2914444803422782,
           0.08196958509281282,
           0.3217254641306857,
           0.42953931389688105,
           0.3322857057694657,
           0.3592307142240916,
           0.11753676305692773
          ],
          [
           0.5519077326991493,
           0.564625762383181,
           0.3541298479178896,
           0.600479814163299,
           0.6794800289255574,
           0.16077937071306714,
           0,
           0.5187497244942101,
           0,
           0,
           0.6147592919347855,
           0.687529473043877,
           0.20685888964243748,
           0.5830249504100289,
           0.6354811935407922,
           0.6431165889617851,
           0.6678092940895097,
           0.0546559253411667,
           0.16184344022346187,
           0.589527645746069,
           0.3552822424603357,
           0.4915211906122239,
           0.31041725133861053,
           0.6144412050262784,
           0.870373053443986,
           0.4704247520543907,
           0.033794163193012317,
           0.9494173525848177,
           0.45909314051595906,
           0.06622443893981611,
           0,
           1.0428573140690687,
           1.0582268622966464,
           0.6188062605295688,
           0.8759393750787359,
           1.0051914558728043,
           0.2709661271997832,
           1.085490655547448,
           0.41630755545186426,
           3.3440441843062887,
           0.017482684409562133,
           0.5079499278710098,
           0,
           0.30050079245758177,
           0.8049427404884257,
           0.307018962427819,
           0.45533385412730754,
           0.18482211208785637,
           0.4278945208330893,
           0.7017220655149896,
           0.08534165965858964,
           0.42369404898747254,
           0.5677206656412643,
           0.46579446651001755,
           0.4917788180285396,
           0.04002904835424248
          ],
          [
           0.0811463159152539,
           0.0719187224106248,
           0.11252773443008124,
           0,
           0.03605041480304605,
           0.08710953246202147,
           0,
           0.03966509936099438,
           0,
           0,
           0.05588238157086467,
           0.0028594939287751586,
           0,
           0.0835275358889116,
           0.019545844180864247,
           0,
           0.04277314446657732,
           0,
           0.0025956791278174407,
           0.08339642620979637,
           0.12141692405378901,
           0.12434638463090675,
           0,
           0.0824985900794073,
           0.048680475240791665,
           0.0641433383138943,
           0,
           0.11726708905850813,
           0.004554970917844958,
           0,
           0,
           0.0617417017192845,
           0.10956583808843279,
           0.09164721231240769,
           0.07911459539318155,
           0.1560493683555193,
           0.01290045045942767,
           0,
           0.04517062384801562,
           0.017482684409562133,
           3.344044184306288,
           0.13308984786459055,
           0.07011526476245544,
           0.058696104820504136,
           0.10204215072075362,
           0.03348122750199911,
           0.06134954503411727,
           0.07996340806418534,
           0.15789736427721124,
           0.11670822696769179,
           0.02184980888246857,
           0.19002692583337133,
           0.1397380913786268,
           0.12011421605872119,
           0.13531530249880586,
           0
          ],
          [
           0.7141893570042102,
           0.799268571220006,
           0.43573705777622784,
           0.46807354212052,
           0.5608945265921661,
           0.5996113263407219,
           0,
           0,
           0,
           0,
           0.8299792316805492,
           0.13403840669123301,
           0.06139909087657447,
           1.4764469434289609,
           0.6092059314547482,
           0.8499062488535136,
           0.7009321571190457,
           0,
           0.06791035574589399,
           0.7677877012488836,
           0.5285574863759761,
           0.2728367025107743,
           0.2762217223964587,
           1.0635987002004965,
           1.0719201771280829,
           0.45850261824709504,
           0.016374842677079116,
           1.1945122866034026,
           0.1701844134260151,
           0,
           0,
           1.1914643506221034,
           1.2390750009145883,
           1.0089992385983053,
           0.7184173906295368,
           1.1631133735058987,
           0.5372560656491987,
           0.22521249428769963,
           0.3125534200291029,
           0.5079499278710098,
           0.13308984786459055,
           3.3440441843062887,
           0.14618908959367793,
           0.5635360504492115,
           0.8446175109579754,
           0.6262609712465892,
           0.8889116468725051,
           0.5549913811402161,
           0.8006060034390456,
           0.6984578623592506,
           0.15911628613875495,
           0.6821928608874186,
           0.661077897602464,
           0.6265204899296974,
           0.718296700210042,
           0.4531588674421294
          ],
          [
           0.05112605842980722,
           0.059529628287979364,
           0.020430007226420077,
           0,
           0,
           0.11273383720965224,
           0,
           0,
           0,
           0,
           0,
           0,
           0.0004896672106791122,
           0.07850148474764129,
           0.014442476154504558,
           0,
           0,
           0,
           0,
           0,
           0.1292043934852547,
           0,
           0.005908024917494092,
           0,
           0.1491999772820365,
           0,
           0.005208704667335695,
           0.049565397582416626,
           0,
           0.022891814179449188,
           0,
           0,
           0.04854710256560102,
           0.0245393919389163,
           0.001739785876738953,
           0.13560796148867027,
           0.015135666913330237,
           0.0222617705225141,
           0,
           0,
           0.07011526476245544,
           0.14718908959367827,
           3.340710850972955,
           0.05292216443133846,
           0,
           0.025049034873962484,
           0.03842504658318724,
           0.021221632523189093,
           0.04301230293331981,
           0.028959083843498323,
           0.1356076869432834,
           0.006845545480523185,
           0.05700327291000873,
           0.11680909449872834,
           0.05253874542334813,
           0.05279398794773149
          ],
          [
           0.6834409190097137,
           0.4438370975089625,
           0.19466420955575847,
           0.6421822507255674,
           0.5366120349755348,
           0.49405131937613467,
           0,
           0.13729542238397974,
           0,
           0,
           0.42742594977637616,
           0.033663584923738554,
           0.025784064916483107,
           0.6803181031538275,
           0.1979611634720566,
           0.5817996950093298,
           0.617569175395102,
           0.043007999027042665,
           0.08164281242726057,
           0.5871321704121608,
           0.30632434769772976,
           0.08457091964549512,
           0.08833047373636482,
           0.5258750540121779,
           0.9752656800892936,
           0.4846217734705105,
           0,
           0.7262502262130042,
           0.04396834823850915,
           0,
           0,
           0.9212561060166697,
           0.8780770344199502,
           0.8036549244053948,
           0.38302528616703846,
           0.7988033140052473,
           0.2969365261544932,
           0.06815378421527774,
           0.12762534968664774,
           0.300500792457582,
           0.058696104820504136,
           0.5635360504492115,
           0.05292216443133846,
           3.3440441843062887,
           0.74878616620377,
           0.4960006030338886,
           0.7128134263409169,
           0.4684309804584901,
           0.668869047040404,
           0.5606009022869585,
           0.07891739388151198,
           0.6734605502206936,
           0.6517246140378625,
           0.5721335357286039,
           0.6636215608672302,
           0.2764189036549536
          ],
          [
           0.6684274820227096,
           0.7843897041024586,
           0.34371431148928977,
           0.6548881100545376,
           0.842669962719989,
           0.4127854269317033,
           0,
           0.29089767611441086,
           0,
           0,
           0.8468744031513067,
           0.3555784463369842,
           0.37541960857688306,
           0.847833764420336,
           0.5715575749653343,
           1.0427061235295838,
           1.0307929073456878,
           0.15471292647826873,
           0.06580398736405657,
           0.6143236581026197,
           0.5946948899881219,
           0.29975872524763947,
           0.32056713967937744,
           1.0274120477801838,
           1.108013746238273,
           0.58839537221156,
           0.010672065115632456,
           1.2468317218049632,
           0.3780751234555,
           0,
           0,
           1.5280555408061374,
           1.506679329500057,
           0.8022352895445839,
           0.9984444267640611,
           1.1728390184836348,
           0.4789190245011401,
           0.5059636751526897,
           0.264992224475042,
           0.8049427404884257,
           0.10204215072075362,
           0.8446175109579754,
           0,
           0.7487861662037698,
           3.344044184306288,
           0.969895756772067,
           1.246727099044187,
           0.5619392282898201,
           0.8027502780765512,
           1.0376431405237678,
           0,
           0.709810110409089,
           0.7030957241309457,
           0.5701229009036939,
           0.6499342432235857,
           0.45017235324741733
          ],
          [
           0.3035491059154949,
           0.6235953815888076,
           0.318789784862588,
           0.32475209473829736,
           0.4427559918491406,
           0.4288769978359319,
           0,
           0.10859901868414479,
           0,
           0,
           0.5673296534427796,
           0.13245469793457998,
           0.12392297944608499,
           0.6569162356575338,
           0.42535518038726705,
           0.753949484401887,
           0.6028216401554551,
           0.05464110377769282,
           0.050908087489911935,
           0.33080825480278797,
           0.36095646805661086,
           0.24351790567011244,
           0.34114646487392086,
           0.7459923539951756,
           0.7383647188852618,
           0.3601840158912908,
           0.007456745806218024,
           0.7929444671239558,
           0.25145150561322693,
           0.016679973329151387,
           0,
           1.0376409364253967,
           0.9871298885308823,
           0.7945994672581502,
           0.5040480496632975,
           0.6965816763820163,
           0.3797604022570906,
           0.09936543585360758,
           0.24927246238870038,
           0.307018962427819,
           0.03425045827122952,
           0.6255466855323033,
           0.025049034873962484,
           0.49594273266351774,
           0.9696457567720673,
           3.344044184306288,
           0.7170733817314789,
           0.657245798115218,
           0.6471356183717898,
           0.6632507892110802,
           0.02317893297345508,
           0.3633233503282436,
           0.317471857313246,
           0.2689936972448015,
           0.3184143435961768,
           0.25420959371998464
          ],
          [
           0.6715304500614019,
           0.6971894294795429,
           0.3141100987616414,
           0.5325504384065811,
           0.7320449863174869,
           0.5283584792714922,
           0,
           0.0923265042269601,
           0,
           0,
           0.6100394207874338,
           0.17922239690301023,
           0.24299530857922136,
           0.8856791834933597,
           0.5485999912188206,
           0.7678806331903876,
           0.7525737486517743,
           0.06852152150742752,
           0.10173300063012114,
           0.7320327248954146,
           0.4450540889957315,
           0.17161319948814446,
           0.29658452299480587,
           0.7391317267381239,
           0.9577094719020347,
           0.546413096799375,
           0,
           0.9946731167753029,
           0.1470793660768095,
           0,
           0,
           1.221504076441478,
           1.1857982077559246,
           0.8275074483597371,
           0.6358099079724664,
           1.0051609306178542,
           0.5572915563846883,
           0.27385354613941004,
           0.17768712164676126,
           0.45533385412730754,
           0.06134954503411727,
           0.8889116468725051,
           0.03942504658318757,
           0.7128134263409169,
           1.246727099044187,
           0.7167792640844204,
           3.344044184306288,
           0.8776748237581322,
           1.1443075949832995,
           0.9954720888975115,
           0,
           0.7649561302572214,
           0.6703746167878291,
           0.6040521628558826,
           0.7133027075773364,
           0.37772685185298727
          ],
          [
           0.32487285454144077,
           0.4288554154048967,
           0.1910239885680589,
           0.23704723379398507,
           0.3160562730007155,
           0.46876905924857404,
           0,
           0.09966884671442466,
           0,
           0,
           0.36073591192094856,
           0.0997930685485311,
           0.11971660748234747,
           0.5145627419367345,
           0.2878221502773872,
           0.5331218938535507,
           0.4476764044468027,
           0.019899451169394844,
           0.028765439528585013,
           0.2869834892036258,
           0.2792542548077197,
           0.14839041843153522,
           0.19142592472889497,
           0.5172679302012977,
           0.670939684556938,
           0.27565026079616306,
           0,
           0.6021126284335092,
           0.1798893678731479,
           0.03919263330227585,
           0,
           0.8517521123261114,
           0.8049138598572472,
           0.6287817577084986,
           0.3749602116874393,
           0.5919856822500769,
           0.2929265767260949,
           0.0654485297927978,
           0.16863857007800354,
           0.18482211208785637,
           0.07996340806418534,
           0.5549913811402161,
           0.022650203951759984,
           0.4684309804584901,
           0.5619392282898199,
           0.657245798115218,
           0.8776748237581322,
           3.3440441843062887,
           0.5912937231755726,
           0.5288712181035395,
           0.017862576173956146,
           0.361468823965984,
           0.28556405377555794,
           0.2150182447236375,
           0.36707659833810946,
           0.18514743507476128
          ],
          [
           0.6311299919263669,
           0.5069705517789664,
           0.29998923672657085,
           0.531456256919687,
           0.5695282703793634,
           0.2942332460022392,
           0,
           0.12643525754461127,
           0,
           0,
           0.509482830004715,
           0.1035976879856344,
           0.04140356643567111,
           0.7505303423691321,
           0.36524437483090777,
           0.5536327114785826,
           0.6047636294455683,
           0.10636955317992358,
           0.05921944478652463,
           0.56262264803255,
           0.35722950174271983,
           0.18859915149418738,
           0.29060788506712365,
           0.5375405417511785,
           0.791051385427274,
           0.4132855217578415,
           0.0007984593818735064,
           0.8398077464696094,
           0.08894828647944397,
           0,
           0,
           1.0111904272186698,
           0.9320195648211935,
           0.7773211629135148,
           0.37535325558141364,
           0.7857990712788745,
           0.40335520657305723,
           0.15823186489885455,
           0.12229654933258116,
           0.4278945208330893,
           0.15789736427721124,
           0.8006060034390456,
           0.043678969599986406,
           0.668869047040404,
           0.8027502780765512,
           0.6471356183717898,
           1.1443075949832995,
           0.5912937231755726,
           3.344044184306288,
           0.7124195796669563,
           0.017092626910779174,
           0.659334595300832,
           0.5382042923741166,
           0.5317563805204142,
           0.5398379878629966,
           0.2711062501706736
          ],
          [
           0.646122670791319,
           0.6159230099769655,
           0.18873816896749407,
           0.5866974742397213,
           0.6114835211187746,
           0.3209978013415413,
           0,
           0.27720124235346555,
           0,
           0,
           0.6057609093303009,
           0.30653779570363104,
           0.1451744469009797,
           0.7176565283876437,
           0.5214838641293698,
           0.7527162016976678,
           0.6828814130614735,
           0.04887775730655397,
           0.08241238184686361,
           0.6436122110248519,
           0.40357992405236853,
           0.1774197405993223,
           0.2329336670833011,
           0.7892321448628792,
           0.7244269846150533,
           0.4676116044545484,
           0.008040665666545266,
           1.104915385131434,
           0.2883171020971611,
           0,
           0,
           1.072250616250117,
           1.1413981513539992,
           0.575491939311783,
           0.7970858683097823,
           1.0764339149813633,
           0.4794193147483896,
           0.4945292985695384,
           0.2921111470089448,
           0.7017220655149896,
           0.11670822696769179,
           0.6984578623592506,
           0.028959083843498323,
           0.5606009022869585,
           1.0376431405237678,
           0.6632507892110802,
           0.9954720888975115,
           0.5288712181035398,
           0.7124195796669563,
           3.344044184306288,
           0.06997639552150448,
           0.6089080753501999,
           0.6558746820541512,
           0.4727627275213071,
           0.6565552899412297,
           0.33359980938391853
          ],
          [
           0,
           0.015445833300938183,
           0,
           0,
           0.029688838099330983,
           0.0505379239441992,
           0,
           0.07662510960820956,
           0,
           0,
           0,
           0.0348837039250407,
           0.027360404843745467,
           0.028129638265978585,
           0,
           0.02148593834003165,
           0.018790207690790872,
           0.15278977545841554,
           0,
           0,
           0,
           0,
           0,
           0,
           0.04678834523311126,
           0,
           0,
           0,
           0.07002427030597946,
           0.031877526506888465,
           0,
           0,
           0,
           0.05584089206415177,
           0,
           0.040701785056247,
           0.019994492745379677,
           0.05773977390407703,
           0.084080696203924,
           0.08534165965858964,
           0.02184980888246857,
           0.15911628613875495,
           0.1356076869432834,
           0.07891739388151198,
           0,
           0.02317893297345508,
           0,
           0.017862576173956146,
           0.017092626910779174,
           0.06997639552150448,
           3.3440441843062887,
           0.032125434946702836,
           0.09800087629166132,
           0,
           0,
           0
          ],
          [
           1.7935410681414075,
           0.4976674354209636,
           0.46311591010166975,
           0.5357421812827874,
           0.614699075729217,
           0.4000946928887772,
           0,
           0.19601991957087694,
           0,
           0,
           0.5370542672776821,
           0.08810339981416782,
           0.03499379937038949,
           0.8624122668263756,
           0.4106284780266627,
           0.5342174926986609,
           0.47254101801187165,
           0.018638596401740593,
           0.021833929486124504,
           0.7950700365039154,
           0.39501136146260807,
           0.29267183957324283,
           0.18446172813302253,
           0.3230316115034788,
           0.9100378667013915,
           0.5665411536304825,
           0.013559144330739237,
           0.8694583575737314,
           0.09860454631270166,
           0,
           0,
           0.9715664956995953,
           0.9537700081775702,
           0.6307456050712892,
           0.5630923119463485,
           0.8332452402846542,
           0.5445507403362879,
           0.2671084327395463,
           0.32163393094990766,
           0.42369404898747254,
           0.19002692583337133,
           0.6821928608874188,
           0.006845545480523185,
           0.6734605502206934,
           0.709810110409089,
           0.3633233503282436,
           0.7649561302572216,
           0.3614688239659838,
           0.659334595300832,
           0.6089080753501999,
           0.032125434946702836,
           3.344044184306288,
           1.6485349723280363,
           1.521439794997136,
           1.4368547564288603,
           0.2981116722116699
          ],
          [
           2.0624067501329475,
           0.5573434974254163,
           0.38296688370777865,
           0.597373367477041,
           0.6615409141923014,
           0.29544873001570693,
           0,
           0.12312874472154922,
           0,
           0,
           0.536289133376715,
           0.15548244831889368,
           0.16795168255149928,
           0.776308755634584,
           0.4612280277845522,
           0.5649856541868625,
           0.5448355929294064,
           0.06838255141152327,
           0.05812670186059199,
           0.725806638131012,
           0.3525724175259195,
           0.24079547331156448,
           0.25263113418851235,
           0.2838974709064286,
           0.8088153973636807,
           0.4935201315150577,
           0.01633306939006207,
           0.8767391696924762,
           0.17016118774403788,
           0,
           0,
           0.9411965430310296,
           0.9062039220085443,
           0.5101976862647972,
           0.7424674325293417,
           0.7650419647385696,
           0.576176303965505,
           0.2653415532988759,
           0.42873931389688114,
           0.5677206656412643,
           0.1397380913786268,
           0.661077897602464,
           0.056169939576675265,
           0.6517246140378625,
           0.7030957241309457,
           0.317471857313246,
           0.6703746167878291,
           0.28556405377555816,
           0.5382042923741168,
           0.6558746820541512,
           0.09800087629166132,
           1.6485349723280363,
           3.344044184306288,
           1.3691176327889094,
           1.4962622834210029,
           0.37766953158867844
          ],
          [
           1.648086743269396,
           0.4479920612076107,
           0.5330885152681506,
           0.6068660959084968,
           0.5611677124090573,
           0.22619854905646308,
           0,
           0.07998170950948413,
           0,
           0,
           0.5228690127823961,
           0.09843249375389673,
           0.11071136415705674,
           0.8734369075333932,
           0.5058594984061049,
           0.47762314075501555,
           0.41933913434582637,
           0,
           0.07578723748412886,
           0.8198923061676893,
           0.28795966903203496,
           0.06709423755404931,
           0,
           0.2566682495833281,
           0.7675950157476175,
           0.4900291631461924,
           0.023341228402473213,
           0.8800117536177741,
           0.04572655273540294,
           0.05343105898994249,
           0,
           0.8602957649363554,
           0.7951464064745299,
           0.5537835680615415,
           0.5788702071590976,
           0.7720462334373539,
           0.5269751998920431,
           0.23821739747334147,
           0.3322857057694657,
           0.46579446651001755,
           0.12011421605872119,
           0.6265204899296974,
           0.11847576116539527,
           0.5721335357286041,
           0.5701229009036939,
           0.2689936972448015,
           0.6040521628558824,
           0.2150182447236375,
           0.5317563805204144,
           0.4727627275213071,
           0,
           1.521439794997136,
           1.3691176327889094,
           3.3440441843062887,
           1.2636045742868558,
           0.27949408663569564
          ],
          [
           1.6037811723504005,
           0.5853289186433162,
           0.41411938405080395,
           0.47011324398937093,
           0.5247428046064946,
           0.26133447807162424,
           0,
           0.08157943343869789,
           0,
           0,
           0.4011937115834998,
           0.09211987038391811,
           0.1471794869833256,
           0.7796521974203126,
           0.4536282571647985,
           0.5530511142237584,
           0.5594199686953849,
           0.06564183775590537,
           0.0720692836999568,
           0.793769830470314,
           0.23710847446072014,
           0.07496297654079465,
           0.12630087876694862,
           0.257931324588081,
           0.9258935142699061,
           0.4635809192239533,
           0,
           0.7918082885637197,
           0.147981221828422,
           0.022576090073080035,
           0,
           0.827320407455213,
           0.7929200879946405,
           0.5836623551934763,
           0.5634543339533233,
           0.7437968339506442,
           0.580664226291506,
           0.2315730514755523,
           0.35994499993837703,
           0.4917788180285396,
           0.13531530249880586,
           0.718296700210042,
           0.05253874542334813,
           0.66362156086723,
           0.6499342432235857,
           0.3184143435961766,
           0.7133027075773364,
           0.36707659833810924,
           0.5398379878629966,
           0.6565552899412297,
           0,
           1.4368547564288603,
           1.4962622834210029,
           1.2636045742868558,
           3.344044184306288,
           0.30680813499424753
          ],
          [
           0.3224933626547699,
           0.4495790806354947,
           0.16881178385016993,
           0.22444570779346584,
           0.14151032524820595,
           0.2369017712933248,
           0,
           0,
           0,
           0,
           0.20645914154909129,
           0.03278880521147398,
           0,
           0.48898253519271107,
           0.16271718989399053,
           0.5126410409686764,
           0.48578162498192157,
           0.14531462900355718,
           0.011503127117947987,
           0.3560856565387347,
           0.6324864950539948,
           0.13830625016274256,
           0.10472720346367703,
           0.422046060762018,
           0.437433154792374,
           0.08429673872785637,
           0.02312180639651551,
           0.391048286596809,
           0.046880268394621005,
           0,
           0,
           0.5877624936371881,
           0.5141560219188146,
           0.3410350924405767,
           0.3624955661571727,
           0.3901595262367019,
           0.271008164030178,
           0.10579953810127263,
           0.11753676305692773,
           0.04002904835424248,
           0,
           0.4531588674421294,
           0.05279398794773149,
           0.2764189036549536,
           0.45017235324741733,
           0.25420959371998464,
           0.37772685185298727,
           0.18514743507476128,
           0.2711062501706736,
           0.33359980938391853,
           0,
           0.2981116722116699,
           0.37766953158867844,
           0.27949408663569564,
           0.30680813499424753,
           3.3440441843062882
          ]
         ]
        }
       ],
       "layout": {
        "template": {
         "data": {
          "bar": [
           {
            "error_x": {
             "color": "#2a3f5f"
            },
            "error_y": {
             "color": "#2a3f5f"
            },
            "marker": {
             "line": {
              "color": "#E5ECF6",
              "width": 0.5
             },
             "pattern": {
              "fillmode": "overlay",
              "size": 10,
              "solidity": 0.2
             }
            },
            "type": "bar"
           }
          ],
          "barpolar": [
           {
            "marker": {
             "line": {
              "color": "#E5ECF6",
              "width": 0.5
             },
             "pattern": {
              "fillmode": "overlay",
              "size": 10,
              "solidity": 0.2
             }
            },
            "type": "barpolar"
           }
          ],
          "carpet": [
           {
            "aaxis": {
             "endlinecolor": "#2a3f5f",
             "gridcolor": "white",
             "linecolor": "white",
             "minorgridcolor": "white",
             "startlinecolor": "#2a3f5f"
            },
            "baxis": {
             "endlinecolor": "#2a3f5f",
             "gridcolor": "white",
             "linecolor": "white",
             "minorgridcolor": "white",
             "startlinecolor": "#2a3f5f"
            },
            "type": "carpet"
           }
          ],
          "choropleth": [
           {
            "colorbar": {
             "outlinewidth": 0,
             "ticks": ""
            },
            "type": "choropleth"
           }
          ],
          "contour": [
           {
            "colorbar": {
             "outlinewidth": 0,
             "ticks": ""
            },
            "colorscale": [
             [
              0,
              "#0d0887"
             ],
             [
              0.1111111111111111,
              "#46039f"
             ],
             [
              0.2222222222222222,
              "#7201a8"
             ],
             [
              0.3333333333333333,
              "#9c179e"
             ],
             [
              0.4444444444444444,
              "#bd3786"
             ],
             [
              0.5555555555555556,
              "#d8576b"
             ],
             [
              0.6666666666666666,
              "#ed7953"
             ],
             [
              0.7777777777777778,
              "#fb9f3a"
             ],
             [
              0.8888888888888888,
              "#fdca26"
             ],
             [
              1,
              "#f0f921"
             ]
            ],
            "type": "contour"
           }
          ],
          "contourcarpet": [
           {
            "colorbar": {
             "outlinewidth": 0,
             "ticks": ""
            },
            "type": "contourcarpet"
           }
          ],
          "heatmap": [
           {
            "colorbar": {
             "outlinewidth": 0,
             "ticks": ""
            },
            "colorscale": [
             [
              0,
              "#0d0887"
             ],
             [
              0.1111111111111111,
              "#46039f"
             ],
             [
              0.2222222222222222,
              "#7201a8"
             ],
             [
              0.3333333333333333,
              "#9c179e"
             ],
             [
              0.4444444444444444,
              "#bd3786"
             ],
             [
              0.5555555555555556,
              "#d8576b"
             ],
             [
              0.6666666666666666,
              "#ed7953"
             ],
             [
              0.7777777777777778,
              "#fb9f3a"
             ],
             [
              0.8888888888888888,
              "#fdca26"
             ],
             [
              1,
              "#f0f921"
             ]
            ],
            "type": "heatmap"
           }
          ],
          "heatmapgl": [
           {
            "colorbar": {
             "outlinewidth": 0,
             "ticks": ""
            },
            "colorscale": [
             [
              0,
              "#0d0887"
             ],
             [
              0.1111111111111111,
              "#46039f"
             ],
             [
              0.2222222222222222,
              "#7201a8"
             ],
             [
              0.3333333333333333,
              "#9c179e"
             ],
             [
              0.4444444444444444,
              "#bd3786"
             ],
             [
              0.5555555555555556,
              "#d8576b"
             ],
             [
              0.6666666666666666,
              "#ed7953"
             ],
             [
              0.7777777777777778,
              "#fb9f3a"
             ],
             [
              0.8888888888888888,
              "#fdca26"
             ],
             [
              1,
              "#f0f921"
             ]
            ],
            "type": "heatmapgl"
           }
          ],
          "histogram": [
           {
            "marker": {
             "pattern": {
              "fillmode": "overlay",
              "size": 10,
              "solidity": 0.2
             }
            },
            "type": "histogram"
           }
          ],
          "histogram2d": [
           {
            "colorbar": {
             "outlinewidth": 0,
             "ticks": ""
            },
            "colorscale": [
             [
              0,
              "#0d0887"
             ],
             [
              0.1111111111111111,
              "#46039f"
             ],
             [
              0.2222222222222222,
              "#7201a8"
             ],
             [
              0.3333333333333333,
              "#9c179e"
             ],
             [
              0.4444444444444444,
              "#bd3786"
             ],
             [
              0.5555555555555556,
              "#d8576b"
             ],
             [
              0.6666666666666666,
              "#ed7953"
             ],
             [
              0.7777777777777778,
              "#fb9f3a"
             ],
             [
              0.8888888888888888,
              "#fdca26"
             ],
             [
              1,
              "#f0f921"
             ]
            ],
            "type": "histogram2d"
           }
          ],
          "histogram2dcontour": [
           {
            "colorbar": {
             "outlinewidth": 0,
             "ticks": ""
            },
            "colorscale": [
             [
              0,
              "#0d0887"
             ],
             [
              0.1111111111111111,
              "#46039f"
             ],
             [
              0.2222222222222222,
              "#7201a8"
             ],
             [
              0.3333333333333333,
              "#9c179e"
             ],
             [
              0.4444444444444444,
              "#bd3786"
             ],
             [
              0.5555555555555556,
              "#d8576b"
             ],
             [
              0.6666666666666666,
              "#ed7953"
             ],
             [
              0.7777777777777778,
              "#fb9f3a"
             ],
             [
              0.8888888888888888,
              "#fdca26"
             ],
             [
              1,
              "#f0f921"
             ]
            ],
            "type": "histogram2dcontour"
           }
          ],
          "mesh3d": [
           {
            "colorbar": {
             "outlinewidth": 0,
             "ticks": ""
            },
            "type": "mesh3d"
           }
          ],
          "parcoords": [
           {
            "line": {
             "colorbar": {
              "outlinewidth": 0,
              "ticks": ""
             }
            },
            "type": "parcoords"
           }
          ],
          "pie": [
           {
            "automargin": true,
            "type": "pie"
           }
          ],
          "scatter": [
           {
            "fillpattern": {
             "fillmode": "overlay",
             "size": 10,
             "solidity": 0.2
            },
            "type": "scatter"
           }
          ],
          "scatter3d": [
           {
            "line": {
             "colorbar": {
              "outlinewidth": 0,
              "ticks": ""
             }
            },
            "marker": {
             "colorbar": {
              "outlinewidth": 0,
              "ticks": ""
             }
            },
            "type": "scatter3d"
           }
          ],
          "scattercarpet": [
           {
            "marker": {
             "colorbar": {
              "outlinewidth": 0,
              "ticks": ""
             }
            },
            "type": "scattercarpet"
           }
          ],
          "scattergeo": [
           {
            "marker": {
             "colorbar": {
              "outlinewidth": 0,
              "ticks": ""
             }
            },
            "type": "scattergeo"
           }
          ],
          "scattergl": [
           {
            "marker": {
             "colorbar": {
              "outlinewidth": 0,
              "ticks": ""
             }
            },
            "type": "scattergl"
           }
          ],
          "scattermapbox": [
           {
            "marker": {
             "colorbar": {
              "outlinewidth": 0,
              "ticks": ""
             }
            },
            "type": "scattermapbox"
           }
          ],
          "scatterpolar": [
           {
            "marker": {
             "colorbar": {
              "outlinewidth": 0,
              "ticks": ""
             }
            },
            "type": "scatterpolar"
           }
          ],
          "scatterpolargl": [
           {
            "marker": {
             "colorbar": {
              "outlinewidth": 0,
              "ticks": ""
             }
            },
            "type": "scatterpolargl"
           }
          ],
          "scatterternary": [
           {
            "marker": {
             "colorbar": {
              "outlinewidth": 0,
              "ticks": ""
             }
            },
            "type": "scatterternary"
           }
          ],
          "surface": [
           {
            "colorbar": {
             "outlinewidth": 0,
             "ticks": ""
            },
            "colorscale": [
             [
              0,
              "#0d0887"
             ],
             [
              0.1111111111111111,
              "#46039f"
             ],
             [
              0.2222222222222222,
              "#7201a8"
             ],
             [
              0.3333333333333333,
              "#9c179e"
             ],
             [
              0.4444444444444444,
              "#bd3786"
             ],
             [
              0.5555555555555556,
              "#d8576b"
             ],
             [
              0.6666666666666666,
              "#ed7953"
             ],
             [
              0.7777777777777778,
              "#fb9f3a"
             ],
             [
              0.8888888888888888,
              "#fdca26"
             ],
             [
              1,
              "#f0f921"
             ]
            ],
            "type": "surface"
           }
          ],
          "table": [
           {
            "cells": {
             "fill": {
              "color": "#EBF0F8"
             },
             "line": {
              "color": "white"
             }
            },
            "header": {
             "fill": {
              "color": "#C8D4E3"
             },
             "line": {
              "color": "white"
             }
            },
            "type": "table"
           }
          ]
         },
         "layout": {
          "annotationdefaults": {
           "arrowcolor": "#2a3f5f",
           "arrowhead": 0,
           "arrowwidth": 1
          },
          "autotypenumbers": "strict",
          "coloraxis": {
           "colorbar": {
            "outlinewidth": 0,
            "ticks": ""
           }
          },
          "colorscale": {
           "diverging": [
            [
             0,
             "#8e0152"
            ],
            [
             0.1,
             "#c51b7d"
            ],
            [
             0.2,
             "#de77ae"
            ],
            [
             0.3,
             "#f1b6da"
            ],
            [
             0.4,
             "#fde0ef"
            ],
            [
             0.5,
             "#f7f7f7"
            ],
            [
             0.6,
             "#e6f5d0"
            ],
            [
             0.7,
             "#b8e186"
            ],
            [
             0.8,
             "#7fbc41"
            ],
            [
             0.9,
             "#4d9221"
            ],
            [
             1,
             "#276419"
            ]
           ],
           "sequential": [
            [
             0,
             "#0d0887"
            ],
            [
             0.1111111111111111,
             "#46039f"
            ],
            [
             0.2222222222222222,
             "#7201a8"
            ],
            [
             0.3333333333333333,
             "#9c179e"
            ],
            [
             0.4444444444444444,
             "#bd3786"
            ],
            [
             0.5555555555555556,
             "#d8576b"
            ],
            [
             0.6666666666666666,
             "#ed7953"
            ],
            [
             0.7777777777777778,
             "#fb9f3a"
            ],
            [
             0.8888888888888888,
             "#fdca26"
            ],
            [
             1,
             "#f0f921"
            ]
           ],
           "sequentialminus": [
            [
             0,
             "#0d0887"
            ],
            [
             0.1111111111111111,
             "#46039f"
            ],
            [
             0.2222222222222222,
             "#7201a8"
            ],
            [
             0.3333333333333333,
             "#9c179e"
            ],
            [
             0.4444444444444444,
             "#bd3786"
            ],
            [
             0.5555555555555556,
             "#d8576b"
            ],
            [
             0.6666666666666666,
             "#ed7953"
            ],
            [
             0.7777777777777778,
             "#fb9f3a"
            ],
            [
             0.8888888888888888,
             "#fdca26"
            ],
            [
             1,
             "#f0f921"
            ]
           ]
          },
          "colorway": [
           "#636efa",
           "#EF553B",
           "#00cc96",
           "#ab63fa",
           "#FFA15A",
           "#19d3f3",
           "#FF6692",
           "#B6E880",
           "#FF97FF",
           "#FECB52"
          ],
          "font": {
           "color": "#2a3f5f"
          },
          "geo": {
           "bgcolor": "white",
           "lakecolor": "white",
           "landcolor": "#E5ECF6",
           "showlakes": true,
           "showland": true,
           "subunitcolor": "white"
          },
          "hoverlabel": {
           "align": "left"
          },
          "hovermode": "closest",
          "mapbox": {
           "style": "light"
          },
          "paper_bgcolor": "white",
          "plot_bgcolor": "#E5ECF6",
          "polar": {
           "angularaxis": {
            "gridcolor": "white",
            "linecolor": "white",
            "ticks": ""
           },
           "bgcolor": "#E5ECF6",
           "radialaxis": {
            "gridcolor": "white",
            "linecolor": "white",
            "ticks": ""
           }
          },
          "scene": {
           "xaxis": {
            "backgroundcolor": "#E5ECF6",
            "gridcolor": "white",
            "gridwidth": 2,
            "linecolor": "white",
            "showbackground": true,
            "ticks": "",
            "zerolinecolor": "white"
           },
           "yaxis": {
            "backgroundcolor": "#E5ECF6",
            "gridcolor": "white",
            "gridwidth": 2,
            "linecolor": "white",
            "showbackground": true,
            "ticks": "",
            "zerolinecolor": "white"
           },
           "zaxis": {
            "backgroundcolor": "#E5ECF6",
            "gridcolor": "white",
            "gridwidth": 2,
            "linecolor": "white",
            "showbackground": true,
            "ticks": "",
            "zerolinecolor": "white"
           }
          },
          "shapedefaults": {
           "line": {
            "color": "#2a3f5f"
           }
          },
          "ternary": {
           "aaxis": {
            "gridcolor": "white",
            "linecolor": "white",
            "ticks": ""
           },
           "baxis": {
            "gridcolor": "white",
            "linecolor": "white",
            "ticks": ""
           },
           "bgcolor": "#E5ECF6",
           "caxis": {
            "gridcolor": "white",
            "linecolor": "white",
            "ticks": ""
           }
          },
          "title": {
           "x": 0.05
          },
          "xaxis": {
           "automargin": true,
           "gridcolor": "white",
           "linecolor": "white",
           "ticks": "",
           "title": {
            "standoff": 15
           },
           "zerolinecolor": "white",
           "zerolinewidth": 2
          },
          "yaxis": {
           "automargin": true,
           "gridcolor": "white",
           "linecolor": "white",
           "ticks": "",
           "title": {
            "standoff": 15
           },
           "zerolinecolor": "white",
           "zerolinewidth": 2
          }
         }
        },
        "title": {
         "text": "Mutual Information",
         "x": 0.5
        }
       }
      }
     },
     "metadata": {},
     "output_type": "display_data"
    },
    {
     "ename": "TypeError",
     "evalue": "unsupported operand type(s) for +: 'Timestamp' and 'float'",
     "output_type": "error",
     "traceback": [
      "\u001b[1;31m---------------------------------------------------------------------------\u001b[0m",
      "\u001b[1;31mTypeError\u001b[0m                                 Traceback (most recent call last)",
      "File \u001b[1;32mc:\\Users\\krodriguez0109\\AppData\\Local\\anaconda3\\envs\\pytorch\\lib\\site-packages\\pandas\\core\\ops\\array_ops.py:171\u001b[0m, in \u001b[0;36m_na_arithmetic_op\u001b[1;34m(left, right, op, is_cmp)\u001b[0m\n\u001b[0;32m    170\u001b[0m \u001b[39mtry\u001b[39;00m:\n\u001b[1;32m--> 171\u001b[0m     result \u001b[39m=\u001b[39m func(left, right)\n\u001b[0;32m    172\u001b[0m \u001b[39mexcept\u001b[39;00m \u001b[39mTypeError\u001b[39;00m:\n",
      "File \u001b[1;32mc:\\Users\\krodriguez0109\\AppData\\Local\\anaconda3\\envs\\pytorch\\lib\\site-packages\\pandas\\core\\computation\\expressions.py:239\u001b[0m, in \u001b[0;36mevaluate\u001b[1;34m(op, a, b, use_numexpr)\u001b[0m\n\u001b[0;32m    237\u001b[0m     \u001b[39mif\u001b[39;00m use_numexpr:\n\u001b[0;32m    238\u001b[0m         \u001b[39m# error: \"None\" not callable\u001b[39;00m\n\u001b[1;32m--> 239\u001b[0m         \u001b[39mreturn\u001b[39;00m _evaluate(op, op_str, a, b)  \u001b[39m# type: ignore[misc]\u001b[39;00m\n\u001b[0;32m    240\u001b[0m \u001b[39mreturn\u001b[39;00m _evaluate_standard(op, op_str, a, b)\n",
      "File \u001b[1;32mc:\\Users\\krodriguez0109\\AppData\\Local\\anaconda3\\envs\\pytorch\\lib\\site-packages\\pandas\\core\\computation\\expressions.py:70\u001b[0m, in \u001b[0;36m_evaluate_standard\u001b[1;34m(op, op_str, a, b)\u001b[0m\n\u001b[0;32m     69\u001b[0m     _store_test_result(\u001b[39mFalse\u001b[39;00m)\n\u001b[1;32m---> 70\u001b[0m \u001b[39mreturn\u001b[39;00m op(a, b)\n",
      "\u001b[1;31mTypeError\u001b[0m: unsupported operand type(s) for +: 'Timestamp' and 'float'",
      "\nDuring handling of the above exception, another exception occurred:\n",
      "\u001b[1;31mTypeError\u001b[0m                                 Traceback (most recent call last)",
      "Cell \u001b[1;32mIn[3], line 1\u001b[0m\n\u001b[1;32m----> 1\u001b[0m cleandf \u001b[39m=\u001b[39m dp\u001b[39m.\u001b[39;49mpipeline(optional\u001b[39m=\u001b[39;49m \u001b[39mTrue\u001b[39;49;00m, parse\u001b[39m=\u001b[39;49m \u001b[39mTrue\u001b[39;49;00m, resample\u001b[39m=\u001b[39;49m \u001b[39mFalse\u001b[39;49;00m ,index \u001b[39m=\u001b[39;49m \u001b[39m'\u001b[39;49m\u001b[39mDate\u001b[39;49m\u001b[39m'\u001b[39;49m,engineering\u001b[39m=\u001b[39;49m\u001b[39m'\u001b[39;49m\u001b[39mtime_lag\u001b[39;49m\u001b[39m'\u001b[39;49m)\n",
      "File \u001b[1;32mc:\\Users\\krodriguez0109\\Documents\\GitHub\\Data-Processing-Automation\\pipeline.py:62\u001b[0m, in \u001b[0;36mDataProcessing.pipeline\u001b[1;34m(self, optional, parse, index, drop_thresh, fill_missing_method, resample, timescale, engineering, feature_selector)\u001b[0m\n\u001b[0;32m     60\u001b[0m     da \u001b[39m=\u001b[39m DataAnalysis(df,\u001b[39mself\u001b[39m\u001b[39m.\u001b[39mtarget)\n\u001b[0;32m     61\u001b[0m     da\u001b[39m.\u001b[39mcorrelation_analysis()\n\u001b[1;32m---> 62\u001b[0m     da\u001b[39m.\u001b[39;49mvariance_analysis()\n\u001b[0;32m     64\u001b[0m \u001b[39m# Feature Engineering (should this go after selection?)\u001b[39;00m\n\u001b[0;32m     65\u001b[0m \u001b[39m# should we make this a seperate df and then concat after feature selection?\u001b[39;00m\n\u001b[0;32m     66\u001b[0m fe \u001b[39m=\u001b[39m FeatureEngineering(df)\n",
      "File \u001b[1;32mc:\\Users\\krodriguez0109\\Documents\\GitHub\\Data-Processing-Automation\\Data_Analyzing\\data_analysis_main.py:55\u001b[0m, in \u001b[0;36mDataAnalysis.variance_analysis\u001b[1;34m(self, data)\u001b[0m\n\u001b[0;32m     45\u001b[0m \u001b[39m\u001b[39m\u001b[39m'''\u001b[39;00m\n\u001b[0;32m     46\u001b[0m \u001b[39mCalculate the Normalized STD of each column, as a measure of variance\u001b[39;00m\n\u001b[0;32m     47\u001b[0m \n\u001b[1;32m   (...)\u001b[0m\n\u001b[0;32m     50\u001b[0m \n\u001b[0;32m     51\u001b[0m \u001b[39m'''\u001b[39;00m\n\u001b[0;32m     53\u001b[0m data \u001b[39m=\u001b[39m \u001b[39mself\u001b[39m\u001b[39m.\u001b[39mdata \u001b[39mif\u001b[39;00m data \u001b[39mis\u001b[39;00m \u001b[39mNone\u001b[39;00m \u001b[39melse\u001b[39;00m data\n\u001b[1;32m---> 55\u001b[0m norm_std \u001b[39m=\u001b[39m data\u001b[39m.\u001b[39mstd() \u001b[39m/\u001b[39m \u001b[39mabs\u001b[39m(data\u001b[39m.\u001b[39;49mmean() \u001b[39m+\u001b[39;49m \u001b[39m1e-6\u001b[39;49m)\n\u001b[0;32m     56\u001b[0m norm_std \u001b[39m=\u001b[39m norm_std\u001b[39m.\u001b[39msort_values(ascending\u001b[39m=\u001b[39m\u001b[39mFalse\u001b[39;00m)\n\u001b[0;32m     57\u001b[0m \u001b[39m# visualize\u001b[39;00m\n",
      "File \u001b[1;32mc:\\Users\\krodriguez0109\\AppData\\Local\\anaconda3\\envs\\pytorch\\lib\\site-packages\\pandas\\core\\ops\\common.py:81\u001b[0m, in \u001b[0;36m_unpack_zerodim_and_defer.<locals>.new_method\u001b[1;34m(self, other)\u001b[0m\n\u001b[0;32m     77\u001b[0m             \u001b[39mreturn\u001b[39;00m \u001b[39mNotImplemented\u001b[39m\n\u001b[0;32m     79\u001b[0m other \u001b[39m=\u001b[39m item_from_zerodim(other)\n\u001b[1;32m---> 81\u001b[0m \u001b[39mreturn\u001b[39;00m method(\u001b[39mself\u001b[39;49m, other)\n",
      "File \u001b[1;32mc:\\Users\\krodriguez0109\\AppData\\Local\\anaconda3\\envs\\pytorch\\lib\\site-packages\\pandas\\core\\arraylike.py:186\u001b[0m, in \u001b[0;36mOpsMixin.__add__\u001b[1;34m(self, other)\u001b[0m\n\u001b[0;32m     98\u001b[0m \u001b[39m@unpack_zerodim_and_defer\u001b[39m(\u001b[39m\"\u001b[39m\u001b[39m__add__\u001b[39m\u001b[39m\"\u001b[39m)\n\u001b[0;32m     99\u001b[0m \u001b[39mdef\u001b[39;00m \u001b[39m__add__\u001b[39m(\u001b[39mself\u001b[39m, other):\n\u001b[0;32m    100\u001b[0m \u001b[39m    \u001b[39m\u001b[39m\"\"\"\u001b[39;00m\n\u001b[0;32m    101\u001b[0m \u001b[39m    Get Addition of DataFrame and other, column-wise.\u001b[39;00m\n\u001b[0;32m    102\u001b[0m \n\u001b[1;32m   (...)\u001b[0m\n\u001b[0;32m    184\u001b[0m \u001b[39m    moose     3.0     NaN\u001b[39;00m\n\u001b[0;32m    185\u001b[0m \u001b[39m    \"\"\"\u001b[39;00m\n\u001b[1;32m--> 186\u001b[0m     \u001b[39mreturn\u001b[39;00m \u001b[39mself\u001b[39;49m\u001b[39m.\u001b[39;49m_arith_method(other, operator\u001b[39m.\u001b[39;49madd)\n",
      "File \u001b[1;32mc:\\Users\\krodriguez0109\\AppData\\Local\\anaconda3\\envs\\pytorch\\lib\\site-packages\\pandas\\core\\series.py:6112\u001b[0m, in \u001b[0;36mSeries._arith_method\u001b[1;34m(self, other, op)\u001b[0m\n\u001b[0;32m   6110\u001b[0m \u001b[39mdef\u001b[39;00m \u001b[39m_arith_method\u001b[39m(\u001b[39mself\u001b[39m, other, op):\n\u001b[0;32m   6111\u001b[0m     \u001b[39mself\u001b[39m, other \u001b[39m=\u001b[39m ops\u001b[39m.\u001b[39malign_method_SERIES(\u001b[39mself\u001b[39m, other)\n\u001b[1;32m-> 6112\u001b[0m     \u001b[39mreturn\u001b[39;00m base\u001b[39m.\u001b[39;49mIndexOpsMixin\u001b[39m.\u001b[39;49m_arith_method(\u001b[39mself\u001b[39;49m, other, op)\n",
      "File \u001b[1;32mc:\\Users\\krodriguez0109\\AppData\\Local\\anaconda3\\envs\\pytorch\\lib\\site-packages\\pandas\\core\\base.py:1348\u001b[0m, in \u001b[0;36mIndexOpsMixin._arith_method\u001b[1;34m(self, other, op)\u001b[0m\n\u001b[0;32m   1345\u001b[0m rvalues \u001b[39m=\u001b[39m ensure_wrapped_if_datetimelike(rvalues)\n\u001b[0;32m   1347\u001b[0m \u001b[39mwith\u001b[39;00m np\u001b[39m.\u001b[39merrstate(\u001b[39mall\u001b[39m\u001b[39m=\u001b[39m\u001b[39m\"\u001b[39m\u001b[39mignore\u001b[39m\u001b[39m\"\u001b[39m):\n\u001b[1;32m-> 1348\u001b[0m     result \u001b[39m=\u001b[39m ops\u001b[39m.\u001b[39;49marithmetic_op(lvalues, rvalues, op)\n\u001b[0;32m   1350\u001b[0m \u001b[39mreturn\u001b[39;00m \u001b[39mself\u001b[39m\u001b[39m.\u001b[39m_construct_result(result, name\u001b[39m=\u001b[39mres_name)\n",
      "File \u001b[1;32mc:\\Users\\krodriguez0109\\AppData\\Local\\anaconda3\\envs\\pytorch\\lib\\site-packages\\pandas\\core\\ops\\array_ops.py:232\u001b[0m, in \u001b[0;36marithmetic_op\u001b[1;34m(left, right, op)\u001b[0m\n\u001b[0;32m    228\u001b[0m     _bool_arith_check(op, left, right)\n\u001b[0;32m    230\u001b[0m     \u001b[39m# error: Argument 1 to \"_na_arithmetic_op\" has incompatible type\u001b[39;00m\n\u001b[0;32m    231\u001b[0m     \u001b[39m# \"Union[ExtensionArray, ndarray[Any, Any]]\"; expected \"ndarray[Any, Any]\"\u001b[39;00m\n\u001b[1;32m--> 232\u001b[0m     res_values \u001b[39m=\u001b[39m _na_arithmetic_op(left, right, op)  \u001b[39m# type: ignore[arg-type]\u001b[39;00m\n\u001b[0;32m    234\u001b[0m \u001b[39mreturn\u001b[39;00m res_values\n",
      "File \u001b[1;32mc:\\Users\\krodriguez0109\\AppData\\Local\\anaconda3\\envs\\pytorch\\lib\\site-packages\\pandas\\core\\ops\\array_ops.py:178\u001b[0m, in \u001b[0;36m_na_arithmetic_op\u001b[1;34m(left, right, op, is_cmp)\u001b[0m\n\u001b[0;32m    172\u001b[0m \u001b[39mexcept\u001b[39;00m \u001b[39mTypeError\u001b[39;00m:\n\u001b[0;32m    173\u001b[0m     \u001b[39mif\u001b[39;00m \u001b[39mnot\u001b[39;00m is_cmp \u001b[39mand\u001b[39;00m (is_object_dtype(left\u001b[39m.\u001b[39mdtype) \u001b[39mor\u001b[39;00m is_object_dtype(right)):\n\u001b[0;32m    174\u001b[0m         \u001b[39m# For object dtype, fallback to a masked operation (only operating\u001b[39;00m\n\u001b[0;32m    175\u001b[0m         \u001b[39m#  on the non-missing values)\u001b[39;00m\n\u001b[0;32m    176\u001b[0m         \u001b[39m# Don't do this for comparisons, as that will handle complex numbers\u001b[39;00m\n\u001b[0;32m    177\u001b[0m         \u001b[39m#  incorrectly, see GH#32047\u001b[39;00m\n\u001b[1;32m--> 178\u001b[0m         result \u001b[39m=\u001b[39m _masked_arith_op(left, right, op)\n\u001b[0;32m    179\u001b[0m     \u001b[39melse\u001b[39;00m:\n\u001b[0;32m    180\u001b[0m         \u001b[39mraise\u001b[39;00m\n",
      "File \u001b[1;32mc:\\Users\\krodriguez0109\\AppData\\Local\\anaconda3\\envs\\pytorch\\lib\\site-packages\\pandas\\core\\ops\\array_ops.py:135\u001b[0m, in \u001b[0;36m_masked_arith_op\u001b[1;34m(x, y, op)\u001b[0m\n\u001b[0;32m    132\u001b[0m         mask \u001b[39m=\u001b[39m np\u001b[39m.\u001b[39mwhere(y \u001b[39m==\u001b[39m \u001b[39m1\u001b[39m, \u001b[39mFalse\u001b[39;00m, mask)\n\u001b[0;32m    134\u001b[0m     \u001b[39mif\u001b[39;00m mask\u001b[39m.\u001b[39many():\n\u001b[1;32m--> 135\u001b[0m         result[mask] \u001b[39m=\u001b[39m op(xrav[mask], y)\n\u001b[0;32m    137\u001b[0m np\u001b[39m.\u001b[39mputmask(result, \u001b[39m~\u001b[39mmask, np\u001b[39m.\u001b[39mnan)\n\u001b[0;32m    138\u001b[0m result \u001b[39m=\u001b[39m result\u001b[39m.\u001b[39mreshape(x\u001b[39m.\u001b[39mshape)  \u001b[39m# 2D compat\u001b[39;00m\n",
      "\u001b[1;31mTypeError\u001b[0m: unsupported operand type(s) for +: 'Timestamp' and 'float'"
     ]
    }
   ],
   "source": [
    "cleandf = dp.pipeline(optional= True, parse= True, resample= False ,index = 'Date',engineering='time_lag')"
   ]
  },
  {
   "cell_type": "code",
   "execution_count": null,
   "metadata": {},
   "outputs": [
    {
     "data": {
      "text/html": [
       "<div>\n",
       "<style scoped>\n",
       "    .dataframe tbody tr th:only-of-type {\n",
       "        vertical-align: middle;\n",
       "    }\n",
       "\n",
       "    .dataframe tbody tr th {\n",
       "        vertical-align: top;\n",
       "    }\n",
       "\n",
       "    .dataframe thead th {\n",
       "        text-align: right;\n",
       "    }\n",
       "</style>\n",
       "<table border=\"1\" class=\"dataframe\">\n",
       "  <thead>\n",
       "    <tr style=\"text-align: right;\">\n",
       "      <th></th>\n",
       "      <th>Date</th>\n",
       "      <th>OXO-5FI661A Augusta</th>\n",
       "      <th>OXO-5FI696 Augusta</th>\n",
       "      <th>OXO-5FIC132 Augusta</th>\n",
       "      <th>OXO-5FIC600 Augusta</th>\n",
       "      <th>OXO-5FIC601 Augusta</th>\n",
       "      <th>OXO-5FIC602 Augusta</th>\n",
       "      <th>OXO-5FIC603 Augusta</th>\n",
       "      <th>OXO-5FIC606C Augusta</th>\n",
       "      <th>OXO-5FIC607 Augusta</th>\n",
       "      <th>...</th>\n",
       "      <th>OXO-5TIC605 Augusta</th>\n",
       "      <th>OXO-5TIC606 Augusta</th>\n",
       "      <th>OXO-5TIC607 Augusta</th>\n",
       "      <th>OXO-5TIC659 Augusta</th>\n",
       "      <th>OXO-_5FI658A Augusta</th>\n",
       "      <th>OXO-_5FI659A Augusta</th>\n",
       "      <th>OXO-_5FI660A Augusta</th>\n",
       "      <th>OXO-_5FI662A Augusta</th>\n",
       "      <th>OXO-5FI635C Augusta</th>\n",
       "      <th>OXO-5FI635C Augusta_time_lag_1</th>\n",
       "    </tr>\n",
       "  </thead>\n",
       "  <tbody>\n",
       "    <tr>\n",
       "      <th>0</th>\n",
       "      <td>2019-11-01 00:00:00</td>\n",
       "      <td>23345.857389</td>\n",
       "      <td>9830.200195</td>\n",
       "      <td>4.450549</td>\n",
       "      <td>2076.174093</td>\n",
       "      <td>67.208298</td>\n",
       "      <td>5069.174366</td>\n",
       "      <td>0.0</td>\n",
       "      <td>1.202029</td>\n",
       "      <td>0.0</td>\n",
       "      <td>...</td>\n",
       "      <td>133.007764</td>\n",
       "      <td>134.032267</td>\n",
       "      <td>130.899539</td>\n",
       "      <td>298.029910</td>\n",
       "      <td>21719.630615</td>\n",
       "      <td>22870.976318</td>\n",
       "      <td>22026.824772</td>\n",
       "      <td>22036.315560</td>\n",
       "      <td>5859.125648</td>\n",
       "      <td>NaN</td>\n",
       "    </tr>\n",
       "    <tr>\n",
       "      <th>1</th>\n",
       "      <td>2019-11-01 01:00:00</td>\n",
       "      <td>23346.553467</td>\n",
       "      <td>9384.632992</td>\n",
       "      <td>4.410112</td>\n",
       "      <td>2070.199284</td>\n",
       "      <td>67.204392</td>\n",
       "      <td>5068.014148</td>\n",
       "      <td>0.0</td>\n",
       "      <td>1.158160</td>\n",
       "      <td>0.0</td>\n",
       "      <td>...</td>\n",
       "      <td>132.966600</td>\n",
       "      <td>134.035076</td>\n",
       "      <td>130.849780</td>\n",
       "      <td>298.084330</td>\n",
       "      <td>21727.622575</td>\n",
       "      <td>22879.205452</td>\n",
       "      <td>22042.948193</td>\n",
       "      <td>22056.644971</td>\n",
       "      <td>5950.173837</td>\n",
       "      <td>5859.125648</td>\n",
       "    </tr>\n",
       "    <tr>\n",
       "      <th>2</th>\n",
       "      <td>2019-11-01 02:00:00</td>\n",
       "      <td>23430.336545</td>\n",
       "      <td>9233.277262</td>\n",
       "      <td>4.285714</td>\n",
       "      <td>2067.933828</td>\n",
       "      <td>67.031974</td>\n",
       "      <td>5069.603650</td>\n",
       "      <td>0.0</td>\n",
       "      <td>1.070420</td>\n",
       "      <td>0.0</td>\n",
       "      <td>...</td>\n",
       "      <td>133.035094</td>\n",
       "      <td>134.001994</td>\n",
       "      <td>130.743083</td>\n",
       "      <td>297.930878</td>\n",
       "      <td>21836.766659</td>\n",
       "      <td>22970.057215</td>\n",
       "      <td>22156.774258</td>\n",
       "      <td>22105.218684</td>\n",
       "      <td>6379.102250</td>\n",
       "      <td>5950.173837</td>\n",
       "    </tr>\n",
       "    <tr>\n",
       "      <th>3</th>\n",
       "      <td>2019-11-01 03:00:00</td>\n",
       "      <td>23384.694743</td>\n",
       "      <td>9223.139014</td>\n",
       "      <td>4.775281</td>\n",
       "      <td>2062.488529</td>\n",
       "      <td>66.808810</td>\n",
       "      <td>5061.608939</td>\n",
       "      <td>0.0</td>\n",
       "      <td>1.044098</td>\n",
       "      <td>0.0</td>\n",
       "      <td>...</td>\n",
       "      <td>133.000552</td>\n",
       "      <td>133.979115</td>\n",
       "      <td>130.760757</td>\n",
       "      <td>298.052583</td>\n",
       "      <td>21783.450505</td>\n",
       "      <td>22920.952018</td>\n",
       "      <td>22088.356950</td>\n",
       "      <td>22064.178402</td>\n",
       "      <td>6337.343084</td>\n",
       "      <td>6379.102250</td>\n",
       "    </tr>\n",
       "    <tr>\n",
       "      <th>4</th>\n",
       "      <td>2019-11-01 04:00:00</td>\n",
       "      <td>23357.085677</td>\n",
       "      <td>9104.168620</td>\n",
       "      <td>4.388889</td>\n",
       "      <td>2055.162223</td>\n",
       "      <td>66.354369</td>\n",
       "      <td>5004.132636</td>\n",
       "      <td>0.0</td>\n",
       "      <td>1.044098</td>\n",
       "      <td>0.0</td>\n",
       "      <td>...</td>\n",
       "      <td>133.004748</td>\n",
       "      <td>134.000492</td>\n",
       "      <td>130.814450</td>\n",
       "      <td>298.039928</td>\n",
       "      <td>21748.715137</td>\n",
       "      <td>22895.312126</td>\n",
       "      <td>22073.622298</td>\n",
       "      <td>22053.480892</td>\n",
       "      <td>6183.590302</td>\n",
       "      <td>6337.343084</td>\n",
       "    </tr>\n",
       "    <tr>\n",
       "      <th>...</th>\n",
       "      <td>...</td>\n",
       "      <td>...</td>\n",
       "      <td>...</td>\n",
       "      <td>...</td>\n",
       "      <td>...</td>\n",
       "      <td>...</td>\n",
       "      <td>...</td>\n",
       "      <td>...</td>\n",
       "      <td>...</td>\n",
       "      <td>...</td>\n",
       "      <td>...</td>\n",
       "      <td>...</td>\n",
       "      <td>...</td>\n",
       "      <td>...</td>\n",
       "      <td>...</td>\n",
       "      <td>...</td>\n",
       "      <td>...</td>\n",
       "      <td>...</td>\n",
       "      <td>...</td>\n",
       "      <td>...</td>\n",
       "      <td>...</td>\n",
       "    </tr>\n",
       "    <tr>\n",
       "      <th>95</th>\n",
       "      <td>2019-11-04 23:00:00</td>\n",
       "      <td>22935.365104</td>\n",
       "      <td>10094.243538</td>\n",
       "      <td>5.111111</td>\n",
       "      <td>1994.741311</td>\n",
       "      <td>42.120056</td>\n",
       "      <td>5004.459631</td>\n",
       "      <td>0.0</td>\n",
       "      <td>1.263447</td>\n",
       "      <td>0.0</td>\n",
       "      <td>...</td>\n",
       "      <td>133.029826</td>\n",
       "      <td>133.018234</td>\n",
       "      <td>129.521752</td>\n",
       "      <td>297.787590</td>\n",
       "      <td>21370.636702</td>\n",
       "      <td>22484.879118</td>\n",
       "      <td>21637.554004</td>\n",
       "      <td>21614.658008</td>\n",
       "      <td>5957.402727</td>\n",
       "      <td>6032.192194</td>\n",
       "    </tr>\n",
       "    <tr>\n",
       "      <th>96</th>\n",
       "      <td>2019-11-05 00:00:00</td>\n",
       "      <td>22962.686491</td>\n",
       "      <td>10087.562663</td>\n",
       "      <td>4.805556</td>\n",
       "      <td>1980.864065</td>\n",
       "      <td>41.014191</td>\n",
       "      <td>5005.375403</td>\n",
       "      <td>0.0</td>\n",
       "      <td>1.070420</td>\n",
       "      <td>0.0</td>\n",
       "      <td>...</td>\n",
       "      <td>132.980925</td>\n",
       "      <td>133.022506</td>\n",
       "      <td>129.434107</td>\n",
       "      <td>298.088860</td>\n",
       "      <td>21379.743620</td>\n",
       "      <td>22508.906283</td>\n",
       "      <td>21639.588053</td>\n",
       "      <td>21655.469206</td>\n",
       "      <td>5985.087500</td>\n",
       "      <td>5957.402727</td>\n",
       "    </tr>\n",
       "    <tr>\n",
       "      <th>97</th>\n",
       "      <td>2019-11-05 01:00:00</td>\n",
       "      <td>22905.231836</td>\n",
       "      <td>10084.821314</td>\n",
       "      <td>4.861111</td>\n",
       "      <td>1977.311137</td>\n",
       "      <td>41.433934</td>\n",
       "      <td>5004.505420</td>\n",
       "      <td>0.0</td>\n",
       "      <td>0.965133</td>\n",
       "      <td>0.0</td>\n",
       "      <td>...</td>\n",
       "      <td>133.009727</td>\n",
       "      <td>133.001937</td>\n",
       "      <td>129.451987</td>\n",
       "      <td>298.191653</td>\n",
       "      <td>21330.972852</td>\n",
       "      <td>22463.574398</td>\n",
       "      <td>21587.729020</td>\n",
       "      <td>21605.327897</td>\n",
       "      <td>5924.414177</td>\n",
       "      <td>5985.087500</td>\n",
       "    </tr>\n",
       "    <tr>\n",
       "      <th>98</th>\n",
       "      <td>2019-11-05 02:00:00</td>\n",
       "      <td>22841.778434</td>\n",
       "      <td>10084.865194</td>\n",
       "      <td>4.550562</td>\n",
       "      <td>1981.834495</td>\n",
       "      <td>41.837856</td>\n",
       "      <td>5004.368054</td>\n",
       "      <td>0.0</td>\n",
       "      <td>1.061646</td>\n",
       "      <td>0.0</td>\n",
       "      <td>...</td>\n",
       "      <td>133.020408</td>\n",
       "      <td>133.020485</td>\n",
       "      <td>129.363302</td>\n",
       "      <td>297.934947</td>\n",
       "      <td>21280.836198</td>\n",
       "      <td>22408.031755</td>\n",
       "      <td>21522.625212</td>\n",
       "      <td>21522.529508</td>\n",
       "      <td>5861.537925</td>\n",
       "      <td>5924.414177</td>\n",
       "    </tr>\n",
       "    <tr>\n",
       "      <th>99</th>\n",
       "      <td>2019-11-05 03:00:00</td>\n",
       "      <td>22943.393392</td>\n",
       "      <td>10093.666286</td>\n",
       "      <td>4.532967</td>\n",
       "      <td>1974.359360</td>\n",
       "      <td>39.006309</td>\n",
       "      <td>5004.871729</td>\n",
       "      <td>0.0</td>\n",
       "      <td>1.044098</td>\n",
       "      <td>0.0</td>\n",
       "      <td>...</td>\n",
       "      <td>132.985666</td>\n",
       "      <td>133.016441</td>\n",
       "      <td>129.363859</td>\n",
       "      <td>298.070136</td>\n",
       "      <td>21370.442057</td>\n",
       "      <td>22495.135498</td>\n",
       "      <td>21616.521875</td>\n",
       "      <td>21625.482210</td>\n",
       "      <td>6106.674174</td>\n",
       "      <td>5861.537925</td>\n",
       "    </tr>\n",
       "  </tbody>\n",
       "</table>\n",
       "<p>100 rows × 58 columns</p>\n",
       "</div>"
      ],
      "text/plain": [
       "                  Date  OXO-5FI661A Augusta  OXO-5FI696 Augusta  \\\n",
       "0  2019-11-01 00:00:00         23345.857389         9830.200195   \n",
       "1  2019-11-01 01:00:00         23346.553467         9384.632992   \n",
       "2  2019-11-01 02:00:00         23430.336545         9233.277262   \n",
       "3  2019-11-01 03:00:00         23384.694743         9223.139014   \n",
       "4  2019-11-01 04:00:00         23357.085677         9104.168620   \n",
       "..                 ...                  ...                 ...   \n",
       "95 2019-11-04 23:00:00         22935.365104        10094.243538   \n",
       "96 2019-11-05 00:00:00         22962.686491        10087.562663   \n",
       "97 2019-11-05 01:00:00         22905.231836        10084.821314   \n",
       "98 2019-11-05 02:00:00         22841.778434        10084.865194   \n",
       "99 2019-11-05 03:00:00         22943.393392        10093.666286   \n",
       "\n",
       "    OXO-5FIC132 Augusta  OXO-5FIC600 Augusta  OXO-5FIC601 Augusta  \\\n",
       "0              4.450549          2076.174093            67.208298   \n",
       "1              4.410112          2070.199284            67.204392   \n",
       "2              4.285714          2067.933828            67.031974   \n",
       "3              4.775281          2062.488529            66.808810   \n",
       "4              4.388889          2055.162223            66.354369   \n",
       "..                  ...                  ...                  ...   \n",
       "95             5.111111          1994.741311            42.120056   \n",
       "96             4.805556          1980.864065            41.014191   \n",
       "97             4.861111          1977.311137            41.433934   \n",
       "98             4.550562          1981.834495            41.837856   \n",
       "99             4.532967          1974.359360            39.006309   \n",
       "\n",
       "    OXO-5FIC602 Augusta  OXO-5FIC603 Augusta  OXO-5FIC606C Augusta  \\\n",
       "0           5069.174366                  0.0              1.202029   \n",
       "1           5068.014148                  0.0              1.158160   \n",
       "2           5069.603650                  0.0              1.070420   \n",
       "3           5061.608939                  0.0              1.044098   \n",
       "4           5004.132636                  0.0              1.044098   \n",
       "..                  ...                  ...                   ...   \n",
       "95          5004.459631                  0.0              1.263447   \n",
       "96          5005.375403                  0.0              1.070420   \n",
       "97          5004.505420                  0.0              0.965133   \n",
       "98          5004.368054                  0.0              1.061646   \n",
       "99          5004.871729                  0.0              1.044098   \n",
       "\n",
       "    OXO-5FIC607 Augusta  ...  OXO-5TIC605 Augusta  OXO-5TIC606 Augusta  \\\n",
       "0                   0.0  ...           133.007764           134.032267   \n",
       "1                   0.0  ...           132.966600           134.035076   \n",
       "2                   0.0  ...           133.035094           134.001994   \n",
       "3                   0.0  ...           133.000552           133.979115   \n",
       "4                   0.0  ...           133.004748           134.000492   \n",
       "..                  ...  ...                  ...                  ...   \n",
       "95                  0.0  ...           133.029826           133.018234   \n",
       "96                  0.0  ...           132.980925           133.022506   \n",
       "97                  0.0  ...           133.009727           133.001937   \n",
       "98                  0.0  ...           133.020408           133.020485   \n",
       "99                  0.0  ...           132.985666           133.016441   \n",
       "\n",
       "    OXO-5TIC607 Augusta  OXO-5TIC659 Augusta  OXO-_5FI658A Augusta  \\\n",
       "0            130.899539           298.029910          21719.630615   \n",
       "1            130.849780           298.084330          21727.622575   \n",
       "2            130.743083           297.930878          21836.766659   \n",
       "3            130.760757           298.052583          21783.450505   \n",
       "4            130.814450           298.039928          21748.715137   \n",
       "..                  ...                  ...                   ...   \n",
       "95           129.521752           297.787590          21370.636702   \n",
       "96           129.434107           298.088860          21379.743620   \n",
       "97           129.451987           298.191653          21330.972852   \n",
       "98           129.363302           297.934947          21280.836198   \n",
       "99           129.363859           298.070136          21370.442057   \n",
       "\n",
       "    OXO-_5FI659A Augusta  OXO-_5FI660A Augusta  OXO-_5FI662A Augusta  \\\n",
       "0           22870.976318          22026.824772          22036.315560   \n",
       "1           22879.205452          22042.948193          22056.644971   \n",
       "2           22970.057215          22156.774258          22105.218684   \n",
       "3           22920.952018          22088.356950          22064.178402   \n",
       "4           22895.312126          22073.622298          22053.480892   \n",
       "..                   ...                   ...                   ...   \n",
       "95          22484.879118          21637.554004          21614.658008   \n",
       "96          22508.906283          21639.588053          21655.469206   \n",
       "97          22463.574398          21587.729020          21605.327897   \n",
       "98          22408.031755          21522.625212          21522.529508   \n",
       "99          22495.135498          21616.521875          21625.482210   \n",
       "\n",
       "    OXO-5FI635C Augusta  OXO-5FI635C Augusta_time_lag_1  \n",
       "0           5859.125648                             NaN  \n",
       "1           5950.173837                     5859.125648  \n",
       "2           6379.102250                     5950.173837  \n",
       "3           6337.343084                     6379.102250  \n",
       "4           6183.590302                     6337.343084  \n",
       "..                  ...                             ...  \n",
       "95          5957.402727                     6032.192194  \n",
       "96          5985.087500                     5957.402727  \n",
       "97          5924.414177                     5985.087500  \n",
       "98          5861.537925                     5924.414177  \n",
       "99          6106.674174                     5861.537925  \n",
       "\n",
       "[100 rows x 58 columns]"
      ]
     },
     "execution_count": 5,
     "metadata": {},
     "output_type": "execute_result"
    }
   ],
   "source": [
    "cleandf"
   ]
  },
  {
   "cell_type": "code",
   "execution_count": null,
   "metadata": {},
   "outputs": [],
   "source": []
  }
 ],
 "metadata": {
  "kernelspec": {
   "display_name": "Python 3",
   "language": "python",
   "name": "python3"
  },
  "language_info": {
   "codemirror_mode": {
    "name": "ipython",
    "version": 3
   },
   "file_extension": ".py",
   "mimetype": "text/x-python",
   "name": "python",
   "nbconvert_exporter": "python",
   "pygments_lexer": "ipython3",
   "version": "3.9.17"
  },
  "orig_nbformat": 4
 },
 "nbformat": 4,
 "nbformat_minor": 2
}
