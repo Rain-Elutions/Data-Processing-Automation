{
 "cells": [
  {
   "cell_type": "code",
   "execution_count": 1,
   "metadata": {},
   "outputs": [
    {
     "name": "stderr",
     "output_type": "stream",
     "text": [
      "c:\\Users\\krodriguez0109\\AppData\\Local\\anaconda3\\envs\\pytorch\\lib\\site-packages\\numpy\\_distributor_init.py:30: UserWarning: loaded more than 1 DLL from .libs:\n",
      "c:\\Users\\krodriguez0109\\AppData\\Local\\anaconda3\\envs\\pytorch\\lib\\site-packages\\numpy\\.libs\\libopenblas64__v0.3.21-gcc_10_3_0.dll\n",
      "c:\\Users\\krodriguez0109\\AppData\\Local\\anaconda3\\envs\\pytorch\\lib\\site-packages\\numpy\\.libs\\libopenblas64__v0.3.23-246-g3d31191b-gcc_10_3_0.dll\n",
      "  warnings.warn(\"loaded more than 1 DLL from .libs:\"\n"
     ]
    }
   ],
   "source": [
    "from pipeline import DataProcessing"
   ]
  },
  {
   "cell_type": "code",
   "execution_count": 2,
   "metadata": {},
   "outputs": [],
   "source": [
    "dp = DataProcessing('./data/coyote_0731_1000.xlsx','TotalCostUSD','TotalCostUSD','max')"
   ]
  },
  {
   "cell_type": "code",
   "execution_count": 3,
   "metadata": {},
   "outputs": [
    {
     "name": "stdout",
     "output_type": "stream",
     "text": [
      "Loading Data...\n",
      "Getting Size...\n",
      "Data size: (1000, 99)\n",
      "Summarizing Type...\n",
      "Data types summary:\n",
      " int64      39\n",
      "float64    29\n",
      "bool       20\n",
      "object     11\n",
      "Name: count, dtype: int64\n",
      "Summarizing Missing Data...\n",
      "Missing data summary:\n",
      "CommodityCode    622\n",
      "dtype: int64\n"
     ]
    },
    {
     "data": {
      "application/vnd.plotly.v1+json": {
       "config": {
        "plotlyServerURL": "https://plot.ly"
       },
       "data": [
        {
         "type": "bar",
         "x": [
          "TotalCostUSD",
          "Mode",
          "ProgressType",
          "Type",
          "StateType",
          "LoadingPosition",
          "Plan",
          "ShipmentType",
          "EquipmentType",
          "EquipmentLength",
          "EquipmentWidth",
          "EquipmentHeight",
          "MinTemp",
          "MaxTemp",
          "TotalValue",
          "Miles",
          "TotalWeight",
          "Tarps",
          "Repeat",
          "TankerUnload",
          "TankerVolume",
          "TankerVolumeUnit",
          "NumStops",
          "TotalPallets",
          "LoadCommodityMasterLinkID",
          "Concealed",
          "Team",
          "Private",
          "Rolled",
          "TankerContainer",
          "TankerLiquid",
          "TankerFood",
          "TankerReefer",
          "TankerHazMat",
          "Hot",
          "Liquor",
          "TWIC",
          "TMSPrivateCarrier",
          "Govt",
          "HRHV"
         ],
         "y": [
          0,
          0,
          0,
          0,
          0,
          0,
          0,
          0,
          0,
          0,
          0,
          0,
          0,
          0,
          0,
          0,
          0,
          0,
          0,
          0,
          0,
          0,
          0,
          0,
          0,
          0,
          0,
          0,
          0,
          0,
          0,
          0,
          0,
          0,
          0,
          0,
          0,
          0,
          0,
          0
         ]
        }
       ],
       "layout": {
        "template": {
         "data": {
          "bar": [
           {
            "error_x": {
             "color": "#2a3f5f"
            },
            "error_y": {
             "color": "#2a3f5f"
            },
            "marker": {
             "line": {
              "color": "#E5ECF6",
              "width": 0.5
             },
             "pattern": {
              "fillmode": "overlay",
              "size": 10,
              "solidity": 0.2
             }
            },
            "type": "bar"
           }
          ],
          "barpolar": [
           {
            "marker": {
             "line": {
              "color": "#E5ECF6",
              "width": 0.5
             },
             "pattern": {
              "fillmode": "overlay",
              "size": 10,
              "solidity": 0.2
             }
            },
            "type": "barpolar"
           }
          ],
          "carpet": [
           {
            "aaxis": {
             "endlinecolor": "#2a3f5f",
             "gridcolor": "white",
             "linecolor": "white",
             "minorgridcolor": "white",
             "startlinecolor": "#2a3f5f"
            },
            "baxis": {
             "endlinecolor": "#2a3f5f",
             "gridcolor": "white",
             "linecolor": "white",
             "minorgridcolor": "white",
             "startlinecolor": "#2a3f5f"
            },
            "type": "carpet"
           }
          ],
          "choropleth": [
           {
            "colorbar": {
             "outlinewidth": 0,
             "ticks": ""
            },
            "type": "choropleth"
           }
          ],
          "contour": [
           {
            "colorbar": {
             "outlinewidth": 0,
             "ticks": ""
            },
            "colorscale": [
             [
              0,
              "#0d0887"
             ],
             [
              0.1111111111111111,
              "#46039f"
             ],
             [
              0.2222222222222222,
              "#7201a8"
             ],
             [
              0.3333333333333333,
              "#9c179e"
             ],
             [
              0.4444444444444444,
              "#bd3786"
             ],
             [
              0.5555555555555556,
              "#d8576b"
             ],
             [
              0.6666666666666666,
              "#ed7953"
             ],
             [
              0.7777777777777778,
              "#fb9f3a"
             ],
             [
              0.8888888888888888,
              "#fdca26"
             ],
             [
              1,
              "#f0f921"
             ]
            ],
            "type": "contour"
           }
          ],
          "contourcarpet": [
           {
            "colorbar": {
             "outlinewidth": 0,
             "ticks": ""
            },
            "type": "contourcarpet"
           }
          ],
          "heatmap": [
           {
            "colorbar": {
             "outlinewidth": 0,
             "ticks": ""
            },
            "colorscale": [
             [
              0,
              "#0d0887"
             ],
             [
              0.1111111111111111,
              "#46039f"
             ],
             [
              0.2222222222222222,
              "#7201a8"
             ],
             [
              0.3333333333333333,
              "#9c179e"
             ],
             [
              0.4444444444444444,
              "#bd3786"
             ],
             [
              0.5555555555555556,
              "#d8576b"
             ],
             [
              0.6666666666666666,
              "#ed7953"
             ],
             [
              0.7777777777777778,
              "#fb9f3a"
             ],
             [
              0.8888888888888888,
              "#fdca26"
             ],
             [
              1,
              "#f0f921"
             ]
            ],
            "type": "heatmap"
           }
          ],
          "heatmapgl": [
           {
            "colorbar": {
             "outlinewidth": 0,
             "ticks": ""
            },
            "colorscale": [
             [
              0,
              "#0d0887"
             ],
             [
              0.1111111111111111,
              "#46039f"
             ],
             [
              0.2222222222222222,
              "#7201a8"
             ],
             [
              0.3333333333333333,
              "#9c179e"
             ],
             [
              0.4444444444444444,
              "#bd3786"
             ],
             [
              0.5555555555555556,
              "#d8576b"
             ],
             [
              0.6666666666666666,
              "#ed7953"
             ],
             [
              0.7777777777777778,
              "#fb9f3a"
             ],
             [
              0.8888888888888888,
              "#fdca26"
             ],
             [
              1,
              "#f0f921"
             ]
            ],
            "type": "heatmapgl"
           }
          ],
          "histogram": [
           {
            "marker": {
             "pattern": {
              "fillmode": "overlay",
              "size": 10,
              "solidity": 0.2
             }
            },
            "type": "histogram"
           }
          ],
          "histogram2d": [
           {
            "colorbar": {
             "outlinewidth": 0,
             "ticks": ""
            },
            "colorscale": [
             [
              0,
              "#0d0887"
             ],
             [
              0.1111111111111111,
              "#46039f"
             ],
             [
              0.2222222222222222,
              "#7201a8"
             ],
             [
              0.3333333333333333,
              "#9c179e"
             ],
             [
              0.4444444444444444,
              "#bd3786"
             ],
             [
              0.5555555555555556,
              "#d8576b"
             ],
             [
              0.6666666666666666,
              "#ed7953"
             ],
             [
              0.7777777777777778,
              "#fb9f3a"
             ],
             [
              0.8888888888888888,
              "#fdca26"
             ],
             [
              1,
              "#f0f921"
             ]
            ],
            "type": "histogram2d"
           }
          ],
          "histogram2dcontour": [
           {
            "colorbar": {
             "outlinewidth": 0,
             "ticks": ""
            },
            "colorscale": [
             [
              0,
              "#0d0887"
             ],
             [
              0.1111111111111111,
              "#46039f"
             ],
             [
              0.2222222222222222,
              "#7201a8"
             ],
             [
              0.3333333333333333,
              "#9c179e"
             ],
             [
              0.4444444444444444,
              "#bd3786"
             ],
             [
              0.5555555555555556,
              "#d8576b"
             ],
             [
              0.6666666666666666,
              "#ed7953"
             ],
             [
              0.7777777777777778,
              "#fb9f3a"
             ],
             [
              0.8888888888888888,
              "#fdca26"
             ],
             [
              1,
              "#f0f921"
             ]
            ],
            "type": "histogram2dcontour"
           }
          ],
          "mesh3d": [
           {
            "colorbar": {
             "outlinewidth": 0,
             "ticks": ""
            },
            "type": "mesh3d"
           }
          ],
          "parcoords": [
           {
            "line": {
             "colorbar": {
              "outlinewidth": 0,
              "ticks": ""
             }
            },
            "type": "parcoords"
           }
          ],
          "pie": [
           {
            "automargin": true,
            "type": "pie"
           }
          ],
          "scatter": [
           {
            "fillpattern": {
             "fillmode": "overlay",
             "size": 10,
             "solidity": 0.2
            },
            "type": "scatter"
           }
          ],
          "scatter3d": [
           {
            "line": {
             "colorbar": {
              "outlinewidth": 0,
              "ticks": ""
             }
            },
            "marker": {
             "colorbar": {
              "outlinewidth": 0,
              "ticks": ""
             }
            },
            "type": "scatter3d"
           }
          ],
          "scattercarpet": [
           {
            "marker": {
             "colorbar": {
              "outlinewidth": 0,
              "ticks": ""
             }
            },
            "type": "scattercarpet"
           }
          ],
          "scattergeo": [
           {
            "marker": {
             "colorbar": {
              "outlinewidth": 0,
              "ticks": ""
             }
            },
            "type": "scattergeo"
           }
          ],
          "scattergl": [
           {
            "marker": {
             "colorbar": {
              "outlinewidth": 0,
              "ticks": ""
             }
            },
            "type": "scattergl"
           }
          ],
          "scattermapbox": [
           {
            "marker": {
             "colorbar": {
              "outlinewidth": 0,
              "ticks": ""
             }
            },
            "type": "scattermapbox"
           }
          ],
          "scatterpolar": [
           {
            "marker": {
             "colorbar": {
              "outlinewidth": 0,
              "ticks": ""
             }
            },
            "type": "scatterpolar"
           }
          ],
          "scatterpolargl": [
           {
            "marker": {
             "colorbar": {
              "outlinewidth": 0,
              "ticks": ""
             }
            },
            "type": "scatterpolargl"
           }
          ],
          "scatterternary": [
           {
            "marker": {
             "colorbar": {
              "outlinewidth": 0,
              "ticks": ""
             }
            },
            "type": "scatterternary"
           }
          ],
          "surface": [
           {
            "colorbar": {
             "outlinewidth": 0,
             "ticks": ""
            },
            "colorscale": [
             [
              0,
              "#0d0887"
             ],
             [
              0.1111111111111111,
              "#46039f"
             ],
             [
              0.2222222222222222,
              "#7201a8"
             ],
             [
              0.3333333333333333,
              "#9c179e"
             ],
             [
              0.4444444444444444,
              "#bd3786"
             ],
             [
              0.5555555555555556,
              "#d8576b"
             ],
             [
              0.6666666666666666,
              "#ed7953"
             ],
             [
              0.7777777777777778,
              "#fb9f3a"
             ],
             [
              0.8888888888888888,
              "#fdca26"
             ],
             [
              1,
              "#f0f921"
             ]
            ],
            "type": "surface"
           }
          ],
          "table": [
           {
            "cells": {
             "fill": {
              "color": "#EBF0F8"
             },
             "line": {
              "color": "white"
             }
            },
            "header": {
             "fill": {
              "color": "#C8D4E3"
             },
             "line": {
              "color": "white"
             }
            },
            "type": "table"
           }
          ]
         },
         "layout": {
          "annotationdefaults": {
           "arrowcolor": "#2a3f5f",
           "arrowhead": 0,
           "arrowwidth": 1
          },
          "autotypenumbers": "strict",
          "coloraxis": {
           "colorbar": {
            "outlinewidth": 0,
            "ticks": ""
           }
          },
          "colorscale": {
           "diverging": [
            [
             0,
             "#8e0152"
            ],
            [
             0.1,
             "#c51b7d"
            ],
            [
             0.2,
             "#de77ae"
            ],
            [
             0.3,
             "#f1b6da"
            ],
            [
             0.4,
             "#fde0ef"
            ],
            [
             0.5,
             "#f7f7f7"
            ],
            [
             0.6,
             "#e6f5d0"
            ],
            [
             0.7,
             "#b8e186"
            ],
            [
             0.8,
             "#7fbc41"
            ],
            [
             0.9,
             "#4d9221"
            ],
            [
             1,
             "#276419"
            ]
           ],
           "sequential": [
            [
             0,
             "#0d0887"
            ],
            [
             0.1111111111111111,
             "#46039f"
            ],
            [
             0.2222222222222222,
             "#7201a8"
            ],
            [
             0.3333333333333333,
             "#9c179e"
            ],
            [
             0.4444444444444444,
             "#bd3786"
            ],
            [
             0.5555555555555556,
             "#d8576b"
            ],
            [
             0.6666666666666666,
             "#ed7953"
            ],
            [
             0.7777777777777778,
             "#fb9f3a"
            ],
            [
             0.8888888888888888,
             "#fdca26"
            ],
            [
             1,
             "#f0f921"
            ]
           ],
           "sequentialminus": [
            [
             0,
             "#0d0887"
            ],
            [
             0.1111111111111111,
             "#46039f"
            ],
            [
             0.2222222222222222,
             "#7201a8"
            ],
            [
             0.3333333333333333,
             "#9c179e"
            ],
            [
             0.4444444444444444,
             "#bd3786"
            ],
            [
             0.5555555555555556,
             "#d8576b"
            ],
            [
             0.6666666666666666,
             "#ed7953"
            ],
            [
             0.7777777777777778,
             "#fb9f3a"
            ],
            [
             0.8888888888888888,
             "#fdca26"
            ],
            [
             1,
             "#f0f921"
            ]
           ]
          },
          "colorway": [
           "#636efa",
           "#EF553B",
           "#00cc96",
           "#ab63fa",
           "#FFA15A",
           "#19d3f3",
           "#FF6692",
           "#B6E880",
           "#FF97FF",
           "#FECB52"
          ],
          "font": {
           "color": "#2a3f5f"
          },
          "geo": {
           "bgcolor": "white",
           "lakecolor": "white",
           "landcolor": "#E5ECF6",
           "showlakes": true,
           "showland": true,
           "subunitcolor": "white"
          },
          "hoverlabel": {
           "align": "left"
          },
          "hovermode": "closest",
          "mapbox": {
           "style": "light"
          },
          "paper_bgcolor": "white",
          "plot_bgcolor": "#E5ECF6",
          "polar": {
           "angularaxis": {
            "gridcolor": "white",
            "linecolor": "white",
            "ticks": ""
           },
           "bgcolor": "#E5ECF6",
           "radialaxis": {
            "gridcolor": "white",
            "linecolor": "white",
            "ticks": ""
           }
          },
          "scene": {
           "xaxis": {
            "backgroundcolor": "#E5ECF6",
            "gridcolor": "white",
            "gridwidth": 2,
            "linecolor": "white",
            "showbackground": true,
            "ticks": "",
            "zerolinecolor": "white"
           },
           "yaxis": {
            "backgroundcolor": "#E5ECF6",
            "gridcolor": "white",
            "gridwidth": 2,
            "linecolor": "white",
            "showbackground": true,
            "ticks": "",
            "zerolinecolor": "white"
           },
           "zaxis": {
            "backgroundcolor": "#E5ECF6",
            "gridcolor": "white",
            "gridwidth": 2,
            "linecolor": "white",
            "showbackground": true,
            "ticks": "",
            "zerolinecolor": "white"
           }
          },
          "shapedefaults": {
           "line": {
            "color": "#2a3f5f"
           }
          },
          "ternary": {
           "aaxis": {
            "gridcolor": "white",
            "linecolor": "white",
            "ticks": ""
           },
           "baxis": {
            "gridcolor": "white",
            "linecolor": "white",
            "ticks": ""
           },
           "bgcolor": "#E5ECF6",
           "caxis": {
            "gridcolor": "white",
            "linecolor": "white",
            "ticks": ""
           }
          },
          "title": {
           "x": 0.05
          },
          "xaxis": {
           "automargin": true,
           "gridcolor": "white",
           "linecolor": "white",
           "ticks": "",
           "title": {
            "standoff": 15
           },
           "zerolinecolor": "white",
           "zerolinewidth": 2
          },
          "yaxis": {
           "automargin": true,
           "gridcolor": "white",
           "linecolor": "white",
           "ticks": "",
           "title": {
            "standoff": 15
           },
           "zerolinecolor": "white",
           "zerolinewidth": 2
          }
         }
        },
        "title": {
         "text": "Missing Data"
        },
        "xaxis": {
         "title": {
          "text": "Columns"
         }
        },
        "yaxis": {
         "rangemode": "tozero",
         "title": {
          "text": "Missing Count"
         }
        }
       }
      }
     },
     "metadata": {},
     "output_type": "display_data"
    },
    {
     "data": {
      "application/vnd.plotly.v1+json": {
       "config": {
        "plotlyServerURL": "https://plot.ly"
       },
       "data": [
        {
         "type": "bar",
         "x": [
          "Seal",
          "OriginFacilityID",
          "DestinationFacilityID",
          "OriginCityID",
          "GeneralOriginCityID",
          "DestinationCityID",
          "GeneralDestinationCityID",
          "OriginLatitude",
          "OriginLongitude",
          "DestinationLatitude",
          "DestinationLongitude",
          "TotalRateUSD",
          "NormalizedRank",
          "Normalized_EQ",
          "BizUnit",
          "BookType",
          "BuildType",
          "SalesStatus",
          "IsCustomerHighPriority",
          "IsCommodityStackable",
          "CommodityID",
          "CommodityCode",
          "TimeTravel",
          "TimeNegotiate",
          "LoadDate-Weekday",
          "LoadDate-Month",
          "LoadDate-Day",
          "DelDate-Weekday",
          "DelDate-Month",
          "DelDate-Day",
          "CreateDate-Weekday",
          "CreateDate-Month",
          "CreateDate-Day",
          "MXCrossBorder",
          "CACrossBorder",
          "Volume_Last_30",
          "Avg_Cost_Last_30",
          "Avg_Rate_Last_30",
          "NTIBooked",
          "NTIAssumed"
         ],
         "y": [
          0,
          0,
          0,
          0,
          0,
          0,
          0,
          0,
          0,
          0,
          0,
          0,
          0,
          0,
          0,
          0,
          0,
          0,
          0,
          0,
          0,
          622,
          0,
          0,
          0,
          0,
          0,
          0,
          0,
          0,
          0,
          0,
          0,
          0,
          0,
          0,
          0,
          0,
          0,
          0
         ]
        }
       ],
       "layout": {
        "template": {
         "data": {
          "bar": [
           {
            "error_x": {
             "color": "#2a3f5f"
            },
            "error_y": {
             "color": "#2a3f5f"
            },
            "marker": {
             "line": {
              "color": "#E5ECF6",
              "width": 0.5
             },
             "pattern": {
              "fillmode": "overlay",
              "size": 10,
              "solidity": 0.2
             }
            },
            "type": "bar"
           }
          ],
          "barpolar": [
           {
            "marker": {
             "line": {
              "color": "#E5ECF6",
              "width": 0.5
             },
             "pattern": {
              "fillmode": "overlay",
              "size": 10,
              "solidity": 0.2
             }
            },
            "type": "barpolar"
           }
          ],
          "carpet": [
           {
            "aaxis": {
             "endlinecolor": "#2a3f5f",
             "gridcolor": "white",
             "linecolor": "white",
             "minorgridcolor": "white",
             "startlinecolor": "#2a3f5f"
            },
            "baxis": {
             "endlinecolor": "#2a3f5f",
             "gridcolor": "white",
             "linecolor": "white",
             "minorgridcolor": "white",
             "startlinecolor": "#2a3f5f"
            },
            "type": "carpet"
           }
          ],
          "choropleth": [
           {
            "colorbar": {
             "outlinewidth": 0,
             "ticks": ""
            },
            "type": "choropleth"
           }
          ],
          "contour": [
           {
            "colorbar": {
             "outlinewidth": 0,
             "ticks": ""
            },
            "colorscale": [
             [
              0,
              "#0d0887"
             ],
             [
              0.1111111111111111,
              "#46039f"
             ],
             [
              0.2222222222222222,
              "#7201a8"
             ],
             [
              0.3333333333333333,
              "#9c179e"
             ],
             [
              0.4444444444444444,
              "#bd3786"
             ],
             [
              0.5555555555555556,
              "#d8576b"
             ],
             [
              0.6666666666666666,
              "#ed7953"
             ],
             [
              0.7777777777777778,
              "#fb9f3a"
             ],
             [
              0.8888888888888888,
              "#fdca26"
             ],
             [
              1,
              "#f0f921"
             ]
            ],
            "type": "contour"
           }
          ],
          "contourcarpet": [
           {
            "colorbar": {
             "outlinewidth": 0,
             "ticks": ""
            },
            "type": "contourcarpet"
           }
          ],
          "heatmap": [
           {
            "colorbar": {
             "outlinewidth": 0,
             "ticks": ""
            },
            "colorscale": [
             [
              0,
              "#0d0887"
             ],
             [
              0.1111111111111111,
              "#46039f"
             ],
             [
              0.2222222222222222,
              "#7201a8"
             ],
             [
              0.3333333333333333,
              "#9c179e"
             ],
             [
              0.4444444444444444,
              "#bd3786"
             ],
             [
              0.5555555555555556,
              "#d8576b"
             ],
             [
              0.6666666666666666,
              "#ed7953"
             ],
             [
              0.7777777777777778,
              "#fb9f3a"
             ],
             [
              0.8888888888888888,
              "#fdca26"
             ],
             [
              1,
              "#f0f921"
             ]
            ],
            "type": "heatmap"
           }
          ],
          "heatmapgl": [
           {
            "colorbar": {
             "outlinewidth": 0,
             "ticks": ""
            },
            "colorscale": [
             [
              0,
              "#0d0887"
             ],
             [
              0.1111111111111111,
              "#46039f"
             ],
             [
              0.2222222222222222,
              "#7201a8"
             ],
             [
              0.3333333333333333,
              "#9c179e"
             ],
             [
              0.4444444444444444,
              "#bd3786"
             ],
             [
              0.5555555555555556,
              "#d8576b"
             ],
             [
              0.6666666666666666,
              "#ed7953"
             ],
             [
              0.7777777777777778,
              "#fb9f3a"
             ],
             [
              0.8888888888888888,
              "#fdca26"
             ],
             [
              1,
              "#f0f921"
             ]
            ],
            "type": "heatmapgl"
           }
          ],
          "histogram": [
           {
            "marker": {
             "pattern": {
              "fillmode": "overlay",
              "size": 10,
              "solidity": 0.2
             }
            },
            "type": "histogram"
           }
          ],
          "histogram2d": [
           {
            "colorbar": {
             "outlinewidth": 0,
             "ticks": ""
            },
            "colorscale": [
             [
              0,
              "#0d0887"
             ],
             [
              0.1111111111111111,
              "#46039f"
             ],
             [
              0.2222222222222222,
              "#7201a8"
             ],
             [
              0.3333333333333333,
              "#9c179e"
             ],
             [
              0.4444444444444444,
              "#bd3786"
             ],
             [
              0.5555555555555556,
              "#d8576b"
             ],
             [
              0.6666666666666666,
              "#ed7953"
             ],
             [
              0.7777777777777778,
              "#fb9f3a"
             ],
             [
              0.8888888888888888,
              "#fdca26"
             ],
             [
              1,
              "#f0f921"
             ]
            ],
            "type": "histogram2d"
           }
          ],
          "histogram2dcontour": [
           {
            "colorbar": {
             "outlinewidth": 0,
             "ticks": ""
            },
            "colorscale": [
             [
              0,
              "#0d0887"
             ],
             [
              0.1111111111111111,
              "#46039f"
             ],
             [
              0.2222222222222222,
              "#7201a8"
             ],
             [
              0.3333333333333333,
              "#9c179e"
             ],
             [
              0.4444444444444444,
              "#bd3786"
             ],
             [
              0.5555555555555556,
              "#d8576b"
             ],
             [
              0.6666666666666666,
              "#ed7953"
             ],
             [
              0.7777777777777778,
              "#fb9f3a"
             ],
             [
              0.8888888888888888,
              "#fdca26"
             ],
             [
              1,
              "#f0f921"
             ]
            ],
            "type": "histogram2dcontour"
           }
          ],
          "mesh3d": [
           {
            "colorbar": {
             "outlinewidth": 0,
             "ticks": ""
            },
            "type": "mesh3d"
           }
          ],
          "parcoords": [
           {
            "line": {
             "colorbar": {
              "outlinewidth": 0,
              "ticks": ""
             }
            },
            "type": "parcoords"
           }
          ],
          "pie": [
           {
            "automargin": true,
            "type": "pie"
           }
          ],
          "scatter": [
           {
            "fillpattern": {
             "fillmode": "overlay",
             "size": 10,
             "solidity": 0.2
            },
            "type": "scatter"
           }
          ],
          "scatter3d": [
           {
            "line": {
             "colorbar": {
              "outlinewidth": 0,
              "ticks": ""
             }
            },
            "marker": {
             "colorbar": {
              "outlinewidth": 0,
              "ticks": ""
             }
            },
            "type": "scatter3d"
           }
          ],
          "scattercarpet": [
           {
            "marker": {
             "colorbar": {
              "outlinewidth": 0,
              "ticks": ""
             }
            },
            "type": "scattercarpet"
           }
          ],
          "scattergeo": [
           {
            "marker": {
             "colorbar": {
              "outlinewidth": 0,
              "ticks": ""
             }
            },
            "type": "scattergeo"
           }
          ],
          "scattergl": [
           {
            "marker": {
             "colorbar": {
              "outlinewidth": 0,
              "ticks": ""
             }
            },
            "type": "scattergl"
           }
          ],
          "scattermapbox": [
           {
            "marker": {
             "colorbar": {
              "outlinewidth": 0,
              "ticks": ""
             }
            },
            "type": "scattermapbox"
           }
          ],
          "scatterpolar": [
           {
            "marker": {
             "colorbar": {
              "outlinewidth": 0,
              "ticks": ""
             }
            },
            "type": "scatterpolar"
           }
          ],
          "scatterpolargl": [
           {
            "marker": {
             "colorbar": {
              "outlinewidth": 0,
              "ticks": ""
             }
            },
            "type": "scatterpolargl"
           }
          ],
          "scatterternary": [
           {
            "marker": {
             "colorbar": {
              "outlinewidth": 0,
              "ticks": ""
             }
            },
            "type": "scatterternary"
           }
          ],
          "surface": [
           {
            "colorbar": {
             "outlinewidth": 0,
             "ticks": ""
            },
            "colorscale": [
             [
              0,
              "#0d0887"
             ],
             [
              0.1111111111111111,
              "#46039f"
             ],
             [
              0.2222222222222222,
              "#7201a8"
             ],
             [
              0.3333333333333333,
              "#9c179e"
             ],
             [
              0.4444444444444444,
              "#bd3786"
             ],
             [
              0.5555555555555556,
              "#d8576b"
             ],
             [
              0.6666666666666666,
              "#ed7953"
             ],
             [
              0.7777777777777778,
              "#fb9f3a"
             ],
             [
              0.8888888888888888,
              "#fdca26"
             ],
             [
              1,
              "#f0f921"
             ]
            ],
            "type": "surface"
           }
          ],
          "table": [
           {
            "cells": {
             "fill": {
              "color": "#EBF0F8"
             },
             "line": {
              "color": "white"
             }
            },
            "header": {
             "fill": {
              "color": "#C8D4E3"
             },
             "line": {
              "color": "white"
             }
            },
            "type": "table"
           }
          ]
         },
         "layout": {
          "annotationdefaults": {
           "arrowcolor": "#2a3f5f",
           "arrowhead": 0,
           "arrowwidth": 1
          },
          "autotypenumbers": "strict",
          "coloraxis": {
           "colorbar": {
            "outlinewidth": 0,
            "ticks": ""
           }
          },
          "colorscale": {
           "diverging": [
            [
             0,
             "#8e0152"
            ],
            [
             0.1,
             "#c51b7d"
            ],
            [
             0.2,
             "#de77ae"
            ],
            [
             0.3,
             "#f1b6da"
            ],
            [
             0.4,
             "#fde0ef"
            ],
            [
             0.5,
             "#f7f7f7"
            ],
            [
             0.6,
             "#e6f5d0"
            ],
            [
             0.7,
             "#b8e186"
            ],
            [
             0.8,
             "#7fbc41"
            ],
            [
             0.9,
             "#4d9221"
            ],
            [
             1,
             "#276419"
            ]
           ],
           "sequential": [
            [
             0,
             "#0d0887"
            ],
            [
             0.1111111111111111,
             "#46039f"
            ],
            [
             0.2222222222222222,
             "#7201a8"
            ],
            [
             0.3333333333333333,
             "#9c179e"
            ],
            [
             0.4444444444444444,
             "#bd3786"
            ],
            [
             0.5555555555555556,
             "#d8576b"
            ],
            [
             0.6666666666666666,
             "#ed7953"
            ],
            [
             0.7777777777777778,
             "#fb9f3a"
            ],
            [
             0.8888888888888888,
             "#fdca26"
            ],
            [
             1,
             "#f0f921"
            ]
           ],
           "sequentialminus": [
            [
             0,
             "#0d0887"
            ],
            [
             0.1111111111111111,
             "#46039f"
            ],
            [
             0.2222222222222222,
             "#7201a8"
            ],
            [
             0.3333333333333333,
             "#9c179e"
            ],
            [
             0.4444444444444444,
             "#bd3786"
            ],
            [
             0.5555555555555556,
             "#d8576b"
            ],
            [
             0.6666666666666666,
             "#ed7953"
            ],
            [
             0.7777777777777778,
             "#fb9f3a"
            ],
            [
             0.8888888888888888,
             "#fdca26"
            ],
            [
             1,
             "#f0f921"
            ]
           ]
          },
          "colorway": [
           "#636efa",
           "#EF553B",
           "#00cc96",
           "#ab63fa",
           "#FFA15A",
           "#19d3f3",
           "#FF6692",
           "#B6E880",
           "#FF97FF",
           "#FECB52"
          ],
          "font": {
           "color": "#2a3f5f"
          },
          "geo": {
           "bgcolor": "white",
           "lakecolor": "white",
           "landcolor": "#E5ECF6",
           "showlakes": true,
           "showland": true,
           "subunitcolor": "white"
          },
          "hoverlabel": {
           "align": "left"
          },
          "hovermode": "closest",
          "mapbox": {
           "style": "light"
          },
          "paper_bgcolor": "white",
          "plot_bgcolor": "#E5ECF6",
          "polar": {
           "angularaxis": {
            "gridcolor": "white",
            "linecolor": "white",
            "ticks": ""
           },
           "bgcolor": "#E5ECF6",
           "radialaxis": {
            "gridcolor": "white",
            "linecolor": "white",
            "ticks": ""
           }
          },
          "scene": {
           "xaxis": {
            "backgroundcolor": "#E5ECF6",
            "gridcolor": "white",
            "gridwidth": 2,
            "linecolor": "white",
            "showbackground": true,
            "ticks": "",
            "zerolinecolor": "white"
           },
           "yaxis": {
            "backgroundcolor": "#E5ECF6",
            "gridcolor": "white",
            "gridwidth": 2,
            "linecolor": "white",
            "showbackground": true,
            "ticks": "",
            "zerolinecolor": "white"
           },
           "zaxis": {
            "backgroundcolor": "#E5ECF6",
            "gridcolor": "white",
            "gridwidth": 2,
            "linecolor": "white",
            "showbackground": true,
            "ticks": "",
            "zerolinecolor": "white"
           }
          },
          "shapedefaults": {
           "line": {
            "color": "#2a3f5f"
           }
          },
          "ternary": {
           "aaxis": {
            "gridcolor": "white",
            "linecolor": "white",
            "ticks": ""
           },
           "baxis": {
            "gridcolor": "white",
            "linecolor": "white",
            "ticks": ""
           },
           "bgcolor": "#E5ECF6",
           "caxis": {
            "gridcolor": "white",
            "linecolor": "white",
            "ticks": ""
           }
          },
          "title": {
           "x": 0.05
          },
          "xaxis": {
           "automargin": true,
           "gridcolor": "white",
           "linecolor": "white",
           "ticks": "",
           "title": {
            "standoff": 15
           },
           "zerolinecolor": "white",
           "zerolinewidth": 2
          },
          "yaxis": {
           "automargin": true,
           "gridcolor": "white",
           "linecolor": "white",
           "ticks": "",
           "title": {
            "standoff": 15
           },
           "zerolinecolor": "white",
           "zerolinewidth": 2
          }
         }
        },
        "title": {
         "text": "Missing Data"
        },
        "xaxis": {
         "title": {
          "text": "Columns"
         }
        },
        "yaxis": {
         "rangemode": "tozero",
         "title": {
          "text": "Missing Count"
         }
        }
       }
      }
     },
     "metadata": {},
     "output_type": "display_data"
    },
    {
     "data": {
      "application/vnd.plotly.v1+json": {
       "config": {
        "plotlyServerURL": "https://plot.ly"
       },
       "data": [
        {
         "type": "bar",
         "x": [
          "TenderVolume",
          "S/D Ratio",
          "Avg_Weight_Last_14",
          "Avg_Dist_Last_14",
          "USD/Mile",
          "Avg_Cost_Last_14",
          "Avg_Rate_Last_14",
          "Cost_Volatility_Last_14",
          "Rate_Volatility_Last_14",
          "TRUCKD11",
          "DJTA",
          "DTB3",
          "GASREGW",
          "IPG2122N",
          "IPG3361T3S",
          "GDP",
          "PPIACO",
          "BUSINV",
          "PCU48414841"
         ],
         "y": [
          0,
          0,
          0,
          0,
          0,
          0,
          0,
          0,
          0,
          0,
          0,
          0,
          0,
          0,
          0,
          0,
          0,
          0,
          0
         ]
        }
       ],
       "layout": {
        "template": {
         "data": {
          "bar": [
           {
            "error_x": {
             "color": "#2a3f5f"
            },
            "error_y": {
             "color": "#2a3f5f"
            },
            "marker": {
             "line": {
              "color": "#E5ECF6",
              "width": 0.5
             },
             "pattern": {
              "fillmode": "overlay",
              "size": 10,
              "solidity": 0.2
             }
            },
            "type": "bar"
           }
          ],
          "barpolar": [
           {
            "marker": {
             "line": {
              "color": "#E5ECF6",
              "width": 0.5
             },
             "pattern": {
              "fillmode": "overlay",
              "size": 10,
              "solidity": 0.2
             }
            },
            "type": "barpolar"
           }
          ],
          "carpet": [
           {
            "aaxis": {
             "endlinecolor": "#2a3f5f",
             "gridcolor": "white",
             "linecolor": "white",
             "minorgridcolor": "white",
             "startlinecolor": "#2a3f5f"
            },
            "baxis": {
             "endlinecolor": "#2a3f5f",
             "gridcolor": "white",
             "linecolor": "white",
             "minorgridcolor": "white",
             "startlinecolor": "#2a3f5f"
            },
            "type": "carpet"
           }
          ],
          "choropleth": [
           {
            "colorbar": {
             "outlinewidth": 0,
             "ticks": ""
            },
            "type": "choropleth"
           }
          ],
          "contour": [
           {
            "colorbar": {
             "outlinewidth": 0,
             "ticks": ""
            },
            "colorscale": [
             [
              0,
              "#0d0887"
             ],
             [
              0.1111111111111111,
              "#46039f"
             ],
             [
              0.2222222222222222,
              "#7201a8"
             ],
             [
              0.3333333333333333,
              "#9c179e"
             ],
             [
              0.4444444444444444,
              "#bd3786"
             ],
             [
              0.5555555555555556,
              "#d8576b"
             ],
             [
              0.6666666666666666,
              "#ed7953"
             ],
             [
              0.7777777777777778,
              "#fb9f3a"
             ],
             [
              0.8888888888888888,
              "#fdca26"
             ],
             [
              1,
              "#f0f921"
             ]
            ],
            "type": "contour"
           }
          ],
          "contourcarpet": [
           {
            "colorbar": {
             "outlinewidth": 0,
             "ticks": ""
            },
            "type": "contourcarpet"
           }
          ],
          "heatmap": [
           {
            "colorbar": {
             "outlinewidth": 0,
             "ticks": ""
            },
            "colorscale": [
             [
              0,
              "#0d0887"
             ],
             [
              0.1111111111111111,
              "#46039f"
             ],
             [
              0.2222222222222222,
              "#7201a8"
             ],
             [
              0.3333333333333333,
              "#9c179e"
             ],
             [
              0.4444444444444444,
              "#bd3786"
             ],
             [
              0.5555555555555556,
              "#d8576b"
             ],
             [
              0.6666666666666666,
              "#ed7953"
             ],
             [
              0.7777777777777778,
              "#fb9f3a"
             ],
             [
              0.8888888888888888,
              "#fdca26"
             ],
             [
              1,
              "#f0f921"
             ]
            ],
            "type": "heatmap"
           }
          ],
          "heatmapgl": [
           {
            "colorbar": {
             "outlinewidth": 0,
             "ticks": ""
            },
            "colorscale": [
             [
              0,
              "#0d0887"
             ],
             [
              0.1111111111111111,
              "#46039f"
             ],
             [
              0.2222222222222222,
              "#7201a8"
             ],
             [
              0.3333333333333333,
              "#9c179e"
             ],
             [
              0.4444444444444444,
              "#bd3786"
             ],
             [
              0.5555555555555556,
              "#d8576b"
             ],
             [
              0.6666666666666666,
              "#ed7953"
             ],
             [
              0.7777777777777778,
              "#fb9f3a"
             ],
             [
              0.8888888888888888,
              "#fdca26"
             ],
             [
              1,
              "#f0f921"
             ]
            ],
            "type": "heatmapgl"
           }
          ],
          "histogram": [
           {
            "marker": {
             "pattern": {
              "fillmode": "overlay",
              "size": 10,
              "solidity": 0.2
             }
            },
            "type": "histogram"
           }
          ],
          "histogram2d": [
           {
            "colorbar": {
             "outlinewidth": 0,
             "ticks": ""
            },
            "colorscale": [
             [
              0,
              "#0d0887"
             ],
             [
              0.1111111111111111,
              "#46039f"
             ],
             [
              0.2222222222222222,
              "#7201a8"
             ],
             [
              0.3333333333333333,
              "#9c179e"
             ],
             [
              0.4444444444444444,
              "#bd3786"
             ],
             [
              0.5555555555555556,
              "#d8576b"
             ],
             [
              0.6666666666666666,
              "#ed7953"
             ],
             [
              0.7777777777777778,
              "#fb9f3a"
             ],
             [
              0.8888888888888888,
              "#fdca26"
             ],
             [
              1,
              "#f0f921"
             ]
            ],
            "type": "histogram2d"
           }
          ],
          "histogram2dcontour": [
           {
            "colorbar": {
             "outlinewidth": 0,
             "ticks": ""
            },
            "colorscale": [
             [
              0,
              "#0d0887"
             ],
             [
              0.1111111111111111,
              "#46039f"
             ],
             [
              0.2222222222222222,
              "#7201a8"
             ],
             [
              0.3333333333333333,
              "#9c179e"
             ],
             [
              0.4444444444444444,
              "#bd3786"
             ],
             [
              0.5555555555555556,
              "#d8576b"
             ],
             [
              0.6666666666666666,
              "#ed7953"
             ],
             [
              0.7777777777777778,
              "#fb9f3a"
             ],
             [
              0.8888888888888888,
              "#fdca26"
             ],
             [
              1,
              "#f0f921"
             ]
            ],
            "type": "histogram2dcontour"
           }
          ],
          "mesh3d": [
           {
            "colorbar": {
             "outlinewidth": 0,
             "ticks": ""
            },
            "type": "mesh3d"
           }
          ],
          "parcoords": [
           {
            "line": {
             "colorbar": {
              "outlinewidth": 0,
              "ticks": ""
             }
            },
            "type": "parcoords"
           }
          ],
          "pie": [
           {
            "automargin": true,
            "type": "pie"
           }
          ],
          "scatter": [
           {
            "fillpattern": {
             "fillmode": "overlay",
             "size": 10,
             "solidity": 0.2
            },
            "type": "scatter"
           }
          ],
          "scatter3d": [
           {
            "line": {
             "colorbar": {
              "outlinewidth": 0,
              "ticks": ""
             }
            },
            "marker": {
             "colorbar": {
              "outlinewidth": 0,
              "ticks": ""
             }
            },
            "type": "scatter3d"
           }
          ],
          "scattercarpet": [
           {
            "marker": {
             "colorbar": {
              "outlinewidth": 0,
              "ticks": ""
             }
            },
            "type": "scattercarpet"
           }
          ],
          "scattergeo": [
           {
            "marker": {
             "colorbar": {
              "outlinewidth": 0,
              "ticks": ""
             }
            },
            "type": "scattergeo"
           }
          ],
          "scattergl": [
           {
            "marker": {
             "colorbar": {
              "outlinewidth": 0,
              "ticks": ""
             }
            },
            "type": "scattergl"
           }
          ],
          "scattermapbox": [
           {
            "marker": {
             "colorbar": {
              "outlinewidth": 0,
              "ticks": ""
             }
            },
            "type": "scattermapbox"
           }
          ],
          "scatterpolar": [
           {
            "marker": {
             "colorbar": {
              "outlinewidth": 0,
              "ticks": ""
             }
            },
            "type": "scatterpolar"
           }
          ],
          "scatterpolargl": [
           {
            "marker": {
             "colorbar": {
              "outlinewidth": 0,
              "ticks": ""
             }
            },
            "type": "scatterpolargl"
           }
          ],
          "scatterternary": [
           {
            "marker": {
             "colorbar": {
              "outlinewidth": 0,
              "ticks": ""
             }
            },
            "type": "scatterternary"
           }
          ],
          "surface": [
           {
            "colorbar": {
             "outlinewidth": 0,
             "ticks": ""
            },
            "colorscale": [
             [
              0,
              "#0d0887"
             ],
             [
              0.1111111111111111,
              "#46039f"
             ],
             [
              0.2222222222222222,
              "#7201a8"
             ],
             [
              0.3333333333333333,
              "#9c179e"
             ],
             [
              0.4444444444444444,
              "#bd3786"
             ],
             [
              0.5555555555555556,
              "#d8576b"
             ],
             [
              0.6666666666666666,
              "#ed7953"
             ],
             [
              0.7777777777777778,
              "#fb9f3a"
             ],
             [
              0.8888888888888888,
              "#fdca26"
             ],
             [
              1,
              "#f0f921"
             ]
            ],
            "type": "surface"
           }
          ],
          "table": [
           {
            "cells": {
             "fill": {
              "color": "#EBF0F8"
             },
             "line": {
              "color": "white"
             }
            },
            "header": {
             "fill": {
              "color": "#C8D4E3"
             },
             "line": {
              "color": "white"
             }
            },
            "type": "table"
           }
          ]
         },
         "layout": {
          "annotationdefaults": {
           "arrowcolor": "#2a3f5f",
           "arrowhead": 0,
           "arrowwidth": 1
          },
          "autotypenumbers": "strict",
          "coloraxis": {
           "colorbar": {
            "outlinewidth": 0,
            "ticks": ""
           }
          },
          "colorscale": {
           "diverging": [
            [
             0,
             "#8e0152"
            ],
            [
             0.1,
             "#c51b7d"
            ],
            [
             0.2,
             "#de77ae"
            ],
            [
             0.3,
             "#f1b6da"
            ],
            [
             0.4,
             "#fde0ef"
            ],
            [
             0.5,
             "#f7f7f7"
            ],
            [
             0.6,
             "#e6f5d0"
            ],
            [
             0.7,
             "#b8e186"
            ],
            [
             0.8,
             "#7fbc41"
            ],
            [
             0.9,
             "#4d9221"
            ],
            [
             1,
             "#276419"
            ]
           ],
           "sequential": [
            [
             0,
             "#0d0887"
            ],
            [
             0.1111111111111111,
             "#46039f"
            ],
            [
             0.2222222222222222,
             "#7201a8"
            ],
            [
             0.3333333333333333,
             "#9c179e"
            ],
            [
             0.4444444444444444,
             "#bd3786"
            ],
            [
             0.5555555555555556,
             "#d8576b"
            ],
            [
             0.6666666666666666,
             "#ed7953"
            ],
            [
             0.7777777777777778,
             "#fb9f3a"
            ],
            [
             0.8888888888888888,
             "#fdca26"
            ],
            [
             1,
             "#f0f921"
            ]
           ],
           "sequentialminus": [
            [
             0,
             "#0d0887"
            ],
            [
             0.1111111111111111,
             "#46039f"
            ],
            [
             0.2222222222222222,
             "#7201a8"
            ],
            [
             0.3333333333333333,
             "#9c179e"
            ],
            [
             0.4444444444444444,
             "#bd3786"
            ],
            [
             0.5555555555555556,
             "#d8576b"
            ],
            [
             0.6666666666666666,
             "#ed7953"
            ],
            [
             0.7777777777777778,
             "#fb9f3a"
            ],
            [
             0.8888888888888888,
             "#fdca26"
            ],
            [
             1,
             "#f0f921"
            ]
           ]
          },
          "colorway": [
           "#636efa",
           "#EF553B",
           "#00cc96",
           "#ab63fa",
           "#FFA15A",
           "#19d3f3",
           "#FF6692",
           "#B6E880",
           "#FF97FF",
           "#FECB52"
          ],
          "font": {
           "color": "#2a3f5f"
          },
          "geo": {
           "bgcolor": "white",
           "lakecolor": "white",
           "landcolor": "#E5ECF6",
           "showlakes": true,
           "showland": true,
           "subunitcolor": "white"
          },
          "hoverlabel": {
           "align": "left"
          },
          "hovermode": "closest",
          "mapbox": {
           "style": "light"
          },
          "paper_bgcolor": "white",
          "plot_bgcolor": "#E5ECF6",
          "polar": {
           "angularaxis": {
            "gridcolor": "white",
            "linecolor": "white",
            "ticks": ""
           },
           "bgcolor": "#E5ECF6",
           "radialaxis": {
            "gridcolor": "white",
            "linecolor": "white",
            "ticks": ""
           }
          },
          "scene": {
           "xaxis": {
            "backgroundcolor": "#E5ECF6",
            "gridcolor": "white",
            "gridwidth": 2,
            "linecolor": "white",
            "showbackground": true,
            "ticks": "",
            "zerolinecolor": "white"
           },
           "yaxis": {
            "backgroundcolor": "#E5ECF6",
            "gridcolor": "white",
            "gridwidth": 2,
            "linecolor": "white",
            "showbackground": true,
            "ticks": "",
            "zerolinecolor": "white"
           },
           "zaxis": {
            "backgroundcolor": "#E5ECF6",
            "gridcolor": "white",
            "gridwidth": 2,
            "linecolor": "white",
            "showbackground": true,
            "ticks": "",
            "zerolinecolor": "white"
           }
          },
          "shapedefaults": {
           "line": {
            "color": "#2a3f5f"
           }
          },
          "ternary": {
           "aaxis": {
            "gridcolor": "white",
            "linecolor": "white",
            "ticks": ""
           },
           "baxis": {
            "gridcolor": "white",
            "linecolor": "white",
            "ticks": ""
           },
           "bgcolor": "#E5ECF6",
           "caxis": {
            "gridcolor": "white",
            "linecolor": "white",
            "ticks": ""
           }
          },
          "title": {
           "x": 0.05
          },
          "xaxis": {
           "automargin": true,
           "gridcolor": "white",
           "linecolor": "white",
           "ticks": "",
           "title": {
            "standoff": 15
           },
           "zerolinecolor": "white",
           "zerolinewidth": 2
          },
          "yaxis": {
           "automargin": true,
           "gridcolor": "white",
           "linecolor": "white",
           "ticks": "",
           "title": {
            "standoff": 15
           },
           "zerolinecolor": "white",
           "zerolinewidth": 2
          }
         }
        },
        "title": {
         "text": "Missing Data"
        },
        "xaxis": {
         "title": {
          "text": "Columns"
         }
        },
        "yaxis": {
         "rangemode": "tozero",
         "title": {
          "text": "Missing Count"
         }
        }
       }
      }
     },
     "metadata": {},
     "output_type": "display_data"
    },
    {
     "name": "stdout",
     "output_type": "stream",
     "text": [
      "Removing Duplicates...\n",
      "Handling Missing Data...\n",
      "# rows dropped with missing values in the target variable: 0\n",
      "Dropped columns: ['CommodityCode']\n",
      "Filled missing values using notfill\n",
      "Missing data summary:\n",
      "Series([], dtype: int64)\n",
      "Encoding Features...\n",
      "Analyzing Data...\n"
     ]
    },
    {
     "data": {
      "application/vnd.plotly.v1+json": {
       "config": {
        "plotlyServerURL": "https://plot.ly"
       },
       "data": [
        {
         "colorscale": [
          [
           0,
           "rgb(165,0,38)"
          ],
          [
           0.1,
           "rgb(215,48,39)"
          ],
          [
           0.2,
           "rgb(244,109,67)"
          ],
          [
           0.3,
           "rgb(253,174,97)"
          ],
          [
           0.4,
           "rgb(254,224,144)"
          ],
          [
           0.5,
           "rgb(255,255,191)"
          ],
          [
           0.6,
           "rgb(224,243,248)"
          ],
          [
           0.7,
           "rgb(171,217,233)"
          ],
          [
           0.8,
           "rgb(116,173,209)"
          ],
          [
           0.9,
           "rgb(69,117,180)"
          ],
          [
           1,
           "rgb(49,54,149)"
          ]
         ],
         "type": "heatmap",
         "x": [
          "Mode",
          "ProgressType",
          "Type",
          "LoadingPosition",
          "Plan",
          "ShipmentType",
          "EquipmentType",
          "EquipmentLength",
          "EquipmentWidth",
          "EquipmentHeight"
         ],
         "y": [
          "Mode",
          "ProgressType",
          "Type",
          "LoadingPosition",
          "Plan",
          "ShipmentType",
          "EquipmentType",
          "EquipmentLength",
          "EquipmentWidth",
          "EquipmentHeight"
         ],
         "z": [
          [
           1,
           0.49613334166217554,
           -0.0019976819609916928,
           -0.4925775915875842,
           0.46450497556773696,
           0.07632805999835918,
           -0.08803473896171303,
           0.010409144168883297,
           -0.21023198991017442,
           -0.16906611761427054
          ],
          [
           0.49613334166217554,
           1,
           -0.06678876649328427,
           0.1000044275718373,
           0.9118844143311217,
           -0.05855143253378719,
           0.35051482354723734,
           -0.04197148019084427,
           -0.046633284951884825,
           -0.03750194459836375
          ],
          [
           -0.0019976819609916928,
           -0.06678876649328427,
           1,
           0.07870555184990145,
           -0.05676956486000486,
           0.28643962358164704,
           0.021094732315578447,
           -0.016531633038382197,
           -0.06957597196632803,
           -0.05169819912203553
          ],
          [
           -0.4925775915875842,
           0.1000044275718373,
           0.07870555184990145,
           1,
           0.09031593698227847,
           -0.13343724709673235,
           0.23003936132223005,
           -0.023559917706951993,
           0.14893523402326012,
           0.13607538832039742
          ],
          [
           0.46450497556773696,
           0.9118844143311217,
           -0.05676956486000486,
           0.09031593698227847,
           1,
           -0.04851357712338075,
           0.3296507424115121,
           -0.0678946948883358,
           -0.01648156105168903,
           0.001840491859493657
          ],
          [
           0.07632805999835918,
           -0.05855143253378719,
           0.28643962358164704,
           -0.13343724709673235,
           -0.04851357712338075,
           1,
           -0.1384904070056279,
           -0.03004159954047111,
           -0.0651767803997638,
           -0.029592889131850177
          ],
          [
           -0.08803473896171303,
           0.35051482354723734,
           0.021094732315578447,
           0.23003936132223005,
           0.3296507424115121,
           -0.1384904070056279,
           1,
           -0.029182025537560573,
           0.04438868684147415,
           0.027574715585520167
          ],
          [
           0.010409144168883297,
           -0.04197148019084427,
           -0.016531633038382197,
           -0.023559917706951993,
           -0.0678946948883358,
           -0.03004159954047111,
           -0.029182025537560573,
           1,
           -0.048107872147365636,
           0.017518598127987867
          ],
          [
           -0.21023198991017442,
           -0.046633284951884825,
           -0.06957597196632803,
           0.14893523402326012,
           -0.01648156105168903,
           -0.0651767803997638,
           0.04438868684147415,
           -0.048107872147365636,
           1,
           0.8041883525266877
          ],
          [
           -0.16906611761427054,
           -0.03750194459836375,
           -0.05169819912203553,
           0.13607538832039742,
           0.001840491859493657,
           -0.029592889131850177,
           0.027574715585520167,
           0.017518598127987867,
           0.8041883525266877,
           1
          ],
          [
           -0.22748784177150347,
           -0.06426576039164353,
           0.016066163861353486,
           0.12696844747215522,
           -0.060663718585269144,
           -0.04791520261701188,
           0.8262304731686214,
           0.05511944870188464,
           0.06804780543370721,
           0.06646444257587102
          ],
          [
           -0.2274818825782059,
           -0.06428766818413235,
           0.01609470242498389,
           0.12693785867958884,
           -0.06066369163589765,
           -0.04789432232515451,
           0.8262301061223445,
           0.055123501107472925,
           0.06802332332892808,
           0.06644955554867775
          ],
          [
           -0.35479106682251327,
           0.07012074468192098,
           0.022814763276251475,
           0.5108986558670908,
           0.062245671662768856,
           -0.13448518687683012,
           0.14899548463712808,
           0.02032827074544655,
           0.07937722185359501,
           0.11258993113802314
          ],
          [
           0.1804402027109834,
           0.14928035230011358,
           -0.06224918665973026,
           -0.055444038659059836,
           0.14540605742624624,
           0.08151285881967422,
           0.043880141564123974,
           0.05083973837234998,
           -0.032555610070099716,
           -0.008403569811846706
          ],
          [
           -0.5573190324618543,
           0.01641651262782763,
           -0.04548250495989802,
           0.4138257533463667,
           0.021012976824084335,
           -0.10999171086185756,
           0.2747725637274736,
           0.02321044805763443,
           0.16125027566419764,
           0.1027384948615538
          ],
          [
           -0.17990479130984244,
           -0.046840209860361685,
           0.042349457485718146,
           0.05718485744866771,
           -0.022138730592661873,
           0.19637130730301294,
           0.0653674043748248,
           -0.3526396855508186,
           0.09116557338992773,
           0.004598306712124409
          ],
          [
           -0.29914408078701027,
           0.030620307973754955,
           -0.1135577663216866,
           0.2222350271688094,
           0.059532202559416714,
           0.27498200506468884,
           0.005774437531800544,
           -0.09023036279231479,
           0.14496507379334828,
           0.19652078336014794
          ],
          [
           0.12293183625730215,
           0.4170953339751183,
           -0.008680617921108687,
           0.06850970089777025,
           0.35827842330891196,
           0.12315597346370086,
           0.18842922100165546,
           0.025723005357225923,
           -0.060059084375788496,
           -0.03925811264818144
          ],
          [
           -0.05492287538112965,
           -0.011449876070282026,
           -0.017527106866344122,
           0.03961206111903993,
           -0.007754289710038511,
           -0.04143437079663198,
           -0.025523003418804924,
           0.01591896930088284,
           -0.01357016882226015,
           -0.016361541011157228
          ],
          [
           -0.08124220932408059,
           -0.030358725420883657,
           0.24739028515933711,
           0.021618695036393472,
           -0.03763154833899075,
           -0.008825426807180235,
           0.09516987047507862,
           -0.021009844939130305,
           -0.05335975033116428,
           -0.04654442142703048
          ],
          [
           -0.03515230847797318,
           -0.007797422355514382,
           -0.019051917540558943,
           0.030310110500722746,
           -0.009130938866981065,
           0.010836898702688169,
           -0.008922497188201595,
           -0.030866662728297665,
           0.043517964305920434,
           -0.014738092975345275
          ],
          [
           -0.10344095263881808,
           -0.025431522801736457,
           0.12712928779381116,
           0.0988573186339126,
           0.0027495089819862986,
           0.008938399995067096,
           0.026688109852865027,
           0.035818460601117166,
           -0.0012125543867614345,
           0.02220942063220082
          ],
          [
           -0.035152308477973175,
           -0.007797422355514391,
           -0.019051917540558943,
           0.0303101105007227,
           -0.009130938866981068,
           -0.005895545520644813,
           -0.031904275439506746,
           0.010982105460558531,
           0.10536259664805353,
           0.13370095627377335
          ],
          [
           -0.08531012723761598,
           -0.025410757966341953,
           -0.02253812654870388,
           0.014684934833498349,
           0.0012894602468595355,
           -0.09412638455872963,
           -0.023696568000505864,
           -0.02758686335052635,
           0.029967530806051104,
           0.016878273258536414
          ],
          [
           0.14937407891371643,
           -0.016315168559436263,
           -0.03986384626643679,
           -0.21093522972687095,
           -0.01910539149073412,
           0.022674907287900805,
           -0.06675585954300912,
           0.022978734966152114,
           -0.038346348897233345,
           -0.030837687145079642
          ],
          [
           -0.020274495935222004,
           -0.0044972525190245406,
           -0.010988411329409113,
           0.017481702873883773,
           -0.005266373417818914,
           0.006250305263329671,
           0.0011704389391734209,
           -0.247101879484875,
           -0.010570115383437202,
           -0.008500363676223352
          ],
          [
           -0.1375338145038061,
           -0.030507505375447164,
           0.18140010630493242,
           0.06029167093031551,
           -0.03572490418840843,
           -0.03348141689422268,
           0.046011979419725776,
           -0.07871636137012378,
           0.0932747723014201,
           0.041331841708009326
          ],
          [
           -0.057550630287088865,
           -0.012765778141019831,
           0.005623450278172334,
           0.02278945606931508,
           -0.014948983712888048,
           -0.0438945780953945,
           0.04370543184488905,
           0.01797967526173824,
           -0.03000404076469602,
           -0.02412890011170443
          ],
          [
           -0.3427450224517538,
           -0.041233926061011776,
           -0.07024789625609201,
           0.3429427797314123,
           -0.05576848954937058,
           -0.23165112436869675,
           0.1582384674259009,
           0.05495497627664507,
           0.06643809064103484,
           0.006553682416753498
          ],
          [
           0.3043648673394487,
           -0.02135894423803389,
           -0.08027682682919697,
           -0.34018187918943216,
           -0.01003239637910775,
           0.06951641929522102,
           -0.22512446939926584,
           -0.003856149808784994,
           -0.1688099401910944,
           -0.14479290695412472
          ],
          [
           0.26336851024011343,
           -0.0522676340129498,
           -0.09990502592713266,
           -0.38378445690459834,
           -0.0312285181220658,
           0.12447841320309541,
           -0.23542209469011885,
           0.02559554498891595,
           -0.06502786493955998,
           -0.017586627313063
          ],
          [
           -0.010299385474475342,
           -0.03383562791353883,
           -0.029333165860400686,
           -0.05135555006455794,
           -0.0392162295430646,
           0.1573867308411942,
           -0.0055617758080872045,
           0.0116155667403199,
           0.020199005109657647,
           0.015153200152463958
          ],
          [
           -0.06635253546740362,
           -0.024846409233369827,
           -0.0526592563540609,
           0.02281625852045937,
           -0.03515103549753346,
           0.06567986336979707,
           0.04352893545266802,
           -0.006687847036128295,
           0.04479014143366446,
           0.025481024623136093
          ],
          [
           -0.05139016627750372,
           0.05291728435516429,
           -0.012607134773874434,
           0.06554432741848928,
           0.09386813017177116,
           0.031726626758991544,
           0.09081937157098886,
           0.017075015441957754,
           0.08600358096219902,
           0.09417222257908328
          ],
          [
           -0.0559899966268979,
           0.036822061917502674,
           0.023474804024454732,
           0.06433298178554439,
           0.059870978817001055,
           -0.013302313018807391,
           0.07068544774562181,
           0.025605669182313977,
           0.06509291758263364,
           0.0657272503738382
          ],
          [
           0.04955343973402723,
           -0.01080416665541482,
           -0.029707017506032052,
           -0.03745278200547036,
           -0.010728475217592655,
           -0.14435828639020298,
           0.005244862356054068,
           0.01015416896609806,
           0.06414587105515258,
           0.05932098435923991
          ],
          [
           -0.017157162061574405,
           -0.15169070676126103,
           -0.0726338481037843,
           0.028667737046906654,
           -0.12464894988238008,
           -0.07469540689097766,
           -0.09229439898037331,
           -0.007049765329688314,
           0.07315992798104368,
           0.08718409467326226
          ],
          [
           0.04646275577629891,
           0.026234049100653672,
           -0.04020051428527254,
           -0.00646034859484732,
           0.020809819096901647,
           -0.13114984412031386,
           0.0009209289110713657,
           -0.05912623114722035,
           0.0053694444549742355,
           -0.0005129854994711747
          ],
          [
           -0.013660628781606036,
           -0.05617769142319718,
           -0.04402002202075126,
           -0.005857119059570632,
           -0.058758392275260654,
           -0.05847498988900447,
           0.010768223342954788,
           0.02417566628484969,
           0.041569081941859154,
           0.04494839400138829
          ],
          [
           -0.273115135803321,
           0.20632259429263672,
           -0.10565481545698839,
           0.3111157016949383,
           0.20310939486798837,
           -0.021297797247806838,
           0.30835456961976737,
           0.010493048480187504,
           0.11753856671778147,
           0.11968000236897984
          ],
          [
           -0.13113086801843277,
           0.10125603056893552,
           0.34300020954427063,
           0.28435873112432686,
           0.07862032569211243,
           -0.022901414168784585,
           0.17159827592407562,
           0.008641700597349384,
           0.03989685449552875,
           -0.005432948203198331
          ],
          [
           -0.26149712477105375,
           -0.07227139479553318,
           0.038440355093109835,
           0.14469069525190723,
           -0.06950952954950324,
           -0.05327090634469607,
           0.8350865177235115,
           0.030279384734723785,
           0.06465081467388195,
           0.0591375051700184
          ],
          [
           -0.05781995406770495,
           -0.012825519061565928,
           0.26455974381647246,
           0.04985530887784942,
           -0.015018941535934215,
           -0.0647416509075326,
           0.009631233308141196,
           0.018063816027732302,
           -0.030144452809743424,
           -0.02424181784288568
          ],
          [
           -0.1430161146832412,
           0.06477993347533778,
           0.05701333451263535,
           -0.05277920943261194,
           0.0715884538892161,
           0.1054409388174097,
           0.10075805035311747,
           -0.01788942255276954,
           0.06672940375559168,
           0.05414562348499596
          ],
          [
           -0.48749982463612834,
           -0.015925838621276923,
           0.07576500499918888,
           0.4319154949939199,
           -0.009833281709041136,
           -0.03583414374690263,
           0.16806917373916508,
           0.030090940094898235,
           0.13555167759431178,
           0.13188834873162805
          ],
          [
           -0.19537131731086765,
           0.1421936237169286,
           -0.38127642578029985,
           0.1407608023704145,
           0.11582680943072914,
           -0.26880527634800067,
           0.12815930734532985,
           -0.02346078426986849,
           0.09826299518908742,
           0.051550743237705234
          ],
          [
           0.3783466965893451,
           -0.04501565995765399,
           -0.10998950710173641,
           -0.2742135735982408,
           -0.052714245860937425,
           -0.04571263062391208,
           -0.18418804944745854,
           0.06340130141622594,
           -0.10580253561505888,
           -0.08508516680942048
          ],
          [
           0.495697942481819,
           0.3069952504426064,
           -0.047588966527377756,
           -0.21579352209625796,
           0.27230103890504787,
           0.11737306267075649,
           -0.03686640753949629,
           0.059651006454105766,
           -0.12713809895079586,
           -0.10189876645987458
          ],
          [
           -0.2054998203089536,
           0.027622968058400955,
           0.0621593205311995,
           0.1559253921930485,
           0.04976237578998196,
           -0.08407936744110273,
           0.15362834879580717,
           -0.031339750524959124,
           0.05278847800968157,
           0.024110023052162
          ],
          [
           -0.27449357760368226,
           -0.0106536963890442,
           -0.06012646320034981,
           0.2257246106540164,
           -0.015184855237871579,
           -0.06272579146143537,
           0.0570508521219354,
           0.03593755464559329,
           0.06812831964965567,
           0.05194784226987553
          ],
          [
           0.08300848434713919,
           0.007555896987445126,
           -0.0631015726667388,
           -0.0017324573685376934,
           -0.004021793443897556,
           0.05155859662319749,
           -0.1434128684230126,
           -0.004518824419531191,
           0.026977330314328446,
           0.040192824668019954
          ],
          [
           -0.16079261187915747,
           0.004218414824090081,
           -0.021006434463952495,
           0.14701531915928528,
           0.0004649818570159487,
           -0.03501470629527566,
           -0.001713615384948345,
           -0.020631866741572417,
           0.086308714074549,
           0.0857607544878905
          ],
          [
           -0.13161445606763844,
           -0.025426249393749312,
           -0.020182697006692563,
           0.11754428311604623,
           -0.027101913975174058,
           -0.0717153717340928,
           0.05698832507055284,
           0.07557602331059039,
           0.005691288718211471,
           0.027863563964155957
          ],
          [
           -0.12782970942671504,
           -0.2163608136566368,
           -0.006115970747602268,
           0.0424580893637885,
           -0.20752647236773386,
           -0.006809368470982797,
           -0.11452191544686088,
           -0.028221152816126034,
           0.08030556779434644,
           0.07246129414358513
          ],
          [
           -0.05353226937672496,
           -0.12517132029429812,
           0.005221156596004021,
           0.0255789460463358,
           -0.12704352832008503,
           -0.006229361428113028,
           -0.06046352502899817,
           -0.012702483428099992,
           0.07299358233862628,
           0.06472969557167486
          ],
          [
           -0.10472305357120629,
           -0.023229480919169765,
           0.005079673730326655,
           0.04522527232082819,
           -0.027202190738666542,
           0.6649707460293979,
           -0.0772569301726613,
           -0.019070049120161497,
           -0.05459739976225494,
           -0.04390659296704874
          ],
          [
           -0.07216166216787119,
           -0.01924772978267342,
           -0.04702915193546147,
           0.02087480671084621,
           -0.022539479838419692,
           -0.0420887265238752,
           0.05986536165347133,
           0.027109035359634714,
           0.031092022553561808,
           0.055223870986044796
          ],
          [
           -0.2471528296385541,
           0.2298757655014837,
           -0.08672893653278464,
           0.300619847414772,
           0.22240308362460504,
           -0.02848362598149728,
           0.319943145271482,
           0.017021715948384177,
           0.10706743444794871,
           0.11804044679946855
          ]
         ]
        }
       ],
       "layout": {
        "scene": {
         "aspectmode": "data"
        },
        "template": {
         "data": {
          "bar": [
           {
            "error_x": {
             "color": "#2a3f5f"
            },
            "error_y": {
             "color": "#2a3f5f"
            },
            "marker": {
             "line": {
              "color": "#E5ECF6",
              "width": 0.5
             },
             "pattern": {
              "fillmode": "overlay",
              "size": 10,
              "solidity": 0.2
             }
            },
            "type": "bar"
           }
          ],
          "barpolar": [
           {
            "marker": {
             "line": {
              "color": "#E5ECF6",
              "width": 0.5
             },
             "pattern": {
              "fillmode": "overlay",
              "size": 10,
              "solidity": 0.2
             }
            },
            "type": "barpolar"
           }
          ],
          "carpet": [
           {
            "aaxis": {
             "endlinecolor": "#2a3f5f",
             "gridcolor": "white",
             "linecolor": "white",
             "minorgridcolor": "white",
             "startlinecolor": "#2a3f5f"
            },
            "baxis": {
             "endlinecolor": "#2a3f5f",
             "gridcolor": "white",
             "linecolor": "white",
             "minorgridcolor": "white",
             "startlinecolor": "#2a3f5f"
            },
            "type": "carpet"
           }
          ],
          "choropleth": [
           {
            "colorbar": {
             "outlinewidth": 0,
             "ticks": ""
            },
            "type": "choropleth"
           }
          ],
          "contour": [
           {
            "colorbar": {
             "outlinewidth": 0,
             "ticks": ""
            },
            "colorscale": [
             [
              0,
              "#0d0887"
             ],
             [
              0.1111111111111111,
              "#46039f"
             ],
             [
              0.2222222222222222,
              "#7201a8"
             ],
             [
              0.3333333333333333,
              "#9c179e"
             ],
             [
              0.4444444444444444,
              "#bd3786"
             ],
             [
              0.5555555555555556,
              "#d8576b"
             ],
             [
              0.6666666666666666,
              "#ed7953"
             ],
             [
              0.7777777777777778,
              "#fb9f3a"
             ],
             [
              0.8888888888888888,
              "#fdca26"
             ],
             [
              1,
              "#f0f921"
             ]
            ],
            "type": "contour"
           }
          ],
          "contourcarpet": [
           {
            "colorbar": {
             "outlinewidth": 0,
             "ticks": ""
            },
            "type": "contourcarpet"
           }
          ],
          "heatmap": [
           {
            "colorbar": {
             "outlinewidth": 0,
             "ticks": ""
            },
            "colorscale": [
             [
              0,
              "#0d0887"
             ],
             [
              0.1111111111111111,
              "#46039f"
             ],
             [
              0.2222222222222222,
              "#7201a8"
             ],
             [
              0.3333333333333333,
              "#9c179e"
             ],
             [
              0.4444444444444444,
              "#bd3786"
             ],
             [
              0.5555555555555556,
              "#d8576b"
             ],
             [
              0.6666666666666666,
              "#ed7953"
             ],
             [
              0.7777777777777778,
              "#fb9f3a"
             ],
             [
              0.8888888888888888,
              "#fdca26"
             ],
             [
              1,
              "#f0f921"
             ]
            ],
            "type": "heatmap"
           }
          ],
          "heatmapgl": [
           {
            "colorbar": {
             "outlinewidth": 0,
             "ticks": ""
            },
            "colorscale": [
             [
              0,
              "#0d0887"
             ],
             [
              0.1111111111111111,
              "#46039f"
             ],
             [
              0.2222222222222222,
              "#7201a8"
             ],
             [
              0.3333333333333333,
              "#9c179e"
             ],
             [
              0.4444444444444444,
              "#bd3786"
             ],
             [
              0.5555555555555556,
              "#d8576b"
             ],
             [
              0.6666666666666666,
              "#ed7953"
             ],
             [
              0.7777777777777778,
              "#fb9f3a"
             ],
             [
              0.8888888888888888,
              "#fdca26"
             ],
             [
              1,
              "#f0f921"
             ]
            ],
            "type": "heatmapgl"
           }
          ],
          "histogram": [
           {
            "marker": {
             "pattern": {
              "fillmode": "overlay",
              "size": 10,
              "solidity": 0.2
             }
            },
            "type": "histogram"
           }
          ],
          "histogram2d": [
           {
            "colorbar": {
             "outlinewidth": 0,
             "ticks": ""
            },
            "colorscale": [
             [
              0,
              "#0d0887"
             ],
             [
              0.1111111111111111,
              "#46039f"
             ],
             [
              0.2222222222222222,
              "#7201a8"
             ],
             [
              0.3333333333333333,
              "#9c179e"
             ],
             [
              0.4444444444444444,
              "#bd3786"
             ],
             [
              0.5555555555555556,
              "#d8576b"
             ],
             [
              0.6666666666666666,
              "#ed7953"
             ],
             [
              0.7777777777777778,
              "#fb9f3a"
             ],
             [
              0.8888888888888888,
              "#fdca26"
             ],
             [
              1,
              "#f0f921"
             ]
            ],
            "type": "histogram2d"
           }
          ],
          "histogram2dcontour": [
           {
            "colorbar": {
             "outlinewidth": 0,
             "ticks": ""
            },
            "colorscale": [
             [
              0,
              "#0d0887"
             ],
             [
              0.1111111111111111,
              "#46039f"
             ],
             [
              0.2222222222222222,
              "#7201a8"
             ],
             [
              0.3333333333333333,
              "#9c179e"
             ],
             [
              0.4444444444444444,
              "#bd3786"
             ],
             [
              0.5555555555555556,
              "#d8576b"
             ],
             [
              0.6666666666666666,
              "#ed7953"
             ],
             [
              0.7777777777777778,
              "#fb9f3a"
             ],
             [
              0.8888888888888888,
              "#fdca26"
             ],
             [
              1,
              "#f0f921"
             ]
            ],
            "type": "histogram2dcontour"
           }
          ],
          "mesh3d": [
           {
            "colorbar": {
             "outlinewidth": 0,
             "ticks": ""
            },
            "type": "mesh3d"
           }
          ],
          "parcoords": [
           {
            "line": {
             "colorbar": {
              "outlinewidth": 0,
              "ticks": ""
             }
            },
            "type": "parcoords"
           }
          ],
          "pie": [
           {
            "automargin": true,
            "type": "pie"
           }
          ],
          "scatter": [
           {
            "fillpattern": {
             "fillmode": "overlay",
             "size": 10,
             "solidity": 0.2
            },
            "type": "scatter"
           }
          ],
          "scatter3d": [
           {
            "line": {
             "colorbar": {
              "outlinewidth": 0,
              "ticks": ""
             }
            },
            "marker": {
             "colorbar": {
              "outlinewidth": 0,
              "ticks": ""
             }
            },
            "type": "scatter3d"
           }
          ],
          "scattercarpet": [
           {
            "marker": {
             "colorbar": {
              "outlinewidth": 0,
              "ticks": ""
             }
            },
            "type": "scattercarpet"
           }
          ],
          "scattergeo": [
           {
            "marker": {
             "colorbar": {
              "outlinewidth": 0,
              "ticks": ""
             }
            },
            "type": "scattergeo"
           }
          ],
          "scattergl": [
           {
            "marker": {
             "colorbar": {
              "outlinewidth": 0,
              "ticks": ""
             }
            },
            "type": "scattergl"
           }
          ],
          "scattermapbox": [
           {
            "marker": {
             "colorbar": {
              "outlinewidth": 0,
              "ticks": ""
             }
            },
            "type": "scattermapbox"
           }
          ],
          "scatterpolar": [
           {
            "marker": {
             "colorbar": {
              "outlinewidth": 0,
              "ticks": ""
             }
            },
            "type": "scatterpolar"
           }
          ],
          "scatterpolargl": [
           {
            "marker": {
             "colorbar": {
              "outlinewidth": 0,
              "ticks": ""
             }
            },
            "type": "scatterpolargl"
           }
          ],
          "scatterternary": [
           {
            "marker": {
             "colorbar": {
              "outlinewidth": 0,
              "ticks": ""
             }
            },
            "type": "scatterternary"
           }
          ],
          "surface": [
           {
            "colorbar": {
             "outlinewidth": 0,
             "ticks": ""
            },
            "colorscale": [
             [
              0,
              "#0d0887"
             ],
             [
              0.1111111111111111,
              "#46039f"
             ],
             [
              0.2222222222222222,
              "#7201a8"
             ],
             [
              0.3333333333333333,
              "#9c179e"
             ],
             [
              0.4444444444444444,
              "#bd3786"
             ],
             [
              0.5555555555555556,
              "#d8576b"
             ],
             [
              0.6666666666666666,
              "#ed7953"
             ],
             [
              0.7777777777777778,
              "#fb9f3a"
             ],
             [
              0.8888888888888888,
              "#fdca26"
             ],
             [
              1,
              "#f0f921"
             ]
            ],
            "type": "surface"
           }
          ],
          "table": [
           {
            "cells": {
             "fill": {
              "color": "#EBF0F8"
             },
             "line": {
              "color": "white"
             }
            },
            "header": {
             "fill": {
              "color": "#C8D4E3"
             },
             "line": {
              "color": "white"
             }
            },
            "type": "table"
           }
          ]
         },
         "layout": {
          "annotationdefaults": {
           "arrowcolor": "#2a3f5f",
           "arrowhead": 0,
           "arrowwidth": 1
          },
          "autotypenumbers": "strict",
          "coloraxis": {
           "colorbar": {
            "outlinewidth": 0,
            "ticks": ""
           }
          },
          "colorscale": {
           "diverging": [
            [
             0,
             "#8e0152"
            ],
            [
             0.1,
             "#c51b7d"
            ],
            [
             0.2,
             "#de77ae"
            ],
            [
             0.3,
             "#f1b6da"
            ],
            [
             0.4,
             "#fde0ef"
            ],
            [
             0.5,
             "#f7f7f7"
            ],
            [
             0.6,
             "#e6f5d0"
            ],
            [
             0.7,
             "#b8e186"
            ],
            [
             0.8,
             "#7fbc41"
            ],
            [
             0.9,
             "#4d9221"
            ],
            [
             1,
             "#276419"
            ]
           ],
           "sequential": [
            [
             0,
             "#0d0887"
            ],
            [
             0.1111111111111111,
             "#46039f"
            ],
            [
             0.2222222222222222,
             "#7201a8"
            ],
            [
             0.3333333333333333,
             "#9c179e"
            ],
            [
             0.4444444444444444,
             "#bd3786"
            ],
            [
             0.5555555555555556,
             "#d8576b"
            ],
            [
             0.6666666666666666,
             "#ed7953"
            ],
            [
             0.7777777777777778,
             "#fb9f3a"
            ],
            [
             0.8888888888888888,
             "#fdca26"
            ],
            [
             1,
             "#f0f921"
            ]
           ],
           "sequentialminus": [
            [
             0,
             "#0d0887"
            ],
            [
             0.1111111111111111,
             "#46039f"
            ],
            [
             0.2222222222222222,
             "#7201a8"
            ],
            [
             0.3333333333333333,
             "#9c179e"
            ],
            [
             0.4444444444444444,
             "#bd3786"
            ],
            [
             0.5555555555555556,
             "#d8576b"
            ],
            [
             0.6666666666666666,
             "#ed7953"
            ],
            [
             0.7777777777777778,
             "#fb9f3a"
            ],
            [
             0.8888888888888888,
             "#fdca26"
            ],
            [
             1,
             "#f0f921"
            ]
           ]
          },
          "colorway": [
           "#636efa",
           "#EF553B",
           "#00cc96",
           "#ab63fa",
           "#FFA15A",
           "#19d3f3",
           "#FF6692",
           "#B6E880",
           "#FF97FF",
           "#FECB52"
          ],
          "font": {
           "color": "#2a3f5f"
          },
          "geo": {
           "bgcolor": "white",
           "lakecolor": "white",
           "landcolor": "#E5ECF6",
           "showlakes": true,
           "showland": true,
           "subunitcolor": "white"
          },
          "hoverlabel": {
           "align": "left"
          },
          "hovermode": "closest",
          "mapbox": {
           "style": "light"
          },
          "paper_bgcolor": "white",
          "plot_bgcolor": "#E5ECF6",
          "polar": {
           "angularaxis": {
            "gridcolor": "white",
            "linecolor": "white",
            "ticks": ""
           },
           "bgcolor": "#E5ECF6",
           "radialaxis": {
            "gridcolor": "white",
            "linecolor": "white",
            "ticks": ""
           }
          },
          "scene": {
           "xaxis": {
            "backgroundcolor": "#E5ECF6",
            "gridcolor": "white",
            "gridwidth": 2,
            "linecolor": "white",
            "showbackground": true,
            "ticks": "",
            "zerolinecolor": "white"
           },
           "yaxis": {
            "backgroundcolor": "#E5ECF6",
            "gridcolor": "white",
            "gridwidth": 2,
            "linecolor": "white",
            "showbackground": true,
            "ticks": "",
            "zerolinecolor": "white"
           },
           "zaxis": {
            "backgroundcolor": "#E5ECF6",
            "gridcolor": "white",
            "gridwidth": 2,
            "linecolor": "white",
            "showbackground": true,
            "ticks": "",
            "zerolinecolor": "white"
           }
          },
          "shapedefaults": {
           "line": {
            "color": "#2a3f5f"
           }
          },
          "ternary": {
           "aaxis": {
            "gridcolor": "white",
            "linecolor": "white",
            "ticks": ""
           },
           "baxis": {
            "gridcolor": "white",
            "linecolor": "white",
            "ticks": ""
           },
           "bgcolor": "#E5ECF6",
           "caxis": {
            "gridcolor": "white",
            "linecolor": "white",
            "ticks": ""
           }
          },
          "title": {
           "x": 0.05
          },
          "xaxis": {
           "automargin": true,
           "gridcolor": "white",
           "linecolor": "white",
           "ticks": "",
           "title": {
            "standoff": 15
           },
           "zerolinecolor": "white",
           "zerolinewidth": 2
          },
          "yaxis": {
           "automargin": true,
           "gridcolor": "white",
           "linecolor": "white",
           "ticks": "",
           "title": {
            "standoff": 15
           },
           "zerolinecolor": "white",
           "zerolinewidth": 2
          }
         }
        },
        "title": {
         "text": "Correlation",
         "x": 0.5
        }
       }
      }
     },
     "metadata": {},
     "output_type": "display_data"
    },
    {
     "data": {
      "application/vnd.plotly.v1+json": {
       "config": {
        "plotlyServerURL": "https://plot.ly"
       },
       "data": [
        {
         "colorscale": [
          [
           0,
           "rgb(165,0,38)"
          ],
          [
           0.1,
           "rgb(215,48,39)"
          ],
          [
           0.2,
           "rgb(244,109,67)"
          ],
          [
           0.3,
           "rgb(253,174,97)"
          ],
          [
           0.4,
           "rgb(254,224,144)"
          ],
          [
           0.5,
           "rgb(255,255,191)"
          ],
          [
           0.6,
           "rgb(224,243,248)"
          ],
          [
           0.7,
           "rgb(171,217,233)"
          ],
          [
           0.8,
           "rgb(116,173,209)"
          ],
          [
           0.9,
           "rgb(69,117,180)"
          ],
          [
           1,
           "rgb(49,54,149)"
          ]
         ],
         "type": "heatmap",
         "x": [
          "Mode",
          "ProgressType",
          "Type",
          "LoadingPosition",
          "Plan",
          "ShipmentType",
          "EquipmentType",
          "EquipmentLength",
          "EquipmentWidth",
          "EquipmentHeight"
         ],
         "y": [
          "Mode",
          "ProgressType",
          "Type",
          "LoadingPosition",
          "Plan",
          "ShipmentType",
          "EquipmentType",
          "EquipmentLength",
          "EquipmentWidth",
          "EquipmentHeight"
         ],
         "z": [
          [
           1,
           0.3053698182160271,
           0.009988498189685967,
           -0.5576755706730977,
           0.3028108281777972,
           0.2085767432017126,
           -0.2185186003622446,
           0.08865150077565982,
           -0.21849700984085924,
           -0.175712750375928
          ],
          [
           0.3053698182160271,
           1,
           -0.0861418241499681,
           0.08996019148711587,
           0.81970133014745,
           -0.0698260499354732,
           0.27246462358059387,
           -0.03465076623587643,
           -0.03037749957754168,
           -0.02442923133914339
          ],
          [
           0.009988498189685967,
           -0.0861418241499681,
           1,
           0.07855330714482565,
           -0.05786726241319107,
           0.18206839820429618,
           0.042867033171432686,
           -0.08637266993624773,
           -0.06957597196632807,
           -0.05169819912203554
          ],
          [
           -0.5576755706730977,
           0.08996019148711587,
           0.07855330714482565,
           1,
           0.09188420651086926,
           -0.3972813480708911,
           0.2533211053882577,
           -0.07925659157265919,
           0.14864713997847775,
           0.13581216981959293
          ],
          [
           0.3028108281777972,
           0.81970133014745,
           -0.05786726241319107,
           0.09188420651086926,
           1,
           -0.050329226652739555,
           0.28840863439927567,
           -0.04129081681235561,
           -0.014048945196826907,
           0.005177909471450568
          ],
          [
           0.2085767432017126,
           -0.0698260499354732,
           0.18206839820429618,
           -0.3972813480708911,
           -0.050329226652739555,
           1,
           -0.2327729687049746,
           -0.0018357926073631905,
           -0.028307591035791606,
           0.02201427216350728
          ],
          [
           -0.2185186003622446,
           0.27246462358059387,
           0.042867033171432686,
           0.2533211053882577,
           0.28840863439927567,
           -0.2327729687049746,
           1,
           -0.0897172475557555,
           0.027214439214051457,
           0.00951652314353805
          ],
          [
           0.08865150077565982,
           -0.03465076623587643,
           -0.08637266993624773,
           -0.07925659157265919,
           -0.04129081681235561,
           -0.0018357926073631905,
           -0.0897172475557555,
           1,
           -0.07437968519679072,
           0.0680160042385975
          ],
          [
           -0.21849700984085924,
           -0.03037749957754168,
           -0.06957597196632807,
           0.14864713997847775,
           -0.014048945196826907,
           -0.028307591035791606,
           0.027214439214051457,
           -0.07437968519679072,
           1,
           0.8041883525266875
          ],
          [
           -0.175712750375928,
           -0.02442923133914339,
           -0.05169819912203554,
           0.13581216981959293,
           0.005177909471450568,
           0.02201427216350728,
           0.00951652314353805,
           0.0680160042385975,
           0.8041883525266875,
           1
          ],
          [
           -0.23547128179583404,
           -0.05227859793831261,
           0.007885438932863168,
           0.12754487143984,
           -0.06167733432592642,
           -0.06176093818586296,
           0.6278736169208529,
           0.05979576653231259,
           0.07091460304574264,
           0.06591831936959865
          ],
          [
           -0.23510711758750014,
           -0.05292929632266536,
           0.009327345251192167,
           0.12624258165698746,
           -0.06167535750663028,
           -0.05993517867958626,
           0.6278534929531906,
           0.06022147768965152,
           0.07000278616653335,
           0.06546674875546273
          ],
          [
           -0.35260545242900226,
           0.055472015016183665,
           0.013225246419481479,
           0.4850271124801881,
           0.06014521147936853,
           -0.2033551213570601,
           0.10074781380906576,
           0.07598598147117444,
           0.055691869873338906,
           0.10370348520102748
          ],
          [
           0.1600651594982654,
           0.10713524185072262,
           -0.049404110149542275,
           -0.047288166504967886,
           0.14656354015066667,
           0.03907290732595524,
           -0.007184317913140414,
           0.10754123000080958,
           -0.013472678117346933,
           -0.0022179328000844134
          ],
          [
           -0.5711165274218611,
           0.02759316993840402,
           -0.04886277476004064,
           0.3878423890886701,
           0.022952307169843537,
           -0.14849640349432244,
           0.20955581625606343,
           -0.11105217100790563,
           0.15806584276528624,
           0.09424379008161166
          ],
          [
           -0.21062453201998624,
           -0.05256853244247915,
           -0.021442289138189078,
           0.06439101910241292,
           -0.009030155411338427,
           0.21592065751416936,
           0.12522040634058354,
           -0.3481133995570151,
           0.11280194316273227,
           0.009149396807825358
          ],
          [
           -0.3305332495791772,
           0.015022121730238945,
           -0.11161074889214596,
           0.2300961425221967,
           0.04948545086185655,
           0.43105285876444605,
           0.007588230748939805,
           -0.025319224684587364,
           0.12784008997429439,
           0.18102751719501306
          ],
          [
           0.016941118216006048,
           0.40143079854969393,
           0.033430672150017784,
           0.08404696569121586,
           0.41644172120789885,
           0.09106770095697174,
           0.2276987459385247,
           0.04885855830585394,
           -0.07078918704946113,
           -0.0431162714646078
          ],
          [
           0.2926042397806314,
           -0.08735205009605233,
           0.06321879411107766,
           -0.3063554536691048,
           -0.07439837417123109,
           0.1998436326732441,
           -0.13309063920354267,
           -0.02868775690908473,
           -0.036694018109342516,
           -0.09394785949606622
          ],
          [
           0.12996554253108508,
           -0.055277020029723414,
           0.2264747266018378,
           -0.18043903218114232,
           -0.1092265650275132,
           -0.29521616098703174,
           0.05059467763927225,
           -0.02973564264898664,
           -0.1727657624162582,
           -0.1848158021430501
          ],
          [
           -0.036534279558131585,
           -0.0050793375280113046,
           -0.019051917540559016,
           0.030251479899379652,
           -0.009307494901491707,
           0.03941305657204166,
           -0.02744697480028902,
           -0.10938926558945931,
           0.04351796430592048,
           -0.01473809297534526
          ],
          [
           -0.10688311234308652,
           -0.01656640903515778,
           0.12712928779381094,
           0.09866609319979444,
           0.005150115872785393,
           -0.0421944133922331,
           0.0886080639109264,
           0.056603934339135166,
           -0.0012125543867614393,
           0.022209420632200796
          ],
          [
           -0.036534279558131585,
           -0.0050793375280113046,
           -0.019051917540559016,
           0.030251479899379652,
           -0.009307494901491707,
           0.005782045439538144,
           -0.03467596675473134,
           0.017355027713712293,
           0.1053625966480535,
           0.13370095627377315
          ],
          [
           -0.08664527661500496,
           -0.026128012545298323,
           -0.022538126548704,
           0.014656528913963695,
           -0.01006791898805085,
           -0.11512200047004155,
           -0.04571845881908781,
           -0.03377954840097059,
           0.029967530806051107,
           0.016878273258536393
          ],
          [
           0.16766626607430535,
           -0.010627902935278183,
           -0.03986384626643666,
           -0.21052720550132353,
           -0.019474813760285762,
           0.08246708105540851,
           -0.07255529029599816,
           0.0363133083720493,
           -0.038346348897233304,
           -0.030837687145079607
          ],
          [
           -0.02107156356066182,
           -0.0029295660092939504,
           -0.010988411329409227,
           0.01744788700402832,
           -0.0053682041299119125,
           0.022731931126664003,
           0.024280645567584806,
           -0.11022056458029285,
           -0.010570115383437195,
           -0.008500363676223354
          ],
          [
           -0.14294079237859453,
           -0.019872966972210866,
           0.18140010630493245,
           0.0601750452610512,
           -0.03641568172056197,
           -0.058915002935863346,
           0.052479876162942765,
           -0.1704909054412783,
           0.09327477230142002,
           0.04133184170800927
          ],
          [
           -0.05981316467374174,
           -0.008315786041792521,
           0.005623450278172072,
           0.022745373105196802,
           -0.015238037590343714,
           -0.0593587474275857,
           0.022689322518591588,
           0.028413291383121854,
           -0.030004040764695986,
           -0.02412890011170444
          ],
          [
           -0.3643080273356605,
           -0.03238952267184709,
           -0.07024789625609211,
           0.34227940566019527,
           -0.060272597036134336,
           -0.42592654894104987,
           0.12384012587473231,
           -0.03676827231633421,
           0.06643809064103483,
           0.006553682416753526
          ],
          [
           0.33964580981243947,
           -0.03670130537231263,
           -0.08122744458780926,
           -0.35392853260513657,
           -0.0013649423245777688,
           0.199575602726374,
           -0.20854501852995536,
           0.07295636856638617,
           -0.1666570293062697,
           -0.1360094255357998
          ],
          [
           0.304803175613234,
           -0.06511840078364406,
           -0.10101426132572475,
           -0.4050963327115482,
           -0.02547855275350217,
           0.304141732718343,
           -0.2221813875058126,
           0.09152275640417432,
           -0.0594830621203422,
           -0.014492372996311585
          ],
          [
           -0.03852946058981582,
           -0.05249341631531475,
           0.04345074398270105,
           0.053377922745790354,
           -0.06765295792920216,
           -0.011584952400826003,
           -0.003967952390831996,
           -0.007627386983519799,
           0.05228379467690306,
           0.01828544690531637
          ],
          [
           -0.059524577444130755,
           -0.039331676552145554,
           0.02940684937286537,
           0.07798564079059117,
           -0.056987226047226114,
           -0.03697572355627876,
           -0.01192415547283996,
           -0.000366768480135887,
           0.07950016900854097,
           0.029758066315993745
          ],
          [
           -0.021307386305521037,
           -0.035034878206249565,
           0.05764011342470534,
           -0.013427804261754505,
           -0.028158447906842604,
           0.08595514772315085,
           0.03033789145902761,
           -0.050751094499708646,
           0.054498765894786985,
           0.058749973339761355
          ],
          [
           -0.03268459231141304,
           -0.02686615845990555,
           0.07011946327251778,
           -0.007801681702893753,
           -0.02389387040313219,
           0.07577724884717651,
           0.04344536086274391,
           -0.049122198836074694,
           0.05587123919054644,
           0.06387930730438772
          ],
          [
           0.04775107287067265,
           -0.021886351473015327,
           -0.023686616730608637,
           -0.025337682458085858,
           -0.028746374163987762,
           -0.032698691507562265,
           0.0026236414832912624,
           0.09002050824027522,
           0.059333246239539415,
           0.051511370106292795
          ],
          [
           0.03040918489617533,
           -0.10570578870444655,
           -0.09182794453424797,
           0.00036515221107905445,
           -0.10670044608435209,
           -0.06802032252801918,
           -0.053708549375346124,
           -0.007184137624070435,
           0.05110990113298195,
           0.07507799136567304
          ],
          [
           0.05371289542448703,
           0.034454947980227184,
           -0.04149505442019494,
           -0.007885166266442483,
           0.03245980927662485,
           -0.06488329242987159,
           0.027765155051710358,
           -0.006059854897948805,
           0.0020648493410179865,
           0.004457543291764481
          ],
          [
           -0.0023844682939918893,
           -0.03902733611381726,
           -0.06379229623779906,
           -0.007269506294946844,
           -0.034712756449319225,
           -0.07376967342119209,
           0.043060169165768596,
           -0.03797799751265795,
           0.029226948108720376,
           0.035486956055303755
          ],
          [
           -0.5073614041384741,
           0.23729660400589556,
           -0.16141568440401163,
           0.41856443901742485,
           0.20278029631416597,
           -0.21982272264701364,
           0.3264675843088803,
           -0.016924772032911865,
           0.166867499051457,
           0.14095805019619176
          ],
          [
           -0.16340706510714342,
           0.08201803010657505,
           0.340540010499629,
           0.2877623672981318,
           0.09799480474809291,
           -0.2689014761368574,
           0.2051784508940899,
           -0.052965732927091745,
           0.038279042434587615,
           -0.006603865986946285
          ],
          [
           -0.3518806925619591,
           -0.07645063286353466,
           0.1134067242704011,
           0.18140233307501202,
           -0.09107504734267292,
           -0.07895790420048786,
           0.657313575283211,
           -0.12308955836129151,
           0.04133512323411389,
           0.02045897207016441
          ],
          [
           -0.0702445327979634,
           -0.009766052482589684,
           0.3092515253627824,
           0.05816458125574107,
           -0.017895539169847742,
           -0.11820767511408235,
           0.10034179921313138,
           0.0333685466961422,
           -0.035236721498743455,
           -0.02833696101051621
          ],
          [
           -0.18636492394245432,
           0.061865933304714064,
           0.07056508652199117,
           0.05241641364972054,
           0.07967117754686179,
           0.08530448826174192,
           0.07623403551602112,
           -0.021412081601330516,
           0.04989033085783603,
           0.040936842964727764
          ],
          [
           -0.5293256184140362,
           -0.007844784743195714,
           0.07576500499918831,
           0.4323982880307627,
           -0.004149039718739196,
           -0.18476872314873558,
           0.13804867121228065,
           -0.01797316762373639,
           0.1355516775943116,
           0.13188834873162805
          ],
          [
           -0.24429889893843104,
           0.1367104117333655,
           -0.37674987331799126,
           0.14185435243170913,
           0.12357761539232807,
           -0.33243492416191517,
           0.1306401551069128,
           -0.041081125917617714,
           0.09766347366544925,
           0.05023440550470405
          ],
          [
           0.42560573229870685,
           -0.029323758614846592,
           -0.10998950710173613,
           -0.2736831464090659,
           -0.053733529676874565,
           0.009911097272973516,
           -0.20018942888607422,
           0.1001931138902135,
           -0.10580253561505883,
           -0.08508516680942033
          ],
          [
           0.508113656295571,
           0.166190079542602,
           -0.051264174168830216,
           -0.2565339426424711,
           0.18893443098193913,
           0.1163244085271952,
           -0.12828317978693646,
           0.1198605432093888,
           -0.11107873106015867,
           -0.08445914189451371
          ],
          [
           -0.3728146545914171,
           0.002272771187058266,
           -0.011138590242927722,
           0.2213046832144284,
           0.011542380486998788,
           -0.14936854600204244,
           0.08450760036055263,
           -0.03412314026828769,
           0.12471764847550434,
           0.09410248839218265
          ],
          [
           -0.2981787077903456,
           0.011624537299594903,
           -0.05961418977719703,
           0.20942688212555094,
           -0.010612234425441786,
           -0.10557836586871616,
           0.07016831791906335,
           0.053373483408634896,
           0.06738444219524974,
           0.04896129844378372
          ],
          [
           0.07096785210854609,
           0.0217627736816781,
           -0.058031938490946844,
           0.017618363504944782,
           0.0104245027267974,
           0.02431122947308122,
           -0.10606137610232277,
           0.024838118996451636,
           0.029287230408243405,
           0.042081232243599095
          ],
          [
           -0.312379122885054,
           0.014166456453069652,
           -0.04326139374319979,
           0.21662358622777086,
           0.013255242542150587,
           -0.12165196851509946,
           0.005238012345523771,
           -0.026069473809405296,
           0.13891502636094935,
           0.12009085484547335
          ],
          [
           -0.10825201154241938,
           -0.005122157868836858,
           -0.01650546137638118,
           0.0751999281446431,
           -0.022543359496358526,
           -0.10437150065298868,
           0.049077267666126904,
           0.11039937875999765,
           0.000830236411996669,
           0.005454169151604525
          ],
          [
           -0.09802493286311097,
           -0.14047369691990327,
           -0.0036335077080616868,
           0.05407439229240442,
           -0.20419368566487664,
           0.016834304763659838,
           -0.07335251874769201,
           -0.030196746426894853,
           0.08204936163184222,
           0.07357886466965345
          ],
          [
           -0.022991208586491518,
           -0.024498962529575136,
           -0.021728044305108565,
           0.03115414025741832,
           -0.07480801645551038,
           -0.03787064472950643,
           -0.09689970027675951,
           0.023755518011699416,
           0.07760627896875455,
           0.07065740950323364
          ],
          [
           -0.10884011551471937,
           -0.015131971670807251,
           0.005079673730326631,
           0.04513779045856277,
           -0.02772817289633798,
           0.3078185130103052,
           -0.10617426599681645,
           -0.0389126569080035,
           -0.05459739976225489,
           -0.04390659296704873
          ],
          [
           -0.07418460629364418,
           -0.012538209648860706,
           -0.047029151935461595,
           0.020834427363817864,
           -0.022975303715698534,
           -0.047199691744898756,
           0.035641436133874015,
           0.042840424511325796,
           0.031092022553561822,
           0.05522387098604467
          ],
          [
           -0.4978811842868406,
           0.23805108458296514,
           -0.15162641190592688,
           0.4054476768360768,
           0.20775653009102482,
           -0.23636310858809403,
           0.3299121934882071,
           -0.01130003348253783,
           0.15751181935595113,
           0.13970574351560658
          ]
         ]
        }
       ],
       "layout": {
        "scene": {
         "aspectmode": "data"
        },
        "template": {
         "data": {
          "bar": [
           {
            "error_x": {
             "color": "#2a3f5f"
            },
            "error_y": {
             "color": "#2a3f5f"
            },
            "marker": {
             "line": {
              "color": "#E5ECF6",
              "width": 0.5
             },
             "pattern": {
              "fillmode": "overlay",
              "size": 10,
              "solidity": 0.2
             }
            },
            "type": "bar"
           }
          ],
          "barpolar": [
           {
            "marker": {
             "line": {
              "color": "#E5ECF6",
              "width": 0.5
             },
             "pattern": {
              "fillmode": "overlay",
              "size": 10,
              "solidity": 0.2
             }
            },
            "type": "barpolar"
           }
          ],
          "carpet": [
           {
            "aaxis": {
             "endlinecolor": "#2a3f5f",
             "gridcolor": "white",
             "linecolor": "white",
             "minorgridcolor": "white",
             "startlinecolor": "#2a3f5f"
            },
            "baxis": {
             "endlinecolor": "#2a3f5f",
             "gridcolor": "white",
             "linecolor": "white",
             "minorgridcolor": "white",
             "startlinecolor": "#2a3f5f"
            },
            "type": "carpet"
           }
          ],
          "choropleth": [
           {
            "colorbar": {
             "outlinewidth": 0,
             "ticks": ""
            },
            "type": "choropleth"
           }
          ],
          "contour": [
           {
            "colorbar": {
             "outlinewidth": 0,
             "ticks": ""
            },
            "colorscale": [
             [
              0,
              "#0d0887"
             ],
             [
              0.1111111111111111,
              "#46039f"
             ],
             [
              0.2222222222222222,
              "#7201a8"
             ],
             [
              0.3333333333333333,
              "#9c179e"
             ],
             [
              0.4444444444444444,
              "#bd3786"
             ],
             [
              0.5555555555555556,
              "#d8576b"
             ],
             [
              0.6666666666666666,
              "#ed7953"
             ],
             [
              0.7777777777777778,
              "#fb9f3a"
             ],
             [
              0.8888888888888888,
              "#fdca26"
             ],
             [
              1,
              "#f0f921"
             ]
            ],
            "type": "contour"
           }
          ],
          "contourcarpet": [
           {
            "colorbar": {
             "outlinewidth": 0,
             "ticks": ""
            },
            "type": "contourcarpet"
           }
          ],
          "heatmap": [
           {
            "colorbar": {
             "outlinewidth": 0,
             "ticks": ""
            },
            "colorscale": [
             [
              0,
              "#0d0887"
             ],
             [
              0.1111111111111111,
              "#46039f"
             ],
             [
              0.2222222222222222,
              "#7201a8"
             ],
             [
              0.3333333333333333,
              "#9c179e"
             ],
             [
              0.4444444444444444,
              "#bd3786"
             ],
             [
              0.5555555555555556,
              "#d8576b"
             ],
             [
              0.6666666666666666,
              "#ed7953"
             ],
             [
              0.7777777777777778,
              "#fb9f3a"
             ],
             [
              0.8888888888888888,
              "#fdca26"
             ],
             [
              1,
              "#f0f921"
             ]
            ],
            "type": "heatmap"
           }
          ],
          "heatmapgl": [
           {
            "colorbar": {
             "outlinewidth": 0,
             "ticks": ""
            },
            "colorscale": [
             [
              0,
              "#0d0887"
             ],
             [
              0.1111111111111111,
              "#46039f"
             ],
             [
              0.2222222222222222,
              "#7201a8"
             ],
             [
              0.3333333333333333,
              "#9c179e"
             ],
             [
              0.4444444444444444,
              "#bd3786"
             ],
             [
              0.5555555555555556,
              "#d8576b"
             ],
             [
              0.6666666666666666,
              "#ed7953"
             ],
             [
              0.7777777777777778,
              "#fb9f3a"
             ],
             [
              0.8888888888888888,
              "#fdca26"
             ],
             [
              1,
              "#f0f921"
             ]
            ],
            "type": "heatmapgl"
           }
          ],
          "histogram": [
           {
            "marker": {
             "pattern": {
              "fillmode": "overlay",
              "size": 10,
              "solidity": 0.2
             }
            },
            "type": "histogram"
           }
          ],
          "histogram2d": [
           {
            "colorbar": {
             "outlinewidth": 0,
             "ticks": ""
            },
            "colorscale": [
             [
              0,
              "#0d0887"
             ],
             [
              0.1111111111111111,
              "#46039f"
             ],
             [
              0.2222222222222222,
              "#7201a8"
             ],
             [
              0.3333333333333333,
              "#9c179e"
             ],
             [
              0.4444444444444444,
              "#bd3786"
             ],
             [
              0.5555555555555556,
              "#d8576b"
             ],
             [
              0.6666666666666666,
              "#ed7953"
             ],
             [
              0.7777777777777778,
              "#fb9f3a"
             ],
             [
              0.8888888888888888,
              "#fdca26"
             ],
             [
              1,
              "#f0f921"
             ]
            ],
            "type": "histogram2d"
           }
          ],
          "histogram2dcontour": [
           {
            "colorbar": {
             "outlinewidth": 0,
             "ticks": ""
            },
            "colorscale": [
             [
              0,
              "#0d0887"
             ],
             [
              0.1111111111111111,
              "#46039f"
             ],
             [
              0.2222222222222222,
              "#7201a8"
             ],
             [
              0.3333333333333333,
              "#9c179e"
             ],
             [
              0.4444444444444444,
              "#bd3786"
             ],
             [
              0.5555555555555556,
              "#d8576b"
             ],
             [
              0.6666666666666666,
              "#ed7953"
             ],
             [
              0.7777777777777778,
              "#fb9f3a"
             ],
             [
              0.8888888888888888,
              "#fdca26"
             ],
             [
              1,
              "#f0f921"
             ]
            ],
            "type": "histogram2dcontour"
           }
          ],
          "mesh3d": [
           {
            "colorbar": {
             "outlinewidth": 0,
             "ticks": ""
            },
            "type": "mesh3d"
           }
          ],
          "parcoords": [
           {
            "line": {
             "colorbar": {
              "outlinewidth": 0,
              "ticks": ""
             }
            },
            "type": "parcoords"
           }
          ],
          "pie": [
           {
            "automargin": true,
            "type": "pie"
           }
          ],
          "scatter": [
           {
            "fillpattern": {
             "fillmode": "overlay",
             "size": 10,
             "solidity": 0.2
            },
            "type": "scatter"
           }
          ],
          "scatter3d": [
           {
            "line": {
             "colorbar": {
              "outlinewidth": 0,
              "ticks": ""
             }
            },
            "marker": {
             "colorbar": {
              "outlinewidth": 0,
              "ticks": ""
             }
            },
            "type": "scatter3d"
           }
          ],
          "scattercarpet": [
           {
            "marker": {
             "colorbar": {
              "outlinewidth": 0,
              "ticks": ""
             }
            },
            "type": "scattercarpet"
           }
          ],
          "scattergeo": [
           {
            "marker": {
             "colorbar": {
              "outlinewidth": 0,
              "ticks": ""
             }
            },
            "type": "scattergeo"
           }
          ],
          "scattergl": [
           {
            "marker": {
             "colorbar": {
              "outlinewidth": 0,
              "ticks": ""
             }
            },
            "type": "scattergl"
           }
          ],
          "scattermapbox": [
           {
            "marker": {
             "colorbar": {
              "outlinewidth": 0,
              "ticks": ""
             }
            },
            "type": "scattermapbox"
           }
          ],
          "scatterpolar": [
           {
            "marker": {
             "colorbar": {
              "outlinewidth": 0,
              "ticks": ""
             }
            },
            "type": "scatterpolar"
           }
          ],
          "scatterpolargl": [
           {
            "marker": {
             "colorbar": {
              "outlinewidth": 0,
              "ticks": ""
             }
            },
            "type": "scatterpolargl"
           }
          ],
          "scatterternary": [
           {
            "marker": {
             "colorbar": {
              "outlinewidth": 0,
              "ticks": ""
             }
            },
            "type": "scatterternary"
           }
          ],
          "surface": [
           {
            "colorbar": {
             "outlinewidth": 0,
             "ticks": ""
            },
            "colorscale": [
             [
              0,
              "#0d0887"
             ],
             [
              0.1111111111111111,
              "#46039f"
             ],
             [
              0.2222222222222222,
              "#7201a8"
             ],
             [
              0.3333333333333333,
              "#9c179e"
             ],
             [
              0.4444444444444444,
              "#bd3786"
             ],
             [
              0.5555555555555556,
              "#d8576b"
             ],
             [
              0.6666666666666666,
              "#ed7953"
             ],
             [
              0.7777777777777778,
              "#fb9f3a"
             ],
             [
              0.8888888888888888,
              "#fdca26"
             ],
             [
              1,
              "#f0f921"
             ]
            ],
            "type": "surface"
           }
          ],
          "table": [
           {
            "cells": {
             "fill": {
              "color": "#EBF0F8"
             },
             "line": {
              "color": "white"
             }
            },
            "header": {
             "fill": {
              "color": "#C8D4E3"
             },
             "line": {
              "color": "white"
             }
            },
            "type": "table"
           }
          ]
         },
         "layout": {
          "annotationdefaults": {
           "arrowcolor": "#2a3f5f",
           "arrowhead": 0,
           "arrowwidth": 1
          },
          "autotypenumbers": "strict",
          "coloraxis": {
           "colorbar": {
            "outlinewidth": 0,
            "ticks": ""
           }
          },
          "colorscale": {
           "diverging": [
            [
             0,
             "#8e0152"
            ],
            [
             0.1,
             "#c51b7d"
            ],
            [
             0.2,
             "#de77ae"
            ],
            [
             0.3,
             "#f1b6da"
            ],
            [
             0.4,
             "#fde0ef"
            ],
            [
             0.5,
             "#f7f7f7"
            ],
            [
             0.6,
             "#e6f5d0"
            ],
            [
             0.7,
             "#b8e186"
            ],
            [
             0.8,
             "#7fbc41"
            ],
            [
             0.9,
             "#4d9221"
            ],
            [
             1,
             "#276419"
            ]
           ],
           "sequential": [
            [
             0,
             "#0d0887"
            ],
            [
             0.1111111111111111,
             "#46039f"
            ],
            [
             0.2222222222222222,
             "#7201a8"
            ],
            [
             0.3333333333333333,
             "#9c179e"
            ],
            [
             0.4444444444444444,
             "#bd3786"
            ],
            [
             0.5555555555555556,
             "#d8576b"
            ],
            [
             0.6666666666666666,
             "#ed7953"
            ],
            [
             0.7777777777777778,
             "#fb9f3a"
            ],
            [
             0.8888888888888888,
             "#fdca26"
            ],
            [
             1,
             "#f0f921"
            ]
           ],
           "sequentialminus": [
            [
             0,
             "#0d0887"
            ],
            [
             0.1111111111111111,
             "#46039f"
            ],
            [
             0.2222222222222222,
             "#7201a8"
            ],
            [
             0.3333333333333333,
             "#9c179e"
            ],
            [
             0.4444444444444444,
             "#bd3786"
            ],
            [
             0.5555555555555556,
             "#d8576b"
            ],
            [
             0.6666666666666666,
             "#ed7953"
            ],
            [
             0.7777777777777778,
             "#fb9f3a"
            ],
            [
             0.8888888888888888,
             "#fdca26"
            ],
            [
             1,
             "#f0f921"
            ]
           ]
          },
          "colorway": [
           "#636efa",
           "#EF553B",
           "#00cc96",
           "#ab63fa",
           "#FFA15A",
           "#19d3f3",
           "#FF6692",
           "#B6E880",
           "#FF97FF",
           "#FECB52"
          ],
          "font": {
           "color": "#2a3f5f"
          },
          "geo": {
           "bgcolor": "white",
           "lakecolor": "white",
           "landcolor": "#E5ECF6",
           "showlakes": true,
           "showland": true,
           "subunitcolor": "white"
          },
          "hoverlabel": {
           "align": "left"
          },
          "hovermode": "closest",
          "mapbox": {
           "style": "light"
          },
          "paper_bgcolor": "white",
          "plot_bgcolor": "#E5ECF6",
          "polar": {
           "angularaxis": {
            "gridcolor": "white",
            "linecolor": "white",
            "ticks": ""
           },
           "bgcolor": "#E5ECF6",
           "radialaxis": {
            "gridcolor": "white",
            "linecolor": "white",
            "ticks": ""
           }
          },
          "scene": {
           "xaxis": {
            "backgroundcolor": "#E5ECF6",
            "gridcolor": "white",
            "gridwidth": 2,
            "linecolor": "white",
            "showbackground": true,
            "ticks": "",
            "zerolinecolor": "white"
           },
           "yaxis": {
            "backgroundcolor": "#E5ECF6",
            "gridcolor": "white",
            "gridwidth": 2,
            "linecolor": "white",
            "showbackground": true,
            "ticks": "",
            "zerolinecolor": "white"
           },
           "zaxis": {
            "backgroundcolor": "#E5ECF6",
            "gridcolor": "white",
            "gridwidth": 2,
            "linecolor": "white",
            "showbackground": true,
            "ticks": "",
            "zerolinecolor": "white"
           }
          },
          "shapedefaults": {
           "line": {
            "color": "#2a3f5f"
           }
          },
          "ternary": {
           "aaxis": {
            "gridcolor": "white",
            "linecolor": "white",
            "ticks": ""
           },
           "baxis": {
            "gridcolor": "white",
            "linecolor": "white",
            "ticks": ""
           },
           "bgcolor": "#E5ECF6",
           "caxis": {
            "gridcolor": "white",
            "linecolor": "white",
            "ticks": ""
           }
          },
          "title": {
           "x": 0.05
          },
          "xaxis": {
           "automargin": true,
           "gridcolor": "white",
           "linecolor": "white",
           "ticks": "",
           "title": {
            "standoff": 15
           },
           "zerolinecolor": "white",
           "zerolinewidth": 2
          },
          "yaxis": {
           "automargin": true,
           "gridcolor": "white",
           "linecolor": "white",
           "ticks": "",
           "title": {
            "standoff": 15
           },
           "zerolinecolor": "white",
           "zerolinewidth": 2
          }
         }
        },
        "title": {
         "text": "Spearman Correlation",
         "x": 0.5
        }
       }
      }
     },
     "metadata": {},
     "output_type": "display_data"
    },
    {
     "data": {
      "application/vnd.plotly.v1+json": {
       "config": {
        "plotlyServerURL": "https://plot.ly"
       },
       "data": [
        {
         "colorscale": [
          [
           0,
           "rgb(165,0,38)"
          ],
          [
           0.1,
           "rgb(215,48,39)"
          ],
          [
           0.2,
           "rgb(244,109,67)"
          ],
          [
           0.3,
           "rgb(253,174,97)"
          ],
          [
           0.4,
           "rgb(254,224,144)"
          ],
          [
           0.5,
           "rgb(255,255,191)"
          ],
          [
           0.6,
           "rgb(224,243,248)"
          ],
          [
           0.7,
           "rgb(171,217,233)"
          ],
          [
           0.8,
           "rgb(116,173,209)"
          ],
          [
           0.9,
           "rgb(69,117,180)"
          ],
          [
           1,
           "rgb(49,54,149)"
          ]
         ],
         "type": "heatmap",
         "x": [
          "Mode",
          "ProgressType",
          "Type",
          "StateType",
          "LoadingPosition",
          "Plan",
          "ShipmentType",
          "EquipmentType",
          "EquipmentLength",
          "EquipmentWidth"
         ],
         "y": [
          "Mode",
          "ProgressType",
          "Type",
          "StateType",
          "LoadingPosition",
          "Plan",
          "ShipmentType",
          "EquipmentType",
          "EquipmentLength",
          "EquipmentWidth"
         ],
         "z": [
          [
           0.6809218678619766,
           0.11131363296065988,
           0,
           0.03638544627569118,
           0.1637649040092195,
           0.09725107305717273,
           0.03612592949886517,
           0.29050426175599453,
           0.04300539570264261,
           0.053869791265822364
          ],
          [
           0.09575411823692903,
           0.188174870028595,
           0,
           0.018394495122487697,
           0,
           0.1088373500467208,
           0,
           0.11394588987025145,
           0.01599254827251384,
           0.01813560405588799
          ],
          [
           0,
           0,
           0.37918552106854664,
           0,
           0,
           0,
           0.06731324755710677,
           0.0022187792545800278,
           0.018415683589382503,
           0.0446701454933045
          ],
          [
           0,
           0,
           0,
           0,
           0.0020170261816137014,
           0,
           0,
           0.03649046294855207,
           0.0004169087107896985,
           0
          ],
          [
           0.18775051555342603,
           0,
           0.0053295447653498584,
           0,
           0.49745623912076464,
           0.049823655895063546,
           0.18854456840005174,
           0.11709313242745001,
           0,
           0.002954501777908014
          ],
          [
           0.11035162641349539,
           0.10420348606230112,
           0,
           0,
           0.021511486685060532,
           0.1552552085710821,
           0.028206765700677483,
           0.08312442748297277,
           0,
           0.018586155847598373
          ],
          [
           0.02592843713300219,
           0.06008020641153289,
           0.05995960904217368,
           0.005144303933992234,
           0,
           0,
           0.35745229285187285,
           0.036290988574545935,
           0.02425994368975859,
           0.04030595710222418
          ],
          [
           0.23544384067533297,
           0.12743212688807848,
           0.024488276164169598,
           0.003338378129480901,
           0.05994196570729837,
           0.1101398401800493,
           0.07337669729932639,
           1.2066922222851222,
           0.10726223576881111,
           0.010721477371079757
          ],
          [
           0.017769234381821875,
           0,
           0,
           0.0075338889458249625,
           0.023686880718598147,
           0,
           0,
           0.09532030654048107,
           0.3473960964877678,
           0
          ],
          [
           0.07551399159184147,
           0.04461717591559333,
           0.01522081861663116,
           0.011263945238307649,
           0.00494343132539754,
           0.015958619524278017,
           0,
           0,
           0.0061819025276990125,
           0.33842166746208013
          ],
          [
           0.04769715387201412,
           0,
           0.0022761912969677667,
           0.04220497806658585,
           0,
           0.020246830809277583,
           0,
           0.009732868874526623,
           0.0005625988289184036,
           0.1584685038081699
          ],
          [
           0.04861791391304626,
           0.041801654367665364,
           0,
           0,
           0,
           0.007090391908906035,
           0,
           0.3837481755639556,
           0.010519505654783767,
           0
          ],
          [
           0.02398163180505497,
           0.031370637234739984,
           0,
           0.0011774797961265904,
           0,
           0,
           0.013613374236524756,
           0.38331349856762653,
           0.0006802413649151795,
           0.0037168718891074093
          ],
          [
           0.15699051352238858,
           0,
           0.033304630848961736,
           0.02312450962036916,
           0.17743845544457493,
           0.03421598139552451,
           0.13994273295071213,
           0.0948004529396047,
           0.09170128993589577,
           0.03903439822285115
          ],
          [
           0,
           0,
           0.029051937688330476,
           0,
           0,
           0.00606755741044207,
           0,
           0.0015746100624385306,
           0.007533655354232227,
           0.010995911835617989
          ],
          [
           0.2288132978747548,
           0,
           0.03395992244200796,
           0,
           0.06525225425400105,
           0.013666706247338567,
           0,
           0.05512186412776865,
           0,
           0.01792482782556082
          ],
          [
           0,
           0.004164994326554705,
           0.024243480541181306,
           0,
           0,
           0.03420381504180359,
           0.06838498092940748,
           0.14144640886754178,
           0.06445993506036629,
           0
          ],
          [
           0.06582430477715073,
           0.016888727667822234,
           0.035851272336794526,
           0,
           0.013971089078856025,
           0,
           0.13391674556259936,
           0.030549420242572012,
           0.014596169557059557,
           0
          ],
          [
           0,
           0.00055039925846323,
           0.002556906381594004,
           0,
           0,
           0,
           0.006318795595097182,
           0.012055528658386105,
           0,
           0.022890543436463684
          ],
          [
           0.050580831115571545,
           0.004777780867795567,
           0,
           0.02259719502987867,
           0.0403884185583534,
           0.020454754857749613,
           0.030673863249830013,
           0.0025041641097720557,
           0,
           0.010377336891853162
          ],
          [
           0,
           0,
           0.00016940897412487388,
           0.0026063553946054085,
           0.018885454895783305,
           0,
           0.00802534206463168,
           0.031068533443097124,
           0,
           0.006600290708048018
          ],
          [
           0.07360946782983557,
           0.08776876654662491,
           0.04061152701580051,
           0.03881285380412436,
           0.006982605328984093,
           0.07506944700133733,
           0.0167823803643552,
           0.04291802065532124,
           0,
           0.013022642443041299
          ],
          [
           0,
           0,
           0.021950558664208586,
           0,
           0,
           0,
           0,
           0.013142715345387135,
           0.023585439156298182,
           0.011011538270156773
          ],
          [
           0.014072304047767492,
           0,
           0.032204084079796136,
           0,
           0.0189254511982182,
           0.0354745623951378,
           0,
           0.0075007263421094095,
           0.041669134329174184,
           0
          ],
          [
           0.03854131739771827,
           0.016660834459844676,
           0,
           0,
           0.014138583650367575,
           0.01018302535683624,
           0.04130377253509865,
           0,
           0,
           0
          ],
          [
           0,
           0.021203163117024637,
           0.013739773718025816,
           0.03315267819418599,
           0.059619419237672666,
           0,
           0,
           0.029983413105358903,
           0,
           0.005642968727533226
          ],
          [
           0.009122840040128644,
           0,
           0.0022403385297384837,
           0,
           0.011917091354024745,
           0.028881331383493247,
           0.030648438742966633,
           0,
           0.011953854059083557,
           0
          ],
          [
           0.019863428173021447,
           0.014944358750830222,
           0.0014701448418796836,
           0,
           0,
           0.005628186037734295,
           0.014031934269729263,
           0.022168723320811434,
           0,
           0
          ],
          [
           0.038718638560299556,
           0,
           0.0487302475331175,
           0.01387526786086779,
           0,
           0.024976079832093045,
           0.023047419866281782,
           0.008181005355183846,
           0,
           0.02655151452141702
          ],
          [
           0,
           0.0047688342000391515,
           0,
           0.0196481339269452,
           0.008950972848242422,
           0,
           0,
           0.02733255541134305,
           0,
           0.012377174760761722
          ],
          [
           0,
           0,
           0.03175646754315187,
           0,
           0,
           0,
           0.0019707040303496015,
           0.012365665500921441,
           0.008640048639946496,
           0
          ],
          [
           0,
           0.025319462177354257,
           0,
           0,
           0.019671682127837542,
           0,
           0,
           0.011623585907112766,
           0.0034572731513438093,
           0
          ],
          [
           0,
           0.002219889849110146,
           0.005355945875173518,
           0,
           0.0015820919973679182,
           0.005099833893768668,
           0.02384323323036286,
           0,
           0,
           0.0180626721833983
          ],
          [
           0.015176967420084342,
           0.00491095425329835,
           0,
           0.008217496837460647,
           0.022810942115901955,
           0.003685268676144382,
           0,
           0.0366824125143177,
           0,
           0
          ],
          [
           0.003815895773920275,
           0.03870960379766952,
           0,
           0.013257705476055204,
           0,
           0.004091463925029792,
           0,
           0,
           0,
           0.020869994057260755
          ],
          [
           0.021459425845581137,
           0.006966445297277968,
           0,
           0.044545330976712094,
           0,
           0,
           0.0534060884450156,
           0.031810595290035604,
           0,
           0.028491062945763534
          ],
          [
           0.04634595251869378,
           0.01405820076334452,
           0.018146874109139954,
           0.01240582169576232,
           0,
           0.032979994047782846,
           0,
           0.023693127433900063,
           0.00447839343909795,
           0
          ],
          [
           0,
           0.031903652561341644,
           0.02852620367361114,
           0,
           0,
           0.01922730994956634,
           0,
           0.03957345017094793,
           0,
           0.02355001534294976
          ],
          [
           0,
           0,
           0,
           0,
           0,
           0,
           0.003163046354315746,
           0.02416126620931225,
           0.004750930505497131,
           0.0354974667241299
          ],
          [
           0.07764507348404015,
           0,
           0.028391079744764625,
           0.039358202079787574,
           0.07459359370199836,
           0,
           0.13239858824755624,
           0.0759879721259753,
           0.03983834718019752,
           0
          ],
          [
           0.044083081493220266,
           0,
           0,
           0,
           0.02377085096604281,
           0,
           0.020674959710129226,
           0.0715946639777556,
           0.03963632876801704,
           0.007328455070673812
          ],
          [
           0.034605784671447815,
           0,
           0,
           0,
           0.0494893534484131,
           0,
           0.07272023562244234,
           0.02319117162195994,
           0,
           0.02620295450913357
          ],
          [
           0.0299208066167731,
           0,
           0.0036663752923358217,
           0,
           0.027709144888447224,
           0.029694161727312984,
           0.028273574645735433,
           0.006202641073869142,
           0,
           0
          ],
          [
           0,
           0.0036299937373329705,
           0,
           0.025833852051305506,
           0,
           0.015505910545677182,
           0.00030510673696548807,
           0.038851304263397335,
           0.011200594526032503,
           0.06346586646328145
          ],
          [
           0.02766546653284596,
           0,
           0.01609815731994102,
           0.044234241383045436,
           0.043900344315658923,
           0.03364423327476729,
           0.006219504699571221,
           0,
           0.01436121690576142,
           0.0066970765621512385
          ],
          [
           0.052290006165527814,
           0,
           0.01875529943790477,
           0,
           0.020197568418054868,
           0.029239732246813865,
           0.001177806534690795,
           0.015281283591927597,
           0.0166485487928818,
           0.010162182183667046
          ],
          [
           0.18039325424728414,
           0.015177726057199692,
           0.06580342495329372,
           0.002167935461200976,
           0.09223882515340343,
           0.015093878780525039,
           0.19014670934298294,
           0.23088618904077318,
           0.037764644974423334,
           0.03601730479811405
          ],
          [
           0.17858458876254613,
           0.028636200060317307,
           0.055987553531260836,
           0.0033464545887067487,
           0.10433610125067361,
           0.012492534298555569,
           0.18697294697228717,
           0.211491109923454,
           0.03451920824060739,
           0.05022509366036765
          ],
          [
           0.06214273231543288,
           0.005162520819344429,
           0.039931971996369775,
           0,
           0.018530077385762844,
           0.01595503366240525,
           0.14230123630623126,
           0.10903060239483686,
           0.003907575626270976,
           0.043716099830384714
          ],
          [
           0.06924650314678615,
           0.0012532943619447678,
           0.06701377864081692,
           0,
           0.027335578787162085,
           0.0013227479232229555,
           0.15940391632425932,
           0.14089817938193594,
           0.007562989450498492,
           0.022189938340543947
          ],
          [
           0.33450512441923674,
           0.05921262977428743,
           0.06791117801866697,
           0.005359325198708298,
           0.18016462451898985,
           0.02948538224925379,
           0.21336145739106183,
           0.19155750894126733,
           0.017876558483036042,
           0.01865369724411714
          ],
          [
           0.004725042009199321,
           0,
           0.09477739395018858,
           0,
           0.07058599420414424,
           0.037704855065780585,
           0.13904358963804864,
           0.0157556777397323,
           0,
           0
          ],
          [
           0.06330239903593515,
           0,
           0.027854119475353656,
           0.027862022861955715,
           0.010308691187341346,
           0.01732924776484257,
           0.06998056451660961,
           0.7843366338432434,
           0.06983157137131668,
           0
          ],
          [
           0.005153883101153056,
           0,
           0.027722490592857696,
           0.006635383297563635,
           0,
           0.0010159324322227548,
           0,
           0.038525473750665284,
           0.011637985017745045,
           0.021790492930346517
          ],
          [
           0,
           0,
           0,
           0.04403451576729456,
           0.020264468535862612,
           0,
           0.04659873395539016,
           0.017127655512837237,
           0.05110219181248121,
           0.03243594601419897
          ],
          [
           0.17970674498281447,
           0.0029810295518455376,
           0,
           0.024053480712210806,
           0.10047246961374956,
           0.0076661427613702315,
           0.01410725857625117,
           0.028568731708373374,
           0,
           0.029501077754167326
          ],
          [
           0.038674248643335574,
           0.038353304557106505,
           0.07131599994605509,
           0,
           0.008793010262761136,
           0.026861216413401223,
           0.10028079033309378,
           0.015957089930839885,
           0,
           0.014735395149566344
          ],
          [
           0.023374455845403652,
           0.057853379610949496,
           0.04382002483306291,
           0.011446992719019722,
           0.020410569174150517,
           0.07294191708974962,
           0,
           0.03189473905832774,
           0.00620464791905162,
           0
          ],
          [
           0.1157456200997693,
           0.017785087663776622,
           0,
           0.003962335664295047,
           0.05282322535681283,
           0,
           0,
           0.03674411225421936,
           0.035674692704431354,
           0
          ],
          [
           0,
           0.018486419254454933,
           0.01801663169104417,
           0,
           0,
           0.006603974869399121,
           0.021982569785875317,
           0.0068627627080215525,
           0,
           0.009531980594936318
          ],
          [
           0.13131690833231824,
           0.0235749858997667,
           0.018770122431697178,
           0,
           0.042080345902864025,
           0.029353143964210737,
           0.01550358089057946,
           0.06316224491805933,
           0,
           0.03646558790611287
          ],
          [
           0,
           0,
           0.026791081136724237,
           0.029942454280061703,
           0.04248632347985071,
           0.04596231809291762,
           0.01594032026013048,
           0.00746468371164033,
           0.009614592314206583,
           0.010907426423575117
          ],
          [
           0.023443498765209903,
           0.03999640859271647,
           0.02052608395317712,
           0,
           0.056455675654813575,
           0.00013372969932046175,
           0.06906111614283184,
           0.04738344030195396,
           0.006134811407934038,
           0
          ],
          [
           0.024768804169907455,
           0.034619309649327246,
           0.01774508759117266,
           0,
           0.01217832110035566,
           0.0096204804038722,
           0,
           0.03008731238606943,
           0,
           0.024054802010367915
          ],
          [
           0.07097317941138481,
           0,
           0,
           0.01325050927574889,
           0.037831429661629556,
           0.014880838159211152,
           0.05501386046212442,
           0.053924581688292506,
           0.0262718873512946,
           0.0472853213006692
          ],
          [
           0.020356326263592628,
           0,
           0,
           0.008765149072469391,
           0.025414331114696154,
           0.022163816825923277,
           0.028273820649112658,
           0.045294959261343415,
           0.019251875230133386,
           0
          ],
          [
           0,
           0.01287046928270108,
           0,
           0,
           0.0016562912642772432,
           0.0029057102492906495,
           0,
           0.041667270390647104,
           0.00090305548071834,
           0.028240592754094962
          ],
          [
           0,
           0.006026717006885285,
           0,
           0,
           0,
           0,
           0.002768666043226453,
           0.0882369067181239,
           0.039477155119282514,
           0.019555129039522612
          ],
          [
           0,
           0,
           0,
           0,
           0,
           0,
           0,
           0,
           0,
           0
          ],
          [
           0,
           0.004123210260646992,
           0.01704254553667095,
           0,
           0.021309022218204632,
           0,
           0.005560400165364854,
           0,
           0.011575479635861363,
           0.013453096862099834
          ],
          [
           0.009575503574025035,
           0.007130303057540033,
           0,
           0,
           0,
           0.02794536230962663,
           0,
           0.021997535911170374,
           0.006761616501326895,
           0
          ],
          [
           0,
           0,
           0.0111567315164125,
           0,
           0,
           0.006319544154168799,
           0.07918138367540406,
           0,
           0.03380010520741017,
           0.04436601852008515
          ],
          [
           0,
           0.06326593786325185,
           0.021030352369432403,
           0,
           0.01119640430256963,
           0,
           0,
           0.04499276953223674,
           0.00008152627086399633,
           0.005179745351981957
          ],
          [
           0.014934543244679688,
           0,
           0.0016133169166598904,
           0.0010183299389003864,
           0.013235205146989948,
           0.0037151745515133783,
           0.023577116237244233,
           0.029364769950887215,
           0,
           0
          ],
          [
           0,
           0,
           0.0005091649694506373,
           0.0010183299389003864,
           0.0005091649694506373,
           0,
           0,
           0.0005091649694506373,
           0,
           0
          ],
          [
           0,
           0,
           0,
           0,
           0,
           0.0005091649694506373,
           0.0010183299389003864,
           0,
           0,
           0
          ],
          [
           0,
           0,
           0,
           0,
           0,
           0.0007135496052006474,
           0.012086712315088732,
           0.02941995449832735,
           0.009515623276113772,
           0.009103557628117542
          ],
          [
           0,
           0,
           0,
           0,
           0.0005091649694506373,
           0,
           0,
           0,
           0.0010183299389003864,
           0
          ],
          [
           0,
           0,
           0.0005091649694506373,
           0,
           0.0005091649694506373,
           0,
           0,
           0,
           0,
           0
          ],
          [
           0.02536540568460799,
           0,
           0.00893712493494192,
           0,
           0.03697200148236934,
           0,
           0.00797587024202695,
           0.0347976334315101,
           0.014347632568349589,
           0.02244809961920602
          ],
          [
           0.0005091649694506373,
           0,
           0,
           0,
           0,
           0,
           0,
           0.0005091649694506373,
           0,
           0
          ],
          [
           0,
           0.007240107226933468,
           0,
           0.01122599057039153,
           0.013636437596342255,
           0,
           0.006253586530215571,
           0.0036492825483707136,
           0,
           0
          ],
          [
           0,
           0,
           0.0005091649694506373,
           0.0005091649694506373,
           0,
           0,
           0.0005091649694506373,
           0.0005091649694506373,
           0.0010183299389003864,
           0.0005091649694506373
          ],
          [
           0,
           0,
           0.0020366598778007727,
           0,
           0,
           0.0005091649694506373,
           0.0010183299389003864,
           0,
           0.0010183299389003864,
           0
          ],
          [
           0,
           0,
           0,
           0,
           0,
           0,
           0.0005091649694506373,
           0.0010183299389003864,
           0,
           0
          ],
          [
           0,
           0.0005091649694506373,
           0.0010183299389003864,
           0,
           0,
           0.0010183299389003864,
           0.0005091649694506373,
           0,
           0.0010183299389003864,
           0.0005091649694506373
          ],
          [
           0,
           0,
           0,
           0,
           0,
           0.0010183299389003864,
           0,
           0.0015274949083510236,
           0,
           0
          ],
          [
           0,
           0.0005091649694506373,
           0,
           0.0005091649694506373,
           0,
           0,
           0,
           0,
           0.0005091649694506373,
           0
          ],
          [
           0,
           0.0005091649694506373,
           0,
           0,
           0.0005091649694506373,
           0,
           0.0010183299389003864,
           0,
           0.0005091649694506373,
           0
          ],
          [
           0,
           0.0038022177396168644,
           0,
           0,
           0,
           0.0032427076790755294,
           0.04083334296046992,
           0,
           0.018021378209071237,
           0.011176104685245214
          ],
          [
           0.028195308299588273,
           0,
           0.02227769956009862,
           0.017273953507785045,
           0,
           0.02566825922066318,
           0,
           0.014080992294710715,
           0,
           0
          ],
          [
           0,
           0,
           0.042242306436086174,
           0.02192742210523857,
           0.011795091446136219,
           0.020697026379935757,
           0,
           0.013826100037069189,
           0.024410697262712056,
           0
          ],
          [
           0,
           0,
           0,
           0.0010183299389003864,
           0,
           0.0005091649694506373,
           0,
           0,
           0.0015274949083510236,
           0
          ],
          [
           0,
           0,
           0,
           0,
           0.0005091649694506373,
           0,
           0,
           0,
           0,
           0.0015274949083510236
          ],
          [
           0,
           0,
           0.0005091649694506373,
           0,
           0,
           0,
           0,
           0,
           0,
           0
          ],
          [
           0,
           0.005124676989736621,
           0,
           0,
           0,
           0.0015096375961931585,
           0,
           0,
           0,
           0.006423149100888814
          ],
          [
           0,
           0,
           0.0015274949083510236,
           0,
           0.0005091649694506373,
           0,
           0,
           0,
           0,
           0.0020366598778007727
          ],
          [
           0.35564511878038907,
           0.04145277572174333,
           0.05859635081668291,
           0.0009637906420882913,
           0.10951997901762933,
           0.03300990647578406,
           0.1471733701027249,
           0.11993546807173505,
           0.007497955629457209,
           0.03603524275669123
          ]
         ]
        }
       ],
       "layout": {
        "scene": {
         "aspectmode": "data"
        },
        "template": {
         "data": {
          "bar": [
           {
            "error_x": {
             "color": "#2a3f5f"
            },
            "error_y": {
             "color": "#2a3f5f"
            },
            "marker": {
             "line": {
              "color": "#E5ECF6",
              "width": 0.5
             },
             "pattern": {
              "fillmode": "overlay",
              "size": 10,
              "solidity": 0.2
             }
            },
            "type": "bar"
           }
          ],
          "barpolar": [
           {
            "marker": {
             "line": {
              "color": "#E5ECF6",
              "width": 0.5
             },
             "pattern": {
              "fillmode": "overlay",
              "size": 10,
              "solidity": 0.2
             }
            },
            "type": "barpolar"
           }
          ],
          "carpet": [
           {
            "aaxis": {
             "endlinecolor": "#2a3f5f",
             "gridcolor": "white",
             "linecolor": "white",
             "minorgridcolor": "white",
             "startlinecolor": "#2a3f5f"
            },
            "baxis": {
             "endlinecolor": "#2a3f5f",
             "gridcolor": "white",
             "linecolor": "white",
             "minorgridcolor": "white",
             "startlinecolor": "#2a3f5f"
            },
            "type": "carpet"
           }
          ],
          "choropleth": [
           {
            "colorbar": {
             "outlinewidth": 0,
             "ticks": ""
            },
            "type": "choropleth"
           }
          ],
          "contour": [
           {
            "colorbar": {
             "outlinewidth": 0,
             "ticks": ""
            },
            "colorscale": [
             [
              0,
              "#0d0887"
             ],
             [
              0.1111111111111111,
              "#46039f"
             ],
             [
              0.2222222222222222,
              "#7201a8"
             ],
             [
              0.3333333333333333,
              "#9c179e"
             ],
             [
              0.4444444444444444,
              "#bd3786"
             ],
             [
              0.5555555555555556,
              "#d8576b"
             ],
             [
              0.6666666666666666,
              "#ed7953"
             ],
             [
              0.7777777777777778,
              "#fb9f3a"
             ],
             [
              0.8888888888888888,
              "#fdca26"
             ],
             [
              1,
              "#f0f921"
             ]
            ],
            "type": "contour"
           }
          ],
          "contourcarpet": [
           {
            "colorbar": {
             "outlinewidth": 0,
             "ticks": ""
            },
            "type": "contourcarpet"
           }
          ],
          "heatmap": [
           {
            "colorbar": {
             "outlinewidth": 0,
             "ticks": ""
            },
            "colorscale": [
             [
              0,
              "#0d0887"
             ],
             [
              0.1111111111111111,
              "#46039f"
             ],
             [
              0.2222222222222222,
              "#7201a8"
             ],
             [
              0.3333333333333333,
              "#9c179e"
             ],
             [
              0.4444444444444444,
              "#bd3786"
             ],
             [
              0.5555555555555556,
              "#d8576b"
             ],
             [
              0.6666666666666666,
              "#ed7953"
             ],
             [
              0.7777777777777778,
              "#fb9f3a"
             ],
             [
              0.8888888888888888,
              "#fdca26"
             ],
             [
              1,
              "#f0f921"
             ]
            ],
            "type": "heatmap"
           }
          ],
          "heatmapgl": [
           {
            "colorbar": {
             "outlinewidth": 0,
             "ticks": ""
            },
            "colorscale": [
             [
              0,
              "#0d0887"
             ],
             [
              0.1111111111111111,
              "#46039f"
             ],
             [
              0.2222222222222222,
              "#7201a8"
             ],
             [
              0.3333333333333333,
              "#9c179e"
             ],
             [
              0.4444444444444444,
              "#bd3786"
             ],
             [
              0.5555555555555556,
              "#d8576b"
             ],
             [
              0.6666666666666666,
              "#ed7953"
             ],
             [
              0.7777777777777778,
              "#fb9f3a"
             ],
             [
              0.8888888888888888,
              "#fdca26"
             ],
             [
              1,
              "#f0f921"
             ]
            ],
            "type": "heatmapgl"
           }
          ],
          "histogram": [
           {
            "marker": {
             "pattern": {
              "fillmode": "overlay",
              "size": 10,
              "solidity": 0.2
             }
            },
            "type": "histogram"
           }
          ],
          "histogram2d": [
           {
            "colorbar": {
             "outlinewidth": 0,
             "ticks": ""
            },
            "colorscale": [
             [
              0,
              "#0d0887"
             ],
             [
              0.1111111111111111,
              "#46039f"
             ],
             [
              0.2222222222222222,
              "#7201a8"
             ],
             [
              0.3333333333333333,
              "#9c179e"
             ],
             [
              0.4444444444444444,
              "#bd3786"
             ],
             [
              0.5555555555555556,
              "#d8576b"
             ],
             [
              0.6666666666666666,
              "#ed7953"
             ],
             [
              0.7777777777777778,
              "#fb9f3a"
             ],
             [
              0.8888888888888888,
              "#fdca26"
             ],
             [
              1,
              "#f0f921"
             ]
            ],
            "type": "histogram2d"
           }
          ],
          "histogram2dcontour": [
           {
            "colorbar": {
             "outlinewidth": 0,
             "ticks": ""
            },
            "colorscale": [
             [
              0,
              "#0d0887"
             ],
             [
              0.1111111111111111,
              "#46039f"
             ],
             [
              0.2222222222222222,
              "#7201a8"
             ],
             [
              0.3333333333333333,
              "#9c179e"
             ],
             [
              0.4444444444444444,
              "#bd3786"
             ],
             [
              0.5555555555555556,
              "#d8576b"
             ],
             [
              0.6666666666666666,
              "#ed7953"
             ],
             [
              0.7777777777777778,
              "#fb9f3a"
             ],
             [
              0.8888888888888888,
              "#fdca26"
             ],
             [
              1,
              "#f0f921"
             ]
            ],
            "type": "histogram2dcontour"
           }
          ],
          "mesh3d": [
           {
            "colorbar": {
             "outlinewidth": 0,
             "ticks": ""
            },
            "type": "mesh3d"
           }
          ],
          "parcoords": [
           {
            "line": {
             "colorbar": {
              "outlinewidth": 0,
              "ticks": ""
             }
            },
            "type": "parcoords"
           }
          ],
          "pie": [
           {
            "automargin": true,
            "type": "pie"
           }
          ],
          "scatter": [
           {
            "fillpattern": {
             "fillmode": "overlay",
             "size": 10,
             "solidity": 0.2
            },
            "type": "scatter"
           }
          ],
          "scatter3d": [
           {
            "line": {
             "colorbar": {
              "outlinewidth": 0,
              "ticks": ""
             }
            },
            "marker": {
             "colorbar": {
              "outlinewidth": 0,
              "ticks": ""
             }
            },
            "type": "scatter3d"
           }
          ],
          "scattercarpet": [
           {
            "marker": {
             "colorbar": {
              "outlinewidth": 0,
              "ticks": ""
             }
            },
            "type": "scattercarpet"
           }
          ],
          "scattergeo": [
           {
            "marker": {
             "colorbar": {
              "outlinewidth": 0,
              "ticks": ""
             }
            },
            "type": "scattergeo"
           }
          ],
          "scattergl": [
           {
            "marker": {
             "colorbar": {
              "outlinewidth": 0,
              "ticks": ""
             }
            },
            "type": "scattergl"
           }
          ],
          "scattermapbox": [
           {
            "marker": {
             "colorbar": {
              "outlinewidth": 0,
              "ticks": ""
             }
            },
            "type": "scattermapbox"
           }
          ],
          "scatterpolar": [
           {
            "marker": {
             "colorbar": {
              "outlinewidth": 0,
              "ticks": ""
             }
            },
            "type": "scatterpolar"
           }
          ],
          "scatterpolargl": [
           {
            "marker": {
             "colorbar": {
              "outlinewidth": 0,
              "ticks": ""
             }
            },
            "type": "scatterpolargl"
           }
          ],
          "scatterternary": [
           {
            "marker": {
             "colorbar": {
              "outlinewidth": 0,
              "ticks": ""
             }
            },
            "type": "scatterternary"
           }
          ],
          "surface": [
           {
            "colorbar": {
             "outlinewidth": 0,
             "ticks": ""
            },
            "colorscale": [
             [
              0,
              "#0d0887"
             ],
             [
              0.1111111111111111,
              "#46039f"
             ],
             [
              0.2222222222222222,
              "#7201a8"
             ],
             [
              0.3333333333333333,
              "#9c179e"
             ],
             [
              0.4444444444444444,
              "#bd3786"
             ],
             [
              0.5555555555555556,
              "#d8576b"
             ],
             [
              0.6666666666666666,
              "#ed7953"
             ],
             [
              0.7777777777777778,
              "#fb9f3a"
             ],
             [
              0.8888888888888888,
              "#fdca26"
             ],
             [
              1,
              "#f0f921"
             ]
            ],
            "type": "surface"
           }
          ],
          "table": [
           {
            "cells": {
             "fill": {
              "color": "#EBF0F8"
             },
             "line": {
              "color": "white"
             }
            },
            "header": {
             "fill": {
              "color": "#C8D4E3"
             },
             "line": {
              "color": "white"
             }
            },
            "type": "table"
           }
          ]
         },
         "layout": {
          "annotationdefaults": {
           "arrowcolor": "#2a3f5f",
           "arrowhead": 0,
           "arrowwidth": 1
          },
          "autotypenumbers": "strict",
          "coloraxis": {
           "colorbar": {
            "outlinewidth": 0,
            "ticks": ""
           }
          },
          "colorscale": {
           "diverging": [
            [
             0,
             "#8e0152"
            ],
            [
             0.1,
             "#c51b7d"
            ],
            [
             0.2,
             "#de77ae"
            ],
            [
             0.3,
             "#f1b6da"
            ],
            [
             0.4,
             "#fde0ef"
            ],
            [
             0.5,
             "#f7f7f7"
            ],
            [
             0.6,
             "#e6f5d0"
            ],
            [
             0.7,
             "#b8e186"
            ],
            [
             0.8,
             "#7fbc41"
            ],
            [
             0.9,
             "#4d9221"
            ],
            [
             1,
             "#276419"
            ]
           ],
           "sequential": [
            [
             0,
             "#0d0887"
            ],
            [
             0.1111111111111111,
             "#46039f"
            ],
            [
             0.2222222222222222,
             "#7201a8"
            ],
            [
             0.3333333333333333,
             "#9c179e"
            ],
            [
             0.4444444444444444,
             "#bd3786"
            ],
            [
             0.5555555555555556,
             "#d8576b"
            ],
            [
             0.6666666666666666,
             "#ed7953"
            ],
            [
             0.7777777777777778,
             "#fb9f3a"
            ],
            [
             0.8888888888888888,
             "#fdca26"
            ],
            [
             1,
             "#f0f921"
            ]
           ],
           "sequentialminus": [
            [
             0,
             "#0d0887"
            ],
            [
             0.1111111111111111,
             "#46039f"
            ],
            [
             0.2222222222222222,
             "#7201a8"
            ],
            [
             0.3333333333333333,
             "#9c179e"
            ],
            [
             0.4444444444444444,
             "#bd3786"
            ],
            [
             0.5555555555555556,
             "#d8576b"
            ],
            [
             0.6666666666666666,
             "#ed7953"
            ],
            [
             0.7777777777777778,
             "#fb9f3a"
            ],
            [
             0.8888888888888888,
             "#fdca26"
            ],
            [
             1,
             "#f0f921"
            ]
           ]
          },
          "colorway": [
           "#636efa",
           "#EF553B",
           "#00cc96",
           "#ab63fa",
           "#FFA15A",
           "#19d3f3",
           "#FF6692",
           "#B6E880",
           "#FF97FF",
           "#FECB52"
          ],
          "font": {
           "color": "#2a3f5f"
          },
          "geo": {
           "bgcolor": "white",
           "lakecolor": "white",
           "landcolor": "#E5ECF6",
           "showlakes": true,
           "showland": true,
           "subunitcolor": "white"
          },
          "hoverlabel": {
           "align": "left"
          },
          "hovermode": "closest",
          "mapbox": {
           "style": "light"
          },
          "paper_bgcolor": "white",
          "plot_bgcolor": "#E5ECF6",
          "polar": {
           "angularaxis": {
            "gridcolor": "white",
            "linecolor": "white",
            "ticks": ""
           },
           "bgcolor": "#E5ECF6",
           "radialaxis": {
            "gridcolor": "white",
            "linecolor": "white",
            "ticks": ""
           }
          },
          "scene": {
           "xaxis": {
            "backgroundcolor": "#E5ECF6",
            "gridcolor": "white",
            "gridwidth": 2,
            "linecolor": "white",
            "showbackground": true,
            "ticks": "",
            "zerolinecolor": "white"
           },
           "yaxis": {
            "backgroundcolor": "#E5ECF6",
            "gridcolor": "white",
            "gridwidth": 2,
            "linecolor": "white",
            "showbackground": true,
            "ticks": "",
            "zerolinecolor": "white"
           },
           "zaxis": {
            "backgroundcolor": "#E5ECF6",
            "gridcolor": "white",
            "gridwidth": 2,
            "linecolor": "white",
            "showbackground": true,
            "ticks": "",
            "zerolinecolor": "white"
           }
          },
          "shapedefaults": {
           "line": {
            "color": "#2a3f5f"
           }
          },
          "ternary": {
           "aaxis": {
            "gridcolor": "white",
            "linecolor": "white",
            "ticks": ""
           },
           "baxis": {
            "gridcolor": "white",
            "linecolor": "white",
            "ticks": ""
           },
           "bgcolor": "#E5ECF6",
           "caxis": {
            "gridcolor": "white",
            "linecolor": "white",
            "ticks": ""
           }
          },
          "title": {
           "x": 0.05
          },
          "xaxis": {
           "automargin": true,
           "gridcolor": "white",
           "linecolor": "white",
           "ticks": "",
           "title": {
            "standoff": 15
           },
           "zerolinecolor": "white",
           "zerolinewidth": 2
          },
          "yaxis": {
           "automargin": true,
           "gridcolor": "white",
           "linecolor": "white",
           "ticks": "",
           "title": {
            "standoff": 15
           },
           "zerolinecolor": "white",
           "zerolinewidth": 2
          }
         }
        },
        "title": {
         "text": "Mutual Information",
         "x": 0.5
        }
       }
      }
     },
     "metadata": {},
     "output_type": "display_data"
    },
    {
     "name": "stdout",
     "output_type": "stream",
     "text": [
      "Selecting Features...\n"
     ]
    },
    {
     "data": {
      "application/vnd.jupyter.widget-view+json": {
       "model_id": "8797dd609a9a4e3b821b934ce3fc74fc",
       "version_major": 2,
       "version_minor": 0
      },
      "text/plain": [
       "  0%|          | 0/20 [00:00<?, ?it/s]"
      ]
     },
     "metadata": {},
     "output_type": "display_data"
    },
    {
     "ename": "ExplainerError",
     "evalue": "Additivity check failed in TreeExplainer! Please ensure the data matrix you passed to the explainer is the same shape that the model was trained on. If your data shape is correct then please report this on GitHub. Consider retrying with the feature_perturbation='interventional' option. This check failed because for one of the samples the sum of the SHAP values was 4488.625977, while the model output was 4488.622070. If this difference is acceptable you can set check_additivity=False to disable this check.",
     "output_type": "error",
     "traceback": [
      "\u001b[1;31m---------------------------------------------------------------------------\u001b[0m",
      "\u001b[1;31mExplainerError\u001b[0m                            Traceback (most recent call last)",
      "Cell \u001b[1;32mIn[3], line 1\u001b[0m\n\u001b[1;32m----> 1\u001b[0m cleandf \u001b[39m=\u001b[39m dp\u001b[39m.\u001b[39;49mpipeline()\n",
      "File \u001b[1;32mc:\\Users\\krodriguez0109\\Documents\\GitHub\\Data-Processing-Automation\\pipeline.py:92\u001b[0m, in \u001b[0;36mDataProcessing.pipeline\u001b[1;34m(self)\u001b[0m\n\u001b[0;32m     90\u001b[0m     \u001b[39mprint\u001b[39m(\u001b[39m\"\u001b[39m\u001b[39mselected features: \u001b[39m\u001b[39m\"\u001b[39m, selected_tags)\n\u001b[0;32m     91\u001b[0m \u001b[39mif\u001b[39;00m cfg\u001b[39m.\u001b[39mpipeline_options\u001b[39m.\u001b[39mfeature_selection\u001b[39m.\u001b[39mmethod \u001b[39m==\u001b[39m \u001b[39m'\u001b[39m\u001b[39mboruta\u001b[39m\u001b[39m'\u001b[39m:\n\u001b[1;32m---> 92\u001b[0m     selected_tags, df \u001b[39m=\u001b[39m fs\u001b[39m.\u001b[39;49mborutashap_feature_selection(\n\u001b[0;32m     93\u001b[0m         \u001b[39miter\u001b[39;49m \u001b[39m=\u001b[39;49m cfg\u001b[39m.\u001b[39;49mpipeline_options\u001b[39m.\u001b[39;49mfeature_selection\u001b[39m.\u001b[39;49miter_num\n\u001b[0;32m     94\u001b[0m         )\n\u001b[0;32m     95\u001b[0m     \u001b[39mprint\u001b[39m(\u001b[39m\"\u001b[39m\u001b[39mselected features: \u001b[39m\u001b[39m\"\u001b[39m, selected_tags)\n\u001b[0;32m     96\u001b[0m \u001b[39mif\u001b[39;00m cfg\u001b[39m.\u001b[39mpipeline_options\u001b[39m.\u001b[39mfeature_selection\u001b[39m.\u001b[39mmethod \u001b[39m==\u001b[39m \u001b[39m'\u001b[39m\u001b[39mcorrelation\u001b[39m\u001b[39m'\u001b[39m:\n",
      "File \u001b[1;32mc:\\Users\\krodriguez0109\\Documents\\GitHub\\Data-Processing-Automation\\Data_Analyzing\\feature_selection.py:119\u001b[0m, in \u001b[0;36mFeatureSelection.borutashap_feature_selection\u001b[1;34m(self, iter)\u001b[0m\n\u001b[0;32m    116\u001b[0m X \u001b[39m=\u001b[39m df\u001b[39m.\u001b[39mdrop(\u001b[39mself\u001b[39m\u001b[39m.\u001b[39mtarget_name,axis\u001b[39m=\u001b[39m\u001b[39m1\u001b[39m)\n\u001b[0;32m    118\u001b[0m \u001b[39m# Fit the Boruta-Shap feature selection model, and get all relevant features\u001b[39;00m\n\u001b[1;32m--> 119\u001b[0m Feature_Selector\u001b[39m.\u001b[39;49mfit(X\u001b[39m=\u001b[39;49mX, y\u001b[39m=\u001b[39;49mdf[\u001b[39mself\u001b[39;49m\u001b[39m.\u001b[39;49mtarget_name], n_trials\u001b[39m=\u001b[39;49m\u001b[39miter\u001b[39;49m, sample\u001b[39m=\u001b[39;49m\u001b[39mFalse\u001b[39;49;00m, \n\u001b[0;32m    120\u001b[0m                     train_or_test \u001b[39m=\u001b[39;49m \u001b[39m'\u001b[39;49m\u001b[39mtrain\u001b[39;49m\u001b[39m'\u001b[39;49m, normalize\u001b[39m=\u001b[39;49m\u001b[39mFalse\u001b[39;49;00m, \n\u001b[0;32m    121\u001b[0m                     verbose\u001b[39m=\u001b[39;49m\u001b[39mTrue\u001b[39;49;00m,random_state\u001b[39m=\u001b[39;49m\u001b[39m123\u001b[39;49m)\n\u001b[0;32m    123\u001b[0m \u001b[39m# Get the selected features\u001b[39;00m\n\u001b[0;32m    124\u001b[0m selected_feats \u001b[39m=\u001b[39m \u001b[39mlist\u001b[39m()\n",
      "File \u001b[1;32mc:\\Users\\krodriguez0109\\AppData\\Local\\anaconda3\\envs\\pytorch\\lib\\site-packages\\BorutaShap.py:363\u001b[0m, in \u001b[0;36mBorutaShap.fit\u001b[1;34m(self, X, y, n_trials, random_state, sample, train_or_test, normalize, verbose, stratify)\u001b[0m\n\u001b[0;32m    359\u001b[0m \u001b[39melse\u001b[39;00m:\n\u001b[0;32m    361\u001b[0m     \u001b[39mself\u001b[39m\u001b[39m.\u001b[39mCheck_if_chose_train_or_test_and_train_model()\n\u001b[1;32m--> 363\u001b[0m     \u001b[39mself\u001b[39m\u001b[39m.\u001b[39mX_feature_import, \u001b[39mself\u001b[39m\u001b[39m.\u001b[39mShadow_feature_import \u001b[39m=\u001b[39m \u001b[39mself\u001b[39;49m\u001b[39m.\u001b[39;49mfeature_importance(normalize\u001b[39m=\u001b[39;49mnormalize)\n\u001b[0;32m    364\u001b[0m     \u001b[39mself\u001b[39m\u001b[39m.\u001b[39mupdate_importance_history()\n\u001b[0;32m    365\u001b[0m     hits \u001b[39m=\u001b[39m \u001b[39mself\u001b[39m\u001b[39m.\u001b[39mcalculate_hits()\n",
      "File \u001b[1;32mc:\\Users\\krodriguez0109\\AppData\\Local\\anaconda3\\envs\\pytorch\\lib\\site-packages\\BorutaShap.py:608\u001b[0m, in \u001b[0;36mBorutaShap.feature_importance\u001b[1;34m(self, normalize)\u001b[0m\n\u001b[0;32m    586\u001b[0m \u001b[39m\u001b[39m\u001b[39m\"\"\"\u001b[39;00m\n\u001b[0;32m    587\u001b[0m \u001b[39mCaculates the feature importances scores of the model\u001b[39;00m\n\u001b[0;32m    588\u001b[0m \n\u001b[1;32m   (...)\u001b[0m\n\u001b[0;32m    603\u001b[0m \u001b[39m        If no Importance measure was specified\u001b[39;00m\n\u001b[0;32m    604\u001b[0m \u001b[39m\"\"\"\u001b[39;00m\n\u001b[0;32m    606\u001b[0m \u001b[39mif\u001b[39;00m \u001b[39mself\u001b[39m\u001b[39m.\u001b[39mimportance_measure \u001b[39m==\u001b[39m \u001b[39m'\u001b[39m\u001b[39mshap\u001b[39m\u001b[39m'\u001b[39m:\n\u001b[1;32m--> 608\u001b[0m     \u001b[39mself\u001b[39;49m\u001b[39m.\u001b[39;49mexplain()\n\u001b[0;32m    609\u001b[0m     vals \u001b[39m=\u001b[39m \u001b[39mself\u001b[39m\u001b[39m.\u001b[39mshap_values\n\u001b[0;32m    611\u001b[0m     \u001b[39mif\u001b[39;00m normalize:\n",
      "File \u001b[1;32mc:\\Users\\krodriguez0109\\AppData\\Local\\anaconda3\\envs\\pytorch\\lib\\site-packages\\BorutaShap.py:751\u001b[0m, in \u001b[0;36mBorutaShap.explain\u001b[1;34m(self)\u001b[0m\n\u001b[0;32m    748\u001b[0m         \u001b[39mself\u001b[39m\u001b[39m.\u001b[39mshap_values \u001b[39m=\u001b[39m np\u001b[39m.\u001b[39mabs(\u001b[39mself\u001b[39m\u001b[39m.\u001b[39mshap_values)\u001b[39m.\u001b[39mmean(\u001b[39m0\u001b[39m)\n\u001b[0;32m    750\u001b[0m \u001b[39melse\u001b[39;00m:\n\u001b[1;32m--> 751\u001b[0m     \u001b[39mself\u001b[39m\u001b[39m.\u001b[39mshap_values \u001b[39m=\u001b[39m explainer\u001b[39m.\u001b[39;49mshap_values(\u001b[39mself\u001b[39;49m\u001b[39m.\u001b[39;49mX_boruta)\n\u001b[0;32m    752\u001b[0m     \u001b[39mself\u001b[39m\u001b[39m.\u001b[39mshap_values \u001b[39m=\u001b[39m np\u001b[39m.\u001b[39mabs(\u001b[39mself\u001b[39m\u001b[39m.\u001b[39mshap_values)\u001b[39m.\u001b[39mmean(\u001b[39m0\u001b[39m)\n",
      "File \u001b[1;32mc:\\Users\\krodriguez0109\\AppData\\Local\\anaconda3\\envs\\pytorch\\lib\\site-packages\\shap\\explainers\\_tree.py:412\u001b[0m, in \u001b[0;36mTree.shap_values\u001b[1;34m(self, X, y, tree_limit, approximate, check_additivity, from_call)\u001b[0m\n\u001b[0;32m    409\u001b[0m             out \u001b[39m=\u001b[39m phi[:, :\u001b[39m-\u001b[39m\u001b[39m1\u001b[39m]\n\u001b[0;32m    411\u001b[0m         \u001b[39mif\u001b[39;00m check_additivity \u001b[39mand\u001b[39;00m model_output_vals \u001b[39mis\u001b[39;00m \u001b[39mnot\u001b[39;00m \u001b[39mNone\u001b[39;00m:\n\u001b[1;32m--> 412\u001b[0m             \u001b[39mself\u001b[39;49m\u001b[39m.\u001b[39;49massert_additivity(out, model_output_vals)\n\u001b[0;32m    414\u001b[0m         \u001b[39mreturn\u001b[39;00m out\n\u001b[0;32m    416\u001b[0m X, y, X_missing, flat_output, tree_limit, check_additivity \u001b[39m=\u001b[39m \u001b[39mself\u001b[39m\u001b[39m.\u001b[39m_validate_inputs(\n\u001b[0;32m    417\u001b[0m     X, y, tree_limit, check_additivity\n\u001b[0;32m    418\u001b[0m )\n",
      "File \u001b[1;32mc:\\Users\\krodriguez0109\\AppData\\Local\\anaconda3\\envs\\pytorch\\lib\\site-packages\\shap\\explainers\\_tree.py:575\u001b[0m, in \u001b[0;36mTree.assert_additivity\u001b[1;34m(self, phi, model_output)\u001b[0m\n\u001b[0;32m    573\u001b[0m         check_sum(\u001b[39mself\u001b[39m\u001b[39m.\u001b[39mexpected_value[i] \u001b[39m+\u001b[39m phi[i]\u001b[39m.\u001b[39msum(\u001b[39m-\u001b[39m\u001b[39m1\u001b[39m), model_output[:,i])\n\u001b[0;32m    574\u001b[0m \u001b[39melse\u001b[39;00m:\n\u001b[1;32m--> 575\u001b[0m     check_sum(\u001b[39mself\u001b[39;49m\u001b[39m.\u001b[39;49mexpected_value \u001b[39m+\u001b[39;49m phi\u001b[39m.\u001b[39;49msum(\u001b[39m-\u001b[39;49m\u001b[39m1\u001b[39;49m), model_output)\n",
      "File \u001b[1;32mc:\\Users\\krodriguez0109\\AppData\\Local\\anaconda3\\envs\\pytorch\\lib\\site-packages\\shap\\explainers\\_tree.py:569\u001b[0m, in \u001b[0;36mTree.assert_additivity.<locals>.check_sum\u001b[1;34m(sum_val, model_output)\u001b[0m\n\u001b[0;32m    565\u001b[0m     err_msg \u001b[39m+\u001b[39m\u001b[39m=\u001b[39m \u001b[39m\"\u001b[39m\u001b[39m Consider retrying with the feature_perturbation=\u001b[39m\u001b[39m'\u001b[39m\u001b[39minterventional\u001b[39m\u001b[39m'\u001b[39m\u001b[39m option.\u001b[39m\u001b[39m\"\u001b[39m\n\u001b[0;32m    566\u001b[0m err_msg \u001b[39m+\u001b[39m\u001b[39m=\u001b[39m \u001b[39m\"\u001b[39m\u001b[39m This check failed because for one of the samples the sum of the SHAP values\u001b[39m\u001b[39m\"\u001b[39m \\\n\u001b[0;32m    567\u001b[0m            \u001b[39m\"\u001b[39m\u001b[39m was \u001b[39m\u001b[39m{:f}\u001b[39;00m\u001b[39m, while the model output was \u001b[39m\u001b[39m{:f}\u001b[39;00m\u001b[39m. If this difference is acceptable\u001b[39m\u001b[39m\"\u001b[39m \\\n\u001b[0;32m    568\u001b[0m            \u001b[39m\"\u001b[39m\u001b[39m you can set check_additivity=False to disable this check.\u001b[39m\u001b[39m\"\u001b[39m\u001b[39m.\u001b[39mformat(sum_val[ind], model_output[ind])\n\u001b[1;32m--> 569\u001b[0m \u001b[39mraise\u001b[39;00m ExplainerError(err_msg)\n",
      "\u001b[1;31mExplainerError\u001b[0m: Additivity check failed in TreeExplainer! Please ensure the data matrix you passed to the explainer is the same shape that the model was trained on. If your data shape is correct then please report this on GitHub. Consider retrying with the feature_perturbation='interventional' option. This check failed because for one of the samples the sum of the SHAP values was 4488.625977, while the model output was 4488.622070. If this difference is acceptable you can set check_additivity=False to disable this check."
     ]
    }
   ],
   "source": [
    "cleandf = dp.pipeline()"
   ]
  },
  {
   "cell_type": "code",
   "execution_count": null,
   "metadata": {},
   "outputs": [],
   "source": [
    "cleandf"
   ]
  },
  {
   "cell_type": "code",
   "execution_count": null,
   "metadata": {},
   "outputs": [],
   "source": []
  }
 ],
 "metadata": {
  "kernelspec": {
   "display_name": "Python 3",
   "language": "python",
   "name": "python3"
  },
  "language_info": {
   "codemirror_mode": {
    "name": "ipython",
    "version": 3
   },
   "file_extension": ".py",
   "mimetype": "text/x-python",
   "name": "python",
   "nbconvert_exporter": "python",
   "pygments_lexer": "ipython3",
   "version": "3.9.17"
  },
  "orig_nbformat": 4
 },
 "nbformat": 4,
 "nbformat_minor": 2
}
