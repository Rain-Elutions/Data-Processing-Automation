{
 "cells": [
  {
   "cell_type": "code",
   "execution_count": 1,
   "metadata": {},
   "outputs": [
    {
     "name": "stderr",
     "output_type": "stream",
     "text": [
      "c:\\Users\\krodriguez0109\\AppData\\Local\\anaconda3\\envs\\pytorch\\lib\\site-packages\\numpy\\_distributor_init.py:30: UserWarning: loaded more than 1 DLL from .libs:\n",
      "c:\\Users\\krodriguez0109\\AppData\\Local\\anaconda3\\envs\\pytorch\\lib\\site-packages\\numpy\\.libs\\libopenblas64__v0.3.21-gcc_10_3_0.dll\n",
      "c:\\Users\\krodriguez0109\\AppData\\Local\\anaconda3\\envs\\pytorch\\lib\\site-packages\\numpy\\.libs\\libopenblas64__v0.3.23-246-g3d31191b-gcc_10_3_0.dll\n",
      "  warnings.warn(\"loaded more than 1 DLL from .libs:\"\n"
     ]
    }
   ],
   "source": [
    "# import DPTool as dp \n",
    "# need to comment out until update package in order to get right config file \n",
    "from pipeline import DataProcessing as dp_dev"
   ]
  },
  {
   "cell_type": "code",
   "execution_count": 3,
   "metadata": {},
   "outputs": [
    {
     "ename": "NameError",
     "evalue": "name 'dp' is not defined",
     "output_type": "error",
     "traceback": [
      "\u001b[1;31m---------------------------------------------------------------------------\u001b[0m",
      "\u001b[1;31mNameError\u001b[0m                                 Traceback (most recent call last)",
      "Cell \u001b[1;32mIn[3], line 1\u001b[0m\n\u001b[1;32m----> 1\u001b[0m dp_class \u001b[39m=\u001b[39m dp\u001b[39m.\u001b[39mDataProcessing(\u001b[39m'\u001b[39m\u001b[39m./data/sasol_data_sample.csv\u001b[39m\u001b[39m'\u001b[39m,\u001b[39m'\u001b[39m\u001b[39mOXO-5FI696 Augusta\u001b[39m\u001b[39m'\u001b[39m,\u001b[39m'\u001b[39m\u001b[39mOXO-5FI696 Augusta\u001b[39m\u001b[39m'\u001b[39m,\u001b[39m'\u001b[39m\u001b[39mmax\u001b[39m\u001b[39m'\u001b[39m) \n\u001b[0;32m      2\u001b[0m final_df \u001b[39m=\u001b[39m dp_class\u001b[39m.\u001b[39mpipeline()\n",
      "\u001b[1;31mNameError\u001b[0m: name 'dp' is not defined"
     ]
    }
   ],
   "source": [
    "dp_class = dp.DataProcessing('./data/sasol_data_sample.csv','OXO-5FI696 Augusta','OXO-5FI696 Augusta','max') \n",
    "final_df = dp_class.pipeline()"
   ]
  },
  {
   "cell_type": "code",
   "execution_count": 2,
   "metadata": {},
   "outputs": [
    {
     "name": "stdout",
     "output_type": "stream",
     "text": [
      "Loading Data...\n",
      "Getting Size...\n",
      "Data size: (100, 59)\n",
      "Summarizing Type...\n",
      "Data types summary:\n",
      " float64    59\n",
      "Name: count, dtype: int64\n",
      "Summarizing Missing Data...\n",
      "Missing data summary:\n",
      "OXO-5FIC606A Augusta    100\n",
      "OXO-5FIC611B Augusta    100\n",
      "OXO-5LI654F Augusta     100\n",
      "dtype: int64\n"
     ]
    },
    {
     "data": {
      "application/vnd.plotly.v1+json": {
       "config": {
        "plotlyServerURL": "https://plot.ly"
       },
       "data": [
        {
         "type": "bar",
         "x": [
          "OXO-5FI635C Augusta",
          "OXO-5FI661A Augusta",
          "OXO-5FI696 Augusta",
          "OXO-5FIC132 Augusta",
          "OXO-5FIC600 Augusta",
          "OXO-5FIC601 Augusta",
          "OXO-5FIC602 Augusta",
          "OXO-5FIC603 Augusta",
          "OXO-5FIC606A Augusta",
          "OXO-5FIC606C Augusta",
          "OXO-5FIC607 Augusta",
          "OXO-5FIC609A Augusta",
          "OXO-5FIC609B Augusta",
          "OXO-5FIC611A Augusta",
          "OXO-5FIC611B Augusta",
          "OXO-5FIC612A Augusta",
          "OXO-5FIC612B Augusta",
          "OXO-5FIC618A Augusta",
          "OXO-5FIC618B Augusta",
          "OXO-5FIC618C Augusta",
          "OXO-5FIC618D Augusta",
          "OXO-5FIC622A Augusta",
          "OXO-5FIC622B Augusta",
          "OXO-5FIC622C Augusta",
          "OXO-5FIC636A Augusta",
          "OXO-5FIC636B Augusta",
          "OXO-5FIC636C Augusta",
          "OXO-5FQI691B Augusta",
          "OXO-5LI633B Augusta",
          "OXO-5LI650F Augusta",
          "OXO-5LI651E Augusta",
          "OXO-5LI651F Augusta",
          "OXO-5LI652E Augusta",
          "OXO-5LI652F Augusta",
          "OXO-5LI653E Augusta",
          "OXO-5LI653F Augusta",
          "OXO-5LI654E Augusta",
          "OXO-5LI654F Augusta",
          "OXO-5LI655F Augusta",
          "OXO-5LI656F Augusta"
         ],
         "y": [
          0,
          0,
          0,
          0,
          0,
          0,
          0,
          0,
          100,
          0,
          0,
          0,
          0,
          0,
          100,
          0,
          0,
          0,
          0,
          0,
          0,
          0,
          0,
          0,
          0,
          0,
          0,
          0,
          0,
          0,
          0,
          0,
          0,
          0,
          0,
          0,
          0,
          100,
          0,
          0
         ]
        }
       ],
       "layout": {
        "template": {
         "data": {
          "bar": [
           {
            "error_x": {
             "color": "#2a3f5f"
            },
            "error_y": {
             "color": "#2a3f5f"
            },
            "marker": {
             "line": {
              "color": "#E5ECF6",
              "width": 0.5
             },
             "pattern": {
              "fillmode": "overlay",
              "size": 10,
              "solidity": 0.2
             }
            },
            "type": "bar"
           }
          ],
          "barpolar": [
           {
            "marker": {
             "line": {
              "color": "#E5ECF6",
              "width": 0.5
             },
             "pattern": {
              "fillmode": "overlay",
              "size": 10,
              "solidity": 0.2
             }
            },
            "type": "barpolar"
           }
          ],
          "carpet": [
           {
            "aaxis": {
             "endlinecolor": "#2a3f5f",
             "gridcolor": "white",
             "linecolor": "white",
             "minorgridcolor": "white",
             "startlinecolor": "#2a3f5f"
            },
            "baxis": {
             "endlinecolor": "#2a3f5f",
             "gridcolor": "white",
             "linecolor": "white",
             "minorgridcolor": "white",
             "startlinecolor": "#2a3f5f"
            },
            "type": "carpet"
           }
          ],
          "choropleth": [
           {
            "colorbar": {
             "outlinewidth": 0,
             "ticks": ""
            },
            "type": "choropleth"
           }
          ],
          "contour": [
           {
            "colorbar": {
             "outlinewidth": 0,
             "ticks": ""
            },
            "colorscale": [
             [
              0,
              "#0d0887"
             ],
             [
              0.1111111111111111,
              "#46039f"
             ],
             [
              0.2222222222222222,
              "#7201a8"
             ],
             [
              0.3333333333333333,
              "#9c179e"
             ],
             [
              0.4444444444444444,
              "#bd3786"
             ],
             [
              0.5555555555555556,
              "#d8576b"
             ],
             [
              0.6666666666666666,
              "#ed7953"
             ],
             [
              0.7777777777777778,
              "#fb9f3a"
             ],
             [
              0.8888888888888888,
              "#fdca26"
             ],
             [
              1,
              "#f0f921"
             ]
            ],
            "type": "contour"
           }
          ],
          "contourcarpet": [
           {
            "colorbar": {
             "outlinewidth": 0,
             "ticks": ""
            },
            "type": "contourcarpet"
           }
          ],
          "heatmap": [
           {
            "colorbar": {
             "outlinewidth": 0,
             "ticks": ""
            },
            "colorscale": [
             [
              0,
              "#0d0887"
             ],
             [
              0.1111111111111111,
              "#46039f"
             ],
             [
              0.2222222222222222,
              "#7201a8"
             ],
             [
              0.3333333333333333,
              "#9c179e"
             ],
             [
              0.4444444444444444,
              "#bd3786"
             ],
             [
              0.5555555555555556,
              "#d8576b"
             ],
             [
              0.6666666666666666,
              "#ed7953"
             ],
             [
              0.7777777777777778,
              "#fb9f3a"
             ],
             [
              0.8888888888888888,
              "#fdca26"
             ],
             [
              1,
              "#f0f921"
             ]
            ],
            "type": "heatmap"
           }
          ],
          "heatmapgl": [
           {
            "colorbar": {
             "outlinewidth": 0,
             "ticks": ""
            },
            "colorscale": [
             [
              0,
              "#0d0887"
             ],
             [
              0.1111111111111111,
              "#46039f"
             ],
             [
              0.2222222222222222,
              "#7201a8"
             ],
             [
              0.3333333333333333,
              "#9c179e"
             ],
             [
              0.4444444444444444,
              "#bd3786"
             ],
             [
              0.5555555555555556,
              "#d8576b"
             ],
             [
              0.6666666666666666,
              "#ed7953"
             ],
             [
              0.7777777777777778,
              "#fb9f3a"
             ],
             [
              0.8888888888888888,
              "#fdca26"
             ],
             [
              1,
              "#f0f921"
             ]
            ],
            "type": "heatmapgl"
           }
          ],
          "histogram": [
           {
            "marker": {
             "pattern": {
              "fillmode": "overlay",
              "size": 10,
              "solidity": 0.2
             }
            },
            "type": "histogram"
           }
          ],
          "histogram2d": [
           {
            "colorbar": {
             "outlinewidth": 0,
             "ticks": ""
            },
            "colorscale": [
             [
              0,
              "#0d0887"
             ],
             [
              0.1111111111111111,
              "#46039f"
             ],
             [
              0.2222222222222222,
              "#7201a8"
             ],
             [
              0.3333333333333333,
              "#9c179e"
             ],
             [
              0.4444444444444444,
              "#bd3786"
             ],
             [
              0.5555555555555556,
              "#d8576b"
             ],
             [
              0.6666666666666666,
              "#ed7953"
             ],
             [
              0.7777777777777778,
              "#fb9f3a"
             ],
             [
              0.8888888888888888,
              "#fdca26"
             ],
             [
              1,
              "#f0f921"
             ]
            ],
            "type": "histogram2d"
           }
          ],
          "histogram2dcontour": [
           {
            "colorbar": {
             "outlinewidth": 0,
             "ticks": ""
            },
            "colorscale": [
             [
              0,
              "#0d0887"
             ],
             [
              0.1111111111111111,
              "#46039f"
             ],
             [
              0.2222222222222222,
              "#7201a8"
             ],
             [
              0.3333333333333333,
              "#9c179e"
             ],
             [
              0.4444444444444444,
              "#bd3786"
             ],
             [
              0.5555555555555556,
              "#d8576b"
             ],
             [
              0.6666666666666666,
              "#ed7953"
             ],
             [
              0.7777777777777778,
              "#fb9f3a"
             ],
             [
              0.8888888888888888,
              "#fdca26"
             ],
             [
              1,
              "#f0f921"
             ]
            ],
            "type": "histogram2dcontour"
           }
          ],
          "mesh3d": [
           {
            "colorbar": {
             "outlinewidth": 0,
             "ticks": ""
            },
            "type": "mesh3d"
           }
          ],
          "parcoords": [
           {
            "line": {
             "colorbar": {
              "outlinewidth": 0,
              "ticks": ""
             }
            },
            "type": "parcoords"
           }
          ],
          "pie": [
           {
            "automargin": true,
            "type": "pie"
           }
          ],
          "scatter": [
           {
            "fillpattern": {
             "fillmode": "overlay",
             "size": 10,
             "solidity": 0.2
            },
            "type": "scatter"
           }
          ],
          "scatter3d": [
           {
            "line": {
             "colorbar": {
              "outlinewidth": 0,
              "ticks": ""
             }
            },
            "marker": {
             "colorbar": {
              "outlinewidth": 0,
              "ticks": ""
             }
            },
            "type": "scatter3d"
           }
          ],
          "scattercarpet": [
           {
            "marker": {
             "colorbar": {
              "outlinewidth": 0,
              "ticks": ""
             }
            },
            "type": "scattercarpet"
           }
          ],
          "scattergeo": [
           {
            "marker": {
             "colorbar": {
              "outlinewidth": 0,
              "ticks": ""
             }
            },
            "type": "scattergeo"
           }
          ],
          "scattergl": [
           {
            "marker": {
             "colorbar": {
              "outlinewidth": 0,
              "ticks": ""
             }
            },
            "type": "scattergl"
           }
          ],
          "scattermapbox": [
           {
            "marker": {
             "colorbar": {
              "outlinewidth": 0,
              "ticks": ""
             }
            },
            "type": "scattermapbox"
           }
          ],
          "scatterpolar": [
           {
            "marker": {
             "colorbar": {
              "outlinewidth": 0,
              "ticks": ""
             }
            },
            "type": "scatterpolar"
           }
          ],
          "scatterpolargl": [
           {
            "marker": {
             "colorbar": {
              "outlinewidth": 0,
              "ticks": ""
             }
            },
            "type": "scatterpolargl"
           }
          ],
          "scatterternary": [
           {
            "marker": {
             "colorbar": {
              "outlinewidth": 0,
              "ticks": ""
             }
            },
            "type": "scatterternary"
           }
          ],
          "surface": [
           {
            "colorbar": {
             "outlinewidth": 0,
             "ticks": ""
            },
            "colorscale": [
             [
              0,
              "#0d0887"
             ],
             [
              0.1111111111111111,
              "#46039f"
             ],
             [
              0.2222222222222222,
              "#7201a8"
             ],
             [
              0.3333333333333333,
              "#9c179e"
             ],
             [
              0.4444444444444444,
              "#bd3786"
             ],
             [
              0.5555555555555556,
              "#d8576b"
             ],
             [
              0.6666666666666666,
              "#ed7953"
             ],
             [
              0.7777777777777778,
              "#fb9f3a"
             ],
             [
              0.8888888888888888,
              "#fdca26"
             ],
             [
              1,
              "#f0f921"
             ]
            ],
            "type": "surface"
           }
          ],
          "table": [
           {
            "cells": {
             "fill": {
              "color": "#EBF0F8"
             },
             "line": {
              "color": "white"
             }
            },
            "header": {
             "fill": {
              "color": "#C8D4E3"
             },
             "line": {
              "color": "white"
             }
            },
            "type": "table"
           }
          ]
         },
         "layout": {
          "annotationdefaults": {
           "arrowcolor": "#2a3f5f",
           "arrowhead": 0,
           "arrowwidth": 1
          },
          "autotypenumbers": "strict",
          "coloraxis": {
           "colorbar": {
            "outlinewidth": 0,
            "ticks": ""
           }
          },
          "colorscale": {
           "diverging": [
            [
             0,
             "#8e0152"
            ],
            [
             0.1,
             "#c51b7d"
            ],
            [
             0.2,
             "#de77ae"
            ],
            [
             0.3,
             "#f1b6da"
            ],
            [
             0.4,
             "#fde0ef"
            ],
            [
             0.5,
             "#f7f7f7"
            ],
            [
             0.6,
             "#e6f5d0"
            ],
            [
             0.7,
             "#b8e186"
            ],
            [
             0.8,
             "#7fbc41"
            ],
            [
             0.9,
             "#4d9221"
            ],
            [
             1,
             "#276419"
            ]
           ],
           "sequential": [
            [
             0,
             "#0d0887"
            ],
            [
             0.1111111111111111,
             "#46039f"
            ],
            [
             0.2222222222222222,
             "#7201a8"
            ],
            [
             0.3333333333333333,
             "#9c179e"
            ],
            [
             0.4444444444444444,
             "#bd3786"
            ],
            [
             0.5555555555555556,
             "#d8576b"
            ],
            [
             0.6666666666666666,
             "#ed7953"
            ],
            [
             0.7777777777777778,
             "#fb9f3a"
            ],
            [
             0.8888888888888888,
             "#fdca26"
            ],
            [
             1,
             "#f0f921"
            ]
           ],
           "sequentialminus": [
            [
             0,
             "#0d0887"
            ],
            [
             0.1111111111111111,
             "#46039f"
            ],
            [
             0.2222222222222222,
             "#7201a8"
            ],
            [
             0.3333333333333333,
             "#9c179e"
            ],
            [
             0.4444444444444444,
             "#bd3786"
            ],
            [
             0.5555555555555556,
             "#d8576b"
            ],
            [
             0.6666666666666666,
             "#ed7953"
            ],
            [
             0.7777777777777778,
             "#fb9f3a"
            ],
            [
             0.8888888888888888,
             "#fdca26"
            ],
            [
             1,
             "#f0f921"
            ]
           ]
          },
          "colorway": [
           "#636efa",
           "#EF553B",
           "#00cc96",
           "#ab63fa",
           "#FFA15A",
           "#19d3f3",
           "#FF6692",
           "#B6E880",
           "#FF97FF",
           "#FECB52"
          ],
          "font": {
           "color": "#2a3f5f"
          },
          "geo": {
           "bgcolor": "white",
           "lakecolor": "white",
           "landcolor": "#E5ECF6",
           "showlakes": true,
           "showland": true,
           "subunitcolor": "white"
          },
          "hoverlabel": {
           "align": "left"
          },
          "hovermode": "closest",
          "mapbox": {
           "style": "light"
          },
          "paper_bgcolor": "white",
          "plot_bgcolor": "#E5ECF6",
          "polar": {
           "angularaxis": {
            "gridcolor": "white",
            "linecolor": "white",
            "ticks": ""
           },
           "bgcolor": "#E5ECF6",
           "radialaxis": {
            "gridcolor": "white",
            "linecolor": "white",
            "ticks": ""
           }
          },
          "scene": {
           "xaxis": {
            "backgroundcolor": "#E5ECF6",
            "gridcolor": "white",
            "gridwidth": 2,
            "linecolor": "white",
            "showbackground": true,
            "ticks": "",
            "zerolinecolor": "white"
           },
           "yaxis": {
            "backgroundcolor": "#E5ECF6",
            "gridcolor": "white",
            "gridwidth": 2,
            "linecolor": "white",
            "showbackground": true,
            "ticks": "",
            "zerolinecolor": "white"
           },
           "zaxis": {
            "backgroundcolor": "#E5ECF6",
            "gridcolor": "white",
            "gridwidth": 2,
            "linecolor": "white",
            "showbackground": true,
            "ticks": "",
            "zerolinecolor": "white"
           }
          },
          "shapedefaults": {
           "line": {
            "color": "#2a3f5f"
           }
          },
          "ternary": {
           "aaxis": {
            "gridcolor": "white",
            "linecolor": "white",
            "ticks": ""
           },
           "baxis": {
            "gridcolor": "white",
            "linecolor": "white",
            "ticks": ""
           },
           "bgcolor": "#E5ECF6",
           "caxis": {
            "gridcolor": "white",
            "linecolor": "white",
            "ticks": ""
           }
          },
          "title": {
           "x": 0.05
          },
          "xaxis": {
           "automargin": true,
           "gridcolor": "white",
           "linecolor": "white",
           "ticks": "",
           "title": {
            "standoff": 15
           },
           "zerolinecolor": "white",
           "zerolinewidth": 2
          },
          "yaxis": {
           "automargin": true,
           "gridcolor": "white",
           "linecolor": "white",
           "ticks": "",
           "title": {
            "standoff": 15
           },
           "zerolinecolor": "white",
           "zerolinewidth": 2
          }
         }
        },
        "title": {
         "text": "Missing Data"
        },
        "xaxis": {
         "title": {
          "text": "Columns"
         }
        },
        "yaxis": {
         "rangemode": "tozero",
         "title": {
          "text": "Missing Count"
         }
        }
       }
      }
     },
     "metadata": {},
     "output_type": "display_data"
    },
    {
     "data": {
      "application/vnd.plotly.v1+json": {
       "config": {
        "plotlyServerURL": "https://plot.ly"
       },
       "data": [
        {
         "type": "bar",
         "x": [
          "OXO-5LI657E Augusta",
          "OXO-5LI657F Augusta",
          "OXO-5LI658E Augusta",
          "OXO-5LI658F Augusta",
          "OXO-5PIC605A Augusta",
          "OXO-5RIC606_Y Augusta",
          "OXO-5TIC002 Augusta",
          "OXO-5TIC601 Augusta",
          "OXO-5TIC602 Augusta",
          "OXO-5TIC603 Augusta",
          "OXO-5TIC604 Augusta",
          "OXO-5TIC605 Augusta",
          "OXO-5TIC606 Augusta",
          "OXO-5TIC607 Augusta",
          "OXO-5TIC659 Augusta",
          "OXO-_5FI658A Augusta",
          "OXO-_5FI659A Augusta",
          "OXO-_5FI660A Augusta",
          "OXO-_5FI662A Augusta"
         ],
         "y": [
          0,
          0,
          0,
          0,
          0,
          0,
          0,
          0,
          0,
          0,
          0,
          0,
          0,
          0,
          0,
          0,
          0,
          0,
          0
         ]
        }
       ],
       "layout": {
        "template": {
         "data": {
          "bar": [
           {
            "error_x": {
             "color": "#2a3f5f"
            },
            "error_y": {
             "color": "#2a3f5f"
            },
            "marker": {
             "line": {
              "color": "#E5ECF6",
              "width": 0.5
             },
             "pattern": {
              "fillmode": "overlay",
              "size": 10,
              "solidity": 0.2
             }
            },
            "type": "bar"
           }
          ],
          "barpolar": [
           {
            "marker": {
             "line": {
              "color": "#E5ECF6",
              "width": 0.5
             },
             "pattern": {
              "fillmode": "overlay",
              "size": 10,
              "solidity": 0.2
             }
            },
            "type": "barpolar"
           }
          ],
          "carpet": [
           {
            "aaxis": {
             "endlinecolor": "#2a3f5f",
             "gridcolor": "white",
             "linecolor": "white",
             "minorgridcolor": "white",
             "startlinecolor": "#2a3f5f"
            },
            "baxis": {
             "endlinecolor": "#2a3f5f",
             "gridcolor": "white",
             "linecolor": "white",
             "minorgridcolor": "white",
             "startlinecolor": "#2a3f5f"
            },
            "type": "carpet"
           }
          ],
          "choropleth": [
           {
            "colorbar": {
             "outlinewidth": 0,
             "ticks": ""
            },
            "type": "choropleth"
           }
          ],
          "contour": [
           {
            "colorbar": {
             "outlinewidth": 0,
             "ticks": ""
            },
            "colorscale": [
             [
              0,
              "#0d0887"
             ],
             [
              0.1111111111111111,
              "#46039f"
             ],
             [
              0.2222222222222222,
              "#7201a8"
             ],
             [
              0.3333333333333333,
              "#9c179e"
             ],
             [
              0.4444444444444444,
              "#bd3786"
             ],
             [
              0.5555555555555556,
              "#d8576b"
             ],
             [
              0.6666666666666666,
              "#ed7953"
             ],
             [
              0.7777777777777778,
              "#fb9f3a"
             ],
             [
              0.8888888888888888,
              "#fdca26"
             ],
             [
              1,
              "#f0f921"
             ]
            ],
            "type": "contour"
           }
          ],
          "contourcarpet": [
           {
            "colorbar": {
             "outlinewidth": 0,
             "ticks": ""
            },
            "type": "contourcarpet"
           }
          ],
          "heatmap": [
           {
            "colorbar": {
             "outlinewidth": 0,
             "ticks": ""
            },
            "colorscale": [
             [
              0,
              "#0d0887"
             ],
             [
              0.1111111111111111,
              "#46039f"
             ],
             [
              0.2222222222222222,
              "#7201a8"
             ],
             [
              0.3333333333333333,
              "#9c179e"
             ],
             [
              0.4444444444444444,
              "#bd3786"
             ],
             [
              0.5555555555555556,
              "#d8576b"
             ],
             [
              0.6666666666666666,
              "#ed7953"
             ],
             [
              0.7777777777777778,
              "#fb9f3a"
             ],
             [
              0.8888888888888888,
              "#fdca26"
             ],
             [
              1,
              "#f0f921"
             ]
            ],
            "type": "heatmap"
           }
          ],
          "heatmapgl": [
           {
            "colorbar": {
             "outlinewidth": 0,
             "ticks": ""
            },
            "colorscale": [
             [
              0,
              "#0d0887"
             ],
             [
              0.1111111111111111,
              "#46039f"
             ],
             [
              0.2222222222222222,
              "#7201a8"
             ],
             [
              0.3333333333333333,
              "#9c179e"
             ],
             [
              0.4444444444444444,
              "#bd3786"
             ],
             [
              0.5555555555555556,
              "#d8576b"
             ],
             [
              0.6666666666666666,
              "#ed7953"
             ],
             [
              0.7777777777777778,
              "#fb9f3a"
             ],
             [
              0.8888888888888888,
              "#fdca26"
             ],
             [
              1,
              "#f0f921"
             ]
            ],
            "type": "heatmapgl"
           }
          ],
          "histogram": [
           {
            "marker": {
             "pattern": {
              "fillmode": "overlay",
              "size": 10,
              "solidity": 0.2
             }
            },
            "type": "histogram"
           }
          ],
          "histogram2d": [
           {
            "colorbar": {
             "outlinewidth": 0,
             "ticks": ""
            },
            "colorscale": [
             [
              0,
              "#0d0887"
             ],
             [
              0.1111111111111111,
              "#46039f"
             ],
             [
              0.2222222222222222,
              "#7201a8"
             ],
             [
              0.3333333333333333,
              "#9c179e"
             ],
             [
              0.4444444444444444,
              "#bd3786"
             ],
             [
              0.5555555555555556,
              "#d8576b"
             ],
             [
              0.6666666666666666,
              "#ed7953"
             ],
             [
              0.7777777777777778,
              "#fb9f3a"
             ],
             [
              0.8888888888888888,
              "#fdca26"
             ],
             [
              1,
              "#f0f921"
             ]
            ],
            "type": "histogram2d"
           }
          ],
          "histogram2dcontour": [
           {
            "colorbar": {
             "outlinewidth": 0,
             "ticks": ""
            },
            "colorscale": [
             [
              0,
              "#0d0887"
             ],
             [
              0.1111111111111111,
              "#46039f"
             ],
             [
              0.2222222222222222,
              "#7201a8"
             ],
             [
              0.3333333333333333,
              "#9c179e"
             ],
             [
              0.4444444444444444,
              "#bd3786"
             ],
             [
              0.5555555555555556,
              "#d8576b"
             ],
             [
              0.6666666666666666,
              "#ed7953"
             ],
             [
              0.7777777777777778,
              "#fb9f3a"
             ],
             [
              0.8888888888888888,
              "#fdca26"
             ],
             [
              1,
              "#f0f921"
             ]
            ],
            "type": "histogram2dcontour"
           }
          ],
          "mesh3d": [
           {
            "colorbar": {
             "outlinewidth": 0,
             "ticks": ""
            },
            "type": "mesh3d"
           }
          ],
          "parcoords": [
           {
            "line": {
             "colorbar": {
              "outlinewidth": 0,
              "ticks": ""
             }
            },
            "type": "parcoords"
           }
          ],
          "pie": [
           {
            "automargin": true,
            "type": "pie"
           }
          ],
          "scatter": [
           {
            "fillpattern": {
             "fillmode": "overlay",
             "size": 10,
             "solidity": 0.2
            },
            "type": "scatter"
           }
          ],
          "scatter3d": [
           {
            "line": {
             "colorbar": {
              "outlinewidth": 0,
              "ticks": ""
             }
            },
            "marker": {
             "colorbar": {
              "outlinewidth": 0,
              "ticks": ""
             }
            },
            "type": "scatter3d"
           }
          ],
          "scattercarpet": [
           {
            "marker": {
             "colorbar": {
              "outlinewidth": 0,
              "ticks": ""
             }
            },
            "type": "scattercarpet"
           }
          ],
          "scattergeo": [
           {
            "marker": {
             "colorbar": {
              "outlinewidth": 0,
              "ticks": ""
             }
            },
            "type": "scattergeo"
           }
          ],
          "scattergl": [
           {
            "marker": {
             "colorbar": {
              "outlinewidth": 0,
              "ticks": ""
             }
            },
            "type": "scattergl"
           }
          ],
          "scattermapbox": [
           {
            "marker": {
             "colorbar": {
              "outlinewidth": 0,
              "ticks": ""
             }
            },
            "type": "scattermapbox"
           }
          ],
          "scatterpolar": [
           {
            "marker": {
             "colorbar": {
              "outlinewidth": 0,
              "ticks": ""
             }
            },
            "type": "scatterpolar"
           }
          ],
          "scatterpolargl": [
           {
            "marker": {
             "colorbar": {
              "outlinewidth": 0,
              "ticks": ""
             }
            },
            "type": "scatterpolargl"
           }
          ],
          "scatterternary": [
           {
            "marker": {
             "colorbar": {
              "outlinewidth": 0,
              "ticks": ""
             }
            },
            "type": "scatterternary"
           }
          ],
          "surface": [
           {
            "colorbar": {
             "outlinewidth": 0,
             "ticks": ""
            },
            "colorscale": [
             [
              0,
              "#0d0887"
             ],
             [
              0.1111111111111111,
              "#46039f"
             ],
             [
              0.2222222222222222,
              "#7201a8"
             ],
             [
              0.3333333333333333,
              "#9c179e"
             ],
             [
              0.4444444444444444,
              "#bd3786"
             ],
             [
              0.5555555555555556,
              "#d8576b"
             ],
             [
              0.6666666666666666,
              "#ed7953"
             ],
             [
              0.7777777777777778,
              "#fb9f3a"
             ],
             [
              0.8888888888888888,
              "#fdca26"
             ],
             [
              1,
              "#f0f921"
             ]
            ],
            "type": "surface"
           }
          ],
          "table": [
           {
            "cells": {
             "fill": {
              "color": "#EBF0F8"
             },
             "line": {
              "color": "white"
             }
            },
            "header": {
             "fill": {
              "color": "#C8D4E3"
             },
             "line": {
              "color": "white"
             }
            },
            "type": "table"
           }
          ]
         },
         "layout": {
          "annotationdefaults": {
           "arrowcolor": "#2a3f5f",
           "arrowhead": 0,
           "arrowwidth": 1
          },
          "autotypenumbers": "strict",
          "coloraxis": {
           "colorbar": {
            "outlinewidth": 0,
            "ticks": ""
           }
          },
          "colorscale": {
           "diverging": [
            [
             0,
             "#8e0152"
            ],
            [
             0.1,
             "#c51b7d"
            ],
            [
             0.2,
             "#de77ae"
            ],
            [
             0.3,
             "#f1b6da"
            ],
            [
             0.4,
             "#fde0ef"
            ],
            [
             0.5,
             "#f7f7f7"
            ],
            [
             0.6,
             "#e6f5d0"
            ],
            [
             0.7,
             "#b8e186"
            ],
            [
             0.8,
             "#7fbc41"
            ],
            [
             0.9,
             "#4d9221"
            ],
            [
             1,
             "#276419"
            ]
           ],
           "sequential": [
            [
             0,
             "#0d0887"
            ],
            [
             0.1111111111111111,
             "#46039f"
            ],
            [
             0.2222222222222222,
             "#7201a8"
            ],
            [
             0.3333333333333333,
             "#9c179e"
            ],
            [
             0.4444444444444444,
             "#bd3786"
            ],
            [
             0.5555555555555556,
             "#d8576b"
            ],
            [
             0.6666666666666666,
             "#ed7953"
            ],
            [
             0.7777777777777778,
             "#fb9f3a"
            ],
            [
             0.8888888888888888,
             "#fdca26"
            ],
            [
             1,
             "#f0f921"
            ]
           ],
           "sequentialminus": [
            [
             0,
             "#0d0887"
            ],
            [
             0.1111111111111111,
             "#46039f"
            ],
            [
             0.2222222222222222,
             "#7201a8"
            ],
            [
             0.3333333333333333,
             "#9c179e"
            ],
            [
             0.4444444444444444,
             "#bd3786"
            ],
            [
             0.5555555555555556,
             "#d8576b"
            ],
            [
             0.6666666666666666,
             "#ed7953"
            ],
            [
             0.7777777777777778,
             "#fb9f3a"
            ],
            [
             0.8888888888888888,
             "#fdca26"
            ],
            [
             1,
             "#f0f921"
            ]
           ]
          },
          "colorway": [
           "#636efa",
           "#EF553B",
           "#00cc96",
           "#ab63fa",
           "#FFA15A",
           "#19d3f3",
           "#FF6692",
           "#B6E880",
           "#FF97FF",
           "#FECB52"
          ],
          "font": {
           "color": "#2a3f5f"
          },
          "geo": {
           "bgcolor": "white",
           "lakecolor": "white",
           "landcolor": "#E5ECF6",
           "showlakes": true,
           "showland": true,
           "subunitcolor": "white"
          },
          "hoverlabel": {
           "align": "left"
          },
          "hovermode": "closest",
          "mapbox": {
           "style": "light"
          },
          "paper_bgcolor": "white",
          "plot_bgcolor": "#E5ECF6",
          "polar": {
           "angularaxis": {
            "gridcolor": "white",
            "linecolor": "white",
            "ticks": ""
           },
           "bgcolor": "#E5ECF6",
           "radialaxis": {
            "gridcolor": "white",
            "linecolor": "white",
            "ticks": ""
           }
          },
          "scene": {
           "xaxis": {
            "backgroundcolor": "#E5ECF6",
            "gridcolor": "white",
            "gridwidth": 2,
            "linecolor": "white",
            "showbackground": true,
            "ticks": "",
            "zerolinecolor": "white"
           },
           "yaxis": {
            "backgroundcolor": "#E5ECF6",
            "gridcolor": "white",
            "gridwidth": 2,
            "linecolor": "white",
            "showbackground": true,
            "ticks": "",
            "zerolinecolor": "white"
           },
           "zaxis": {
            "backgroundcolor": "#E5ECF6",
            "gridcolor": "white",
            "gridwidth": 2,
            "linecolor": "white",
            "showbackground": true,
            "ticks": "",
            "zerolinecolor": "white"
           }
          },
          "shapedefaults": {
           "line": {
            "color": "#2a3f5f"
           }
          },
          "ternary": {
           "aaxis": {
            "gridcolor": "white",
            "linecolor": "white",
            "ticks": ""
           },
           "baxis": {
            "gridcolor": "white",
            "linecolor": "white",
            "ticks": ""
           },
           "bgcolor": "#E5ECF6",
           "caxis": {
            "gridcolor": "white",
            "linecolor": "white",
            "ticks": ""
           }
          },
          "title": {
           "x": 0.05
          },
          "xaxis": {
           "automargin": true,
           "gridcolor": "white",
           "linecolor": "white",
           "ticks": "",
           "title": {
            "standoff": 15
           },
           "zerolinecolor": "white",
           "zerolinewidth": 2
          },
          "yaxis": {
           "automargin": true,
           "gridcolor": "white",
           "linecolor": "white",
           "ticks": "",
           "title": {
            "standoff": 15
           },
           "zerolinecolor": "white",
           "zerolinewidth": 2
          }
         }
        },
        "title": {
         "text": "Missing Data"
        },
        "xaxis": {
         "title": {
          "text": "Columns"
         }
        },
        "yaxis": {
         "rangemode": "tozero",
         "title": {
          "text": "Missing Count"
         }
        }
       }
      }
     },
     "metadata": {},
     "output_type": "display_data"
    },
    {
     "name": "stdout",
     "output_type": "stream",
     "text": [
      "Removing Duplicates...\n",
      "Handling Missing Data...\n",
      "# rows dropped with missing values in the target variable: 0\n",
      "Dropped columns: ['OXO-5FIC606A Augusta', 'OXO-5FIC611B Augusta', 'OXO-5LI654F Augusta']\n",
      "Filled missing values using mean\n",
      "Missing data summary:\n",
      "Series([], dtype: int64)\n",
      "Generating Anomaly Report...\n",
      "./Data_Cleansing/OXO-5FI696 Augusta_anomaly_report already exists, trying again...\n",
      "[WinError 183] Cannot create a file when that file already exists: './Data_Cleansing/OXO-5FI696 Augusta_anomaly_report\\\\xlsx'\n",
      "Selected Features are OXO-5FI696 Augusta, OXO-5FI635C Augusta, OXO-5FIC602 Augusta, OXO-5FIC612B Augusta, OXO-5FIC622C Augusta, OXO-5FIC636C Augusta, OXO-5TIC602 Augusta, OXO-5TIC603 Augusta\n",
      "Finding bounds...\n",
      "Found Bounds!\n",
      "Index(['OXO-5FI696 Augusta'], dtype='object')\n",
      "OXO-5FI696 Augusta\n",
      "Done\n",
      "Detecting Outliers...\n",
      "2 outliers detected in OXO-5FI696 Augusta\n",
      "3 outliers detected in OXO-5FIC612A Augusta\n",
      "3 outliers detected in OXO-5FIC618A Augusta\n",
      "3 outliers detected in OXO-5FIC618D Augusta\n",
      "4 outliers detected in OXO-5FIC622A Augusta\n",
      "2 outliers detected in OXO-5FIC636C Augusta\n",
      "3 outliers detected in OXO-5LI650F Augusta\n",
      "2 outliers detected in OXO-5LI651F Augusta\n",
      "1 outliers detected in OXO-5LI654E Augusta\n",
      "2 outliers detected in OXO-5LI657F Augusta\n",
      "3 outliers detected in OXO-5LI658E Augusta\n",
      "4 outliers detected in OXO-5PIC605A Augusta\n",
      "1 outliers detected in OXO-5TIC002 Augusta\n",
      "1 outliers detected in OXO-5TIC603 Augusta\n",
      "4 outliers detected in OXO-5TIC659 Augusta\n",
      "Encoding Features...\n",
      "Warning: No categorical columns found. Calling 'transform' will only return input data.\n",
      "Scaling Features...\n",
      "Analyzing Data...\n"
     ]
    },
    {
     "data": {
      "application/vnd.plotly.v1+json": {
       "config": {
        "plotlyServerURL": "https://plot.ly"
       },
       "data": [
        {
         "colorscale": [
          [
           0,
           "rgb(165,0,38)"
          ],
          [
           0.1,
           "rgb(215,48,39)"
          ],
          [
           0.2,
           "rgb(244,109,67)"
          ],
          [
           0.3,
           "rgb(253,174,97)"
          ],
          [
           0.4,
           "rgb(254,224,144)"
          ],
          [
           0.5,
           "rgb(255,255,191)"
          ],
          [
           0.6,
           "rgb(224,243,248)"
          ],
          [
           0.7,
           "rgb(171,217,233)"
          ],
          [
           0.8,
           "rgb(116,173,209)"
          ],
          [
           0.9,
           "rgb(69,117,180)"
          ],
          [
           1,
           "rgb(49,54,149)"
          ]
         ],
         "type": "heatmap",
         "x": [
          "OXO-5FI635C Augusta",
          "OXO-5FI661A Augusta",
          "OXO-5FIC132 Augusta",
          "OXO-5FIC600 Augusta",
          "OXO-5FIC601 Augusta",
          "OXO-5FIC602 Augusta",
          "OXO-5FIC606C Augusta",
          "OXO-5FIC609B Augusta",
          "OXO-5FIC611A Augusta",
          "OXO-5FIC612A Augusta"
         ],
         "y": [
          "OXO-5FI635C Augusta",
          "OXO-5FI661A Augusta",
          "OXO-5FIC132 Augusta",
          "OXO-5FIC600 Augusta",
          "OXO-5FIC601 Augusta",
          "OXO-5FIC602 Augusta",
          "OXO-5FIC606C Augusta",
          "OXO-5FIC609B Augusta",
          "OXO-5FIC611A Augusta",
          "OXO-5FIC612A Augusta"
         ],
         "z": [
          [
           1,
           0.44148268126874146,
           -0.09770901267319473,
           0.2141529712484141,
           0.36219224384967047,
           0.37844473853707344,
           0.2223397284918256,
           -0.16629694457819771,
           0.20776166925186862,
           0.2610269931787016
          ],
          [
           0.44148268126874146,
           1,
           0.3377968274916519,
           0.7728143782837107,
           0.8695608095260807,
           0.3733993486273083,
           -0.3342560256286857,
           -0.04881544435776595,
           -0.3538493301109753,
           0.071220518020492
          ],
          [
           -0.09770901267319473,
           0.3377968274916519,
           1,
           0.475178844790589,
           0.3031578420992616,
           0.3880491529105055,
           -0.23431489597354,
           -0.1737777268123149,
           -0.19933347529866288,
           0.03507532106263009
          ],
          [
           0.2141529712484141,
           0.7728143782837107,
           0.475178844790589,
           1,
           0.8320152356845512,
           0.33166679790928977,
           -0.369576446593003,
           0.05915725335530944,
           -0.42944339883305627,
           0.10939777547838833
          ],
          [
           0.36219224384967047,
           0.8695608095260807,
           0.3031578420992616,
           0.8320152356845512,
           1,
           0.22001674601348287,
           -0.3674998039082611,
           0.17789694955112118,
           -0.38504360964750073,
           0.08635403182919121
          ],
          [
           0.37844473853707344,
           0.3733993486273083,
           0.3880491529105055,
           0.33166679790928977,
           0.22001674601348287,
           1,
           0.011927661087774127,
           -0.4411791896523455,
           0.018998282415632537,
           0.222614101184881
          ],
          [
           0.2223397284918256,
           -0.3342560256286857,
           -0.23431489597354,
           -0.369576446593003,
           -0.3674998039082611,
           0.011927661087774127,
           1,
           -0.37954906816421746,
           0.9095208049645289,
           0.589326177223421
          ],
          [
           -0.16629694457819771,
           -0.04881544435776595,
           -0.1737777268123149,
           0.05915725335530944,
           0.17789694955112118,
           -0.4411791896523455,
           -0.37954906816421746,
           1,
           -0.42559271376241536,
           -0.32241750156782173
          ],
          [
           0.20776166925186862,
           -0.3538493301109753,
           -0.19933347529866288,
           -0.42944339883305627,
           -0.38504360964750073,
           0.018998282415632537,
           0.9095208049645289,
           -0.42559271376241536,
           1,
           0.6138008018886163
          ],
          [
           0.2610269931787016,
           0.071220518020492,
           0.03507532106263009,
           0.10939777547838833,
           0.08635403182919121,
           0.222614101184881,
           0.589326177223421,
           -0.32241750156782173,
           0.6138008018886163,
           1
          ],
          [
           0.7141788101241772,
           0.6721871573452638,
           0.2917159692863449,
           0.4742061998578364,
           0.5057743245362543,
           0.7505336946629779,
           -0.049282214670872036,
           -0.3190774908948716,
           -0.038831999020950976,
           0.2592331397823919
          ],
          [
           0.22696053257931054,
           0.49670298095361776,
           0.6594879025447216,
           0.4145912403364144,
           0.29846227692138066,
           0.5019548155365289,
           -0.2109082452438454,
           -0.2466429669015896,
           -0.19099868002791268,
           -0.03645579083243864
          ],
          [
           0.5085307667345366,
           0.49387761984494155,
           0.16653919670845047,
           0.12525617023904723,
           0.31619435879709773,
           0.4460042178792572,
           -0.2873259722576265,
           -0.1589016791521184,
           -0.19417897635916712,
           -0.11076086625750385
          ],
          [
           0.5331160469571721,
           0.4809248422494115,
           0.14975693126021442,
           0.3608683281937452,
           0.2978411152288306,
           0.451799376563198,
           -0.0008630233868546707,
           -0.42938564712803245,
           -0.057962641386005403,
           0.09348321798030931
          ],
          [
           -0.06249272531676414,
           0.04704019815098092,
           -0.108673680010742,
           -0.01198407019062637,
           0.06010771811113026,
           -0.06809047773414674,
           -0.15162105754355337,
           0.22838331076000312,
           -0.1015355450722091,
           -0.04413569630811719
          ],
          [
           0.004756151808536041,
           -0.22436276012381162,
           -0.14968240027872456,
           -0.2516243566797175,
           -0.22896103024458764,
           -0.1138742221132756,
           0.4251364372515281,
           -0.054634947528038866,
           0.4022329235299324,
           0.1569982209116968
          ],
          [
           0.5362196490735321,
           0.8542106840431816,
           0.07084771232218927,
           0.6189572829972605,
           0.7993349077770641,
           0.2899285472730778,
           -0.1936552768684027,
           0.06302395219247997,
           -0.2029437079264945,
           0.18379684451421816
          ],
          [
           0.724773330279287,
           0.2504205839349984,
           -0.3140575941250432,
           0.07892403460889727,
           0.17351597437975466,
           0.2872658142117286,
           0.2905203617229622,
           -0.1469144937457651,
           0.3136518998348494,
           0.36877097092815403
          ],
          [
           -0.3029505006721656,
           -0.34798927367632165,
           0.0984828382100453,
           -0.2840637629998551,
           -0.34715718210328156,
           -0.16340621103955166,
           0.4426852025363023,
           0.07841374861502495,
           0.43272001532759435,
           0.2784126067340321
          ],
          [
           -0.1842697759877862,
           -0.21507088248760842,
           0.0181394668168378,
           -0.12496567794392884,
           -0.17177745139456785,
           -0.2912009083442452,
           0.49283260691879816,
           0.03667975399578977,
           0.4680869367358577,
           0.31482903611841695
          ],
          [
           0.7904877093372972,
           0.34459812554112546,
           -0.17125717040099192,
           0.07891017623787817,
           0.28799894829200073,
           0.5145328624077454,
           0.12723313649413884,
           -0.10547549322274778,
           0.14009149389876296,
           0.23271523357691798
          ],
          [
           -0.21990187587401772,
           -0.8561809182109045,
           -0.4274883767767553,
           -0.8166429131050975,
           -0.861972772687394,
           -0.24193294068790847,
           0.2792157314195261,
           -0.022774110148222143,
           0.30964456260215373,
           -0.19389028441831752
          ],
          [
           0.3784862499667787,
           0.8163440508252388,
           0.18584152196627932,
           0.7644015290955344,
           0.9445000435031778,
           0.21037487101200558,
           -0.38708795836433596,
           0.2829131376823182,
           -0.4250953840714139,
           0.08178398821070511
          ],
          [
           0.05993373576419579,
           0.2856945637821404,
           -0.15990906371748673,
           0.24404103243503156,
           0.2875226051299215,
           0.11610299348306868,
           -0.25370989603342187,
           0.01031639461222565,
           -0.21793919852922927,
           0.07391333559715398
          ],
          [
           0.22595624495735495,
           0.8652257157940241,
           0.3838245371984057,
           0.8384489479694476,
           0.8746024222999181,
           0.28283029989069963,
           -0.34965774972990865,
           0.07302538044109101,
           -0.4074804766573007,
           0.1613251729943031
          ],
          [
           0.21923501484207678,
           -0.0625764679817167,
           -0.11716065823992712,
           -0.1901425426410864,
           -0.10155364618724137,
           -0.013563142716622642,
           0.7179261175731556,
           -0.5119355338563708,
           0.7840962486262913,
           0.5027000143596843
          ],
          [
           -0.0861791040546601,
           -0.1757564602502869,
           0.01403013846957516,
           -0.0865391408682981,
           -0.17016777903783573,
           -0.07810020442547362,
           -0.29326241818254806,
           0.017416663596463686,
           -0.3589985199713233,
           -0.3672500016908493
          ],
          [
           -0.15355205586391532,
           -0.7981405790548788,
           -0.5422781624528514,
           -0.8336246353959803,
           -0.797046147669325,
           -0.27772528475995156,
           0.16758988988762977,
           0.04206383313717121,
           0.23131223264919204,
           -0.244622609171663
          ],
          [
           -0.1444293575859857,
           -0.8109642427267694,
           -0.5483175962128477,
           -0.8510542390686193,
           -0.8136172519259826,
           -0.2773983956856006,
           0.23119266129301622,
           0.005389163098228308,
           0.29677256742166586,
           -0.2006878347178005
          ],
          [
           -0.32854013476192423,
           -0.671157283688223,
           0.2243080673608527,
           -0.49832926981710357,
           -0.6849471203879413,
           -0.08061623074378153,
           0.28532139061379125,
           -0.13496413647111247,
           0.3184552374604944,
           -0.12447646552382612
          ],
          [
           0.2027841296808701,
           0.6055614495279301,
           0.24618201780429197,
           0.4446030457589894,
           0.5887570915306988,
           0.21591340558491273,
           -0.4098650310654068,
           0.3181550662047572,
           -0.38603659361886405,
           -0.03474830267171808
          ],
          [
           -0.20593648774849568,
           -0.8804319058113987,
           -0.4505541580379569,
           -0.8618745264058182,
           -0.8802925096085156,
           -0.286843844379195,
           0.4098064884007884,
           -0.09930740862316399,
           0.45976935594755947,
           -0.08681916738097666
          ],
          [
           0.4080518386135875,
           0.709050928467422,
           0.2748377921277199,
           0.6098345951055224,
           0.6839512997359707,
           0.4604405260399301,
           -0.21691200962000767,
           0.029682726389599026,
           -0.2552900371295651,
           0.2691004194306116
          ],
          [
           0.06253562780446396,
           -0.46896410642187003,
           -0.30327709299238786,
           -0.49527551445079093,
           -0.5091349142760333,
           0.036222548697807846,
           0.629431441861633,
           -0.3622074557068241,
           0.7660735293876093,
           0.3678336784717247
          ],
          [
           -0.10700354157014054,
           0.17725663723817914,
           -0.2292967219554713,
           0.23395636163850622,
           0.22951416183297527,
           -0.08199011273566646,
           -0.6438118042197536,
           0.29623138482937794,
           -0.6786285039693393,
           -0.3274175722846504
          ],
          [
           0.041549689912649,
           -0.7115050839404059,
           -0.32566664200355966,
           -0.7608642817583336,
           -0.7596330356510002,
           -0.08043305979520901,
           0.7643988477783449,
           -0.3386154896136843,
           0.8316320980438845,
           0.29457096349637574
          ],
          [
           0.2615749736004296,
           0.1444976875055357,
           -0.12601457040751976,
           0.12176284625611611,
           0.07211833969979972,
           -0.04525414905362803,
           0.07880659083102054,
           0.07105565610244795,
           0.11444536972880805,
           0.0031282790787302292
          ],
          [
           0.19455819854978165,
           -0.13869442063368848,
           -0.557931876318981,
           -0.37493953583219297,
           -0.08529378741871389,
           -0.16524841853711486,
           -0.10675299516821925,
           0.04798737085579026,
           0.026584341231426136,
           -0.09539317454131807
          ],
          [
           -0.12058120235759674,
           0.08855116253215622,
           0.06872703279933416,
           0.06777089960507612,
           0.04091281893215646,
           0.10895696355964822,
           -0.10812769736564032,
           -0.07885374370839823,
           -0.11939729095988856,
           -0.06364491369997288
          ],
          [
           0.4428277467712498,
           0.8422464915922594,
           0.2573974864273593,
           0.7662142582151665,
           0.9662064049231983,
           0.22425438699260197,
           -0.3426455604783873,
           0.1988125772338099,
           -0.32431964780510436,
           0.08238396227379906
          ],
          [
           -0.7047156520568494,
           -0.659799759433628,
           -0.11147973300939736,
           -0.47316996957495255,
           -0.7239056980208913,
           -0.3703806729403863,
           0.06083391274602966,
           0.06971621439919284,
           0.02692975189206671,
           -0.3021216476963269
          ],
          [
           -0.6068939498853371,
           -0.5390808245921321,
           -0.2817812601496829,
           -0.22137890620153988,
           -0.4024989915843931,
           -0.39213559687119626,
           -0.033630810305738855,
           0.30372275286710987,
           -0.14021742999684328,
           -0.29166602947612386
          ],
          [
           -0.492848447201682,
           -0.4595332985862035,
           0.059208481869964885,
           -0.34553266016313505,
           -0.5783683772244733,
           -0.2383347349883263,
           0.30275931804904904,
           -0.05297183859159931,
           0.20722130823992024,
           -0.053289805826971466
          ],
          [
           -0.5410639737455893,
           -0.48085710969140943,
           -0.018515882576149088,
           -0.28457088290790983,
           -0.5151869666057843,
           -0.2864968035096563,
           0.26970251761819397,
           0.04183329488651617,
           0.14385117784743573,
           -0.06966154282153576
          ],
          [
           -0.41897348251232197,
           0.0030201337732640855,
           0.27570297962060986,
           0.21809451558141418,
           0.013856378209465562,
           -0.12152242076964573,
           0.09498232716343426,
           0.08736210429937655,
           -0.016151381751153486,
           0.056056232246585534
          ],
          [
           -0.27050568648020445,
           0.05011264648117391,
           0.015061900820710697,
           0.24433997187199644,
           0.16759691199648302,
           -0.3052866473832044,
           0.0781922969799146,
           0.2682075138862213,
           -0.047760995115588685,
           0.01546615751480314
          ],
          [
           -0.15329952467980448,
           -0.12977816103526418,
           0.09346255972123817,
           -0.10275092955507108,
           -0.025667532491849703,
           0.05892340896634807,
           -0.03676965317000195,
           -0.0885743428431259,
           -0.031099849003037857,
           -0.02411764231135038
          ],
          [
           0.46467536676890075,
           0.9879909278310783,
           0.32566989860203727,
           0.7619805595049274,
           0.8616881876276641,
           0.40741138574721797,
           -0.37777775704307404,
           -0.04292259296830909,
           -0.390932948074892,
           0.04161781417686144
          ],
          [
           0.43842416406585466,
           0.9919547085947871,
           0.331185784754141,
           0.7612635687630868,
           0.8724513738356284,
           0.3596645686756418,
           -0.3458867217140834,
           -0.06529650316827794,
           -0.35342411398898027,
           0.06048302569419017
          ],
          [
           0.45396069730720756,
           0.9700313014062063,
           0.3337378818488289,
           0.7589704150341509,
           0.8465445563159479,
           0.4133712056903401,
           -0.32862735664040116,
           0.020474885616144172,
           -0.36084173312420326,
           0.08695195468495008
          ],
          [
           0.43460732151579656,
           0.985202273732135,
           0.3746903773136289,
           0.7569010311184583,
           0.8740395555401127,
           0.38560954156969085,
           -0.32399546013597563,
           -0.013629760762813827,
           -0.31696075306658866,
           0.08388040159796746
          ],
          [
           0.7003829225865953,
           0.23117734751667832,
           0.09872945086168379,
           0.07822666480630922,
           0.14064725259257463,
           0.6185941355239297,
           0.3146178640444764,
           -0.2905825220902715,
           0.31259139688585336,
           0.30692128335784724
          ]
         ]
        }
       ],
       "layout": {
        "scene": {
         "aspectmode": "data"
        },
        "template": {
         "data": {
          "bar": [
           {
            "error_x": {
             "color": "#2a3f5f"
            },
            "error_y": {
             "color": "#2a3f5f"
            },
            "marker": {
             "line": {
              "color": "#E5ECF6",
              "width": 0.5
             },
             "pattern": {
              "fillmode": "overlay",
              "size": 10,
              "solidity": 0.2
             }
            },
            "type": "bar"
           }
          ],
          "barpolar": [
           {
            "marker": {
             "line": {
              "color": "#E5ECF6",
              "width": 0.5
             },
             "pattern": {
              "fillmode": "overlay",
              "size": 10,
              "solidity": 0.2
             }
            },
            "type": "barpolar"
           }
          ],
          "carpet": [
           {
            "aaxis": {
             "endlinecolor": "#2a3f5f",
             "gridcolor": "white",
             "linecolor": "white",
             "minorgridcolor": "white",
             "startlinecolor": "#2a3f5f"
            },
            "baxis": {
             "endlinecolor": "#2a3f5f",
             "gridcolor": "white",
             "linecolor": "white",
             "minorgridcolor": "white",
             "startlinecolor": "#2a3f5f"
            },
            "type": "carpet"
           }
          ],
          "choropleth": [
           {
            "colorbar": {
             "outlinewidth": 0,
             "ticks": ""
            },
            "type": "choropleth"
           }
          ],
          "contour": [
           {
            "colorbar": {
             "outlinewidth": 0,
             "ticks": ""
            },
            "colorscale": [
             [
              0,
              "#0d0887"
             ],
             [
              0.1111111111111111,
              "#46039f"
             ],
             [
              0.2222222222222222,
              "#7201a8"
             ],
             [
              0.3333333333333333,
              "#9c179e"
             ],
             [
              0.4444444444444444,
              "#bd3786"
             ],
             [
              0.5555555555555556,
              "#d8576b"
             ],
             [
              0.6666666666666666,
              "#ed7953"
             ],
             [
              0.7777777777777778,
              "#fb9f3a"
             ],
             [
              0.8888888888888888,
              "#fdca26"
             ],
             [
              1,
              "#f0f921"
             ]
            ],
            "type": "contour"
           }
          ],
          "contourcarpet": [
           {
            "colorbar": {
             "outlinewidth": 0,
             "ticks": ""
            },
            "type": "contourcarpet"
           }
          ],
          "heatmap": [
           {
            "colorbar": {
             "outlinewidth": 0,
             "ticks": ""
            },
            "colorscale": [
             [
              0,
              "#0d0887"
             ],
             [
              0.1111111111111111,
              "#46039f"
             ],
             [
              0.2222222222222222,
              "#7201a8"
             ],
             [
              0.3333333333333333,
              "#9c179e"
             ],
             [
              0.4444444444444444,
              "#bd3786"
             ],
             [
              0.5555555555555556,
              "#d8576b"
             ],
             [
              0.6666666666666666,
              "#ed7953"
             ],
             [
              0.7777777777777778,
              "#fb9f3a"
             ],
             [
              0.8888888888888888,
              "#fdca26"
             ],
             [
              1,
              "#f0f921"
             ]
            ],
            "type": "heatmap"
           }
          ],
          "heatmapgl": [
           {
            "colorbar": {
             "outlinewidth": 0,
             "ticks": ""
            },
            "colorscale": [
             [
              0,
              "#0d0887"
             ],
             [
              0.1111111111111111,
              "#46039f"
             ],
             [
              0.2222222222222222,
              "#7201a8"
             ],
             [
              0.3333333333333333,
              "#9c179e"
             ],
             [
              0.4444444444444444,
              "#bd3786"
             ],
             [
              0.5555555555555556,
              "#d8576b"
             ],
             [
              0.6666666666666666,
              "#ed7953"
             ],
             [
              0.7777777777777778,
              "#fb9f3a"
             ],
             [
              0.8888888888888888,
              "#fdca26"
             ],
             [
              1,
              "#f0f921"
             ]
            ],
            "type": "heatmapgl"
           }
          ],
          "histogram": [
           {
            "marker": {
             "pattern": {
              "fillmode": "overlay",
              "size": 10,
              "solidity": 0.2
             }
            },
            "type": "histogram"
           }
          ],
          "histogram2d": [
           {
            "colorbar": {
             "outlinewidth": 0,
             "ticks": ""
            },
            "colorscale": [
             [
              0,
              "#0d0887"
             ],
             [
              0.1111111111111111,
              "#46039f"
             ],
             [
              0.2222222222222222,
              "#7201a8"
             ],
             [
              0.3333333333333333,
              "#9c179e"
             ],
             [
              0.4444444444444444,
              "#bd3786"
             ],
             [
              0.5555555555555556,
              "#d8576b"
             ],
             [
              0.6666666666666666,
              "#ed7953"
             ],
             [
              0.7777777777777778,
              "#fb9f3a"
             ],
             [
              0.8888888888888888,
              "#fdca26"
             ],
             [
              1,
              "#f0f921"
             ]
            ],
            "type": "histogram2d"
           }
          ],
          "histogram2dcontour": [
           {
            "colorbar": {
             "outlinewidth": 0,
             "ticks": ""
            },
            "colorscale": [
             [
              0,
              "#0d0887"
             ],
             [
              0.1111111111111111,
              "#46039f"
             ],
             [
              0.2222222222222222,
              "#7201a8"
             ],
             [
              0.3333333333333333,
              "#9c179e"
             ],
             [
              0.4444444444444444,
              "#bd3786"
             ],
             [
              0.5555555555555556,
              "#d8576b"
             ],
             [
              0.6666666666666666,
              "#ed7953"
             ],
             [
              0.7777777777777778,
              "#fb9f3a"
             ],
             [
              0.8888888888888888,
              "#fdca26"
             ],
             [
              1,
              "#f0f921"
             ]
            ],
            "type": "histogram2dcontour"
           }
          ],
          "mesh3d": [
           {
            "colorbar": {
             "outlinewidth": 0,
             "ticks": ""
            },
            "type": "mesh3d"
           }
          ],
          "parcoords": [
           {
            "line": {
             "colorbar": {
              "outlinewidth": 0,
              "ticks": ""
             }
            },
            "type": "parcoords"
           }
          ],
          "pie": [
           {
            "automargin": true,
            "type": "pie"
           }
          ],
          "scatter": [
           {
            "fillpattern": {
             "fillmode": "overlay",
             "size": 10,
             "solidity": 0.2
            },
            "type": "scatter"
           }
          ],
          "scatter3d": [
           {
            "line": {
             "colorbar": {
              "outlinewidth": 0,
              "ticks": ""
             }
            },
            "marker": {
             "colorbar": {
              "outlinewidth": 0,
              "ticks": ""
             }
            },
            "type": "scatter3d"
           }
          ],
          "scattercarpet": [
           {
            "marker": {
             "colorbar": {
              "outlinewidth": 0,
              "ticks": ""
             }
            },
            "type": "scattercarpet"
           }
          ],
          "scattergeo": [
           {
            "marker": {
             "colorbar": {
              "outlinewidth": 0,
              "ticks": ""
             }
            },
            "type": "scattergeo"
           }
          ],
          "scattergl": [
           {
            "marker": {
             "colorbar": {
              "outlinewidth": 0,
              "ticks": ""
             }
            },
            "type": "scattergl"
           }
          ],
          "scattermapbox": [
           {
            "marker": {
             "colorbar": {
              "outlinewidth": 0,
              "ticks": ""
             }
            },
            "type": "scattermapbox"
           }
          ],
          "scatterpolar": [
           {
            "marker": {
             "colorbar": {
              "outlinewidth": 0,
              "ticks": ""
             }
            },
            "type": "scatterpolar"
           }
          ],
          "scatterpolargl": [
           {
            "marker": {
             "colorbar": {
              "outlinewidth": 0,
              "ticks": ""
             }
            },
            "type": "scatterpolargl"
           }
          ],
          "scatterternary": [
           {
            "marker": {
             "colorbar": {
              "outlinewidth": 0,
              "ticks": ""
             }
            },
            "type": "scatterternary"
           }
          ],
          "surface": [
           {
            "colorbar": {
             "outlinewidth": 0,
             "ticks": ""
            },
            "colorscale": [
             [
              0,
              "#0d0887"
             ],
             [
              0.1111111111111111,
              "#46039f"
             ],
             [
              0.2222222222222222,
              "#7201a8"
             ],
             [
              0.3333333333333333,
              "#9c179e"
             ],
             [
              0.4444444444444444,
              "#bd3786"
             ],
             [
              0.5555555555555556,
              "#d8576b"
             ],
             [
              0.6666666666666666,
              "#ed7953"
             ],
             [
              0.7777777777777778,
              "#fb9f3a"
             ],
             [
              0.8888888888888888,
              "#fdca26"
             ],
             [
              1,
              "#f0f921"
             ]
            ],
            "type": "surface"
           }
          ],
          "table": [
           {
            "cells": {
             "fill": {
              "color": "#EBF0F8"
             },
             "line": {
              "color": "white"
             }
            },
            "header": {
             "fill": {
              "color": "#C8D4E3"
             },
             "line": {
              "color": "white"
             }
            },
            "type": "table"
           }
          ]
         },
         "layout": {
          "annotationdefaults": {
           "arrowcolor": "#2a3f5f",
           "arrowhead": 0,
           "arrowwidth": 1
          },
          "autotypenumbers": "strict",
          "coloraxis": {
           "colorbar": {
            "outlinewidth": 0,
            "ticks": ""
           }
          },
          "colorscale": {
           "diverging": [
            [
             0,
             "#8e0152"
            ],
            [
             0.1,
             "#c51b7d"
            ],
            [
             0.2,
             "#de77ae"
            ],
            [
             0.3,
             "#f1b6da"
            ],
            [
             0.4,
             "#fde0ef"
            ],
            [
             0.5,
             "#f7f7f7"
            ],
            [
             0.6,
             "#e6f5d0"
            ],
            [
             0.7,
             "#b8e186"
            ],
            [
             0.8,
             "#7fbc41"
            ],
            [
             0.9,
             "#4d9221"
            ],
            [
             1,
             "#276419"
            ]
           ],
           "sequential": [
            [
             0,
             "#0d0887"
            ],
            [
             0.1111111111111111,
             "#46039f"
            ],
            [
             0.2222222222222222,
             "#7201a8"
            ],
            [
             0.3333333333333333,
             "#9c179e"
            ],
            [
             0.4444444444444444,
             "#bd3786"
            ],
            [
             0.5555555555555556,
             "#d8576b"
            ],
            [
             0.6666666666666666,
             "#ed7953"
            ],
            [
             0.7777777777777778,
             "#fb9f3a"
            ],
            [
             0.8888888888888888,
             "#fdca26"
            ],
            [
             1,
             "#f0f921"
            ]
           ],
           "sequentialminus": [
            [
             0,
             "#0d0887"
            ],
            [
             0.1111111111111111,
             "#46039f"
            ],
            [
             0.2222222222222222,
             "#7201a8"
            ],
            [
             0.3333333333333333,
             "#9c179e"
            ],
            [
             0.4444444444444444,
             "#bd3786"
            ],
            [
             0.5555555555555556,
             "#d8576b"
            ],
            [
             0.6666666666666666,
             "#ed7953"
            ],
            [
             0.7777777777777778,
             "#fb9f3a"
            ],
            [
             0.8888888888888888,
             "#fdca26"
            ],
            [
             1,
             "#f0f921"
            ]
           ]
          },
          "colorway": [
           "#636efa",
           "#EF553B",
           "#00cc96",
           "#ab63fa",
           "#FFA15A",
           "#19d3f3",
           "#FF6692",
           "#B6E880",
           "#FF97FF",
           "#FECB52"
          ],
          "font": {
           "color": "#2a3f5f"
          },
          "geo": {
           "bgcolor": "white",
           "lakecolor": "white",
           "landcolor": "#E5ECF6",
           "showlakes": true,
           "showland": true,
           "subunitcolor": "white"
          },
          "hoverlabel": {
           "align": "left"
          },
          "hovermode": "closest",
          "mapbox": {
           "style": "light"
          },
          "paper_bgcolor": "white",
          "plot_bgcolor": "#E5ECF6",
          "polar": {
           "angularaxis": {
            "gridcolor": "white",
            "linecolor": "white",
            "ticks": ""
           },
           "bgcolor": "#E5ECF6",
           "radialaxis": {
            "gridcolor": "white",
            "linecolor": "white",
            "ticks": ""
           }
          },
          "scene": {
           "xaxis": {
            "backgroundcolor": "#E5ECF6",
            "gridcolor": "white",
            "gridwidth": 2,
            "linecolor": "white",
            "showbackground": true,
            "ticks": "",
            "zerolinecolor": "white"
           },
           "yaxis": {
            "backgroundcolor": "#E5ECF6",
            "gridcolor": "white",
            "gridwidth": 2,
            "linecolor": "white",
            "showbackground": true,
            "ticks": "",
            "zerolinecolor": "white"
           },
           "zaxis": {
            "backgroundcolor": "#E5ECF6",
            "gridcolor": "white",
            "gridwidth": 2,
            "linecolor": "white",
            "showbackground": true,
            "ticks": "",
            "zerolinecolor": "white"
           }
          },
          "shapedefaults": {
           "line": {
            "color": "#2a3f5f"
           }
          },
          "ternary": {
           "aaxis": {
            "gridcolor": "white",
            "linecolor": "white",
            "ticks": ""
           },
           "baxis": {
            "gridcolor": "white",
            "linecolor": "white",
            "ticks": ""
           },
           "bgcolor": "#E5ECF6",
           "caxis": {
            "gridcolor": "white",
            "linecolor": "white",
            "ticks": ""
           }
          },
          "title": {
           "x": 0.05
          },
          "xaxis": {
           "automargin": true,
           "gridcolor": "white",
           "linecolor": "white",
           "ticks": "",
           "title": {
            "standoff": 15
           },
           "zerolinecolor": "white",
           "zerolinewidth": 2
          },
          "yaxis": {
           "automargin": true,
           "gridcolor": "white",
           "linecolor": "white",
           "ticks": "",
           "title": {
            "standoff": 15
           },
           "zerolinecolor": "white",
           "zerolinewidth": 2
          }
         }
        },
        "title": {
         "text": "Correlation",
         "x": 0.5
        }
       }
      }
     },
     "metadata": {},
     "output_type": "display_data"
    },
    {
     "data": {
      "application/vnd.plotly.v1+json": {
       "config": {
        "plotlyServerURL": "https://plot.ly"
       },
       "data": [
        {
         "colorscale": [
          [
           0,
           "rgb(165,0,38)"
          ],
          [
           0.1,
           "rgb(215,48,39)"
          ],
          [
           0.2,
           "rgb(244,109,67)"
          ],
          [
           0.3,
           "rgb(253,174,97)"
          ],
          [
           0.4,
           "rgb(254,224,144)"
          ],
          [
           0.5,
           "rgb(255,255,191)"
          ],
          [
           0.6,
           "rgb(224,243,248)"
          ],
          [
           0.7,
           "rgb(171,217,233)"
          ],
          [
           0.8,
           "rgb(116,173,209)"
          ],
          [
           0.9,
           "rgb(69,117,180)"
          ],
          [
           1,
           "rgb(49,54,149)"
          ]
         ],
         "type": "heatmap",
         "x": [
          "OXO-5FI635C Augusta",
          "OXO-5FI661A Augusta",
          "OXO-5FIC132 Augusta",
          "OXO-5FIC600 Augusta",
          "OXO-5FIC601 Augusta",
          "OXO-5FIC602 Augusta",
          "OXO-5FIC606C Augusta",
          "OXO-5FIC609B Augusta",
          "OXO-5FIC611A Augusta",
          "OXO-5FIC612A Augusta"
         ],
         "y": [
          "OXO-5FI635C Augusta",
          "OXO-5FI661A Augusta",
          "OXO-5FIC132 Augusta",
          "OXO-5FIC600 Augusta",
          "OXO-5FIC601 Augusta",
          "OXO-5FIC602 Augusta",
          "OXO-5FIC606C Augusta",
          "OXO-5FIC609B Augusta",
          "OXO-5FIC611A Augusta",
          "OXO-5FIC612A Augusta"
         ],
         "z": [
          [
           1,
           0.5705370537053706,
           0.04405693437982299,
           0.29176117611761176,
           0.2754035403540354,
           0.29827556847485737,
           0.16443074917249983,
           -0.3195079507950795,
           0.1498109810981098,
           0.24597387380316985
          ],
          [
           0.5705370537053706,
           1,
           0.31203494793663794,
           0.7392739273927392,
           0.7617161716171618,
           0.2995238093907532,
           -0.3560045742029273,
           -0.15375937593759376,
           -0.3887548754875488,
           -0.2106993748731077
          ],
          [
           0.04405693437982299,
           0.31203494793663794,
           1,
           0.31938577122937606,
           0.2477557486616905,
           0.19216839515154374,
           -0.08248941562575718,
           -0.2927307858690963,
           -0.07262013346017678,
           -0.0717920903901008
          ],
          [
           0.29176117611761176,
           0.7392739273927392,
           0.31938577122937606,
           1,
           0.847056705670567,
           0.23361908949475327,
           -0.36309790068182857,
           -0.006468646864686469,
           -0.42821482148214823,
           -0.18454266876102784
          ],
          [
           0.2754035403540354,
           0.7617161716171618,
           0.2477557486616905,
           0.847056705670567,
           1,
           0.0869747865099915,
           -0.44740766692724643,
           0.12638463846384637,
           -0.5035943594359436,
           -0.25786770347512816
          ],
          [
           0.29827556847485737,
           0.2995238093907532,
           0.19216839515154374,
           0.23361908949475327,
           0.0869747865099915,
           1,
           0.06380986676384277,
           -0.434795917492714,
           0.05982554658925725,
           0.1361478100664724
          ],
          [
           0.16443074917249983,
           -0.3560045742029273,
           -0.08248941562575718,
           -0.36309790068182857,
           -0.44740766692724643,
           0.06380986676384277,
           1,
           -0.3558245405359501,
           0.9322083264856552,
           0.8007285127924625
          ],
          [
           -0.3195079507950795,
           -0.15375937593759376,
           -0.2927307858690963,
           -0.006468646864686469,
           0.12638463846384637,
           -0.434795917492714,
           -0.3558245405359501,
           1,
           -0.3473387338733873,
           -0.36318701851721835
          ],
          [
           0.1498109810981098,
           -0.3887548754875488,
           -0.07262013346017678,
           -0.42821482148214823,
           -0.5035943594359436,
           0.05982554658925725,
           0.9322083264856552,
           -0.3473387338733873,
           1,
           0.8250600211256697
          ],
          [
           0.24597387380316985,
           -0.2106993748731077,
           -0.0717920903901008,
           -0.18454266876102784,
           -0.25786770347512816,
           0.1361478100664724,
           0.8007285127924625,
           -0.36318701851721835,
           0.8250600211256697,
           1
          ],
          [
           0.7007860786078608,
           0.7361416141614161,
           0.18165834574780462,
           0.5308250825082508,
           0.48895289528952895,
           0.5714002827260637,
           -0.06029927619289337,
           -0.3167956795679568,
           -0.07486348634863486,
           0.11945462742546453
          ],
          [
           0.276987698769877,
           0.5482388238823882,
           0.4700326436899394,
           0.5165076507650765,
           0.41507350735073506,
           0.4824691186267354,
           -0.27594960362040366,
           -0.2588658865886589,
           -0.30706270627062704,
           -0.2602974950322187
          ],
          [
           0.46655865586558654,
           0.4852565256525653,
           -0.15480533820902664,
           0.08704470447044704,
           0.27509150915091507,
           0.33029174773593545,
           -0.3434562276146172,
           0.014041404140414042,
           -0.22682268226822683,
           -0.20491039648833945
          ],
          [
           0.5131953195319532,
           0.5382898289828983,
           0.15233306131383637,
           0.4167656765676568,
           0.2715271527152715,
           0.45531987870600116,
           0.058582955234377496,
           -0.44487248724872486,
           0.004896489648964896,
           0.030542479872628307
          ],
          [
           -0.24092409240924093,
           -0.08021602160216022,
           -0.20360880420073196,
           -0.0469006900690069,
           -0.004008400840084008,
           -0.08510242513614776,
           -0.2137839784131801,
           0.3272847284728473,
           -0.1318811881188119,
           -0.10188115998880708
          ],
          [
           0.15714059903806935,
           -0.3219037823916497,
           -0.21017869385167098,
           -0.4355292865903168,
           -0.4225479448715499,
           0.15471439810596313,
           0.7046944998901896,
           -0.220025369074657,
           0.7340505279978522,
           0.6701398596822709
          ],
          [
           0.6184218421842185,
           0.8005160516051605,
           0.09676083722073628,
           0.634047404740474,
           0.712067206720672,
           0.2726026134834999,
           -0.1652589040405949,
           -0.02067806780678068,
           -0.1693249324932493,
           0.05384418090512676
          ],
          [
           0.5882148214821482,
           0.1975037503750375,
           -0.4018290048774812,
           0.0650945094509451,
           0.029390939093909392,
           0.14756848135518463,
           0.2781580166019905,
           -0.17143714371437144,
           0.29236123612361237,
           0.43907548332404917
          ],
          [
           -0.20217379770350202,
           -0.34971903680839084,
           0.10338638955217952,
           -0.28157773122602375,
           -0.21945278672279908,
           -0.2436010528675547,
           0.4381675889177852,
           0.12566975022112697,
           0.45150383354532236,
           0.4962120164629145
          ],
          [
           -0.11053535070227422,
           -0.25195308751776824,
           0.13245013277549492,
           -0.1435761156905342,
           -0.11730538211555422,
           -0.29428217597813733,
           0.5357606467010166,
           0.016708613209976513,
           0.4745484577206735,
           0.5018404295744182
          ],
          [
           0.4872007200720072,
           0.35273927392739274,
           -0.2569247755933671,
           0.038067806780678067,
           0.1409180918091809,
           0.29241843802334616,
           -0.1046355672471426,
           0.0258985898589859,
           -0.06721872187218722,
           -0.0010022890172998549
          ],
          [
           -0.4192663886026799,
           -0.8226882320010307,
           -0.37073595287262473,
           -0.8144362428224492,
           -0.861800482763149,
           -0.12705857239431903,
           0.28009591658793465,
           0.0569108960431937,
           0.32810731753019745,
           0.03989388937278602
          ],
          [
           0.45585059330294975,
           0.786598091123048,
           -0.016346694489603086,
           0.7309712013568976,
           0.8018251628572806,
           0.13438674357560992,
           -0.38416178549855023,
           0.15384939584446122,
           -0.4223539058121874,
           -0.14755686784086425
          ],
          [
           0.142210190665815,
           0.3561450495095705,
           -0.3537001593504831,
           0.2679324545614571,
           0.36228246522154467,
           0.07020777816845855,
           -0.34920706265083207,
           -0.060062120506730675,
           -0.3329220014592739,
           -0.07854031893528379
          ],
          [
           0.3984350388107906,
           0.8126757056013343,
           0.3260684978904647,
           0.8354300492988376,
           0.8625228398563869,
           0.14749690999183798,
           -0.3112371361541226,
           -0.012847323274355076,
           -0.37488861352888064,
           -0.07207087105731327
          ],
          [
           0.2655745574557456,
           -0.14181818181818182,
           -0.023018578082402753,
           -0.20646864686468647,
           -0.25252925292529255,
           0.013712646600105608,
           0.8716269975478309,
           -0.39715571557155716,
           0.8781518151815182,
           0.7674010674759107
          ],
          [
           -0.14737473747374738,
           -0.1127032703270327,
           -0.06892371946154276,
           -0.059201920192019204,
           -0.06965496549654966,
           -0.03358848272244686,
           -0.2789981737145507,
           0.031203120312031204,
           -0.37663366336633664,
           -0.356912081821032
          ],
          [
           -0.3993999399939994,
           -0.7938673867386739,
           -0.4655561423214638,
           -0.8413081308130813,
           -0.8384518451845184,
           -0.18469764744483602,
           0.2331676032243908,
           -0.00906090609060906,
           0.2915211521152115,
           0.04122748824493403
          ],
          [
           -0.3734053405340534,
           -0.8053645364536454,
           -0.39653641210670976,
           -0.850909090909091,
           -0.8618541854185419,
           -0.18061685983517659,
           0.32254831775633286,
           0.013681368136813681,
           0.37053705370537054,
           0.09597676650507703
          ],
          [
           -0.26652345191674687,
           -0.2760044284573732,
           0.4959570350791227,
           -0.1829348422895791,
           -0.26240102730699355,
           0.028709627203228616,
           0.24670687517683088,
           -0.2773305650494482,
           0.27092790557549357,
           0.10179642270457717
          ],
          [
           0.36403240324032404,
           0.5808460846084609,
           -0.025970908743649403,
           0.3628202820282028,
           0.5660966096609661,
           0.08993335752699459,
           -0.3653723260079737,
           0.21903390339033904,
           -0.3180678067806781,
           -0.15519686123026663
          ],
          [
           -0.3948634863486349,
           -0.8412841284128413,
           -0.3479789736701083,
           -0.858985898589859,
           -0.8637263726372637,
           -0.15826254535579215,
           0.38389779033992655,
           -0.009756975697569756,
           0.43837983798379837,
           0.1590541553271479
          ],
          [
           0.5006570696583965,
           0.6675227574243037,
           0.18121538341850563,
           0.5640837928922011,
           0.5952991017154984,
           0.354769600493391,
           -0.22292802584044374,
           -0.04770505673687289,
           -0.24079952475395877,
           0.016027608734017075
          ],
          [
           -0.04483648364836484,
           -0.4922412241224122,
           -0.1760057126524909,
           -0.4611701170117012,
           -0.6675427542754275,
           0.06795711601732862,
           0.6911492475254308,
           -0.22905490549054905,
           0.7872907290729073,
           0.5396384813931346
          ],
          [
           -0.22235623807211846,
           0.09495520472954264,
           -0.25582525728805294,
           0.12977131303596368,
           0.18615996690625639,
           -0.23641988526086127,
           -0.7143684472325854,
           0.300911507606651,
           -0.7406553974569002,
           -0.6833182827549138
          ],
          [
           -0.10241824182418242,
           -0.7138673867386739,
           -0.20269070137314915,
           -0.7664806480648065,
           -0.8238103810381038,
           -0.02877555380634853,
           0.7828944042170067,
           -0.24831683168316832,
           0.8365076507650765,
           0.5869222250941168
          ],
          [
           0.043504350435043505,
           0.017413741374137415,
           0.15427127839428895,
           -0.06856285628562857,
           -0.12963696369636965,
           -0.002994577966500087,
           0.033036177890314294,
           -0.06287428742874288,
           0.10825082508250825,
           -0.001512545244288872
          ],
          [
           0.18227422742274227,
           0.00888088808880888,
           -0.5165858576532555,
           -0.1993879387938794,
           -0.11158715871587159,
           0.027455298991458713,
           -0.10644190503914706,
           0.028406840684068405,
           -0.015973597359735973,
           -0.08190219891062997
          ],
          [
           -0.08936120420443522,
           0.05238539569599244,
           0.0621731499147585,
           0.0521153678831265,
           0.014173459866430028,
           0.02944777188257584,
           -0.028571428672266887,
           -0.04535267132535062,
           -0.05765993897397381,
           -0.04455036186390793
          ],
          [
           0.38094209420942093,
           0.6168736873687368,
           -0.03762421391466769,
           0.5675727572757275,
           0.671071107110711,
           0.0840162154929884,
           -0.38365174432839105,
           0.24694869486948695,
           -0.36036003600360034,
           -0.21620892722881052
          ],
          [
           -0.6493009300930093,
           -0.6743114311431143,
           -0.07769070136414714,
           -0.5388538853885388,
           -0.5328172817281728,
           -0.33361038824790845,
           0.11475345933126065,
           0.028022802280228024,
           0.1031983198319832,
           -0.06202650397362921
          ],
          [
           -0.588994899489949,
           -0.6063246324632463,
           -0.17276534973161045,
           -0.28924092409240926,
           -0.32081608160816083,
           -0.31537886948592997,
           0.033000171156918855,
           0.3172637263726373,
           -0.050777077707770776,
           -0.12811683432649237
          ],
          [
           -0.46027002700270025,
           -0.5717251725172517,
           0.05673635447578676,
           -0.492973297329733,
           -0.48902490249024905,
           -0.2693679891870198,
           0.2821307595199538,
           -0.0924092409240924,
           0.2308790879087909,
           0.08890607307394349
          ],
          [
           -0.48415241524152414,
           -0.45275727572757274,
           0.020018242044550466,
           -0.2549054905490549,
           -0.28026402640264025,
           -0.20241306659735758,
           0.21167158338731437,
           0.05098109810981098,
           0.10265826582658266,
           0.0926358031140775
          ],
          [
           -0.33282928292829284,
           -0.06048604860486049,
           0.26117325142296594,
           0.17939393939393938,
           0.22945094509450945,
           -0.20966846692100208,
           0.08104515575089818,
           0.017785778577857785,
           -0.011725172517251725,
           0.05425724546983215
          ],
          [
           -0.2834083408340834,
           -0.03242724272427243,
           0.061986942542028266,
           0.2584578457845785,
           0.24081608160816081,
           -0.3080514552632915,
           0.03952339102372569,
           0.24825682568256827,
           -0.06137413741374138,
           -0.03582120203040754
          ],
          [
           -0.13342934293429343,
           -0.03561956195619562,
           -0.08094906630125473,
           -0.08525652565256525,
           0.01374137413741374,
           0.029681728702022906,
           -0.1392680436513213,
           0.10018601860186019,
           -0.1541194119411941,
           -0.09578238318050977
          ],
          [
           0.5748214821482148,
           0.985958595859586,
           0.2845818731902895,
           0.7241884188418842,
           0.7415901590159016,
           0.33009971067195143,
           -0.3859201685323036,
           -0.1328052805280528,
           -0.41116111611161116,
           -0.2390125209921054
          ],
          [
           0.5589438943894389,
           0.9867386738673868,
           0.32377826318879177,
           0.7244644464446445,
           0.7583678367836784,
           0.29101416699296334,
           -0.3722736165754327,
           -0.15343534353435342,
           -0.38664266426642663,
           -0.2250412195388347
          ],
          [
           0.5503630363036304,
           0.9578877887788779,
           0.2661838126061793,
           0.7202400240024003,
           0.7415301530153016,
           0.33295626199871303,
           -0.3495773722918416,
           -0.062346234623462345,
           -0.38976297629762974,
           -0.2043029485990668
          ],
          [
           0.5399099909990999,
           0.9745574557455745,
           0.31190893382304813,
           0.7118031803180318,
           0.762016201620162,
           0.2848869844202247,
           -0.37072532703942884,
           -0.08228022802280228,
           -0.3861746174617462,
           -0.21996902966340817
          ],
          [
           0.5512391239123913,
           0.3762136213621362,
           0.3189657241840767,
           0.19653165316531654,
           0.07878787878787878,
           0.5132010500224207,
           0.2566739990093792,
           -0.36374437443744373,
           0.2743834383438344,
           0.2966471767262934
          ]
         ]
        }
       ],
       "layout": {
        "scene": {
         "aspectmode": "data"
        },
        "template": {
         "data": {
          "bar": [
           {
            "error_x": {
             "color": "#2a3f5f"
            },
            "error_y": {
             "color": "#2a3f5f"
            },
            "marker": {
             "line": {
              "color": "#E5ECF6",
              "width": 0.5
             },
             "pattern": {
              "fillmode": "overlay",
              "size": 10,
              "solidity": 0.2
             }
            },
            "type": "bar"
           }
          ],
          "barpolar": [
           {
            "marker": {
             "line": {
              "color": "#E5ECF6",
              "width": 0.5
             },
             "pattern": {
              "fillmode": "overlay",
              "size": 10,
              "solidity": 0.2
             }
            },
            "type": "barpolar"
           }
          ],
          "carpet": [
           {
            "aaxis": {
             "endlinecolor": "#2a3f5f",
             "gridcolor": "white",
             "linecolor": "white",
             "minorgridcolor": "white",
             "startlinecolor": "#2a3f5f"
            },
            "baxis": {
             "endlinecolor": "#2a3f5f",
             "gridcolor": "white",
             "linecolor": "white",
             "minorgridcolor": "white",
             "startlinecolor": "#2a3f5f"
            },
            "type": "carpet"
           }
          ],
          "choropleth": [
           {
            "colorbar": {
             "outlinewidth": 0,
             "ticks": ""
            },
            "type": "choropleth"
           }
          ],
          "contour": [
           {
            "colorbar": {
             "outlinewidth": 0,
             "ticks": ""
            },
            "colorscale": [
             [
              0,
              "#0d0887"
             ],
             [
              0.1111111111111111,
              "#46039f"
             ],
             [
              0.2222222222222222,
              "#7201a8"
             ],
             [
              0.3333333333333333,
              "#9c179e"
             ],
             [
              0.4444444444444444,
              "#bd3786"
             ],
             [
              0.5555555555555556,
              "#d8576b"
             ],
             [
              0.6666666666666666,
              "#ed7953"
             ],
             [
              0.7777777777777778,
              "#fb9f3a"
             ],
             [
              0.8888888888888888,
              "#fdca26"
             ],
             [
              1,
              "#f0f921"
             ]
            ],
            "type": "contour"
           }
          ],
          "contourcarpet": [
           {
            "colorbar": {
             "outlinewidth": 0,
             "ticks": ""
            },
            "type": "contourcarpet"
           }
          ],
          "heatmap": [
           {
            "colorbar": {
             "outlinewidth": 0,
             "ticks": ""
            },
            "colorscale": [
             [
              0,
              "#0d0887"
             ],
             [
              0.1111111111111111,
              "#46039f"
             ],
             [
              0.2222222222222222,
              "#7201a8"
             ],
             [
              0.3333333333333333,
              "#9c179e"
             ],
             [
              0.4444444444444444,
              "#bd3786"
             ],
             [
              0.5555555555555556,
              "#d8576b"
             ],
             [
              0.6666666666666666,
              "#ed7953"
             ],
             [
              0.7777777777777778,
              "#fb9f3a"
             ],
             [
              0.8888888888888888,
              "#fdca26"
             ],
             [
              1,
              "#f0f921"
             ]
            ],
            "type": "heatmap"
           }
          ],
          "heatmapgl": [
           {
            "colorbar": {
             "outlinewidth": 0,
             "ticks": ""
            },
            "colorscale": [
             [
              0,
              "#0d0887"
             ],
             [
              0.1111111111111111,
              "#46039f"
             ],
             [
              0.2222222222222222,
              "#7201a8"
             ],
             [
              0.3333333333333333,
              "#9c179e"
             ],
             [
              0.4444444444444444,
              "#bd3786"
             ],
             [
              0.5555555555555556,
              "#d8576b"
             ],
             [
              0.6666666666666666,
              "#ed7953"
             ],
             [
              0.7777777777777778,
              "#fb9f3a"
             ],
             [
              0.8888888888888888,
              "#fdca26"
             ],
             [
              1,
              "#f0f921"
             ]
            ],
            "type": "heatmapgl"
           }
          ],
          "histogram": [
           {
            "marker": {
             "pattern": {
              "fillmode": "overlay",
              "size": 10,
              "solidity": 0.2
             }
            },
            "type": "histogram"
           }
          ],
          "histogram2d": [
           {
            "colorbar": {
             "outlinewidth": 0,
             "ticks": ""
            },
            "colorscale": [
             [
              0,
              "#0d0887"
             ],
             [
              0.1111111111111111,
              "#46039f"
             ],
             [
              0.2222222222222222,
              "#7201a8"
             ],
             [
              0.3333333333333333,
              "#9c179e"
             ],
             [
              0.4444444444444444,
              "#bd3786"
             ],
             [
              0.5555555555555556,
              "#d8576b"
             ],
             [
              0.6666666666666666,
              "#ed7953"
             ],
             [
              0.7777777777777778,
              "#fb9f3a"
             ],
             [
              0.8888888888888888,
              "#fdca26"
             ],
             [
              1,
              "#f0f921"
             ]
            ],
            "type": "histogram2d"
           }
          ],
          "histogram2dcontour": [
           {
            "colorbar": {
             "outlinewidth": 0,
             "ticks": ""
            },
            "colorscale": [
             [
              0,
              "#0d0887"
             ],
             [
              0.1111111111111111,
              "#46039f"
             ],
             [
              0.2222222222222222,
              "#7201a8"
             ],
             [
              0.3333333333333333,
              "#9c179e"
             ],
             [
              0.4444444444444444,
              "#bd3786"
             ],
             [
              0.5555555555555556,
              "#d8576b"
             ],
             [
              0.6666666666666666,
              "#ed7953"
             ],
             [
              0.7777777777777778,
              "#fb9f3a"
             ],
             [
              0.8888888888888888,
              "#fdca26"
             ],
             [
              1,
              "#f0f921"
             ]
            ],
            "type": "histogram2dcontour"
           }
          ],
          "mesh3d": [
           {
            "colorbar": {
             "outlinewidth": 0,
             "ticks": ""
            },
            "type": "mesh3d"
           }
          ],
          "parcoords": [
           {
            "line": {
             "colorbar": {
              "outlinewidth": 0,
              "ticks": ""
             }
            },
            "type": "parcoords"
           }
          ],
          "pie": [
           {
            "automargin": true,
            "type": "pie"
           }
          ],
          "scatter": [
           {
            "fillpattern": {
             "fillmode": "overlay",
             "size": 10,
             "solidity": 0.2
            },
            "type": "scatter"
           }
          ],
          "scatter3d": [
           {
            "line": {
             "colorbar": {
              "outlinewidth": 0,
              "ticks": ""
             }
            },
            "marker": {
             "colorbar": {
              "outlinewidth": 0,
              "ticks": ""
             }
            },
            "type": "scatter3d"
           }
          ],
          "scattercarpet": [
           {
            "marker": {
             "colorbar": {
              "outlinewidth": 0,
              "ticks": ""
             }
            },
            "type": "scattercarpet"
           }
          ],
          "scattergeo": [
           {
            "marker": {
             "colorbar": {
              "outlinewidth": 0,
              "ticks": ""
             }
            },
            "type": "scattergeo"
           }
          ],
          "scattergl": [
           {
            "marker": {
             "colorbar": {
              "outlinewidth": 0,
              "ticks": ""
             }
            },
            "type": "scattergl"
           }
          ],
          "scattermapbox": [
           {
            "marker": {
             "colorbar": {
              "outlinewidth": 0,
              "ticks": ""
             }
            },
            "type": "scattermapbox"
           }
          ],
          "scatterpolar": [
           {
            "marker": {
             "colorbar": {
              "outlinewidth": 0,
              "ticks": ""
             }
            },
            "type": "scatterpolar"
           }
          ],
          "scatterpolargl": [
           {
            "marker": {
             "colorbar": {
              "outlinewidth": 0,
              "ticks": ""
             }
            },
            "type": "scatterpolargl"
           }
          ],
          "scatterternary": [
           {
            "marker": {
             "colorbar": {
              "outlinewidth": 0,
              "ticks": ""
             }
            },
            "type": "scatterternary"
           }
          ],
          "surface": [
           {
            "colorbar": {
             "outlinewidth": 0,
             "ticks": ""
            },
            "colorscale": [
             [
              0,
              "#0d0887"
             ],
             [
              0.1111111111111111,
              "#46039f"
             ],
             [
              0.2222222222222222,
              "#7201a8"
             ],
             [
              0.3333333333333333,
              "#9c179e"
             ],
             [
              0.4444444444444444,
              "#bd3786"
             ],
             [
              0.5555555555555556,
              "#d8576b"
             ],
             [
              0.6666666666666666,
              "#ed7953"
             ],
             [
              0.7777777777777778,
              "#fb9f3a"
             ],
             [
              0.8888888888888888,
              "#fdca26"
             ],
             [
              1,
              "#f0f921"
             ]
            ],
            "type": "surface"
           }
          ],
          "table": [
           {
            "cells": {
             "fill": {
              "color": "#EBF0F8"
             },
             "line": {
              "color": "white"
             }
            },
            "header": {
             "fill": {
              "color": "#C8D4E3"
             },
             "line": {
              "color": "white"
             }
            },
            "type": "table"
           }
          ]
         },
         "layout": {
          "annotationdefaults": {
           "arrowcolor": "#2a3f5f",
           "arrowhead": 0,
           "arrowwidth": 1
          },
          "autotypenumbers": "strict",
          "coloraxis": {
           "colorbar": {
            "outlinewidth": 0,
            "ticks": ""
           }
          },
          "colorscale": {
           "diverging": [
            [
             0,
             "#8e0152"
            ],
            [
             0.1,
             "#c51b7d"
            ],
            [
             0.2,
             "#de77ae"
            ],
            [
             0.3,
             "#f1b6da"
            ],
            [
             0.4,
             "#fde0ef"
            ],
            [
             0.5,
             "#f7f7f7"
            ],
            [
             0.6,
             "#e6f5d0"
            ],
            [
             0.7,
             "#b8e186"
            ],
            [
             0.8,
             "#7fbc41"
            ],
            [
             0.9,
             "#4d9221"
            ],
            [
             1,
             "#276419"
            ]
           ],
           "sequential": [
            [
             0,
             "#0d0887"
            ],
            [
             0.1111111111111111,
             "#46039f"
            ],
            [
             0.2222222222222222,
             "#7201a8"
            ],
            [
             0.3333333333333333,
             "#9c179e"
            ],
            [
             0.4444444444444444,
             "#bd3786"
            ],
            [
             0.5555555555555556,
             "#d8576b"
            ],
            [
             0.6666666666666666,
             "#ed7953"
            ],
            [
             0.7777777777777778,
             "#fb9f3a"
            ],
            [
             0.8888888888888888,
             "#fdca26"
            ],
            [
             1,
             "#f0f921"
            ]
           ],
           "sequentialminus": [
            [
             0,
             "#0d0887"
            ],
            [
             0.1111111111111111,
             "#46039f"
            ],
            [
             0.2222222222222222,
             "#7201a8"
            ],
            [
             0.3333333333333333,
             "#9c179e"
            ],
            [
             0.4444444444444444,
             "#bd3786"
            ],
            [
             0.5555555555555556,
             "#d8576b"
            ],
            [
             0.6666666666666666,
             "#ed7953"
            ],
            [
             0.7777777777777778,
             "#fb9f3a"
            ],
            [
             0.8888888888888888,
             "#fdca26"
            ],
            [
             1,
             "#f0f921"
            ]
           ]
          },
          "colorway": [
           "#636efa",
           "#EF553B",
           "#00cc96",
           "#ab63fa",
           "#FFA15A",
           "#19d3f3",
           "#FF6692",
           "#B6E880",
           "#FF97FF",
           "#FECB52"
          ],
          "font": {
           "color": "#2a3f5f"
          },
          "geo": {
           "bgcolor": "white",
           "lakecolor": "white",
           "landcolor": "#E5ECF6",
           "showlakes": true,
           "showland": true,
           "subunitcolor": "white"
          },
          "hoverlabel": {
           "align": "left"
          },
          "hovermode": "closest",
          "mapbox": {
           "style": "light"
          },
          "paper_bgcolor": "white",
          "plot_bgcolor": "#E5ECF6",
          "polar": {
           "angularaxis": {
            "gridcolor": "white",
            "linecolor": "white",
            "ticks": ""
           },
           "bgcolor": "#E5ECF6",
           "radialaxis": {
            "gridcolor": "white",
            "linecolor": "white",
            "ticks": ""
           }
          },
          "scene": {
           "xaxis": {
            "backgroundcolor": "#E5ECF6",
            "gridcolor": "white",
            "gridwidth": 2,
            "linecolor": "white",
            "showbackground": true,
            "ticks": "",
            "zerolinecolor": "white"
           },
           "yaxis": {
            "backgroundcolor": "#E5ECF6",
            "gridcolor": "white",
            "gridwidth": 2,
            "linecolor": "white",
            "showbackground": true,
            "ticks": "",
            "zerolinecolor": "white"
           },
           "zaxis": {
            "backgroundcolor": "#E5ECF6",
            "gridcolor": "white",
            "gridwidth": 2,
            "linecolor": "white",
            "showbackground": true,
            "ticks": "",
            "zerolinecolor": "white"
           }
          },
          "shapedefaults": {
           "line": {
            "color": "#2a3f5f"
           }
          },
          "ternary": {
           "aaxis": {
            "gridcolor": "white",
            "linecolor": "white",
            "ticks": ""
           },
           "baxis": {
            "gridcolor": "white",
            "linecolor": "white",
            "ticks": ""
           },
           "bgcolor": "#E5ECF6",
           "caxis": {
            "gridcolor": "white",
            "linecolor": "white",
            "ticks": ""
           }
          },
          "title": {
           "x": 0.05
          },
          "xaxis": {
           "automargin": true,
           "gridcolor": "white",
           "linecolor": "white",
           "ticks": "",
           "title": {
            "standoff": 15
           },
           "zerolinecolor": "white",
           "zerolinewidth": 2
          },
          "yaxis": {
           "automargin": true,
           "gridcolor": "white",
           "linecolor": "white",
           "ticks": "",
           "title": {
            "standoff": 15
           },
           "zerolinecolor": "white",
           "zerolinewidth": 2
          }
         }
        },
        "title": {
         "text": "Spearman Correlation",
         "x": 0.5
        }
       }
      }
     },
     "metadata": {},
     "output_type": "display_data"
    },
    {
     "data": {
      "application/vnd.plotly.v1+json": {
       "config": {
        "plotlyServerURL": "https://plot.ly"
       },
       "data": [
        {
         "colorscale": [
          [
           0,
           "rgb(165,0,38)"
          ],
          [
           0.1,
           "rgb(215,48,39)"
          ],
          [
           0.2,
           "rgb(244,109,67)"
          ],
          [
           0.3,
           "rgb(253,174,97)"
          ],
          [
           0.4,
           "rgb(254,224,144)"
          ],
          [
           0.5,
           "rgb(255,255,191)"
          ],
          [
           0.6,
           "rgb(224,243,248)"
          ],
          [
           0.7,
           "rgb(171,217,233)"
          ],
          [
           0.8,
           "rgb(116,173,209)"
          ],
          [
           0.9,
           "rgb(69,117,180)"
          ],
          [
           1,
           "rgb(49,54,149)"
          ]
         ],
         "type": "heatmap",
         "x": [
          "OXO-5FI635C Augusta",
          "OXO-5FI661A Augusta",
          "OXO-5FIC132 Augusta",
          "OXO-5FIC600 Augusta",
          "OXO-5FIC601 Augusta",
          "OXO-5FIC602 Augusta",
          "OXO-5FIC603 Augusta",
          "OXO-5FIC606C Augusta",
          "OXO-5FIC607 Augusta",
          "OXO-5FIC609A Augusta"
         ],
         "y": [
          "OXO-5FI635C Augusta",
          "OXO-5FI661A Augusta",
          "OXO-5FIC132 Augusta",
          "OXO-5FIC600 Augusta",
          "OXO-5FIC601 Augusta",
          "OXO-5FIC602 Augusta",
          "OXO-5FIC603 Augusta",
          "OXO-5FIC606C Augusta",
          "OXO-5FIC607 Augusta",
          "OXO-5FIC609A Augusta"
         ],
         "z": [
          [
           3.3440441843062887,
           0.3224933626547699,
           0.16881178385016993,
           0.22444570779346584,
           0.14151032524820595,
           0.23613548776842075,
           0,
           0,
           0,
           0
          ],
          [
           0.3224933626547699,
           3.3440441843062887,
           0.4610065007563722,
           0.5448846679168193,
           0.5757024262759174,
           0.3871455747452348,
           0,
           0.003613281489574849,
           0,
           0
          ],
          [
           0.1688117838501697,
           0.46100650075637195,
           3.321210850972954,
           0.16493898870791357,
           0.3172627746141907,
           0.4074636385966586,
           0,
           0.06423733973499135,
           0,
           0
          ],
          [
           0.22444570779346584,
           0.5448846679168193,
           0.16493898870791357,
           3.3440441843062882,
           0.6071069998576522,
           0.2845853131636491,
           0,
           0.23035673777656607,
           0,
           0
          ],
          [
           0.14151032524820595,
           0.5757024262759174,
           0.31695974431115914,
           0.6071069998576522,
           3.3440441843062887,
           0.19702489532491807,
           0,
           0.21706882096521074,
           0,
           0
          ],
          [
           0.23801663615818924,
           0.38714557474523503,
           0.40645509158811155,
           0.2860589973741745,
           0.1984137842138063,
           3.3142108509729544,
           0,
           0,
           0,
           0
          ],
          [
           0,
           0,
           0,
           0,
           0,
           0,
           0.06015466406001302,
           0,
           0,
           0.005009770130108393
          ],
          [
           0,
           0.00321827620881443,
           0.06399924449689598,
           0.2278006472562919,
           0.2149937848901744,
           0,
           0.000013042706182631036,
           3.2742108509729553,
           0.0029839259502653093,
           0.0017530924495927636
          ],
          [
           0,
           0,
           0,
           0,
           0,
           0.009526465419941177,
           0.05436394061306693,
           0.00020305091733541225,
           0.010023664542954336,
           0
          ],
          [
           0,
           0,
           0,
           0,
           0,
           0,
           0,
           0.004163293009887825,
           0,
           0
          ],
          [
           0.20645914154909129,
           0.5205322415309972,
           0.4387805824616753,
           0.4218085270566383,
           0.48707873372801114,
           0.33838164654550074,
           0,
           0.16489057892995884,
           0,
           0
          ],
          [
           0.03278880521147398,
           0.07960681837559047,
           0.13068206652829684,
           0.3030130912727427,
           0.17198843696586952,
           0.08175981986264436,
           0,
           0.9239423173834767,
           0,
           0
          ],
          [
           0,
           0.14335880612119922,
           0.21326100733287134,
           0.09437955867328984,
           0.1104014731840599,
           0.055514208392239084,
           0.018060427588662442,
           0.410880984506528,
           0,
           0
          ],
          [
           0.48898253519271107,
           0.8321749501708193,
           0.6546623582665525,
           0.5233625703959857,
           0.7626538359187749,
           0.722098547884201,
           0,
           0.11226807877428646,
           0,
           0
          ],
          [
           0.16271718989399053,
           0.5641734730713073,
           0.6093220671861861,
           0.45295194838991515,
           0.25199769985443865,
           0.7075648692696648,
           0,
           0.17947153743702815,
           0,
           0
          ],
          [
           0.5126410409686764,
           0.6035944894307028,
           0.5389375533593381,
           0.4777091351279421,
           0.5437235143837023,
           0.6429590903109279,
           0,
           0.33484190183448703,
           0,
           0
          ],
          [
           0.48578162498192157,
           0.6043902657477802,
           0.43010855567954076,
           0.446210841407916,
           0.5762062706939797,
           0.9255514935610476,
           0,
           0.29643069196588945,
           0,
           0
          ],
          [
           0.14531462900355718,
           0.0860928879918137,
           0.06758034327858153,
           0.01769566870501693,
           0.0343662920777521,
           0.0278738156282472,
           0,
           0,
           0,
           0
          ],
          [
           0.010043807421948436,
           0.08122017584920349,
           0.09317945916393322,
           0.10723364412617986,
           0.08577177341348463,
           0.04726147917023327,
           0,
           0.26375166217709256,
           0.001973653377059126,
           0
          ],
          [
           0.3560856565387347,
           0.8231082784507837,
           0.5277731783625486,
           0.4168961386524286,
           0.5173406991649991,
           0.6404080146726252,
           0,
           0.10717637005057101,
           0,
           0
          ],
          [
           0.6324864950539948,
           0.3749366597835584,
           0.19747895225977308,
           0.2617586483450087,
           0.2517263120540143,
           0.43930936850785285,
           0,
           0.09869797883654252,
           0,
           0
          ],
          [
           0.1399815957213737,
           0.24998044606749392,
           0.2646366441797521,
           0.30106387071493357,
           0.2991856952381249,
           0.11896580899180842,
           0,
           0.27806339754426723,
           0,
           0
          ],
          [
           0.10282602302822008,
           0.1700169110682741,
           0.2390984313037241,
           0.21228896797006103,
           0.1736367408841275,
           0.20936180394385584,
           0,
           0.23106240541932666,
           0.017338922368697496,
           0.01550921375256209
          ],
          [
           0.422046060762018,
           0.4063969788610762,
           0.475264818782811,
           0.44539718940588013,
           0.45015653253454513,
           0.7629214939792002,
           0,
           0.18212423317557702,
           0,
           0
          ],
          [
           0.4427803228312568,
           0.9027204990670583,
           1.1423331535065557,
           0.71199692284784,
           0.7944868640476068,
           0.9004078953136312,
           0.051184239944450205,
           0.21769171129379128,
           0,
           0.03236721329941972
          ],
          [
           0.08429673872785615,
           0.4828745139452859,
           0.3160112884721116,
           0.41816352166064497,
           0.5780658016377116,
           0.3026368151558594,
           0,
           0.10763865123467808,
           0,
           0.05117685389715598
          ],
          [
           0.02053624731635595,
           0.023556950119262288,
           0.000967350280320245,
           0,
           0,
           0,
           0,
           0,
           0,
           0
          ],
          [
           0.38979828659680926,
           0.8432465831681304,
           0.804270883761276,
           0.7657875174076758,
           0.9215186286619228,
           0.5899832397033156,
           0,
           0.3454760237232479,
           0,
           0
          ],
          [
           0.046880268394621005,
           0.01567849016697398,
           0.05980157774110184,
           0.18442825878635682,
           0.14058834509437768,
           0.2166145916254587,
           0,
           1.0038385719086467,
           0,
           0
          ],
          [
           0,
           0,
           0.05372734306044036,
           0.06300806372613543,
           0.0785156369442408,
           0.005140529070351008,
           0,
           0.13003587671720807,
           0,
           0
          ],
          [
           0,
           0,
           0,
           0,
           0,
           0.0037852108759148795,
           0,
           0,
           0.0169610780544045,
           0
          ],
          [
           0.5877624936371881,
           0.9389163021068461,
           0.6948034134672256,
           0.9306740133619145,
           0.8910783481798363,
           0.89494354534405,
           0,
           0.521212218233285,
           0,
           0
          ],
          [
           0.5141560219188146,
           0.9003496961516002,
           0.7453454266060331,
           0.925454927456133,
           0.8782463136637078,
           0.8477002866758334,
           0,
           0.49763711891155493,
           0,
           0
          ],
          [
           0.3410350924405767,
           0.5776298144900756,
           0.8176942790218704,
           0.5102767047582601,
           0.6221532441768698,
           0.9898143592056856,
           0,
           0.2210546151238515,
           0,
           0
          ],
          [
           0.3624955661571727,
           0.7002315459305364,
           0.39561927301892474,
           0.46604432263567164,
           0.48232240054186803,
           0.49017391746183003,
           0,
           0.3586325876055909,
           0,
           0
          ],
          [
           0.3901595262367019,
           0.8096429665109723,
           0.9295098738708663,
           0.7837917050823688,
           0.8312754366891575,
           0.5977627226451858,
           0,
           0.31802142172675474,
           0,
           0
          ],
          [
           0.271008164030178,
           0.5494551921266146,
           0.19924390816616322,
           0.5326496737440825,
           0.3616224600950093,
           0.4016760261428174,
           0,
           0.05561386886858699,
           0,
           0
          ],
          [
           0.10579953810127263,
           0.2206144088308708,
           0.07591518936948027,
           0.1544090951688757,
           0.46589270187895515,
           0.06606820379709566,
           0,
           0.36457587619813525,
           0,
           0
          ],
          [
           0.11753676305692773,
           0.3636265075731764,
           0.19272776445405837,
           0.40561199126722336,
           0.22656252750197137,
           0.32285163823709206,
           0,
           0.3886712030413646,
           0,
           0
          ],
          [
           0.04002904835424248,
           0.5519077326991493,
           0.3541298479178896,
           0.600479814163299,
           0.6794800289255574,
           0.16077937071306714,
           0,
           0.5169487476932333,
           0,
           0
          ],
          [
           0,
           0.0811463159152539,
           0.11252773443008124,
           0,
           0.03605041480304605,
           0.08760525895774807,
           0,
           0.037579546337239034,
           0,
           0
          ],
          [
           0.4531588674421294,
           0.7141893570042102,
           0.4354513434905134,
           0.46807354212052,
           0.5608945265921661,
           0.5995002152296109,
           0,
           0,
           0,
           0
          ],
          [
           0.05279398794773149,
           0.05112605842980722,
           0.016858578654991074,
           0,
           0,
           0.11190050387631878,
           0,
           0,
           0,
           0
          ],
          [
           0.2764189036549536,
           0.6834409190097137,
           0.19466420955575847,
           0.6421822507255674,
           0.5366120349755348,
           0.4932215935464095,
           0,
           0.1312495377130951,
           0,
           0
          ],
          [
           0.45017235324741733,
           0.6684274820227096,
           0.34371431148928977,
           0.6548881100545376,
           0.842669962719989,
           0.411028482487259,
           0,
           0.29166065028334476,
           0,
           0
          ],
          [
           0.25420959371998464,
           0.3035491059154949,
           0.318789784862588,
           0.32475209473829736,
           0.4427559918491406,
           0.4345824747635447,
           0,
           0.10287300858313442,
           0,
           0
          ],
          [
           0.37772685185298727,
           0.6715304500614019,
           0.3141100987616414,
           0.5325504384065811,
           0.7320449863174869,
           0.5275892485022613,
           0,
           0.09823095621715128,
           0,
           0
          ],
          [
           0.18514743507476128,
           0.32487285454144077,
           0.19072095826502888,
           0.23704723379398507,
           0.3160562730007155,
           0.4673801703596854,
           0,
           0.09582892108900243,
           0,
           0
          ],
          [
           0.2711062501706736,
           0.6311299919263669,
           0.29998923672657085,
           0.531456256919687,
           0.5695282703793634,
           0.2924322692012624,
           0,
           0.12469138050661677,
           0,
           0
          ],
          [
           0.33359980938391853,
           0.646122670791319,
           0.18873816896749407,
           0.5866974742397213,
           0.6114835211187746,
           0.32466446800820803,
           0,
           0.2761117762639995,
           0,
           0
          ],
          [
           0,
           0,
           0,
           0,
           0.029688838099330983,
           0.049052252752645575,
           0,
           0.08134336357646355,
           0,
           0
          ],
          [
           0.2981116722116699,
           1.7935410681414075,
           0.46311591010166975,
           0.5357421812827874,
           0.614699075729217,
           0.3998089786030632,
           0,
           0.19542415933695834,
           0,
           0
          ],
          [
           0.37766953158867844,
           2.0624067501329475,
           0.38296688370777865,
           0.597373367477041,
           0.6615409141923014,
           0.29597504580518086,
           0,
           0.12427662053854283,
           0,
           0
          ],
          [
           0.27949408663569564,
           1.648086743269396,
           0.5330885152681506,
           0.6068660959084968,
           0.5611677124090573,
           0.22619854905646308,
           0,
           0.08195203056904976,
           0,
           0
          ],
          [
           0.30680813499424753,
           1.6037811723504005,
           0.41411938405080395,
           0.47011324398937093,
           0.5247428046064946,
           0.2617048484419944,
           0,
           0.07737154002492197,
           0,
           0
          ],
          [
           0.4495790806354947,
           0.7183676137680495,
           0.5021343720028795,
           0.4352373632931834,
           0.4493563562166156,
           0.7895705002283879,
           0,
           0.17168283154361053,
           0,
           0
          ]
         ]
        }
       ],
       "layout": {
        "scene": {
         "aspectmode": "data"
        },
        "template": {
         "data": {
          "bar": [
           {
            "error_x": {
             "color": "#2a3f5f"
            },
            "error_y": {
             "color": "#2a3f5f"
            },
            "marker": {
             "line": {
              "color": "#E5ECF6",
              "width": 0.5
             },
             "pattern": {
              "fillmode": "overlay",
              "size": 10,
              "solidity": 0.2
             }
            },
            "type": "bar"
           }
          ],
          "barpolar": [
           {
            "marker": {
             "line": {
              "color": "#E5ECF6",
              "width": 0.5
             },
             "pattern": {
              "fillmode": "overlay",
              "size": 10,
              "solidity": 0.2
             }
            },
            "type": "barpolar"
           }
          ],
          "carpet": [
           {
            "aaxis": {
             "endlinecolor": "#2a3f5f",
             "gridcolor": "white",
             "linecolor": "white",
             "minorgridcolor": "white",
             "startlinecolor": "#2a3f5f"
            },
            "baxis": {
             "endlinecolor": "#2a3f5f",
             "gridcolor": "white",
             "linecolor": "white",
             "minorgridcolor": "white",
             "startlinecolor": "#2a3f5f"
            },
            "type": "carpet"
           }
          ],
          "choropleth": [
           {
            "colorbar": {
             "outlinewidth": 0,
             "ticks": ""
            },
            "type": "choropleth"
           }
          ],
          "contour": [
           {
            "colorbar": {
             "outlinewidth": 0,
             "ticks": ""
            },
            "colorscale": [
             [
              0,
              "#0d0887"
             ],
             [
              0.1111111111111111,
              "#46039f"
             ],
             [
              0.2222222222222222,
              "#7201a8"
             ],
             [
              0.3333333333333333,
              "#9c179e"
             ],
             [
              0.4444444444444444,
              "#bd3786"
             ],
             [
              0.5555555555555556,
              "#d8576b"
             ],
             [
              0.6666666666666666,
              "#ed7953"
             ],
             [
              0.7777777777777778,
              "#fb9f3a"
             ],
             [
              0.8888888888888888,
              "#fdca26"
             ],
             [
              1,
              "#f0f921"
             ]
            ],
            "type": "contour"
           }
          ],
          "contourcarpet": [
           {
            "colorbar": {
             "outlinewidth": 0,
             "ticks": ""
            },
            "type": "contourcarpet"
           }
          ],
          "heatmap": [
           {
            "colorbar": {
             "outlinewidth": 0,
             "ticks": ""
            },
            "colorscale": [
             [
              0,
              "#0d0887"
             ],
             [
              0.1111111111111111,
              "#46039f"
             ],
             [
              0.2222222222222222,
              "#7201a8"
             ],
             [
              0.3333333333333333,
              "#9c179e"
             ],
             [
              0.4444444444444444,
              "#bd3786"
             ],
             [
              0.5555555555555556,
              "#d8576b"
             ],
             [
              0.6666666666666666,
              "#ed7953"
             ],
             [
              0.7777777777777778,
              "#fb9f3a"
             ],
             [
              0.8888888888888888,
              "#fdca26"
             ],
             [
              1,
              "#f0f921"
             ]
            ],
            "type": "heatmap"
           }
          ],
          "heatmapgl": [
           {
            "colorbar": {
             "outlinewidth": 0,
             "ticks": ""
            },
            "colorscale": [
             [
              0,
              "#0d0887"
             ],
             [
              0.1111111111111111,
              "#46039f"
             ],
             [
              0.2222222222222222,
              "#7201a8"
             ],
             [
              0.3333333333333333,
              "#9c179e"
             ],
             [
              0.4444444444444444,
              "#bd3786"
             ],
             [
              0.5555555555555556,
              "#d8576b"
             ],
             [
              0.6666666666666666,
              "#ed7953"
             ],
             [
              0.7777777777777778,
              "#fb9f3a"
             ],
             [
              0.8888888888888888,
              "#fdca26"
             ],
             [
              1,
              "#f0f921"
             ]
            ],
            "type": "heatmapgl"
           }
          ],
          "histogram": [
           {
            "marker": {
             "pattern": {
              "fillmode": "overlay",
              "size": 10,
              "solidity": 0.2
             }
            },
            "type": "histogram"
           }
          ],
          "histogram2d": [
           {
            "colorbar": {
             "outlinewidth": 0,
             "ticks": ""
            },
            "colorscale": [
             [
              0,
              "#0d0887"
             ],
             [
              0.1111111111111111,
              "#46039f"
             ],
             [
              0.2222222222222222,
              "#7201a8"
             ],
             [
              0.3333333333333333,
              "#9c179e"
             ],
             [
              0.4444444444444444,
              "#bd3786"
             ],
             [
              0.5555555555555556,
              "#d8576b"
             ],
             [
              0.6666666666666666,
              "#ed7953"
             ],
             [
              0.7777777777777778,
              "#fb9f3a"
             ],
             [
              0.8888888888888888,
              "#fdca26"
             ],
             [
              1,
              "#f0f921"
             ]
            ],
            "type": "histogram2d"
           }
          ],
          "histogram2dcontour": [
           {
            "colorbar": {
             "outlinewidth": 0,
             "ticks": ""
            },
            "colorscale": [
             [
              0,
              "#0d0887"
             ],
             [
              0.1111111111111111,
              "#46039f"
             ],
             [
              0.2222222222222222,
              "#7201a8"
             ],
             [
              0.3333333333333333,
              "#9c179e"
             ],
             [
              0.4444444444444444,
              "#bd3786"
             ],
             [
              0.5555555555555556,
              "#d8576b"
             ],
             [
              0.6666666666666666,
              "#ed7953"
             ],
             [
              0.7777777777777778,
              "#fb9f3a"
             ],
             [
              0.8888888888888888,
              "#fdca26"
             ],
             [
              1,
              "#f0f921"
             ]
            ],
            "type": "histogram2dcontour"
           }
          ],
          "mesh3d": [
           {
            "colorbar": {
             "outlinewidth": 0,
             "ticks": ""
            },
            "type": "mesh3d"
           }
          ],
          "parcoords": [
           {
            "line": {
             "colorbar": {
              "outlinewidth": 0,
              "ticks": ""
             }
            },
            "type": "parcoords"
           }
          ],
          "pie": [
           {
            "automargin": true,
            "type": "pie"
           }
          ],
          "scatter": [
           {
            "fillpattern": {
             "fillmode": "overlay",
             "size": 10,
             "solidity": 0.2
            },
            "type": "scatter"
           }
          ],
          "scatter3d": [
           {
            "line": {
             "colorbar": {
              "outlinewidth": 0,
              "ticks": ""
             }
            },
            "marker": {
             "colorbar": {
              "outlinewidth": 0,
              "ticks": ""
             }
            },
            "type": "scatter3d"
           }
          ],
          "scattercarpet": [
           {
            "marker": {
             "colorbar": {
              "outlinewidth": 0,
              "ticks": ""
             }
            },
            "type": "scattercarpet"
           }
          ],
          "scattergeo": [
           {
            "marker": {
             "colorbar": {
              "outlinewidth": 0,
              "ticks": ""
             }
            },
            "type": "scattergeo"
           }
          ],
          "scattergl": [
           {
            "marker": {
             "colorbar": {
              "outlinewidth": 0,
              "ticks": ""
             }
            },
            "type": "scattergl"
           }
          ],
          "scattermapbox": [
           {
            "marker": {
             "colorbar": {
              "outlinewidth": 0,
              "ticks": ""
             }
            },
            "type": "scattermapbox"
           }
          ],
          "scatterpolar": [
           {
            "marker": {
             "colorbar": {
              "outlinewidth": 0,
              "ticks": ""
             }
            },
            "type": "scatterpolar"
           }
          ],
          "scatterpolargl": [
           {
            "marker": {
             "colorbar": {
              "outlinewidth": 0,
              "ticks": ""
             }
            },
            "type": "scatterpolargl"
           }
          ],
          "scatterternary": [
           {
            "marker": {
             "colorbar": {
              "outlinewidth": 0,
              "ticks": ""
             }
            },
            "type": "scatterternary"
           }
          ],
          "surface": [
           {
            "colorbar": {
             "outlinewidth": 0,
             "ticks": ""
            },
            "colorscale": [
             [
              0,
              "#0d0887"
             ],
             [
              0.1111111111111111,
              "#46039f"
             ],
             [
              0.2222222222222222,
              "#7201a8"
             ],
             [
              0.3333333333333333,
              "#9c179e"
             ],
             [
              0.4444444444444444,
              "#bd3786"
             ],
             [
              0.5555555555555556,
              "#d8576b"
             ],
             [
              0.6666666666666666,
              "#ed7953"
             ],
             [
              0.7777777777777778,
              "#fb9f3a"
             ],
             [
              0.8888888888888888,
              "#fdca26"
             ],
             [
              1,
              "#f0f921"
             ]
            ],
            "type": "surface"
           }
          ],
          "table": [
           {
            "cells": {
             "fill": {
              "color": "#EBF0F8"
             },
             "line": {
              "color": "white"
             }
            },
            "header": {
             "fill": {
              "color": "#C8D4E3"
             },
             "line": {
              "color": "white"
             }
            },
            "type": "table"
           }
          ]
         },
         "layout": {
          "annotationdefaults": {
           "arrowcolor": "#2a3f5f",
           "arrowhead": 0,
           "arrowwidth": 1
          },
          "autotypenumbers": "strict",
          "coloraxis": {
           "colorbar": {
            "outlinewidth": 0,
            "ticks": ""
           }
          },
          "colorscale": {
           "diverging": [
            [
             0,
             "#8e0152"
            ],
            [
             0.1,
             "#c51b7d"
            ],
            [
             0.2,
             "#de77ae"
            ],
            [
             0.3,
             "#f1b6da"
            ],
            [
             0.4,
             "#fde0ef"
            ],
            [
             0.5,
             "#f7f7f7"
            ],
            [
             0.6,
             "#e6f5d0"
            ],
            [
             0.7,
             "#b8e186"
            ],
            [
             0.8,
             "#7fbc41"
            ],
            [
             0.9,
             "#4d9221"
            ],
            [
             1,
             "#276419"
            ]
           ],
           "sequential": [
            [
             0,
             "#0d0887"
            ],
            [
             0.1111111111111111,
             "#46039f"
            ],
            [
             0.2222222222222222,
             "#7201a8"
            ],
            [
             0.3333333333333333,
             "#9c179e"
            ],
            [
             0.4444444444444444,
             "#bd3786"
            ],
            [
             0.5555555555555556,
             "#d8576b"
            ],
            [
             0.6666666666666666,
             "#ed7953"
            ],
            [
             0.7777777777777778,
             "#fb9f3a"
            ],
            [
             0.8888888888888888,
             "#fdca26"
            ],
            [
             1,
             "#f0f921"
            ]
           ],
           "sequentialminus": [
            [
             0,
             "#0d0887"
            ],
            [
             0.1111111111111111,
             "#46039f"
            ],
            [
             0.2222222222222222,
             "#7201a8"
            ],
            [
             0.3333333333333333,
             "#9c179e"
            ],
            [
             0.4444444444444444,
             "#bd3786"
            ],
            [
             0.5555555555555556,
             "#d8576b"
            ],
            [
             0.6666666666666666,
             "#ed7953"
            ],
            [
             0.7777777777777778,
             "#fb9f3a"
            ],
            [
             0.8888888888888888,
             "#fdca26"
            ],
            [
             1,
             "#f0f921"
            ]
           ]
          },
          "colorway": [
           "#636efa",
           "#EF553B",
           "#00cc96",
           "#ab63fa",
           "#FFA15A",
           "#19d3f3",
           "#FF6692",
           "#B6E880",
           "#FF97FF",
           "#FECB52"
          ],
          "font": {
           "color": "#2a3f5f"
          },
          "geo": {
           "bgcolor": "white",
           "lakecolor": "white",
           "landcolor": "#E5ECF6",
           "showlakes": true,
           "showland": true,
           "subunitcolor": "white"
          },
          "hoverlabel": {
           "align": "left"
          },
          "hovermode": "closest",
          "mapbox": {
           "style": "light"
          },
          "paper_bgcolor": "white",
          "plot_bgcolor": "#E5ECF6",
          "polar": {
           "angularaxis": {
            "gridcolor": "white",
            "linecolor": "white",
            "ticks": ""
           },
           "bgcolor": "#E5ECF6",
           "radialaxis": {
            "gridcolor": "white",
            "linecolor": "white",
            "ticks": ""
           }
          },
          "scene": {
           "xaxis": {
            "backgroundcolor": "#E5ECF6",
            "gridcolor": "white",
            "gridwidth": 2,
            "linecolor": "white",
            "showbackground": true,
            "ticks": "",
            "zerolinecolor": "white"
           },
           "yaxis": {
            "backgroundcolor": "#E5ECF6",
            "gridcolor": "white",
            "gridwidth": 2,
            "linecolor": "white",
            "showbackground": true,
            "ticks": "",
            "zerolinecolor": "white"
           },
           "zaxis": {
            "backgroundcolor": "#E5ECF6",
            "gridcolor": "white",
            "gridwidth": 2,
            "linecolor": "white",
            "showbackground": true,
            "ticks": "",
            "zerolinecolor": "white"
           }
          },
          "shapedefaults": {
           "line": {
            "color": "#2a3f5f"
           }
          },
          "ternary": {
           "aaxis": {
            "gridcolor": "white",
            "linecolor": "white",
            "ticks": ""
           },
           "baxis": {
            "gridcolor": "white",
            "linecolor": "white",
            "ticks": ""
           },
           "bgcolor": "#E5ECF6",
           "caxis": {
            "gridcolor": "white",
            "linecolor": "white",
            "ticks": ""
           }
          },
          "title": {
           "x": 0.05
          },
          "xaxis": {
           "automargin": true,
           "gridcolor": "white",
           "linecolor": "white",
           "ticks": "",
           "title": {
            "standoff": 15
           },
           "zerolinecolor": "white",
           "zerolinewidth": 2
          },
          "yaxis": {
           "automargin": true,
           "gridcolor": "white",
           "linecolor": "white",
           "ticks": "",
           "title": {
            "standoff": 15
           },
           "zerolinecolor": "white",
           "zerolinewidth": 2
          }
         }
        },
        "title": {
         "text": "Mutual Information",
         "x": 0.5
        }
       }
      }
     },
     "metadata": {},
     "output_type": "display_data"
    },
    {
     "data": {
      "application/vnd.plotly.v1+json": {
       "config": {
        "plotlyServerURL": "https://plot.ly"
       },
       "data": [
        {
         "alignmentgroup": "True",
         "hovertemplate": "x=%{x}<br>y=%{y}<extra></extra>",
         "legendgroup": "",
         "marker": {
          "color": "#636efa",
          "pattern": {
           "shape": ""
          }
         },
         "name": "",
         "offsetgroup": "",
         "orientation": "v",
         "showlegend": false,
         "textposition": "auto",
         "type": "bar",
         "x": [
          "OXO-5LI650F Augusta",
          "OXO-5FIC622A Augusta",
          "OXO-5LI633B Augusta",
          "OXO-5FIC636B Augusta",
          "OXO-5FIC132 Augusta",
          "OXO-5FIC601 Augusta",
          "OXO-5TIC604 Augusta",
          "OXO-5TIC605 Augusta",
          "OXO-5TIC601 Augusta",
          "OXO-5LI653E Augusta",
          "OXO-5FIC618A Augusta",
          "OXO-5LI651E Augusta",
          "OXO-5LI651F Augusta",
          "OXO-5LI653F Augusta",
          "OXO-5TIC602 Augusta",
          "OXO-5FIC636A Augusta",
          "OXO-5RIC606_Y Augusta",
          "OXO-5FIC602 Augusta",
          "OXO-5FIC611A Augusta",
          "OXO-5LI657E Augusta",
          "OXO-5LI657F Augusta",
          "OXO-5FIC606C Augusta",
          "OXO-5TIC606 Augusta",
          "OXO-5FIC600 Augusta",
          "OXO-_5FI660A Augusta",
          "OXO-5FIC622B Augusta",
          "OXO-_5FI662A Augusta",
          "OXO-5LI656F Augusta",
          "OXO-5LI658F Augusta",
          "OXO-5FIC612B Augusta",
          "OXO-5FQI691B Augusta",
          "OXO-_5FI659A Augusta",
          "OXO-5FI661A Augusta",
          "OXO-5FIC618C Augusta",
          "OXO-5LI655F Augusta",
          "OXO-_5FI658A Augusta",
          "OXO-5FIC609B Augusta",
          "OXO-5FIC618B Augusta",
          "OXO-5FIC622C Augusta",
          "OXO-5LI658E Augusta",
          "OXO-5TIC607 Augusta",
          "OXO-5LI652E Augusta",
          "OXO-5LI654E Augusta",
          "OXO-5FIC612A Augusta",
          "OXO-5FIC618D Augusta",
          "OXO-5FI635C Augusta",
          "OXO-5TIC603 Augusta",
          "OXO-5FIC636C Augusta",
          "OXO-5TIC659 Augusta",
          "OXO-5PIC605A Augusta",
          "OXO-5TIC002 Augusta",
          "OXO-5FI696 Augusta",
          "OXO-5LI652F Augusta",
          "OXO-5FIC609A Augusta",
          "OXO-5FIC607 Augusta",
          "OXO-5FIC603 Augusta"
         ],
         "xaxis": "x",
         "y": [
          4.978142292555686,
          3.1908334773946936,
          1.4386053664334244,
          1.269480350995208,
          1.2686795639363717,
          1.0566751081644978,
          1.041393196339569,
          1.007558436908576,
          0.9658180039977758,
          0.9408212081174306,
          0.9360034478641931,
          0.9270026346783812,
          0.8959253400044184,
          0.8864330881137497,
          0.845440714269051,
          0.7680034746581285,
          0.7138080960831327,
          0.7130290435034178,
          0.7068161672176313,
          0.6922449934615834,
          0.6893594023547607,
          0.6844533704265958,
          0.6743102056875282,
          0.6303866772536377,
          0.6105084499192202,
          0.6051431244477594,
          0.5940399180355298,
          0.5898209716019743,
          0.5891726438275409,
          0.5848277835608314,
          0.5799869987023335,
          0.5751078994958442,
          0.5706943096594345,
          0.5550669474240341,
          0.5239611025850316,
          0.5027496505573354,
          0.47699444528034174,
          0.4626223812532781,
          0.4144422824910002,
          0.4051508943749386,
          0.398693122403674,
          0.3496290854512582,
          0.3205157266894338,
          0.3144043862878693,
          0.29929679594552605,
          0.2786046483004993,
          0.27806735894454215,
          0.24788977681727992,
          0.2008704189939281,
          0.17674504074002226,
          0.13689826266210822,
          0.05662493102436036,
          0,
          0,
          0,
          0
         ],
         "yaxis": "y"
        }
       ],
       "layout": {
        "barmode": "relative",
        "legend": {
         "tracegroupgap": 0
        },
        "template": {
         "data": {
          "bar": [
           {
            "error_x": {
             "color": "#2a3f5f"
            },
            "error_y": {
             "color": "#2a3f5f"
            },
            "marker": {
             "line": {
              "color": "#E5ECF6",
              "width": 0.5
             },
             "pattern": {
              "fillmode": "overlay",
              "size": 10,
              "solidity": 0.2
             }
            },
            "type": "bar"
           }
          ],
          "barpolar": [
           {
            "marker": {
             "line": {
              "color": "#E5ECF6",
              "width": 0.5
             },
             "pattern": {
              "fillmode": "overlay",
              "size": 10,
              "solidity": 0.2
             }
            },
            "type": "barpolar"
           }
          ],
          "carpet": [
           {
            "aaxis": {
             "endlinecolor": "#2a3f5f",
             "gridcolor": "white",
             "linecolor": "white",
             "minorgridcolor": "white",
             "startlinecolor": "#2a3f5f"
            },
            "baxis": {
             "endlinecolor": "#2a3f5f",
             "gridcolor": "white",
             "linecolor": "white",
             "minorgridcolor": "white",
             "startlinecolor": "#2a3f5f"
            },
            "type": "carpet"
           }
          ],
          "choropleth": [
           {
            "colorbar": {
             "outlinewidth": 0,
             "ticks": ""
            },
            "type": "choropleth"
           }
          ],
          "contour": [
           {
            "colorbar": {
             "outlinewidth": 0,
             "ticks": ""
            },
            "colorscale": [
             [
              0,
              "#0d0887"
             ],
             [
              0.1111111111111111,
              "#46039f"
             ],
             [
              0.2222222222222222,
              "#7201a8"
             ],
             [
              0.3333333333333333,
              "#9c179e"
             ],
             [
              0.4444444444444444,
              "#bd3786"
             ],
             [
              0.5555555555555556,
              "#d8576b"
             ],
             [
              0.6666666666666666,
              "#ed7953"
             ],
             [
              0.7777777777777778,
              "#fb9f3a"
             ],
             [
              0.8888888888888888,
              "#fdca26"
             ],
             [
              1,
              "#f0f921"
             ]
            ],
            "type": "contour"
           }
          ],
          "contourcarpet": [
           {
            "colorbar": {
             "outlinewidth": 0,
             "ticks": ""
            },
            "type": "contourcarpet"
           }
          ],
          "heatmap": [
           {
            "colorbar": {
             "outlinewidth": 0,
             "ticks": ""
            },
            "colorscale": [
             [
              0,
              "#0d0887"
             ],
             [
              0.1111111111111111,
              "#46039f"
             ],
             [
              0.2222222222222222,
              "#7201a8"
             ],
             [
              0.3333333333333333,
              "#9c179e"
             ],
             [
              0.4444444444444444,
              "#bd3786"
             ],
             [
              0.5555555555555556,
              "#d8576b"
             ],
             [
              0.6666666666666666,
              "#ed7953"
             ],
             [
              0.7777777777777778,
              "#fb9f3a"
             ],
             [
              0.8888888888888888,
              "#fdca26"
             ],
             [
              1,
              "#f0f921"
             ]
            ],
            "type": "heatmap"
           }
          ],
          "heatmapgl": [
           {
            "colorbar": {
             "outlinewidth": 0,
             "ticks": ""
            },
            "colorscale": [
             [
              0,
              "#0d0887"
             ],
             [
              0.1111111111111111,
              "#46039f"
             ],
             [
              0.2222222222222222,
              "#7201a8"
             ],
             [
              0.3333333333333333,
              "#9c179e"
             ],
             [
              0.4444444444444444,
              "#bd3786"
             ],
             [
              0.5555555555555556,
              "#d8576b"
             ],
             [
              0.6666666666666666,
              "#ed7953"
             ],
             [
              0.7777777777777778,
              "#fb9f3a"
             ],
             [
              0.8888888888888888,
              "#fdca26"
             ],
             [
              1,
              "#f0f921"
             ]
            ],
            "type": "heatmapgl"
           }
          ],
          "histogram": [
           {
            "marker": {
             "pattern": {
              "fillmode": "overlay",
              "size": 10,
              "solidity": 0.2
             }
            },
            "type": "histogram"
           }
          ],
          "histogram2d": [
           {
            "colorbar": {
             "outlinewidth": 0,
             "ticks": ""
            },
            "colorscale": [
             [
              0,
              "#0d0887"
             ],
             [
              0.1111111111111111,
              "#46039f"
             ],
             [
              0.2222222222222222,
              "#7201a8"
             ],
             [
              0.3333333333333333,
              "#9c179e"
             ],
             [
              0.4444444444444444,
              "#bd3786"
             ],
             [
              0.5555555555555556,
              "#d8576b"
             ],
             [
              0.6666666666666666,
              "#ed7953"
             ],
             [
              0.7777777777777778,
              "#fb9f3a"
             ],
             [
              0.8888888888888888,
              "#fdca26"
             ],
             [
              1,
              "#f0f921"
             ]
            ],
            "type": "histogram2d"
           }
          ],
          "histogram2dcontour": [
           {
            "colorbar": {
             "outlinewidth": 0,
             "ticks": ""
            },
            "colorscale": [
             [
              0,
              "#0d0887"
             ],
             [
              0.1111111111111111,
              "#46039f"
             ],
             [
              0.2222222222222222,
              "#7201a8"
             ],
             [
              0.3333333333333333,
              "#9c179e"
             ],
             [
              0.4444444444444444,
              "#bd3786"
             ],
             [
              0.5555555555555556,
              "#d8576b"
             ],
             [
              0.6666666666666666,
              "#ed7953"
             ],
             [
              0.7777777777777778,
              "#fb9f3a"
             ],
             [
              0.8888888888888888,
              "#fdca26"
             ],
             [
              1,
              "#f0f921"
             ]
            ],
            "type": "histogram2dcontour"
           }
          ],
          "mesh3d": [
           {
            "colorbar": {
             "outlinewidth": 0,
             "ticks": ""
            },
            "type": "mesh3d"
           }
          ],
          "parcoords": [
           {
            "line": {
             "colorbar": {
              "outlinewidth": 0,
              "ticks": ""
             }
            },
            "type": "parcoords"
           }
          ],
          "pie": [
           {
            "automargin": true,
            "type": "pie"
           }
          ],
          "scatter": [
           {
            "fillpattern": {
             "fillmode": "overlay",
             "size": 10,
             "solidity": 0.2
            },
            "type": "scatter"
           }
          ],
          "scatter3d": [
           {
            "line": {
             "colorbar": {
              "outlinewidth": 0,
              "ticks": ""
             }
            },
            "marker": {
             "colorbar": {
              "outlinewidth": 0,
              "ticks": ""
             }
            },
            "type": "scatter3d"
           }
          ],
          "scattercarpet": [
           {
            "marker": {
             "colorbar": {
              "outlinewidth": 0,
              "ticks": ""
             }
            },
            "type": "scattercarpet"
           }
          ],
          "scattergeo": [
           {
            "marker": {
             "colorbar": {
              "outlinewidth": 0,
              "ticks": ""
             }
            },
            "type": "scattergeo"
           }
          ],
          "scattergl": [
           {
            "marker": {
             "colorbar": {
              "outlinewidth": 0,
              "ticks": ""
             }
            },
            "type": "scattergl"
           }
          ],
          "scattermapbox": [
           {
            "marker": {
             "colorbar": {
              "outlinewidth": 0,
              "ticks": ""
             }
            },
            "type": "scattermapbox"
           }
          ],
          "scatterpolar": [
           {
            "marker": {
             "colorbar": {
              "outlinewidth": 0,
              "ticks": ""
             }
            },
            "type": "scatterpolar"
           }
          ],
          "scatterpolargl": [
           {
            "marker": {
             "colorbar": {
              "outlinewidth": 0,
              "ticks": ""
             }
            },
            "type": "scatterpolargl"
           }
          ],
          "scatterternary": [
           {
            "marker": {
             "colorbar": {
              "outlinewidth": 0,
              "ticks": ""
             }
            },
            "type": "scatterternary"
           }
          ],
          "surface": [
           {
            "colorbar": {
             "outlinewidth": 0,
             "ticks": ""
            },
            "colorscale": [
             [
              0,
              "#0d0887"
             ],
             [
              0.1111111111111111,
              "#46039f"
             ],
             [
              0.2222222222222222,
              "#7201a8"
             ],
             [
              0.3333333333333333,
              "#9c179e"
             ],
             [
              0.4444444444444444,
              "#bd3786"
             ],
             [
              0.5555555555555556,
              "#d8576b"
             ],
             [
              0.6666666666666666,
              "#ed7953"
             ],
             [
              0.7777777777777778,
              "#fb9f3a"
             ],
             [
              0.8888888888888888,
              "#fdca26"
             ],
             [
              1,
              "#f0f921"
             ]
            ],
            "type": "surface"
           }
          ],
          "table": [
           {
            "cells": {
             "fill": {
              "color": "#EBF0F8"
             },
             "line": {
              "color": "white"
             }
            },
            "header": {
             "fill": {
              "color": "#C8D4E3"
             },
             "line": {
              "color": "white"
             }
            },
            "type": "table"
           }
          ]
         },
         "layout": {
          "annotationdefaults": {
           "arrowcolor": "#2a3f5f",
           "arrowhead": 0,
           "arrowwidth": 1
          },
          "autotypenumbers": "strict",
          "coloraxis": {
           "colorbar": {
            "outlinewidth": 0,
            "ticks": ""
           }
          },
          "colorscale": {
           "diverging": [
            [
             0,
             "#8e0152"
            ],
            [
             0.1,
             "#c51b7d"
            ],
            [
             0.2,
             "#de77ae"
            ],
            [
             0.3,
             "#f1b6da"
            ],
            [
             0.4,
             "#fde0ef"
            ],
            [
             0.5,
             "#f7f7f7"
            ],
            [
             0.6,
             "#e6f5d0"
            ],
            [
             0.7,
             "#b8e186"
            ],
            [
             0.8,
             "#7fbc41"
            ],
            [
             0.9,
             "#4d9221"
            ],
            [
             1,
             "#276419"
            ]
           ],
           "sequential": [
            [
             0,
             "#0d0887"
            ],
            [
             0.1111111111111111,
             "#46039f"
            ],
            [
             0.2222222222222222,
             "#7201a8"
            ],
            [
             0.3333333333333333,
             "#9c179e"
            ],
            [
             0.4444444444444444,
             "#bd3786"
            ],
            [
             0.5555555555555556,
             "#d8576b"
            ],
            [
             0.6666666666666666,
             "#ed7953"
            ],
            [
             0.7777777777777778,
             "#fb9f3a"
            ],
            [
             0.8888888888888888,
             "#fdca26"
            ],
            [
             1,
             "#f0f921"
            ]
           ],
           "sequentialminus": [
            [
             0,
             "#0d0887"
            ],
            [
             0.1111111111111111,
             "#46039f"
            ],
            [
             0.2222222222222222,
             "#7201a8"
            ],
            [
             0.3333333333333333,
             "#9c179e"
            ],
            [
             0.4444444444444444,
             "#bd3786"
            ],
            [
             0.5555555555555556,
             "#d8576b"
            ],
            [
             0.6666666666666666,
             "#ed7953"
            ],
            [
             0.7777777777777778,
             "#fb9f3a"
            ],
            [
             0.8888888888888888,
             "#fdca26"
            ],
            [
             1,
             "#f0f921"
            ]
           ]
          },
          "colorway": [
           "#636efa",
           "#EF553B",
           "#00cc96",
           "#ab63fa",
           "#FFA15A",
           "#19d3f3",
           "#FF6692",
           "#B6E880",
           "#FF97FF",
           "#FECB52"
          ],
          "font": {
           "color": "#2a3f5f"
          },
          "geo": {
           "bgcolor": "white",
           "lakecolor": "white",
           "landcolor": "#E5ECF6",
           "showlakes": true,
           "showland": true,
           "subunitcolor": "white"
          },
          "hoverlabel": {
           "align": "left"
          },
          "hovermode": "closest",
          "mapbox": {
           "style": "light"
          },
          "paper_bgcolor": "white",
          "plot_bgcolor": "#E5ECF6",
          "polar": {
           "angularaxis": {
            "gridcolor": "white",
            "linecolor": "white",
            "ticks": ""
           },
           "bgcolor": "#E5ECF6",
           "radialaxis": {
            "gridcolor": "white",
            "linecolor": "white",
            "ticks": ""
           }
          },
          "scene": {
           "xaxis": {
            "backgroundcolor": "#E5ECF6",
            "gridcolor": "white",
            "gridwidth": 2,
            "linecolor": "white",
            "showbackground": true,
            "ticks": "",
            "zerolinecolor": "white"
           },
           "yaxis": {
            "backgroundcolor": "#E5ECF6",
            "gridcolor": "white",
            "gridwidth": 2,
            "linecolor": "white",
            "showbackground": true,
            "ticks": "",
            "zerolinecolor": "white"
           },
           "zaxis": {
            "backgroundcolor": "#E5ECF6",
            "gridcolor": "white",
            "gridwidth": 2,
            "linecolor": "white",
            "showbackground": true,
            "ticks": "",
            "zerolinecolor": "white"
           }
          },
          "shapedefaults": {
           "line": {
            "color": "#2a3f5f"
           }
          },
          "ternary": {
           "aaxis": {
            "gridcolor": "white",
            "linecolor": "white",
            "ticks": ""
           },
           "baxis": {
            "gridcolor": "white",
            "linecolor": "white",
            "ticks": ""
           },
           "bgcolor": "#E5ECF6",
           "caxis": {
            "gridcolor": "white",
            "linecolor": "white",
            "ticks": ""
           }
          },
          "title": {
           "x": 0.05
          },
          "xaxis": {
           "automargin": true,
           "gridcolor": "white",
           "linecolor": "white",
           "ticks": "",
           "title": {
            "standoff": 15
           },
           "zerolinecolor": "white",
           "zerolinewidth": 2
          },
          "yaxis": {
           "automargin": true,
           "gridcolor": "white",
           "linecolor": "white",
           "ticks": "",
           "title": {
            "standoff": 15
           },
           "zerolinecolor": "white",
           "zerolinewidth": 2
          }
         }
        },
        "title": {
         "text": "Norm STD of each column"
        },
        "xaxis": {
         "anchor": "y",
         "domain": [
          0,
          1
         ],
         "title": {
          "text": "Column Name"
         }
        },
        "yaxis": {
         "anchor": "x",
         "domain": [
          0,
          1
         ],
         "title": {
          "text": "Norm STD"
         }
        }
       }
      }
     },
     "metadata": {},
     "output_type": "display_data"
    },
    {
     "name": "stdout",
     "output_type": "stream",
     "text": [
      "Selecting Features...\n"
     ]
    },
    {
     "data": {
      "application/vnd.jupyter.widget-view+json": {
       "model_id": "34e6f8842bec411b990695e8ab11733a",
       "version_major": 2,
       "version_minor": 0
      },
      "text/plain": [
       "  0%|          | 0/20 [00:00<?, ?it/s]"
      ]
     },
     "metadata": {},
     "output_type": "display_data"
    },
    {
     "name": "stdout",
     "output_type": "stream",
     "text": [
      "9 attributes confirmed important: ['OXO-5FQI691B Augusta', 'OXO-5LI633B Augusta', 'OXO-5LI651F Augusta', 'OXO-5LI654E Augusta', 'OXO-5FIC636C Augusta', 'OXO-5FIC602 Augusta', 'OXO-5TIC603 Augusta', 'OXO-5FIC612B Augusta', 'OXO-5FIC618B Augusta']\n",
      "37 attributes confirmed unimportant: ['OXO-_5FI658A Augusta', 'OXO-5TIC602 Augusta', 'OXO-5LI650F Augusta', 'OXO-5FIC601 Augusta', 'OXO-5FIC622A Augusta', 'OXO-5RIC606_Y Augusta', 'OXO-5FIC622B Augusta', 'OXO-5FIC609A Augusta', 'OXO-5FIC622C Augusta', 'OXO-5TIC605 Augusta', 'OXO-5FIC612A Augusta', 'OXO-5FIC618C Augusta', 'OXO-5PIC605A Augusta', 'OXO-5LI657F Augusta', 'OXO-5TIC601 Augusta', 'OXO-5LI658F Augusta', 'OXO-_5FI659A Augusta', 'OXO-5LI651E Augusta', 'OXO-5FIC607 Augusta', 'OXO-5LI652F Augusta', 'OXO-5FIC636B Augusta', 'OXO-5LI658E Augusta', 'OXO-5FIC618D Augusta', 'OXO-5LI653E Augusta', 'OXO-5TIC604 Augusta', 'OXO-5TIC002 Augusta', 'OXO-5TIC606 Augusta', 'OXO-5FIC609B Augusta', 'OXO-_5FI660A Augusta', 'OXO-5FIC603 Augusta', 'OXO-5TIC607 Augusta', 'OXO-5FIC618A Augusta', 'OXO-_5FI662A Augusta', 'OXO-5LI652E Augusta', 'OXO-5FIC636A Augusta', 'OXO-5TIC659 Augusta', 'OXO-5LI653F Augusta']\n",
      "9 tentative attributes remains: ['OXO-5LI657E Augusta', 'OXO-5FI635C Augusta', 'OXO-5FIC611A Augusta', 'OXO-5FIC600 Augusta', 'OXO-5LI655F Augusta', 'OXO-5LI656F Augusta', 'OXO-5FIC132 Augusta', 'OXO-5FI661A Augusta', 'OXO-5FIC606C Augusta']\n",
      "Selected features are: ['OXO-5FIC602 Augusta', 'OXO-5FIC612B Augusta', 'OXO-5FIC618B Augusta', 'OXO-5FIC636C Augusta', 'OXO-5FQI691B Augusta', 'OXO-5LI633B Augusta', 'OXO-5LI651F Augusta', 'OXO-5LI654E Augusta', 'OXO-5TIC603 Augusta']\n",
      "selected features:  ['OXO-5FIC602 Augusta', 'OXO-5FIC612B Augusta', 'OXO-5FIC618B Augusta', 'OXO-5FIC636C Augusta', 'OXO-5FQI691B Augusta', 'OXO-5LI633B Augusta', 'OXO-5LI651F Augusta', 'OXO-5LI654E Augusta', 'OXO-5TIC603 Augusta']\n"
     ]
    }
   ],
   "source": [
    "dp_git =  dp_dev('./data/sasol_data_sample.csv','OXO-5FI696 Augusta')\n",
    "cleandf = dp_git.pipeline()"
   ]
  },
  {
   "cell_type": "code",
   "execution_count": null,
   "metadata": {},
   "outputs": [],
   "source": []
  }
 ],
 "metadata": {
  "kernelspec": {
   "display_name": "Python 3",
   "language": "python",
   "name": "python3"
  },
  "language_info": {
   "codemirror_mode": {
    "name": "ipython",
    "version": 3
   },
   "file_extension": ".py",
   "mimetype": "text/x-python",
   "name": "python",
   "nbconvert_exporter": "python",
   "pygments_lexer": "ipython3",
   "version": "3.9.17"
  },
  "orig_nbformat": 4
 },
 "nbformat": 4,
 "nbformat_minor": 2
}
