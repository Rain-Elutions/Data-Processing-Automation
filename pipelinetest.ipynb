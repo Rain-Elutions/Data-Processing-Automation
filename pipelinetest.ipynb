{
 "cells": [
  {
   "cell_type": "code",
   "execution_count": 1,
   "metadata": {},
   "outputs": [
    {
     "name": "stderr",
     "output_type": "stream",
     "text": [
      "c:\\Users\\krodriguez0109\\AppData\\Local\\anaconda3\\envs\\pytorch\\lib\\site-packages\\numpy\\_distributor_init.py:30: UserWarning: loaded more than 1 DLL from .libs:\n",
      "c:\\Users\\krodriguez0109\\AppData\\Local\\anaconda3\\envs\\pytorch\\lib\\site-packages\\numpy\\.libs\\libopenblas64__v0.3.21-gcc_10_3_0.dll\n",
      "c:\\Users\\krodriguez0109\\AppData\\Local\\anaconda3\\envs\\pytorch\\lib\\site-packages\\numpy\\.libs\\libopenblas64__v0.3.23-246-g3d31191b-gcc_10_3_0.dll\n",
      "  warnings.warn(\"loaded more than 1 DLL from .libs:\"\n"
     ]
    }
   ],
   "source": [
    "from pipeline import DataProcessing"
   ]
  },
  {
   "cell_type": "code",
   "execution_count": 2,
   "metadata": {},
   "outputs": [],
   "source": [
    "dp = DataProcessing('./data/pacol2_processed_data.csv','ALC-6LI-404 Augusta','ALC-6LI-404 Augusta','max')"
   ]
  },
  {
   "cell_type": "code",
   "execution_count": 3,
   "metadata": {},
   "outputs": [
    {
     "name": "stdout",
     "output_type": "stream",
     "text": [
      "Loading Data...\n",
      "Getting Size...\n",
      "Data size: (28940, 88)\n",
      "Summarizing Type...\n",
      "Data types summary:\n",
      " float64    88\n",
      "Name: count, dtype: int64\n",
      "Summarizing Missing Data...\n",
      "Missing data summary:\n",
      "ALC-6AIC-401A Augusta      3064\n",
      "ALC-6AIC-401B Augusta      2119\n",
      "ALC-6DTIC-473 Augusta     28902\n",
      "ALC-6FI-401_B Augusta       249\n",
      "ALC-6FI-407 Augusta        2854\n",
      "                          ...  \n",
      "ALC-6TIC-475 Augusta          1\n",
      "ALC-6TIC-477_Y Augusta        1\n",
      "ALC-6TIC-490 Augusta          1\n",
      "ALC-6dPI-401A Augusta         1\n",
      "ALC-6dPI-475 Augusta       1017\n",
      "Length: 80, dtype: int64\n"
     ]
    },
    {
     "data": {
      "application/vnd.plotly.v1+json": {
       "config": {
        "plotlyServerURL": "https://plot.ly"
       },
       "data": [
        {
         "type": "bar",
         "x": [
          "ALC-6AIC-401A Augusta",
          "ALC-6AIC-401B Augusta",
          "ALC-6DTIC-473 Augusta",
          "ALC-6FI-401_B Augusta",
          "ALC-6FI-407 Augusta",
          "ALC-6FI-411 Augusta",
          "ALC-6FI-413 Augusta",
          "ALC-6FI-446 Augusta",
          "ALC-6FI-474 Augusta",
          "ALC-6FI-475 Augusta",
          "ALC-6FI-476 Augusta",
          "ALC-6FI-491 Augusta",
          "ALC-6FIC-120_52 Augusta",
          "ALC-6FIC-1402 Augusta",
          "ALC-6FIC-1402_A Augusta",
          "ALC-6FIC-1403 Augusta",
          "ALC-6FIC-402 Augusta",
          "ALC-6FIC-403 Augusta",
          "ALC-6FIC-412 Augusta",
          "ALC-6FIC-460 Augusta",
          "ALC-6FIC-474_Y Augusta",
          "ALC-6FIC-478 Augusta",
          "ALC-6FIC-490 Augusta",
          "ALC-6LI-1401 Augusta",
          "ALC-6LI-404 Augusta",
          "ALC-6LIC-402_Y Augusta",
          "ALC-6LIC-405_Y Augusta",
          "ALC-6LIC-406 Augusta",
          "ALC-6LIC-471 Augusta",
          "ALC-6LIC-472 Augusta",
          "ALC-6PDI-1401 Augusta",
          "ALC-6PDI-1402 Augusta",
          "ALC-6PI-1402 Augusta",
          "ALC-6PI-1402_A Augusta",
          "ALC-6PI-1403_6 Augusta",
          "ALC-6PI-401B Augusta",
          "ALC-6PI-403 Augusta",
          "ALC-6PI-457 Augusta",
          "ALC-6PI-478 Augusta",
          "ALC-6PI-481 Augusta"
         ],
         "y": [
          3064,
          2119,
          28902,
          249,
          2854,
          2288,
          1938,
          48,
          267,
          68,
          1048,
          48,
          717,
          264,
          844,
          28894,
          253,
          1170,
          3799,
          610,
          261,
          48,
          2297,
          28784,
          54,
          0,
          1936,
          1722,
          442,
          674,
          28324,
          21547,
          59,
          48,
          48,
          48,
          480,
          63,
          1620,
          137
         ]
        }
       ],
       "layout": {
        "template": {
         "data": {
          "bar": [
           {
            "error_x": {
             "color": "#2a3f5f"
            },
            "error_y": {
             "color": "#2a3f5f"
            },
            "marker": {
             "line": {
              "color": "#E5ECF6",
              "width": 0.5
             },
             "pattern": {
              "fillmode": "overlay",
              "size": 10,
              "solidity": 0.2
             }
            },
            "type": "bar"
           }
          ],
          "barpolar": [
           {
            "marker": {
             "line": {
              "color": "#E5ECF6",
              "width": 0.5
             },
             "pattern": {
              "fillmode": "overlay",
              "size": 10,
              "solidity": 0.2
             }
            },
            "type": "barpolar"
           }
          ],
          "carpet": [
           {
            "aaxis": {
             "endlinecolor": "#2a3f5f",
             "gridcolor": "white",
             "linecolor": "white",
             "minorgridcolor": "white",
             "startlinecolor": "#2a3f5f"
            },
            "baxis": {
             "endlinecolor": "#2a3f5f",
             "gridcolor": "white",
             "linecolor": "white",
             "minorgridcolor": "white",
             "startlinecolor": "#2a3f5f"
            },
            "type": "carpet"
           }
          ],
          "choropleth": [
           {
            "colorbar": {
             "outlinewidth": 0,
             "ticks": ""
            },
            "type": "choropleth"
           }
          ],
          "contour": [
           {
            "colorbar": {
             "outlinewidth": 0,
             "ticks": ""
            },
            "colorscale": [
             [
              0,
              "#0d0887"
             ],
             [
              0.1111111111111111,
              "#46039f"
             ],
             [
              0.2222222222222222,
              "#7201a8"
             ],
             [
              0.3333333333333333,
              "#9c179e"
             ],
             [
              0.4444444444444444,
              "#bd3786"
             ],
             [
              0.5555555555555556,
              "#d8576b"
             ],
             [
              0.6666666666666666,
              "#ed7953"
             ],
             [
              0.7777777777777778,
              "#fb9f3a"
             ],
             [
              0.8888888888888888,
              "#fdca26"
             ],
             [
              1,
              "#f0f921"
             ]
            ],
            "type": "contour"
           }
          ],
          "contourcarpet": [
           {
            "colorbar": {
             "outlinewidth": 0,
             "ticks": ""
            },
            "type": "contourcarpet"
           }
          ],
          "heatmap": [
           {
            "colorbar": {
             "outlinewidth": 0,
             "ticks": ""
            },
            "colorscale": [
             [
              0,
              "#0d0887"
             ],
             [
              0.1111111111111111,
              "#46039f"
             ],
             [
              0.2222222222222222,
              "#7201a8"
             ],
             [
              0.3333333333333333,
              "#9c179e"
             ],
             [
              0.4444444444444444,
              "#bd3786"
             ],
             [
              0.5555555555555556,
              "#d8576b"
             ],
             [
              0.6666666666666666,
              "#ed7953"
             ],
             [
              0.7777777777777778,
              "#fb9f3a"
             ],
             [
              0.8888888888888888,
              "#fdca26"
             ],
             [
              1,
              "#f0f921"
             ]
            ],
            "type": "heatmap"
           }
          ],
          "heatmapgl": [
           {
            "colorbar": {
             "outlinewidth": 0,
             "ticks": ""
            },
            "colorscale": [
             [
              0,
              "#0d0887"
             ],
             [
              0.1111111111111111,
              "#46039f"
             ],
             [
              0.2222222222222222,
              "#7201a8"
             ],
             [
              0.3333333333333333,
              "#9c179e"
             ],
             [
              0.4444444444444444,
              "#bd3786"
             ],
             [
              0.5555555555555556,
              "#d8576b"
             ],
             [
              0.6666666666666666,
              "#ed7953"
             ],
             [
              0.7777777777777778,
              "#fb9f3a"
             ],
             [
              0.8888888888888888,
              "#fdca26"
             ],
             [
              1,
              "#f0f921"
             ]
            ],
            "type": "heatmapgl"
           }
          ],
          "histogram": [
           {
            "marker": {
             "pattern": {
              "fillmode": "overlay",
              "size": 10,
              "solidity": 0.2
             }
            },
            "type": "histogram"
           }
          ],
          "histogram2d": [
           {
            "colorbar": {
             "outlinewidth": 0,
             "ticks": ""
            },
            "colorscale": [
             [
              0,
              "#0d0887"
             ],
             [
              0.1111111111111111,
              "#46039f"
             ],
             [
              0.2222222222222222,
              "#7201a8"
             ],
             [
              0.3333333333333333,
              "#9c179e"
             ],
             [
              0.4444444444444444,
              "#bd3786"
             ],
             [
              0.5555555555555556,
              "#d8576b"
             ],
             [
              0.6666666666666666,
              "#ed7953"
             ],
             [
              0.7777777777777778,
              "#fb9f3a"
             ],
             [
              0.8888888888888888,
              "#fdca26"
             ],
             [
              1,
              "#f0f921"
             ]
            ],
            "type": "histogram2d"
           }
          ],
          "histogram2dcontour": [
           {
            "colorbar": {
             "outlinewidth": 0,
             "ticks": ""
            },
            "colorscale": [
             [
              0,
              "#0d0887"
             ],
             [
              0.1111111111111111,
              "#46039f"
             ],
             [
              0.2222222222222222,
              "#7201a8"
             ],
             [
              0.3333333333333333,
              "#9c179e"
             ],
             [
              0.4444444444444444,
              "#bd3786"
             ],
             [
              0.5555555555555556,
              "#d8576b"
             ],
             [
              0.6666666666666666,
              "#ed7953"
             ],
             [
              0.7777777777777778,
              "#fb9f3a"
             ],
             [
              0.8888888888888888,
              "#fdca26"
             ],
             [
              1,
              "#f0f921"
             ]
            ],
            "type": "histogram2dcontour"
           }
          ],
          "mesh3d": [
           {
            "colorbar": {
             "outlinewidth": 0,
             "ticks": ""
            },
            "type": "mesh3d"
           }
          ],
          "parcoords": [
           {
            "line": {
             "colorbar": {
              "outlinewidth": 0,
              "ticks": ""
             }
            },
            "type": "parcoords"
           }
          ],
          "pie": [
           {
            "automargin": true,
            "type": "pie"
           }
          ],
          "scatter": [
           {
            "fillpattern": {
             "fillmode": "overlay",
             "size": 10,
             "solidity": 0.2
            },
            "type": "scatter"
           }
          ],
          "scatter3d": [
           {
            "line": {
             "colorbar": {
              "outlinewidth": 0,
              "ticks": ""
             }
            },
            "marker": {
             "colorbar": {
              "outlinewidth": 0,
              "ticks": ""
             }
            },
            "type": "scatter3d"
           }
          ],
          "scattercarpet": [
           {
            "marker": {
             "colorbar": {
              "outlinewidth": 0,
              "ticks": ""
             }
            },
            "type": "scattercarpet"
           }
          ],
          "scattergeo": [
           {
            "marker": {
             "colorbar": {
              "outlinewidth": 0,
              "ticks": ""
             }
            },
            "type": "scattergeo"
           }
          ],
          "scattergl": [
           {
            "marker": {
             "colorbar": {
              "outlinewidth": 0,
              "ticks": ""
             }
            },
            "type": "scattergl"
           }
          ],
          "scattermapbox": [
           {
            "marker": {
             "colorbar": {
              "outlinewidth": 0,
              "ticks": ""
             }
            },
            "type": "scattermapbox"
           }
          ],
          "scatterpolar": [
           {
            "marker": {
             "colorbar": {
              "outlinewidth": 0,
              "ticks": ""
             }
            },
            "type": "scatterpolar"
           }
          ],
          "scatterpolargl": [
           {
            "marker": {
             "colorbar": {
              "outlinewidth": 0,
              "ticks": ""
             }
            },
            "type": "scatterpolargl"
           }
          ],
          "scatterternary": [
           {
            "marker": {
             "colorbar": {
              "outlinewidth": 0,
              "ticks": ""
             }
            },
            "type": "scatterternary"
           }
          ],
          "surface": [
           {
            "colorbar": {
             "outlinewidth": 0,
             "ticks": ""
            },
            "colorscale": [
             [
              0,
              "#0d0887"
             ],
             [
              0.1111111111111111,
              "#46039f"
             ],
             [
              0.2222222222222222,
              "#7201a8"
             ],
             [
              0.3333333333333333,
              "#9c179e"
             ],
             [
              0.4444444444444444,
              "#bd3786"
             ],
             [
              0.5555555555555556,
              "#d8576b"
             ],
             [
              0.6666666666666666,
              "#ed7953"
             ],
             [
              0.7777777777777778,
              "#fb9f3a"
             ],
             [
              0.8888888888888888,
              "#fdca26"
             ],
             [
              1,
              "#f0f921"
             ]
            ],
            "type": "surface"
           }
          ],
          "table": [
           {
            "cells": {
             "fill": {
              "color": "#EBF0F8"
             },
             "line": {
              "color": "white"
             }
            },
            "header": {
             "fill": {
              "color": "#C8D4E3"
             },
             "line": {
              "color": "white"
             }
            },
            "type": "table"
           }
          ]
         },
         "layout": {
          "annotationdefaults": {
           "arrowcolor": "#2a3f5f",
           "arrowhead": 0,
           "arrowwidth": 1
          },
          "autotypenumbers": "strict",
          "coloraxis": {
           "colorbar": {
            "outlinewidth": 0,
            "ticks": ""
           }
          },
          "colorscale": {
           "diverging": [
            [
             0,
             "#8e0152"
            ],
            [
             0.1,
             "#c51b7d"
            ],
            [
             0.2,
             "#de77ae"
            ],
            [
             0.3,
             "#f1b6da"
            ],
            [
             0.4,
             "#fde0ef"
            ],
            [
             0.5,
             "#f7f7f7"
            ],
            [
             0.6,
             "#e6f5d0"
            ],
            [
             0.7,
             "#b8e186"
            ],
            [
             0.8,
             "#7fbc41"
            ],
            [
             0.9,
             "#4d9221"
            ],
            [
             1,
             "#276419"
            ]
           ],
           "sequential": [
            [
             0,
             "#0d0887"
            ],
            [
             0.1111111111111111,
             "#46039f"
            ],
            [
             0.2222222222222222,
             "#7201a8"
            ],
            [
             0.3333333333333333,
             "#9c179e"
            ],
            [
             0.4444444444444444,
             "#bd3786"
            ],
            [
             0.5555555555555556,
             "#d8576b"
            ],
            [
             0.6666666666666666,
             "#ed7953"
            ],
            [
             0.7777777777777778,
             "#fb9f3a"
            ],
            [
             0.8888888888888888,
             "#fdca26"
            ],
            [
             1,
             "#f0f921"
            ]
           ],
           "sequentialminus": [
            [
             0,
             "#0d0887"
            ],
            [
             0.1111111111111111,
             "#46039f"
            ],
            [
             0.2222222222222222,
             "#7201a8"
            ],
            [
             0.3333333333333333,
             "#9c179e"
            ],
            [
             0.4444444444444444,
             "#bd3786"
            ],
            [
             0.5555555555555556,
             "#d8576b"
            ],
            [
             0.6666666666666666,
             "#ed7953"
            ],
            [
             0.7777777777777778,
             "#fb9f3a"
            ],
            [
             0.8888888888888888,
             "#fdca26"
            ],
            [
             1,
             "#f0f921"
            ]
           ]
          },
          "colorway": [
           "#636efa",
           "#EF553B",
           "#00cc96",
           "#ab63fa",
           "#FFA15A",
           "#19d3f3",
           "#FF6692",
           "#B6E880",
           "#FF97FF",
           "#FECB52"
          ],
          "font": {
           "color": "#2a3f5f"
          },
          "geo": {
           "bgcolor": "white",
           "lakecolor": "white",
           "landcolor": "#E5ECF6",
           "showlakes": true,
           "showland": true,
           "subunitcolor": "white"
          },
          "hoverlabel": {
           "align": "left"
          },
          "hovermode": "closest",
          "mapbox": {
           "style": "light"
          },
          "paper_bgcolor": "white",
          "plot_bgcolor": "#E5ECF6",
          "polar": {
           "angularaxis": {
            "gridcolor": "white",
            "linecolor": "white",
            "ticks": ""
           },
           "bgcolor": "#E5ECF6",
           "radialaxis": {
            "gridcolor": "white",
            "linecolor": "white",
            "ticks": ""
           }
          },
          "scene": {
           "xaxis": {
            "backgroundcolor": "#E5ECF6",
            "gridcolor": "white",
            "gridwidth": 2,
            "linecolor": "white",
            "showbackground": true,
            "ticks": "",
            "zerolinecolor": "white"
           },
           "yaxis": {
            "backgroundcolor": "#E5ECF6",
            "gridcolor": "white",
            "gridwidth": 2,
            "linecolor": "white",
            "showbackground": true,
            "ticks": "",
            "zerolinecolor": "white"
           },
           "zaxis": {
            "backgroundcolor": "#E5ECF6",
            "gridcolor": "white",
            "gridwidth": 2,
            "linecolor": "white",
            "showbackground": true,
            "ticks": "",
            "zerolinecolor": "white"
           }
          },
          "shapedefaults": {
           "line": {
            "color": "#2a3f5f"
           }
          },
          "ternary": {
           "aaxis": {
            "gridcolor": "white",
            "linecolor": "white",
            "ticks": ""
           },
           "baxis": {
            "gridcolor": "white",
            "linecolor": "white",
            "ticks": ""
           },
           "bgcolor": "#E5ECF6",
           "caxis": {
            "gridcolor": "white",
            "linecolor": "white",
            "ticks": ""
           }
          },
          "title": {
           "x": 0.05
          },
          "xaxis": {
           "automargin": true,
           "gridcolor": "white",
           "linecolor": "white",
           "ticks": "",
           "title": {
            "standoff": 15
           },
           "zerolinecolor": "white",
           "zerolinewidth": 2
          },
          "yaxis": {
           "automargin": true,
           "gridcolor": "white",
           "linecolor": "white",
           "ticks": "",
           "title": {
            "standoff": 15
           },
           "zerolinecolor": "white",
           "zerolinewidth": 2
          }
         }
        },
        "title": {
         "text": "Missing Data"
        },
        "xaxis": {
         "title": {
          "text": "Columns"
         }
        },
        "yaxis": {
         "rangemode": "tozero",
         "title": {
          "text": "Missing Count"
         }
        }
       }
      }
     },
     "metadata": {},
     "output_type": "display_data"
    },
    {
     "data": {
      "application/vnd.plotly.v1+json": {
       "config": {
        "plotlyServerURL": "https://plot.ly"
       },
       "data": [
        {
         "type": "bar",
         "x": [
          "ALC-6PIC-1401 Augusta",
          "ALC-6PIC-407 Augusta",
          "ALC-6PIC-408 Augusta",
          "ALC-6PIC-412 Augusta",
          "ALC-6RIC-HICC_Y Augusta",
          "ALC-6TI-1402 Augusta",
          "ALC-6TI-1402A Augusta",
          "ALC-6TI-1404 Augusta",
          "ALC-6TI-1407 Augusta",
          "ALC-6TI-1408 Augusta",
          "ALC-6TI-400_14 Augusta",
          "ALC-6TI-400_20 Augusta",
          "ALC-6TI-400_3A Augusta",
          "ALC-6TI-400_6 Augusta",
          "ALC-6TI-400_70 Augusta",
          "ALC-6TI-400_71 Augusta",
          "ALC-6TI-400_72 Augusta",
          "ALC-6TI-400_74 Augusta",
          "ALC-6TI-400_75 Augusta",
          "ALC-6TI-400_76 Augusta",
          "ALC-6TI-400_77 Augusta",
          "ALC-6TI-400_8 Augusta",
          "ALC-6TI-460 Augusta",
          "ALC-6TI-471 Augusta",
          "ALC-6TI-472 Augusta",
          "ALC-6TI-473 Augusta",
          "ALC-6TI-473_A Augusta",
          "ALC-6TI-476 Augusta",
          "ALC-6TI-478 Augusta",
          "ALC-6TI-480 Augusta",
          "ALC-6TI-481 Augusta",
          "ALC-6TI-482 Augusta",
          "ALC-6TI-483 Augusta",
          "ALC-6TI-491 Augusta",
          "ALC-6TI-492 Augusta",
          "ALC-6TI-493 Augusta",
          "ALC-6TI-494 Augusta",
          "ALC-6TIC-1403 Augusta",
          "ALC-6TIC-403 Augusta",
          "ALC-6TIC-413_Y Augusta"
         ],
         "y": [
          423,
          810,
          73,
          15,
          28909,
          0,
          48,
          48,
          48,
          48,
          48,
          48,
          627,
          319,
          0,
          0,
          0,
          0,
          607,
          0,
          0,
          49,
          2692,
          1,
          11958,
          1,
          3,
          46,
          1,
          1,
          1,
          1,
          1,
          1,
          1,
          1,
          1,
          1,
          2904,
          1
         ]
        }
       ],
       "layout": {
        "template": {
         "data": {
          "bar": [
           {
            "error_x": {
             "color": "#2a3f5f"
            },
            "error_y": {
             "color": "#2a3f5f"
            },
            "marker": {
             "line": {
              "color": "#E5ECF6",
              "width": 0.5
             },
             "pattern": {
              "fillmode": "overlay",
              "size": 10,
              "solidity": 0.2
             }
            },
            "type": "bar"
           }
          ],
          "barpolar": [
           {
            "marker": {
             "line": {
              "color": "#E5ECF6",
              "width": 0.5
             },
             "pattern": {
              "fillmode": "overlay",
              "size": 10,
              "solidity": 0.2
             }
            },
            "type": "barpolar"
           }
          ],
          "carpet": [
           {
            "aaxis": {
             "endlinecolor": "#2a3f5f",
             "gridcolor": "white",
             "linecolor": "white",
             "minorgridcolor": "white",
             "startlinecolor": "#2a3f5f"
            },
            "baxis": {
             "endlinecolor": "#2a3f5f",
             "gridcolor": "white",
             "linecolor": "white",
             "minorgridcolor": "white",
             "startlinecolor": "#2a3f5f"
            },
            "type": "carpet"
           }
          ],
          "choropleth": [
           {
            "colorbar": {
             "outlinewidth": 0,
             "ticks": ""
            },
            "type": "choropleth"
           }
          ],
          "contour": [
           {
            "colorbar": {
             "outlinewidth": 0,
             "ticks": ""
            },
            "colorscale": [
             [
              0,
              "#0d0887"
             ],
             [
              0.1111111111111111,
              "#46039f"
             ],
             [
              0.2222222222222222,
              "#7201a8"
             ],
             [
              0.3333333333333333,
              "#9c179e"
             ],
             [
              0.4444444444444444,
              "#bd3786"
             ],
             [
              0.5555555555555556,
              "#d8576b"
             ],
             [
              0.6666666666666666,
              "#ed7953"
             ],
             [
              0.7777777777777778,
              "#fb9f3a"
             ],
             [
              0.8888888888888888,
              "#fdca26"
             ],
             [
              1,
              "#f0f921"
             ]
            ],
            "type": "contour"
           }
          ],
          "contourcarpet": [
           {
            "colorbar": {
             "outlinewidth": 0,
             "ticks": ""
            },
            "type": "contourcarpet"
           }
          ],
          "heatmap": [
           {
            "colorbar": {
             "outlinewidth": 0,
             "ticks": ""
            },
            "colorscale": [
             [
              0,
              "#0d0887"
             ],
             [
              0.1111111111111111,
              "#46039f"
             ],
             [
              0.2222222222222222,
              "#7201a8"
             ],
             [
              0.3333333333333333,
              "#9c179e"
             ],
             [
              0.4444444444444444,
              "#bd3786"
             ],
             [
              0.5555555555555556,
              "#d8576b"
             ],
             [
              0.6666666666666666,
              "#ed7953"
             ],
             [
              0.7777777777777778,
              "#fb9f3a"
             ],
             [
              0.8888888888888888,
              "#fdca26"
             ],
             [
              1,
              "#f0f921"
             ]
            ],
            "type": "heatmap"
           }
          ],
          "heatmapgl": [
           {
            "colorbar": {
             "outlinewidth": 0,
             "ticks": ""
            },
            "colorscale": [
             [
              0,
              "#0d0887"
             ],
             [
              0.1111111111111111,
              "#46039f"
             ],
             [
              0.2222222222222222,
              "#7201a8"
             ],
             [
              0.3333333333333333,
              "#9c179e"
             ],
             [
              0.4444444444444444,
              "#bd3786"
             ],
             [
              0.5555555555555556,
              "#d8576b"
             ],
             [
              0.6666666666666666,
              "#ed7953"
             ],
             [
              0.7777777777777778,
              "#fb9f3a"
             ],
             [
              0.8888888888888888,
              "#fdca26"
             ],
             [
              1,
              "#f0f921"
             ]
            ],
            "type": "heatmapgl"
           }
          ],
          "histogram": [
           {
            "marker": {
             "pattern": {
              "fillmode": "overlay",
              "size": 10,
              "solidity": 0.2
             }
            },
            "type": "histogram"
           }
          ],
          "histogram2d": [
           {
            "colorbar": {
             "outlinewidth": 0,
             "ticks": ""
            },
            "colorscale": [
             [
              0,
              "#0d0887"
             ],
             [
              0.1111111111111111,
              "#46039f"
             ],
             [
              0.2222222222222222,
              "#7201a8"
             ],
             [
              0.3333333333333333,
              "#9c179e"
             ],
             [
              0.4444444444444444,
              "#bd3786"
             ],
             [
              0.5555555555555556,
              "#d8576b"
             ],
             [
              0.6666666666666666,
              "#ed7953"
             ],
             [
              0.7777777777777778,
              "#fb9f3a"
             ],
             [
              0.8888888888888888,
              "#fdca26"
             ],
             [
              1,
              "#f0f921"
             ]
            ],
            "type": "histogram2d"
           }
          ],
          "histogram2dcontour": [
           {
            "colorbar": {
             "outlinewidth": 0,
             "ticks": ""
            },
            "colorscale": [
             [
              0,
              "#0d0887"
             ],
             [
              0.1111111111111111,
              "#46039f"
             ],
             [
              0.2222222222222222,
              "#7201a8"
             ],
             [
              0.3333333333333333,
              "#9c179e"
             ],
             [
              0.4444444444444444,
              "#bd3786"
             ],
             [
              0.5555555555555556,
              "#d8576b"
             ],
             [
              0.6666666666666666,
              "#ed7953"
             ],
             [
              0.7777777777777778,
              "#fb9f3a"
             ],
             [
              0.8888888888888888,
              "#fdca26"
             ],
             [
              1,
              "#f0f921"
             ]
            ],
            "type": "histogram2dcontour"
           }
          ],
          "mesh3d": [
           {
            "colorbar": {
             "outlinewidth": 0,
             "ticks": ""
            },
            "type": "mesh3d"
           }
          ],
          "parcoords": [
           {
            "line": {
             "colorbar": {
              "outlinewidth": 0,
              "ticks": ""
             }
            },
            "type": "parcoords"
           }
          ],
          "pie": [
           {
            "automargin": true,
            "type": "pie"
           }
          ],
          "scatter": [
           {
            "fillpattern": {
             "fillmode": "overlay",
             "size": 10,
             "solidity": 0.2
            },
            "type": "scatter"
           }
          ],
          "scatter3d": [
           {
            "line": {
             "colorbar": {
              "outlinewidth": 0,
              "ticks": ""
             }
            },
            "marker": {
             "colorbar": {
              "outlinewidth": 0,
              "ticks": ""
             }
            },
            "type": "scatter3d"
           }
          ],
          "scattercarpet": [
           {
            "marker": {
             "colorbar": {
              "outlinewidth": 0,
              "ticks": ""
             }
            },
            "type": "scattercarpet"
           }
          ],
          "scattergeo": [
           {
            "marker": {
             "colorbar": {
              "outlinewidth": 0,
              "ticks": ""
             }
            },
            "type": "scattergeo"
           }
          ],
          "scattergl": [
           {
            "marker": {
             "colorbar": {
              "outlinewidth": 0,
              "ticks": ""
             }
            },
            "type": "scattergl"
           }
          ],
          "scattermapbox": [
           {
            "marker": {
             "colorbar": {
              "outlinewidth": 0,
              "ticks": ""
             }
            },
            "type": "scattermapbox"
           }
          ],
          "scatterpolar": [
           {
            "marker": {
             "colorbar": {
              "outlinewidth": 0,
              "ticks": ""
             }
            },
            "type": "scatterpolar"
           }
          ],
          "scatterpolargl": [
           {
            "marker": {
             "colorbar": {
              "outlinewidth": 0,
              "ticks": ""
             }
            },
            "type": "scatterpolargl"
           }
          ],
          "scatterternary": [
           {
            "marker": {
             "colorbar": {
              "outlinewidth": 0,
              "ticks": ""
             }
            },
            "type": "scatterternary"
           }
          ],
          "surface": [
           {
            "colorbar": {
             "outlinewidth": 0,
             "ticks": ""
            },
            "colorscale": [
             [
              0,
              "#0d0887"
             ],
             [
              0.1111111111111111,
              "#46039f"
             ],
             [
              0.2222222222222222,
              "#7201a8"
             ],
             [
              0.3333333333333333,
              "#9c179e"
             ],
             [
              0.4444444444444444,
              "#bd3786"
             ],
             [
              0.5555555555555556,
              "#d8576b"
             ],
             [
              0.6666666666666666,
              "#ed7953"
             ],
             [
              0.7777777777777778,
              "#fb9f3a"
             ],
             [
              0.8888888888888888,
              "#fdca26"
             ],
             [
              1,
              "#f0f921"
             ]
            ],
            "type": "surface"
           }
          ],
          "table": [
           {
            "cells": {
             "fill": {
              "color": "#EBF0F8"
             },
             "line": {
              "color": "white"
             }
            },
            "header": {
             "fill": {
              "color": "#C8D4E3"
             },
             "line": {
              "color": "white"
             }
            },
            "type": "table"
           }
          ]
         },
         "layout": {
          "annotationdefaults": {
           "arrowcolor": "#2a3f5f",
           "arrowhead": 0,
           "arrowwidth": 1
          },
          "autotypenumbers": "strict",
          "coloraxis": {
           "colorbar": {
            "outlinewidth": 0,
            "ticks": ""
           }
          },
          "colorscale": {
           "diverging": [
            [
             0,
             "#8e0152"
            ],
            [
             0.1,
             "#c51b7d"
            ],
            [
             0.2,
             "#de77ae"
            ],
            [
             0.3,
             "#f1b6da"
            ],
            [
             0.4,
             "#fde0ef"
            ],
            [
             0.5,
             "#f7f7f7"
            ],
            [
             0.6,
             "#e6f5d0"
            ],
            [
             0.7,
             "#b8e186"
            ],
            [
             0.8,
             "#7fbc41"
            ],
            [
             0.9,
             "#4d9221"
            ],
            [
             1,
             "#276419"
            ]
           ],
           "sequential": [
            [
             0,
             "#0d0887"
            ],
            [
             0.1111111111111111,
             "#46039f"
            ],
            [
             0.2222222222222222,
             "#7201a8"
            ],
            [
             0.3333333333333333,
             "#9c179e"
            ],
            [
             0.4444444444444444,
             "#bd3786"
            ],
            [
             0.5555555555555556,
             "#d8576b"
            ],
            [
             0.6666666666666666,
             "#ed7953"
            ],
            [
             0.7777777777777778,
             "#fb9f3a"
            ],
            [
             0.8888888888888888,
             "#fdca26"
            ],
            [
             1,
             "#f0f921"
            ]
           ],
           "sequentialminus": [
            [
             0,
             "#0d0887"
            ],
            [
             0.1111111111111111,
             "#46039f"
            ],
            [
             0.2222222222222222,
             "#7201a8"
            ],
            [
             0.3333333333333333,
             "#9c179e"
            ],
            [
             0.4444444444444444,
             "#bd3786"
            ],
            [
             0.5555555555555556,
             "#d8576b"
            ],
            [
             0.6666666666666666,
             "#ed7953"
            ],
            [
             0.7777777777777778,
             "#fb9f3a"
            ],
            [
             0.8888888888888888,
             "#fdca26"
            ],
            [
             1,
             "#f0f921"
            ]
           ]
          },
          "colorway": [
           "#636efa",
           "#EF553B",
           "#00cc96",
           "#ab63fa",
           "#FFA15A",
           "#19d3f3",
           "#FF6692",
           "#B6E880",
           "#FF97FF",
           "#FECB52"
          ],
          "font": {
           "color": "#2a3f5f"
          },
          "geo": {
           "bgcolor": "white",
           "lakecolor": "white",
           "landcolor": "#E5ECF6",
           "showlakes": true,
           "showland": true,
           "subunitcolor": "white"
          },
          "hoverlabel": {
           "align": "left"
          },
          "hovermode": "closest",
          "mapbox": {
           "style": "light"
          },
          "paper_bgcolor": "white",
          "plot_bgcolor": "#E5ECF6",
          "polar": {
           "angularaxis": {
            "gridcolor": "white",
            "linecolor": "white",
            "ticks": ""
           },
           "bgcolor": "#E5ECF6",
           "radialaxis": {
            "gridcolor": "white",
            "linecolor": "white",
            "ticks": ""
           }
          },
          "scene": {
           "xaxis": {
            "backgroundcolor": "#E5ECF6",
            "gridcolor": "white",
            "gridwidth": 2,
            "linecolor": "white",
            "showbackground": true,
            "ticks": "",
            "zerolinecolor": "white"
           },
           "yaxis": {
            "backgroundcolor": "#E5ECF6",
            "gridcolor": "white",
            "gridwidth": 2,
            "linecolor": "white",
            "showbackground": true,
            "ticks": "",
            "zerolinecolor": "white"
           },
           "zaxis": {
            "backgroundcolor": "#E5ECF6",
            "gridcolor": "white",
            "gridwidth": 2,
            "linecolor": "white",
            "showbackground": true,
            "ticks": "",
            "zerolinecolor": "white"
           }
          },
          "shapedefaults": {
           "line": {
            "color": "#2a3f5f"
           }
          },
          "ternary": {
           "aaxis": {
            "gridcolor": "white",
            "linecolor": "white",
            "ticks": ""
           },
           "baxis": {
            "gridcolor": "white",
            "linecolor": "white",
            "ticks": ""
           },
           "bgcolor": "#E5ECF6",
           "caxis": {
            "gridcolor": "white",
            "linecolor": "white",
            "ticks": ""
           }
          },
          "title": {
           "x": 0.05
          },
          "xaxis": {
           "automargin": true,
           "gridcolor": "white",
           "linecolor": "white",
           "ticks": "",
           "title": {
            "standoff": 15
           },
           "zerolinecolor": "white",
           "zerolinewidth": 2
          },
          "yaxis": {
           "automargin": true,
           "gridcolor": "white",
           "linecolor": "white",
           "ticks": "",
           "title": {
            "standoff": 15
           },
           "zerolinecolor": "white",
           "zerolinewidth": 2
          }
         }
        },
        "title": {
         "text": "Missing Data"
        },
        "xaxis": {
         "title": {
          "text": "Columns"
         }
        },
        "yaxis": {
         "rangemode": "tozero",
         "title": {
          "text": "Missing Count"
         }
        }
       }
      }
     },
     "metadata": {},
     "output_type": "display_data"
    },
    {
     "data": {
      "application/vnd.plotly.v1+json": {
       "config": {
        "plotlyServerURL": "https://plot.ly"
       },
       "data": [
        {
         "type": "bar",
         "x": [
          "ALC-6TIC-471 Augusta",
          "ALC-6TIC-472 Augusta",
          "ALC-6TIC-474 Augusta",
          "ALC-6TIC-475 Augusta",
          "ALC-6TIC-477_Y Augusta",
          "ALC-6TIC-490 Augusta",
          "ALC-6dPI-401A Augusta",
          "ALC-6dPI-475 Augusta"
         ],
         "y": [
          1,
          1,
          1,
          1,
          1,
          1,
          1,
          1017
         ]
        }
       ],
       "layout": {
        "template": {
         "data": {
          "bar": [
           {
            "error_x": {
             "color": "#2a3f5f"
            },
            "error_y": {
             "color": "#2a3f5f"
            },
            "marker": {
             "line": {
              "color": "#E5ECF6",
              "width": 0.5
             },
             "pattern": {
              "fillmode": "overlay",
              "size": 10,
              "solidity": 0.2
             }
            },
            "type": "bar"
           }
          ],
          "barpolar": [
           {
            "marker": {
             "line": {
              "color": "#E5ECF6",
              "width": 0.5
             },
             "pattern": {
              "fillmode": "overlay",
              "size": 10,
              "solidity": 0.2
             }
            },
            "type": "barpolar"
           }
          ],
          "carpet": [
           {
            "aaxis": {
             "endlinecolor": "#2a3f5f",
             "gridcolor": "white",
             "linecolor": "white",
             "minorgridcolor": "white",
             "startlinecolor": "#2a3f5f"
            },
            "baxis": {
             "endlinecolor": "#2a3f5f",
             "gridcolor": "white",
             "linecolor": "white",
             "minorgridcolor": "white",
             "startlinecolor": "#2a3f5f"
            },
            "type": "carpet"
           }
          ],
          "choropleth": [
           {
            "colorbar": {
             "outlinewidth": 0,
             "ticks": ""
            },
            "type": "choropleth"
           }
          ],
          "contour": [
           {
            "colorbar": {
             "outlinewidth": 0,
             "ticks": ""
            },
            "colorscale": [
             [
              0,
              "#0d0887"
             ],
             [
              0.1111111111111111,
              "#46039f"
             ],
             [
              0.2222222222222222,
              "#7201a8"
             ],
             [
              0.3333333333333333,
              "#9c179e"
             ],
             [
              0.4444444444444444,
              "#bd3786"
             ],
             [
              0.5555555555555556,
              "#d8576b"
             ],
             [
              0.6666666666666666,
              "#ed7953"
             ],
             [
              0.7777777777777778,
              "#fb9f3a"
             ],
             [
              0.8888888888888888,
              "#fdca26"
             ],
             [
              1,
              "#f0f921"
             ]
            ],
            "type": "contour"
           }
          ],
          "contourcarpet": [
           {
            "colorbar": {
             "outlinewidth": 0,
             "ticks": ""
            },
            "type": "contourcarpet"
           }
          ],
          "heatmap": [
           {
            "colorbar": {
             "outlinewidth": 0,
             "ticks": ""
            },
            "colorscale": [
             [
              0,
              "#0d0887"
             ],
             [
              0.1111111111111111,
              "#46039f"
             ],
             [
              0.2222222222222222,
              "#7201a8"
             ],
             [
              0.3333333333333333,
              "#9c179e"
             ],
             [
              0.4444444444444444,
              "#bd3786"
             ],
             [
              0.5555555555555556,
              "#d8576b"
             ],
             [
              0.6666666666666666,
              "#ed7953"
             ],
             [
              0.7777777777777778,
              "#fb9f3a"
             ],
             [
              0.8888888888888888,
              "#fdca26"
             ],
             [
              1,
              "#f0f921"
             ]
            ],
            "type": "heatmap"
           }
          ],
          "heatmapgl": [
           {
            "colorbar": {
             "outlinewidth": 0,
             "ticks": ""
            },
            "colorscale": [
             [
              0,
              "#0d0887"
             ],
             [
              0.1111111111111111,
              "#46039f"
             ],
             [
              0.2222222222222222,
              "#7201a8"
             ],
             [
              0.3333333333333333,
              "#9c179e"
             ],
             [
              0.4444444444444444,
              "#bd3786"
             ],
             [
              0.5555555555555556,
              "#d8576b"
             ],
             [
              0.6666666666666666,
              "#ed7953"
             ],
             [
              0.7777777777777778,
              "#fb9f3a"
             ],
             [
              0.8888888888888888,
              "#fdca26"
             ],
             [
              1,
              "#f0f921"
             ]
            ],
            "type": "heatmapgl"
           }
          ],
          "histogram": [
           {
            "marker": {
             "pattern": {
              "fillmode": "overlay",
              "size": 10,
              "solidity": 0.2
             }
            },
            "type": "histogram"
           }
          ],
          "histogram2d": [
           {
            "colorbar": {
             "outlinewidth": 0,
             "ticks": ""
            },
            "colorscale": [
             [
              0,
              "#0d0887"
             ],
             [
              0.1111111111111111,
              "#46039f"
             ],
             [
              0.2222222222222222,
              "#7201a8"
             ],
             [
              0.3333333333333333,
              "#9c179e"
             ],
             [
              0.4444444444444444,
              "#bd3786"
             ],
             [
              0.5555555555555556,
              "#d8576b"
             ],
             [
              0.6666666666666666,
              "#ed7953"
             ],
             [
              0.7777777777777778,
              "#fb9f3a"
             ],
             [
              0.8888888888888888,
              "#fdca26"
             ],
             [
              1,
              "#f0f921"
             ]
            ],
            "type": "histogram2d"
           }
          ],
          "histogram2dcontour": [
           {
            "colorbar": {
             "outlinewidth": 0,
             "ticks": ""
            },
            "colorscale": [
             [
              0,
              "#0d0887"
             ],
             [
              0.1111111111111111,
              "#46039f"
             ],
             [
              0.2222222222222222,
              "#7201a8"
             ],
             [
              0.3333333333333333,
              "#9c179e"
             ],
             [
              0.4444444444444444,
              "#bd3786"
             ],
             [
              0.5555555555555556,
              "#d8576b"
             ],
             [
              0.6666666666666666,
              "#ed7953"
             ],
             [
              0.7777777777777778,
              "#fb9f3a"
             ],
             [
              0.8888888888888888,
              "#fdca26"
             ],
             [
              1,
              "#f0f921"
             ]
            ],
            "type": "histogram2dcontour"
           }
          ],
          "mesh3d": [
           {
            "colorbar": {
             "outlinewidth": 0,
             "ticks": ""
            },
            "type": "mesh3d"
           }
          ],
          "parcoords": [
           {
            "line": {
             "colorbar": {
              "outlinewidth": 0,
              "ticks": ""
             }
            },
            "type": "parcoords"
           }
          ],
          "pie": [
           {
            "automargin": true,
            "type": "pie"
           }
          ],
          "scatter": [
           {
            "fillpattern": {
             "fillmode": "overlay",
             "size": 10,
             "solidity": 0.2
            },
            "type": "scatter"
           }
          ],
          "scatter3d": [
           {
            "line": {
             "colorbar": {
              "outlinewidth": 0,
              "ticks": ""
             }
            },
            "marker": {
             "colorbar": {
              "outlinewidth": 0,
              "ticks": ""
             }
            },
            "type": "scatter3d"
           }
          ],
          "scattercarpet": [
           {
            "marker": {
             "colorbar": {
              "outlinewidth": 0,
              "ticks": ""
             }
            },
            "type": "scattercarpet"
           }
          ],
          "scattergeo": [
           {
            "marker": {
             "colorbar": {
              "outlinewidth": 0,
              "ticks": ""
             }
            },
            "type": "scattergeo"
           }
          ],
          "scattergl": [
           {
            "marker": {
             "colorbar": {
              "outlinewidth": 0,
              "ticks": ""
             }
            },
            "type": "scattergl"
           }
          ],
          "scattermapbox": [
           {
            "marker": {
             "colorbar": {
              "outlinewidth": 0,
              "ticks": ""
             }
            },
            "type": "scattermapbox"
           }
          ],
          "scatterpolar": [
           {
            "marker": {
             "colorbar": {
              "outlinewidth": 0,
              "ticks": ""
             }
            },
            "type": "scatterpolar"
           }
          ],
          "scatterpolargl": [
           {
            "marker": {
             "colorbar": {
              "outlinewidth": 0,
              "ticks": ""
             }
            },
            "type": "scatterpolargl"
           }
          ],
          "scatterternary": [
           {
            "marker": {
             "colorbar": {
              "outlinewidth": 0,
              "ticks": ""
             }
            },
            "type": "scatterternary"
           }
          ],
          "surface": [
           {
            "colorbar": {
             "outlinewidth": 0,
             "ticks": ""
            },
            "colorscale": [
             [
              0,
              "#0d0887"
             ],
             [
              0.1111111111111111,
              "#46039f"
             ],
             [
              0.2222222222222222,
              "#7201a8"
             ],
             [
              0.3333333333333333,
              "#9c179e"
             ],
             [
              0.4444444444444444,
              "#bd3786"
             ],
             [
              0.5555555555555556,
              "#d8576b"
             ],
             [
              0.6666666666666666,
              "#ed7953"
             ],
             [
              0.7777777777777778,
              "#fb9f3a"
             ],
             [
              0.8888888888888888,
              "#fdca26"
             ],
             [
              1,
              "#f0f921"
             ]
            ],
            "type": "surface"
           }
          ],
          "table": [
           {
            "cells": {
             "fill": {
              "color": "#EBF0F8"
             },
             "line": {
              "color": "white"
             }
            },
            "header": {
             "fill": {
              "color": "#C8D4E3"
             },
             "line": {
              "color": "white"
             }
            },
            "type": "table"
           }
          ]
         },
         "layout": {
          "annotationdefaults": {
           "arrowcolor": "#2a3f5f",
           "arrowhead": 0,
           "arrowwidth": 1
          },
          "autotypenumbers": "strict",
          "coloraxis": {
           "colorbar": {
            "outlinewidth": 0,
            "ticks": ""
           }
          },
          "colorscale": {
           "diverging": [
            [
             0,
             "#8e0152"
            ],
            [
             0.1,
             "#c51b7d"
            ],
            [
             0.2,
             "#de77ae"
            ],
            [
             0.3,
             "#f1b6da"
            ],
            [
             0.4,
             "#fde0ef"
            ],
            [
             0.5,
             "#f7f7f7"
            ],
            [
             0.6,
             "#e6f5d0"
            ],
            [
             0.7,
             "#b8e186"
            ],
            [
             0.8,
             "#7fbc41"
            ],
            [
             0.9,
             "#4d9221"
            ],
            [
             1,
             "#276419"
            ]
           ],
           "sequential": [
            [
             0,
             "#0d0887"
            ],
            [
             0.1111111111111111,
             "#46039f"
            ],
            [
             0.2222222222222222,
             "#7201a8"
            ],
            [
             0.3333333333333333,
             "#9c179e"
            ],
            [
             0.4444444444444444,
             "#bd3786"
            ],
            [
             0.5555555555555556,
             "#d8576b"
            ],
            [
             0.6666666666666666,
             "#ed7953"
            ],
            [
             0.7777777777777778,
             "#fb9f3a"
            ],
            [
             0.8888888888888888,
             "#fdca26"
            ],
            [
             1,
             "#f0f921"
            ]
           ],
           "sequentialminus": [
            [
             0,
             "#0d0887"
            ],
            [
             0.1111111111111111,
             "#46039f"
            ],
            [
             0.2222222222222222,
             "#7201a8"
            ],
            [
             0.3333333333333333,
             "#9c179e"
            ],
            [
             0.4444444444444444,
             "#bd3786"
            ],
            [
             0.5555555555555556,
             "#d8576b"
            ],
            [
             0.6666666666666666,
             "#ed7953"
            ],
            [
             0.7777777777777778,
             "#fb9f3a"
            ],
            [
             0.8888888888888888,
             "#fdca26"
            ],
            [
             1,
             "#f0f921"
            ]
           ]
          },
          "colorway": [
           "#636efa",
           "#EF553B",
           "#00cc96",
           "#ab63fa",
           "#FFA15A",
           "#19d3f3",
           "#FF6692",
           "#B6E880",
           "#FF97FF",
           "#FECB52"
          ],
          "font": {
           "color": "#2a3f5f"
          },
          "geo": {
           "bgcolor": "white",
           "lakecolor": "white",
           "landcolor": "#E5ECF6",
           "showlakes": true,
           "showland": true,
           "subunitcolor": "white"
          },
          "hoverlabel": {
           "align": "left"
          },
          "hovermode": "closest",
          "mapbox": {
           "style": "light"
          },
          "paper_bgcolor": "white",
          "plot_bgcolor": "#E5ECF6",
          "polar": {
           "angularaxis": {
            "gridcolor": "white",
            "linecolor": "white",
            "ticks": ""
           },
           "bgcolor": "#E5ECF6",
           "radialaxis": {
            "gridcolor": "white",
            "linecolor": "white",
            "ticks": ""
           }
          },
          "scene": {
           "xaxis": {
            "backgroundcolor": "#E5ECF6",
            "gridcolor": "white",
            "gridwidth": 2,
            "linecolor": "white",
            "showbackground": true,
            "ticks": "",
            "zerolinecolor": "white"
           },
           "yaxis": {
            "backgroundcolor": "#E5ECF6",
            "gridcolor": "white",
            "gridwidth": 2,
            "linecolor": "white",
            "showbackground": true,
            "ticks": "",
            "zerolinecolor": "white"
           },
           "zaxis": {
            "backgroundcolor": "#E5ECF6",
            "gridcolor": "white",
            "gridwidth": 2,
            "linecolor": "white",
            "showbackground": true,
            "ticks": "",
            "zerolinecolor": "white"
           }
          },
          "shapedefaults": {
           "line": {
            "color": "#2a3f5f"
           }
          },
          "ternary": {
           "aaxis": {
            "gridcolor": "white",
            "linecolor": "white",
            "ticks": ""
           },
           "baxis": {
            "gridcolor": "white",
            "linecolor": "white",
            "ticks": ""
           },
           "bgcolor": "#E5ECF6",
           "caxis": {
            "gridcolor": "white",
            "linecolor": "white",
            "ticks": ""
           }
          },
          "title": {
           "x": 0.05
          },
          "xaxis": {
           "automargin": true,
           "gridcolor": "white",
           "linecolor": "white",
           "ticks": "",
           "title": {
            "standoff": 15
           },
           "zerolinecolor": "white",
           "zerolinewidth": 2
          },
          "yaxis": {
           "automargin": true,
           "gridcolor": "white",
           "linecolor": "white",
           "ticks": "",
           "title": {
            "standoff": 15
           },
           "zerolinecolor": "white",
           "zerolinewidth": 2
          }
         }
        },
        "title": {
         "text": "Missing Data"
        },
        "xaxis": {
         "title": {
          "text": "Columns"
         }
        },
        "yaxis": {
         "rangemode": "tozero",
         "title": {
          "text": "Missing Count"
         }
        }
       }
      }
     },
     "metadata": {},
     "output_type": "display_data"
    },
    {
     "name": "stdout",
     "output_type": "stream",
     "text": [
      "Removing Duplicates...\n",
      "Handling Missing Data...\n",
      "# rows dropped with missing values in the target variable: 54\n",
      "Dropped columns: ['ALC-6DTIC-473 Augusta', 'ALC-6FIC-1403 Augusta', 'ALC-6LI-1401 Augusta', 'ALC-6PDI-1401 Augusta', 'ALC-6PDI-1402 Augusta', 'ALC-6RIC-HICC_Y Augusta']\n",
      "Filled missing values using mean\n",
      "Missing data summary:\n",
      "Series([], dtype: int64)\n",
      "Encoding Features...\n",
      "Warning: No categorical columns found. Calling 'transform' will only return input data.\n",
      "Scaling Features...\n",
      "Analyzing Data...\n"
     ]
    },
    {
     "data": {
      "application/vnd.plotly.v1+json": {
       "config": {
        "plotlyServerURL": "https://plot.ly"
       },
       "data": [
        {
         "colorscale": [
          [
           0,
           "rgb(165,0,38)"
          ],
          [
           0.1,
           "rgb(215,48,39)"
          ],
          [
           0.2,
           "rgb(244,109,67)"
          ],
          [
           0.3,
           "rgb(253,174,97)"
          ],
          [
           0.4,
           "rgb(254,224,144)"
          ],
          [
           0.5,
           "rgb(255,255,191)"
          ],
          [
           0.6,
           "rgb(224,243,248)"
          ],
          [
           0.7,
           "rgb(171,217,233)"
          ],
          [
           0.8,
           "rgb(116,173,209)"
          ],
          [
           0.9,
           "rgb(69,117,180)"
          ],
          [
           1,
           "rgb(49,54,149)"
          ]
         ],
         "type": "heatmap",
         "x": [
          "ALC-6AIC-401A Augusta",
          "ALC-6AIC-401B Augusta",
          "ALC-6FI-401_B Augusta",
          "ALC-6FI-407 Augusta",
          "ALC-6FI-411 Augusta",
          "ALC-6FI-413 Augusta",
          "ALC-6FI-446 Augusta",
          "ALC-6FI-474 Augusta",
          "ALC-6FI-475 Augusta",
          "ALC-6FI-476 Augusta"
         ],
         "y": [
          "ALC-6AIC-401A Augusta",
          "ALC-6AIC-401B Augusta",
          "ALC-6FI-401_B Augusta",
          "ALC-6FI-407 Augusta",
          "ALC-6FI-411 Augusta",
          "ALC-6FI-413 Augusta",
          "ALC-6FI-446 Augusta",
          "ALC-6FI-474 Augusta",
          "ALC-6FI-475 Augusta",
          "ALC-6FI-476 Augusta"
         ],
         "z": [
          [
           1,
           -0.11644771115118938,
           -0.010582970294839454,
           -0.3991380613160156,
           -0.08390783818196366,
           0.009082046753075607,
           -0.12482666556156852,
           -0.11690516221504105,
           0.05042522615502393,
           -0.24555339793743863
          ],
          [
           -0.11644771115118938,
           1,
           -0.16727658163694117,
           -0.0727257344596805,
           -0.14798758988611,
           -0.1062328318192877,
           -0.21133094646904504,
           -0.2551432620252063,
           -0.10510247768697308,
           -0.21181440829448703
          ],
          [
           -0.010582970294839454,
           -0.16727658163694117,
           1,
           0.18827990275937453,
           0.1395882564186107,
           0.2824411635601667,
           0.8366495305450982,
           0.8018198605795815,
           0.44234565998435793,
           0.5843547450395384
          ],
          [
           -0.3991380613160156,
           -0.0727257344596805,
           0.18827990275937453,
           1,
           0.10995868670507572,
           0.049921139998305414,
           0.22766796323909275,
           0.23684395607958408,
           -0.12250713604168771,
           0.41550155353444634
          ],
          [
           -0.08390783818196366,
           -0.14798758988611,
           0.1395882564186107,
           0.10995868670507572,
           1,
           0.14415831754380154,
           0.004342403480691717,
           0.02816524518618398,
           -0.43241092516567015,
           0.41192019589347667
          ],
          [
           0.009082046753075607,
           -0.1062328318192877,
           0.2824411635601667,
           0.049921139998305414,
           0.14415831754380154,
           1,
           0.24133371378789806,
           0.17929615388179063,
           0.20379262633125791,
           0.03423944428001489
          ],
          [
           -0.12482666556156852,
           -0.21133094646904504,
           0.8366495305450982,
           0.22766796323909275,
           0.004342403480691717,
           0.24133371378789806,
           1,
           0.9575715558372603,
           0.5653593539665625,
           0.5969425332632784
          ],
          [
           -0.11690516221504105,
           -0.2551432620252063,
           0.8018198605795815,
           0.23684395607958408,
           0.02816524518618398,
           0.17929615388179063,
           0.9575715558372603,
           1,
           0.5167217593242938,
           0.6360691129304111
          ],
          [
           0.05042522615502393,
           -0.10510247768697308,
           0.44234565998435793,
           -0.12250713604168771,
           -0.43241092516567015,
           0.20379262633125791,
           0.5653593539665625,
           0.5167217593242938,
           1,
           -0.10418498780574043
          ],
          [
           -0.24555339793743863,
           -0.21181440829448703,
           0.5843547450395384,
           0.41550155353444634,
           0.41192019589347667,
           0.03423944428001489,
           0.5969425332632784,
           0.6360691129304111,
           -0.10418498780574043,
           1
          ],
          [
           -0.04941584861834787,
           0.1329698103552986,
           -0.18903502252610488,
           -0.20295339030653026,
           0.14788337415908948,
           0.09573409923438106,
           -0.2493437954590568,
           -0.2988248201416489,
           -0.08847441042986677,
           -0.23948942505835416
          ],
          [
           -0.17907244687409926,
           -0.22319517145713316,
           0.689007908541062,
           0.21783507577395933,
           0.1158787352011439,
           0.30152043087870634,
           0.7579909654208183,
           0.6946904798172042,
           0.3827828762115202,
           0.5393525926484007
          ],
          [
           0.2761715037864476,
           -0.07958433251211533,
           0.1269690240549547,
           -0.024535676815314843,
           0.0030217230497472866,
           0.13435131886999196,
           0.18231427415221818,
           0.17166629101047698,
           0.04480502761724147,
           0.09526867521804484
          ],
          [
           -0.20957624028639874,
           -0.0758696862759883,
           0.3781212531332248,
           0.06701065384632832,
           -0.13481948314125247,
           0.06976615003194947,
           0.37262136040710264,
           0.3499862833957709,
           0.3943445554386479,
           0.13968312513993564
          ],
          [
           -0.1459250907336687,
           -0.15767099883823749,
           0.8256820303615976,
           0.12555773832950703,
           0.03696571704900914,
           0.24463731356140173,
           0.9572306707895798,
           0.9066439927476174,
           0.5070347316515338,
           0.6255598222781972
          ],
          [
           -0.16214009943870084,
           -0.11992752576045848,
           0.6322987279268649,
           0.10143289424782762,
           -0.0634862599200353,
           0.2538239722821899,
           0.7571927041438955,
           0.6994574301034123,
           0.5175491580383904,
           0.3583813343847353
          ],
          [
           -0.09577167802293218,
           0.04832806083363272,
           0.0759060796424068,
           0.25731536248246767,
           0.006852446782570328,
           -0.013791265433834608,
           0.024229093793820593,
           0.014092270379347065,
           0.026220473685782484,
           0.07284168292856741
          ],
          [
           0.00868426743215689,
           -0.39323058305842684,
           0.6028086739210785,
           0.08866358956016822,
           0.031239950884126535,
           0.03360094792479435,
           0.6736639149955114,
           0.723290629805255,
           0.4187921605742816,
           0.42395882263562373
          ],
          [
           -0.11671802955778844,
           -0.2542048401138707,
           0.8033512391284713,
           0.23649522433379908,
           0.028159969806425916,
           0.1818605368740173,
           0.9588294209184486,
           0.9993331126554248,
           0.517586670663521,
           0.6352503383246252
          ],
          [
           0.00225698669914129,
           -0.34552688440936646,
           0.7365588122543708,
           0.05156751283268223,
           -0.03534460235970591,
           0.27882737772145116,
           0.7803951626743515,
           0.7437307577205211,
           0.6097840118543565,
           0.40069402370544294
          ],
          [
           -0.16027508203999677,
           -0.1711288363155227,
           0.09726740005581515,
           0.2655332036815929,
           0.4878405709059908,
           -0.07004713439464495,
           0.0188774594032708,
           0.05120796931482955,
           -0.44746390749888926,
           0.504589863191218
          ],
          [
           -0.0017576817178463458,
           -0.267608918017528,
           0.5283065962560629,
           0.09257412015858314,
           0.048136558472122434,
           0.04092812648369574,
           0.6017763297210377,
           0.6876329626746053,
           0.3402826547785968,
           0.41473448235945415
          ],
          [
           -0.14145982736138063,
           -0.03118866330561867,
           -0.006565814455550002,
           0.07715557667744449,
           0.064494460318932,
           0.00788087881008013,
           0.16299604915042923,
           0.16571179590275079,
           0.0588083222367409,
           0.06952574558124648
          ],
          [
           -0.0542796797209816,
           0.1826833376928107,
           0.3112139503656073,
           0.13892326784979742,
           -0.011460320735869146,
           -0.011119639510378983,
           0.3284646050100047,
           0.3314060615840629,
           0.22062276832527009,
           0.29883597296890135
          ],
          [
           -0.04849504707609212,
           0.00200855355054453,
           0.37069255158363434,
           0.04754514072003415,
           0.025704059114744018,
           -0.010488846106599153,
           0.3832790885381959,
           0.44730434391816326,
           0.20383815796864246,
           0.313909863864008
          ],
          [
           -0.06975338380911249,
           -0.06882568531659793,
           0.5062527859368524,
           0.22330196947776193,
           0.02011017857353157,
           0.16692053614981964,
           0.6351431405646332,
           0.6064673170838124,
           0.3956187788149721,
           0.33433017942204324
          ],
          [
           0.2691314173857279,
           0.007675523700379156,
           -0.0003779666807201356,
           0.0034219419815253622,
           -0.09544197147142797,
           0.16711826749041647,
           0.028214376052350165,
           -0.0305851067898269,
           -0.038861609208125224,
           -0.04674305881921843
          ],
          [
           -0.21726841433545474,
           -0.23877023157726004,
           0.6705360394909576,
           0.19685190522734708,
           0.0668881343459643,
           0.15609606703179846,
           0.7069795016952494,
           0.6872100500669945,
           0.4588037859266556,
           0.45642560297327595
          ],
          [
           0.1947431867639995,
           -0.3311784490097786,
           0.03621430090227565,
           -0.13814715231283944,
           0.0788551045214978,
           0.20483996151094094,
           -0.04095119671717503,
           -0.02937485177600959,
           -0.03174319792133086,
           -0.06469881260700876
          ],
          [
           -0.10323327110466465,
           -0.23374185953812635,
           0.8648895648190349,
           0.2536067545836754,
           0.08363334747882031,
           0.27996491116071487,
           0.9379552252178022,
           0.896213704791433,
           0.4961412489305194,
           0.6329401683514659
          ],
          [
           -0.0959064198570789,
           -0.3216676633023042,
           0.7774494257146258,
           0.2251193482268277,
           0.1514920121396657,
           0.15509870047979174,
           0.7733985751228216,
           0.7917948054523793,
           0.36547947849632845,
           0.6290320095359234
          ],
          [
           0.05398108984165925,
           -0.3350543637602363,
           0.053972597905367584,
           0.27317054858694506,
           0.19764178562754392,
           0.26618052900762085,
           0.12206585551820266,
           0.06475685179068995,
           -0.12273309763561069,
           0.1693000394840461
          ],
          [
           -0.04048704132819522,
           -0.07681371923148542,
           0.36222454725409114,
           0.005573575876398283,
           0.025162594060800195,
           0.07257649746397173,
           0.36771422104273727,
           0.39833233403593477,
           0.217958057409595,
           0.21786460465616833
          ],
          [
           -0.019702347930778474,
           -0.13856703334236367,
           0.4209909160212438,
           0.014787689814882687,
           0.10597189239595409,
           0.09726381241783859,
           0.45153071827672747,
           0.4772371763136354,
           0.22966504017833878,
           0.32407055164802206
          ],
          [
           0.021142023192538807,
           -0.31386183389171946,
           0.658320627000193,
           0.0027022249131411773,
           0.08088638069292622,
           0.14353328307132437,
           0.7079573669721361,
           0.764766429724543,
           0.43817040977142724,
           0.45123621955919396
          ],
          [
           0.042970788774405314,
           -0.10408944281601863,
           0.003077463268783455,
           -0.14057143484741788,
           0.019720800480201504,
           0.2630761112216999,
           0.004617380443858145,
           0.003032953936760651,
           -0.020893849090352308,
           -0.029064226892761464
          ],
          [
           -0.007262967329849776,
           -0.2351159414210499,
           0.8485655172634387,
           0.14084352941490716,
           0.03926283040841123,
           0.2558267887234548,
           0.8807701413416921,
           0.8378646731728266,
           0.537990902276333,
           0.4685729426542591
          ],
          [
           -0.003421330985148492,
           -0.08678642596491534,
           0.1689020127566773,
           0.042461211804192565,
           0.0035934729117722292,
           0.036904272899873934,
           0.20055042556414165,
           0.22370584501162072,
           0.12214849192474138,
           0.13039831076854894
          ],
          [
           0.15416784088345348,
           -0.7319369665405295,
           0.23911500807016184,
           -0.0761723615854543,
           0.14973778358053438,
           0.13374550287687673,
           0.16044947085548444,
           0.21271390725542483,
           0.10831423176769885,
           0.13867045874381778
          ],
          [
           0.20149853768218284,
           -0.7248874585937864,
           0.20368901863795674,
           -0.08630922863006721,
           0.1523516867064982,
           0.14322028385144725,
           0.12806713519372787,
           0.18191887610376545,
           0.07316112178461644,
           0.12098523195134397
          ],
          [
           0.03223375415332003,
           -0.2775019554910297,
           0.816318094232762,
           0.07810322866762119,
           -0.07475536313897024,
           0.26652514963938967,
           0.9184649231086798,
           0.88515888446951,
           0.7097557141570848,
           0.4106498084900852
          ],
          [
           0.04836498883993333,
           -0.275338274443952,
           0.7752189579960205,
           0.00949138311707932,
           -0.10499139565004474,
           0.24852214176457357,
           0.8627214500066078,
           0.8510654802939867,
           0.7209422158923465,
           0.3671357150446294
          ],
          [
           0.03703228883248574,
           -0.28030191892469225,
           0.8137475047261071,
           0.06313004215400216,
           -0.0741355538776694,
           0.2609950802668624,
           0.9181384673560138,
           0.8948743687333117,
           0.7082616041754443,
           0.4199553017736949
          ],
          [
           0.0798479433680681,
           -0.2501802488322151,
           0.7416538659389074,
           -0.014902676639547986,
           -0.2153806798798468,
           0.22906451261599728,
           0.8321982088466936,
           0.8085771018801435,
           0.7764970471093131,
           0.2521383369204682
          ],
          [
           0.17321187686869316,
           -0.7014931720475907,
           0.3510758857164348,
           -0.03586079133427038,
           0.20638859462661588,
           0.18727593644452528,
           0.2814944803523064,
           0.32822323958359245,
           0.14209313431141435,
           0.21592885895005587
          ],
          [
           -0.06474106285292623,
           -0.22888877545592598,
           0.8309583000772517,
           0.1841876853944353,
           0.03841353572037541,
           0.16565611676932104,
           0.8467269330024417,
           0.862792578163409,
           0.5120329817522212,
           0.5909258508777534
          ],
          [
           -0.02371766271535662,
           -0.3026081099163902,
           0.8530216003615996,
           0.17058437769826196,
           0.07989465882497471,
           0.18447377903905415,
           0.8803221522656088,
           0.8969482249565226,
           0.5181868928119562,
           0.6202866979746241
          ],
          [
           -0.02489169398436109,
           -0.2537830214269006,
           0.9045634822379668,
           0.16732805814763196,
           0.07974906451914641,
           0.28076584474940597,
           0.9345709340730453,
           0.900450812547641,
           0.546624542804201,
           0.602830556758738
          ],
          [
           -0.018793359672795357,
           -0.2513773161723048,
           0.9039206127061873,
           0.16850296814527396,
           0.07237042531676158,
           0.2819879774091656,
           0.9342552956702199,
           0.8999251668426533,
           0.546147298242601,
           0.5984203765788905
          ],
          [
           -0.01909563528864616,
           -0.25713569991482393,
           0.9052871882642628,
           0.1652876121740921,
           0.07619680338551076,
           0.28460759197061736,
           0.9346803310116514,
           0.9011049582289351,
           0.5430062269884834,
           0.6021910532419136
          ],
          [
           -0.031164512660805103,
           -0.25470667885561477,
           0.9031071813816163,
           0.16711327824806507,
           0.07967001050122623,
           0.28411967232404095,
           0.9345605098762235,
           0.9005836087961906,
           0.5485345097847634,
           0.600172277472235
          ],
          [
           0.018427909730594952,
           -0.2774415559769559,
           0.6312664446442132,
           0.025088580712702365,
           0.10483792450583937,
           0.19250694598985682,
           0.6457140342188469,
           0.6038707033053533,
           0.3537010316535056,
           0.45473802785969014
          ],
          [
           -0.01758385490816751,
           -0.2640296545749758,
           0.9066495419074114,
           0.1613084313489882,
           0.08180749226807728,
           0.28472605495934367,
           0.9339796105992344,
           0.9005928127975072,
           0.5459433139755624,
           0.6017441078248275
          ],
          [
           -0.03937828472718172,
           -0.26990934247689424,
           0.8990797826375028,
           0.1877632339866904,
           0.0947755133934365,
           0.27834016888436824,
           0.939591956649268,
           0.9054443676384626,
           0.5253890872291433,
           0.6250423842925649
          ],
          [
           0.017366023667319357,
           -0.25269708215336,
           0.8407703718789169,
           0.08833920353296354,
           -0.025989822508643335,
           0.18470650692171112,
           0.911797678300936,
           0.892836721237268,
           0.6097645418203039,
           0.5090041945952374
          ],
          [
           -0.24660557190555593,
           -0.06398189944017854,
           0.07057818639317444,
           0.340788305397531,
           0.171757620404428,
           0.10804939556636164,
           0.10107630402281065,
           0.09801039065699081,
           -0.09510068200714929,
           0.29687465586835854
          ],
          [
           -0.021048148701083676,
           -0.30680899427458663,
           0.8329575800323878,
           0.16129482786539984,
           0.05116767537544487,
           0.19721273759703392,
           0.9014214485002225,
           0.8790272030923025,
           0.5149881689975966,
           0.5646359579702467
          ],
          [
           -0.05951111489468757,
           -0.28836331155917855,
           0.6556568327096544,
           0.0955453356695734,
           0.1887415502833035,
           0.2569471507664591,
           0.596096961673142,
           0.5304506504725082,
           0.34043834701075015,
           0.4749501141041518
          ],
          [
           0.08272223110267465,
           -0.25249725926170125,
           0.7704840731199484,
           -0.0017495743399262428,
           -0.1791923119849709,
           0.2523892535174005,
           0.8547567489707255,
           0.8201541140950535,
           0.7808998246561636,
           0.2632440243089709
          ],
          [
           0.07917101656150698,
           -0.24766640533060663,
           0.7481296278511583,
           -0.018764649401224593,
           -0.20973945928091428,
           0.23050005596614714,
           0.8367622787776325,
           0.8131830128936434,
           0.7781769906626073,
           0.2508175222518599
          ],
          [
           0.04116418985723487,
           -0.6149099859359728,
           0.6220717244584977,
           0.12445682807652096,
           0.23544301867071635,
           0.23168340621974862,
           0.5527726228737354,
           0.5734557464636375,
           0.23432560489620993,
           0.5072904550319974
          ],
          [
           0.0020495286171603937,
           -0.2739354426846514,
           0.8546282940258636,
           0.12995611573045113,
           -0.008336296274147264,
           0.2016995995830707,
           0.9338227010815368,
           0.9197094513200955,
           0.5830740707941758,
           0.5301448131214147
          ],
          [
           -0.004554231226382026,
           -0.2953908418796574,
           0.834989052511886,
           0.13820929292519352,
           0.00542477864901869,
           0.20068923310912656,
           0.888912451278115,
           0.8622975258151055,
           0.5895955193161421,
           0.5412959818046345
          ],
          [
           0.0008703616912998534,
           -0.2941786135844407,
           0.8304936918120877,
           0.12518025597385635,
           -0.011449201588223953,
           0.1892452809926733,
           0.8943280245500427,
           0.8762317370540754,
           0.5990178338901279,
           0.5370786874608645
          ],
          [
           0.004048655771565637,
           -0.2986352826999491,
           0.8223708444965369,
           0.11280033309940582,
           -0.018546257724733197,
           0.16846730576690008,
           0.8863492649505271,
           0.8842076284766722,
           0.5959026137881223,
           0.5407076670049509
          ],
          [
           -0.014473267460510494,
           -0.3033488412717003,
           0.807897930896146,
           0.14579049621445045,
           0.015732050041865727,
           0.22428216209387708,
           0.8616118964934214,
           0.8304573651434546,
           0.576016568624005,
           0.5463357267632228
          ],
          [
           0.02343735325085596,
           -0.30487145628449724,
           0.8272260494345642,
           0.0858713651760961,
           -0.09200901814821505,
           0.27568596098025666,
           0.8916534150548521,
           0.8574613192810093,
           0.720994425285672,
           0.4180250311632927
          ],
          [
           -0.01728969489949755,
           -0.26709554717470424,
           0.9035933588242814,
           0.1513303073458719,
           0.07100179332968963,
           0.2755661537205946,
           0.9385620656551517,
           0.9081201750189014,
           0.5619446126953901,
           0.5877366183117696
          ],
          [
           0.0337741854437777,
           -0.5723329112901817,
           0.526825712287562,
           0.11839971398224482,
           0.2553435490937431,
           0.21597044925168118,
           0.4618248457456026,
           0.48204026999894667,
           0.16716137872725645,
           0.4859494537694264
          ],
          [
           0.022330113210375615,
           -0.43800485998670496,
           0.42671345915594827,
           0.07561314248538835,
           0.3895250725467411,
           0.1331009345324074,
           0.3355209213424903,
           0.35578752768806743,
           -0.04125280984015817,
           0.48497502705658424
          ],
          [
           0.03752322555199057,
           -0.281138843279119,
           0.8139902071406625,
           0.06348576930585742,
           -0.0737975816324768,
           0.2603688516870081,
           0.9182679506451208,
           0.8951613401633317,
           0.7075350718819391,
           0.420758188576927
          ],
          [
           -0.376384763602437,
           -0.0032026833972123325,
           0.10969945643442665,
           0.536435847174615,
           0.2690379133328878,
           0.08274732493392682,
           0.05663936792124044,
           0.06087756877767118,
           -0.23991468252798998,
           0.3658219549694529
          ],
          [
           0.08677143462767599,
           -0.2545289472851717,
           0.6858348405990252,
           -0.009005813534485919,
           -0.23087783794270858,
           0.18113870448503241,
           0.7805039949141324,
           0.7477549998818607,
           0.6999277759730215,
           0.22492987318838792
          ],
          [
           0.03852173884561187,
           -0.2685285433452916,
           0.8245769094502928,
           0.06651797170937063,
           -0.08906500030261433,
           0.2392514238227487,
           0.914539153992155,
           0.8873683007028534,
           0.7095838626404083,
           0.3983130725731623
          ],
          [
           -0.018285539189698788,
           -0.30099526362231743,
           0.8178111019670101,
           0.15043080928897073,
           0.02951117399640314,
           0.21082126170364343,
           0.8575170563328107,
           0.8267943575343356,
           0.5641496489839429,
           0.5386635370958482
          ],
          [
           0.007702167171440866,
           -0.3081638470745119,
           0.8627416492137248,
           0.13778822983473643,
           0.027326388268775103,
           0.21462008107747257,
           0.9389332481425787,
           0.917164309218031,
           0.5592373512884415,
           0.5565217250362824
          ],
          [
           -0.03268585085749559,
           -0.23383860116636626,
           0.8118591941657248,
           0.10333287177750633,
           0.03208420540648175,
           0.22739616402580276,
           0.864378106918552,
           0.8264501510741522,
           0.4966055427484499,
           0.5504865698829718
          ],
          [
           0.008866297710475481,
           -0.2688869265963068,
           0.8245020284608013,
           0.07494574513494955,
           -0.12194532696157932,
           0.2461620425376291,
           0.9160271566919438,
           0.8812891717595823,
           0.6970053758492322,
           0.40527523591210185
          ],
          [
           0.03912326815638001,
           -0.6069455398663103,
           0.6772041426356801,
           0.12625486170489644,
           0.1994245847738243,
           0.23295542510714032,
           0.6228462572290797,
           0.6419436518529656,
           0.30315643014267873,
           0.5028480343423047
          ],
          [
           -0.23082097712168148,
           -0.22672006796838118,
           0.6973608946195982,
           0.2515967188125579,
           0.12786972260092255,
           0.2529050478340371,
           0.8101625280990713,
           0.7615458739957358,
           0.37414960081871707,
           0.6394946443491308
          ],
          [
           -0.01667154958065481,
           0.13807980176936585,
           0.39299983486548856,
           0.22593858024086483,
           -0.2015539334908299,
           0.13930594255788153,
           0.40818385728546436,
           0.3699952949653973,
           0.3669702777504544,
           0.13665358249398027
          ],
          [
           -0.0032336543900973866,
           -0.12299738133811566,
           0.591114249553604,
           -0.040804887798550626,
           -0.022103802689650884,
           0.091429263526337,
           0.6494778628043503,
           0.6884968921322673,
           0.4223744140149906,
           0.38498596446134686
          ]
         ]
        }
       ],
       "layout": {
        "scene": {
         "aspectmode": "data"
        },
        "template": {
         "data": {
          "bar": [
           {
            "error_x": {
             "color": "#2a3f5f"
            },
            "error_y": {
             "color": "#2a3f5f"
            },
            "marker": {
             "line": {
              "color": "#E5ECF6",
              "width": 0.5
             },
             "pattern": {
              "fillmode": "overlay",
              "size": 10,
              "solidity": 0.2
             }
            },
            "type": "bar"
           }
          ],
          "barpolar": [
           {
            "marker": {
             "line": {
              "color": "#E5ECF6",
              "width": 0.5
             },
             "pattern": {
              "fillmode": "overlay",
              "size": 10,
              "solidity": 0.2
             }
            },
            "type": "barpolar"
           }
          ],
          "carpet": [
           {
            "aaxis": {
             "endlinecolor": "#2a3f5f",
             "gridcolor": "white",
             "linecolor": "white",
             "minorgridcolor": "white",
             "startlinecolor": "#2a3f5f"
            },
            "baxis": {
             "endlinecolor": "#2a3f5f",
             "gridcolor": "white",
             "linecolor": "white",
             "minorgridcolor": "white",
             "startlinecolor": "#2a3f5f"
            },
            "type": "carpet"
           }
          ],
          "choropleth": [
           {
            "colorbar": {
             "outlinewidth": 0,
             "ticks": ""
            },
            "type": "choropleth"
           }
          ],
          "contour": [
           {
            "colorbar": {
             "outlinewidth": 0,
             "ticks": ""
            },
            "colorscale": [
             [
              0,
              "#0d0887"
             ],
             [
              0.1111111111111111,
              "#46039f"
             ],
             [
              0.2222222222222222,
              "#7201a8"
             ],
             [
              0.3333333333333333,
              "#9c179e"
             ],
             [
              0.4444444444444444,
              "#bd3786"
             ],
             [
              0.5555555555555556,
              "#d8576b"
             ],
             [
              0.6666666666666666,
              "#ed7953"
             ],
             [
              0.7777777777777778,
              "#fb9f3a"
             ],
             [
              0.8888888888888888,
              "#fdca26"
             ],
             [
              1,
              "#f0f921"
             ]
            ],
            "type": "contour"
           }
          ],
          "contourcarpet": [
           {
            "colorbar": {
             "outlinewidth": 0,
             "ticks": ""
            },
            "type": "contourcarpet"
           }
          ],
          "heatmap": [
           {
            "colorbar": {
             "outlinewidth": 0,
             "ticks": ""
            },
            "colorscale": [
             [
              0,
              "#0d0887"
             ],
             [
              0.1111111111111111,
              "#46039f"
             ],
             [
              0.2222222222222222,
              "#7201a8"
             ],
             [
              0.3333333333333333,
              "#9c179e"
             ],
             [
              0.4444444444444444,
              "#bd3786"
             ],
             [
              0.5555555555555556,
              "#d8576b"
             ],
             [
              0.6666666666666666,
              "#ed7953"
             ],
             [
              0.7777777777777778,
              "#fb9f3a"
             ],
             [
              0.8888888888888888,
              "#fdca26"
             ],
             [
              1,
              "#f0f921"
             ]
            ],
            "type": "heatmap"
           }
          ],
          "heatmapgl": [
           {
            "colorbar": {
             "outlinewidth": 0,
             "ticks": ""
            },
            "colorscale": [
             [
              0,
              "#0d0887"
             ],
             [
              0.1111111111111111,
              "#46039f"
             ],
             [
              0.2222222222222222,
              "#7201a8"
             ],
             [
              0.3333333333333333,
              "#9c179e"
             ],
             [
              0.4444444444444444,
              "#bd3786"
             ],
             [
              0.5555555555555556,
              "#d8576b"
             ],
             [
              0.6666666666666666,
              "#ed7953"
             ],
             [
              0.7777777777777778,
              "#fb9f3a"
             ],
             [
              0.8888888888888888,
              "#fdca26"
             ],
             [
              1,
              "#f0f921"
             ]
            ],
            "type": "heatmapgl"
           }
          ],
          "histogram": [
           {
            "marker": {
             "pattern": {
              "fillmode": "overlay",
              "size": 10,
              "solidity": 0.2
             }
            },
            "type": "histogram"
           }
          ],
          "histogram2d": [
           {
            "colorbar": {
             "outlinewidth": 0,
             "ticks": ""
            },
            "colorscale": [
             [
              0,
              "#0d0887"
             ],
             [
              0.1111111111111111,
              "#46039f"
             ],
             [
              0.2222222222222222,
              "#7201a8"
             ],
             [
              0.3333333333333333,
              "#9c179e"
             ],
             [
              0.4444444444444444,
              "#bd3786"
             ],
             [
              0.5555555555555556,
              "#d8576b"
             ],
             [
              0.6666666666666666,
              "#ed7953"
             ],
             [
              0.7777777777777778,
              "#fb9f3a"
             ],
             [
              0.8888888888888888,
              "#fdca26"
             ],
             [
              1,
              "#f0f921"
             ]
            ],
            "type": "histogram2d"
           }
          ],
          "histogram2dcontour": [
           {
            "colorbar": {
             "outlinewidth": 0,
             "ticks": ""
            },
            "colorscale": [
             [
              0,
              "#0d0887"
             ],
             [
              0.1111111111111111,
              "#46039f"
             ],
             [
              0.2222222222222222,
              "#7201a8"
             ],
             [
              0.3333333333333333,
              "#9c179e"
             ],
             [
              0.4444444444444444,
              "#bd3786"
             ],
             [
              0.5555555555555556,
              "#d8576b"
             ],
             [
              0.6666666666666666,
              "#ed7953"
             ],
             [
              0.7777777777777778,
              "#fb9f3a"
             ],
             [
              0.8888888888888888,
              "#fdca26"
             ],
             [
              1,
              "#f0f921"
             ]
            ],
            "type": "histogram2dcontour"
           }
          ],
          "mesh3d": [
           {
            "colorbar": {
             "outlinewidth": 0,
             "ticks": ""
            },
            "type": "mesh3d"
           }
          ],
          "parcoords": [
           {
            "line": {
             "colorbar": {
              "outlinewidth": 0,
              "ticks": ""
             }
            },
            "type": "parcoords"
           }
          ],
          "pie": [
           {
            "automargin": true,
            "type": "pie"
           }
          ],
          "scatter": [
           {
            "fillpattern": {
             "fillmode": "overlay",
             "size": 10,
             "solidity": 0.2
            },
            "type": "scatter"
           }
          ],
          "scatter3d": [
           {
            "line": {
             "colorbar": {
              "outlinewidth": 0,
              "ticks": ""
             }
            },
            "marker": {
             "colorbar": {
              "outlinewidth": 0,
              "ticks": ""
             }
            },
            "type": "scatter3d"
           }
          ],
          "scattercarpet": [
           {
            "marker": {
             "colorbar": {
              "outlinewidth": 0,
              "ticks": ""
             }
            },
            "type": "scattercarpet"
           }
          ],
          "scattergeo": [
           {
            "marker": {
             "colorbar": {
              "outlinewidth": 0,
              "ticks": ""
             }
            },
            "type": "scattergeo"
           }
          ],
          "scattergl": [
           {
            "marker": {
             "colorbar": {
              "outlinewidth": 0,
              "ticks": ""
             }
            },
            "type": "scattergl"
           }
          ],
          "scattermapbox": [
           {
            "marker": {
             "colorbar": {
              "outlinewidth": 0,
              "ticks": ""
             }
            },
            "type": "scattermapbox"
           }
          ],
          "scatterpolar": [
           {
            "marker": {
             "colorbar": {
              "outlinewidth": 0,
              "ticks": ""
             }
            },
            "type": "scatterpolar"
           }
          ],
          "scatterpolargl": [
           {
            "marker": {
             "colorbar": {
              "outlinewidth": 0,
              "ticks": ""
             }
            },
            "type": "scatterpolargl"
           }
          ],
          "scatterternary": [
           {
            "marker": {
             "colorbar": {
              "outlinewidth": 0,
              "ticks": ""
             }
            },
            "type": "scatterternary"
           }
          ],
          "surface": [
           {
            "colorbar": {
             "outlinewidth": 0,
             "ticks": ""
            },
            "colorscale": [
             [
              0,
              "#0d0887"
             ],
             [
              0.1111111111111111,
              "#46039f"
             ],
             [
              0.2222222222222222,
              "#7201a8"
             ],
             [
              0.3333333333333333,
              "#9c179e"
             ],
             [
              0.4444444444444444,
              "#bd3786"
             ],
             [
              0.5555555555555556,
              "#d8576b"
             ],
             [
              0.6666666666666666,
              "#ed7953"
             ],
             [
              0.7777777777777778,
              "#fb9f3a"
             ],
             [
              0.8888888888888888,
              "#fdca26"
             ],
             [
              1,
              "#f0f921"
             ]
            ],
            "type": "surface"
           }
          ],
          "table": [
           {
            "cells": {
             "fill": {
              "color": "#EBF0F8"
             },
             "line": {
              "color": "white"
             }
            },
            "header": {
             "fill": {
              "color": "#C8D4E3"
             },
             "line": {
              "color": "white"
             }
            },
            "type": "table"
           }
          ]
         },
         "layout": {
          "annotationdefaults": {
           "arrowcolor": "#2a3f5f",
           "arrowhead": 0,
           "arrowwidth": 1
          },
          "autotypenumbers": "strict",
          "coloraxis": {
           "colorbar": {
            "outlinewidth": 0,
            "ticks": ""
           }
          },
          "colorscale": {
           "diverging": [
            [
             0,
             "#8e0152"
            ],
            [
             0.1,
             "#c51b7d"
            ],
            [
             0.2,
             "#de77ae"
            ],
            [
             0.3,
             "#f1b6da"
            ],
            [
             0.4,
             "#fde0ef"
            ],
            [
             0.5,
             "#f7f7f7"
            ],
            [
             0.6,
             "#e6f5d0"
            ],
            [
             0.7,
             "#b8e186"
            ],
            [
             0.8,
             "#7fbc41"
            ],
            [
             0.9,
             "#4d9221"
            ],
            [
             1,
             "#276419"
            ]
           ],
           "sequential": [
            [
             0,
             "#0d0887"
            ],
            [
             0.1111111111111111,
             "#46039f"
            ],
            [
             0.2222222222222222,
             "#7201a8"
            ],
            [
             0.3333333333333333,
             "#9c179e"
            ],
            [
             0.4444444444444444,
             "#bd3786"
            ],
            [
             0.5555555555555556,
             "#d8576b"
            ],
            [
             0.6666666666666666,
             "#ed7953"
            ],
            [
             0.7777777777777778,
             "#fb9f3a"
            ],
            [
             0.8888888888888888,
             "#fdca26"
            ],
            [
             1,
             "#f0f921"
            ]
           ],
           "sequentialminus": [
            [
             0,
             "#0d0887"
            ],
            [
             0.1111111111111111,
             "#46039f"
            ],
            [
             0.2222222222222222,
             "#7201a8"
            ],
            [
             0.3333333333333333,
             "#9c179e"
            ],
            [
             0.4444444444444444,
             "#bd3786"
            ],
            [
             0.5555555555555556,
             "#d8576b"
            ],
            [
             0.6666666666666666,
             "#ed7953"
            ],
            [
             0.7777777777777778,
             "#fb9f3a"
            ],
            [
             0.8888888888888888,
             "#fdca26"
            ],
            [
             1,
             "#f0f921"
            ]
           ]
          },
          "colorway": [
           "#636efa",
           "#EF553B",
           "#00cc96",
           "#ab63fa",
           "#FFA15A",
           "#19d3f3",
           "#FF6692",
           "#B6E880",
           "#FF97FF",
           "#FECB52"
          ],
          "font": {
           "color": "#2a3f5f"
          },
          "geo": {
           "bgcolor": "white",
           "lakecolor": "white",
           "landcolor": "#E5ECF6",
           "showlakes": true,
           "showland": true,
           "subunitcolor": "white"
          },
          "hoverlabel": {
           "align": "left"
          },
          "hovermode": "closest",
          "mapbox": {
           "style": "light"
          },
          "paper_bgcolor": "white",
          "plot_bgcolor": "#E5ECF6",
          "polar": {
           "angularaxis": {
            "gridcolor": "white",
            "linecolor": "white",
            "ticks": ""
           },
           "bgcolor": "#E5ECF6",
           "radialaxis": {
            "gridcolor": "white",
            "linecolor": "white",
            "ticks": ""
           }
          },
          "scene": {
           "xaxis": {
            "backgroundcolor": "#E5ECF6",
            "gridcolor": "white",
            "gridwidth": 2,
            "linecolor": "white",
            "showbackground": true,
            "ticks": "",
            "zerolinecolor": "white"
           },
           "yaxis": {
            "backgroundcolor": "#E5ECF6",
            "gridcolor": "white",
            "gridwidth": 2,
            "linecolor": "white",
            "showbackground": true,
            "ticks": "",
            "zerolinecolor": "white"
           },
           "zaxis": {
            "backgroundcolor": "#E5ECF6",
            "gridcolor": "white",
            "gridwidth": 2,
            "linecolor": "white",
            "showbackground": true,
            "ticks": "",
            "zerolinecolor": "white"
           }
          },
          "shapedefaults": {
           "line": {
            "color": "#2a3f5f"
           }
          },
          "ternary": {
           "aaxis": {
            "gridcolor": "white",
            "linecolor": "white",
            "ticks": ""
           },
           "baxis": {
            "gridcolor": "white",
            "linecolor": "white",
            "ticks": ""
           },
           "bgcolor": "#E5ECF6",
           "caxis": {
            "gridcolor": "white",
            "linecolor": "white",
            "ticks": ""
           }
          },
          "title": {
           "x": 0.05
          },
          "xaxis": {
           "automargin": true,
           "gridcolor": "white",
           "linecolor": "white",
           "ticks": "",
           "title": {
            "standoff": 15
           },
           "zerolinecolor": "white",
           "zerolinewidth": 2
          },
          "yaxis": {
           "automargin": true,
           "gridcolor": "white",
           "linecolor": "white",
           "ticks": "",
           "title": {
            "standoff": 15
           },
           "zerolinecolor": "white",
           "zerolinewidth": 2
          }
         }
        },
        "title": {
         "text": "Correlation",
         "x": 0.5
        }
       }
      }
     },
     "metadata": {},
     "output_type": "display_data"
    },
    {
     "data": {
      "application/vnd.plotly.v1+json": {
       "config": {
        "plotlyServerURL": "https://plot.ly"
       },
       "data": [
        {
         "colorscale": [
          [
           0,
           "rgb(165,0,38)"
          ],
          [
           0.1,
           "rgb(215,48,39)"
          ],
          [
           0.2,
           "rgb(244,109,67)"
          ],
          [
           0.3,
           "rgb(253,174,97)"
          ],
          [
           0.4,
           "rgb(254,224,144)"
          ],
          [
           0.5,
           "rgb(255,255,191)"
          ],
          [
           0.6,
           "rgb(224,243,248)"
          ],
          [
           0.7,
           "rgb(171,217,233)"
          ],
          [
           0.8,
           "rgb(116,173,209)"
          ],
          [
           0.9,
           "rgb(69,117,180)"
          ],
          [
           1,
           "rgb(49,54,149)"
          ]
         ],
         "type": "heatmap",
         "x": [
          "ALC-6AIC-401A Augusta",
          "ALC-6AIC-401B Augusta",
          "ALC-6FI-401_B Augusta",
          "ALC-6FI-407 Augusta",
          "ALC-6FI-411 Augusta",
          "ALC-6FI-413 Augusta",
          "ALC-6FI-446 Augusta",
          "ALC-6FI-474 Augusta",
          "ALC-6FI-475 Augusta",
          "ALC-6FI-476 Augusta"
         ],
         "y": [
          "ALC-6AIC-401A Augusta",
          "ALC-6AIC-401B Augusta",
          "ALC-6FI-401_B Augusta",
          "ALC-6FI-407 Augusta",
          "ALC-6FI-411 Augusta",
          "ALC-6FI-413 Augusta",
          "ALC-6FI-446 Augusta",
          "ALC-6FI-474 Augusta",
          "ALC-6FI-475 Augusta",
          "ALC-6FI-476 Augusta"
         ],
         "z": [
          [
           1,
           -0.15702420532399608,
           -0.043493513739381345,
           -0.41213462323312416,
           -0.1491570122170515,
           -0.0010437289570430861,
           -0.45435717668739656,
           -0.4583180600081607,
           0.07530045119518299,
           -0.339083349890088
          ],
          [
           -0.15702420532399608,
           1,
           -0.22626518303742046,
           0.05738096267407316,
           -0.12426817381737526,
           -0.12672929558049753,
           0.042008475205477014,
           0.006108957035939114,
           -0.03732543756062074,
           -0.18270134651668613
          ],
          [
           -0.043493513739381345,
           -0.22626518303742046,
           1,
           0.49695704192393086,
           0.3266185812268781,
           0.17415102095939405,
           0.03176733003683724,
           0.07056191553244975,
           -0.10183187475353461,
           0.5002577435847083
          ],
          [
           -0.41213462323312416,
           0.05738096267407316,
           0.49695704192393086,
           1,
           0.1372229453403934,
           0.054080539067634686,
           0.3979006396676439,
           0.41895298521309965,
           -0.21870066184087586,
           0.49578193551954913
          ],
          [
           -0.1491570122170515,
           -0.12426817381737526,
           0.3266185812268781,
           0.1372229453403934,
           1,
           0.15192179841389516,
           -0.0054130176712252846,
           0.05998806718422928,
           -0.5063023502452171,
           0.5092400912837134
          ],
          [
           -0.0010437289570430861,
           -0.12672929558049753,
           0.17415102095939405,
           0.054080539067634686,
           0.15192179841389516,
           1,
           0.05666671026801559,
           0.026422617621018826,
           0.13944906757935893,
           -0.0788578445497618
          ],
          [
           -0.45435717668739656,
           0.042008475205477014,
           0.03176733003683724,
           0.3979006396676439,
           -0.0054130176712252846,
           0.05666671026801559,
           1,
           0.9724855445141695,
           0.13307197091689427,
           0.4808815257428126
          ],
          [
           -0.4583180600081607,
           0.006108957035939114,
           0.07056191553244975,
           0.41895298521309965,
           0.05998806718422928,
           0.026422617621018826,
           0.9724855445141695,
           1,
           0.025079242341618357,
           0.583346457641819
          ],
          [
           0.07530045119518299,
           -0.03732543756062074,
           -0.10183187475353461,
           -0.21870066184087586,
           -0.5063023502452171,
           0.13944906757935893,
           0.13307197091689427,
           0.025079242341618357,
           1,
           -0.45359334384562905
          ],
          [
           -0.339083349890088,
           -0.18270134651668613,
           0.5002577435847083,
           0.49578193551954913,
           0.5092400912837134,
           -0.0788578445497618,
           0.4808815257428126,
           0.583346457641819,
           -0.45359334384562905,
           1
          ],
          [
           -0.05954858518938687,
           0.15572068383540846,
           -0.12169509784186193,
           -0.24403971605139604,
           0.1595369813499958,
           0.14595599567243384,
           -0.21161213690753408,
           -0.25721674707603487,
           -0.015614141717280105,
           -0.19315631623399948
          ],
          [
           -0.38829043474105956,
           -0.034680448313739724,
           0.19647549411235804,
           0.42768664863101896,
           0.1816634999545898,
           0.09620143069407591,
           0.8006623172426165,
           0.8061351156687624,
           -0.013056175048951806,
           0.5883163782819475
          ],
          [
           0.14634048100693264,
           0.09503117683570643,
           -0.22179623662108955,
           -0.14409226676004996,
           -0.009291836755288701,
           0.02693727978416313,
           0.004801722763687221,
           0.021724940861901538,
           -0.057100207639268485,
           -0.05148348319820338
          ],
          [
           -0.1863529374133911,
           -0.11270431710056288,
           0.1274208499311028,
           0.017604497348495743,
           -0.17486495140633282,
           0.0007834396870554214,
           0.10415606629315559,
           0.07658614476954968,
           0.3618621974634719,
           -0.05512043963342542
          ],
          [
           -0.467592218168827,
           0.026816156593715175,
           0.09155604475283287,
           0.42884310151413474,
           0.06210116352169939,
           0.004487632302575027,
           0.9673879866830155,
           0.9788047164060681,
           0.02444559868679287,
           0.5963204014550241
          ],
          [
           -0.23236372481154538,
           -0.04065307545634429,
           0.06180253475668495,
           0.19406521467783858,
           -0.1759580005857879,
           0.12304740797623732,
           0.5129668368345922,
           0.46469754309189454,
           0.3865220227769089,
           0.0935674187149659
          ],
          [
           -0.12698934306007006,
           0.07548627453224456,
           0.25756617874873744,
           0.34664090255823965,
           0.006421915171043969,
           -0.0500260926424276,
           0.02519759743091139,
           0.00451111774497578,
           -0.0037823873960193223,
           0.06608091969895252
          ],
          [
           0.13682238552296644,
           -0.5443782657542393,
           0.21416323238146406,
           -0.14809783788415384,
           0.05939538864702685,
           -0.039348789757399937,
           -0.04752218410317435,
           -0.001860336221004967,
           0.09669450499056592,
           0.1268367922848881
          ],
          [
           -0.4582839719134891,
           0.006310386262972428,
           0.07083629899439361,
           0.41886200309950605,
           0.05997460430975962,
           0.026690404871946884,
           0.972558366219486,
           0.9999488220822857,
           0.025300005036477058,
           0.5832134850566218
          ],
          [
           0.13042883780636946,
           -0.3714415972131604,
           0.1243113785747199,
           -0.19370176526693794,
           -0.19524443757425938,
           0.19362388237768854,
           0.06387130930391412,
           0.025089510858101068,
           0.5301823418297155,
           -0.09293069840433593
          ],
          [
           -0.19443481295894216,
           -0.16864574074195068,
           0.2968444832713542,
           0.26904123184574047,
           0.4762691928014249,
           -0.1316095775054163,
           -0.07262056327674278,
           0.05063160281587379,
           -0.5220280953122427,
           0.5955992418176017
          ],
          [
           -0.10076842959012429,
           -0.07224660554353052,
           0.16678847546565193,
           0.10537403628539685,
           0.15723188731173177,
           0.049600868961601915,
           -0.011503283131081395,
           -0.013783561408026833,
           -0.02952199215102943,
           0.12727678391086575
          ],
          [
           -0.06772262256895743,
           0.23558624682350318,
           -0.2309415226064844,
           -0.04059298067908569,
           0.04194722979147312,
           0.0225109107609392,
           0.1698350086747635,
           0.12395428284634472,
           0.00977990062320112,
           -0.019202432282891476
          ],
          [
           -0.05855219875515172,
           0.3665010475259694,
           0.10962203885752914,
           0.22705436899825018,
           -0.0399240528464068,
           -0.07584183302265397,
           0.1758458300592445,
           0.17013599482613737,
           0.13239309620189524,
           0.12972126046860327
          ],
          [
           -0.08284973386463193,
           0.16743751428133402,
           0.14101611355545796,
           0.09794566937192971,
           0.02730618858104612,
           -0.06849676970703887,
           0.1211736510041679,
           0.13298489583410034,
           0.060321988667290945,
           0.15043680142783178
          ],
          [
           -0.1894202456805019,
           0.3451418506522292,
           0.08830350922861945,
           0.1353257008021069,
           0.002015674708637834,
           -0.03804311764158643,
           0.26040964059912686,
           0.23082834800655708,
           0.17546459291543495,
           0.12580947004888088
          ],
          [
           0.33643476347227125,
           -0.026372301839287342,
           -0.06416242440136426,
           -0.045785323980992186,
           -0.07233059643808204,
           0.1340311255558025,
           0.04927631172239105,
           0.05181690457871193,
           -0.049541766309255074,
           -0.028029624166567596
          ],
          [
           -0.24644127788284878,
           -0.13861569767151927,
           0.3667882524349532,
           0.218741796723425,
           0.10788952932392408,
           0.04802354680084986,
           0.25338008931659267,
           0.2513579561650614,
           0.16964511202717517,
           0.2926982757860913
          ],
          [
           0.2148797857706419,
           -0.45523568484000876,
           0.14736933549183914,
           -0.09778806068434213,
           0.0032688328806843854,
           0.28011782940543195,
           -0.13151853205150588,
           -0.15745309750804531,
           0.03839522301556522,
           -0.04160417795038996
          ],
          [
           -0.4551482337101515,
           0.11227159340955534,
           0.34300101060865795,
           0.6041901878485597,
           0.13767765967426537,
           0.07306444979775893,
           0.8616951355198861,
           0.8641241926507354,
           -0.024875092651550315,
           0.6472173452594163
          ],
          [
           -0.17415439492257206,
           -0.3563177248257747,
           0.39847232348313705,
           0.30605610725897725,
           0.21531184840140843,
           0.049562426009234266,
           0.4199511490595342,
           0.460305292619143,
           -0.018151762942172574,
           0.518358246359306
          ],
          [
           0.10510393723351939,
           -0.2527980313635024,
           0.0773786428178953,
           0.20326253007613712,
           0.22981287940758255,
           0.21012406388043264,
           0.2032091722635413,
           0.1954812877388129,
           -0.22861973373208055,
           0.23210523059588695
          ],
          [
           -0.0332502859875237,
           -0.06103644609558507,
           0.12301644046067625,
           -0.024731713365754773,
           0.05782215474686165,
           0.031333380496683653,
           0.1366439652087893,
           0.15876915680830883,
           0.034455230197170436,
           0.14915194411354032
          ],
          [
           -0.18326788664755128,
           -0.17529481212399883,
           0.3090344980156136,
           0.09509757928997639,
           0.7414037070302935,
           0.16424575574138583,
           0.2107891095700464,
           0.2736256197753383,
           -0.27049523205422127,
           0.5565982135714138
          ],
          [
           0.004154786384474458,
           -0.3267950311840107,
           0.2291763552771432,
           -0.024398578192657963,
           0.0806360007857506,
           0.19166132871708141,
           0.05755298494776277,
           0.049575455153183595,
           0.1450122195778665,
           0.1469685668469541
          ],
          [
           0.021716238082673,
           -0.097595913918592,
           -0.10359039853524589,
           -0.19100806857366204,
           -0.006765033432636092,
           0.3327511830361853,
           -0.05695073088017156,
           -0.043395004704124794,
           -0.01548723471761268,
           -0.04241079179342747
          ],
          [
           -0.050793036696163515,
           -0.13230390657048816,
           0.17578512727815107,
           -0.011121798628071328,
           0.025431233253576702,
           0.1128127237469926,
           0.24923190319903693,
           0.23088784613227734,
           0.26317721720949605,
           0.13641366854528938
          ],
          [
           -0.016430774593225308,
           -0.02015368194022243,
           0.024895446712310774,
           -0.025162374330109337,
           -0.007829007730367722,
           0.11468834391064833,
           0.14330326833745707,
           0.16135787293609463,
           0.10965103047668306,
           0.075815395518324
          ],
          [
           0.14030528864733077,
           -0.8696154480497841,
           0.24731900437938376,
           -0.1147953496577519,
           0.11561845765078058,
           0.17151197189176676,
           -0.11216121699385048,
           -0.08470636970945386,
           0.08155860445702058,
           0.10704908549555817
          ],
          [
           0.19695069503211426,
           -0.862671800643729,
           0.22728901650368774,
           -0.12547317209827194,
           0.12008332104213314,
           0.19317551676957556,
           -0.11897988186401717,
           -0.08880963418180345,
           0.045736285689896294,
           0.1040165316199681
          ],
          [
           0.18114999995199552,
           -0.2051312373580722,
           0.040274535158122085,
           -0.20077435731447604,
           -0.3632452480237004,
           0.19995454209890617,
           0.08669914694515142,
           -0.018687881355079098,
           0.7785780927705979,
           -0.39854809156101034
          ],
          [
           0.200593504581399,
           -0.21521145678920053,
           0.03908972079913979,
           -0.20519826739339658,
           -0.36239359883779737,
           0.20201723214016845,
           0.0909183385356909,
           -0.01486584024662241,
           0.7794158886875936,
           -0.3986729794770195
          ],
          [
           0.1963672504421024,
           -0.20891238364394915,
           0.03739269247021233,
           -0.20880359769227488,
           -0.36071541192809,
           0.20515277290000067,
           0.08766988186509098,
           -0.018744545161957487,
           0.7820164250588009,
           -0.40213149419654104
          ],
          [
           0.21702856591476194,
           -0.16193770832242482,
           -0.06333855084419375,
           -0.29686561385236804,
           -0.4983554974674185,
           0.20675973621946758,
           0.06877238969323507,
           -0.04532421745565213,
           0.8404176453727128,
           -0.509312845573169
          ],
          [
           0.17908989863209707,
           -0.8288186447497482,
           0.30116908701190975,
           -0.09756402495353127,
           0.17119462772589597,
           0.2330311613526293,
           -0.052387524876061596,
           -0.02589897833778239,
           0.06503982476622036,
           0.15449120398035415
          ],
          [
           -0.2940633511495285,
           0.17054426484816676,
           0.38952622121862335,
           0.5228036694944892,
           0.05453008924527676,
           0.1569996113171082,
           0.5315795235524311,
           0.51720742025089,
           0.09397509090448349,
           0.4001864142892918
          ],
          [
           -0.2598290493795641,
           -0.06962849971518355,
           0.7952992227778658,
           0.6825766863708749,
           0.3438687264867622,
           0.15534496482066115,
           0.32835733031257025,
           0.3658353390715763,
           -0.16147951465177982,
           0.6626162715374624
          ],
          [
           -0.15682074600881965,
           0.023146234945708114,
           0.4917625215868418,
           0.5329678288438994,
           0.18346397732602276,
           0.14117524232625245,
           0.5687182153622713,
           0.5671870055375041,
           -0.008111586789616744,
           0.5563652834436429
          ],
          [
           -0.08542938689063015,
           0.04102157870715893,
           0.3766321194663474,
           0.47657058335281255,
           0.08914604141528659,
           0.1729748070366936,
           0.5535943324125953,
           0.5299314688812065,
           0.04193262931638465,
           0.44572480363168143
          ],
          [
           -0.13853357602925187,
           -0.023342652873678236,
           0.38759809508546184,
           0.4724507300747537,
           0.16686319718944742,
           0.22831573346254552,
           0.56508521321285,
           0.5517207665774125,
           -0.015745597786071402,
           0.5184187347200364
          ],
          [
           -0.23161022117214794,
           -0.02073983726697743,
           0.4404944234719092,
           0.46450117329912527,
           0.17627388952033798,
           0.20073064690094777,
           0.543931989795397,
           0.5380109967655445,
           0.04150927449740221,
           0.5027137599145293
          ],
          [
           0.06376266368453612,
           -0.2847399026365256,
           0.15961700219448782,
           -0.05262314042289308,
           0.10493978574896232,
           -0.019908179433381787,
           0.25942540311960444,
           0.2966386497540198,
           0.07098107909535974,
           0.33041349651211177
          ],
          [
           -0.08630929150815447,
           -0.13331374693034856,
           0.4784723847112327,
           0.4287899309090658,
           0.23677422824090621,
           0.2281784739020985,
           0.49519703875110127,
           0.49193576160021313,
           -0.0016854753867617998,
           0.5472148446372938
          ],
          [
           -0.1878831221825347,
           -0.152838010449779,
           0.32232624236820395,
           0.39852036617745884,
           0.22890668564532754,
           0.09311643462840247,
           0.6891232932271762,
           0.7017245964476154,
           -0.021558103630185878,
           0.608158226124796
          ],
          [
           0.1336622668506413,
           -0.3217939538797511,
           0.25631931417434406,
           -0.011886374407273139,
           -0.13869890812762875,
           -0.0630250216586139,
           0.062230066525389975,
           0.0668386597057369,
           0.3519062283213124,
           0.10348367050576077
          ],
          [
           -0.29396130036967255,
           0.07197636419475868,
           0.627765707194222,
           0.7543048155232239,
           0.33147404762941474,
           0.075650623821038,
           0.16391850342130673,
           0.2079488156026383,
           -0.3704265889205676,
           0.546955018223207
          ],
          [
           -0.055396127304068184,
           -0.4750991052248253,
           0.3948951042672281,
           0.09228528834912042,
           0.12542483514556724,
           -0.04826922303467132,
           0.16106324660644813,
           0.24373427370297013,
           0.04608589738293308,
           0.4323905461596474
          ],
          [
           -0.12356213377203064,
           -0.4097514333810481,
           0.3950884747768579,
           0.07458535779012539,
           0.20302929369508171,
           0.0713119772509399,
           0.07799233345323098,
           0.10766440327816333,
           0.1425366076609847,
           0.3446194779111667
          ],
          [
           0.218632973143727,
           -0.1630903005672035,
           -0.016376607915655962,
           -0.24339485675350914,
           -0.4271834673202688,
           0.21845701291950193,
           0.08722866737337265,
           -0.03987001897331398,
           0.8263100422338227,
           -0.4700923369146645
          ],
          [
           0.22089436371223978,
           -0.15778324524805082,
           -0.05825799214463201,
           -0.3026962030192835,
           -0.49419163897774515,
           0.20797896031466648,
           0.0545917386393418,
           -0.05826353658914958,
           0.8437316705793189,
           -0.5130897274507173
          ],
          [
           0.03501297589146741,
           -0.721232868087176,
           0.4879274032311782,
           0.06622224499254474,
           0.2337138726384582,
           0.2037158327473272,
           0.03035481850301021,
           0.07772118639592687,
           0.025095997120466677,
           0.3556786607582826
          ],
          [
           0.08433881606950071,
           -0.4085573871553226,
           0.30962284066773116,
           0.013985475830715336,
           -0.1485328522543855,
           -0.01982834033917958,
           0.09536774777073474,
           0.14325957515018017,
           0.2649365910985351,
           0.20052934956656213
          ],
          [
           0.12516843433517988,
           -0.3233042001048619,
           0.25374849402999267,
           -0.01791097471379865,
           -0.12250570699812258,
           -0.058201467174561046,
           0.08093932335426911,
           0.0875946226843877,
           0.3475431822933463,
           0.12231408976327615
          ],
          [
           0.13167699718035644,
           -0.32766459903826073,
           0.2617455218318777,
           -0.016718723157202065,
           -0.12141737202658552,
           -0.06179444360655552,
           0.0695698335617096,
           0.07685467408261844,
           0.3464894633949952,
           0.12131823725916974
          ],
          [
           0.1318110047184097,
           -0.31820727495424483,
           0.26958928122516823,
           -0.008876804519794439,
           -0.12784693452820378,
           -0.06173500075250485,
           0.06801424486393326,
           0.0741514156106425,
           0.34562430578505143,
           0.11877174942585632
          ],
          [
           0.11707671022737647,
           -0.29773849075886394,
           0.2443558448717951,
           -0.0006782525035285245,
           -0.14556533796183105,
           -0.05307344052120183,
           0.1002210065256367,
           0.10415399768404128,
           0.3573184409729165,
           0.11279137264201768
          ],
          [
           0.16281170095555983,
           -0.23238998055603727,
           0.03686954068763611,
           -0.15333307557845635,
           -0.43184037576336526,
           0.1662586331664309,
           0.1336249980270705,
           0.04300687504695247,
           0.7856443030150887,
           -0.3459408503783057
          ],
          [
           -0.10858445331254755,
           -0.14849702000170456,
           0.85181995082774,
           0.5718619704344865,
           0.31035114445367723,
           0.131256269229927,
           0.10951145577795972,
           0.15027215705513758,
           -0.09410109439589506,
           0.5460945688720408
          ],
          [
           0.021984802289352904,
           -0.7123413904223126,
           0.47837096662397793,
           0.07791038038888518,
           0.256053100988346,
           0.2043734281821629,
           0.041640257090613066,
           0.09013139903249393,
           0.00292482457314456,
           0.3755989349251767
          ],
          [
           -0.027342059795089368,
           -0.6368286719780205,
           0.4932684039894606,
           0.061557723903625475,
           0.3178633583682428,
           0.21248264318215715,
           0.0617892695565165,
           0.11082399223684015,
           -0.047458756275010054,
           0.4155643117206795
          ],
          [
           0.20396910136631605,
           -0.22126737977052433,
           0.03373718454058232,
           -0.2113761269408379,
           -0.3601817902826382,
           0.20431636502803913,
           0.09061949888460062,
           -0.014145478806825084,
           0.7790706011422992,
           -0.39771980799328366
          ],
          [
           -0.250450120366842,
           0.026250110609293942,
           0.6491498782498026,
           0.728472534965693,
           0.39006545707141366,
           0.06546715865959957,
           0.10056429520616993,
           0.1524528067686286,
           -0.43399266056416225,
           0.5588315285436303
          ],
          [
           0.18017764638900113,
           -0.20343814756881004,
           -0.09206282708670285,
           -0.28099600777277833,
           -0.497417374631736,
           0.11548293537090634,
           0.09305540090730277,
           -0.012639042870059177,
           0.6782341473341467,
           -0.4454850356995482
          ],
          [
           0.19555056136322244,
           -0.20776284778568097,
           0.036657365576333055,
           -0.20615372231262397,
           -0.3648083740010951,
           0.2013387025085015,
           0.08859999830862604,
           -0.01648388320640528,
           0.7805479034607575,
           -0.400874231021288
          ],
          [
           0.12153983682247314,
           -0.304953849241359,
           0.25838243868374844,
           -0.002439023333999524,
           -0.13857935749822392,
           -0.05553937164908924,
           0.0854439366543254,
           0.0906603912262171,
           0.34411546640411916,
           0.11195641540456504
          ],
          [
           0.06484838754524165,
           -0.6518288459664099,
           0.4439409188896209,
           0.1155818016402648,
           0.1012521913431027,
           0.07436005607732252,
           0.11326114033614153,
           0.1794063968597772,
           0.029160118727684207,
           0.41653282347664583
          ],
          [
           -0.06611313199072912,
           -0.4322657224723611,
           0.3310801163978447,
           0.15374304477384199,
           0.0692292807154766,
           -0.0030200179653117904,
           0.2940868691653972,
           0.3428895594183695,
           0.03150305994590433,
           0.4044546685467296
          ],
          [
           0.13141569904577258,
           -0.21675828412993475,
           0.021228897693190946,
           -0.1806617820283909,
           -0.4776290753030986,
           0.15058695092153238,
           0.16402943772634968,
           0.10121423185861682,
           0.7347899684406765,
           -0.30010519100064714
          ],
          [
           0.03871654797529847,
           -0.72548184677349,
           0.4895408055011206,
           0.059930561119708514,
           0.20958824625052336,
           0.20310575743721299,
           0.037966603702069786,
           0.08293022816537303,
           0.06079586169573946,
           0.3368032034094843
          ],
          [
           -0.4714637681092069,
           -0.09324081994358478,
           0.13733435233336336,
           0.39035380506807604,
           0.14037886025524066,
           0.02546101199923808,
           0.7859039460026546,
           0.8062826387829434,
           0.02275356542531132,
           0.5877356258156818
          ],
          [
           0.07459252234750542,
           0.21170284175942633,
           0.24094248424743225,
           0.1780145670451628,
           -0.26856148773368027,
           0.16364450808424097,
           0.2074386307486252,
           0.1298604102100944,
           0.44073372014691503,
           -0.11336083207699159
          ],
          [
           -0.029822099881025743,
           0.007589430908492967,
           0.10396922945413552,
           0.01287515491868601,
           -0.008793037834388784,
           0.055525743998382296,
           0.057579308358684356,
           0.05842019940937251,
           0.14052653971399054,
           0.03534987884235923
          ]
         ]
        }
       ],
       "layout": {
        "scene": {
         "aspectmode": "data"
        },
        "template": {
         "data": {
          "bar": [
           {
            "error_x": {
             "color": "#2a3f5f"
            },
            "error_y": {
             "color": "#2a3f5f"
            },
            "marker": {
             "line": {
              "color": "#E5ECF6",
              "width": 0.5
             },
             "pattern": {
              "fillmode": "overlay",
              "size": 10,
              "solidity": 0.2
             }
            },
            "type": "bar"
           }
          ],
          "barpolar": [
           {
            "marker": {
             "line": {
              "color": "#E5ECF6",
              "width": 0.5
             },
             "pattern": {
              "fillmode": "overlay",
              "size": 10,
              "solidity": 0.2
             }
            },
            "type": "barpolar"
           }
          ],
          "carpet": [
           {
            "aaxis": {
             "endlinecolor": "#2a3f5f",
             "gridcolor": "white",
             "linecolor": "white",
             "minorgridcolor": "white",
             "startlinecolor": "#2a3f5f"
            },
            "baxis": {
             "endlinecolor": "#2a3f5f",
             "gridcolor": "white",
             "linecolor": "white",
             "minorgridcolor": "white",
             "startlinecolor": "#2a3f5f"
            },
            "type": "carpet"
           }
          ],
          "choropleth": [
           {
            "colorbar": {
             "outlinewidth": 0,
             "ticks": ""
            },
            "type": "choropleth"
           }
          ],
          "contour": [
           {
            "colorbar": {
             "outlinewidth": 0,
             "ticks": ""
            },
            "colorscale": [
             [
              0,
              "#0d0887"
             ],
             [
              0.1111111111111111,
              "#46039f"
             ],
             [
              0.2222222222222222,
              "#7201a8"
             ],
             [
              0.3333333333333333,
              "#9c179e"
             ],
             [
              0.4444444444444444,
              "#bd3786"
             ],
             [
              0.5555555555555556,
              "#d8576b"
             ],
             [
              0.6666666666666666,
              "#ed7953"
             ],
             [
              0.7777777777777778,
              "#fb9f3a"
             ],
             [
              0.8888888888888888,
              "#fdca26"
             ],
             [
              1,
              "#f0f921"
             ]
            ],
            "type": "contour"
           }
          ],
          "contourcarpet": [
           {
            "colorbar": {
             "outlinewidth": 0,
             "ticks": ""
            },
            "type": "contourcarpet"
           }
          ],
          "heatmap": [
           {
            "colorbar": {
             "outlinewidth": 0,
             "ticks": ""
            },
            "colorscale": [
             [
              0,
              "#0d0887"
             ],
             [
              0.1111111111111111,
              "#46039f"
             ],
             [
              0.2222222222222222,
              "#7201a8"
             ],
             [
              0.3333333333333333,
              "#9c179e"
             ],
             [
              0.4444444444444444,
              "#bd3786"
             ],
             [
              0.5555555555555556,
              "#d8576b"
             ],
             [
              0.6666666666666666,
              "#ed7953"
             ],
             [
              0.7777777777777778,
              "#fb9f3a"
             ],
             [
              0.8888888888888888,
              "#fdca26"
             ],
             [
              1,
              "#f0f921"
             ]
            ],
            "type": "heatmap"
           }
          ],
          "heatmapgl": [
           {
            "colorbar": {
             "outlinewidth": 0,
             "ticks": ""
            },
            "colorscale": [
             [
              0,
              "#0d0887"
             ],
             [
              0.1111111111111111,
              "#46039f"
             ],
             [
              0.2222222222222222,
              "#7201a8"
             ],
             [
              0.3333333333333333,
              "#9c179e"
             ],
             [
              0.4444444444444444,
              "#bd3786"
             ],
             [
              0.5555555555555556,
              "#d8576b"
             ],
             [
              0.6666666666666666,
              "#ed7953"
             ],
             [
              0.7777777777777778,
              "#fb9f3a"
             ],
             [
              0.8888888888888888,
              "#fdca26"
             ],
             [
              1,
              "#f0f921"
             ]
            ],
            "type": "heatmapgl"
           }
          ],
          "histogram": [
           {
            "marker": {
             "pattern": {
              "fillmode": "overlay",
              "size": 10,
              "solidity": 0.2
             }
            },
            "type": "histogram"
           }
          ],
          "histogram2d": [
           {
            "colorbar": {
             "outlinewidth": 0,
             "ticks": ""
            },
            "colorscale": [
             [
              0,
              "#0d0887"
             ],
             [
              0.1111111111111111,
              "#46039f"
             ],
             [
              0.2222222222222222,
              "#7201a8"
             ],
             [
              0.3333333333333333,
              "#9c179e"
             ],
             [
              0.4444444444444444,
              "#bd3786"
             ],
             [
              0.5555555555555556,
              "#d8576b"
             ],
             [
              0.6666666666666666,
              "#ed7953"
             ],
             [
              0.7777777777777778,
              "#fb9f3a"
             ],
             [
              0.8888888888888888,
              "#fdca26"
             ],
             [
              1,
              "#f0f921"
             ]
            ],
            "type": "histogram2d"
           }
          ],
          "histogram2dcontour": [
           {
            "colorbar": {
             "outlinewidth": 0,
             "ticks": ""
            },
            "colorscale": [
             [
              0,
              "#0d0887"
             ],
             [
              0.1111111111111111,
              "#46039f"
             ],
             [
              0.2222222222222222,
              "#7201a8"
             ],
             [
              0.3333333333333333,
              "#9c179e"
             ],
             [
              0.4444444444444444,
              "#bd3786"
             ],
             [
              0.5555555555555556,
              "#d8576b"
             ],
             [
              0.6666666666666666,
              "#ed7953"
             ],
             [
              0.7777777777777778,
              "#fb9f3a"
             ],
             [
              0.8888888888888888,
              "#fdca26"
             ],
             [
              1,
              "#f0f921"
             ]
            ],
            "type": "histogram2dcontour"
           }
          ],
          "mesh3d": [
           {
            "colorbar": {
             "outlinewidth": 0,
             "ticks": ""
            },
            "type": "mesh3d"
           }
          ],
          "parcoords": [
           {
            "line": {
             "colorbar": {
              "outlinewidth": 0,
              "ticks": ""
             }
            },
            "type": "parcoords"
           }
          ],
          "pie": [
           {
            "automargin": true,
            "type": "pie"
           }
          ],
          "scatter": [
           {
            "fillpattern": {
             "fillmode": "overlay",
             "size": 10,
             "solidity": 0.2
            },
            "type": "scatter"
           }
          ],
          "scatter3d": [
           {
            "line": {
             "colorbar": {
              "outlinewidth": 0,
              "ticks": ""
             }
            },
            "marker": {
             "colorbar": {
              "outlinewidth": 0,
              "ticks": ""
             }
            },
            "type": "scatter3d"
           }
          ],
          "scattercarpet": [
           {
            "marker": {
             "colorbar": {
              "outlinewidth": 0,
              "ticks": ""
             }
            },
            "type": "scattercarpet"
           }
          ],
          "scattergeo": [
           {
            "marker": {
             "colorbar": {
              "outlinewidth": 0,
              "ticks": ""
             }
            },
            "type": "scattergeo"
           }
          ],
          "scattergl": [
           {
            "marker": {
             "colorbar": {
              "outlinewidth": 0,
              "ticks": ""
             }
            },
            "type": "scattergl"
           }
          ],
          "scattermapbox": [
           {
            "marker": {
             "colorbar": {
              "outlinewidth": 0,
              "ticks": ""
             }
            },
            "type": "scattermapbox"
           }
          ],
          "scatterpolar": [
           {
            "marker": {
             "colorbar": {
              "outlinewidth": 0,
              "ticks": ""
             }
            },
            "type": "scatterpolar"
           }
          ],
          "scatterpolargl": [
           {
            "marker": {
             "colorbar": {
              "outlinewidth": 0,
              "ticks": ""
             }
            },
            "type": "scatterpolargl"
           }
          ],
          "scatterternary": [
           {
            "marker": {
             "colorbar": {
              "outlinewidth": 0,
              "ticks": ""
             }
            },
            "type": "scatterternary"
           }
          ],
          "surface": [
           {
            "colorbar": {
             "outlinewidth": 0,
             "ticks": ""
            },
            "colorscale": [
             [
              0,
              "#0d0887"
             ],
             [
              0.1111111111111111,
              "#46039f"
             ],
             [
              0.2222222222222222,
              "#7201a8"
             ],
             [
              0.3333333333333333,
              "#9c179e"
             ],
             [
              0.4444444444444444,
              "#bd3786"
             ],
             [
              0.5555555555555556,
              "#d8576b"
             ],
             [
              0.6666666666666666,
              "#ed7953"
             ],
             [
              0.7777777777777778,
              "#fb9f3a"
             ],
             [
              0.8888888888888888,
              "#fdca26"
             ],
             [
              1,
              "#f0f921"
             ]
            ],
            "type": "surface"
           }
          ],
          "table": [
           {
            "cells": {
             "fill": {
              "color": "#EBF0F8"
             },
             "line": {
              "color": "white"
             }
            },
            "header": {
             "fill": {
              "color": "#C8D4E3"
             },
             "line": {
              "color": "white"
             }
            },
            "type": "table"
           }
          ]
         },
         "layout": {
          "annotationdefaults": {
           "arrowcolor": "#2a3f5f",
           "arrowhead": 0,
           "arrowwidth": 1
          },
          "autotypenumbers": "strict",
          "coloraxis": {
           "colorbar": {
            "outlinewidth": 0,
            "ticks": ""
           }
          },
          "colorscale": {
           "diverging": [
            [
             0,
             "#8e0152"
            ],
            [
             0.1,
             "#c51b7d"
            ],
            [
             0.2,
             "#de77ae"
            ],
            [
             0.3,
             "#f1b6da"
            ],
            [
             0.4,
             "#fde0ef"
            ],
            [
             0.5,
             "#f7f7f7"
            ],
            [
             0.6,
             "#e6f5d0"
            ],
            [
             0.7,
             "#b8e186"
            ],
            [
             0.8,
             "#7fbc41"
            ],
            [
             0.9,
             "#4d9221"
            ],
            [
             1,
             "#276419"
            ]
           ],
           "sequential": [
            [
             0,
             "#0d0887"
            ],
            [
             0.1111111111111111,
             "#46039f"
            ],
            [
             0.2222222222222222,
             "#7201a8"
            ],
            [
             0.3333333333333333,
             "#9c179e"
            ],
            [
             0.4444444444444444,
             "#bd3786"
            ],
            [
             0.5555555555555556,
             "#d8576b"
            ],
            [
             0.6666666666666666,
             "#ed7953"
            ],
            [
             0.7777777777777778,
             "#fb9f3a"
            ],
            [
             0.8888888888888888,
             "#fdca26"
            ],
            [
             1,
             "#f0f921"
            ]
           ],
           "sequentialminus": [
            [
             0,
             "#0d0887"
            ],
            [
             0.1111111111111111,
             "#46039f"
            ],
            [
             0.2222222222222222,
             "#7201a8"
            ],
            [
             0.3333333333333333,
             "#9c179e"
            ],
            [
             0.4444444444444444,
             "#bd3786"
            ],
            [
             0.5555555555555556,
             "#d8576b"
            ],
            [
             0.6666666666666666,
             "#ed7953"
            ],
            [
             0.7777777777777778,
             "#fb9f3a"
            ],
            [
             0.8888888888888888,
             "#fdca26"
            ],
            [
             1,
             "#f0f921"
            ]
           ]
          },
          "colorway": [
           "#636efa",
           "#EF553B",
           "#00cc96",
           "#ab63fa",
           "#FFA15A",
           "#19d3f3",
           "#FF6692",
           "#B6E880",
           "#FF97FF",
           "#FECB52"
          ],
          "font": {
           "color": "#2a3f5f"
          },
          "geo": {
           "bgcolor": "white",
           "lakecolor": "white",
           "landcolor": "#E5ECF6",
           "showlakes": true,
           "showland": true,
           "subunitcolor": "white"
          },
          "hoverlabel": {
           "align": "left"
          },
          "hovermode": "closest",
          "mapbox": {
           "style": "light"
          },
          "paper_bgcolor": "white",
          "plot_bgcolor": "#E5ECF6",
          "polar": {
           "angularaxis": {
            "gridcolor": "white",
            "linecolor": "white",
            "ticks": ""
           },
           "bgcolor": "#E5ECF6",
           "radialaxis": {
            "gridcolor": "white",
            "linecolor": "white",
            "ticks": ""
           }
          },
          "scene": {
           "xaxis": {
            "backgroundcolor": "#E5ECF6",
            "gridcolor": "white",
            "gridwidth": 2,
            "linecolor": "white",
            "showbackground": true,
            "ticks": "",
            "zerolinecolor": "white"
           },
           "yaxis": {
            "backgroundcolor": "#E5ECF6",
            "gridcolor": "white",
            "gridwidth": 2,
            "linecolor": "white",
            "showbackground": true,
            "ticks": "",
            "zerolinecolor": "white"
           },
           "zaxis": {
            "backgroundcolor": "#E5ECF6",
            "gridcolor": "white",
            "gridwidth": 2,
            "linecolor": "white",
            "showbackground": true,
            "ticks": "",
            "zerolinecolor": "white"
           }
          },
          "shapedefaults": {
           "line": {
            "color": "#2a3f5f"
           }
          },
          "ternary": {
           "aaxis": {
            "gridcolor": "white",
            "linecolor": "white",
            "ticks": ""
           },
           "baxis": {
            "gridcolor": "white",
            "linecolor": "white",
            "ticks": ""
           },
           "bgcolor": "#E5ECF6",
           "caxis": {
            "gridcolor": "white",
            "linecolor": "white",
            "ticks": ""
           }
          },
          "title": {
           "x": 0.05
          },
          "xaxis": {
           "automargin": true,
           "gridcolor": "white",
           "linecolor": "white",
           "ticks": "",
           "title": {
            "standoff": 15
           },
           "zerolinecolor": "white",
           "zerolinewidth": 2
          },
          "yaxis": {
           "automargin": true,
           "gridcolor": "white",
           "linecolor": "white",
           "ticks": "",
           "title": {
            "standoff": 15
           },
           "zerolinecolor": "white",
           "zerolinewidth": 2
          }
         }
        },
        "title": {
         "text": "Spearman Correlation",
         "x": 0.5
        }
       }
      }
     },
     "metadata": {},
     "output_type": "display_data"
    },
    {
     "name": "stdout",
     "output_type": "stream",
     "text": [
      "Selecting Features...\n"
     ]
    },
    {
     "data": {
      "application/vnd.jupyter.widget-view+json": {
       "model_id": "97dd4105baa04169896afea3ad0ac131",
       "version_major": 2,
       "version_minor": 0
      },
      "text/plain": [
       "  0%|          | 0/20 [00:00<?, ?it/s]"
      ]
     },
     "metadata": {},
     "output_type": "display_data"
    },
    {
     "name": "stdout",
     "output_type": "stream",
     "text": [
      "62 attributes confirmed important: ['ALC-6TI-400_14 Augusta', 'ALC-6FI-407 Augusta', 'ALC-6TI-400_75 Augusta', 'ALC-6TI-400_74 Augusta', 'ALC-6TIC-475 Augusta', 'ALC-6FI-491 Augusta', 'ALC-6LIC-405_Y Augusta', 'ALC-6PI-1402 Augusta', 'ALC-6TI-400_8 Augusta', 'ALC-6FIC-1402 Augusta', 'ALC-6FIC-402 Augusta', 'ALC-6TI-492 Augusta', 'ALC-6TIC-472 Augusta', 'ALC-6FI-401_B Augusta', 'ALC-6FIC-460 Augusta', 'ALC-6TI-471 Augusta', 'ALC-6PI-481 Augusta', 'ALC-6AIC-401A Augusta', 'ALC-6FI-446 Augusta', 'ALC-6PI-478 Augusta', 'ALC-6TI-1407 Augusta', 'ALC-6TIC-474 Augusta', 'ALC-6TI-473 Augusta', 'ALC-6FIC-478 Augusta', 'ALC-6LIC-471 Augusta', 'ALC-6PI-1402_A Augusta', 'ALC-6PI-403 Augusta', 'ALC-6FIC-403 Augusta', 'ALC-6PI-1403_6 Augusta', 'ALC-6PI-457 Augusta', 'ALC-6FI-474 Augusta', 'ALC-6FIC-1402_A Augusta', 'ALC-6TI-482 Augusta', 'ALC-6FI-413 Augusta', 'ALC-6TI-491 Augusta', 'ALC-6TIC-413_Y Augusta', 'ALC-6TIC-403 Augusta', 'ALC-6TI-400_6 Augusta', 'ALC-6TI-400_76 Augusta', 'ALC-6FIC-490 Augusta', 'ALC-6LIC-402_Y Augusta', 'ALC-6FIC-412 Augusta', 'ALC-6TI-476 Augusta', 'ALC-6LIC-406 Augusta', 'ALC-6TI-478 Augusta', 'ALC-6TI-400_70 Augusta', 'ALC-6FI-411 Augusta', 'ALC-6dPI-475 Augusta', 'ALC-6FI-475 Augusta', 'ALC-6TIC-477_Y Augusta', 'ALC-6FIC-120_52 Augusta', 'ALC-6TI-472 Augusta', 'ALC-6PIC-1401 Augusta', 'ALC-6TI-473_A Augusta', 'ALC-6AIC-401B Augusta', 'ALC-6dPI-401A Augusta', 'ALC-6PI-401B Augusta', 'ALC-6PIC-407 Augusta', 'ALC-6TI-1404 Augusta', 'ALC-6TI-493 Augusta', 'ALC-6FI-476 Augusta', 'ALC-6LIC-472 Augusta']\n",
      "2 attributes confirmed unimportant: ['ALC-6TIC-471 Augusta', 'ALC-6PIC-408 Augusta']\n",
      "17 tentative attributes remains: ['ALC-6TI-480 Augusta', 'ALC-6PIC-412 Augusta', 'ALC-6TIC-490 Augusta', 'ALC-6TI-483 Augusta', 'ALC-6TI-460 Augusta', 'ALC-6TI-400_3A Augusta', 'ALC-6TI-1402 Augusta', 'ALC-6TI-400_72 Augusta', 'ALC-6TI-481 Augusta', 'ALC-6TIC-1403 Augusta', 'ALC-6TI-1408 Augusta', 'ALC-6TI-494 Augusta', 'ALC-6TI-400_71 Augusta', 'ALC-6TI-400_20 Augusta', 'ALC-6TI-1402A Augusta', 'ALC-6FIC-474_Y Augusta', 'ALC-6TI-400_77 Augusta']\n",
      "Selected features are: ['ALC-6AIC-401A Augusta', 'ALC-6AIC-401B Augusta', 'ALC-6FI-401_B Augusta', 'ALC-6FI-407 Augusta', 'ALC-6FI-411 Augusta', 'ALC-6FI-413 Augusta', 'ALC-6FI-446 Augusta', 'ALC-6FI-474 Augusta', 'ALC-6FI-475 Augusta', 'ALC-6FI-476 Augusta', 'ALC-6FI-491 Augusta', 'ALC-6FIC-120_52 Augusta', 'ALC-6FIC-1402 Augusta', 'ALC-6FIC-1402_A Augusta', 'ALC-6FIC-402 Augusta', 'ALC-6FIC-403 Augusta', 'ALC-6FIC-412 Augusta', 'ALC-6FIC-460 Augusta', 'ALC-6FIC-478 Augusta', 'ALC-6FIC-490 Augusta', 'ALC-6LIC-402_Y Augusta', 'ALC-6LIC-405_Y Augusta', 'ALC-6LIC-406 Augusta', 'ALC-6LIC-471 Augusta', 'ALC-6LIC-472 Augusta', 'ALC-6PI-1402 Augusta', 'ALC-6PI-1402_A Augusta', 'ALC-6PI-1403_6 Augusta', 'ALC-6PI-401B Augusta', 'ALC-6PI-403 Augusta', 'ALC-6PI-457 Augusta', 'ALC-6PI-478 Augusta', 'ALC-6PI-481 Augusta', 'ALC-6PIC-1401 Augusta', 'ALC-6PIC-407 Augusta', 'ALC-6TI-1404 Augusta', 'ALC-6TI-1407 Augusta', 'ALC-6TI-400_14 Augusta', 'ALC-6TI-400_6 Augusta', 'ALC-6TI-400_70 Augusta', 'ALC-6TI-400_74 Augusta', 'ALC-6TI-400_75 Augusta', 'ALC-6TI-400_76 Augusta', 'ALC-6TI-400_8 Augusta', 'ALC-6TI-471 Augusta', 'ALC-6TI-472 Augusta', 'ALC-6TI-473 Augusta', 'ALC-6TI-473_A Augusta', 'ALC-6TI-476 Augusta', 'ALC-6TI-478 Augusta', 'ALC-6TI-482 Augusta', 'ALC-6TI-491 Augusta', 'ALC-6TI-492 Augusta', 'ALC-6TI-493 Augusta', 'ALC-6TIC-403 Augusta', 'ALC-6TIC-413_Y Augusta', 'ALC-6TIC-472 Augusta', 'ALC-6TIC-474 Augusta', 'ALC-6TIC-475 Augusta', 'ALC-6TIC-477_Y Augusta', 'ALC-6dPI-401A Augusta', 'ALC-6dPI-475 Augusta']\n",
      "selected features:  ['ALC-6AIC-401A Augusta', 'ALC-6AIC-401B Augusta', 'ALC-6FI-401_B Augusta', 'ALC-6FI-407 Augusta', 'ALC-6FI-411 Augusta', 'ALC-6FI-413 Augusta', 'ALC-6FI-446 Augusta', 'ALC-6FI-474 Augusta', 'ALC-6FI-475 Augusta', 'ALC-6FI-476 Augusta', 'ALC-6FI-491 Augusta', 'ALC-6FIC-120_52 Augusta', 'ALC-6FIC-1402 Augusta', 'ALC-6FIC-1402_A Augusta', 'ALC-6FIC-402 Augusta', 'ALC-6FIC-403 Augusta', 'ALC-6FIC-412 Augusta', 'ALC-6FIC-460 Augusta', 'ALC-6FIC-478 Augusta', 'ALC-6FIC-490 Augusta', 'ALC-6LIC-402_Y Augusta', 'ALC-6LIC-405_Y Augusta', 'ALC-6LIC-406 Augusta', 'ALC-6LIC-471 Augusta', 'ALC-6LIC-472 Augusta', 'ALC-6PI-1402 Augusta', 'ALC-6PI-1402_A Augusta', 'ALC-6PI-1403_6 Augusta', 'ALC-6PI-401B Augusta', 'ALC-6PI-403 Augusta', 'ALC-6PI-457 Augusta', 'ALC-6PI-478 Augusta', 'ALC-6PI-481 Augusta', 'ALC-6PIC-1401 Augusta', 'ALC-6PIC-407 Augusta', 'ALC-6TI-1404 Augusta', 'ALC-6TI-1407 Augusta', 'ALC-6TI-400_14 Augusta', 'ALC-6TI-400_6 Augusta', 'ALC-6TI-400_70 Augusta', 'ALC-6TI-400_74 Augusta', 'ALC-6TI-400_75 Augusta', 'ALC-6TI-400_76 Augusta', 'ALC-6TI-400_8 Augusta', 'ALC-6TI-471 Augusta', 'ALC-6TI-472 Augusta', 'ALC-6TI-473 Augusta', 'ALC-6TI-473_A Augusta', 'ALC-6TI-476 Augusta', 'ALC-6TI-478 Augusta', 'ALC-6TI-482 Augusta', 'ALC-6TI-491 Augusta', 'ALC-6TI-492 Augusta', 'ALC-6TI-493 Augusta', 'ALC-6TIC-403 Augusta', 'ALC-6TIC-413_Y Augusta', 'ALC-6TIC-472 Augusta', 'ALC-6TIC-474 Augusta', 'ALC-6TIC-475 Augusta', 'ALC-6TIC-477_Y Augusta', 'ALC-6dPI-401A Augusta', 'ALC-6dPI-475 Augusta']\n"
     ]
    }
   ],
   "source": [
    "cleandf = dp.pipeline()"
   ]
  },
  {
   "cell_type": "code",
   "execution_count": null,
   "metadata": {},
   "outputs": [],
   "source": []
  }
 ],
 "metadata": {
  "kernelspec": {
   "display_name": "Python 3",
   "language": "python",
   "name": "python3"
  },
  "language_info": {
   "codemirror_mode": {
    "name": "ipython",
    "version": 3
   },
   "file_extension": ".py",
   "mimetype": "text/x-python",
   "name": "python",
   "nbconvert_exporter": "python",
   "pygments_lexer": "ipython3",
   "version": "3.9.17"
  },
  "orig_nbformat": 4
 },
 "nbformat": 4,
 "nbformat_minor": 2
}
